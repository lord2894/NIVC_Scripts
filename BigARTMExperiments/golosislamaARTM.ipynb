{
 "cells": [
  {
   "cell_type": "code",
   "execution_count": 1,
   "metadata": {
    "collapsed": true
   },
   "outputs": [],
   "source": [
    "import artm\n",
    "import os\n",
    "import matplotlib.pyplot as plt"
   ]
  },
  {
   "cell_type": "markdown",
   "metadata": {},
   "source": [
    "# Загружаем батчи домена golosislamacom"
   ]
  },
  {
   "cell_type": "code",
   "execution_count": 2,
   "metadata": {},
   "outputs": [],
   "source": [
    "path = 'C:\\\\NIVC\\\\Nivc_BigARTM_corpus\\\\unary_comm\\\\'\n",
    "subd = \"golosislamacom\"\n",
    "batch_vectorizer = artm.BatchVectorizer(data_path=path + \"\\\\\" + subd + \"\\\\\" + \"batches_pos\",\n",
    "                                            data_format='batches')"
   ]
  },
  {
   "cell_type": "markdown",
   "metadata": {},
   "source": [
    "# Создаем модель ARTM"
   ]
  },
  {
   "cell_type": "markdown",
   "metadata": {},
   "source": [
    "## Создаем объект класса модели ARTM"
   ]
  },
  {
   "cell_type": "code",
   "execution_count": 3,
   "metadata": {},
   "outputs": [],
   "source": [
    "modelARTM = artm.ARTM(topic_names=['topic_{}'.format(i) for i in xrange(20)],\n",
    "                      scores=[artm.PerplexityScore(name='PerplexityScore', use_unigram_document_model=False, dictionary=batch_vectorizer.dictionary),\n",
    "                              artm.SparsityPhiScore(name='SparsityPhiScore'),\n",
    "                              artm.SparsityThetaScore(name='SparsityThetaScore'),\n",
    "                              artm.TopicKernelScore(name='TopicKernelScore', probability_mass_threshold=0.3),\n",
    "                              artm.TopTokensScore(name='TopTokensScore', num_tokens=6)], \n",
    "                      cache_theta=True)"
   ]
  },
  {
   "cell_type": "markdown",
   "metadata": {},
   "source": [
    "## Добавляем в модель регуляризаторы из модельного примера для ARTM"
   ]
  },
  {
   "cell_type": "code",
   "execution_count": 4,
   "metadata": {},
   "outputs": [],
   "source": [
    "modelARTM.regularizers.add(artm.SmoothSparseThetaRegularizer(name='SparseTheta', tau=-0.2))\n",
    "modelARTM.regularizers.add(artm.SmoothSparsePhiRegularizer(name='SparsePhi', tau=-0.2))\n",
    "modelARTM.regularizers.add(artm.DecorrelatorPhiRegularizer(name='DecorrelatorPhi', tau=2.5e+5))"
   ]
  },
  {
   "cell_type": "markdown",
   "metadata": {},
   "source": [
    "## Инициализируем модель словарем"
   ]
  },
  {
   "cell_type": "code",
   "execution_count": 5,
   "metadata": {},
   "outputs": [],
   "source": [
    "modelARTM.initialize(dictionary=batch_vectorizer.dictionary)"
   ]
  },
  {
   "cell_type": "markdown",
   "metadata": {},
   "source": [
    "# Обучаем модель ARTM"
   ]
  },
  {
   "cell_type": "markdown",
   "metadata": {},
   "source": [
    "## Определяем параметры обучения"
   ]
  },
  {
   "cell_type": "code",
   "execution_count": 6,
   "metadata": {},
   "outputs": [],
   "source": [
    "modelARTM.num_document_passes = 1"
   ]
  },
  {
   "cell_type": "markdown",
   "metadata": {},
   "source": [
    "## Обучаем модель"
   ]
  },
  {
   "cell_type": "code",
   "execution_count": 16,
   "metadata": {},
   "outputs": [
    {
     "name": "stdout",
     "output_type": "stream",
     "text": [
      "\n"
     ]
    }
   ],
   "source": [
    "modelARTM.fit_offline(batch_vectorizer=batch_vectorizer, num_collection_passes = 30)"
   ]
  },
  {
   "cell_type": "markdown",
   "metadata": {},
   "source": [
    "# Создаем модель PLSA"
   ]
  },
  {
   "cell_type": "markdown",
   "metadata": {},
   "source": [
    "## Создаем объект класса модели PLSA"
   ]
  },
  {
   "cell_type": "code",
   "execution_count": 8,
   "metadata": {},
   "outputs": [],
   "source": [
    "modelPLSA = artm.ARTM(topic_names=['topic_{}'.format(i) for i in xrange(15)],\n",
    "                      scores=[artm.PerplexityScore(name='PerplexityScore', use_unigram_document_model=False, dictionary=batch_vectorizer.dictionary),\n",
    "                              artm.SparsityPhiScore(name='SparsityPhiScore'),\n",
    "                              artm.SparsityThetaScore(name='SparsityThetaScore'),\n",
    "                              artm.TopicKernelScore(name='TopicKernelScore', probability_mass_threshold=0.3),\n",
    "                              artm.TopTokensScore(name='TopTokensScore', num_tokens=6)],\n",
    "                      cache_theta=True)"
   ]
  },
  {
   "cell_type": "markdown",
   "metadata": {},
   "source": [
    "## Инициализируем модель словарем"
   ]
  },
  {
   "cell_type": "code",
   "execution_count": 9,
   "metadata": {},
   "outputs": [],
   "source": [
    "modelPLSA.initialize(dictionary=batch_vectorizer.dictionary)"
   ]
  },
  {
   "cell_type": "markdown",
   "metadata": {},
   "source": [
    "# Обучаем модель PLSA"
   ]
  },
  {
   "cell_type": "markdown",
   "metadata": {},
   "source": [
    "## Определяем параметры обучения"
   ]
  },
  {
   "cell_type": "code",
   "execution_count": 10,
   "metadata": {},
   "outputs": [],
   "source": [
    "modelPLSA.num_document_passes = 5"
   ]
  },
  {
   "cell_type": "markdown",
   "metadata": {},
   "source": [
    "## Обучаем модель"
   ]
  },
  {
   "cell_type": "code",
   "execution_count": 11,
   "metadata": {},
   "outputs": [],
   "source": [
    "modelPLSA.fit_offline(batch_vectorizer=batch_vectorizer, num_collection_passes = 15)"
   ]
  },
  {
   "cell_type": "markdown",
   "metadata": {},
   "source": [
    "# Выводим параметры полученных моделей"
   ]
  },
  {
   "cell_type": "markdown",
   "metadata": {},
   "source": [
    "## Значения перплексии"
   ]
  },
  {
   "cell_type": "code",
   "execution_count": 17,
   "metadata": {},
   "outputs": [
    {
     "name": "stdout",
     "output_type": "stream",
     "text": [
      "===========================ARTM PerplexityScore start====================================\n[113022.07143934706, 2906.3325790715853, 2902.700463911057, 2901.9368748445204, 2900.942672696004, 2899.431713164639, 2897.0246210236137, 2893.040477209423, 2886.295229724761, 2875.0575635984906, 2857.817618682371, 2833.768567944199, 2802.647488540747, 2766.5982210786833, 2729.7105070431235, 2694.758258968772, 2661.772523507615, 2629.4152904638136, 2596.6398636349827, 2563.2444416065127, 2529.5860554640935, 2496.202402661542, 2463.5693503367397, 2431.9881837557355, 2401.672576534089, 2372.86870162429, 2345.9641449940477, 2321.437062297706, 2299.6282368398743, 2280.588448004479, 2264.0683870930197, 2249.6762039061523, 2237.0521275804385, 2225.906903896702, 2216.0360391451777, 2207.2807697821772, 2199.5171716658574, 2192.6162259734688, 2186.469801783369, 2180.990342313741, 2176.092365843451, 2171.7006432657668, 2167.748983118289, 2164.17681989647, 2160.939362312856, 2157.9973691943364, 2155.3146842781307, 2152.859090979261, 2150.608599215426, 2148.5416636486957, 2146.6362873247695, 2144.8781734165286, 2143.2482742048646, 2141.7404942191597, 2140.337033439967, 2139.030371323494, 2137.808904275333, 2136.6668533284974, 2135.596729285448, 2134.5900924802568, 2133.6453762202223, 2132.752300365388, 2131.9110072718245]\n===========================ARTM PerplexityScore end======================================\n"
     ]
    }
   ],
   "source": [
    "print \"===========================ARTM PerplexityScore start====================================\"\n",
    "print modelARTM.score_tracker['PerplexityScore'].value\n",
    "print \"===========================ARTM PerplexityScore end======================================\"\n",
    "# print \"===========================PLSA PerplexityScore start====================================\"\n",
    "# print modelPLSA.score_tracker['PerplexityScore'].value\n",
    "# print \"===========================PLSA PerplexityScore end======================================\""
   ]
  },
  {
   "cell_type": "markdown",
   "metadata": {},
   "source": [
    "## Параметры полученной модели"
   ]
  },
  {
   "cell_type": "code",
   "execution_count": 18,
   "metadata": {},
   "outputs": [
    {
     "ename": "IndexError",
     "evalue": "tuple index out of range",
     "traceback": [
      "\u001b[0;31m---------------------------------------------------------------------------\u001b[0m",
      "\u001b[0;31mIndexError\u001b[0m                                Traceback (most recent call last)",
      "\u001b[0;32m<ipython-input-18-abeed9ef3924>\u001b[0m in \u001b[0;36m<module>\u001b[0;34m()\u001b[0m\n\u001b[1;32m      1\u001b[0m print 'Sparsity Phi: {0:.3f} (PLSA) vs. {1:.3f} (ARTM)'.format(\n\u001b[1;32m      2\u001b[0m     \u001b[1;31m# modelPLSA.score_tracker['SparsityPhiScore'].last_value,\u001b[0m\u001b[1;33m\u001b[0m\u001b[1;33m\u001b[0m\u001b[0m\n\u001b[0;32m----> 3\u001b[0;31m     modelARTM.score_tracker['SparsityPhiScore'].last_value)\n\u001b[0m\u001b[1;32m      4\u001b[0m \u001b[1;33m\u001b[0m\u001b[0m\n\u001b[1;32m      5\u001b[0m print 'Sparsity Theta: {0:.3f} (PLSA) vs. {1:.3f} (ARTM)'.format(\n",
      "\u001b[0;31mIndexError\u001b[0m: tuple index out of range"
     ],
     "output_type": "error"
    }
   ],
   "source": [
    "print 'Sparsity Phi: {0:.3f} (PLSA) vs. {1:.3f} (ARTM)'.format(\n",
    "    # modelPLSA.score_tracker['SparsityPhiScore'].last_value,\n",
    "    modelARTM.score_tracker['SparsityPhiScore'].last_value)\n",
    "\n",
    "print 'Sparsity Theta: {0:.3f} (PLSA) vs. {1:.3f} (ARTM)'.format(\n",
    "    # modelPLSA.score_tracker['SparsityThetaScore'].last_value,\n",
    "    modelARTM.score_tracker['SparsityThetaScore'].last_value)\n",
    "\n",
    "print 'Kernel contrast: {0:.3f} (PLSA) vs. {1:.3f} (ARTM)'.format(\n",
    "    # modelPLSA.score_tracker['TopicKernelScore'].last_average_contrast,\n",
    "    modelARTM.score_tracker['TopicKernelScore'].last_average_contrast)\n",
    "\n",
    "print 'Kernel purity: {0:.3f} (PLSA) vs. {1:.3f} (ARTM)'.format(\n",
    "    # modelPLSA.score_tracker['TopicKernelScore'].last_average_purity,\n",
    "    modelARTM.score_tracker['TopicKernelScore'].last_average_purity)\n",
    "\n",
    "print 'Perplexity: {0:.3f} (PLSA) vs. {1:.3f} (ARTM)'.format(\n",
    "    # modelPLSA.score_tracker['PerplexityScore'].last_value,\n",
    "    modelARTM.score_tracker['PerplexityScore'].last_value)"
   ]
  },
  {
   "cell_type": "markdown",
   "metadata": {},
   "source": [
    "## Строим график перплексии"
   ]
  },
  {
   "cell_type": "code",
   "execution_count": 13,
   "metadata": {},
   "outputs": [
    {
     "data": {
      "image/png": "[encoded data removed]",
      "text/plain": [
       "<matplotlib.figure.Figure at 0xc26e0f0>"
      ]
     },
     "metadata": {},
     "output_type": "display_data"
    }
   ],
   "source": [
    "plt.plot(\n",
    "    # xrange(modelPLSA.num_phi_updates), modelPLSA.score_tracker['PerplexityScore'].value, 'b--',\n",
    "    xrange(modelARTM.num_phi_updates), modelARTM.score_tracker['PerplexityScore'].value, 'r--', linewidth=2)\n",
    "plt.xlabel('Iterations count')\n",
    "plt.ylabel('PLSA perp. (blue), ARTM perp. (red)')\n",
    "plt.grid(True)\n",
    "plt.show()"
   ]
  },
  {
   "cell_type": "markdown",
   "metadata": {},
   "source": [
    "## Выводим графики изменения разреженностей матриц по итерациям"
   ]
  },
  {
   "cell_type": "code",
   "execution_count": 19,
   "metadata": {},
   "outputs": [
    {
     "data": {
      "image/png": "[encoded data removed]",
      "text/plain": [
       "<matplotlib.figure.Figure at 0x18f9b518>"
      ]
     },
     "metadata": {},
     "output_type": "display_data"
    },
    {
     "data": {
      "image/png": "[encoded data removed]",
      "text/plain": [
       "<matplotlib.figure.Figure at 0x18f784e0>"
      ]
     },
     "metadata": {},
     "output_type": "display_data"
    }
   ],
   "source": [
    "plt.plot(\n",
    "    # xrange(modelPLSA.num_phi_updates), modelPLSA.score_tracker['SparsityPhiScore'].value, 'b--',\n",
    "    xrange(modelARTM.num_phi_updates), modelARTM.score_tracker['SparsityPhiScore'].value, 'r--', linewidth=2)\n",
    "plt.xlabel('Iterations count')\n",
    "plt.ylabel('PLSA Phi sp. (blue), ARTM Phi sp. (red)')\n",
    "plt.grid(True)\n",
    "plt.show()\n",
    "\n",
    "plt.plot(\n",
    "    # xrange(modelPLSA.num_phi_updates), modelPLSA.score_tracker['SparsityThetaScore'].value, 'b--',\n",
    "    xrange(modelARTM.num_phi_updates), modelARTM.score_tracker['SparsityThetaScore'].value, 'r--', linewidth=2)\n",
    "plt.xlabel('Iterations count')\n",
    "plt.ylabel('PLSA Theta sp. (blue), ARTM Theta sp. (red)')\n",
    "plt.grid(True)\n",
    "plt.show()"
   ]
  },
  {
   "cell_type": "markdown",
   "metadata": {},
   "source": [
    "# Выводим топики моделей"
   ]
  },
  {
   "cell_type": "markdown",
   "metadata": {},
   "source": [
    "## Модель PLSA"
   ]
  },
  {
   "cell_type": "code",
   "execution_count": 8,
   "metadata": {},
   "outputs": [],
   "source": [
    "# print modelPLSA.score_tracker['PerplexityScore'].last_tokens\n",
    "# for topic_name in modelPLSA.topic_names:\n",
    "#     print topic_name + ': ',\n",
    "#     print modelPLSA.score_tracker['TopTokensScore'].last_tokens[topic_name]"
   ]
  },
  {
   "cell_type": "markdown",
   "metadata": {},
   "source": [
    "## Модель ARTM"
   ]
  },
  {
   "cell_type": "code",
   "execution_count": 21,
   "metadata": {},
   "outputs": [
    {
     "name": "stdout",
     "output_type": "stream",
     "text": [
      " {}\ntopic_0: "
     ]
    },
    {
     "ename": "KeyError",
     "evalue": "u'topic_0'",
     "traceback": [
      "\u001b[0;31m---------------------------------------------------------------------------\u001b[0m",
      "\u001b[0;31mKeyError\u001b[0m                                  Traceback (most recent call last)",
      "\u001b[0;32m<ipython-input-21-029285963ad5>\u001b[0m in \u001b[0;36m<module>\u001b[0;34m()\u001b[0m\n\u001b[1;32m      2\u001b[0m \u001b[1;32mfor\u001b[0m \u001b[0mtopic_name\u001b[0m \u001b[1;32min\u001b[0m \u001b[0mmodelARTM\u001b[0m\u001b[1;33m.\u001b[0m\u001b[0mtopic_names\u001b[0m\u001b[1;33m:\u001b[0m\u001b[1;33m\u001b[0m\u001b[0m\n\u001b[1;32m      3\u001b[0m     \u001b[1;32mprint\u001b[0m \u001b[0mtopic_name\u001b[0m \u001b[1;33m+\u001b[0m \u001b[1;34m': '\u001b[0m\u001b[1;33m,\u001b[0m\u001b[1;33m\u001b[0m\u001b[0m\n\u001b[0;32m----> 4\u001b[0;31m     \u001b[1;32mprint\u001b[0m \u001b[0mmodelARTM\u001b[0m\u001b[1;33m.\u001b[0m\u001b[0mscore_tracker\u001b[0m\u001b[1;33m[\u001b[0m\u001b[1;34m'TopTokensScore'\u001b[0m\u001b[1;33m]\u001b[0m\u001b[1;33m.\u001b[0m\u001b[0mlast_tokens\u001b[0m\u001b[1;33m[\u001b[0m\u001b[0mtopic_name\u001b[0m\u001b[1;33m]\u001b[0m\u001b[1;33m\u001b[0m\u001b[0m\n\u001b[0m",
      "\u001b[0;31mKeyError\u001b[0m: u'topic_0'"
     ],
     "output_type": "error"
    }
   ],
   "source": [
    "print modelARTM.score_tracker['TopTokensScore'].last_tokens\n",
    "for topic_name in modelARTM.topic_names:\n",
    "    print topic_name + ': ',\n",
    "    print modelARTM.score_tracker['TopTokensScore'].last_tokens[topic_name]"
   ]
  },
  {
   "cell_type": "markdown",
   "metadata": {},
   "source": [
    "## матрица Fi"
   ]
  },
  {
   "cell_type": "code",
   "execution_count": 1,
   "metadata": {},
   "outputs": [
    {
     "ename": "NameError",
     "evalue": "name 'modelARTM' is not defined",
     "traceback": [
      "\u001b[0;31m---------------------------------------------------------------------------\u001b[0m",
      "\u001b[0;31mNameError\u001b[0m                                 Traceback (most recent call last)",
      "\u001b[0;32m<ipython-input-1-9eaa4d67dc57>\u001b[0m in \u001b[0;36m<module>\u001b[0;34m()\u001b[0m\n\u001b[0;32m----> 1\u001b[0;31m \u001b[1;32mprint\u001b[0m \u001b[0mmodelARTM\u001b[0m\u001b[1;33m.\u001b[0m\u001b[0mphi_\u001b[0m\u001b[1;33m\u001b[0m\u001b[0m\n\u001b[0m",
      "\u001b[0;31mNameError\u001b[0m: name 'modelARTM' is not defined"
     ],
     "output_type": "error"
    }
   ],
   "source": [
    "print modelARTM.phi_"
   ]
  },
  {
   "cell_type": "markdown",
   "metadata": {},
   "source": [
    "## Матрица Theta"
   ]
  },
  {
   "cell_type": "code",
   "execution_count": null,
   "metadata": {},
   "outputs": [],
   "source": [
    ""
   ]
  }
 ],
 "metadata": {
  "kernelspec": {
   "display_name": "Python 2",
   "language": "python",
   "name": "python2"
  },
  "language_info": {
   "codemirror_mode": {
    "name": "ipython",
    "version": 2.0
   },
   "file_extension": ".py",
   "mimetype": "text/x-python",
   "name": "python",
   "nbconvert_exporter": "python",
   "pygments_lexer": "ipython2",
   "version": "2.7.6"
  }
 },
 "nbformat": 4,
 "nbformat_minor": 0
}