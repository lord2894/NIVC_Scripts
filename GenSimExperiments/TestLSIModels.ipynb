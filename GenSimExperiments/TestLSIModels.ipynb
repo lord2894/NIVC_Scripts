{
 "cells": [
  {
   "cell_type": "code",
   "execution_count": 1,
   "metadata": {
    "collapsed": true
   },
   "outputs": [
    {
     "name": "stderr",
     "output_type": "stream",
     "text": [
      "2016-10-11 23:48:18,927 : INFO : loading Dictionary object from C:\\NIVC\\Nivc_GenSim_corpus\\unary_comm\\islam-newsru\\mm_pos\\islam-newsru.dict\n"
     ]
    },
    {
     "name": "stderr",
     "output_type": "stream",
     "text": [
      "2016-10-11 23:48:18,937 : INFO : loaded corpus index from C:\\NIVC\\Nivc_GenSim_corpus\\unary_comm\\islam-newsru\\mm_pos\\islam-newsru.mm.index\n"
     ]
    },
    {
     "name": "stderr",
     "output_type": "stream",
     "text": [
      "2016-10-11 23:48:18,937 : INFO : initializing corpus reader from C:\\NIVC\\Nivc_GenSim_corpus\\unary_comm\\islam-newsru\\mm_pos\\islam-newsru.mm\n"
     ]
    },
    {
     "name": "stderr",
     "output_type": "stream",
     "text": [
      "2016-10-11 23:48:18,940 : INFO : accepted corpus with 2182 documents, 26996 features, 547381 non-zero entries\n"
     ]
    },
    {
     "name": "stdout",
     "output_type": "stream",
     "text": [
      "MmCorpus(2182 documents, 26996 features, 547381 non-zero entries)\n"
     ]
    }
   ],
   "source": [
    "import logging, gensim\n",
    "BigARTMCorpusDir = 'C:\\\\NIVC\\\\Nivc_GenSim_corpus\\\\unary_comm\\\\'\n",
    "subd = \"islam-newsru\"\n",
    "logging.basicConfig(format='%(asctime)s : %(levelname)s : %(message)s', level=logging.INFO)\n",
    "\n",
    "# load id->word mapping (the dictionary), one of the results of step 2 above\n",
    "id2word = gensim.corpora.Dictionary.load(BigARTMCorpusDir+subd+\"\\\\mm_pos\\\\\"+subd+'.dict')\n",
    "# load corpus iterator\n",
    "mm = gensim.corpora.MmCorpus(BigARTMCorpusDir+subd+\"\\\\mm_pos\\\\\"+subd+'.mm')\n",
    "\n",
    "print(mm)"
   ]
  },
  {
   "cell_type": "code",
   "execution_count": 2,
   "metadata": {},
   "outputs": [
    {
     "name": "stderr",
     "output_type": "stream",
     "text": [
      "2016-10-11 23:48:22,915 : INFO : using serial LSI version on this node\n"
     ]
    },
    {
     "name": "stderr",
     "output_type": "stream",
     "text": [
      "2016-10-11 23:48:22,915 : INFO : updating model with new documents\n"
     ]
    },
    {
     "name": "stderr",
     "output_type": "stream",
     "text": [
      "2016-10-11 23:48:22,927 : INFO : preparing a new chunk of documents\n"
     ]
    },
    {
     "name": "stderr",
     "output_type": "stream",
     "text": [
      "2016-10-11 23:48:22,928 : INFO : using 100 extra samples and 2 power iterations\n"
     ]
    },
    {
     "name": "stderr",
     "output_type": "stream",
     "text": [
      "2016-10-11 23:48:22,930 : INFO : 1st phase: constructing (26996L, 200L) action matrix\n"
     ]
    },
    {
     "name": "stderr",
     "output_type": "stream",
     "text": [
      "2016-10-11 23:48:22,930 : INFO : orthonormalizing (26996L, 200L) action matrix\n"
     ]
    },
    {
     "name": "stderr",
     "output_type": "stream",
     "text": [
      "2016-10-11 23:48:23,292 : INFO : 2nd phase: running dense svd on (200L, 20L) matrix\n"
     ]
    },
    {
     "name": "stderr",
     "output_type": "stream",
     "text": [
      "2016-10-11 23:48:23,309 : INFO : computing the final decomposition\n"
     ]
    },
    {
     "name": "stderr",
     "output_type": "stream",
     "text": [
      "2016-10-11 23:48:23,309 : INFO : keeping 20 factors (discarding 0.000% of energy spectrum)\n"
     ]
    },
    {
     "name": "stderr",
     "output_type": "stream",
     "text": [
      "2016-10-11 23:48:23,321 : INFO : processed documents up to #20\n"
     ]
    },
    {
     "name": "stderr",
     "output_type": "stream",
     "text": [
      "2016-10-11 23:48:23,325 : INFO : topic #0(109.384): 0.366*\"СТРАНИЦА\" + 0.334*\"ИМАМ\" + 0.326*\"КНИГА\" + 0.309*\"ХАДИС\" + 0.201*\"АЛЛАХ\" + 0.196*\"ОТВЕТ\" + 0.156*\"СТАТЬЯ\" + 0.153*\"ШИИТ\" + 0.130*\"СВОЙ\" + 0.129*\"ИСЛАМ\"\n"
     ]
    },
    {
     "name": "stderr",
     "output_type": "stream",
     "text": [
      "2016-10-11 23:48:23,326 : INFO : topic #1(35.138): 0.531*\"СТРАНИЦА\" + -0.318*\"ХАДИС\" + -0.265*\"САХИХА\" + -0.254*\"ИМАМ\" + 0.204*\"КНИГА\" + -0.127*\"ПЕРЕДАТЧИК\" + -0.122*\"ЦЕПОЧКА\" + -0.117*\"МУСЛИМ\" + -0.112*\"ОДИН\" + -0.112*\"СВОЙ\"\n"
     ]
    },
    {
     "name": "stderr",
     "output_type": "stream",
     "text": [
      "2016-10-11 23:48:23,328 : INFO : topic #2(31.548): 0.362*\"СТАТЬЯ\" + -0.344*\"ХАДИС\" + -0.291*\"СТРАНИЦА\" + 0.244*\"ПРОЧЕСТЬ\" + -0.232*\"СВОЙ\" + -0.220*\"САХИХА\" + 0.217*\"АЛЛАХ\" + 0.151*\"ОТВЕТ\" + -0.130*\"КНИГА\" + 0.127*\"МАЗХАБА\"\n"
     ]
    },
    {
     "name": "stderr",
     "output_type": "stream",
     "text": [
      "2016-10-11 23:48:23,328 : INFO : topic #3(27.626): 0.644*\"ПРОЧЕСТЬ\" + 0.580*\"СТАТЬЯ\" + -0.185*\"АЛЛАХ\" + 0.126*\"КНИГА\" + 0.111*\"ХАДИС\" + 0.097*\"СТРАНИЦА\" + -0.090*\"ПРОРОК\" + -0.085*\"ОТВЕТ\" + -0.082*\"ПОСЛАННИК\" + 0.078*\"СВОЙ\"\n"
     ]
    },
    {
     "name": "stderr",
     "output_type": "stream",
     "text": [
      "2016-10-11 23:48:23,328 : INFO : topic #4(26.234): 0.412*\"КНИГА\" + -0.310*\"ТОМ\" + -0.272*\"ПРОРОК\" + -0.211*\"МИР\" + -0.211*\"БРАТ\" + -0.200*\"УМАР\" + -0.184*\"ПРОЧЕСТЬ\" + -0.181*\"БРАТСТВО\" + -0.154*\"АЛЛАХ\" + -0.151*\"УСМАН\"\n"
     ]
    },
    {
     "name": "stderr",
     "output_type": "stream",
     "text": [
      "2016-10-11 23:48:23,345 : INFO : preparing a new chunk of documents\n"
     ]
    },
    {
     "name": "stderr",
     "output_type": "stream",
     "text": [
      "2016-10-11 23:48:23,345 : INFO : using 100 extra samples and 2 power iterations\n"
     ]
    },
    {
     "name": "stderr",
     "output_type": "stream",
     "text": [
      "2016-10-11 23:48:23,346 : INFO : 1st phase: constructing (26996L, 200L) action matrix\n"
     ]
    },
    {
     "name": "stderr",
     "output_type": "stream",
     "text": [
      "2016-10-11 23:48:23,348 : INFO : orthonormalizing (26996L, 200L) action matrix\n"
     ]
    },
    {
     "name": "stderr",
     "output_type": "stream",
     "text": [
      "2016-10-11 23:48:23,697 : INFO : 2nd phase: running dense svd on (200L, 20L) matrix\n"
     ]
    },
    {
     "name": "stderr",
     "output_type": "stream",
     "text": [
      "2016-10-11 23:48:23,716 : INFO : computing the final decomposition\n"
     ]
    },
    {
     "name": "stderr",
     "output_type": "stream",
     "text": [
      "2016-10-11 23:48:23,716 : INFO : keeping 19 factors (discarding 0.000% of energy spectrum)\n"
     ]
    },
    {
     "name": "stderr",
     "output_type": "stream",
     "text": [
      "2016-10-11 23:48:23,726 : INFO : merging projections: (26996L, 20L) + (26996L, 19L)\n"
     ]
    },
    {
     "name": "stderr",
     "output_type": "stream",
     "text": [
      "2016-10-11 23:48:23,740 : INFO : keeping 37 factors (discarding 0.082% of energy spectrum)\n"
     ]
    },
    {
     "name": "stderr",
     "output_type": "stream",
     "text": [
      "2016-10-11 23:48:23,750 : INFO : processed documents up to #40\n"
     ]
    },
    {
     "name": "stderr",
     "output_type": "stream",
     "text": [
      "2016-10-11 23:48:23,753 : INFO : topic #0(190.879): 0.305*\"ХАДИС\" + 0.300*\"АЛЛАХ\" + 0.237*\"ГРУДЬ\" + 0.230*\"ИМАМ\" + 0.227*\"СКАЗАТЬ\" + 0.225*\"КНИГА\" + 0.206*\"ПРОРОК\" + 0.183*\"СТРАНИЦА\" + 0.150*\"АБА\" + 0.145*\"СВОЙ\"\n"
     ]
    },
    {
     "name": "stderr",
     "output_type": "stream",
     "text": [
      "2016-10-11 23:48:23,753 : INFO : topic #1(110.753): -0.455*\"ГРУДЬ\" + 0.288*\"СТРАНИЦА\" + -0.271*\"КОРМЛЕНИЕ\" + 0.248*\"ИМАМ\" + -0.218*\"АЙША\" + -0.198*\"ВЗРОСЛЫЙ\" + 0.154*\"ОТВЕТ\" + -0.150*\"МОЛОКО\" + 0.138*\"СТАТЬЯ\" + -0.120*\"ДБАР\"\n"
     ]
    },
    {
     "name": "stderr",
     "output_type": "stream",
     "text": [
      "2016-10-11 23:48:23,755 : INFO : topic #2(75.549): -0.518*\"АЛЛАХ\" + 0.239*\"КНИГА\" + 0.228*\"ХАДИС\" + -0.197*\"ЖЕНА\" + -0.190*\"АЯТ\" + 0.182*\"СТРАНИЦА\" + -0.179*\"ТОТ\" + -0.178*\"ХАФС\" + -0.169*\"БЫТЬ\" + 0.166*\"ГРУДЬ\"\n"
     ]
    },
    {
     "name": "stderr",
     "output_type": "stream",
     "text": [
      "2016-10-11 23:48:23,756 : INFO : topic #3(55.700): 0.536*\"ПРОРОК\" + 0.348*\"СТРАНИЦА\" + 0.337*\"СКАЗАТЬ\" + 0.332*\"АИША\" + -0.181*\"ИМАМ\" + -0.171*\"СТАТЬЯ\" + -0.150*\"ХАДИС\" + 0.116*\"ГОВОРИТЬ\" + -0.110*\"ПРОЧЕСТЬ\" + -0.097*\"ОТВЕТ\"\n"
     ]
    },
    {
     "name": "stderr",
     "output_type": "stream",
     "text": [
      "2016-10-11 23:48:23,756 : INFO : topic #4(49.462): -0.595*\"СТАТЬЯ\" + -0.575*\"ПРОЧЕСТЬ\" + 0.200*\"КНИГА\" + 0.178*\"ХАДИС\" + -0.141*\"ПРОРОК\" + -0.125*\"УМАР\" + 0.121*\"СТРАНИЦА\" + 0.116*\"ХАЛИФ\" + 0.112*\"ТОМ\" + 0.111*\"БЫТЬ\"\n"
     ]
    },
    {
     "name": "stderr",
     "output_type": "stream",
     "text": [
      "2016-10-11 23:48:23,773 : INFO : preparing a new chunk of documents\n"
     ]
    },
    {
     "name": "stderr",
     "output_type": "stream",
     "text": [
      "2016-10-11 23:48:23,775 : INFO : using 100 extra samples and 2 power iterations\n"
     ]
    },
    {
     "name": "stderr",
     "output_type": "stream",
     "text": [
      "2016-10-11 23:48:23,775 : INFO : 1st phase: constructing (26996L, 200L) action matrix\n"
     ]
    },
    {
     "name": "stderr",
     "output_type": "stream",
     "text": [
      "2016-10-11 23:48:23,776 : INFO : orthonormalizing (26996L, 200L) action matrix\n"
     ]
    },
    {
     "name": "stderr",
     "output_type": "stream",
     "text": [
      "2016-10-11 23:48:24,163 : INFO : 2nd phase: running dense svd on (200L, 20L) matrix\n"
     ]
    },
    {
     "name": "stderr",
     "output_type": "stream",
     "text": [
      "2016-10-11 23:48:24,184 : INFO : computing the final decomposition\n"
     ]
    },
    {
     "name": "stderr",
     "output_type": "stream",
     "text": [
      "2016-10-11 23:48:24,184 : INFO : keeping 19 factors (discarding 0.000% of energy spectrum)\n"
     ]
    },
    {
     "name": "stderr",
     "output_type": "stream",
     "text": [
      "2016-10-11 23:48:24,197 : INFO : merging projections: (26996L, 37L) + (26996L, 19L)\n"
     ]
    },
    {
     "name": "stderr",
     "output_type": "stream",
     "text": [
      "2016-10-11 23:48:24,219 : INFO : keeping 53 factors (discarding 0.096% of energy spectrum)\n"
     ]
    },
    {
     "name": "stderr",
     "output_type": "stream",
     "text": [
      "2016-10-11 23:48:24,237 : INFO : processed documents up to #60\n"
     ]
    },
    {
     "name": "stderr",
     "output_type": "stream",
     "text": [
      "2016-10-11 23:48:24,239 : INFO : topic #0(243.790): 0.375*\"ХАДИС\" + 0.299*\"АЛЛАХ\" + 0.262*\"ПРОРОК\" + 0.248*\"ИМАМ\" + 0.210*\"СКАЗАТЬ\" + 0.201*\"СТРАНИЦА\" + 0.197*\"КНИГА\" + 0.150*\"СВОЙ\" + 0.143*\"АЯТ\" + 0.132*\"ОТВЕТ\"\n"
     ]
    },
    {
     "name": "stderr",
     "output_type": "stream",
     "text": [
      "2016-10-11 23:48:24,240 : INFO : topic #1(119.022): -0.501*\"ГРУДЬ\" + -0.298*\"КОРМЛЕНИЕ\" + -0.257*\"АЙША\" + -0.218*\"ВЗРОСЛЫЙ\" + 0.217*\"СТРАНИЦА\" + 0.197*\"ИМАМ\" + -0.166*\"МОЛОКО\" + -0.121*\"АЙШИ\" + 0.119*\"ОТВЕТ\" + 0.109*\"СТАТЬЯ\"\n"
     ]
    },
    {
     "name": "stderr",
     "output_type": "stream",
     "text": [
      "2016-10-11 23:48:24,240 : INFO : topic #2(99.027): 0.332*\"НАМАЗ\" + 0.304*\"БРАК\" + 0.250*\"АББАС\" + -0.232*\"ИМАМ\" + 0.210*\"ДБАР\" + 0.197*\"ВРЕМЕННЫЙ\" + 0.186*\"ПРОРОК\" + -0.146*\"КНИГА\" + 0.144*\"СКАЗАТЬ\" + -0.129*\"ХАДИС\"\n"
     ]
    },
    {
     "name": "stderr",
     "output_type": "stream",
     "text": [
      "2016-10-11 23:48:24,242 : INFO : topic #3(92.615): -0.393*\"БРАК\" + 0.384*\"НАМАЗ\" + -0.254*\"ВРЕМЕННЫЙ\" + 0.230*\"ДБАР\" + -0.228*\"АЯТ\" + -0.182*\"АЛЛАХ\" + 0.162*\"АББАС\" + 0.148*\"СТРАНИЦА\" + 0.144*\"ЗУХРА\" + -0.136*\"ЗАПРЕТИТЬ\"\n"
     ]
    },
    {
     "name": "stderr",
     "output_type": "stream",
     "text": [
      "2016-10-11 23:48:24,243 : INFO : topic #4(79.767): 0.574*\"ХАДИС\" + -0.364*\"АЛЛАХ\" + 0.171*\"ПЕРЕДАТЧИК\" + 0.160*\"КНИГА\" + -0.154*\"СКАЗАТЬ\" + 0.152*\"БРАК\" + -0.133*\"ЖЕНА\" + 0.132*\"ТОМ\" + -0.121*\"ХАФС\" + -0.117*\"БЫТЬ\"\n"
     ]
    },
    {
     "name": "stderr",
     "output_type": "stream",
     "text": [
      "2016-10-11 23:48:24,267 : INFO : preparing a new chunk of documents\n"
     ]
    },
    {
     "name": "stderr",
     "output_type": "stream",
     "text": [
      "2016-10-11 23:48:24,269 : INFO : using 100 extra samples and 2 power iterations\n"
     ]
    },
    {
     "name": "stderr",
     "output_type": "stream",
     "text": [
      "2016-10-11 23:48:24,269 : INFO : 1st phase: constructing (26996L, 200L) action matrix\n"
     ]
    },
    {
     "name": "stderr",
     "output_type": "stream",
     "text": [
      "2016-10-11 23:48:24,273 : INFO : orthonormalizing (26996L, 200L) action matrix\n"
     ]
    },
    {
     "name": "stderr",
     "output_type": "stream",
     "text": [
      "2016-10-11 23:48:24,687 : INFO : 2nd phase: running dense svd on (200L, 20L) matrix\n"
     ]
    },
    {
     "name": "stderr",
     "output_type": "stream",
     "text": [
      "2016-10-11 23:48:24,709 : INFO : computing the final decomposition\n"
     ]
    },
    {
     "name": "stderr",
     "output_type": "stream",
     "text": [
      "2016-10-11 23:48:24,709 : INFO : keeping 19 factors (discarding 0.000% of energy spectrum)\n"
     ]
    },
    {
     "name": "stderr",
     "output_type": "stream",
     "text": [
      "2016-10-11 23:48:24,719 : INFO : merging projections: (26996L, 53L) + (26996L, 19L)\n"
     ]
    },
    {
     "name": "stderr",
     "output_type": "stream",
     "text": [
      "2016-10-11 23:48:24,742 : INFO : keeping 67 factors (discarding 0.094% of energy spectrum)\n"
     ]
    },
    {
     "name": "stderr",
     "output_type": "stream",
     "text": [
      "2016-10-11 23:48:24,762 : INFO : processed documents up to #80\n"
     ]
    },
    {
     "name": "stderr",
     "output_type": "stream",
     "text": [
      "2016-10-11 23:48:24,763 : INFO : topic #0(318.462): 0.369*\"АЛЛАХ\" + 0.293*\"ИМАМ\" + 0.292*\"ХАДИС\" + 0.243*\"ПРОРОК\" + 0.229*\"ДЕНЬ\" + 0.207*\"ПОСТ\" + 0.176*\"СКАЗАТЬ\" + 0.169*\"КНИГА\" + 0.156*\"ПОСЛАННИК\" + 0.156*\"СТРАНИЦА\"\n"
     ]
    },
    {
     "name": "stderr",
     "output_type": "stream",
     "text": [
      "2016-10-11 23:48:24,763 : INFO : topic #1(201.857): -0.540*\"ПОСТ\" + -0.520*\"ДЕНЬ\" + -0.285*\"АШУР\" + -0.206*\"ДЕРЖАТЬ\" + 0.196*\"ХАДИС\" + 0.185*\"ПРОРОК\" + -0.117*\"ПОСЛАННИК\" + -0.095*\"ИУДЕЙ\" + 0.090*\"СВОЙ\" + 0.083*\"АЯТ\"\n"
     ]
    },
    {
     "name": "stderr",
     "output_type": "stream",
     "text": [
      "2016-10-11 23:48:24,767 : INFO : topic #2(126.698): -0.435*\"ГРУДЬ\" + 0.298*\"ИМАМ\" + -0.259*\"КОРМЛЕНИЕ\" + -0.224*\"АЙША\" + -0.189*\"ВЗРОСЛЫЙ\" + -0.187*\"ХАДИС\" + -0.166*\"ДБАР\" + -0.145*\"МОЛОКО\" + -0.132*\"СКАЗАТЬ\" + 0.124*\"СТАТЬЯ\"\n"
     ]
    },
    {
     "name": "stderr",
     "output_type": "stream",
     "text": [
      "2016-10-11 23:48:24,769 : INFO : topic #3(109.736): 0.341*\"СТРАНИЦА\" + -0.255*\"ГРУДЬ\" + 0.229*\"НАМАЗ\" + 0.213*\"ХАДИС\" + 0.179*\"АББАС\" + 0.176*\"БРАК\" + -0.152*\"КОРМЛЕНИЕ\" + -0.147*\"ИМАМ\" + -0.142*\"АЙША\" + 0.141*\"ПРОРОК\"\n"
     ]
    },
    {
     "name": "stderr",
     "output_type": "stream",
     "text": [
      "2016-10-11 23:48:24,769 : INFO : topic #4(104.389): -0.331*\"ПРОРОК\" + -0.328*\"АЛЛАХ\" + 0.325*\"КНИГА\" + 0.248*\"ХАДИС\" + -0.197*\"БРАК\" + 0.146*\"ШИИТ\" + 0.135*\"ИМАМ\" + -0.128*\"ВРЕМЕННЫЙ\" + 0.119*\"СТАТЬЯ\" + -0.116*\"СКАЗАТЬ\"\n"
     ]
    },
    {
     "name": "stderr",
     "output_type": "stream",
     "text": [
      "2016-10-11 23:48:24,799 : INFO : preparing a new chunk of documents\n"
     ]
    },
    {
     "name": "stderr",
     "output_type": "stream",
     "text": [
      "2016-10-11 23:48:24,802 : INFO : using 100 extra samples and 2 power iterations\n"
     ]
    },
    {
     "name": "stderr",
     "output_type": "stream",
     "text": [
      "2016-10-11 23:48:24,802 : INFO : 1st phase: constructing (26996L, 200L) action matrix\n"
     ]
    },
    {
     "name": "stderr",
     "output_type": "stream",
     "text": [
      "2016-10-11 23:48:24,806 : INFO : orthonormalizing (26996L, 200L) action matrix\n"
     ]
    },
    {
     "name": "stderr",
     "output_type": "stream",
     "text": [
      "2016-10-11 23:48:25,233 : INFO : 2nd phase: running dense svd on (200L, 20L) matrix\n"
     ]
    },
    {
     "name": "stderr",
     "output_type": "stream",
     "text": [
      "2016-10-11 23:48:25,253 : INFO : computing the final decomposition\n"
     ]
    },
    {
     "name": "stderr",
     "output_type": "stream",
     "text": [
      "2016-10-11 23:48:25,253 : INFO : keeping 19 factors (discarding 0.000% of energy spectrum)\n"
     ]
    },
    {
     "name": "stderr",
     "output_type": "stream",
     "text": [
      "2016-10-11 23:48:25,263 : INFO : merging projections: (26996L, 67L) + (26996L, 19L)\n"
     ]
    },
    {
     "name": "stderr",
     "output_type": "stream",
     "text": [
      "2016-10-11 23:48:25,292 : INFO : keeping 81 factors (discarding 0.081% of energy spectrum)\n"
     ]
    },
    {
     "name": "stderr",
     "output_type": "stream",
     "text": [
      "2016-10-11 23:48:25,319 : INFO : processed documents up to #100\n"
     ]
    },
    {
     "name": "stderr",
     "output_type": "stream",
     "text": [
      "2016-10-11 23:48:25,321 : INFO : topic #0(414.990): 0.449*\"АЛЛАХ\" + 0.257*\"ИМАМ\" + 0.256*\"ПОСЛАННИК\" + 0.240*\"ПРОРОК\" + 0.213*\"ХАДИС\" + 0.190*\"СКАЗАТЬ\" + 0.185*\"СВОЙ\" + 0.167*\"КОТОРЫЙ\" + 0.150*\"ЧЕЛОВЕК\" + 0.136*\"ИСЛАМ\"\n"
     ]
    },
    {
     "name": "stderr",
     "output_type": "stream",
     "text": [
      "2016-10-11 23:48:25,322 : INFO : topic #1(209.353): 0.516*\"ПОСТ\" + 0.499*\"ДЕНЬ\" + 0.274*\"АШУР\" + 0.212*\"ПОСЛАННИК\" + 0.195*\"ДЕРЖАТЬ\" + 0.175*\"АЛЛАХ\" + -0.156*\"ПРОРОК\" + -0.150*\"ХАДИС\" + -0.114*\"ШИИТ\" + -0.101*\"ИМАМ\"\n"
     ]
    },
    {
     "name": "stderr",
     "output_type": "stream",
     "text": [
      "2016-10-11 23:48:25,322 : INFO : topic #2(195.822): -0.336*\"ДОЧЬ\" + -0.333*\"ПОСЛАННИК\" + -0.324*\"АЛЛАХ\" + 0.269*\"ПОСТ\" + 0.254*\"ДЕНЬ\" + 0.250*\"ИМАМ\" + -0.244*\"УСМАН\" + -0.224*\"ДБАР\" + 0.174*\"ХАДИС\" + 0.142*\"АШУР\"\n"
     ]
    },
    {
     "name": "stderr",
     "output_type": "stream",
     "text": [
      "2016-10-11 23:48:25,323 : INFO : topic #3(134.632): 0.466*\"ХАДИС\" + 0.292*\"ГРУДЬ\" + 0.179*\"КНИГА\" + 0.174*\"КОРМЛЕНИЕ\" + 0.168*\"СТРАНИЦА\" + -0.164*\"ИМАМ\" + -0.152*\"КОТОРЫЙ\" + 0.150*\"АЙША\" + -0.141*\"УСМАН\" + 0.127*\"ВЗРОСЛЫЙ\"\n"
     ]
    },
    {
     "name": "stderr",
     "output_type": "stream",
     "text": [
      "2016-10-11 23:48:25,325 : INFO : topic #4(119.182): -0.413*\"ГРУДЬ\" + -0.246*\"КОРМЛЕНИЕ\" + 0.246*\"СТРАНИЦА\" + -0.209*\"АЙША\" + -0.200*\"КОТОРЫЙ\" + -0.180*\"ВЗРОСЛЫЙ\" + -0.172*\"ТАКОЙ\" + 0.151*\"ПРОРОК\" + -0.142*\"ЧЕЛОВЕК\" + 0.140*\"ИМАМ\"\n"
     ]
    },
    {
     "name": "stderr",
     "output_type": "stream",
     "text": [
      "2016-10-11 23:48:25,355 : INFO : preparing a new chunk of documents\n"
     ]
    },
    {
     "name": "stderr",
     "output_type": "stream",
     "text": [
      "2016-10-11 23:48:25,357 : INFO : using 100 extra samples and 2 power iterations\n"
     ]
    },
    {
     "name": "stderr",
     "output_type": "stream",
     "text": [
      "2016-10-11 23:48:25,358 : INFO : 1st phase: constructing (26996L, 200L) action matrix\n"
     ]
    },
    {
     "name": "stderr",
     "output_type": "stream",
     "text": [
      "2016-10-11 23:48:25,361 : INFO : orthonormalizing (26996L, 200L) action matrix\n"
     ]
    },
    {
     "name": "stderr",
     "output_type": "stream",
     "text": [
      "2016-10-11 23:48:25,825 : INFO : 2nd phase: running dense svd on (200L, 20L) matrix\n"
     ]
    },
    {
     "name": "stderr",
     "output_type": "stream",
     "text": [
      "2016-10-11 23:48:25,845 : INFO : computing the final decomposition\n"
     ]
    },
    {
     "name": "stderr",
     "output_type": "stream",
     "text": [
      "2016-10-11 23:48:25,845 : INFO : keeping 19 factors (discarding 0.000% of energy spectrum)\n"
     ]
    },
    {
     "name": "stderr",
     "output_type": "stream",
     "text": [
      "2016-10-11 23:48:25,855 : INFO : merging projections: (26996L, 81L) + (26996L, 19L)\n"
     ]
    },
    {
     "name": "stderr",
     "output_type": "stream",
     "text": [
      "2016-10-11 23:48:25,888 : INFO : keeping 93 factors (discarding 0.083% of energy spectrum)\n"
     ]
    },
    {
     "name": "stderr",
     "output_type": "stream",
     "text": [
      "2016-10-11 23:48:25,917 : INFO : processed documents up to #120\n"
     ]
    },
    {
     "name": "stderr",
     "output_type": "stream",
     "text": [
      "2016-10-11 23:48:25,917 : INFO : topic #0(503.886): 0.452*\"АЛЛАХ\" + 0.320*\"ИМАМ\" + 0.223*\"ЧЕЛОВЕК\" + 0.210*\"ПРОРОК\" + 0.208*\"СКАЗАТЬ\" + 0.206*\"СВОЙ\" + 0.205*\"ПОСЛАННИК\" + 0.192*\"ХАДИС\" + 0.190*\"КОТОРЫЙ\" + 0.118*\"ИСЛАМ\"\n"
     ]
    },
    {
     "name": "stderr",
     "output_type": "stream",
     "text": [
      "2016-10-11 23:48:25,918 : INFO : topic #1(218.099): 0.405*\"ПОСТ\" + 0.393*\"ДЕНЬ\" + 0.348*\"ПОСЛАННИК\" + 0.293*\"АЛЛАХ\" + 0.216*\"АШУР\" + -0.209*\"ИМАМ\" + 0.192*\"ДОЧЬ\" + 0.153*\"ДЕРЖАТЬ\" + -0.135*\"ЧЕЛОВЕК\" + 0.128*\"УСМАН\"\n"
     ]
    },
    {
     "name": "stderr",
     "output_type": "stream",
     "text": [
      "2016-10-11 23:48:25,920 : INFO : topic #2(202.320): 0.411*\"ПОСТ\" + 0.395*\"ДЕНЬ\" + 0.277*\"ИМАМ\" + -0.269*\"ДОЧЬ\" + -0.268*\"АЛЛАХ\" + 0.218*\"АШУР\" + -0.213*\"ПОСЛАННИК\" + -0.208*\"УСМАН\" + -0.193*\"ДБАР\" + 0.158*\"ДЕРЖАТЬ\"\n"
     ]
    },
    {
     "name": "stderr",
     "output_type": "stream",
     "text": [
      "2016-10-11 23:48:25,921 : INFO : topic #3(184.174): -0.389*\"ЧЕЛОВЕК\" + -0.313*\"РАЗУМ\" + 0.282*\"ХАДИС\" + -0.264*\"МИР\" + 0.191*\"ПРОРОК\" + -0.160*\"РЕЛИГИЯ\" + 0.152*\"СТРАНИЦА\" + -0.150*\"УМ\" + -0.147*\"АЛЛАХ\" + 0.137*\"КНИГА\"\n"
     ]
    },
    {
     "name": "stderr",
     "output_type": "stream",
     "text": [
      "2016-10-11 23:48:25,921 : INFO : topic #4(163.021): 0.423*\"ИМАМ\" + 0.385*\"МОГИЛА\" + -0.309*\"БРАК\" + 0.255*\"РИД\" + -0.143*\"АЯТ\" + -0.132*\"КОТОРЫЙ\" + -0.132*\"ВРЕМЕННОЙ\" + 0.130*\"ШАФИЯ\" + 0.120*\"ПОСЕЩЕНИЕ\" + -0.119*\"ПОСТ\"\n"
     ]
    },
    {
     "name": "stderr",
     "output_type": "stream",
     "text": [
      "2016-10-11 23:48:25,943 : INFO : preparing a new chunk of documents\n"
     ]
    },
    {
     "name": "stderr",
     "output_type": "stream",
     "text": [
      "2016-10-11 23:48:25,944 : INFO : using 100 extra samples and 2 power iterations\n"
     ]
    },
    {
     "name": "stderr",
     "output_type": "stream",
     "text": [
      "2016-10-11 23:48:25,944 : INFO : 1st phase: constructing (26996L, 200L) action matrix\n"
     ]
    },
    {
     "name": "stderr",
     "output_type": "stream",
     "text": [
      "2016-10-11 23:48:25,947 : INFO : orthonormalizing (26996L, 200L) action matrix\n"
     ]
    },
    {
     "name": "stderr",
     "output_type": "stream",
     "text": [
      "2016-10-11 23:48:26,436 : INFO : 2nd phase: running dense svd on (200L, 20L) matrix\n"
     ]
    },
    {
     "name": "stderr",
     "output_type": "stream",
     "text": [
      "2016-10-11 23:48:26,456 : INFO : computing the final decomposition\n"
     ]
    },
    {
     "name": "stderr",
     "output_type": "stream",
     "text": [
      "2016-10-11 23:48:26,456 : INFO : keeping 19 factors (discarding 0.000% of energy spectrum)\n"
     ]
    },
    {
     "name": "stderr",
     "output_type": "stream",
     "text": [
      "2016-10-11 23:48:26,467 : INFO : merging projections: (26996L, 93L) + (26996L, 19L)\n"
     ]
    },
    {
     "name": "stderr",
     "output_type": "stream",
     "text": [
      "2016-10-11 23:48:26,506 : INFO : keeping 100 factors (discarding 0.214% of energy spectrum)\n"
     ]
    },
    {
     "name": "stderr",
     "output_type": "stream",
     "text": [
      "2016-10-11 23:48:26,539 : INFO : processed documents up to #140\n"
     ]
    },
    {
     "name": "stderr",
     "output_type": "stream",
     "text": [
      "2016-10-11 23:48:26,540 : INFO : topic #0(525.256): 0.441*\"АЛЛАХ\" + 0.323*\"ИМАМ\" + 0.220*\"ЧЕЛОВЕК\" + 0.211*\"СВОЙ\" + 0.206*\"СКАЗАТЬ\" + 0.202*\"ПРОРОК\" + 0.197*\"КОТОРЫЙ\" + 0.196*\"ХАДИС\" + 0.194*\"ПОСЛАННИК\" + 0.119*\"ИСЛАМ\"\n"
     ]
    },
    {
     "name": "stderr",
     "output_type": "stream",
     "text": [
      "2016-10-11 23:48:26,542 : INFO : topic #1(223.112): 0.375*\"ПОСЛАННИК\" + 0.358*\"АЛЛАХ\" + 0.342*\"ПОСТ\" + 0.330*\"ДЕНЬ\" + -0.223*\"ИМАМ\" + 0.217*\"ДОЧЬ\" + 0.183*\"АШУР\" + 0.150*\"УСМАН\" + 0.142*\"ДБАР\" + -0.135*\"ХАДИС\"\n"
     ]
    },
    {
     "name": "stderr",
     "output_type": "stream",
     "text": [
      "2016-10-11 23:48:26,542 : INFO : topic #2(204.007): 0.461*\"ПОСТ\" + 0.445*\"ДЕНЬ\" + 0.244*\"АШУР\" + 0.242*\"ИМАМ\" + -0.237*\"АЛЛАХ\" + -0.227*\"ДОЧЬ\" + -0.180*\"УСМАН\" + 0.177*\"ДЕРЖАТЬ\" + -0.164*\"ДБАР\" + -0.153*\"ПОСЛАННИК\"\n"
     ]
    },
    {
     "name": "stderr",
     "output_type": "stream",
     "text": [
      "2016-10-11 23:48:26,543 : INFO : topic #3(187.067): -0.394*\"ЧЕЛОВЕК\" + -0.299*\"РАЗУМ\" + 0.283*\"ХАДИС\" + -0.264*\"МИР\" + 0.181*\"ПРОРОК\" + -0.164*\"РЕЛИГИЯ\" + 0.157*\"ПОСЛАННИК\" + 0.153*\"СТРАНИЦА\" + -0.136*\"УМ\" + 0.134*\"АБА\"\n"
     ]
    },
    {
     "name": "stderr",
     "output_type": "stream",
     "text": [
      "2016-10-11 23:48:26,545 : INFO : topic #4(166.549): 0.440*\"ИМАМ\" + 0.360*\"МОГИЛА\" + -0.342*\"БРАК\" + 0.240*\"РИД\" + -0.151*\"КОТОРЫЙ\" + -0.134*\"АЯТ\" + -0.133*\"ВРЕМЕННОЙ\" + -0.123*\"ДЕНЬ\" + -0.123*\"ПОСТ\" + 0.123*\"ШАФИЯ\"\n"
     ]
    },
    {
     "name": "stderr",
     "output_type": "stream",
     "text": [
      "2016-10-11 23:48:26,558 : INFO : preparing a new chunk of documents\n"
     ]
    },
    {
     "name": "stderr",
     "output_type": "stream",
     "text": [
      "2016-10-11 23:48:26,559 : INFO : using 100 extra samples and 2 power iterations\n"
     ]
    },
    {
     "name": "stderr",
     "output_type": "stream",
     "text": [
      "2016-10-11 23:48:26,559 : INFO : 1st phase: constructing (26996L, 200L) action matrix\n"
     ]
    },
    {
     "name": "stderr",
     "output_type": "stream",
     "text": [
      "2016-10-11 23:48:26,561 : INFO : orthonormalizing (26996L, 200L) action matrix\n"
     ]
    },
    {
     "name": "stderr",
     "output_type": "stream",
     "text": [
      "2016-10-11 23:48:26,994 : INFO : 2nd phase: running dense svd on (200L, 20L) matrix\n"
     ]
    },
    {
     "name": "stderr",
     "output_type": "stream",
     "text": [
      "2016-10-11 23:48:27,015 : INFO : computing the final decomposition\n"
     ]
    },
    {
     "name": "stderr",
     "output_type": "stream",
     "text": [
      "2016-10-11 23:48:27,015 : INFO : keeping 19 factors (discarding 0.000% of energy spectrum)\n"
     ]
    },
    {
     "name": "stderr",
     "output_type": "stream",
     "text": [
      "2016-10-11 23:48:27,023 : INFO : merging projections: (26996L, 100L) + (26996L, 19L)\n"
     ]
    },
    {
     "name": "stderr",
     "output_type": "stream",
     "text": [
      "2016-10-11 23:48:27,062 : INFO : keeping 100 factors (discarding 0.377% of energy spectrum)\n"
     ]
    },
    {
     "name": "stderr",
     "output_type": "stream",
     "text": [
      "2016-10-11 23:48:27,095 : INFO : processed documents up to #160\n"
     ]
    },
    {
     "name": "stderr",
     "output_type": "stream",
     "text": [
      "2016-10-11 23:48:27,096 : INFO : topic #0(537.401): 0.430*\"АЛЛАХ\" + 0.326*\"ИМАМ\" + 0.216*\"ЧЕЛОВЕК\" + 0.214*\"ХАДИС\" + 0.208*\"СВОЙ\" + 0.202*\"СКАЗАТЬ\" + 0.200*\"КОТОРЫЙ\" + 0.197*\"ПРОРОК\" + 0.187*\"ПОСЛАННИК\" + 0.124*\"КНИГА\"\n"
     ]
    },
    {
     "name": "stderr",
     "output_type": "stream",
     "text": [
      "2016-10-11 23:48:27,098 : INFO : topic #1(229.308): 0.402*\"АЛЛАХ\" + 0.375*\"ПОСЛАННИК\" + 0.285*\"ПОСТ\" + 0.282*\"ДЕНЬ\" + 0.227*\"ДОЧЬ\" + -0.220*\"ИМАМ\" + -0.206*\"ХАДИС\" + -0.161*\"КОРАН\" + 0.160*\"УСМАН\" + 0.152*\"АШУР\"\n"
     ]
    },
    {
     "name": "stderr",
     "output_type": "stream",
     "text": [
      "2016-10-11 23:48:27,098 : INFO : topic #2(205.491): 0.493*\"ПОСТ\" + 0.470*\"ДЕНЬ\" + 0.262*\"АШУР\" + 0.200*\"ИМАМ\" + -0.197*\"АЛЛАХ\" + 0.189*\"ДЕРЖАТЬ\" + -0.179*\"ДОЧЬ\" + -0.147*\"УСМАН\" + 0.129*\"ХАДИС\" + -0.128*\"ДБАР\"\n"
     ]
    },
    {
     "name": "stderr",
     "output_type": "stream",
     "text": [
      "2016-10-11 23:48:27,099 : INFO : topic #3(189.931): -0.393*\"ЧЕЛОВЕК\" + 0.300*\"ХАДИС\" + -0.278*\"РАЗУМ\" + -0.254*\"МИР\" + 0.207*\"ПОСЛАННИК\" + -0.164*\"РЕЛИГИЯ\" + 0.162*\"ПРОРОК\" + 0.160*\"ДБАР\" + 0.160*\"ДОЧЬ\" + 0.134*\"СТРАНИЦА\"\n"
     ]
    },
    {
     "name": "stderr",
     "output_type": "stream",
     "text": [
      "2016-10-11 23:48:27,101 : INFO : topic #4(169.482): 0.475*\"ИМАМ\" + 0.349*\"МОГИЛА\" + -0.302*\"БРАК\" + 0.233*\"РИД\" + -0.165*\"КОТОРЫЙ\" + -0.158*\"КОРАН\" + -0.154*\"АЯТ\" + -0.129*\"ПОСТ\" + -0.127*\"ДЕНЬ\" + 0.119*\"ШАФИЯ\"\n"
     ]
    },
    {
     "name": "stderr",
     "output_type": "stream",
     "text": [
      "2016-10-11 23:48:27,114 : INFO : preparing a new chunk of documents\n"
     ]
    },
    {
     "name": "stderr",
     "output_type": "stream",
     "text": [
      "2016-10-11 23:48:27,115 : INFO : using 100 extra samples and 2 power iterations\n"
     ]
    },
    {
     "name": "stderr",
     "output_type": "stream",
     "text": [
      "2016-10-11 23:48:27,115 : INFO : 1st phase: constructing (26996L, 200L) action matrix\n"
     ]
    },
    {
     "name": "stderr",
     "output_type": "stream",
     "text": [
      "2016-10-11 23:48:27,118 : INFO : orthonormalizing (26996L, 200L) action matrix\n"
     ]
    },
    {
     "name": "stderr",
     "output_type": "stream",
     "text": [
      "2016-10-11 23:48:27,578 : INFO : 2nd phase: running dense svd on (200L, 20L) matrix\n"
     ]
    },
    {
     "name": "stderr",
     "output_type": "stream",
     "text": [
      "2016-10-11 23:48:27,598 : INFO : computing the final decomposition\n"
     ]
    },
    {
     "name": "stderr",
     "output_type": "stream",
     "text": [
      "2016-10-11 23:48:27,598 : INFO : keeping 19 factors (discarding 0.000% of energy spectrum)\n"
     ]
    },
    {
     "name": "stderr",
     "output_type": "stream",
     "text": [
      "2016-10-11 23:48:27,615 : INFO : merging projections: (26996L, 100L) + (26996L, 19L)\n"
     ]
    },
    {
     "name": "stderr",
     "output_type": "stream",
     "text": [
      "2016-10-11 23:48:27,654 : INFO : keeping 100 factors (discarding 0.459% of energy spectrum)\n"
     ]
    },
    {
     "name": "stderr",
     "output_type": "stream",
     "text": [
      "2016-10-11 23:48:27,688 : INFO : processed documents up to #180\n"
     ]
    },
    {
     "name": "stderr",
     "output_type": "stream",
     "text": [
      "2016-10-11 23:48:27,690 : INFO : topic #0(551.736): 0.431*\"АЛЛАХ\" + 0.325*\"ИМАМ\" + 0.228*\"ХАДИС\" + 0.209*\"ЧЕЛОВЕК\" + 0.206*\"СВОЙ\" + 0.197*\"СКАЗАТЬ\" + 0.196*\"КОТОРЫЙ\" + 0.195*\"ПОСЛАННИК\" + 0.191*\"ПРОРОК\" + 0.130*\"ИСЛАМ\"\n"
     ]
    },
    {
     "name": "stderr",
     "output_type": "stream",
     "text": [
      "2016-10-11 23:48:27,690 : INFO : topic #1(235.323): 0.417*\"АЛЛАХ\" + 0.391*\"ПОСЛАННИК\" + -0.254*\"ИМАМ\" + 0.238*\"ДЕНЬ\" + 0.234*\"ПОСТ\" + 0.229*\"ДОЧЬ\" + -0.217*\"ХАДИС\" + -0.162*\"КОРАН\" + 0.162*\"УСМАН\" + 0.149*\"ДБАР\"\n"
     ]
    },
    {
     "name": "stderr",
     "output_type": "stream",
     "text": [
      "2016-10-11 23:48:27,691 : INFO : topic #2(206.609): 0.515*\"ПОСТ\" + 0.490*\"ДЕНЬ\" + 0.274*\"АШУР\" + 0.197*\"ДЕРЖАТЬ\" + 0.185*\"ИМАМ\" + -0.156*\"АЛЛАХ\" + -0.147*\"ДОЧЬ\" + -0.131*\"СВОЙ\" + -0.128*\"ЧЕЛОВЕК\" + -0.124*\"УСМАН\"\n"
     ]
    },
    {
     "name": "stderr",
     "output_type": "stream",
     "text": [
      "2016-10-11 23:48:27,694 : INFO : topic #3(193.046): -0.398*\"ЧЕЛОВЕК\" + 0.320*\"ХАДИС\" + -0.269*\"РАЗУМ\" + -0.242*\"МИР\" + 0.223*\"ПОСЛАННИК\" + -0.166*\"РЕЛИГИЯ\" + 0.152*\"ДОЧЬ\" + 0.147*\"ДБАР\" + -0.142*\"ДЕНЬ\" + -0.140*\"КОТОРЫЙ\"\n"
     ]
    },
    {
     "name": "stderr",
     "output_type": "stream",
     "text": [
      "2016-10-11 23:48:27,694 : INFO : topic #4(170.024): 0.470*\"ИМАМ\" + 0.337*\"МОГИЛА\" + -0.307*\"БРАК\" + 0.225*\"РИД\" + -0.171*\"КОТОРЫЙ\" + -0.166*\"КОРАН\" + -0.156*\"АЯТ\" + -0.129*\"ПОСТ\" + -0.128*\"ДЕНЬ\" + -0.119*\"ВРЕМЕННОЙ\"\n"
     ]
    },
    {
     "name": "stderr",
     "output_type": "stream",
     "text": [
      "2016-10-11 23:48:27,717 : INFO : preparing a new chunk of documents\n"
     ]
    },
    {
     "name": "stderr",
     "output_type": "stream",
     "text": [
      "2016-10-11 23:48:27,719 : INFO : using 100 extra samples and 2 power iterations\n"
     ]
    },
    {
     "name": "stderr",
     "output_type": "stream",
     "text": [
      "2016-10-11 23:48:27,719 : INFO : 1st phase: constructing (26996L, 200L) action matrix\n"
     ]
    },
    {
     "name": "stderr",
     "output_type": "stream",
     "text": [
      "2016-10-11 23:48:27,721 : INFO : orthonormalizing (26996L, 200L) action matrix\n"
     ]
    },
    {
     "name": "stderr",
     "output_type": "stream",
     "text": [
      "2016-10-11 23:48:28,188 : INFO : 2nd phase: running dense svd on (200L, 20L) matrix\n"
     ]
    },
    {
     "name": "stderr",
     "output_type": "stream",
     "text": [
      "2016-10-11 23:48:28,209 : INFO : computing the final decomposition\n"
     ]
    },
    {
     "name": "stderr",
     "output_type": "stream",
     "text": [
      "2016-10-11 23:48:28,210 : INFO : keeping 19 factors (discarding 0.000% of energy spectrum)\n"
     ]
    },
    {
     "name": "stderr",
     "output_type": "stream",
     "text": [
      "2016-10-11 23:48:28,220 : INFO : merging projections: (26996L, 100L) + (26996L, 19L)\n"
     ]
    },
    {
     "name": "stderr",
     "output_type": "stream",
     "text": [
      "2016-10-11 23:48:28,259 : INFO : keeping 100 factors (discarding 0.635% of energy spectrum)\n"
     ]
    },
    {
     "name": "stderr",
     "output_type": "stream",
     "text": [
      "2016-10-11 23:48:28,292 : INFO : processed documents up to #200\n"
     ]
    },
    {
     "name": "stderr",
     "output_type": "stream",
     "text": [
      "2016-10-11 23:48:28,293 : INFO : topic #0(604.170): 0.407*\"АЛЛАХ\" + 0.313*\"ИМАМ\" + 0.240*\"ХАДИС\" + 0.206*\"СКАЗАТЬ\" + 0.205*\"КОТОРЫЙ\" + 0.203*\"ЧЕЛОВЕК\" + 0.200*\"ПРОРОК\" + 0.200*\"СВОЙ\" + 0.177*\"ПОСЛАННИК\" + 0.151*\"КОРАН\"\n"
     ]
    },
    {
     "name": "stderr",
     "output_type": "stream",
     "text": [
      "2016-10-11 23:48:28,295 : INFO : topic #1(248.238): -0.458*\"АЛЛАХ\" + -0.367*\"ПОСЛАННИК\" + 0.350*\"КОРАН\" + -0.207*\"ДОЧЬ\" + -0.199*\"ДЕНЬ\" + -0.192*\"ПОСТ\" + 0.176*\"ХАДИС\" + -0.148*\"УСМАН\" + 0.147*\"ШИИТ\" + 0.144*\"АЯТ\"\n"
     ]
    },
    {
     "name": "stderr",
     "output_type": "stream",
     "text": [
      "2016-10-11 23:48:28,296 : INFO : topic #2(216.925): -0.609*\"БРАК\" + 0.376*\"ИМАМ\" + -0.235*\"ВРЕМЕННОЙ\" + -0.186*\"ВРЕМЕННЫЙ\" + 0.176*\"ПОСТ\" + 0.172*\"ДЕНЬ\" + -0.160*\"АЯТ\" + -0.138*\"ПОСЛАННИК\" + -0.130*\"КОРАН\" + 0.106*\"МОГИЛА\"\n"
     ]
    },
    {
     "name": "stderr",
     "output_type": "stream",
     "text": [
      "2016-10-11 23:48:28,296 : INFO : topic #3(206.462): 0.484*\"ПОСТ\" + 0.452*\"ДЕНЬ\" + 0.253*\"АШУР\" + -0.215*\"ЧЕЛОВЕК\" + 0.183*\"ДЕРЖАТЬ\" + 0.177*\"БРАК\" + -0.160*\"МИР\" + 0.158*\"ХАДИС\" + -0.156*\"РАЗУМ\" + 0.125*\"СТРАНИЦА\"\n"
     ]
    },
    {
     "name": "stderr",
     "output_type": "stream",
     "text": [
      "2016-10-11 23:48:28,298 : INFO : topic #4(197.096): 0.440*\"ХАДИС\" + -0.287*\"ЧЕЛОВЕК\" + -0.255*\"КОРАН\" + -0.225*\"ДЕНЬ\" + -0.202*\"КОТОРЫЙ\" + 0.180*\"АБА\" + -0.180*\"ПОСТ\" + -0.161*\"РЕЛИГИЯ\" + 0.140*\"РУКА\" + -0.134*\"РАЗУМ\"\n"
     ]
    },
    {
     "name": "stderr",
     "output_type": "stream",
     "text": [
      "2016-10-11 23:48:28,319 : INFO : preparing a new chunk of documents\n"
     ]
    },
    {
     "name": "stderr",
     "output_type": "stream",
     "text": [
      "2016-10-11 23:48:28,322 : INFO : using 100 extra samples and 2 power iterations\n"
     ]
    },
    {
     "name": "stderr",
     "output_type": "stream",
     "text": [
      "2016-10-11 23:48:28,322 : INFO : 1st phase: constructing (26996L, 200L) action matrix\n"
     ]
    },
    {
     "name": "stderr",
     "output_type": "stream",
     "text": [
      "2016-10-11 23:48:28,325 : INFO : orthonormalizing (26996L, 200L) action matrix\n"
     ]
    },
    {
     "name": "stderr",
     "output_type": "stream",
     "text": [
      "2016-10-11 23:48:28,801 : INFO : 2nd phase: running dense svd on (200L, 20L) matrix\n"
     ]
    },
    {
     "name": "stderr",
     "output_type": "stream",
     "text": [
      "2016-10-11 23:48:28,819 : INFO : computing the final decomposition\n"
     ]
    },
    {
     "name": "stderr",
     "output_type": "stream",
     "text": [
      "2016-10-11 23:48:28,819 : INFO : keeping 20 factors (discarding 0.000% of energy spectrum)\n"
     ]
    },
    {
     "name": "stderr",
     "output_type": "stream",
     "text": [
      "2016-10-11 23:48:28,829 : INFO : merging projections: (26996L, 100L) + (26996L, 20L)\n"
     ]
    },
    {
     "name": "stderr",
     "output_type": "stream",
     "text": [
      "2016-10-11 23:48:28,871 : INFO : keeping 100 factors (discarding 0.709% of energy spectrum)\n"
     ]
    },
    {
     "name": "stderr",
     "output_type": "stream",
     "text": [
      "2016-10-11 23:48:28,907 : INFO : processed documents up to #220\n"
     ]
    },
    {
     "name": "stderr",
     "output_type": "stream",
     "text": [
      "2016-10-11 23:48:28,907 : INFO : topic #0(660.361): 0.405*\"АЛЛАХ\" + 0.291*\"ИМАМ\" + 0.250*\"ХАДИС\" + 0.215*\"КОТОРЫЙ\" + 0.211*\"СКАЗАТЬ\" + 0.205*\"КОРАН\" + 0.188*\"СВОЙ\" + 0.186*\"ЧЕЛОВЕК\" + 0.186*\"ПРОРОК\" + 0.161*\"ПОСЛАННИК\"\n"
     ]
    },
    {
     "name": "stderr",
     "output_type": "stream",
     "text": [
      "2016-10-11 23:48:28,908 : INFO : topic #1(268.402): -0.522*\"КОРАН\" + 0.398*\"АЛЛАХ\" + 0.269*\"ПОСЛАННИК\" + -0.235*\"АЯТ\" + -0.196*\"ХАДИС\" + 0.177*\"ДЕНЬ\" + 0.154*\"ПОСТ\" + 0.148*\"ДОЧЬ\" + -0.129*\"СУРА\" + -0.122*\"КНИГА\"\n"
     ]
    },
    {
     "name": "stderr",
     "output_type": "stream",
     "text": [
      "2016-10-11 23:48:28,910 : INFO : topic #2(232.723): 0.520*\"ИМАМ\" + -0.283*\"АЛЛАХ\" + -0.266*\"ПОСЛАННИК\" + -0.246*\"БРАК\" + -0.198*\"КОРАН\" + -0.163*\"ДОЧЬ\" + -0.160*\"АЯТ\" + 0.151*\"ШИИТ\" + -0.124*\"ДБАР\" + -0.118*\"УСМАН\"\n"
     ]
    },
    {
     "name": "stderr",
     "output_type": "stream",
     "text": [
      "2016-10-11 23:48:28,911 : INFO : topic #3(210.510): 0.458*\"ПОСТ\" + 0.416*\"ДЕНЬ\" + -0.255*\"ЧЕЛОВЕК\" + 0.239*\"АШУР\" + 0.228*\"ХАДИС\" + 0.180*\"ДЕРЖАТЬ\" + -0.160*\"МИР\" + -0.145*\"РАЗУМ\" + -0.144*\"СВОЙ\" + 0.135*\"СТРАНИЦА\"\n"
     ]
    },
    {
     "name": "stderr",
     "output_type": "stream",
     "text": [
      "2016-10-11 23:48:28,911 : INFO : topic #4(206.237): 0.594*\"БРАК\" + -0.295*\"КОРАН\" + 0.277*\"ХАДИС\" + 0.231*\"ВРЕМЕННОЙ\" + 0.188*\"ВРЕМЕННЫЙ\" + -0.160*\"ЧЕЛОВЕК\" + -0.143*\"ДЕНЬ\" + -0.132*\"ПОСТ\" + -0.122*\"АЛЛАХ\" + 0.104*\"СТРАНИЦА\"\n"
     ]
    },
    {
     "name": "stderr",
     "output_type": "stream",
     "text": [
      "2016-10-11 23:48:28,930 : INFO : preparing a new chunk of documents\n"
     ]
    },
    {
     "name": "stderr",
     "output_type": "stream",
     "text": [
      "2016-10-11 23:48:28,930 : INFO : using 100 extra samples and 2 power iterations\n"
     ]
    },
    {
     "name": "stderr",
     "output_type": "stream",
     "text": [
      "2016-10-11 23:48:28,930 : INFO : 1st phase: constructing (26996L, 200L) action matrix\n"
     ]
    },
    {
     "name": "stderr",
     "output_type": "stream",
     "text": [
      "2016-10-11 23:48:28,934 : INFO : orthonormalizing (26996L, 200L) action matrix\n"
     ]
    },
    {
     "name": "stderr",
     "output_type": "stream",
     "text": [
      "2016-10-11 23:48:29,440 : INFO : 2nd phase: running dense svd on (200L, 20L) matrix\n"
     ]
    },
    {
     "name": "stderr",
     "output_type": "stream",
     "text": [
      "2016-10-11 23:48:29,460 : INFO : computing the final decomposition\n"
     ]
    },
    {
     "name": "stderr",
     "output_type": "stream",
     "text": [
      "2016-10-11 23:48:29,460 : INFO : keeping 18 factors (discarding 0.000% of energy spectrum)\n"
     ]
    },
    {
     "name": "stderr",
     "output_type": "stream",
     "text": [
      "2016-10-11 23:48:29,470 : INFO : merging projections: (26996L, 100L) + (26996L, 18L)\n"
     ]
    },
    {
     "name": "stderr",
     "output_type": "stream",
     "text": [
      "2016-10-11 23:48:29,509 : INFO : keeping 100 factors (discarding 0.882% of energy spectrum)\n"
     ]
    },
    {
     "name": "stderr",
     "output_type": "stream",
     "text": [
      "2016-10-11 23:48:29,542 : INFO : processed documents up to #240\n"
     ]
    },
    {
     "name": "stderr",
     "output_type": "stream",
     "text": [
      "2016-10-11 23:48:29,542 : INFO : topic #0(678.657): 0.409*\"АЛЛАХ\" + 0.295*\"ИМАМ\" + 0.249*\"ХАДИС\" + 0.215*\"КОТОРЫЙ\" + 0.212*\"СКАЗАТЬ\" + 0.201*\"КОРАН\" + 0.188*\"СВОЙ\" + 0.187*\"ПРОРОК\" + 0.185*\"ЧЕЛОВЕК\" + 0.156*\"ПОСЛАННИК\"\n"
     ]
    },
    {
     "name": "stderr",
     "output_type": "stream",
     "text": [
      "2016-10-11 23:48:29,543 : INFO : topic #1(269.770): -0.513*\"КОРАН\" + 0.411*\"АЛЛАХ\" + 0.265*\"ПОСЛАННИК\" + -0.232*\"АЯТ\" + -0.210*\"ХАДИС\" + 0.170*\"ДЕНЬ\" + 0.148*\"ПОСТ\" + 0.147*\"ДОЧЬ\" + -0.128*\"СУРА\" + -0.127*\"КНИГА\"\n"
     ]
    },
    {
     "name": "stderr",
     "output_type": "stream",
     "text": [
      "2016-10-11 23:48:29,545 : INFO : topic #2(236.395): 0.528*\"ИМАМ\" + -0.296*\"АЛЛАХ\" + -0.252*\"ПОСЛАННИК\" + -0.233*\"БРАК\" + -0.222*\"КОРАН\" + -0.171*\"АЯТ\" + -0.152*\"ДОЧЬ\" + 0.144*\"ШИИТ\" + -0.124*\"ДБАР\" + 0.115*\"ОТВЕТ\"\n"
     ]
    },
    {
     "name": "stderr",
     "output_type": "stream",
     "text": [
      "2016-10-11 23:48:29,546 : INFO : topic #3(212.774): 0.368*\"ПОСТ\" + 0.335*\"ХАДИС\" + 0.324*\"ДЕНЬ\" + -0.294*\"ЧЕЛОВЕК\" + 0.189*\"АШУР\" + 0.172*\"ПОСЛАННИК\" + -0.172*\"МИР\" + -0.160*\"РАЗУМ\" + 0.160*\"СТРАНИЦА\" + 0.156*\"АБА\"\n"
     ]
    },
    {
     "name": "stderr",
     "output_type": "stream",
     "text": [
      "2016-10-11 23:48:29,546 : INFO : topic #4(207.427): 0.543*\"БРАК\" + -0.309*\"ДЕНЬ\" + -0.308*\"ПОСТ\" + -0.303*\"КОРАН\" + 0.226*\"ХАДИС\" + 0.209*\"ВРЕМЕННОЙ\" + 0.170*\"ВРЕМЕННЫЙ\" + -0.169*\"АШУР\" + -0.111*\"ДЕРЖАТЬ\" + -0.089*\"ЧЕЛОВЕК\"\n"
     ]
    },
    {
     "name": "stderr",
     "output_type": "stream",
     "text": [
      "2016-10-11 23:48:29,568 : INFO : preparing a new chunk of documents\n"
     ]
    },
    {
     "name": "stderr",
     "output_type": "stream",
     "text": [
      "2016-10-11 23:48:29,569 : INFO : using 100 extra samples and 2 power iterations\n"
     ]
    },
    {
     "name": "stderr",
     "output_type": "stream",
     "text": [
      "2016-10-11 23:48:29,569 : INFO : 1st phase: constructing (26996L, 200L) action matrix\n"
     ]
    },
    {
     "name": "stderr",
     "output_type": "stream",
     "text": [
      "2016-10-11 23:48:29,572 : INFO : orthonormalizing (26996L, 200L) action matrix\n"
     ]
    },
    {
     "name": "stderr",
     "output_type": "stream",
     "text": [
      "2016-10-11 23:48:30,039 : INFO : 2nd phase: running dense svd on (200L, 20L) matrix\n"
     ]
    },
    {
     "name": "stderr",
     "output_type": "stream",
     "text": [
      "2016-10-11 23:48:30,061 : INFO : computing the final decomposition\n"
     ]
    },
    {
     "name": "stderr",
     "output_type": "stream",
     "text": [
      "2016-10-11 23:48:30,061 : INFO : keeping 18 factors (discarding 0.000% of energy spectrum)\n"
     ]
    },
    {
     "name": "stderr",
     "output_type": "stream",
     "text": [
      "2016-10-11 23:48:30,072 : INFO : merging projections: (26996L, 100L) + (26996L, 18L)\n"
     ]
    },
    {
     "name": "stderr",
     "output_type": "stream",
     "text": [
      "2016-10-11 23:48:30,117 : INFO : keeping 100 factors (discarding 0.766% of energy spectrum)\n"
     ]
    },
    {
     "name": "stderr",
     "output_type": "stream",
     "text": [
      "2016-10-11 23:48:30,155 : INFO : processed documents up to #260\n"
     ]
    },
    {
     "name": "stderr",
     "output_type": "stream",
     "text": [
      "2016-10-11 23:48:30,157 : INFO : topic #0(708.503): 0.400*\"АЛЛАХ\" + 0.311*\"ИМАМ\" + 0.268*\"ХАДИС\" + 0.213*\"КОТОРЫЙ\" + 0.207*\"СКАЗАТЬ\" + 0.193*\"КОРАН\" + 0.187*\"ПРОРОК\" + 0.185*\"СВОЙ\" + 0.176*\"ЧЕЛОВЕК\" + 0.163*\"ПОСЛАННИК\"\n"
     ]
    },
    {
     "name": "stderr",
     "output_type": "stream",
     "text": [
      "2016-10-11 23:48:30,158 : INFO : topic #1(276.149): 0.490*\"АЛЛАХ\" + -0.407*\"КОРАН\" + 0.303*\"ПОСЛАННИК\" + -0.274*\"ХАДИС\" + -0.196*\"КНИГА\" + -0.165*\"АЯТ\" + 0.160*\"ДЕНЬ\" + 0.159*\"ДОЧЬ\" + 0.136*\"ПОСТ\" + 0.117*\"СКАЗАТЬ\"\n"
     ]
    },
    {
     "name": "stderr",
     "output_type": "stream",
     "text": [
      "2016-10-11 23:48:30,160 : INFO : topic #2(251.742): 0.559*\"ИМАМ\" + -0.392*\"КОРАН\" + -0.245*\"АЯТ\" + -0.208*\"АЛЛАХ\" + -0.196*\"БРАК\" + 0.146*\"КНИГА\" + -0.134*\"СУРА\" + -0.119*\"ПОСЛАННИК\" + 0.102*\"ШИИТ\" + 0.094*\"МУХАММАД\"\n"
     ]
    },
    {
     "name": "stderr",
     "output_type": "stream",
     "text": [
      "2016-10-11 23:48:30,161 : INFO : topic #3(218.727): 0.428*\"ХАДИС\" + -0.326*\"ЧЕЛОВЕК\" + 0.264*\"ПОСЛАННИК\" + 0.208*\"ПОСТ\" + 0.179*\"АБА\" + -0.166*\"МИР\" + -0.166*\"КОТОРЫЙ\" + 0.160*\"ДЕНЬ\" + 0.155*\"КНИГА\" + -0.152*\"РАЗУМ\"\n"
     ]
    },
    {
     "name": "stderr",
     "output_type": "stream",
     "text": [
      "2016-10-11 23:48:30,163 : INFO : topic #4(208.461): 0.451*\"ПОСТ\" + 0.443*\"ДЕНЬ\" + -0.415*\"БРАК\" + 0.270*\"КОРАН\" + 0.243*\"АШУР\" + 0.167*\"ДЕРЖАТЬ\" + -0.158*\"ВРЕМЕННОЙ\" + -0.145*\"ХАДИС\" + -0.128*\"ВРЕМЕННЫЙ\" + 0.089*\"ПРЕДАНИЕ\"\n"
     ]
    },
    {
     "name": "stderr",
     "output_type": "stream",
     "text": [
      "2016-10-11 23:48:30,203 : INFO : preparing a new chunk of documents\n"
     ]
    },
    {
     "name": "stderr",
     "output_type": "stream",
     "text": [
      "2016-10-11 23:48:30,204 : INFO : using 100 extra samples and 2 power iterations\n"
     ]
    },
    {
     "name": "stderr",
     "output_type": "stream",
     "text": [
      "2016-10-11 23:48:30,206 : INFO : 1st phase: constructing (26996L, 200L) action matrix\n"
     ]
    },
    {
     "name": "stderr",
     "output_type": "stream",
     "text": [
      "2016-10-11 23:48:30,210 : INFO : orthonormalizing (26996L, 200L) action matrix\n"
     ]
    },
    {
     "name": "stderr",
     "output_type": "stream",
     "text": [
      "2016-10-11 23:48:30,727 : INFO : 2nd phase: running dense svd on (200L, 20L) matrix\n"
     ]
    },
    {
     "name": "stderr",
     "output_type": "stream",
     "text": [
      "2016-10-11 23:48:30,747 : INFO : computing the final decomposition\n"
     ]
    },
    {
     "name": "stderr",
     "output_type": "stream",
     "text": [
      "2016-10-11 23:48:30,747 : INFO : keeping 19 factors (discarding 0.000% of energy spectrum)\n"
     ]
    },
    {
     "name": "stderr",
     "output_type": "stream",
     "text": [
      "2016-10-11 23:48:30,757 : INFO : merging projections: (26996L, 100L) + (26996L, 19L)\n"
     ]
    },
    {
     "name": "stderr",
     "output_type": "stream",
     "text": [
      "2016-10-11 23:48:30,799 : INFO : keeping 100 factors (discarding 0.785% of energy spectrum)\n"
     ]
    },
    {
     "name": "stderr",
     "output_type": "stream",
     "text": [
      "2016-10-11 23:48:30,831 : INFO : processed documents up to #280\n"
     ]
    },
    {
     "name": "stderr",
     "output_type": "stream",
     "text": [
      "2016-10-11 23:48:30,832 : INFO : topic #0(751.487): 0.390*\"АЛЛАХ\" + 0.301*\"ИМАМ\" + 0.294*\"ХАДИС\" + 0.213*\"КОТОРЫЙ\" + 0.209*\"СКАЗАТЬ\" + 0.190*\"ПРОРОК\" + 0.183*\"СВОЙ\" + 0.180*\"КОРАН\" + 0.175*\"ЧЕЛОВЕК\" + 0.174*\"КНИГА\"\n"
     ]
    },
    {
     "name": "stderr",
     "output_type": "stream",
     "text": [
      "2016-10-11 23:48:30,834 : INFO : topic #1(293.199): 0.500*\"АЛЛАХ\" + -0.410*\"ХАДИС\" + 0.272*\"ПОСЛАННИК\" + -0.269*\"КНИГА\" + -0.229*\"КОРАН\" + -0.162*\"ИМАМ\" + 0.143*\"ДОЧЬ\" + 0.140*\"ЧЕЛОВЕК\" + 0.136*\"СКАЗАТЬ\" + 0.124*\"ДЕНЬ\"\n"
     ]
    },
    {
     "name": "stderr",
     "output_type": "stream",
     "text": [
      "2016-10-11 23:48:30,835 : INFO : topic #2(257.093): 0.511*\"ИМАМ\" + -0.506*\"КОРАН\" + -0.285*\"АЯТ\" + -0.171*\"БРАК\" + -0.156*\"СУРА\" + -0.121*\"КОТОРЫЙ\" + 0.111*\"КНИГА\" + 0.094*\"ДЕНЬ\" + 0.092*\"МОГИЛА\" + 0.090*\"ХУСЕЙН\"\n"
     ]
    },
    {
     "name": "stderr",
     "output_type": "stream",
     "text": [
      "2016-10-11 23:48:30,835 : INFO : topic #3(232.950): 0.470*\"ХАДИС\" + 0.277*\"ПОСЛАННИК\" + -0.256*\"ЧЕЛОВЕК\" + -0.205*\"КОРАН\" + -0.195*\"ИМАМ\" + 0.172*\"АБА\" + 0.159*\"БУХАРЬ\" + 0.153*\"АЛЛАХ\" + -0.145*\"КОТОРЫЙ\" + -0.141*\"ШИИТ\"\n"
     ]
    },
    {
     "name": "stderr",
     "output_type": "stream",
     "text": [
      "2016-10-11 23:48:30,836 : INFO : topic #4(209.408): 0.537*\"ПОСТ\" + 0.530*\"ДЕНЬ\" + 0.287*\"АШУР\" + 0.216*\"КОРАН\" + 0.196*\"ДЕРЖАТЬ\" + -0.152*\"СКАЗАТЬ\" + -0.112*\"ПРОРОК\" + -0.110*\"ХАДИС\" + 0.095*\"ПРЕДАНИЕ\" + 0.094*\"УЧЁНЫЙ\"\n"
     ]
    },
    {
     "name": "stderr",
     "output_type": "stream",
     "text": [
      "2016-10-11 23:48:30,861 : INFO : preparing a new chunk of documents\n"
     ]
    },
    {
     "name": "stderr",
     "output_type": "stream",
     "text": [
      "2016-10-11 23:48:30,862 : INFO : using 100 extra samples and 2 power iterations\n"
     ]
    },
    {
     "name": "stderr",
     "output_type": "stream",
     "text": [
      "2016-10-11 23:48:30,862 : INFO : 1st phase: constructing (26996L, 200L) action matrix\n"
     ]
    },
    {
     "name": "stderr",
     "output_type": "stream",
     "text": [
      "2016-10-11 23:48:30,867 : INFO : orthonormalizing (26996L, 200L) action matrix\n"
     ]
    },
    {
     "name": "stderr",
     "output_type": "stream",
     "text": [
      "2016-10-11 23:48:31,361 : INFO : 2nd phase: running dense svd on (200L, 20L) matrix\n"
     ]
    },
    {
     "name": "stderr",
     "output_type": "stream",
     "text": [
      "2016-10-11 23:48:31,382 : INFO : computing the final decomposition\n"
     ]
    },
    {
     "name": "stderr",
     "output_type": "stream",
     "text": [
      "2016-10-11 23:48:31,384 : INFO : keeping 19 factors (discarding 0.000% of energy spectrum)\n"
     ]
    },
    {
     "name": "stderr",
     "output_type": "stream",
     "text": [
      "2016-10-11 23:48:31,394 : INFO : merging projections: (26996L, 100L) + (26996L, 19L)\n"
     ]
    },
    {
     "name": "stderr",
     "output_type": "stream",
     "text": [
      "2016-10-11 23:48:31,438 : INFO : keeping 100 factors (discarding 0.926% of energy spectrum)\n"
     ]
    },
    {
     "name": "stderr",
     "output_type": "stream",
     "text": [
      "2016-10-11 23:48:31,471 : INFO : processed documents up to #300\n"
     ]
    },
    {
     "name": "stderr",
     "output_type": "stream",
     "text": [
      "2016-10-11 23:48:31,473 : INFO : topic #0(781.147): 0.384*\"АЛЛАХ\" + 0.299*\"ИМАМ\" + 0.298*\"ХАДИС\" + 0.217*\"СКАЗАТЬ\" + 0.213*\"КОТОРЫЙ\" + 0.187*\"ПРОРОК\" + 0.183*\"СВОЙ\" + 0.175*\"ЧЕЛОВЕК\" + 0.175*\"КОРАН\" + 0.175*\"КНИГА\"\n"
     ]
    },
    {
     "name": "stderr",
     "output_type": "stream",
     "text": [
      "2016-10-11 23:48:31,474 : INFO : topic #1(298.778): 0.518*\"АЛЛАХ\" + -0.410*\"ХАДИС\" + 0.282*\"ПОСЛАННИК\" + -0.267*\"КНИГА\" + -0.201*\"КОРАН\" + -0.179*\"ИМАМ\" + 0.140*\"ДОЧЬ\" + 0.130*\"СКАЗАТЬ\" + 0.126*\"ЧЕЛОВЕК\" + 0.117*\"ДБАР\"\n"
     ]
    },
    {
     "name": "stderr",
     "output_type": "stream",
     "text": [
      "2016-10-11 23:48:31,476 : INFO : topic #2(261.005): 0.507*\"ИМАМ\" + -0.503*\"КОРАН\" + -0.292*\"АЯТ\" + -0.203*\"БРАК\" + -0.157*\"СУРА\" + -0.114*\"КОТОРЫЙ\" + 0.100*\"ДЕНЬ\" + 0.097*\"КНИГА\" + 0.093*\"ХУСЕЙН\" + 0.092*\"МОГИЛА\"\n"
     ]
    },
    {
     "name": "stderr",
     "output_type": "stream",
     "text": [
      "2016-10-11 23:48:31,476 : INFO : topic #3(236.243): 0.472*\"ХАДИС\" + 0.263*\"ПОСЛАННИК\" + -0.243*\"КОРАН\" + -0.230*\"ЧЕЛОВЕК\" + -0.200*\"ИМАМ\" + 0.181*\"АБА\" + 0.169*\"БУХАРЬ\" + -0.146*\"ШИИТ\" + 0.144*\"СКАЗАТЬ\" + -0.144*\"КОТОРЫЙ\"\n"
     ]
    },
    {
     "name": "stderr",
     "output_type": "stream",
     "text": [
      "2016-10-11 23:48:31,477 : INFO : topic #4(226.189): 0.760*\"БРАК\" + 0.259*\"ВРЕМЕННОЙ\" + -0.214*\"КОРАН\" + 0.211*\"ВРЕМЕННЫЙ\" + 0.132*\"ЖЕНЩИНА\" + -0.105*\"АЛЛАХ\" + 0.092*\"ИМАМ\" + 0.088*\"ЗАКЛЮЧАТЬ\" + -0.087*\"ДБАР\" + 0.083*\"ПОСТОЯННЫЙ\"\n"
     ]
    },
    {
     "name": "stderr",
     "output_type": "stream",
     "text": [
      "2016-10-11 23:48:31,503 : INFO : preparing a new chunk of documents\n"
     ]
    },
    {
     "name": "stderr",
     "output_type": "stream",
     "text": [
      "2016-10-11 23:48:31,503 : INFO : using 100 extra samples and 2 power iterations\n"
     ]
    },
    {
     "name": "stderr",
     "output_type": "stream",
     "text": [
      "2016-10-11 23:48:31,505 : INFO : 1st phase: constructing (26996L, 200L) action matrix\n"
     ]
    },
    {
     "name": "stderr",
     "output_type": "stream",
     "text": [
      "2016-10-11 23:48:31,507 : INFO : orthonormalizing (26996L, 200L) action matrix\n"
     ]
    },
    {
     "name": "stderr",
     "output_type": "stream",
     "text": [
      "2016-10-11 23:48:32,019 : INFO : 2nd phase: running dense svd on (200L, 20L) matrix\n"
     ]
    },
    {
     "name": "stderr",
     "output_type": "stream",
     "text": [
      "2016-10-11 23:48:32,040 : INFO : computing the final decomposition\n"
     ]
    },
    {
     "name": "stderr",
     "output_type": "stream",
     "text": [
      "2016-10-11 23:48:32,040 : INFO : keeping 20 factors (discarding 0.000% of energy spectrum)\n"
     ]
    },
    {
     "name": "stderr",
     "output_type": "stream",
     "text": [
      "2016-10-11 23:48:32,051 : INFO : merging projections: (26996L, 100L) + (26996L, 20L)\n"
     ]
    },
    {
     "name": "stderr",
     "output_type": "stream",
     "text": [
      "2016-10-11 23:48:32,092 : INFO : keeping 100 factors (discarding 0.991% of energy spectrum)\n"
     ]
    },
    {
     "name": "stderr",
     "output_type": "stream",
     "text": [
      "2016-10-11 23:48:32,125 : INFO : processed documents up to #320\n"
     ]
    },
    {
     "name": "stderr",
     "output_type": "stream",
     "text": [
      "2016-10-11 23:48:32,128 : INFO : topic #0(828.078): 0.377*\"АЛЛАХ\" + 0.313*\"ХАДИС\" + 0.284*\"ИМАМ\" + 0.223*\"СКАЗАТЬ\" + 0.210*\"КОТОРЫЙ\" + 0.177*\"СВОЙ\" + 0.171*\"ПРОРОК\" + 0.167*\"ЧЕЛОВЕК\" + 0.166*\"КОРАН\" + 0.166*\"КНИГА\"\n"
     ]
    },
    {
     "name": "stderr",
     "output_type": "stream",
     "text": [
      "2016-10-11 23:48:32,128 : INFO : topic #1(302.470): 0.525*\"АЛЛАХ\" + -0.431*\"ХАДИС\" + 0.278*\"ПОСЛАННИК\" + -0.254*\"КНИГА\" + -0.178*\"КОРАН\" + -0.156*\"ИМАМ\" + 0.137*\"ДОЧЬ\" + 0.132*\"ЧЕЛОВЕК\" + 0.122*\"ДБАР\" + 0.121*\"СКАЗАТЬ\"\n"
     ]
    },
    {
     "name": "stderr",
     "output_type": "stream",
     "text": [
      "2016-10-11 23:48:32,130 : INFO : topic #2(277.354): -0.466*\"БРАК\" + 0.446*\"ИМАМ\" + -0.282*\"АЯТ\" + -0.244*\"КОРАН\" + -0.164*\"ЖЕНЩИНА\" + -0.157*\"ВРЕМЕННОЙ\" + 0.144*\"КНИГА\" + 0.116*\"ПРОРОК\" + -0.112*\"ЗАПРЕТИТЬ\" + -0.111*\"ВРЕМЕННЫЙ\"\n"
     ]
    },
    {
     "name": "stderr",
     "output_type": "stream",
     "text": [
      "2016-10-11 23:48:32,131 : INFO : topic #3(259.737): 0.436*\"ХАДИС\" + -0.395*\"КОРАН\" + 0.266*\"ПОСЛАННИК\" + -0.222*\"АЯТ\" + -0.187*\"ЧЕЛОВЕК\" + -0.177*\"КОТОРЫЙ\" + 0.148*\"ХАДЖ\" + 0.141*\"ЗАПРЕТ\" + 0.140*\"БУХАРЬ\" + 0.137*\"УМАР\"\n"
     ]
    },
    {
     "name": "stderr",
     "output_type": "stream",
     "text": [
      "2016-10-11 23:48:32,131 : INFO : topic #4(244.924): -0.533*\"БРАК\" + 0.399*\"КОРАН\" + -0.337*\"ИМАМ\" + -0.166*\"ВРЕМЕННОЙ\" + -0.137*\"ВРЕМЕННЫЙ\" + 0.136*\"АЛЛАХ\" + -0.134*\"ЖЕНЩИНА\" + 0.118*\"ХАДИС\" + 0.115*\"ДБАР\" + -0.101*\"ОТВЕТ\"\n"
     ]
    },
    {
     "name": "stderr",
     "output_type": "stream",
     "text": [
      "2016-10-11 23:48:32,157 : INFO : preparing a new chunk of documents\n"
     ]
    },
    {
     "name": "stderr",
     "output_type": "stream",
     "text": [
      "2016-10-11 23:48:32,157 : INFO : using 100 extra samples and 2 power iterations\n"
     ]
    },
    {
     "name": "stderr",
     "output_type": "stream",
     "text": [
      "2016-10-11 23:48:32,158 : INFO : 1st phase: constructing (26996L, 200L) action matrix\n"
     ]
    },
    {
     "name": "stderr",
     "output_type": "stream",
     "text": [
      "2016-10-11 23:48:32,161 : INFO : orthonormalizing (26996L, 200L) action matrix\n"
     ]
    },
    {
     "name": "stderr",
     "output_type": "stream",
     "text": [
      "2016-10-11 23:48:32,668 : INFO : 2nd phase: running dense svd on (200L, 20L) matrix\n"
     ]
    },
    {
     "name": "stderr",
     "output_type": "stream",
     "text": [
      "2016-10-11 23:48:32,687 : INFO : computing the final decomposition\n"
     ]
    },
    {
     "name": "stderr",
     "output_type": "stream",
     "text": [
      "2016-10-11 23:48:32,687 : INFO : keeping 18 factors (discarding 0.000% of energy spectrum)\n"
     ]
    },
    {
     "name": "stderr",
     "output_type": "stream",
     "text": [
      "2016-10-11 23:48:32,697 : INFO : merging projections: (26996L, 100L) + (26996L, 18L)\n"
     ]
    },
    {
     "name": "stderr",
     "output_type": "stream",
     "text": [
      "2016-10-11 23:48:32,736 : INFO : keeping 100 factors (discarding 0.923% of energy spectrum)\n"
     ]
    },
    {
     "name": "stderr",
     "output_type": "stream",
     "text": [
      "2016-10-11 23:48:32,773 : INFO : processed documents up to #340\n"
     ]
    },
    {
     "name": "stderr",
     "output_type": "stream",
     "text": [
      "2016-10-11 23:48:32,773 : INFO : topic #0(863.868): 0.387*\"АЛЛАХ\" + 0.308*\"ХАДИС\" + 0.274*\"ИМАМ\" + 0.234*\"СКАЗАТЬ\" + 0.210*\"КОТОРЫЙ\" + 0.177*\"СВОЙ\" + 0.171*\"ПРОРОК\" + 0.166*\"ПОСЛАННИК\" + 0.164*\"ЧЕЛОВЕК\" + 0.162*\"КНИГА\"\n"
     ]
    },
    {
     "name": "stderr",
     "output_type": "stream",
     "text": [
      "2016-10-11 23:48:32,775 : INFO : topic #1(310.626): 0.543*\"АЛЛАХ\" + -0.367*\"ХАДИС\" + 0.304*\"ПОСЛАННИК\" + -0.224*\"КНИГА\" + -0.200*\"ИМАМ\" + -0.195*\"КОРАН\" + 0.158*\"СКАЗАТЬ\" + 0.134*\"ДОЧЬ\" + 0.119*\"УСМАН\" + -0.118*\"ШИИТ\"\n"
     ]
    },
    {
     "name": "stderr",
     "output_type": "stream",
     "text": [
      "2016-10-11 23:48:32,776 : INFO : topic #2(287.660): -0.499*\"БРАК\" + 0.395*\"ИМАМ\" + -0.326*\"АЯТ\" + -0.207*\"КОРАН\" + -0.179*\"ЖЕНЩИНА\" + 0.168*\"КНИГА\" + -0.161*\"ВРЕМЕННОЙ\" + 0.127*\"ПРОРОК\" + -0.113*\"ГОВОРИТЬ\" + -0.109*\"ВРЕМЕННЫЙ\"\n"
     ]
    },
    {
     "name": "stderr",
     "output_type": "stream",
     "text": [
      "2016-10-11 23:48:32,776 : INFO : topic #3(267.977): -0.504*\"ХАДИС\" + 0.241*\"ИМАМ\" + -0.213*\"ПОСЛАННИК\" + 0.209*\"ЧЕЛОВЕК\" + 0.207*\"КОРАН\" + -0.185*\"БУХАРЬ\" + 0.165*\"АЯТ\" + -0.158*\"СКАЗАТЬ\" + -0.155*\"АБА\" + -0.150*\"УМАР\"\n"
     ]
    },
    {
     "name": "stderr",
     "output_type": "stream",
     "text": [
      "2016-10-11 23:48:32,778 : INFO : topic #4(249.995): 0.528*\"КОРАН\" + -0.442*\"БРАК\" + -0.315*\"ИМАМ\" + 0.140*\"АЯТ\" + -0.138*\"ВРЕМЕННОЙ\" + -0.138*\"ЖЕНЩИНА\" + 0.134*\"СУРА\" + -0.111*\"ВРЕМЕННЫЙ\" + 0.103*\"ДБАР\" + -0.096*\"ХАДЖ\"\n"
     ]
    },
    {
     "name": "stderr",
     "output_type": "stream",
     "text": [
      "2016-10-11 23:48:32,809 : INFO : preparing a new chunk of documents\n"
     ]
    },
    {
     "name": "stderr",
     "output_type": "stream",
     "text": [
      "2016-10-11 23:48:32,811 : INFO : using 100 extra samples and 2 power iterations\n"
     ]
    },
    {
     "name": "stderr",
     "output_type": "stream",
     "text": [
      "2016-10-11 23:48:32,811 : INFO : 1st phase: constructing (26996L, 200L) action matrix\n"
     ]
    },
    {
     "name": "stderr",
     "output_type": "stream",
     "text": [
      "2016-10-11 23:48:32,815 : INFO : orthonormalizing (26996L, 200L) action matrix\n"
     ]
    },
    {
     "name": "stderr",
     "output_type": "stream",
     "text": [
      "2016-10-11 23:48:33,380 : INFO : 2nd phase: running dense svd on (200L, 20L) matrix\n"
     ]
    },
    {
     "name": "stderr",
     "output_type": "stream",
     "text": [
      "2016-10-11 23:48:33,401 : INFO : computing the final decomposition\n"
     ]
    },
    {
     "name": "stderr",
     "output_type": "stream",
     "text": [
      "2016-10-11 23:48:33,401 : INFO : keeping 17 factors (discarding 0.000% of energy spectrum)\n"
     ]
    },
    {
     "name": "stderr",
     "output_type": "stream",
     "text": [
      "2016-10-11 23:48:33,411 : INFO : merging projections: (26996L, 100L) + (26996L, 17L)\n"
     ]
    },
    {
     "name": "stderr",
     "output_type": "stream",
     "text": [
      "2016-10-11 23:48:33,453 : INFO : keeping 100 factors (discarding 0.967% of energy spectrum)\n"
     ]
    },
    {
     "name": "stderr",
     "output_type": "stream",
     "text": [
      "2016-10-11 23:48:33,489 : INFO : processed documents up to #360\n"
     ]
    },
    {
     "name": "stderr",
     "output_type": "stream",
     "text": [
      "2016-10-11 23:48:33,490 : INFO : topic #0(905.528): 0.388*\"АЛЛАХ\" + 0.292*\"ХАДИС\" + 0.271*\"ИМАМ\" + 0.249*\"СКАЗАТЬ\" + 0.218*\"КОТОРЫЙ\" + 0.178*\"СВОЙ\" + 0.168*\"ПРОРОК\" + 0.164*\"ЧЕЛОВЕК\" + 0.157*\"КНИГА\" + 0.154*\"ПОСЛАННИК\"\n"
     ]
    },
    {
     "name": "stderr",
     "output_type": "stream",
     "text": [
      "2016-10-11 23:48:33,490 : INFO : topic #1(321.629): 0.572*\"АЛЛАХ\" + -0.340*\"ХАДИС\" + 0.267*\"ПОСЛАННИК\" + -0.216*\"КНИГА\" + -0.209*\"КОРАН\" + 0.208*\"СКАЗАТЬ\" + -0.160*\"ИМАМ\" + -0.126*\"ШИИТ\" + 0.117*\"ДОЧЬ\" + -0.111*\"АЯТ\"\n"
     ]
    },
    {
     "name": "stderr",
     "output_type": "stream",
     "text": [
      "2016-10-11 23:48:33,492 : INFO : topic #2(301.078): -0.360*\"АЯТ\" + -0.358*\"НАМАЗ\" + 0.345*\"ИМАМ\" + -0.322*\"БРАК\" + -0.287*\"ВРЕМЯ\" + -0.231*\"КОРАН\" + 0.200*\"ХАДИС\" + 0.183*\"КНИГА\" + -0.116*\"СУРА\" + 0.115*\"ПРОРОК\"\n"
     ]
    },
    {
     "name": "stderr",
     "output_type": "stream",
     "text": [
      "2016-10-11 23:48:33,493 : INFO : topic #3(280.553): -0.427*\"ХАДИС\" + 0.304*\"ИМАМ\" + 0.281*\"НАМАЗ\" + 0.256*\"ВРЕМЯ\" + -0.225*\"БРАК\" + -0.211*\"ПОСЛАННИК\" + -0.153*\"БУХАРЬ\" + 0.147*\"ЧЕЛОВЕК\" + -0.140*\"УМАР\" + -0.128*\"ХАДЖ\"\n"
     ]
    },
    {
     "name": "stderr",
     "output_type": "stream",
     "text": [
      "2016-10-11 23:48:33,493 : INFO : topic #4(261.033): -0.487*\"БРАК\" + 0.430*\"НАМАЗ\" + 0.320*\"ВРЕМЯ\" + 0.264*\"ХАДИС\" + -0.158*\"ЧЕЛОВЕК\" + -0.141*\"ВРЕМЕННОЙ\" + -0.138*\"КОТОРЫЙ\" + -0.133*\"ИМАМ\" + -0.113*\"ВРЕМЕННЫЙ\" + -0.112*\"ЖЕНЩИНА\"\n"
     ]
    },
    {
     "name": "stderr",
     "output_type": "stream",
     "text": [
      "2016-10-11 23:48:33,555 : INFO : preparing a new chunk of documents\n"
     ]
    },
    {
     "name": "stderr",
     "output_type": "stream",
     "text": [
      "2016-10-11 23:48:33,558 : INFO : using 100 extra samples and 2 power iterations\n"
     ]
    },
    {
     "name": "stderr",
     "output_type": "stream",
     "text": [
      "2016-10-11 23:48:33,559 : INFO : 1st phase: constructing (26996L, 200L) action matrix\n"
     ]
    },
    {
     "name": "stderr",
     "output_type": "stream",
     "text": [
      "2016-10-11 23:48:33,562 : INFO : orthonormalizing (26996L, 200L) action matrix\n"
     ]
    },
    {
     "name": "stderr",
     "output_type": "stream",
     "text": [
      "2016-10-11 23:48:34,092 : INFO : 2nd phase: running dense svd on (200L, 20L) matrix\n"
     ]
    },
    {
     "name": "stderr",
     "output_type": "stream",
     "text": [
      "2016-10-11 23:48:34,112 : INFO : computing the final decomposition\n"
     ]
    },
    {
     "name": "stderr",
     "output_type": "stream",
     "text": [
      "2016-10-11 23:48:34,112 : INFO : keeping 5 factors (discarding 0.000% of energy spectrum)\n"
     ]
    },
    {
     "name": "stderr",
     "output_type": "stream",
     "text": [
      "2016-10-11 23:48:34,119 : INFO : merging projections: (26996L, 100L) + (26996L, 5L)\n"
     ]
    },
    {
     "name": "stderr",
     "output_type": "stream",
     "text": [
      "2016-10-11 23:48:34,157 : INFO : keeping 100 factors (discarding 0.136% of energy spectrum)\n"
     ]
    },
    {
     "name": "stderr",
     "output_type": "stream",
     "text": [
      "2016-10-11 23:48:34,190 : INFO : processed documents up to #380\n"
     ]
    },
    {
     "name": "stderr",
     "output_type": "stream",
     "text": [
      "2016-10-11 23:48:34,191 : INFO : topic #0(1172.070): 0.433*\"АЛЛАХ\" + 0.323*\"ЗНАЧЕНИЕ\" + 0.261*\"СВОЙ\" + 0.223*\"СКАЗАТЬ\" + 0.212*\"СЛОВО\" + 0.184*\"КОТОРЫЙ\" + 0.171*\"СВЯТОЙ\" + 0.157*\"ИМАМ\" + 0.153*\"ХАДИС\" + 0.151*\"ВЕЛИК\"\n"
     ]
    },
    {
     "name": "stderr",
     "output_type": "stream",
     "text": [
      "2016-10-11 23:48:34,194 : INFO : topic #1(687.451): -0.416*\"ЗНАЧЕНИЕ\" + 0.304*\"ХАДИС\" + 0.252*\"ИМАМ\" + -0.207*\"СВЯТОЙ\" + -0.197*\"ВЕЛИК\" + 0.155*\"ПРОРОК\" + -0.150*\"СЛОВО\" + 0.147*\"КНИГА\" + 0.135*\"ПОСЛАННИК\" + 0.133*\"КОРАН\"\n"
     ]
    },
    {
     "name": "stderr",
     "output_type": "stream",
     "text": [
      "2016-10-11 23:48:34,194 : INFO : topic #2(310.974): 0.509*\"АЛЛАХ\" + 0.316*\"ПОСЛАННИК\" + -0.273*\"КОРАН\" + -0.204*\"АЯТ\" + 0.201*\"СКАЗАТЬ\" + -0.191*\"ХАДИС\" + -0.161*\"ЗНАЧЕНИЕ\" + -0.145*\"БРАК\" + -0.138*\"КНИГА\" + -0.130*\"ВРЕМЯ\"\n"
     ]
    },
    {
     "name": "stderr",
     "output_type": "stream",
     "text": [
      "2016-10-11 23:48:34,196 : INFO : topic #3(299.853): 0.392*\"ИМАМ\" + -0.331*\"НАМАЗ\" + -0.311*\"АЯТ\" + -0.306*\"БРАК\" + -0.255*\"ВРЕМЯ\" + 0.223*\"КНИГА\" + 0.214*\"ХАДИС\" + -0.189*\"АЛЛАХ\" + -0.152*\"КОРАН\" + -0.125*\"ПОСЛАННИК\"\n"
     ]
    },
    {
     "name": "stderr",
     "output_type": "stream",
     "text": [
      "2016-10-11 23:48:34,197 : INFO : topic #4(279.731): -0.454*\"ХАДИС\" + 0.337*\"НАМАЗ\" + 0.301*\"ВРЕМЯ\" + 0.277*\"ИМАМ\" + -0.200*\"БРАК\" + -0.151*\"ПОСЛАННИК\" + -0.151*\"БУХАРЬ\" + 0.146*\"ЧЕЛОВЕК\" + -0.125*\"ХАДЖ\" + -0.122*\"УМАР\"\n"
     ]
    },
    {
     "name": "stderr",
     "output_type": "stream",
     "text": [
      "2016-10-11 23:48:34,269 : INFO : preparing a new chunk of documents\n"
     ]
    },
    {
     "name": "stderr",
     "output_type": "stream",
     "text": [
      "2016-10-11 23:48:34,272 : INFO : using 100 extra samples and 2 power iterations\n"
     ]
    },
    {
     "name": "stderr",
     "output_type": "stream",
     "text": [
      "2016-10-11 23:48:34,273 : INFO : 1st phase: constructing (26996L, 200L) action matrix\n"
     ]
    },
    {
     "name": "stderr",
     "output_type": "stream",
     "text": [
      "2016-10-11 23:48:34,276 : INFO : orthonormalizing (26996L, 200L) action matrix\n"
     ]
    },
    {
     "name": "stderr",
     "output_type": "stream",
     "text": [
      "2016-10-11 23:48:34,809 : INFO : 2nd phase: running dense svd on (200L, 20L) matrix\n"
     ]
    },
    {
     "name": "stderr",
     "output_type": "stream",
     "text": [
      "2016-10-11 23:48:34,829 : INFO : computing the final decomposition\n"
     ]
    },
    {
     "name": "stderr",
     "output_type": "stream",
     "text": [
      "2016-10-11 23:48:34,829 : INFO : keeping 2 factors (discarding 0.000% of energy spectrum)\n"
     ]
    },
    {
     "name": "stderr",
     "output_type": "stream",
     "text": [
      "2016-10-11 23:48:34,836 : INFO : merging projections: (26996L, 100L) + (26996L, 2L)\n"
     ]
    },
    {
     "name": "stderr",
     "output_type": "stream",
     "text": [
      "2016-10-11 23:48:34,875 : INFO : keeping 98 factors (discarding 0.088% of energy spectrum)\n"
     ]
    },
    {
     "name": "stderr",
     "output_type": "stream",
     "text": [
      "2016-10-11 23:48:34,941 : INFO : processed documents up to #400\n"
     ]
    },
    {
     "name": "stderr",
     "output_type": "stream",
     "text": [
      "2016-10-11 23:48:34,943 : INFO : topic #0(1629.257): 0.428*\"ЗНАЧЕНИЕ\" + 0.395*\"АЛЛАХ\" + 0.266*\"СВОЙ\" + 0.247*\"СЛОВО\" + 0.221*\"СВЯТОЙ\" + 0.200*\"ВЕЛИК\" + 0.182*\"СКАЗАТЬ\" + 0.145*\"КОТОРЫЙ\" + 0.139*\"ТОТ\" + 0.133*\"ИМЕТЬ\"\n"
     ]
    },
    {
     "name": "stderr",
     "output_type": "stream",
     "text": [
      "2016-10-11 23:48:34,944 : INFO : topic #1(758.832): 0.325*\"ХАДИС\" + -0.320*\"ЗНАЧЕНИЕ\" + 0.283*\"ИМАМ\" + 0.175*\"ПРОРОК\" + 0.168*\"АЛЛАХ\" + 0.167*\"СКАЗАТЬ\" + 0.162*\"КНИГА\" + 0.160*\"КОТОРЫЙ\" + 0.156*\"ПОСЛАННИК\" + -0.155*\"СВЯТОЙ\"\n"
     ]
    },
    {
     "name": "stderr",
     "output_type": "stream",
     "text": [
      "2016-10-11 23:48:34,944 : INFO : topic #2(311.759): 0.519*\"АЛЛАХ\" + 0.315*\"ПОСЛАННИК\" + -0.268*\"КОРАН\" + -0.207*\"ХАДИС\" + 0.203*\"СКАЗАТЬ\" + -0.194*\"АЯТ\" + -0.153*\"ЗНАЧЕНИЕ\" + -0.148*\"КНИГА\" + -0.138*\"БРАК\" + 0.129*\"ДОЧЬ\"\n"
     ]
    },
    {
     "name": "stderr",
     "output_type": "stream",
     "text": [
      "2016-10-11 23:48:34,946 : INFO : topic #3(300.025): 0.390*\"ИМАМ\" + -0.336*\"НАМАЗ\" + -0.318*\"АЯТ\" + -0.309*\"БРАК\" + -0.259*\"ВРЕМЯ\" + 0.219*\"КНИГА\" + 0.214*\"ХАДИС\" + -0.175*\"АЛЛАХ\" + -0.162*\"КОРАН\" + -0.116*\"ЖЕНЩИНА\"\n"
     ]
    },
    {
     "name": "stderr",
     "output_type": "stream",
     "text": [
      "2016-10-11 23:48:34,947 : INFO : topic #4(279.911): -0.453*\"ХАДИС\" + 0.332*\"НАМАЗ\" + 0.298*\"ВРЕМЯ\" + 0.280*\"ИМАМ\" + -0.199*\"БРАК\" + -0.157*\"ПОСЛАННИК\" + -0.152*\"БУХАРЬ\" + 0.147*\"ЧЕЛОВЕК\" + -0.125*\"ХАДЖ\" + -0.124*\"УМАР\"\n"
     ]
    },
    {
     "name": "stderr",
     "output_type": "stream",
     "text": [
      "2016-10-11 23:48:35,000 : INFO : preparing a new chunk of documents\n"
     ]
    },
    {
     "name": "stderr",
     "output_type": "stream",
     "text": [
      "2016-10-11 23:48:35,003 : INFO : using 100 extra samples and 2 power iterations\n"
     ]
    },
    {
     "name": "stderr",
     "output_type": "stream",
     "text": [
      "2016-10-11 23:48:35,003 : INFO : 1st phase: constructing (26996L, 200L) action matrix\n"
     ]
    },
    {
     "name": "stderr",
     "output_type": "stream",
     "text": [
      "2016-10-11 23:48:35,010 : INFO : orthonormalizing (26996L, 200L) action matrix\n"
     ]
    },
    {
     "name": "stderr",
     "output_type": "stream",
     "text": [
      "2016-10-11 23:48:35,569 : INFO : 2nd phase: running dense svd on (200L, 20L) matrix\n"
     ]
    },
    {
     "name": "stderr",
     "output_type": "stream",
     "text": [
      "2016-10-11 23:48:35,588 : INFO : computing the final decomposition\n"
     ]
    },
    {
     "name": "stderr",
     "output_type": "stream",
     "text": [
      "2016-10-11 23:48:35,589 : INFO : keeping 19 factors (discarding 0.000% of energy spectrum)\n"
     ]
    },
    {
     "name": "stderr",
     "output_type": "stream",
     "text": [
      "2016-10-11 23:48:35,599 : INFO : merging projections: (26996L, 98L) + (26996L, 19L)\n"
     ]
    },
    {
     "name": "stderr",
     "output_type": "stream",
     "text": [
      "2016-10-11 23:48:35,640 : INFO : keeping 100 factors (discarding 0.406% of energy spectrum)\n"
     ]
    },
    {
     "name": "stderr",
     "output_type": "stream",
     "text": [
      "2016-10-11 23:48:35,671 : INFO : processed documents up to #420\n"
     ]
    },
    {
     "name": "stderr",
     "output_type": "stream",
     "text": [
      "2016-10-11 23:48:35,673 : INFO : topic #0(1720.573): 0.419*\"АЛЛАХ\" + 0.406*\"ЗНАЧЕНИЕ\" + 0.263*\"СВОЙ\" + 0.241*\"СЛОВО\" + 0.210*\"СВЯТОЙ\" + 0.201*\"СКАЗАТЬ\" + 0.189*\"ВЕЛИК\" + 0.154*\"КОТОРЫЙ\" + 0.140*\"ТОТ\" + 0.127*\"ИМЕТЬ\"\n"
     ]
    },
    {
     "name": "stderr",
     "output_type": "stream",
     "text": [
      "2016-10-11 23:48:35,674 : INFO : topic #1(833.298): -0.365*\"ЗНАЧЕНИЕ\" + 0.314*\"ИМАМ\" + 0.258*\"ХАДИС\" + 0.214*\"АЛЛАХ\" + 0.201*\"СКАЗАТЬ\" + -0.180*\"СВЯТОЙ\" + -0.172*\"ВЕЛИК\" + 0.166*\"ПОСЛАННИК\" + 0.162*\"ПРОРОК\" + 0.157*\"КОТОРЫЙ\"\n"
     ]
    },
    {
     "name": "stderr",
     "output_type": "stream",
     "text": [
      "2016-10-11 23:48:35,674 : INFO : topic #2(416.955): -0.419*\"АЛЛАХ\" + 0.363*\"ХАДИС\" + 0.227*\"КОРАН\" + -0.212*\"СКАЗАТЬ\" + 0.197*\"КНИГА\" + -0.136*\"КАИМ\" + -0.133*\"ПОСЛАННИК\" + 0.123*\"ЗНАЧЕНИЕ\" + -0.123*\"МИР\" + 0.122*\"БРАК\"\n"
     ]
    },
    {
     "name": "stderr",
     "output_type": "stream",
     "text": [
      "2016-10-11 23:48:35,676 : INFO : topic #3(304.472): 0.453*\"ИМАМ\" + -0.302*\"БРАК\" + -0.269*\"АЯТ\" + -0.256*\"АЛЛАХ\" + -0.235*\"НАМАЗ\" + 0.204*\"КНИГА\" + -0.200*\"ПОСЛАННИК\" + -0.157*\"ВРЕМЯ\" + -0.130*\"ЖЕНЩИНА\" + -0.128*\"КОРАН\"\n"
     ]
    },
    {
     "name": "stderr",
     "output_type": "stream",
     "text": [
      "2016-10-11 23:48:35,677 : INFO : topic #4(292.741): 0.422*\"ХАДИС\" + -0.350*\"НАМАЗ\" + -0.322*\"ВРЕМЯ\" + 0.247*\"ПОСЛАННИК\" + -0.244*\"АЯТ\" + 0.182*\"АЛЛАХ\" + -0.181*\"КОРАН\" + 0.156*\"АБА\" + 0.155*\"БУХАРЬ\" + -0.153*\"ИМАМ\"\n"
     ]
    },
    {
     "name": "stderr",
     "output_type": "stream",
     "text": [
      "2016-10-11 23:48:35,693 : INFO : preparing a new chunk of documents\n"
     ]
    },
    {
     "name": "stderr",
     "output_type": "stream",
     "text": [
      "2016-10-11 23:48:35,694 : INFO : using 100 extra samples and 2 power iterations\n"
     ]
    },
    {
     "name": "stderr",
     "output_type": "stream",
     "text": [
      "2016-10-11 23:48:35,694 : INFO : 1st phase: constructing (26996L, 200L) action matrix\n"
     ]
    },
    {
     "name": "stderr",
     "output_type": "stream",
     "text": [
      "2016-10-11 23:48:35,697 : INFO : orthonormalizing (26996L, 200L) action matrix\n"
     ]
    },
    {
     "name": "stderr",
     "output_type": "stream",
     "text": [
      "2016-10-11 23:48:36,259 : INFO : 2nd phase: running dense svd on (200L, 20L) matrix\n"
     ]
    },
    {
     "name": "stderr",
     "output_type": "stream",
     "text": [
      "2016-10-11 23:48:36,296 : INFO : computing the final decomposition\n"
     ]
    },
    {
     "name": "stderr",
     "output_type": "stream",
     "text": [
      "2016-10-11 23:48:36,298 : INFO : keeping 19 factors (discarding 0.000% of energy spectrum)\n"
     ]
    },
    {
     "name": "stderr",
     "output_type": "stream",
     "text": [
      "2016-10-11 23:48:36,316 : INFO : merging projections: (26996L, 100L) + (26996L, 19L)\n"
     ]
    },
    {
     "name": "stderr",
     "output_type": "stream",
     "text": [
      "2016-10-11 23:48:36,385 : INFO : keeping 100 factors (discarding 0.213% of energy spectrum)\n"
     ]
    },
    {
     "name": "stderr",
     "output_type": "stream",
     "text": [
      "2016-10-11 23:48:36,427 : INFO : processed documents up to #440\n"
     ]
    },
    {
     "name": "stderr",
     "output_type": "stream",
     "text": [
      "2016-10-11 23:48:36,428 : INFO : topic #0(1721.605): 0.419*\"АЛЛАХ\" + 0.405*\"ЗНАЧЕНИЕ\" + 0.263*\"СВОЙ\" + 0.240*\"СЛОВО\" + 0.209*\"СВЯТОЙ\" + 0.201*\"СКАЗАТЬ\" + 0.189*\"ВЕЛИК\" + 0.154*\"КОТОРЫЙ\" + 0.140*\"ТОТ\" + 0.127*\"ИМЕТЬ\"\n"
     ]
    },
    {
     "name": "stderr",
     "output_type": "stream",
     "text": [
      "2016-10-11 23:48:36,430 : INFO : topic #1(836.505): -0.365*\"ЗНАЧЕНИЕ\" + 0.316*\"ИМАМ\" + 0.257*\"ХАДИС\" + 0.210*\"АЛЛАХ\" + 0.200*\"СКАЗАТЬ\" + -0.180*\"СВЯТОЙ\" + -0.172*\"ВЕЛИК\" + 0.164*\"ПОСЛАННИК\" + 0.162*\"ПРОРОК\" + 0.157*\"КОТОРЫЙ\"\n"
     ]
    },
    {
     "name": "stderr",
     "output_type": "stream",
     "text": [
      "2016-10-11 23:48:36,431 : INFO : topic #2(418.298): -0.423*\"АЛЛАХ\" + 0.357*\"ХАДИС\" + 0.226*\"КОРАН\" + -0.216*\"СКАЗАТЬ\" + 0.199*\"КНИГА\" + -0.137*\"ПОСЛАННИК\" + -0.135*\"КАИМ\" + 0.125*\"ЗНАЧЕНИЕ\" + -0.121*\"МИР\" + 0.120*\"УЧЁНЫЙ\"\n"
     ]
    },
    {
     "name": "stderr",
     "output_type": "stream",
     "text": [
      "2016-10-11 23:48:36,433 : INFO : topic #3(307.831): -0.472*\"ИМАМ\" + 0.288*\"БРАК\" + 0.267*\"АЛЛАХ\" + 0.236*\"АЯТ\" + 0.224*\"ПОСЛАННИК\" + 0.189*\"НАМАЗ\" + -0.185*\"КНИГА\" + 0.130*\"ЖЕНЩИНА\" + 0.122*\"УМАР\" + -0.119*\"ШИИТ\"\n"
     ]
    },
    {
     "name": "stderr",
     "output_type": "stream",
     "text": [
      "2016-10-11 23:48:36,434 : INFO : topic #4(293.746): 0.432*\"ХАДИС\" + -0.375*\"НАМАЗ\" + -0.339*\"ВРЕМЯ\" + -0.278*\"АЯТ\" + 0.215*\"ПОСЛАННИК\" + -0.195*\"КОРАН\" + 0.156*\"АБА\" + 0.149*\"БУХАРЬ\" + 0.142*\"АЛЛАХ\" + -0.141*\"КОТОРЫЙ\"\n"
     ]
    },
    {
     "name": "stderr",
     "output_type": "stream",
     "text": [
      "2016-10-11 23:48:36,447 : INFO : preparing a new chunk of documents\n"
     ]
    },
    {
     "name": "stderr",
     "output_type": "stream",
     "text": [
      "2016-10-11 23:48:36,447 : INFO : using 100 extra samples and 2 power iterations\n"
     ]
    },
    {
     "name": "stderr",
     "output_type": "stream",
     "text": [
      "2016-10-11 23:48:36,448 : INFO : 1st phase: constructing (26996L, 200L) action matrix\n"
     ]
    },
    {
     "name": "stderr",
     "output_type": "stream",
     "text": [
      "2016-10-11 23:48:36,450 : INFO : orthonormalizing (26996L, 200L) action matrix\n"
     ]
    },
    {
     "name": "stderr",
     "output_type": "stream",
     "text": [
      "2016-10-11 23:48:37,108 : INFO : 2nd phase: running dense svd on (200L, 20L) matrix\n"
     ]
    },
    {
     "name": "stderr",
     "output_type": "stream",
     "text": [
      "2016-10-11 23:48:37,128 : INFO : computing the final decomposition\n"
     ]
    },
    {
     "name": "stderr",
     "output_type": "stream",
     "text": [
      "2016-10-11 23:48:37,130 : INFO : keeping 18 factors (discarding 0.000% of energy spectrum)\n"
     ]
    },
    {
     "name": "stderr",
     "output_type": "stream",
     "text": [
      "2016-10-11 23:48:37,138 : INFO : merging projections: (26996L, 100L) + (26996L, 18L)\n"
     ]
    },
    {
     "name": "stderr",
     "output_type": "stream",
     "text": [
      "2016-10-11 23:48:37,177 : INFO : keeping 100 factors (discarding 0.117% of energy spectrum)\n"
     ]
    },
    {
     "name": "stderr",
     "output_type": "stream",
     "text": [
      "2016-10-11 23:48:37,213 : INFO : processed documents up to #460\n"
     ]
    },
    {
     "name": "stderr",
     "output_type": "stream",
     "text": [
      "2016-10-11 23:48:37,214 : INFO : topic #0(1722.077): 0.419*\"АЛЛАХ\" + 0.405*\"ЗНАЧЕНИЕ\" + 0.263*\"СВОЙ\" + 0.240*\"СЛОВО\" + 0.209*\"СВЯТОЙ\" + 0.201*\"СКАЗАТЬ\" + 0.189*\"ВЕЛИК\" + 0.155*\"КОТОРЫЙ\" + 0.140*\"ТОТ\" + 0.127*\"ИМЕТЬ\"\n"
     ]
    },
    {
     "name": "stderr",
     "output_type": "stream",
     "text": [
      "2016-10-11 23:48:37,216 : INFO : topic #1(838.779): -0.365*\"ЗНАЧЕНИЕ\" + 0.317*\"ИМАМ\" + 0.257*\"ХАДИС\" + 0.208*\"АЛЛАХ\" + 0.198*\"СКАЗАТЬ\" + -0.180*\"СВЯТОЙ\" + -0.172*\"ВЕЛИК\" + 0.163*\"ПОСЛАННИК\" + 0.162*\"ПРОРОК\" + 0.156*\"КОТОРЫЙ\"\n"
     ]
    },
    {
     "name": "stderr",
     "output_type": "stream",
     "text": [
      "2016-10-11 23:48:37,217 : INFO : topic #2(419.454): -0.427*\"АЛЛАХ\" + 0.353*\"ХАДИС\" + 0.224*\"КОРАН\" + -0.221*\"СКАЗАТЬ\" + 0.199*\"КНИГА\" + -0.140*\"ПОСЛАННИК\" + -0.135*\"КАИМ\" + 0.127*\"ЗНАЧЕНИЕ\" + 0.122*\"УЧЁНЫЙ\" + -0.120*\"МИР\"\n"
     ]
    },
    {
     "name": "stderr",
     "output_type": "stream",
     "text": [
      "2016-10-11 23:48:37,217 : INFO : topic #3(310.594): -0.481*\"ИМАМ\" + 0.278*\"БРАК\" + 0.261*\"АЛЛАХ\" + 0.228*\"ПОСЛАННИК\" + 0.221*\"АЯТ\" + -0.169*\"КНИГА\" + 0.166*\"НАМАЗ\" + 0.130*\"ЖЕНЩИНА\" + 0.128*\"УМАР\" + -0.125*\"ШИИТ\"\n"
     ]
    },
    {
     "name": "stderr",
     "output_type": "stream",
     "text": [
      "2016-10-11 23:48:37,219 : INFO : topic #4(294.131): 0.433*\"ХАДИС\" + -0.386*\"НАМАЗ\" + -0.346*\"ВРЕМЯ\" + -0.291*\"АЯТ\" + -0.199*\"КОРАН\" + 0.198*\"ПОСЛАННИК\" + 0.155*\"АБА\" + 0.146*\"БУХАРЬ\" + -0.134*\"КОТОРЫЙ\" + 0.127*\"КНИГА\"\n"
     ]
    },
    {
     "name": "stderr",
     "output_type": "stream",
     "text": [
      "2016-10-11 23:48:37,243 : INFO : preparing a new chunk of documents\n"
     ]
    },
    {
     "name": "stderr",
     "output_type": "stream",
     "text": [
      "2016-10-11 23:48:37,243 : INFO : using 100 extra samples and 2 power iterations\n"
     ]
    },
    {
     "name": "stderr",
     "output_type": "stream",
     "text": [
      "2016-10-11 23:48:37,244 : INFO : 1st phase: constructing (26996L, 200L) action matrix\n"
     ]
    },
    {
     "name": "stderr",
     "output_type": "stream",
     "text": [
      "2016-10-11 23:48:37,247 : INFO : orthonormalizing (26996L, 200L) action matrix\n"
     ]
    },
    {
     "name": "stderr",
     "output_type": "stream",
     "text": [
      "2016-10-11 23:48:37,834 : INFO : 2nd phase: running dense svd on (200L, 20L) matrix\n"
     ]
    },
    {
     "name": "stderr",
     "output_type": "stream",
     "text": [
      "2016-10-11 23:48:37,868 : INFO : computing the final decomposition\n"
     ]
    },
    {
     "name": "stderr",
     "output_type": "stream",
     "text": [
      "2016-10-11 23:48:37,868 : INFO : keeping 19 factors (discarding 0.000% of energy spectrum)\n"
     ]
    },
    {
     "name": "stderr",
     "output_type": "stream",
     "text": [
      "2016-10-11 23:48:37,888 : INFO : merging projections: (26996L, 100L) + (26996L, 19L)\n"
     ]
    },
    {
     "name": "stderr",
     "output_type": "stream",
     "text": [
      "2016-10-11 23:48:37,953 : INFO : keeping 100 factors (discarding 0.365% of energy spectrum)\n"
     ]
    },
    {
     "name": "stderr",
     "output_type": "stream",
     "text": [
      "2016-10-11 23:48:38,002 : INFO : processed documents up to #480\n"
     ]
    },
    {
     "name": "stderr",
     "output_type": "stream",
     "text": [
      "2016-10-11 23:48:38,003 : INFO : topic #0(1725.025): 0.420*\"АЛЛАХ\" + 0.403*\"ЗНАЧЕНИЕ\" + 0.264*\"СВОЙ\" + 0.240*\"СЛОВО\" + 0.208*\"СВЯТОЙ\" + 0.202*\"СКАЗАТЬ\" + 0.188*\"ВЕЛИК\" + 0.155*\"КОТОРЫЙ\" + 0.139*\"ТОТ\" + 0.127*\"ИМЕТЬ\"\n"
     ]
    },
    {
     "name": "stderr",
     "output_type": "stream",
     "text": [
      "2016-10-11 23:48:38,005 : INFO : topic #1(846.436): -0.366*\"ЗНАЧЕНИЕ\" + 0.318*\"ИМАМ\" + 0.258*\"ХАДИС\" + 0.203*\"АЛЛАХ\" + 0.194*\"СКАЗАТЬ\" + -0.180*\"СВЯТОЙ\" + -0.172*\"ВЕЛИК\" + 0.167*\"ПРОРОК\" + 0.160*\"ПОСЛАННИК\" + 0.156*\"КОТОРЫЙ\"\n"
     ]
    },
    {
     "name": "stderr",
     "output_type": "stream",
     "text": [
      "2016-10-11 23:48:38,006 : INFO : topic #2(421.302): -0.433*\"АЛЛАХ\" + 0.343*\"ХАДИС\" + 0.229*\"КОРАН\" + -0.228*\"СКАЗАТЬ\" + 0.199*\"КНИГА\" + -0.146*\"ПОСЛАННИК\" + -0.135*\"КАИМ\" + 0.129*\"ЗНАЧЕНИЕ\" + 0.121*\"УЧЁНЫЙ\" + -0.119*\"МИР\"\n"
     ]
    },
    {
     "name": "stderr",
     "output_type": "stream",
     "text": [
      "2016-10-11 23:48:38,007 : INFO : topic #3(316.162): -0.503*\"ИМАМ\" + 0.273*\"АЛЛАХ\" + 0.244*\"ПОСЛАННИК\" + 0.240*\"БРАК\" + 0.176*\"АЯТ\" + 0.143*\"СКАЗАТЬ\" + 0.139*\"УМАР\" + -0.133*\"КНИГА\" + -0.127*\"ШИИТ\" + 0.126*\"ХАДИС\"\n"
     ]
    },
    {
     "name": "stderr",
     "output_type": "stream",
     "text": [
      "2016-10-11 23:48:38,009 : INFO : topic #4(298.331): 0.432*\"ХАДИС\" + -0.380*\"НАМАЗ\" + -0.337*\"ВРЕМЯ\" + -0.322*\"АЯТ\" + -0.236*\"КОРАН\" + -0.173*\"БРАК\" + 0.163*\"КНИГА\" + 0.153*\"ПОСЛАННИК\" + 0.146*\"АБА\" + -0.137*\"КОТОРЫЙ\"\n"
     ]
    },
    {
     "name": "stderr",
     "output_type": "stream",
     "text": [
      "2016-10-11 23:48:38,025 : INFO : preparing a new chunk of documents\n"
     ]
    },
    {
     "name": "stderr",
     "output_type": "stream",
     "text": [
      "2016-10-11 23:48:38,026 : INFO : using 100 extra samples and 2 power iterations\n"
     ]
    },
    {
     "name": "stderr",
     "output_type": "stream",
     "text": [
      "2016-10-11 23:48:38,026 : INFO : 1st phase: constructing (26996L, 200L) action matrix\n"
     ]
    },
    {
     "name": "stderr",
     "output_type": "stream",
     "text": [
      "2016-10-11 23:48:38,029 : INFO : orthonormalizing (26996L, 200L) action matrix\n"
     ]
    },
    {
     "name": "stderr",
     "output_type": "stream",
     "text": [
      "2016-10-11 23:48:38,683 : INFO : 2nd phase: running dense svd on (200L, 20L) matrix\n"
     ]
    },
    {
     "name": "stderr",
     "output_type": "stream",
     "text": [
      "2016-10-11 23:48:38,703 : INFO : computing the final decomposition\n"
     ]
    },
    {
     "name": "stderr",
     "output_type": "stream",
     "text": [
      "2016-10-11 23:48:38,703 : INFO : keeping 19 factors (discarding 0.000% of energy spectrum)\n"
     ]
    },
    {
     "name": "stderr",
     "output_type": "stream",
     "text": [
      "2016-10-11 23:48:38,713 : INFO : merging projections: (26996L, 100L) + (26996L, 19L)\n"
     ]
    },
    {
     "name": "stderr",
     "output_type": "stream",
     "text": [
      "2016-10-11 23:48:38,752 : INFO : keeping 100 factors (discarding 0.165% of energy spectrum)\n"
     ]
    },
    {
     "name": "stderr",
     "output_type": "stream",
     "text": [
      "2016-10-11 23:48:38,786 : INFO : processed documents up to #500\n"
     ]
    },
    {
     "name": "stderr",
     "output_type": "stream",
     "text": [
      "2016-10-11 23:48:38,786 : INFO : topic #0(1726.044): 0.420*\"АЛЛАХ\" + 0.402*\"ЗНАЧЕНИЕ\" + 0.264*\"СВОЙ\" + 0.240*\"СЛОВО\" + 0.208*\"СВЯТОЙ\" + 0.202*\"СКАЗАТЬ\" + 0.188*\"ВЕЛИК\" + 0.156*\"КОТОРЫЙ\" + 0.139*\"ТОТ\" + 0.127*\"ИМЕТЬ\"\n"
     ]
    },
    {
     "name": "stderr",
     "output_type": "stream",
     "text": [
      "2016-10-11 23:48:38,788 : INFO : topic #1(851.127): -0.365*\"ЗНАЧЕНИЕ\" + 0.319*\"ИМАМ\" + 0.259*\"ХАДИС\" + 0.199*\"АЛЛАХ\" + 0.190*\"СКАЗАТЬ\" + -0.180*\"СВЯТОЙ\" + -0.172*\"ВЕЛИК\" + 0.168*\"ПРОРОК\" + 0.158*\"ПОСЛАННИК\" + 0.154*\"КОТОРЫЙ\"\n"
     ]
    },
    {
     "name": "stderr",
     "output_type": "stream",
     "text": [
      "2016-10-11 23:48:38,789 : INFO : topic #2(423.709): -0.436*\"АЛЛАХ\" + 0.337*\"ХАДИС\" + -0.235*\"СКАЗАТЬ\" + 0.228*\"КОРАН\" + 0.198*\"КНИГА\" + -0.150*\"ПОСЛАННИК\" + -0.134*\"КАИМ\" + 0.134*\"ЗНАЧЕНИЕ\" + 0.121*\"УЧЁНЫЙ\" + -0.117*\"МИР\"\n"
     ]
    },
    {
     "name": "stderr",
     "output_type": "stream",
     "text": [
      "2016-10-11 23:48:38,789 : INFO : topic #3(319.101): -0.504*\"ИМАМ\" + 0.252*\"АЛЛАХ\" + 0.239*\"БРАК\" + 0.235*\"ПОСЛАННИК\" + 0.175*\"АЯТ\" + 0.146*\"СКАЗАТЬ\" + 0.141*\"УМАР\" + 0.140*\"ХАДИС\" + -0.139*\"СТАТЬЯ\" + -0.124*\"ШИИТ\"\n"
     ]
    },
    {
     "name": "stderr",
     "output_type": "stream",
     "text": [
      "2016-10-11 23:48:38,790 : INFO : topic #4(298.734): 0.428*\"ХАДИС\" + -0.379*\"НАМАЗ\" + -0.337*\"ВРЕМЯ\" + -0.325*\"АЯТ\" + -0.239*\"КОРАН\" + -0.176*\"БРАК\" + 0.165*\"КНИГА\" + 0.151*\"ПОСЛАННИК\" + 0.147*\"АБА\" + -0.136*\"КОТОРЫЙ\"\n"
     ]
    },
    {
     "name": "stderr",
     "output_type": "stream",
     "text": [
      "2016-10-11 23:48:38,813 : INFO : preparing a new chunk of documents\n"
     ]
    },
    {
     "name": "stderr",
     "output_type": "stream",
     "text": [
      "2016-10-11 23:48:38,815 : INFO : using 100 extra samples and 2 power iterations\n"
     ]
    },
    {
     "name": "stderr",
     "output_type": "stream",
     "text": [
      "2016-10-11 23:48:38,815 : INFO : 1st phase: constructing (26996L, 200L) action matrix\n"
     ]
    },
    {
     "name": "stderr",
     "output_type": "stream",
     "text": [
      "2016-10-11 23:48:38,819 : INFO : orthonormalizing (26996L, 200L) action matrix\n"
     ]
    },
    {
     "name": "stderr",
     "output_type": "stream",
     "text": [
      "2016-10-11 23:48:39,371 : INFO : 2nd phase: running dense svd on (200L, 20L) matrix\n"
     ]
    },
    {
     "name": "stderr",
     "output_type": "stream",
     "text": [
      "2016-10-11 23:48:39,391 : INFO : computing the final decomposition\n"
     ]
    },
    {
     "name": "stderr",
     "output_type": "stream",
     "text": [
      "2016-10-11 23:48:39,391 : INFO : keeping 20 factors (discarding 0.000% of energy spectrum)\n"
     ]
    },
    {
     "name": "stderr",
     "output_type": "stream",
     "text": [
      "2016-10-11 23:48:39,401 : INFO : merging projections: (26996L, 100L) + (26996L, 20L)\n"
     ]
    },
    {
     "name": "stderr",
     "output_type": "stream",
     "text": [
      "2016-10-11 23:48:39,440 : INFO : keeping 100 factors (discarding 0.349% of energy spectrum)\n"
     ]
    },
    {
     "name": "stderr",
     "output_type": "stream",
     "text": [
      "2016-10-11 23:48:39,473 : INFO : processed documents up to #520\n"
     ]
    },
    {
     "name": "stderr",
     "output_type": "stream",
     "text": [
      "2016-10-11 23:48:39,473 : INFO : topic #0(1731.079): 0.422*\"АЛЛАХ\" + 0.400*\"ЗНАЧЕНИЕ\" + 0.264*\"СВОЙ\" + 0.238*\"СЛОВО\" + 0.207*\"СВЯТОЙ\" + 0.202*\"СКАЗАТЬ\" + 0.186*\"ВЕЛИК\" + 0.157*\"КОТОРЫЙ\" + 0.139*\"ТОТ\" + 0.126*\"ИМЕТЬ\"\n"
     ]
    },
    {
     "name": "stderr",
     "output_type": "stream",
     "text": [
      "2016-10-11 23:48:39,474 : INFO : topic #1(862.673): -0.367*\"ЗНАЧЕНИЕ\" + 0.322*\"ИМАМ\" + 0.258*\"ХАДИС\" + 0.195*\"АЛЛАХ\" + 0.183*\"СКАЗАТЬ\" + -0.181*\"СВЯТОЙ\" + -0.173*\"ВЕЛИК\" + 0.166*\"ПРОРОК\" + 0.158*\"ПОСЛАННИК\" + 0.153*\"КОТОРЫЙ\"\n"
     ]
    },
    {
     "name": "stderr",
     "output_type": "stream",
     "text": [
      "2016-10-11 23:48:39,476 : INFO : topic #2(432.561): -0.445*\"АЛЛАХ\" + 0.327*\"ХАДИС\" + -0.241*\"СКАЗАТЬ\" + 0.215*\"КОРАН\" + 0.195*\"КНИГА\" + -0.164*\"ПОСЛАННИК\" + 0.142*\"ЗНАЧЕНИЕ\" + 0.136*\"СТАТЬЯ\" + -0.128*\"КАИМ\" + 0.124*\"УЧЁНЫЙ\"\n"
     ]
    },
    {
     "name": "stderr",
     "output_type": "stream",
     "text": [
      "2016-10-11 23:48:39,476 : INFO : topic #3(327.807): -0.506*\"ИМАМ\" + -0.243*\"СТАТЬЯ\" + 0.222*\"БРАК\" + 0.208*\"ПОСЛАННИК\" + 0.200*\"АЛЛАХ\" + 0.176*\"АЯТ\" + -0.161*\"ПРОЧЕСТЬ\" + 0.160*\"ХАДИС\" + 0.134*\"УМАР\" + 0.120*\"СКАЗАТЬ\"\n"
     ]
    },
    {
     "name": "stderr",
     "output_type": "stream",
     "text": [
      "2016-10-11 23:48:39,477 : INFO : topic #4(299.211): 0.435*\"ХАДИС\" + -0.373*\"НАМАЗ\" + -0.334*\"ВРЕМЯ\" + -0.320*\"АЯТ\" + -0.240*\"КОРАН\" + -0.170*\"БРАК\" + 0.162*\"КНИГА\" + 0.154*\"ПОСЛАННИК\" + 0.148*\"АБА\" + -0.142*\"КОТОРЫЙ\"\n"
     ]
    },
    {
     "name": "stderr",
     "output_type": "stream",
     "text": [
      "2016-10-11 23:48:39,515 : INFO : preparing a new chunk of documents\n"
     ]
    },
    {
     "name": "stderr",
     "output_type": "stream",
     "text": [
      "2016-10-11 23:48:39,517 : INFO : using 100 extra samples and 2 power iterations\n"
     ]
    },
    {
     "name": "stderr",
     "output_type": "stream",
     "text": [
      "2016-10-11 23:48:39,517 : INFO : 1st phase: constructing (26996L, 200L) action matrix\n"
     ]
    },
    {
     "name": "stderr",
     "output_type": "stream",
     "text": [
      "2016-10-11 23:48:39,523 : INFO : orthonormalizing (26996L, 200L) action matrix\n"
     ]
    },
    {
     "name": "stderr",
     "output_type": "stream",
     "text": [
      "2016-10-11 23:48:40,092 : INFO : 2nd phase: running dense svd on (200L, 20L) matrix\n"
     ]
    },
    {
     "name": "stderr",
     "output_type": "stream",
     "text": [
      "2016-10-11 23:48:40,112 : INFO : computing the final decomposition\n"
     ]
    },
    {
     "name": "stderr",
     "output_type": "stream",
     "text": [
      "2016-10-11 23:48:40,114 : INFO : keeping 19 factors (discarding 0.000% of energy spectrum)\n"
     ]
    },
    {
     "name": "stderr",
     "output_type": "stream",
     "text": [
      "2016-10-11 23:48:40,125 : INFO : merging projections: (26996L, 100L) + (26996L, 19L)\n"
     ]
    },
    {
     "name": "stderr",
     "output_type": "stream",
     "text": [
      "2016-10-11 23:48:40,167 : INFO : keeping 100 factors (discarding 0.589% of energy spectrum)\n"
     ]
    },
    {
     "name": "stderr",
     "output_type": "stream",
     "text": [
      "2016-10-11 23:48:40,200 : INFO : processed documents up to #540\n"
     ]
    },
    {
     "name": "stderr",
     "output_type": "stream",
     "text": [
      "2016-10-11 23:48:40,201 : INFO : topic #0(1779.606): 0.445*\"АЛЛАХ\" + 0.375*\"ЗНАЧЕНИЕ\" + 0.261*\"СВОЙ\" + 0.228*\"СЛОВО\" + 0.207*\"СКАЗАТЬ\" + 0.194*\"СВЯТОЙ\" + 0.174*\"ВЕЛИК\" + 0.167*\"КОТОРЫЙ\" + 0.140*\"ТОТ\" + 0.133*\"ЧЕЛОВЕК\"\n"
     ]
    },
    {
     "name": "stderr",
     "output_type": "stream",
     "text": [
      "2016-10-11 23:48:40,203 : INFO : topic #1(927.316): -0.395*\"ЗНАЧЕНИЕ\" + 0.288*\"ИМАМ\" + 0.243*\"ХАДИС\" + 0.204*\"АЛЛАХ\" + -0.195*\"СВЯТОЙ\" + -0.187*\"ВЕЛИК\" + 0.184*\"ПРОРОК\" + 0.171*\"ПОСЛАННИК\" + 0.152*\"СКАЗАТЬ\" + 0.146*\"КОТОРЫЙ\"\n"
     ]
    },
    {
     "name": "stderr",
     "output_type": "stream",
     "text": [
      "2016-10-11 23:48:40,203 : INFO : topic #2(445.053): -0.486*\"АЛЛАХ\" + 0.345*\"ХАДИС\" + 0.220*\"КНИГА\" + -0.184*\"СКАЗАТЬ\" + 0.161*\"КОРАН\" + -0.155*\"ПОСЛАННИК\" + 0.144*\"СТАТЬЯ\" + 0.139*\"ЗНАЧЕНИЕ\" + 0.121*\"ШИИТ\" + 0.120*\"УЧЁНЫЙ\"\n"
     ]
    },
    {
     "name": "stderr",
     "output_type": "stream",
     "text": [
      "2016-10-11 23:48:40,204 : INFO : topic #3(363.333): -0.482*\"ИМАМ\" + 0.250*\"АЯТ\" + 0.213*\"КОРАН\" + 0.204*\"АЛЛАХ\" + 0.156*\"ПОСЛАННИК\" + -0.149*\"СТАТЬЯ\" + 0.133*\"ВЛАСТЬ\" + 0.120*\"ОБЛАДАТЕЛЬ\" + -0.113*\"ШИИТ\" + -0.111*\"ГОД\"\n"
     ]
    },
    {
     "name": "stderr",
     "output_type": "stream",
     "text": [
      "2016-10-11 23:48:40,206 : INFO : topic #4(320.341): 0.345*\"ХАДИС\" + -0.343*\"АЯТ\" + -0.314*\"КОРАН\" + 0.221*\"ПОСЛАННИК\" + 0.211*\"СКАЗАТЬ\" + 0.199*\"АБА\" + 0.178*\"УМАР\" + -0.173*\"НАМАЗ\" + -0.156*\"СУРА\" + 0.148*\"БУХАРЬ\"\n"
     ]
    },
    {
     "name": "stderr",
     "output_type": "stream",
     "text": [
      "2016-10-11 23:48:40,239 : INFO : preparing a new chunk of documents\n"
     ]
    },
    {
     "name": "stderr",
     "output_type": "stream",
     "text": [
      "2016-10-11 23:48:40,240 : INFO : using 100 extra samples and 2 power iterations\n"
     ]
    },
    {
     "name": "stderr",
     "output_type": "stream",
     "text": [
      "2016-10-11 23:48:40,240 : INFO : 1st phase: constructing (26996L, 200L) action matrix\n"
     ]
    },
    {
     "name": "stderr",
     "output_type": "stream",
     "text": [
      "2016-10-11 23:48:40,246 : INFO : orthonormalizing (26996L, 200L) action matrix\n"
     ]
    },
    {
     "name": "stderr",
     "output_type": "stream",
     "text": [
      "2016-10-11 23:48:40,819 : INFO : 2nd phase: running dense svd on (200L, 20L) matrix\n"
     ]
    },
    {
     "name": "stderr",
     "output_type": "stream",
     "text": [
      "2016-10-11 23:48:40,839 : INFO : computing the final decomposition\n"
     ]
    },
    {
     "name": "stderr",
     "output_type": "stream",
     "text": [
      "2016-10-11 23:48:40,839 : INFO : keeping 18 factors (discarding 0.000% of energy spectrum)\n"
     ]
    },
    {
     "name": "stderr",
     "output_type": "stream",
     "text": [
      "2016-10-11 23:48:40,849 : INFO : merging projections: (26996L, 100L) + (26996L, 18L)\n"
     ]
    },
    {
     "name": "stderr",
     "output_type": "stream",
     "text": [
      "2016-10-11 23:48:40,890 : INFO : keeping 100 factors (discarding 0.600% of energy spectrum)\n"
     ]
    },
    {
     "name": "stderr",
     "output_type": "stream",
     "text": [
      "2016-10-11 23:48:40,923 : INFO : processed documents up to #560\n"
     ]
    },
    {
     "name": "stderr",
     "output_type": "stream",
     "text": [
      "2016-10-11 23:48:40,924 : INFO : topic #0(1801.278): 0.446*\"АЛЛАХ\" + 0.363*\"ЗНАЧЕНИЕ\" + 0.264*\"СВОЙ\" + 0.224*\"СЛОВО\" + 0.209*\"СКАЗАТЬ\" + 0.189*\"СВЯТОЙ\" + 0.174*\"КОТОРЫЙ\" + 0.169*\"ВЕЛИК\" + 0.141*\"ТОТ\" + 0.139*\"ЧЕЛОВЕК\"\n"
     ]
    },
    {
     "name": "stderr",
     "output_type": "stream",
     "text": [
      "2016-10-11 23:48:40,924 : INFO : topic #1(958.760): -0.405*\"ЗНАЧЕНИЕ\" + 0.272*\"ИМАМ\" + 0.237*\"ХАДИС\" + 0.228*\"ПРОРОК\" + -0.199*\"СВЯТОЙ\" + -0.192*\"ВЕЛИК\" + 0.171*\"АЛЛАХ\" + 0.158*\"ПОСЛАННИК\" + 0.150*\"КОТОРЫЙ\" + -0.144*\"СЛОВО\"\n"
     ]
    },
    {
     "name": "stderr",
     "output_type": "stream",
     "text": [
      "2016-10-11 23:48:40,926 : INFO : topic #2(458.709): -0.516*\"АЛЛАХ\" + 0.347*\"ХАДИС\" + 0.223*\"КНИГА\" + -0.189*\"СКАЗАТЬ\" + -0.150*\"ПОСЛАННИК\" + 0.149*\"КОРАН\" + 0.144*\"ЗНАЧЕНИЕ\" + -0.135*\"МИР\" + 0.128*\"СТАТЬЯ\" + 0.116*\"ШИИТ\"\n"
     ]
    },
    {
     "name": "stderr",
     "output_type": "stream",
     "text": [
      "2016-10-11 23:48:40,927 : INFO : topic #3(402.881): -0.572*\"ПРОРОК\" + -0.277*\"ДБАР\" + 0.224*\"ХАДИС\" + 0.204*\"ИМАМ\" + -0.177*\"МИССИЯ\" + -0.164*\"СВОЙ\" + 0.147*\"АЛЛАХ\" + -0.138*\"КОТОРЫЙ\" + -0.123*\"ЧЕЛОВЕК\" + -0.104*\"ВЛАСТЬ\"\n"
     ]
    },
    {
     "name": "stderr",
     "output_type": "stream",
     "text": [
      "2016-10-11 23:48:40,927 : INFO : topic #4(369.820): -0.469*\"ИМАМ\" + 0.241*\"АЛЛАХ\" + 0.232*\"ХАДИС\" + 0.231*\"АЯТ\" + 0.194*\"КОРАН\" + 0.173*\"ПОСЛАННИК\" + -0.137*\"СТАТЬЯ\" + -0.117*\"ШИИТ\" + -0.115*\"ГОД\" + -0.106*\"ХУСЕЙН\"\n"
     ]
    },
    {
     "name": "stderr",
     "output_type": "stream",
     "text": [
      "2016-10-11 23:48:40,957 : INFO : preparing a new chunk of documents\n"
     ]
    },
    {
     "name": "stderr",
     "output_type": "stream",
     "text": [
      "2016-10-11 23:48:40,959 : INFO : using 100 extra samples and 2 power iterations\n"
     ]
    },
    {
     "name": "stderr",
     "output_type": "stream",
     "text": [
      "2016-10-11 23:48:40,959 : INFO : 1st phase: constructing (26996L, 200L) action matrix\n"
     ]
    },
    {
     "name": "stderr",
     "output_type": "stream",
     "text": [
      "2016-10-11 23:48:40,963 : INFO : orthonormalizing (26996L, 200L) action matrix\n"
     ]
    },
    {
     "name": "stderr",
     "output_type": "stream",
     "text": [
      "2016-10-11 23:48:41,546 : INFO : 2nd phase: running dense svd on (200L, 20L) matrix\n"
     ]
    },
    {
     "name": "stderr",
     "output_type": "stream",
     "text": [
      "2016-10-11 23:48:41,565 : INFO : computing the final decomposition\n"
     ]
    },
    {
     "name": "stderr",
     "output_type": "stream",
     "text": [
      "2016-10-11 23:48:41,566 : INFO : keeping 19 factors (discarding 0.000% of energy spectrum)\n"
     ]
    },
    {
     "name": "stderr",
     "output_type": "stream",
     "text": [
      "2016-10-11 23:48:41,575 : INFO : merging projections: (26996L, 100L) + (26996L, 19L)\n"
     ]
    },
    {
     "name": "stderr",
     "output_type": "stream",
     "text": [
      "2016-10-11 23:48:41,618 : INFO : keeping 100 factors (discarding 0.403% of energy spectrum)\n"
     ]
    },
    {
     "name": "stderr",
     "output_type": "stream",
     "text": [
      "2016-10-11 23:48:41,653 : INFO : processed documents up to #580\n"
     ]
    },
    {
     "name": "stderr",
     "output_type": "stream",
     "text": [
      "2016-10-11 23:48:41,654 : INFO : topic #0(1861.918): 0.460*\"АЛЛАХ\" + 0.334*\"ЗНАЧЕНИЕ\" + 0.260*\"СВОЙ\" + 0.215*\"СКАЗАТЬ\" + 0.212*\"СЛОВО\" + 0.186*\"КОТОРЫЙ\" + 0.173*\"СВЯТОЙ\" + 0.153*\"ВЕЛИК\" + 0.153*\"ИМАМ\" + 0.144*\"ЧЕЛОВЕК\"\n"
     ]
    },
    {
     "name": "stderr",
     "output_type": "stream",
     "text": [
      "2016-10-11 23:48:41,654 : INFO : topic #1(1031.240): -0.425*\"ЗНАЧЕНИЕ\" + 0.263*\"ИМАМ\" + 0.250*\"ПРОРОК\" + -0.214*\"СВЯТОЙ\" + -0.205*\"ВЕЛИК\" + 0.192*\"ХАДИС\" + 0.170*\"ПОСЛАННИК\" + 0.168*\"АЯТ\" + -0.163*\"СЛОВО\" + 0.144*\"АЛЛАХ\"\n"
     ]
    },
    {
     "name": "stderr",
     "output_type": "stream",
     "text": [
      "2016-10-11 23:48:41,655 : INFO : topic #2(476.715): -0.396*\"ХАДИС\" + 0.385*\"АЛЛАХ\" + -0.254*\"КНИГА\" + 0.191*\"АЯТ\" + -0.187*\"ИМАМ\" + 0.169*\"ПРОРОК\" + -0.161*\"ШИИТ\" + -0.154*\"СТАТЬЯ\" + 0.147*\"ПОСЛАННИК\" + 0.143*\"ДБАР\"\n"
     ]
    },
    {
     "name": "stderr",
     "output_type": "stream",
     "text": [
      "2016-10-11 23:48:41,657 : INFO : topic #3(446.545): 0.356*\"ПРОРОК\" + -0.319*\"АЛЛАХ\" + -0.289*\"ИМАМ\" + 0.274*\"ДБАР\" + -0.230*\"СКАЗАТЬ\" + 0.189*\"АЯТ\" + 0.174*\"КОРАН\" + 0.140*\"ЯВЛЯТЬСЯ\" + 0.130*\"ПРЕДАНИЕ\" + 0.124*\"ЗНАЧЕНИЕ\"\n"
     ]
    },
    {
     "name": "stderr",
     "output_type": "stream",
     "text": [
      "2016-10-11 23:48:41,657 : INFO : topic #4(397.693): -0.381*\"ПРОРОК\" + 0.349*\"АЯТ\" + 0.274*\"ХАДИС\" + 0.242*\"АЛЛАХ\" + -0.222*\"ИМАМ\" + 0.203*\"КОРАН\" + -0.177*\"СВОЙ\" + -0.172*\"ЧЕЛОВЕК\" + -0.159*\"ДБАР\" + 0.155*\"ПОСЛАННИК\"\n"
     ]
    },
    {
     "name": "stderr",
     "output_type": "stream",
     "text": [
      "2016-10-11 23:48:41,684 : INFO : preparing a new chunk of documents\n"
     ]
    },
    {
     "name": "stderr",
     "output_type": "stream",
     "text": [
      "2016-10-11 23:48:41,686 : INFO : using 100 extra samples and 2 power iterations\n"
     ]
    },
    {
     "name": "stderr",
     "output_type": "stream",
     "text": [
      "2016-10-11 23:48:41,687 : INFO : 1st phase: constructing (26996L, 200L) action matrix\n"
     ]
    },
    {
     "name": "stderr",
     "output_type": "stream",
     "text": [
      "2016-10-11 23:48:41,690 : INFO : orthonormalizing (26996L, 200L) action matrix\n"
     ]
    },
    {
     "name": "stderr",
     "output_type": "stream",
     "text": [
      "2016-10-11 23:48:42,283 : INFO : 2nd phase: running dense svd on (200L, 20L) matrix\n"
     ]
    },
    {
     "name": "stderr",
     "output_type": "stream",
     "text": [
      "2016-10-11 23:48:42,303 : INFO : computing the final decomposition\n"
     ]
    },
    {
     "name": "stderr",
     "output_type": "stream",
     "text": [
      "2016-10-11 23:48:42,305 : INFO : keeping 19 factors (discarding 0.000% of energy spectrum)\n"
     ]
    },
    {
     "name": "stderr",
     "output_type": "stream",
     "text": [
      "2016-10-11 23:48:42,313 : INFO : merging projections: (26996L, 100L) + (26996L, 19L)\n"
     ]
    },
    {
     "name": "stderr",
     "output_type": "stream",
     "text": [
      "2016-10-11 23:48:42,355 : INFO : keeping 100 factors (discarding 0.451% of energy spectrum)\n"
     ]
    },
    {
     "name": "stderr",
     "output_type": "stream",
     "text": [
      "2016-10-11 23:48:42,390 : INFO : processed documents up to #600\n"
     ]
    },
    {
     "name": "stderr",
     "output_type": "stream",
     "text": [
      "2016-10-11 23:48:42,391 : INFO : topic #0(1875.106): 0.463*\"АЛЛАХ\" + 0.328*\"ЗНАЧЕНИЕ\" + 0.260*\"СВОЙ\" + 0.217*\"СКАЗАТЬ\" + 0.209*\"СЛОВО\" + 0.187*\"КОТОРЫЙ\" + 0.170*\"СВЯТОЙ\" + 0.154*\"ИМАМ\" + 0.150*\"ВЕЛИК\" + 0.146*\"ЧЕЛОВЕК\"\n"
     ]
    },
    {
     "name": "stderr",
     "output_type": "stream",
     "text": [
      "2016-10-11 23:48:42,391 : INFO : topic #1(1042.906): -0.430*\"ЗНАЧЕНИЕ\" + 0.253*\"ИМАМ\" + 0.247*\"ПРОРОК\" + -0.217*\"СВЯТОЙ\" + -0.207*\"ВЕЛИК\" + 0.191*\"ХАДИС\" + 0.172*\"ПОСЛАННИК\" + -0.167*\"СЛОВО\" + 0.165*\"АЯТ\" + 0.140*\"АЛЛАХ\"\n"
     ]
    },
    {
     "name": "stderr",
     "output_type": "stream",
     "text": [
      "2016-10-11 23:48:42,392 : INFO : topic #2(479.425): 0.401*\"АЛЛАХ\" + -0.389*\"ХАДИС\" + -0.255*\"КНИГА\" + -0.203*\"ИМАМ\" + 0.198*\"АЯТ\" + -0.161*\"ШИИТ\" + -0.156*\"СТАТЬЯ\" + 0.155*\"ПОСЛАННИК\" + 0.144*\"ПРОРОК\" + 0.131*\"ДБАР\"\n"
     ]
    },
    {
     "name": "stderr",
     "output_type": "stream",
     "text": [
      "2016-10-11 23:48:42,394 : INFO : topic #3(448.912): 0.356*\"ПРОРОК\" + -0.303*\"ИМАМ\" + -0.299*\"АЛЛАХ\" + 0.277*\"ДБАР\" + -0.231*\"СКАЗАТЬ\" + 0.183*\"АЯТ\" + 0.167*\"КОРАН\" + 0.141*\"ЯВЛЯТЬСЯ\" + 0.133*\"ПРЕДАНИЕ\" + 0.125*\"ЗНАЧЕНИЕ\"\n"
     ]
    },
    {
     "name": "stderr",
     "output_type": "stream",
     "text": [
      "2016-10-11 23:48:42,394 : INFO : topic #4(408.006): -0.370*\"ПРОРОК\" + 0.310*\"ХАДИС\" + 0.277*\"АЯТ\" + -0.256*\"ИМАМ\" + 0.248*\"АЛЛАХ\" + 0.177*\"ПОСЛАННИК\" + -0.176*\"ЧЕЛОВЕК\" + -0.175*\"ДБАР\" + -0.171*\"СВОЙ\" + 0.161*\"КОРАН\"\n"
     ]
    },
    {
     "name": "stderr",
     "output_type": "stream",
     "text": [
      "2016-10-11 23:48:42,424 : INFO : preparing a new chunk of documents\n"
     ]
    },
    {
     "name": "stderr",
     "output_type": "stream",
     "text": [
      "2016-10-11 23:48:42,426 : INFO : using 100 extra samples and 2 power iterations\n"
     ]
    },
    {
     "name": "stderr",
     "output_type": "stream",
     "text": [
      "2016-10-11 23:48:42,427 : INFO : 1st phase: constructing (26996L, 200L) action matrix\n"
     ]
    },
    {
     "name": "stderr",
     "output_type": "stream",
     "text": [
      "2016-10-11 23:48:42,430 : INFO : orthonormalizing (26996L, 200L) action matrix\n"
     ]
    },
    {
     "name": "stderr",
     "output_type": "stream",
     "text": [
      "2016-10-11 23:48:43,036 : INFO : 2nd phase: running dense svd on (200L, 20L) matrix\n"
     ]
    },
    {
     "name": "stderr",
     "output_type": "stream",
     "text": [
      "2016-10-11 23:48:43,055 : INFO : computing the final decomposition\n"
     ]
    },
    {
     "name": "stderr",
     "output_type": "stream",
     "text": [
      "2016-10-11 23:48:43,056 : INFO : keeping 20 factors (discarding 0.000% of energy spectrum)\n"
     ]
    },
    {
     "name": "stderr",
     "output_type": "stream",
     "text": [
      "2016-10-11 23:48:43,072 : INFO : merging projections: (26996L, 100L) + (26996L, 20L)\n"
     ]
    },
    {
     "name": "stderr",
     "output_type": "stream",
     "text": [
      "2016-10-11 23:48:43,112 : INFO : keeping 100 factors (discarding 0.489% of energy spectrum)\n"
     ]
    },
    {
     "name": "stderr",
     "output_type": "stream",
     "text": [
      "2016-10-11 23:48:43,150 : INFO : processed documents up to #620\n"
     ]
    },
    {
     "name": "stderr",
     "output_type": "stream",
     "text": [
      "2016-10-11 23:48:43,151 : INFO : topic #0(1885.110): 0.466*\"АЛЛАХ\" + 0.324*\"ЗНАЧЕНИЕ\" + 0.259*\"СВОЙ\" + 0.220*\"СКАЗАТЬ\" + 0.207*\"СЛОВО\" + 0.188*\"КОТОРЫЙ\" + 0.167*\"СВЯТОЙ\" + 0.153*\"ИМАМ\" + 0.148*\"ВЕЛИК\" + 0.147*\"ЧЕЛОВЕК\"\n"
     ]
    },
    {
     "name": "stderr",
     "output_type": "stream",
     "text": [
      "2016-10-11 23:48:43,151 : INFO : topic #1(1048.628): -0.434*\"ЗНАЧЕНИЕ\" + 0.247*\"ИМАМ\" + 0.245*\"ПРОРОК\" + -0.219*\"СВЯТОЙ\" + -0.209*\"ВЕЛИК\" + 0.191*\"ХАДИС\" + 0.173*\"ПОСЛАННИК\" + -0.170*\"СЛОВО\" + 0.162*\"АЯТ\" + 0.141*\"АЛЛАХ\"\n"
     ]
    },
    {
     "name": "stderr",
     "output_type": "stream",
     "text": [
      "2016-10-11 23:48:43,153 : INFO : topic #2(481.644): 0.426*\"АЛЛАХ\" + -0.373*\"ХАДИС\" + -0.254*\"КНИГА\" + -0.212*\"ИМАМ\" + 0.183*\"АЯТ\" + 0.167*\"ПОСЛАННИК\" + -0.163*\"ШИИТ\" + -0.158*\"СТАТЬЯ\" + -0.129*\"ОТВЕТ\" + 0.123*\"ПРОРОК\"\n"
     ]
    },
    {
     "name": "stderr",
     "output_type": "stream",
     "text": [
      "2016-10-11 23:48:43,154 : INFO : topic #3(450.993): 0.378*\"ПРОРОК\" + -0.304*\"АЛЛАХ\" + 0.294*\"ДБАР\" + -0.278*\"ИМАМ\" + -0.238*\"СКАЗАТЬ\" + 0.188*\"АЯТ\" + 0.161*\"КОРАН\" + 0.144*\"ЯВЛЯТЬСЯ\" + 0.136*\"ПРЕДАНИЕ\" + 0.120*\"ЗНАЧЕНИЕ\"\n"
     ]
    },
    {
     "name": "stderr",
     "output_type": "stream",
     "text": [
      "2016-10-11 23:48:43,154 : INFO : topic #4(413.464): 0.362*\"ХАДИС\" + -0.311*\"ПРОРОК\" + -0.307*\"ИМАМ\" + 0.227*\"АЛЛАХ\" + 0.223*\"АЯТ\" + 0.184*\"ПОСЛАННИК\" + -0.183*\"ЧЕЛОВЕК\" + 0.172*\"СТРАНИЦА\" + -0.163*\"СВОЙ\" + -0.155*\"ДБАР\"\n"
     ]
    },
    {
     "name": "stderr",
     "output_type": "stream",
     "text": [
      "2016-10-11 23:48:43,184 : INFO : preparing a new chunk of documents\n"
     ]
    },
    {
     "name": "stderr",
     "output_type": "stream",
     "text": [
      "2016-10-11 23:48:43,186 : INFO : using 100 extra samples and 2 power iterations\n"
     ]
    },
    {
     "name": "stderr",
     "output_type": "stream",
     "text": [
      "2016-10-11 23:48:43,187 : INFO : 1st phase: constructing (26996L, 200L) action matrix\n"
     ]
    },
    {
     "name": "stderr",
     "output_type": "stream",
     "text": [
      "2016-10-11 23:48:43,191 : INFO : orthonormalizing (26996L, 200L) action matrix\n"
     ]
    },
    {
     "name": "stderr",
     "output_type": "stream",
     "text": [
      "2016-10-11 23:48:43,796 : INFO : 2nd phase: running dense svd on (200L, 20L) matrix\n"
     ]
    },
    {
     "name": "stderr",
     "output_type": "stream",
     "text": [
      "2016-10-11 23:48:43,815 : INFO : computing the final decomposition\n"
     ]
    },
    {
     "name": "stderr",
     "output_type": "stream",
     "text": [
      "2016-10-11 23:48:43,816 : INFO : keeping 19 factors (discarding 0.000% of energy spectrum)\n"
     ]
    },
    {
     "name": "stderr",
     "output_type": "stream",
     "text": [
      "2016-10-11 23:48:43,825 : INFO : merging projections: (26996L, 100L) + (26996L, 19L)\n"
     ]
    },
    {
     "name": "stderr",
     "output_type": "stream",
     "text": [
      "2016-10-11 23:48:43,867 : INFO : keeping 100 factors (discarding 0.470% of energy spectrum)\n"
     ]
    },
    {
     "name": "stderr",
     "output_type": "stream",
     "text": [
      "2016-10-11 23:48:43,900 : INFO : processed documents up to #640\n"
     ]
    },
    {
     "name": "stderr",
     "output_type": "stream",
     "text": [
      "2016-10-11 23:48:43,901 : INFO : topic #0(1893.678): 0.467*\"АЛЛАХ\" + 0.320*\"ЗНАЧЕНИЕ\" + 0.259*\"СВОЙ\" + 0.220*\"СКАЗАТЬ\" + 0.205*\"СЛОВО\" + 0.190*\"КОТОРЫЙ\" + 0.165*\"СВЯТОЙ\" + 0.154*\"ИМАМ\" + 0.150*\"ЧЕЛОВЕК\" + 0.147*\"ВЕЛИК\"\n"
     ]
    },
    {
     "name": "stderr",
     "output_type": "stream",
     "text": [
      "2016-10-11 23:48:43,901 : INFO : topic #1(1054.299): -0.437*\"ЗНАЧЕНИЕ\" + 0.246*\"ПРОРОК\" + 0.244*\"ИМАМ\" + -0.221*\"СВЯТОЙ\" + -0.210*\"ВЕЛИК\" + 0.187*\"ХАДИС\" + -0.172*\"СЛОВО\" + 0.171*\"ПОСЛАННИК\" + 0.159*\"АЯТ\" + 0.137*\"АЛЛАХ\"\n"
     ]
    },
    {
     "name": "stderr",
     "output_type": "stream",
     "text": [
      "2016-10-11 23:48:43,904 : INFO : topic #2(483.164): 0.421*\"АЛЛАХ\" + -0.377*\"ХАДИС\" + -0.255*\"КНИГА\" + -0.212*\"ИМАМ\" + 0.177*\"АЯТ\" + -0.162*\"ШИИТ\" + 0.161*\"ПОСЛАННИК\" + -0.158*\"СТАТЬЯ\" + -0.130*\"ОТВЕТ\" + 0.129*\"ПРОРОК\"\n"
     ]
    },
    {
     "name": "stderr",
     "output_type": "stream",
     "text": [
      "2016-10-11 23:48:43,904 : INFO : topic #3(453.036): 0.384*\"ПРОРОК\" + -0.310*\"АЛЛАХ\" + 0.290*\"ДБАР\" + -0.276*\"ИМАМ\" + -0.245*\"СКАЗАТЬ\" + 0.178*\"АЯТ\" + 0.159*\"КОРАН\" + 0.147*\"ЯВЛЯТЬСЯ\" + 0.132*\"ПРЕДАНИЕ\" + 0.121*\"МУСУЛЬМАНИН\"\n"
     ]
    },
    {
     "name": "stderr",
     "output_type": "stream",
     "text": [
      "2016-10-11 23:48:43,905 : INFO : topic #4(417.545): 0.360*\"ХАДИС\" + -0.300*\"ИМАМ\" + -0.286*\"ПРОРОК\" + 0.237*\"АЯТ\" + 0.226*\"АЛЛАХ\" + -0.203*\"ЧЕЛОВЕК\" + 0.193*\"ПОСЛАННИК\" + 0.171*\"СТРАНИЦА\" + -0.163*\"СВОЙ\" + -0.144*\"МИР\"\n"
     ]
    },
    {
     "name": "stderr",
     "output_type": "stream",
     "text": [
      "2016-10-11 23:48:43,934 : INFO : preparing a new chunk of documents\n"
     ]
    },
    {
     "name": "stderr",
     "output_type": "stream",
     "text": [
      "2016-10-11 23:48:43,937 : INFO : using 100 extra samples and 2 power iterations\n"
     ]
    },
    {
     "name": "stderr",
     "output_type": "stream",
     "text": [
      "2016-10-11 23:48:43,937 : INFO : 1st phase: constructing (26996L, 200L) action matrix\n"
     ]
    },
    {
     "name": "stderr",
     "output_type": "stream",
     "text": [
      "2016-10-11 23:48:43,941 : INFO : orthonormalizing (26996L, 200L) action matrix\n"
     ]
    },
    {
     "name": "stderr",
     "output_type": "stream",
     "text": [
      "2016-10-11 23:48:44,565 : INFO : 2nd phase: running dense svd on (200L, 20L) matrix\n"
     ]
    },
    {
     "name": "stderr",
     "output_type": "stream",
     "text": [
      "2016-10-11 23:48:44,585 : INFO : computing the final decomposition\n"
     ]
    },
    {
     "name": "stderr",
     "output_type": "stream",
     "text": [
      "2016-10-11 23:48:44,585 : INFO : keeping 19 factors (discarding 0.000% of energy spectrum)\n"
     ]
    },
    {
     "name": "stderr",
     "output_type": "stream",
     "text": [
      "2016-10-11 23:48:44,595 : INFO : merging projections: (26996L, 100L) + (26996L, 19L)\n"
     ]
    },
    {
     "name": "stderr",
     "output_type": "stream",
     "text": [
      "2016-10-11 23:48:44,635 : INFO : keeping 100 factors (discarding 0.551% of energy spectrum)\n"
     ]
    },
    {
     "name": "stderr",
     "output_type": "stream",
     "text": [
      "2016-10-11 23:48:44,668 : INFO : processed documents up to #660\n"
     ]
    },
    {
     "name": "stderr",
     "output_type": "stream",
     "text": [
      "2016-10-11 23:48:44,670 : INFO : topic #0(1905.316): 0.469*\"АЛЛАХ\" + 0.316*\"ЗНАЧЕНИЕ\" + 0.259*\"СВОЙ\" + 0.222*\"СКАЗАТЬ\" + 0.205*\"СЛОВО\" + 0.193*\"КОТОРЫЙ\" + 0.163*\"СВЯТОЙ\" + 0.155*\"ИМАМ\" + 0.152*\"ЧЕЛОВЕК\" + 0.144*\"ВЕЛИК\"\n"
     ]
    },
    {
     "name": "stderr",
     "output_type": "stream",
     "text": [
      "2016-10-11 23:48:44,671 : INFO : topic #1(1058.103): -0.440*\"ЗНАЧЕНИЕ\" + 0.246*\"ПРОРОК\" + 0.242*\"ИМАМ\" + -0.222*\"СВЯТОЙ\" + -0.212*\"ВЕЛИК\" + 0.184*\"ХАДИС\" + -0.173*\"СЛОВО\" + 0.168*\"ПОСЛАННИК\" + 0.157*\"АЯТ\" + 0.134*\"КОТОРЫЙ\"\n"
     ]
    },
    {
     "name": "stderr",
     "output_type": "stream",
     "text": [
      "2016-10-11 23:48:44,671 : INFO : topic #2(484.490): 0.430*\"АЛЛАХ\" + -0.376*\"ХАДИС\" + -0.255*\"КНИГА\" + -0.211*\"ИМАМ\" + 0.172*\"АЯТ\" + -0.163*\"ШИИТ\" + 0.159*\"ПОСЛАННИК\" + -0.158*\"СТАТЬЯ\" + -0.130*\"ОТВЕТ\" + -0.120*\"ШИИТСКИЙ\"\n"
     ]
    },
    {
     "name": "stderr",
     "output_type": "stream",
     "text": [
      "2016-10-11 23:48:44,673 : INFO : topic #3(457.054): 0.400*\"ПРОРОК\" + -0.303*\"АЛЛАХ\" + 0.296*\"ДБАР\" + -0.282*\"ИМАМ\" + -0.247*\"СКАЗАТЬ\" + 0.176*\"АЯТ\" + 0.154*\"КОРАН\" + 0.142*\"ЯВЛЯТЬСЯ\" + 0.130*\"ПРЕДАНИЕ\" + 0.125*\"МУСУЛЬМАНИН\"\n"
     ]
    },
    {
     "name": "stderr",
     "output_type": "stream",
     "text": [
      "2016-10-11 23:48:44,674 : INFO : topic #4(422.860): 0.361*\"ХАДИС\" + -0.282*\"ИМАМ\" + -0.281*\"ПРОРОК\" + 0.247*\"АЯТ\" + 0.229*\"АЛЛАХ\" + -0.208*\"ЧЕЛОВЕК\" + 0.194*\"ПОСЛАННИК\" + 0.170*\"СТРАНИЦА\" + -0.162*\"СВОЙ\" + -0.159*\"МИР\"\n"
     ]
    },
    {
     "name": "stderr",
     "output_type": "stream",
     "text": [
      "2016-10-11 23:48:44,697 : INFO : preparing a new chunk of documents\n"
     ]
    },
    {
     "name": "stderr",
     "output_type": "stream",
     "text": [
      "2016-10-11 23:48:44,697 : INFO : using 100 extra samples and 2 power iterations\n"
     ]
    },
    {
     "name": "stderr",
     "output_type": "stream",
     "text": [
      "2016-10-11 23:48:44,698 : INFO : 1st phase: constructing (26996L, 200L) action matrix\n"
     ]
    },
    {
     "name": "stderr",
     "output_type": "stream",
     "text": [
      "2016-10-11 23:48:44,703 : INFO : orthonormalizing (26996L, 200L) action matrix\n"
     ]
    },
    {
     "name": "stderr",
     "output_type": "stream",
     "text": [
      "2016-10-11 23:48:45,348 : INFO : 2nd phase: running dense svd on (200L, 20L) matrix\n"
     ]
    },
    {
     "name": "stderr",
     "output_type": "stream",
     "text": [
      "2016-10-11 23:48:45,368 : INFO : computing the final decomposition\n"
     ]
    },
    {
     "name": "stderr",
     "output_type": "stream",
     "text": [
      "2016-10-11 23:48:45,369 : INFO : keeping 18 factors (discarding 0.000% of energy spectrum)\n"
     ]
    },
    {
     "name": "stderr",
     "output_type": "stream",
     "text": [
      "2016-10-11 23:48:45,378 : INFO : merging projections: (26996L, 100L) + (26996L, 18L)\n"
     ]
    },
    {
     "name": "stderr",
     "output_type": "stream",
     "text": [
      "2016-10-11 23:48:45,418 : INFO : keeping 100 factors (discarding 0.501% of energy spectrum)\n"
     ]
    },
    {
     "name": "stderr",
     "output_type": "stream",
     "text": [
      "2016-10-11 23:48:45,450 : INFO : processed documents up to #680\n"
     ]
    },
    {
     "name": "stderr",
     "output_type": "stream",
     "text": [
      "2016-10-11 23:48:45,451 : INFO : topic #0(1911.769): 0.467*\"АЛЛАХ\" + 0.313*\"ЗНАЧЕНИЕ\" + 0.259*\"СВОЙ\" + 0.221*\"СКАЗАТЬ\" + 0.204*\"СЛОВО\" + 0.194*\"КОТОРЫЙ\" + 0.162*\"СВЯТОЙ\" + 0.160*\"ИМАМ\" + 0.153*\"ЧЕЛОВЕК\" + 0.143*\"ВЕЛИК\"\n"
     ]
    },
    {
     "name": "stderr",
     "output_type": "stream",
     "text": [
      "2016-10-11 23:48:45,453 : INFO : topic #1(1064.509): -0.442*\"ЗНАЧЕНИЕ\" + 0.250*\"ИМАМ\" + 0.245*\"ПРОРОК\" + -0.223*\"СВЯТОЙ\" + -0.213*\"ВЕЛИК\" + 0.184*\"ХАДИС\" + -0.174*\"СЛОВО\" + 0.165*\"ПОСЛАННИК\" + 0.154*\"АЯТ\" + 0.133*\"КОТОРЫЙ\"\n"
     ]
    },
    {
     "name": "stderr",
     "output_type": "stream",
     "text": [
      "2016-10-11 23:48:45,453 : INFO : topic #2(490.778): 0.455*\"АЛЛАХ\" + -0.339*\"ХАДИС\" + -0.273*\"ИМАМ\" + -0.241*\"КНИГА\" + 0.186*\"АЯТ\" + 0.179*\"ПОСЛАННИК\" + -0.165*\"ШИИТ\" + -0.157*\"СТАТЬЯ\" + -0.124*\"ОТВЕТ\" + -0.117*\"ШИИТСКИЙ\"\n"
     ]
    },
    {
     "name": "stderr",
     "output_type": "stream",
     "text": [
      "2016-10-11 23:48:45,454 : INFO : topic #3(459.984): 0.355*\"ПРОРОК\" + -0.337*\"ИМАМ\" + 0.275*\"ДБАР\" + -0.274*\"АЛЛАХ\" + -0.241*\"СКАЗАТЬ\" + 0.200*\"АЯТ\" + 0.190*\"КОРАН\" + 0.145*\"ЯВЛЯТЬСЯ\" + 0.132*\"ПРЕДАНИЕ\" + 0.119*\"ТОМ\"\n"
     ]
    },
    {
     "name": "stderr",
     "output_type": "stream",
     "text": [
      "2016-10-11 23:48:45,456 : INFO : topic #4(438.077): 0.397*\"ХАДИС\" + -0.322*\"ПРОРОК\" + -0.309*\"ИМАМ\" + 0.236*\"АЛЛАХ\" + -0.180*\"ЧЕЛОВЕК\" + 0.178*\"ПОСЛАННИК\" + 0.169*\"АЯТ\" + -0.169*\"СВОЙ\" + -0.165*\"ДБАР\" + 0.145*\"СТРАНИЦА\"\n"
     ]
    },
    {
     "name": "stderr",
     "output_type": "stream",
     "text": [
      "2016-10-11 23:48:45,494 : INFO : preparing a new chunk of documents\n"
     ]
    },
    {
     "name": "stderr",
     "output_type": "stream",
     "text": [
      "2016-10-11 23:48:45,496 : INFO : using 100 extra samples and 2 power iterations\n"
     ]
    },
    {
     "name": "stderr",
     "output_type": "stream",
     "text": [
      "2016-10-11 23:48:45,496 : INFO : 1st phase: constructing (26996L, 200L) action matrix\n"
     ]
    },
    {
     "name": "stderr",
     "output_type": "stream",
     "text": [
      "2016-10-11 23:48:45,503 : INFO : orthonormalizing (26996L, 200L) action matrix\n"
     ]
    },
    {
     "name": "stderr",
     "output_type": "stream",
     "text": [
      "2016-10-11 23:48:46,141 : INFO : 2nd phase: running dense svd on (200L, 20L) matrix\n"
     ]
    },
    {
     "name": "stderr",
     "output_type": "stream",
     "text": [
      "2016-10-11 23:48:46,161 : INFO : computing the final decomposition\n"
     ]
    },
    {
     "name": "stderr",
     "output_type": "stream",
     "text": [
      "2016-10-11 23:48:46,161 : INFO : keeping 19 factors (discarding 0.000% of energy spectrum)\n"
     ]
    },
    {
     "name": "stderr",
     "output_type": "stream",
     "text": [
      "2016-10-11 23:48:46,171 : INFO : merging projections: (26996L, 100L) + (26996L, 19L)\n"
     ]
    },
    {
     "name": "stderr",
     "output_type": "stream",
     "text": [
      "2016-10-11 23:48:46,213 : INFO : keeping 100 factors (discarding 0.579% of energy spectrum)\n"
     ]
    },
    {
     "name": "stderr",
     "output_type": "stream",
     "text": [
      "2016-10-11 23:48:46,246 : INFO : processed documents up to #700\n"
     ]
    },
    {
     "name": "stderr",
     "output_type": "stream",
     "text": [
      "2016-10-11 23:48:46,247 : INFO : topic #0(1959.195): 0.459*\"АЛЛАХ\" + 0.291*\"ЗНАЧЕНИЕ\" + 0.259*\"СВОЙ\" + 0.222*\"СКАЗАТЬ\" + 0.207*\"КОТОРЫЙ\" + 0.196*\"СЛОВО\" + 0.186*\"ИМАМ\" + 0.165*\"ЧЕЛОВЕК\" + 0.151*\"СВЯТОЙ\" + 0.149*\"ПРОРОК\"\n"
     ]
    },
    {
     "name": "stderr",
     "output_type": "stream",
     "text": [
      "2016-10-11 23:48:46,249 : INFO : topic #1(1114.469): -0.450*\"ЗНАЧЕНИЕ\" + 0.281*\"ИМАМ\" + 0.247*\"ПРОРОК\" + -0.226*\"СВЯТОЙ\" + -0.215*\"ВЕЛИК\" + -0.181*\"СЛОВО\" + 0.167*\"ХАДИС\" + 0.142*\"КОТОРЫЙ\" + 0.141*\"ПОСЛАННИК\" + 0.121*\"АЯТ\"\n"
     ]
    },
    {
     "name": "stderr",
     "output_type": "stream",
     "text": [
      "2016-10-11 23:48:46,250 : INFO : topic #2(586.212): -0.465*\"ИМАМ\" + 0.437*\"АЛЛАХ\" + -0.285*\"ХУСЕЙН\" + -0.262*\"ШИИТ\" + 0.242*\"АЯТ\" + 0.223*\"ПОСЛАННИК\" + -0.202*\"ЙАЗИД\" + -0.111*\"ЧЕЛОВЕК\" + -0.109*\"ТОТ\" + 0.099*\"ПРОРОК\"\n"
     ]
    },
    {
     "name": "stderr",
     "output_type": "stream",
     "text": [
      "2016-10-11 23:48:46,250 : INFO : topic #3(527.711): -0.495*\"ПРОРОК\" + -0.363*\"ДБАР\" + 0.331*\"АЛЛАХ\" + 0.200*\"ИМАМ\" + -0.197*\"МИССИЯ\" + 0.166*\"СКАЗАТЬ\" + -0.149*\"КОТОРЫЙ\" + -0.143*\"СВОЙ\" + 0.118*\"ПОСЛАННИК\" + 0.114*\"ХАДИС\"\n"
     ]
    },
    {
     "name": "stderr",
     "output_type": "stream",
     "text": [
      "2016-10-11 23:48:46,252 : INFO : topic #4(473.125): 0.498*\"ХАДИС\" + 0.277*\"КНИГА\" + -0.251*\"АЛЛАХ\" + 0.225*\"КОРАН\" + -0.172*\"ХУСЕЙН\" + -0.167*\"ИМАМ\" + -0.146*\"ЧЕЛОВЕК\" + 0.132*\"УЧЁНЫЙ\" + -0.127*\"МИР\" + 0.125*\"СТАТЬЯ\"\n"
     ]
    },
    {
     "name": "stderr",
     "output_type": "stream",
     "text": [
      "2016-10-11 23:48:46,263 : INFO : preparing a new chunk of documents\n"
     ]
    },
    {
     "name": "stderr",
     "output_type": "stream",
     "text": [
      "2016-10-11 23:48:46,265 : INFO : using 100 extra samples and 2 power iterations\n"
     ]
    },
    {
     "name": "stderr",
     "output_type": "stream",
     "text": [
      "2016-10-11 23:48:46,265 : INFO : 1st phase: constructing (26996L, 200L) action matrix\n"
     ]
    },
    {
     "name": "stderr",
     "output_type": "stream",
     "text": [
      "2016-10-11 23:48:46,266 : INFO : orthonormalizing (26996L, 200L) action matrix\n"
     ]
    },
    {
     "name": "stderr",
     "output_type": "stream",
     "text": [
      "2016-10-11 23:48:46,897 : INFO : 2nd phase: running dense svd on (200L, 20L) matrix\n"
     ]
    },
    {
     "name": "stderr",
     "output_type": "stream",
     "text": [
      "2016-10-11 23:48:46,917 : INFO : computing the final decomposition\n"
     ]
    },
    {
     "name": "stderr",
     "output_type": "stream",
     "text": [
      "2016-10-11 23:48:46,917 : INFO : keeping 20 factors (discarding 0.000% of energy spectrum)\n"
     ]
    },
    {
     "name": "stderr",
     "output_type": "stream",
     "text": [
      "2016-10-11 23:48:46,927 : INFO : merging projections: (26996L, 100L) + (26996L, 20L)\n"
     ]
    },
    {
     "name": "stderr",
     "output_type": "stream",
     "text": [
      "2016-10-11 23:48:46,966 : INFO : keeping 100 factors (discarding 0.118% of energy spectrum)\n"
     ]
    },
    {
     "name": "stderr",
     "output_type": "stream",
     "text": [
      "2016-10-11 23:48:47,000 : INFO : processed documents up to #720\n"
     ]
    },
    {
     "name": "stderr",
     "output_type": "stream",
     "text": [
      "2016-10-11 23:48:47,000 : INFO : topic #0(1972.211): 0.464*\"АЛЛАХ\" + 0.286*\"ЗНАЧЕНИЕ\" + 0.258*\"СВОЙ\" + 0.223*\"СКАЗАТЬ\" + 0.207*\"КОТОРЫЙ\" + 0.193*\"СЛОВО\" + 0.185*\"ИМАМ\" + 0.167*\"ЧЕЛОВЕК\" + 0.152*\"ПРОРОК\" + 0.150*\"СВЯТОЙ\"\n"
     ]
    },
    {
     "name": "stderr",
     "output_type": "stream",
     "text": [
      "2016-10-11 23:48:47,002 : INFO : topic #1(1120.385): -0.454*\"ЗНАЧЕНИЕ\" + 0.273*\"ИМАМ\" + 0.247*\"ПРОРОК\" + -0.227*\"СВЯТОЙ\" + -0.217*\"ВЕЛИК\" + -0.184*\"СЛОВО\" + 0.164*\"ХАДИС\" + 0.150*\"ПОСЛАННИК\" + 0.137*\"КОТОРЫЙ\" + 0.125*\"СТРАНИЦА\"\n"
     ]
    },
    {
     "name": "stderr",
     "output_type": "stream",
     "text": [
      "2016-10-11 23:48:47,003 : INFO : topic #2(595.269): -0.463*\"ИМАМ\" + 0.458*\"АЛЛАХ\" + -0.274*\"ХУСЕЙН\" + -0.261*\"ШИИТ\" + 0.256*\"ПОСЛАННИК\" + 0.215*\"АЯТ\" + -0.194*\"ЙАЗИД\" + -0.110*\"КОТОРЫЙ\" + -0.110*\"ТОТ\" + -0.105*\"ЧЕЛОВЕК\"\n"
     ]
    },
    {
     "name": "stderr",
     "output_type": "stream",
     "text": [
      "2016-10-11 23:48:47,003 : INFO : topic #3(529.484): -0.498*\"ПРОРОК\" + -0.368*\"ДБАР\" + 0.311*\"АЛЛАХ\" + 0.224*\"ИМАМ\" + -0.195*\"МИССИЯ\" + 0.157*\"СКАЗАТЬ\" + -0.147*\"КОТОРЫЙ\" + -0.135*\"СВОЙ\" + 0.120*\"ПОСЛАННИК\" + 0.108*\"ХУСЕЙН\"\n"
     ]
    },
    {
     "name": "stderr",
     "output_type": "stream",
     "text": [
      "2016-10-11 23:48:47,005 : INFO : topic #4(474.317): 0.499*\"ХАДИС\" + 0.275*\"КНИГА\" + 0.233*\"КОРАН\" + -0.232*\"АЛЛАХ\" + -0.178*\"ХУСЕЙН\" + -0.166*\"ИМАМ\" + -0.152*\"ЧЕЛОВЕК\" + 0.133*\"УЧЁНЫЙ\" + 0.126*\"СТАТЬЯ\" + -0.124*\"МИР\"\n"
     ]
    },
    {
     "name": "stderr",
     "output_type": "stream",
     "text": [
      "2016-10-11 23:48:47,010 : INFO : preparing a new chunk of documents\n"
     ]
    },
    {
     "name": "stderr",
     "output_type": "stream",
     "text": [
      "2016-10-11 23:48:47,012 : INFO : using 100 extra samples and 2 power iterations\n"
     ]
    },
    {
     "name": "stderr",
     "output_type": "stream",
     "text": [
      "2016-10-11 23:48:47,012 : INFO : 1st phase: constructing (26996L, 200L) action matrix\n"
     ]
    },
    {
     "name": "stderr",
     "output_type": "stream",
     "text": [
      "2016-10-11 23:48:47,013 : INFO : orthonormalizing (26996L, 200L) action matrix\n"
     ]
    },
    {
     "name": "stderr",
     "output_type": "stream",
     "text": [
      "2016-10-11 23:48:47,556 : INFO : 2nd phase: running dense svd on (200L, 20L) matrix\n"
     ]
    },
    {
     "name": "stderr",
     "output_type": "stream",
     "text": [
      "2016-10-11 23:48:47,576 : INFO : computing the final decomposition\n"
     ]
    },
    {
     "name": "stderr",
     "output_type": "stream",
     "text": [
      "2016-10-11 23:48:47,576 : INFO : keeping 19 factors (discarding 0.000% of energy spectrum)\n"
     ]
    },
    {
     "name": "stderr",
     "output_type": "stream",
     "text": [
      "2016-10-11 23:48:47,586 : INFO : merging projections: (26996L, 100L) + (26996L, 19L)\n"
     ]
    },
    {
     "name": "stderr",
     "output_type": "stream",
     "text": [
      "2016-10-11 23:48:47,627 : INFO : keeping 100 factors (discarding 0.042% of energy spectrum)\n"
     ]
    },
    {
     "name": "stderr",
     "output_type": "stream",
     "text": [
      "2016-10-11 23:48:47,660 : INFO : processed documents up to #740\n"
     ]
    },
    {
     "name": "stderr",
     "output_type": "stream",
     "text": [
      "2016-10-11 23:48:47,661 : INFO : topic #0(1972.566): 0.464*\"АЛЛАХ\" + 0.286*\"ЗНАЧЕНИЕ\" + 0.258*\"СВОЙ\" + 0.223*\"СКАЗАТЬ\" + 0.207*\"КОТОРЫЙ\" + 0.193*\"СЛОВО\" + 0.185*\"ИМАМ\" + 0.166*\"ЧЕЛОВЕК\" + 0.152*\"ПРОРОК\" + 0.150*\"СВЯТОЙ\"\n"
     ]
    },
    {
     "name": "stderr",
     "output_type": "stream",
     "text": [
      "2016-10-11 23:48:47,663 : INFO : topic #1(1120.683): -0.454*\"ЗНАЧЕНИЕ\" + 0.272*\"ИМАМ\" + 0.247*\"ПРОРОК\" + -0.227*\"СВЯТОЙ\" + -0.217*\"ВЕЛИК\" + -0.184*\"СЛОВО\" + 0.164*\"ХАДИС\" + 0.150*\"ПОСЛАННИК\" + 0.137*\"КОТОРЫЙ\" + 0.126*\"СТРАНИЦА\"\n"
     ]
    },
    {
     "name": "stderr",
     "output_type": "stream",
     "text": [
      "2016-10-11 23:48:47,664 : INFO : topic #2(595.397): -0.463*\"ИМАМ\" + 0.458*\"АЛЛАХ\" + -0.274*\"ХУСЕЙН\" + -0.261*\"ШИИТ\" + 0.256*\"ПОСЛАННИК\" + 0.214*\"АЯТ\" + -0.194*\"ЙАЗИД\" + -0.110*\"КОТОРЫЙ\" + -0.110*\"ТОТ\" + -0.105*\"ЧЕЛОВЕК\"\n"
     ]
    },
    {
     "name": "stderr",
     "output_type": "stream",
     "text": [
      "2016-10-11 23:48:47,664 : INFO : topic #3(529.635): -0.499*\"ПРОРОК\" + -0.368*\"ДБАР\" + 0.310*\"АЛЛАХ\" + 0.223*\"ИМАМ\" + -0.195*\"МИССИЯ\" + 0.156*\"СКАЗАТЬ\" + -0.147*\"КОТОРЫЙ\" + -0.134*\"СВОЙ\" + 0.120*\"ПОСЛАННИК\" + 0.108*\"ХУСЕЙН\"\n"
     ]
    },
    {
     "name": "stderr",
     "output_type": "stream",
     "text": [
      "2016-10-11 23:48:47,665 : INFO : topic #4(474.944): 0.501*\"ХАДИС\" + 0.277*\"КНИГА\" + -0.233*\"АЛЛАХ\" + 0.230*\"КОРАН\" + -0.178*\"ХУСЕЙН\" + -0.168*\"ИМАМ\" + -0.152*\"ЧЕЛОВЕК\" + 0.133*\"УЧЁНЫЙ\" + 0.127*\"СТАТЬЯ\" + -0.123*\"МИР\"\n"
     ]
    },
    {
     "name": "stderr",
     "output_type": "stream",
     "text": [
      "2016-10-11 23:48:47,676 : INFO : preparing a new chunk of documents\n"
     ]
    },
    {
     "name": "stderr",
     "output_type": "stream",
     "text": [
      "2016-10-11 23:48:47,677 : INFO : using 100 extra samples and 2 power iterations\n"
     ]
    },
    {
     "name": "stderr",
     "output_type": "stream",
     "text": [
      "2016-10-11 23:48:47,677 : INFO : 1st phase: constructing (26996L, 200L) action matrix\n"
     ]
    },
    {
     "name": "stderr",
     "output_type": "stream",
     "text": [
      "2016-10-11 23:48:47,678 : INFO : orthonormalizing (26996L, 200L) action matrix\n"
     ]
    },
    {
     "name": "stderr",
     "output_type": "stream",
     "text": [
      "2016-10-11 23:48:48,220 : INFO : 2nd phase: running dense svd on (200L, 20L) matrix\n"
     ]
    },
    {
     "name": "stderr",
     "output_type": "stream",
     "text": [
      "2016-10-11 23:48:48,240 : INFO : computing the final decomposition\n"
     ]
    },
    {
     "name": "stderr",
     "output_type": "stream",
     "text": [
      "2016-10-11 23:48:48,240 : INFO : keeping 19 factors (discarding 0.000% of energy spectrum)\n"
     ]
    },
    {
     "name": "stderr",
     "output_type": "stream",
     "text": [
      "2016-10-11 23:48:48,250 : INFO : merging projections: (26996L, 100L) + (26996L, 19L)\n"
     ]
    },
    {
     "name": "stderr",
     "output_type": "stream",
     "text": [
      "2016-10-11 23:48:48,295 : INFO : keeping 100 factors (discarding 0.096% of energy spectrum)\n"
     ]
    },
    {
     "name": "stderr",
     "output_type": "stream",
     "text": [
      "2016-10-11 23:48:48,328 : INFO : processed documents up to #760\n"
     ]
    },
    {
     "name": "stderr",
     "output_type": "stream",
     "text": [
      "2016-10-11 23:48:48,328 : INFO : topic #0(1975.223): 0.464*\"АЛЛАХ\" + 0.285*\"ЗНАЧЕНИЕ\" + 0.258*\"СВОЙ\" + 0.224*\"СКАЗАТЬ\" + 0.207*\"КОТОРЫЙ\" + 0.192*\"СЛОВО\" + 0.185*\"ИМАМ\" + 0.167*\"ЧЕЛОВЕК\" + 0.153*\"ПРОРОК\" + 0.149*\"СВЯТОЙ\"\n"
     ]
    },
    {
     "name": "stderr",
     "output_type": "stream",
     "text": [
      "2016-10-11 23:48:48,329 : INFO : topic #1(1122.364): -0.455*\"ЗНАЧЕНИЕ\" + 0.270*\"ИМАМ\" + 0.248*\"ПРОРОК\" + -0.227*\"СВЯТОЙ\" + -0.217*\"ВЕЛИК\" + -0.185*\"СЛОВО\" + 0.165*\"ХАДИС\" + 0.150*\"ПОСЛАННИК\" + 0.136*\"КОТОРЫЙ\" + 0.126*\"СТРАНИЦА\"\n"
     ]
    },
    {
     "name": "stderr",
     "output_type": "stream",
     "text": [
      "2016-10-11 23:48:48,331 : INFO : topic #2(596.441): -0.465*\"ИМАМ\" + 0.458*\"АЛЛАХ\" + -0.274*\"ХУСЕЙН\" + -0.260*\"ШИИТ\" + 0.256*\"ПОСЛАННИК\" + 0.214*\"АЯТ\" + -0.193*\"ЙАЗИД\" + -0.111*\"КОТОРЫЙ\" + -0.109*\"ТОТ\" + -0.106*\"ЧЕЛОВЕК\"\n"
     ]
    },
    {
     "name": "stderr",
     "output_type": "stream",
     "text": [
      "2016-10-11 23:48:48,332 : INFO : topic #3(530.213): -0.500*\"ПРОРОК\" + -0.369*\"ДБАР\" + 0.311*\"АЛЛАХ\" + 0.226*\"ИМАМ\" + -0.194*\"МИССИЯ\" + 0.155*\"СКАЗАТЬ\" + -0.145*\"КОТОРЫЙ\" + -0.134*\"СВОЙ\" + 0.120*\"ПОСЛАННИК\" + 0.109*\"ХУСЕЙН\"\n"
     ]
    },
    {
     "name": "stderr",
     "output_type": "stream",
     "text": [
      "2016-10-11 23:48:48,332 : INFO : topic #4(476.540): 0.505*\"ХАДИС\" + 0.280*\"КНИГА\" + -0.233*\"АЛЛАХ\" + 0.225*\"КОРАН\" + -0.176*\"ХУСЕЙН\" + -0.169*\"ИМАМ\" + -0.150*\"ЧЕЛОВЕК\" + 0.131*\"УЧЁНЫЙ\" + 0.127*\"СТАТЬЯ\" + -0.124*\"МИР\"\n"
     ]
    },
    {
     "name": "stderr",
     "output_type": "stream",
     "text": [
      "2016-10-11 23:48:48,349 : INFO : preparing a new chunk of documents\n"
     ]
    },
    {
     "name": "stderr",
     "output_type": "stream",
     "text": [
      "2016-10-11 23:48:48,351 : INFO : using 100 extra samples and 2 power iterations\n"
     ]
    },
    {
     "name": "stderr",
     "output_type": "stream",
     "text": [
      "2016-10-11 23:48:48,351 : INFO : 1st phase: constructing (26996L, 200L) action matrix\n"
     ]
    },
    {
     "name": "stderr",
     "output_type": "stream",
     "text": [
      "2016-10-11 23:48:48,354 : INFO : orthonormalizing (26996L, 200L) action matrix\n"
     ]
    },
    {
     "name": "stderr",
     "output_type": "stream",
     "text": [
      "2016-10-11 23:48:48,895 : INFO : 2nd phase: running dense svd on (200L, 20L) matrix\n"
     ]
    },
    {
     "name": "stderr",
     "output_type": "stream",
     "text": [
      "2016-10-11 23:48:48,914 : INFO : computing the final decomposition\n"
     ]
    },
    {
     "name": "stderr",
     "output_type": "stream",
     "text": [
      "2016-10-11 23:48:48,914 : INFO : keeping 18 factors (discarding 0.000% of energy spectrum)\n"
     ]
    },
    {
     "name": "stderr",
     "output_type": "stream",
     "text": [
      "2016-10-11 23:48:48,924 : INFO : merging projections: (26996L, 100L) + (26996L, 18L)\n"
     ]
    },
    {
     "name": "stderr",
     "output_type": "stream",
     "text": [
      "2016-10-11 23:48:48,963 : INFO : keeping 100 factors (discarding 0.164% of energy spectrum)\n"
     ]
    },
    {
     "name": "stderr",
     "output_type": "stream",
     "text": [
      "2016-10-11 23:48:48,996 : INFO : processed documents up to #780\n"
     ]
    },
    {
     "name": "stderr",
     "output_type": "stream",
     "text": [
      "2016-10-11 23:48:48,997 : INFO : topic #0(1978.811): 0.464*\"АЛЛАХ\" + 0.283*\"ЗНАЧЕНИЕ\" + 0.258*\"СВОЙ\" + 0.224*\"СКАЗАТЬ\" + 0.207*\"КОТОРЫЙ\" + 0.192*\"СЛОВО\" + 0.185*\"ИМАМ\" + 0.167*\"ЧЕЛОВЕК\" + 0.155*\"ПРОРОК\" + 0.148*\"СВЯТОЙ\"\n"
     ]
    },
    {
     "name": "stderr",
     "output_type": "stream",
     "text": [
      "2016-10-11 23:48:48,999 : INFO : topic #1(1124.997): -0.455*\"ЗНАЧЕНИЕ\" + 0.268*\"ИМАМ\" + 0.249*\"ПРОРОК\" + -0.228*\"СВЯТОЙ\" + -0.218*\"ВЕЛИК\" + -0.185*\"СЛОВО\" + 0.167*\"ХАДИС\" + 0.150*\"ПОСЛАННИК\" + 0.135*\"КОТОРЫЙ\" + 0.126*\"СТРАНИЦА\"\n"
     ]
    },
    {
     "name": "stderr",
     "output_type": "stream",
     "text": [
      "2016-10-11 23:48:49,000 : INFO : topic #2(597.183): -0.467*\"ИМАМ\" + 0.457*\"АЛЛАХ\" + -0.274*\"ХУСЕЙН\" + -0.260*\"ШИИТ\" + 0.255*\"ПОСЛАННИК\" + 0.214*\"АЯТ\" + -0.193*\"ЙАЗИД\" + -0.112*\"КОТОРЫЙ\" + -0.109*\"ТОТ\" + -0.106*\"ЧЕЛОВЕК\"\n"
     ]
    },
    {
     "name": "stderr",
     "output_type": "stream",
     "text": [
      "2016-10-11 23:48:49,000 : INFO : topic #3(531.017): -0.502*\"ПРОРОК\" + -0.367*\"ДБАР\" + 0.308*\"АЛЛАХ\" + 0.225*\"ИМАМ\" + -0.194*\"МИССИЯ\" + 0.155*\"СКАЗАТЬ\" + -0.146*\"КОТОРЫЙ\" + -0.135*\"СВОЙ\" + 0.120*\"ПОСЛАННИК\" + 0.108*\"ХУСЕЙН\"\n"
     ]
    },
    {
     "name": "stderr",
     "output_type": "stream",
     "text": [
      "2016-10-11 23:48:49,003 : INFO : topic #4(480.097): 0.516*\"ХАДИС\" + 0.282*\"КНИГА\" + -0.239*\"АЛЛАХ\" + 0.215*\"КОРАН\" + -0.175*\"ИМАМ\" + -0.174*\"ХУСЕЙН\" + -0.150*\"ЧЕЛОВЕК\" + 0.128*\"УЧЁНЫЙ\" + 0.125*\"СТАТЬЯ\" + -0.121*\"МИР\"\n"
     ]
    },
    {
     "name": "stderr",
     "output_type": "stream",
     "text": [
      "2016-10-11 23:48:49,029 : INFO : preparing a new chunk of documents\n"
     ]
    },
    {
     "name": "stderr",
     "output_type": "stream",
     "text": [
      "2016-10-11 23:48:49,032 : INFO : using 100 extra samples and 2 power iterations\n"
     ]
    },
    {
     "name": "stderr",
     "output_type": "stream",
     "text": [
      "2016-10-11 23:48:49,032 : INFO : 1st phase: constructing (26996L, 200L) action matrix\n"
     ]
    },
    {
     "name": "stderr",
     "output_type": "stream",
     "text": [
      "2016-10-11 23:48:49,036 : INFO : orthonormalizing (26996L, 200L) action matrix\n"
     ]
    },
    {
     "name": "stderr",
     "output_type": "stream",
     "text": [
      "2016-10-11 23:48:49,586 : INFO : 2nd phase: running dense svd on (200L, 20L) matrix\n"
     ]
    },
    {
     "name": "stderr",
     "output_type": "stream",
     "text": [
      "2016-10-11 23:48:49,607 : INFO : computing the final decomposition\n"
     ]
    },
    {
     "name": "stderr",
     "output_type": "stream",
     "text": [
      "2016-10-11 23:48:49,608 : INFO : keeping 19 factors (discarding 0.000% of energy spectrum)\n"
     ]
    },
    {
     "name": "stderr",
     "output_type": "stream",
     "text": [
      "2016-10-11 23:48:49,618 : INFO : merging projections: (26996L, 100L) + (26996L, 19L)\n"
     ]
    },
    {
     "name": "stderr",
     "output_type": "stream",
     "text": [
      "2016-10-11 23:48:49,658 : INFO : keeping 100 factors (discarding 0.226% of energy spectrum)\n"
     ]
    },
    {
     "name": "stderr",
     "output_type": "stream",
     "text": [
      "2016-10-11 23:48:49,690 : INFO : processed documents up to #800\n"
     ]
    },
    {
     "name": "stderr",
     "output_type": "stream",
     "text": [
      "2016-10-11 23:48:49,691 : INFO : topic #0(1985.782): 0.465*\"АЛЛАХ\" + 0.281*\"ЗНАЧЕНИЕ\" + 0.258*\"СВОЙ\" + 0.224*\"СКАЗАТЬ\" + 0.209*\"КОТОРЫЙ\" + 0.190*\"СЛОВО\" + 0.186*\"ИМАМ\" + 0.168*\"ЧЕЛОВЕК\" + 0.156*\"ПРОРОК\" + 0.147*\"СВЯТОЙ\"\n"
     ]
    },
    {
     "name": "stderr",
     "output_type": "stream",
     "text": [
      "2016-10-11 23:48:49,693 : INFO : topic #1(1128.772): -0.457*\"ЗНАЧЕНИЕ\" + 0.267*\"ИМАМ\" + 0.248*\"ПРОРОК\" + -0.228*\"СВЯТОЙ\" + -0.219*\"ВЕЛИК\" + -0.187*\"СЛОВО\" + 0.165*\"ХАДИС\" + 0.149*\"ПОСЛАННИК\" + 0.134*\"КОТОРЫЙ\" + 0.125*\"СТРАНИЦА\"\n"
     ]
    },
    {
     "name": "stderr",
     "output_type": "stream",
     "text": [
      "2016-10-11 23:48:49,694 : INFO : topic #2(600.308): 0.465*\"АЛЛАХ\" + -0.458*\"ИМАМ\" + -0.269*\"ХУСЕЙН\" + 0.261*\"ПОСЛАННИК\" + -0.260*\"ШИИТ\" + 0.212*\"АЯТ\" + -0.190*\"ЙАЗИД\" + -0.118*\"КОТОРЫЙ\" + -0.109*\"ТОТ\" + -0.109*\"ЧЕЛОВЕК\"\n"
     ]
    },
    {
     "name": "stderr",
     "output_type": "stream",
     "text": [
      "2016-10-11 23:48:49,694 : INFO : topic #3(533.691): -0.503*\"ПРОРОК\" + -0.363*\"ДБАР\" + 0.301*\"АЛЛАХ\" + 0.243*\"ИМАМ\" + -0.192*\"МИССИЯ\" + 0.149*\"СКАЗАТЬ\" + -0.145*\"КОТОРЫЙ\" + -0.133*\"СВОЙ\" + 0.120*\"ПОСЛАННИК\" + 0.120*\"ХУСЕЙН\"\n"
     ]
    },
    {
     "name": "stderr",
     "output_type": "stream",
     "text": [
      "2016-10-11 23:48:49,696 : INFO : topic #4(481.578): 0.518*\"ХАДИС\" + 0.283*\"КНИГА\" + -0.233*\"АЛЛАХ\" + 0.215*\"КОРАН\" + -0.172*\"ХУСЕЙН\" + -0.171*\"ИМАМ\" + -0.150*\"ЧЕЛОВЕК\" + 0.127*\"УЧЁНЫЙ\" + 0.125*\"СТАТЬЯ\" + 0.121*\"БРАК\"\n"
     ]
    },
    {
     "name": "stderr",
     "output_type": "stream",
     "text": [
      "2016-10-11 23:48:49,729 : INFO : preparing a new chunk of documents\n"
     ]
    },
    {
     "name": "stderr",
     "output_type": "stream",
     "text": [
      "2016-10-11 23:48:49,730 : INFO : using 100 extra samples and 2 power iterations\n"
     ]
    },
    {
     "name": "stderr",
     "output_type": "stream",
     "text": [
      "2016-10-11 23:48:49,730 : INFO : 1st phase: constructing (26996L, 200L) action matrix\n"
     ]
    },
    {
     "name": "stderr",
     "output_type": "stream",
     "text": [
      "2016-10-11 23:48:49,734 : INFO : orthonormalizing (26996L, 200L) action matrix\n"
     ]
    },
    {
     "name": "stderr",
     "output_type": "stream",
     "text": [
      "2016-10-11 23:48:50,283 : INFO : 2nd phase: running dense svd on (200L, 20L) matrix\n"
     ]
    },
    {
     "name": "stderr",
     "output_type": "stream",
     "text": [
      "2016-10-11 23:48:50,303 : INFO : computing the final decomposition\n"
     ]
    },
    {
     "name": "stderr",
     "output_type": "stream",
     "text": [
      "2016-10-11 23:48:50,303 : INFO : keeping 20 factors (discarding 0.000% of energy spectrum)\n"
     ]
    },
    {
     "name": "stderr",
     "output_type": "stream",
     "text": [
      "2016-10-11 23:48:50,313 : INFO : merging projections: (26996L, 100L) + (26996L, 20L)\n"
     ]
    },
    {
     "name": "stderr",
     "output_type": "stream",
     "text": [
      "2016-10-11 23:48:50,355 : INFO : keeping 100 factors (discarding 0.202% of energy spectrum)\n"
     ]
    },
    {
     "name": "stderr",
     "output_type": "stream",
     "text": [
      "2016-10-11 23:48:50,388 : INFO : processed documents up to #820\n"
     ]
    },
    {
     "name": "stderr",
     "output_type": "stream",
     "text": [
      "2016-10-11 23:48:50,388 : INFO : topic #0(2014.032): 0.470*\"АЛЛАХ\" + 0.270*\"ЗНАЧЕНИЕ\" + 0.257*\"СВОЙ\" + 0.225*\"СКАЗАТЬ\" + 0.210*\"КОТОРЫЙ\" + 0.194*\"ИМАМ\" + 0.185*\"СЛОВО\" + 0.172*\"ЧЕЛОВЕК\" + 0.158*\"ПРОРОК\" + 0.144*\"ТОТ\"\n"
     ]
    },
    {
     "name": "stderr",
     "output_type": "stream",
     "text": [
      "2016-10-11 23:48:50,390 : INFO : topic #1(1141.290): -0.464*\"ЗНАЧЕНИЕ\" + 0.270*\"ИМАМ\" + 0.239*\"ПРОРОК\" + -0.230*\"СВЯТОЙ\" + -0.222*\"ВЕЛИК\" + -0.193*\"СЛОВО\" + 0.159*\"ХАДИС\" + 0.154*\"ПОСЛАННИК\" + 0.127*\"КОТОРЫЙ\" + 0.126*\"СТРАНИЦА\"\n"
     ]
    },
    {
     "name": "stderr",
     "output_type": "stream",
     "text": [
      "2016-10-11 23:48:50,391 : INFO : topic #2(609.515): -0.473*\"ИМАМ\" + 0.469*\"АЛЛАХ\" + 0.277*\"ПОСЛАННИК\" + -0.261*\"ХУСЕЙН\" + -0.255*\"ШИИТ\" + 0.196*\"АЯТ\" + -0.183*\"ЙАЗИД\" + -0.120*\"КОТОРЫЙ\" + -0.108*\"ТОТ\" + -0.107*\"ЧЕЛОВЕК\"\n"
     ]
    },
    {
     "name": "stderr",
     "output_type": "stream",
     "text": [
      "2016-10-11 23:48:50,391 : INFO : topic #3(543.235): -0.492*\"ПРОРОК\" + -0.346*\"ДБАР\" + 0.319*\"АЛЛАХ\" + 0.282*\"ИМАМ\" + -0.182*\"МИССИЯ\" + -0.156*\"КОТОРЫЙ\" + 0.143*\"СКАЗАТЬ\" + 0.135*\"ПОСЛАННИК\" + -0.126*\"СВОЙ\" + 0.115*\"ХУСЕЙН\"\n"
     ]
    },
    {
     "name": "stderr",
     "output_type": "stream",
     "text": [
      "2016-10-11 23:48:50,392 : INFO : topic #4(489.452): 0.518*\"ХАДИС\" + 0.277*\"КНИГА\" + 0.220*\"КОРАН\" + -0.188*\"АЛЛАХ\" + -0.169*\"ЧЕЛОВЕК\" + -0.159*\"ИМАМ\" + -0.151*\"ПРОРОК\" + -0.148*\"ХУСЕЙН\" + 0.139*\"БРАК\" + 0.128*\"УЧЁНЫЙ\"\n"
     ]
    },
    {
     "name": "stderr",
     "output_type": "stream",
     "text": [
      "2016-10-11 23:48:50,408 : INFO : preparing a new chunk of documents\n"
     ]
    },
    {
     "name": "stderr",
     "output_type": "stream",
     "text": [
      "2016-10-11 23:48:50,411 : INFO : using 100 extra samples and 2 power iterations\n"
     ]
    },
    {
     "name": "stderr",
     "output_type": "stream",
     "text": [
      "2016-10-11 23:48:50,411 : INFO : 1st phase: constructing (26996L, 200L) action matrix\n"
     ]
    },
    {
     "name": "stderr",
     "output_type": "stream",
     "text": [
      "2016-10-11 23:48:50,414 : INFO : orthonormalizing (26996L, 200L) action matrix\n"
     ]
    },
    {
     "name": "stderr",
     "output_type": "stream",
     "text": [
      "2016-10-11 23:48:50,963 : INFO : 2nd phase: running dense svd on (200L, 20L) matrix\n"
     ]
    },
    {
     "name": "stderr",
     "output_type": "stream",
     "text": [
      "2016-10-11 23:48:50,983 : INFO : computing the final decomposition\n"
     ]
    },
    {
     "name": "stderr",
     "output_type": "stream",
     "text": [
      "2016-10-11 23:48:50,983 : INFO : keeping 19 factors (discarding 0.000% of energy spectrum)\n"
     ]
    },
    {
     "name": "stderr",
     "output_type": "stream",
     "text": [
      "2016-10-11 23:48:50,993 : INFO : merging projections: (26996L, 100L) + (26996L, 19L)\n"
     ]
    },
    {
     "name": "stderr",
     "output_type": "stream",
     "text": [
      "2016-10-11 23:48:51,033 : INFO : keeping 100 factors (discarding 0.211% of energy spectrum)\n"
     ]
    },
    {
     "name": "stderr",
     "output_type": "stream",
     "text": [
      "2016-10-11 23:48:51,068 : INFO : processed documents up to #840\n"
     ]
    },
    {
     "name": "stderr",
     "output_type": "stream",
     "text": [
      "2016-10-11 23:48:51,069 : INFO : topic #0(2017.597): 0.470*\"АЛЛАХ\" + 0.269*\"ЗНАЧЕНИЕ\" + 0.257*\"СВОЙ\" + 0.225*\"СКАЗАТЬ\" + 0.210*\"КОТОРЫЙ\" + 0.195*\"ИМАМ\" + 0.184*\"СЛОВО\" + 0.172*\"ЧЕЛОВЕК\" + 0.158*\"ПРОРОК\" + 0.143*\"ТОТ\"\n"
     ]
    },
    {
     "name": "stderr",
     "output_type": "stream",
     "text": [
      "2016-10-11 23:48:51,071 : INFO : topic #1(1142.688): -0.465*\"ЗНАЧЕНИЕ\" + 0.269*\"ИМАМ\" + 0.239*\"ПРОРОК\" + -0.230*\"СВЯТОЙ\" + -0.222*\"ВЕЛИК\" + -0.194*\"СЛОВО\" + 0.160*\"ХАДИС\" + 0.153*\"ПОСЛАННИК\" + 0.126*\"КОТОРЫЙ\" + 0.126*\"СТРАНИЦА\"\n"
     ]
    },
    {
     "name": "stderr",
     "output_type": "stream",
     "text": [
      "2016-10-11 23:48:51,072 : INFO : topic #2(610.986): -0.472*\"ИМАМ\" + 0.472*\"АЛЛАХ\" + 0.277*\"ПОСЛАННИК\" + -0.259*\"ХУСЕЙН\" + -0.254*\"ШИИТ\" + 0.196*\"АЯТ\" + -0.182*\"ЙАЗИД\" + -0.120*\"КОТОРЫЙ\" + -0.107*\"ТОТ\" + -0.106*\"ЧЕЛОВЕК\"\n"
     ]
    },
    {
     "name": "stderr",
     "output_type": "stream",
     "text": [
      "2016-10-11 23:48:51,072 : INFO : topic #3(543.967): -0.493*\"ПРОРОК\" + -0.346*\"ДБАР\" + 0.317*\"АЛЛАХ\" + 0.284*\"ИМАМ\" + -0.182*\"МИССИЯ\" + -0.156*\"КОТОРЫЙ\" + 0.141*\"СКАЗАТЬ\" + 0.135*\"ПОСЛАННИК\" + -0.127*\"СВОЙ\" + 0.115*\"ХУСЕЙН\"\n"
     ]
    },
    {
     "name": "stderr",
     "output_type": "stream",
     "text": [
      "2016-10-11 23:48:51,073 : INFO : topic #4(490.681): 0.520*\"ХАДИС\" + 0.276*\"КНИГА\" + 0.219*\"КОРАН\" + -0.186*\"АЛЛАХ\" + -0.170*\"ЧЕЛОВЕК\" + -0.162*\"ИМАМ\" + -0.151*\"ХУСЕЙН\" + -0.149*\"ПРОРОК\" + 0.139*\"БРАК\" + -0.130*\"МИР\"\n"
     ]
    },
    {
     "name": "stderr",
     "output_type": "stream",
     "text": [
      "2016-10-11 23:48:51,084 : INFO : preparing a new chunk of documents\n"
     ]
    },
    {
     "name": "stderr",
     "output_type": "stream",
     "text": [
      "2016-10-11 23:48:51,085 : INFO : using 100 extra samples and 2 power iterations\n"
     ]
    },
    {
     "name": "stderr",
     "output_type": "stream",
     "text": [
      "2016-10-11 23:48:51,085 : INFO : 1st phase: constructing (26996L, 200L) action matrix\n"
     ]
    },
    {
     "name": "stderr",
     "output_type": "stream",
     "text": [
      "2016-10-11 23:48:51,086 : INFO : orthonormalizing (26996L, 200L) action matrix\n"
     ]
    },
    {
     "name": "stderr",
     "output_type": "stream",
     "text": [
      "2016-10-11 23:48:51,694 : INFO : 2nd phase: running dense svd on (200L, 20L) matrix\n"
     ]
    },
    {
     "name": "stderr",
     "output_type": "stream",
     "text": [
      "2016-10-11 23:48:51,713 : INFO : computing the final decomposition\n"
     ]
    },
    {
     "name": "stderr",
     "output_type": "stream",
     "text": [
      "2016-10-11 23:48:51,714 : INFO : keeping 19 factors (discarding 0.000% of energy spectrum)\n"
     ]
    },
    {
     "name": "stderr",
     "output_type": "stream",
     "text": [
      "2016-10-11 23:48:51,726 : INFO : merging projections: (26996L, 100L) + (26996L, 19L)\n"
     ]
    },
    {
     "name": "stderr",
     "output_type": "stream",
     "text": [
      "2016-10-11 23:48:51,769 : INFO : keeping 100 factors (discarding 0.084% of energy spectrum)\n"
     ]
    },
    {
     "name": "stderr",
     "output_type": "stream",
     "text": [
      "2016-10-11 23:48:51,802 : INFO : processed documents up to #860\n"
     ]
    },
    {
     "name": "stderr",
     "output_type": "stream",
     "text": [
      "2016-10-11 23:48:51,803 : INFO : topic #0(2018.603): 0.470*\"АЛЛАХ\" + 0.268*\"ЗНАЧЕНИЕ\" + 0.257*\"СВОЙ\" + 0.226*\"СКАЗАТЬ\" + 0.210*\"КОТОРЫЙ\" + 0.195*\"ИМАМ\" + 0.184*\"СЛОВО\" + 0.173*\"ЧЕЛОВЕК\" + 0.158*\"ПРОРОК\" + 0.143*\"ТОТ\"\n"
     ]
    },
    {
     "name": "stderr",
     "output_type": "stream",
     "text": [
      "2016-10-11 23:48:51,805 : INFO : topic #1(1143.117): -0.465*\"ЗНАЧЕНИЕ\" + 0.269*\"ИМАМ\" + 0.238*\"ПРОРОК\" + -0.231*\"СВЯТОЙ\" + -0.222*\"ВЕЛИК\" + -0.194*\"СЛОВО\" + 0.160*\"ХАДИС\" + 0.153*\"ПОСЛАННИК\" + 0.126*\"КОТОРЫЙ\" + 0.125*\"СТРАНИЦА\"\n"
     ]
    },
    {
     "name": "stderr",
     "output_type": "stream",
     "text": [
      "2016-10-11 23:48:51,805 : INFO : topic #2(611.184): 0.472*\"АЛЛАХ\" + -0.472*\"ИМАМ\" + 0.277*\"ПОСЛАННИК\" + -0.258*\"ХУСЕЙН\" + -0.254*\"ШИИТ\" + 0.196*\"АЯТ\" + -0.181*\"ЙАЗИД\" + -0.121*\"КОТОРЫЙ\" + -0.107*\"ТОТ\" + -0.106*\"ЧЕЛОВЕК\"\n"
     ]
    },
    {
     "name": "stderr",
     "output_type": "stream",
     "text": [
      "2016-10-11 23:48:51,806 : INFO : topic #3(544.244): -0.494*\"ПРОРОК\" + -0.345*\"ДБАР\" + 0.316*\"АЛЛАХ\" + 0.285*\"ИМАМ\" + -0.182*\"МИССИЯ\" + -0.157*\"КОТОРЫЙ\" + 0.140*\"СКАЗАТЬ\" + 0.135*\"ПОСЛАННИК\" + -0.128*\"СВОЙ\" + 0.115*\"ХУСЕЙН\"\n"
     ]
    },
    {
     "name": "stderr",
     "output_type": "stream",
     "text": [
      "2016-10-11 23:48:51,808 : INFO : topic #4(491.322): 0.522*\"ХАДИС\" + 0.275*\"КНИГА\" + 0.217*\"КОРАН\" + -0.188*\"АЛЛАХ\" + -0.170*\"ЧЕЛОВЕК\" + -0.163*\"ИМАМ\" + -0.152*\"ХУСЕЙН\" + -0.147*\"ПРОРОК\" + 0.139*\"БРАК\" + -0.129*\"МИР\"\n"
     ]
    },
    {
     "name": "stderr",
     "output_type": "stream",
     "text": [
      "2016-10-11 23:48:51,816 : INFO : preparing a new chunk of documents\n"
     ]
    },
    {
     "name": "stderr",
     "output_type": "stream",
     "text": [
      "2016-10-11 23:48:51,818 : INFO : using 100 extra samples and 2 power iterations\n"
     ]
    },
    {
     "name": "stderr",
     "output_type": "stream",
     "text": [
      "2016-10-11 23:48:51,818 : INFO : 1st phase: constructing (26996L, 200L) action matrix\n"
     ]
    },
    {
     "name": "stderr",
     "output_type": "stream",
     "text": [
      "2016-10-11 23:48:51,819 : INFO : orthonormalizing (26996L, 200L) action matrix\n"
     ]
    },
    {
     "name": "stderr",
     "output_type": "stream",
     "text": [
      "2016-10-11 23:48:52,401 : INFO : 2nd phase: running dense svd on (200L, 20L) matrix\n"
     ]
    },
    {
     "name": "stderr",
     "output_type": "stream",
     "text": [
      "2016-10-11 23:48:52,421 : INFO : computing the final decomposition\n"
     ]
    },
    {
     "name": "stderr",
     "output_type": "stream",
     "text": [
      "2016-10-11 23:48:52,421 : INFO : keeping 19 factors (discarding 0.000% of energy spectrum)\n"
     ]
    },
    {
     "name": "stderr",
     "output_type": "stream",
     "text": [
      "2016-10-11 23:48:52,430 : INFO : merging projections: (26996L, 100L) + (26996L, 19L)\n"
     ]
    },
    {
     "name": "stderr",
     "output_type": "stream",
     "text": [
      "2016-10-11 23:48:52,473 : INFO : keeping 100 factors (discarding 0.088% of energy spectrum)\n"
     ]
    },
    {
     "name": "stderr",
     "output_type": "stream",
     "text": [
      "2016-10-11 23:48:52,506 : INFO : processed documents up to #880\n"
     ]
    },
    {
     "name": "stderr",
     "output_type": "stream",
     "text": [
      "2016-10-11 23:48:52,507 : INFO : topic #0(2019.967): 0.470*\"АЛЛАХ\" + 0.268*\"ЗНАЧЕНИЕ\" + 0.257*\"СВОЙ\" + 0.226*\"СКАЗАТЬ\" + 0.211*\"КОТОРЫЙ\" + 0.195*\"ИМАМ\" + 0.184*\"СЛОВО\" + 0.173*\"ЧЕЛОВЕК\" + 0.158*\"ПРОРОК\" + 0.143*\"ТОТ\"\n"
     ]
    },
    {
     "name": "stderr",
     "output_type": "stream",
     "text": [
      "2016-10-11 23:48:52,509 : INFO : topic #1(1143.944): -0.465*\"ЗНАЧЕНИЕ\" + 0.268*\"ИМАМ\" + 0.237*\"ПРОРОК\" + -0.231*\"СВЯТОЙ\" + -0.222*\"ВЕЛИК\" + -0.194*\"СЛОВО\" + 0.161*\"ХАДИС\" + 0.153*\"ПОСЛАННИК\" + 0.127*\"КОТОРЫЙ\" + 0.125*\"СТРАНИЦА\"\n"
     ]
    },
    {
     "name": "stderr",
     "output_type": "stream",
     "text": [
      "2016-10-11 23:48:52,509 : INFO : topic #2(611.286): 0.472*\"АЛЛАХ\" + -0.472*\"ИМАМ\" + 0.277*\"ПОСЛАННИК\" + -0.258*\"ХУСЕЙН\" + -0.254*\"ШИИТ\" + 0.196*\"АЯТ\" + -0.181*\"ЙАЗИД\" + -0.121*\"КОТОРЫЙ\" + -0.107*\"ТОТ\" + -0.106*\"ЧЕЛОВЕК\"\n"
     ]
    },
    {
     "name": "stderr",
     "output_type": "stream",
     "text": [
      "2016-10-11 23:48:52,510 : INFO : topic #3(544.646): -0.490*\"ПРОРОК\" + -0.344*\"ДБАР\" + 0.319*\"АЛЛАХ\" + 0.288*\"ИМАМ\" + -0.180*\"МИССИЯ\" + -0.158*\"КОТОРЫЙ\" + 0.142*\"СКАЗАТЬ\" + 0.136*\"ПОСЛАННИК\" + -0.127*\"СВОЙ\" + 0.116*\"ХУСЕЙН\"\n"
     ]
    },
    {
     "name": "stderr",
     "output_type": "stream",
     "text": [
      "2016-10-11 23:48:52,512 : INFO : topic #4(495.519): 0.522*\"ХАДИС\" + 0.277*\"КНИГА\" + 0.230*\"КОРАН\" + -0.185*\"АЛЛАХ\" + -0.167*\"ЧЕЛОВЕК\" + -0.162*\"ИМАМ\" + -0.159*\"ПРОРОК\" + -0.148*\"ХУСЕЙН\" + 0.135*\"БРАК\" + 0.128*\"УЧЁНЫЙ\"\n"
     ]
    },
    {
     "name": "stderr",
     "output_type": "stream",
     "text": [
      "2016-10-11 23:48:52,530 : INFO : preparing a new chunk of documents\n"
     ]
    },
    {
     "name": "stderr",
     "output_type": "stream",
     "text": [
      "2016-10-11 23:48:52,532 : INFO : using 100 extra samples and 2 power iterations\n"
     ]
    },
    {
     "name": "stderr",
     "output_type": "stream",
     "text": [
      "2016-10-11 23:48:52,532 : INFO : 1st phase: constructing (26996L, 200L) action matrix\n"
     ]
    },
    {
     "name": "stderr",
     "output_type": "stream",
     "text": [
      "2016-10-11 23:48:52,536 : INFO : orthonormalizing (26996L, 200L) action matrix\n"
     ]
    },
    {
     "name": "stderr",
     "output_type": "stream",
     "text": [
      "2016-10-11 23:48:53,124 : INFO : 2nd phase: running dense svd on (200L, 20L) matrix\n"
     ]
    },
    {
     "name": "stderr",
     "output_type": "stream",
     "text": [
      "2016-10-11 23:48:53,144 : INFO : computing the final decomposition\n"
     ]
    },
    {
     "name": "stderr",
     "output_type": "stream",
     "text": [
      "2016-10-11 23:48:53,145 : INFO : keeping 18 factors (discarding 0.000% of energy spectrum)\n"
     ]
    },
    {
     "name": "stderr",
     "output_type": "stream",
     "text": [
      "2016-10-11 23:48:53,154 : INFO : merging projections: (26996L, 100L) + (26996L, 18L)\n"
     ]
    },
    {
     "name": "stderr",
     "output_type": "stream",
     "text": [
      "2016-10-11 23:48:53,198 : INFO : keeping 100 factors (discarding 0.118% of energy spectrum)\n"
     ]
    },
    {
     "name": "stderr",
     "output_type": "stream",
     "text": [
      "2016-10-11 23:48:53,232 : INFO : processed documents up to #900\n"
     ]
    },
    {
     "name": "stderr",
     "output_type": "stream",
     "text": [
      "2016-10-11 23:48:53,233 : INFO : topic #0(2027.334): 0.469*\"АЛЛАХ\" + 0.265*\"ЗНАЧЕНИЕ\" + 0.257*\"СВОЙ\" + 0.225*\"СКАЗАТЬ\" + 0.212*\"КОТОРЫЙ\" + 0.195*\"ИМАМ\" + 0.183*\"СЛОВО\" + 0.173*\"ЧЕЛОВЕК\" + 0.160*\"ПРОРОК\" + 0.143*\"ТОТ\"\n"
     ]
    },
    {
     "name": "stderr",
     "output_type": "stream",
     "text": [
      "2016-10-11 23:48:53,233 : INFO : topic #1(1148.951): -0.466*\"ЗНАЧЕНИЕ\" + 0.263*\"ИМАМ\" + 0.237*\"ПРОРОК\" + -0.231*\"СВЯТОЙ\" + -0.223*\"ВЕЛИК\" + -0.195*\"СЛОВО\" + 0.161*\"ХАДИС\" + 0.151*\"ПОСЛАННИК\" + 0.126*\"КОТОРЫЙ\" + 0.125*\"СТРАНИЦА\"\n"
     ]
    },
    {
     "name": "stderr",
     "output_type": "stream",
     "text": [
      "2016-10-11 23:48:53,234 : INFO : topic #2(615.613): 0.469*\"АЛЛАХ\" + -0.467*\"ИМАМ\" + 0.281*\"ПОСЛАННИК\" + -0.271*\"ХУСЕЙН\" + -0.258*\"ШИИТ\" + 0.197*\"АЯТ\" + -0.180*\"ЙАЗИД\" + -0.120*\"КОТОРЫЙ\" + -0.108*\"ТОТ\" + -0.108*\"ЧЕЛОВЕК\"\n"
     ]
    },
    {
     "name": "stderr",
     "output_type": "stream",
     "text": [
      "2016-10-11 23:48:53,236 : INFO : topic #3(547.532): -0.475*\"ПРОРОК\" + -0.338*\"ДБАР\" + 0.326*\"АЛЛАХ\" + 0.304*\"ИМАМ\" + -0.173*\"МИССИЯ\" + -0.158*\"КОТОРЫЙ\" + 0.147*\"СКАЗАТЬ\" + 0.141*\"ПОСЛАННИК\" + -0.123*\"КОРАН\" + 0.121*\"ХУСЕЙН\"\n"
     ]
    },
    {
     "name": "stderr",
     "output_type": "stream",
     "text": [
      "2016-10-11 23:48:53,236 : INFO : topic #4(504.334): 0.496*\"ХАДИС\" + 0.267*\"КНИГА\" + 0.266*\"КОРАН\" + -0.209*\"ПРОРОК\" + -0.187*\"АЛЛАХ\" + 0.163*\"БРАК\" + -0.156*\"ЧЕЛОВЕК\" + -0.141*\"ХУСЕЙН\" + 0.134*\"АЯТ\" + 0.129*\"УЧЁНЫЙ\"\n"
     ]
    },
    {
     "name": "stderr",
     "output_type": "stream",
     "text": [
      "2016-10-11 23:48:53,256 : INFO : preparing a new chunk of documents\n"
     ]
    },
    {
     "name": "stderr",
     "output_type": "stream",
     "text": [
      "2016-10-11 23:48:53,257 : INFO : using 100 extra samples and 2 power iterations\n"
     ]
    },
    {
     "name": "stderr",
     "output_type": "stream",
     "text": [
      "2016-10-11 23:48:53,257 : INFO : 1st phase: constructing (26996L, 200L) action matrix\n"
     ]
    },
    {
     "name": "stderr",
     "output_type": "stream",
     "text": [
      "2016-10-11 23:48:53,260 : INFO : orthonormalizing (26996L, 200L) action matrix\n"
     ]
    },
    {
     "name": "stderr",
     "output_type": "stream",
     "text": [
      "2016-10-11 23:48:53,813 : INFO : 2nd phase: running dense svd on (200L, 20L) matrix\n"
     ]
    },
    {
     "name": "stderr",
     "output_type": "stream",
     "text": [
      "2016-10-11 23:48:53,832 : INFO : computing the final decomposition\n"
     ]
    },
    {
     "name": "stderr",
     "output_type": "stream",
     "text": [
      "2016-10-11 23:48:53,834 : INFO : keeping 20 factors (discarding 0.000% of energy spectrum)\n"
     ]
    },
    {
     "name": "stderr",
     "output_type": "stream",
     "text": [
      "2016-10-11 23:48:53,844 : INFO : merging projections: (26996L, 100L) + (26996L, 20L)\n"
     ]
    },
    {
     "name": "stderr",
     "output_type": "stream",
     "text": [
      "2016-10-11 23:48:53,885 : INFO : keeping 100 factors (discarding 0.109% of energy spectrum)\n"
     ]
    },
    {
     "name": "stderr",
     "output_type": "stream",
     "text": [
      "2016-10-11 23:48:53,918 : INFO : processed documents up to #920\n"
     ]
    },
    {
     "name": "stderr",
     "output_type": "stream",
     "text": [
      "2016-10-11 23:48:53,921 : INFO : topic #0(2040.453): 0.470*\"АЛЛАХ\" + 0.261*\"ЗНАЧЕНИЕ\" + 0.255*\"СВОЙ\" + 0.227*\"СКАЗАТЬ\" + 0.214*\"КОТОРЫЙ\" + 0.194*\"ИМАМ\" + 0.182*\"СЛОВО\" + 0.173*\"ЧЕЛОВЕК\" + 0.160*\"ПРОРОК\" + 0.143*\"ТОТ\"\n"
     ]
    },
    {
     "name": "stderr",
     "output_type": "stream",
     "text": [
      "2016-10-11 23:48:53,921 : INFO : topic #1(1154.393): -0.469*\"ЗНАЧЕНИЕ\" + 0.257*\"ИМАМ\" + -0.233*\"СВЯТОЙ\" + 0.232*\"ПРОРОК\" + -0.224*\"ВЕЛИК\" + -0.195*\"СЛОВО\" + 0.165*\"ХАДИС\" + 0.149*\"ПОСЛАННИК\" + 0.125*\"КОТОРЫЙ\" + 0.123*\"СТРАНИЦА\"\n"
     ]
    },
    {
     "name": "stderr",
     "output_type": "stream",
     "text": [
      "2016-10-11 23:48:53,923 : INFO : topic #2(619.114): -0.476*\"ИМАМ\" + 0.461*\"АЛЛАХ\" + -0.273*\"ХУСЕЙН\" + 0.270*\"ПОСЛАННИК\" + -0.256*\"ШИИТ\" + 0.209*\"АЯТ\" + -0.179*\"ЙАЗИД\" + -0.118*\"КОТОРЫЙ\" + -0.114*\"ЧЕЛОВЕК\" + -0.106*\"ТОТ\"\n"
     ]
    },
    {
     "name": "stderr",
     "output_type": "stream",
     "text": [
      "2016-10-11 23:48:53,924 : INFO : topic #3(550.036): -0.451*\"ПРОРОК\" + 0.340*\"АЛЛАХ\" + -0.330*\"ДБАР\" + 0.312*\"ИМАМ\" + -0.164*\"МИССИЯ\" + -0.162*\"КОТОРЫЙ\" + -0.158*\"КОРАН\" + 0.156*\"СКАЗАТЬ\" + 0.146*\"ПОСЛАННИК\" + 0.127*\"ХУСЕЙН\"\n"
     ]
    },
    {
     "name": "stderr",
     "output_type": "stream",
     "text": [
      "2016-10-11 23:48:53,924 : INFO : topic #4(519.979): 0.482*\"ХАДИС\" + 0.295*\"КОРАН\" + -0.263*\"ПРОРОК\" + 0.258*\"КНИГА\" + -0.188*\"АЛЛАХ\" + -0.151*\"ДБАР\" + -0.149*\"ЧЕЛОВЕК\" + 0.143*\"АЯТ\" + 0.142*\"БРАК\" + 0.129*\"УЧЁНЫЙ\"\n"
     ]
    },
    {
     "name": "stderr",
     "output_type": "stream",
     "text": [
      "2016-10-11 23:48:53,940 : INFO : preparing a new chunk of documents\n"
     ]
    },
    {
     "name": "stderr",
     "output_type": "stream",
     "text": [
      "2016-10-11 23:48:53,943 : INFO : using 100 extra samples and 2 power iterations\n"
     ]
    },
    {
     "name": "stderr",
     "output_type": "stream",
     "text": [
      "2016-10-11 23:48:53,943 : INFO : 1st phase: constructing (26996L, 200L) action matrix\n"
     ]
    },
    {
     "name": "stderr",
     "output_type": "stream",
     "text": [
      "2016-10-11 23:48:53,946 : INFO : orthonormalizing (26996L, 200L) action matrix\n"
     ]
    },
    {
     "name": "stderr",
     "output_type": "stream",
     "text": [
      "2016-10-11 23:48:54,536 : INFO : 2nd phase: running dense svd on (200L, 20L) matrix\n"
     ]
    },
    {
     "name": "stderr",
     "output_type": "stream",
     "text": [
      "2016-10-11 23:48:54,555 : INFO : computing the final decomposition\n"
     ]
    },
    {
     "name": "stderr",
     "output_type": "stream",
     "text": [
      "2016-10-11 23:48:54,556 : INFO : keeping 19 factors (discarding 0.000% of energy spectrum)\n"
     ]
    },
    {
     "name": "stderr",
     "output_type": "stream",
     "text": [
      "2016-10-11 23:48:54,565 : INFO : merging projections: (26996L, 100L) + (26996L, 19L)\n"
     ]
    },
    {
     "name": "stderr",
     "output_type": "stream",
     "text": [
      "2016-10-11 23:48:54,609 : INFO : keeping 100 factors (discarding 0.219% of energy spectrum)\n"
     ]
    },
    {
     "name": "stderr",
     "output_type": "stream",
     "text": [
      "2016-10-11 23:48:54,644 : INFO : processed documents up to #940\n"
     ]
    },
    {
     "name": "stderr",
     "output_type": "stream",
     "text": [
      "2016-10-11 23:48:54,644 : INFO : topic #0(2044.251): 0.471*\"АЛЛАХ\" + 0.260*\"ЗНАЧЕНИЕ\" + 0.255*\"СВОЙ\" + 0.228*\"СКАЗАТЬ\" + 0.214*\"КОТОРЫЙ\" + 0.195*\"ИМАМ\" + 0.182*\"СЛОВО\" + 0.173*\"ЧЕЛОВЕК\" + 0.160*\"ПРОРОК\" + 0.143*\"ТОТ\"\n"
     ]
    },
    {
     "name": "stderr",
     "output_type": "stream",
     "text": [
      "2016-10-11 23:48:54,645 : INFO : topic #1(1155.465): -0.469*\"ЗНАЧЕНИЕ\" + 0.257*\"ИМАМ\" + -0.233*\"СВЯТОЙ\" + 0.232*\"ПРОРОК\" + -0.224*\"ВЕЛИК\" + -0.195*\"СЛОВО\" + 0.165*\"ХАДИС\" + 0.148*\"ПОСЛАННИК\" + 0.125*\"КОТОРЫЙ\" + 0.122*\"СТРАНИЦА\"\n"
     ]
    },
    {
     "name": "stderr",
     "output_type": "stream",
     "text": [
      "2016-10-11 23:48:54,647 : INFO : topic #2(620.794): -0.478*\"ИМАМ\" + 0.463*\"АЛЛАХ\" + -0.271*\"ХУСЕЙН\" + 0.268*\"ПОСЛАННИК\" + -0.255*\"ШИИТ\" + 0.209*\"АЯТ\" + -0.177*\"ЙАЗИД\" + -0.117*\"КОТОРЫЙ\" + -0.113*\"ЧЕЛОВЕК\" + -0.105*\"ТОТ\"\n"
     ]
    },
    {
     "name": "stderr",
     "output_type": "stream",
     "text": [
      "2016-10-11 23:48:54,648 : INFO : topic #3(550.463): -0.451*\"ПРОРОК\" + 0.340*\"АЛЛАХ\" + -0.330*\"ДБАР\" + 0.313*\"ИМАМ\" + -0.164*\"МИССИЯ\" + -0.162*\"КОТОРЫЙ\" + -0.159*\"КОРАН\" + 0.157*\"СКАЗАТЬ\" + 0.145*\"ПОСЛАННИК\" + 0.126*\"ХУСЕЙН\"\n"
     ]
    },
    {
     "name": "stderr",
     "output_type": "stream",
     "text": [
      "2016-10-11 23:48:54,648 : INFO : topic #4(521.444): 0.485*\"ХАДИС\" + 0.294*\"КОРАН\" + -0.264*\"ПРОРОК\" + 0.257*\"КНИГА\" + -0.187*\"АЛЛАХ\" + -0.152*\"ДБАР\" + -0.149*\"ЧЕЛОВЕК\" + 0.140*\"БРАК\" + 0.139*\"АЯТ\" + 0.129*\"УЧЁНЫЙ\"\n"
     ]
    },
    {
     "name": "stderr",
     "output_type": "stream",
     "text": [
      "2016-10-11 23:48:54,670 : INFO : preparing a new chunk of documents\n"
     ]
    },
    {
     "name": "stderr",
     "output_type": "stream",
     "text": [
      "2016-10-11 23:48:54,671 : INFO : using 100 extra samples and 2 power iterations\n"
     ]
    },
    {
     "name": "stderr",
     "output_type": "stream",
     "text": [
      "2016-10-11 23:48:54,671 : INFO : 1st phase: constructing (26996L, 200L) action matrix\n"
     ]
    },
    {
     "name": "stderr",
     "output_type": "stream",
     "text": [
      "2016-10-11 23:48:54,676 : INFO : orthonormalizing (26996L, 200L) action matrix\n"
     ]
    },
    {
     "name": "stderr",
     "output_type": "stream",
     "text": [
      "2016-10-11 23:48:55,292 : INFO : 2nd phase: running dense svd on (200L, 20L) matrix\n"
     ]
    },
    {
     "name": "stderr",
     "output_type": "stream",
     "text": [
      "2016-10-11 23:48:55,313 : INFO : computing the final decomposition\n"
     ]
    },
    {
     "name": "stderr",
     "output_type": "stream",
     "text": [
      "2016-10-11 23:48:55,313 : INFO : keeping 19 factors (discarding 0.000% of energy spectrum)\n"
     ]
    },
    {
     "name": "stderr",
     "output_type": "stream",
     "text": [
      "2016-10-11 23:48:55,325 : INFO : merging projections: (26996L, 100L) + (26996L, 19L)\n"
     ]
    },
    {
     "name": "stderr",
     "output_type": "stream",
     "text": [
      "2016-10-11 23:48:55,367 : INFO : keeping 100 factors (discarding 0.139% of energy spectrum)\n"
     ]
    },
    {
     "name": "stderr",
     "output_type": "stream",
     "text": [
      "2016-10-11 23:48:55,400 : INFO : processed documents up to #960\n"
     ]
    },
    {
     "name": "stderr",
     "output_type": "stream",
     "text": [
      "2016-10-11 23:48:55,401 : INFO : topic #0(2082.617): 0.464*\"АЛЛАХ\" + 0.250*\"СВОЙ\" + 0.245*\"ЗНАЧЕНИЕ\" + 0.228*\"СКАЗАТЬ\" + 0.220*\"КОТОРЫЙ\" + 0.207*\"ИМАМ\" + 0.177*\"СЛОВО\" + 0.171*\"ЧЕЛОВЕК\" + 0.166*\"ПРОРОК\" + 0.155*\"ХАДИС\"\n"
     ]
    },
    {
     "name": "stderr",
     "output_type": "stream",
     "text": [
      "2016-10-11 23:48:55,403 : INFO : topic #1(1189.657): -0.468*\"ЗНАЧЕНИЕ\" + 0.256*\"ИМАМ\" + -0.234*\"СВЯТОЙ\" + 0.224*\"ХАДИС\" + -0.223*\"ВЕЛИК\" + 0.217*\"ПРОРОК\" + -0.195*\"СЛОВО\" + 0.136*\"ПОСЛАННИК\" + 0.127*\"КНИГА\" + 0.120*\"КОТОРЫЙ\"\n"
     ]
    },
    {
     "name": "stderr",
     "output_type": "stream",
     "text": [
      "2016-10-11 23:48:55,404 : INFO : topic #2(647.710): 0.464*\"АЛЛАХ\" + -0.390*\"ХАДИС\" + -0.302*\"КНИГА\" + -0.292*\"ИМАМ\" + 0.238*\"ПОСЛАННИК\" + 0.198*\"АЯТ\" + -0.165*\"ШИИТ\" + -0.141*\"ЗНАЧЕНИЕ\" + 0.133*\"ПРОРОК\" + -0.117*\"ХУСЕЙН\"\n"
     ]
    },
    {
     "name": "stderr",
     "output_type": "stream",
     "text": [
      "2016-10-11 23:48:55,404 : INFO : topic #3(600.002): 0.468*\"ХАДИС\" + -0.383*\"ИМАМ\" + -0.269*\"ХУСЕЙН\" + 0.265*\"КНИГА\" + -0.205*\"ЧЕЛОВЕК\" + 0.177*\"АЛЛАХ\" + -0.176*\"ШИИТ\" + -0.162*\"ЙАЗИД\" + 0.145*\"ПОСЛАННИК\" + 0.145*\"КОРАН\"\n"
     ]
    },
    {
     "name": "stderr",
     "output_type": "stream",
     "text": [
      "2016-10-11 23:48:55,405 : INFO : topic #4(552.123): -0.453*\"ПРОРОК\" + 0.332*\"АЛЛАХ\" + -0.330*\"ДБАР\" + 0.319*\"ИМАМ\" + -0.162*\"МИССИЯ\" + -0.160*\"КОТОРЫЙ\" + -0.160*\"КОРАН\" + 0.157*\"СКАЗАТЬ\" + 0.145*\"ПОСЛАННИК\" + 0.135*\"ХУСЕЙН\"\n"
     ]
    },
    {
     "name": "stderr",
     "output_type": "stream",
     "text": [
      "2016-10-11 23:48:55,427 : INFO : preparing a new chunk of documents\n"
     ]
    },
    {
     "name": "stderr",
     "output_type": "stream",
     "text": [
      "2016-10-11 23:48:55,428 : INFO : using 100 extra samples and 2 power iterations\n"
     ]
    },
    {
     "name": "stderr",
     "output_type": "stream",
     "text": [
      "2016-10-11 23:48:55,430 : INFO : 1st phase: constructing (26996L, 200L) action matrix\n"
     ]
    },
    {
     "name": "stderr",
     "output_type": "stream",
     "text": [
      "2016-10-11 23:48:55,433 : INFO : orthonormalizing (26996L, 200L) action matrix\n"
     ]
    },
    {
     "name": "stderr",
     "output_type": "stream",
     "text": [
      "2016-10-11 23:48:56,039 : INFO : 2nd phase: running dense svd on (200L, 20L) matrix\n"
     ]
    },
    {
     "name": "stderr",
     "output_type": "stream",
     "text": [
      "2016-10-11 23:48:56,059 : INFO : computing the final decomposition\n"
     ]
    },
    {
     "name": "stderr",
     "output_type": "stream",
     "text": [
      "2016-10-11 23:48:56,059 : INFO : keeping 19 factors (discarding 0.000% of energy spectrum)\n"
     ]
    },
    {
     "name": "stderr",
     "output_type": "stream",
     "text": [
      "2016-10-11 23:48:56,071 : INFO : merging projections: (26996L, 100L) + (26996L, 19L)\n"
     ]
    },
    {
     "name": "stderr",
     "output_type": "stream",
     "text": [
      "2016-10-11 23:48:56,115 : INFO : keeping 100 factors (discarding 0.147% of energy spectrum)\n"
     ]
    },
    {
     "name": "stderr",
     "output_type": "stream",
     "text": [
      "2016-10-11 23:48:56,153 : INFO : processed documents up to #980\n"
     ]
    },
    {
     "name": "stderr",
     "output_type": "stream",
     "text": [
      "2016-10-11 23:48:56,154 : INFO : topic #0(2091.280): 0.463*\"АЛЛАХ\" + 0.250*\"СВОЙ\" + 0.242*\"ЗНАЧЕНИЕ\" + 0.229*\"СКАЗАТЬ\" + 0.221*\"КОТОРЫЙ\" + 0.206*\"ИМАМ\" + 0.175*\"СЛОВО\" + 0.172*\"ЧЕЛОВЕК\" + 0.167*\"ПРОРОК\" + 0.156*\"ХАДИС\"\n"
     ]
    },
    {
     "name": "stderr",
     "output_type": "stream",
     "text": [
      "2016-10-11 23:48:56,154 : INFO : topic #1(1192.865): -0.470*\"ЗНАЧЕНИЕ\" + 0.252*\"ИМАМ\" + -0.234*\"СВЯТОЙ\" + 0.225*\"ХАДИС\" + -0.224*\"ВЕЛИК\" + 0.216*\"ПРОРОК\" + -0.196*\"СЛОВО\" + 0.135*\"ПОСЛАННИК\" + 0.128*\"КНИГА\" + 0.119*\"КОТОРЫЙ\"\n"
     ]
    },
    {
     "name": "stderr",
     "output_type": "stream",
     "text": [
      "2016-10-11 23:48:56,155 : INFO : topic #2(651.672): 0.458*\"АЛЛАХ\" + -0.405*\"ХАДИС\" + -0.306*\"КНИГА\" + -0.279*\"ИМАМ\" + 0.234*\"ПОСЛАННИК\" + 0.194*\"АЯТ\" + -0.158*\"ШИИТ\" + -0.143*\"ЗНАЧЕНИЕ\" + 0.141*\"ПРОРОК\" + 0.122*\"ДБАР\"\n"
     ]
    },
    {
     "name": "stderr",
     "output_type": "stream",
     "text": [
      "2016-10-11 23:48:56,157 : INFO : topic #3(601.475): 0.456*\"ХАДИС\" + -0.394*\"ИМАМ\" + -0.273*\"ХУСЕЙН\" + 0.252*\"КНИГА\" + -0.203*\"ЧЕЛОВЕК\" + 0.194*\"АЛЛАХ\" + -0.182*\"ШИИТ\" + -0.164*\"ЙАЗИД\" + 0.153*\"ПОСЛАННИК\" + 0.141*\"КОРАН\"\n"
     ]
    },
    {
     "name": "stderr",
     "output_type": "stream",
     "text": [
      "2016-10-11 23:48:56,158 : INFO : topic #4(552.793): -0.450*\"ПРОРОК\" + 0.334*\"АЛЛАХ\" + -0.331*\"ДБАР\" + 0.322*\"ИМАМ\" + -0.161*\"МИССИЯ\" + -0.159*\"КОТОРЫЙ\" + -0.159*\"КОРАН\" + 0.156*\"СКАЗАТЬ\" + 0.145*\"ПОСЛАННИК\" + 0.136*\"ХУСЕЙН\"\n"
     ]
    },
    {
     "name": "stderr",
     "output_type": "stream",
     "text": [
      "2016-10-11 23:48:56,171 : INFO : preparing a new chunk of documents\n"
     ]
    },
    {
     "name": "stderr",
     "output_type": "stream",
     "text": [
      "2016-10-11 23:48:56,173 : INFO : using 100 extra samples and 2 power iterations\n"
     ]
    },
    {
     "name": "stderr",
     "output_type": "stream",
     "text": [
      "2016-10-11 23:48:56,174 : INFO : 1st phase: constructing (26996L, 200L) action matrix\n"
     ]
    },
    {
     "name": "stderr",
     "output_type": "stream",
     "text": [
      "2016-10-11 23:48:56,177 : INFO : orthonormalizing (26996L, 200L) action matrix\n"
     ]
    },
    {
     "name": "stderr",
     "output_type": "stream",
     "text": [
      "2016-10-11 23:48:56,733 : INFO : 2nd phase: running dense svd on (200L, 20L) matrix\n"
     ]
    },
    {
     "name": "stderr",
     "output_type": "stream",
     "text": [
      "2016-10-11 23:48:56,753 : INFO : computing the final decomposition\n"
     ]
    },
    {
     "name": "stderr",
     "output_type": "stream",
     "text": [
      "2016-10-11 23:48:56,753 : INFO : keeping 18 factors (discarding 0.000% of energy spectrum)\n"
     ]
    },
    {
     "name": "stderr",
     "output_type": "stream",
     "text": [
      "2016-10-11 23:48:56,763 : INFO : merging projections: (26996L, 100L) + (26996L, 18L)\n"
     ]
    },
    {
     "name": "stderr",
     "output_type": "stream",
     "text": [
      "2016-10-11 23:48:56,805 : INFO : keeping 100 factors (discarding 0.129% of energy spectrum)\n"
     ]
    },
    {
     "name": "stderr",
     "output_type": "stream",
     "text": [
      "2016-10-11 23:48:56,838 : INFO : processed documents up to #1000\n"
     ]
    },
    {
     "name": "stderr",
     "output_type": "stream",
     "text": [
      "2016-10-11 23:48:56,839 : INFO : topic #0(2094.533): 0.464*\"АЛЛАХ\" + 0.250*\"СВОЙ\" + 0.241*\"ЗНАЧЕНИЕ\" + 0.229*\"СКАЗАТЬ\" + 0.221*\"КОТОРЫЙ\" + 0.206*\"ИМАМ\" + 0.175*\"СЛОВО\" + 0.172*\"ЧЕЛОВЕК\" + 0.167*\"ПРОРОК\" + 0.157*\"ХАДИС\"\n"
     ]
    },
    {
     "name": "stderr",
     "output_type": "stream",
     "text": [
      "2016-10-11 23:48:56,841 : INFO : topic #1(1193.977): -0.470*\"ЗНАЧЕНИЕ\" + 0.251*\"ИМАМ\" + -0.235*\"СВЯТОЙ\" + 0.225*\"ХАДИС\" + -0.224*\"ВЕЛИК\" + 0.214*\"ПРОРОК\" + -0.196*\"СЛОВО\" + 0.135*\"ПОСЛАННИК\" + 0.128*\"КНИГА\" + 0.118*\"КОТОРЫЙ\"\n"
     ]
    },
    {
     "name": "stderr",
     "output_type": "stream",
     "text": [
      "2016-10-11 23:48:56,842 : INFO : topic #2(652.719): 0.461*\"АЛЛАХ\" + -0.401*\"ХАДИС\" + -0.303*\"КНИГА\" + -0.284*\"ИМАМ\" + 0.236*\"ПОСЛАННИК\" + 0.195*\"АЯТ\" + -0.159*\"ШИИТ\" + -0.142*\"ЗНАЧЕНИЕ\" + 0.140*\"ПРОРОК\" + 0.121*\"ДБАР\"\n"
     ]
    },
    {
     "name": "stderr",
     "output_type": "stream",
     "text": [
      "2016-10-11 23:48:56,842 : INFO : topic #3(602.941): 0.458*\"ХАДИС\" + -0.393*\"ИМАМ\" + -0.270*\"ХУСЕЙН\" + 0.253*\"КНИГА\" + -0.203*\"ЧЕЛОВЕК\" + 0.189*\"АЛЛАХ\" + -0.178*\"ШИИТ\" + -0.162*\"ЙАЗИД\" + 0.151*\"ПОСЛАННИК\" + 0.142*\"КОРАН\"\n"
     ]
    },
    {
     "name": "stderr",
     "output_type": "stream",
     "text": [
      "2016-10-11 23:48:56,845 : INFO : topic #4(553.487): -0.450*\"ПРОРОК\" + 0.333*\"АЛЛАХ\" + -0.330*\"ДБАР\" + 0.324*\"ИМАМ\" + -0.161*\"КОРАН\" + -0.161*\"МИССИЯ\" + -0.159*\"КОТОРЫЙ\" + 0.158*\"СКАЗАТЬ\" + 0.144*\"ПОСЛАННИК\" + 0.137*\"ХУСЕЙН\"\n"
     ]
    },
    {
     "name": "stderr",
     "output_type": "stream",
     "text": [
      "2016-10-11 23:48:56,872 : INFO : preparing a new chunk of documents\n"
     ]
    },
    {
     "name": "stderr",
     "output_type": "stream",
     "text": [
      "2016-10-11 23:48:56,874 : INFO : using 100 extra samples and 2 power iterations\n"
     ]
    },
    {
     "name": "stderr",
     "output_type": "stream",
     "text": [
      "2016-10-11 23:48:56,875 : INFO : 1st phase: constructing (26996L, 200L) action matrix\n"
     ]
    },
    {
     "name": "stderr",
     "output_type": "stream",
     "text": [
      "2016-10-11 23:48:56,878 : INFO : orthonormalizing (26996L, 200L) action matrix\n"
     ]
    },
    {
     "name": "stderr",
     "output_type": "stream",
     "text": [
      "2016-10-11 23:48:57,444 : INFO : 2nd phase: running dense svd on (200L, 20L) matrix\n"
     ]
    },
    {
     "name": "stderr",
     "output_type": "stream",
     "text": [
      "2016-10-11 23:48:57,466 : INFO : computing the final decomposition\n"
     ]
    },
    {
     "name": "stderr",
     "output_type": "stream",
     "text": [
      "2016-10-11 23:48:57,466 : INFO : keeping 20 factors (discarding 0.000% of energy spectrum)\n"
     ]
    },
    {
     "name": "stderr",
     "output_type": "stream",
     "text": [
      "2016-10-11 23:48:57,474 : INFO : merging projections: (26996L, 100L) + (26996L, 20L)\n"
     ]
    },
    {
     "name": "stderr",
     "output_type": "stream",
     "text": [
      "2016-10-11 23:48:57,516 : INFO : keeping 100 factors (discarding 0.208% of energy spectrum)\n"
     ]
    },
    {
     "name": "stderr",
     "output_type": "stream",
     "text": [
      "2016-10-11 23:48:57,549 : INFO : processed documents up to #1020\n"
     ]
    },
    {
     "name": "stderr",
     "output_type": "stream",
     "text": [
      "2016-10-11 23:48:57,551 : INFO : topic #0(2185.334): 0.458*\"АЛЛАХ\" + 0.243*\"СКАЗАТЬ\" + 0.239*\"СВОЙ\" + 0.225*\"КОТОРЫЙ\" + 0.217*\"ЗНАЧЕНИЕ\" + 0.199*\"ИМАМ\" + 0.189*\"ХАДИС\" + 0.174*\"СЛОВО\" + 0.169*\"ЧЕЛОВЕК\" + 0.160*\"ПРОРОК\"\n"
     ]
    },
    {
     "name": "stderr",
     "output_type": "stream",
     "text": [
      "2016-10-11 23:48:57,552 : INFO : topic #1(1225.297): -0.479*\"ЗНАЧЕНИЕ\" + 0.251*\"ХАДИС\" + -0.243*\"СВЯТОЙ\" + -0.230*\"ВЕЛИК\" + 0.205*\"ИМАМ\" + -0.189*\"СЛОВО\" + 0.173*\"ПРОРОК\" + 0.136*\"ПОСЛАННИК\" + -0.116*\"СВОЙ\" + 0.115*\"КНИГА\"\n"
     ]
    },
    {
     "name": "stderr",
     "output_type": "stream",
     "text": [
      "2016-10-11 23:48:57,552 : INFO : topic #2(725.362): -0.415*\"ХАДИС\" + 0.304*\"ПРОРОК\" + 0.271*\"ИМАМ\" + -0.196*\"БРАК\" + -0.189*\"ХАДЖ\" + -0.170*\"ЖЕНЩИНА\" + 0.158*\"ДБАР\" + 0.157*\"ЧЕЛОВЕК\" + -0.151*\"ГОВОРИТЬ\" + -0.149*\"ЗАПРЕТ\"\n"
     ]
    },
    {
     "name": "stderr",
     "output_type": "stream",
     "text": [
      "2016-10-11 23:48:57,553 : INFO : topic #3(650.547): 0.489*\"АЛЛАХ\" + -0.413*\"ИМАМ\" + 0.276*\"ПОСЛАННИК\" + -0.234*\"КНИГА\" + 0.228*\"АЯТ\" + -0.227*\"ХАДИС\" + -0.193*\"ШИИТ\" + -0.178*\"ХУСЕЙН\" + -0.127*\"ЗНАЧЕНИЕ\" + 0.127*\"СКАЗАТЬ\"\n"
     ]
    },
    {
     "name": "stderr",
     "output_type": "stream",
     "text": [
      "2016-10-11 23:48:57,555 : INFO : topic #4(558.718): -0.398*\"ПРОРОК\" + 0.370*\"ИМАМ\" + -0.267*\"ДБАР\" + 0.232*\"ХУСЕЙН\" + -0.208*\"ХАДИС\" + 0.208*\"АЛЛАХ\" + -0.201*\"КОРАН\" + -0.190*\"КНИГА\" + 0.160*\"СКАЗАТЬ\" + 0.124*\"ЙАЗИД\"\n"
     ]
    },
    {
     "name": "stderr",
     "output_type": "stream",
     "text": [
      "2016-10-11 23:48:57,588 : INFO : preparing a new chunk of documents\n"
     ]
    },
    {
     "name": "stderr",
     "output_type": "stream",
     "text": [
      "2016-10-11 23:48:57,589 : INFO : using 100 extra samples and 2 power iterations\n"
     ]
    },
    {
     "name": "stderr",
     "output_type": "stream",
     "text": [
      "2016-10-11 23:48:57,589 : INFO : 1st phase: constructing (26996L, 200L) action matrix\n"
     ]
    },
    {
     "name": "stderr",
     "output_type": "stream",
     "text": [
      "2016-10-11 23:48:57,595 : INFO : orthonormalizing (26996L, 200L) action matrix\n"
     ]
    },
    {
     "name": "stderr",
     "output_type": "stream",
     "text": [
      "2016-10-11 23:48:58,163 : INFO : 2nd phase: running dense svd on (200L, 20L) matrix\n"
     ]
    },
    {
     "name": "stderr",
     "output_type": "stream",
     "text": [
      "2016-10-11 23:48:58,181 : INFO : computing the final decomposition\n"
     ]
    },
    {
     "name": "stderr",
     "output_type": "stream",
     "text": [
      "2016-10-11 23:48:58,183 : INFO : keeping 19 factors (discarding 0.000% of energy spectrum)\n"
     ]
    },
    {
     "name": "stderr",
     "output_type": "stream",
     "text": [
      "2016-10-11 23:48:58,191 : INFO : merging projections: (26996L, 100L) + (26996L, 19L)\n"
     ]
    },
    {
     "name": "stderr",
     "output_type": "stream",
     "text": [
      "2016-10-11 23:48:58,233 : INFO : keeping 100 factors (discarding 0.118% of energy spectrum)\n"
     ]
    },
    {
     "name": "stderr",
     "output_type": "stream",
     "text": [
      "2016-10-11 23:48:58,269 : INFO : processed documents up to #1040\n"
     ]
    },
    {
     "name": "stderr",
     "output_type": "stream",
     "text": [
      "2016-10-11 23:48:58,269 : INFO : topic #0(2220.852): 0.455*\"АЛЛАХ\" + 0.246*\"СКАЗАТЬ\" + 0.239*\"СВОЙ\" + 0.228*\"КОТОРЫЙ\" + 0.217*\"ЗНАЧЕНИЕ\" + 0.196*\"ИМАМ\" + 0.185*\"ХАДИС\" + 0.175*\"СЛОВО\" + 0.170*\"ЧЕЛОВЕК\" + 0.159*\"ПРОРОК\"\n"
     ]
    },
    {
     "name": "stderr",
     "output_type": "stream",
     "text": [
      "2016-10-11 23:48:58,270 : INFO : topic #1(1241.029): -0.480*\"ЗНАЧЕНИЕ\" + 0.248*\"ХАДИС\" + -0.243*\"СВЯТОЙ\" + -0.230*\"ВЕЛИК\" + 0.203*\"ИМАМ\" + -0.188*\"СЛОВО\" + 0.173*\"ПРОРОК\" + 0.133*\"ПОСЛАННИК\" + -0.115*\"СВОЙ\" + 0.114*\"КНИГА\"\n"
     ]
    },
    {
     "name": "stderr",
     "output_type": "stream",
     "text": [
      "2016-10-11 23:48:58,272 : INFO : topic #2(727.636): -0.414*\"ХАДИС\" + 0.304*\"ПРОРОК\" + 0.272*\"ИМАМ\" + -0.194*\"БРАК\" + -0.187*\"ХАДЖ\" + -0.169*\"ЖЕНЩИНА\" + 0.157*\"ДБАР\" + 0.154*\"ЧЕЛОВЕК\" + -0.151*\"ГОВОРИТЬ\" + -0.148*\"ЗАПРЕТ\"\n"
     ]
    },
    {
     "name": "stderr",
     "output_type": "stream",
     "text": [
      "2016-10-11 23:48:58,273 : INFO : topic #3(656.889): 0.510*\"АЛЛАХ\" + -0.386*\"ИМАМ\" + 0.279*\"ПОСЛАННИК\" + 0.234*\"АЯТ\" + -0.230*\"КНИГА\" + -0.212*\"ХАДИС\" + -0.190*\"ШИИТ\" + -0.169*\"ХУСЕЙН\" + -0.127*\"ЗНАЧЕНИЕ\" + 0.126*\"СКАЗАТЬ\"\n"
     ]
    },
    {
     "name": "stderr",
     "output_type": "stream",
     "text": [
      "2016-10-11 23:48:58,273 : INFO : topic #4(562.099): -0.408*\"ПРОРОК\" + 0.398*\"ИМАМ\" + -0.283*\"ДБАР\" + 0.228*\"АЛЛАХ\" + 0.226*\"ХУСЕЙН\" + -0.203*\"КОРАН\" + 0.165*\"СКАЗАТЬ\" + -0.151*\"ХАДИС\" + -0.142*\"КНИГА\" + -0.125*\"МИССИЯ\"\n"
     ]
    },
    {
     "name": "stderr",
     "output_type": "stream",
     "text": [
      "2016-10-11 23:48:58,311 : INFO : preparing a new chunk of documents\n"
     ]
    },
    {
     "name": "stderr",
     "output_type": "stream",
     "text": [
      "2016-10-11 23:48:58,312 : INFO : using 100 extra samples and 2 power iterations\n"
     ]
    },
    {
     "name": "stderr",
     "output_type": "stream",
     "text": [
      "2016-10-11 23:48:58,312 : INFO : 1st phase: constructing (26996L, 200L) action matrix\n"
     ]
    },
    {
     "name": "stderr",
     "output_type": "stream",
     "text": [
      "2016-10-11 23:48:58,318 : INFO : orthonormalizing (26996L, 200L) action matrix\n"
     ]
    },
    {
     "name": "stderr",
     "output_type": "stream",
     "text": [
      "2016-10-11 23:48:58,875 : INFO : 2nd phase: running dense svd on (200L, 20L) matrix\n"
     ]
    },
    {
     "name": "stderr",
     "output_type": "stream",
     "text": [
      "2016-10-11 23:48:58,897 : INFO : computing the final decomposition\n"
     ]
    },
    {
     "name": "stderr",
     "output_type": "stream",
     "text": [
      "2016-10-11 23:48:58,897 : INFO : keeping 19 factors (discarding 0.000% of energy spectrum)\n"
     ]
    },
    {
     "name": "stderr",
     "output_type": "stream",
     "text": [
      "2016-10-11 23:48:58,907 : INFO : merging projections: (26996L, 100L) + (26996L, 19L)\n"
     ]
    },
    {
     "name": "stderr",
     "output_type": "stream",
     "text": [
      "2016-10-11 23:48:58,950 : INFO : keeping 100 factors (discarding 0.181% of energy spectrum)\n"
     ]
    },
    {
     "name": "stderr",
     "output_type": "stream",
     "text": [
      "2016-10-11 23:48:58,983 : INFO : processed documents up to #1060\n"
     ]
    },
    {
     "name": "stderr",
     "output_type": "stream",
     "text": [
      "2016-10-11 23:48:58,983 : INFO : topic #0(2272.813): 0.466*\"АЛЛАХ\" + 0.255*\"СКАЗАТЬ\" + 0.236*\"СВОЙ\" + 0.229*\"КОТОРЫЙ\" + 0.206*\"ЗНАЧЕНИЕ\" + 0.204*\"ИМАМ\" + 0.179*\"ХАДИС\" + 0.172*\"СЛОВО\" + 0.172*\"ЧЕЛОВЕК\" + 0.157*\"ПРОРОК\"\n"
     ]
    },
    {
     "name": "stderr",
     "output_type": "stream",
     "text": [
      "2016-10-11 23:48:58,984 : INFO : topic #1(1244.491): -0.485*\"ЗНАЧЕНИЕ\" + -0.246*\"СВЯТОЙ\" + 0.239*\"ХАДИС\" + -0.232*\"ВЕЛИК\" + 0.206*\"ИМАМ\" + -0.191*\"СЛОВО\" + 0.169*\"ПРОРОК\" + 0.133*\"ПОСЛАННИК\" + -0.119*\"СВОЙ\" + -0.114*\"ТВОРЕНИЕ\"\n"
     ]
    },
    {
     "name": "stderr",
     "output_type": "stream",
     "text": [
      "2016-10-11 23:48:58,986 : INFO : topic #2(742.641): -0.455*\"ХАДИС\" + 0.259*\"ИМАМ\" + 0.231*\"ПРОРОК\" + 0.207*\"АЛЛАХ\" + -0.184*\"БРАК\" + -0.177*\"ХАДЖ\" + -0.157*\"ЖЕНЩИНА\" + -0.150*\"ГОВОРИТЬ\" + -0.147*\"КНИГА\" + 0.143*\"ЧЕЛОВЕК\"\n"
     ]
    },
    {
     "name": "stderr",
     "output_type": "stream",
     "text": [
      "2016-10-11 23:48:58,986 : INFO : topic #3(671.758): -0.523*\"АЛЛАХ\" + 0.328*\"ИМАМ\" + -0.274*\"ПОСЛАННИК\" + 0.217*\"КНИГА\" + -0.200*\"АЯТ\" + -0.193*\"СКАЗАТЬ\" + 0.169*\"ШИИТ\" + 0.149*\"КОТОРЫЙ\" + 0.137*\"ХАДИС\" + 0.136*\"ХУСЕЙН\"\n"
     ]
    },
    {
     "name": "stderr",
     "output_type": "stream",
     "text": [
      "2016-10-11 23:48:58,987 : INFO : topic #4(602.387): -0.431*\"ИМАМ\" + 0.426*\"ПРОРОК\" + 0.301*\"ДБАР\" + -0.215*\"ХУСЕЙН\" + 0.200*\"КОРАН\" + 0.171*\"АЯТ\" + -0.167*\"СКАЗАТЬ\" + -0.128*\"ШИИТ\" + 0.122*\"МУСУЛЬМАНИН\" + 0.113*\"МИССИЯ\"\n"
     ]
    },
    {
     "name": "stderr",
     "output_type": "stream",
     "text": [
      "2016-10-11 23:48:58,999 : INFO : preparing a new chunk of documents\n"
     ]
    },
    {
     "name": "stderr",
     "output_type": "stream",
     "text": [
      "2016-10-11 23:48:59,000 : INFO : using 100 extra samples and 2 power iterations\n"
     ]
    },
    {
     "name": "stderr",
     "output_type": "stream",
     "text": [
      "2016-10-11 23:48:59,000 : INFO : 1st phase: constructing (26996L, 200L) action matrix\n"
     ]
    },
    {
     "name": "stderr",
     "output_type": "stream",
     "text": [
      "2016-10-11 23:48:59,002 : INFO : orthonormalizing (26996L, 200L) action matrix\n"
     ]
    },
    {
     "name": "stderr",
     "output_type": "stream",
     "text": [
      "2016-10-11 23:48:59,558 : INFO : 2nd phase: running dense svd on (200L, 20L) matrix\n"
     ]
    },
    {
     "name": "stderr",
     "output_type": "stream",
     "text": [
      "2016-10-11 23:48:59,578 : INFO : computing the final decomposition\n"
     ]
    },
    {
     "name": "stderr",
     "output_type": "stream",
     "text": [
      "2016-10-11 23:48:59,578 : INFO : keeping 19 factors (discarding 0.000% of energy spectrum)\n"
     ]
    },
    {
     "name": "stderr",
     "output_type": "stream",
     "text": [
      "2016-10-11 23:48:59,588 : INFO : merging projections: (26996L, 100L) + (26996L, 19L)\n"
     ]
    },
    {
     "name": "stderr",
     "output_type": "stream",
     "text": [
      "2016-10-11 23:48:59,628 : INFO : keeping 100 factors (discarding 0.071% of energy spectrum)\n"
     ]
    },
    {
     "name": "stderr",
     "output_type": "stream",
     "text": [
      "2016-10-11 23:48:59,664 : INFO : processed documents up to #1080\n"
     ]
    },
    {
     "name": "stderr",
     "output_type": "stream",
     "text": [
      "2016-10-11 23:48:59,664 : INFO : topic #0(2273.356): 0.466*\"АЛЛАХ\" + 0.255*\"СКАЗАТЬ\" + 0.236*\"СВОЙ\" + 0.229*\"КОТОРЫЙ\" + 0.206*\"ЗНАЧЕНИЕ\" + 0.204*\"ИМАМ\" + 0.179*\"ХАДИС\" + 0.172*\"СЛОВО\" + 0.172*\"ЧЕЛОВЕК\" + 0.157*\"ПРОРОК\"\n"
     ]
    },
    {
     "name": "stderr",
     "output_type": "stream",
     "text": [
      "2016-10-11 23:48:59,665 : INFO : topic #1(1244.663): -0.485*\"ЗНАЧЕНИЕ\" + -0.246*\"СВЯТОЙ\" + 0.239*\"ХАДИС\" + -0.232*\"ВЕЛИК\" + 0.206*\"ИМАМ\" + -0.191*\"СЛОВО\" + 0.169*\"ПРОРОК\" + 0.133*\"ПОСЛАННИК\" + -0.119*\"СВОЙ\" + -0.114*\"ТВОРЕНИЕ\"\n"
     ]
    },
    {
     "name": "stderr",
     "output_type": "stream",
     "text": [
      "2016-10-11 23:48:59,667 : INFO : topic #2(742.691): -0.455*\"ХАДИС\" + 0.259*\"ИМАМ\" + 0.231*\"ПРОРОК\" + 0.206*\"АЛЛАХ\" + -0.184*\"БРАК\" + -0.177*\"ХАДЖ\" + -0.157*\"ЖЕНЩИНА\" + -0.150*\"ГОВОРИТЬ\" + -0.147*\"КНИГА\" + 0.143*\"ЧЕЛОВЕК\"\n"
     ]
    },
    {
     "name": "stderr",
     "output_type": "stream",
     "text": [
      "2016-10-11 23:48:59,667 : INFO : topic #3(671.981): -0.523*\"АЛЛАХ\" + 0.327*\"ИМАМ\" + -0.274*\"ПОСЛАННИК\" + 0.217*\"КНИГА\" + -0.200*\"АЯТ\" + -0.193*\"СКАЗАТЬ\" + 0.169*\"ШИИТ\" + 0.149*\"КОТОРЫЙ\" + 0.137*\"ХАДИС\" + 0.136*\"ХУСЕЙН\"\n"
     ]
    },
    {
     "name": "stderr",
     "output_type": "stream",
     "text": [
      "2016-10-11 23:48:59,668 : INFO : topic #4(602.484): -0.431*\"ИМАМ\" + 0.426*\"ПРОРОК\" + 0.301*\"ДБАР\" + -0.215*\"ХУСЕЙН\" + 0.200*\"КОРАН\" + 0.172*\"АЯТ\" + -0.167*\"СКАЗАТЬ\" + -0.128*\"ШИИТ\" + 0.122*\"МУСУЛЬМАНИН\" + 0.113*\"МИССИЯ\"\n"
     ]
    },
    {
     "name": "stderr",
     "output_type": "stream",
     "text": [
      "2016-10-11 23:48:59,680 : INFO : preparing a new chunk of documents\n"
     ]
    },
    {
     "name": "stderr",
     "output_type": "stream",
     "text": [
      "2016-10-11 23:48:59,681 : INFO : using 100 extra samples and 2 power iterations\n"
     ]
    },
    {
     "name": "stderr",
     "output_type": "stream",
     "text": [
      "2016-10-11 23:48:59,681 : INFO : 1st phase: constructing (26996L, 200L) action matrix\n"
     ]
    },
    {
     "name": "stderr",
     "output_type": "stream",
     "text": [
      "2016-10-11 23:48:59,684 : INFO : orthonormalizing (26996L, 200L) action matrix\n"
     ]
    },
    {
     "name": "stderr",
     "output_type": "stream",
     "text": [
      "2016-10-11 23:49:00,253 : INFO : 2nd phase: running dense svd on (200L, 20L) matrix\n"
     ]
    },
    {
     "name": "stderr",
     "output_type": "stream",
     "text": [
      "2016-10-11 23:49:00,273 : INFO : computing the final decomposition\n"
     ]
    },
    {
     "name": "stderr",
     "output_type": "stream",
     "text": [
      "2016-10-11 23:49:00,273 : INFO : keeping 19 factors (discarding 0.000% of energy spectrum)\n"
     ]
    },
    {
     "name": "stderr",
     "output_type": "stream",
     "text": [
      "2016-10-11 23:49:00,283 : INFO : merging projections: (26996L, 100L) + (26996L, 19L)\n"
     ]
    },
    {
     "name": "stderr",
     "output_type": "stream",
     "text": [
      "2016-10-11 23:49:00,325 : INFO : keeping 100 factors (discarding 0.061% of energy spectrum)\n"
     ]
    },
    {
     "name": "stderr",
     "output_type": "stream",
     "text": [
      "2016-10-11 23:49:00,358 : INFO : processed documents up to #1100\n"
     ]
    },
    {
     "name": "stderr",
     "output_type": "stream",
     "text": [
      "2016-10-11 23:49:00,358 : INFO : topic #0(2273.880): 0.466*\"АЛЛАХ\" + 0.255*\"СКАЗАТЬ\" + 0.236*\"СВОЙ\" + 0.229*\"КОТОРЫЙ\" + 0.206*\"ЗНАЧЕНИЕ\" + 0.205*\"ИМАМ\" + 0.179*\"ХАДИС\" + 0.172*\"ЧЕЛОВЕК\" + 0.172*\"СЛОВО\" + 0.157*\"ПРОРОК\"\n"
     ]
    },
    {
     "name": "stderr",
     "output_type": "stream",
     "text": [
      "2016-10-11 23:49:00,359 : INFO : topic #1(1244.827): -0.485*\"ЗНАЧЕНИЕ\" + -0.246*\"СВЯТОЙ\" + 0.239*\"ХАДИС\" + -0.232*\"ВЕЛИК\" + 0.206*\"ИМАМ\" + -0.192*\"СЛОВО\" + 0.169*\"ПРОРОК\" + 0.133*\"ПОСЛАННИК\" + -0.119*\"СВОЙ\" + -0.114*\"ТВОРЕНИЕ\"\n"
     ]
    },
    {
     "name": "stderr",
     "output_type": "stream",
     "text": [
      "2016-10-11 23:49:00,361 : INFO : topic #2(742.913): -0.455*\"ХАДИС\" + 0.263*\"ИМАМ\" + 0.231*\"ПРОРОК\" + 0.203*\"АЛЛАХ\" + -0.184*\"БРАК\" + -0.177*\"ХАДЖ\" + -0.158*\"ЖЕНЩИНА\" + -0.150*\"ГОВОРИТЬ\" + -0.146*\"КНИГА\" + 0.143*\"ЧЕЛОВЕК\"\n"
     ]
    },
    {
     "name": "stderr",
     "output_type": "stream",
     "text": [
      "2016-10-11 23:49:00,361 : INFO : topic #3(673.122): 0.525*\"АЛЛАХ\" + -0.331*\"ИМАМ\" + 0.275*\"ПОСЛАННИК\" + -0.217*\"КНИГА\" + 0.200*\"АЯТ\" + 0.193*\"СКАЗАТЬ\" + -0.170*\"ШИИТ\" + -0.150*\"КОТОРЫЙ\" + -0.138*\"ХАДИС\" + -0.136*\"ХУСЕЙН\"\n"
     ]
    },
    {
     "name": "stderr",
     "output_type": "stream",
     "text": [
      "2016-10-11 23:49:00,364 : INFO : topic #4(602.761): -0.429*\"ИМАМ\" + 0.428*\"ПРОРОК\" + 0.302*\"ДБАР\" + -0.213*\"ХУСЕЙН\" + 0.200*\"КОРАН\" + 0.170*\"АЯТ\" + -0.168*\"СКАЗАТЬ\" + -0.126*\"ШИИТ\" + 0.122*\"МУСУЛЬМАНИН\" + 0.113*\"МИССИЯ\"\n"
     ]
    },
    {
     "name": "stderr",
     "output_type": "stream",
     "text": [
      "2016-10-11 23:49:00,384 : INFO : preparing a new chunk of documents\n"
     ]
    },
    {
     "name": "stderr",
     "output_type": "stream",
     "text": [
      "2016-10-11 23:49:00,387 : INFO : using 100 extra samples and 2 power iterations\n"
     ]
    },
    {
     "name": "stderr",
     "output_type": "stream",
     "text": [
      "2016-10-11 23:49:00,387 : INFO : 1st phase: constructing (26996L, 200L) action matrix\n"
     ]
    },
    {
     "name": "stderr",
     "output_type": "stream",
     "text": [
      "2016-10-11 23:49:00,391 : INFO : orthonormalizing (26996L, 200L) action matrix\n"
     ]
    },
    {
     "name": "stderr",
     "output_type": "stream",
     "text": [
      "2016-10-11 23:49:01,036 : INFO : 2nd phase: running dense svd on (200L, 20L) matrix\n"
     ]
    },
    {
     "name": "stderr",
     "output_type": "stream",
     "text": [
      "2016-10-11 23:49:01,058 : INFO : computing the final decomposition\n"
     ]
    },
    {
     "name": "stderr",
     "output_type": "stream",
     "text": [
      "2016-10-11 23:49:01,058 : INFO : keeping 19 factors (discarding 0.000% of energy spectrum)\n"
     ]
    },
    {
     "name": "stderr",
     "output_type": "stream",
     "text": [
      "2016-10-11 23:49:01,068 : INFO : merging projections: (26996L, 100L) + (26996L, 19L)\n"
     ]
    },
    {
     "name": "stderr",
     "output_type": "stream",
     "text": [
      "2016-10-11 23:49:01,109 : INFO : keeping 100 factors (discarding 0.176% of energy spectrum)\n"
     ]
    },
    {
     "name": "stderr",
     "output_type": "stream",
     "text": [
      "2016-10-11 23:49:01,148 : INFO : processed documents up to #1120\n"
     ]
    },
    {
     "name": "stderr",
     "output_type": "stream",
     "text": [
      "2016-10-11 23:49:01,150 : INFO : topic #0(2278.632): 0.465*\"АЛЛАХ\" + 0.255*\"СКАЗАТЬ\" + 0.235*\"СВОЙ\" + 0.229*\"КОТОРЫЙ\" + 0.205*\"ЗНАЧЕНИЕ\" + 0.205*\"ИМАМ\" + 0.179*\"ХАДИС\" + 0.172*\"ЧЕЛОВЕК\" + 0.171*\"СЛОВО\" + 0.159*\"ПРОРОК\"\n"
     ]
    },
    {
     "name": "stderr",
     "output_type": "stream",
     "text": [
      "2016-10-11 23:49:01,151 : INFO : topic #1(1246.524): -0.486*\"ЗНАЧЕНИЕ\" + -0.247*\"СВЯТОЙ\" + 0.238*\"ХАДИС\" + -0.232*\"ВЕЛИК\" + 0.205*\"ИМАМ\" + -0.192*\"СЛОВО\" + 0.171*\"ПРОРОК\" + 0.132*\"ПОСЛАННИК\" + -0.120*\"СВОЙ\" + -0.114*\"ТВОРЕНИЕ\"\n"
     ]
    },
    {
     "name": "stderr",
     "output_type": "stream",
     "text": [
      "2016-10-11 23:49:01,151 : INFO : topic #2(743.055): -0.455*\"ХАДИС\" + 0.262*\"ИМАМ\" + 0.232*\"ПРОРОК\" + 0.203*\"АЛЛАХ\" + -0.184*\"БРАК\" + -0.177*\"ХАДЖ\" + -0.158*\"ЖЕНЩИНА\" + -0.150*\"ГОВОРИТЬ\" + -0.146*\"КНИГА\" + 0.144*\"ЧЕЛОВЕК\"\n"
     ]
    },
    {
     "name": "stderr",
     "output_type": "stream",
     "text": [
      "2016-10-11 23:49:01,153 : INFO : topic #3(674.807): 0.526*\"АЛЛАХ\" + -0.327*\"ИМАМ\" + 0.276*\"ПОСЛАННИК\" + -0.216*\"КНИГА\" + 0.197*\"АЯТ\" + 0.196*\"СКАЗАТЬ\" + -0.169*\"ШИИТ\" + -0.150*\"КОТОРЫЙ\" + -0.134*\"ХАДИС\" + -0.133*\"ХУСЕЙН\"\n"
     ]
    },
    {
     "name": "stderr",
     "output_type": "stream",
     "text": [
      "2016-10-11 23:49:01,154 : INFO : topic #4(604.818): -0.436*\"ИМАМ\" + 0.432*\"ПРОРОК\" + 0.297*\"ДБАР\" + -0.215*\"ХУСЕЙН\" + 0.203*\"КОРАН\" + 0.169*\"АЯТ\" + -0.166*\"СКАЗАТЬ\" + -0.127*\"ШИИТ\" + 0.121*\"МУСУЛЬМАНИН\" + 0.112*\"МИССИЯ\"\n"
     ]
    },
    {
     "name": "stderr",
     "output_type": "stream",
     "text": [
      "2016-10-11 23:49:01,165 : INFO : preparing a new chunk of documents\n"
     ]
    },
    {
     "name": "stderr",
     "output_type": "stream",
     "text": [
      "2016-10-11 23:49:01,167 : INFO : using 100 extra samples and 2 power iterations\n"
     ]
    },
    {
     "name": "stderr",
     "output_type": "stream",
     "text": [
      "2016-10-11 23:49:01,167 : INFO : 1st phase: constructing (26996L, 200L) action matrix\n"
     ]
    },
    {
     "name": "stderr",
     "output_type": "stream",
     "text": [
      "2016-10-11 23:49:01,170 : INFO : orthonormalizing (26996L, 200L) action matrix\n"
     ]
    },
    {
     "name": "stderr",
     "output_type": "stream",
     "text": [
      "2016-10-11 23:49:01,812 : INFO : 2nd phase: running dense svd on (200L, 20L) matrix\n"
     ]
    },
    {
     "name": "stderr",
     "output_type": "stream",
     "text": [
      "2016-10-11 23:49:01,832 : INFO : computing the final decomposition\n"
     ]
    },
    {
     "name": "stderr",
     "output_type": "stream",
     "text": [
      "2016-10-11 23:49:01,832 : INFO : keeping 19 factors (discarding 0.000% of energy spectrum)\n"
     ]
    },
    {
     "name": "stderr",
     "output_type": "stream",
     "text": [
      "2016-10-11 23:49:01,842 : INFO : merging projections: (26996L, 100L) + (26996L, 19L)\n"
     ]
    },
    {
     "name": "stderr",
     "output_type": "stream",
     "text": [
      "2016-10-11 23:49:01,884 : INFO : keeping 100 factors (discarding 0.053% of energy spectrum)\n"
     ]
    },
    {
     "name": "stderr",
     "output_type": "stream",
     "text": [
      "2016-10-11 23:49:01,917 : INFO : processed documents up to #1140\n"
     ]
    },
    {
     "name": "stderr",
     "output_type": "stream",
     "text": [
      "2016-10-11 23:49:01,917 : INFO : topic #0(2279.406): 0.465*\"АЛЛАХ\" + 0.255*\"СКАЗАТЬ\" + 0.235*\"СВОЙ\" + 0.229*\"КОТОРЫЙ\" + 0.205*\"ИМАМ\" + 0.204*\"ЗНАЧЕНИЕ\" + 0.179*\"ХАДИС\" + 0.172*\"ЧЕЛОВЕК\" + 0.171*\"СЛОВО\" + 0.159*\"ПРОРОК\"\n"
     ]
    },
    {
     "name": "stderr",
     "output_type": "stream",
     "text": [
      "2016-10-11 23:49:01,918 : INFO : topic #1(1247.084): -0.485*\"ЗНАЧЕНИЕ\" + -0.246*\"СВЯТОЙ\" + 0.239*\"ХАДИС\" + -0.232*\"ВЕЛИК\" + 0.206*\"ИМАМ\" + -0.192*\"СЛОВО\" + 0.171*\"ПРОРОК\" + 0.131*\"ПОСЛАННИК\" + -0.120*\"СВОЙ\" + -0.114*\"ТВОРЕНИЕ\"\n"
     ]
    },
    {
     "name": "stderr",
     "output_type": "stream",
     "text": [
      "2016-10-11 23:49:01,920 : INFO : topic #2(743.147): -0.455*\"ХАДИС\" + 0.262*\"ИМАМ\" + 0.232*\"ПРОРОК\" + 0.203*\"АЛЛАХ\" + -0.184*\"БРАК\" + -0.177*\"ХАДЖ\" + -0.157*\"ЖЕНЩИНА\" + -0.150*\"ГОВОРИТЬ\" + -0.146*\"КНИГА\" + 0.144*\"ЧЕЛОВЕК\"\n"
     ]
    },
    {
     "name": "stderr",
     "output_type": "stream",
     "text": [
      "2016-10-11 23:49:01,921 : INFO : topic #3(675.709): 0.524*\"АЛЛАХ\" + -0.330*\"ИМАМ\" + 0.276*\"ПОСЛАННИК\" + -0.216*\"КНИГА\" + 0.197*\"АЯТ\" + 0.197*\"СКАЗАТЬ\" + -0.169*\"ШИИТ\" + -0.148*\"КОТОРЫЙ\" + -0.135*\"ХАДИС\" + -0.133*\"ХУСЕЙН\"\n"
     ]
    },
    {
     "name": "stderr",
     "output_type": "stream",
     "text": [
      "2016-10-11 23:49:01,923 : INFO : topic #4(604.996): -0.435*\"ИМАМ\" + 0.433*\"ПРОРОК\" + 0.297*\"ДБАР\" + -0.213*\"ХУСЕЙН\" + 0.203*\"КОРАН\" + 0.167*\"АЯТ\" + -0.166*\"СКАЗАТЬ\" + -0.126*\"ШИИТ\" + 0.121*\"МУСУЛЬМАНИН\" + 0.112*\"МИССИЯ\"\n"
     ]
    },
    {
     "name": "stderr",
     "output_type": "stream",
     "text": [
      "2016-10-11 23:49:01,933 : INFO : preparing a new chunk of documents\n"
     ]
    },
    {
     "name": "stderr",
     "output_type": "stream",
     "text": [
      "2016-10-11 23:49:01,934 : INFO : using 100 extra samples and 2 power iterations\n"
     ]
    },
    {
     "name": "stderr",
     "output_type": "stream",
     "text": [
      "2016-10-11 23:49:01,934 : INFO : 1st phase: constructing (26996L, 200L) action matrix\n"
     ]
    },
    {
     "name": "stderr",
     "output_type": "stream",
     "text": [
      "2016-10-11 23:49:01,936 : INFO : orthonormalizing (26996L, 200L) action matrix\n"
     ]
    },
    {
     "name": "stderr",
     "output_type": "stream",
     "text": [
      "2016-10-11 23:49:02,594 : INFO : 2nd phase: running dense svd on (200L, 20L) matrix\n"
     ]
    },
    {
     "name": "stderr",
     "output_type": "stream",
     "text": [
      "2016-10-11 23:49:02,614 : INFO : computing the final decomposition\n"
     ]
    },
    {
     "name": "stderr",
     "output_type": "stream",
     "text": [
      "2016-10-11 23:49:02,615 : INFO : keeping 18 factors (discarding 0.000% of energy spectrum)\n"
     ]
    },
    {
     "name": "stderr",
     "output_type": "stream",
     "text": [
      "2016-10-11 23:49:02,624 : INFO : merging projections: (26996L, 100L) + (26996L, 18L)\n"
     ]
    },
    {
     "name": "stderr",
     "output_type": "stream",
     "text": [
      "2016-10-11 23:49:02,664 : INFO : keeping 99 factors (discarding 0.094% of energy spectrum)\n"
     ]
    },
    {
     "name": "stderr",
     "output_type": "stream",
     "text": [
      "2016-10-11 23:49:02,697 : INFO : processed documents up to #1160\n"
     ]
    },
    {
     "name": "stderr",
     "output_type": "stream",
     "text": [
      "2016-10-11 23:49:02,698 : INFO : topic #0(2280.191): 0.465*\"АЛЛАХ\" + 0.255*\"СКАЗАТЬ\" + 0.235*\"СВОЙ\" + 0.229*\"КОТОРЫЙ\" + 0.205*\"ИМАМ\" + 0.204*\"ЗНАЧЕНИЕ\" + 0.180*\"ХАДИС\" + 0.172*\"ЧЕЛОВЕК\" + 0.171*\"СЛОВО\" + 0.159*\"ПРОРОК\"\n"
     ]
    },
    {
     "name": "stderr",
     "output_type": "stream",
     "text": [
      "2016-10-11 23:49:02,700 : INFO : topic #1(1247.659): -0.485*\"ЗНАЧЕНИЕ\" + -0.246*\"СВЯТОЙ\" + 0.239*\"ХАДИС\" + -0.232*\"ВЕЛИК\" + 0.206*\"ИМАМ\" + -0.192*\"СЛОВО\" + 0.170*\"ПРОРОК\" + 0.131*\"ПОСЛАННИК\" + -0.120*\"СВОЙ\" + -0.114*\"ТВОРЕНИЕ\"\n"
     ]
    },
    {
     "name": "stderr",
     "output_type": "stream",
     "text": [
      "2016-10-11 23:49:02,700 : INFO : topic #2(743.644): -0.455*\"ХАДИС\" + 0.260*\"ИМАМ\" + 0.231*\"ПРОРОК\" + 0.206*\"АЛЛАХ\" + -0.186*\"БРАК\" + -0.177*\"ХАДЖ\" + -0.157*\"ЖЕНЩИНА\" + -0.149*\"ГОВОРИТЬ\" + -0.147*\"КНИГА\" + 0.143*\"ЧЕЛОВЕК\"\n"
     ]
    },
    {
     "name": "stderr",
     "output_type": "stream",
     "text": [
      "2016-10-11 23:49:02,701 : INFO : topic #3(676.306): 0.522*\"АЛЛАХ\" + -0.334*\"ИМАМ\" + 0.276*\"ПОСЛАННИК\" + -0.215*\"КНИГА\" + 0.197*\"СКАЗАТЬ\" + 0.197*\"АЯТ\" + -0.169*\"ШИИТ\" + -0.146*\"КОТОРЫЙ\" + -0.133*\"ХУСЕЙН\" + -0.132*\"ХАДИС\"\n"
     ]
    },
    {
     "name": "stderr",
     "output_type": "stream",
     "text": [
      "2016-10-11 23:49:02,703 : INFO : topic #4(605.116): -0.435*\"ИМАМ\" + 0.434*\"ПРОРОК\" + 0.297*\"ДБАР\" + -0.213*\"ХУСЕЙН\" + 0.202*\"КОРАН\" + 0.166*\"АЯТ\" + -0.166*\"СКАЗАТЬ\" + -0.126*\"ШИИТ\" + 0.121*\"МУСУЛЬМАНИН\" + 0.112*\"МИССИЯ\"\n"
     ]
    },
    {
     "name": "stderr",
     "output_type": "stream",
     "text": [
      "2016-10-11 23:49:02,717 : INFO : preparing a new chunk of documents\n"
     ]
    },
    {
     "name": "stderr",
     "output_type": "stream",
     "text": [
      "2016-10-11 23:49:02,717 : INFO : using 100 extra samples and 2 power iterations\n"
     ]
    },
    {
     "name": "stderr",
     "output_type": "stream",
     "text": [
      "2016-10-11 23:49:02,717 : INFO : 1st phase: constructing (26996L, 200L) action matrix\n"
     ]
    },
    {
     "name": "stderr",
     "output_type": "stream",
     "text": [
      "2016-10-11 23:49:02,720 : INFO : orthonormalizing (26996L, 200L) action matrix\n"
     ]
    },
    {
     "name": "stderr",
     "output_type": "stream",
     "text": [
      "2016-10-11 23:49:03,365 : INFO : 2nd phase: running dense svd on (200L, 20L) matrix\n"
     ]
    },
    {
     "name": "stderr",
     "output_type": "stream",
     "text": [
      "2016-10-11 23:49:03,385 : INFO : computing the final decomposition\n"
     ]
    },
    {
     "name": "stderr",
     "output_type": "stream",
     "text": [
      "2016-10-11 23:49:03,387 : INFO : keeping 16 factors (discarding 0.000% of energy spectrum)\n"
     ]
    },
    {
     "name": "stderr",
     "output_type": "stream",
     "text": [
      "2016-10-11 23:49:03,395 : INFO : merging projections: (26996L, 99L) + (26996L, 16L)\n"
     ]
    },
    {
     "name": "stderr",
     "output_type": "stream",
     "text": [
      "2016-10-11 23:49:03,434 : INFO : keeping 99 factors (discarding 0.067% of energy spectrum)\n"
     ]
    },
    {
     "name": "stderr",
     "output_type": "stream",
     "text": [
      "2016-10-11 23:49:03,470 : INFO : processed documents up to #1180\n"
     ]
    },
    {
     "name": "stderr",
     "output_type": "stream",
     "text": [
      "2016-10-11 23:49:03,471 : INFO : topic #0(2281.399): 0.465*\"АЛЛАХ\" + 0.254*\"СКАЗАТЬ\" + 0.235*\"СВОЙ\" + 0.229*\"КОТОРЫЙ\" + 0.206*\"ИМАМ\" + 0.204*\"ЗНАЧЕНИЕ\" + 0.180*\"ХАДИС\" + 0.172*\"ЧЕЛОВЕК\" + 0.171*\"СЛОВО\" + 0.159*\"ПРОРОК\"\n"
     ]
    },
    {
     "name": "stderr",
     "output_type": "stream",
     "text": [
      "2016-10-11 23:49:03,473 : INFO : topic #1(1248.347): -0.485*\"ЗНАЧЕНИЕ\" + -0.246*\"СВЯТОЙ\" + 0.239*\"ХАДИС\" + -0.232*\"ВЕЛИК\" + 0.207*\"ИМАМ\" + -0.192*\"СЛОВО\" + 0.170*\"ПРОРОК\" + 0.130*\"ПОСЛАННИК\" + -0.120*\"СВОЙ\" + -0.114*\"ТВОРЕНИЕ\"\n"
     ]
    },
    {
     "name": "stderr",
     "output_type": "stream",
     "text": [
      "2016-10-11 23:49:03,473 : INFO : topic #2(743.718): -0.455*\"ХАДИС\" + 0.260*\"ИМАМ\" + 0.231*\"ПРОРОК\" + 0.205*\"АЛЛАХ\" + -0.186*\"БРАК\" + -0.177*\"ХАДЖ\" + -0.157*\"ЖЕНЩИНА\" + -0.149*\"ГОВОРИТЬ\" + -0.146*\"КНИГА\" + 0.143*\"ЧЕЛОВЕК\"\n"
     ]
    },
    {
     "name": "stderr",
     "output_type": "stream",
     "text": [
      "2016-10-11 23:49:03,474 : INFO : topic #3(677.403): 0.522*\"АЛЛАХ\" + -0.338*\"ИМАМ\" + 0.276*\"ПОСЛАННИК\" + -0.215*\"КНИГА\" + 0.198*\"СКАЗАТЬ\" + 0.196*\"АЯТ\" + -0.170*\"ШИИТ\" + -0.144*\"КОТОРЫЙ\" + -0.133*\"ХУСЕЙН\" + -0.132*\"ХАДИС\"\n"
     ]
    },
    {
     "name": "stderr",
     "output_type": "stream",
     "text": [
      "2016-10-11 23:49:03,476 : INFO : topic #4(605.317): 0.435*\"ПРОРОК\" + -0.434*\"ИМАМ\" + 0.298*\"ДБАР\" + -0.211*\"ХУСЕЙН\" + 0.201*\"КОРАН\" + -0.166*\"СКАЗАТЬ\" + 0.164*\"АЯТ\" + -0.125*\"ШИИТ\" + 0.121*\"МУСУЛЬМАНИН\" + 0.113*\"МИССИЯ\"\n"
     ]
    },
    {
     "name": "stderr",
     "output_type": "stream",
     "text": [
      "2016-10-11 23:49:03,476 : INFO : preparing a new chunk of documents\n"
     ]
    },
    {
     "name": "stderr",
     "output_type": "stream",
     "text": [
      "2016-10-11 23:49:03,477 : INFO : using 100 extra samples and 2 power iterations\n"
     ]
    },
    {
     "name": "stderr",
     "output_type": "stream",
     "text": [
      "2016-10-11 23:49:03,477 : INFO : 1st phase: constructing (26996L, 200L) action matrix\n"
     ]
    },
    {
     "name": "stderr",
     "output_type": "stream",
     "text": [
      "2016-10-11 23:49:03,479 : INFO : orthonormalizing (26996L, 200L) action matrix\n"
     ]
    },
    {
     "name": "stderr",
     "output_type": "stream",
     "text": [
      "2016-10-11 23:49:03,865 : INFO : 2nd phase: running dense svd on (200L, 20L) matrix\n"
     ]
    },
    {
     "name": "stderr",
     "output_type": "stream",
     "text": [
      "2016-10-11 23:49:03,884 : INFO : computing the final decomposition\n"
     ]
    },
    {
     "name": "stderr",
     "output_type": "stream",
     "text": [
      "2016-10-11 23:49:03,884 : INFO : keeping 1 factors (discarding 0.000% of energy spectrum)\n"
     ]
    },
    {
     "name": "stderr",
     "output_type": "stream",
     "text": [
      "2016-10-11 23:49:03,890 : INFO : merging projections: (26996L, 99L) + (26996L, 1L)\n"
     ]
    },
    {
     "name": "stderr",
     "output_type": "stream",
     "text": [
      "2016-10-11 23:49:03,921 : INFO : keeping 98 factors (discarding 0.055% of energy spectrum)\n"
     ]
    },
    {
     "name": "stderr",
     "output_type": "stream",
     "text": [
      "2016-10-11 23:49:03,950 : INFO : processed documents up to #1200\n"
     ]
    },
    {
     "name": "stderr",
     "output_type": "stream",
     "text": [
      "2016-10-11 23:49:03,951 : INFO : topic #0(2281.400): 0.465*\"АЛЛАХ\" + 0.254*\"СКАЗАТЬ\" + 0.235*\"СВОЙ\" + 0.229*\"КОТОРЫЙ\" + 0.206*\"ИМАМ\" + 0.204*\"ЗНАЧЕНИЕ\" + 0.180*\"ХАДИС\" + 0.172*\"ЧЕЛОВЕК\" + 0.171*\"СЛОВО\" + 0.159*\"ПРОРОК\"\n"
     ]
    },
    {
     "name": "stderr",
     "output_type": "stream",
     "text": [
      "2016-10-11 23:49:03,953 : INFO : topic #1(1248.347): -0.485*\"ЗНАЧЕНИЕ\" + -0.246*\"СВЯТОЙ\" + 0.239*\"ХАДИС\" + -0.232*\"ВЕЛИК\" + 0.207*\"ИМАМ\" + -0.192*\"СЛОВО\" + 0.170*\"ПРОРОК\" + 0.130*\"ПОСЛАННИК\" + -0.120*\"СВОЙ\" + -0.114*\"ТВОРЕНИЕ\"\n"
     ]
    },
    {
     "name": "stderr",
     "output_type": "stream",
     "text": [
      "2016-10-11 23:49:03,953 : INFO : topic #2(743.718): -0.455*\"ХАДИС\" + 0.260*\"ИМАМ\" + 0.231*\"ПРОРОК\" + 0.205*\"АЛЛАХ\" + -0.186*\"БРАК\" + -0.177*\"ХАДЖ\" + -0.157*\"ЖЕНЩИНА\" + -0.149*\"ГОВОРИТЬ\" + -0.146*\"КНИГА\" + 0.143*\"ЧЕЛОВЕК\"\n"
     ]
    },
    {
     "name": "stderr",
     "output_type": "stream",
     "text": [
      "2016-10-11 23:49:03,954 : INFO : topic #3(677.409): 0.521*\"АЛЛАХ\" + -0.338*\"ИМАМ\" + 0.276*\"ПОСЛАННИК\" + -0.215*\"КНИГА\" + 0.198*\"СКАЗАТЬ\" + 0.196*\"АЯТ\" + -0.170*\"ШИИТ\" + -0.144*\"КОТОРЫЙ\" + -0.133*\"ХУСЕЙН\" + -0.132*\"ХАДИС\"\n"
     ]
    },
    {
     "name": "stderr",
     "output_type": "stream",
     "text": [
      "2016-10-11 23:49:03,957 : INFO : topic #4(605.317): 0.435*\"ПРОРОК\" + -0.434*\"ИМАМ\" + 0.298*\"ДБАР\" + -0.211*\"ХУСЕЙН\" + 0.201*\"КОРАН\" + -0.166*\"СКАЗАТЬ\" + 0.164*\"АЯТ\" + -0.125*\"ШИИТ\" + 0.121*\"МУСУЛЬМАНИН\" + 0.113*\"МИССИЯ\"\n"
     ]
    },
    {
     "name": "stderr",
     "output_type": "stream",
     "text": [
      "2016-10-11 23:49:03,957 : INFO : preparing a new chunk of documents\n"
     ]
    },
    {
     "name": "stderr",
     "output_type": "stream",
     "text": [
      "2016-10-11 23:49:03,957 : INFO : using 100 extra samples and 2 power iterations\n"
     ]
    },
    {
     "name": "stderr",
     "output_type": "stream",
     "text": [
      "2016-10-11 23:49:03,957 : INFO : 1st phase: constructing (26996L, 200L) action matrix\n"
     ]
    },
    {
     "name": "stderr",
     "output_type": "stream",
     "text": [
      "2016-10-11 23:49:03,959 : INFO : orthonormalizing (26996L, 200L) action matrix\n"
     ]
    },
    {
     "name": "stderr",
     "output_type": "stream",
     "text": [
      "2016-10-11 23:49:04,346 : INFO : 2nd phase: running dense svd on (200L, 20L) matrix\n"
     ]
    },
    {
     "name": "stderr",
     "output_type": "stream",
     "text": [
      "2016-10-11 23:49:04,368 : INFO : computing the final decomposition\n"
     ]
    },
    {
     "name": "stderr",
     "output_type": "stream",
     "text": [
      "2016-10-11 23:49:04,368 : INFO : keeping 1 factors (discarding 0.000% of energy spectrum)\n"
     ]
    },
    {
     "name": "stderr",
     "output_type": "stream",
     "text": [
      "2016-10-11 23:49:04,372 : INFO : merging projections: (26996L, 98L) + (26996L, 1L)\n"
     ]
    },
    {
     "name": "stderr",
     "output_type": "stream",
     "text": [
      "2016-10-11 23:49:04,405 : INFO : keeping 97 factors (discarding 0.058% of energy spectrum)\n"
     ]
    },
    {
     "name": "stderr",
     "output_type": "stream",
     "text": [
      "2016-10-11 23:49:04,437 : INFO : processed documents up to #1220\n"
     ]
    },
    {
     "name": "stderr",
     "output_type": "stream",
     "text": [
      "2016-10-11 23:49:04,440 : INFO : topic #0(2281.400): 0.465*\"АЛЛАХ\" + 0.254*\"СКАЗАТЬ\" + 0.235*\"СВОЙ\" + 0.229*\"КОТОРЫЙ\" + 0.206*\"ИМАМ\" + 0.204*\"ЗНАЧЕНИЕ\" + 0.180*\"ХАДИС\" + 0.172*\"ЧЕЛОВЕК\" + 0.171*\"СЛОВО\" + 0.159*\"ПРОРОК\"\n"
     ]
    },
    {
     "name": "stderr",
     "output_type": "stream",
     "text": [
      "2016-10-11 23:49:04,440 : INFO : topic #1(1248.348): -0.485*\"ЗНАЧЕНИЕ\" + -0.246*\"СВЯТОЙ\" + 0.239*\"ХАДИС\" + -0.232*\"ВЕЛИК\" + 0.207*\"ИМАМ\" + -0.192*\"СЛОВО\" + 0.170*\"ПРОРОК\" + 0.130*\"ПОСЛАННИК\" + -0.120*\"СВОЙ\" + -0.114*\"ТВОРЕНИЕ\"\n"
     ]
    },
    {
     "name": "stderr",
     "output_type": "stream",
     "text": [
      "2016-10-11 23:49:04,441 : INFO : topic #2(743.718): -0.455*\"ХАДИС\" + 0.260*\"ИМАМ\" + 0.231*\"ПРОРОК\" + 0.205*\"АЛЛАХ\" + -0.186*\"БРАК\" + -0.177*\"ХАДЖ\" + -0.157*\"ЖЕНЩИНА\" + -0.149*\"ГОВОРИТЬ\" + -0.146*\"КНИГА\" + 0.143*\"ЧЕЛОВЕК\"\n"
     ]
    },
    {
     "name": "stderr",
     "output_type": "stream",
     "text": [
      "2016-10-11 23:49:04,443 : INFO : topic #3(677.412): 0.521*\"АЛЛАХ\" + -0.338*\"ИМАМ\" + 0.276*\"ПОСЛАННИК\" + -0.215*\"КНИГА\" + 0.198*\"СКАЗАТЬ\" + 0.196*\"АЯТ\" + -0.170*\"ШИИТ\" + -0.144*\"КОТОРЫЙ\" + -0.133*\"ХУСЕЙН\" + -0.132*\"ХАДИС\"\n"
     ]
    },
    {
     "name": "stderr",
     "output_type": "stream",
     "text": [
      "2016-10-11 23:49:04,444 : INFO : topic #4(605.317): 0.435*\"ПРОРОК\" + -0.434*\"ИМАМ\" + 0.298*\"ДБАР\" + -0.211*\"ХУСЕЙН\" + 0.201*\"КОРАН\" + -0.166*\"СКАЗАТЬ\" + 0.164*\"АЯТ\" + -0.125*\"ШИИТ\" + 0.121*\"МУСУЛЬМАНИН\" + 0.113*\"МИССИЯ\"\n"
     ]
    },
    {
     "name": "stderr",
     "output_type": "stream",
     "text": [
      "2016-10-11 23:49:04,447 : INFO : preparing a new chunk of documents\n"
     ]
    },
    {
     "name": "stderr",
     "output_type": "stream",
     "text": [
      "2016-10-11 23:49:04,448 : INFO : using 100 extra samples and 2 power iterations\n"
     ]
    },
    {
     "name": "stderr",
     "output_type": "stream",
     "text": [
      "2016-10-11 23:49:04,448 : INFO : 1st phase: constructing (26996L, 200L) action matrix\n"
     ]
    },
    {
     "name": "stderr",
     "output_type": "stream",
     "text": [
      "2016-10-11 23:49:04,450 : INFO : orthonormalizing (26996L, 200L) action matrix\n"
     ]
    },
    {
     "name": "stderr",
     "output_type": "stream",
     "text": [
      "2016-10-11 23:49:05,118 : INFO : 2nd phase: running dense svd on (200L, 20L) matrix\n"
     ]
    },
    {
     "name": "stderr",
     "output_type": "stream",
     "text": [
      "2016-10-11 23:49:05,157 : INFO : computing the final decomposition\n"
     ]
    },
    {
     "name": "stderr",
     "output_type": "stream",
     "text": [
      "2016-10-11 23:49:05,158 : INFO : keeping 18 factors (discarding 0.000% of energy spectrum)\n"
     ]
    },
    {
     "name": "stderr",
     "output_type": "stream",
     "text": [
      "2016-10-11 23:49:05,170 : INFO : merging projections: (26996L, 97L) + (26996L, 18L)\n"
     ]
    },
    {
     "name": "stderr",
     "output_type": "stream",
     "text": [
      "2016-10-11 23:49:05,213 : INFO : keeping 96 factors (discarding 0.080% of energy spectrum)\n"
     ]
    },
    {
     "name": "stderr",
     "output_type": "stream",
     "text": [
      "2016-10-11 23:49:05,253 : INFO : processed documents up to #1240\n"
     ]
    },
    {
     "name": "stderr",
     "output_type": "stream",
     "text": [
      "2016-10-11 23:49:05,253 : INFO : topic #0(2281.424): 0.465*\"АЛЛАХ\" + 0.254*\"СКАЗАТЬ\" + 0.235*\"СВОЙ\" + 0.229*\"КОТОРЫЙ\" + 0.206*\"ИМАМ\" + 0.204*\"ЗНАЧЕНИЕ\" + 0.180*\"ХАДИС\" + 0.172*\"ЧЕЛОВЕК\" + 0.171*\"СЛОВО\" + 0.159*\"ПРОРОК\"\n"
     ]
    },
    {
     "name": "stderr",
     "output_type": "stream",
     "text": [
      "2016-10-11 23:49:05,256 : INFO : topic #1(1248.383): -0.485*\"ЗНАЧЕНИЕ\" + -0.246*\"СВЯТОЙ\" + 0.239*\"ХАДИС\" + -0.232*\"ВЕЛИК\" + 0.207*\"ИМАМ\" + -0.192*\"СЛОВО\" + 0.170*\"ПРОРОК\" + 0.130*\"ПОСЛАННИК\" + -0.120*\"СВОЙ\" + -0.114*\"ТВОРЕНИЕ\"\n"
     ]
    },
    {
     "name": "stderr",
     "output_type": "stream",
     "text": [
      "2016-10-11 23:49:05,256 : INFO : topic #2(743.740): -0.455*\"ХАДИС\" + 0.260*\"ИМАМ\" + 0.231*\"ПРОРОК\" + 0.205*\"АЛЛАХ\" + -0.186*\"БРАК\" + -0.177*\"ХАДЖ\" + -0.157*\"ЖЕНЩИНА\" + -0.149*\"ГОВОРИТЬ\" + -0.146*\"КНИГА\" + 0.143*\"ЧЕЛОВЕК\"\n"
     ]
    },
    {
     "name": "stderr",
     "output_type": "stream",
     "text": [
      "2016-10-11 23:49:05,257 : INFO : topic #3(677.495): 0.521*\"АЛЛАХ\" + -0.338*\"ИМАМ\" + 0.276*\"ПОСЛАННИК\" + -0.215*\"КНИГА\" + 0.199*\"СКАЗАТЬ\" + 0.196*\"АЯТ\" + -0.170*\"ШИИТ\" + -0.144*\"КОТОРЫЙ\" + -0.132*\"ХУСЕЙН\" + -0.132*\"ХАДИС\"\n"
     ]
    },
    {
     "name": "stderr",
     "output_type": "stream",
     "text": [
      "2016-10-11 23:49:05,259 : INFO : topic #4(605.395): 0.435*\"ПРОРОК\" + -0.435*\"ИМАМ\" + 0.297*\"ДБАР\" + -0.211*\"ХУСЕЙН\" + 0.202*\"КОРАН\" + -0.166*\"СКАЗАТЬ\" + 0.164*\"АЯТ\" + -0.125*\"ШИИТ\" + 0.121*\"МУСУЛЬМАНИН\" + 0.113*\"МИССИЯ\"\n"
     ]
    },
    {
     "name": "stderr",
     "output_type": "stream",
     "text": [
      "2016-10-11 23:49:05,263 : INFO : preparing a new chunk of documents\n"
     ]
    },
    {
     "name": "stderr",
     "output_type": "stream",
     "text": [
      "2016-10-11 23:49:05,263 : INFO : using 100 extra samples and 2 power iterations\n"
     ]
    },
    {
     "name": "stderr",
     "output_type": "stream",
     "text": [
      "2016-10-11 23:49:05,265 : INFO : 1st phase: constructing (26996L, 200L) action matrix\n"
     ]
    },
    {
     "name": "stderr",
     "output_type": "stream",
     "text": [
      "2016-10-11 23:49:05,265 : INFO : orthonormalizing (26996L, 200L) action matrix\n"
     ]
    },
    {
     "name": "stderr",
     "output_type": "stream",
     "text": [
      "2016-10-11 23:49:06,036 : INFO : 2nd phase: running dense svd on (200L, 20L) matrix\n"
     ]
    },
    {
     "name": "stderr",
     "output_type": "stream",
     "text": [
      "2016-10-11 23:49:06,056 : INFO : computing the final decomposition\n"
     ]
    },
    {
     "name": "stderr",
     "output_type": "stream",
     "text": [
      "2016-10-11 23:49:06,058 : INFO : keeping 19 factors (discarding 0.000% of energy spectrum)\n"
     ]
    },
    {
     "name": "stderr",
     "output_type": "stream",
     "text": [
      "2016-10-11 23:49:06,069 : INFO : merging projections: (26996L, 96L) + (26996L, 19L)\n"
     ]
    },
    {
     "name": "stderr",
     "output_type": "stream",
     "text": [
      "2016-10-11 23:49:06,125 : INFO : keeping 95 factors (discarding 0.082% of energy spectrum)\n"
     ]
    },
    {
     "name": "stderr",
     "output_type": "stream",
     "text": [
      "2016-10-11 23:49:06,161 : INFO : processed documents up to #1260\n"
     ]
    },
    {
     "name": "stderr",
     "output_type": "stream",
     "text": [
      "2016-10-11 23:49:06,163 : INFO : topic #0(2281.443): 0.465*\"АЛЛАХ\" + 0.254*\"СКАЗАТЬ\" + 0.235*\"СВОЙ\" + 0.229*\"КОТОРЫЙ\" + 0.206*\"ИМАМ\" + 0.204*\"ЗНАЧЕНИЕ\" + 0.180*\"ХАДИС\" + 0.172*\"ЧЕЛОВЕК\" + 0.171*\"СЛОВО\" + 0.159*\"ПРОРОК\"\n"
     ]
    },
    {
     "name": "stderr",
     "output_type": "stream",
     "text": [
      "2016-10-11 23:49:06,164 : INFO : topic #1(1248.405): -0.485*\"ЗНАЧЕНИЕ\" + -0.246*\"СВЯТОЙ\" + 0.239*\"ХАДИС\" + -0.232*\"ВЕЛИК\" + 0.207*\"ИМАМ\" + -0.192*\"СЛОВО\" + 0.170*\"ПРОРОК\" + 0.130*\"ПОСЛАННИК\" + -0.120*\"СВОЙ\" + -0.114*\"ТВОРЕНИЕ\"\n"
     ]
    },
    {
     "name": "stderr",
     "output_type": "stream",
     "text": [
      "2016-10-11 23:49:06,165 : INFO : topic #2(743.754): -0.455*\"ХАДИС\" + 0.260*\"ИМАМ\" + 0.231*\"ПРОРОК\" + 0.205*\"АЛЛАХ\" + -0.186*\"БРАК\" + -0.177*\"ХАДЖ\" + -0.157*\"ЖЕНЩИНА\" + -0.149*\"ГОВОРИТЬ\" + -0.146*\"КНИГА\" + 0.143*\"ЧЕЛОВЕК\"\n"
     ]
    },
    {
     "name": "stderr",
     "output_type": "stream",
     "text": [
      "2016-10-11 23:49:06,167 : INFO : topic #3(677.562): 0.521*\"АЛЛАХ\" + -0.338*\"ИМАМ\" + 0.276*\"ПОСЛАННИК\" + -0.215*\"КНИГА\" + 0.199*\"СКАЗАТЬ\" + 0.196*\"АЯТ\" + -0.170*\"ШИИТ\" + -0.143*\"КОТОРЫЙ\" + -0.132*\"ХУСЕЙН\" + -0.132*\"ХАДИС\"\n"
     ]
    },
    {
     "name": "stderr",
     "output_type": "stream",
     "text": [
      "2016-10-11 23:49:06,167 : INFO : topic #4(605.418): 0.435*\"ПРОРОК\" + -0.435*\"ИМАМ\" + 0.297*\"ДБАР\" + -0.211*\"ХУСЕЙН\" + 0.202*\"КОРАН\" + -0.166*\"СКАЗАТЬ\" + 0.164*\"АЯТ\" + -0.125*\"ШИИТ\" + 0.121*\"МУСУЛЬМАНИН\" + 0.113*\"МИССИЯ\"\n"
     ]
    },
    {
     "name": "stderr",
     "output_type": "stream",
     "text": [
      "2016-10-11 23:49:06,171 : INFO : preparing a new chunk of documents\n"
     ]
    },
    {
     "name": "stderr",
     "output_type": "stream",
     "text": [
      "2016-10-11 23:49:06,173 : INFO : using 100 extra samples and 2 power iterations\n"
     ]
    },
    {
     "name": "stderr",
     "output_type": "stream",
     "text": [
      "2016-10-11 23:49:06,173 : INFO : 1st phase: constructing (26996L, 200L) action matrix\n"
     ]
    },
    {
     "name": "stderr",
     "output_type": "stream",
     "text": [
      "2016-10-11 23:49:06,174 : INFO : orthonormalizing (26996L, 200L) action matrix\n"
     ]
    },
    {
     "name": "stderr",
     "output_type": "stream",
     "text": [
      "2016-10-11 23:49:06,903 : INFO : 2nd phase: running dense svd on (200L, 20L) matrix\n"
     ]
    },
    {
     "name": "stderr",
     "output_type": "stream",
     "text": [
      "2016-10-11 23:49:06,933 : INFO : computing the final decomposition\n"
     ]
    },
    {
     "name": "stderr",
     "output_type": "stream",
     "text": [
      "2016-10-11 23:49:06,934 : INFO : keeping 18 factors (discarding 0.000% of energy spectrum)\n"
     ]
    },
    {
     "name": "stderr",
     "output_type": "stream",
     "text": [
      "2016-10-11 23:49:06,950 : INFO : merging projections: (26996L, 95L) + (26996L, 18L)\n"
     ]
    },
    {
     "name": "stderr",
     "output_type": "stream",
     "text": [
      "2016-10-11 23:49:06,999 : INFO : keeping 94 factors (discarding 0.092% of energy spectrum)\n"
     ]
    },
    {
     "name": "stderr",
     "output_type": "stream",
     "text": [
      "2016-10-11 23:49:07,035 : INFO : processed documents up to #1280\n"
     ]
    },
    {
     "name": "stderr",
     "output_type": "stream",
     "text": [
      "2016-10-11 23:49:07,036 : INFO : topic #0(2281.470): 0.465*\"АЛЛАХ\" + 0.254*\"СКАЗАТЬ\" + 0.235*\"СВОЙ\" + 0.229*\"КОТОРЫЙ\" + 0.206*\"ИМАМ\" + 0.204*\"ЗНАЧЕНИЕ\" + 0.180*\"ХАДИС\" + 0.172*\"ЧЕЛОВЕК\" + 0.171*\"СЛОВО\" + 0.159*\"ПРОРОК\"\n"
     ]
    },
    {
     "name": "stderr",
     "output_type": "stream",
     "text": [
      "2016-10-11 23:49:07,036 : INFO : topic #1(1248.436): -0.485*\"ЗНАЧЕНИЕ\" + -0.246*\"СВЯТОЙ\" + 0.239*\"ХАДИС\" + -0.232*\"ВЕЛИК\" + 0.207*\"ИМАМ\" + -0.192*\"СЛОВО\" + 0.170*\"ПРОРОК\" + 0.130*\"ПОСЛАННИК\" + -0.120*\"СВОЙ\" + -0.114*\"ТВОРЕНИЕ\"\n"
     ]
    },
    {
     "name": "stderr",
     "output_type": "stream",
     "text": [
      "2016-10-11 23:49:07,038 : INFO : topic #2(743.775): -0.455*\"ХАДИС\" + 0.261*\"ИМАМ\" + 0.231*\"ПРОРОК\" + 0.205*\"АЛЛАХ\" + -0.186*\"БРАК\" + -0.177*\"ХАДЖ\" + -0.157*\"ЖЕНЩИНА\" + -0.149*\"ГОВОРИТЬ\" + -0.146*\"КНИГА\" + 0.143*\"ЧЕЛОВЕК\"\n"
     ]
    },
    {
     "name": "stderr",
     "output_type": "stream",
     "text": [
      "2016-10-11 23:49:07,039 : INFO : topic #3(677.632): 0.521*\"АЛЛАХ\" + -0.338*\"ИМАМ\" + 0.276*\"ПОСЛАННИК\" + -0.215*\"КНИГА\" + 0.199*\"СКАЗАТЬ\" + 0.196*\"АЯТ\" + -0.170*\"ШИИТ\" + -0.143*\"КОТОРЫЙ\" + -0.132*\"ХУСЕЙН\" + -0.132*\"ХАДИС\"\n"
     ]
    },
    {
     "name": "stderr",
     "output_type": "stream",
     "text": [
      "2016-10-11 23:49:07,040 : INFO : topic #4(605.454): 0.435*\"ПРОРОК\" + -0.435*\"ИМАМ\" + 0.297*\"ДБАР\" + -0.211*\"ХУСЕЙН\" + 0.203*\"КОРАН\" + -0.166*\"СКАЗАТЬ\" + 0.164*\"АЯТ\" + -0.125*\"ШИИТ\" + 0.121*\"МУСУЛЬМАНИН\" + 0.113*\"МИССИЯ\"\n"
     ]
    },
    {
     "name": "stderr",
     "output_type": "stream",
     "text": [
      "2016-10-11 23:49:07,043 : INFO : preparing a new chunk of documents\n"
     ]
    },
    {
     "name": "stderr",
     "output_type": "stream",
     "text": [
      "2016-10-11 23:49:07,045 : INFO : using 100 extra samples and 2 power iterations\n"
     ]
    },
    {
     "name": "stderr",
     "output_type": "stream",
     "text": [
      "2016-10-11 23:49:07,045 : INFO : 1st phase: constructing (26996L, 200L) action matrix\n"
     ]
    },
    {
     "name": "stderr",
     "output_type": "stream",
     "text": [
      "2016-10-11 23:49:07,046 : INFO : orthonormalizing (26996L, 200L) action matrix\n"
     ]
    },
    {
     "name": "stderr",
     "output_type": "stream",
     "text": [
      "2016-10-11 23:49:07,858 : INFO : 2nd phase: running dense svd on (200L, 20L) matrix\n"
     ]
    },
    {
     "name": "stderr",
     "output_type": "stream",
     "text": [
      "2016-10-11 23:49:07,880 : INFO : computing the final decomposition\n"
     ]
    },
    {
     "name": "stderr",
     "output_type": "stream",
     "text": [
      "2016-10-11 23:49:07,881 : INFO : keeping 19 factors (discarding 0.000% of energy spectrum)\n"
     ]
    },
    {
     "name": "stderr",
     "output_type": "stream",
     "text": [
      "2016-10-11 23:49:07,891 : INFO : merging projections: (26996L, 94L) + (26996L, 19L)\n"
     ]
    },
    {
     "name": "stderr",
     "output_type": "stream",
     "text": [
      "2016-10-11 23:49:07,937 : INFO : keeping 93 factors (discarding 0.070% of energy spectrum)\n"
     ]
    },
    {
     "name": "stderr",
     "output_type": "stream",
     "text": [
      "2016-10-11 23:49:07,973 : INFO : processed documents up to #1300\n"
     ]
    },
    {
     "name": "stderr",
     "output_type": "stream",
     "text": [
      "2016-10-11 23:49:07,974 : INFO : topic #0(2281.479): 0.465*\"АЛЛАХ\" + 0.254*\"СКАЗАТЬ\" + 0.235*\"СВОЙ\" + 0.229*\"КОТОРЫЙ\" + 0.206*\"ИМАМ\" + 0.204*\"ЗНАЧЕНИЕ\" + 0.180*\"ХАДИС\" + 0.172*\"ЧЕЛОВЕК\" + 0.171*\"СЛОВО\" + 0.159*\"ПРОРОК\"\n"
     ]
    },
    {
     "name": "stderr",
     "output_type": "stream",
     "text": [
      "2016-10-11 23:49:07,976 : INFO : topic #1(1248.448): -0.485*\"ЗНАЧЕНИЕ\" + -0.246*\"СВЯТОЙ\" + 0.239*\"ХАДИС\" + -0.232*\"ВЕЛИК\" + 0.207*\"ИМАМ\" + -0.192*\"СЛОВО\" + 0.170*\"ПРОРОК\" + 0.130*\"ПОСЛАННИК\" + -0.120*\"СВОЙ\" + -0.114*\"ТВОРЕНИЕ\"\n"
     ]
    },
    {
     "name": "stderr",
     "output_type": "stream",
     "text": [
      "2016-10-11 23:49:07,979 : INFO : topic #2(743.782): -0.455*\"ХАДИС\" + 0.261*\"ИМАМ\" + 0.231*\"ПРОРОК\" + 0.205*\"АЛЛАХ\" + -0.186*\"БРАК\" + -0.177*\"ХАДЖ\" + -0.157*\"ЖЕНЩИНА\" + -0.149*\"ГОВОРИТЬ\" + -0.146*\"КНИГА\" + 0.143*\"ЧЕЛОВЕК\"\n"
     ]
    },
    {
     "name": "stderr",
     "output_type": "stream",
     "text": [
      "2016-10-11 23:49:07,980 : INFO : topic #3(677.669): 0.521*\"АЛЛАХ\" + -0.338*\"ИМАМ\" + 0.276*\"ПОСЛАННИК\" + -0.215*\"КНИГА\" + 0.199*\"СКАЗАТЬ\" + 0.196*\"АЯТ\" + -0.170*\"ШИИТ\" + -0.143*\"КОТОРЫЙ\" + -0.132*\"ХУСЕЙН\" + -0.132*\"ХАДИС\"\n"
     ]
    },
    {
     "name": "stderr",
     "output_type": "stream",
     "text": [
      "2016-10-11 23:49:07,980 : INFO : topic #4(605.464): 0.435*\"ПРОРОК\" + -0.435*\"ИМАМ\" + 0.297*\"ДБАР\" + -0.211*\"ХУСЕЙН\" + 0.203*\"КОРАН\" + -0.166*\"СКАЗАТЬ\" + 0.164*\"АЯТ\" + -0.125*\"ШИИТ\" + 0.121*\"МУСУЛЬМАНИН\" + 0.113*\"МИССИЯ\"\n"
     ]
    },
    {
     "name": "stderr",
     "output_type": "stream",
     "text": [
      "2016-10-11 23:49:07,983 : INFO : preparing a new chunk of documents\n"
     ]
    },
    {
     "name": "stderr",
     "output_type": "stream",
     "text": [
      "2016-10-11 23:49:07,984 : INFO : using 100 extra samples and 2 power iterations\n"
     ]
    },
    {
     "name": "stderr",
     "output_type": "stream",
     "text": [
      "2016-10-11 23:49:07,984 : INFO : 1st phase: constructing (26996L, 200L) action matrix\n"
     ]
    },
    {
     "name": "stderr",
     "output_type": "stream",
     "text": [
      "2016-10-11 23:49:07,986 : INFO : orthonormalizing (26996L, 200L) action matrix\n"
     ]
    },
    {
     "name": "stderr",
     "output_type": "stream",
     "text": [
      "2016-10-11 23:49:08,770 : INFO : 2nd phase: running dense svd on (200L, 20L) matrix\n"
     ]
    },
    {
     "name": "stderr",
     "output_type": "stream",
     "text": [
      "2016-10-11 23:49:08,792 : INFO : computing the final decomposition\n"
     ]
    },
    {
     "name": "stderr",
     "output_type": "stream",
     "text": [
      "2016-10-11 23:49:08,793 : INFO : keeping 20 factors (discarding 0.000% of energy spectrum)\n"
     ]
    },
    {
     "name": "stderr",
     "output_type": "stream",
     "text": [
      "2016-10-11 23:49:08,803 : INFO : merging projections: (26996L, 93L) + (26996L, 20L)\n"
     ]
    },
    {
     "name": "stderr",
     "output_type": "stream",
     "text": [
      "2016-10-11 23:49:08,852 : INFO : keeping 92 factors (discarding 0.074% of energy spectrum)\n"
     ]
    },
    {
     "name": "stderr",
     "output_type": "stream",
     "text": [
      "2016-10-11 23:49:08,891 : INFO : processed documents up to #1320\n"
     ]
    },
    {
     "name": "stderr",
     "output_type": "stream",
     "text": [
      "2016-10-11 23:49:08,891 : INFO : topic #0(2281.488): 0.465*\"АЛЛАХ\" + 0.254*\"СКАЗАТЬ\" + 0.235*\"СВОЙ\" + 0.229*\"КОТОРЫЙ\" + 0.206*\"ИМАМ\" + 0.204*\"ЗНАЧЕНИЕ\" + 0.180*\"ХАДИС\" + 0.172*\"ЧЕЛОВЕК\" + 0.171*\"СЛОВО\" + 0.159*\"ПРОРОК\"\n"
     ]
    },
    {
     "name": "stderr",
     "output_type": "stream",
     "text": [
      "2016-10-11 23:49:08,892 : INFO : topic #1(1248.456): -0.485*\"ЗНАЧЕНИЕ\" + -0.246*\"СВЯТОЙ\" + 0.239*\"ХАДИС\" + -0.232*\"ВЕЛИК\" + 0.207*\"ИМАМ\" + -0.192*\"СЛОВО\" + 0.170*\"ПРОРОК\" + 0.130*\"ПОСЛАННИК\" + -0.120*\"СВОЙ\" + -0.114*\"ТВОРЕНИЕ\"\n"
     ]
    },
    {
     "name": "stderr",
     "output_type": "stream",
     "text": [
      "2016-10-11 23:49:08,894 : INFO : topic #2(743.788): -0.455*\"ХАДИС\" + 0.260*\"ИМАМ\" + 0.231*\"ПРОРОК\" + 0.205*\"АЛЛАХ\" + -0.186*\"БРАК\" + -0.177*\"ХАДЖ\" + -0.157*\"ЖЕНЩИНА\" + -0.149*\"ГОВОРИТЬ\" + -0.147*\"КНИГА\" + 0.143*\"ЧЕЛОВЕК\"\n"
     ]
    },
    {
     "name": "stderr",
     "output_type": "stream",
     "text": [
      "2016-10-11 23:49:08,895 : INFO : topic #3(677.700): 0.521*\"АЛЛАХ\" + -0.337*\"ИМАМ\" + 0.276*\"ПОСЛАННИК\" + -0.215*\"КНИГА\" + 0.199*\"СКАЗАТЬ\" + 0.196*\"АЯТ\" + -0.170*\"ШИИТ\" + -0.143*\"КОТОРЫЙ\" + -0.132*\"ХУСЕЙН\" + -0.132*\"ХАДИС\"\n"
     ]
    },
    {
     "name": "stderr",
     "output_type": "stream",
     "text": [
      "2016-10-11 23:49:08,897 : INFO : topic #4(605.484): 0.435*\"ПРОРОК\" + -0.435*\"ИМАМ\" + 0.297*\"ДБАР\" + -0.211*\"ХУСЕЙН\" + 0.203*\"КОРАН\" + -0.166*\"СКАЗАТЬ\" + 0.164*\"АЯТ\" + -0.125*\"ШИИТ\" + 0.121*\"МУСУЛЬМАНИН\" + 0.113*\"МИССИЯ\"\n"
     ]
    },
    {
     "name": "stderr",
     "output_type": "stream",
     "text": [
      "2016-10-11 23:49:08,901 : INFO : preparing a new chunk of documents\n"
     ]
    },
    {
     "name": "stderr",
     "output_type": "stream",
     "text": [
      "2016-10-11 23:49:08,901 : INFO : using 100 extra samples and 2 power iterations\n"
     ]
    },
    {
     "name": "stderr",
     "output_type": "stream",
     "text": [
      "2016-10-11 23:49:08,901 : INFO : 1st phase: constructing (26996L, 200L) action matrix\n"
     ]
    },
    {
     "name": "stderr",
     "output_type": "stream",
     "text": [
      "2016-10-11 23:49:08,903 : INFO : orthonormalizing (26996L, 200L) action matrix\n"
     ]
    },
    {
     "name": "stderr",
     "output_type": "stream",
     "text": [
      "2016-10-11 23:49:09,668 : INFO : 2nd phase: running dense svd on (200L, 20L) matrix\n"
     ]
    },
    {
     "name": "stderr",
     "output_type": "stream",
     "text": [
      "2016-10-11 23:49:09,690 : INFO : computing the final decomposition\n"
     ]
    },
    {
     "name": "stderr",
     "output_type": "stream",
     "text": [
      "2016-10-11 23:49:09,690 : INFO : keeping 15 factors (discarding 0.000% of energy spectrum)\n"
     ]
    },
    {
     "name": "stderr",
     "output_type": "stream",
     "text": [
      "2016-10-11 23:49:09,700 : INFO : merging projections: (26996L, 92L) + (26996L, 15L)\n"
     ]
    },
    {
     "name": "stderr",
     "output_type": "stream",
     "text": [
      "2016-10-11 23:49:09,737 : INFO : keeping 91 factors (discarding 0.077% of energy spectrum)\n"
     ]
    },
    {
     "name": "stderr",
     "output_type": "stream",
     "text": [
      "2016-10-11 23:49:09,769 : INFO : processed documents up to #1340\n"
     ]
    },
    {
     "name": "stderr",
     "output_type": "stream",
     "text": [
      "2016-10-11 23:49:09,770 : INFO : topic #0(2281.724): 0.465*\"АЛЛАХ\" + 0.254*\"СКАЗАТЬ\" + 0.235*\"СВОЙ\" + 0.229*\"КОТОРЫЙ\" + 0.206*\"ИМАМ\" + 0.204*\"ЗНАЧЕНИЕ\" + 0.180*\"ХАДИС\" + 0.172*\"ЧЕЛОВЕК\" + 0.171*\"СЛОВО\" + 0.159*\"ПРОРОК\"\n"
     ]
    },
    {
     "name": "stderr",
     "output_type": "stream",
     "text": [
      "2016-10-11 23:49:09,772 : INFO : topic #1(1248.705): -0.485*\"ЗНАЧЕНИЕ\" + -0.246*\"СВЯТОЙ\" + 0.239*\"ХАДИС\" + -0.232*\"ВЕЛИК\" + 0.208*\"ИМАМ\" + -0.192*\"СЛОВО\" + 0.170*\"ПРОРОК\" + 0.130*\"ПОСЛАННИК\" + -0.120*\"СВОЙ\" + -0.114*\"ТВОРЕНИЕ\"\n"
     ]
    },
    {
     "name": "stderr",
     "output_type": "stream",
     "text": [
      "2016-10-11 23:49:09,773 : INFO : topic #2(743.793): -0.455*\"ХАДИС\" + 0.260*\"ИМАМ\" + 0.231*\"ПРОРОК\" + 0.205*\"АЛЛАХ\" + -0.186*\"БРАК\" + -0.177*\"ХАДЖ\" + -0.157*\"ЖЕНЩИНА\" + -0.149*\"ГОВОРИТЬ\" + -0.147*\"КНИГА\" + 0.143*\"ЧЕЛОВЕК\"\n"
     ]
    },
    {
     "name": "stderr",
     "output_type": "stream",
     "text": [
      "2016-10-11 23:49:09,775 : INFO : topic #3(678.094): 0.521*\"АЛЛАХ\" + -0.339*\"ИМАМ\" + 0.276*\"ПОСЛАННИК\" + -0.214*\"КНИГА\" + 0.199*\"СКАЗАТЬ\" + 0.195*\"АЯТ\" + -0.171*\"ШИИТ\" + -0.142*\"КОТОРЫЙ\" + -0.132*\"ХУСЕЙН\" + -0.131*\"ХАДИС\"\n"
     ]
    },
    {
     "name": "stderr",
     "output_type": "stream",
     "text": [
      "2016-10-11 23:49:09,776 : INFO : topic #4(605.554): 0.435*\"ПРОРОК\" + -0.435*\"ИМАМ\" + 0.297*\"ДБАР\" + -0.211*\"ХУСЕЙН\" + 0.202*\"КОРАН\" + -0.166*\"СКАЗАТЬ\" + 0.163*\"АЯТ\" + -0.125*\"ШИИТ\" + 0.121*\"МУСУЛЬМАНИН\" + 0.113*\"МИССИЯ\"\n"
     ]
    },
    {
     "name": "stderr",
     "output_type": "stream",
     "text": [
      "2016-10-11 23:49:09,776 : INFO : preparing a new chunk of documents\n"
     ]
    },
    {
     "name": "stderr",
     "output_type": "stream",
     "text": [
      "2016-10-11 23:49:09,778 : INFO : using 100 extra samples and 2 power iterations\n"
     ]
    },
    {
     "name": "stderr",
     "output_type": "stream",
     "text": [
      "2016-10-11 23:49:09,778 : INFO : 1st phase: constructing (26996L, 200L) action matrix\n"
     ]
    },
    {
     "name": "stderr",
     "output_type": "stream",
     "text": [
      "2016-10-11 23:49:09,779 : INFO : orthonormalizing (26996L, 200L) action matrix\n"
     ]
    },
    {
     "name": "stderr",
     "output_type": "stream",
     "text": [
      "2016-10-11 23:49:10,200 : INFO : 2nd phase: running dense svd on (200L, 20L) matrix\n"
     ]
    },
    {
     "name": "stderr",
     "output_type": "stream",
     "text": [
      "2016-10-11 23:49:10,220 : INFO : computing the final decomposition\n"
     ]
    },
    {
     "name": "stderr",
     "output_type": "stream",
     "text": [
      "2016-10-11 23:49:10,220 : INFO : keeping 1 factors (discarding 0.000% of energy spectrum)\n"
     ]
    },
    {
     "name": "stderr",
     "output_type": "stream",
     "text": [
      "2016-10-11 23:49:10,226 : INFO : merging projections: (26996L, 91L) + (26996L, 1L)\n"
     ]
    },
    {
     "name": "stderr",
     "output_type": "stream",
     "text": [
      "2016-10-11 23:49:10,255 : INFO : keeping 90 factors (discarding 0.069% of energy spectrum)\n"
     ]
    },
    {
     "name": "stderr",
     "output_type": "stream",
     "text": [
      "2016-10-11 23:49:10,282 : INFO : processed documents up to #1360\n"
     ]
    },
    {
     "name": "stderr",
     "output_type": "stream",
     "text": [
      "2016-10-11 23:49:10,283 : INFO : topic #0(2281.727): 0.465*\"АЛЛАХ\" + 0.254*\"СКАЗАТЬ\" + 0.235*\"СВОЙ\" + 0.229*\"КОТОРЫЙ\" + 0.206*\"ИМАМ\" + 0.204*\"ЗНАЧЕНИЕ\" + 0.180*\"ХАДИС\" + 0.172*\"ЧЕЛОВЕК\" + 0.171*\"СЛОВО\" + 0.159*\"ПРОРОК\"\n"
     ]
    },
    {
     "name": "stderr",
     "output_type": "stream",
     "text": [
      "2016-10-11 23:49:10,285 : INFO : topic #1(1248.710): -0.485*\"ЗНАЧЕНИЕ\" + -0.246*\"СВЯТОЙ\" + 0.239*\"ХАДИС\" + -0.232*\"ВЕЛИК\" + 0.208*\"ИМАМ\" + -0.192*\"СЛОВО\" + 0.170*\"ПРОРОК\" + 0.130*\"ПОСЛАННИК\" + -0.120*\"СВОЙ\" + -0.114*\"ТВОРЕНИЕ\"\n"
     ]
    },
    {
     "name": "stderr",
     "output_type": "stream",
     "text": [
      "2016-10-11 23:49:10,286 : INFO : topic #2(743.793): -0.455*\"ХАДИС\" + 0.260*\"ИМАМ\" + 0.231*\"ПРОРОК\" + 0.205*\"АЛЛАХ\" + -0.186*\"БРАК\" + -0.177*\"ХАДЖ\" + -0.157*\"ЖЕНЩИНА\" + -0.149*\"ГОВОРИТЬ\" + -0.147*\"КНИГА\" + 0.143*\"ЧЕЛОВЕК\"\n"
     ]
    },
    {
     "name": "stderr",
     "output_type": "stream",
     "text": [
      "2016-10-11 23:49:10,286 : INFO : topic #3(678.162): 0.520*\"АЛЛАХ\" + -0.339*\"ИМАМ\" + 0.276*\"ПОСЛАННИК\" + -0.214*\"КНИГА\" + 0.199*\"СКАЗАТЬ\" + 0.195*\"АЯТ\" + -0.171*\"ШИИТ\" + -0.142*\"КОТОРЫЙ\" + -0.132*\"ХУСЕЙН\" + -0.131*\"ХАДИС\"\n"
     ]
    },
    {
     "name": "stderr",
     "output_type": "stream",
     "text": [
      "2016-10-11 23:49:10,288 : INFO : topic #4(605.555): 0.435*\"ПРОРОК\" + -0.435*\"ИМАМ\" + 0.297*\"ДБАР\" + -0.211*\"ХУСЕЙН\" + 0.202*\"КОРАН\" + -0.166*\"СКАЗАТЬ\" + 0.163*\"АЯТ\" + -0.125*\"ШИИТ\" + 0.121*\"МУСУЛЬМАНИН\" + 0.113*\"МИССИЯ\"\n"
     ]
    },
    {
     "name": "stderr",
     "output_type": "stream",
     "text": [
      "2016-10-11 23:49:10,289 : INFO : preparing a new chunk of documents\n"
     ]
    },
    {
     "name": "stderr",
     "output_type": "stream",
     "text": [
      "2016-10-11 23:49:10,289 : INFO : using 100 extra samples and 2 power iterations\n"
     ]
    },
    {
     "name": "stderr",
     "output_type": "stream",
     "text": [
      "2016-10-11 23:49:10,289 : INFO : 1st phase: constructing (26996L, 200L) action matrix\n"
     ]
    },
    {
     "name": "stderr",
     "output_type": "stream",
     "text": [
      "2016-10-11 23:49:10,290 : INFO : orthonormalizing (26996L, 200L) action matrix\n"
     ]
    },
    {
     "name": "stderr",
     "output_type": "stream",
     "text": [
      "2016-10-11 23:49:10,716 : INFO : 2nd phase: running dense svd on (200L, 20L) matrix\n"
     ]
    },
    {
     "name": "stderr",
     "output_type": "stream",
     "text": [
      "2016-10-11 23:49:10,736 : INFO : computing the final decomposition\n"
     ]
    },
    {
     "name": "stderr",
     "output_type": "stream",
     "text": [
      "2016-10-11 23:49:10,736 : INFO : keeping 1 factors (discarding 0.000% of energy spectrum)\n"
     ]
    },
    {
     "name": "stderr",
     "output_type": "stream",
     "text": [
      "2016-10-11 23:49:10,742 : INFO : merging projections: (26996L, 90L) + (26996L, 1L)\n"
     ]
    },
    {
     "name": "stderr",
     "output_type": "stream",
     "text": [
      "2016-10-11 23:49:10,773 : INFO : keeping 89 factors (discarding 0.069% of energy spectrum)\n"
     ]
    },
    {
     "name": "stderr",
     "output_type": "stream",
     "text": [
      "2016-10-11 23:49:10,802 : INFO : processed documents up to #1380\n"
     ]
    },
    {
     "name": "stderr",
     "output_type": "stream",
     "text": [
      "2016-10-11 23:49:10,803 : INFO : topic #0(2281.729): 0.465*\"АЛЛАХ\" + 0.254*\"СКАЗАТЬ\" + 0.235*\"СВОЙ\" + 0.229*\"КОТОРЫЙ\" + 0.206*\"ИМАМ\" + 0.204*\"ЗНАЧЕНИЕ\" + 0.180*\"ХАДИС\" + 0.172*\"ЧЕЛОВЕК\" + 0.171*\"СЛОВО\" + 0.159*\"ПРОРОК\"\n"
     ]
    },
    {
     "name": "stderr",
     "output_type": "stream",
     "text": [
      "2016-10-11 23:49:10,805 : INFO : topic #1(1248.716): -0.485*\"ЗНАЧЕНИЕ\" + -0.246*\"СВЯТОЙ\" + 0.239*\"ХАДИС\" + -0.232*\"ВЕЛИК\" + 0.208*\"ИМАМ\" + -0.192*\"СЛОВО\" + 0.170*\"ПРОРОК\" + 0.130*\"ПОСЛАННИК\" + -0.120*\"СВОЙ\" + -0.114*\"ТВОРЕНИЕ\"\n"
     ]
    },
    {
     "name": "stderr",
     "output_type": "stream",
     "text": [
      "2016-10-11 23:49:10,805 : INFO : topic #2(743.793): -0.455*\"ХАДИС\" + 0.260*\"ИМАМ\" + 0.231*\"ПРОРОК\" + 0.205*\"АЛЛАХ\" + -0.186*\"БРАК\" + -0.177*\"ХАДЖ\" + -0.157*\"ЖЕНЩИНА\" + -0.149*\"ГОВОРИТЬ\" + -0.147*\"КНИГА\" + 0.143*\"ЧЕЛОВЕК\"\n"
     ]
    },
    {
     "name": "stderr",
     "output_type": "stream",
     "text": [
      "2016-10-11 23:49:10,806 : INFO : topic #3(678.237): 0.520*\"АЛЛАХ\" + -0.339*\"ИМАМ\" + 0.276*\"ПОСЛАННИК\" + -0.214*\"КНИГА\" + 0.199*\"СКАЗАТЬ\" + 0.195*\"АЯТ\" + -0.171*\"ШИИТ\" + -0.142*\"КОТОРЫЙ\" + -0.132*\"ХУСЕЙН\" + -0.131*\"ХАДИС\"\n"
     ]
    },
    {
     "name": "stderr",
     "output_type": "stream",
     "text": [
      "2016-10-11 23:49:10,808 : INFO : topic #4(605.556): 0.436*\"ПРОРОК\" + -0.435*\"ИМАМ\" + 0.297*\"ДБАР\" + -0.211*\"ХУСЕЙН\" + 0.202*\"КОРАН\" + -0.166*\"СКАЗАТЬ\" + 0.163*\"АЯТ\" + -0.125*\"ШИИТ\" + 0.121*\"МУСУЛЬМАНИН\" + 0.113*\"МИССИЯ\"\n"
     ]
    },
    {
     "name": "stderr",
     "output_type": "stream",
     "text": [
      "2016-10-11 23:49:10,809 : INFO : preparing a new chunk of documents\n"
     ]
    },
    {
     "name": "stderr",
     "output_type": "stream",
     "text": [
      "2016-10-11 23:49:10,809 : INFO : using 100 extra samples and 2 power iterations\n"
     ]
    },
    {
     "name": "stderr",
     "output_type": "stream",
     "text": [
      "2016-10-11 23:49:10,809 : INFO : 1st phase: constructing (26996L, 200L) action matrix\n"
     ]
    },
    {
     "name": "stderr",
     "output_type": "stream",
     "text": [
      "2016-10-11 23:49:10,811 : INFO : orthonormalizing (26996L, 200L) action matrix\n"
     ]
    },
    {
     "name": "stderr",
     "output_type": "stream",
     "text": [
      "2016-10-11 23:49:11,194 : INFO : 2nd phase: running dense svd on (200L, 20L) matrix\n"
     ]
    },
    {
     "name": "stderr",
     "output_type": "stream",
     "text": [
      "2016-10-11 23:49:11,214 : INFO : computing the final decomposition\n"
     ]
    },
    {
     "name": "stderr",
     "output_type": "stream",
     "text": [
      "2016-10-11 23:49:11,216 : INFO : keeping 1 factors (discarding 0.000% of energy spectrum)\n"
     ]
    },
    {
     "name": "stderr",
     "output_type": "stream",
     "text": [
      "2016-10-11 23:49:11,220 : INFO : merging projections: (26996L, 89L) + (26996L, 1L)\n"
     ]
    },
    {
     "name": "stderr",
     "output_type": "stream",
     "text": [
      "2016-10-11 23:49:11,250 : INFO : keeping 88 factors (discarding 0.071% of energy spectrum)\n"
     ]
    },
    {
     "name": "stderr",
     "output_type": "stream",
     "text": [
      "2016-10-11 23:49:11,276 : INFO : processed documents up to #1400\n"
     ]
    },
    {
     "name": "stderr",
     "output_type": "stream",
     "text": [
      "2016-10-11 23:49:11,278 : INFO : topic #0(2281.731): 0.465*\"АЛЛАХ\" + 0.254*\"СКАЗАТЬ\" + 0.235*\"СВОЙ\" + 0.229*\"КОТОРЫЙ\" + 0.206*\"ИМАМ\" + 0.204*\"ЗНАЧЕНИЕ\" + 0.180*\"ХАДИС\" + 0.172*\"ЧЕЛОВЕК\" + 0.171*\"СЛОВО\" + 0.159*\"ПРОРОК\"\n"
     ]
    },
    {
     "name": "stderr",
     "output_type": "stream",
     "text": [
      "2016-10-11 23:49:11,279 : INFO : topic #1(1248.721): -0.485*\"ЗНАЧЕНИЕ\" + -0.246*\"СВЯТОЙ\" + 0.239*\"ХАДИС\" + -0.232*\"ВЕЛИК\" + 0.208*\"ИМАМ\" + -0.192*\"СЛОВО\" + 0.170*\"ПРОРОК\" + 0.130*\"ПОСЛАННИК\" + -0.120*\"СВОЙ\" + -0.114*\"ТВОРЕНИЕ\"\n"
     ]
    },
    {
     "name": "stderr",
     "output_type": "stream",
     "text": [
      "2016-10-11 23:49:11,279 : INFO : topic #2(743.794): -0.455*\"ХАДИС\" + 0.260*\"ИМАМ\" + 0.231*\"ПРОРОК\" + 0.205*\"АЛЛАХ\" + -0.186*\"БРАК\" + -0.177*\"ХАДЖ\" + -0.157*\"ЖЕНЩИНА\" + -0.149*\"ГОВОРИТЬ\" + -0.147*\"КНИГА\" + 0.143*\"ЧЕЛОВЕК\"\n"
     ]
    },
    {
     "name": "stderr",
     "output_type": "stream",
     "text": [
      "2016-10-11 23:49:11,280 : INFO : topic #3(678.321): 0.520*\"АЛЛАХ\" + -0.339*\"ИМАМ\" + 0.276*\"ПОСЛАННИК\" + -0.214*\"КНИГА\" + 0.199*\"СКАЗАТЬ\" + 0.195*\"АЯТ\" + -0.171*\"ШИИТ\" + -0.141*\"КОТОРЫЙ\" + -0.132*\"ХУСЕЙН\" + -0.131*\"ХАДИС\"\n"
     ]
    },
    {
     "name": "stderr",
     "output_type": "stream",
     "text": [
      "2016-10-11 23:49:11,282 : INFO : topic #4(605.558): 0.436*\"ПРОРОК\" + -0.435*\"ИМАМ\" + 0.297*\"ДБАР\" + -0.210*\"ХУСЕЙН\" + 0.202*\"КОРАН\" + -0.166*\"СКАЗАТЬ\" + 0.163*\"АЯТ\" + -0.125*\"ШИИТ\" + 0.121*\"МУСУЛЬМАНИН\" + 0.113*\"МИССИЯ\"\n"
     ]
    },
    {
     "name": "stderr",
     "output_type": "stream",
     "text": [
      "2016-10-11 23:49:11,282 : INFO : preparing a new chunk of documents\n"
     ]
    },
    {
     "name": "stderr",
     "output_type": "stream",
     "text": [
      "2016-10-11 23:49:11,283 : INFO : using 100 extra samples and 2 power iterations\n"
     ]
    },
    {
     "name": "stderr",
     "output_type": "stream",
     "text": [
      "2016-10-11 23:49:11,283 : INFO : 1st phase: constructing (26996L, 200L) action matrix\n"
     ]
    },
    {
     "name": "stderr",
     "output_type": "stream",
     "text": [
      "2016-10-11 23:49:11,285 : INFO : orthonormalizing (26996L, 200L) action matrix\n"
     ]
    },
    {
     "name": "stderr",
     "output_type": "stream",
     "text": [
      "2016-10-11 23:49:11,688 : INFO : 2nd phase: running dense svd on (200L, 20L) matrix\n"
     ]
    },
    {
     "name": "stderr",
     "output_type": "stream",
     "text": [
      "2016-10-11 23:49:11,710 : INFO : computing the final decomposition\n"
     ]
    },
    {
     "name": "stderr",
     "output_type": "stream",
     "text": [
      "2016-10-11 23:49:11,711 : INFO : keeping 1 factors (discarding 0.000% of energy spectrum)\n"
     ]
    },
    {
     "name": "stderr",
     "output_type": "stream",
     "text": [
      "2016-10-11 23:49:11,717 : INFO : merging projections: (26996L, 88L) + (26996L, 1L)\n"
     ]
    },
    {
     "name": "stderr",
     "output_type": "stream",
     "text": [
      "2016-10-11 23:49:11,752 : INFO : keeping 87 factors (discarding 0.072% of energy spectrum)\n"
     ]
    },
    {
     "name": "stderr",
     "output_type": "stream",
     "text": [
      "2016-10-11 23:49:11,788 : INFO : processed documents up to #1420\n"
     ]
    },
    {
     "name": "stderr",
     "output_type": "stream",
     "text": [
      "2016-10-11 23:49:11,789 : INFO : topic #0(2281.733): 0.465*\"АЛЛАХ\" + 0.254*\"СКАЗАТЬ\" + 0.235*\"СВОЙ\" + 0.229*\"КОТОРЫЙ\" + 0.206*\"ИМАМ\" + 0.204*\"ЗНАЧЕНИЕ\" + 0.180*\"ХАДИС\" + 0.172*\"ЧЕЛОВЕК\" + 0.171*\"СЛОВО\" + 0.159*\"ПРОРОК\"\n"
     ]
    },
    {
     "name": "stderr",
     "output_type": "stream",
     "text": [
      "2016-10-11 23:49:11,790 : INFO : topic #1(1248.727): -0.485*\"ЗНАЧЕНИЕ\" + -0.246*\"СВЯТОЙ\" + 0.239*\"ХАДИС\" + -0.232*\"ВЕЛИК\" + 0.208*\"ИМАМ\" + -0.192*\"СЛОВО\" + 0.170*\"ПРОРОК\" + 0.130*\"ПОСЛАННИК\" + -0.120*\"СВОЙ\" + -0.114*\"ТВОРЕНИЕ\"\n"
     ]
    },
    {
     "name": "stderr",
     "output_type": "stream",
     "text": [
      "2016-10-11 23:49:11,792 : INFO : topic #2(743.794): -0.455*\"ХАДИС\" + 0.260*\"ИМАМ\" + 0.231*\"ПРОРОК\" + 0.205*\"АЛЛАХ\" + -0.186*\"БРАК\" + -0.177*\"ХАДЖ\" + -0.157*\"ЖЕНЩИНА\" + -0.149*\"ГОВОРИТЬ\" + -0.147*\"КНИГА\" + 0.143*\"ЧЕЛОВЕК\"\n"
     ]
    },
    {
     "name": "stderr",
     "output_type": "stream",
     "text": [
      "2016-10-11 23:49:11,793 : INFO : topic #3(678.416): 0.520*\"АЛЛАХ\" + -0.339*\"ИМАМ\" + 0.276*\"ПОСЛАННИК\" + -0.214*\"КНИГА\" + 0.199*\"СКАЗАТЬ\" + 0.194*\"АЯТ\" + -0.171*\"ШИИТ\" + -0.141*\"КОТОРЫЙ\" + -0.131*\"ХУСЕЙН\" + -0.131*\"ХАДИС\"\n"
     ]
    },
    {
     "name": "stderr",
     "output_type": "stream",
     "text": [
      "2016-10-11 23:49:11,795 : INFO : topic #4(605.559): 0.436*\"ПРОРОК\" + -0.434*\"ИМАМ\" + 0.298*\"ДБАР\" + -0.210*\"ХУСЕЙН\" + 0.202*\"КОРАН\" + -0.166*\"СКАЗАТЬ\" + 0.163*\"АЯТ\" + -0.125*\"ШИИТ\" + 0.121*\"МУСУЛЬМАНИН\" + 0.113*\"МИССИЯ\"\n"
     ]
    },
    {
     "name": "stderr",
     "output_type": "stream",
     "text": [
      "2016-10-11 23:49:11,796 : INFO : preparing a new chunk of documents\n"
     ]
    },
    {
     "name": "stderr",
     "output_type": "stream",
     "text": [
      "2016-10-11 23:49:11,796 : INFO : using 100 extra samples and 2 power iterations\n"
     ]
    },
    {
     "name": "stderr",
     "output_type": "stream",
     "text": [
      "2016-10-11 23:49:11,798 : INFO : 1st phase: constructing (26996L, 200L) action matrix\n"
     ]
    },
    {
     "name": "stderr",
     "output_type": "stream",
     "text": [
      "2016-10-11 23:49:11,799 : INFO : orthonormalizing (26996L, 200L) action matrix\n"
     ]
    },
    {
     "name": "stderr",
     "output_type": "stream",
     "text": [
      "2016-10-11 23:49:12,382 : INFO : 2nd phase: running dense svd on (200L, 20L) matrix\n"
     ]
    },
    {
     "name": "stderr",
     "output_type": "stream",
     "text": [
      "2016-10-11 23:49:12,404 : INFO : computing the final decomposition\n"
     ]
    },
    {
     "name": "stderr",
     "output_type": "stream",
     "text": [
      "2016-10-11 23:49:12,404 : INFO : keeping 2 factors (discarding 0.000% of energy spectrum)\n"
     ]
    },
    {
     "name": "stderr",
     "output_type": "stream",
     "text": [
      "2016-10-11 23:49:12,411 : INFO : merging projections: (26996L, 87L) + (26996L, 2L)\n"
     ]
    },
    {
     "name": "stderr",
     "output_type": "stream",
     "text": [
      "2016-10-11 23:49:12,440 : INFO : keeping 86 factors (discarding 0.074% of energy spectrum)\n"
     ]
    },
    {
     "name": "stderr",
     "output_type": "stream",
     "text": [
      "2016-10-11 23:49:12,470 : INFO : processed documents up to #1440\n"
     ]
    },
    {
     "name": "stderr",
     "output_type": "stream",
     "text": [
      "2016-10-11 23:49:12,471 : INFO : topic #0(2281.736): 0.465*\"АЛЛАХ\" + 0.254*\"СКАЗАТЬ\" + 0.235*\"СВОЙ\" + 0.229*\"КОТОРЫЙ\" + 0.206*\"ИМАМ\" + 0.204*\"ЗНАЧЕНИЕ\" + 0.180*\"ХАДИС\" + 0.172*\"ЧЕЛОВЕК\" + 0.171*\"СЛОВО\" + 0.159*\"ПРОРОК\"\n"
     ]
    },
    {
     "name": "stderr",
     "output_type": "stream",
     "text": [
      "2016-10-11 23:49:12,473 : INFO : topic #1(1248.734): -0.485*\"ЗНАЧЕНИЕ\" + -0.246*\"СВЯТОЙ\" + 0.239*\"ХАДИС\" + -0.232*\"ВЕЛИК\" + 0.208*\"ИМАМ\" + -0.192*\"СЛОВО\" + 0.170*\"ПРОРОК\" + 0.130*\"ПОСЛАННИК\" + -0.120*\"СВОЙ\" + -0.114*\"ТВОРЕНИЕ\"\n"
     ]
    },
    {
     "name": "stderr",
     "output_type": "stream",
     "text": [
      "2016-10-11 23:49:12,473 : INFO : topic #2(743.794): -0.455*\"ХАДИС\" + 0.260*\"ИМАМ\" + 0.231*\"ПРОРОК\" + 0.205*\"АЛЛАХ\" + -0.186*\"БРАК\" + -0.177*\"ХАДЖ\" + -0.157*\"ЖЕНЩИНА\" + -0.149*\"ГОВОРИТЬ\" + -0.147*\"КНИГА\" + 0.143*\"ЧЕЛОВЕК\"\n"
     ]
    },
    {
     "name": "stderr",
     "output_type": "stream",
     "text": [
      "2016-10-11 23:49:12,474 : INFO : topic #3(678.542): 0.519*\"АЛЛАХ\" + -0.339*\"ИМАМ\" + 0.276*\"ПОСЛАННИК\" + -0.214*\"КНИГА\" + 0.199*\"СКАЗАТЬ\" + 0.194*\"АЯТ\" + -0.171*\"ШИИТ\" + -0.141*\"КОТОРЫЙ\" + -0.131*\"ХУСЕЙН\" + -0.131*\"ХАДИС\"\n"
     ]
    },
    {
     "name": "stderr",
     "output_type": "stream",
     "text": [
      "2016-10-11 23:49:12,476 : INFO : topic #4(605.562): 0.436*\"ПРОРОК\" + -0.434*\"ИМАМ\" + 0.298*\"ДБАР\" + -0.210*\"ХУСЕЙН\" + 0.202*\"КОРАН\" + -0.166*\"СКАЗАТЬ\" + 0.162*\"АЯТ\" + -0.125*\"ШИИТ\" + 0.121*\"МУСУЛЬМАНИН\" + 0.113*\"МИССИЯ\"\n"
     ]
    },
    {
     "name": "stderr",
     "output_type": "stream",
     "text": [
      "2016-10-11 23:49:12,479 : INFO : preparing a new chunk of documents\n"
     ]
    },
    {
     "name": "stderr",
     "output_type": "stream",
     "text": [
      "2016-10-11 23:49:12,479 : INFO : using 100 extra samples and 2 power iterations\n"
     ]
    },
    {
     "name": "stderr",
     "output_type": "stream",
     "text": [
      "2016-10-11 23:49:12,480 : INFO : 1st phase: constructing (26996L, 200L) action matrix\n"
     ]
    },
    {
     "name": "stderr",
     "output_type": "stream",
     "text": [
      "2016-10-11 23:49:12,480 : INFO : orthonormalizing (26996L, 200L) action matrix\n"
     ]
    },
    {
     "name": "stderr",
     "output_type": "stream",
     "text": [
      "2016-10-11 23:49:13,255 : INFO : 2nd phase: running dense svd on (200L, 20L) matrix\n"
     ]
    },
    {
     "name": "stderr",
     "output_type": "stream",
     "text": [
      "2016-10-11 23:49:13,276 : INFO : computing the final decomposition\n"
     ]
    },
    {
     "name": "stderr",
     "output_type": "stream",
     "text": [
      "2016-10-11 23:49:13,276 : INFO : keeping 2 factors (discarding 0.000% of energy spectrum)\n"
     ]
    },
    {
     "name": "stderr",
     "output_type": "stream",
     "text": [
      "2016-10-11 23:49:13,282 : INFO : merging projections: (26996L, 86L) + (26996L, 2L)\n"
     ]
    },
    {
     "name": "stderr",
     "output_type": "stream",
     "text": [
      "2016-10-11 23:49:13,312 : INFO : keeping 85 factors (discarding 0.079% of energy spectrum)\n"
     ]
    },
    {
     "name": "stderr",
     "output_type": "stream",
     "text": [
      "2016-10-11 23:49:13,341 : INFO : processed documents up to #1460\n"
     ]
    },
    {
     "name": "stderr",
     "output_type": "stream",
     "text": [
      "2016-10-11 23:49:13,342 : INFO : topic #0(2281.742): 0.465*\"АЛЛАХ\" + 0.254*\"СКАЗАТЬ\" + 0.235*\"СВОЙ\" + 0.229*\"КОТОРЫЙ\" + 0.206*\"ИМАМ\" + 0.204*\"ЗНАЧЕНИЕ\" + 0.180*\"ХАДИС\" + 0.172*\"ЧЕЛОВЕК\" + 0.171*\"СЛОВО\" + 0.159*\"ПРОРОК\"\n"
     ]
    },
    {
     "name": "stderr",
     "output_type": "stream",
     "text": [
      "2016-10-11 23:49:13,344 : INFO : topic #1(1248.741): -0.485*\"ЗНАЧЕНИЕ\" + -0.246*\"СВЯТОЙ\" + 0.239*\"ХАДИС\" + -0.232*\"ВЕЛИК\" + 0.208*\"ИМАМ\" + -0.192*\"СЛОВО\" + 0.170*\"ПРОРОК\" + 0.130*\"ПОСЛАННИК\" + -0.120*\"СВОЙ\" + -0.114*\"ТВОРЕНИЕ\"\n"
     ]
    },
    {
     "name": "stderr",
     "output_type": "stream",
     "text": [
      "2016-10-11 23:49:13,345 : INFO : topic #2(743.794): -0.455*\"ХАДИС\" + 0.260*\"ИМАМ\" + 0.231*\"ПРОРОК\" + 0.205*\"АЛЛАХ\" + -0.186*\"БРАК\" + -0.177*\"ХАДЖ\" + -0.157*\"ЖЕНЩИНА\" + -0.149*\"ГОВОРИТЬ\" + -0.147*\"КНИГА\" + 0.143*\"ЧЕЛОВЕК\"\n"
     ]
    },
    {
     "name": "stderr",
     "output_type": "stream",
     "text": [
      "2016-10-11 23:49:13,345 : INFO : topic #3(678.671): 0.519*\"АЛЛАХ\" + -0.339*\"ИМАМ\" + 0.276*\"ПОСЛАННИК\" + -0.214*\"КНИГА\" + 0.199*\"СКАЗАТЬ\" + 0.194*\"АЯТ\" + -0.171*\"ШИИТ\" + -0.140*\"КОТОРЫЙ\" + -0.131*\"ХУСЕЙН\" + -0.130*\"ХАДИС\"\n"
     ]
    },
    {
     "name": "stderr",
     "output_type": "stream",
     "text": [
      "2016-10-11 23:49:13,346 : INFO : topic #4(605.564): 0.436*\"ПРОРОК\" + -0.434*\"ИМАМ\" + 0.298*\"ДБАР\" + -0.210*\"ХУСЕЙН\" + 0.202*\"КОРАН\" + -0.166*\"СКАЗАТЬ\" + 0.162*\"АЯТ\" + -0.125*\"ШИИТ\" + 0.121*\"МУСУЛЬМАНИН\" + 0.113*\"МИССИЯ\"\n"
     ]
    },
    {
     "name": "stderr",
     "output_type": "stream",
     "text": [
      "2016-10-11 23:49:13,348 : INFO : preparing a new chunk of documents\n"
     ]
    },
    {
     "name": "stderr",
     "output_type": "stream",
     "text": [
      "2016-10-11 23:49:13,348 : INFO : using 100 extra samples and 2 power iterations\n"
     ]
    },
    {
     "name": "stderr",
     "output_type": "stream",
     "text": [
      "2016-10-11 23:49:13,348 : INFO : 1st phase: constructing (26996L, 200L) action matrix\n"
     ]
    },
    {
     "name": "stderr",
     "output_type": "stream",
     "text": [
      "2016-10-11 23:49:13,348 : INFO : orthonormalizing (26996L, 200L) action matrix\n"
     ]
    },
    {
     "name": "stderr",
     "output_type": "stream",
     "text": [
      "2016-10-11 23:49:14,019 : INFO : 2nd phase: running dense svd on (200L, 20L) matrix\n"
     ]
    },
    {
     "name": "stderr",
     "output_type": "stream",
     "text": [
      "2016-10-11 23:49:14,039 : INFO : computing the final decomposition\n"
     ]
    },
    {
     "name": "stderr",
     "output_type": "stream",
     "text": [
      "2016-10-11 23:49:14,040 : INFO : keeping 2 factors (discarding 0.000% of energy spectrum)\n"
     ]
    },
    {
     "name": "stderr",
     "output_type": "stream",
     "text": [
      "2016-10-11 23:49:14,046 : INFO : merging projections: (26996L, 85L) + (26996L, 2L)\n"
     ]
    },
    {
     "name": "stderr",
     "output_type": "stream",
     "text": [
      "2016-10-11 23:49:14,073 : INFO : keeping 84 factors (discarding 0.078% of energy spectrum)\n"
     ]
    },
    {
     "name": "stderr",
     "output_type": "stream",
     "text": [
      "2016-10-11 23:49:14,099 : INFO : processed documents up to #1480\n"
     ]
    },
    {
     "name": "stderr",
     "output_type": "stream",
     "text": [
      "2016-10-11 23:49:14,101 : INFO : topic #0(2281.745): 0.465*\"АЛЛАХ\" + 0.254*\"СКАЗАТЬ\" + 0.235*\"СВОЙ\" + 0.229*\"КОТОРЫЙ\" + 0.206*\"ИМАМ\" + 0.204*\"ЗНАЧЕНИЕ\" + 0.180*\"ХАДИС\" + 0.172*\"ЧЕЛОВЕК\" + 0.171*\"СЛОВО\" + 0.159*\"ПРОРОК\"\n"
     ]
    },
    {
     "name": "stderr",
     "output_type": "stream",
     "text": [
      "2016-10-11 23:49:14,102 : INFO : topic #1(1248.747): -0.485*\"ЗНАЧЕНИЕ\" + -0.246*\"СВЯТОЙ\" + 0.239*\"ХАДИС\" + -0.232*\"ВЕЛИК\" + 0.208*\"ИМАМ\" + -0.192*\"СЛОВО\" + 0.170*\"ПРОРОК\" + 0.130*\"ПОСЛАННИК\" + -0.120*\"СВОЙ\" + -0.114*\"ТВОРЕНИЕ\"\n"
     ]
    },
    {
     "name": "stderr",
     "output_type": "stream",
     "text": [
      "2016-10-11 23:49:14,104 : INFO : topic #2(743.794): -0.455*\"ХАДИС\" + 0.260*\"ИМАМ\" + 0.231*\"ПРОРОК\" + 0.205*\"АЛЛАХ\" + -0.186*\"БРАК\" + -0.177*\"ХАДЖ\" + -0.157*\"ЖЕНЩИНА\" + -0.149*\"ГОВОРИТЬ\" + -0.147*\"КНИГА\" + 0.143*\"ЧЕЛОВЕК\"\n"
     ]
    },
    {
     "name": "stderr",
     "output_type": "stream",
     "text": [
      "2016-10-11 23:49:14,105 : INFO : topic #3(678.818): 0.518*\"АЛЛАХ\" + -0.339*\"ИМАМ\" + 0.276*\"ПОСЛАННИК\" + -0.213*\"КНИГА\" + 0.199*\"СКАЗАТЬ\" + 0.194*\"АЯТ\" + -0.170*\"ШИИТ\" + -0.140*\"КОТОРЫЙ\" + -0.131*\"ХУСЕЙН\" + -0.130*\"ХАДИС\"\n"
     ]
    },
    {
     "name": "stderr",
     "output_type": "stream",
     "text": [
      "2016-10-11 23:49:14,105 : INFO : topic #4(605.568): 0.436*\"ПРОРОК\" + -0.434*\"ИМАМ\" + 0.298*\"ДБАР\" + -0.210*\"ХУСЕЙН\" + 0.202*\"КОРАН\" + -0.166*\"СКАЗАТЬ\" + 0.162*\"АЯТ\" + -0.125*\"ШИИТ\" + 0.121*\"МУСУЛЬМАНИН\" + 0.113*\"МИССИЯ\"\n"
     ]
    },
    {
     "name": "stderr",
     "output_type": "stream",
     "text": [
      "2016-10-11 23:49:14,107 : INFO : preparing a new chunk of documents\n"
     ]
    },
    {
     "name": "stderr",
     "output_type": "stream",
     "text": [
      "2016-10-11 23:49:14,107 : INFO : using 100 extra samples and 2 power iterations\n"
     ]
    },
    {
     "name": "stderr",
     "output_type": "stream",
     "text": [
      "2016-10-11 23:49:14,108 : INFO : 1st phase: constructing (26996L, 200L) action matrix\n"
     ]
    },
    {
     "name": "stderr",
     "output_type": "stream",
     "text": [
      "2016-10-11 23:49:14,108 : INFO : orthonormalizing (26996L, 200L) action matrix\n"
     ]
    },
    {
     "name": "stderr",
     "output_type": "stream",
     "text": [
      "2016-10-11 23:49:14,752 : INFO : 2nd phase: running dense svd on (200L, 20L) matrix\n"
     ]
    },
    {
     "name": "stderr",
     "output_type": "stream",
     "text": [
      "2016-10-11 23:49:14,772 : INFO : computing the final decomposition\n"
     ]
    },
    {
     "name": "stderr",
     "output_type": "stream",
     "text": [
      "2016-10-11 23:49:14,773 : INFO : keeping 2 factors (discarding 0.000% of energy spectrum)\n"
     ]
    },
    {
     "name": "stderr",
     "output_type": "stream",
     "text": [
      "2016-10-11 23:49:14,779 : INFO : merging projections: (26996L, 84L) + (26996L, 2L)\n"
     ]
    },
    {
     "name": "stderr",
     "output_type": "stream",
     "text": [
      "2016-10-11 23:49:14,806 : INFO : keeping 83 factors (discarding 0.080% of energy spectrum)\n"
     ]
    },
    {
     "name": "stderr",
     "output_type": "stream",
     "text": [
      "2016-10-11 23:49:14,832 : INFO : processed documents up to #1500\n"
     ]
    },
    {
     "name": "stderr",
     "output_type": "stream",
     "text": [
      "2016-10-11 23:49:14,834 : INFO : topic #0(2281.749): 0.465*\"АЛЛАХ\" + 0.254*\"СКАЗАТЬ\" + 0.235*\"СВОЙ\" + 0.229*\"КОТОРЫЙ\" + 0.206*\"ИМАМ\" + 0.204*\"ЗНАЧЕНИЕ\" + 0.180*\"ХАДИС\" + 0.172*\"ЧЕЛОВЕК\" + 0.171*\"СЛОВО\" + 0.159*\"ПРОРОК\"\n"
     ]
    },
    {
     "name": "stderr",
     "output_type": "stream",
     "text": [
      "2016-10-11 23:49:14,835 : INFO : topic #1(1248.758): -0.485*\"ЗНАЧЕНИЕ\" + -0.246*\"СВЯТОЙ\" + 0.239*\"ХАДИС\" + -0.232*\"ВЕЛИК\" + 0.208*\"ИМАМ\" + -0.192*\"СЛОВО\" + 0.170*\"ПРОРОК\" + 0.130*\"ПОСЛАННИК\" + -0.120*\"СВОЙ\" + -0.114*\"ТВОРЕНИЕ\"\n"
     ]
    },
    {
     "name": "stderr",
     "output_type": "stream",
     "text": [
      "2016-10-11 23:49:14,835 : INFO : topic #2(743.794): -0.455*\"ХАДИС\" + 0.260*\"ИМАМ\" + 0.231*\"ПРОРОК\" + 0.206*\"АЛЛАХ\" + -0.186*\"БРАК\" + -0.177*\"ХАДЖ\" + -0.157*\"ЖЕНЩИНА\" + -0.149*\"ГОВОРИТЬ\" + -0.147*\"КНИГА\" + 0.143*\"ЧЕЛОВЕК\"\n"
     ]
    },
    {
     "name": "stderr",
     "output_type": "stream",
     "text": [
      "2016-10-11 23:49:14,836 : INFO : topic #3(679.108): 0.517*\"АЛЛАХ\" + -0.338*\"ИМАМ\" + 0.276*\"ПОСЛАННИК\" + -0.213*\"КНИГА\" + 0.199*\"СКАЗАТЬ\" + 0.193*\"АЯТ\" + -0.170*\"ШИИТ\" + -0.139*\"КОТОРЫЙ\" + -0.130*\"ХУСЕЙН\" + -0.130*\"ЗНАЧЕНИЕ\"\n"
     ]
    },
    {
     "name": "stderr",
     "output_type": "stream",
     "text": [
      "2016-10-11 23:49:14,838 : INFO : topic #4(605.576): 0.436*\"ПРОРОК\" + -0.434*\"ИМАМ\" + 0.298*\"ДБАР\" + -0.210*\"ХУСЕЙН\" + 0.201*\"КОРАН\" + -0.166*\"СКАЗАТЬ\" + 0.162*\"АЯТ\" + -0.124*\"ШИИТ\" + 0.121*\"МУСУЛЬМАНИН\" + 0.113*\"МИССИЯ\"\n"
     ]
    },
    {
     "name": "stderr",
     "output_type": "stream",
     "text": [
      "2016-10-11 23:49:14,838 : INFO : preparing a new chunk of documents\n"
     ]
    },
    {
     "name": "stderr",
     "output_type": "stream",
     "text": [
      "2016-10-11 23:49:14,839 : INFO : using 100 extra samples and 2 power iterations\n"
     ]
    },
    {
     "name": "stderr",
     "output_type": "stream",
     "text": [
      "2016-10-11 23:49:14,839 : INFO : 1st phase: constructing (26996L, 200L) action matrix\n"
     ]
    },
    {
     "name": "stderr",
     "output_type": "stream",
     "text": [
      "2016-10-11 23:49:14,841 : INFO : orthonormalizing (26996L, 200L) action matrix\n"
     ]
    },
    {
     "name": "stderr",
     "output_type": "stream",
     "text": [
      "2016-10-11 23:49:15,463 : INFO : 2nd phase: running dense svd on (200L, 20L) matrix\n"
     ]
    },
    {
     "name": "stderr",
     "output_type": "stream",
     "text": [
      "2016-10-11 23:49:15,483 : INFO : computing the final decomposition\n"
     ]
    },
    {
     "name": "stderr",
     "output_type": "stream",
     "text": [
      "2016-10-11 23:49:15,484 : INFO : keeping 3 factors (discarding 0.000% of energy spectrum)\n"
     ]
    },
    {
     "name": "stderr",
     "output_type": "stream",
     "text": [
      "2016-10-11 23:49:15,492 : INFO : merging projections: (26996L, 83L) + (26996L, 3L)\n"
     ]
    },
    {
     "name": "stderr",
     "output_type": "stream",
     "text": [
      "2016-10-11 23:49:15,523 : INFO : keeping 82 factors (discarding 0.081% of energy spectrum)\n"
     ]
    },
    {
     "name": "stderr",
     "output_type": "stream",
     "text": [
      "2016-10-11 23:49:15,552 : INFO : processed documents up to #1520\n"
     ]
    },
    {
     "name": "stderr",
     "output_type": "stream",
     "text": [
      "2016-10-11 23:49:15,553 : INFO : topic #0(2281.754): 0.465*\"АЛЛАХ\" + 0.254*\"СКАЗАТЬ\" + 0.235*\"СВОЙ\" + 0.229*\"КОТОРЫЙ\" + 0.206*\"ИМАМ\" + 0.204*\"ЗНАЧЕНИЕ\" + 0.180*\"ХАДИС\" + 0.172*\"ЧЕЛОВЕК\" + 0.171*\"СЛОВО\" + 0.159*\"ПРОРОК\"\n"
     ]
    },
    {
     "name": "stderr",
     "output_type": "stream",
     "text": [
      "2016-10-11 23:49:15,555 : INFO : topic #1(1248.773): -0.485*\"ЗНАЧЕНИЕ\" + -0.246*\"СВЯТОЙ\" + 0.239*\"ХАДИС\" + -0.232*\"ВЕЛИК\" + 0.208*\"ИМАМ\" + -0.192*\"СЛОВО\" + 0.170*\"ПРОРОК\" + 0.130*\"ПОСЛАННИК\" + -0.120*\"СВОЙ\" + -0.114*\"ТВОРЕНИЕ\"\n"
     ]
    },
    {
     "name": "stderr",
     "output_type": "stream",
     "text": [
      "2016-10-11 23:49:15,555 : INFO : topic #2(743.794): -0.455*\"ХАДИС\" + 0.260*\"ИМАМ\" + 0.231*\"ПРОРОК\" + 0.206*\"АЛЛАХ\" + -0.186*\"БРАК\" + -0.177*\"ХАДЖ\" + -0.157*\"ЖЕНЩИНА\" + -0.149*\"ГОВОРИТЬ\" + -0.147*\"КНИГА\" + 0.143*\"ЧЕЛОВЕК\"\n"
     ]
    },
    {
     "name": "stderr",
     "output_type": "stream",
     "text": [
      "2016-10-11 23:49:15,558 : INFO : topic #3(679.685): 0.514*\"АЛЛАХ\" + -0.337*\"ИМАМ\" + 0.275*\"ПОСЛАННИК\" + -0.211*\"КНИГА\" + 0.199*\"СКАЗАТЬ\" + 0.192*\"АЯТ\" + -0.169*\"ШИИТ\" + -0.137*\"КОТОРЫЙ\" + -0.129*\"ЗНАЧЕНИЕ\" + -0.129*\"ХУСЕЙН\"\n"
     ]
    },
    {
     "name": "stderr",
     "output_type": "stream",
     "text": [
      "2016-10-11 23:49:15,559 : INFO : topic #4(605.603): 0.437*\"ПРОРОК\" + -0.432*\"ИМАМ\" + 0.298*\"ДБАР\" + -0.208*\"ХУСЕЙН\" + 0.201*\"КОРАН\" + -0.166*\"СКАЗАТЬ\" + 0.160*\"АЯТ\" + -0.124*\"ШИИТ\" + 0.121*\"МУСУЛЬМАНИН\" + 0.114*\"МИССИЯ\"\n"
     ]
    },
    {
     "name": "stderr",
     "output_type": "stream",
     "text": [
      "2016-10-11 23:49:15,559 : INFO : preparing a new chunk of documents\n"
     ]
    },
    {
     "name": "stderr",
     "output_type": "stream",
     "text": [
      "2016-10-11 23:49:15,559 : INFO : using 100 extra samples and 2 power iterations\n"
     ]
    },
    {
     "name": "stderr",
     "output_type": "stream",
     "text": [
      "2016-10-11 23:49:15,561 : INFO : 1st phase: constructing (26996L, 200L) action matrix\n"
     ]
    },
    {
     "name": "stderr",
     "output_type": "stream",
     "text": [
      "2016-10-11 23:49:15,561 : INFO : orthonormalizing (26996L, 200L) action matrix\n"
     ]
    },
    {
     "name": "stderr",
     "output_type": "stream",
     "text": [
      "2016-10-11 23:49:15,992 : INFO : 2nd phase: running dense svd on (200L, 20L) matrix\n"
     ]
    },
    {
     "name": "stderr",
     "output_type": "stream",
     "text": [
      "2016-10-11 23:49:16,013 : INFO : computing the final decomposition\n"
     ]
    },
    {
     "name": "stderr",
     "output_type": "stream",
     "text": [
      "2016-10-11 23:49:16,013 : INFO : keeping 1 factors (discarding 0.000% of energy spectrum)\n"
     ]
    },
    {
     "name": "stderr",
     "output_type": "stream",
     "text": [
      "2016-10-11 23:49:16,017 : INFO : merging projections: (26996L, 82L) + (26996L, 1L)\n"
     ]
    },
    {
     "name": "stderr",
     "output_type": "stream",
     "text": [
      "2016-10-11 23:49:16,043 : INFO : keeping 81 factors (discarding 0.083% of energy spectrum)\n"
     ]
    },
    {
     "name": "stderr",
     "output_type": "stream",
     "text": [
      "2016-10-11 23:49:16,069 : INFO : processed documents up to #1540\n"
     ]
    },
    {
     "name": "stderr",
     "output_type": "stream",
     "text": [
      "2016-10-11 23:49:16,072 : INFO : topic #0(2281.754): 0.465*\"АЛЛАХ\" + 0.254*\"СКАЗАТЬ\" + 0.235*\"СВОЙ\" + 0.229*\"КОТОРЫЙ\" + 0.206*\"ИМАМ\" + 0.204*\"ЗНАЧЕНИЕ\" + 0.180*\"ХАДИС\" + 0.172*\"ЧЕЛОВЕК\" + 0.171*\"СЛОВО\" + 0.159*\"ПРОРОК\"\n"
     ]
    },
    {
     "name": "stderr",
     "output_type": "stream",
     "text": [
      "2016-10-11 23:49:16,072 : INFO : topic #1(1248.774): -0.485*\"ЗНАЧЕНИЕ\" + -0.246*\"СВЯТОЙ\" + 0.239*\"ХАДИС\" + -0.232*\"ВЕЛИК\" + 0.208*\"ИМАМ\" + -0.192*\"СЛОВО\" + 0.170*\"ПРОРОК\" + 0.130*\"ПОСЛАННИК\" + -0.120*\"СВОЙ\" + -0.114*\"ТВОРЕНИЕ\"\n"
     ]
    },
    {
     "name": "stderr",
     "output_type": "stream",
     "text": [
      "2016-10-11 23:49:16,075 : INFO : topic #2(743.794): -0.455*\"ХАДИС\" + 0.260*\"ИМАМ\" + 0.231*\"ПРОРОК\" + 0.206*\"АЛЛАХ\" + -0.186*\"БРАК\" + -0.177*\"ХАДЖ\" + -0.157*\"ЖЕНЩИНА\" + -0.149*\"ГОВОРИТЬ\" + -0.147*\"КНИГА\" + 0.143*\"ЧЕЛОВЕК\"\n"
     ]
    },
    {
     "name": "stderr",
     "output_type": "stream",
     "text": [
      "2016-10-11 23:49:16,075 : INFO : topic #3(679.734): 0.514*\"АЛЛАХ\" + -0.337*\"ИМАМ\" + 0.274*\"ПОСЛАННИК\" + -0.211*\"КНИГА\" + 0.199*\"СКАЗАТЬ\" + 0.192*\"АЯТ\" + -0.169*\"ШИИТ\" + -0.137*\"КОТОРЫЙ\" + -0.129*\"ЗНАЧЕНИЕ\" + -0.129*\"ХУСЕЙН\"\n"
     ]
    },
    {
     "name": "stderr",
     "output_type": "stream",
     "text": [
      "2016-10-11 23:49:16,076 : INFO : topic #4(605.607): 0.437*\"ПРОРОК\" + -0.432*\"ИМАМ\" + 0.298*\"ДБАР\" + -0.208*\"ХУСЕЙН\" + 0.201*\"КОРАН\" + -0.166*\"СКАЗАТЬ\" + 0.160*\"АЯТ\" + -0.123*\"ШИИТ\" + 0.121*\"МУСУЛЬМАНИН\" + 0.114*\"МИССИЯ\"\n"
     ]
    },
    {
     "name": "stderr",
     "output_type": "stream",
     "text": [
      "2016-10-11 23:49:16,078 : INFO : preparing a new chunk of documents\n"
     ]
    },
    {
     "name": "stderr",
     "output_type": "stream",
     "text": [
      "2016-10-11 23:49:16,078 : INFO : using 100 extra samples and 2 power iterations\n"
     ]
    },
    {
     "name": "stderr",
     "output_type": "stream",
     "text": [
      "2016-10-11 23:49:16,078 : INFO : 1st phase: constructing (26996L, 200L) action matrix\n"
     ]
    },
    {
     "name": "stderr",
     "output_type": "stream",
     "text": [
      "2016-10-11 23:49:16,078 : INFO : orthonormalizing (26996L, 200L) action matrix\n"
     ]
    },
    {
     "name": "stderr",
     "output_type": "stream",
     "text": [
      "2016-10-11 23:49:16,490 : INFO : 2nd phase: running dense svd on (200L, 20L) matrix\n"
     ]
    },
    {
     "name": "stderr",
     "output_type": "stream",
     "text": [
      "2016-10-11 23:49:16,509 : INFO : computing the final decomposition\n"
     ]
    },
    {
     "name": "stderr",
     "output_type": "stream",
     "text": [
      "2016-10-11 23:49:16,509 : INFO : keeping 1 factors (discarding 0.000% of energy spectrum)\n"
     ]
    },
    {
     "name": "stderr",
     "output_type": "stream",
     "text": [
      "2016-10-11 23:49:16,515 : INFO : merging projections: (26996L, 81L) + (26996L, 1L)\n"
     ]
    },
    {
     "name": "stderr",
     "output_type": "stream",
     "text": [
      "2016-10-11 23:49:16,542 : INFO : keeping 80 factors (discarding 0.083% of energy spectrum)\n"
     ]
    },
    {
     "name": "stderr",
     "output_type": "stream",
     "text": [
      "2016-10-11 23:49:16,569 : INFO : processed documents up to #1560\n"
     ]
    },
    {
     "name": "stderr",
     "output_type": "stream",
     "text": [
      "2016-10-11 23:49:16,569 : INFO : topic #0(2281.754): 0.465*\"АЛЛАХ\" + 0.254*\"СКАЗАТЬ\" + 0.235*\"СВОЙ\" + 0.229*\"КОТОРЫЙ\" + 0.206*\"ИМАМ\" + 0.204*\"ЗНАЧЕНИЕ\" + 0.180*\"ХАДИС\" + 0.172*\"ЧЕЛОВЕК\" + 0.171*\"СЛОВО\" + 0.159*\"ПРОРОК\"\n"
     ]
    },
    {
     "name": "stderr",
     "output_type": "stream",
     "text": [
      "2016-10-11 23:49:16,572 : INFO : topic #1(1248.775): -0.485*\"ЗНАЧЕНИЕ\" + -0.246*\"СВЯТОЙ\" + 0.239*\"ХАДИС\" + -0.232*\"ВЕЛИК\" + 0.208*\"ИМАМ\" + -0.192*\"СЛОВО\" + 0.170*\"ПРОРОК\" + 0.130*\"ПОСЛАННИК\" + -0.120*\"СВОЙ\" + -0.114*\"ТВОРЕНИЕ\"\n"
     ]
    },
    {
     "name": "stderr",
     "output_type": "stream",
     "text": [
      "2016-10-11 23:49:16,572 : INFO : topic #2(743.795): -0.455*\"ХАДИС\" + 0.260*\"ИМАМ\" + 0.231*\"ПРОРОК\" + 0.206*\"АЛЛАХ\" + -0.186*\"БРАК\" + -0.177*\"ХАДЖ\" + -0.157*\"ЖЕНЩИНА\" + -0.149*\"ГОВОРИТЬ\" + -0.147*\"КНИГА\" + 0.143*\"ЧЕЛОВЕК\"\n"
     ]
    },
    {
     "name": "stderr",
     "output_type": "stream",
     "text": [
      "2016-10-11 23:49:16,573 : INFO : topic #3(679.751): 0.514*\"АЛЛАХ\" + -0.337*\"ИМАМ\" + 0.274*\"ПОСЛАННИК\" + -0.211*\"КНИГА\" + 0.199*\"СКАЗАТЬ\" + 0.192*\"АЯТ\" + -0.169*\"ШИИТ\" + -0.137*\"КОТОРЫЙ\" + -0.129*\"ЗНАЧЕНИЕ\" + -0.129*\"ХУСЕЙН\"\n"
     ]
    },
    {
     "name": "stderr",
     "output_type": "stream",
     "text": [
      "2016-10-11 23:49:16,575 : INFO : topic #4(605.608): 0.437*\"ПРОРОК\" + -0.432*\"ИМАМ\" + 0.298*\"ДБАР\" + -0.208*\"ХУСЕЙН\" + 0.201*\"КОРАН\" + -0.166*\"СКАЗАТЬ\" + 0.160*\"АЯТ\" + -0.123*\"ШИИТ\" + 0.121*\"МУСУЛЬМАНИН\" + 0.114*\"МИССИЯ\"\n"
     ]
    },
    {
     "name": "stderr",
     "output_type": "stream",
     "text": [
      "2016-10-11 23:49:16,575 : INFO : preparing a new chunk of documents\n"
     ]
    },
    {
     "name": "stderr",
     "output_type": "stream",
     "text": [
      "2016-10-11 23:49:16,576 : INFO : using 100 extra samples and 2 power iterations\n"
     ]
    },
    {
     "name": "stderr",
     "output_type": "stream",
     "text": [
      "2016-10-11 23:49:16,578 : INFO : 1st phase: constructing (26996L, 200L) action matrix\n"
     ]
    },
    {
     "name": "stderr",
     "output_type": "stream",
     "text": [
      "2016-10-11 23:49:16,578 : INFO : orthonormalizing (26996L, 200L) action matrix\n"
     ]
    },
    {
     "name": "stderr",
     "output_type": "stream",
     "text": [
      "2016-10-11 23:49:16,993 : INFO : 2nd phase: running dense svd on (200L, 20L) matrix\n"
     ]
    },
    {
     "name": "stderr",
     "output_type": "stream",
     "text": [
      "2016-10-11 23:49:17,013 : INFO : computing the final decomposition\n"
     ]
    },
    {
     "name": "stderr",
     "output_type": "stream",
     "text": [
      "2016-10-11 23:49:17,013 : INFO : keeping 1 factors (discarding 0.000% of energy spectrum)\n"
     ]
    },
    {
     "name": "stderr",
     "output_type": "stream",
     "text": [
      "2016-10-11 23:49:17,017 : INFO : merging projections: (26996L, 80L) + (26996L, 1L)\n"
     ]
    },
    {
     "name": "stderr",
     "output_type": "stream",
     "text": [
      "2016-10-11 23:49:17,046 : INFO : keeping 79 factors (discarding 0.086% of energy spectrum)\n"
     ]
    },
    {
     "name": "stderr",
     "output_type": "stream",
     "text": [
      "2016-10-11 23:49:17,072 : INFO : processed documents up to #1580\n"
     ]
    },
    {
     "name": "stderr",
     "output_type": "stream",
     "text": [
      "2016-10-11 23:49:17,073 : INFO : topic #0(2281.755): 0.465*\"АЛЛАХ\" + 0.254*\"СКАЗАТЬ\" + 0.235*\"СВОЙ\" + 0.229*\"КОТОРЫЙ\" + 0.206*\"ИМАМ\" + 0.204*\"ЗНАЧЕНИЕ\" + 0.180*\"ХАДИС\" + 0.172*\"ЧЕЛОВЕК\" + 0.171*\"СЛОВО\" + 0.159*\"ПРОРОК\"\n"
     ]
    },
    {
     "name": "stderr",
     "output_type": "stream",
     "text": [
      "2016-10-11 23:49:17,075 : INFO : topic #1(1248.775): -0.485*\"ЗНАЧЕНИЕ\" + -0.246*\"СВЯТОЙ\" + 0.239*\"ХАДИС\" + -0.232*\"ВЕЛИК\" + 0.208*\"ИМАМ\" + -0.192*\"СЛОВО\" + 0.170*\"ПРОРОК\" + 0.130*\"ПОСЛАННИК\" + -0.120*\"СВОЙ\" + -0.114*\"ТВОРЕНИЕ\"\n"
     ]
    },
    {
     "name": "stderr",
     "output_type": "stream",
     "text": [
      "2016-10-11 23:49:17,075 : INFO : topic #2(743.795): -0.455*\"ХАДИС\" + 0.260*\"ИМАМ\" + 0.231*\"ПРОРОК\" + 0.206*\"АЛЛАХ\" + -0.186*\"БРАК\" + -0.177*\"ХАДЖ\" + -0.157*\"ЖЕНЩИНА\" + -0.149*\"ГОВОРИТЬ\" + -0.147*\"КНИГА\" + 0.143*\"ЧЕЛОВЕК\"\n"
     ]
    },
    {
     "name": "stderr",
     "output_type": "stream",
     "text": [
      "2016-10-11 23:49:17,076 : INFO : topic #3(679.785): 0.513*\"АЛЛАХ\" + -0.337*\"ИМАМ\" + 0.274*\"ПОСЛАННИК\" + -0.211*\"КНИГА\" + 0.199*\"СКАЗАТЬ\" + 0.192*\"АЯТ\" + -0.169*\"ШИИТ\" + -0.137*\"КОТОРЫЙ\" + -0.130*\"СТАТЬЯ\" + -0.129*\"ЗНАЧЕНИЕ\"\n"
     ]
    },
    {
     "name": "stderr",
     "output_type": "stream",
     "text": [
      "2016-10-11 23:49:17,078 : INFO : topic #4(605.611): 0.437*\"ПРОРОК\" + -0.432*\"ИМАМ\" + 0.298*\"ДБАР\" + -0.208*\"ХУСЕЙН\" + 0.200*\"КОРАН\" + -0.166*\"СКАЗАТЬ\" + 0.160*\"АЯТ\" + -0.123*\"ШИИТ\" + 0.121*\"МУСУЛЬМАНИН\" + 0.114*\"МИССИЯ\"\n"
     ]
    },
    {
     "name": "stderr",
     "output_type": "stream",
     "text": [
      "2016-10-11 23:49:17,078 : INFO : preparing a new chunk of documents\n"
     ]
    },
    {
     "name": "stderr",
     "output_type": "stream",
     "text": [
      "2016-10-11 23:49:17,079 : INFO : using 100 extra samples and 2 power iterations\n"
     ]
    },
    {
     "name": "stderr",
     "output_type": "stream",
     "text": [
      "2016-10-11 23:49:17,079 : INFO : 1st phase: constructing (26996L, 200L) action matrix\n"
     ]
    },
    {
     "name": "stderr",
     "output_type": "stream",
     "text": [
      "2016-10-11 23:49:17,081 : INFO : orthonormalizing (26996L, 200L) action matrix\n"
     ]
    },
    {
     "name": "stderr",
     "output_type": "stream",
     "text": [
      "2016-10-11 23:49:17,469 : INFO : 2nd phase: running dense svd on (200L, 20L) matrix\n"
     ]
    },
    {
     "name": "stderr",
     "output_type": "stream",
     "text": [
      "2016-10-11 23:49:17,490 : INFO : computing the final decomposition\n"
     ]
    },
    {
     "name": "stderr",
     "output_type": "stream",
     "text": [
      "2016-10-11 23:49:17,490 : INFO : keeping 1 factors (discarding 0.000% of energy spectrum)\n"
     ]
    },
    {
     "name": "stderr",
     "output_type": "stream",
     "text": [
      "2016-10-11 23:49:17,496 : INFO : merging projections: (26996L, 79L) + (26996L, 1L)\n"
     ]
    },
    {
     "name": "stderr",
     "output_type": "stream",
     "text": [
      "2016-10-11 23:49:17,519 : INFO : keeping 78 factors (discarding 0.086% of energy spectrum)\n"
     ]
    },
    {
     "name": "stderr",
     "output_type": "stream",
     "text": [
      "2016-10-11 23:49:17,543 : INFO : processed documents up to #1600\n"
     ]
    },
    {
     "name": "stderr",
     "output_type": "stream",
     "text": [
      "2016-10-11 23:49:17,545 : INFO : topic #0(2281.755): 0.465*\"АЛЛАХ\" + 0.254*\"СКАЗАТЬ\" + 0.235*\"СВОЙ\" + 0.229*\"КОТОРЫЙ\" + 0.206*\"ИМАМ\" + 0.204*\"ЗНАЧЕНИЕ\" + 0.180*\"ХАДИС\" + 0.172*\"ЧЕЛОВЕК\" + 0.171*\"СЛОВО\" + 0.159*\"ПРОРОК\"\n"
     ]
    },
    {
     "name": "stderr",
     "output_type": "stream",
     "text": [
      "2016-10-11 23:49:17,546 : INFO : topic #1(1248.776): -0.485*\"ЗНАЧЕНИЕ\" + -0.246*\"СВЯТОЙ\" + 0.239*\"ХАДИС\" + -0.232*\"ВЕЛИК\" + 0.208*\"ИМАМ\" + -0.192*\"СЛОВО\" + 0.170*\"ПРОРОК\" + 0.130*\"ПОСЛАННИК\" + -0.120*\"СВОЙ\" + -0.114*\"ТВОРЕНИЕ\"\n"
     ]
    },
    {
     "name": "stderr",
     "output_type": "stream",
     "text": [
      "2016-10-11 23:49:17,546 : INFO : topic #2(743.795): -0.455*\"ХАДИС\" + 0.260*\"ИМАМ\" + 0.231*\"ПРОРОК\" + 0.206*\"АЛЛАХ\" + -0.186*\"БРАК\" + -0.177*\"ХАДЖ\" + -0.157*\"ЖЕНЩИНА\" + -0.149*\"ГОВОРИТЬ\" + -0.147*\"КНИГА\" + 0.143*\"ЧЕЛОВЕК\"\n"
     ]
    },
    {
     "name": "stderr",
     "output_type": "stream",
     "text": [
      "2016-10-11 23:49:17,548 : INFO : topic #3(679.820): 0.513*\"АЛЛАХ\" + -0.337*\"ИМАМ\" + 0.274*\"ПОСЛАННИК\" + -0.211*\"КНИГА\" + 0.199*\"СКАЗАТЬ\" + 0.192*\"АЯТ\" + -0.169*\"ШИИТ\" + -0.137*\"КОТОРЫЙ\" + -0.131*\"СТАТЬЯ\" + -0.129*\"ЗНАЧЕНИЕ\"\n"
     ]
    },
    {
     "name": "stderr",
     "output_type": "stream",
     "text": [
      "2016-10-11 23:49:17,549 : INFO : topic #4(605.614): 0.437*\"ПРОРОК\" + -0.432*\"ИМАМ\" + 0.298*\"ДБАР\" + -0.208*\"ХУСЕЙН\" + 0.200*\"КОРАН\" + -0.166*\"СКАЗАТЬ\" + 0.160*\"АЯТ\" + -0.123*\"ШИИТ\" + 0.121*\"МУСУЛЬМАНИН\" + 0.114*\"МИССИЯ\"\n"
     ]
    },
    {
     "name": "stderr",
     "output_type": "stream",
     "text": [
      "2016-10-11 23:49:17,549 : INFO : preparing a new chunk of documents\n"
     ]
    },
    {
     "name": "stderr",
     "output_type": "stream",
     "text": [
      "2016-10-11 23:49:17,549 : INFO : using 100 extra samples and 2 power iterations\n"
     ]
    },
    {
     "name": "stderr",
     "output_type": "stream",
     "text": [
      "2016-10-11 23:49:17,551 : INFO : 1st phase: constructing (26996L, 200L) action matrix\n"
     ]
    },
    {
     "name": "stderr",
     "output_type": "stream",
     "text": [
      "2016-10-11 23:49:17,551 : INFO : orthonormalizing (26996L, 200L) action matrix\n"
     ]
    },
    {
     "name": "stderr",
     "output_type": "stream",
     "text": [
      "2016-10-11 23:49:17,936 : INFO : 2nd phase: running dense svd on (200L, 20L) matrix\n"
     ]
    },
    {
     "name": "stderr",
     "output_type": "stream",
     "text": [
      "2016-10-11 23:49:17,956 : INFO : computing the final decomposition\n"
     ]
    },
    {
     "name": "stderr",
     "output_type": "stream",
     "text": [
      "2016-10-11 23:49:17,957 : INFO : keeping 1 factors (discarding 0.000% of energy spectrum)\n"
     ]
    },
    {
     "name": "stderr",
     "output_type": "stream",
     "text": [
      "2016-10-11 23:49:17,960 : INFO : merging projections: (26996L, 78L) + (26996L, 1L)\n"
     ]
    },
    {
     "name": "stderr",
     "output_type": "stream",
     "text": [
      "2016-10-11 23:49:17,986 : INFO : keeping 77 factors (discarding 0.087% of energy spectrum)\n"
     ]
    },
    {
     "name": "stderr",
     "output_type": "stream",
     "text": [
      "2016-10-11 23:49:18,012 : INFO : processed documents up to #1620\n"
     ]
    },
    {
     "name": "stderr",
     "output_type": "stream",
     "text": [
      "2016-10-11 23:49:18,013 : INFO : topic #0(2281.755): 0.465*\"АЛЛАХ\" + 0.254*\"СКАЗАТЬ\" + 0.235*\"СВОЙ\" + 0.229*\"КОТОРЫЙ\" + 0.206*\"ИМАМ\" + 0.204*\"ЗНАЧЕНИЕ\" + 0.180*\"ХАДИС\" + 0.172*\"ЧЕЛОВЕК\" + 0.171*\"СЛОВО\" + 0.159*\"ПРОРОК\"\n"
     ]
    },
    {
     "name": "stderr",
     "output_type": "stream",
     "text": [
      "2016-10-11 23:49:18,015 : INFO : topic #1(1248.777): -0.485*\"ЗНАЧЕНИЕ\" + -0.246*\"СВЯТОЙ\" + 0.239*\"ХАДИС\" + -0.232*\"ВЕЛИК\" + 0.208*\"ИМАМ\" + -0.192*\"СЛОВО\" + 0.170*\"ПРОРОК\" + 0.130*\"ПОСЛАННИК\" + -0.120*\"СВОЙ\" + -0.114*\"ТВОРЕНИЕ\"\n"
     ]
    },
    {
     "name": "stderr",
     "output_type": "stream",
     "text": [
      "2016-10-11 23:49:18,016 : INFO : topic #2(743.795): -0.455*\"ХАДИС\" + 0.260*\"ИМАМ\" + 0.231*\"ПРОРОК\" + 0.206*\"АЛЛАХ\" + -0.186*\"БРАК\" + -0.177*\"ХАДЖ\" + -0.157*\"ЖЕНЩИНА\" + -0.149*\"ГОВОРИТЬ\" + -0.147*\"КНИГА\" + 0.143*\"ЧЕЛОВЕК\"\n"
     ]
    },
    {
     "name": "stderr",
     "output_type": "stream",
     "text": [
      "2016-10-11 23:49:18,016 : INFO : topic #3(679.856): 0.513*\"АЛЛАХ\" + -0.337*\"ИМАМ\" + 0.274*\"ПОСЛАННИК\" + -0.211*\"КНИГА\" + 0.199*\"СКАЗАТЬ\" + 0.192*\"АЯТ\" + -0.169*\"ШИИТ\" + -0.137*\"КОТОРЫЙ\" + -0.132*\"СТАТЬЯ\" + -0.129*\"ЗНАЧЕНИЕ\"\n"
     ]
    },
    {
     "name": "stderr",
     "output_type": "stream",
     "text": [
      "2016-10-11 23:49:18,017 : INFO : topic #4(605.617): 0.437*\"ПРОРОК\" + -0.431*\"ИМАМ\" + 0.298*\"ДБАР\" + -0.207*\"ХУСЕЙН\" + 0.200*\"КОРАН\" + -0.166*\"СКАЗАТЬ\" + 0.160*\"АЯТ\" + -0.123*\"ШИИТ\" + 0.121*\"МУСУЛЬМАНИН\" + 0.114*\"МИССИЯ\"\n"
     ]
    },
    {
     "name": "stderr",
     "output_type": "stream",
     "text": [
      "2016-10-11 23:49:18,017 : INFO : preparing a new chunk of documents\n"
     ]
    },
    {
     "name": "stderr",
     "output_type": "stream",
     "text": [
      "2016-10-11 23:49:18,019 : INFO : using 100 extra samples and 2 power iterations\n"
     ]
    },
    {
     "name": "stderr",
     "output_type": "stream",
     "text": [
      "2016-10-11 23:49:18,019 : INFO : 1st phase: constructing (26996L, 200L) action matrix\n"
     ]
    },
    {
     "name": "stderr",
     "output_type": "stream",
     "text": [
      "2016-10-11 23:49:18,019 : INFO : orthonormalizing (26996L, 200L) action matrix\n"
     ]
    },
    {
     "name": "stderr",
     "output_type": "stream",
     "text": [
      "2016-10-11 23:49:18,420 : INFO : 2nd phase: running dense svd on (200L, 20L) matrix\n"
     ]
    },
    {
     "name": "stderr",
     "output_type": "stream",
     "text": [
      "2016-10-11 23:49:18,440 : INFO : computing the final decomposition\n"
     ]
    },
    {
     "name": "stderr",
     "output_type": "stream",
     "text": [
      "2016-10-11 23:49:18,440 : INFO : keeping 1 factors (discarding 0.000% of energy spectrum)\n"
     ]
    },
    {
     "name": "stderr",
     "output_type": "stream",
     "text": [
      "2016-10-11 23:49:18,444 : INFO : merging projections: (26996L, 77L) + (26996L, 1L)\n"
     ]
    },
    {
     "name": "stderr",
     "output_type": "stream",
     "text": [
      "2016-10-11 23:49:18,470 : INFO : keeping 76 factors (discarding 0.091% of energy spectrum)\n"
     ]
    },
    {
     "name": "stderr",
     "output_type": "stream",
     "text": [
      "2016-10-11 23:49:18,496 : INFO : processed documents up to #1640\n"
     ]
    },
    {
     "name": "stderr",
     "output_type": "stream",
     "text": [
      "2016-10-11 23:49:18,499 : INFO : topic #0(2281.755): 0.465*\"АЛЛАХ\" + 0.254*\"СКАЗАТЬ\" + 0.235*\"СВОЙ\" + 0.229*\"КОТОРЫЙ\" + 0.206*\"ИМАМ\" + 0.204*\"ЗНАЧЕНИЕ\" + 0.180*\"ХАДИС\" + 0.172*\"ЧЕЛОВЕК\" + 0.171*\"СЛОВО\" + 0.159*\"ПРОРОК\"\n"
     ]
    },
    {
     "name": "stderr",
     "output_type": "stream",
     "text": [
      "2016-10-11 23:49:18,500 : INFO : topic #1(1248.777): -0.485*\"ЗНАЧЕНИЕ\" + -0.246*\"СВЯТОЙ\" + 0.239*\"ХАДИС\" + -0.232*\"ВЕЛИК\" + 0.208*\"ИМАМ\" + -0.192*\"СЛОВО\" + 0.170*\"ПРОРОК\" + 0.130*\"ПОСЛАННИК\" + -0.120*\"СВОЙ\" + -0.114*\"ТВОРЕНИЕ\"\n"
     ]
    },
    {
     "name": "stderr",
     "output_type": "stream",
     "text": [
      "2016-10-11 23:49:18,500 : INFO : topic #2(743.795): -0.455*\"ХАДИС\" + 0.260*\"ИМАМ\" + 0.231*\"ПРОРОК\" + 0.206*\"АЛЛАХ\" + -0.186*\"БРАК\" + -0.177*\"ХАДЖ\" + -0.157*\"ЖЕНЩИНА\" + -0.149*\"ГОВОРИТЬ\" + -0.147*\"КНИГА\" + 0.143*\"ЧЕЛОВЕК\"\n"
     ]
    },
    {
     "name": "stderr",
     "output_type": "stream",
     "text": [
      "2016-10-11 23:49:18,502 : INFO : topic #3(679.893): 0.513*\"АЛЛАХ\" + -0.336*\"ИМАМ\" + 0.274*\"ПОСЛАННИК\" + -0.211*\"КНИГА\" + 0.199*\"СКАЗАТЬ\" + 0.192*\"АЯТ\" + -0.169*\"ШИИТ\" + -0.137*\"КОТОРЫЙ\" + -0.134*\"СТАТЬЯ\" + -0.129*\"ЗНАЧЕНИЕ\"\n"
     ]
    },
    {
     "name": "stderr",
     "output_type": "stream",
     "text": [
      "2016-10-11 23:49:18,503 : INFO : topic #4(605.620): 0.437*\"ПРОРОК\" + -0.431*\"ИМАМ\" + 0.298*\"ДБАР\" + -0.207*\"ХУСЕЙН\" + 0.200*\"КОРАН\" + -0.166*\"СКАЗАТЬ\" + 0.159*\"АЯТ\" + -0.123*\"ШИИТ\" + 0.120*\"МУСУЛЬМАНИН\" + 0.114*\"МИССИЯ\"\n"
     ]
    },
    {
     "name": "stderr",
     "output_type": "stream",
     "text": [
      "2016-10-11 23:49:18,503 : INFO : preparing a new chunk of documents\n"
     ]
    },
    {
     "name": "stderr",
     "output_type": "stream",
     "text": [
      "2016-10-11 23:49:18,503 : INFO : using 100 extra samples and 2 power iterations\n"
     ]
    },
    {
     "name": "stderr",
     "output_type": "stream",
     "text": [
      "2016-10-11 23:49:18,505 : INFO : 1st phase: constructing (26996L, 200L) action matrix\n"
     ]
    },
    {
     "name": "stderr",
     "output_type": "stream",
     "text": [
      "2016-10-11 23:49:18,505 : INFO : orthonormalizing (26996L, 200L) action matrix\n"
     ]
    },
    {
     "name": "stderr",
     "output_type": "stream",
     "text": [
      "2016-10-11 23:49:18,891 : INFO : 2nd phase: running dense svd on (200L, 20L) matrix\n"
     ]
    },
    {
     "name": "stderr",
     "output_type": "stream",
     "text": [
      "2016-10-11 23:49:18,911 : INFO : computing the final decomposition\n"
     ]
    },
    {
     "name": "stderr",
     "output_type": "stream",
     "text": [
      "2016-10-11 23:49:18,913 : INFO : keeping 1 factors (discarding 0.000% of energy spectrum)\n"
     ]
    },
    {
     "name": "stderr",
     "output_type": "stream",
     "text": [
      "2016-10-11 23:49:18,917 : INFO : merging projections: (26996L, 76L) + (26996L, 1L)\n"
     ]
    },
    {
     "name": "stderr",
     "output_type": "stream",
     "text": [
      "2016-10-11 23:49:18,941 : INFO : keeping 75 factors (discarding 0.092% of energy spectrum)\n"
     ]
    },
    {
     "name": "stderr",
     "output_type": "stream",
     "text": [
      "2016-10-11 23:49:18,964 : INFO : processed documents up to #1660\n"
     ]
    },
    {
     "name": "stderr",
     "output_type": "stream",
     "text": [
      "2016-10-11 23:49:18,967 : INFO : topic #0(2281.756): 0.465*\"АЛЛАХ\" + 0.254*\"СКАЗАТЬ\" + 0.235*\"СВОЙ\" + 0.229*\"КОТОРЫЙ\" + 0.206*\"ИМАМ\" + 0.204*\"ЗНАЧЕНИЕ\" + 0.180*\"ХАДИС\" + 0.172*\"ЧЕЛОВЕК\" + 0.171*\"СЛОВО\" + 0.159*\"ПРОРОК\"\n"
     ]
    },
    {
     "name": "stderr",
     "output_type": "stream",
     "text": [
      "2016-10-11 23:49:18,967 : INFO : topic #1(1248.779): -0.485*\"ЗНАЧЕНИЕ\" + -0.246*\"СВЯТОЙ\" + 0.239*\"ХАДИС\" + -0.232*\"ВЕЛИК\" + 0.208*\"ИМАМ\" + -0.192*\"СЛОВО\" + 0.170*\"ПРОРОК\" + 0.130*\"ПОСЛАННИК\" + -0.120*\"СВОЙ\" + -0.114*\"ТВОРЕНИЕ\"\n"
     ]
    },
    {
     "name": "stderr",
     "output_type": "stream",
     "text": [
      "2016-10-11 23:49:18,969 : INFO : topic #2(743.795): -0.455*\"ХАДИС\" + 0.260*\"ИМАМ\" + 0.231*\"ПРОРОК\" + 0.206*\"АЛЛАХ\" + -0.186*\"БРАК\" + -0.177*\"ХАДЖ\" + -0.157*\"ЖЕНЩИНА\" + -0.149*\"ГОВОРИТЬ\" + -0.147*\"КНИГА\" + 0.143*\"ЧЕЛОВЕК\"\n"
     ]
    },
    {
     "name": "stderr",
     "output_type": "stream",
     "text": [
      "2016-10-11 23:49:18,969 : INFO : topic #3(679.950): 0.513*\"АЛЛАХ\" + -0.336*\"ИМАМ\" + 0.274*\"ПОСЛАННИК\" + -0.211*\"КНИГА\" + 0.199*\"СКАЗАТЬ\" + 0.191*\"АЯТ\" + -0.169*\"ШИИТ\" + -0.136*\"КОТОРЫЙ\" + -0.136*\"СТАТЬЯ\" + -0.129*\"ЗНАЧЕНИЕ\"\n"
     ]
    },
    {
     "name": "stderr",
     "output_type": "stream",
     "text": [
      "2016-10-11 23:49:18,970 : INFO : topic #4(605.626): 0.438*\"ПРОРОК\" + -0.431*\"ИМАМ\" + 0.298*\"ДБАР\" + -0.207*\"ХУСЕЙН\" + 0.200*\"КОРАН\" + -0.166*\"СКАЗАТЬ\" + 0.159*\"АЯТ\" + -0.123*\"ШИИТ\" + 0.120*\"МУСУЛЬМАНИН\" + 0.114*\"МИССИЯ\"\n"
     ]
    },
    {
     "name": "stderr",
     "output_type": "stream",
     "text": [
      "2016-10-11 23:49:18,970 : INFO : preparing a new chunk of documents\n"
     ]
    },
    {
     "name": "stderr",
     "output_type": "stream",
     "text": [
      "2016-10-11 23:49:18,970 : INFO : using 100 extra samples and 2 power iterations\n"
     ]
    },
    {
     "name": "stderr",
     "output_type": "stream",
     "text": [
      "2016-10-11 23:49:18,971 : INFO : 1st phase: constructing (26996L, 200L) action matrix\n"
     ]
    },
    {
     "name": "stderr",
     "output_type": "stream",
     "text": [
      "2016-10-11 23:49:18,971 : INFO : orthonormalizing (26996L, 200L) action matrix\n"
     ]
    },
    {
     "name": "stderr",
     "output_type": "stream",
     "text": [
      "2016-10-11 23:49:19,371 : INFO : 2nd phase: running dense svd on (200L, 20L) matrix\n"
     ]
    },
    {
     "name": "stderr",
     "output_type": "stream",
     "text": [
      "2016-10-11 23:49:19,391 : INFO : computing the final decomposition\n"
     ]
    },
    {
     "name": "stderr",
     "output_type": "stream",
     "text": [
      "2016-10-11 23:49:19,392 : INFO : keeping 1 factors (discarding 0.000% of energy spectrum)\n"
     ]
    },
    {
     "name": "stderr",
     "output_type": "stream",
     "text": [
      "2016-10-11 23:49:19,397 : INFO : merging projections: (26996L, 75L) + (26996L, 1L)\n"
     ]
    },
    {
     "name": "stderr",
     "output_type": "stream",
     "text": [
      "2016-10-11 23:49:19,421 : INFO : keeping 74 factors (discarding 0.094% of energy spectrum)\n"
     ]
    },
    {
     "name": "stderr",
     "output_type": "stream",
     "text": [
      "2016-10-11 23:49:19,444 : INFO : processed documents up to #1680\n"
     ]
    },
    {
     "name": "stderr",
     "output_type": "stream",
     "text": [
      "2016-10-11 23:49:19,444 : INFO : topic #0(2281.756): 0.465*\"АЛЛАХ\" + 0.254*\"СКАЗАТЬ\" + 0.235*\"СВОЙ\" + 0.229*\"КОТОРЫЙ\" + 0.206*\"ИМАМ\" + 0.204*\"ЗНАЧЕНИЕ\" + 0.180*\"ХАДИС\" + 0.172*\"ЧЕЛОВЕК\" + 0.171*\"СЛОВО\" + 0.159*\"ПРОРОК\"\n"
     ]
    },
    {
     "name": "stderr",
     "output_type": "stream",
     "text": [
      "2016-10-11 23:49:19,446 : INFO : topic #1(1248.779): -0.485*\"ЗНАЧЕНИЕ\" + -0.246*\"СВЯТОЙ\" + 0.239*\"ХАДИС\" + -0.232*\"ВЕЛИК\" + 0.208*\"ИМАМ\" + -0.192*\"СЛОВО\" + 0.170*\"ПРОРОК\" + 0.130*\"ПОСЛАННИК\" + -0.120*\"СВОЙ\" + -0.114*\"ТВОРЕНИЕ\"\n"
     ]
    },
    {
     "name": "stderr",
     "output_type": "stream",
     "text": [
      "2016-10-11 23:49:19,447 : INFO : topic #2(743.795): -0.455*\"ХАДИС\" + 0.260*\"ИМАМ\" + 0.231*\"ПРОРОК\" + 0.206*\"АЛЛАХ\" + -0.186*\"БРАК\" + -0.177*\"ХАДЖ\" + -0.157*\"ЖЕНЩИНА\" + -0.149*\"ГОВОРИТЬ\" + -0.147*\"КНИГА\" + 0.143*\"ЧЕЛОВЕК\"\n"
     ]
    },
    {
     "name": "stderr",
     "output_type": "stream",
     "text": [
      "2016-10-11 23:49:19,447 : INFO : topic #3(679.969): 0.512*\"АЛЛАХ\" + -0.336*\"ИМАМ\" + 0.274*\"ПОСЛАННИК\" + -0.211*\"КНИГА\" + 0.199*\"СКАЗАТЬ\" + 0.191*\"АЯТ\" + -0.169*\"ШИИТ\" + -0.137*\"СТАТЬЯ\" + -0.136*\"КОТОРЫЙ\" + -0.129*\"ЗНАЧЕНИЕ\"\n"
     ]
    },
    {
     "name": "stderr",
     "output_type": "stream",
     "text": [
      "2016-10-11 23:49:19,448 : INFO : topic #4(605.628): 0.438*\"ПРОРОК\" + -0.431*\"ИМАМ\" + 0.298*\"ДБАР\" + -0.207*\"ХУСЕЙН\" + 0.200*\"КОРАН\" + -0.166*\"СКАЗАТЬ\" + 0.159*\"АЯТ\" + -0.123*\"ШИИТ\" + 0.120*\"МУСУЛЬМАНИН\" + 0.114*\"МИССИЯ\"\n"
     ]
    },
    {
     "name": "stderr",
     "output_type": "stream",
     "text": [
      "2016-10-11 23:49:19,450 : INFO : preparing a new chunk of documents\n"
     ]
    },
    {
     "name": "stderr",
     "output_type": "stream",
     "text": [
      "2016-10-11 23:49:19,450 : INFO : using 100 extra samples and 2 power iterations\n"
     ]
    },
    {
     "name": "stderr",
     "output_type": "stream",
     "text": [
      "2016-10-11 23:49:19,450 : INFO : 1st phase: constructing (26996L, 200L) action matrix\n"
     ]
    },
    {
     "name": "stderr",
     "output_type": "stream",
     "text": [
      "2016-10-11 23:49:19,450 : INFO : orthonormalizing (26996L, 200L) action matrix\n"
     ]
    },
    {
     "name": "stderr",
     "output_type": "stream",
     "text": [
      "2016-10-11 23:49:19,846 : INFO : 2nd phase: running dense svd on (200L, 20L) matrix\n"
     ]
    },
    {
     "name": "stderr",
     "output_type": "stream",
     "text": [
      "2016-10-11 23:49:19,867 : INFO : computing the final decomposition\n"
     ]
    },
    {
     "name": "stderr",
     "output_type": "stream",
     "text": [
      "2016-10-11 23:49:19,868 : INFO : keeping 1 factors (discarding 0.000% of energy spectrum)\n"
     ]
    },
    {
     "name": "stderr",
     "output_type": "stream",
     "text": [
      "2016-10-11 23:49:19,871 : INFO : merging projections: (26996L, 74L) + (26996L, 1L)\n"
     ]
    },
    {
     "name": "stderr",
     "output_type": "stream",
     "text": [
      "2016-10-11 23:49:19,895 : INFO : keeping 73 factors (discarding 0.097% of energy spectrum)\n"
     ]
    },
    {
     "name": "stderr",
     "output_type": "stream",
     "text": [
      "2016-10-11 23:49:19,917 : INFO : processed documents up to #1700\n"
     ]
    },
    {
     "name": "stderr",
     "output_type": "stream",
     "text": [
      "2016-10-11 23:49:19,918 : INFO : topic #0(2281.756): 0.465*\"АЛЛАХ\" + 0.254*\"СКАЗАТЬ\" + 0.235*\"СВОЙ\" + 0.229*\"КОТОРЫЙ\" + 0.206*\"ИМАМ\" + 0.204*\"ЗНАЧЕНИЕ\" + 0.180*\"ХАДИС\" + 0.172*\"ЧЕЛОВЕК\" + 0.171*\"СЛОВО\" + 0.159*\"ПРОРОК\"\n"
     ]
    },
    {
     "name": "stderr",
     "output_type": "stream",
     "text": [
      "2016-10-11 23:49:19,920 : INFO : topic #1(1248.780): -0.485*\"ЗНАЧЕНИЕ\" + -0.246*\"СВЯТОЙ\" + 0.239*\"ХАДИС\" + -0.232*\"ВЕЛИК\" + 0.208*\"ИМАМ\" + -0.192*\"СЛОВО\" + 0.170*\"ПРОРОК\" + 0.130*\"ПОСЛАННИК\" + -0.120*\"СВОЙ\" + -0.114*\"ТВОРЕНИЕ\"\n"
     ]
    },
    {
     "name": "stderr",
     "output_type": "stream",
     "text": [
      "2016-10-11 23:49:19,921 : INFO : topic #2(743.795): -0.455*\"ХАДИС\" + 0.260*\"ИМАМ\" + 0.231*\"ПРОРОК\" + 0.206*\"АЛЛАХ\" + -0.186*\"БРАК\" + -0.177*\"ХАДЖ\" + -0.157*\"ЖЕНЩИНА\" + -0.149*\"ГОВОРИТЬ\" + -0.147*\"КНИГА\" + 0.143*\"ЧЕЛОВЕК\"\n"
     ]
    },
    {
     "name": "stderr",
     "output_type": "stream",
     "text": [
      "2016-10-11 23:49:19,923 : INFO : topic #3(680.008): 0.512*\"АЛЛАХ\" + -0.336*\"ИМАМ\" + 0.274*\"ПОСЛАННИК\" + -0.210*\"КНИГА\" + 0.199*\"СКАЗАТЬ\" + 0.191*\"АЯТ\" + -0.169*\"ШИИТ\" + -0.139*\"СТАТЬЯ\" + -0.136*\"КОТОРЫЙ\" + -0.129*\"ЗНАЧЕНИЕ\"\n"
     ]
    },
    {
     "name": "stderr",
     "output_type": "stream",
     "text": [
      "2016-10-11 23:49:19,924 : INFO : topic #4(605.633): 0.438*\"ПРОРОК\" + -0.430*\"ИМАМ\" + 0.298*\"ДБАР\" + -0.207*\"ХУСЕЙН\" + 0.200*\"КОРАН\" + -0.166*\"СКАЗАТЬ\" + 0.159*\"АЯТ\" + -0.123*\"ШИИТ\" + 0.120*\"МУСУЛЬМАНИН\" + 0.114*\"МИССИЯ\"\n"
     ]
    },
    {
     "name": "stderr",
     "output_type": "stream",
     "text": [
      "2016-10-11 23:49:19,924 : INFO : preparing a new chunk of documents\n"
     ]
    },
    {
     "name": "stderr",
     "output_type": "stream",
     "text": [
      "2016-10-11 23:49:19,924 : INFO : using 100 extra samples and 2 power iterations\n"
     ]
    },
    {
     "name": "stderr",
     "output_type": "stream",
     "text": [
      "2016-10-11 23:49:19,924 : INFO : 1st phase: constructing (26996L, 200L) action matrix\n"
     ]
    },
    {
     "name": "stderr",
     "output_type": "stream",
     "text": [
      "2016-10-11 23:49:19,926 : INFO : orthonormalizing (26996L, 200L) action matrix\n"
     ]
    },
    {
     "name": "stderr",
     "output_type": "stream",
     "text": [
      "2016-10-11 23:49:20,319 : INFO : 2nd phase: running dense svd on (200L, 20L) matrix\n"
     ]
    },
    {
     "name": "stderr",
     "output_type": "stream",
     "text": [
      "2016-10-11 23:49:20,339 : INFO : computing the final decomposition\n"
     ]
    },
    {
     "name": "stderr",
     "output_type": "stream",
     "text": [
      "2016-10-11 23:49:20,341 : INFO : keeping 1 factors (discarding 0.000% of energy spectrum)\n"
     ]
    },
    {
     "name": "stderr",
     "output_type": "stream",
     "text": [
      "2016-10-11 23:49:20,345 : INFO : merging projections: (26996L, 73L) + (26996L, 1L)\n"
     ]
    },
    {
     "name": "stderr",
     "output_type": "stream",
     "text": [
      "2016-10-11 23:49:20,368 : INFO : keeping 72 factors (discarding 0.098% of energy spectrum)\n"
     ]
    },
    {
     "name": "stderr",
     "output_type": "stream",
     "text": [
      "2016-10-11 23:49:20,388 : INFO : processed documents up to #1720\n"
     ]
    },
    {
     "name": "stderr",
     "output_type": "stream",
     "text": [
      "2016-10-11 23:49:20,390 : INFO : topic #0(2281.756): 0.465*\"АЛЛАХ\" + 0.254*\"СКАЗАТЬ\" + 0.235*\"СВОЙ\" + 0.229*\"КОТОРЫЙ\" + 0.206*\"ИМАМ\" + 0.204*\"ЗНАЧЕНИЕ\" + 0.180*\"ХАДИС\" + 0.172*\"ЧЕЛОВЕК\" + 0.171*\"СЛОВО\" + 0.159*\"ПРОРОК\"\n"
     ]
    },
    {
     "name": "stderr",
     "output_type": "stream",
     "text": [
      "2016-10-11 23:49:20,391 : INFO : topic #1(1248.780): -0.485*\"ЗНАЧЕНИЕ\" + -0.246*\"СВЯТОЙ\" + 0.239*\"ХАДИС\" + -0.232*\"ВЕЛИК\" + 0.208*\"ИМАМ\" + -0.192*\"СЛОВО\" + 0.170*\"ПРОРОК\" + 0.130*\"ПОСЛАННИК\" + -0.120*\"СВОЙ\" + -0.114*\"ТВОРЕНИЕ\"\n"
     ]
    },
    {
     "name": "stderr",
     "output_type": "stream",
     "text": [
      "2016-10-11 23:49:20,391 : INFO : topic #2(743.795): -0.455*\"ХАДИС\" + 0.260*\"ИМАМ\" + 0.231*\"ПРОРОК\" + 0.206*\"АЛЛАХ\" + -0.186*\"БРАК\" + -0.177*\"ХАДЖ\" + -0.157*\"ЖЕНЩИНА\" + -0.149*\"ГОВОРИТЬ\" + -0.147*\"КНИГА\" + 0.143*\"ЧЕЛОВЕК\"\n"
     ]
    },
    {
     "name": "stderr",
     "output_type": "stream",
     "text": [
      "2016-10-11 23:49:20,392 : INFO : topic #3(680.049): 0.512*\"АЛЛАХ\" + -0.336*\"ИМАМ\" + 0.274*\"ПОСЛАННИК\" + -0.210*\"КНИГА\" + 0.199*\"СКАЗАТЬ\" + 0.191*\"АЯТ\" + -0.169*\"ШИИТ\" + -0.140*\"СТАТЬЯ\" + -0.136*\"КОТОРЫЙ\" + -0.129*\"ЗНАЧЕНИЕ\"\n"
     ]
    },
    {
     "name": "stderr",
     "output_type": "stream",
     "text": [
      "2016-10-11 23:49:20,394 : INFO : topic #4(605.638): 0.438*\"ПРОРОК\" + -0.430*\"ИМАМ\" + 0.298*\"ДБАР\" + -0.206*\"ХУСЕЙН\" + 0.200*\"КОРАН\" + -0.166*\"СКАЗАТЬ\" + 0.158*\"АЯТ\" + -0.122*\"ШИИТ\" + 0.120*\"МУСУЛЬМАНИН\" + 0.114*\"МИССИЯ\"\n"
     ]
    },
    {
     "name": "stderr",
     "output_type": "stream",
     "text": [
      "2016-10-11 23:49:20,394 : INFO : preparing a new chunk of documents\n"
     ]
    },
    {
     "name": "stderr",
     "output_type": "stream",
     "text": [
      "2016-10-11 23:49:20,394 : INFO : using 100 extra samples and 2 power iterations\n"
     ]
    },
    {
     "name": "stderr",
     "output_type": "stream",
     "text": [
      "2016-10-11 23:49:20,395 : INFO : 1st phase: constructing (26996L, 200L) action matrix\n"
     ]
    },
    {
     "name": "stderr",
     "output_type": "stream",
     "text": [
      "2016-10-11 23:49:20,395 : INFO : orthonormalizing (26996L, 200L) action matrix\n"
     ]
    },
    {
     "name": "stderr",
     "output_type": "stream",
     "text": [
      "2016-10-11 23:49:20,782 : INFO : 2nd phase: running dense svd on (200L, 20L) matrix\n"
     ]
    },
    {
     "name": "stderr",
     "output_type": "stream",
     "text": [
      "2016-10-11 23:49:20,803 : INFO : computing the final decomposition\n"
     ]
    },
    {
     "name": "stderr",
     "output_type": "stream",
     "text": [
      "2016-10-11 23:49:20,805 : INFO : keeping 1 factors (discarding 0.000% of energy spectrum)\n"
     ]
    },
    {
     "name": "stderr",
     "output_type": "stream",
     "text": [
      "2016-10-11 23:49:20,809 : INFO : merging projections: (26996L, 72L) + (26996L, 1L)\n"
     ]
    },
    {
     "name": "stderr",
     "output_type": "stream",
     "text": [
      "2016-10-11 23:49:20,832 : INFO : keeping 71 factors (discarding 0.099% of energy spectrum)\n"
     ]
    },
    {
     "name": "stderr",
     "output_type": "stream",
     "text": [
      "2016-10-11 23:49:20,852 : INFO : processed documents up to #1740\n"
     ]
    },
    {
     "name": "stderr",
     "output_type": "stream",
     "text": [
      "2016-10-11 23:49:20,855 : INFO : topic #0(2281.756): 0.465*\"АЛЛАХ\" + 0.254*\"СКАЗАТЬ\" + 0.235*\"СВОЙ\" + 0.229*\"КОТОРЫЙ\" + 0.206*\"ИМАМ\" + 0.204*\"ЗНАЧЕНИЕ\" + 0.180*\"ХАДИС\" + 0.172*\"ЧЕЛОВЕК\" + 0.171*\"СЛОВО\" + 0.159*\"ПРОРОК\"\n"
     ]
    },
    {
     "name": "stderr",
     "output_type": "stream",
     "text": [
      "2016-10-11 23:49:20,855 : INFO : topic #1(1248.781): -0.485*\"ЗНАЧЕНИЕ\" + -0.246*\"СВЯТОЙ\" + 0.239*\"ХАДИС\" + -0.232*\"ВЕЛИК\" + 0.208*\"ИМАМ\" + -0.192*\"СЛОВО\" + 0.170*\"ПРОРОК\" + 0.130*\"ПОСЛАННИК\" + -0.120*\"СВОЙ\" + -0.114*\"ТВОРЕНИЕ\"\n"
     ]
    },
    {
     "name": "stderr",
     "output_type": "stream",
     "text": [
      "2016-10-11 23:49:20,857 : INFO : topic #2(743.795): -0.455*\"ХАДИС\" + 0.260*\"ИМАМ\" + 0.231*\"ПРОРОК\" + 0.206*\"АЛЛАХ\" + -0.186*\"БРАК\" + -0.177*\"ХАДЖ\" + -0.157*\"ЖЕНЩИНА\" + -0.149*\"ГОВОРИТЬ\" + -0.147*\"КНИГА\" + 0.143*\"ЧЕЛОВЕК\"\n"
     ]
    },
    {
     "name": "stderr",
     "output_type": "stream",
     "text": [
      "2016-10-11 23:49:20,858 : INFO : topic #3(680.090): 0.512*\"АЛЛАХ\" + -0.336*\"ИМАМ\" + 0.274*\"ПОСЛАННИК\" + -0.210*\"КНИГА\" + 0.199*\"СКАЗАТЬ\" + 0.191*\"АЯТ\" + -0.169*\"ШИИТ\" + -0.142*\"СТАТЬЯ\" + -0.136*\"КОТОРЫЙ\" + -0.129*\"ЗНАЧЕНИЕ\"\n"
     ]
    },
    {
     "name": "stderr",
     "output_type": "stream",
     "text": [
      "2016-10-11 23:49:20,858 : INFO : topic #4(605.644): 0.438*\"ПРОРОК\" + -0.430*\"ИМАМ\" + 0.299*\"ДБАР\" + -0.206*\"ХУСЕЙН\" + 0.199*\"КОРАН\" + -0.166*\"СКАЗАТЬ\" + 0.158*\"АЯТ\" + -0.122*\"ШИИТ\" + 0.120*\"МУСУЛЬМАНИН\" + 0.114*\"МИССИЯ\"\n"
     ]
    },
    {
     "name": "stderr",
     "output_type": "stream",
     "text": [
      "2016-10-11 23:49:20,859 : INFO : preparing a new chunk of documents\n"
     ]
    },
    {
     "name": "stderr",
     "output_type": "stream",
     "text": [
      "2016-10-11 23:49:20,859 : INFO : using 100 extra samples and 2 power iterations\n"
     ]
    },
    {
     "name": "stderr",
     "output_type": "stream",
     "text": [
      "2016-10-11 23:49:20,861 : INFO : 1st phase: constructing (26996L, 200L) action matrix\n"
     ]
    },
    {
     "name": "stderr",
     "output_type": "stream",
     "text": [
      "2016-10-11 23:49:20,861 : INFO : orthonormalizing (26996L, 200L) action matrix\n"
     ]
    },
    {
     "name": "stderr",
     "output_type": "stream",
     "text": [
      "2016-10-11 23:49:21,252 : INFO : 2nd phase: running dense svd on (200L, 20L) matrix\n"
     ]
    },
    {
     "name": "stderr",
     "output_type": "stream",
     "text": [
      "2016-10-11 23:49:21,272 : INFO : computing the final decomposition\n"
     ]
    },
    {
     "name": "stderr",
     "output_type": "stream",
     "text": [
      "2016-10-11 23:49:21,273 : INFO : keeping 1 factors (discarding 0.000% of energy spectrum)\n"
     ]
    },
    {
     "name": "stderr",
     "output_type": "stream",
     "text": [
      "2016-10-11 23:49:21,276 : INFO : merging projections: (26996L, 71L) + (26996L, 1L)\n"
     ]
    },
    {
     "name": "stderr",
     "output_type": "stream",
     "text": [
      "2016-10-11 23:49:21,302 : INFO : keeping 71 factors (discarding 0.000% of energy spectrum)\n"
     ]
    },
    {
     "name": "stderr",
     "output_type": "stream",
     "text": [
      "2016-10-11 23:49:21,322 : INFO : processed documents up to #1760\n"
     ]
    },
    {
     "name": "stderr",
     "output_type": "stream",
     "text": [
      "2016-10-11 23:49:21,323 : INFO : topic #0(2281.757): 0.465*\"АЛЛАХ\" + 0.254*\"СКАЗАТЬ\" + 0.235*\"СВОЙ\" + 0.229*\"КОТОРЫЙ\" + 0.206*\"ИМАМ\" + 0.204*\"ЗНАЧЕНИЕ\" + 0.180*\"ХАДИС\" + 0.172*\"ЧЕЛОВЕК\" + 0.171*\"СЛОВО\" + 0.159*\"ПРОРОК\"\n"
     ]
    },
    {
     "name": "stderr",
     "output_type": "stream",
     "text": [
      "2016-10-11 23:49:21,325 : INFO : topic #1(1248.782): -0.485*\"ЗНАЧЕНИЕ\" + -0.246*\"СВЯТОЙ\" + 0.239*\"ХАДИС\" + -0.232*\"ВЕЛИК\" + 0.208*\"ИМАМ\" + -0.192*\"СЛОВО\" + 0.170*\"ПРОРОК\" + 0.130*\"ПОСЛАННИК\" + -0.120*\"СВОЙ\" + -0.114*\"ТВОРЕНИЕ\"\n"
     ]
    },
    {
     "name": "stderr",
     "output_type": "stream",
     "text": [
      "2016-10-11 23:49:21,325 : INFO : topic #2(743.795): -0.455*\"ХАДИС\" + 0.260*\"ИМАМ\" + 0.231*\"ПРОРОК\" + 0.206*\"АЛЛАХ\" + -0.186*\"БРАК\" + -0.177*\"ХАДЖ\" + -0.157*\"ЖЕНЩИНА\" + -0.149*\"ГОВОРИТЬ\" + -0.147*\"КНИГА\" + 0.143*\"ЧЕЛОВЕК\"\n"
     ]
    },
    {
     "name": "stderr",
     "output_type": "stream",
     "text": [
      "2016-10-11 23:49:21,326 : INFO : topic #3(680.154): 0.511*\"АЛЛАХ\" + -0.336*\"ИМАМ\" + 0.274*\"ПОСЛАННИК\" + -0.210*\"КНИГА\" + 0.199*\"СКАЗАТЬ\" + 0.191*\"АЯТ\" + -0.169*\"ШИИТ\" + -0.144*\"СТАТЬЯ\" + -0.136*\"КОТОРЫЙ\" + -0.129*\"ЗНАЧЕНИЕ\"\n"
     ]
    },
    {
     "name": "stderr",
     "output_type": "stream",
     "text": [
      "2016-10-11 23:49:21,328 : INFO : topic #4(605.654): 0.438*\"ПРОРОК\" + -0.429*\"ИМАМ\" + 0.299*\"ДБАР\" + -0.205*\"ХУСЕЙН\" + 0.199*\"КОРАН\" + -0.166*\"СКАЗАТЬ\" + 0.158*\"АЯТ\" + -0.122*\"ШИИТ\" + 0.120*\"МУСУЛЬМАНИН\" + 0.114*\"МИССИЯ\"\n"
     ]
    },
    {
     "name": "stderr",
     "output_type": "stream",
     "text": [
      "2016-10-11 23:49:21,328 : INFO : preparing a new chunk of documents\n"
     ]
    },
    {
     "name": "stderr",
     "output_type": "stream",
     "text": [
      "2016-10-11 23:49:21,328 : INFO : using 100 extra samples and 2 power iterations\n"
     ]
    },
    {
     "name": "stderr",
     "output_type": "stream",
     "text": [
      "2016-10-11 23:49:21,328 : INFO : 1st phase: constructing (26996L, 200L) action matrix\n"
     ]
    },
    {
     "name": "stderr",
     "output_type": "stream",
     "text": [
      "2016-10-11 23:49:21,329 : INFO : orthonormalizing (26996L, 200L) action matrix\n"
     ]
    },
    {
     "name": "stderr",
     "output_type": "stream",
     "text": [
      "2016-10-11 23:49:21,717 : INFO : 2nd phase: running dense svd on (200L, 20L) matrix\n"
     ]
    },
    {
     "name": "stderr",
     "output_type": "stream",
     "text": [
      "2016-10-11 23:49:21,737 : INFO : computing the final decomposition\n"
     ]
    },
    {
     "name": "stderr",
     "output_type": "stream",
     "text": [
      "2016-10-11 23:49:21,739 : INFO : keeping 1 factors (discarding 0.000% of energy spectrum)\n"
     ]
    },
    {
     "name": "stderr",
     "output_type": "stream",
     "text": [
      "2016-10-11 23:49:21,743 : INFO : merging projections: (26996L, 71L) + (26996L, 1L)\n"
     ]
    },
    {
     "name": "stderr",
     "output_type": "stream",
     "text": [
      "2016-10-11 23:49:21,766 : INFO : keeping 71 factors (discarding 0.000% of energy spectrum)\n"
     ]
    },
    {
     "name": "stderr",
     "output_type": "stream",
     "text": [
      "2016-10-11 23:49:21,788 : INFO : processed documents up to #1780\n"
     ]
    },
    {
     "name": "stderr",
     "output_type": "stream",
     "text": [
      "2016-10-11 23:49:21,789 : INFO : topic #0(2281.757): 0.465*\"АЛЛАХ\" + 0.254*\"СКАЗАТЬ\" + 0.235*\"СВОЙ\" + 0.229*\"КОТОРЫЙ\" + 0.206*\"ИМАМ\" + 0.204*\"ЗНАЧЕНИЕ\" + 0.180*\"ХАДИС\" + 0.172*\"ЧЕЛОВЕК\" + 0.171*\"СЛОВО\" + 0.159*\"ПРОРОК\"\n"
     ]
    },
    {
     "name": "stderr",
     "output_type": "stream",
     "text": [
      "2016-10-11 23:49:21,789 : INFO : topic #1(1248.783): -0.485*\"ЗНАЧЕНИЕ\" + -0.246*\"СВЯТОЙ\" + 0.239*\"ХАДИС\" + -0.232*\"ВЕЛИК\" + 0.208*\"ИМАМ\" + -0.192*\"СЛОВО\" + 0.170*\"ПРОРОК\" + 0.130*\"ПОСЛАННИК\" + -0.120*\"СВОЙ\" + -0.114*\"ТВОРЕНИЕ\"\n"
     ]
    },
    {
     "name": "stderr",
     "output_type": "stream",
     "text": [
      "2016-10-11 23:49:21,790 : INFO : topic #2(743.795): -0.455*\"ХАДИС\" + 0.260*\"ИМАМ\" + 0.231*\"ПРОРОК\" + 0.206*\"АЛЛАХ\" + -0.186*\"БРАК\" + -0.177*\"ХАДЖ\" + -0.157*\"ЖЕНЩИНА\" + -0.149*\"ГОВОРИТЬ\" + -0.147*\"КНИГА\" + 0.143*\"ЧЕЛОВЕК\"\n"
     ]
    },
    {
     "name": "stderr",
     "output_type": "stream",
     "text": [
      "2016-10-11 23:49:21,792 : INFO : topic #3(680.176): 0.511*\"АЛЛАХ\" + -0.336*\"ИМАМ\" + 0.274*\"ПОСЛАННИК\" + -0.210*\"КНИГА\" + 0.199*\"СКАЗАТЬ\" + 0.191*\"АЯТ\" + -0.169*\"ШИИТ\" + -0.145*\"СТАТЬЯ\" + -0.136*\"КОТОРЫЙ\" + -0.129*\"ЗНАЧЕНИЕ\"\n"
     ]
    },
    {
     "name": "stderr",
     "output_type": "stream",
     "text": [
      "2016-10-11 23:49:21,792 : INFO : topic #4(605.658): 0.438*\"ПРОРОК\" + -0.429*\"ИМАМ\" + 0.299*\"ДБАР\" + -0.205*\"ХУСЕЙН\" + 0.199*\"КОРАН\" + -0.166*\"СКАЗАТЬ\" + 0.157*\"АЯТ\" + -0.122*\"ШИИТ\" + 0.120*\"МУСУЛЬМАНИН\" + 0.114*\"МИССИЯ\"\n"
     ]
    },
    {
     "name": "stderr",
     "output_type": "stream",
     "text": [
      "2016-10-11 23:49:21,793 : INFO : preparing a new chunk of documents\n"
     ]
    },
    {
     "name": "stderr",
     "output_type": "stream",
     "text": [
      "2016-10-11 23:49:21,795 : INFO : using 100 extra samples and 2 power iterations\n"
     ]
    },
    {
     "name": "stderr",
     "output_type": "stream",
     "text": [
      "2016-10-11 23:49:21,795 : INFO : 1st phase: constructing (26996L, 200L) action matrix\n"
     ]
    },
    {
     "name": "stderr",
     "output_type": "stream",
     "text": [
      "2016-10-11 23:49:21,796 : INFO : orthonormalizing (26996L, 200L) action matrix\n"
     ]
    },
    {
     "name": "stderr",
     "output_type": "stream",
     "text": [
      "2016-10-11 23:49:22,460 : INFO : 2nd phase: running dense svd on (200L, 20L) matrix\n"
     ]
    },
    {
     "name": "stderr",
     "output_type": "stream",
     "text": [
      "2016-10-11 23:49:22,480 : INFO : computing the final decomposition\n"
     ]
    },
    {
     "name": "stderr",
     "output_type": "stream",
     "text": [
      "2016-10-11 23:49:22,482 : INFO : keeping 3 factors (discarding 0.000% of energy spectrum)\n"
     ]
    },
    {
     "name": "stderr",
     "output_type": "stream",
     "text": [
      "2016-10-11 23:49:22,490 : INFO : merging projections: (26996L, 71L) + (26996L, 3L)\n"
     ]
    },
    {
     "name": "stderr",
     "output_type": "stream",
     "text": [
      "2016-10-11 23:49:22,516 : INFO : keeping 71 factors (discarding 0.004% of energy spectrum)\n"
     ]
    },
    {
     "name": "stderr",
     "output_type": "stream",
     "text": [
      "2016-10-11 23:49:22,539 : INFO : processed documents up to #1800\n"
     ]
    },
    {
     "name": "stderr",
     "output_type": "stream",
     "text": [
      "2016-10-11 23:49:22,540 : INFO : topic #0(2281.760): 0.465*\"АЛЛАХ\" + 0.254*\"СКАЗАТЬ\" + 0.235*\"СВОЙ\" + 0.229*\"КОТОРЫЙ\" + 0.206*\"ИМАМ\" + 0.204*\"ЗНАЧЕНИЕ\" + 0.180*\"ХАДИС\" + 0.172*\"ЧЕЛОВЕК\" + 0.171*\"СЛОВО\" + 0.159*\"ПРОРОК\"\n"
     ]
    },
    {
     "name": "stderr",
     "output_type": "stream",
     "text": [
      "2016-10-11 23:49:22,542 : INFO : topic #1(1248.783): -0.485*\"ЗНАЧЕНИЕ\" + -0.246*\"СВЯТОЙ\" + 0.239*\"ХАДИС\" + -0.232*\"ВЕЛИК\" + 0.208*\"ИМАМ\" + -0.192*\"СЛОВО\" + 0.170*\"ПРОРОК\" + 0.130*\"ПОСЛАННИК\" + -0.120*\"СВОЙ\" + -0.114*\"ТВОРЕНИЕ\"\n"
     ]
    },
    {
     "name": "stderr",
     "output_type": "stream",
     "text": [
      "2016-10-11 23:49:22,543 : INFO : topic #2(743.795): -0.455*\"ХАДИС\" + 0.260*\"ИМАМ\" + 0.231*\"ПРОРОК\" + 0.206*\"АЛЛАХ\" + -0.186*\"БРАК\" + -0.177*\"ХАДЖ\" + -0.157*\"ЖЕНЩИНА\" + -0.149*\"ГОВОРИТЬ\" + -0.147*\"КНИГА\" + 0.143*\"ЧЕЛОВЕК\"\n"
     ]
    },
    {
     "name": "stderr",
     "output_type": "stream",
     "text": [
      "2016-10-11 23:49:22,545 : INFO : topic #3(680.221): 0.511*\"АЛЛАХ\" + -0.335*\"ИМАМ\" + 0.273*\"ПОСЛАННИК\" + -0.210*\"КНИГА\" + 0.199*\"СКАЗАТЬ\" + 0.191*\"АЯТ\" + -0.168*\"ШИИТ\" + -0.147*\"СТАТЬЯ\" + -0.135*\"КОТОРЫЙ\" + -0.130*\"ПРОЧЕСТЬ\"\n"
     ]
    },
    {
     "name": "stderr",
     "output_type": "stream",
     "text": [
      "2016-10-11 23:49:22,546 : INFO : topic #4(605.667): 0.438*\"ПРОРОК\" + -0.428*\"ИМАМ\" + 0.299*\"ДБАР\" + -0.205*\"ХУСЕЙН\" + 0.199*\"КОРАН\" + -0.166*\"СКАЗАТЬ\" + 0.157*\"АЯТ\" + -0.121*\"ШИИТ\" + 0.120*\"МУСУЛЬМАНИН\" + 0.114*\"МИССИЯ\"\n"
     ]
    },
    {
     "name": "stderr",
     "output_type": "stream",
     "text": [
      "2016-10-11 23:49:22,546 : INFO : preparing a new chunk of documents\n"
     ]
    },
    {
     "name": "stderr",
     "output_type": "stream",
     "text": [
      "2016-10-11 23:49:22,546 : INFO : using 100 extra samples and 2 power iterations\n"
     ]
    },
    {
     "name": "stderr",
     "output_type": "stream",
     "text": [
      "2016-10-11 23:49:22,548 : INFO : 1st phase: constructing (26996L, 200L) action matrix\n"
     ]
    },
    {
     "name": "stderr",
     "output_type": "stream",
     "text": [
      "2016-10-11 23:49:22,548 : INFO : orthonormalizing (26996L, 200L) action matrix\n"
     ]
    },
    {
     "name": "stderr",
     "output_type": "stream",
     "text": [
      "2016-10-11 23:49:22,983 : INFO : 2nd phase: running dense svd on (200L, 20L) matrix\n"
     ]
    },
    {
     "name": "stderr",
     "output_type": "stream",
     "text": [
      "2016-10-11 23:49:23,003 : INFO : computing the final decomposition\n"
     ]
    },
    {
     "name": "stderr",
     "output_type": "stream",
     "text": [
      "2016-10-11 23:49:23,003 : INFO : keeping 1 factors (discarding 0.000% of energy spectrum)\n"
     ]
    },
    {
     "name": "stderr",
     "output_type": "stream",
     "text": [
      "2016-10-11 23:49:23,009 : INFO : merging projections: (26996L, 71L) + (26996L, 1L)\n"
     ]
    },
    {
     "name": "stderr",
     "output_type": "stream",
     "text": [
      "2016-10-11 23:49:23,036 : INFO : keeping 71 factors (discarding 0.000% of energy spectrum)\n"
     ]
    },
    {
     "name": "stderr",
     "output_type": "stream",
     "text": [
      "2016-10-11 23:49:23,059 : INFO : processed documents up to #1820\n"
     ]
    },
    {
     "name": "stderr",
     "output_type": "stream",
     "text": [
      "2016-10-11 23:49:23,059 : INFO : topic #0(2281.760): 0.465*\"АЛЛАХ\" + 0.254*\"СКАЗАТЬ\" + 0.235*\"СВОЙ\" + 0.229*\"КОТОРЫЙ\" + 0.206*\"ИМАМ\" + 0.204*\"ЗНАЧЕНИЕ\" + 0.180*\"ХАДИС\" + 0.172*\"ЧЕЛОВЕК\" + 0.171*\"СЛОВО\" + 0.159*\"ПРОРОК\"\n"
     ]
    },
    {
     "name": "stderr",
     "output_type": "stream",
     "text": [
      "2016-10-11 23:49:23,062 : INFO : topic #1(1248.784): -0.485*\"ЗНАЧЕНИЕ\" + -0.246*\"СВЯТОЙ\" + 0.239*\"ХАДИС\" + -0.232*\"ВЕЛИК\" + 0.208*\"ИМАМ\" + -0.192*\"СЛОВО\" + 0.170*\"ПРОРОК\" + 0.130*\"ПОСЛАННИК\" + -0.120*\"СВОЙ\" + -0.114*\"ТВОРЕНИЕ\"\n"
     ]
    },
    {
     "name": "stderr",
     "output_type": "stream",
     "text": [
      "2016-10-11 23:49:23,062 : INFO : topic #2(743.795): -0.455*\"ХАДИС\" + 0.260*\"ИМАМ\" + 0.231*\"ПРОРОК\" + 0.206*\"АЛЛАХ\" + -0.186*\"БРАК\" + -0.177*\"ХАДЖ\" + -0.157*\"ЖЕНЩИНА\" + -0.149*\"ГОВОРИТЬ\" + -0.147*\"КНИГА\" + 0.143*\"ЧЕЛОВЕК\"\n"
     ]
    },
    {
     "name": "stderr",
     "output_type": "stream",
     "text": [
      "2016-10-11 23:49:23,063 : INFO : topic #3(680.267): 0.511*\"АЛЛАХ\" + -0.335*\"ИМАМ\" + 0.273*\"ПОСЛАННИК\" + -0.210*\"КНИГА\" + 0.199*\"СКАЗАТЬ\" + 0.191*\"АЯТ\" + -0.168*\"ШИИТ\" + -0.149*\"СТАТЬЯ\" + -0.135*\"КОТОРЫЙ\" + -0.132*\"ПРОЧЕСТЬ\"\n"
     ]
    },
    {
     "name": "stderr",
     "output_type": "stream",
     "text": [
      "2016-10-11 23:49:23,065 : INFO : topic #4(605.677): 0.438*\"ПРОРОК\" + -0.428*\"ИМАМ\" + 0.299*\"ДБАР\" + -0.204*\"ХУСЕЙН\" + 0.198*\"КОРАН\" + -0.166*\"СКАЗАТЬ\" + 0.156*\"АЯТ\" + -0.121*\"ШИИТ\" + 0.120*\"МУСУЛЬМАНИН\" + 0.114*\"МИССИЯ\"\n"
     ]
    },
    {
     "name": "stderr",
     "output_type": "stream",
     "text": [
      "2016-10-11 23:49:23,065 : INFO : preparing a new chunk of documents\n"
     ]
    },
    {
     "name": "stderr",
     "output_type": "stream",
     "text": [
      "2016-10-11 23:49:23,066 : INFO : using 100 extra samples and 2 power iterations\n"
     ]
    },
    {
     "name": "stderr",
     "output_type": "stream",
     "text": [
      "2016-10-11 23:49:23,066 : INFO : 1st phase: constructing (26996L, 200L) action matrix\n"
     ]
    },
    {
     "name": "stderr",
     "output_type": "stream",
     "text": [
      "2016-10-11 23:49:23,066 : INFO : orthonormalizing (26996L, 200L) action matrix\n"
     ]
    },
    {
     "name": "stderr",
     "output_type": "stream",
     "text": [
      "2016-10-11 23:49:23,487 : INFO : 2nd phase: running dense svd on (200L, 20L) matrix\n"
     ]
    },
    {
     "name": "stderr",
     "output_type": "stream",
     "text": [
      "2016-10-11 23:49:23,507 : INFO : computing the final decomposition\n"
     ]
    },
    {
     "name": "stderr",
     "output_type": "stream",
     "text": [
      "2016-10-11 23:49:23,509 : INFO : keeping 1 factors (discarding 0.000% of energy spectrum)\n"
     ]
    },
    {
     "name": "stderr",
     "output_type": "stream",
     "text": [
      "2016-10-11 23:49:23,513 : INFO : merging projections: (26996L, 71L) + (26996L, 1L)\n"
     ]
    },
    {
     "name": "stderr",
     "output_type": "stream",
     "text": [
      "2016-10-11 23:49:23,538 : INFO : keeping 71 factors (discarding 0.000% of energy spectrum)\n"
     ]
    },
    {
     "name": "stderr",
     "output_type": "stream",
     "text": [
      "2016-10-11 23:49:23,561 : INFO : processed documents up to #1840\n"
     ]
    },
    {
     "name": "stderr",
     "output_type": "stream",
     "text": [
      "2016-10-11 23:49:23,562 : INFO : topic #0(2281.761): 0.465*\"АЛЛАХ\" + 0.254*\"СКАЗАТЬ\" + 0.235*\"СВОЙ\" + 0.229*\"КОТОРЫЙ\" + 0.206*\"ИМАМ\" + 0.204*\"ЗНАЧЕНИЕ\" + 0.180*\"ХАДИС\" + 0.172*\"ЧЕЛОВЕК\" + 0.171*\"СЛОВО\" + 0.159*\"ПРОРОК\"\n"
     ]
    },
    {
     "name": "stderr",
     "output_type": "stream",
     "text": [
      "2016-10-11 23:49:23,562 : INFO : topic #1(1248.787): -0.485*\"ЗНАЧЕНИЕ\" + -0.246*\"СВЯТОЙ\" + 0.239*\"ХАДИС\" + -0.232*\"ВЕЛИК\" + 0.208*\"ИМАМ\" + -0.192*\"СЛОВО\" + 0.170*\"ПРОРОК\" + 0.130*\"ПОСЛАННИК\" + -0.120*\"СВОЙ\" + -0.114*\"ТВОРЕНИЕ\"\n"
     ]
    },
    {
     "name": "stderr",
     "output_type": "stream",
     "text": [
      "2016-10-11 23:49:23,563 : INFO : topic #2(743.795): -0.455*\"ХАДИС\" + 0.260*\"ИМАМ\" + 0.231*\"ПРОРОК\" + 0.206*\"АЛЛАХ\" + -0.186*\"БРАК\" + -0.177*\"ХАДЖ\" + -0.157*\"ЖЕНЩИНА\" + -0.149*\"ГОВОРИТЬ\" + -0.147*\"КНИГА\" + 0.143*\"ЧЕЛОВЕК\"\n"
     ]
    },
    {
     "name": "stderr",
     "output_type": "stream",
     "text": [
      "2016-10-11 23:49:23,565 : INFO : topic #3(680.437): 0.509*\"АЛЛАХ\" + -0.335*\"ИМАМ\" + 0.273*\"ПОСЛАННИК\" + -0.209*\"КНИГА\" + 0.199*\"СКАЗАТЬ\" + 0.190*\"АЯТ\" + -0.168*\"ШИИТ\" + -0.156*\"СТАТЬЯ\" + -0.138*\"ПРОЧЕСТЬ\" + -0.135*\"КОТОРЫЙ\"\n"
     ]
    },
    {
     "name": "stderr",
     "output_type": "stream",
     "text": [
      "2016-10-11 23:49:23,565 : INFO : topic #4(605.727): 0.439*\"ПРОРОК\" + -0.424*\"ИМАМ\" + 0.298*\"ДБАР\" + -0.201*\"ХУСЕЙН\" + 0.196*\"КОРАН\" + -0.166*\"СКАЗАТЬ\" + 0.153*\"АЯТ\" + 0.120*\"МУСУЛЬМАНИН\" + -0.119*\"ШИИТ\" + 0.115*\"МИССИЯ\"\n"
     ]
    },
    {
     "name": "stderr",
     "output_type": "stream",
     "text": [
      "2016-10-11 23:49:23,566 : INFO : preparing a new chunk of documents\n"
     ]
    },
    {
     "name": "stderr",
     "output_type": "stream",
     "text": [
      "2016-10-11 23:49:23,566 : INFO : using 100 extra samples and 2 power iterations\n"
     ]
    },
    {
     "name": "stderr",
     "output_type": "stream",
     "text": [
      "2016-10-11 23:49:23,568 : INFO : 1st phase: constructing (26996L, 200L) action matrix\n"
     ]
    },
    {
     "name": "stderr",
     "output_type": "stream",
     "text": [
      "2016-10-11 23:49:23,568 : INFO : orthonormalizing (26996L, 200L) action matrix\n"
     ]
    },
    {
     "name": "stderr",
     "output_type": "stream",
     "text": [
      "2016-10-11 23:49:24,000 : INFO : 2nd phase: running dense svd on (200L, 20L) matrix\n"
     ]
    },
    {
     "name": "stderr",
     "output_type": "stream",
     "text": [
      "2016-10-11 23:49:24,020 : INFO : computing the final decomposition\n"
     ]
    },
    {
     "name": "stderr",
     "output_type": "stream",
     "text": [
      "2016-10-11 23:49:24,022 : INFO : keeping 1 factors (discarding 0.000% of energy spectrum)\n"
     ]
    },
    {
     "name": "stderr",
     "output_type": "stream",
     "text": [
      "2016-10-11 23:49:24,026 : INFO : merging projections: (26996L, 71L) + (26996L, 1L)\n"
     ]
    },
    {
     "name": "stderr",
     "output_type": "stream",
     "text": [
      "2016-10-11 23:49:24,051 : INFO : keeping 71 factors (discarding 0.000% of energy spectrum)\n"
     ]
    },
    {
     "name": "stderr",
     "output_type": "stream",
     "text": [
      "2016-10-11 23:49:24,075 : INFO : processed documents up to #1860\n"
     ]
    },
    {
     "name": "stderr",
     "output_type": "stream",
     "text": [
      "2016-10-11 23:49:24,076 : INFO : topic #0(2281.764): 0.465*\"АЛЛАХ\" + 0.254*\"СКАЗАТЬ\" + 0.235*\"СВОЙ\" + 0.229*\"КОТОРЫЙ\" + 0.206*\"ИМАМ\" + 0.204*\"ЗНАЧЕНИЕ\" + 0.180*\"ХАДИС\" + 0.172*\"ЧЕЛОВЕК\" + 0.171*\"СЛОВО\" + 0.159*\"ПРОРОК\"\n"
     ]
    },
    {
     "name": "stderr",
     "output_type": "stream",
     "text": [
      "2016-10-11 23:49:24,078 : INFO : topic #1(1248.794): -0.485*\"ЗНАЧЕНИЕ\" + -0.246*\"СВЯТОЙ\" + 0.239*\"ХАДИС\" + -0.232*\"ВЕЛИК\" + 0.208*\"ИМАМ\" + -0.192*\"СЛОВО\" + 0.170*\"ПРОРОК\" + 0.130*\"ПОСЛАННИК\" + -0.120*\"СВОЙ\" + -0.114*\"ТВОРЕНИЕ\"\n"
     ]
    },
    {
     "name": "stderr",
     "output_type": "stream",
     "text": [
      "2016-10-11 23:49:24,079 : INFO : topic #2(743.795): -0.455*\"ХАДИС\" + 0.260*\"ИМАМ\" + 0.231*\"ПРОРОК\" + 0.206*\"АЛЛАХ\" + -0.186*\"БРАК\" + -0.177*\"ХАДЖ\" + -0.157*\"ЖЕНЩИНА\" + -0.149*\"ГОВОРИТЬ\" + -0.147*\"КНИГА\" + 0.143*\"ЧЕЛОВЕК\"\n"
     ]
    },
    {
     "name": "stderr",
     "output_type": "stream",
     "text": [
      "2016-10-11 23:49:24,081 : INFO : topic #3(681.026): 0.505*\"АЛЛАХ\" + -0.333*\"ИМАМ\" + 0.271*\"ПОСЛАННИК\" + -0.207*\"КНИГА\" + 0.198*\"СКАЗАТЬ\" + 0.188*\"АЯТ\" + -0.178*\"СТАТЬЯ\" + -0.167*\"ШИИТ\" + -0.161*\"ПРОЧЕСТЬ\" + -0.132*\"КОТОРЫЙ\"\n"
     ]
    },
    {
     "name": "stderr",
     "output_type": "stream",
     "text": [
      "2016-10-11 23:49:24,082 : INFO : topic #4(607.629): -0.557*\"ПРОЧЕСТЬ\" + -0.553*\"СТАТЬЯ\" + 0.293*\"ПРОРОК\" + -0.193*\"ИМАМ\" + 0.192*\"ДБАР\" + -0.159*\"АЛЛАХ\" + 0.108*\"КОТОРЫЙ\" + -0.104*\"СКАЗАТЬ\" + 0.086*\"КОРАН\" + 0.084*\"МИССИЯ\"\n"
     ]
    },
    {
     "name": "stderr",
     "output_type": "stream",
     "text": [
      "2016-10-11 23:49:24,082 : INFO : preparing a new chunk of documents\n"
     ]
    },
    {
     "name": "stderr",
     "output_type": "stream",
     "text": [
      "2016-10-11 23:49:24,084 : INFO : using 100 extra samples and 2 power iterations\n"
     ]
    },
    {
     "name": "stderr",
     "output_type": "stream",
     "text": [
      "2016-10-11 23:49:24,084 : INFO : 1st phase: constructing (26996L, 200L) action matrix\n"
     ]
    },
    {
     "name": "stderr",
     "output_type": "stream",
     "text": [
      "2016-10-11 23:49:24,085 : INFO : orthonormalizing (26996L, 200L) action matrix\n"
     ]
    },
    {
     "name": "stderr",
     "output_type": "stream",
     "text": [
      "2016-10-11 23:49:24,835 : INFO : 2nd phase: running dense svd on (200L, 20L) matrix\n"
     ]
    },
    {
     "name": "stderr",
     "output_type": "stream",
     "text": [
      "2016-10-11 23:49:24,855 : INFO : computing the final decomposition\n"
     ]
    },
    {
     "name": "stderr",
     "output_type": "stream",
     "text": [
      "2016-10-11 23:49:24,857 : INFO : keeping 3 factors (discarding 0.000% of energy spectrum)\n"
     ]
    },
    {
     "name": "stderr",
     "output_type": "stream",
     "text": [
      "2016-10-11 23:49:24,862 : INFO : merging projections: (26996L, 71L) + (26996L, 3L)\n"
     ]
    },
    {
     "name": "stderr",
     "output_type": "stream",
     "text": [
      "2016-10-11 23:49:24,885 : INFO : keeping 71 factors (discarding 0.000% of energy spectrum)\n"
     ]
    },
    {
     "name": "stderr",
     "output_type": "stream",
     "text": [
      "2016-10-11 23:49:24,907 : INFO : processed documents up to #1880\n"
     ]
    },
    {
     "name": "stderr",
     "output_type": "stream",
     "text": [
      "2016-10-11 23:49:24,907 : INFO : topic #0(2281.765): 0.465*\"АЛЛАХ\" + 0.254*\"СКАЗАТЬ\" + 0.235*\"СВОЙ\" + 0.229*\"КОТОРЫЙ\" + 0.206*\"ИМАМ\" + 0.204*\"ЗНАЧЕНИЕ\" + 0.180*\"ХАДИС\" + 0.172*\"ЧЕЛОВЕК\" + 0.171*\"СЛОВО\" + 0.159*\"ПРОРОК\"\n"
     ]
    },
    {
     "name": "stderr",
     "output_type": "stream",
     "text": [
      "2016-10-11 23:49:24,908 : INFO : topic #1(1248.800): -0.485*\"ЗНАЧЕНИЕ\" + -0.246*\"СВЯТОЙ\" + 0.239*\"ХАДИС\" + -0.232*\"ВЕЛИК\" + 0.208*\"ИМАМ\" + -0.192*\"СЛОВО\" + 0.170*\"ПРОРОК\" + 0.130*\"ПОСЛАННИК\" + -0.120*\"СВОЙ\" + -0.114*\"ТВОРЕНИЕ\"\n"
     ]
    },
    {
     "name": "stderr",
     "output_type": "stream",
     "text": [
      "2016-10-11 23:49:24,910 : INFO : topic #2(743.795): -0.455*\"ХАДИС\" + 0.260*\"ИМАМ\" + 0.231*\"ПРОРОК\" + 0.206*\"АЛЛАХ\" + -0.186*\"БРАК\" + -0.177*\"ХАДЖ\" + -0.157*\"ЖЕНЩИНА\" + -0.149*\"ГОВОРИТЬ\" + -0.147*\"КНИГА\" + 0.143*\"ЧЕЛОВЕК\"\n"
     ]
    },
    {
     "name": "stderr",
     "output_type": "stream",
     "text": [
      "2016-10-11 23:49:24,911 : INFO : topic #3(681.559): 0.501*\"АЛЛАХ\" + -0.331*\"ИМАМ\" + 0.270*\"ПОСЛАННИК\" + -0.205*\"КНИГА\" + -0.199*\"СТАТЬЯ\" + 0.197*\"СКАЗАТЬ\" + 0.187*\"АЯТ\" + -0.182*\"ПРОЧЕСТЬ\" + -0.166*\"ШИИТ\" + -0.130*\"КОТОРЫЙ\"\n"
     ]
    },
    {
     "name": "stderr",
     "output_type": "stream",
     "text": [
      "2016-10-11 23:49:24,911 : INFO : topic #4(615.144): -0.662*\"ПРОЧЕСТЬ\" + -0.662*\"СТАТЬЯ\" + -0.163*\"АЛЛАХ\" + 0.121*\"ПРОРОК\" + 0.090*\"КОТОРЫЙ\" + 0.072*\"ДБАР\" + 0.060*\"КНИГА\" + -0.057*\"ПОСЛАННИК\" + -0.048*\"АЯТ\" + 0.047*\"СВОЙ\"\n"
     ]
    },
    {
     "name": "stderr",
     "output_type": "stream",
     "text": [
      "2016-10-11 23:49:24,913 : INFO : preparing a new chunk of documents\n"
     ]
    },
    {
     "name": "stderr",
     "output_type": "stream",
     "text": [
      "2016-10-11 23:49:24,914 : INFO : using 100 extra samples and 2 power iterations\n"
     ]
    },
    {
     "name": "stderr",
     "output_type": "stream",
     "text": [
      "2016-10-11 23:49:24,914 : INFO : 1st phase: constructing (26996L, 200L) action matrix\n"
     ]
    },
    {
     "name": "stderr",
     "output_type": "stream",
     "text": [
      "2016-10-11 23:49:24,914 : INFO : orthonormalizing (26996L, 200L) action matrix\n"
     ]
    },
    {
     "name": "stderr",
     "output_type": "stream",
     "text": [
      "2016-10-11 23:49:25,618 : INFO : 2nd phase: running dense svd on (200L, 20L) matrix\n"
     ]
    },
    {
     "name": "stderr",
     "output_type": "stream",
     "text": [
      "2016-10-11 23:49:25,638 : INFO : computing the final decomposition\n"
     ]
    },
    {
     "name": "stderr",
     "output_type": "stream",
     "text": [
      "2016-10-11 23:49:25,638 : INFO : keeping 5 factors (discarding 0.000% of energy spectrum)\n"
     ]
    },
    {
     "name": "stderr",
     "output_type": "stream",
     "text": [
      "2016-10-11 23:49:25,645 : INFO : merging projections: (26996L, 71L) + (26996L, 5L)\n"
     ]
    },
    {
     "name": "stderr",
     "output_type": "stream",
     "text": [
      "2016-10-11 23:49:25,674 : INFO : keeping 71 factors (discarding 0.005% of energy spectrum)\n"
     ]
    },
    {
     "name": "stderr",
     "output_type": "stream",
     "text": [
      "2016-10-11 23:49:25,697 : INFO : processed documents up to #1900\n"
     ]
    },
    {
     "name": "stderr",
     "output_type": "stream",
     "text": [
      "2016-10-11 23:49:25,698 : INFO : topic #0(2281.766): 0.465*\"АЛЛАХ\" + 0.254*\"СКАЗАТЬ\" + 0.235*\"СВОЙ\" + 0.229*\"КОТОРЫЙ\" + 0.206*\"ИМАМ\" + 0.204*\"ЗНАЧЕНИЕ\" + 0.180*\"ХАДИС\" + 0.172*\"ЧЕЛОВЕК\" + 0.171*\"СЛОВО\" + 0.159*\"ПРОРОК\"\n"
     ]
    },
    {
     "name": "stderr",
     "output_type": "stream",
     "text": [
      "2016-10-11 23:49:25,700 : INFO : topic #1(1248.800): -0.485*\"ЗНАЧЕНИЕ\" + -0.246*\"СВЯТОЙ\" + 0.239*\"ХАДИС\" + -0.232*\"ВЕЛИК\" + 0.208*\"ИМАМ\" + -0.192*\"СЛОВО\" + 0.170*\"ПРОРОК\" + 0.130*\"ПОСЛАННИК\" + -0.120*\"СВОЙ\" + -0.114*\"ТВОРЕНИЕ\"\n"
     ]
    },
    {
     "name": "stderr",
     "output_type": "stream",
     "text": [
      "2016-10-11 23:49:25,701 : INFO : topic #2(743.795): -0.455*\"ХАДИС\" + 0.260*\"ИМАМ\" + 0.231*\"ПРОРОК\" + 0.206*\"АЛЛАХ\" + -0.186*\"БРАК\" + -0.177*\"ХАДЖ\" + -0.157*\"ЖЕНЩИНА\" + -0.149*\"ГОВОРИТЬ\" + -0.147*\"КНИГА\" + 0.143*\"ЧЕЛОВЕК\"\n"
     ]
    },
    {
     "name": "stderr",
     "output_type": "stream",
     "text": [
      "2016-10-11 23:49:25,703 : INFO : topic #3(681.645): 0.500*\"АЛЛАХ\" + -0.330*\"ИМАМ\" + 0.269*\"ПОСЛАННИК\" + -0.205*\"КНИГА\" + -0.202*\"СТАТЬЯ\" + 0.197*\"СКАЗАТЬ\" + 0.186*\"АЯТ\" + -0.185*\"ПРОЧЕСТЬ\" + -0.165*\"ШИИТ\" + -0.130*\"КОТОРЫЙ\"\n"
     ]
    },
    {
     "name": "stderr",
     "output_type": "stream",
     "text": [
      "2016-10-11 23:49:25,703 : INFO : topic #4(616.287): -0.663*\"ПРОЧЕСТЬ\" + -0.663*\"СТАТЬЯ\" + -0.164*\"АЛЛАХ\" + 0.115*\"ПРОРОК\" + 0.089*\"КОТОРЫЙ\" + 0.067*\"ДБАР\" + 0.061*\"КНИГА\" + -0.059*\"ПОСЛАННИК\" + -0.051*\"АЯТ\" + 0.047*\"ХАДИС\"\n"
     ]
    },
    {
     "name": "stderr",
     "output_type": "stream",
     "text": [
      "2016-10-11 23:49:25,730 : INFO : preparing a new chunk of documents\n"
     ]
    },
    {
     "name": "stderr",
     "output_type": "stream",
     "text": [
      "2016-10-11 23:49:25,732 : INFO : using 100 extra samples and 2 power iterations\n"
     ]
    },
    {
     "name": "stderr",
     "output_type": "stream",
     "text": [
      "2016-10-11 23:49:25,732 : INFO : 1st phase: constructing (26996L, 200L) action matrix\n"
     ]
    },
    {
     "name": "stderr",
     "output_type": "stream",
     "text": [
      "2016-10-11 23:49:25,736 : INFO : orthonormalizing (26996L, 200L) action matrix\n"
     ]
    },
    {
     "name": "stderr",
     "output_type": "stream",
     "text": [
      "2016-10-11 23:49:26,497 : INFO : 2nd phase: running dense svd on (200L, 20L) matrix\n"
     ]
    },
    {
     "name": "stderr",
     "output_type": "stream",
     "text": [
      "2016-10-11 23:49:26,519 : INFO : computing the final decomposition\n"
     ]
    },
    {
     "name": "stderr",
     "output_type": "stream",
     "text": [
      "2016-10-11 23:49:26,519 : INFO : keeping 16 factors (discarding 0.000% of energy spectrum)\n"
     ]
    },
    {
     "name": "stderr",
     "output_type": "stream",
     "text": [
      "2016-10-11 23:49:26,529 : INFO : merging projections: (26996L, 71L) + (26996L, 16L)\n"
     ]
    },
    {
     "name": "stderr",
     "output_type": "stream",
     "text": [
      "2016-10-11 23:49:26,562 : INFO : keeping 73 factors (discarding 0.100% of energy spectrum)\n"
     ]
    },
    {
     "name": "stderr",
     "output_type": "stream",
     "text": [
      "2016-10-11 23:49:26,585 : INFO : processed documents up to #1920\n"
     ]
    },
    {
     "name": "stderr",
     "output_type": "stream",
     "text": [
      "2016-10-11 23:49:26,585 : INFO : topic #0(2309.996): 0.467*\"АЛЛАХ\" + 0.252*\"СКАЗАТЬ\" + 0.233*\"СВОЙ\" + 0.230*\"КОТОРЫЙ\" + 0.209*\"ИМАМ\" + 0.197*\"ЗНАЧЕНИЕ\" + 0.182*\"ХАДИС\" + 0.175*\"ЧЕЛОВЕК\" + 0.167*\"СЛОВО\" + 0.158*\"ПРОРОК\"\n"
     ]
    },
    {
     "name": "stderr",
     "output_type": "stream",
     "text": [
      "2016-10-11 23:49:26,586 : INFO : topic #1(1255.042): -0.488*\"ЗНАЧЕНИЕ\" + -0.247*\"СВЯТОЙ\" + 0.236*\"ХАДИС\" + -0.233*\"ВЕЛИК\" + 0.205*\"ИМАМ\" + -0.196*\"СЛОВО\" + 0.164*\"ПРОРОК\" + 0.131*\"ПОСЛАННИК\" + -0.124*\"СВОЙ\" + -0.115*\"ТВОРЕНИЕ\"\n"
     ]
    },
    {
     "name": "stderr",
     "output_type": "stream",
     "text": [
      "2016-10-11 23:49:26,588 : INFO : topic #2(748.687): -0.456*\"ХАДИС\" + 0.252*\"ИМАМ\" + 0.225*\"АЛЛАХ\" + 0.223*\"ПРОРОК\" + -0.182*\"БРАК\" + -0.173*\"ХАДЖ\" + -0.156*\"КНИГА\" + -0.153*\"ЖЕНЩИНА\" + 0.151*\"ЧЕЛОВЕК\" + -0.148*\"ГОВОРИТЬ\"\n"
     ]
    },
    {
     "name": "stderr",
     "output_type": "stream",
     "text": [
      "2016-10-11 23:49:26,588 : INFO : topic #3(684.631): 0.495*\"АЛЛАХ\" + -0.343*\"ИМАМ\" + 0.272*\"ПОСЛАННИК\" + -0.208*\"СТАТЬЯ\" + -0.198*\"КНИГА\" + -0.189*\"ПРОЧЕСТЬ\" + 0.189*\"СКАЗАТЬ\" + 0.184*\"АЯТ\" + -0.168*\"ШИИТ\" + -0.129*\"ХУСЕЙН\"\n"
     ]
    },
    {
     "name": "stderr",
     "output_type": "stream",
     "text": [
      "2016-10-11 23:49:26,591 : INFO : topic #4(618.515): -0.661*\"СТАТЬЯ\" + -0.661*\"ПРОЧЕСТЬ\" + -0.167*\"АЛЛАХ\" + 0.117*\"ПРОРОК\" + 0.091*\"КОТОРЫЙ\" + 0.068*\"ДБАР\" + 0.063*\"КНИГА\" + -0.061*\"ПОСЛАННИК\" + -0.055*\"АЯТ\" + 0.047*\"СВОЙ\"\n"
     ]
    },
    {
     "name": "stderr",
     "output_type": "stream",
     "text": [
      "2016-10-11 23:49:26,618 : INFO : preparing a new chunk of documents\n"
     ]
    },
    {
     "name": "stderr",
     "output_type": "stream",
     "text": [
      "2016-10-11 23:49:26,618 : INFO : using 100 extra samples and 2 power iterations\n"
     ]
    },
    {
     "name": "stderr",
     "output_type": "stream",
     "text": [
      "2016-10-11 23:49:26,619 : INFO : 1st phase: constructing (26996L, 200L) action matrix\n"
     ]
    },
    {
     "name": "stderr",
     "output_type": "stream",
     "text": [
      "2016-10-11 23:49:26,622 : INFO : orthonormalizing (26996L, 200L) action matrix\n"
     ]
    },
    {
     "name": "stderr",
     "output_type": "stream",
     "text": [
      "2016-10-11 23:49:27,266 : INFO : 2nd phase: running dense svd on (200L, 20L) matrix\n"
     ]
    },
    {
     "name": "stderr",
     "output_type": "stream",
     "text": [
      "2016-10-11 23:49:27,286 : INFO : computing the final decomposition\n"
     ]
    },
    {
     "name": "stderr",
     "output_type": "stream",
     "text": [
      "2016-10-11 23:49:27,288 : INFO : keeping 18 factors (discarding 0.000% of energy spectrum)\n"
     ]
    },
    {
     "name": "stderr",
     "output_type": "stream",
     "text": [
      "2016-10-11 23:49:27,299 : INFO : merging projections: (26996L, 73L) + (26996L, 18L)\n"
     ]
    },
    {
     "name": "stderr",
     "output_type": "stream",
     "text": [
      "2016-10-11 23:49:27,332 : INFO : keeping 78 factors (discarding 0.089% of energy spectrum)\n"
     ]
    },
    {
     "name": "stderr",
     "output_type": "stream",
     "text": [
      "2016-10-11 23:49:27,359 : INFO : processed documents up to #1940\n"
     ]
    },
    {
     "name": "stderr",
     "output_type": "stream",
     "text": [
      "2016-10-11 23:49:27,361 : INFO : topic #0(2322.501): 0.468*\"АЛЛАХ\" + 0.252*\"СКАЗАТЬ\" + 0.233*\"СВОЙ\" + 0.229*\"КОТОРЫЙ\" + 0.210*\"ИМАМ\" + 0.195*\"ЗНАЧЕНИЕ\" + 0.182*\"ХАДИС\" + 0.175*\"ЧЕЛОВЕК\" + 0.166*\"СЛОВО\" + 0.161*\"ПРОРОК\"\n"
     ]
    },
    {
     "name": "stderr",
     "output_type": "stream",
     "text": [
      "2016-10-11 23:49:27,361 : INFO : topic #1(1257.608): -0.489*\"ЗНАЧЕНИЕ\" + -0.247*\"СВЯТОЙ\" + -0.234*\"ВЕЛИК\" + 0.233*\"ХАДИС\" + 0.205*\"ИМАМ\" + -0.197*\"СЛОВО\" + 0.167*\"ПРОРОК\" + 0.130*\"ПОСЛАННИК\" + -0.125*\"СВОЙ\" + -0.116*\"ТВОРЕНИЕ\"\n"
     ]
    },
    {
     "name": "stderr",
     "output_type": "stream",
     "text": [
      "2016-10-11 23:49:27,362 : INFO : topic #2(751.236): -0.458*\"ХАДИС\" + 0.243*\"ИМАМ\" + 0.233*\"ПРОРОК\" + 0.225*\"АЛЛАХ\" + -0.182*\"БРАК\" + -0.174*\"ХАДЖ\" + -0.158*\"КНИГА\" + -0.153*\"ЖЕНЩИНА\" + -0.149*\"ГОВОРИТЬ\" + 0.149*\"ЧЕЛОВЕК\"\n"
     ]
    },
    {
     "name": "stderr",
     "output_type": "stream",
     "text": [
      "2016-10-11 23:49:27,364 : INFO : topic #3(685.787): 0.495*\"АЛЛАХ\" + -0.344*\"ИМАМ\" + 0.273*\"ПОСЛАННИК\" + -0.209*\"СТАТЬЯ\" + -0.196*\"КНИГА\" + -0.190*\"ПРОЧЕСТЬ\" + 0.187*\"СКАЗАТЬ\" + 0.185*\"АЯТ\" + -0.168*\"ШИИТ\" + -0.129*\"ХУСЕЙН\"\n"
     ]
    },
    {
     "name": "stderr",
     "output_type": "stream",
     "text": [
      "2016-10-11 23:49:27,365 : INFO : topic #4(619.814): -0.663*\"СТАТЬЯ\" + -0.662*\"ПРОЧЕСТЬ\" + -0.167*\"АЛЛАХ\" + 0.108*\"ПРОРОК\" + 0.090*\"КОТОРЫЙ\" + -0.063*\"ПОСЛАННИК\" + 0.062*\"КНИГА\" + 0.061*\"ДБАР\" + -0.061*\"АЯТ\" + 0.050*\"ХУСЕЙН\"\n"
     ]
    },
    {
     "name": "stderr",
     "output_type": "stream",
     "text": [
      "2016-10-11 23:49:27,400 : INFO : preparing a new chunk of documents\n"
     ]
    },
    {
     "name": "stderr",
     "output_type": "stream",
     "text": [
      "2016-10-11 23:49:27,401 : INFO : using 100 extra samples and 2 power iterations\n"
     ]
    },
    {
     "name": "stderr",
     "output_type": "stream",
     "text": [
      "2016-10-11 23:49:27,401 : INFO : 1st phase: constructing (26996L, 200L) action matrix\n"
     ]
    },
    {
     "name": "stderr",
     "output_type": "stream",
     "text": [
      "2016-10-11 23:49:27,407 : INFO : orthonormalizing (26996L, 200L) action matrix\n"
     ]
    },
    {
     "name": "stderr",
     "output_type": "stream",
     "text": [
      "2016-10-11 23:49:28,341 : INFO : 2nd phase: running dense svd on (200L, 20L) matrix\n"
     ]
    },
    {
     "name": "stderr",
     "output_type": "stream",
     "text": [
      "2016-10-11 23:49:28,361 : INFO : computing the final decomposition\n"
     ]
    },
    {
     "name": "stderr",
     "output_type": "stream",
     "text": [
      "2016-10-11 23:49:28,361 : INFO : keeping 18 factors (discarding 0.000% of energy spectrum)\n"
     ]
    },
    {
     "name": "stderr",
     "output_type": "stream",
     "text": [
      "2016-10-11 23:49:28,371 : INFO : merging projections: (26996L, 78L) + (26996L, 18L)\n"
     ]
    },
    {
     "name": "stderr",
     "output_type": "stream",
     "text": [
      "2016-10-11 23:49:28,405 : INFO : keeping 83 factors (discarding 0.083% of energy spectrum)\n"
     ]
    },
    {
     "name": "stderr",
     "output_type": "stream",
     "text": [
      "2016-10-11 23:49:28,434 : INFO : processed documents up to #1960\n"
     ]
    },
    {
     "name": "stderr",
     "output_type": "stream",
     "text": [
      "2016-10-11 23:49:28,434 : INFO : topic #0(2340.318): 0.468*\"АЛЛАХ\" + 0.251*\"СКАЗАТЬ\" + 0.232*\"СВОЙ\" + 0.230*\"КОТОРЫЙ\" + 0.211*\"ИМАМ\" + 0.192*\"ЗНАЧЕНИЕ\" + 0.183*\"ХАДИС\" + 0.176*\"ЧЕЛОВЕК\" + 0.164*\"СЛОВО\" + 0.162*\"ПРОРОК\"\n"
     ]
    },
    {
     "name": "stderr",
     "output_type": "stream",
     "text": [
      "2016-10-11 23:49:28,436 : INFO : topic #1(1261.343): -0.489*\"ЗНАЧЕНИЕ\" + -0.247*\"СВЯТОЙ\" + 0.235*\"ХАДИС\" + -0.234*\"ВЕЛИК\" + 0.206*\"ИМАМ\" + -0.198*\"СЛОВО\" + 0.165*\"ПРОРОК\" + 0.127*\"ПОСЛАННИК\" + -0.126*\"СВОЙ\" + -0.116*\"ТВОРЕНИЕ\"\n"
     ]
    },
    {
     "name": "stderr",
     "output_type": "stream",
     "text": [
      "2016-10-11 23:49:28,437 : INFO : topic #2(755.606): -0.471*\"ХАДИС\" + 0.238*\"ИМАМ\" + 0.231*\"ПРОРОК\" + 0.230*\"АЛЛАХ\" + -0.177*\"БРАК\" + -0.169*\"ХАДЖ\" + -0.165*\"КНИГА\" + 0.150*\"ЧЕЛОВЕК\" + -0.149*\"ЖЕНЩИНА\" + -0.147*\"ГОВОРИТЬ\"\n"
     ]
    },
    {
     "name": "stderr",
     "output_type": "stream",
     "text": [
      "2016-10-11 23:49:28,437 : INFO : topic #3(694.781): -0.498*\"АЛЛАХ\" + 0.359*\"ИМАМ\" + -0.267*\"ПОСЛАННИК\" + -0.204*\"АЯТ\" + 0.199*\"КНИГА\" + 0.189*\"СТАТЬЯ\" + -0.177*\"СКАЗАТЬ\" + 0.170*\"ПРОЧЕСТЬ\" + 0.166*\"ШИИТ\" + 0.133*\"ХУСЕЙН\"\n"
     ]
    },
    {
     "name": "stderr",
     "output_type": "stream",
     "text": [
      "2016-10-11 23:49:28,440 : INFO : topic #4(622.343): -0.672*\"СТАТЬЯ\" + -0.670*\"ПРОЧЕСТЬ\" + -0.147*\"АЛЛАХ\" + 0.079*\"КОТОРЫЙ\" + 0.075*\"ПРОРОК\" + -0.074*\"АЯТ\" + 0.060*\"ХУСЕЙН\" + 0.058*\"ИМАМ\" + 0.057*\"КНИГА\" + -0.051*\"ПОСЛАННИК\"\n"
     ]
    },
    {
     "name": "stderr",
     "output_type": "stream",
     "text": [
      "2016-10-11 23:49:28,477 : INFO : preparing a new chunk of documents\n"
     ]
    },
    {
     "name": "stderr",
     "output_type": "stream",
     "text": [
      "2016-10-11 23:49:28,480 : INFO : using 100 extra samples and 2 power iterations\n"
     ]
    },
    {
     "name": "stderr",
     "output_type": "stream",
     "text": [
      "2016-10-11 23:49:28,480 : INFO : 1st phase: constructing (26996L, 200L) action matrix\n"
     ]
    },
    {
     "name": "stderr",
     "output_type": "stream",
     "text": [
      "2016-10-11 23:49:28,484 : INFO : orthonormalizing (26996L, 200L) action matrix\n"
     ]
    },
    {
     "name": "stderr",
     "output_type": "stream",
     "text": [
      "2016-10-11 23:49:29,157 : INFO : 2nd phase: running dense svd on (200L, 20L) matrix\n"
     ]
    },
    {
     "name": "stderr",
     "output_type": "stream",
     "text": [
      "2016-10-11 23:49:29,184 : INFO : computing the final decomposition\n"
     ]
    },
    {
     "name": "stderr",
     "output_type": "stream",
     "text": [
      "2016-10-11 23:49:29,184 : INFO : keeping 20 factors (discarding 0.000% of energy spectrum)\n"
     ]
    },
    {
     "name": "stderr",
     "output_type": "stream",
     "text": [
      "2016-10-11 23:49:29,206 : INFO : merging projections: (26996L, 83L) + (26996L, 20L)\n"
     ]
    },
    {
     "name": "stderr",
     "output_type": "stream",
     "text": [
      "2016-10-11 23:49:29,285 : INFO : keeping 91 factors (discarding 0.089% of energy spectrum)\n"
     ]
    },
    {
     "name": "stderr",
     "output_type": "stream",
     "text": [
      "2016-10-11 23:49:29,331 : INFO : processed documents up to #1980\n"
     ]
    },
    {
     "name": "stderr",
     "output_type": "stream",
     "text": [
      "2016-10-11 23:49:29,332 : INFO : topic #0(2361.042): 0.467*\"АЛЛАХ\" + 0.250*\"СКАЗАТЬ\" + 0.232*\"СВОЙ\" + 0.231*\"КОТОРЫЙ\" + 0.212*\"ИМАМ\" + 0.188*\"ЗНАЧЕНИЕ\" + 0.183*\"ХАДИС\" + 0.177*\"ЧЕЛОВЕК\" + 0.170*\"ПРОРОК\" + 0.163*\"СЛОВО\"\n"
     ]
    },
    {
     "name": "stderr",
     "output_type": "stream",
     "text": [
      "2016-10-11 23:49:29,334 : INFO : topic #1(1266.018): -0.491*\"ЗНАЧЕНИЕ\" + -0.248*\"СВЯТОЙ\" + -0.235*\"ВЕЛИК\" + 0.231*\"ХАДИС\" + 0.203*\"ИМАМ\" + -0.199*\"СЛОВО\" + 0.174*\"ПРОРОК\" + -0.125*\"СВОЙ\" + 0.124*\"ПОСЛАННИК\" + -0.117*\"ТВОРЕНИЕ\"\n"
     ]
    },
    {
     "name": "stderr",
     "output_type": "stream",
     "text": [
      "2016-10-11 23:49:29,335 : INFO : topic #2(762.718): -0.473*\"ХАДИС\" + 0.265*\"ПРОРОК\" + 0.215*\"ИМАМ\" + 0.211*\"АЛЛАХ\" + -0.177*\"БРАК\" + -0.170*\"ХАДЖ\" + -0.164*\"КНИГА\" + -0.149*\"ЖЕНЩИНА\" + -0.149*\"ГОВОРИТЬ\" + 0.147*\"ЧЕЛОВЕК\"\n"
     ]
    },
    {
     "name": "stderr",
     "output_type": "stream",
     "text": [
      "2016-10-11 23:49:29,336 : INFO : topic #3(701.450): 0.517*\"АЛЛАХ\" + -0.325*\"ИМАМ\" + 0.270*\"ПОСЛАННИК\" + 0.200*\"АЯТ\" + -0.195*\"КНИГА\" + 0.184*\"СКАЗАТЬ\" + -0.171*\"СТАТЬЯ\" + -0.161*\"ШИИТ\" + -0.153*\"ПРОЧЕСТЬ\" + -0.141*\"ПРОРОК\"\n"
     ]
    },
    {
     "name": "stderr",
     "output_type": "stream",
     "text": [
      "2016-10-11 23:49:29,338 : INFO : topic #4(625.950): -0.496*\"ПРОЧЕСТЬ\" + -0.493*\"СТАТЬЯ\" + 0.344*\"ПРОРОК\" + -0.277*\"ИМАМ\" + 0.219*\"ДБАР\" + -0.157*\"АЛЛАХ\" + -0.109*\"СКАЗАТЬ\" + -0.103*\"ХУСЕЙН\" + 0.100*\"КОТОРЫЙ\" + 0.099*\"МИССИЯ\"\n"
     ]
    },
    {
     "name": "stderr",
     "output_type": "stream",
     "text": [
      "2016-10-11 23:49:29,367 : INFO : preparing a new chunk of documents\n"
     ]
    },
    {
     "name": "stderr",
     "output_type": "stream",
     "text": [
      "2016-10-11 23:49:29,368 : INFO : using 100 extra samples and 2 power iterations\n"
     ]
    },
    {
     "name": "stderr",
     "output_type": "stream",
     "text": [
      "2016-10-11 23:49:29,368 : INFO : 1st phase: constructing (26996L, 200L) action matrix\n"
     ]
    },
    {
     "name": "stderr",
     "output_type": "stream",
     "text": [
      "2016-10-11 23:49:29,374 : INFO : orthonormalizing (26996L, 200L) action matrix\n"
     ]
    },
    {
     "name": "stderr",
     "output_type": "stream",
     "text": [
      "2016-10-11 23:49:30,226 : INFO : 2nd phase: running dense svd on (200L, 20L) matrix\n"
     ]
    },
    {
     "name": "stderr",
     "output_type": "stream",
     "text": [
      "2016-10-11 23:49:30,249 : INFO : computing the final decomposition\n"
     ]
    },
    {
     "name": "stderr",
     "output_type": "stream",
     "text": [
      "2016-10-11 23:49:30,250 : INFO : keeping 19 factors (discarding 0.000% of energy spectrum)\n"
     ]
    },
    {
     "name": "stderr",
     "output_type": "stream",
     "text": [
      "2016-10-11 23:49:30,259 : INFO : merging projections: (26996L, 91L) + (26996L, 19L)\n"
     ]
    },
    {
     "name": "stderr",
     "output_type": "stream",
     "text": [
      "2016-10-11 23:49:30,301 : INFO : keeping 95 factors (discarding 0.087% of energy spectrum)\n"
     ]
    },
    {
     "name": "stderr",
     "output_type": "stream",
     "text": [
      "2016-10-11 23:49:30,332 : INFO : processed documents up to #2000\n"
     ]
    },
    {
     "name": "stderr",
     "output_type": "stream",
     "text": [
      "2016-10-11 23:49:30,334 : INFO : topic #0(2376.954): 0.468*\"АЛЛАХ\" + 0.250*\"СКАЗАТЬ\" + 0.232*\"СВОЙ\" + 0.231*\"КОТОРЫЙ\" + 0.214*\"ИМАМ\" + 0.185*\"ЗНАЧЕНИЕ\" + 0.182*\"ХАДИС\" + 0.178*\"ЧЕЛОВЕК\" + 0.173*\"ПРОРОК\" + 0.161*\"СЛОВО\"\n"
     ]
    },
    {
     "name": "stderr",
     "output_type": "stream",
     "text": [
      "2016-10-11 23:49:30,335 : INFO : topic #1(1269.375): -0.492*\"ЗНАЧЕНИЕ\" + -0.249*\"СВЯТОЙ\" + -0.235*\"ВЕЛИК\" + 0.226*\"ХАДИС\" + 0.203*\"ИМАМ\" + -0.201*\"СЛОВО\" + 0.175*\"ПРОРОК\" + -0.127*\"СВОЙ\" + 0.124*\"ПОСЛАННИК\" + -0.117*\"ТВОРЕНИЕ\"\n"
     ]
    },
    {
     "name": "stderr",
     "output_type": "stream",
     "text": [
      "2016-10-11 23:49:30,335 : INFO : topic #2(766.584): -0.477*\"ХАДИС\" + 0.265*\"ПРОРОК\" + 0.214*\"АЛЛАХ\" + 0.210*\"ИМАМ\" + -0.177*\"БРАК\" + -0.169*\"ХАДЖ\" + -0.168*\"КНИГА\" + -0.151*\"ГОВОРИТЬ\" + -0.148*\"ЖЕНЩИНА\" + 0.144*\"ЧЕЛОВЕК\"\n"
     ]
    },
    {
     "name": "stderr",
     "output_type": "stream",
     "text": [
      "2016-10-11 23:49:30,336 : INFO : topic #3(702.259): 0.513*\"АЛЛАХ\" + -0.329*\"ИМАМ\" + 0.270*\"ПОСЛАННИК\" + 0.205*\"АЯТ\" + -0.194*\"КНИГА\" + 0.182*\"СКАЗАТЬ\" + -0.173*\"СТАТЬЯ\" + -0.162*\"ШИИТ\" + -0.154*\"ПРОЧЕСТЬ\" + -0.142*\"ПРОРОК\"\n"
     ]
    },
    {
     "name": "stderr",
     "output_type": "stream",
     "text": [
      "2016-10-11 23:49:30,338 : INFO : topic #4(629.189): 0.414*\"ПРОРОК\" + -0.385*\"ИМАМ\" + -0.307*\"ПРОЧЕСТЬ\" + -0.302*\"СТАТЬЯ\" + 0.269*\"ДБАР\" + -0.164*\"ХУСЕЙН\" + 0.150*\"КОРАН\" + -0.148*\"СКАЗАТЬ\" + -0.144*\"АЛЛАХ\" + 0.126*\"АЯТ\"\n"
     ]
    },
    {
     "name": "stderr",
     "output_type": "stream",
     "text": [
      "2016-10-11 23:49:30,364 : INFO : preparing a new chunk of documents\n"
     ]
    },
    {
     "name": "stderr",
     "output_type": "stream",
     "text": [
      "2016-10-11 23:49:30,365 : INFO : using 100 extra samples and 2 power iterations\n"
     ]
    },
    {
     "name": "stderr",
     "output_type": "stream",
     "text": [
      "2016-10-11 23:49:30,365 : INFO : 1st phase: constructing (26996L, 200L) action matrix\n"
     ]
    },
    {
     "name": "stderr",
     "output_type": "stream",
     "text": [
      "2016-10-11 23:49:30,369 : INFO : orthonormalizing (26996L, 200L) action matrix\n"
     ]
    },
    {
     "name": "stderr",
     "output_type": "stream",
     "text": [
      "2016-10-11 23:49:31,085 : INFO : 2nd phase: running dense svd on (200L, 20L) matrix\n"
     ]
    },
    {
     "name": "stderr",
     "output_type": "stream",
     "text": [
      "2016-10-11 23:49:31,105 : INFO : computing the final decomposition\n"
     ]
    },
    {
     "name": "stderr",
     "output_type": "stream",
     "text": [
      "2016-10-11 23:49:31,107 : INFO : keeping 19 factors (discarding 0.000% of energy spectrum)\n"
     ]
    },
    {
     "name": "stderr",
     "output_type": "stream",
     "text": [
      "2016-10-11 23:49:31,118 : INFO : merging projections: (26996L, 95L) + (26996L, 19L)\n"
     ]
    },
    {
     "name": "stderr",
     "output_type": "stream",
     "text": [
      "2016-10-11 23:49:31,161 : INFO : keeping 97 factors (discarding 0.093% of energy spectrum)\n"
     ]
    },
    {
     "name": "stderr",
     "output_type": "stream",
     "text": [
      "2016-10-11 23:49:31,197 : INFO : processed documents up to #2020\n"
     ]
    },
    {
     "name": "stderr",
     "output_type": "stream",
     "text": [
      "2016-10-11 23:49:31,197 : INFO : topic #0(2386.279): 0.467*\"АЛЛАХ\" + 0.249*\"СКАЗАТЬ\" + 0.232*\"СВОЙ\" + 0.231*\"КОТОРЫЙ\" + 0.221*\"ИМАМ\" + 0.183*\"ЗНАЧЕНИЕ\" + 0.182*\"ХАДИС\" + 0.178*\"ЧЕЛОВЕК\" + 0.173*\"ПРОРОК\" + 0.160*\"СЛОВО\"\n"
     ]
    },
    {
     "name": "stderr",
     "output_type": "stream",
     "text": [
      "2016-10-11 23:49:31,198 : INFO : topic #1(1271.567): -0.492*\"ЗНАЧЕНИЕ\" + -0.249*\"СВЯТОЙ\" + -0.235*\"ВЕЛИК\" + 0.223*\"ХАДИС\" + 0.211*\"ИМАМ\" + -0.202*\"СЛОВО\" + 0.174*\"ПРОРОК\" + -0.126*\"СВОЙ\" + 0.122*\"ПОСЛАННИК\" + -0.117*\"ТВОРЕНИЕ\"\n"
     ]
    },
    {
     "name": "stderr",
     "output_type": "stream",
     "text": [
      "2016-10-11 23:49:31,200 : INFO : topic #2(771.845): -0.472*\"ХАДИС\" + 0.265*\"ИМАМ\" + 0.249*\"ПРОРОК\" + -0.179*\"БРАК\" + 0.177*\"АЛЛАХ\" + -0.170*\"ХАДЖ\" + -0.158*\"КНИГА\" + -0.155*\"ГОВОРИТЬ\" + -0.150*\"ЖЕНЩИНА\" + 0.149*\"ЧЕЛОВЕК\"\n"
     ]
    },
    {
     "name": "stderr",
     "output_type": "stream",
     "text": [
      "2016-10-11 23:49:31,200 : INFO : topic #3(707.989): 0.523*\"АЛЛАХ\" + -0.357*\"ИМАМ\" + 0.269*\"ПОСЛАННИК\" + 0.210*\"АЯТ\" + -0.198*\"КНИГА\" + 0.175*\"СКАЗАТЬ\" + -0.167*\"ШИИТ\" + -0.167*\"СТАТЬЯ\" + -0.149*\"ПРОЧЕСТЬ\" + -0.137*\"ХУСЕЙН\"\n"
     ]
    },
    {
     "name": "stderr",
     "output_type": "stream",
     "text": [
      "2016-10-11 23:49:31,201 : INFO : topic #4(635.943): 0.463*\"ПРОРОК\" + -0.433*\"ИМАМ\" + 0.291*\"ДБАР\" + -0.210*\"ХУСЕЙН\" + 0.179*\"КОРАН\" + -0.165*\"СКАЗАТЬ\" + 0.144*\"АЯТ\" + -0.134*\"АЛЛАХ\" + 0.119*\"МИССИЯ\" + 0.115*\"МУСУЛЬМАНИН\"\n"
     ]
    },
    {
     "name": "stderr",
     "output_type": "stream",
     "text": [
      "2016-10-11 23:49:31,230 : INFO : preparing a new chunk of documents\n"
     ]
    },
    {
     "name": "stderr",
     "output_type": "stream",
     "text": [
      "2016-10-11 23:49:31,232 : INFO : using 100 extra samples and 2 power iterations\n"
     ]
    },
    {
     "name": "stderr",
     "output_type": "stream",
     "text": [
      "2016-10-11 23:49:31,233 : INFO : 1st phase: constructing (26996L, 200L) action matrix\n"
     ]
    },
    {
     "name": "stderr",
     "output_type": "stream",
     "text": [
      "2016-10-11 23:49:31,237 : INFO : orthonormalizing (26996L, 200L) action matrix\n"
     ]
    },
    {
     "name": "stderr",
     "output_type": "stream",
     "text": [
      "2016-10-11 23:49:31,927 : INFO : 2nd phase: running dense svd on (200L, 20L) matrix\n"
     ]
    },
    {
     "name": "stderr",
     "output_type": "stream",
     "text": [
      "2016-10-11 23:49:31,947 : INFO : computing the final decomposition\n"
     ]
    },
    {
     "name": "stderr",
     "output_type": "stream",
     "text": [
      "2016-10-11 23:49:31,947 : INFO : keeping 18 factors (discarding 0.000% of energy spectrum)\n"
     ]
    },
    {
     "name": "stderr",
     "output_type": "stream",
     "text": [
      "2016-10-11 23:49:31,957 : INFO : merging projections: (26996L, 97L) + (26996L, 18L)\n"
     ]
    },
    {
     "name": "stderr",
     "output_type": "stream",
     "text": [
      "2016-10-11 23:49:31,999 : INFO : keeping 100 factors (discarding 0.115% of energy spectrum)\n"
     ]
    },
    {
     "name": "stderr",
     "output_type": "stream",
     "text": [
      "2016-10-11 23:49:32,030 : INFO : processed documents up to #2040\n"
     ]
    },
    {
     "name": "stderr",
     "output_type": "stream",
     "text": [
      "2016-10-11 23:49:32,032 : INFO : topic #0(2397.742): 0.466*\"АЛЛАХ\" + 0.250*\"СКАЗАТЬ\" + 0.232*\"СВОЙ\" + 0.230*\"КОТОРЫЙ\" + 0.223*\"ИМАМ\" + 0.183*\"ХАДИС\" + 0.181*\"ЗНАЧЕНИЕ\" + 0.178*\"ЧЕЛОВЕК\" + 0.174*\"ПРОРОК\" + 0.159*\"СЛОВО\"\n"
     ]
    },
    {
     "name": "stderr",
     "output_type": "stream",
     "text": [
      "2016-10-11 23:49:32,032 : INFO : topic #1(1276.210): -0.492*\"ЗНАЧЕНИЕ\" + -0.249*\"СВЯТОЙ\" + -0.235*\"ВЕЛИК\" + 0.222*\"ХАДИС\" + 0.213*\"ИМАМ\" + -0.204*\"СЛОВО\" + 0.173*\"ПРОРОК\" + -0.127*\"СВОЙ\" + 0.121*\"ПОСЛАННИК\" + -0.117*\"ТВОРЕНИЕ\"\n"
     ]
    },
    {
     "name": "stderr",
     "output_type": "stream",
     "text": [
      "2016-10-11 23:49:32,033 : INFO : topic #2(772.924): -0.471*\"ХАДИС\" + 0.279*\"ИМАМ\" + 0.247*\"ПРОРОК\" + -0.180*\"БРАК\" + -0.170*\"ХАДЖ\" + 0.162*\"АЛЛАХ\" + -0.156*\"КНИГА\" + -0.156*\"ГОВОРИТЬ\" + -0.151*\"ЖЕНЩИНА\" + 0.150*\"ЧЕЛОВЕК\"\n"
     ]
    },
    {
     "name": "stderr",
     "output_type": "stream",
     "text": [
      "2016-10-11 23:49:32,035 : INFO : topic #3(714.032): 0.525*\"АЛЛАХ\" + -0.375*\"ИМАМ\" + 0.269*\"ПОСЛАННИК\" + 0.212*\"АЯТ\" + -0.195*\"КНИГА\" + 0.169*\"СКАЗАТЬ\" + -0.167*\"ШИИТ\" + -0.162*\"СТАТЬЯ\" + -0.143*\"ПРОЧЕСТЬ\" + -0.140*\"ЗНАЧЕНИЕ\"\n"
     ]
    },
    {
     "name": "stderr",
     "output_type": "stream",
     "text": [
      "2016-10-11 23:49:32,036 : INFO : topic #4(639.231): 0.467*\"ПРОРОК\" + -0.428*\"ИМАМ\" + 0.292*\"ДБАР\" + -0.203*\"ХУСЕЙН\" + 0.177*\"КОРАН\" + -0.176*\"СКАЗАТЬ\" + -0.143*\"АЛЛАХ\" + 0.131*\"АЯТ\" + 0.119*\"МИССИЯ\" + 0.114*\"МУСУЛЬМАНИН\"\n"
     ]
    },
    {
     "name": "stderr",
     "output_type": "stream",
     "text": [
      "2016-10-11 23:49:32,066 : INFO : preparing a new chunk of documents\n"
     ]
    },
    {
     "name": "stderr",
     "output_type": "stream",
     "text": [
      "2016-10-11 23:49:32,069 : INFO : using 100 extra samples and 2 power iterations\n"
     ]
    },
    {
     "name": "stderr",
     "output_type": "stream",
     "text": [
      "2016-10-11 23:49:32,069 : INFO : 1st phase: constructing (26996L, 200L) action matrix\n"
     ]
    },
    {
     "name": "stderr",
     "output_type": "stream",
     "text": [
      "2016-10-11 23:49:32,075 : INFO : orthonormalizing (26996L, 200L) action matrix\n"
     ]
    },
    {
     "name": "stderr",
     "output_type": "stream",
     "text": [
      "2016-10-11 23:49:32,756 : INFO : 2nd phase: running dense svd on (200L, 20L) matrix\n"
     ]
    },
    {
     "name": "stderr",
     "output_type": "stream",
     "text": [
      "2016-10-11 23:49:32,776 : INFO : computing the final decomposition\n"
     ]
    },
    {
     "name": "stderr",
     "output_type": "stream",
     "text": [
      "2016-10-11 23:49:32,776 : INFO : keeping 19 factors (discarding 0.000% of energy spectrum)\n"
     ]
    },
    {
     "name": "stderr",
     "output_type": "stream",
     "text": [
      "2016-10-11 23:49:32,786 : INFO : merging projections: (26996L, 100L) + (26996L, 19L)\n"
     ]
    },
    {
     "name": "stderr",
     "output_type": "stream",
     "text": [
      "2016-10-11 23:49:32,826 : INFO : keeping 100 factors (discarding 0.181% of energy spectrum)\n"
     ]
    },
    {
     "name": "stderr",
     "output_type": "stream",
     "text": [
      "2016-10-11 23:49:32,859 : INFO : processed documents up to #2060\n"
     ]
    },
    {
     "name": "stderr",
     "output_type": "stream",
     "text": [
      "2016-10-11 23:49:32,861 : INFO : topic #0(2409.253): 0.468*\"АЛЛАХ\" + 0.250*\"СКАЗАТЬ\" + 0.231*\"СВОЙ\" + 0.229*\"КОТОРЫЙ\" + 0.222*\"ИМАМ\" + 0.184*\"ХАДИС\" + 0.179*\"ЗНАЧЕНИЕ\" + 0.178*\"ЧЕЛОВЕК\" + 0.174*\"ПРОРОК\" + 0.157*\"СЛОВО\"\n"
     ]
    },
    {
     "name": "stderr",
     "output_type": "stream",
     "text": [
      "2016-10-11 23:49:32,861 : INFO : topic #1(1277.708): -0.493*\"ЗНАЧЕНИЕ\" + -0.249*\"СВЯТОЙ\" + -0.236*\"ВЕЛИК\" + 0.221*\"ХАДИС\" + 0.211*\"ИМАМ\" + -0.205*\"СЛОВО\" + 0.172*\"ПРОРОК\" + -0.128*\"СВОЙ\" + 0.121*\"ПОСЛАННИК\" + -0.117*\"ТВОРЕНИЕ\"\n"
     ]
    },
    {
     "name": "stderr",
     "output_type": "stream",
     "text": [
      "2016-10-11 23:49:32,864 : INFO : topic #2(773.561): -0.471*\"ХАДИС\" + 0.282*\"ИМАМ\" + 0.248*\"ПРОРОК\" + -0.180*\"БРАК\" + -0.170*\"ХАДЖ\" + -0.156*\"ГОВОРИТЬ\" + 0.156*\"АЛЛАХ\" + -0.155*\"КНИГА\" + -0.151*\"ЖЕНЩИНА\" + 0.150*\"ЧЕЛОВЕК\"\n"
     ]
    },
    {
     "name": "stderr",
     "output_type": "stream",
     "text": [
      "2016-10-11 23:49:32,865 : INFO : topic #3(719.066): 0.534*\"АЛЛАХ\" + -0.371*\"ИМАМ\" + 0.273*\"ПОСЛАННИК\" + 0.201*\"АЯТ\" + -0.193*\"КНИГА\" + 0.172*\"СКАЗАТЬ\" + -0.168*\"ШИИТ\" + -0.158*\"СТАТЬЯ\" + -0.140*\"ЗНАЧЕНИЕ\" + -0.139*\"ПРОЧЕСТЬ\"\n"
     ]
    },
    {
     "name": "stderr",
     "output_type": "stream",
     "text": [
      "2016-10-11 23:49:32,865 : INFO : topic #4(639.801): 0.465*\"ПРОРОК\" + -0.432*\"ИМАМ\" + 0.292*\"ДБАР\" + -0.204*\"ХУСЕЙН\" + 0.178*\"КОРАН\" + -0.175*\"СКАЗАТЬ\" + -0.140*\"АЛЛАХ\" + 0.135*\"АЯТ\" + 0.119*\"МИССИЯ\" + 0.114*\"МУСУЛЬМАНИН\"\n"
     ]
    },
    {
     "name": "stderr",
     "output_type": "stream",
     "text": [
      "2016-10-11 23:49:32,898 : INFO : preparing a new chunk of documents\n"
     ]
    },
    {
     "name": "stderr",
     "output_type": "stream",
     "text": [
      "2016-10-11 23:49:32,901 : INFO : using 100 extra samples and 2 power iterations\n"
     ]
    },
    {
     "name": "stderr",
     "output_type": "stream",
     "text": [
      "2016-10-11 23:49:32,901 : INFO : 1st phase: constructing (26996L, 200L) action matrix\n"
     ]
    },
    {
     "name": "stderr",
     "output_type": "stream",
     "text": [
      "2016-10-11 23:49:32,907 : INFO : orthonormalizing (26996L, 200L) action matrix\n"
     ]
    },
    {
     "name": "stderr",
     "output_type": "stream",
     "text": [
      "2016-10-11 23:49:33,568 : INFO : 2nd phase: running dense svd on (200L, 20L) matrix\n"
     ]
    },
    {
     "name": "stderr",
     "output_type": "stream",
     "text": [
      "2016-10-11 23:49:33,588 : INFO : computing the final decomposition\n"
     ]
    },
    {
     "name": "stderr",
     "output_type": "stream",
     "text": [
      "2016-10-11 23:49:33,588 : INFO : keeping 19 factors (discarding 0.000% of energy spectrum)\n"
     ]
    },
    {
     "name": "stderr",
     "output_type": "stream",
     "text": [
      "2016-10-11 23:49:33,599 : INFO : merging projections: (26996L, 100L) + (26996L, 19L)\n"
     ]
    },
    {
     "name": "stderr",
     "output_type": "stream",
     "text": [
      "2016-10-11 23:49:33,642 : INFO : keeping 100 factors (discarding 0.202% of energy spectrum)\n"
     ]
    },
    {
     "name": "stderr",
     "output_type": "stream",
     "text": [
      "2016-10-11 23:49:33,677 : INFO : processed documents up to #2080\n"
     ]
    },
    {
     "name": "stderr",
     "output_type": "stream",
     "text": [
      "2016-10-11 23:49:33,678 : INFO : topic #0(2415.131): 0.467*\"АЛЛАХ\" + 0.251*\"СКАЗАТЬ\" + 0.231*\"СВОЙ\" + 0.230*\"КОТОРЫЙ\" + 0.223*\"ИМАМ\" + 0.183*\"ХАДИС\" + 0.180*\"ЧЕЛОВЕК\" + 0.178*\"ЗНАЧЕНИЕ\" + 0.174*\"ПРОРОК\" + 0.157*\"СЛОВО\"\n"
     ]
    },
    {
     "name": "stderr",
     "output_type": "stream",
     "text": [
      "2016-10-11 23:49:33,680 : INFO : topic #1(1278.306): -0.494*\"ЗНАЧЕНИЕ\" + -0.249*\"СВЯТОЙ\" + -0.236*\"ВЕЛИК\" + 0.220*\"ХАДИС\" + 0.212*\"ИМАМ\" + -0.205*\"СЛОВО\" + 0.172*\"ПРОРОК\" + -0.128*\"СВОЙ\" + 0.120*\"ПОСЛАННИК\" + -0.118*\"ТВОРЕНИЕ\"\n"
     ]
    },
    {
     "name": "stderr",
     "output_type": "stream",
     "text": [
      "2016-10-11 23:49:33,680 : INFO : topic #2(774.963): -0.471*\"ХАДИС\" + 0.285*\"ИМАМ\" + 0.246*\"ПРОРОК\" + -0.180*\"БРАК\" + -0.170*\"ХАДЖ\" + -0.157*\"ГОВОРИТЬ\" + -0.154*\"КНИГА\" + 0.153*\"ЧЕЛОВЕК\" + -0.151*\"ЖЕНЩИНА\" + 0.149*\"АЛЛАХ\"\n"
     ]
    },
    {
     "name": "stderr",
     "output_type": "stream",
     "text": [
      "2016-10-11 23:49:33,681 : INFO : topic #3(720.150): 0.536*\"АЛЛАХ\" + -0.365*\"ИМАМ\" + 0.273*\"ПОСЛАННИК\" + 0.199*\"АЯТ\" + -0.193*\"КНИГА\" + 0.173*\"СКАЗАТЬ\" + -0.168*\"ШИИТ\" + -0.161*\"СТАТЬЯ\" + -0.141*\"ПРОЧЕСТЬ\" + -0.140*\"ЗНАЧЕНИЕ\"\n"
     ]
    },
    {
     "name": "stderr",
     "output_type": "stream",
     "text": [
      "2016-10-11 23:49:33,683 : INFO : topic #4(640.578): 0.465*\"ПРОРОК\" + -0.433*\"ИМАМ\" + 0.291*\"ДБАР\" + -0.204*\"ХУСЕЙН\" + 0.179*\"КОРАН\" + -0.176*\"СКАЗАТЬ\" + -0.137*\"АЛЛАХ\" + 0.137*\"АЯТ\" + 0.119*\"МИССИЯ\" + 0.117*\"МУСУЛЬМАНИН\"\n"
     ]
    },
    {
     "name": "stderr",
     "output_type": "stream",
     "text": [
      "2016-10-11 23:49:33,720 : INFO : preparing a new chunk of documents\n"
     ]
    },
    {
     "name": "stderr",
     "output_type": "stream",
     "text": [
      "2016-10-11 23:49:33,723 : INFO : using 100 extra samples and 2 power iterations\n"
     ]
    },
    {
     "name": "stderr",
     "output_type": "stream",
     "text": [
      "2016-10-11 23:49:33,723 : INFO : 1st phase: constructing (26996L, 200L) action matrix\n"
     ]
    },
    {
     "name": "stderr",
     "output_type": "stream",
     "text": [
      "2016-10-11 23:49:33,729 : INFO : orthonormalizing (26996L, 200L) action matrix\n"
     ]
    },
    {
     "name": "stderr",
     "output_type": "stream",
     "text": [
      "2016-10-11 23:49:34,405 : INFO : 2nd phase: running dense svd on (200L, 20L) matrix\n"
     ]
    },
    {
     "name": "stderr",
     "output_type": "stream",
     "text": [
      "2016-10-11 23:49:34,427 : INFO : computing the final decomposition\n"
     ]
    },
    {
     "name": "stderr",
     "output_type": "stream",
     "text": [
      "2016-10-11 23:49:34,427 : INFO : keeping 19 factors (discarding 0.000% of energy spectrum)\n"
     ]
    },
    {
     "name": "stderr",
     "output_type": "stream",
     "text": [
      "2016-10-11 23:49:34,438 : INFO : merging projections: (26996L, 100L) + (26996L, 19L)\n"
     ]
    },
    {
     "name": "stderr",
     "output_type": "stream",
     "text": [
      "2016-10-11 23:49:34,487 : INFO : keeping 100 factors (discarding 0.240% of energy spectrum)\n"
     ]
    },
    {
     "name": "stderr",
     "output_type": "stream",
     "text": [
      "2016-10-11 23:49:34,526 : INFO : processed documents up to #2100\n"
     ]
    },
    {
     "name": "stderr",
     "output_type": "stream",
     "text": [
      "2016-10-11 23:49:34,526 : INFO : topic #0(2432.337): 0.467*\"АЛЛАХ\" + 0.250*\"СКАЗАТЬ\" + 0.231*\"СВОЙ\" + 0.231*\"КОТОРЫЙ\" + 0.223*\"ИМАМ\" + 0.182*\"ХАДИС\" + 0.181*\"ЧЕЛОВЕК\" + 0.175*\"ПРОРОК\" + 0.175*\"ЗНАЧЕНИЕ\" + 0.156*\"СЛОВО\"\n"
     ]
    },
    {
     "name": "stderr",
     "output_type": "stream",
     "text": [
      "2016-10-11 23:49:34,529 : INFO : topic #1(1279.652): -0.495*\"ЗНАЧЕНИЕ\" + -0.250*\"СВЯТОЙ\" + -0.236*\"ВЕЛИК\" + 0.218*\"ХАДИС\" + 0.211*\"ИМАМ\" + -0.206*\"СЛОВО\" + 0.173*\"ПРОРОК\" + -0.128*\"СВОЙ\" + 0.119*\"ПОСЛАННИК\" + -0.118*\"ТВОРЕНИЕ\"\n"
     ]
    },
    {
     "name": "stderr",
     "output_type": "stream",
     "text": [
      "2016-10-11 23:49:34,529 : INFO : topic #2(778.290): -0.473*\"ХАДИС\" + 0.275*\"ИМАМ\" + 0.249*\"ПРОРОК\" + -0.179*\"БРАК\" + -0.170*\"ХАДЖ\" + 0.156*\"ЧЕЛОВЕК\" + -0.156*\"ГОВОРИТЬ\" + -0.156*\"КНИГА\" + -0.151*\"ЖЕНЩИНА\" + 0.144*\"АЛЛАХ\"\n"
     ]
    },
    {
     "name": "stderr",
     "output_type": "stream",
     "text": [
      "2016-10-11 23:49:34,530 : INFO : topic #3(721.835): 0.540*\"АЛЛАХ\" + -0.359*\"ИМАМ\" + 0.273*\"ПОСЛАННИК\" + 0.197*\"АЯТ\" + -0.192*\"КНИГА\" + 0.174*\"СКАЗАТЬ\" + -0.167*\"ШИИТ\" + -0.161*\"СТАТЬЯ\" + -0.141*\"ПРОЧЕСТЬ\" + -0.141*\"ЗНАЧЕНИЕ\"\n"
     ]
    },
    {
     "name": "stderr",
     "output_type": "stream",
     "text": [
      "2016-10-11 23:49:34,532 : INFO : topic #4(644.134): 0.462*\"ПРОРОК\" + -0.444*\"ИМАМ\" + 0.286*\"ДБАР\" + -0.207*\"ХУСЕЙН\" + 0.179*\"КОРАН\" + -0.175*\"СКАЗАТЬ\" + 0.139*\"АЯТ\" + -0.137*\"АЛЛАХ\" + 0.116*\"МИССИЯ\" + 0.115*\"МУСУЛЬМАНИН\"\n"
     ]
    },
    {
     "name": "stderr",
     "output_type": "stream",
     "text": [
      "2016-10-11 23:49:34,563 : INFO : preparing a new chunk of documents\n"
     ]
    },
    {
     "name": "stderr",
     "output_type": "stream",
     "text": [
      "2016-10-11 23:49:34,565 : INFO : using 100 extra samples and 2 power iterations\n"
     ]
    },
    {
     "name": "stderr",
     "output_type": "stream",
     "text": [
      "2016-10-11 23:49:34,565 : INFO : 1st phase: constructing (26996L, 200L) action matrix\n"
     ]
    },
    {
     "name": "stderr",
     "output_type": "stream",
     "text": [
      "2016-10-11 23:49:34,571 : INFO : orthonormalizing (26996L, 200L) action matrix\n"
     ]
    },
    {
     "name": "stderr",
     "output_type": "stream",
     "text": [
      "2016-10-11 23:49:35,315 : INFO : 2nd phase: running dense svd on (200L, 20L) matrix\n"
     ]
    },
    {
     "name": "stderr",
     "output_type": "stream",
     "text": [
      "2016-10-11 23:49:35,335 : INFO : computing the final decomposition\n"
     ]
    },
    {
     "name": "stderr",
     "output_type": "stream",
     "text": [
      "2016-10-11 23:49:35,335 : INFO : keeping 19 factors (discarding 0.000% of energy spectrum)\n"
     ]
    },
    {
     "name": "stderr",
     "output_type": "stream",
     "text": [
      "2016-10-11 23:49:35,345 : INFO : merging projections: (26996L, 100L) + (26996L, 19L)\n"
     ]
    },
    {
     "name": "stderr",
     "output_type": "stream",
     "text": [
      "2016-10-11 23:49:35,388 : INFO : keeping 100 factors (discarding 0.228% of energy spectrum)\n"
     ]
    },
    {
     "name": "stderr",
     "output_type": "stream",
     "text": [
      "2016-10-11 23:49:35,421 : INFO : processed documents up to #2120\n"
     ]
    },
    {
     "name": "stderr",
     "output_type": "stream",
     "text": [
      "2016-10-11 23:49:35,421 : INFO : topic #0(2441.990): 0.465*\"АЛЛАХ\" + 0.249*\"СКАЗАТЬ\" + 0.232*\"СВОЙ\" + 0.231*\"КОТОРЫЙ\" + 0.228*\"ИМАМ\" + 0.183*\"ХАДИС\" + 0.181*\"ЧЕЛОВЕК\" + 0.177*\"ПРОРОК\" + 0.173*\"ЗНАЧЕНИЕ\" + 0.155*\"СЛОВО\"\n"
     ]
    },
    {
     "name": "stderr",
     "output_type": "stream",
     "text": [
      "2016-10-11 23:49:35,424 : INFO : topic #1(1282.959): -0.494*\"ЗНАЧЕНИЕ\" + -0.249*\"СВЯТОЙ\" + -0.236*\"ВЕЛИК\" + 0.217*\"ИМАМ\" + 0.216*\"ХАДИС\" + -0.207*\"СЛОВО\" + 0.173*\"ПРОРОК\" + -0.127*\"СВОЙ\" + -0.118*\"ТВОРЕНИЕ\" + 0.116*\"ПОСЛАННИК\"\n"
     ]
    },
    {
     "name": "stderr",
     "output_type": "stream",
     "text": [
      "2016-10-11 23:49:35,424 : INFO : topic #2(783.979): -0.460*\"ХАДИС\" + 0.333*\"ИМАМ\" + 0.243*\"ПРОРОК\" + -0.179*\"БРАК\" + -0.168*\"ХАДЖ\" + -0.159*\"ГОВОРИТЬ\" + 0.158*\"ЧЕЛОВЕК\" + -0.150*\"ЖЕНЩИНА\" + -0.141*\"КНИГА\" + -0.139*\"УМАР\"\n"
     ]
    },
    {
     "name": "stderr",
     "output_type": "stream",
     "text": [
      "2016-10-11 23:49:35,426 : INFO : topic #3(731.852): 0.551*\"АЛЛАХ\" + -0.357*\"ИМАМ\" + 0.269*\"ПОСЛАННИК\" + -0.200*\"КНИГА\" + 0.187*\"АЯТ\" + -0.177*\"ХАДИС\" + 0.168*\"СКАЗАТЬ\" + -0.168*\"ШИИТ\" + -0.153*\"ЗНАЧЕНИЕ\" + -0.148*\"СТАТЬЯ\"\n"
     ]
    },
    {
     "name": "stderr",
     "output_type": "stream",
     "text": [
      "2016-10-11 23:49:35,427 : INFO : topic #4(647.911): 0.461*\"ПРОРОК\" + -0.437*\"ИМАМ\" + 0.286*\"ДБАР\" + -0.201*\"ХУСЕЙН\" + 0.189*\"КОРАН\" + -0.184*\"СКАЗАТЬ\" + -0.144*\"АЛЛАХ\" + 0.132*\"АЯТ\" + 0.116*\"МУСУЛЬМАНИН\" + 0.114*\"МИССИЯ\"\n"
     ]
    },
    {
     "name": "stderr",
     "output_type": "stream",
     "text": [
      "2016-10-11 23:49:35,454 : INFO : preparing a new chunk of documents\n"
     ]
    },
    {
     "name": "stderr",
     "output_type": "stream",
     "text": [
      "2016-10-11 23:49:35,457 : INFO : using 100 extra samples and 2 power iterations\n"
     ]
    },
    {
     "name": "stderr",
     "output_type": "stream",
     "text": [
      "2016-10-11 23:49:35,457 : INFO : 1st phase: constructing (26996L, 200L) action matrix\n"
     ]
    },
    {
     "name": "stderr",
     "output_type": "stream",
     "text": [
      "2016-10-11 23:49:35,460 : INFO : orthonormalizing (26996L, 200L) action matrix\n"
     ]
    },
    {
     "name": "stderr",
     "output_type": "stream",
     "text": [
      "2016-10-11 23:49:36,131 : INFO : 2nd phase: running dense svd on (200L, 20L) matrix\n"
     ]
    },
    {
     "name": "stderr",
     "output_type": "stream",
     "text": [
      "2016-10-11 23:49:36,153 : INFO : computing the final decomposition\n"
     ]
    },
    {
     "name": "stderr",
     "output_type": "stream",
     "text": [
      "2016-10-11 23:49:36,153 : INFO : keeping 18 factors (discarding 0.000% of energy spectrum)\n"
     ]
    },
    {
     "name": "stderr",
     "output_type": "stream",
     "text": [
      "2016-10-11 23:49:36,163 : INFO : merging projections: (26996L, 100L) + (26996L, 18L)\n"
     ]
    },
    {
     "name": "stderr",
     "output_type": "stream",
     "text": [
      "2016-10-11 23:49:36,203 : INFO : keeping 100 factors (discarding 0.220% of energy spectrum)\n"
     ]
    },
    {
     "name": "stderr",
     "output_type": "stream",
     "text": [
      "2016-10-11 23:49:36,237 : INFO : processed documents up to #2140\n"
     ]
    },
    {
     "name": "stderr",
     "output_type": "stream",
     "text": [
      "2016-10-11 23:49:36,239 : INFO : topic #0(2455.772): 0.466*\"АЛЛАХ\" + 0.248*\"СКАЗАТЬ\" + 0.231*\"КОТОРЫЙ\" + 0.230*\"СВОЙ\" + 0.228*\"ИМАМ\" + 0.183*\"ХАДИС\" + 0.182*\"ЧЕЛОВЕК\" + 0.178*\"ПРОРОК\" + 0.171*\"ЗНАЧЕНИЕ\" + 0.154*\"СЛОВО\"\n"
     ]
    },
    {
     "name": "stderr",
     "output_type": "stream",
     "text": [
      "2016-10-11 23:49:36,240 : INFO : topic #1(1285.067): -0.495*\"ЗНАЧЕНИЕ\" + -0.250*\"СВЯТОЙ\" + -0.236*\"ВЕЛИК\" + 0.216*\"ИМАМ\" + 0.216*\"ХАДИС\" + -0.208*\"СЛОВО\" + 0.173*\"ПРОРОК\" + -0.129*\"СВОЙ\" + -0.118*\"ТВОРЕНИЕ\" + 0.116*\"ПОСЛАННИК\"\n"
     ]
    },
    {
     "name": "stderr",
     "output_type": "stream",
     "text": [
      "2016-10-11 23:49:36,242 : INFO : topic #2(784.799): -0.463*\"ХАДИС\" + 0.328*\"ИМАМ\" + 0.243*\"ПРОРОК\" + -0.178*\"БРАК\" + -0.168*\"ХАДЖ\" + -0.159*\"ГОВОРИТЬ\" + 0.157*\"ЧЕЛОВЕК\" + -0.150*\"ЖЕНЩИНА\" + -0.144*\"КНИГА\" + -0.139*\"УМАР\"\n"
     ]
    },
    {
     "name": "stderr",
     "output_type": "stream",
     "text": [
      "2016-10-11 23:49:36,243 : INFO : topic #3(739.385): 0.557*\"АЛЛАХ\" + -0.358*\"ИМАМ\" + 0.282*\"ПОСЛАННИК\" + -0.194*\"КНИГА\" + 0.179*\"АЯТ\" + -0.168*\"ХАДИС\" + -0.167*\"ШИИТ\" + 0.166*\"СКАЗАТЬ\" + -0.151*\"ЗНАЧЕНИЕ\" + -0.141*\"СТАТЬЯ\"\n"
     ]
    },
    {
     "name": "stderr",
     "output_type": "stream",
     "text": [
      "2016-10-11 23:49:36,243 : INFO : topic #4(648.906): 0.461*\"ПРОРОК\" + -0.441*\"ИМАМ\" + 0.284*\"ДБАР\" + -0.202*\"ХУСЕЙН\" + 0.192*\"КОРАН\" + -0.183*\"СКАЗАТЬ\" + -0.141*\"АЛЛАХ\" + 0.135*\"АЯТ\" + 0.117*\"МУСУЛЬМАНИН\" + 0.114*\"МИССИЯ\"\n"
     ]
    },
    {
     "name": "stderr",
     "output_type": "stream",
     "text": [
      "2016-10-11 23:49:36,278 : INFO : preparing a new chunk of documents\n"
     ]
    },
    {
     "name": "stderr",
     "output_type": "stream",
     "text": [
      "2016-10-11 23:49:36,279 : INFO : using 100 extra samples and 2 power iterations\n"
     ]
    },
    {
     "name": "stderr",
     "output_type": "stream",
     "text": [
      "2016-10-11 23:49:36,279 : INFO : 1st phase: constructing (26996L, 200L) action matrix\n"
     ]
    },
    {
     "name": "stderr",
     "output_type": "stream",
     "text": [
      "2016-10-11 23:49:36,285 : INFO : orthonormalizing (26996L, 200L) action matrix\n"
     ]
    },
    {
     "name": "stderr",
     "output_type": "stream",
     "text": [
      "2016-10-11 23:49:36,947 : INFO : 2nd phase: running dense svd on (200L, 20L) matrix\n"
     ]
    },
    {
     "name": "stderr",
     "output_type": "stream",
     "text": [
      "2016-10-11 23:49:36,967 : INFO : computing the final decomposition\n"
     ]
    },
    {
     "name": "stderr",
     "output_type": "stream",
     "text": [
      "2016-10-11 23:49:36,967 : INFO : keeping 18 factors (discarding 0.000% of energy spectrum)\n"
     ]
    },
    {
     "name": "stderr",
     "output_type": "stream",
     "text": [
      "2016-10-11 23:49:36,976 : INFO : merging projections: (26996L, 100L) + (26996L, 18L)\n"
     ]
    },
    {
     "name": "stderr",
     "output_type": "stream",
     "text": [
      "2016-10-11 23:49:37,016 : INFO : keeping 100 factors (discarding 0.193% of energy spectrum)\n"
     ]
    },
    {
     "name": "stderr",
     "output_type": "stream",
     "text": [
      "2016-10-11 23:49:37,048 : INFO : processed documents up to #2160\n"
     ]
    },
    {
     "name": "stderr",
     "output_type": "stream",
     "text": [
      "2016-10-11 23:49:37,049 : INFO : topic #0(2466.864): 0.463*\"АЛЛАХ\" + 0.247*\"СКАЗАТЬ\" + 0.232*\"КОТОРЫЙ\" + 0.232*\"ИМАМ\" + 0.230*\"СВОЙ\" + 0.184*\"ХАДИС\" + 0.183*\"ЧЕЛОВЕК\" + 0.180*\"ПРОРОК\" + 0.169*\"ЗНАЧЕНИЕ\" + 0.153*\"СЛОВО\"\n"
     ]
    },
    {
     "name": "stderr",
     "output_type": "stream",
     "text": [
      "2016-10-11 23:49:37,049 : INFO : topic #1(1289.864): -0.494*\"ЗНАЧЕНИЕ\" + -0.249*\"СВЯТОЙ\" + -0.236*\"ВЕЛИК\" + 0.223*\"ИМАМ\" + 0.212*\"ХАДИС\" + -0.208*\"СЛОВО\" + 0.173*\"ПРОРОК\" + -0.128*\"СВОЙ\" + -0.118*\"ТВОРЕНИЕ\" + -0.115*\"ТАКОВ\"\n"
     ]
    },
    {
     "name": "stderr",
     "output_type": "stream",
     "text": [
      "2016-10-11 23:49:37,051 : INFO : topic #2(790.371): -0.436*\"ХАДИС\" + 0.384*\"ИМАМ\" + 0.236*\"ПРОРОК\" + -0.177*\"БРАК\" + -0.165*\"ХАДЖ\" + 0.161*\"ЧЕЛОВЕК\" + -0.159*\"ГОВОРИТЬ\" + -0.150*\"ЖЕНЩИНА\" + 0.137*\"ХУСЕЙН\" + -0.135*\"УМАР\"\n"
     ]
    },
    {
     "name": "stderr",
     "output_type": "stream",
     "text": [
      "2016-10-11 23:49:37,052 : INFO : topic #3(751.161): 0.560*\"АЛЛАХ\" + -0.314*\"ИМАМ\" + 0.269*\"ПОСЛАННИК\" + -0.233*\"ХАДИС\" + -0.202*\"КНИГА\" + -0.179*\"ШИИТ\" + 0.166*\"АЯТ\" + -0.166*\"ЗНАЧЕНИЕ\" + 0.149*\"СКАЗАТЬ\" + -0.122*\"ХУСЕЙН\"\n"
     ]
    },
    {
     "name": "stderr",
     "output_type": "stream",
     "text": [
      "2016-10-11 23:49:37,053 : INFO : topic #4(662.755): 0.467*\"ПРОРОК\" + -0.420*\"ИМАМ\" + 0.292*\"ДБАР\" + -0.208*\"ХУСЕЙН\" + -0.179*\"СКАЗАТЬ\" + 0.177*\"КОРАН\" + -0.173*\"АЛЛАХ\" + 0.127*\"МИССИЯ\" + 0.113*\"МУСУЛЬМАНИН\" + 0.107*\"АЯТ\"\n"
     ]
    },
    {
     "name": "stderr",
     "output_type": "stream",
     "text": [
      "2016-10-11 23:49:37,073 : INFO : preparing a new chunk of documents\n"
     ]
    },
    {
     "name": "stderr",
     "output_type": "stream",
     "text": [
      "2016-10-11 23:49:37,075 : INFO : using 100 extra samples and 2 power iterations\n"
     ]
    },
    {
     "name": "stderr",
     "output_type": "stream",
     "text": [
      "2016-10-11 23:49:37,075 : INFO : 1st phase: constructing (26996L, 200L) action matrix\n"
     ]
    },
    {
     "name": "stderr",
     "output_type": "stream",
     "text": [
      "2016-10-11 23:49:37,078 : INFO : orthonormalizing (26996L, 200L) action matrix\n"
     ]
    },
    {
     "name": "stderr",
     "output_type": "stream",
     "text": [
      "2016-10-11 23:49:37,773 : INFO : 2nd phase: running dense svd on (200L, 20L) matrix\n"
     ]
    },
    {
     "name": "stderr",
     "output_type": "stream",
     "text": [
      "2016-10-11 23:49:37,792 : INFO : computing the final decomposition\n"
     ]
    },
    {
     "name": "stderr",
     "output_type": "stream",
     "text": [
      "2016-10-11 23:49:37,792 : INFO : keeping 20 factors (discarding 0.000% of energy spectrum)\n"
     ]
    },
    {
     "name": "stderr",
     "output_type": "stream",
     "text": [
      "2016-10-11 23:49:37,802 : INFO : merging projections: (26996L, 100L) + (26996L, 20L)\n"
     ]
    },
    {
     "name": "stderr",
     "output_type": "stream",
     "text": [
      "2016-10-11 23:49:37,844 : INFO : keeping 99 factors (discarding 0.087% of energy spectrum)\n"
     ]
    },
    {
     "name": "stderr",
     "output_type": "stream",
     "text": [
      "2016-10-11 23:49:37,877 : INFO : processed documents up to #2180\n"
     ]
    },
    {
     "name": "stderr",
     "output_type": "stream",
     "text": [
      "2016-10-11 23:49:37,878 : INFO : topic #0(2482.342): 0.465*\"АЛЛАХ\" + 0.247*\"СКАЗАТЬ\" + 0.231*\"ИМАМ\" + 0.231*\"КОТОРЫЙ\" + 0.230*\"СВОЙ\" + 0.184*\"ЧЕЛОВЕК\" + 0.183*\"ХАДИС\" + 0.182*\"ПРОРОК\" + 0.166*\"ЗНАЧЕНИЕ\" + 0.152*\"СЛОВО\"\n"
     ]
    },
    {
     "name": "stderr",
     "output_type": "stream",
     "text": [
      "2016-10-11 23:49:37,878 : INFO : topic #1(1292.162): -0.495*\"ЗНАЧЕНИЕ\" + -0.249*\"СВЯТОЙ\" + -0.236*\"ВЕЛИК\" + 0.220*\"ИМАМ\" + 0.210*\"ХАДИС\" + -0.210*\"СЛОВО\" + 0.175*\"ПРОРОК\" + -0.129*\"СВОЙ\" + -0.119*\"ТВОРЕНИЕ\" + -0.115*\"ТАКОВ\"\n"
     ]
    },
    {
     "name": "stderr",
     "output_type": "stream",
     "text": [
      "2016-10-11 23:49:37,880 : INFO : topic #2(791.558): -0.429*\"ХАДИС\" + 0.388*\"ИМАМ\" + 0.240*\"ПРОРОК\" + -0.175*\"БРАК\" + -0.164*\"ХАДЖ\" + 0.160*\"ЧЕЛОВЕК\" + -0.159*\"ГОВОРИТЬ\" + -0.149*\"ЖЕНЩИНА\" + 0.138*\"ХУСЕЙН\" + -0.134*\"УМАР\"\n"
     ]
    },
    {
     "name": "stderr",
     "output_type": "stream",
     "text": [
      "2016-10-11 23:49:37,881 : INFO : topic #3(761.447): 0.561*\"АЛЛАХ\" + -0.300*\"ИМАМ\" + 0.286*\"ПОСЛАННИК\" + -0.246*\"ХАДИС\" + -0.199*\"КНИГА\" + -0.179*\"ШИИТ\" + -0.163*\"ЗНАЧЕНИЕ\" + 0.145*\"АЯТ\" + 0.136*\"СКАЗАТЬ\" + -0.116*\"КОТОРЫЙ\"\n"
     ]
    },
    {
     "name": "stderr",
     "output_type": "stream",
     "text": [
      "2016-10-11 23:49:37,882 : INFO : topic #4(664.831): 0.469*\"ПРОРОК\" + -0.429*\"ИМАМ\" + 0.294*\"ДБАР\" + -0.211*\"ХУСЕЙН\" + 0.173*\"КОРАН\" + -0.172*\"СКАЗАТЬ\" + -0.169*\"АЛЛАХ\" + 0.127*\"МИССИЯ\" + 0.112*\"МУСУЛЬМАНИН\" + 0.109*\"АЯТ\"\n"
     ]
    },
    {
     "name": "stderr",
     "output_type": "stream",
     "text": [
      "2016-10-11 23:49:37,882 : INFO : preparing a new chunk of documents\n"
     ]
    },
    {
     "name": "stderr",
     "output_type": "stream",
     "text": [
      "2016-10-11 23:49:37,884 : INFO : using 100 extra samples and 2 power iterations\n"
     ]
    },
    {
     "name": "stderr",
     "output_type": "stream",
     "text": [
      "2016-10-11 23:49:37,884 : INFO : 1st phase: constructing (26996L, 200L) action matrix\n"
     ]
    },
    {
     "name": "stderr",
     "output_type": "stream",
     "text": [
      "2016-10-11 23:49:37,884 : INFO : orthonormalizing (26996L, 200L) action matrix\n"
     ]
    },
    {
     "name": "stderr",
     "output_type": "stream",
     "text": [
      "2016-10-11 23:49:38,322 : INFO : 2nd phase: running dense svd on (200L, 2L) matrix\n"
     ]
    },
    {
     "name": "stderr",
     "output_type": "stream",
     "text": [
      "2016-10-11 23:49:38,357 : INFO : computing the final decomposition\n"
     ]
    },
    {
     "name": "stderr",
     "output_type": "stream",
     "text": [
      "2016-10-11 23:49:38,358 : INFO : keeping 1 factors (discarding 0.000% of energy spectrum)\n"
     ]
    },
    {
     "name": "stderr",
     "output_type": "stream",
     "text": [
      "2016-10-11 23:49:38,364 : INFO : merging projections: (26996L, 99L) + (26996L, 1L)\n"
     ]
    },
    {
     "name": "stderr",
     "output_type": "stream",
     "text": [
      "2016-10-11 23:49:38,410 : INFO : keeping 96 factors (discarding 0.086% of energy spectrum)\n"
     ]
    },
    {
     "name": "stderr",
     "output_type": "stream",
     "text": [
      "2016-10-11 23:49:38,459 : INFO : processed documents up to #2182\n"
     ]
    },
    {
     "name": "stderr",
     "output_type": "stream",
     "text": [
      "2016-10-11 23:49:38,460 : INFO : topic #0(2482.343): 0.465*\"АЛЛАХ\" + 0.247*\"СКАЗАТЬ\" + 0.231*\"ИМАМ\" + 0.231*\"КОТОРЫЙ\" + 0.230*\"СВОЙ\" + 0.184*\"ЧЕЛОВЕК\" + 0.183*\"ХАДИС\" + 0.182*\"ПРОРОК\" + 0.166*\"ЗНАЧЕНИЕ\" + 0.152*\"СЛОВО\"\n"
     ]
    },
    {
     "name": "stderr",
     "output_type": "stream",
     "text": [
      "2016-10-11 23:49:38,461 : INFO : topic #1(1292.163): -0.495*\"ЗНАЧЕНИЕ\" + -0.249*\"СВЯТОЙ\" + -0.236*\"ВЕЛИК\" + 0.220*\"ИМАМ\" + 0.210*\"ХАДИС\" + -0.210*\"СЛОВО\" + 0.175*\"ПРОРОК\" + -0.129*\"СВОЙ\" + -0.119*\"ТВОРЕНИЕ\" + -0.115*\"ТАКОВ\"\n"
     ]
    },
    {
     "name": "stderr",
     "output_type": "stream",
     "text": [
      "2016-10-11 23:49:38,463 : INFO : topic #2(791.560): -0.429*\"ХАДИС\" + 0.388*\"ИМАМ\" + 0.240*\"ПРОРОК\" + -0.175*\"БРАК\" + -0.164*\"ХАДЖ\" + 0.160*\"ЧЕЛОВЕК\" + -0.159*\"ГОВОРИТЬ\" + -0.149*\"ЖЕНЩИНА\" + 0.138*\"ХУСЕЙН\" + -0.134*\"УМАР\"\n"
     ]
    },
    {
     "name": "stderr",
     "output_type": "stream",
     "text": [
      "2016-10-11 23:49:38,464 : INFO : topic #3(761.469): 0.561*\"АЛЛАХ\" + -0.299*\"ИМАМ\" + 0.286*\"ПОСЛАННИК\" + -0.246*\"ХАДИС\" + -0.199*\"КНИГА\" + -0.179*\"ШИИТ\" + -0.163*\"ЗНАЧЕНИЕ\" + 0.145*\"АЯТ\" + 0.136*\"СКАЗАТЬ\" + -0.116*\"КОТОРЫЙ\"\n"
     ]
    },
    {
     "name": "stderr",
     "output_type": "stream",
     "text": [
      "2016-10-11 23:49:38,466 : INFO : topic #4(664.834): 0.469*\"ПРОРОК\" + -0.429*\"ИМАМ\" + 0.294*\"ДБАР\" + -0.211*\"ХУСЕЙН\" + 0.174*\"КОРАН\" + -0.172*\"СКАЗАТЬ\" + -0.168*\"АЛЛАХ\" + 0.127*\"МИССИЯ\" + 0.112*\"МУСУЛЬМАНИН\" + 0.109*\"АЯТ\"\n"
     ]
    }
   ],
   "source": [
    "lsi = gensim.models.lsimodel.LsiModel(corpus=mm, id2word=id2word, num_topics=100,chunksize=20)"
   ]
  },
  {
   "cell_type": "code",
   "execution_count": 3,
   "metadata": {},
   "outputs": [],
   "source": [
    "import os\n",
    "if not os.path.exists(BigARTMCorpusDir+subd+\"\\\\LSI_model\"):\n",
    "    os.makedirs(BigARTMCorpusDir+subd+\"\\\\LSI_model\", mode=0o777)\n",
    "if not os.path.exists(BigARTMCorpusDir+subd+\"\\\\LSI_topics\"):\n",
    "    os.makedirs(BigARTMCorpusDir+subd+\"\\\\LSI_topics\", mode=0o777)"
   ]
  },
  {
   "cell_type": "code",
   "execution_count": 4,
   "metadata": {},
   "outputs": [
    {
     "name": "stderr",
     "output_type": "stream",
     "text": [
      "2016-10-11 23:49:38,476 : INFO : saving Projection object under C:\\NIVC\\Nivc_GenSim_corpus\\unary_comm\\islam-newsru\\LSI_model\\islam-newsru.model.projection, separately None\n"
     ]
    },
    {
     "name": "stderr",
     "output_type": "stream",
     "text": [
      "2016-10-11 23:49:38,502 : INFO : saving LsiModel object under C:\\NIVC\\Nivc_GenSim_corpus\\unary_comm\\islam-newsru\\LSI_model\\islam-newsru.model, separately None\n"
     ]
    },
    {
     "name": "stderr",
     "output_type": "stream",
     "text": [
      "2016-10-11 23:49:38,503 : INFO : not storing attribute projection\n"
     ]
    },
    {
     "name": "stderr",
     "output_type": "stream",
     "text": [
      "2016-10-11 23:49:38,503 : INFO : not storing attribute dispatcher\n"
     ]
    }
   ],
   "source": [
    "lsi.save(BigARTMCorpusDir+subd+\"\\\\LSI_model\\\\\"+subd+\".model\")"
   ]
  },
  {
   "cell_type": "code",
   "execution_count": 5,
   "metadata": {},
   "outputs": [],
   "source": [
    "topics100 = lsi.show_topics(100,15)\n",
    "topics20 = lsi.show_topics(20,15)"
   ]
  },
  {
   "cell_type": "code",
   "execution_count": 6,
   "metadata": {},
   "outputs": [],
   "source": [
    "import io\n",
    "with io.open(BigARTMCorpusDir+subd+\"\\\\LSI_topics\"+'\\\\20.topics','w',encoding='utf8') as outputTopics:\n",
    "    try:\n",
    "        j = 0\n",
    "        outputTopics.write(u'{\\n')\n",
    "        for topic in topics20:\n",
    "            outputTopics.write(u'\\\"'+unicode(topic[0])+u'\\\" : {')\n",
    "            words = topic[1].split(\"+\")\n",
    "            i = 0\n",
    "            for word in words:\n",
    "                wordNum = word.split(\"*\")\n",
    "                if i != len(words)-1:\n",
    "                    outputTopics.write(wordNum[1]+u' : '+wordNum[0]+u',')\n",
    "                else:\n",
    "                    outputTopics.write(wordNum[1]+u' : '+wordNum[0]+u'}')\n",
    "                i+=1\n",
    "            if j != len(topics20)-1:\n",
    "                outputTopics.write(u',\\n')\n",
    "            else:\n",
    "                outputTopics.write(u'}')\n",
    "            j+=1\n",
    "    except Exception as e:\n",
    "        print(e)\n",
    "        outputTopics.close()"
   ]
  },
  {
   "cell_type": "code",
   "execution_count": 7,
   "metadata": {},
   "outputs": [],
   "source": [
    "with io.open(BigARTMCorpusDir+subd+\"\\\\LSI_topics\"+'\\\\100.topics','w',encoding='utf8') as outputTopics:\n",
    "    try:\n",
    "        j = 0\n",
    "        outputTopics.write(u'{\\n')\n",
    "        for topic in topics100:\n",
    "            outputTopics.write(u'\\\"'+unicode(topic[0])+u'\\\" : {')\n",
    "            words = topic[1].split(\"+\")\n",
    "            i = 0\n",
    "            for word in words:\n",
    "                wordNum = word.split(\"*\")\n",
    "                if i != len(words)-1:\n",
    "                    outputTopics.write(wordNum[1]+u' : '+wordNum[0]+u',')\n",
    "                else:\n",
    "                    outputTopics.write(wordNum[1]+u' : '+wordNum[0]+u'}')\n",
    "                i+=1\n",
    "            if j != len(topics100)-1:\n",
    "                outputTopics.write(u',\\n')\n",
    "            else:\n",
    "                outputTopics.write(u'}')\n",
    "            j+=1\n",
    "    except Exception as e:\n",
    "        print(e)\n",
    "        outputTopics.close()"
   ]
  },
  {
   "cell_type": "code",
   "execution_count": null,
   "metadata": {},
   "outputs": [],
   "source": [
    ""
   ]
  }
 ],
 "metadata": {
  "kernelspec": {
   "display_name": "Python 2",
   "language": "python",
   "name": "python2"
  },
  "language_info": {
   "codemirror_mode": {
    "name": "ipython",
    "version": 2.0
   },
   "file_extension": ".py",
   "mimetype": "text/x-python",
   "name": "python",
   "nbconvert_exporter": "python",
   "pygments_lexer": "ipython2",
   "version": "2.7.6"
  }
 },
 "nbformat": 4,
 "nbformat_minor": 0
}