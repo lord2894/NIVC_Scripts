{
 "cells": [
  {
   "cell_type": "code",
   "execution_count": 2,
   "metadata": {
    "collapsed": true
   },
   "outputs": [
    {
     "name": "stderr",
     "output_type": "stream",
     "text": [
      "2016-10-11 18:12:29,302 : INFO : loading Dictionary object from C:\\NIVC\\Nivc_GenSim_corpus\\unary_comm\\islamcivilru\\mm_pos\\islamcivilru.dict\n"
     ]
    },
    {
     "name": "stderr",
     "output_type": "stream",
     "text": [
      "2016-10-11 18:12:29,321 : INFO : loaded corpus index from C:\\NIVC\\Nivc_GenSim_corpus\\unary_comm\\islamcivilru\\mm_pos\\islamcivilru.mm.index\n"
     ]
    },
    {
     "name": "stderr",
     "output_type": "stream",
     "text": [
      "2016-10-11 18:12:29,322 : INFO : initializing corpus reader from C:\\NIVC\\Nivc_GenSim_corpus\\unary_comm\\islamcivilru\\mm_pos\\islamcivilru.mm\n"
     ]
    },
    {
     "name": "stderr",
     "output_type": "stream",
     "text": [
      "2016-10-11 18:12:29,323 : INFO : accepted corpus with 4285 documents, 24774 features, 1045404 non-zero entries\n"
     ]
    },
    {
     "name": "stdout",
     "output_type": "stream",
     "text": [
      "MmCorpus(4285 documents, 24774 features, 1045404 non-zero entries)\n"
     ]
    }
   ],
   "source": [
    "import logging, gensim, bz2\n",
    "logging.basicConfig(format='%(asctime)s : %(levelname)s : %(message)s', level=logging.INFO)\n",
    "\n",
    "# load id->word mapping (the dictionary), one of the results of step 2 above\n",
    "id2word = gensim.corpora.Dictionary.load('C:\\\\NIVC\\\\Nivc_GenSim_corpus\\\\unary_comm\\\\islamcivilru\\\\mm_pos\\\\islamcivilru.dict')\n",
    "# load corpus iterator\n",
    "mm = gensim.corpora.MmCorpus('C:\\\\NIVC\\\\Nivc_GenSim_corpus\\\\unary_comm\\\\islamcivilru\\\\mm_pos\\\\islamcivilru.mm')\n",
    "\n",
    "print(mm)"
   ]
  },
  {
   "cell_type": "code",
   "execution_count": 3,
   "metadata": {},
   "outputs": [
    {
     "name": "stderr",
     "output_type": "stream",
     "text": [
      "2016-10-11 18:12:32,404 : INFO : using serial LSI version on this node\n"
     ]
    },
    {
     "name": "stderr",
     "output_type": "stream",
     "text": [
      "2016-10-11 18:12:32,404 : INFO : updating model with new documents\n"
     ]
    },
    {
     "name": "stderr",
     "output_type": "stream",
     "text": [
      "2016-10-11 18:12:32,473 : INFO : preparing a new chunk of documents\n"
     ]
    },
    {
     "name": "stderr",
     "output_type": "stream",
     "text": [
      "2016-10-11 18:12:32,476 : INFO : using 100 extra samples and 2 power iterations\n"
     ]
    },
    {
     "name": "stderr",
     "output_type": "stream",
     "text": [
      "2016-10-11 18:12:32,479 : INFO : 1st phase: constructing (24774L, 200L) action matrix\n"
     ]
    },
    {
     "name": "stderr",
     "output_type": "stream",
     "text": [
      "2016-10-11 18:12:32,483 : INFO : orthonormalizing (24774L, 200L) action matrix\n"
     ]
    },
    {
     "name": "stderr",
     "output_type": "stream",
     "text": [
      "2016-10-11 18:12:33,229 : INFO : 2nd phase: running dense svd on (200L, 20L) matrix\n"
     ]
    },
    {
     "name": "stderr",
     "output_type": "stream",
     "text": [
      "2016-10-11 18:12:33,355 : INFO : computing the final decomposition\n"
     ]
    },
    {
     "name": "stderr",
     "output_type": "stream",
     "text": [
      "2016-10-11 18:12:33,355 : INFO : keeping 20 factors (discarding 0.000% of energy spectrum)\n"
     ]
    },
    {
     "name": "stderr",
     "output_type": "stream",
     "text": [
      "2016-10-11 18:12:33,377 : INFO : processed documents up to #20\n"
     ]
    },
    {
     "name": "stderr",
     "output_type": "stream",
     "text": [
      "2016-10-11 18:12:33,385 : INFO : topic #0(197.789): -0.516*\"АЛЛАХ\" + -0.287*\"МИР\" + -0.231*\"КОТОРЫЙ\" + -0.206*\"БЛАГОСЛОВЕНИЕ\" + -0.174*\"ПРОРОК\" + -0.174*\"ЖЕНА\" + -0.157*\"СВОЙ\" + -0.136*\"ЖЕНЩИНА\" + -0.119*\"ИСТОРИЯ\" + -0.118*\"МУСУЛЬМАНИН\"\n"
     ]
    },
    {
     "name": "stderr",
     "output_type": "stream",
     "text": [
      "2016-10-11 18:12:33,388 : INFO : topic #1(90.731): -0.379*\"ЖЕНА\" + -0.299*\"ЖЕНЩИНА\" + -0.254*\"МУЖ\" + 0.240*\"ПРОРОК\" + -0.200*\"МУЖЧИНА\" + 0.189*\"ЖЕРТВОПРИНОШЕНИЕ\" + 0.136*\"ИСЛАМСКИЙ\" + -0.131*\"ПОСЛАННИК\" + 0.129*\"ЖЕРТВА\" + 0.127*\"ГОД\"\n"
     ]
    },
    {
     "name": "stderr",
     "output_type": "stream",
     "text": [
      "2016-10-11 18:12:33,390 : INFO : topic #2(84.243): 0.382*\"МУСУЛЬМАНИН\" + -0.326*\"АЛЛАХ\" + 0.287*\"СТРАНА\" + 0.182*\"КОТОРЫЙ\" + -0.182*\"ЖЕРТВОПРИНОШЕНИЕ\" + -0.174*\"БЛАГОСЛОВЕНИЕ\" + 0.147*\"ОБЩЕСТВО\" + 0.147*\"ГОНДУРАС\" + -0.145*\"ПРОРОК\" + 0.143*\"ИСЛАМСКИЙ\"\n"
     ]
    },
    {
     "name": "stderr",
     "output_type": "stream",
     "text": [
      "2016-10-11 18:12:33,392 : INFO : topic #3(67.868): -0.353*\"ЖЕРТВОПРИНОШЕНИЕ\" + -0.227*\"ЖЕРТВА\" + -0.189*\"МЯСО\" + 0.183*\"МИР\" + 0.176*\"БЛАГОСЛОВЕНИЕ\" + 0.159*\"ГОД\" + -0.158*\"ДЕНЬ\" + 0.157*\"ПРОРОК\" + -0.149*\"ЖИВОТНОЕ\" + -0.147*\"МУСУЛЬМАНИН\"\n"
     ]
    },
    {
     "name": "stderr",
     "output_type": "stream",
     "text": [
      "2016-10-11 18:12:33,394 : INFO : topic #4(49.092): 0.327*\"ЕГИПЕТ\" + -0.323*\"МУСУЛЬМАНИН\" + 0.173*\"МУРСИ\" + 0.173*\"ВОЕННЫЙ\" + -0.165*\"АЛЛАХ\" + 0.149*\"ЧЕЛОВЕК\" + -0.144*\"ГОНДУРАС\" + 0.139*\"МУХАММАД\" + 0.103*\"КОТОРЫЙ\" + 0.099*\"СОБЫТИЕ\"\n"
     ]
    },
    {
     "name": "stderr",
     "output_type": "stream",
     "text": [
      "2016-10-11 18:12:33,466 : INFO : preparing a new chunk of documents\n"
     ]
    },
    {
     "name": "stderr",
     "output_type": "stream",
     "text": [
      "2016-10-11 18:12:33,469 : INFO : using 100 extra samples and 2 power iterations\n"
     ]
    },
    {
     "name": "stderr",
     "output_type": "stream",
     "text": [
      "2016-10-11 18:12:33,470 : INFO : 1st phase: constructing (24774L, 200L) action matrix\n"
     ]
    },
    {
     "name": "stderr",
     "output_type": "stream",
     "text": [
      "2016-10-11 18:12:33,473 : INFO : orthonormalizing (24774L, 200L) action matrix\n"
     ]
    },
    {
     "name": "stderr",
     "output_type": "stream",
     "text": [
      "2016-10-11 18:12:34,213 : INFO : 2nd phase: running dense svd on (200L, 20L) matrix\n"
     ]
    },
    {
     "name": "stderr",
     "output_type": "stream",
     "text": [
      "2016-10-11 18:12:34,240 : INFO : computing the final decomposition\n"
     ]
    },
    {
     "name": "stderr",
     "output_type": "stream",
     "text": [
      "2016-10-11 18:12:34,243 : INFO : keeping 20 factors (discarding 0.000% of energy spectrum)\n"
     ]
    },
    {
     "name": "stderr",
     "output_type": "stream",
     "text": [
      "2016-10-11 18:12:34,265 : INFO : merging projections: (24774L, 20L) + (24774L, 20L)\n"
     ]
    },
    {
     "name": "stderr",
     "output_type": "stream",
     "text": [
      "2016-10-11 18:12:34,311 : INFO : keeping 32 factors (discarding 0.089% of energy spectrum)\n"
     ]
    },
    {
     "name": "stderr",
     "output_type": "stream",
     "text": [
      "2016-10-11 18:12:34,345 : INFO : processed documents up to #40\n"
     ]
    },
    {
     "name": "stderr",
     "output_type": "stream",
     "text": [
      "2016-10-11 18:12:34,348 : INFO : topic #0(243.427): 0.472*\"АЛЛАХ\" + 0.291*\"КОРАН\" + 0.250*\"МИР\" + 0.238*\"КОТОРЫЙ\" + 0.169*\"БЛАГОСЛОВЕНИЕ\" + 0.159*\"ПРОРОК\" + 0.154*\"СВОЙ\" + 0.148*\"ЧЕЛОВЕК\" + 0.129*\"ИСТОРИЯ\" + 0.112*\"СКАЗАТЬ\"\n"
     ]
    },
    {
     "name": "stderr",
     "output_type": "stream",
     "text": [
      "2016-10-11 18:12:34,351 : INFO : topic #1(121.964): -0.558*\"КОРАН\" + -0.343*\"ЧТЕНИЕ\" + 0.175*\"ЖЕНА\" + -0.174*\"ЧИТАТЬ\" + -0.165*\"РАЗМЫШЛЕНИЕ\" + -0.142*\"ПРОЧТЕНИЕ\" + 0.132*\"ЖЕНЩИНА\" + 0.128*\"МИР\" + -0.118*\"ПРОЧЕСТЬ\" + -0.116*\"КОЛИЧЕСТВО\"\n"
     ]
    },
    {
     "name": "stderr",
     "output_type": "stream",
     "text": [
      "2016-10-11 18:12:34,352 : INFO : topic #2(98.996): -0.365*\"АЛЛАХ\" + -0.265*\"ЖЕНА\" + 0.237*\"МУСУЛЬМАНИН\" + -0.186*\"ЖЕНЩИНА\" + 0.186*\"ИСЛАМСКИЙ\" + 0.176*\"СТРАНА\" + -0.164*\"МУЖ\" + 0.160*\"ОБЩЕСТВО\" + 0.141*\"ИСТОРИЯ\" + -0.141*\"БЛАГОСЛОВЕНИЕ\"\n"
     ]
    },
    {
     "name": "stderr",
     "output_type": "stream",
     "text": [
      "2016-10-11 18:12:34,355 : INFO : topic #3(88.831): -0.299*\"ПРОРОК\" + -0.264*\"ЖЕРТВОПРИНОШЕНИЕ\" + 0.260*\"ЖЕНА\" + 0.234*\"ЖЕНЩИНА\" + -0.201*\"АЛЛАХ\" + -0.192*\"ЖЕРТВА\" + 0.184*\"МУЖ\" + -0.176*\"МИР\" + -0.158*\"БЛАГОСЛОВЕНИЕ\" + 0.145*\"КОТОРЫЙ\"\n"
     ]
    },
    {
     "name": "stderr",
     "output_type": "stream",
     "text": [
      "2016-10-11 18:12:34,358 : INFO : topic #4(68.039): -0.355*\"ЖЕРТВОПРИНОШЕНИЕ\" + -0.228*\"ЖЕРТВА\" + 0.193*\"МИР\" + -0.191*\"МЯСО\" + 0.181*\"БЛАГОСЛОВЕНИЕ\" + 0.168*\"ПРОРОК\" + -0.167*\"ДЕНЬ\" + 0.157*\"ГОД\" + -0.150*\"ЖИВОТНОЕ\" + -0.142*\"МУСУЛЬМАНИН\"\n"
     ]
    },
    {
     "name": "stderr",
     "output_type": "stream",
     "text": [
      "2016-10-11 18:12:34,433 : INFO : preparing a new chunk of documents\n"
     ]
    },
    {
     "name": "stderr",
     "output_type": "stream",
     "text": [
      "2016-10-11 18:12:34,437 : INFO : using 100 extra samples and 2 power iterations\n"
     ]
    },
    {
     "name": "stderr",
     "output_type": "stream",
     "text": [
      "2016-10-11 18:12:34,437 : INFO : 1st phase: constructing (24774L, 200L) action matrix\n"
     ]
    },
    {
     "name": "stderr",
     "output_type": "stream",
     "text": [
      "2016-10-11 18:12:34,443 : INFO : orthonormalizing (24774L, 200L) action matrix\n"
     ]
    },
    {
     "name": "stderr",
     "output_type": "stream",
     "text": [
      "2016-10-11 18:12:35,193 : INFO : 2nd phase: running dense svd on (200L, 20L) matrix\n"
     ]
    },
    {
     "name": "stderr",
     "output_type": "stream",
     "text": [
      "2016-10-11 18:12:35,221 : INFO : computing the final decomposition\n"
     ]
    },
    {
     "name": "stderr",
     "output_type": "stream",
     "text": [
      "2016-10-11 18:12:35,223 : INFO : keeping 20 factors (discarding 0.000% of energy spectrum)\n"
     ]
    },
    {
     "name": "stderr",
     "output_type": "stream",
     "text": [
      "2016-10-11 18:12:35,243 : INFO : merging projections: (24774L, 32L) + (24774L, 20L)\n"
     ]
    },
    {
     "name": "stderr",
     "output_type": "stream",
     "text": [
      "2016-10-11 18:12:35,275 : INFO : keeping 37 factors (discarding 0.097% of energy spectrum)\n"
     ]
    },
    {
     "name": "stderr",
     "output_type": "stream",
     "text": [
      "2016-10-11 18:12:35,296 : INFO : processed documents up to #60\n"
     ]
    },
    {
     "name": "stderr",
     "output_type": "stream",
     "text": [
      "2016-10-11 18:12:35,298 : INFO : topic #0(327.489): 0.450*\"АЛЛАХ\" + 0.262*\"НАМАЗ\" + 0.218*\"МИР\" + 0.195*\"КОТОРЫЙ\" + 0.188*\"ВИТР\" + 0.184*\"КОРАН\" + 0.161*\"МОЛИТВА\" + 0.157*\"БЛАГОСЛОВЕНИЕ\" + 0.140*\"СКАЗАТЬ\" + 0.140*\"ЧЕЛОВЕК\"\n"
     ]
    },
    {
     "name": "stderr",
     "output_type": "stream",
     "text": [
      "2016-10-11 18:12:35,299 : INFO : topic #1(162.005): -0.489*\"ВИТР\" + -0.301*\"НАМАЗ\" + 0.249*\"КОРАН\" + 0.198*\"КОТОРЫЙ\" + -0.178*\"РАКААТ\" + -0.173*\"РАКААТА\" + -0.165*\"МОЛИТВА\" + 0.152*\"ЧЕЛОВЕК\" + -0.142*\"СУРА\" + -0.139*\"СОВЕРШИТЬ\"\n"
     ]
    },
    {
     "name": "stderr",
     "output_type": "stream",
     "text": [
      "2016-10-11 18:12:35,302 : INFO : topic #2(129.188): 0.380*\"МОЛИТВА\" + 0.306*\"ИМАМ\" + -0.267*\"КОРАН\" + 0.209*\"СОВЕРШАТЬ\" + -0.209*\"АЛЛАХ\" + -0.191*\"ЧТЕНИЕ\" + 0.177*\"НАМАЗ\" + 0.177*\"МУСУЛЬМАНИН\" + 0.149*\"ГОВОРИТЬ\" + -0.145*\"ВИТР\"\n"
     ]
    },
    {
     "name": "stderr",
     "output_type": "stream",
     "text": [
      "2016-10-11 18:12:35,303 : INFO : topic #3(122.934): -0.488*\"КОРАН\" + -0.292*\"ЧТЕНИЕ\" + -0.190*\"ИМАМ\" + -0.180*\"МОЛИТВА\" + 0.165*\"ЖЕНА\" + 0.155*\"МИР\" + -0.144*\"ЧИТАТЬ\" + -0.142*\"РАЗМЫШЛЕНИЕ\" + 0.135*\"ЖЕНЩИНА\" + -0.129*\"СКАЗАТЬ\"\n"
     ]
    },
    {
     "name": "stderr",
     "output_type": "stream",
     "text": [
      "2016-10-11 18:12:35,305 : INFO : topic #4(108.768): -0.379*\"АЛЛАХ\" + -0.245*\"ЖЕНА\" + -0.222*\"МОЛИТВА\" + 0.183*\"МЕЧЕТЬ\" + 0.179*\"НАМАЗ\" + -0.177*\"ГОВОРИТЬ\" + 0.172*\"МУСУЛЬМАНИН\" + -0.165*\"ЖЕНЩИНА\" + -0.152*\"БЛАГОСЛОВЕНИЕ\" + -0.149*\"МУЖ\"\n"
     ]
    },
    {
     "name": "stderr",
     "output_type": "stream",
     "text": [
      "2016-10-11 18:12:35,378 : INFO : preparing a new chunk of documents\n"
     ]
    },
    {
     "name": "stderr",
     "output_type": "stream",
     "text": [
      "2016-10-11 18:12:35,382 : INFO : using 100 extra samples and 2 power iterations\n"
     ]
    },
    {
     "name": "stderr",
     "output_type": "stream",
     "text": [
      "2016-10-11 18:12:35,384 : INFO : 1st phase: constructing (24774L, 200L) action matrix\n"
     ]
    },
    {
     "name": "stderr",
     "output_type": "stream",
     "text": [
      "2016-10-11 18:12:35,388 : INFO : orthonormalizing (24774L, 200L) action matrix\n"
     ]
    },
    {
     "name": "stderr",
     "output_type": "stream",
     "text": [
      "2016-10-11 18:12:36,183 : INFO : 2nd phase: running dense svd on (200L, 20L) matrix\n"
     ]
    },
    {
     "name": "stderr",
     "output_type": "stream",
     "text": [
      "2016-10-11 18:12:36,210 : INFO : computing the final decomposition\n"
     ]
    },
    {
     "name": "stderr",
     "output_type": "stream",
     "text": [
      "2016-10-11 18:12:36,213 : INFO : keeping 20 factors (discarding 0.000% of energy spectrum)\n"
     ]
    },
    {
     "name": "stderr",
     "output_type": "stream",
     "text": [
      "2016-10-11 18:12:36,233 : INFO : merging projections: (24774L, 37L) + (24774L, 20L)\n"
     ]
    },
    {
     "name": "stderr",
     "output_type": "stream",
     "text": [
      "2016-10-11 18:12:36,321 : INFO : keeping 40 factors (discarding 0.100% of energy spectrum)\n"
     ]
    },
    {
     "name": "stderr",
     "output_type": "stream",
     "text": [
      "2016-10-11 18:12:36,342 : INFO : processed documents up to #80\n"
     ]
    },
    {
     "name": "stderr",
     "output_type": "stream",
     "text": [
      "2016-10-11 18:12:36,344 : INFO : topic #0(378.025): 0.506*\"АЛЛАХ\" + 0.218*\"МИР\" + 0.212*\"КОТОРЫЙ\" + 0.198*\"НАМАЗ\" + 0.164*\"КОРАН\" + 0.159*\"ЧЕЛОВЕК\" + 0.154*\"БЛАГОСЛОВЕНИЕ\" + 0.153*\"ПРОРОК\" + 0.130*\"ВИТР\" + 0.127*\"СКАЗАТЬ\"\n"
     ]
    },
    {
     "name": "stderr",
     "output_type": "stream",
     "text": [
      "2016-10-11 18:12:36,345 : INFO : topic #1(174.327): -0.483*\"ВИТР\" + -0.358*\"НАМАЗ\" + -0.217*\"МОЛИТВА\" + -0.176*\"РАКААТ\" + -0.174*\"РАКААТА\" + 0.166*\"КОТОРЫЙ\" + -0.156*\"СУРА\" + -0.152*\"СОВЕРШАТЬ\" + -0.149*\"СОВЕРШИТЬ\" + 0.136*\"СОВЕРШЕННОЛЕТИЕ\"\n"
     ]
    },
    {
     "name": "stderr",
     "output_type": "stream",
     "text": [
      "2016-10-11 18:12:36,348 : INFO : topic #2(145.339): 0.376*\"СОВЕРШЕННОЛЕТИЕ\" + -0.306*\"АЛЛАХ\" + 0.251*\"НАСТУПЛЕНИЕ\" + 0.224*\"УЧЁНЫЙ\" + -0.207*\"КОРАН\" + 0.162*\"НАМАЗ\" + 0.153*\"ПРИЗНАК\" + 0.153*\"ПОЛОВЫЙ\" + 0.140*\"ВОЗРАСТ\" + 0.134*\"ДЕВУШКА\"\n"
     ]
    },
    {
     "name": "stderr",
     "output_type": "stream",
     "text": [
      "2016-10-11 18:12:36,351 : INFO : topic #3(133.545): 0.318*\"МОЛИТВА\" + 0.308*\"ИМАМ\" + -0.282*\"АЛЛАХ\" + 0.203*\"СОВЕРШАТЬ\" + 0.183*\"ЧЕЛОВЕК\" + 0.181*\"КОРАН\" + -0.181*\"СОВЕРШЕННОЛЕТИЕ\" + -0.173*\"ВИТР\" + 0.169*\"МУСУЛЬМАНИН\" + 0.144*\"НАМАЗ\"\n"
     ]
    },
    {
     "name": "stderr",
     "output_type": "stream",
     "text": [
      "2016-10-11 18:12:36,352 : INFO : topic #4(124.454): -0.557*\"КОРАН\" + -0.346*\"ЧТЕНИЕ\" + -0.191*\"ЧИТАТЬ\" + -0.164*\"РАЗМЫШЛЕНИЕ\" + -0.141*\"ПРОЧТЕНИЕ\" + 0.134*\"МОЛИТВА\" + -0.133*\"СОВЕРШЕННОЛЕТИЕ\" + -0.131*\"КОЛИЧЕСТВО\" + 0.127*\"АЛЛАХ\" + -0.118*\"ПРОЧЕСТЬ\"\n"
     ]
    },
    {
     "name": "stderr",
     "output_type": "stream",
     "text": [
      "2016-10-11 18:12:36,438 : INFO : preparing a new chunk of documents\n"
     ]
    },
    {
     "name": "stderr",
     "output_type": "stream",
     "text": [
      "2016-10-11 18:12:36,444 : INFO : using 100 extra samples and 2 power iterations\n"
     ]
    },
    {
     "name": "stderr",
     "output_type": "stream",
     "text": [
      "2016-10-11 18:12:36,444 : INFO : 1st phase: constructing (24774L, 200L) action matrix\n"
     ]
    },
    {
     "name": "stderr",
     "output_type": "stream",
     "text": [
      "2016-10-11 18:12:36,450 : INFO : orthonormalizing (24774L, 200L) action matrix\n"
     ]
    },
    {
     "name": "stderr",
     "output_type": "stream",
     "text": [
      "2016-10-11 18:12:37,223 : INFO : 2nd phase: running dense svd on (200L, 20L) matrix\n"
     ]
    },
    {
     "name": "stderr",
     "output_type": "stream",
     "text": [
      "2016-10-11 18:12:37,250 : INFO : computing the final decomposition\n"
     ]
    },
    {
     "name": "stderr",
     "output_type": "stream",
     "text": [
      "2016-10-11 18:12:37,252 : INFO : keeping 20 factors (discarding 0.000% of energy spectrum)\n"
     ]
    },
    {
     "name": "stderr",
     "output_type": "stream",
     "text": [
      "2016-10-11 18:12:37,275 : INFO : merging projections: (24774L, 40L) + (24774L, 20L)\n"
     ]
    },
    {
     "name": "stderr",
     "output_type": "stream",
     "text": [
      "2016-10-11 18:12:37,308 : INFO : keeping 42 factors (discarding 0.090% of energy spectrum)\n"
     ]
    },
    {
     "name": "stderr",
     "output_type": "stream",
     "text": [
      "2016-10-11 18:12:37,329 : INFO : processed documents up to #100\n"
     ]
    },
    {
     "name": "stderr",
     "output_type": "stream",
     "text": [
      "2016-10-11 18:12:37,332 : INFO : topic #0(445.439): 0.528*\"АЛЛАХ\" + 0.233*\"КОТОРЫЙ\" + 0.203*\"ЧЕЛОВЕК\" + 0.200*\"МИР\" + 0.163*\"СВОЙ\" + 0.152*\"КОРАН\" + 0.147*\"НАМАЗ\" + 0.135*\"ПРОРОК\" + 0.134*\"БЛАГОСЛОВЕНИЕ\" + 0.133*\"СКАЗАТЬ\"\n"
     ]
    },
    {
     "name": "stderr",
     "output_type": "stream",
     "text": [
      "2016-10-11 18:12:37,334 : INFO : topic #1(193.618): -0.391*\"ВИТР\" + -0.333*\"НАМАЗ\" + 0.321*\"РАЗВОД\" + 0.253*\"ЖЕНА\" + -0.215*\"МОЛИТВА\" + 0.171*\"МУЖЧИНА\" + 0.156*\"СВОЙ\" + -0.155*\"СОВЕРШАТЬ\" + -0.155*\"СУРА\" + -0.143*\"РАКААТА\"\n"
     ]
    },
    {
     "name": "stderr",
     "output_type": "stream",
     "text": [
      "2016-10-11 18:12:37,335 : INFO : topic #2(166.458): -0.368*\"РАЗВОД\" + -0.298*\"ВИТР\" + -0.247*\"ЖЕНА\" + 0.236*\"ЧЕЛОВЕК\" + -0.228*\"НАМАЗ\" + 0.224*\"КОРАН\" + 0.196*\"АЛЛАХ\" + -0.164*\"МУЖЧИНА\" + -0.141*\"РАЗВЕСТИСЬ\" + -0.127*\"МОЛИТВА\"\n"
     ]
    },
    {
     "name": "stderr",
     "output_type": "stream",
     "text": [
      "2016-10-11 18:12:37,338 : INFO : topic #3(159.411): 0.416*\"СОВЕРШЕННОЛЕТИЕ\" + 0.272*\"НАСТУПЛЕНИЕ\" + -0.259*\"РАЗВОД\" + 0.258*\"УЧЁНЫЙ\" + -0.194*\"АЛЛАХ\" + -0.193*\"ЖЕНА\" + 0.171*\"ПРИЗНАК\" + 0.157*\"ПОЛОВЫЙ\" + 0.157*\"ВОЗРАСТ\" + 0.151*\"ВОПРОС\"\n"
     ]
    },
    {
     "name": "stderr",
     "output_type": "stream",
     "text": [
      "2016-10-11 18:12:37,341 : INFO : topic #4(136.577): -0.368*\"АЛЛАХ\" + 0.295*\"МОЛИТВА\" + 0.275*\"ИМАМ\" + 0.202*\"МУСУЛЬМАНИН\" + 0.200*\"СОВЕРШАТЬ\" + 0.187*\"НАМАЗ\" + 0.174*\"ЧЕЛОВЕК\" + -0.172*\"БЛАГОСЛОВЕНИЕ\" + -0.158*\"МИР\" + -0.156*\"СОВЕРШЕННОЛЕТИЕ\"\n"
     ]
    },
    {
     "name": "stderr",
     "output_type": "stream",
     "text": [
      "2016-10-11 18:12:37,411 : INFO : preparing a new chunk of documents\n"
     ]
    },
    {
     "name": "stderr",
     "output_type": "stream",
     "text": [
      "2016-10-11 18:12:37,415 : INFO : using 100 extra samples and 2 power iterations\n"
     ]
    },
    {
     "name": "stderr",
     "output_type": "stream",
     "text": [
      "2016-10-11 18:12:37,417 : INFO : 1st phase: constructing (24774L, 200L) action matrix\n"
     ]
    },
    {
     "name": "stderr",
     "output_type": "stream",
     "text": [
      "2016-10-11 18:12:37,421 : INFO : orthonormalizing (24774L, 200L) action matrix\n"
     ]
    },
    {
     "name": "stderr",
     "output_type": "stream",
     "text": [
      "2016-10-11 18:12:38,217 : INFO : 2nd phase: running dense svd on (200L, 20L) matrix\n"
     ]
    },
    {
     "name": "stderr",
     "output_type": "stream",
     "text": [
      "2016-10-11 18:12:38,246 : INFO : computing the final decomposition\n"
     ]
    },
    {
     "name": "stderr",
     "output_type": "stream",
     "text": [
      "2016-10-11 18:12:38,247 : INFO : keeping 20 factors (discarding 0.000% of energy spectrum)\n"
     ]
    },
    {
     "name": "stderr",
     "output_type": "stream",
     "text": [
      "2016-10-11 18:12:38,266 : INFO : merging projections: (24774L, 42L) + (24774L, 20L)\n"
     ]
    },
    {
     "name": "stderr",
     "output_type": "stream",
     "text": [
      "2016-10-11 18:12:38,299 : INFO : keeping 48 factors (discarding 0.077% of energy spectrum)\n"
     ]
    },
    {
     "name": "stderr",
     "output_type": "stream",
     "text": [
      "2016-10-11 18:12:38,322 : INFO : processed documents up to #120\n"
     ]
    },
    {
     "name": "stderr",
     "output_type": "stream",
     "text": [
      "2016-10-11 18:12:38,325 : INFO : topic #0(472.020): 0.521*\"АЛЛАХ\" + 0.229*\"КОТОРЫЙ\" + 0.204*\"ЧЕЛОВЕК\" + 0.201*\"МИР\" + 0.165*\"СВОЙ\" + 0.150*\"КОРАН\" + 0.136*\"ПРОРОК\" + 0.135*\"НАМАЗ\" + 0.135*\"СКАЗАТЬ\" + 0.134*\"БЛАГОСЛОВЕНИЕ\"\n"
     ]
    },
    {
     "name": "stderr",
     "output_type": "stream",
     "text": [
      "2016-10-11 18:12:38,328 : INFO : topic #1(197.141): -0.367*\"ВИТР\" + -0.319*\"НАМАЗ\" + 0.316*\"РАЗВОД\" + 0.277*\"ЖЕНА\" + -0.213*\"МОЛИТВА\" + 0.174*\"МУЖЧИНА\" + -0.155*\"СОВЕРШАТЬ\" + 0.152*\"МУЖ\" + -0.149*\"СУРА\" + 0.141*\"СВОЙ\"\n"
     ]
    },
    {
     "name": "stderr",
     "output_type": "stream",
     "text": [
      "2016-10-11 18:12:38,329 : INFO : topic #2(170.458): -0.334*\"ВИТР\" + -0.319*\"РАЗВОД\" + 0.273*\"ЧЕЛОВЕК\" + -0.259*\"ЖЕНА\" + -0.243*\"НАМАЗ\" + 0.210*\"КОРАН\" + -0.149*\"МАХРА\" + -0.145*\"МУЖ\" + -0.143*\"МУЖЧИНА\" + 0.136*\"АЛЛАХ\"\n"
     ]
    },
    {
     "name": "stderr",
     "output_type": "stream",
     "text": [
      "2016-10-11 18:12:38,332 : INFO : topic #3(162.387): 0.379*\"СОВЕРШЕННОЛЕТИЕ\" + -0.314*\"АЛЛАХ\" + 0.249*\"НАСТУПЛЕНИЕ\" + 0.235*\"УЧЁНЫЙ\" + -0.172*\"ЖЕНА\" + 0.165*\"ВОПРОС\" + -0.165*\"РАЗВОД\" + 0.157*\"ПРИЗНАК\" + 0.157*\"ИСЛАМСКИЙ\" + 0.146*\"ПОЛОВЫЙ\"\n"
     ]
    },
    {
     "name": "stderr",
     "output_type": "stream",
     "text": [
      "2016-10-11 18:12:38,334 : INFO : topic #4(144.550): -0.339*\"МАХРА\" + -0.326*\"АЛЛАХ\" + 0.234*\"РАЗВОД\" + -0.219*\"СОВЕРШЕННОЛЕТИЕ\" + 0.164*\"МОЛИТВА\" + 0.161*\"НАМАЗ\" + -0.157*\"ПОДАРОК\" + 0.147*\"ИМАМ\" + -0.142*\"БЛАГОСЛОВЕНИЕ\" + -0.141*\"НАСТУПЛЕНИЕ\"\n"
     ]
    },
    {
     "name": "stderr",
     "output_type": "stream",
     "text": [
      "2016-10-11 18:12:38,398 : INFO : preparing a new chunk of documents\n"
     ]
    },
    {
     "name": "stderr",
     "output_type": "stream",
     "text": [
      "2016-10-11 18:12:38,401 : INFO : using 100 extra samples and 2 power iterations\n"
     ]
    },
    {
     "name": "stderr",
     "output_type": "stream",
     "text": [
      "2016-10-11 18:12:38,403 : INFO : 1st phase: constructing (24774L, 200L) action matrix\n"
     ]
    },
    {
     "name": "stderr",
     "output_type": "stream",
     "text": [
      "2016-10-11 18:12:38,407 : INFO : orthonormalizing (24774L, 200L) action matrix\n"
     ]
    },
    {
     "name": "stderr",
     "output_type": "stream",
     "text": [
      "2016-10-11 18:12:39,200 : INFO : 2nd phase: running dense svd on (200L, 20L) matrix\n"
     ]
    },
    {
     "name": "stderr",
     "output_type": "stream",
     "text": [
      "2016-10-11 18:12:39,230 : INFO : computing the final decomposition\n"
     ]
    },
    {
     "name": "stderr",
     "output_type": "stream",
     "text": [
      "2016-10-11 18:12:39,232 : INFO : keeping 20 factors (discarding 0.000% of energy spectrum)\n"
     ]
    },
    {
     "name": "stderr",
     "output_type": "stream",
     "text": [
      "2016-10-11 18:12:39,253 : INFO : merging projections: (24774L, 48L) + (24774L, 20L)\n"
     ]
    },
    {
     "name": "stderr",
     "output_type": "stream",
     "text": [
      "2016-10-11 18:12:39,292 : INFO : keeping 55 factors (discarding 0.066% of energy spectrum)\n"
     ]
    },
    {
     "name": "stderr",
     "output_type": "stream",
     "text": [
      "2016-10-11 18:12:39,322 : INFO : processed documents up to #140\n"
     ]
    },
    {
     "name": "stderr",
     "output_type": "stream",
     "text": [
      "2016-10-11 18:12:39,325 : INFO : topic #0(504.671): 0.541*\"АЛЛАХ\" + 0.233*\"КОТОРЫЙ\" + 0.200*\"ЧЕЛОВЕК\" + 0.191*\"МИР\" + 0.163*\"СВОЙ\" + 0.153*\"СКАЗАТЬ\" + 0.144*\"КОРАН\" + 0.136*\"ПРОРОК\" + 0.126*\"БЛАГОСЛОВЕНИЕ\" + 0.125*\"НАМАЗ\"\n"
     ]
    },
    {
     "name": "stderr",
     "output_type": "stream",
     "text": [
      "2016-10-11 18:12:39,326 : INFO : topic #1(198.355): -0.351*\"ВИТР\" + 0.310*\"РАЗВОД\" + -0.290*\"НАМАЗ\" + 0.265*\"ЖЕНА\" + -0.196*\"МОЛИТВА\" + -0.176*\"АЛЛАХ\" + 0.173*\"МУЖЧИНА\" + -0.153*\"СУРА\" + 0.145*\"МУЖ\" + -0.144*\"СОВЕРШАТЬ\"\n"
     ]
    },
    {
     "name": "stderr",
     "output_type": "stream",
     "text": [
      "2016-10-11 18:12:39,328 : INFO : topic #2(176.857): -0.454*\"АЛЛАХ\" + 0.291*\"НАМАЗ\" + 0.261*\"ВИТР\" + 0.176*\"СОВЕРШЕННОЛЕТИЕ\" + 0.166*\"МОЛИТВА\" + 0.139*\"УЧЁНЫЙ\" + 0.134*\"ВОПРОС\" + 0.125*\"ОТВЕТИТЬ\" + 0.125*\"НАСТУПЛЕНИЕ\" + -0.120*\"ЧЕЛОВЕК\"\n"
     ]
    },
    {
     "name": "stderr",
     "output_type": "stream",
     "text": [
      "2016-10-11 18:12:39,332 : INFO : topic #3(171.372): -0.343*\"РАЗВОД\" + -0.322*\"ЖЕНА\" + -0.238*\"ВИТР\" + 0.230*\"ЧЕЛОВЕК\" + -0.200*\"АЛЛАХ\" + -0.194*\"МАХРА\" + -0.187*\"МУЖ\" + 0.160*\"КОРАН\" + -0.139*\"РАЗВЕСТИСЬ\" + -0.123*\"МУЖЧИНА\"\n"
     ]
    },
    {
     "name": "stderr",
     "output_type": "stream",
     "text": [
      "2016-10-11 18:12:39,334 : INFO : topic #4(150.832): -0.415*\"СОВЕРШЕННОЛЕТИЕ\" + -0.270*\"НАСТУПЛЕНИЕ\" + -0.238*\"УЧЁНЫЙ\" + -0.232*\"АЛЛАХ\" + 0.183*\"РАЗВОД\" + -0.165*\"ПРИЗНАК\" + -0.160*\"ПОЛОВЫЙ\" + -0.155*\"ВОЗРАСТ\" + 0.131*\"СВОЙ\" + -0.129*\"ДЕВУШКА\"\n"
     ]
    },
    {
     "name": "stderr",
     "output_type": "stream",
     "text": [
      "2016-10-11 18:12:39,461 : INFO : preparing a new chunk of documents\n"
     ]
    },
    {
     "name": "stderr",
     "output_type": "stream",
     "text": [
      "2016-10-11 18:12:39,467 : INFO : using 100 extra samples and 2 power iterations\n"
     ]
    },
    {
     "name": "stderr",
     "output_type": "stream",
     "text": [
      "2016-10-11 18:12:39,467 : INFO : 1st phase: constructing (24774L, 200L) action matrix\n"
     ]
    },
    {
     "name": "stderr",
     "output_type": "stream",
     "text": [
      "2016-10-11 18:12:39,474 : INFO : orthonormalizing (24774L, 200L) action matrix\n"
     ]
    },
    {
     "name": "stderr",
     "output_type": "stream",
     "text": [
      "2016-10-11 18:12:40,288 : INFO : 2nd phase: running dense svd on (200L, 20L) matrix\n"
     ]
    },
    {
     "name": "stderr",
     "output_type": "stream",
     "text": [
      "2016-10-11 18:12:40,319 : INFO : computing the final decomposition\n"
     ]
    },
    {
     "name": "stderr",
     "output_type": "stream",
     "text": [
      "2016-10-11 18:12:40,319 : INFO : keeping 20 factors (discarding 0.000% of energy spectrum)\n"
     ]
    },
    {
     "name": "stderr",
     "output_type": "stream",
     "text": [
      "2016-10-11 18:12:40,341 : INFO : merging projections: (24774L, 55L) + (24774L, 20L)\n"
     ]
    },
    {
     "name": "stderr",
     "output_type": "stream",
     "text": [
      "2016-10-11 18:12:40,398 : INFO : keeping 57 factors (discarding 0.071% of energy spectrum)\n"
     ]
    },
    {
     "name": "stderr",
     "output_type": "stream",
     "text": [
      "2016-10-11 18:12:40,430 : INFO : processed documents up to #160\n"
     ]
    },
    {
     "name": "stderr",
     "output_type": "stream",
     "text": [
      "2016-10-11 18:12:40,431 : INFO : topic #0(633.393): 0.366*\"ИДДА\" + 0.315*\"АЛЛАХ\" + 0.271*\"ЖЕНЩИНА\" + 0.268*\"МУЖ\" + 0.238*\"КОТОРЫЙ\" + 0.229*\"РАЗВОД\" + 0.175*\"ЖЕНА\" + 0.147*\"СРОК\" + 0.136*\"СКАЗАТЬ\" + 0.121*\"ДОЛЖНЫЙ\"\n"
     ]
    },
    {
     "name": "stderr",
     "output_type": "stream",
     "text": [
      "2016-10-11 18:12:40,434 : INFO : topic #1(422.339): 0.458*\"АЛЛАХ\" + -0.405*\"ИДДА\" + -0.250*\"МУЖ\" + -0.230*\"ЖЕНЩИНА\" + 0.179*\"ЧЕЛОВЕК\" + 0.179*\"МИР\" + -0.163*\"РАЗВОД\" + -0.148*\"СРОК\" + 0.127*\"КОРАН\" + 0.126*\"ПРОРОК\"\n"
     ]
    },
    {
     "name": "stderr",
     "output_type": "stream",
     "text": [
      "2016-10-11 18:12:40,436 : INFO : topic #2(190.020): -0.440*\"ВИТР\" + -0.329*\"НАМАЗ\" + -0.213*\"МОЛИТВА\" + -0.180*\"СУРА\" + -0.174*\"АЛЛАХ\" + -0.160*\"РАКААТ\" + -0.160*\"РАКААТА\" + 0.158*\"ЧЕЛОВЕК\" + -0.151*\"СОВЕРШАТЬ\" + 0.145*\"СВОЙ\"\n"
     ]
    },
    {
     "name": "stderr",
     "output_type": "stream",
     "text": [
      "2016-10-11 18:12:40,437 : INFO : topic #3(179.089): -0.500*\"АЛЛАХ\" + 0.255*\"НАМАЗ\" + 0.185*\"ВИТР\" + 0.159*\"ВОПРОС\" + 0.155*\"СОВЕРШЕННОЛЕТИЕ\" + 0.150*\"МОЛИТВА\" + 0.125*\"УЧЁНЫЙ\" + 0.120*\"ИСЛАМСКИЙ\" + 0.119*\"РАМАДАН\" + 0.115*\"ОТВЕТИТЬ\"\n"
     ]
    },
    {
     "name": "stderr",
     "output_type": "stream",
     "text": [
      "2016-10-11 18:12:40,440 : INFO : topic #4(156.967): -0.317*\"МАХРА\" + -0.302*\"ЖЕНА\" + -0.273*\"РАЗВОД\" + 0.244*\"ИДДА\" + 0.222*\"ЧЕЛОВЕК\" + -0.220*\"МУЖЧИНА\" + 0.213*\"КОРАН\" + -0.155*\"СОВЕРШЕННОЛЕТИЕ\" + -0.148*\"РАЗВЕСТИСЬ\" + -0.145*\"ПОДАРОК\"\n"
     ]
    },
    {
     "name": "stderr",
     "output_type": "stream",
     "text": [
      "2016-10-11 18:12:40,500 : INFO : preparing a new chunk of documents\n"
     ]
    },
    {
     "name": "stderr",
     "output_type": "stream",
     "text": [
      "2016-10-11 18:12:40,503 : INFO : using 100 extra samples and 2 power iterations\n"
     ]
    },
    {
     "name": "stderr",
     "output_type": "stream",
     "text": [
      "2016-10-11 18:12:40,505 : INFO : 1st phase: constructing (24774L, 200L) action matrix\n"
     ]
    },
    {
     "name": "stderr",
     "output_type": "stream",
     "text": [
      "2016-10-11 18:12:40,509 : INFO : orthonormalizing (24774L, 200L) action matrix\n"
     ]
    },
    {
     "name": "stderr",
     "output_type": "stream",
     "text": [
      "2016-10-11 18:12:41,338 : INFO : 2nd phase: running dense svd on (200L, 20L) matrix\n"
     ]
    },
    {
     "name": "stderr",
     "output_type": "stream",
     "text": [
      "2016-10-11 18:12:41,368 : INFO : computing the final decomposition\n"
     ]
    },
    {
     "name": "stderr",
     "output_type": "stream",
     "text": [
      "2016-10-11 18:12:41,369 : INFO : keeping 20 factors (discarding 0.000% of energy spectrum)\n"
     ]
    },
    {
     "name": "stderr",
     "output_type": "stream",
     "text": [
      "2016-10-11 18:12:41,391 : INFO : merging projections: (24774L, 57L) + (24774L, 20L)\n"
     ]
    },
    {
     "name": "stderr",
     "output_type": "stream",
     "text": [
      "2016-10-11 18:12:41,437 : INFO : keeping 64 factors (discarding 0.099% of energy spectrum)\n"
     ]
    },
    {
     "name": "stderr",
     "output_type": "stream",
     "text": [
      "2016-10-11 18:12:41,486 : INFO : processed documents up to #180\n"
     ]
    },
    {
     "name": "stderr",
     "output_type": "stream",
     "text": [
      "2016-10-11 18:12:41,487 : INFO : topic #0(653.891): 0.369*\"ИДДА\" + 0.304*\"АЛЛАХ\" + 0.273*\"ЖЕНЩИНА\" + 0.269*\"МУЖ\" + 0.239*\"КОТОРЫЙ\" + 0.228*\"РАЗВОД\" + 0.173*\"ЖЕНА\" + 0.149*\"СРОК\" + 0.134*\"СКАЗАТЬ\" + 0.123*\"ДОЛЖНЫЙ\"\n"
     ]
    },
    {
     "name": "stderr",
     "output_type": "stream",
     "text": [
      "2016-10-11 18:12:41,490 : INFO : topic #1(433.675): 0.448*\"АЛЛАХ\" + -0.404*\"ИДДА\" + -0.250*\"МУЖ\" + -0.229*\"ЖЕНЩИНА\" + 0.182*\"ЧЕЛОВЕК\" + 0.176*\"МИР\" + -0.162*\"РАЗВОД\" + -0.147*\"СРОК\" + 0.127*\"КОРАН\" + 0.127*\"ПРОРОК\"\n"
     ]
    },
    {
     "name": "stderr",
     "output_type": "stream",
     "text": [
      "2016-10-11 18:12:41,492 : INFO : topic #2(196.820): -0.383*\"АЛЛАХ\" + -0.319*\"ВИТР\" + -0.203*\"НАМАЗ\" + 0.173*\"ЗАЛОГ\" + -0.155*\"СУРА\" + -0.145*\"МОЛИТВА\" + 0.123*\"КОТОРЫЙ\" + 0.122*\"ЧЕЛОВЕК\" + 0.120*\"ИСЛАМСКИЙ\" + -0.117*\"БЛАГОСЛОВЕНИЕ\"\n"
     ]
    },
    {
     "name": "stderr",
     "output_type": "stream",
     "text": [
      "2016-10-11 18:12:41,493 : INFO : topic #3(183.186): -0.394*\"АЛЛАХ\" + 0.364*\"НАМАЗ\" + 0.352*\"ВИТР\" + 0.218*\"МОЛИТВА\" + 0.147*\"СОВЕРШАТЬ\" + 0.128*\"ВОПРОС\" + 0.128*\"РАКААТ\" + 0.127*\"РАКААТА\" + -0.126*\"ЖЕНА\" + 0.126*\"ОТВЕТИТЬ\"\n"
     ]
    },
    {
     "name": "stderr",
     "output_type": "stream",
     "text": [
      "2016-10-11 18:12:41,496 : INFO : topic #4(157.645): -0.320*\"МАХРА\" + -0.293*\"ЖЕНА\" + -0.257*\"РАЗВОД\" + 0.228*\"ИДДА\" + 0.215*\"ЧЕЛОВЕК\" + -0.200*\"ЗАЛОГ\" + 0.198*\"КОРАН\" + -0.190*\"МУЖЧИНА\" + -0.146*\"ПОДАРОК\" + -0.145*\"ШАРИАТ\"\n"
     ]
    },
    {
     "name": "stderr",
     "output_type": "stream",
     "text": [
      "2016-10-11 18:12:41,569 : INFO : preparing a new chunk of documents\n"
     ]
    },
    {
     "name": "stderr",
     "output_type": "stream",
     "text": [
      "2016-10-11 18:12:41,572 : INFO : using 100 extra samples and 2 power iterations\n"
     ]
    },
    {
     "name": "stderr",
     "output_type": "stream",
     "text": [
      "2016-10-11 18:12:41,573 : INFO : 1st phase: constructing (24774L, 200L) action matrix\n"
     ]
    },
    {
     "name": "stderr",
     "output_type": "stream",
     "text": [
      "2016-10-11 18:12:41,578 : INFO : orthonormalizing (24774L, 200L) action matrix\n"
     ]
    },
    {
     "name": "stderr",
     "output_type": "stream",
     "text": [
      "2016-10-11 18:12:42,407 : INFO : 2nd phase: running dense svd on (200L, 20L) matrix\n"
     ]
    },
    {
     "name": "stderr",
     "output_type": "stream",
     "text": [
      "2016-10-11 18:12:42,437 : INFO : computing the final decomposition\n"
     ]
    },
    {
     "name": "stderr",
     "output_type": "stream",
     "text": [
      "2016-10-11 18:12:42,437 : INFO : keeping 20 factors (discarding 0.000% of energy spectrum)\n"
     ]
    },
    {
     "name": "stderr",
     "output_type": "stream",
     "text": [
      "2016-10-11 18:12:42,460 : INFO : merging projections: (24774L, 64L) + (24774L, 20L)\n"
     ]
    },
    {
     "name": "stderr",
     "output_type": "stream",
     "text": [
      "2016-10-11 18:12:42,530 : INFO : keeping 71 factors (discarding 0.068% of energy spectrum)\n"
     ]
    },
    {
     "name": "stderr",
     "output_type": "stream",
     "text": [
      "2016-10-11 18:12:42,572 : INFO : processed documents up to #200\n"
     ]
    },
    {
     "name": "stderr",
     "output_type": "stream",
     "text": [
      "2016-10-11 18:12:42,575 : INFO : topic #0(663.042): 0.351*\"ИДДА\" + 0.319*\"АЛЛАХ\" + 0.261*\"ЖЕНЩИНА\" + 0.257*\"МУЖ\" + 0.241*\"КОТОРЫЙ\" + 0.219*\"РАЗВОД\" + 0.166*\"ЖЕНА\" + 0.142*\"СРОК\" + 0.134*\"СКАЗАТЬ\" + 0.123*\"СВОЙ\"\n"
     ]
    },
    {
     "name": "stderr",
     "output_type": "stream",
     "text": [
      "2016-10-11 18:12:42,576 : INFO : topic #1(445.364): 0.422*\"АЛЛАХ\" + -0.420*\"ИДДА\" + -0.264*\"МУЖ\" + -0.244*\"ЖЕНЩИНА\" + -0.174*\"РАЗВОД\" + 0.172*\"МИР\" + 0.170*\"ЧЕЛОВЕК\" + -0.153*\"СРОК\" + 0.126*\"ПРОРОК\" + 0.123*\"КОРАН\"\n"
     ]
    },
    {
     "name": "stderr",
     "output_type": "stream",
     "text": [
      "2016-10-11 18:12:42,579 : INFO : topic #2(203.757): -0.459*\"АЛЛАХ\" + -0.255*\"ВИТР\" + 0.154*\"ИСЛАМСКИЙ\" + 0.154*\"ЗАЛОГ\" + -0.149*\"НАМАЗ\" + -0.141*\"СУРА\" + 0.136*\"ОБЩЕСТВО\" + 0.121*\"САЙТ\" + 0.120*\"ВОПРОС\" + -0.118*\"БЛАГОСЛОВЕНИЕ\"\n"
     ]
    },
    {
     "name": "stderr",
     "output_type": "stream",
     "text": [
      "2016-10-11 18:12:42,582 : INFO : topic #3(185.095): 0.396*\"ВИТР\" + 0.390*\"НАМАЗ\" + -0.324*\"АЛЛАХ\" + 0.236*\"МОЛИТВА\" + 0.157*\"СОВЕРШАТЬ\" + 0.144*\"РАКААТ\" + 0.143*\"РАКААТА\" + 0.130*\"ОТВЕТИТЬ\" + -0.129*\"ЧЕЛОВЕК\" + -0.126*\"ЖЕНА\"\n"
     ]
    },
    {
     "name": "stderr",
     "output_type": "stream",
     "text": [
      "2016-10-11 18:12:42,585 : INFO : topic #4(158.176): -0.316*\"МАХРА\" + -0.280*\"ЖЕНА\" + -0.239*\"РАЗВОД\" + -0.225*\"ЗАЛОГ\" + 0.224*\"ИДДА\" + 0.218*\"ЧЕЛОВЕК\" + 0.191*\"КОРАН\" + -0.188*\"МУЖЧИНА\" + -0.147*\"ШАРИАТ\" + -0.144*\"ПОДАРОК\"\n"
     ]
    },
    {
     "name": "stderr",
     "output_type": "stream",
     "text": [
      "2016-10-11 18:12:42,641 : INFO : preparing a new chunk of documents\n"
     ]
    },
    {
     "name": "stderr",
     "output_type": "stream",
     "text": [
      "2016-10-11 18:12:42,645 : INFO : using 100 extra samples and 2 power iterations\n"
     ]
    },
    {
     "name": "stderr",
     "output_type": "stream",
     "text": [
      "2016-10-11 18:12:42,647 : INFO : 1st phase: constructing (24774L, 200L) action matrix\n"
     ]
    },
    {
     "name": "stderr",
     "output_type": "stream",
     "text": [
      "2016-10-11 18:12:42,651 : INFO : orthonormalizing (24774L, 200L) action matrix\n"
     ]
    },
    {
     "name": "stderr",
     "output_type": "stream",
     "text": [
      "2016-10-11 18:12:43,555 : INFO : 2nd phase: running dense svd on (200L, 20L) matrix\n"
     ]
    },
    {
     "name": "stderr",
     "output_type": "stream",
     "text": [
      "2016-10-11 18:12:43,585 : INFO : computing the final decomposition\n"
     ]
    },
    {
     "name": "stderr",
     "output_type": "stream",
     "text": [
      "2016-10-11 18:12:43,586 : INFO : keeping 20 factors (discarding 0.000% of energy spectrum)\n"
     ]
    },
    {
     "name": "stderr",
     "output_type": "stream",
     "text": [
      "2016-10-11 18:12:43,609 : INFO : merging projections: (24774L, 71L) + (24774L, 20L)\n"
     ]
    },
    {
     "name": "stderr",
     "output_type": "stream",
     "text": [
      "2016-10-11 18:12:43,658 : INFO : keeping 79 factors (discarding 0.053% of energy spectrum)\n"
     ]
    },
    {
     "name": "stderr",
     "output_type": "stream",
     "text": [
      "2016-10-11 18:12:43,700 : INFO : processed documents up to #220\n"
     ]
    },
    {
     "name": "stderr",
     "output_type": "stream",
     "text": [
      "2016-10-11 18:12:43,703 : INFO : topic #0(674.999): 0.337*\"АЛЛАХ\" + 0.331*\"ИДДА\" + 0.254*\"МУЖ\" + 0.252*\"ЖЕНЩИНА\" + 0.238*\"КОТОРЫЙ\" + 0.210*\"РАЗВОД\" + 0.169*\"ЖЕНА\" + 0.139*\"СКАЗАТЬ\" + 0.135*\"СРОК\" + 0.128*\"СВОЙ\"\n"
     ]
    },
    {
     "name": "stderr",
     "output_type": "stream",
     "text": [
      "2016-10-11 18:12:43,704 : INFO : topic #1(452.246): -0.434*\"ИДДА\" + 0.417*\"АЛЛАХ\" + -0.268*\"МУЖ\" + -0.253*\"ЖЕНЩИНА\" + -0.184*\"РАЗВОД\" + 0.167*\"МИР\" + -0.160*\"СРОК\" + 0.158*\"ЧЕЛОВЕК\" + 0.126*\"ПРОРОК\" + -0.119*\"ЖЕНА\"\n"
     ]
    },
    {
     "name": "stderr",
     "output_type": "stream",
     "text": [
      "2016-10-11 18:12:43,707 : INFO : topic #2(207.254): -0.494*\"АЛЛАХ\" + -0.210*\"ВИТР\" + 0.167*\"ИСЛАМСКИЙ\" + 0.152*\"ЗАЛОГ\" + 0.139*\"ОБЩЕСТВО\" + 0.131*\"САЙТ\" + 0.127*\"ВОПРОС\" + -0.123*\"СУРА\" + 0.121*\"ИСТОРИЯ\" + -0.117*\"СКАЗАТЬ\"\n"
     ]
    },
    {
     "name": "stderr",
     "output_type": "stream",
     "text": [
      "2016-10-11 18:12:43,709 : INFO : topic #3(186.602): 0.420*\"ВИТР\" + 0.405*\"НАМАЗ\" + -0.274*\"АЛЛАХ\" + 0.244*\"МОЛИТВА\" + 0.168*\"СОВЕРШАТЬ\" + 0.152*\"РАКААТ\" + 0.152*\"РАКААТА\" + -0.144*\"ЖЕНА\" + -0.139*\"СВОЙ\" + 0.131*\"ОТВЕТИТЬ\"\n"
     ]
    },
    {
     "name": "stderr",
     "output_type": "stream",
     "text": [
      "2016-10-11 18:12:43,710 : INFO : topic #4(161.545): -0.336*\"ЖЕНА\" + -0.302*\"МАХРА\" + 0.263*\"ЧЕЛОВЕК\" + 0.249*\"ИДДА\" + -0.209*\"РАЗВОД\" + 0.204*\"КОРАН\" + -0.186*\"МУЖЧИНА\" + -0.138*\"ПОДАРОК\" + -0.133*\"ШАРИАТ\" + 0.125*\"КОТОРЫЙ\"\n"
     ]
    },
    {
     "name": "stderr",
     "output_type": "stream",
     "text": [
      "2016-10-11 18:12:43,786 : INFO : preparing a new chunk of documents\n"
     ]
    },
    {
     "name": "stderr",
     "output_type": "stream",
     "text": [
      "2016-10-11 18:12:43,790 : INFO : using 100 extra samples and 2 power iterations\n"
     ]
    },
    {
     "name": "stderr",
     "output_type": "stream",
     "text": [
      "2016-10-11 18:12:43,792 : INFO : 1st phase: constructing (24774L, 200L) action matrix\n"
     ]
    },
    {
     "name": "stderr",
     "output_type": "stream",
     "text": [
      "2016-10-11 18:12:43,796 : INFO : orthonormalizing (24774L, 200L) action matrix\n"
     ]
    },
    {
     "name": "stderr",
     "output_type": "stream",
     "text": [
      "2016-10-11 18:12:44,681 : INFO : 2nd phase: running dense svd on (200L, 20L) matrix\n"
     ]
    },
    {
     "name": "stderr",
     "output_type": "stream",
     "text": [
      "2016-10-11 18:12:44,711 : INFO : computing the final decomposition\n"
     ]
    },
    {
     "name": "stderr",
     "output_type": "stream",
     "text": [
      "2016-10-11 18:12:44,713 : INFO : keeping 20 factors (discarding 0.000% of energy spectrum)\n"
     ]
    },
    {
     "name": "stderr",
     "output_type": "stream",
     "text": [
      "2016-10-11 18:12:44,737 : INFO : merging projections: (24774L, 79L) + (24774L, 20L)\n"
     ]
    },
    {
     "name": "stderr",
     "output_type": "stream",
     "text": [
      "2016-10-11 18:12:44,786 : INFO : keeping 84 factors (discarding 0.064% of energy spectrum)\n"
     ]
    },
    {
     "name": "stderr",
     "output_type": "stream",
     "text": [
      "2016-10-11 18:12:44,836 : INFO : processed documents up to #240\n"
     ]
    },
    {
     "name": "stderr",
     "output_type": "stream",
     "text": [
      "2016-10-11 18:12:44,838 : INFO : topic #0(698.759): 0.331*\"АЛЛАХ\" + 0.299*\"ИДДА\" + 0.246*\"КОТОРЫЙ\" + 0.245*\"ЖЕНЩИНА\" + 0.242*\"МУЖ\" + 0.198*\"РАЗВОД\" + 0.161*\"ЖЕНА\" + 0.156*\"СКАЗАТЬ\" + 0.130*\"ЧЕЛОВЕК\" + 0.128*\"СВОЙ\"\n"
     ]
    },
    {
     "name": "stderr",
     "output_type": "stream",
     "text": [
      "2016-10-11 18:12:44,842 : INFO : topic #1(458.377): -0.457*\"ИДДА\" + 0.379*\"АЛЛАХ\" + -0.280*\"МУЖ\" + -0.262*\"ЖЕНЩИНА\" + -0.196*\"РАЗВОД\" + -0.169*\"СРОК\" + 0.158*\"ЧЕЛОВЕК\" + 0.157*\"МИР\" + -0.129*\"ЖЕНА\" + 0.119*\"ПРОРОК\"\n"
     ]
    },
    {
     "name": "stderr",
     "output_type": "stream",
     "text": [
      "2016-10-11 18:12:44,844 : INFO : topic #2(277.064): 0.320*\"ОПЕКУН\" + 0.301*\"ДОГОВОР\" + -0.288*\"АЛЛАХ\" + 0.237*\"НЕВЕСТА\" + 0.227*\"БРАЧНЫЙ\" + 0.184*\"ОТЕЦ\" + 0.166*\"МАХРА\" + 0.156*\"ЖЕНИХ\" + 0.155*\"ВЫДАВАТЬ\" + 0.145*\"ФОРМУЛИРОВКА\"\n"
     ]
    },
    {
     "name": "stderr",
     "output_type": "stream",
     "text": [
      "2016-10-11 18:12:44,845 : INFO : topic #3(206.848): -0.481*\"АЛЛАХ\" + -0.166*\"СКАЗАТЬ\" + -0.165*\"ВИТР\" + 0.163*\"ИСЛАМСКИЙ\" + 0.142*\"ОБЩЕСТВО\" + 0.134*\"ЗАЛОГ\" + 0.133*\"САЙТ\" + 0.130*\"ВОПРОС\" + 0.125*\"ИСТОРИЯ\" + 0.121*\"НАШ\"\n"
     ]
    },
    {
     "name": "stderr",
     "output_type": "stream",
     "text": [
      "2016-10-11 18:12:44,848 : INFO : topic #4(187.836): -0.433*\"ВИТР\" + -0.408*\"НАМАЗ\" + -0.276*\"МОЛИТВА\" + 0.239*\"АЛЛАХ\" + -0.173*\"СОВЕРШАТЬ\" + -0.157*\"РАКААТ\" + -0.157*\"РАКААТА\" + 0.150*\"ЧЕЛОВЕК\" + 0.149*\"СВОЙ\" + -0.140*\"СОВЕРШИТЬ\"\n"
     ]
    },
    {
     "name": "stderr",
     "output_type": "stream",
     "text": [
      "2016-10-11 18:12:44,923 : INFO : preparing a new chunk of documents\n"
     ]
    },
    {
     "name": "stderr",
     "output_type": "stream",
     "text": [
      "2016-10-11 18:12:44,927 : INFO : using 100 extra samples and 2 power iterations\n"
     ]
    },
    {
     "name": "stderr",
     "output_type": "stream",
     "text": [
      "2016-10-11 18:12:44,927 : INFO : 1st phase: constructing (24774L, 200L) action matrix\n"
     ]
    },
    {
     "name": "stderr",
     "output_type": "stream",
     "text": [
      "2016-10-11 18:12:44,933 : INFO : orthonormalizing (24774L, 200L) action matrix\n"
     ]
    },
    {
     "name": "stderr",
     "output_type": "stream",
     "text": [
      "2016-10-11 18:12:45,845 : INFO : 2nd phase: running dense svd on (200L, 20L) matrix\n"
     ]
    },
    {
     "name": "stderr",
     "output_type": "stream",
     "text": [
      "2016-10-11 18:12:45,874 : INFO : computing the final decomposition\n"
     ]
    },
    {
     "name": "stderr",
     "output_type": "stream",
     "text": [
      "2016-10-11 18:12:45,875 : INFO : keeping 20 factors (discarding 0.000% of energy spectrum)\n"
     ]
    },
    {
     "name": "stderr",
     "output_type": "stream",
     "text": [
      "2016-10-11 18:12:45,898 : INFO : merging projections: (24774L, 84L) + (24774L, 20L)\n"
     ]
    },
    {
     "name": "stderr",
     "output_type": "stream",
     "text": [
      "2016-10-11 18:12:45,953 : INFO : keeping 89 factors (discarding 0.087% of energy spectrum)\n"
     ]
    },
    {
     "name": "stderr",
     "output_type": "stream",
     "text": [
      "2016-10-11 18:12:46,003 : INFO : processed documents up to #260\n"
     ]
    },
    {
     "name": "stderr",
     "output_type": "stream",
     "text": [
      "2016-10-11 18:12:46,005 : INFO : topic #0(708.716): 0.344*\"АЛЛАХ\" + 0.284*\"ИДДА\" + 0.250*\"КОТОРЫЙ\" + 0.235*\"ЖЕНЩИНА\" + 0.230*\"МУЖ\" + 0.191*\"РАЗВОД\" + 0.158*\"СКАЗАТЬ\" + 0.154*\"ЖЕНА\" + 0.136*\"ЧЕЛОВЕК\" + 0.132*\"СВОЙ\"\n"
     ]
    },
    {
     "name": "stderr",
     "output_type": "stream",
     "text": [
      "2016-10-11 18:12:46,006 : INFO : topic #1(466.706): -0.465*\"ИДДА\" + 0.365*\"АЛЛАХ\" + -0.290*\"МУЖ\" + -0.272*\"ЖЕНЩИНА\" + -0.204*\"РАЗВОД\" + -0.172*\"СРОК\" + 0.153*\"ЧЕЛОВЕК\" + 0.152*\"МИР\" + -0.138*\"ЖЕНА\" + -0.121*\"ПЕРИОД\"\n"
     ]
    },
    {
     "name": "stderr",
     "output_type": "stream",
     "text": [
      "2016-10-11 18:12:46,009 : INFO : topic #2(277.735): 0.319*\"ОПЕКУН\" + 0.300*\"ДОГОВОР\" + -0.294*\"АЛЛАХ\" + 0.236*\"НЕВЕСТА\" + 0.226*\"БРАЧНЫЙ\" + 0.183*\"ОТЕЦ\" + 0.166*\"МАХРА\" + 0.155*\"ЖЕНИХ\" + 0.155*\"ВЫДАВАТЬ\" + -0.148*\"ИДДА\"\n"
     ]
    },
    {
     "name": "stderr",
     "output_type": "stream",
     "text": [
      "2016-10-11 18:12:46,012 : INFO : topic #3(214.267): -0.489*\"АЛЛАХ\" + 0.176*\"ИСЛАМСКИЙ\" + -0.169*\"СКАЗАТЬ\" + -0.144*\"ВИТР\" + 0.133*\"ОБЩЕСТВО\" + 0.131*\"САЙТ\" + 0.125*\"ИСТОРИЯ\" + 0.124*\"ВОПРОС\" + 0.119*\"НАШ\" + -0.114*\"БЛАГОСЛОВЕНИЕ\"\n"
     ]
    },
    {
     "name": "stderr",
     "output_type": "stream",
     "text": [
      "2016-10-11 18:12:46,013 : INFO : topic #4(188.824): -0.438*\"ВИТР\" + -0.410*\"НАМАЗ\" + -0.277*\"МОЛИТВА\" + 0.217*\"АЛЛАХ\" + -0.173*\"СОВЕРШАТЬ\" + 0.162*\"ЧЕЛОВЕК\" + -0.159*\"РАКААТ\" + -0.159*\"РАКААТА\" + 0.155*\"СВОЙ\" + -0.137*\"СОВЕРШИТЬ\"\n"
     ]
    },
    {
     "name": "stderr",
     "output_type": "stream",
     "text": [
      "2016-10-11 18:12:46,108 : INFO : preparing a new chunk of documents\n"
     ]
    },
    {
     "name": "stderr",
     "output_type": "stream",
     "text": [
      "2016-10-11 18:12:46,112 : INFO : using 100 extra samples and 2 power iterations\n"
     ]
    },
    {
     "name": "stderr",
     "output_type": "stream",
     "text": [
      "2016-10-11 18:12:46,114 : INFO : 1st phase: constructing (24774L, 200L) action matrix\n"
     ]
    },
    {
     "name": "stderr",
     "output_type": "stream",
     "text": [
      "2016-10-11 18:12:46,121 : INFO : orthonormalizing (24774L, 200L) action matrix\n"
     ]
    },
    {
     "name": "stderr",
     "output_type": "stream",
     "text": [
      "2016-10-11 18:12:47,079 : INFO : 2nd phase: running dense svd on (200L, 20L) matrix\n"
     ]
    },
    {
     "name": "stderr",
     "output_type": "stream",
     "text": [
      "2016-10-11 18:12:47,108 : INFO : computing the final decomposition\n"
     ]
    },
    {
     "name": "stderr",
     "output_type": "stream",
     "text": [
      "2016-10-11 18:12:47,111 : INFO : keeping 20 factors (discarding 0.000% of energy spectrum)\n"
     ]
    },
    {
     "name": "stderr",
     "output_type": "stream",
     "text": [
      "2016-10-11 18:12:47,131 : INFO : merging projections: (24774L, 89L) + (24774L, 20L)\n"
     ]
    },
    {
     "name": "stderr",
     "output_type": "stream",
     "text": [
      "2016-10-11 18:12:47,191 : INFO : keeping 96 factors (discarding 0.076% of energy spectrum)\n"
     ]
    },
    {
     "name": "stderr",
     "output_type": "stream",
     "text": [
      "2016-10-11 18:12:47,246 : INFO : processed documents up to #280\n"
     ]
    },
    {
     "name": "stderr",
     "output_type": "stream",
     "text": [
      "2016-10-11 18:12:47,250 : INFO : topic #0(733.590): 0.370*\"АЛЛАХ\" + 0.258*\"КОТОРЫЙ\" + 0.250*\"ИДДА\" + 0.214*\"ЖЕНЩИНА\" + 0.206*\"МУЖ\" + 0.173*\"РАЗВОД\" + 0.157*\"СКАЗАТЬ\" + 0.149*\"ЧЕЛОВЕК\" + 0.140*\"ЖЕНА\" + 0.139*\"СВОЙ\"\n"
     ]
    },
    {
     "name": "stderr",
     "output_type": "stream",
     "text": [
      "2016-10-11 18:12:47,252 : INFO : topic #1(482.050): -0.480*\"ИДДА\" + 0.338*\"АЛЛАХ\" + -0.309*\"МУЖ\" + -0.289*\"ЖЕНЩИНА\" + -0.220*\"РАЗВОД\" + -0.180*\"СРОК\" + -0.153*\"ЖЕНА\" + 0.146*\"ЧЕЛОВЕК\" + 0.146*\"МИР\" + -0.126*\"ПЕРИОД\"\n"
     ]
    },
    {
     "name": "stderr",
     "output_type": "stream",
     "text": [
      "2016-10-11 18:12:47,255 : INFO : topic #2(278.995): 0.318*\"ОПЕКУН\" + 0.300*\"ДОГОВОР\" + -0.287*\"АЛЛАХ\" + 0.236*\"НЕВЕСТА\" + 0.226*\"БРАЧНЫЙ\" + 0.184*\"ОТЕЦ\" + 0.167*\"МАХРА\" + -0.155*\"ИДДА\" + 0.155*\"ЖЕНИХ\" + 0.155*\"ВЫДАВАТЬ\"\n"
     ]
    },
    {
     "name": "stderr",
     "output_type": "stream",
     "text": [
      "2016-10-11 18:12:47,256 : INFO : topic #3(217.181): -0.493*\"АЛЛАХ\" + 0.178*\"ИСЛАМСКИЙ\" + -0.172*\"СКАЗАТЬ\" + -0.141*\"ВИТР\" + 0.134*\"ОБЩЕСТВО\" + 0.127*\"САЙТ\" + 0.127*\"ВОПРОС\" + 0.126*\"ИСТОРИЯ\" + 0.119*\"НАШ\" + 0.115*\"РАМАДАН\"\n"
     ]
    },
    {
     "name": "stderr",
     "output_type": "stream",
     "text": [
      "2016-10-11 18:12:47,259 : INFO : topic #4(194.136): -0.394*\"ВИТР\" + -0.376*\"НАМАЗ\" + -0.330*\"МОЛИТВА\" + 0.211*\"АЛЛАХ\" + 0.185*\"ЧЕЛОВЕК\" + 0.174*\"СВОЙ\" + -0.172*\"СОВЕРШАТЬ\" + -0.143*\"РАКААТ\" + -0.143*\"РАКААТА\" + -0.132*\"СОВЕРШИТЬ\"\n"
     ]
    },
    {
     "name": "stderr",
     "output_type": "stream",
     "text": [
      "2016-10-11 18:12:47,325 : INFO : preparing a new chunk of documents\n"
     ]
    },
    {
     "name": "stderr",
     "output_type": "stream",
     "text": [
      "2016-10-11 18:12:47,328 : INFO : using 100 extra samples and 2 power iterations\n"
     ]
    },
    {
     "name": "stderr",
     "output_type": "stream",
     "text": [
      "2016-10-11 18:12:47,329 : INFO : 1st phase: constructing (24774L, 200L) action matrix\n"
     ]
    },
    {
     "name": "stderr",
     "output_type": "stream",
     "text": [
      "2016-10-11 18:12:47,335 : INFO : orthonormalizing (24774L, 200L) action matrix\n"
     ]
    },
    {
     "name": "stderr",
     "output_type": "stream",
     "text": [
      "2016-10-11 18:12:48,266 : INFO : 2nd phase: running dense svd on (200L, 20L) matrix\n"
     ]
    },
    {
     "name": "stderr",
     "output_type": "stream",
     "text": [
      "2016-10-11 18:12:48,298 : INFO : computing the final decomposition\n"
     ]
    },
    {
     "name": "stderr",
     "output_type": "stream",
     "text": [
      "2016-10-11 18:12:48,299 : INFO : keeping 20 factors (discarding 0.000% of energy spectrum)\n"
     ]
    },
    {
     "name": "stderr",
     "output_type": "stream",
     "text": [
      "2016-10-11 18:12:48,321 : INFO : merging projections: (24774L, 96L) + (24774L, 20L)\n"
     ]
    },
    {
     "name": "stderr",
     "output_type": "stream",
     "text": [
      "2016-10-11 18:12:48,392 : INFO : keeping 100 factors (discarding 0.134% of energy spectrum)\n"
     ]
    },
    {
     "name": "stderr",
     "output_type": "stream",
     "text": [
      "2016-10-11 18:12:48,453 : INFO : processed documents up to #300\n"
     ]
    },
    {
     "name": "stderr",
     "output_type": "stream",
     "text": [
      "2016-10-11 18:12:48,456 : INFO : topic #0(746.883): 0.378*\"АЛЛАХ\" + 0.258*\"КОТОРЫЙ\" + 0.235*\"ИДДА\" + 0.204*\"ЖЕНЩИНА\" + 0.194*\"МУЖ\" + 0.165*\"РАЗВОД\" + 0.159*\"СКАЗАТЬ\" + 0.153*\"ЧЕЛОВЕК\" + 0.139*\"МИР\" + 0.138*\"СВОЙ\"\n"
     ]
    },
    {
     "name": "stderr",
     "output_type": "stream",
     "text": [
      "2016-10-11 18:12:48,459 : INFO : topic #1(487.203): -0.487*\"ИДДА\" + 0.325*\"АЛЛАХ\" + -0.317*\"МУЖ\" + -0.297*\"ЖЕНЩИНА\" + -0.226*\"РАЗВОД\" + -0.181*\"СРОК\" + -0.160*\"ЖЕНА\" + 0.141*\"ЧЕЛОВЕК\" + 0.139*\"МИР\" + -0.129*\"ПЕРИОД\"\n"
     ]
    },
    {
     "name": "stderr",
     "output_type": "stream",
     "text": [
      "2016-10-11 18:12:48,460 : INFO : topic #2(282.031): -0.315*\"АЛЛАХ\" + 0.310*\"ДОГОВОР\" + 0.307*\"ОПЕКУН\" + 0.227*\"НЕВЕСТА\" + 0.218*\"БРАЧНЫЙ\" + 0.178*\"ОТЕЦ\" + 0.160*\"МАХРА\" + -0.157*\"ИДДА\" + 0.150*\"ЖЕНИХ\" + 0.149*\"ВЫДАВАТЬ\"\n"
     ]
    },
    {
     "name": "stderr",
     "output_type": "stream",
     "text": [
      "2016-10-11 18:12:48,463 : INFO : topic #3(224.685): -0.522*\"АЛЛАХ\" + -0.189*\"СКАЗАТЬ\" + 0.164*\"ИСЛАМСКИЙ\" + 0.129*\"ВОПРОС\" + 0.125*\"ОБЩЕСТВО\" + 0.124*\"САЙТ\" + -0.122*\"ОПЕКУН\" + 0.121*\"ИСТОРИЯ\" + -0.116*\"МАХРА\" + -0.109*\"ПОСЛАННИК\"\n"
     ]
    },
    {
     "name": "stderr",
     "output_type": "stream",
     "text": [
      "2016-10-11 18:12:48,464 : INFO : topic #4(207.909): -0.482*\"МОЛИТВА\" + -0.346*\"НАМАЗ\" + -0.316*\"ВИТР\" + 0.181*\"ЧЕЛОВЕК\" + 0.176*\"СВОЙ\" + -0.162*\"СОВЕРШАТЬ\" + -0.144*\"ПОСТ\" + 0.129*\"АЛЛАХ\" + -0.129*\"СУННА\" + -0.126*\"СОВЕРШИТЬ\"\n"
     ]
    },
    {
     "name": "stderr",
     "output_type": "stream",
     "text": [
      "2016-10-11 18:12:48,559 : INFO : preparing a new chunk of documents\n"
     ]
    },
    {
     "name": "stderr",
     "output_type": "stream",
     "text": [
      "2016-10-11 18:12:48,562 : INFO : using 100 extra samples and 2 power iterations\n"
     ]
    },
    {
     "name": "stderr",
     "output_type": "stream",
     "text": [
      "2016-10-11 18:12:48,563 : INFO : 1st phase: constructing (24774L, 200L) action matrix\n"
     ]
    },
    {
     "name": "stderr",
     "output_type": "stream",
     "text": [
      "2016-10-11 18:12:48,569 : INFO : orthonormalizing (24774L, 200L) action matrix\n"
     ]
    },
    {
     "name": "stderr",
     "output_type": "stream",
     "text": [
      "2016-10-11 18:12:49,526 : INFO : 2nd phase: running dense svd on (200L, 20L) matrix\n"
     ]
    },
    {
     "name": "stderr",
     "output_type": "stream",
     "text": [
      "2016-10-11 18:12:49,558 : INFO : computing the final decomposition\n"
     ]
    },
    {
     "name": "stderr",
     "output_type": "stream",
     "text": [
      "2016-10-11 18:12:49,559 : INFO : keeping 20 factors (discarding 0.000% of energy spectrum)\n"
     ]
    },
    {
     "name": "stderr",
     "output_type": "stream",
     "text": [
      "2016-10-11 18:12:49,582 : INFO : merging projections: (24774L, 100L) + (24774L, 20L)\n"
     ]
    },
    {
     "name": "stderr",
     "output_type": "stream",
     "text": [
      "2016-10-11 18:12:49,710 : INFO : keeping 100 factors (discarding 0.263% of energy spectrum)\n"
     ]
    },
    {
     "name": "stderr",
     "output_type": "stream",
     "text": [
      "2016-10-11 18:12:49,775 : INFO : processed documents up to #320\n"
     ]
    },
    {
     "name": "stderr",
     "output_type": "stream",
     "text": [
      "2016-10-11 18:12:49,776 : INFO : topic #0(801.861): 0.439*\"АЛЛАХ\" + 0.239*\"КОТОРЫЙ\" + 0.182*\"ИДДА\" + 0.165*\"ЖЕНЩИНА\" + 0.164*\"ВОПРОС\" + 0.161*\"СВОЙ\" + 0.161*\"МУЖ\" + 0.152*\"МИР\" + 0.146*\"ЧЕЛОВЕК\" + 0.144*\"СКАЗАТЬ\"\n"
     ]
    },
    {
     "name": "stderr",
     "output_type": "stream",
     "text": [
      "2016-10-11 18:12:49,779 : INFO : topic #1(507.824): -0.502*\"ИДДА\" + -0.330*\"МУЖ\" + -0.322*\"ЖЕНЩИНА\" + 0.313*\"АЛЛАХ\" + -0.246*\"РАЗВОД\" + -0.185*\"СРОК\" + -0.180*\"ЖЕНА\" + -0.133*\"ПЕРИОД\" + 0.119*\"МИР\" + -0.108*\"ДОЛЖНЫЙ\"\n"
     ]
    },
    {
     "name": "stderr",
     "output_type": "stream",
     "text": [
      "2016-10-11 18:12:49,780 : INFO : topic #2(305.227): -0.312*\"ВОПРОС\" + -0.284*\"АЛЛАХ\" + 0.176*\"ОПЕКУН\" + 0.173*\"ДОГОВОР\" + -0.171*\"ОТВЕТ\" + 0.152*\"ЧЕЛОВЕК\" + 0.144*\"КОТОРЫЙ\" + -0.143*\"ИДДА\" + -0.142*\"ОТВЕТИТЬ\" + -0.135*\"ХВАЛА\"\n"
     ]
    },
    {
     "name": "stderr",
     "output_type": "stream",
     "text": [
      "2016-10-11 18:12:49,783 : INFO : topic #3(270.915): 0.263*\"ДОГОВОР\" + 0.258*\"ОПЕКУН\" + 0.252*\"ВОПРОС\" + 0.191*\"НЕВЕСТА\" + 0.184*\"БРАЧНЫЙ\" + 0.149*\"ОТВЕТИТЬ\" + 0.140*\"ОТЕЦ\" + 0.136*\"МАХРА\" + 0.132*\"ОТВЕТ\" + -0.128*\"АЛЛАХ\"\n"
     ]
    },
    {
     "name": "stderr",
     "output_type": "stream",
     "text": [
      "2016-10-11 18:12:49,786 : INFO : topic #4(224.209): -0.494*\"АЛЛАХ\" + 0.221*\"ВОПРОС\" + -0.208*\"СКАЗАТЬ\" + 0.156*\"ИСЛАМСКИЙ\" + -0.121*\"ВИТР\" + 0.115*\"САЙТ\" + 0.114*\"ОБЩЕСТВО\" + -0.112*\"ОПЕКУН\" + 0.109*\"ГОД\" + -0.109*\"МАХРА\"\n"
     ]
    },
    {
     "name": "stderr",
     "output_type": "stream",
     "text": [
      "2016-10-11 18:12:49,858 : INFO : preparing a new chunk of documents\n"
     ]
    },
    {
     "name": "stderr",
     "output_type": "stream",
     "text": [
      "2016-10-11 18:12:49,861 : INFO : using 100 extra samples and 2 power iterations\n"
     ]
    },
    {
     "name": "stderr",
     "output_type": "stream",
     "text": [
      "2016-10-11 18:12:49,862 : INFO : 1st phase: constructing (24774L, 200L) action matrix\n"
     ]
    },
    {
     "name": "stderr",
     "output_type": "stream",
     "text": [
      "2016-10-11 18:12:49,868 : INFO : orthonormalizing (24774L, 200L) action matrix\n"
     ]
    },
    {
     "name": "stderr",
     "output_type": "stream",
     "text": [
      "2016-10-11 18:12:50,845 : INFO : 2nd phase: running dense svd on (200L, 20L) matrix\n"
     ]
    },
    {
     "name": "stderr",
     "output_type": "stream",
     "text": [
      "2016-10-11 18:12:50,940 : INFO : computing the final decomposition\n"
     ]
    },
    {
     "name": "stderr",
     "output_type": "stream",
     "text": [
      "2016-10-11 18:12:50,940 : INFO : keeping 14 factors (discarding 0.000% of energy spectrum)\n"
     ]
    },
    {
     "name": "stderr",
     "output_type": "stream",
     "text": [
      "2016-10-11 18:12:50,959 : INFO : merging projections: (24774L, 100L) + (24774L, 14L)\n"
     ]
    },
    {
     "name": "stderr",
     "output_type": "stream",
     "text": [
      "2016-10-11 18:12:51,032 : INFO : keeping 100 factors (discarding 0.117% of energy spectrum)\n"
     ]
    },
    {
     "name": "stderr",
     "output_type": "stream",
     "text": [
      "2016-10-11 18:12:51,092 : INFO : processed documents up to #340\n"
     ]
    },
    {
     "name": "stderr",
     "output_type": "stream",
     "text": [
      "2016-10-11 18:12:51,095 : INFO : topic #0(809.915): 0.438*\"АЛЛАХ\" + 0.239*\"КОТОРЫЙ\" + 0.176*\"ИДДА\" + 0.163*\"ВОПРОС\" + 0.161*\"ЖЕНЩИНА\" + 0.161*\"СВОЙ\" + 0.157*\"МИР\" + 0.156*\"МУЖ\" + 0.150*\"ЧЕЛОВЕК\" + 0.143*\"СКАЗАТЬ\"\n"
     ]
    },
    {
     "name": "stderr",
     "output_type": "stream",
     "text": [
      "2016-10-11 18:12:51,096 : INFO : topic #1(509.589): -0.504*\"ИДДА\" + -0.333*\"МУЖ\" + -0.324*\"ЖЕНЩИНА\" + 0.303*\"АЛЛАХ\" + -0.248*\"РАЗВОД\" + -0.187*\"СРОК\" + -0.182*\"ЖЕНА\" + -0.134*\"ПЕРИОД\" + 0.120*\"МИР\" + -0.110*\"ДОЛЖНЫЙ\"\n"
     ]
    },
    {
     "name": "stderr",
     "output_type": "stream",
     "text": [
      "2016-10-11 18:12:51,099 : INFO : topic #2(307.187): -0.315*\"ВОПРОС\" + -0.301*\"АЛЛАХ\" + -0.174*\"ОТВЕТ\" + 0.163*\"ОПЕКУН\" + 0.160*\"ДОГОВОР\" + 0.159*\"ЧЕЛОВЕК\" + -0.147*\"ОТВЕТИТЬ\" + 0.144*\"КОТОРЫЙ\" + -0.137*\"ХВАЛА\" + -0.135*\"ИДДА\"\n"
     ]
    },
    {
     "name": "stderr",
     "output_type": "stream",
     "text": [
      "2016-10-11 18:12:51,101 : INFO : topic #3(271.957): 0.272*\"ДОГОВОР\" + 0.267*\"ОПЕКУН\" + 0.235*\"ВОПРОС\" + 0.198*\"НЕВЕСТА\" + 0.191*\"БРАЧНЫЙ\" + 0.145*\"ОТЕЦ\" + 0.142*\"МАХРА\" + 0.142*\"ОТВЕТИТЬ\" + 0.130*\"ЖЕНИХ\" + 0.129*\"ВЫДАВАТЬ\"\n"
     ]
    },
    {
     "name": "stderr",
     "output_type": "stream",
     "text": [
      "2016-10-11 18:12:51,104 : INFO : topic #4(228.406): -0.494*\"АЛЛАХ\" + 0.240*\"ВОПРОС\" + -0.216*\"СКАЗАТЬ\" + 0.157*\"ИСЛАМСКИЙ\" + -0.123*\"ВИТР\" + 0.119*\"САЙТ\" + 0.117*\"ОБЩЕСТВО\" + 0.114*\"ИСТОРИЯ\" + 0.111*\"ГОД\" + -0.110*\"СУРА\"\n"
     ]
    },
    {
     "name": "stderr",
     "output_type": "stream",
     "text": [
      "2016-10-11 18:12:51,153 : INFO : preparing a new chunk of documents\n"
     ]
    },
    {
     "name": "stderr",
     "output_type": "stream",
     "text": [
      "2016-10-11 18:12:51,155 : INFO : using 100 extra samples and 2 power iterations\n"
     ]
    },
    {
     "name": "stderr",
     "output_type": "stream",
     "text": [
      "2016-10-11 18:12:51,157 : INFO : 1st phase: constructing (24774L, 200L) action matrix\n"
     ]
    },
    {
     "name": "stderr",
     "output_type": "stream",
     "text": [
      "2016-10-11 18:12:51,161 : INFO : orthonormalizing (24774L, 200L) action matrix\n"
     ]
    },
    {
     "name": "stderr",
     "output_type": "stream",
     "text": [
      "2016-10-11 18:12:52,122 : INFO : 2nd phase: running dense svd on (200L, 20L) matrix\n"
     ]
    },
    {
     "name": "stderr",
     "output_type": "stream",
     "text": [
      "2016-10-11 18:12:52,157 : INFO : computing the final decomposition\n"
     ]
    },
    {
     "name": "stderr",
     "output_type": "stream",
     "text": [
      "2016-10-11 18:12:52,158 : INFO : keeping 10 factors (discarding 0.000% of energy spectrum)\n"
     ]
    },
    {
     "name": "stderr",
     "output_type": "stream",
     "text": [
      "2016-10-11 18:12:52,177 : INFO : merging projections: (24774L, 100L) + (24774L, 10L)\n"
     ]
    },
    {
     "name": "stderr",
     "output_type": "stream",
     "text": [
      "2016-10-11 18:12:52,229 : INFO : keeping 100 factors (discarding 0.056% of energy spectrum)\n"
     ]
    },
    {
     "name": "stderr",
     "output_type": "stream",
     "text": [
      "2016-10-11 18:12:52,286 : INFO : processed documents up to #360\n"
     ]
    },
    {
     "name": "stderr",
     "output_type": "stream",
     "text": [
      "2016-10-11 18:12:52,289 : INFO : topic #0(813.574): 0.435*\"АЛЛАХ\" + 0.238*\"КОТОРЫЙ\" + 0.173*\"ИДДА\" + 0.164*\"ВОПРОС\" + 0.161*\"СВОЙ\" + 0.160*\"ЖЕНЩИНА\" + 0.157*\"МИР\" + 0.154*\"МУЖ\" + 0.151*\"ЧЕЛОВЕК\" + 0.141*\"СКАЗАТЬ\"\n"
     ]
    },
    {
     "name": "stderr",
     "output_type": "stream",
     "text": [
      "2016-10-11 18:12:52,290 : INFO : topic #1(510.275): -0.505*\"ИДДА\" + -0.334*\"МУЖ\" + -0.325*\"ЖЕНЩИНА\" + 0.297*\"АЛЛАХ\" + -0.248*\"РАЗВОД\" + -0.187*\"СРОК\" + -0.183*\"ЖЕНА\" + -0.134*\"ПЕРИОД\" + 0.120*\"МИР\" + -0.111*\"ДОЛЖНЫЙ\"\n"
     ]
    },
    {
     "name": "stderr",
     "output_type": "stream",
     "text": [
      "2016-10-11 18:12:52,293 : INFO : topic #2(308.960): -0.320*\"АЛЛАХ\" + -0.312*\"ВОПРОС\" + -0.175*\"ОТВЕТ\" + 0.160*\"ЧЕЛОВЕК\" + 0.153*\"ОПЕКУН\" + 0.150*\"ДОГОВОР\" + -0.150*\"ОТВЕТИТЬ\" + 0.139*\"КОТОРЫЙ\" + -0.138*\"ХВАЛА\" + -0.129*\"ИДДА\"\n"
     ]
    },
    {
     "name": "stderr",
     "output_type": "stream",
     "text": [
      "2016-10-11 18:12:52,296 : INFO : topic #3(272.542): 0.279*\"ДОГОВОР\" + 0.274*\"ОПЕКУН\" + 0.216*\"ВОПРОС\" + 0.204*\"НЕВЕСТА\" + 0.196*\"БРАЧНЫЙ\" + 0.149*\"ОТЕЦ\" + 0.147*\"МАХРА\" + 0.137*\"ОТВЕТИТЬ\" + 0.133*\"ЖЕНИХ\" + 0.133*\"ВЫДАВАТЬ\"\n"
     ]
    },
    {
     "name": "stderr",
     "output_type": "stream",
     "text": [
      "2016-10-11 18:12:52,298 : INFO : topic #4(233.404): -0.492*\"АЛЛАХ\" + 0.263*\"ВОПРОС\" + -0.222*\"СКАЗАТЬ\" + 0.152*\"ИСЛАМСКИЙ\" + 0.129*\"САЙТ\" + 0.125*\"ИСТОРИЯ\" + 0.118*\"ОБЩЕСТВО\" + -0.115*\"ВИТР\" + 0.108*\"ГОД\" + 0.107*\"РАМАДАН\"\n"
     ]
    },
    {
     "name": "stderr",
     "output_type": "stream",
     "text": [
      "2016-10-11 18:12:52,341 : INFO : preparing a new chunk of documents\n"
     ]
    },
    {
     "name": "stderr",
     "output_type": "stream",
     "text": [
      "2016-10-11 18:12:52,344 : INFO : using 100 extra samples and 2 power iterations\n"
     ]
    },
    {
     "name": "stderr",
     "output_type": "stream",
     "text": [
      "2016-10-11 18:12:52,345 : INFO : 1st phase: constructing (24774L, 200L) action matrix\n"
     ]
    },
    {
     "name": "stderr",
     "output_type": "stream",
     "text": [
      "2016-10-11 18:12:52,348 : INFO : orthonormalizing (24774L, 200L) action matrix\n"
     ]
    },
    {
     "name": "stderr",
     "output_type": "stream",
     "text": [
      "2016-10-11 18:12:53,338 : INFO : 2nd phase: running dense svd on (200L, 20L) matrix\n"
     ]
    },
    {
     "name": "stderr",
     "output_type": "stream",
     "text": [
      "2016-10-11 18:12:53,371 : INFO : computing the final decomposition\n"
     ]
    },
    {
     "name": "stderr",
     "output_type": "stream",
     "text": [
      "2016-10-11 18:12:53,371 : INFO : keeping 10 factors (discarding 0.000% of energy spectrum)\n"
     ]
    },
    {
     "name": "stderr",
     "output_type": "stream",
     "text": [
      "2016-10-11 18:12:53,388 : INFO : merging projections: (24774L, 100L) + (24774L, 10L)\n"
     ]
    },
    {
     "name": "stderr",
     "output_type": "stream",
     "text": [
      "2016-10-11 18:12:53,440 : INFO : keeping 99 factors (discarding 0.081% of energy spectrum)\n"
     ]
    },
    {
     "name": "stderr",
     "output_type": "stream",
     "text": [
      "2016-10-11 18:12:53,494 : INFO : processed documents up to #380\n"
     ]
    },
    {
     "name": "stderr",
     "output_type": "stream",
     "text": [
      "2016-10-11 18:12:53,496 : INFO : topic #0(816.817): 0.433*\"АЛЛАХ\" + 0.237*\"КОТОРЫЙ\" + 0.171*\"ИДДА\" + 0.164*\"ВОПРОС\" + 0.160*\"СВОЙ\" + 0.159*\"ЖЕНЩИНА\" + 0.158*\"МИР\" + 0.153*\"МУЖ\" + 0.151*\"ЧЕЛОВЕК\" + 0.140*\"СКАЗАТЬ\"\n"
     ]
    },
    {
     "name": "stderr",
     "output_type": "stream",
     "text": [
      "2016-10-11 18:12:53,499 : INFO : topic #1(510.968): -0.506*\"ИДДА\" + -0.335*\"МУЖ\" + -0.326*\"ЖЕНЩИНА\" + 0.291*\"АЛЛАХ\" + -0.249*\"РАЗВОД\" + -0.188*\"СРОК\" + -0.183*\"ЖЕНА\" + -0.135*\"ПЕРИОД\" + 0.120*\"МИР\" + -0.112*\"ДОЛЖНЫЙ\"\n"
     ]
    },
    {
     "name": "stderr",
     "output_type": "stream",
     "text": [
      "2016-10-11 18:12:53,502 : INFO : topic #2(310.843): -0.339*\"АЛЛАХ\" + -0.307*\"ВОПРОС\" + -0.175*\"ОТВЕТ\" + 0.157*\"ЧЕЛОВЕК\" + -0.153*\"ОТВЕТИТЬ\" + 0.142*\"ОПЕКУН\" + 0.139*\"ДОГОВОР\" + -0.139*\"ХВАЛА\" + 0.131*\"КОТОРЫЙ\" + 0.125*\"ИСТОРИЯ\"\n"
     ]
    },
    {
     "name": "stderr",
     "output_type": "stream",
     "text": [
      "2016-10-11 18:12:53,503 : INFO : topic #3(273.285): 0.286*\"ДОГОВОР\" + 0.282*\"ОПЕКУН\" + 0.210*\"НЕВЕСТА\" + 0.202*\"БРАЧНЫЙ\" + 0.193*\"ВОПРОС\" + 0.153*\"МАХРА\" + 0.152*\"ОТЕЦ\" + 0.137*\"ЖЕНИХ\" + 0.136*\"ВЫДАВАТЬ\" + 0.130*\"ОТВЕТИТЬ\"\n"
     ]
    },
    {
     "name": "stderr",
     "output_type": "stream",
     "text": [
      "2016-10-11 18:12:53,506 : INFO : topic #4(238.753): -0.483*\"АЛЛАХ\" + 0.287*\"ВОПРОС\" + -0.224*\"СКАЗАТЬ\" + 0.146*\"ИСЛАМСКИЙ\" + 0.137*\"САЙТ\" + 0.134*\"ИСТОРИЯ\" + 0.120*\"РАМАДАН\" + 0.116*\"ОТВЕТ\" + 0.116*\"ОБЩЕСТВО\" + 0.108*\"ШАРИАТ\"\n"
     ]
    },
    {
     "name": "stderr",
     "output_type": "stream",
     "text": [
      "2016-10-11 18:12:53,588 : INFO : preparing a new chunk of documents\n"
     ]
    },
    {
     "name": "stderr",
     "output_type": "stream",
     "text": [
      "2016-10-11 18:12:53,592 : INFO : using 100 extra samples and 2 power iterations\n"
     ]
    },
    {
     "name": "stderr",
     "output_type": "stream",
     "text": [
      "2016-10-11 18:12:53,594 : INFO : 1st phase: constructing (24774L, 200L) action matrix\n"
     ]
    },
    {
     "name": "stderr",
     "output_type": "stream",
     "text": [
      "2016-10-11 18:12:53,599 : INFO : orthonormalizing (24774L, 200L) action matrix\n"
     ]
    },
    {
     "name": "stderr",
     "output_type": "stream",
     "text": [
      "2016-10-11 18:12:54,561 : INFO : 2nd phase: running dense svd on (200L, 20L) matrix\n"
     ]
    },
    {
     "name": "stderr",
     "output_type": "stream",
     "text": [
      "2016-10-11 18:12:54,592 : INFO : computing the final decomposition\n"
     ]
    },
    {
     "name": "stderr",
     "output_type": "stream",
     "text": [
      "2016-10-11 18:12:54,594 : INFO : keeping 20 factors (discarding 0.000% of energy spectrum)\n"
     ]
    },
    {
     "name": "stderr",
     "output_type": "stream",
     "text": [
      "2016-10-11 18:12:54,615 : INFO : merging projections: (24774L, 99L) + (24774L, 20L)\n"
     ]
    },
    {
     "name": "stderr",
     "output_type": "stream",
     "text": [
      "2016-10-11 18:12:54,678 : INFO : keeping 100 factors (discarding 0.321% of energy spectrum)\n"
     ]
    },
    {
     "name": "stderr",
     "output_type": "stream",
     "text": [
      "2016-10-11 18:12:54,740 : INFO : processed documents up to #400\n"
     ]
    },
    {
     "name": "stderr",
     "output_type": "stream",
     "text": [
      "2016-10-11 18:12:54,740 : INFO : topic #0(825.904): 0.430*\"АЛЛАХ\" + 0.236*\"КОТОРЫЙ\" + 0.165*\"ИДДА\" + 0.163*\"ВОПРОС\" + 0.162*\"СВОЙ\" + 0.159*\"МИР\" + 0.154*\"ЖЕНЩИНА\" + 0.152*\"ЧЕЛОВЕК\" + 0.148*\"МУЖ\" + 0.140*\"СКАЗАТЬ\"\n"
     ]
    },
    {
     "name": "stderr",
     "output_type": "stream",
     "text": [
      "2016-10-11 18:12:54,743 : INFO : topic #1(512.499): -0.508*\"ИДДА\" + -0.337*\"МУЖ\" + -0.329*\"ЖЕНЩИНА\" + 0.281*\"АЛЛАХ\" + -0.250*\"РАЗВОД\" + -0.189*\"СРОК\" + -0.185*\"ЖЕНА\" + -0.136*\"ПЕРИОД\" + 0.118*\"МИР\" + -0.114*\"ДОЛЖНЫЙ\"\n"
     ]
    },
    {
     "name": "stderr",
     "output_type": "stream",
     "text": [
      "2016-10-11 18:12:54,746 : INFO : topic #2(313.753): -0.368*\"АЛЛАХ\" + -0.301*\"ВОПРОС\" + -0.172*\"ОТВЕТ\" + 0.152*\"ЧЕЛОВЕК\" + -0.151*\"ОТВЕТИТЬ\" + 0.140*\"ИСТОРИЯ\" + -0.138*\"ХВАЛА\" + 0.129*\"ОПЕКУН\" + 0.126*\"КОТОРЫЙ\" + 0.126*\"ДОГОВОР\"\n"
     ]
    },
    {
     "name": "stderr",
     "output_type": "stream",
     "text": [
      "2016-10-11 18:12:54,747 : INFO : topic #3(274.011): 0.293*\"ДОГОВОР\" + 0.289*\"ОПЕКУН\" + 0.216*\"НЕВЕСТА\" + 0.207*\"БРАЧНЫЙ\" + 0.173*\"ВОПРОС\" + 0.158*\"МАХРА\" + 0.157*\"ОТЕЦ\" + 0.141*\"ЖЕНИХ\" + 0.140*\"ВЫДАВАТЬ\" + -0.134*\"ИДДА\"\n"
     ]
    },
    {
     "name": "stderr",
     "output_type": "stream",
     "text": [
      "2016-10-11 18:12:54,750 : INFO : topic #4(246.023): -0.463*\"АЛЛАХ\" + 0.300*\"ВОПРОС\" + -0.215*\"СКАЗАТЬ\" + 0.172*\"ГОД\" + 0.137*\"ИСТОРИЯ\" + 0.128*\"ОТВЕТ\" + 0.124*\"САЙТ\" + 0.121*\"ИСЛАМСКИЙ\" + -0.107*\"СУРА\" + -0.107*\"ВИТР\"\n"
     ]
    },
    {
     "name": "stderr",
     "output_type": "stream",
     "text": [
      "2016-10-11 18:12:54,828 : INFO : preparing a new chunk of documents\n"
     ]
    },
    {
     "name": "stderr",
     "output_type": "stream",
     "text": [
      "2016-10-11 18:12:54,832 : INFO : using 100 extra samples and 2 power iterations\n"
     ]
    },
    {
     "name": "stderr",
     "output_type": "stream",
     "text": [
      "2016-10-11 18:12:54,834 : INFO : 1st phase: constructing (24774L, 200L) action matrix\n"
     ]
    },
    {
     "name": "stderr",
     "output_type": "stream",
     "text": [
      "2016-10-11 18:12:54,839 : INFO : orthonormalizing (24774L, 200L) action matrix\n"
     ]
    },
    {
     "name": "stderr",
     "output_type": "stream",
     "text": [
      "2016-10-11 18:12:55,913 : INFO : 2nd phase: running dense svd on (200L, 20L) matrix\n"
     ]
    },
    {
     "name": "stderr",
     "output_type": "stream",
     "text": [
      "2016-10-11 18:12:55,946 : INFO : computing the final decomposition\n"
     ]
    },
    {
     "name": "stderr",
     "output_type": "stream",
     "text": [
      "2016-10-11 18:12:55,947 : INFO : keeping 20 factors (discarding 0.000% of energy spectrum)\n"
     ]
    },
    {
     "name": "stderr",
     "output_type": "stream",
     "text": [
      "2016-10-11 18:12:55,967 : INFO : merging projections: (24774L, 100L) + (24774L, 20L)\n"
     ]
    },
    {
     "name": "stderr",
     "output_type": "stream",
     "text": [
      "2016-10-11 18:12:56,029 : INFO : keeping 100 factors (discarding 0.448% of energy spectrum)\n"
     ]
    },
    {
     "name": "stderr",
     "output_type": "stream",
     "text": [
      "2016-10-11 18:12:56,091 : INFO : processed documents up to #420\n"
     ]
    },
    {
     "name": "stderr",
     "output_type": "stream",
     "text": [
      "2016-10-11 18:12:56,092 : INFO : topic #0(834.610): 0.427*\"АЛЛАХ\" + 0.239*\"КОТОРЫЙ\" + 0.164*\"ВОПРОС\" + 0.163*\"СВОЙ\" + 0.160*\"ИДДА\" + 0.159*\"МИР\" + 0.154*\"ЧЕЛОВЕК\" + 0.151*\"ЖЕНЩИНА\" + 0.143*\"МУЖ\" + 0.139*\"СКАЗАТЬ\"\n"
     ]
    },
    {
     "name": "stderr",
     "output_type": "stream",
     "text": [
      "2016-10-11 18:12:56,095 : INFO : topic #1(513.716): -0.510*\"ИДДА\" + -0.340*\"МУЖ\" + -0.331*\"ЖЕНЩИНА\" + 0.272*\"АЛЛАХ\" + -0.252*\"РАЗВОД\" + -0.190*\"СРОК\" + -0.187*\"ЖЕНА\" + -0.136*\"ПЕРИОД\" + 0.116*\"МИР\" + -0.115*\"ДОЛЖНЫЙ\"\n"
     ]
    },
    {
     "name": "stderr",
     "output_type": "stream",
     "text": [
      "2016-10-11 18:12:56,096 : INFO : topic #2(316.823): -0.392*\"АЛЛАХ\" + -0.294*\"ВОПРОС\" + -0.169*\"ОТВЕТ\" + 0.153*\"ЧЕЛОВЕК\" + -0.152*\"ОТВЕТИТЬ\" + 0.146*\"ИСТОРИЯ\" + -0.138*\"ХВАЛА\" + 0.129*\"КОТОРЫЙ\" + -0.119*\"ЗАДАТЬ\" + 0.116*\"ОПЕКУН\"\n"
     ]
    },
    {
     "name": "stderr",
     "output_type": "stream",
     "text": [
      "2016-10-11 18:12:56,098 : INFO : topic #3(274.657): 0.300*\"ДОГОВОР\" + 0.296*\"ОПЕКУН\" + 0.222*\"НЕВЕСТА\" + 0.213*\"БРАЧНЫЙ\" + 0.163*\"МАХРА\" + 0.161*\"ОТЕЦ\" + 0.151*\"ВОПРОС\" + 0.144*\"ЖЕНИХ\" + 0.143*\"ВЫДАВАТЬ\" + -0.140*\"ИДДА\"\n"
     ]
    },
    {
     "name": "stderr",
     "output_type": "stream",
     "text": [
      "2016-10-11 18:12:56,101 : INFO : topic #4(249.921): -0.447*\"АЛЛАХ\" + 0.315*\"ВОПРОС\" + -0.210*\"СКАЗАТЬ\" + 0.192*\"ГОД\" + 0.139*\"ОТВЕТ\" + 0.128*\"ИСТОРИЯ\" + 0.119*\"ШАМИЛЬ\" + 0.118*\"ИМАМ\" + -0.113*\"СУРА\" + 0.112*\"САЙТ\"\n"
     ]
    },
    {
     "name": "stderr",
     "output_type": "stream",
     "text": [
      "2016-10-11 18:12:56,164 : INFO : preparing a new chunk of documents\n"
     ]
    },
    {
     "name": "stderr",
     "output_type": "stream",
     "text": [
      "2016-10-11 18:12:56,168 : INFO : using 100 extra samples and 2 power iterations\n"
     ]
    },
    {
     "name": "stderr",
     "output_type": "stream",
     "text": [
      "2016-10-11 18:12:56,170 : INFO : 1st phase: constructing (24774L, 200L) action matrix\n"
     ]
    },
    {
     "name": "stderr",
     "output_type": "stream",
     "text": [
      "2016-10-11 18:12:56,174 : INFO : orthonormalizing (24774L, 200L) action matrix\n"
     ]
    },
    {
     "name": "stderr",
     "output_type": "stream",
     "text": [
      "2016-10-11 18:12:57,190 : INFO : 2nd phase: running dense svd on (200L, 20L) matrix\n"
     ]
    },
    {
     "name": "stderr",
     "output_type": "stream",
     "text": [
      "2016-10-11 18:12:57,224 : INFO : computing the final decomposition\n"
     ]
    },
    {
     "name": "stderr",
     "output_type": "stream",
     "text": [
      "2016-10-11 18:12:57,226 : INFO : keeping 20 factors (discarding 0.000% of energy spectrum)\n"
     ]
    },
    {
     "name": "stderr",
     "output_type": "stream",
     "text": [
      "2016-10-11 18:12:57,252 : INFO : merging projections: (24774L, 100L) + (24774L, 20L)\n"
     ]
    },
    {
     "name": "stderr",
     "output_type": "stream",
     "text": [
      "2016-10-11 18:12:57,322 : INFO : keeping 100 factors (discarding 0.505% of energy spectrum)\n"
     ]
    },
    {
     "name": "stderr",
     "output_type": "stream",
     "text": [
      "2016-10-11 18:12:57,384 : INFO : processed documents up to #440\n"
     ]
    },
    {
     "name": "stderr",
     "output_type": "stream",
     "text": [
      "2016-10-11 18:12:57,388 : INFO : topic #0(856.190): 0.445*\"АЛЛАХ\" + 0.241*\"КОТОРЫЙ\" + 0.163*\"СВОЙ\" + 0.160*\"ЧЕЛОВЕК\" + 0.160*\"МИР\" + 0.159*\"ВОПРОС\" + 0.147*\"ИДДА\" + 0.142*\"ЖЕНЩИНА\" + 0.138*\"СКАЗАТЬ\" + 0.133*\"МУЖ\"\n"
     ]
    },
    {
     "name": "stderr",
     "output_type": "stream",
     "text": [
      "2016-10-11 18:12:57,390 : INFO : topic #1(518.319): -0.512*\"ИДДА\" + -0.344*\"МУЖ\" + -0.334*\"ЖЕНЩИНА\" + 0.272*\"АЛЛАХ\" + -0.255*\"РАЗВОД\" + -0.192*\"СРОК\" + -0.191*\"ЖЕНА\" + -0.138*\"ПЕРИОД\" + -0.116*\"ДОЛЖНЫЙ\" + 0.109*\"МИР\"\n"
     ]
    },
    {
     "name": "stderr",
     "output_type": "stream",
     "text": [
      "2016-10-11 18:12:57,392 : INFO : topic #2(318.808): -0.418*\"АЛЛАХ\" + -0.275*\"ВОПРОС\" + -0.160*\"ОТВЕТ\" + 0.153*\"ИСТОРИЯ\" + 0.149*\"ЧЕЛОВЕК\" + -0.145*\"ОТВЕТИТЬ\" + -0.133*\"ХВАЛА\" + 0.123*\"КОТОРЫЙ\" + 0.116*\"РАМАДАН\" + -0.115*\"ПОСЛАННИК\"\n"
     ]
    },
    {
     "name": "stderr",
     "output_type": "stream",
     "text": [
      "2016-10-11 18:12:57,394 : INFO : topic #3(277.880): 0.276*\"ДОГОВОР\" + 0.268*\"ОПЕКУН\" + 0.227*\"ВОПРОС\" + 0.199*\"НЕВЕСТА\" + 0.191*\"БРАЧНЫЙ\" + -0.156*\"АЛЛАХ\" + 0.148*\"ОТЕЦ\" + -0.144*\"НАМАЗ\" + 0.143*\"МАХРА\" + -0.138*\"ИДДА\"\n"
     ]
    },
    {
     "name": "stderr",
     "output_type": "stream",
     "text": [
      "2016-10-11 18:12:57,398 : INFO : topic #4(261.481): -0.398*\"АЛЛАХ\" + 0.295*\"ВОПРОС\" + -0.222*\"СКАЗАТЬ\" + 0.173*\"ГОД\" + -0.144*\"ОПЕКУН\" + 0.141*\"ИСТОРИЯ\" + 0.128*\"ОТВЕТ\" + -0.124*\"ДОГОВОР\" + 0.122*\"САЙТ\" + 0.116*\"ИСЛАМСКИЙ\"\n"
     ]
    },
    {
     "name": "stderr",
     "output_type": "stream",
     "text": [
      "2016-10-11 18:12:57,469 : INFO : preparing a new chunk of documents\n"
     ]
    },
    {
     "name": "stderr",
     "output_type": "stream",
     "text": [
      "2016-10-11 18:12:57,473 : INFO : using 100 extra samples and 2 power iterations\n"
     ]
    },
    {
     "name": "stderr",
     "output_type": "stream",
     "text": [
      "2016-10-11 18:12:57,474 : INFO : 1st phase: constructing (24774L, 200L) action matrix\n"
     ]
    },
    {
     "name": "stderr",
     "output_type": "stream",
     "text": [
      "2016-10-11 18:12:57,484 : INFO : orthonormalizing (24774L, 200L) action matrix\n"
     ]
    },
    {
     "name": "stderr",
     "output_type": "stream",
     "text": [
      "2016-10-11 18:12:58,769 : INFO : 2nd phase: running dense svd on (200L, 20L) matrix\n"
     ]
    },
    {
     "name": "stderr",
     "output_type": "stream",
     "text": [
      "2016-10-11 18:12:58,801 : INFO : computing the final decomposition\n"
     ]
    },
    {
     "name": "stderr",
     "output_type": "stream",
     "text": [
      "2016-10-11 18:12:58,802 : INFO : keeping 20 factors (discarding 0.000% of energy spectrum)\n"
     ]
    },
    {
     "name": "stderr",
     "output_type": "stream",
     "text": [
      "2016-10-11 18:12:58,825 : INFO : merging projections: (24774L, 100L) + (24774L, 20L)\n"
     ]
    },
    {
     "name": "stderr",
     "output_type": "stream",
     "text": [
      "2016-10-11 18:12:58,890 : INFO : keeping 100 factors (discarding 0.382% of energy spectrum)\n"
     ]
    },
    {
     "name": "stderr",
     "output_type": "stream",
     "text": [
      "2016-10-11 18:12:58,953 : INFO : processed documents up to #460\n"
     ]
    },
    {
     "name": "stderr",
     "output_type": "stream",
     "text": [
      "2016-10-11 18:12:58,956 : INFO : topic #0(874.095): 0.458*\"АЛЛАХ\" + 0.240*\"КОТОРЫЙ\" + 0.165*\"ЧЕЛОВЕК\" + 0.163*\"МИР\" + 0.161*\"СВОЙ\" + 0.155*\"ВОПРОС\" + 0.137*\"ИДДА\" + 0.137*\"СКАЗАТЬ\" + 0.134*\"ЖЕНЩИНА\" + 0.126*\"КОРАН\"\n"
     ]
    },
    {
     "name": "stderr",
     "output_type": "stream",
     "text": [
      "2016-10-11 18:12:58,957 : INFO : topic #1(521.704): -0.513*\"ИДДА\" + -0.347*\"МУЖ\" + -0.338*\"ЖЕНЩИНА\" + 0.271*\"АЛЛАХ\" + -0.258*\"РАЗВОД\" + -0.193*\"ЖЕНА\" + -0.192*\"СРОК\" + -0.138*\"ПЕРИОД\" + -0.117*\"ДОЛЖНЫЙ\" + 0.106*\"МИР\"\n"
     ]
    },
    {
     "name": "stderr",
     "output_type": "stream",
     "text": [
      "2016-10-11 18:12:58,960 : INFO : topic #2(319.696): -0.433*\"АЛЛАХ\" + -0.259*\"ВОПРОС\" + 0.159*\"ИСТОРИЯ\" + -0.153*\"ОТВЕТ\" + 0.141*\"ЧЕЛОВЕК\" + -0.139*\"ОТВЕТИТЬ\" + -0.129*\"ХВАЛА\" + 0.124*\"РАМАДАН\" + -0.118*\"ПОСЛАННИК\" + 0.118*\"КОТОРЫЙ\"\n"
     ]
    },
    {
     "name": "stderr",
     "output_type": "stream",
     "text": [
      "2016-10-11 18:12:58,963 : INFO : topic #3(281.187): 0.287*\"ВОПРОС\" + 0.240*\"ДОГОВОР\" + 0.229*\"ОПЕКУН\" + -0.215*\"АЛЛАХ\" + -0.199*\"НАМАЗ\" + 0.170*\"НЕВЕСТА\" + 0.162*\"БРАЧНЫЙ\" + 0.153*\"ОТВЕТИТЬ\" + 0.142*\"ОТВЕТ\" + -0.131*\"ИДДА\"\n"
     ]
    },
    {
     "name": "stderr",
     "output_type": "stream",
     "text": [
      "2016-10-11 18:12:58,964 : INFO : topic #4(266.317): -0.346*\"АЛЛАХ\" + 0.259*\"ВОПРОС\" + -0.220*\"СКАЗАТЬ\" + -0.197*\"ОПЕКУН\" + -0.180*\"ДОГОВОР\" + -0.155*\"НЕВЕСТА\" + 0.151*\"ГОД\" + 0.147*\"ИСТОРИЯ\" + -0.147*\"БРАЧНЫЙ\" + -0.129*\"МАХРА\"\n"
     ]
    },
    {
     "name": "stderr",
     "output_type": "stream",
     "text": [
      "2016-10-11 18:12:59,029 : INFO : preparing a new chunk of documents\n"
     ]
    },
    {
     "name": "stderr",
     "output_type": "stream",
     "text": [
      "2016-10-11 18:12:59,032 : INFO : using 100 extra samples and 2 power iterations\n"
     ]
    },
    {
     "name": "stderr",
     "output_type": "stream",
     "text": [
      "2016-10-11 18:12:59,033 : INFO : 1st phase: constructing (24774L, 200L) action matrix\n"
     ]
    },
    {
     "name": "stderr",
     "output_type": "stream",
     "text": [
      "2016-10-11 18:12:59,039 : INFO : orthonormalizing (24774L, 200L) action matrix\n"
     ]
    },
    {
     "name": "stderr",
     "output_type": "stream",
     "text": [
      "2016-10-11 18:13:00,108 : INFO : 2nd phase: running dense svd on (200L, 20L) matrix\n"
     ]
    },
    {
     "name": "stderr",
     "output_type": "stream",
     "text": [
      "2016-10-11 18:13:00,141 : INFO : computing the final decomposition\n"
     ]
    },
    {
     "name": "stderr",
     "output_type": "stream",
     "text": [
      "2016-10-11 18:13:00,141 : INFO : keeping 20 factors (discarding 0.000% of energy spectrum)\n"
     ]
    },
    {
     "name": "stderr",
     "output_type": "stream",
     "text": [
      "2016-10-11 18:13:00,168 : INFO : merging projections: (24774L, 100L) + (24774L, 20L)\n"
     ]
    },
    {
     "name": "stderr",
     "output_type": "stream",
     "text": [
      "2016-10-11 18:13:00,232 : INFO : keeping 100 factors (discarding 0.547% of energy spectrum)\n"
     ]
    },
    {
     "name": "stderr",
     "output_type": "stream",
     "text": [
      "2016-10-11 18:13:00,298 : INFO : processed documents up to #480\n"
     ]
    },
    {
     "name": "stderr",
     "output_type": "stream",
     "text": [
      "2016-10-11 18:13:00,299 : INFO : topic #0(890.264): 0.466*\"АЛЛАХ\" + 0.240*\"КОТОРЫЙ\" + 0.167*\"ЧЕЛОВЕК\" + 0.166*\"МИР\" + 0.161*\"СВОЙ\" + 0.152*\"ВОПРОС\" + 0.136*\"СКАЗАТЬ\" + 0.129*\"ИДДА\" + 0.128*\"ЖЕНЩИНА\" + 0.126*\"ИСТОРИЯ\"\n"
     ]
    },
    {
     "name": "stderr",
     "output_type": "stream",
     "text": [
      "2016-10-11 18:13:00,302 : INFO : topic #1(524.511): -0.514*\"ИДДА\" + -0.350*\"МУЖ\" + -0.340*\"ЖЕНЩИНА\" + 0.267*\"АЛЛАХ\" + -0.260*\"РАЗВОД\" + -0.195*\"ЖЕНА\" + -0.193*\"СРОК\" + -0.138*\"ПЕРИОД\" + -0.120*\"ДОЛЖНЫЙ\" + 0.104*\"МИР\"\n"
     ]
    },
    {
     "name": "stderr",
     "output_type": "stream",
     "text": [
      "2016-10-11 18:13:00,305 : INFO : topic #2(321.002): -0.448*\"АЛЛАХ\" + -0.249*\"ВОПРОС\" + 0.162*\"ИСТОРИЯ\" + -0.149*\"ОТВЕТ\" + 0.136*\"ЧЕЛОВЕК\" + -0.135*\"ОТВЕТИТЬ\" + -0.126*\"ХВАЛА\" + 0.126*\"РАМАДАН\" + -0.117*\"ПОСЛАННИК\" + 0.116*\"КОТОРЫЙ\"\n"
     ]
    },
    {
     "name": "stderr",
     "output_type": "stream",
     "text": [
      "2016-10-11 18:13:00,306 : INFO : topic #3(283.280): 0.312*\"ВОПРОС\" + -0.234*\"АЛЛАХ\" + 0.223*\"ДОГОВОР\" + -0.212*\"НАМАЗ\" + 0.210*\"ОПЕКУН\" + 0.161*\"ОТВЕТИТЬ\" + 0.155*\"НЕВЕСТА\" + 0.152*\"ОТВЕТ\" + 0.148*\"БРАЧНЫЙ\" + -0.129*\"ИДДА\"\n"
     ]
    },
    {
     "name": "stderr",
     "output_type": "stream",
     "text": [
      "2016-10-11 18:13:00,309 : INFO : topic #4(268.148): -0.322*\"АЛЛАХ\" + 0.245*\"ВОПРОС\" + -0.220*\"СКАЗАТЬ\" + -0.217*\"ОПЕКУН\" + -0.200*\"ДОГОВОР\" + -0.169*\"НЕВЕСТА\" + -0.161*\"БРАЧНЫЙ\" + 0.144*\"ИСТОРИЯ\" + 0.141*\"ГОД\" + -0.139*\"МАХРА\"\n"
     ]
    },
    {
     "name": "stderr",
     "output_type": "stream",
     "text": [
      "2016-10-11 18:13:00,392 : INFO : preparing a new chunk of documents\n"
     ]
    },
    {
     "name": "stderr",
     "output_type": "stream",
     "text": [
      "2016-10-11 18:13:00,398 : INFO : using 100 extra samples and 2 power iterations\n"
     ]
    },
    {
     "name": "stderr",
     "output_type": "stream",
     "text": [
      "2016-10-11 18:13:00,398 : INFO : 1st phase: constructing (24774L, 200L) action matrix\n"
     ]
    },
    {
     "name": "stderr",
     "output_type": "stream",
     "text": [
      "2016-10-11 18:13:00,405 : INFO : orthonormalizing (24774L, 200L) action matrix\n"
     ]
    },
    {
     "name": "stderr",
     "output_type": "stream",
     "text": [
      "2016-10-11 18:13:01,499 : INFO : 2nd phase: running dense svd on (200L, 20L) matrix\n"
     ]
    },
    {
     "name": "stderr",
     "output_type": "stream",
     "text": [
      "2016-10-11 18:13:01,529 : INFO : computing the final decomposition\n"
     ]
    },
    {
     "name": "stderr",
     "output_type": "stream",
     "text": [
      "2016-10-11 18:13:01,530 : INFO : keeping 20 factors (discarding 0.000% of energy spectrum)\n"
     ]
    },
    {
     "name": "stderr",
     "output_type": "stream",
     "text": [
      "2016-10-11 18:13:01,551 : INFO : merging projections: (24774L, 100L) + (24774L, 20L)\n"
     ]
    },
    {
     "name": "stderr",
     "output_type": "stream",
     "text": [
      "2016-10-11 18:13:01,615 : INFO : keeping 100 factors (discarding 0.572% of energy spectrum)\n"
     ]
    },
    {
     "name": "stderr",
     "output_type": "stream",
     "text": [
      "2016-10-11 18:13:01,673 : INFO : processed documents up to #500\n"
     ]
    },
    {
     "name": "stderr",
     "output_type": "stream",
     "text": [
      "2016-10-11 18:13:01,674 : INFO : topic #0(902.025): 0.465*\"АЛЛАХ\" + 0.240*\"КОТОРЫЙ\" + 0.167*\"МИР\" + 0.166*\"ЧЕЛОВЕК\" + 0.159*\"СВОЙ\" + 0.152*\"ВОПРОС\" + 0.137*\"СКАЗАТЬ\" + 0.127*\"ИСТОРИЯ\" + 0.125*\"КОРАН\" + 0.124*\"ЖЕНЩИНА\"\n"
     ]
    },
    {
     "name": "stderr",
     "output_type": "stream",
     "text": [
      "2016-10-11 18:13:01,677 : INFO : topic #1(525.676): -0.515*\"ИДДА\" + -0.351*\"МУЖ\" + -0.342*\"ЖЕНЩИНА\" + -0.261*\"РАЗВОД\" + 0.260*\"АЛЛАХ\" + -0.196*\"ЖЕНА\" + -0.194*\"СРОК\" + -0.138*\"ПЕРИОД\" + -0.121*\"ДОЛЖНЫЙ\" + 0.103*\"МИР\"\n"
     ]
    },
    {
     "name": "stderr",
     "output_type": "stream",
     "text": [
      "2016-10-11 18:13:01,678 : INFO : topic #2(322.753): -0.464*\"АЛЛАХ\" + -0.240*\"ВОПРОС\" + 0.164*\"ИСТОРИЯ\" + -0.144*\"ОТВЕТ\" + -0.133*\"ОТВЕТИТЬ\" + 0.132*\"РАМАДАН\" + 0.128*\"ЧЕЛОВЕК\" + -0.124*\"ХВАЛА\" + -0.120*\"ПОСЛАННИК\" + 0.116*\"ИСЛАМСКИЙ\"\n"
     ]
    },
    {
     "name": "stderr",
     "output_type": "stream",
     "text": [
      "2016-10-11 18:13:01,681 : INFO : topic #3(284.564): 0.313*\"ВОПРОС\" + -0.232*\"АЛЛАХ\" + 0.221*\"ДОГОВОР\" + -0.209*\"НАМАЗ\" + 0.205*\"ОПЕКУН\" + 0.161*\"ОТВЕТИТЬ\" + 0.153*\"ОТВЕТ\" + 0.151*\"НЕВЕСТА\" + 0.145*\"БРАЧНЫЙ\" + -0.128*\"ИДДА\"\n"
     ]
    },
    {
     "name": "stderr",
     "output_type": "stream",
     "text": [
      "2016-10-11 18:13:01,684 : INFO : topic #4(270.965): -0.312*\"АЛЛАХ\" + 0.252*\"ВОПРОС\" + -0.213*\"СКАЗАТЬ\" + -0.213*\"ОПЕКУН\" + -0.195*\"ДОГОВОР\" + 0.185*\"ПОСТ\" + -0.166*\"НЕВЕСТА\" + -0.158*\"БРАЧНЫЙ\" + 0.150*\"РАМАДАН\" + -0.137*\"МАХРА\"\n"
     ]
    },
    {
     "name": "stderr",
     "output_type": "stream",
     "text": [
      "2016-10-11 18:13:01,769 : INFO : preparing a new chunk of documents\n"
     ]
    },
    {
     "name": "stderr",
     "output_type": "stream",
     "text": [
      "2016-10-11 18:13:01,775 : INFO : using 100 extra samples and 2 power iterations\n"
     ]
    },
    {
     "name": "stderr",
     "output_type": "stream",
     "text": [
      "2016-10-11 18:13:01,776 : INFO : 1st phase: constructing (24774L, 200L) action matrix\n"
     ]
    },
    {
     "name": "stderr",
     "output_type": "stream",
     "text": [
      "2016-10-11 18:13:01,782 : INFO : orthonormalizing (24774L, 200L) action matrix\n"
     ]
    },
    {
     "name": "stderr",
     "output_type": "stream",
     "text": [
      "2016-10-11 18:13:02,894 : INFO : 2nd phase: running dense svd on (200L, 20L) matrix\n"
     ]
    },
    {
     "name": "stderr",
     "output_type": "stream",
     "text": [
      "2016-10-11 18:13:02,927 : INFO : computing the final decomposition\n"
     ]
    },
    {
     "name": "stderr",
     "output_type": "stream",
     "text": [
      "2016-10-11 18:13:02,930 : INFO : keeping 20 factors (discarding 0.000% of energy spectrum)\n"
     ]
    },
    {
     "name": "stderr",
     "output_type": "stream",
     "text": [
      "2016-10-11 18:13:02,957 : INFO : merging projections: (24774L, 100L) + (24774L, 20L)\n"
     ]
    },
    {
     "name": "stderr",
     "output_type": "stream",
     "text": [
      "2016-10-11 18:13:03,026 : INFO : keeping 100 factors (discarding 0.366% of energy spectrum)\n"
     ]
    },
    {
     "name": "stderr",
     "output_type": "stream",
     "text": [
      "2016-10-11 18:13:03,095 : INFO : processed documents up to #520\n"
     ]
    },
    {
     "name": "stderr",
     "output_type": "stream",
     "text": [
      "2016-10-11 18:13:03,098 : INFO : topic #0(922.778): 0.462*\"АЛЛАХ\" + 0.249*\"КОТОРЫЙ\" + 0.169*\"ЧЕЛОВЕК\" + 0.164*\"МИР\" + 0.156*\"СВОЙ\" + 0.149*\"ВОПРОС\" + 0.135*\"СКАЗАТЬ\" + 0.126*\"ИСТОРИЯ\" + 0.124*\"КОРАН\" + 0.122*\"ПРОРОК\"\n"
     ]
    },
    {
     "name": "stderr",
     "output_type": "stream",
     "text": [
      "2016-10-11 18:13:03,101 : INFO : topic #1(526.891): -0.518*\"ИДДА\" + -0.354*\"МУЖ\" + -0.343*\"ЖЕНЩИНА\" + -0.263*\"РАЗВОД\" + 0.250*\"АЛЛАХ\" + -0.198*\"ЖЕНА\" + -0.194*\"СРОК\" + -0.139*\"ПЕРИОД\" + -0.122*\"ДОЛЖНЫЙ\" + -0.099*\"МНЕНИЕ\"\n"
     ]
    },
    {
     "name": "stderr",
     "output_type": "stream",
     "text": [
      "2016-10-11 18:13:03,105 : INFO : topic #2(325.578): -0.473*\"АЛЛАХ\" + -0.247*\"ВОПРОС\" + 0.156*\"ИСТОРИЯ\" + -0.148*\"ОТВЕТ\" + -0.134*\"ОТВЕТИТЬ\" + 0.129*\"КОТОРЫЙ\" + 0.126*\"ЧЕЛОВЕК\" + -0.126*\"ХВАЛА\" + 0.126*\"РАМАДАН\" + -0.124*\"ПОСЛАННИК\"\n"
     ]
    },
    {
     "name": "stderr",
     "output_type": "stream",
     "text": [
      "2016-10-11 18:13:03,108 : INFO : topic #3(285.324): 0.320*\"ВОПРОС\" + -0.252*\"АЛЛАХ\" + 0.215*\"ДОГОВОР\" + -0.201*\"НАМАЗ\" + 0.198*\"ОПЕКУН\" + 0.157*\"ОТВЕТИТЬ\" + 0.156*\"ОТВЕТ\" + 0.146*\"НЕВЕСТА\" + 0.139*\"БРАЧНЫЙ\" + -0.125*\"ИДДА\"\n"
     ]
    },
    {
     "name": "stderr",
     "output_type": "stream",
     "text": [
      "2016-10-11 18:13:03,109 : INFO : topic #4(273.110): -0.288*\"АЛЛАХ\" + 0.231*\"ВОПРОС\" + -0.217*\"ОПЕКУН\" + 0.211*\"ПОСТ\" + -0.208*\"СКАЗАТЬ\" + -0.202*\"ДОГОВОР\" + 0.175*\"РАМАДАН\" + -0.169*\"НЕВЕСТА\" + -0.161*\"БРАЧНЫЙ\" + -0.138*\"МАХРА\"\n"
     ]
    },
    {
     "name": "stderr",
     "output_type": "stream",
     "text": [
      "2016-10-11 18:13:03,187 : INFO : preparing a new chunk of documents\n"
     ]
    },
    {
     "name": "stderr",
     "output_type": "stream",
     "text": [
      "2016-10-11 18:13:03,191 : INFO : using 100 extra samples and 2 power iterations\n"
     ]
    },
    {
     "name": "stderr",
     "output_type": "stream",
     "text": [
      "2016-10-11 18:13:03,193 : INFO : 1st phase: constructing (24774L, 200L) action matrix\n"
     ]
    },
    {
     "name": "stderr",
     "output_type": "stream",
     "text": [
      "2016-10-11 18:13:03,198 : INFO : orthonormalizing (24774L, 200L) action matrix\n"
     ]
    },
    {
     "name": "stderr",
     "output_type": "stream",
     "text": [
      "2016-10-11 18:13:04,289 : INFO : 2nd phase: running dense svd on (200L, 20L) matrix\n"
     ]
    },
    {
     "name": "stderr",
     "output_type": "stream",
     "text": [
      "2016-10-11 18:13:04,321 : INFO : computing the final decomposition\n"
     ]
    },
    {
     "name": "stderr",
     "output_type": "stream",
     "text": [
      "2016-10-11 18:13:04,322 : INFO : keeping 20 factors (discarding 0.000% of energy spectrum)\n"
     ]
    },
    {
     "name": "stderr",
     "output_type": "stream",
     "text": [
      "2016-10-11 18:13:04,345 : INFO : merging projections: (24774L, 100L) + (24774L, 20L)\n"
     ]
    },
    {
     "name": "stderr",
     "output_type": "stream",
     "text": [
      "2016-10-11 18:13:04,408 : INFO : keeping 100 factors (discarding 0.547% of energy spectrum)\n"
     ]
    },
    {
     "name": "stderr",
     "output_type": "stream",
     "text": [
      "2016-10-11 18:13:04,483 : INFO : processed documents up to #540\n"
     ]
    },
    {
     "name": "stderr",
     "output_type": "stream",
     "text": [
      "2016-10-11 18:13:04,486 : INFO : topic #0(937.554): 0.463*\"АЛЛАХ\" + 0.248*\"КОТОРЫЙ\" + 0.168*\"ЧЕЛОВЕК\" + 0.165*\"МИР\" + 0.155*\"СВОЙ\" + 0.147*\"ВОПРОС\" + 0.138*\"СКАЗАТЬ\" + 0.127*\"ИСТОРИЯ\" + 0.124*\"КОРАН\" + 0.124*\"ПРОРОК\"\n"
     ]
    },
    {
     "name": "stderr",
     "output_type": "stream",
     "text": [
      "2016-10-11 18:13:04,489 : INFO : topic #1(528.062): -0.518*\"ИДДА\" + -0.355*\"МУЖ\" + -0.343*\"ЖЕНЩИНА\" + -0.264*\"РАЗВОД\" + 0.246*\"АЛЛАХ\" + -0.199*\"ЖЕНА\" + -0.195*\"СРОК\" + -0.140*\"ПЕРИОД\" + -0.123*\"ДОЛЖНЫЙ\" + -0.098*\"МНЕНИЕ\"\n"
     ]
    },
    {
     "name": "stderr",
     "output_type": "stream",
     "text": [
      "2016-10-11 18:13:04,492 : INFO : topic #2(327.413): -0.489*\"АЛЛАХ\" + -0.232*\"ВОПРОС\" + 0.161*\"ИСТОРИЯ\" + -0.140*\"ОТВЕТ\" + 0.131*\"РАМАДАН\" + -0.131*\"ОТВЕТИТЬ\" + -0.127*\"ПОСЛАННИК\" + 0.126*\"КОТОРЫЙ\" + 0.123*\"ЧЕЛОВЕК\" + -0.122*\"ХВАЛА\"\n"
     ]
    },
    {
     "name": "stderr",
     "output_type": "stream",
     "text": [
      "2016-10-11 18:13:04,494 : INFO : topic #3(287.055): 0.353*\"ВОПРОС\" + -0.268*\"АЛЛАХ\" + -0.201*\"НАМАЗ\" + 0.183*\"ДОГОВОР\" + 0.171*\"ОТВЕТ\" + 0.163*\"ОПЕКУН\" + 0.160*\"ОТВЕТИТЬ\" + 0.125*\"ЗАДАТЬ\" + 0.124*\"ГОД\" + 0.119*\"НЕВЕСТА\"\n"
     ]
    },
    {
     "name": "stderr",
     "output_type": "stream",
     "text": [
      "2016-10-11 18:13:04,497 : INFO : topic #4(275.155): 0.246*\"ОПЕКУН\" + 0.235*\"АЛЛАХ\" + 0.233*\"ДОГОВОР\" + 0.216*\"СКАЗАТЬ\" + -0.194*\"ВОПРОС\" + 0.190*\"НЕВЕСТА\" + -0.186*\"ПОСТ\" + 0.181*\"БРАЧНЫЙ\" + -0.168*\"РАМАДАН\" + 0.151*\"МАХРА\"\n"
     ]
    },
    {
     "name": "stderr",
     "output_type": "stream",
     "text": [
      "2016-10-11 18:13:04,579 : INFO : preparing a new chunk of documents\n"
     ]
    },
    {
     "name": "stderr",
     "output_type": "stream",
     "text": [
      "2016-10-11 18:13:04,584 : INFO : using 100 extra samples and 2 power iterations\n"
     ]
    },
    {
     "name": "stderr",
     "output_type": "stream",
     "text": [
      "2016-10-11 18:13:04,585 : INFO : 1st phase: constructing (24774L, 200L) action matrix\n"
     ]
    },
    {
     "name": "stderr",
     "output_type": "stream",
     "text": [
      "2016-10-11 18:13:04,591 : INFO : orthonormalizing (24774L, 200L) action matrix\n"
     ]
    },
    {
     "name": "stderr",
     "output_type": "stream",
     "text": [
      "2016-10-11 18:13:05,829 : INFO : 2nd phase: running dense svd on (200L, 20L) matrix\n"
     ]
    },
    {
     "name": "stderr",
     "output_type": "stream",
     "text": [
      "2016-10-11 18:13:05,864 : INFO : computing the final decomposition\n"
     ]
    },
    {
     "name": "stderr",
     "output_type": "stream",
     "text": [
      "2016-10-11 18:13:05,865 : INFO : keeping 20 factors (discarding 0.000% of energy spectrum)\n"
     ]
    },
    {
     "name": "stderr",
     "output_type": "stream",
     "text": [
      "2016-10-11 18:13:05,891 : INFO : merging projections: (24774L, 100L) + (24774L, 20L)\n"
     ]
    },
    {
     "name": "stderr",
     "output_type": "stream",
     "text": [
      "2016-10-11 18:13:05,961 : INFO : keeping 100 factors (discarding 0.562% of energy spectrum)\n"
     ]
    },
    {
     "name": "stderr",
     "output_type": "stream",
     "text": [
      "2016-10-11 18:13:06,029 : INFO : processed documents up to #560\n"
     ]
    },
    {
     "name": "stderr",
     "output_type": "stream",
     "text": [
      "2016-10-11 18:13:06,032 : INFO : topic #0(957.886): 0.466*\"АЛЛАХ\" + 0.249*\"КОТОРЫЙ\" + 0.173*\"ЧЕЛОВЕК\" + 0.164*\"МИР\" + 0.154*\"СВОЙ\" + 0.147*\"ВОПРОС\" + 0.142*\"СКАЗАТЬ\" + 0.126*\"ИСТОРИЯ\" + 0.124*\"КОРАН\" + 0.124*\"ПРОРОК\"\n"
     ]
    },
    {
     "name": "stderr",
     "output_type": "stream",
     "text": [
      "2016-10-11 18:13:06,035 : INFO : topic #1(529.782): -0.519*\"ИДДА\" + -0.357*\"МУЖ\" + -0.345*\"ЖЕНЩИНА\" + -0.266*\"РАЗВОД\" + 0.241*\"АЛЛАХ\" + -0.201*\"ЖЕНА\" + -0.196*\"СРОК\" + -0.140*\"ПЕРИОД\" + -0.125*\"ДОЛЖНЫЙ\" + -0.098*\"МНЕНИЕ\"\n"
     ]
    },
    {
     "name": "stderr",
     "output_type": "stream",
     "text": [
      "2016-10-11 18:13:06,036 : INFO : topic #2(328.731): -0.498*\"АЛЛАХ\" + -0.225*\"ВОПРОС\" + 0.162*\"ИСТОРИЯ\" + -0.138*\"ОТВЕТ\" + -0.130*\"ОТВЕТИТЬ\" + 0.130*\"КОТОРЫЙ\" + 0.129*\"РАМАДАН\" + 0.129*\"ЧЕЛОВЕК\" + -0.129*\"ПОСЛАННИК\" + -0.121*\"ХВАЛА\"\n"
     ]
    },
    {
     "name": "stderr",
     "output_type": "stream",
     "text": [
      "2016-10-11 18:13:06,039 : INFO : topic #3(289.544): 0.361*\"ВОПРОС\" + -0.266*\"АЛЛАХ\" + -0.202*\"НАМАЗ\" + 0.176*\"ОТВЕТ\" + -0.164*\"МОЛИТВА\" + 0.161*\"ДОГОВОР\" + 0.160*\"ОТВЕТИТЬ\" + 0.138*\"ОПЕКУН\" + 0.133*\"ГОД\" + 0.129*\"ЗАДАТЬ\"\n"
     ]
    },
    {
     "name": "stderr",
     "output_type": "stream",
     "text": [
      "2016-10-11 18:13:06,042 : INFO : topic #4(276.415): 0.255*\"ОПЕКУН\" + 0.241*\"ДОГОВОР\" + 0.215*\"СКАЗАТЬ\" + 0.211*\"АЛЛАХ\" + 0.195*\"НЕВЕСТА\" + -0.190*\"ПОСТ\" + 0.186*\"БРАЧНЫЙ\" + -0.171*\"ВОПРОС\" + -0.169*\"РАМАДАН\" + 0.154*\"МАХРА\"\n"
     ]
    },
    {
     "name": "stderr",
     "output_type": "stream",
     "text": [
      "2016-10-11 18:13:06,138 : INFO : preparing a new chunk of documents\n"
     ]
    },
    {
     "name": "stderr",
     "output_type": "stream",
     "text": [
      "2016-10-11 18:13:06,151 : INFO : using 100 extra samples and 2 power iterations\n"
     ]
    },
    {
     "name": "stderr",
     "output_type": "stream",
     "text": [
      "2016-10-11 18:13:06,153 : INFO : 1st phase: constructing (24774L, 200L) action matrix\n"
     ]
    },
    {
     "name": "stderr",
     "output_type": "stream",
     "text": [
      "2016-10-11 18:13:06,161 : INFO : orthonormalizing (24774L, 200L) action matrix\n"
     ]
    },
    {
     "name": "stderr",
     "output_type": "stream",
     "text": [
      "2016-10-11 18:13:07,471 : INFO : 2nd phase: running dense svd on (200L, 20L) matrix\n"
     ]
    },
    {
     "name": "stderr",
     "output_type": "stream",
     "text": [
      "2016-10-11 18:13:07,503 : INFO : computing the final decomposition\n"
     ]
    },
    {
     "name": "stderr",
     "output_type": "stream",
     "text": [
      "2016-10-11 18:13:07,503 : INFO : keeping 20 factors (discarding 0.000% of energy spectrum)\n"
     ]
    },
    {
     "name": "stderr",
     "output_type": "stream",
     "text": [
      "2016-10-11 18:13:07,523 : INFO : merging projections: (24774L, 100L) + (24774L, 20L)\n"
     ]
    },
    {
     "name": "stderr",
     "output_type": "stream",
     "text": [
      "2016-10-11 18:13:07,588 : INFO : keeping 100 factors (discarding 0.483% of energy spectrum)\n"
     ]
    },
    {
     "name": "stderr",
     "output_type": "stream",
     "text": [
      "2016-10-11 18:13:07,655 : INFO : processed documents up to #580\n"
     ]
    },
    {
     "name": "stderr",
     "output_type": "stream",
     "text": [
      "2016-10-11 18:13:07,657 : INFO : topic #0(1004.491): 0.503*\"АЛЛАХ\" + 0.252*\"КОТОРЫЙ\" + 0.178*\"ЧЕЛОВЕК\" + 0.168*\"МИР\" + 0.150*\"СВОЙ\" + 0.149*\"ВОПРОС\" + 0.140*\"СКАЗАТЬ\" + 0.133*\"ПРОРОК\" + 0.121*\"ИСТОРИЯ\" + 0.119*\"КОРАН\"\n"
     ]
    },
    {
     "name": "stderr",
     "output_type": "stream",
     "text": [
      "2016-10-11 18:13:07,661 : INFO : topic #1(537.119): -0.515*\"ИДДА\" + -0.358*\"МУЖ\" + -0.348*\"ЖЕНЩИНА\" + -0.268*\"РАЗВОД\" + 0.263*\"АЛЛАХ\" + -0.202*\"ЖЕНА\" + -0.196*\"СРОК\" + -0.140*\"ПЕРИОД\" + -0.131*\"ДОЛЖНЫЙ\" + -0.101*\"МНЕНИЕ\"\n"
     ]
    },
    {
     "name": "stderr",
     "output_type": "stream",
     "text": [
      "2016-10-11 18:13:07,663 : INFO : topic #2(346.959): -0.570*\"АЛЛАХ\" + 0.177*\"ИСТОРИЯ\" + -0.164*\"ПОСЛАННИК\" + 0.152*\"РАМАДАН\" + -0.133*\"ИДДА\" + 0.132*\"САЙТ\" + 0.131*\"ИСЛАМСКИЙ\" + 0.125*\"ОБЩЕСТВО\" + 0.116*\"ИМАМ\" + 0.111*\"ПРАВО\"\n"
     ]
    },
    {
     "name": "stderr",
     "output_type": "stream",
     "text": [
      "2016-10-11 18:13:07,664 : INFO : topic #3(297.453): 0.444*\"ВОПРОС\" + 0.227*\"ОТВЕТ\" + 0.194*\"ОТВЕТИТЬ\" + -0.188*\"АЛЛАХ\" + 0.164*\"ЗАДАТЬ\" + 0.157*\"ХВАЛА\" + -0.154*\"ЧЕЛОВЕК\" + 0.132*\"ГОД\" + 0.131*\"ЗНАТЬ\" + 0.130*\"СЕМЬЯ\"\n"
     ]
    },
    {
     "name": "stderr",
     "output_type": "stream",
     "text": [
      "2016-10-11 18:13:07,668 : INFO : topic #4(279.273): 0.283*\"ОПЕКУН\" + 0.278*\"ДОГОВОР\" + -0.231*\"ПОСТ\" + 0.215*\"НЕВЕСТА\" + 0.205*\"БРАЧНЫЙ\" + 0.173*\"СКАЗАТЬ\" + 0.165*\"МАХРА\" + 0.160*\"ОТЕЦ\" + -0.159*\"РАМАДАН\" + -0.143*\"ИДДА\"\n"
     ]
    },
    {
     "name": "stderr",
     "output_type": "stream",
     "text": [
      "2016-10-11 18:13:07,739 : INFO : preparing a new chunk of documents\n"
     ]
    },
    {
     "name": "stderr",
     "output_type": "stream",
     "text": [
      "2016-10-11 18:13:07,743 : INFO : using 100 extra samples and 2 power iterations\n"
     ]
    },
    {
     "name": "stderr",
     "output_type": "stream",
     "text": [
      "2016-10-11 18:13:07,743 : INFO : 1st phase: constructing (24774L, 200L) action matrix\n"
     ]
    },
    {
     "name": "stderr",
     "output_type": "stream",
     "text": [
      "2016-10-11 18:13:07,749 : INFO : orthonormalizing (24774L, 200L) action matrix\n"
     ]
    },
    {
     "name": "stderr",
     "output_type": "stream",
     "text": [
      "2016-10-11 18:13:08,892 : INFO : 2nd phase: running dense svd on (200L, 20L) matrix\n"
     ]
    },
    {
     "name": "stderr",
     "output_type": "stream",
     "text": [
      "2016-10-11 18:13:08,924 : INFO : computing the final decomposition\n"
     ]
    },
    {
     "name": "stderr",
     "output_type": "stream",
     "text": [
      "2016-10-11 18:13:08,924 : INFO : keeping 20 factors (discarding 0.000% of energy spectrum)\n"
     ]
    },
    {
     "name": "stderr",
     "output_type": "stream",
     "text": [
      "2016-10-11 18:13:08,951 : INFO : merging projections: (24774L, 100L) + (24774L, 20L)\n"
     ]
    },
    {
     "name": "stderr",
     "output_type": "stream",
     "text": [
      "2016-10-11 18:13:09,020 : INFO : keeping 100 factors (discarding 0.296% of energy spectrum)\n"
     ]
    },
    {
     "name": "stderr",
     "output_type": "stream",
     "text": [
      "2016-10-11 18:13:09,088 : INFO : processed documents up to #600\n"
     ]
    },
    {
     "name": "stderr",
     "output_type": "stream",
     "text": [
      "2016-10-11 18:13:09,089 : INFO : topic #0(1043.245): 0.520*\"АЛЛАХ\" + 0.256*\"КОТОРЫЙ\" + 0.183*\"ЧЕЛОВЕК\" + 0.169*\"МИР\" + 0.151*\"ВОПРОС\" + 0.144*\"СКАЗАТЬ\" + 0.143*\"ПРОРОК\" + 0.141*\"СВОЙ\" + 0.117*\"КОРАН\" + 0.117*\"ИСТОРИЯ\"\n"
     ]
    },
    {
     "name": "stderr",
     "output_type": "stream",
     "text": [
      "2016-10-11 18:13:09,092 : INFO : topic #1(542.077): -0.511*\"ИДДА\" + -0.358*\"МУЖ\" + -0.349*\"ЖЕНЩИНА\" + -0.270*\"РАЗВОД\" + 0.268*\"АЛЛАХ\" + -0.204*\"ЖЕНА\" + -0.196*\"СРОК\" + -0.140*\"ПЕРИОД\" + -0.134*\"ДОЛЖНЫЙ\" + -0.103*\"МНЕНИЕ\"\n"
     ]
    },
    {
     "name": "stderr",
     "output_type": "stream",
     "text": [
      "2016-10-11 18:13:09,095 : INFO : topic #2(359.784): -0.561*\"АЛЛАХ\" + 0.185*\"ИСТОРИЯ\" + 0.166*\"РАМАДАН\" + -0.159*\"ПОСЛАННИК\" + -0.149*\"ИДДА\" + 0.142*\"САЙТ\" + 0.138*\"ИСЛАМСКИЙ\" + 0.129*\"ОБЩЕСТВО\" + 0.119*\"ИМАМ\" + 0.115*\"ПРАВО\"\n"
     ]
    },
    {
     "name": "stderr",
     "output_type": "stream",
     "text": [
      "2016-10-11 18:13:09,098 : INFO : topic #3(304.253): -0.439*\"ВОПРОС\" + -0.234*\"ОТВЕТ\" + -0.188*\"ОТВЕТИТЬ\" + 0.177*\"ЧЕЛОВЕК\" + -0.168*\"ЗАДАТЬ\" + -0.168*\"ХВАЛА\" + 0.159*\"КОТОРЫЙ\" + -0.149*\"СВОЙ\" + -0.137*\"СЕМЬЯ\" + -0.135*\"ГОД\"\n"
     ]
    },
    {
     "name": "stderr",
     "output_type": "stream",
     "text": [
      "2016-10-11 18:13:09,099 : INFO : topic #4(281.461): 0.273*\"ОПЕКУН\" + 0.272*\"ДОГОВОР\" + -0.251*\"ПОСТ\" + 0.207*\"НЕВЕСТА\" + -0.202*\"НАМАЗ\" + 0.198*\"БРАЧНЫЙ\" + -0.178*\"МОЛИТВА\" + 0.157*\"МАХРА\" + 0.157*\"ОТЕЦ\" + 0.150*\"СКАЗАТЬ\"\n"
     ]
    },
    {
     "name": "stderr",
     "output_type": "stream",
     "text": [
      "2016-10-11 18:13:09,177 : INFO : preparing a new chunk of documents\n"
     ]
    },
    {
     "name": "stderr",
     "output_type": "stream",
     "text": [
      "2016-10-11 18:13:09,180 : INFO : using 100 extra samples and 2 power iterations\n"
     ]
    },
    {
     "name": "stderr",
     "output_type": "stream",
     "text": [
      "2016-10-11 18:13:09,181 : INFO : 1st phase: constructing (24774L, 200L) action matrix\n"
     ]
    },
    {
     "name": "stderr",
     "output_type": "stream",
     "text": [
      "2016-10-11 18:13:09,187 : INFO : orthonormalizing (24774L, 200L) action matrix\n"
     ]
    },
    {
     "name": "stderr",
     "output_type": "stream",
     "text": [
      "2016-10-11 18:13:10,305 : INFO : 2nd phase: running dense svd on (200L, 20L) matrix\n"
     ]
    },
    {
     "name": "stderr",
     "output_type": "stream",
     "text": [
      "2016-10-11 18:13:10,336 : INFO : computing the final decomposition\n"
     ]
    },
    {
     "name": "stderr",
     "output_type": "stream",
     "text": [
      "2016-10-11 18:13:10,338 : INFO : keeping 20 factors (discarding 0.000% of energy spectrum)\n"
     ]
    },
    {
     "name": "stderr",
     "output_type": "stream",
     "text": [
      "2016-10-11 18:13:10,361 : INFO : merging projections: (24774L, 100L) + (24774L, 20L)\n"
     ]
    },
    {
     "name": "stderr",
     "output_type": "stream",
     "text": [
      "2016-10-11 18:13:10,424 : INFO : keeping 100 factors (discarding 0.513% of energy spectrum)\n"
     ]
    },
    {
     "name": "stderr",
     "output_type": "stream",
     "text": [
      "2016-10-11 18:13:10,489 : INFO : processed documents up to #620\n"
     ]
    },
    {
     "name": "stderr",
     "output_type": "stream",
     "text": [
      "2016-10-11 18:13:10,490 : INFO : topic #0(1057.710): 0.518*\"АЛЛАХ\" + 0.257*\"КОТОРЫЙ\" + 0.183*\"ЧЕЛОВЕК\" + 0.169*\"МИР\" + 0.149*\"ВОПРОС\" + 0.143*\"ПРОРОК\" + 0.142*\"СКАЗАТЬ\" + 0.142*\"СВОЙ\" + 0.119*\"КОРАН\" + 0.118*\"ИСТОРИЯ\"\n"
     ]
    },
    {
     "name": "stderr",
     "output_type": "stream",
     "text": [
      "2016-10-11 18:13:10,493 : INFO : topic #1(542.679): -0.512*\"ИДДА\" + -0.359*\"МУЖ\" + -0.350*\"ЖЕНЩИНА\" + -0.270*\"РАЗВОД\" + 0.263*\"АЛЛАХ\" + -0.205*\"ЖЕНА\" + -0.196*\"СРОК\" + -0.140*\"ПЕРИОД\" + -0.135*\"ДОЛЖНЫЙ\" + -0.104*\"МНЕНИЕ\"\n"
     ]
    },
    {
     "name": "stderr",
     "output_type": "stream",
     "text": [
      "2016-10-11 18:13:10,494 : INFO : topic #2(363.286): -0.565*\"АЛЛАХ\" + 0.189*\"РАМАДАН\" + 0.184*\"ИСТОРИЯ\" + -0.162*\"ПОСЛАННИК\" + -0.143*\"ИДДА\" + 0.141*\"САЙТ\" + 0.138*\"ИСЛАМСКИЙ\" + 0.129*\"ОБЩЕСТВО\" + 0.114*\"ПРАВО\" + 0.114*\"ИМАМ\"\n"
     ]
    },
    {
     "name": "stderr",
     "output_type": "stream",
     "text": [
      "2016-10-11 18:13:10,497 : INFO : topic #3(305.068): -0.437*\"ВОПРОС\" + -0.232*\"ОТВЕТ\" + -0.189*\"ОТВЕТИТЬ\" + 0.173*\"ЧЕЛОВЕК\" + -0.167*\"ЗАДАТЬ\" + -0.167*\"ХВАЛА\" + -0.151*\"СВОЙ\" + 0.150*\"КОТОРЫЙ\" + 0.136*\"МОЛИТВА\" + -0.135*\"СЕМЬЯ\"\n"
     ]
    },
    {
     "name": "stderr",
     "output_type": "stream",
     "text": [
      "2016-10-11 18:13:10,500 : INFO : topic #4(284.815): -0.306*\"ПОСТ\" + 0.256*\"ДОГОВОР\" + 0.255*\"ОПЕКУН\" + -0.195*\"МОЛИТВА\" + 0.194*\"НЕВЕСТА\" + 0.185*\"БРАЧНЫЙ\" + -0.184*\"РАМАДАН\" + -0.182*\"НАМАЗ\" + -0.158*\"МЕСЯЦ\" + -0.151*\"ДЕНЬ\"\n"
     ]
    },
    {
     "name": "stderr",
     "output_type": "stream",
     "text": [
      "2016-10-11 18:13:10,579 : INFO : preparing a new chunk of documents\n"
     ]
    },
    {
     "name": "stderr",
     "output_type": "stream",
     "text": [
      "2016-10-11 18:13:10,584 : INFO : using 100 extra samples and 2 power iterations\n"
     ]
    },
    {
     "name": "stderr",
     "output_type": "stream",
     "text": [
      "2016-10-11 18:13:10,585 : INFO : 1st phase: constructing (24774L, 200L) action matrix\n"
     ]
    },
    {
     "name": "stderr",
     "output_type": "stream",
     "text": [
      "2016-10-11 18:13:10,591 : INFO : orthonormalizing (24774L, 200L) action matrix\n"
     ]
    },
    {
     "name": "stderr",
     "output_type": "stream",
     "text": [
      "2016-10-11 18:13:11,710 : INFO : 2nd phase: running dense svd on (200L, 20L) matrix\n"
     ]
    },
    {
     "name": "stderr",
     "output_type": "stream",
     "text": [
      "2016-10-11 18:13:11,742 : INFO : computing the final decomposition\n"
     ]
    },
    {
     "name": "stderr",
     "output_type": "stream",
     "text": [
      "2016-10-11 18:13:11,743 : INFO : keeping 20 factors (discarding 0.000% of energy spectrum)\n"
     ]
    },
    {
     "name": "stderr",
     "output_type": "stream",
     "text": [
      "2016-10-11 18:13:11,769 : INFO : merging projections: (24774L, 100L) + (24774L, 20L)\n"
     ]
    },
    {
     "name": "stderr",
     "output_type": "stream",
     "text": [
      "2016-10-11 18:13:11,841 : INFO : keeping 100 factors (discarding 0.570% of energy spectrum)\n"
     ]
    },
    {
     "name": "stderr",
     "output_type": "stream",
     "text": [
      "2016-10-11 18:13:11,908 : INFO : processed documents up to #640\n"
     ]
    },
    {
     "name": "stderr",
     "output_type": "stream",
     "text": [
      "2016-10-11 18:13:11,911 : INFO : topic #0(1080.551): 0.519*\"АЛЛАХ\" + 0.258*\"КОТОРЫЙ\" + 0.187*\"ЧЕЛОВЕК\" + 0.171*\"МИР\" + 0.146*\"ВОПРОС\" + 0.146*\"СКАЗАТЬ\" + 0.143*\"ПРОРОК\" + 0.142*\"СВОЙ\" + 0.123*\"КОРАН\" + 0.117*\"ИСТОРИЯ\"\n"
     ]
    },
    {
     "name": "stderr",
     "output_type": "stream",
     "text": [
      "2016-10-11 18:13:11,914 : INFO : topic #1(544.057): -0.512*\"ИДДА\" + -0.359*\"МУЖ\" + -0.350*\"ЖЕНЩИНА\" + -0.271*\"РАЗВОД\" + 0.259*\"АЛЛАХ\" + -0.205*\"ЖЕНА\" + -0.197*\"СРОК\" + -0.140*\"ПЕРИОД\" + -0.136*\"ДОЛЖНЫЙ\" + -0.104*\"МНЕНИЕ\"\n"
     ]
    },
    {
     "name": "stderr",
     "output_type": "stream",
     "text": [
      "2016-10-11 18:13:11,915 : INFO : topic #2(365.435): -0.567*\"АЛЛАХ\" + 0.186*\"РАМАДАН\" + 0.184*\"ИСТОРИЯ\" + -0.161*\"ПОСЛАННИК\" + -0.144*\"ИДДА\" + 0.141*\"САЙТ\" + 0.137*\"ИСЛАМСКИЙ\" + 0.129*\"ОБЩЕСТВО\" + 0.116*\"ПРАВО\" + 0.113*\"ИМАМ\"\n"
     ]
    },
    {
     "name": "stderr",
     "output_type": "stream",
     "text": [
      "2016-10-11 18:13:11,917 : INFO : topic #3(307.189): -0.438*\"ВОПРОС\" + -0.233*\"ОТВЕТ\" + -0.190*\"ОТВЕТИТЬ\" + 0.182*\"ЧЕЛОВЕК\" + -0.167*\"ЗАДАТЬ\" + -0.167*\"ХВАЛА\" + 0.157*\"КОТОРЫЙ\" + -0.145*\"СВОЙ\" + 0.139*\"СКАЗАТЬ\" + -0.137*\"ГОД\"\n"
     ]
    },
    {
     "name": "stderr",
     "output_type": "stream",
     "text": [
      "2016-10-11 18:13:11,920 : INFO : topic #4(285.609): -0.317*\"ПОСТ\" + 0.249*\"ДОГОВОР\" + 0.247*\"ОПЕКУН\" + -0.212*\"МОЛИТВА\" + -0.196*\"НАМАЗ\" + 0.188*\"НЕВЕСТА\" + -0.188*\"РАМАДАН\" + 0.179*\"БРАЧНЫЙ\" + -0.161*\"МЕСЯЦ\" + -0.158*\"ДЕНЬ\"\n"
     ]
    },
    {
     "name": "stderr",
     "output_type": "stream",
     "text": [
      "2016-10-11 18:13:12,007 : INFO : preparing a new chunk of documents\n"
     ]
    },
    {
     "name": "stderr",
     "output_type": "stream",
     "text": [
      "2016-10-11 18:13:12,013 : INFO : using 100 extra samples and 2 power iterations\n"
     ]
    },
    {
     "name": "stderr",
     "output_type": "stream",
     "text": [
      "2016-10-11 18:13:12,015 : INFO : 1st phase: constructing (24774L, 200L) action matrix\n"
     ]
    },
    {
     "name": "stderr",
     "output_type": "stream",
     "text": [
      "2016-10-11 18:13:12,022 : INFO : orthonormalizing (24774L, 200L) action matrix\n"
     ]
    },
    {
     "name": "stderr",
     "output_type": "stream",
     "text": [
      "2016-10-11 18:13:13,221 : INFO : 2nd phase: running dense svd on (200L, 20L) matrix\n"
     ]
    },
    {
     "name": "stderr",
     "output_type": "stream",
     "text": [
      "2016-10-11 18:13:13,250 : INFO : computing the final decomposition\n"
     ]
    },
    {
     "name": "stderr",
     "output_type": "stream",
     "text": [
      "2016-10-11 18:13:13,253 : INFO : keeping 20 factors (discarding 0.000% of energy spectrum)\n"
     ]
    },
    {
     "name": "stderr",
     "output_type": "stream",
     "text": [
      "2016-10-11 18:13:13,278 : INFO : merging projections: (24774L, 100L) + (24774L, 20L)\n"
     ]
    },
    {
     "name": "stderr",
     "output_type": "stream",
     "text": [
      "2016-10-11 18:13:13,351 : INFO : keeping 100 factors (discarding 0.462% of energy spectrum)\n"
     ]
    },
    {
     "name": "stderr",
     "output_type": "stream",
     "text": [
      "2016-10-11 18:13:13,421 : INFO : processed documents up to #660\n"
     ]
    },
    {
     "name": "stderr",
     "output_type": "stream",
     "text": [
      "2016-10-11 18:13:13,423 : INFO : topic #0(1093.018): 0.517*\"АЛЛАХ\" + 0.258*\"КОТОРЫЙ\" + 0.187*\"ЧЕЛОВЕК\" + 0.171*\"МИР\" + 0.147*\"ВОПРОС\" + 0.145*\"СКАЗАТЬ\" + 0.144*\"ПРОРОК\" + 0.142*\"СВОЙ\" + 0.123*\"КОРАН\" + 0.118*\"ИСТОРИЯ\"\n"
     ]
    },
    {
     "name": "stderr",
     "output_type": "stream",
     "text": [
      "2016-10-11 18:13:13,426 : INFO : topic #1(544.670): -0.512*\"ИДДА\" + -0.359*\"МУЖ\" + -0.351*\"ЖЕНЩИНА\" + -0.271*\"РАЗВОД\" + 0.257*\"АЛЛАХ\" + -0.205*\"ЖЕНА\" + -0.197*\"СРОК\" + -0.140*\"ПЕРИОД\" + -0.136*\"ДОЛЖНЫЙ\" + -0.105*\"МНЕНИЕ\"\n"
     ]
    },
    {
     "name": "stderr",
     "output_type": "stream",
     "text": [
      "2016-10-11 18:13:13,427 : INFO : topic #2(369.180): -0.573*\"АЛЛАХ\" + 0.188*\"ИСТОРИЯ\" + 0.183*\"РАМАДАН\" + -0.161*\"ПОСЛАННИК\" + -0.143*\"ИДДА\" + 0.141*\"САЙТ\" + 0.139*\"ИСЛАМСКИЙ\" + 0.130*\"ОБЩЕСТВО\" + 0.116*\"ПРАВО\" + 0.110*\"ИМАМ\"\n"
     ]
    },
    {
     "name": "stderr",
     "output_type": "stream",
     "text": [
      "2016-10-11 18:13:13,428 : INFO : topic #3(308.364): 0.434*\"ВОПРОС\" + 0.231*\"ОТВЕТ\" + 0.189*\"ОТВЕТИТЬ\" + -0.185*\"ЧЕЛОВЕК\" + 0.166*\"ЗАДАТЬ\" + 0.165*\"ХВАЛА\" + -0.149*\"КОТОРЫЙ\" + 0.142*\"СВОЙ\" + 0.141*\"ГОД\" + 0.139*\"ТОВАР\"\n"
     ]
    },
    {
     "name": "stderr",
     "output_type": "stream",
     "text": [
      "2016-10-11 18:13:13,430 : INFO : topic #4(285.951): -0.319*\"ПОСТ\" + 0.249*\"ДОГОВОР\" + 0.245*\"ОПЕКУН\" + -0.211*\"МОЛИТВА\" + -0.194*\"НАМАЗ\" + -0.189*\"РАМАДАН\" + 0.186*\"НЕВЕСТА\" + 0.178*\"БРАЧНЫЙ\" + -0.163*\"МЕСЯЦ\" + -0.159*\"ДЕНЬ\"\n"
     ]
    },
    {
     "name": "stderr",
     "output_type": "stream",
     "text": [
      "2016-10-11 18:13:13,512 : INFO : preparing a new chunk of documents\n"
     ]
    },
    {
     "name": "stderr",
     "output_type": "stream",
     "text": [
      "2016-10-11 18:13:13,516 : INFO : using 100 extra samples and 2 power iterations\n"
     ]
    },
    {
     "name": "stderr",
     "output_type": "stream",
     "text": [
      "2016-10-11 18:13:13,516 : INFO : 1st phase: constructing (24774L, 200L) action matrix\n"
     ]
    },
    {
     "name": "stderr",
     "output_type": "stream",
     "text": [
      "2016-10-11 18:13:13,522 : INFO : orthonormalizing (24774L, 200L) action matrix\n"
     ]
    },
    {
     "name": "stderr",
     "output_type": "stream",
     "text": [
      "2016-10-11 18:13:14,740 : INFO : 2nd phase: running dense svd on (200L, 20L) matrix\n"
     ]
    },
    {
     "name": "stderr",
     "output_type": "stream",
     "text": [
      "2016-10-11 18:13:14,780 : INFO : computing the final decomposition\n"
     ]
    },
    {
     "name": "stderr",
     "output_type": "stream",
     "text": [
      "2016-10-11 18:13:14,782 : INFO : keeping 20 factors (discarding 0.000% of energy spectrum)\n"
     ]
    },
    {
     "name": "stderr",
     "output_type": "stream",
     "text": [
      "2016-10-11 18:13:14,815 : INFO : merging projections: (24774L, 100L) + (24774L, 20L)\n"
     ]
    },
    {
     "name": "stderr",
     "output_type": "stream",
     "text": [
      "2016-10-11 18:13:14,917 : INFO : keeping 100 factors (discarding 0.296% of energy spectrum)\n"
     ]
    },
    {
     "name": "stderr",
     "output_type": "stream",
     "text": [
      "2016-10-11 18:13:14,993 : INFO : processed documents up to #680\n"
     ]
    },
    {
     "name": "stderr",
     "output_type": "stream",
     "text": [
      "2016-10-11 18:13:14,996 : INFO : topic #0(1103.748): 0.515*\"АЛЛАХ\" + 0.258*\"КОТОРЫЙ\" + 0.186*\"ЧЕЛОВЕК\" + 0.171*\"МИР\" + 0.147*\"ВОПРОС\" + 0.145*\"ПРОРОК\" + 0.145*\"СКАЗАТЬ\" + 0.142*\"СВОЙ\" + 0.125*\"КОРАН\" + 0.118*\"ИСТОРИЯ\"\n"
     ]
    },
    {
     "name": "stderr",
     "output_type": "stream",
     "text": [
      "2016-10-11 18:13:15,000 : INFO : topic #1(545.036): -0.512*\"ИДДА\" + -0.360*\"МУЖ\" + -0.352*\"ЖЕНЩИНА\" + -0.272*\"РАЗВОД\" + 0.254*\"АЛЛАХ\" + -0.206*\"ЖЕНА\" + -0.197*\"СРОК\" + -0.140*\"ПЕРИОД\" + -0.136*\"ДОЛЖНЫЙ\" + -0.105*\"МНЕНИЕ\"\n"
     ]
    },
    {
     "name": "stderr",
     "output_type": "stream",
     "text": [
      "2016-10-11 18:13:15,002 : INFO : topic #2(371.665): -0.578*\"АЛЛАХ\" + 0.188*\"ИСТОРИЯ\" + 0.182*\"РАМАДАН\" + -0.161*\"ПОСЛАННИК\" + 0.142*\"САЙТ\" + -0.141*\"ИДДА\" + 0.140*\"ИСЛАМСКИЙ\" + 0.132*\"ОБЩЕСТВО\" + 0.115*\"ПРАВО\" + 0.107*\"ИМАМ\"\n"
     ]
    },
    {
     "name": "stderr",
     "output_type": "stream",
     "text": [
      "2016-10-11 18:13:15,005 : INFO : topic #3(308.660): 0.436*\"ВОПРОС\" + 0.231*\"ОТВЕТ\" + 0.188*\"ОТВЕТИТЬ\" + -0.185*\"ЧЕЛОВЕК\" + 0.166*\"ЗАДАТЬ\" + 0.165*\"ХВАЛА\" + -0.148*\"КОТОРЫЙ\" + 0.144*\"СВОЙ\" + 0.142*\"ГОД\" + 0.138*\"ТОВАР\"\n"
     ]
    },
    {
     "name": "stderr",
     "output_type": "stream",
     "text": [
      "2016-10-11 18:13:15,006 : INFO : topic #4(286.471): -0.322*\"ПОСТ\" + 0.241*\"ДОГОВОР\" + 0.237*\"ОПЕКУН\" + -0.225*\"МОЛИТВА\" + -0.210*\"НАМАЗ\" + -0.190*\"РАМАДАН\" + 0.180*\"НЕВЕСТА\" + 0.172*\"БРАЧНЫЙ\" + -0.164*\"МЕСЯЦ\" + -0.159*\"ДЕНЬ\"\n"
     ]
    },
    {
     "name": "stderr",
     "output_type": "stream",
     "text": [
      "2016-10-11 18:13:15,105 : INFO : preparing a new chunk of documents\n"
     ]
    },
    {
     "name": "stderr",
     "output_type": "stream",
     "text": [
      "2016-10-11 18:13:15,109 : INFO : using 100 extra samples and 2 power iterations\n"
     ]
    },
    {
     "name": "stderr",
     "output_type": "stream",
     "text": [
      "2016-10-11 18:13:15,111 : INFO : 1st phase: constructing (24774L, 200L) action matrix\n"
     ]
    },
    {
     "name": "stderr",
     "output_type": "stream",
     "text": [
      "2016-10-11 18:13:15,117 : INFO : orthonormalizing (24774L, 200L) action matrix\n"
     ]
    },
    {
     "name": "stderr",
     "output_type": "stream",
     "text": [
      "2016-10-11 18:13:16,341 : INFO : 2nd phase: running dense svd on (200L, 20L) matrix\n"
     ]
    },
    {
     "name": "stderr",
     "output_type": "stream",
     "text": [
      "2016-10-11 18:13:16,371 : INFO : computing the final decomposition\n"
     ]
    },
    {
     "name": "stderr",
     "output_type": "stream",
     "text": [
      "2016-10-11 18:13:16,371 : INFO : keeping 20 factors (discarding 0.000% of energy spectrum)\n"
     ]
    },
    {
     "name": "stderr",
     "output_type": "stream",
     "text": [
      "2016-10-11 18:13:16,395 : INFO : merging projections: (24774L, 100L) + (24774L, 20L)\n"
     ]
    },
    {
     "name": "stderr",
     "output_type": "stream",
     "text": [
      "2016-10-11 18:13:16,460 : INFO : keeping 100 factors (discarding 0.420% of energy spectrum)\n"
     ]
    },
    {
     "name": "stderr",
     "output_type": "stream",
     "text": [
      "2016-10-11 18:13:16,525 : INFO : processed documents up to #700\n"
     ]
    },
    {
     "name": "stderr",
     "output_type": "stream",
     "text": [
      "2016-10-11 18:13:16,526 : INFO : topic #0(1119.537): 0.515*\"АЛЛАХ\" + 0.256*\"КОТОРЫЙ\" + 0.189*\"ЧЕЛОВЕК\" + 0.172*\"МИР\" + 0.146*\"ПРОРОК\" + 0.145*\"СКАЗАТЬ\" + 0.145*\"ВОПРОС\" + 0.142*\"СВОЙ\" + 0.125*\"КОРАН\" + 0.118*\"ИСТОРИЯ\"\n"
     ]
    },
    {
     "name": "stderr",
     "output_type": "stream",
     "text": [
      "2016-10-11 18:13:16,529 : INFO : topic #1(545.803): -0.512*\"ИДДА\" + -0.360*\"МУЖ\" + -0.352*\"ЖЕНЩИНА\" + -0.272*\"РАЗВОД\" + 0.251*\"АЛЛАХ\" + -0.206*\"ЖЕНА\" + -0.197*\"СРОК\" + -0.140*\"ПЕРИОД\" + -0.135*\"ДОЛЖНЫЙ\" + -0.105*\"МНЕНИЕ\"\n"
     ]
    },
    {
     "name": "stderr",
     "output_type": "stream",
     "text": [
      "2016-10-11 18:13:16,530 : INFO : topic #2(374.031): -0.579*\"АЛЛАХ\" + 0.189*\"ИСТОРИЯ\" + 0.187*\"РАМАДАН\" + -0.162*\"ПОСЛАННИК\" + 0.142*\"САЙТ\" + 0.140*\"ИСЛАМСКИЙ\" + -0.139*\"ИДДА\" + 0.130*\"ОБЩЕСТВО\" + 0.113*\"ПРАВО\" + 0.107*\"МАТЕРИАЛ\"\n"
     ]
    },
    {
     "name": "stderr",
     "output_type": "stream",
     "text": [
      "2016-10-11 18:13:16,533 : INFO : topic #3(309.793): 0.438*\"ВОПРОС\" + 0.232*\"ОТВЕТ\" + -0.191*\"ЧЕЛОВЕК\" + 0.190*\"ОТВЕТИТЬ\" + 0.166*\"ЗАДАТЬ\" + 0.165*\"ХВАЛА\" + -0.145*\"КОТОРЫЙ\" + 0.144*\"СВОЙ\" + 0.142*\"ГОД\" + 0.139*\"ТОВАР\"\n"
     ]
    },
    {
     "name": "stderr",
     "output_type": "stream",
     "text": [
      "2016-10-11 18:13:16,536 : INFO : topic #4(288.947): -0.388*\"ПОСТ\" + -0.256*\"МОЛИТВА\" + -0.213*\"НАМАЗ\" + 0.210*\"ДОГОВОР\" + 0.205*\"ОПЕКУН\" + -0.202*\"РАМАДАН\" + -0.185*\"МЕСЯЦ\" + -0.173*\"ДЕНЬ\" + 0.158*\"КОТОРЫЙ\" + 0.156*\"НЕВЕСТА\"\n"
     ]
    },
    {
     "name": "stderr",
     "output_type": "stream",
     "text": [
      "2016-10-11 18:13:16,625 : INFO : preparing a new chunk of documents\n"
     ]
    },
    {
     "name": "stderr",
     "output_type": "stream",
     "text": [
      "2016-10-11 18:13:16,630 : INFO : using 100 extra samples and 2 power iterations\n"
     ]
    },
    {
     "name": "stderr",
     "output_type": "stream",
     "text": [
      "2016-10-11 18:13:16,631 : INFO : 1st phase: constructing (24774L, 200L) action matrix\n"
     ]
    },
    {
     "name": "stderr",
     "output_type": "stream",
     "text": [
      "2016-10-11 18:13:16,638 : INFO : orthonormalizing (24774L, 200L) action matrix\n"
     ]
    },
    {
     "name": "stderr",
     "output_type": "stream",
     "text": [
      "2016-10-11 18:13:17,796 : INFO : 2nd phase: running dense svd on (200L, 20L) matrix\n"
     ]
    },
    {
     "name": "stderr",
     "output_type": "stream",
     "text": [
      "2016-10-11 18:13:17,828 : INFO : computing the final decomposition\n"
     ]
    },
    {
     "name": "stderr",
     "output_type": "stream",
     "text": [
      "2016-10-11 18:13:17,828 : INFO : keeping 20 factors (discarding 0.000% of energy spectrum)\n"
     ]
    },
    {
     "name": "stderr",
     "output_type": "stream",
     "text": [
      "2016-10-11 18:13:17,854 : INFO : merging projections: (24774L, 100L) + (24774L, 20L)\n"
     ]
    },
    {
     "name": "stderr",
     "output_type": "stream",
     "text": [
      "2016-10-11 18:13:17,917 : INFO : keeping 100 factors (discarding 0.443% of energy spectrum)\n"
     ]
    },
    {
     "name": "stderr",
     "output_type": "stream",
     "text": [
      "2016-10-11 18:13:17,974 : INFO : processed documents up to #720\n"
     ]
    },
    {
     "name": "stderr",
     "output_type": "stream",
     "text": [
      "2016-10-11 18:13:17,976 : INFO : topic #0(1140.730): 0.517*\"АЛЛАХ\" + 0.258*\"КОТОРЫЙ\" + 0.187*\"ЧЕЛОВЕК\" + 0.172*\"МИР\" + 0.148*\"ПРОРОК\" + 0.144*\"СВОЙ\" + 0.143*\"СКАЗАТЬ\" + 0.142*\"ВОПРОС\" + 0.123*\"КОРАН\" + 0.118*\"ИСТОРИЯ\"\n"
     ]
    },
    {
     "name": "stderr",
     "output_type": "stream",
     "text": [
      "2016-10-11 18:13:17,979 : INFO : topic #1(546.694): -0.512*\"ИДДА\" + -0.361*\"МУЖ\" + -0.353*\"ЖЕНЩИНА\" + -0.272*\"РАЗВОД\" + 0.249*\"АЛЛАХ\" + -0.207*\"ЖЕНА\" + -0.198*\"СРОК\" + -0.140*\"ПЕРИОД\" + -0.136*\"ДОЛЖНЫЙ\" + -0.104*\"МНЕНИЕ\"\n"
     ]
    },
    {
     "name": "stderr",
     "output_type": "stream",
     "text": [
      "2016-10-11 18:13:17,980 : INFO : topic #2(377.421): -0.575*\"АЛЛАХ\" + 0.187*\"ИСТОРИЯ\" + 0.185*\"РАМАДАН\" + -0.162*\"ПОСЛАННИК\" + 0.144*\"ИСЛАМСКИЙ\" + 0.141*\"САЙТ\" + -0.140*\"ИДДА\" + 0.132*\"ОБЩЕСТВО\" + 0.124*\"ИМАМ\" + 0.115*\"ПРАВО\"\n"
     ]
    },
    {
     "name": "stderr",
     "output_type": "stream",
     "text": [
      "2016-10-11 18:13:17,983 : INFO : topic #3(310.534): -0.440*\"ВОПРОС\" + -0.233*\"ОТВЕТ\" + 0.193*\"ЧЕЛОВЕК\" + -0.191*\"ОТВЕТИТЬ\" + -0.167*\"ЗАДАТЬ\" + -0.166*\"ХВАЛА\" + 0.145*\"КОТОРЫЙ\" + -0.141*\"СВОЙ\" + -0.140*\"ГОД\" + -0.139*\"ТОВАР\"\n"
     ]
    },
    {
     "name": "stderr",
     "output_type": "stream",
     "text": [
      "2016-10-11 18:13:17,984 : INFO : topic #4(290.886): -0.426*\"ПОСТ\" + -0.268*\"МОЛИТВА\" + -0.221*\"РАМАДАН\" + -0.212*\"НАМАЗ\" + -0.202*\"МЕСЯЦ\" + 0.185*\"ДОГОВОР\" + -0.182*\"ДЕНЬ\" + 0.180*\"ОПЕКУН\" + 0.170*\"КОТОРЫЙ\" + 0.137*\"НЕВЕСТА\"\n"
     ]
    },
    {
     "name": "stderr",
     "output_type": "stream",
     "text": [
      "2016-10-11 18:13:18,046 : INFO : preparing a new chunk of documents\n"
     ]
    },
    {
     "name": "stderr",
     "output_type": "stream",
     "text": [
      "2016-10-11 18:13:18,051 : INFO : using 100 extra samples and 2 power iterations\n"
     ]
    },
    {
     "name": "stderr",
     "output_type": "stream",
     "text": [
      "2016-10-11 18:13:18,052 : INFO : 1st phase: constructing (24774L, 200L) action matrix\n"
     ]
    },
    {
     "name": "stderr",
     "output_type": "stream",
     "text": [
      "2016-10-11 18:13:18,058 : INFO : orthonormalizing (24774L, 200L) action matrix\n"
     ]
    },
    {
     "name": "stderr",
     "output_type": "stream",
     "text": [
      "2016-10-11 18:13:19,236 : INFO : 2nd phase: running dense svd on (200L, 20L) matrix\n"
     ]
    },
    {
     "name": "stderr",
     "output_type": "stream",
     "text": [
      "2016-10-11 18:13:19,269 : INFO : computing the final decomposition\n"
     ]
    },
    {
     "name": "stderr",
     "output_type": "stream",
     "text": [
      "2016-10-11 18:13:19,269 : INFO : keeping 20 factors (discarding 0.000% of energy spectrum)\n"
     ]
    },
    {
     "name": "stderr",
     "output_type": "stream",
     "text": [
      "2016-10-11 18:13:19,289 : INFO : merging projections: (24774L, 100L) + (24774L, 20L)\n"
     ]
    },
    {
     "name": "stderr",
     "output_type": "stream",
     "text": [
      "2016-10-11 18:13:19,349 : INFO : keeping 100 factors (discarding 0.298% of energy spectrum)\n"
     ]
    },
    {
     "name": "stderr",
     "output_type": "stream",
     "text": [
      "2016-10-11 18:13:19,410 : INFO : processed documents up to #740\n"
     ]
    },
    {
     "name": "stderr",
     "output_type": "stream",
     "text": [
      "2016-10-11 18:13:19,411 : INFO : topic #0(1150.928): 0.519*\"АЛЛАХ\" + 0.258*\"КОТОРЫЙ\" + 0.189*\"ЧЕЛОВЕК\" + 0.172*\"МИР\" + 0.149*\"ПРОРОК\" + 0.143*\"СВОЙ\" + 0.143*\"СКАЗАТЬ\" + 0.142*\"ВОПРОС\" + 0.123*\"КОРАН\" + 0.119*\"ИСТОРИЯ\"\n"
     ]
    },
    {
     "name": "stderr",
     "output_type": "stream",
     "text": [
      "2016-10-11 18:13:19,414 : INFO : topic #1(547.289): -0.512*\"ИДДА\" + -0.361*\"МУЖ\" + -0.353*\"ЖЕНЩИНА\" + -0.273*\"РАЗВОД\" + 0.248*\"АЛЛАХ\" + -0.207*\"ЖЕНА\" + -0.198*\"СРОК\" + -0.140*\"ПЕРИОД\" + -0.137*\"ДОЛЖНЫЙ\" + -0.105*\"МНЕНИЕ\"\n"
     ]
    },
    {
     "name": "stderr",
     "output_type": "stream",
     "text": [
      "2016-10-11 18:13:19,415 : INFO : topic #2(379.257): -0.573*\"АЛЛАХ\" + 0.189*\"ИСТОРИЯ\" + 0.185*\"РАМАДАН\" + -0.162*\"ПОСЛАННИК\" + 0.146*\"ИСЛАМСКИЙ\" + 0.143*\"САЙТ\" + -0.140*\"ИДДА\" + 0.132*\"ОБЩЕСТВО\" + 0.123*\"ИМАМ\" + 0.115*\"ПРАВО\"\n"
     ]
    },
    {
     "name": "stderr",
     "output_type": "stream",
     "text": [
      "2016-10-11 18:13:19,417 : INFO : topic #3(311.601): -0.443*\"ВОПРОС\" + -0.234*\"ОТВЕТ\" + 0.203*\"ЧЕЛОВЕК\" + -0.192*\"ОТВЕТИТЬ\" + -0.167*\"ЗАДАТЬ\" + -0.166*\"ХВАЛА\" + 0.146*\"КОТОРЫЙ\" + -0.138*\"СВОЙ\" + -0.138*\"ГОД\" + -0.138*\"ДОЛГ\"\n"
     ]
    },
    {
     "name": "stderr",
     "output_type": "stream",
     "text": [
      "2016-10-11 18:13:19,420 : INFO : topic #4(291.094): -0.428*\"ПОСТ\" + -0.276*\"МОЛИТВА\" + -0.221*\"РАМАДАН\" + -0.218*\"НАМАЗ\" + -0.202*\"МЕСЯЦ\" + 0.182*\"ДОГОВОР\" + -0.182*\"ДЕНЬ\" + 0.176*\"ОПЕКУН\" + 0.169*\"КОТОРЫЙ\" + 0.134*\"НЕВЕСТА\"\n"
     ]
    },
    {
     "name": "stderr",
     "output_type": "stream",
     "text": [
      "2016-10-11 18:13:19,484 : INFO : preparing a new chunk of documents\n"
     ]
    },
    {
     "name": "stderr",
     "output_type": "stream",
     "text": [
      "2016-10-11 18:13:19,489 : INFO : using 100 extra samples and 2 power iterations\n"
     ]
    },
    {
     "name": "stderr",
     "output_type": "stream",
     "text": [
      "2016-10-11 18:13:19,490 : INFO : 1st phase: constructing (24774L, 200L) action matrix\n"
     ]
    },
    {
     "name": "stderr",
     "output_type": "stream",
     "text": [
      "2016-10-11 18:13:19,493 : INFO : orthonormalizing (24774L, 200L) action matrix\n"
     ]
    },
    {
     "name": "stderr",
     "output_type": "stream",
     "text": [
      "2016-10-11 18:13:20,664 : INFO : 2nd phase: running dense svd on (200L, 20L) matrix\n"
     ]
    },
    {
     "name": "stderr",
     "output_type": "stream",
     "text": [
      "2016-10-11 18:13:20,693 : INFO : computing the final decomposition\n"
     ]
    },
    {
     "name": "stderr",
     "output_type": "stream",
     "text": [
      "2016-10-11 18:13:20,694 : INFO : keeping 20 factors (discarding 0.000% of energy spectrum)\n"
     ]
    },
    {
     "name": "stderr",
     "output_type": "stream",
     "text": [
      "2016-10-11 18:13:20,714 : INFO : merging projections: (24774L, 100L) + (24774L, 20L)\n"
     ]
    },
    {
     "name": "stderr",
     "output_type": "stream",
     "text": [
      "2016-10-11 18:13:20,782 : INFO : keeping 100 factors (discarding 0.384% of energy spectrum)\n"
     ]
    },
    {
     "name": "stderr",
     "output_type": "stream",
     "text": [
      "2016-10-11 18:13:20,839 : INFO : processed documents up to #760\n"
     ]
    },
    {
     "name": "stderr",
     "output_type": "stream",
     "text": [
      "2016-10-11 18:13:20,842 : INFO : topic #0(1159.561): 0.518*\"АЛЛАХ\" + 0.260*\"КОТОРЫЙ\" + 0.190*\"ЧЕЛОВЕК\" + 0.171*\"МИР\" + 0.149*\"ПРОРОК\" + 0.144*\"СВОЙ\" + 0.142*\"ВОПРОС\" + 0.142*\"СКАЗАТЬ\" + 0.123*\"КОРАН\" + 0.120*\"ИСТОРИЯ\"\n"
     ]
    },
    {
     "name": "stderr",
     "output_type": "stream",
     "text": [
      "2016-10-11 18:13:20,844 : INFO : topic #1(547.569): -0.512*\"ИДДА\" + -0.361*\"МУЖ\" + -0.353*\"ЖЕНЩИНА\" + -0.273*\"РАЗВОД\" + 0.247*\"АЛЛАХ\" + -0.207*\"ЖЕНА\" + -0.198*\"СРОК\" + -0.140*\"ПЕРИОД\" + -0.137*\"ДОЛЖНЫЙ\" + -0.105*\"МНЕНИЕ\"\n"
     ]
    },
    {
     "name": "stderr",
     "output_type": "stream",
     "text": [
      "2016-10-11 18:13:20,845 : INFO : topic #2(381.657): -0.575*\"АЛЛАХ\" + 0.189*\"ИСТОРИЯ\" + 0.183*\"РАМАДАН\" + -0.162*\"ПОСЛАННИК\" + 0.147*\"ИСЛАМСКИЙ\" + 0.143*\"САЙТ\" + -0.139*\"ИДДА\" + 0.131*\"ОБЩЕСТВО\" + 0.122*\"ИМАМ\" + 0.115*\"ПРАВО\"\n"
     ]
    },
    {
     "name": "stderr",
     "output_type": "stream",
     "text": [
      "2016-10-11 18:13:20,848 : INFO : topic #3(311.941): -0.444*\"ВОПРОС\" + -0.234*\"ОТВЕТ\" + 0.206*\"ЧЕЛОВЕК\" + -0.194*\"ОТВЕТИТЬ\" + -0.167*\"ЗАДАТЬ\" + -0.166*\"ХВАЛА\" + 0.150*\"КОТОРЫЙ\" + -0.138*\"ДОЛГ\" + -0.137*\"ГОД\" + -0.137*\"ТОВАР\"\n"
     ]
    },
    {
     "name": "stderr",
     "output_type": "stream",
     "text": [
      "2016-10-11 18:13:20,849 : INFO : topic #4(291.463): -0.436*\"ПОСТ\" + -0.289*\"МОЛИТВА\" + -0.225*\"НАМАЗ\" + -0.221*\"РАМАДАН\" + -0.204*\"МЕСЯЦ\" + -0.186*\"ДЕНЬ\" + 0.172*\"КОТОРЫЙ\" + 0.171*\"ДОГОВОР\" + 0.166*\"ОПЕКУН\" + 0.132*\"ЧЕЛОВЕК\"\n"
     ]
    },
    {
     "name": "stderr",
     "output_type": "stream",
     "text": [
      "2016-10-11 18:13:20,967 : INFO : preparing a new chunk of documents\n"
     ]
    },
    {
     "name": "stderr",
     "output_type": "stream",
     "text": [
      "2016-10-11 18:13:20,971 : INFO : using 100 extra samples and 2 power iterations\n"
     ]
    },
    {
     "name": "stderr",
     "output_type": "stream",
     "text": [
      "2016-10-11 18:13:20,973 : INFO : 1st phase: constructing (24774L, 200L) action matrix\n"
     ]
    },
    {
     "name": "stderr",
     "output_type": "stream",
     "text": [
      "2016-10-11 18:13:20,980 : INFO : orthonormalizing (24774L, 200L) action matrix\n"
     ]
    },
    {
     "name": "stderr",
     "output_type": "stream",
     "text": [
      "2016-10-11 18:13:22,173 : INFO : 2nd phase: running dense svd on (200L, 20L) matrix\n"
     ]
    },
    {
     "name": "stderr",
     "output_type": "stream",
     "text": [
      "2016-10-11 18:13:22,201 : INFO : computing the final decomposition\n"
     ]
    },
    {
     "name": "stderr",
     "output_type": "stream",
     "text": [
      "2016-10-11 18:13:22,203 : INFO : keeping 20 factors (discarding 0.000% of energy spectrum)\n"
     ]
    },
    {
     "name": "stderr",
     "output_type": "stream",
     "text": [
      "2016-10-11 18:13:22,226 : INFO : merging projections: (24774L, 100L) + (24774L, 20L)\n"
     ]
    },
    {
     "name": "stderr",
     "output_type": "stream",
     "text": [
      "2016-10-11 18:13:22,289 : INFO : keeping 100 factors (discarding 0.371% of energy spectrum)\n"
     ]
    },
    {
     "name": "stderr",
     "output_type": "stream",
     "text": [
      "2016-10-11 18:13:22,355 : INFO : processed documents up to #780\n"
     ]
    },
    {
     "name": "stderr",
     "output_type": "stream",
     "text": [
      "2016-10-11 18:13:22,358 : INFO : topic #0(1249.019): 0.525*\"АЛЛАХ\" + 0.276*\"КОТОРЫЙ\" + 0.221*\"ЧЕЛОВЕК\" + 0.158*\"МИР\" + 0.157*\"ВОПРОС\" + 0.152*\"СКАЗАТЬ\" + 0.146*\"СВОЙ\" + 0.144*\"ПРОРОК\" + 0.116*\"КОРАН\" + 0.110*\"ТОТ\"\n"
     ]
    },
    {
     "name": "stderr",
     "output_type": "stream",
     "text": [
      "2016-10-11 18:13:22,359 : INFO : topic #1(552.882): -0.506*\"ИДДА\" + -0.360*\"МУЖ\" + -0.353*\"ЖЕНЩИНА\" + -0.274*\"РАЗВОД\" + 0.250*\"АЛЛАХ\" + -0.209*\"ЖЕНА\" + -0.197*\"СРОК\" + -0.141*\"ДОЛЖНЫЙ\" + -0.140*\"ПЕРИОД\" + -0.103*\"МНЕНИЕ\"\n"
     ]
    },
    {
     "name": "stderr",
     "output_type": "stream",
     "text": [
      "2016-10-11 18:13:22,361 : INFO : topic #2(399.754): -0.499*\"АЛЛАХ\" + 0.216*\"РАМАДАН\" + 0.200*\"ИСТОРИЯ\" + -0.161*\"ИДДА\" + 0.159*\"САЙТ\" + 0.156*\"ИСЛАМСКИЙ\" + 0.136*\"ОБЩЕСТВО\" + -0.133*\"ПОСЛАННИК\" + 0.126*\"ПОСТ\" + 0.118*\"МАТЕРИАЛ\"\n"
     ]
    },
    {
     "name": "stderr",
     "output_type": "stream",
     "text": [
      "2016-10-11 18:13:22,364 : INFO : topic #3(357.262): -0.324*\"АЛЛАХ\" + 0.286*\"ЧЕЛОВЕК\" + 0.234*\"КОТОРЫЙ\" + 0.214*\"СЛОВО\" + 0.205*\"ВОПРОС\" + 0.163*\"ЯВЛЯТЬСЯ\" + 0.155*\"ПОЛОЖЕНИЕ\" + -0.154*\"МИР\" + 0.149*\"ОПРАВДАНИЕ\" + -0.137*\"РАМАДАН\"\n"
     ]
    },
    {
     "name": "stderr",
     "output_type": "stream",
     "text": [
      "2016-10-11 18:13:22,365 : INFO : topic #4(319.256): -0.486*\"ВОПРОС\" + -0.238*\"ОТВЕТ\" + 0.211*\"ЧЕЛОВЕК\" + -0.200*\"ОТВЕТИТЬ\" + -0.164*\"ХВАЛА\" + -0.163*\"ЗАДАТЬ\" + 0.143*\"КОТОРЫЙ\" + -0.134*\"ДОЛГ\" + -0.130*\"ПОСЛЕДОВАТЕЛЬ\" + -0.123*\"ЗНАТЬ\"\n"
     ]
    },
    {
     "name": "stderr",
     "output_type": "stream",
     "text": [
      "2016-10-11 18:13:22,463 : INFO : preparing a new chunk of documents\n"
     ]
    },
    {
     "name": "stderr",
     "output_type": "stream",
     "text": [
      "2016-10-11 18:13:22,467 : INFO : using 100 extra samples and 2 power iterations\n"
     ]
    },
    {
     "name": "stderr",
     "output_type": "stream",
     "text": [
      "2016-10-11 18:13:22,467 : INFO : 1st phase: constructing (24774L, 200L) action matrix\n"
     ]
    },
    {
     "name": "stderr",
     "output_type": "stream",
     "text": [
      "2016-10-11 18:13:22,474 : INFO : orthonormalizing (24774L, 200L) action matrix\n"
     ]
    },
    {
     "name": "stderr",
     "output_type": "stream",
     "text": [
      "2016-10-11 18:13:23,687 : INFO : 2nd phase: running dense svd on (200L, 20L) matrix\n"
     ]
    },
    {
     "name": "stderr",
     "output_type": "stream",
     "text": [
      "2016-10-11 18:13:23,719 : INFO : computing the final decomposition\n"
     ]
    },
    {
     "name": "stderr",
     "output_type": "stream",
     "text": [
      "2016-10-11 18:13:23,720 : INFO : keeping 20 factors (discarding 0.000% of energy spectrum)\n"
     ]
    },
    {
     "name": "stderr",
     "output_type": "stream",
     "text": [
      "2016-10-11 18:13:23,742 : INFO : merging projections: (24774L, 100L) + (24774L, 20L)\n"
     ]
    },
    {
     "name": "stderr",
     "output_type": "stream",
     "text": [
      "2016-10-11 18:13:23,806 : INFO : keeping 100 factors (discarding 0.414% of energy spectrum)\n"
     ]
    },
    {
     "name": "stderr",
     "output_type": "stream",
     "text": [
      "2016-10-11 18:13:23,871 : INFO : processed documents up to #800\n"
     ]
    },
    {
     "name": "stderr",
     "output_type": "stream",
     "text": [
      "2016-10-11 18:13:23,872 : INFO : topic #0(1295.934): 0.545*\"АЛЛАХ\" + 0.268*\"КОТОРЫЙ\" + 0.221*\"ЧЕЛОВЕК\" + 0.164*\"СКАЗАТЬ\" + 0.159*\"МИР\" + 0.148*\"ПРОРОК\" + 0.148*\"ВОПРОС\" + 0.142*\"СВОЙ\" + 0.110*\"ПОСЛАННИК\" + 0.109*\"КОРАН\"\n"
     ]
    },
    {
     "name": "stderr",
     "output_type": "stream",
     "text": [
      "2016-10-11 18:13:23,875 : INFO : topic #1(560.183): -0.489*\"ИДДА\" + -0.351*\"МУЖ\" + -0.346*\"ЖЕНЩИНА\" + 0.285*\"АЛЛАХ\" + -0.269*\"РАЗВОД\" + -0.205*\"ЖЕНА\" + -0.192*\"СРОК\" + -0.141*\"ДОЛЖНЫЙ\" + -0.136*\"ПЕРИОД\" + -0.104*\"НОРМА\"\n"
     ]
    },
    {
     "name": "stderr",
     "output_type": "stream",
     "text": [
      "2016-10-11 18:13:23,877 : INFO : topic #2(423.645): -0.487*\"АЛЛАХ\" + -0.206*\"ИДДА\" + 0.206*\"РАМАДАН\" + 0.191*\"ИСТОРИЯ\" + -0.156*\"ПОСЛАННИК\" + 0.153*\"САЙТ\" + 0.151*\"ИСЛАМСКИЙ\" + -0.131*\"МУЖ\" + 0.128*\"ОБЩЕСТВО\" + -0.127*\"СКАЗАТЬ\"\n"
     ]
    },
    {
     "name": "stderr",
     "output_type": "stream",
     "text": [
      "2016-10-11 18:13:23,878 : INFO : topic #3(358.256): -0.293*\"АЛЛАХ\" + 0.291*\"ЧЕЛОВЕК\" + 0.243*\"КОТОРЫЙ\" + 0.210*\"СЛОВО\" + 0.206*\"ВОПРОС\" + 0.164*\"ЯВЛЯТЬСЯ\" + -0.159*\"МИР\" + 0.155*\"ПОЛОЖЕНИЕ\" + -0.152*\"РАМАДАН\" + 0.149*\"ОПРАВДАНИЕ\"\n"
     ]
    },
    {
     "name": "stderr",
     "output_type": "stream",
     "text": [
      "2016-10-11 18:13:23,881 : INFO : topic #4(320.939): -0.497*\"ВОПРОС\" + -0.238*\"ОТВЕТ\" + -0.201*\"ОТВЕТИТЬ\" + 0.191*\"ЧЕЛОВЕК\" + -0.164*\"ХВАЛА\" + -0.163*\"ЗАДАТЬ\" + -0.135*\"ДОЛГ\" + -0.132*\"ПОСЛЕДОВАТЕЛЬ\" + 0.130*\"КОТОРЫЙ\" + -0.128*\"ЗНАТЬ\"\n"
     ]
    },
    {
     "name": "stderr",
     "output_type": "stream",
     "text": [
      "2016-10-11 18:13:23,957 : INFO : preparing a new chunk of documents\n"
     ]
    },
    {
     "name": "stderr",
     "output_type": "stream",
     "text": [
      "2016-10-11 18:13:23,960 : INFO : using 100 extra samples and 2 power iterations\n"
     ]
    },
    {
     "name": "stderr",
     "output_type": "stream",
     "text": [
      "2016-10-11 18:13:23,961 : INFO : 1st phase: constructing (24774L, 200L) action matrix\n"
     ]
    },
    {
     "name": "stderr",
     "output_type": "stream",
     "text": [
      "2016-10-11 18:13:23,967 : INFO : orthonormalizing (24774L, 200L) action matrix\n"
     ]
    },
    {
     "name": "stderr",
     "output_type": "stream",
     "text": [
      "2016-10-11 18:13:25,158 : INFO : 2nd phase: running dense svd on (200L, 20L) matrix\n"
     ]
    },
    {
     "name": "stderr",
     "output_type": "stream",
     "text": [
      "2016-10-11 18:13:25,190 : INFO : computing the final decomposition\n"
     ]
    },
    {
     "name": "stderr",
     "output_type": "stream",
     "text": [
      "2016-10-11 18:13:25,191 : INFO : keeping 20 factors (discarding 0.000% of energy spectrum)\n"
     ]
    },
    {
     "name": "stderr",
     "output_type": "stream",
     "text": [
      "2016-10-11 18:13:25,216 : INFO : merging projections: (24774L, 100L) + (24774L, 20L)\n"
     ]
    },
    {
     "name": "stderr",
     "output_type": "stream",
     "text": [
      "2016-10-11 18:13:25,280 : INFO : keeping 100 factors (discarding 0.369% of energy spectrum)\n"
     ]
    },
    {
     "name": "stderr",
     "output_type": "stream",
     "text": [
      "2016-10-11 18:13:25,335 : INFO : processed documents up to #820\n"
     ]
    },
    {
     "name": "stderr",
     "output_type": "stream",
     "text": [
      "2016-10-11 18:13:25,338 : INFO : topic #0(1306.342): 0.540*\"АЛЛАХ\" + 0.271*\"КОТОРЫЙ\" + 0.222*\"ЧЕЛОВЕК\" + 0.163*\"СКАЗАТЬ\" + 0.159*\"МИР\" + 0.148*\"ПРОРОК\" + 0.147*\"ВОПРОС\" + 0.142*\"СВОЙ\" + 0.109*\"ПОСЛАННИК\" + 0.109*\"КОРАН\"\n"
     ]
    },
    {
     "name": "stderr",
     "output_type": "stream",
     "text": [
      "2016-10-11 18:13:25,339 : INFO : topic #1(560.610): -0.487*\"ИДДА\" + -0.349*\"МУЖ\" + -0.345*\"ЖЕНЩИНА\" + 0.292*\"АЛЛАХ\" + -0.268*\"РАЗВОД\" + -0.204*\"ЖЕНА\" + -0.191*\"СРОК\" + -0.142*\"ДОЛЖНЫЙ\" + -0.135*\"ПЕРИОД\" + -0.105*\"НОРМА\"\n"
     ]
    },
    {
     "name": "stderr",
     "output_type": "stream",
     "text": [
      "2016-10-11 18:13:25,342 : INFO : topic #2(431.471): -0.491*\"АЛЛАХ\" + -0.209*\"ИДДА\" + 0.204*\"НАМАЗ\" + 0.200*\"РАМАДАН\" + 0.183*\"ИСТОРИЯ\" + -0.156*\"ПОСЛАННИК\" + 0.147*\"САЙТ\" + 0.143*\"ИСЛАМСКИЙ\" + -0.137*\"МУЖ\" + -0.127*\"СКАЗАТЬ\"\n"
     ]
    },
    {
     "name": "stderr",
     "output_type": "stream",
     "text": [
      "2016-10-11 18:13:25,344 : INFO : topic #3(359.085): -0.296*\"АЛЛАХ\" + 0.289*\"ЧЕЛОВЕК\" + 0.237*\"КОТОРЫЙ\" + 0.212*\"ВОПРОС\" + 0.211*\"СЛОВО\" + -0.172*\"НАМАЗ\" + 0.158*\"ЯВЛЯТЬСЯ\" + -0.155*\"МИР\" + 0.153*\"ПОЛОЖЕНИЕ\" + 0.148*\"ОПРАВДАНИЕ\"\n"
     ]
    },
    {
     "name": "stderr",
     "output_type": "stream",
     "text": [
      "2016-10-11 18:13:25,345 : INFO : topic #4(324.392): -0.451*\"ВОПРОС\" + 0.317*\"НАМАЗ\" + -0.219*\"ОТВЕТ\" + 0.192*\"ЧЕЛОВЕК\" + -0.176*\"ОТВЕТИТЬ\" + -0.156*\"ЗАДАТЬ\" + -0.152*\"ХВАЛА\" + -0.144*\"СВОЙ\" + 0.141*\"КОТОРЫЙ\" + -0.136*\"ГОД\"\n"
     ]
    },
    {
     "name": "stderr",
     "output_type": "stream",
     "text": [
      "2016-10-11 18:13:25,418 : INFO : preparing a new chunk of documents\n"
     ]
    },
    {
     "name": "stderr",
     "output_type": "stream",
     "text": [
      "2016-10-11 18:13:25,423 : INFO : using 100 extra samples and 2 power iterations\n"
     ]
    },
    {
     "name": "stderr",
     "output_type": "stream",
     "text": [
      "2016-10-11 18:13:25,424 : INFO : 1st phase: constructing (24774L, 200L) action matrix\n"
     ]
    },
    {
     "name": "stderr",
     "output_type": "stream",
     "text": [
      "2016-10-11 18:13:25,428 : INFO : orthonormalizing (24774L, 200L) action matrix\n"
     ]
    },
    {
     "name": "stderr",
     "output_type": "stream",
     "text": [
      "2016-10-11 18:13:26,637 : INFO : 2nd phase: running dense svd on (200L, 20L) matrix\n"
     ]
    },
    {
     "name": "stderr",
     "output_type": "stream",
     "text": [
      "2016-10-11 18:13:26,667 : INFO : computing the final decomposition\n"
     ]
    },
    {
     "name": "stderr",
     "output_type": "stream",
     "text": [
      "2016-10-11 18:13:26,668 : INFO : keeping 20 factors (discarding 0.000% of energy spectrum)\n"
     ]
    },
    {
     "name": "stderr",
     "output_type": "stream",
     "text": [
      "2016-10-11 18:13:26,693 : INFO : merging projections: (24774L, 100L) + (24774L, 20L)\n"
     ]
    },
    {
     "name": "stderr",
     "output_type": "stream",
     "text": [
      "2016-10-11 18:13:26,756 : INFO : keeping 100 factors (discarding 0.409% of energy spectrum)\n"
     ]
    },
    {
     "name": "stderr",
     "output_type": "stream",
     "text": [
      "2016-10-11 18:13:26,816 : INFO : processed documents up to #840\n"
     ]
    },
    {
     "name": "stderr",
     "output_type": "stream",
     "text": [
      "2016-10-11 18:13:26,819 : INFO : topic #0(1315.121): 0.539*\"АЛЛАХ\" + 0.271*\"КОТОРЫЙ\" + 0.223*\"ЧЕЛОВЕК\" + 0.162*\"СКАЗАТЬ\" + 0.160*\"МИР\" + 0.148*\"ПРОРОК\" + 0.146*\"ВОПРОС\" + 0.143*\"СВОЙ\" + 0.109*\"КОРАН\" + 0.109*\"ПОСЛАННИК\"\n"
     ]
    },
    {
     "name": "stderr",
     "output_type": "stream",
     "text": [
      "2016-10-11 18:13:26,821 : INFO : topic #1(560.829): -0.486*\"ИДДА\" + -0.349*\"МУЖ\" + -0.344*\"ЖЕНЩИНА\" + 0.293*\"АЛЛАХ\" + -0.268*\"РАЗВОД\" + -0.204*\"ЖЕНА\" + -0.191*\"СРОК\" + -0.142*\"ДОЛЖНЫЙ\" + -0.135*\"ПЕРИОД\" + -0.105*\"НОРМА\"\n"
     ]
    },
    {
     "name": "stderr",
     "output_type": "stream",
     "text": [
      "2016-10-11 18:13:26,823 : INFO : topic #2(434.190): -0.495*\"АЛЛАХ\" + -0.210*\"ИДДА\" + 0.198*\"НАМАЗ\" + 0.198*\"РАМАДАН\" + 0.183*\"ИСТОРИЯ\" + -0.156*\"ПОСЛАННИК\" + 0.147*\"САЙТ\" + 0.143*\"ИСЛАМСКИЙ\" + -0.138*\"МУЖ\" + -0.128*\"СКАЗАТЬ\"\n"
     ]
    },
    {
     "name": "stderr",
     "output_type": "stream",
     "text": [
      "2016-10-11 18:13:26,825 : INFO : topic #3(360.079): 0.293*\"ЧЕЛОВЕК\" + -0.292*\"АЛЛАХ\" + 0.240*\"КОТОРЫЙ\" + 0.211*\"СЛОВО\" + 0.210*\"ВОПРОС\" + -0.176*\"НАМАЗ\" + 0.158*\"ЯВЛЯТЬСЯ\" + -0.155*\"МИР\" + 0.151*\"ПОЛОЖЕНИЕ\" + -0.148*\"РАМАДАН\"\n"
     ]
    },
    {
     "name": "stderr",
     "output_type": "stream",
     "text": [
      "2016-10-11 18:13:26,828 : INFO : topic #4(324.912): -0.457*\"ВОПРОС\" + 0.301*\"НАМАЗ\" + -0.221*\"ОТВЕТ\" + 0.199*\"ЧЕЛОВЕК\" + -0.178*\"ОТВЕТИТЬ\" + -0.157*\"ЗАДАТЬ\" + -0.154*\"ХВАЛА\" + -0.142*\"СВОЙ\" + 0.141*\"КОТОРЫЙ\" + -0.136*\"ГОД\"\n"
     ]
    },
    {
     "name": "stderr",
     "output_type": "stream",
     "text": [
      "2016-10-11 18:13:26,897 : INFO : preparing a new chunk of documents\n"
     ]
    },
    {
     "name": "stderr",
     "output_type": "stream",
     "text": [
      "2016-10-11 18:13:26,901 : INFO : using 100 extra samples and 2 power iterations\n"
     ]
    },
    {
     "name": "stderr",
     "output_type": "stream",
     "text": [
      "2016-10-11 18:13:26,901 : INFO : 1st phase: constructing (24774L, 200L) action matrix\n"
     ]
    },
    {
     "name": "stderr",
     "output_type": "stream",
     "text": [
      "2016-10-11 18:13:26,907 : INFO : orthonormalizing (24774L, 200L) action matrix\n"
     ]
    },
    {
     "name": "stderr",
     "output_type": "stream",
     "text": [
      "2016-10-11 18:13:28,138 : INFO : 2nd phase: running dense svd on (200L, 20L) matrix\n"
     ]
    },
    {
     "name": "stderr",
     "output_type": "stream",
     "text": [
      "2016-10-11 18:13:28,168 : INFO : computing the final decomposition\n"
     ]
    },
    {
     "name": "stderr",
     "output_type": "stream",
     "text": [
      "2016-10-11 18:13:28,170 : INFO : keeping 20 factors (discarding 0.000% of energy spectrum)\n"
     ]
    },
    {
     "name": "stderr",
     "output_type": "stream",
     "text": [
      "2016-10-11 18:13:28,194 : INFO : merging projections: (24774L, 100L) + (24774L, 20L)\n"
     ]
    },
    {
     "name": "stderr",
     "output_type": "stream",
     "text": [
      "2016-10-11 18:13:28,260 : INFO : keeping 100 factors (discarding 0.335% of energy spectrum)\n"
     ]
    },
    {
     "name": "stderr",
     "output_type": "stream",
     "text": [
      "2016-10-11 18:13:28,325 : INFO : processed documents up to #860\n"
     ]
    },
    {
     "name": "stderr",
     "output_type": "stream",
     "text": [
      "2016-10-11 18:13:28,328 : INFO : topic #0(1322.479): 0.537*\"АЛЛАХ\" + 0.271*\"КОТОРЫЙ\" + 0.223*\"ЧЕЛОВЕК\" + 0.163*\"СКАЗАТЬ\" + 0.160*\"МИР\" + 0.148*\"ПРОРОК\" + 0.145*\"ВОПРОС\" + 0.143*\"СВОЙ\" + 0.111*\"КОРАН\" + 0.108*\"ИСТОРИЯ\"\n"
     ]
    },
    {
     "name": "stderr",
     "output_type": "stream",
     "text": [
      "2016-10-11 18:13:28,329 : INFO : topic #1(560.933): -0.486*\"ИДДА\" + -0.349*\"МУЖ\" + -0.344*\"ЖЕНЩИНА\" + 0.294*\"АЛЛАХ\" + -0.268*\"РАЗВОД\" + -0.204*\"ЖЕНА\" + -0.191*\"СРОК\" + -0.142*\"ДОЛЖНЫЙ\" + -0.135*\"ПЕРИОД\" + -0.105*\"НОРМА\"\n"
     ]
    },
    {
     "name": "stderr",
     "output_type": "stream",
     "text": [
      "2016-10-11 18:13:28,332 : INFO : topic #2(436.536): -0.496*\"АЛЛАХ\" + -0.210*\"ИДДА\" + 0.197*\"РАМАДАН\" + 0.194*\"НАМАЗ\" + 0.187*\"ИСТОРИЯ\" + -0.156*\"ПОСЛАННИК\" + 0.148*\"САЙТ\" + 0.144*\"ИСЛАМСКИЙ\" + -0.139*\"МУЖ\" + -0.129*\"СКАЗАТЬ\"\n"
     ]
    },
    {
     "name": "stderr",
     "output_type": "stream",
     "text": [
      "2016-10-11 18:13:28,334 : INFO : topic #3(360.455): -0.293*\"АЛЛАХ\" + 0.290*\"ЧЕЛОВЕК\" + 0.240*\"КОТОРЫЙ\" + 0.213*\"ВОПРОС\" + 0.212*\"СЛОВО\" + -0.176*\"НАМАЗ\" + 0.158*\"ЯВЛЯТЬСЯ\" + -0.155*\"МИР\" + 0.151*\"ПОЛОЖЕНИЕ\" + -0.147*\"РАМАДАН\"\n"
     ]
    },
    {
     "name": "stderr",
     "output_type": "stream",
     "text": [
      "2016-10-11 18:13:28,335 : INFO : topic #4(325.123): -0.455*\"ВОПРОС\" + 0.301*\"НАМАЗ\" + -0.221*\"ОТВЕТ\" + 0.202*\"ЧЕЛОВЕК\" + -0.178*\"ОТВЕТИТЬ\" + -0.157*\"ЗАДАТЬ\" + -0.154*\"ХВАЛА\" + 0.143*\"КОТОРЫЙ\" + -0.141*\"СВОЙ\" + -0.137*\"ГОД\"\n"
     ]
    },
    {
     "name": "stderr",
     "output_type": "stream",
     "text": [
      "2016-10-11 18:13:28,411 : INFO : preparing a new chunk of documents\n"
     ]
    },
    {
     "name": "stderr",
     "output_type": "stream",
     "text": [
      "2016-10-11 18:13:28,414 : INFO : using 100 extra samples and 2 power iterations\n"
     ]
    },
    {
     "name": "stderr",
     "output_type": "stream",
     "text": [
      "2016-10-11 18:13:28,415 : INFO : 1st phase: constructing (24774L, 200L) action matrix\n"
     ]
    },
    {
     "name": "stderr",
     "output_type": "stream",
     "text": [
      "2016-10-11 18:13:28,421 : INFO : orthonormalizing (24774L, 200L) action matrix\n"
     ]
    },
    {
     "name": "stderr",
     "output_type": "stream",
     "text": [
      "2016-10-11 18:13:29,665 : INFO : 2nd phase: running dense svd on (200L, 20L) matrix\n"
     ]
    },
    {
     "name": "stderr",
     "output_type": "stream",
     "text": [
      "2016-10-11 18:13:29,698 : INFO : computing the final decomposition\n"
     ]
    },
    {
     "name": "stderr",
     "output_type": "stream",
     "text": [
      "2016-10-11 18:13:29,700 : INFO : keeping 20 factors (discarding 0.000% of energy spectrum)\n"
     ]
    },
    {
     "name": "stderr",
     "output_type": "stream",
     "text": [
      "2016-10-11 18:13:29,720 : INFO : merging projections: (24774L, 100L) + (24774L, 20L)\n"
     ]
    },
    {
     "name": "stderr",
     "output_type": "stream",
     "text": [
      "2016-10-11 18:13:29,786 : INFO : keeping 100 factors (discarding 0.396% of energy spectrum)\n"
     ]
    },
    {
     "name": "stderr",
     "output_type": "stream",
     "text": [
      "2016-10-11 18:13:29,851 : INFO : processed documents up to #880\n"
     ]
    },
    {
     "name": "stderr",
     "output_type": "stream",
     "text": [
      "2016-10-11 18:13:29,852 : INFO : topic #0(1335.497): 0.539*\"АЛЛАХ\" + 0.269*\"КОТОРЫЙ\" + 0.221*\"ЧЕЛОВЕК\" + 0.163*\"МИР\" + 0.162*\"СКАЗАТЬ\" + 0.151*\"ПРОРОК\" + 0.144*\"СВОЙ\" + 0.144*\"ВОПРОС\" + 0.111*\"КОРАН\" + 0.109*\"ТОТ\"\n"
     ]
    },
    {
     "name": "stderr",
     "output_type": "stream",
     "text": [
      "2016-10-11 18:13:29,855 : INFO : topic #1(561.946): -0.484*\"ИДДА\" + -0.347*\"МУЖ\" + -0.343*\"ЖЕНЩИНА\" + 0.298*\"АЛЛАХ\" + -0.267*\"РАЗВОД\" + -0.203*\"ЖЕНА\" + -0.190*\"СРОК\" + -0.143*\"ДОЛЖНЫЙ\" + -0.134*\"ПЕРИОД\" + -0.105*\"НОРМА\"\n"
     ]
    },
    {
     "name": "stderr",
     "output_type": "stream",
     "text": [
      "2016-10-11 18:13:29,858 : INFO : topic #2(439.424): -0.497*\"АЛЛАХ\" + -0.214*\"ИДДА\" + 0.195*\"РАМАДАН\" + 0.189*\"НАМАЗ\" + 0.186*\"ИСТОРИЯ\" + -0.156*\"ПОСЛАННИК\" + 0.147*\"САЙТ\" + 0.144*\"ИСЛАМСКИЙ\" + -0.142*\"МУЖ\" + -0.128*\"СКАЗАТЬ\"\n"
     ]
    },
    {
     "name": "stderr",
     "output_type": "stream",
     "text": [
      "2016-10-11 18:13:29,858 : INFO : topic #3(362.595): 0.290*\"ЧЕЛОВЕК\" + -0.280*\"АЛЛАХ\" + 0.238*\"КОТОРЫЙ\" + 0.220*\"ВОПРОС\" + 0.213*\"СЛОВО\" + -0.173*\"НАМАЗ\" + -0.163*\"МИР\" + 0.161*\"ЯВЛЯТЬСЯ\" + 0.151*\"ПОЛОЖЕНИЕ\" + -0.148*\"РАМАДАН\"\n"
     ]
    },
    {
     "name": "stderr",
     "output_type": "stream",
     "text": [
      "2016-10-11 18:13:29,861 : INFO : topic #4(325.421): -0.455*\"ВОПРОС\" + 0.293*\"НАМАЗ\" + -0.222*\"ОТВЕТ\" + 0.205*\"ЧЕЛОВЕК\" + -0.180*\"ОТВЕТИТЬ\" + -0.157*\"ЗАДАТЬ\" + -0.155*\"ХВАЛА\" + 0.146*\"КОТОРЫЙ\" + -0.140*\"СВОЙ\" + -0.138*\"ГОД\"\n"
     ]
    },
    {
     "name": "stderr",
     "output_type": "stream",
     "text": [
      "2016-10-11 18:13:29,924 : INFO : preparing a new chunk of documents\n"
     ]
    },
    {
     "name": "stderr",
     "output_type": "stream",
     "text": [
      "2016-10-11 18:13:29,928 : INFO : using 100 extra samples and 2 power iterations\n"
     ]
    },
    {
     "name": "stderr",
     "output_type": "stream",
     "text": [
      "2016-10-11 18:13:29,930 : INFO : 1st phase: constructing (24774L, 200L) action matrix\n"
     ]
    },
    {
     "name": "stderr",
     "output_type": "stream",
     "text": [
      "2016-10-11 18:13:29,936 : INFO : orthonormalizing (24774L, 200L) action matrix\n"
     ]
    },
    {
     "name": "stderr",
     "output_type": "stream",
     "text": [
      "2016-10-11 18:13:31,196 : INFO : 2nd phase: running dense svd on (200L, 20L) matrix\n"
     ]
    },
    {
     "name": "stderr",
     "output_type": "stream",
     "text": [
      "2016-10-11 18:13:31,230 : INFO : computing the final decomposition\n"
     ]
    },
    {
     "name": "stderr",
     "output_type": "stream",
     "text": [
      "2016-10-11 18:13:31,230 : INFO : keeping 20 factors (discarding 0.000% of energy spectrum)\n"
     ]
    },
    {
     "name": "stderr",
     "output_type": "stream",
     "text": [
      "2016-10-11 18:13:31,255 : INFO : merging projections: (24774L, 100L) + (24774L, 20L)\n"
     ]
    },
    {
     "name": "stderr",
     "output_type": "stream",
     "text": [
      "2016-10-11 18:13:31,319 : INFO : keeping 100 factors (discarding 0.358% of energy spectrum)\n"
     ]
    },
    {
     "name": "stderr",
     "output_type": "stream",
     "text": [
      "2016-10-11 18:13:31,378 : INFO : processed documents up to #900\n"
     ]
    },
    {
     "name": "stderr",
     "output_type": "stream",
     "text": [
      "2016-10-11 18:13:31,381 : INFO : topic #0(1341.271): 0.537*\"АЛЛАХ\" + 0.270*\"КОТОРЫЙ\" + 0.222*\"ЧЕЛОВЕК\" + 0.162*\"МИР\" + 0.161*\"СКАЗАТЬ\" + 0.151*\"ПРОРОК\" + 0.144*\"СВОЙ\" + 0.143*\"ВОПРОС\" + 0.111*\"КОРАН\" + 0.109*\"ИСТОРИЯ\"\n"
     ]
    },
    {
     "name": "stderr",
     "output_type": "stream",
     "text": [
      "2016-10-11 18:13:31,382 : INFO : topic #1(562.472): -0.482*\"ИДДА\" + -0.346*\"МУЖ\" + -0.343*\"ЖЕНЩИНА\" + 0.303*\"АЛЛАХ\" + -0.266*\"РАЗВОД\" + -0.203*\"ЖЕНА\" + -0.190*\"СРОК\" + -0.143*\"ДОЛЖНЫЙ\" + -0.134*\"ПЕРИОД\" + -0.105*\"НОРМА\"\n"
     ]
    },
    {
     "name": "stderr",
     "output_type": "stream",
     "text": [
      "2016-10-11 18:13:31,384 : INFO : topic #2(442.995): -0.497*\"АЛЛАХ\" + -0.218*\"ИДДА\" + 0.195*\"РАМАДАН\" + 0.186*\"ИСТОРИЯ\" + 0.184*\"НАМАЗ\" + -0.154*\"ПОСЛАННИК\" + 0.148*\"САЙТ\" + -0.146*\"МУЖ\" + 0.143*\"ИСЛАМСКИЙ\" + -0.130*\"СКАЗАТЬ\"\n"
     ]
    },
    {
     "name": "stderr",
     "output_type": "stream",
     "text": [
      "2016-10-11 18:13:31,387 : INFO : topic #3(362.934): 0.292*\"ЧЕЛОВЕК\" + -0.280*\"АЛЛАХ\" + 0.241*\"КОТОРЫЙ\" + 0.215*\"ВОПРОС\" + 0.212*\"СЛОВО\" + -0.173*\"НАМАЗ\" + -0.163*\"МИР\" + 0.160*\"ЯВЛЯТЬСЯ\" + 0.151*\"ПОЛОЖЕНИЕ\" + -0.149*\"РАМАДАН\"\n"
     ]
    },
    {
     "name": "stderr",
     "output_type": "stream",
     "text": [
      "2016-10-11 18:13:31,388 : INFO : topic #4(325.777): -0.460*\"ВОПРОС\" + 0.283*\"НАМАЗ\" + -0.223*\"ОТВЕТ\" + 0.208*\"ЧЕЛОВЕК\" + -0.181*\"ОТВЕТИТЬ\" + -0.157*\"ЗАДАТЬ\" + -0.156*\"ХВАЛА\" + 0.145*\"КОТОРЫЙ\" + -0.138*\"СВОЙ\" + -0.138*\"ГОД\"\n"
     ]
    },
    {
     "name": "stderr",
     "output_type": "stream",
     "text": [
      "2016-10-11 18:13:31,438 : INFO : preparing a new chunk of documents\n"
     ]
    },
    {
     "name": "stderr",
     "output_type": "stream",
     "text": [
      "2016-10-11 18:13:31,441 : INFO : using 100 extra samples and 2 power iterations\n"
     ]
    },
    {
     "name": "stderr",
     "output_type": "stream",
     "text": [
      "2016-10-11 18:13:31,443 : INFO : 1st phase: constructing (24774L, 200L) action matrix\n"
     ]
    },
    {
     "name": "stderr",
     "output_type": "stream",
     "text": [
      "2016-10-11 18:13:31,447 : INFO : orthonormalizing (24774L, 200L) action matrix\n"
     ]
    },
    {
     "name": "stderr",
     "output_type": "stream",
     "text": [
      "2016-10-11 18:13:32,684 : INFO : 2nd phase: running dense svd on (200L, 20L) matrix\n"
     ]
    },
    {
     "name": "stderr",
     "output_type": "stream",
     "text": [
      "2016-10-11 18:13:32,717 : INFO : computing the final decomposition\n"
     ]
    },
    {
     "name": "stderr",
     "output_type": "stream",
     "text": [
      "2016-10-11 18:13:32,717 : INFO : keeping 20 factors (discarding 0.000% of energy spectrum)\n"
     ]
    },
    {
     "name": "stderr",
     "output_type": "stream",
     "text": [
      "2016-10-11 18:13:32,740 : INFO : merging projections: (24774L, 100L) + (24774L, 20L)\n"
     ]
    },
    {
     "name": "stderr",
     "output_type": "stream",
     "text": [
      "2016-10-11 18:13:32,808 : INFO : keeping 100 factors (discarding 0.228% of energy spectrum)\n"
     ]
    },
    {
     "name": "stderr",
     "output_type": "stream",
     "text": [
      "2016-10-11 18:13:32,871 : INFO : processed documents up to #920\n"
     ]
    },
    {
     "name": "stderr",
     "output_type": "stream",
     "text": [
      "2016-10-11 18:13:32,874 : INFO : topic #0(1344.199): 0.536*\"АЛЛАХ\" + 0.270*\"КОТОРЫЙ\" + 0.222*\"ЧЕЛОВЕК\" + 0.163*\"МИР\" + 0.161*\"СКАЗАТЬ\" + 0.151*\"ПРОРОК\" + 0.144*\"СВОЙ\" + 0.144*\"ВОПРОС\" + 0.111*\"КОРАН\" + 0.110*\"ИСТОРИЯ\"\n"
     ]
    },
    {
     "name": "stderr",
     "output_type": "stream",
     "text": [
      "2016-10-11 18:13:32,875 : INFO : topic #1(562.704): -0.480*\"ИДДА\" + -0.345*\"МУЖ\" + -0.342*\"ЖЕНЩИНА\" + 0.305*\"АЛЛАХ\" + -0.266*\"РАЗВОД\" + -0.203*\"ЖЕНА\" + -0.189*\"СРОК\" + -0.142*\"ДОЛЖНЫЙ\" + -0.134*\"ПЕРИОД\" + -0.106*\"НОРМА\"\n"
     ]
    },
    {
     "name": "stderr",
     "output_type": "stream",
     "text": [
      "2016-10-11 18:13:32,878 : INFO : topic #2(445.591): -0.493*\"АЛЛАХ\" + -0.220*\"ИДДА\" + 0.197*\"РАМАДАН\" + 0.189*\"ИСТОРИЯ\" + 0.181*\"НАМАЗ\" + -0.153*\"ПОСЛАННИК\" + 0.151*\"САЙТ\" + -0.147*\"МУЖ\" + 0.145*\"ИСЛАМСКИЙ\" + -0.132*\"СКАЗАТЬ\"\n"
     ]
    },
    {
     "name": "stderr",
     "output_type": "stream",
     "text": [
      "2016-10-11 18:13:32,880 : INFO : topic #3(363.405): 0.294*\"ЧЕЛОВЕК\" + -0.286*\"АЛЛАХ\" + 0.244*\"КОТОРЫЙ\" + 0.212*\"СЛОВО\" + 0.211*\"ВОПРОС\" + -0.165*\"НАМАЗ\" + -0.163*\"МИР\" + 0.160*\"ЯВЛЯТЬСЯ\" + 0.151*\"ПОЛОЖЕНИЕ\" + -0.147*\"РАМАДАН\"\n"
     ]
    },
    {
     "name": "stderr",
     "output_type": "stream",
     "text": [
      "2016-10-11 18:13:32,881 : INFO : topic #4(326.525): -0.467*\"ВОПРОС\" + 0.287*\"НАМАЗ\" + -0.224*\"ОТВЕТ\" + 0.204*\"ЧЕЛОВЕК\" + -0.179*\"ОТВЕТИТЬ\" + -0.156*\"ЗАДАТЬ\" + -0.155*\"ХВАЛА\" + 0.145*\"КОТОРЫЙ\" + -0.136*\"СВОЙ\" + -0.136*\"ГОД\"\n"
     ]
    },
    {
     "name": "stderr",
     "output_type": "stream",
     "text": [
      "2016-10-11 18:13:32,930 : INFO : preparing a new chunk of documents\n"
     ]
    },
    {
     "name": "stderr",
     "output_type": "stream",
     "text": [
      "2016-10-11 18:13:32,934 : INFO : using 100 extra samples and 2 power iterations\n"
     ]
    },
    {
     "name": "stderr",
     "output_type": "stream",
     "text": [
      "2016-10-11 18:13:32,934 : INFO : 1st phase: constructing (24774L, 200L) action matrix\n"
     ]
    },
    {
     "name": "stderr",
     "output_type": "stream",
     "text": [
      "2016-10-11 18:13:32,940 : INFO : orthonormalizing (24774L, 200L) action matrix\n"
     ]
    },
    {
     "name": "stderr",
     "output_type": "stream",
     "text": [
      "2016-10-11 18:13:34,194 : INFO : 2nd phase: running dense svd on (200L, 20L) matrix\n"
     ]
    },
    {
     "name": "stderr",
     "output_type": "stream",
     "text": [
      "2016-10-11 18:13:34,223 : INFO : computing the final decomposition\n"
     ]
    },
    {
     "name": "stderr",
     "output_type": "stream",
     "text": [
      "2016-10-11 18:13:34,226 : INFO : keeping 20 factors (discarding 0.000% of energy spectrum)\n"
     ]
    },
    {
     "name": "stderr",
     "output_type": "stream",
     "text": [
      "2016-10-11 18:13:34,250 : INFO : merging projections: (24774L, 100L) + (24774L, 20L)\n"
     ]
    },
    {
     "name": "stderr",
     "output_type": "stream",
     "text": [
      "2016-10-11 18:13:34,322 : INFO : keeping 100 factors (discarding 0.193% of energy spectrum)\n"
     ]
    },
    {
     "name": "stderr",
     "output_type": "stream",
     "text": [
      "2016-10-11 18:13:34,385 : INFO : processed documents up to #940\n"
     ]
    },
    {
     "name": "stderr",
     "output_type": "stream",
     "text": [
      "2016-10-11 18:13:34,388 : INFO : topic #0(1347.529): 0.535*\"АЛЛАХ\" + 0.270*\"КОТОРЫЙ\" + 0.221*\"ЧЕЛОВЕК\" + 0.163*\"МИР\" + 0.160*\"СКАЗАТЬ\" + 0.151*\"ПРОРОК\" + 0.145*\"ВОПРОС\" + 0.144*\"СВОЙ\" + 0.111*\"КОРАН\" + 0.111*\"ИСТОРИЯ\"\n"
     ]
    },
    {
     "name": "stderr",
     "output_type": "stream",
     "text": [
      "2016-10-11 18:13:34,391 : INFO : topic #1(562.875): -0.479*\"ИДДА\" + -0.344*\"МУЖ\" + -0.342*\"ЖЕНЩИНА\" + 0.308*\"АЛЛАХ\" + -0.265*\"РАЗВОД\" + -0.202*\"ЖЕНА\" + -0.189*\"СРОК\" + -0.142*\"ДОЛЖНЫЙ\" + -0.133*\"ПЕРИОД\" + -0.106*\"НОРМА\"\n"
     ]
    },
    {
     "name": "stderr",
     "output_type": "stream",
     "text": [
      "2016-10-11 18:13:34,392 : INFO : topic #2(448.561): -0.489*\"АЛЛАХ\" + -0.221*\"ИДДА\" + 0.201*\"РАМАДАН\" + 0.191*\"ИСТОРИЯ\" + 0.182*\"НАМАЗ\" + 0.153*\"САЙТ\" + -0.151*\"ПОСЛАННИК\" + -0.148*\"МУЖ\" + 0.145*\"ИСЛАМСКИЙ\" + -0.135*\"СКАЗАТЬ\"\n"
     ]
    },
    {
     "name": "stderr",
     "output_type": "stream",
     "text": [
      "2016-10-11 18:13:34,394 : INFO : topic #3(364.125): 0.295*\"ЧЕЛОВЕК\" + -0.292*\"АЛЛАХ\" + 0.245*\"КОТОРЫЙ\" + 0.212*\"СЛОВО\" + 0.207*\"ВОПРОС\" + -0.162*\"МИР\" + -0.161*\"НАМАЗ\" + 0.160*\"ЯВЛЯТЬСЯ\" + 0.150*\"ПОЛОЖЕНИЕ\" + -0.147*\"РАМАДАН\"\n"
     ]
    },
    {
     "name": "stderr",
     "output_type": "stream",
     "text": [
      "2016-10-11 18:13:34,397 : INFO : topic #4(327.202): -0.471*\"ВОПРОС\" + 0.292*\"НАМАЗ\" + -0.225*\"ОТВЕТ\" + 0.200*\"ЧЕЛОВЕК\" + -0.177*\"ОТВЕТИТЬ\" + -0.155*\"ЗАДАТЬ\" + -0.155*\"ХВАЛА\" + 0.146*\"КОТОРЫЙ\" + -0.134*\"СВОЙ\" + -0.133*\"ГОД\"\n"
     ]
    },
    {
     "name": "stderr",
     "output_type": "stream",
     "text": [
      "2016-10-11 18:13:34,443 : INFO : preparing a new chunk of documents\n"
     ]
    },
    {
     "name": "stderr",
     "output_type": "stream",
     "text": [
      "2016-10-11 18:13:34,446 : INFO : using 100 extra samples and 2 power iterations\n"
     ]
    },
    {
     "name": "stderr",
     "output_type": "stream",
     "text": [
      "2016-10-11 18:13:34,447 : INFO : 1st phase: constructing (24774L, 200L) action matrix\n"
     ]
    },
    {
     "name": "stderr",
     "output_type": "stream",
     "text": [
      "2016-10-11 18:13:34,453 : INFO : orthonormalizing (24774L, 200L) action matrix\n"
     ]
    },
    {
     "name": "stderr",
     "output_type": "stream",
     "text": [
      "2016-10-11 18:13:35,710 : INFO : 2nd phase: running dense svd on (200L, 20L) matrix\n"
     ]
    },
    {
     "name": "stderr",
     "output_type": "stream",
     "text": [
      "2016-10-11 18:13:35,739 : INFO : computing the final decomposition\n"
     ]
    },
    {
     "name": "stderr",
     "output_type": "stream",
     "text": [
      "2016-10-11 18:13:35,740 : INFO : keeping 20 factors (discarding 0.000% of energy spectrum)\n"
     ]
    },
    {
     "name": "stderr",
     "output_type": "stream",
     "text": [
      "2016-10-11 18:13:35,763 : INFO : merging projections: (24774L, 100L) + (24774L, 20L)\n"
     ]
    },
    {
     "name": "stderr",
     "output_type": "stream",
     "text": [
      "2016-10-11 18:13:35,828 : INFO : keeping 100 factors (discarding 0.185% of energy spectrum)\n"
     ]
    },
    {
     "name": "stderr",
     "output_type": "stream",
     "text": [
      "2016-10-11 18:13:35,890 : INFO : processed documents up to #960\n"
     ]
    },
    {
     "name": "stderr",
     "output_type": "stream",
     "text": [
      "2016-10-11 18:13:35,891 : INFO : topic #0(1350.781): 0.534*\"АЛЛАХ\" + 0.269*\"КОТОРЫЙ\" + 0.221*\"ЧЕЛОВЕК\" + 0.163*\"МИР\" + 0.160*\"СКАЗАТЬ\" + 0.151*\"ПРОРОК\" + 0.145*\"ВОПРОС\" + 0.144*\"СВОЙ\" + 0.111*\"ИСТОРИЯ\" + 0.111*\"КОРАН\"\n"
     ]
    },
    {
     "name": "stderr",
     "output_type": "stream",
     "text": [
      "2016-10-11 18:13:35,894 : INFO : topic #1(563.041): -0.478*\"ИДДА\" + -0.344*\"МУЖ\" + -0.341*\"ЖЕНЩИНА\" + 0.311*\"АЛЛАХ\" + -0.265*\"РАЗВОД\" + -0.202*\"ЖЕНА\" + -0.188*\"СРОК\" + -0.142*\"ДОЛЖНЫЙ\" + -0.133*\"ПЕРИОД\" + -0.107*\"НОРМА\"\n"
     ]
    },
    {
     "name": "stderr",
     "output_type": "stream",
     "text": [
      "2016-10-11 18:13:35,895 : INFO : topic #2(451.575): -0.486*\"АЛЛАХ\" + -0.223*\"ИДДА\" + 0.202*\"РАМАДАН\" + 0.193*\"ИСТОРИЯ\" + 0.182*\"НАМАЗ\" + 0.155*\"САЙТ\" + -0.150*\"ПОСЛАННИК\" + -0.149*\"МУЖ\" + 0.147*\"ИСЛАМСКИЙ\" + -0.137*\"СКАЗАТЬ\"\n"
     ]
    },
    {
     "name": "stderr",
     "output_type": "stream",
     "text": [
      "2016-10-11 18:13:35,898 : INFO : topic #3(364.479): -0.296*\"АЛЛАХ\" + 0.294*\"ЧЕЛОВЕК\" + 0.246*\"КОТОРЫЙ\" + 0.212*\"СЛОВО\" + 0.206*\"ВОПРОС\" + -0.162*\"МИР\" + 0.161*\"ЯВЛЯТЬСЯ\" + -0.158*\"НАМАЗ\" + 0.150*\"ПОЛОЖЕНИЕ\" + -0.146*\"РАМАДАН\"\n"
     ]
    },
    {
     "name": "stderr",
     "output_type": "stream",
     "text": [
      "2016-10-11 18:13:35,901 : INFO : topic #4(327.516): -0.472*\"ВОПРОС\" + 0.293*\"НАМАЗ\" + -0.225*\"ОТВЕТ\" + 0.199*\"ЧЕЛОВЕК\" + -0.177*\"ОТВЕТИТЬ\" + -0.155*\"ЗАДАТЬ\" + -0.154*\"ХВАЛА\" + 0.146*\"КОТОРЫЙ\" + -0.134*\"СВОЙ\" + -0.132*\"ГОД\"\n"
     ]
    },
    {
     "name": "stderr",
     "output_type": "stream",
     "text": [
      "2016-10-11 18:13:35,943 : INFO : preparing a new chunk of documents\n"
     ]
    },
    {
     "name": "stderr",
     "output_type": "stream",
     "text": [
      "2016-10-11 18:13:35,947 : INFO : using 100 extra samples and 2 power iterations\n"
     ]
    },
    {
     "name": "stderr",
     "output_type": "stream",
     "text": [
      "2016-10-11 18:13:35,947 : INFO : 1st phase: constructing (24774L, 200L) action matrix\n"
     ]
    },
    {
     "name": "stderr",
     "output_type": "stream",
     "text": [
      "2016-10-11 18:13:35,951 : INFO : orthonormalizing (24774L, 200L) action matrix\n"
     ]
    },
    {
     "name": "stderr",
     "output_type": "stream",
     "text": [
      "2016-10-11 18:13:37,188 : INFO : 2nd phase: running dense svd on (200L, 20L) matrix\n"
     ]
    },
    {
     "name": "stderr",
     "output_type": "stream",
     "text": [
      "2016-10-11 18:13:37,219 : INFO : computing the final decomposition\n"
     ]
    },
    {
     "name": "stderr",
     "output_type": "stream",
     "text": [
      "2016-10-11 18:13:37,220 : INFO : keeping 20 factors (discarding 0.000% of energy spectrum)\n"
     ]
    },
    {
     "name": "stderr",
     "output_type": "stream",
     "text": [
      "2016-10-11 18:13:37,244 : INFO : merging projections: (24774L, 100L) + (24774L, 20L)\n"
     ]
    },
    {
     "name": "stderr",
     "output_type": "stream",
     "text": [
      "2016-10-11 18:13:37,311 : INFO : keeping 100 factors (discarding 0.135% of energy spectrum)\n"
     ]
    },
    {
     "name": "stderr",
     "output_type": "stream",
     "text": [
      "2016-10-11 18:13:37,368 : INFO : processed documents up to #980\n"
     ]
    },
    {
     "name": "stderr",
     "output_type": "stream",
     "text": [
      "2016-10-11 18:13:37,369 : INFO : topic #0(1354.218): 0.533*\"АЛЛАХ\" + 0.269*\"КОТОРЫЙ\" + 0.221*\"ЧЕЛОВЕК\" + 0.164*\"МИР\" + 0.160*\"СКАЗАТЬ\" + 0.151*\"ПРОРОК\" + 0.145*\"ВОПРОС\" + 0.143*\"СВОЙ\" + 0.112*\"ИСТОРИЯ\" + 0.111*\"КОРАН\"\n"
     ]
    },
    {
     "name": "stderr",
     "output_type": "stream",
     "text": [
      "2016-10-11 18:13:37,371 : INFO : topic #1(563.221): -0.477*\"ИДДА\" + -0.343*\"МУЖ\" + -0.341*\"ЖЕНЩИНА\" + 0.313*\"АЛЛАХ\" + -0.265*\"РАЗВОД\" + -0.202*\"ЖЕНА\" + -0.188*\"СРОК\" + -0.142*\"ДОЛЖНЫЙ\" + -0.133*\"ПЕРИОД\" + -0.107*\"НОРМА\"\n"
     ]
    },
    {
     "name": "stderr",
     "output_type": "stream",
     "text": [
      "2016-10-11 18:13:37,374 : INFO : topic #2(453.868): -0.482*\"АЛЛАХ\" + -0.224*\"ИДДА\" + 0.203*\"РАМАДАН\" + 0.194*\"ИСТОРИЯ\" + 0.180*\"НАМАЗ\" + 0.157*\"САЙТ\" + -0.150*\"МУЖ\" + 0.148*\"ИСЛАМСКИЙ\" + -0.148*\"ПОСЛАННИК\" + -0.138*\"СКАЗАТЬ\"\n"
     ]
    },
    {
     "name": "stderr",
     "output_type": "stream",
     "text": [
      "2016-10-11 18:13:37,375 : INFO : topic #3(364.872): -0.299*\"АЛЛАХ\" + 0.294*\"ЧЕЛОВЕК\" + 0.247*\"КОТОРЫЙ\" + 0.213*\"СЛОВО\" + 0.207*\"ВОПРОС\" + -0.162*\"МИР\" + 0.161*\"ЯВЛЯТЬСЯ\" + -0.153*\"НАМАЗ\" + 0.150*\"ПОЛОЖЕНИЕ\" + -0.144*\"РАМАДАН\"\n"
     ]
    },
    {
     "name": "stderr",
     "output_type": "stream",
     "text": [
      "2016-10-11 18:13:37,378 : INFO : topic #4(327.685): -0.473*\"ВОПРОС\" + 0.294*\"НАМАЗ\" + -0.224*\"ОТВЕТ\" + 0.198*\"ЧЕЛОВЕК\" + -0.176*\"ОТВЕТИТЬ\" + -0.155*\"ЗАДАТЬ\" + -0.154*\"ХВАЛА\" + 0.147*\"КОТОРЫЙ\" + -0.133*\"СВОЙ\" + -0.131*\"ГОД\"\n"
     ]
    },
    {
     "name": "stderr",
     "output_type": "stream",
     "text": [
      "2016-10-11 18:13:37,415 : INFO : preparing a new chunk of documents\n"
     ]
    },
    {
     "name": "stderr",
     "output_type": "stream",
     "text": [
      "2016-10-11 18:13:37,418 : INFO : using 100 extra samples and 2 power iterations\n"
     ]
    },
    {
     "name": "stderr",
     "output_type": "stream",
     "text": [
      "2016-10-11 18:13:37,420 : INFO : 1st phase: constructing (24774L, 200L) action matrix\n"
     ]
    },
    {
     "name": "stderr",
     "output_type": "stream",
     "text": [
      "2016-10-11 18:13:37,424 : INFO : orthonormalizing (24774L, 200L) action matrix\n"
     ]
    },
    {
     "name": "stderr",
     "output_type": "stream",
     "text": [
      "2016-10-11 18:13:38,664 : INFO : 2nd phase: running dense svd on (200L, 20L) matrix\n"
     ]
    },
    {
     "name": "stderr",
     "output_type": "stream",
     "text": [
      "2016-10-11 18:13:38,697 : INFO : computing the final decomposition\n"
     ]
    },
    {
     "name": "stderr",
     "output_type": "stream",
     "text": [
      "2016-10-11 18:13:38,698 : INFO : keeping 20 factors (discarding 0.000% of energy spectrum)\n"
     ]
    },
    {
     "name": "stderr",
     "output_type": "stream",
     "text": [
      "2016-10-11 18:13:38,717 : INFO : merging projections: (24774L, 100L) + (24774L, 20L)\n"
     ]
    },
    {
     "name": "stderr",
     "output_type": "stream",
     "text": [
      "2016-10-11 18:13:38,785 : INFO : keeping 100 factors (discarding 0.102% of energy spectrum)\n"
     ]
    },
    {
     "name": "stderr",
     "output_type": "stream",
     "text": [
      "2016-10-11 18:13:38,849 : INFO : processed documents up to #1000\n"
     ]
    },
    {
     "name": "stderr",
     "output_type": "stream",
     "text": [
      "2016-10-11 18:13:38,851 : INFO : topic #0(1356.542): 0.533*\"АЛЛАХ\" + 0.269*\"КОТОРЫЙ\" + 0.221*\"ЧЕЛОВЕК\" + 0.164*\"МИР\" + 0.160*\"СКАЗАТЬ\" + 0.151*\"ПРОРОК\" + 0.146*\"ВОПРОС\" + 0.143*\"СВОЙ\" + 0.112*\"ИСТОРИЯ\" + 0.112*\"КОРАН\"\n"
     ]
    },
    {
     "name": "stderr",
     "output_type": "stream",
     "text": [
      "2016-10-11 18:13:38,854 : INFO : topic #1(563.341): -0.477*\"ИДДА\" + -0.343*\"МУЖ\" + -0.340*\"ЖЕНЩИНА\" + 0.314*\"АЛЛАХ\" + -0.264*\"РАЗВОД\" + -0.201*\"ЖЕНА\" + -0.188*\"СРОК\" + -0.142*\"ДОЛЖНЫЙ\" + -0.133*\"ПЕРИОД\" + -0.107*\"НОРМА\"\n"
     ]
    },
    {
     "name": "stderr",
     "output_type": "stream",
     "text": [
      "2016-10-11 18:13:38,855 : INFO : topic #2(455.890): -0.480*\"АЛЛАХ\" + -0.225*\"ИДДА\" + 0.204*\"РАМАДАН\" + 0.196*\"ИСТОРИЯ\" + 0.178*\"НАМАЗ\" + 0.159*\"САЙТ\" + -0.151*\"МУЖ\" + 0.149*\"ИСЛАМСКИЙ\" + -0.147*\"ПОСЛАННИК\" + -0.139*\"СКАЗАТЬ\"\n"
     ]
    },
    {
     "name": "stderr",
     "output_type": "stream",
     "text": [
      "2016-10-11 18:13:38,858 : INFO : topic #3(365.227): -0.302*\"АЛЛАХ\" + 0.294*\"ЧЕЛОВЕК\" + 0.249*\"КОТОРЫЙ\" + 0.212*\"СЛОВО\" + 0.206*\"ВОПРОС\" + -0.162*\"МИР\" + 0.162*\"ЯВЛЯТЬСЯ\" + 0.150*\"ПОЛОЖЕНИЕ\" + -0.149*\"НАМАЗ\" + 0.143*\"ОПРАВДАНИЕ\"\n"
     ]
    },
    {
     "name": "stderr",
     "output_type": "stream",
     "text": [
      "2016-10-11 18:13:38,859 : INFO : topic #4(327.828): -0.474*\"ВОПРОС\" + 0.297*\"НАМАЗ\" + -0.224*\"ОТВЕТ\" + 0.197*\"ЧЕЛОВЕК\" + -0.175*\"ОТВЕТИТЬ\" + -0.154*\"ЗАДАТЬ\" + -0.154*\"ХВАЛА\" + 0.146*\"КОТОРЫЙ\" + -0.133*\"СВОЙ\" + -0.131*\"ГОД\"\n"
     ]
    },
    {
     "name": "stderr",
     "output_type": "stream",
     "text": [
      "2016-10-11 18:13:38,914 : INFO : preparing a new chunk of documents\n"
     ]
    },
    {
     "name": "stderr",
     "output_type": "stream",
     "text": [
      "2016-10-11 18:13:38,917 : INFO : using 100 extra samples and 2 power iterations\n"
     ]
    },
    {
     "name": "stderr",
     "output_type": "stream",
     "text": [
      "2016-10-11 18:13:38,918 : INFO : 1st phase: constructing (24774L, 200L) action matrix\n"
     ]
    },
    {
     "name": "stderr",
     "output_type": "stream",
     "text": [
      "2016-10-11 18:13:38,924 : INFO : orthonormalizing (24774L, 200L) action matrix\n"
     ]
    },
    {
     "name": "stderr",
     "output_type": "stream",
     "text": [
      "2016-10-11 18:13:40,183 : INFO : 2nd phase: running dense svd on (200L, 20L) matrix\n"
     ]
    },
    {
     "name": "stderr",
     "output_type": "stream",
     "text": [
      "2016-10-11 18:13:40,214 : INFO : computing the final decomposition\n"
     ]
    },
    {
     "name": "stderr",
     "output_type": "stream",
     "text": [
      "2016-10-11 18:13:40,217 : INFO : keeping 20 factors (discarding 0.000% of energy spectrum)\n"
     ]
    },
    {
     "name": "stderr",
     "output_type": "stream",
     "text": [
      "2016-10-11 18:13:40,243 : INFO : merging projections: (24774L, 100L) + (24774L, 20L)\n"
     ]
    },
    {
     "name": "stderr",
     "output_type": "stream",
     "text": [
      "2016-10-11 18:13:40,305 : INFO : keeping 100 factors (discarding 0.168% of energy spectrum)\n"
     ]
    },
    {
     "name": "stderr",
     "output_type": "stream",
     "text": [
      "2016-10-11 18:13:40,362 : INFO : processed documents up to #1020\n"
     ]
    },
    {
     "name": "stderr",
     "output_type": "stream",
     "text": [
      "2016-10-11 18:13:40,365 : INFO : topic #0(1360.332): 0.532*\"АЛЛАХ\" + 0.268*\"КОТОРЫЙ\" + 0.221*\"ЧЕЛОВЕК\" + 0.164*\"МИР\" + 0.159*\"СКАЗАТЬ\" + 0.151*\"ПРОРОК\" + 0.146*\"ВОПРОС\" + 0.143*\"СВОЙ\" + 0.113*\"ИСТОРИЯ\" + 0.112*\"КОРАН\"\n"
     ]
    },
    {
     "name": "stderr",
     "output_type": "stream",
     "text": [
      "2016-10-11 18:13:40,367 : INFO : topic #1(563.427): -0.476*\"ИДДА\" + -0.342*\"МУЖ\" + -0.340*\"ЖЕНЩИНА\" + 0.316*\"АЛЛАХ\" + -0.264*\"РАЗВОД\" + -0.201*\"ЖЕНА\" + -0.187*\"СРОК\" + -0.142*\"ДОЛЖНЫЙ\" + -0.132*\"ПЕРИОД\" + -0.107*\"НОРМА\"\n"
     ]
    },
    {
     "name": "stderr",
     "output_type": "stream",
     "text": [
      "2016-10-11 18:13:40,368 : INFO : topic #2(458.634): -0.477*\"АЛЛАХ\" + -0.225*\"ИДДА\" + 0.205*\"РАМАДАН\" + 0.197*\"ИСТОРИЯ\" + 0.177*\"НАМАЗ\" + 0.160*\"САЙТ\" + -0.151*\"МУЖ\" + 0.151*\"ИСЛАМСКИЙ\" + -0.146*\"ПОСЛАННИК\" + -0.141*\"СКАЗАТЬ\"\n"
     ]
    },
    {
     "name": "stderr",
     "output_type": "stream",
     "text": [
      "2016-10-11 18:13:40,371 : INFO : topic #3(365.648): -0.307*\"АЛЛАХ\" + 0.295*\"ЧЕЛОВЕК\" + 0.251*\"КОТОРЫЙ\" + 0.212*\"СЛОВО\" + 0.202*\"ВОПРОС\" + 0.162*\"ЯВЛЯТЬСЯ\" + -0.162*\"МИР\" + 0.150*\"ПОЛОЖЕНИЕ\" + -0.144*\"НАМАЗ\" + 0.143*\"ОПРАВДАНИЕ\"\n"
     ]
    },
    {
     "name": "stderr",
     "output_type": "stream",
     "text": [
      "2016-10-11 18:13:40,374 : INFO : topic #4(328.143): -0.475*\"ВОПРОС\" + 0.303*\"НАМАЗ\" + -0.223*\"ОТВЕТ\" + 0.194*\"ЧЕЛОВЕК\" + -0.174*\"ОТВЕТИТЬ\" + -0.154*\"ХВАЛА\" + -0.153*\"ЗАДАТЬ\" + 0.145*\"КОТОРЫЙ\" + -0.132*\"СВОЙ\" + -0.130*\"ГОД\"\n"
     ]
    },
    {
     "name": "stderr",
     "output_type": "stream",
     "text": [
      "2016-10-11 18:13:40,436 : INFO : preparing a new chunk of documents\n"
     ]
    },
    {
     "name": "stderr",
     "output_type": "stream",
     "text": [
      "2016-10-11 18:13:40,438 : INFO : using 100 extra samples and 2 power iterations\n"
     ]
    },
    {
     "name": "stderr",
     "output_type": "stream",
     "text": [
      "2016-10-11 18:13:40,440 : INFO : 1st phase: constructing (24774L, 200L) action matrix\n"
     ]
    },
    {
     "name": "stderr",
     "output_type": "stream",
     "text": [
      "2016-10-11 18:13:40,447 : INFO : orthonormalizing (24774L, 200L) action matrix\n"
     ]
    },
    {
     "name": "stderr",
     "output_type": "stream",
     "text": [
      "2016-10-11 18:13:41,723 : INFO : 2nd phase: running dense svd on (200L, 20L) matrix\n"
     ]
    },
    {
     "name": "stderr",
     "output_type": "stream",
     "text": [
      "2016-10-11 18:13:41,752 : INFO : computing the final decomposition\n"
     ]
    },
    {
     "name": "stderr",
     "output_type": "stream",
     "text": [
      "2016-10-11 18:13:41,753 : INFO : keeping 20 factors (discarding 0.000% of energy spectrum)\n"
     ]
    },
    {
     "name": "stderr",
     "output_type": "stream",
     "text": [
      "2016-10-11 18:13:41,775 : INFO : merging projections: (24774L, 100L) + (24774L, 20L)\n"
     ]
    },
    {
     "name": "stderr",
     "output_type": "stream",
     "text": [
      "2016-10-11 18:13:41,839 : INFO : keeping 100 factors (discarding 0.207% of energy spectrum)\n"
     ]
    },
    {
     "name": "stderr",
     "output_type": "stream",
     "text": [
      "2016-10-11 18:13:41,898 : INFO : processed documents up to #1040\n"
     ]
    },
    {
     "name": "stderr",
     "output_type": "stream",
     "text": [
      "2016-10-11 18:13:41,900 : INFO : topic #0(1364.495): 0.530*\"АЛЛАХ\" + 0.268*\"КОТОРЫЙ\" + 0.220*\"ЧЕЛОВЕК\" + 0.164*\"МИР\" + 0.159*\"СКАЗАТЬ\" + 0.151*\"ПРОРОК\" + 0.147*\"ВОПРОС\" + 0.143*\"СВОЙ\" + 0.114*\"ИСТОРИЯ\" + 0.112*\"КОРАН\"\n"
     ]
    },
    {
     "name": "stderr",
     "output_type": "stream",
     "text": [
      "2016-10-11 18:13:41,901 : INFO : topic #1(563.613): 0.475*\"ИДДА\" + 0.341*\"МУЖ\" + 0.339*\"ЖЕНЩИНА\" + -0.319*\"АЛЛАХ\" + 0.264*\"РАЗВОД\" + 0.201*\"ЖЕНА\" + 0.187*\"СРОК\" + 0.141*\"ДОЛЖНЫЙ\" + 0.132*\"ПЕРИОД\" + 0.108*\"НОРМА\"\n"
     ]
    },
    {
     "name": "stderr",
     "output_type": "stream",
     "text": [
      "2016-10-11 18:13:41,904 : INFO : topic #2(461.749): -0.474*\"АЛЛАХ\" + -0.227*\"ИДДА\" + 0.205*\"РАМАДАН\" + 0.198*\"ИСТОРИЯ\" + 0.173*\"НАМАЗ\" + 0.161*\"САЙТ\" + -0.153*\"МУЖ\" + 0.153*\"ИСЛАМСКИЙ\" + -0.144*\"ПОСЛАННИК\" + -0.144*\"СКАЗАТЬ\"\n"
     ]
    },
    {
     "name": "stderr",
     "output_type": "stream",
     "text": [
      "2016-10-11 18:13:41,907 : INFO : topic #3(365.944): -0.310*\"АЛЛАХ\" + 0.295*\"ЧЕЛОВЕК\" + 0.252*\"КОТОРЫЙ\" + 0.212*\"СЛОВО\" + 0.200*\"ВОПРОС\" + 0.163*\"ЯВЛЯТЬСЯ\" + -0.162*\"МИР\" + 0.150*\"ПОЛОЖЕНИЕ\" + 0.143*\"ОПРАВДАНИЕ\" + -0.141*\"РАМАДАН\"\n"
     ]
    },
    {
     "name": "stderr",
     "output_type": "stream",
     "text": [
      "2016-10-11 18:13:41,908 : INFO : topic #4(328.443): -0.475*\"ВОПРОС\" + 0.311*\"НАМАЗ\" + -0.222*\"ОТВЕТ\" + 0.190*\"ЧЕЛОВЕК\" + -0.172*\"ОТВЕТИТЬ\" + -0.153*\"ХВАЛА\" + -0.152*\"ЗАДАТЬ\" + 0.144*\"КОТОРЫЙ\" + -0.132*\"СВОЙ\" + -0.129*\"ГОД\"\n"
     ]
    },
    {
     "name": "stderr",
     "output_type": "stream",
     "text": [
      "2016-10-11 18:13:41,971 : INFO : preparing a new chunk of documents\n"
     ]
    },
    {
     "name": "stderr",
     "output_type": "stream",
     "text": [
      "2016-10-11 18:13:41,976 : INFO : using 100 extra samples and 2 power iterations\n"
     ]
    },
    {
     "name": "stderr",
     "output_type": "stream",
     "text": [
      "2016-10-11 18:13:41,976 : INFO : 1st phase: constructing (24774L, 200L) action matrix\n"
     ]
    },
    {
     "name": "stderr",
     "output_type": "stream",
     "text": [
      "2016-10-11 18:13:41,983 : INFO : orthonormalizing (24774L, 200L) action matrix\n"
     ]
    },
    {
     "name": "stderr",
     "output_type": "stream",
     "text": [
      "2016-10-11 18:13:43,252 : INFO : 2nd phase: running dense svd on (200L, 20L) matrix\n"
     ]
    },
    {
     "name": "stderr",
     "output_type": "stream",
     "text": [
      "2016-10-11 18:13:43,282 : INFO : computing the final decomposition\n"
     ]
    },
    {
     "name": "stderr",
     "output_type": "stream",
     "text": [
      "2016-10-11 18:13:43,283 : INFO : keeping 20 factors (discarding 0.000% of energy spectrum)\n"
     ]
    },
    {
     "name": "stderr",
     "output_type": "stream",
     "text": [
      "2016-10-11 18:13:43,306 : INFO : merging projections: (24774L, 100L) + (24774L, 20L)\n"
     ]
    },
    {
     "name": "stderr",
     "output_type": "stream",
     "text": [
      "2016-10-11 18:13:43,372 : INFO : keeping 100 factors (discarding 0.192% of energy spectrum)\n"
     ]
    },
    {
     "name": "stderr",
     "output_type": "stream",
     "text": [
      "2016-10-11 18:13:43,437 : INFO : processed documents up to #1060\n"
     ]
    },
    {
     "name": "stderr",
     "output_type": "stream",
     "text": [
      "2016-10-11 18:13:43,438 : INFO : topic #0(1368.647): 0.529*\"АЛЛАХ\" + 0.268*\"КОТОРЫЙ\" + 0.220*\"ЧЕЛОВЕК\" + 0.164*\"МИР\" + 0.158*\"СКАЗАТЬ\" + 0.151*\"ПРОРОК\" + 0.148*\"ВОПРОС\" + 0.144*\"СВОЙ\" + 0.115*\"ИСТОРИЯ\" + 0.112*\"КОРАН\"\n"
     ]
    },
    {
     "name": "stderr",
     "output_type": "stream",
     "text": [
      "2016-10-11 18:13:43,440 : INFO : topic #1(563.745): 0.473*\"ИДДА\" + 0.341*\"МУЖ\" + 0.338*\"ЖЕНЩИНА\" + -0.321*\"АЛЛАХ\" + 0.263*\"РАЗВОД\" + 0.200*\"ЖЕНА\" + 0.186*\"СРОК\" + 0.141*\"ДОЛЖНЫЙ\" + 0.132*\"ПЕРИОД\" + 0.108*\"НОРМА\"\n"
     ]
    },
    {
     "name": "stderr",
     "output_type": "stream",
     "text": [
      "2016-10-11 18:13:43,444 : INFO : topic #2(464.723): -0.471*\"АЛЛАХ\" + -0.228*\"ИДДА\" + 0.205*\"РАМАДАН\" + 0.199*\"ИСТОРИЯ\" + 0.170*\"НАМАЗ\" + 0.163*\"САЙТ\" + -0.154*\"МУЖ\" + 0.153*\"ИСЛАМСКИЙ\" + -0.146*\"СКАЗАТЬ\" + -0.143*\"ПОСЛАННИК\"\n"
     ]
    },
    {
     "name": "stderr",
     "output_type": "stream",
     "text": [
      "2016-10-11 18:13:43,446 : INFO : topic #3(366.279): -0.314*\"АЛЛАХ\" + 0.295*\"ЧЕЛОВЕК\" + 0.253*\"КОТОРЫЙ\" + 0.212*\"СЛОВО\" + 0.196*\"ВОПРОС\" + 0.163*\"ЯВЛЯТЬСЯ\" + -0.162*\"МИР\" + 0.149*\"ПОЛОЖЕНИЕ\" + 0.142*\"ОПРАВДАНИЕ\" + -0.140*\"РАМАДАН\"\n"
     ]
    },
    {
     "name": "stderr",
     "output_type": "stream",
     "text": [
      "2016-10-11 18:13:43,447 : INFO : topic #4(328.871): -0.479*\"ВОПРОС\" + 0.314*\"НАМАЗ\" + -0.222*\"ОТВЕТ\" + 0.186*\"ЧЕЛОВЕК\" + -0.171*\"ОТВЕТИТЬ\" + -0.153*\"ХВАЛА\" + -0.152*\"ЗАДАТЬ\" + 0.143*\"КОТОРЫЙ\" + -0.130*\"СВОЙ\" + -0.128*\"ГОД\"\n"
     ]
    },
    {
     "name": "stderr",
     "output_type": "stream",
     "text": [
      "2016-10-11 18:13:43,496 : INFO : preparing a new chunk of documents\n"
     ]
    },
    {
     "name": "stderr",
     "output_type": "stream",
     "text": [
      "2016-10-11 18:13:43,499 : INFO : using 100 extra samples and 2 power iterations\n"
     ]
    },
    {
     "name": "stderr",
     "output_type": "stream",
     "text": [
      "2016-10-11 18:13:43,500 : INFO : 1st phase: constructing (24774L, 200L) action matrix\n"
     ]
    },
    {
     "name": "stderr",
     "output_type": "stream",
     "text": [
      "2016-10-11 18:13:43,505 : INFO : orthonormalizing (24774L, 200L) action matrix\n"
     ]
    },
    {
     "name": "stderr",
     "output_type": "stream",
     "text": [
      "2016-10-11 18:13:44,763 : INFO : 2nd phase: running dense svd on (200L, 20L) matrix\n"
     ]
    },
    {
     "name": "stderr",
     "output_type": "stream",
     "text": [
      "2016-10-11 18:13:44,793 : INFO : computing the final decomposition\n"
     ]
    },
    {
     "name": "stderr",
     "output_type": "stream",
     "text": [
      "2016-10-11 18:13:44,795 : INFO : keeping 20 factors (discarding 0.000% of energy spectrum)\n"
     ]
    },
    {
     "name": "stderr",
     "output_type": "stream",
     "text": [
      "2016-10-11 18:13:44,815 : INFO : merging projections: (24774L, 100L) + (24774L, 20L)\n"
     ]
    },
    {
     "name": "stderr",
     "output_type": "stream",
     "text": [
      "2016-10-11 18:13:44,880 : INFO : keeping 100 factors (discarding 0.189% of energy spectrum)\n"
     ]
    },
    {
     "name": "stderr",
     "output_type": "stream",
     "text": [
      "2016-10-11 18:13:44,937 : INFO : processed documents up to #1080\n"
     ]
    },
    {
     "name": "stderr",
     "output_type": "stream",
     "text": [
      "2016-10-11 18:13:44,940 : INFO : topic #0(1372.582): 0.529*\"АЛЛАХ\" + 0.267*\"КОТОРЫЙ\" + 0.220*\"ЧЕЛОВЕК\" + 0.165*\"МИР\" + 0.158*\"СКАЗАТЬ\" + 0.151*\"ПРОРОК\" + 0.147*\"ВОПРОС\" + 0.144*\"СВОЙ\" + 0.115*\"ИСТОРИЯ\" + 0.112*\"КОРАН\"\n"
     ]
    },
    {
     "name": "stderr",
     "output_type": "stream",
     "text": [
      "2016-10-11 18:13:44,941 : INFO : topic #1(564.157): 0.472*\"ИДДА\" + 0.339*\"МУЖ\" + 0.337*\"ЖЕНЩИНА\" + -0.326*\"АЛЛАХ\" + 0.263*\"РАЗВОД\" + 0.200*\"ЖЕНА\" + 0.186*\"СРОК\" + 0.141*\"ДОЛЖНЫЙ\" + 0.131*\"ПЕРИОД\" + 0.109*\"НОРМА\"\n"
     ]
    },
    {
     "name": "stderr",
     "output_type": "stream",
     "text": [
      "2016-10-11 18:13:44,944 : INFO : topic #2(467.881): -0.468*\"АЛЛАХ\" + -0.231*\"ИДДА\" + 0.205*\"РАМАДАН\" + 0.200*\"ИСТОРИЯ\" + 0.168*\"НАМАЗ\" + 0.164*\"САЙТ\" + -0.156*\"МУЖ\" + 0.154*\"ИСЛАМСКИЙ\" + -0.147*\"СКАЗАТЬ\" + -0.141*\"ПОСЛАННИК\"\n"
     ]
    },
    {
     "name": "stderr",
     "output_type": "stream",
     "text": [
      "2016-10-11 18:13:44,946 : INFO : topic #3(367.211): -0.315*\"АЛЛАХ\" + 0.298*\"ЧЕЛОВЕК\" + 0.255*\"КОТОРЫЙ\" + 0.212*\"СЛОВО\" + 0.196*\"ВОПРОС\" + 0.164*\"ЯВЛЯТЬСЯ\" + -0.162*\"МИР\" + 0.149*\"ПОЛОЖЕНИЕ\" + 0.142*\"ОПРАВДАНИЕ\" + -0.139*\"РАМАДАН\"\n"
     ]
    },
    {
     "name": "stderr",
     "output_type": "stream",
     "text": [
      "2016-10-11 18:13:44,947 : INFO : topic #4(328.930): -0.480*\"ВОПРОС\" + 0.313*\"НАМАЗ\" + -0.222*\"ОТВЕТ\" + 0.185*\"ЧЕЛОВЕК\" + -0.171*\"ОТВЕТИТЬ\" + -0.153*\"ХВАЛА\" + -0.152*\"ЗАДАТЬ\" + 0.142*\"КОТОРЫЙ\" + -0.130*\"СВОЙ\" + -0.127*\"ГОД\"\n"
     ]
    },
    {
     "name": "stderr",
     "output_type": "stream",
     "text": [
      "2016-10-11 18:13:44,989 : INFO : preparing a new chunk of documents\n"
     ]
    },
    {
     "name": "stderr",
     "output_type": "stream",
     "text": [
      "2016-10-11 18:13:44,992 : INFO : using 100 extra samples and 2 power iterations\n"
     ]
    },
    {
     "name": "stderr",
     "output_type": "stream",
     "text": [
      "2016-10-11 18:13:44,993 : INFO : 1st phase: constructing (24774L, 200L) action matrix\n"
     ]
    },
    {
     "name": "stderr",
     "output_type": "stream",
     "text": [
      "2016-10-11 18:13:44,997 : INFO : orthonormalizing (24774L, 200L) action matrix\n"
     ]
    },
    {
     "name": "stderr",
     "output_type": "stream",
     "text": [
      "2016-10-11 18:13:46,312 : INFO : 2nd phase: running dense svd on (200L, 20L) matrix\n"
     ]
    },
    {
     "name": "stderr",
     "output_type": "stream",
     "text": [
      "2016-10-11 18:13:46,344 : INFO : computing the final decomposition\n"
     ]
    },
    {
     "name": "stderr",
     "output_type": "stream",
     "text": [
      "2016-10-11 18:13:46,345 : INFO : keeping 20 factors (discarding 0.000% of energy spectrum)\n"
     ]
    },
    {
     "name": "stderr",
     "output_type": "stream",
     "text": [
      "2016-10-11 18:13:46,368 : INFO : merging projections: (24774L, 100L) + (24774L, 20L)\n"
     ]
    },
    {
     "name": "stderr",
     "output_type": "stream",
     "text": [
      "2016-10-11 18:13:46,437 : INFO : keeping 100 factors (discarding 0.145% of energy spectrum)\n"
     ]
    },
    {
     "name": "stderr",
     "output_type": "stream",
     "text": [
      "2016-10-11 18:13:46,494 : INFO : processed documents up to #1100\n"
     ]
    },
    {
     "name": "stderr",
     "output_type": "stream",
     "text": [
      "2016-10-11 18:13:46,496 : INFO : topic #0(1376.074): 0.529*\"АЛЛАХ\" + 0.267*\"КОТОРЫЙ\" + 0.219*\"ЧЕЛОВЕК\" + 0.165*\"МИР\" + 0.159*\"СКАЗАТЬ\" + 0.151*\"ПРОРОК\" + 0.147*\"ВОПРОС\" + 0.144*\"СВОЙ\" + 0.116*\"ИСТОРИЯ\" + 0.112*\"КОРАН\"\n"
     ]
    },
    {
     "name": "stderr",
     "output_type": "stream",
     "text": [
      "2016-10-11 18:13:46,500 : INFO : topic #1(564.572): 0.470*\"ИДДА\" + 0.338*\"МУЖ\" + 0.336*\"ЖЕНЩИНА\" + -0.330*\"АЛЛАХ\" + 0.262*\"РАЗВОД\" + 0.199*\"ЖЕНА\" + 0.185*\"СРОК\" + 0.141*\"ДОЛЖНЫЙ\" + 0.131*\"ПЕРИОД\" + 0.109*\"НОРМА\"\n"
     ]
    },
    {
     "name": "stderr",
     "output_type": "stream",
     "text": [
      "2016-10-11 18:13:46,502 : INFO : topic #2(470.768): -0.465*\"АЛЛАХ\" + -0.234*\"ИДДА\" + 0.204*\"РАМАДАН\" + 0.201*\"ИСТОРИЯ\" + 0.166*\"НАМАЗ\" + 0.164*\"САЙТ\" + -0.159*\"МУЖ\" + 0.155*\"ИСЛАМСКИЙ\" + -0.149*\"СКАЗАТЬ\" + -0.139*\"ПОСЛАННИК\"\n"
     ]
    },
    {
     "name": "stderr",
     "output_type": "stream",
     "text": [
      "2016-10-11 18:13:46,503 : INFO : topic #3(368.164): -0.316*\"АЛЛАХ\" + 0.299*\"ЧЕЛОВЕК\" + 0.257*\"КОТОРЫЙ\" + 0.213*\"СЛОВО\" + 0.195*\"ВОПРОС\" + 0.164*\"ЯВЛЯТЬСЯ\" + -0.162*\"МИР\" + 0.149*\"ПОЛОЖЕНИЕ\" + 0.141*\"ОПРАВДАНИЕ\" + -0.139*\"РАМАДАН\"\n"
     ]
    },
    {
     "name": "stderr",
     "output_type": "stream",
     "text": [
      "2016-10-11 18:13:46,506 : INFO : topic #4(329.124): -0.481*\"ВОПРОС\" + 0.315*\"НАМАЗ\" + -0.222*\"ОТВЕТ\" + 0.183*\"ЧЕЛОВЕК\" + -0.170*\"ОТВЕТИТЬ\" + -0.153*\"ХВАЛА\" + -0.151*\"ЗАДАТЬ\" + 0.142*\"КОТОРЫЙ\" + -0.129*\"СВОЙ\" + -0.126*\"ГОД\"\n"
     ]
    },
    {
     "name": "stderr",
     "output_type": "stream",
     "text": [
      "2016-10-11 18:13:46,543 : INFO : preparing a new chunk of documents\n"
     ]
    },
    {
     "name": "stderr",
     "output_type": "stream",
     "text": [
      "2016-10-11 18:13:46,546 : INFO : using 100 extra samples and 2 power iterations\n"
     ]
    },
    {
     "name": "stderr",
     "output_type": "stream",
     "text": [
      "2016-10-11 18:13:46,549 : INFO : 1st phase: constructing (24774L, 200L) action matrix\n"
     ]
    },
    {
     "name": "stderr",
     "output_type": "stream",
     "text": [
      "2016-10-11 18:13:46,552 : INFO : orthonormalizing (24774L, 200L) action matrix\n"
     ]
    },
    {
     "name": "stderr",
     "output_type": "stream",
     "text": [
      "2016-10-11 18:13:47,815 : INFO : 2nd phase: running dense svd on (200L, 20L) matrix\n"
     ]
    },
    {
     "name": "stderr",
     "output_type": "stream",
     "text": [
      "2016-10-11 18:13:47,845 : INFO : computing the final decomposition\n"
     ]
    },
    {
     "name": "stderr",
     "output_type": "stream",
     "text": [
      "2016-10-11 18:13:47,846 : INFO : keeping 20 factors (discarding 0.000% of energy spectrum)\n"
     ]
    },
    {
     "name": "stderr",
     "output_type": "stream",
     "text": [
      "2016-10-11 18:13:47,871 : INFO : merging projections: (24774L, 100L) + (24774L, 20L)\n"
     ]
    },
    {
     "name": "stderr",
     "output_type": "stream",
     "text": [
      "2016-10-11 18:13:47,937 : INFO : keeping 100 factors (discarding 0.077% of energy spectrum)\n"
     ]
    },
    {
     "name": "stderr",
     "output_type": "stream",
     "text": [
      "2016-10-11 18:13:48,003 : INFO : processed documents up to #1120\n"
     ]
    },
    {
     "name": "stderr",
     "output_type": "stream",
     "text": [
      "2016-10-11 18:13:48,005 : INFO : topic #0(1377.844): 0.528*\"АЛЛАХ\" + 0.267*\"КОТОРЫЙ\" + 0.219*\"ЧЕЛОВЕК\" + 0.165*\"МИР\" + 0.158*\"СКАЗАТЬ\" + 0.151*\"ПРОРОК\" + 0.148*\"ВОПРОС\" + 0.144*\"СВОЙ\" + 0.116*\"ИСТОРИЯ\" + 0.112*\"КОРАН\"\n"
     ]
    },
    {
     "name": "stderr",
     "output_type": "stream",
     "text": [
      "2016-10-11 18:13:48,006 : INFO : topic #1(564.710): 0.468*\"ИДДА\" + 0.337*\"МУЖ\" + 0.335*\"ЖЕНЩИНА\" + -0.333*\"АЛЛАХ\" + 0.261*\"РАЗВОД\" + 0.199*\"ЖЕНА\" + 0.185*\"СРОК\" + 0.140*\"ДОЛЖНЫЙ\" + 0.130*\"ПЕРИОД\" + 0.110*\"НОРМА\"\n"
     ]
    },
    {
     "name": "stderr",
     "output_type": "stream",
     "text": [
      "2016-10-11 18:13:48,009 : INFO : topic #2(473.255): -0.461*\"АЛЛАХ\" + -0.236*\"ИДДА\" + 0.205*\"РАМАДАН\" + 0.202*\"ИСТОРИЯ\" + 0.166*\"САЙТ\" + 0.164*\"НАМАЗ\" + -0.161*\"МУЖ\" + 0.155*\"ИСЛАМСКИЙ\" + -0.149*\"СКАЗАТЬ\" + -0.138*\"ПОСЛАННИК\"\n"
     ]
    },
    {
     "name": "stderr",
     "output_type": "stream",
     "text": [
      "2016-10-11 18:13:48,012 : INFO : topic #3(368.727): -0.319*\"АЛЛАХ\" + 0.298*\"ЧЕЛОВЕК\" + 0.259*\"КОТОРЫЙ\" + 0.213*\"СЛОВО\" + 0.194*\"ВОПРОС\" + 0.164*\"ЯВЛЯТЬСЯ\" + -0.162*\"МИР\" + 0.148*\"ПОЛОЖЕНИЕ\" + 0.140*\"ОПРАВДАНИЕ\" + -0.138*\"РАМАДАН\"\n"
     ]
    },
    {
     "name": "stderr",
     "output_type": "stream",
     "text": [
      "2016-10-11 18:13:48,013 : INFO : topic #4(329.229): -0.482*\"ВОПРОС\" + 0.317*\"НАМАЗ\" + -0.222*\"ОТВЕТ\" + 0.182*\"ЧЕЛОВЕК\" + -0.169*\"ОТВЕТИТЬ\" + -0.153*\"ХВАЛА\" + -0.151*\"ЗАДАТЬ\" + 0.141*\"КОТОРЫЙ\" + -0.129*\"СВОЙ\" + -0.126*\"ГОД\"\n"
     ]
    },
    {
     "name": "stderr",
     "output_type": "stream",
     "text": [
      "2016-10-11 18:13:48,061 : INFO : preparing a new chunk of documents\n"
     ]
    },
    {
     "name": "stderr",
     "output_type": "stream",
     "text": [
      "2016-10-11 18:13:48,065 : INFO : using 100 extra samples and 2 power iterations\n"
     ]
    },
    {
     "name": "stderr",
     "output_type": "stream",
     "text": [
      "2016-10-11 18:13:48,065 : INFO : 1st phase: constructing (24774L, 200L) action matrix\n"
     ]
    },
    {
     "name": "stderr",
     "output_type": "stream",
     "text": [
      "2016-10-11 18:13:48,071 : INFO : orthonormalizing (24774L, 200L) action matrix\n"
     ]
    },
    {
     "name": "stderr",
     "output_type": "stream",
     "text": [
      "2016-10-11 18:13:49,338 : INFO : 2nd phase: running dense svd on (200L, 20L) matrix\n"
     ]
    },
    {
     "name": "stderr",
     "output_type": "stream",
     "text": [
      "2016-10-11 18:13:49,368 : INFO : computing the final decomposition\n"
     ]
    },
    {
     "name": "stderr",
     "output_type": "stream",
     "text": [
      "2016-10-11 18:13:49,369 : INFO : keeping 20 factors (discarding 0.000% of energy spectrum)\n"
     ]
    },
    {
     "name": "stderr",
     "output_type": "stream",
     "text": [
      "2016-10-11 18:13:49,394 : INFO : merging projections: (24774L, 100L) + (24774L, 20L)\n"
     ]
    },
    {
     "name": "stderr",
     "output_type": "stream",
     "text": [
      "2016-10-11 18:13:49,457 : INFO : keeping 100 factors (discarding 0.192% of energy spectrum)\n"
     ]
    },
    {
     "name": "stderr",
     "output_type": "stream",
     "text": [
      "2016-10-11 18:13:49,523 : INFO : processed documents up to #1140\n"
     ]
    },
    {
     "name": "stderr",
     "output_type": "stream",
     "text": [
      "2016-10-11 18:13:49,525 : INFO : topic #0(1380.710): 0.527*\"АЛЛАХ\" + 0.267*\"КОТОРЫЙ\" + 0.219*\"ЧЕЛОВЕК\" + 0.165*\"МИР\" + 0.158*\"СКАЗАТЬ\" + 0.151*\"ПРОРОК\" + 0.149*\"ВОПРОС\" + 0.143*\"СВОЙ\" + 0.117*\"ИСТОРИЯ\" + 0.113*\"КОРАН\"\n"
     ]
    },
    {
     "name": "stderr",
     "output_type": "stream",
     "text": [
      "2016-10-11 18:13:49,526 : INFO : topic #1(564.915): 0.466*\"ИДДА\" + -0.337*\"АЛЛАХ\" + 0.336*\"МУЖ\" + 0.334*\"ЖЕНЩИНА\" + 0.261*\"РАЗВОД\" + 0.198*\"ЖЕНА\" + 0.184*\"СРОК\" + 0.140*\"ДОЛЖНЫЙ\" + 0.130*\"ПЕРИОД\" + 0.110*\"НОРМА\"\n"
     ]
    },
    {
     "name": "stderr",
     "output_type": "stream",
     "text": [
      "2016-10-11 18:13:49,529 : INFO : topic #2(476.566): -0.458*\"АЛЛАХ\" + -0.239*\"ИДДА\" + 0.205*\"РАМАДАН\" + 0.203*\"ИСТОРИЯ\" + 0.169*\"САЙТ\" + -0.163*\"МУЖ\" + 0.160*\"НАМАЗ\" + 0.156*\"ИСЛАМСКИЙ\" + -0.150*\"СКАЗАТЬ\" + -0.140*\"ЖЕНЩИНА\"\n"
     ]
    },
    {
     "name": "stderr",
     "output_type": "stream",
     "text": [
      "2016-10-11 18:13:49,530 : INFO : topic #3(369.188): -0.322*\"АЛЛАХ\" + 0.299*\"ЧЕЛОВЕК\" + 0.262*\"КОТОРЫЙ\" + 0.214*\"СЛОВО\" + 0.189*\"ВОПРОС\" + 0.163*\"ЯВЛЯТЬСЯ\" + -0.161*\"МИР\" + 0.148*\"ПОЛОЖЕНИЕ\" + 0.139*\"ОПРАВДАНИЕ\" + -0.137*\"РАМАДАН\"\n"
     ]
    },
    {
     "name": "stderr",
     "output_type": "stream",
     "text": [
      "2016-10-11 18:13:49,533 : INFO : topic #4(330.647): -0.496*\"ВОПРОС\" + 0.303*\"НАМАЗ\" + -0.228*\"ОТВЕТ\" + 0.179*\"ЧЕЛОВЕК\" + -0.169*\"ОТВЕТИТЬ\" + -0.154*\"ХВАЛА\" + -0.150*\"ЗАДАТЬ\" + 0.141*\"КОТОРЫЙ\" + -0.124*\"СВОЙ\" + -0.121*\"ГОД\"\n"
     ]
    },
    {
     "name": "stderr",
     "output_type": "stream",
     "text": [
      "2016-10-11 18:13:49,568 : INFO : preparing a new chunk of documents\n"
     ]
    },
    {
     "name": "stderr",
     "output_type": "stream",
     "text": [
      "2016-10-11 18:13:49,571 : INFO : using 100 extra samples and 2 power iterations\n"
     ]
    },
    {
     "name": "stderr",
     "output_type": "stream",
     "text": [
      "2016-10-11 18:13:49,572 : INFO : 1st phase: constructing (24774L, 200L) action matrix\n"
     ]
    },
    {
     "name": "stderr",
     "output_type": "stream",
     "text": [
      "2016-10-11 18:13:49,575 : INFO : orthonormalizing (24774L, 200L) action matrix\n"
     ]
    },
    {
     "name": "stderr",
     "output_type": "stream",
     "text": [
      "2016-10-11 18:13:50,848 : INFO : 2nd phase: running dense svd on (200L, 20L) matrix\n"
     ]
    },
    {
     "name": "stderr",
     "output_type": "stream",
     "text": [
      "2016-10-11 18:13:50,878 : INFO : computing the final decomposition\n"
     ]
    },
    {
     "name": "stderr",
     "output_type": "stream",
     "text": [
      "2016-10-11 18:13:50,881 : INFO : keeping 20 factors (discarding 0.000% of energy spectrum)\n"
     ]
    },
    {
     "name": "stderr",
     "output_type": "stream",
     "text": [
      "2016-10-11 18:13:50,904 : INFO : merging projections: (24774L, 100L) + (24774L, 20L)\n"
     ]
    },
    {
     "name": "stderr",
     "output_type": "stream",
     "text": [
      "2016-10-11 18:13:50,971 : INFO : keeping 100 factors (discarding 0.071% of energy spectrum)\n"
     ]
    },
    {
     "name": "stderr",
     "output_type": "stream",
     "text": [
      "2016-10-11 18:13:51,042 : INFO : processed documents up to #1160\n"
     ]
    },
    {
     "name": "stderr",
     "output_type": "stream",
     "text": [
      "2016-10-11 18:13:51,045 : INFO : topic #0(1382.315): 0.526*\"АЛЛАХ\" + 0.267*\"КОТОРЫЙ\" + 0.218*\"ЧЕЛОВЕК\" + 0.165*\"МИР\" + 0.158*\"СКАЗАТЬ\" + 0.151*\"ПРОРОК\" + 0.149*\"ВОПРОС\" + 0.143*\"СВОЙ\" + 0.118*\"ИСТОРИЯ\" + 0.113*\"КОРАН\"\n"
     ]
    },
    {
     "name": "stderr",
     "output_type": "stream",
     "text": [
      "2016-10-11 18:13:51,046 : INFO : topic #1(565.107): 0.465*\"ИДДА\" + -0.340*\"АЛЛАХ\" + 0.335*\"МУЖ\" + 0.333*\"ЖЕНЩИНА\" + 0.260*\"РАЗВОД\" + 0.197*\"ЖЕНА\" + 0.183*\"СРОК\" + 0.139*\"ДОЛЖНЫЙ\" + 0.129*\"ПЕРИОД\" + 0.110*\"НОРМА\"\n"
     ]
    },
    {
     "name": "stderr",
     "output_type": "stream",
     "text": [
      "2016-10-11 18:13:51,049 : INFO : topic #2(479.052): -0.454*\"АЛЛАХ\" + -0.241*\"ИДДА\" + 0.205*\"РАМАДАН\" + 0.204*\"ИСТОРИЯ\" + 0.169*\"САЙТ\" + -0.165*\"МУЖ\" + 0.158*\"НАМАЗ\" + 0.156*\"ИСЛАМСКИЙ\" + -0.150*\"СКАЗАТЬ\" + -0.142*\"ЖЕНЩИНА\"\n"
     ]
    },
    {
     "name": "stderr",
     "output_type": "stream",
     "text": [
      "2016-10-11 18:13:51,052 : INFO : topic #3(369.856): -0.325*\"АЛЛАХ\" + 0.299*\"ЧЕЛОВЕК\" + 0.263*\"КОТОРЫЙ\" + 0.213*\"СЛОВО\" + 0.187*\"ВОПРОС\" + 0.163*\"ЯВЛЯТЬСЯ\" + -0.160*\"МИР\" + 0.147*\"ПОЛОЖЕНИЕ\" + 0.139*\"ОПРАВДАНИЕ\" + -0.136*\"РАМАДАН\"\n"
     ]
    },
    {
     "name": "stderr",
     "output_type": "stream",
     "text": [
      "2016-10-11 18:13:51,053 : INFO : topic #4(330.702): -0.497*\"ВОПРОС\" + 0.303*\"НАМАЗ\" + -0.228*\"ОТВЕТ\" + 0.177*\"ЧЕЛОВЕК\" + -0.169*\"ОТВЕТИТЬ\" + -0.153*\"ХВАЛА\" + -0.150*\"ЗАДАТЬ\" + 0.140*\"КОТОРЫЙ\" + -0.124*\"СВОЙ\" + -0.121*\"ЗНАТЬ\"\n"
     ]
    },
    {
     "name": "stderr",
     "output_type": "stream",
     "text": [
      "2016-10-11 18:13:51,101 : INFO : preparing a new chunk of documents\n"
     ]
    },
    {
     "name": "stderr",
     "output_type": "stream",
     "text": [
      "2016-10-11 18:13:51,104 : INFO : using 100 extra samples and 2 power iterations\n"
     ]
    },
    {
     "name": "stderr",
     "output_type": "stream",
     "text": [
      "2016-10-11 18:13:51,105 : INFO : 1st phase: constructing (24774L, 200L) action matrix\n"
     ]
    },
    {
     "name": "stderr",
     "output_type": "stream",
     "text": [
      "2016-10-11 18:13:51,111 : INFO : orthonormalizing (24774L, 200L) action matrix\n"
     ]
    },
    {
     "name": "stderr",
     "output_type": "stream",
     "text": [
      "2016-10-11 18:13:52,361 : INFO : 2nd phase: running dense svd on (200L, 20L) matrix\n"
     ]
    },
    {
     "name": "stderr",
     "output_type": "stream",
     "text": [
      "2016-10-11 18:13:52,392 : INFO : computing the final decomposition\n"
     ]
    },
    {
     "name": "stderr",
     "output_type": "stream",
     "text": [
      "2016-10-11 18:13:52,394 : INFO : keeping 20 factors (discarding 0.000% of energy spectrum)\n"
     ]
    },
    {
     "name": "stderr",
     "output_type": "stream",
     "text": [
      "2016-10-11 18:13:52,415 : INFO : merging projections: (24774L, 100L) + (24774L, 20L)\n"
     ]
    },
    {
     "name": "stderr",
     "output_type": "stream",
     "text": [
      "2016-10-11 18:13:52,482 : INFO : keeping 100 factors (discarding 0.141% of energy spectrum)\n"
     ]
    },
    {
     "name": "stderr",
     "output_type": "stream",
     "text": [
      "2016-10-11 18:13:52,539 : INFO : processed documents up to #1180\n"
     ]
    },
    {
     "name": "stderr",
     "output_type": "stream",
     "text": [
      "2016-10-11 18:13:52,540 : INFO : topic #0(1385.116): 0.525*\"АЛЛАХ\" + 0.266*\"КОТОРЫЙ\" + 0.218*\"ЧЕЛОВЕК\" + 0.165*\"МИР\" + 0.157*\"СКАЗАТЬ\" + 0.151*\"ПРОРОК\" + 0.149*\"ВОПРОС\" + 0.143*\"СВОЙ\" + 0.118*\"ИСТОРИЯ\" + 0.114*\"КОРАН\"\n"
     ]
    },
    {
     "name": "stderr",
     "output_type": "stream",
     "text": [
      "2016-10-11 18:13:52,542 : INFO : topic #1(565.246): 0.463*\"ИДДА\" + -0.343*\"АЛЛАХ\" + 0.333*\"МУЖ\" + 0.332*\"ЖЕНЩИНА\" + 0.260*\"РАЗВОД\" + 0.197*\"ЖЕНА\" + 0.183*\"СРОК\" + 0.139*\"ДОЛЖНЫЙ\" + 0.129*\"ПЕРИОД\" + 0.111*\"НОРМА\"\n"
     ]
    },
    {
     "name": "stderr",
     "output_type": "stream",
     "text": [
      "2016-10-11 18:13:52,545 : INFO : topic #2(481.546): -0.451*\"АЛЛАХ\" + -0.243*\"ИДДА\" + 0.205*\"ИСТОРИЯ\" + 0.205*\"РАМАДАН\" + 0.170*\"САЙТ\" + -0.166*\"МУЖ\" + 0.156*\"ИСЛАМСКИЙ\" + 0.156*\"НАМАЗ\" + -0.150*\"СКАЗАТЬ\" + -0.144*\"ЖЕНЩИНА\"\n"
     ]
    },
    {
     "name": "stderr",
     "output_type": "stream",
     "text": [
      "2016-10-11 18:13:52,546 : INFO : topic #3(370.154): -0.328*\"АЛЛАХ\" + 0.299*\"ЧЕЛОВЕК\" + 0.264*\"КОТОРЫЙ\" + 0.213*\"СЛОВО\" + 0.184*\"ВОПРОС\" + 0.163*\"ЯВЛЯТЬСЯ\" + -0.160*\"МИР\" + 0.147*\"ПОЛОЖЕНИЕ\" + 0.138*\"ОПРАВДАНИЕ\" + -0.135*\"РАМАДАН\"\n"
     ]
    },
    {
     "name": "stderr",
     "output_type": "stream",
     "text": [
      "2016-10-11 18:13:52,549 : INFO : topic #4(331.006): -0.500*\"ВОПРОС\" + 0.304*\"НАМАЗ\" + -0.228*\"ОТВЕТ\" + 0.174*\"ЧЕЛОВЕК\" + -0.168*\"ОТВЕТИТЬ\" + -0.153*\"ХВАЛА\" + -0.149*\"ЗАДАТЬ\" + 0.139*\"КОТОРЫЙ\" + -0.123*\"СВОЙ\" + -0.121*\"ЗНАТЬ\"\n"
     ]
    },
    {
     "name": "stderr",
     "output_type": "stream",
     "text": [
      "2016-10-11 18:13:52,584 : INFO : preparing a new chunk of documents\n"
     ]
    },
    {
     "name": "stderr",
     "output_type": "stream",
     "text": [
      "2016-10-11 18:13:52,586 : INFO : using 100 extra samples and 2 power iterations\n"
     ]
    },
    {
     "name": "stderr",
     "output_type": "stream",
     "text": [
      "2016-10-11 18:13:52,588 : INFO : 1st phase: constructing (24774L, 200L) action matrix\n"
     ]
    },
    {
     "name": "stderr",
     "output_type": "stream",
     "text": [
      "2016-10-11 18:13:52,592 : INFO : orthonormalizing (24774L, 200L) action matrix\n"
     ]
    },
    {
     "name": "stderr",
     "output_type": "stream",
     "text": [
      "2016-10-11 18:13:53,849 : INFO : 2nd phase: running dense svd on (200L, 20L) matrix\n"
     ]
    },
    {
     "name": "stderr",
     "output_type": "stream",
     "text": [
      "2016-10-11 18:13:53,881 : INFO : computing the final decomposition\n"
     ]
    },
    {
     "name": "stderr",
     "output_type": "stream",
     "text": [
      "2016-10-11 18:13:53,882 : INFO : keeping 20 factors (discarding 0.000% of energy spectrum)\n"
     ]
    },
    {
     "name": "stderr",
     "output_type": "stream",
     "text": [
      "2016-10-11 18:13:53,907 : INFO : merging projections: (24774L, 100L) + (24774L, 20L)\n"
     ]
    },
    {
     "name": "stderr",
     "output_type": "stream",
     "text": [
      "2016-10-11 18:13:53,973 : INFO : keeping 100 factors (discarding 0.080% of energy spectrum)\n"
     ]
    },
    {
     "name": "stderr",
     "output_type": "stream",
     "text": [
      "2016-10-11 18:13:54,038 : INFO : processed documents up to #1200\n"
     ]
    },
    {
     "name": "stderr",
     "output_type": "stream",
     "text": [
      "2016-10-11 18:13:54,039 : INFO : topic #0(1386.858): 0.524*\"АЛЛАХ\" + 0.266*\"КОТОРЫЙ\" + 0.218*\"ЧЕЛОВЕК\" + 0.165*\"МИР\" + 0.157*\"СКАЗАТЬ\" + 0.151*\"ПРОРОК\" + 0.149*\"ВОПРОС\" + 0.143*\"СВОЙ\" + 0.119*\"ИСТОРИЯ\" + 0.114*\"КОРАН\"\n"
     ]
    },
    {
     "name": "stderr",
     "output_type": "stream",
     "text": [
      "2016-10-11 18:13:54,042 : INFO : topic #1(565.415): 0.462*\"ИДДА\" + -0.346*\"АЛЛАХ\" + 0.332*\"МУЖ\" + 0.331*\"ЖЕНЩИНА\" + 0.259*\"РАЗВОД\" + 0.196*\"ЖЕНА\" + 0.182*\"СРОК\" + 0.139*\"ДОЛЖНЫЙ\" + 0.129*\"ПЕРИОД\" + 0.111*\"НОРМА\"\n"
     ]
    },
    {
     "name": "stderr",
     "output_type": "stream",
     "text": [
      "2016-10-11 18:13:54,043 : INFO : topic #2(484.002): -0.446*\"АЛЛАХ\" + -0.245*\"ИДДА\" + 0.206*\"ИСТОРИЯ\" + 0.206*\"РАМАДАН\" + 0.172*\"САЙТ\" + -0.168*\"МУЖ\" + 0.156*\"ИСЛАМСКИЙ\" + 0.154*\"НАМАЗ\" + -0.150*\"СКАЗАТЬ\" + -0.147*\"ЖЕНЩИНА\"\n"
     ]
    },
    {
     "name": "stderr",
     "output_type": "stream",
     "text": [
      "2016-10-11 18:13:54,046 : INFO : topic #3(370.484): -0.331*\"АЛЛАХ\" + 0.298*\"ЧЕЛОВЕК\" + 0.266*\"КОТОРЫЙ\" + 0.213*\"СЛОВО\" + 0.181*\"ВОПРОС\" + 0.163*\"ЯВЛЯТЬСЯ\" + -0.159*\"МИР\" + 0.146*\"ПОЛОЖЕНИЕ\" + 0.138*\"ОПРАВДАНИЕ\" + -0.134*\"РАМАДАН\"\n"
     ]
    },
    {
     "name": "stderr",
     "output_type": "stream",
     "text": [
      "2016-10-11 18:13:54,048 : INFO : topic #4(331.608): -0.506*\"ВОПРОС\" + 0.298*\"НАМАЗ\" + -0.230*\"ОТВЕТ\" + 0.171*\"ЧЕЛОВЕК\" + -0.168*\"ОТВЕТИТЬ\" + -0.154*\"ХВАЛА\" + -0.149*\"ЗАДАТЬ\" + 0.140*\"КОТОРЫЙ\" + -0.122*\"ЗНАТЬ\" + -0.121*\"СВОЙ\"\n"
     ]
    },
    {
     "name": "stderr",
     "output_type": "stream",
     "text": [
      "2016-10-11 18:13:54,085 : INFO : preparing a new chunk of documents\n"
     ]
    },
    {
     "name": "stderr",
     "output_type": "stream",
     "text": [
      "2016-10-11 18:13:54,088 : INFO : using 100 extra samples and 2 power iterations\n"
     ]
    },
    {
     "name": "stderr",
     "output_type": "stream",
     "text": [
      "2016-10-11 18:13:54,089 : INFO : 1st phase: constructing (24774L, 200L) action matrix\n"
     ]
    },
    {
     "name": "stderr",
     "output_type": "stream",
     "text": [
      "2016-10-11 18:13:54,095 : INFO : orthonormalizing (24774L, 200L) action matrix\n"
     ]
    },
    {
     "name": "stderr",
     "output_type": "stream",
     "text": [
      "2016-10-11 18:13:55,387 : INFO : 2nd phase: running dense svd on (200L, 20L) matrix\n"
     ]
    },
    {
     "name": "stderr",
     "output_type": "stream",
     "text": [
      "2016-10-11 18:13:55,420 : INFO : computing the final decomposition\n"
     ]
    },
    {
     "name": "stderr",
     "output_type": "stream",
     "text": [
      "2016-10-11 18:13:55,421 : INFO : keeping 20 factors (discarding 0.000% of energy spectrum)\n"
     ]
    },
    {
     "name": "stderr",
     "output_type": "stream",
     "text": [
      "2016-10-11 18:13:55,443 : INFO : merging projections: (24774L, 100L) + (24774L, 20L)\n"
     ]
    },
    {
     "name": "stderr",
     "output_type": "stream",
     "text": [
      "2016-10-11 18:13:55,509 : INFO : keeping 100 factors (discarding 0.082% of energy spectrum)\n"
     ]
    },
    {
     "name": "stderr",
     "output_type": "stream",
     "text": [
      "2016-10-11 18:13:55,572 : INFO : processed documents up to #1220\n"
     ]
    },
    {
     "name": "stderr",
     "output_type": "stream",
     "text": [
      "2016-10-11 18:13:55,575 : INFO : topic #0(1388.366): 0.524*\"АЛЛАХ\" + 0.266*\"КОТОРЫЙ\" + 0.217*\"ЧЕЛОВЕК\" + 0.165*\"МИР\" + 0.157*\"СКАЗАТЬ\" + 0.151*\"ПРОРОК\" + 0.150*\"ВОПРОС\" + 0.143*\"СВОЙ\" + 0.120*\"ИСТОРИЯ\" + 0.114*\"КОРАН\"\n"
     ]
    },
    {
     "name": "stderr",
     "output_type": "stream",
     "text": [
      "2016-10-11 18:13:55,576 : INFO : topic #1(565.789): 0.459*\"ИДДА\" + -0.351*\"АЛЛАХ\" + 0.331*\"МУЖ\" + 0.329*\"ЖЕНЩИНА\" + 0.258*\"РАЗВОД\" + 0.196*\"ЖЕНА\" + 0.181*\"СРОК\" + 0.138*\"ДОЛЖНЫЙ\" + 0.128*\"ПЕРИОД\" + 0.112*\"НОРМА\"\n"
     ]
    },
    {
     "name": "stderr",
     "output_type": "stream",
     "text": [
      "2016-10-11 18:13:55,578 : INFO : topic #2(486.621): -0.441*\"АЛЛАХ\" + -0.250*\"ИДДА\" + 0.208*\"ИСТОРИЯ\" + 0.206*\"РАМАДАН\" + 0.173*\"САЙТ\" + -0.171*\"МУЖ\" + 0.156*\"ИСЛАМСКИЙ\" + 0.152*\"НАМАЗ\" + -0.151*\"СКАЗАТЬ\" + -0.150*\"ЖЕНЩИНА\"\n"
     ]
    },
    {
     "name": "stderr",
     "output_type": "stream",
     "text": [
      "2016-10-11 18:13:55,582 : INFO : topic #3(370.796): -0.334*\"АЛЛАХ\" + 0.298*\"ЧЕЛОВЕК\" + 0.267*\"КОТОРЫЙ\" + 0.212*\"СЛОВО\" + 0.180*\"ВОПРОС\" + 0.163*\"ЯВЛЯТЬСЯ\" + -0.159*\"МИР\" + 0.146*\"ПОЛОЖЕНИЕ\" + 0.137*\"ОПРАВДАНИЕ\" + -0.133*\"РАМАДАН\"\n"
     ]
    },
    {
     "name": "stderr",
     "output_type": "stream",
     "text": [
      "2016-10-11 18:13:55,584 : INFO : topic #4(331.901): -0.507*\"ВОПРОС\" + 0.300*\"НАМАЗ\" + -0.230*\"ОТВЕТ\" + 0.169*\"ЧЕЛОВЕК\" + -0.167*\"ОТВЕТИТЬ\" + -0.153*\"ХВАЛА\" + -0.148*\"ЗАДАТЬ\" + 0.139*\"КОТОРЫЙ\" + -0.122*\"ЗНАТЬ\" + -0.121*\"СВОЙ\"\n"
     ]
    },
    {
     "name": "stderr",
     "output_type": "stream",
     "text": [
      "2016-10-11 18:13:55,634 : INFO : preparing a new chunk of documents\n"
     ]
    },
    {
     "name": "stderr",
     "output_type": "stream",
     "text": [
      "2016-10-11 18:13:55,637 : INFO : using 100 extra samples and 2 power iterations\n"
     ]
    },
    {
     "name": "stderr",
     "output_type": "stream",
     "text": [
      "2016-10-11 18:13:55,638 : INFO : 1st phase: constructing (24774L, 200L) action matrix\n"
     ]
    },
    {
     "name": "stderr",
     "output_type": "stream",
     "text": [
      "2016-10-11 18:13:55,644 : INFO : orthonormalizing (24774L, 200L) action matrix\n"
     ]
    },
    {
     "name": "stderr",
     "output_type": "stream",
     "text": [
      "2016-10-11 18:13:56,924 : INFO : 2nd phase: running dense svd on (200L, 20L) matrix\n"
     ]
    },
    {
     "name": "stderr",
     "output_type": "stream",
     "text": [
      "2016-10-11 18:13:56,953 : INFO : computing the final decomposition\n"
     ]
    },
    {
     "name": "stderr",
     "output_type": "stream",
     "text": [
      "2016-10-11 18:13:56,954 : INFO : keeping 20 factors (discarding 0.000% of energy spectrum)\n"
     ]
    },
    {
     "name": "stderr",
     "output_type": "stream",
     "text": [
      "2016-10-11 18:13:56,979 : INFO : merging projections: (24774L, 100L) + (24774L, 20L)\n"
     ]
    },
    {
     "name": "stderr",
     "output_type": "stream",
     "text": [
      "2016-10-11 18:13:57,042 : INFO : keeping 100 factors (discarding 0.130% of energy spectrum)\n"
     ]
    },
    {
     "name": "stderr",
     "output_type": "stream",
     "text": [
      "2016-10-11 18:13:57,098 : INFO : processed documents up to #1240\n"
     ]
    },
    {
     "name": "stderr",
     "output_type": "stream",
     "text": [
      "2016-10-11 18:13:57,101 : INFO : topic #0(1390.427): 0.522*\"АЛЛАХ\" + 0.266*\"КОТОРЫЙ\" + 0.217*\"ЧЕЛОВЕК\" + 0.165*\"МИР\" + 0.157*\"СКАЗАТЬ\" + 0.151*\"ПРОРОК\" + 0.150*\"ВОПРОС\" + 0.143*\"СВОЙ\" + 0.120*\"ИСТОРИЯ\" + 0.114*\"КОРАН\"\n"
     ]
    },
    {
     "name": "stderr",
     "output_type": "stream",
     "text": [
      "2016-10-11 18:13:57,102 : INFO : topic #1(566.097): 0.456*\"ИДДА\" + -0.357*\"АЛЛАХ\" + 0.329*\"МУЖ\" + 0.328*\"ЖЕНЩИНА\" + 0.257*\"РАЗВОД\" + 0.195*\"ЖЕНА\" + 0.180*\"СРОК\" + 0.137*\"ДОЛЖНЫЙ\" + 0.127*\"ПЕРИОД\" + 0.113*\"НОРМА\"\n"
     ]
    },
    {
     "name": "stderr",
     "output_type": "stream",
     "text": [
      "2016-10-11 18:13:57,105 : INFO : topic #2(489.862): -0.436*\"АЛЛАХ\" + -0.254*\"ИДДА\" + 0.208*\"ИСТОРИЯ\" + 0.204*\"РАМАДАН\" + -0.175*\"МУЖ\" + 0.173*\"САЙТ\" + 0.155*\"ИСЛАМСКИЙ\" + -0.154*\"ЖЕНЩИНА\" + -0.151*\"СКАЗАТЬ\" + 0.149*\"НАМАЗ\"\n"
     ]
    },
    {
     "name": "stderr",
     "output_type": "stream",
     "text": [
      "2016-10-11 18:13:57,107 : INFO : topic #3(371.030): -0.336*\"АЛЛАХ\" + 0.296*\"ЧЕЛОВЕК\" + 0.267*\"КОТОРЫЙ\" + 0.212*\"СЛОВО\" + 0.179*\"ВОПРОС\" + 0.163*\"ЯВЛЯТЬСЯ\" + -0.159*\"МИР\" + 0.146*\"ПОЛОЖЕНИЕ\" + 0.137*\"ОПРАВДАНИЕ\" + -0.132*\"РАМАДАН\"\n"
     ]
    },
    {
     "name": "stderr",
     "output_type": "stream",
     "text": [
      "2016-10-11 18:13:57,109 : INFO : topic #4(331.953): -0.508*\"ВОПРОС\" + 0.302*\"НАМАЗ\" + -0.230*\"ОТВЕТ\" + 0.167*\"ЧЕЛОВЕК\" + -0.166*\"ОТВЕТИТЬ\" + -0.153*\"ХВАЛА\" + -0.148*\"ЗАДАТЬ\" + 0.139*\"КОТОРЫЙ\" + -0.122*\"ЗНАТЬ\" + -0.121*\"СВОЙ\"\n"
     ]
    },
    {
     "name": "stderr",
     "output_type": "stream",
     "text": [
      "2016-10-11 18:13:57,145 : INFO : preparing a new chunk of documents\n"
     ]
    },
    {
     "name": "stderr",
     "output_type": "stream",
     "text": [
      "2016-10-11 18:13:57,150 : INFO : using 100 extra samples and 2 power iterations\n"
     ]
    },
    {
     "name": "stderr",
     "output_type": "stream",
     "text": [
      "2016-10-11 18:13:57,151 : INFO : 1st phase: constructing (24774L, 200L) action matrix\n"
     ]
    },
    {
     "name": "stderr",
     "output_type": "stream",
     "text": [
      "2016-10-11 18:13:57,154 : INFO : orthonormalizing (24774L, 200L) action matrix\n"
     ]
    },
    {
     "name": "stderr",
     "output_type": "stream",
     "text": [
      "2016-10-11 18:13:58,427 : INFO : 2nd phase: running dense svd on (200L, 20L) matrix\n"
     ]
    },
    {
     "name": "stderr",
     "output_type": "stream",
     "text": [
      "2016-10-11 18:13:58,459 : INFO : computing the final decomposition\n"
     ]
    },
    {
     "name": "stderr",
     "output_type": "stream",
     "text": [
      "2016-10-11 18:13:58,460 : INFO : keeping 20 factors (discarding 0.000% of energy spectrum)\n"
     ]
    },
    {
     "name": "stderr",
     "output_type": "stream",
     "text": [
      "2016-10-11 18:13:58,484 : INFO : merging projections: (24774L, 100L) + (24774L, 20L)\n"
     ]
    },
    {
     "name": "stderr",
     "output_type": "stream",
     "text": [
      "2016-10-11 18:13:58,549 : INFO : keeping 100 factors (discarding 0.084% of energy spectrum)\n"
     ]
    },
    {
     "name": "stderr",
     "output_type": "stream",
     "text": [
      "2016-10-11 18:13:58,614 : INFO : processed documents up to #1260\n"
     ]
    },
    {
     "name": "stderr",
     "output_type": "stream",
     "text": [
      "2016-10-11 18:13:58,615 : INFO : topic #0(1391.975): 0.522*\"АЛЛАХ\" + 0.265*\"КОТОРЫЙ\" + 0.217*\"ЧЕЛОВЕК\" + 0.165*\"МИР\" + 0.156*\"СКАЗАТЬ\" + 0.151*\"ПРОРОК\" + 0.150*\"ВОПРОС\" + 0.143*\"СВОЙ\" + 0.121*\"ИСТОРИЯ\" + 0.114*\"КОРАН\"\n"
     ]
    },
    {
     "name": "stderr",
     "output_type": "stream",
     "text": [
      "2016-10-11 18:13:58,618 : INFO : topic #1(566.320): 0.454*\"ИДДА\" + -0.361*\"АЛЛАХ\" + 0.327*\"МУЖ\" + 0.326*\"ЖЕНЩИНА\" + 0.256*\"РАЗВОД\" + 0.194*\"ЖЕНА\" + 0.179*\"СРОК\" + 0.137*\"ДОЛЖНЫЙ\" + 0.127*\"ПЕРИОД\" + 0.113*\"НОРМА\"\n"
     ]
    },
    {
     "name": "stderr",
     "output_type": "stream",
     "text": [
      "2016-10-11 18:13:58,619 : INFO : topic #2(492.457): -0.431*\"АЛЛАХ\" + -0.258*\"ИДДА\" + 0.209*\"ИСТОРИЯ\" + 0.204*\"РАМАДАН\" + -0.177*\"МУЖ\" + 0.173*\"САЙТ\" + -0.157*\"ЖЕНЩИНА\" + 0.155*\"ИСЛАМСКИЙ\" + -0.151*\"СКАЗАТЬ\" + 0.147*\"НАМАЗ\"\n"
     ]
    },
    {
     "name": "stderr",
     "output_type": "stream",
     "text": [
      "2016-10-11 18:13:58,621 : INFO : topic #3(371.338): -0.338*\"АЛЛАХ\" + 0.295*\"ЧЕЛОВЕК\" + 0.268*\"КОТОРЫЙ\" + 0.211*\"СЛОВО\" + 0.178*\"ВОПРОС\" + 0.163*\"ЯВЛЯТЬСЯ\" + -0.159*\"МИР\" + 0.146*\"ПОЛОЖЕНИЕ\" + 0.136*\"ОПРАВДАНИЕ\" + -0.131*\"РАМАДАН\"\n"
     ]
    },
    {
     "name": "stderr",
     "output_type": "stream",
     "text": [
      "2016-10-11 18:13:58,624 : INFO : topic #4(332.149): -0.510*\"ВОПРОС\" + 0.300*\"НАМАЗ\" + -0.231*\"ОТВЕТ\" + -0.166*\"ОТВЕТИТЬ\" + 0.164*\"ЧЕЛОВЕК\" + -0.153*\"ХВАЛА\" + -0.148*\"ЗАДАТЬ\" + 0.138*\"КОТОРЫЙ\" + -0.123*\"ЗНАТЬ\" + -0.120*\"СВОЙ\"\n"
     ]
    },
    {
     "name": "stderr",
     "output_type": "stream",
     "text": [
      "2016-10-11 18:13:58,664 : INFO : preparing a new chunk of documents\n"
     ]
    },
    {
     "name": "stderr",
     "output_type": "stream",
     "text": [
      "2016-10-11 18:13:58,667 : INFO : using 100 extra samples and 2 power iterations\n"
     ]
    },
    {
     "name": "stderr",
     "output_type": "stream",
     "text": [
      "2016-10-11 18:13:58,668 : INFO : 1st phase: constructing (24774L, 200L) action matrix\n"
     ]
    },
    {
     "name": "stderr",
     "output_type": "stream",
     "text": [
      "2016-10-11 18:13:58,673 : INFO : orthonormalizing (24774L, 200L) action matrix\n"
     ]
    },
    {
     "name": "stderr",
     "output_type": "stream",
     "text": [
      "2016-10-11 18:13:59,944 : INFO : 2nd phase: running dense svd on (200L, 20L) matrix\n"
     ]
    },
    {
     "name": "stderr",
     "output_type": "stream",
     "text": [
      "2016-10-11 18:13:59,976 : INFO : computing the final decomposition\n"
     ]
    },
    {
     "name": "stderr",
     "output_type": "stream",
     "text": [
      "2016-10-11 18:13:59,977 : INFO : keeping 20 factors (discarding 0.000% of energy spectrum)\n"
     ]
    },
    {
     "name": "stderr",
     "output_type": "stream",
     "text": [
      "2016-10-11 18:14:00,002 : INFO : merging projections: (24774L, 100L) + (24774L, 20L)\n"
     ]
    },
    {
     "name": "stderr",
     "output_type": "stream",
     "text": [
      "2016-10-11 18:14:00,069 : INFO : keeping 100 factors (discarding 0.098% of energy spectrum)\n"
     ]
    },
    {
     "name": "stderr",
     "output_type": "stream",
     "text": [
      "2016-10-11 18:14:00,134 : INFO : processed documents up to #1280\n"
     ]
    },
    {
     "name": "stderr",
     "output_type": "stream",
     "text": [
      "2016-10-11 18:14:00,135 : INFO : topic #0(1394.438): 0.521*\"АЛЛАХ\" + 0.265*\"КОТОРЫЙ\" + 0.217*\"ЧЕЛОВЕК\" + 0.166*\"МИР\" + 0.156*\"СКАЗАТЬ\" + 0.151*\"ПРОРОК\" + 0.151*\"ВОПРОС\" + 0.143*\"СВОЙ\" + 0.121*\"ИСТОРИЯ\" + 0.114*\"КОРАН\"\n"
     ]
    },
    {
     "name": "stderr",
     "output_type": "stream",
     "text": [
      "2016-10-11 18:14:00,138 : INFO : topic #1(566.673): 0.450*\"ИДДА\" + -0.366*\"АЛЛАХ\" + 0.325*\"МУЖ\" + 0.324*\"ЖЕНЩИНА\" + 0.255*\"РАЗВОД\" + 0.193*\"ЖЕНА\" + 0.178*\"СРОК\" + 0.136*\"ДОЛЖНЫЙ\" + 0.126*\"ПЕРИОД\" + 0.114*\"НОРМА\"\n"
     ]
    },
    {
     "name": "stderr",
     "output_type": "stream",
     "text": [
      "2016-10-11 18:14:00,141 : INFO : topic #2(495.578): -0.424*\"АЛЛАХ\" + -0.262*\"ИДДА\" + 0.208*\"ИСТОРИЯ\" + 0.207*\"РАМАДАН\" + -0.181*\"МУЖ\" + 0.174*\"САЙТ\" + -0.162*\"ЖЕНЩИНА\" + 0.154*\"ИСЛАМСКИЙ\" + -0.151*\"СКАЗАТЬ\" + 0.150*\"ЧИТАТЬ\"\n"
     ]
    },
    {
     "name": "stderr",
     "output_type": "stream",
     "text": [
      "2016-10-11 18:14:00,142 : INFO : topic #3(372.036): -0.342*\"АЛЛАХ\" + 0.294*\"ЧЕЛОВЕК\" + 0.269*\"КОТОРЫЙ\" + 0.210*\"СЛОВО\" + 0.172*\"ВОПРОС\" + 0.162*\"ЯВЛЯТЬСЯ\" + -0.158*\"МИР\" + 0.145*\"ПОЛОЖЕНИЕ\" + 0.135*\"ОПРАВДАНИЕ\" + -0.134*\"РАМАДАН\"\n"
     ]
    },
    {
     "name": "stderr",
     "output_type": "stream",
     "text": [
      "2016-10-11 18:14:00,144 : INFO : topic #4(332.644): -0.517*\"ВОПРОС\" + 0.291*\"НАМАЗ\" + -0.232*\"ОТВЕТ\" + -0.165*\"ОТВЕТИТЬ\" + 0.157*\"ЧЕЛОВЕК\" + -0.153*\"ХВАЛА\" + -0.147*\"ЗАДАТЬ\" + 0.136*\"КОТОРЫЙ\" + -0.125*\"ЗНАТЬ\" + -0.118*\"ДОЛГ\"\n"
     ]
    },
    {
     "name": "stderr",
     "output_type": "stream",
     "text": [
      "2016-10-11 18:14:00,184 : INFO : preparing a new chunk of documents\n"
     ]
    },
    {
     "name": "stderr",
     "output_type": "stream",
     "text": [
      "2016-10-11 18:14:00,187 : INFO : using 100 extra samples and 2 power iterations\n"
     ]
    },
    {
     "name": "stderr",
     "output_type": "stream",
     "text": [
      "2016-10-11 18:14:00,187 : INFO : 1st phase: constructing (24774L, 200L) action matrix\n"
     ]
    },
    {
     "name": "stderr",
     "output_type": "stream",
     "text": [
      "2016-10-11 18:14:00,191 : INFO : orthonormalizing (24774L, 200L) action matrix\n"
     ]
    },
    {
     "name": "stderr",
     "output_type": "stream",
     "text": [
      "2016-10-11 18:14:01,470 : INFO : 2nd phase: running dense svd on (200L, 20L) matrix\n"
     ]
    },
    {
     "name": "stderr",
     "output_type": "stream",
     "text": [
      "2016-10-11 18:14:01,500 : INFO : computing the final decomposition\n"
     ]
    },
    {
     "name": "stderr",
     "output_type": "stream",
     "text": [
      "2016-10-11 18:14:01,500 : INFO : keeping 20 factors (discarding 0.000% of energy spectrum)\n"
     ]
    },
    {
     "name": "stderr",
     "output_type": "stream",
     "text": [
      "2016-10-11 18:14:01,523 : INFO : merging projections: (24774L, 100L) + (24774L, 20L)\n"
     ]
    },
    {
     "name": "stderr",
     "output_type": "stream",
     "text": [
      "2016-10-11 18:14:01,588 : INFO : keeping 100 factors (discarding 0.102% of energy spectrum)\n"
     ]
    },
    {
     "name": "stderr",
     "output_type": "stream",
     "text": [
      "2016-10-11 18:14:01,654 : INFO : processed documents up to #1300\n"
     ]
    },
    {
     "name": "stderr",
     "output_type": "stream",
     "text": [
      "2016-10-11 18:14:01,657 : INFO : topic #0(1396.090): 0.520*\"АЛЛАХ\" + 0.265*\"КОТОРЫЙ\" + 0.216*\"ЧЕЛОВЕК\" + 0.166*\"МИР\" + 0.156*\"СКАЗАТЬ\" + 0.151*\"ПРОРОК\" + 0.151*\"ВОПРОС\" + 0.143*\"СВОЙ\" + 0.122*\"ИСТОРИЯ\" + 0.114*\"КОРАН\"\n"
     ]
    },
    {
     "name": "stderr",
     "output_type": "stream",
     "text": [
      "2016-10-11 18:14:01,660 : INFO : topic #1(567.011): 0.447*\"ИДДА\" + -0.372*\"АЛЛАХ\" + 0.323*\"МУЖ\" + 0.322*\"ЖЕНЩИНА\" + 0.254*\"РАЗВОД\" + 0.191*\"ЖЕНА\" + 0.176*\"СРОК\" + 0.135*\"ДОЛЖНЫЙ\" + 0.125*\"ПЕРИОД\" + 0.114*\"НОРМА\"\n"
     ]
    },
    {
     "name": "stderr",
     "output_type": "stream",
     "text": [
      "2016-10-11 18:14:01,661 : INFO : topic #2(498.266): -0.418*\"АЛЛАХ\" + -0.267*\"ИДДА\" + 0.209*\"ИСТОРИЯ\" + 0.206*\"РАМАДАН\" + -0.185*\"МУЖ\" + 0.174*\"САЙТ\" + -0.166*\"ЖЕНЩИНА\" + 0.154*\"ИСЛАМСКИЙ\" + -0.151*\"СКАЗАТЬ\" + 0.151*\"ЧИТАТЬ\"\n"
     ]
    },
    {
     "name": "stderr",
     "output_type": "stream",
     "text": [
      "2016-10-11 18:14:01,664 : INFO : topic #3(372.360): -0.344*\"АЛЛАХ\" + 0.293*\"ЧЕЛОВЕК\" + 0.270*\"КОТОРЫЙ\" + 0.210*\"СЛОВО\" + 0.171*\"ВОПРОС\" + 0.162*\"ЯВЛЯТЬСЯ\" + -0.158*\"МИР\" + 0.144*\"ПОЛОЖЕНИЕ\" + 0.135*\"ОПРАВДАНИЕ\" + -0.133*\"РАМАДАН\"\n"
     ]
    },
    {
     "name": "stderr",
     "output_type": "stream",
     "text": [
      "2016-10-11 18:14:01,665 : INFO : topic #4(332.701): -0.518*\"ВОПРОС\" + 0.291*\"НАМАЗ\" + -0.232*\"ОТВЕТ\" + -0.165*\"ОТВЕТИТЬ\" + 0.155*\"ЧЕЛОВЕК\" + -0.153*\"ХВАЛА\" + -0.147*\"ЗАДАТЬ\" + 0.136*\"КОТОРЫЙ\" + -0.125*\"ЗНАТЬ\" + -0.118*\"ДОЛГ\"\n"
     ]
    },
    {
     "name": "stderr",
     "output_type": "stream",
     "text": [
      "2016-10-11 18:14:01,709 : INFO : preparing a new chunk of documents\n"
     ]
    },
    {
     "name": "stderr",
     "output_type": "stream",
     "text": [
      "2016-10-11 18:14:01,711 : INFO : using 100 extra samples and 2 power iterations\n"
     ]
    },
    {
     "name": "stderr",
     "output_type": "stream",
     "text": [
      "2016-10-11 18:14:01,713 : INFO : 1st phase: constructing (24774L, 200L) action matrix\n"
     ]
    },
    {
     "name": "stderr",
     "output_type": "stream",
     "text": [
      "2016-10-11 18:14:01,717 : INFO : orthonormalizing (24774L, 200L) action matrix\n"
     ]
    },
    {
     "name": "stderr",
     "output_type": "stream",
     "text": [
      "2016-10-11 18:14:03,006 : INFO : 2nd phase: running dense svd on (200L, 20L) matrix\n"
     ]
    },
    {
     "name": "stderr",
     "output_type": "stream",
     "text": [
      "2016-10-11 18:14:03,038 : INFO : computing the final decomposition\n"
     ]
    },
    {
     "name": "stderr",
     "output_type": "stream",
     "text": [
      "2016-10-11 18:14:03,039 : INFO : keeping 20 factors (discarding 0.000% of energy spectrum)\n"
     ]
    },
    {
     "name": "stderr",
     "output_type": "stream",
     "text": [
      "2016-10-11 18:14:03,059 : INFO : merging projections: (24774L, 100L) + (24774L, 20L)\n"
     ]
    },
    {
     "name": "stderr",
     "output_type": "stream",
     "text": [
      "2016-10-11 18:14:03,125 : INFO : keeping 100 factors (discarding 0.084% of energy spectrum)\n"
     ]
    },
    {
     "name": "stderr",
     "output_type": "stream",
     "text": [
      "2016-10-11 18:14:03,186 : INFO : processed documents up to #1320\n"
     ]
    },
    {
     "name": "stderr",
     "output_type": "stream",
     "text": [
      "2016-10-11 18:14:03,188 : INFO : topic #0(1397.938): 0.519*\"АЛЛАХ\" + 0.264*\"КОТОРЫЙ\" + 0.216*\"ЧЕЛОВЕК\" + 0.166*\"МИР\" + 0.155*\"СКАЗАТЬ\" + 0.152*\"ПРОРОК\" + 0.151*\"ВОПРОС\" + 0.143*\"СВОЙ\" + 0.123*\"ИСТОРИЯ\" + 0.114*\"КОРАН\"\n"
     ]
    },
    {
     "name": "stderr",
     "output_type": "stream",
     "text": [
      "2016-10-11 18:14:03,190 : INFO : topic #1(567.281): 0.444*\"ИДДА\" + -0.376*\"АЛЛАХ\" + 0.321*\"МУЖ\" + 0.320*\"ЖЕНЩИНА\" + 0.253*\"РАЗВОД\" + 0.190*\"ЖЕНА\" + 0.175*\"СРОК\" + 0.134*\"ДОЛЖНЫЙ\" + 0.124*\"ПЕРИОД\" + 0.115*\"НОРМА\"\n"
     ]
    },
    {
     "name": "stderr",
     "output_type": "stream",
     "text": [
      "2016-10-11 18:14:03,193 : INFO : topic #2(500.723): -0.413*\"АЛЛАХ\" + -0.271*\"ИДДА\" + 0.209*\"ИСТОРИЯ\" + 0.205*\"РАМАДАН\" + -0.188*\"МУЖ\" + 0.174*\"САЙТ\" + -0.170*\"ЖЕНЩИНА\" + 0.154*\"ЧИТАТЬ\" + 0.153*\"ИСЛАМСКИЙ\" + -0.151*\"СКАЗАТЬ\"\n"
     ]
    },
    {
     "name": "stderr",
     "output_type": "stream",
     "text": [
      "2016-10-11 18:14:03,194 : INFO : topic #3(372.795): -0.345*\"АЛЛАХ\" + 0.291*\"ЧЕЛОВЕК\" + 0.270*\"КОТОРЫЙ\" + 0.209*\"СЛОВО\" + 0.170*\"ВОПРОС\" + 0.162*\"ЯВЛЯТЬСЯ\" + -0.158*\"МИР\" + 0.144*\"ПОЛОЖЕНИЕ\" + 0.136*\"ИМАМ\" + 0.134*\"ОПРАВДАНИЕ\"\n"
     ]
    },
    {
     "name": "stderr",
     "output_type": "stream",
     "text": [
      "2016-10-11 18:14:03,197 : INFO : topic #4(332.776): -0.519*\"ВОПРОС\" + 0.291*\"НАМАЗ\" + -0.232*\"ОТВЕТ\" + -0.165*\"ОТВЕТИТЬ\" + 0.154*\"ЧЕЛОВЕК\" + -0.153*\"ХВАЛА\" + -0.147*\"ЗАДАТЬ\" + 0.136*\"КОТОРЫЙ\" + -0.125*\"ЗНАТЬ\" + -0.118*\"ДОЛГ\"\n"
     ]
    },
    {
     "name": "stderr",
     "output_type": "stream",
     "text": [
      "2016-10-11 18:14:03,255 : INFO : preparing a new chunk of documents\n"
     ]
    },
    {
     "name": "stderr",
     "output_type": "stream",
     "text": [
      "2016-10-11 18:14:03,257 : INFO : using 100 extra samples and 2 power iterations\n"
     ]
    },
    {
     "name": "stderr",
     "output_type": "stream",
     "text": [
      "2016-10-11 18:14:03,259 : INFO : 1st phase: constructing (24774L, 200L) action matrix\n"
     ]
    },
    {
     "name": "stderr",
     "output_type": "stream",
     "text": [
      "2016-10-11 18:14:03,265 : INFO : orthonormalizing (24774L, 200L) action matrix\n"
     ]
    },
    {
     "name": "stderr",
     "output_type": "stream",
     "text": [
      "2016-10-11 18:14:04,526 : INFO : 2nd phase: running dense svd on (200L, 20L) matrix\n"
     ]
    },
    {
     "name": "stderr",
     "output_type": "stream",
     "text": [
      "2016-10-11 18:14:04,558 : INFO : computing the final decomposition\n"
     ]
    },
    {
     "name": "stderr",
     "output_type": "stream",
     "text": [
      "2016-10-11 18:14:04,559 : INFO : keeping 20 factors (discarding 0.000% of energy spectrum)\n"
     ]
    },
    {
     "name": "stderr",
     "output_type": "stream",
     "text": [
      "2016-10-11 18:14:04,582 : INFO : merging projections: (24774L, 100L) + (24774L, 20L)\n"
     ]
    },
    {
     "name": "stderr",
     "output_type": "stream",
     "text": [
      "2016-10-11 18:14:04,653 : INFO : keeping 100 factors (discarding 0.195% of energy spectrum)\n"
     ]
    },
    {
     "name": "stderr",
     "output_type": "stream",
     "text": [
      "2016-10-11 18:14:04,719 : INFO : processed documents up to #1340\n"
     ]
    },
    {
     "name": "stderr",
     "output_type": "stream",
     "text": [
      "2016-10-11 18:14:04,720 : INFO : topic #0(1401.526): 0.517*\"АЛЛАХ\" + 0.264*\"КОТОРЫЙ\" + 0.216*\"ЧЕЛОВЕК\" + 0.166*\"МИР\" + 0.155*\"СКАЗАТЬ\" + 0.151*\"ПРОРОК\" + 0.151*\"ВОПРОС\" + 0.143*\"СВОЙ\" + 0.123*\"ИСТОРИЯ\" + 0.115*\"КОРАН\"\n"
     ]
    },
    {
     "name": "stderr",
     "output_type": "stream",
     "text": [
      "2016-10-11 18:14:04,723 : INFO : topic #1(567.756): 0.439*\"ИДДА\" + -0.384*\"АЛЛАХ\" + 0.317*\"МУЖ\" + 0.316*\"ЖЕНЩИНА\" + 0.251*\"РАЗВОД\" + 0.188*\"ЖЕНА\" + 0.173*\"СРОК\" + 0.133*\"ДОЛЖНЫЙ\" + 0.123*\"ПЕРИОД\" + -0.117*\"ПОСЛАННИК\"\n"
     ]
    },
    {
     "name": "stderr",
     "output_type": "stream",
     "text": [
      "2016-10-11 18:14:04,724 : INFO : topic #2(504.127): -0.406*\"АЛЛАХ\" + -0.279*\"ИДДА\" + 0.208*\"ИСТОРИЯ\" + 0.201*\"РАМАДАН\" + -0.194*\"МУЖ\" + -0.176*\"ЖЕНЩИНА\" + 0.172*\"САЙТ\" + 0.161*\"ЧИТАТЬ\" + 0.152*\"ИСЛАМСКИЙ\" + -0.152*\"СКАЗАТЬ\"\n"
     ]
    },
    {
     "name": "stderr",
     "output_type": "stream",
     "text": [
      "2016-10-11 18:14:04,726 : INFO : topic #3(373.805): -0.341*\"АЛЛАХ\" + 0.283*\"ЧЕЛОВЕК\" + 0.271*\"КОТОРЫЙ\" + 0.207*\"СЛОВО\" + 0.164*\"ВОПРОС\" + 0.161*\"ЯВЛЯТЬСЯ\" + -0.159*\"МИР\" + 0.157*\"ИМАМ\" + 0.142*\"ПОЛОЖЕНИЕ\" + -0.134*\"РАМАДАН\"\n"
     ]
    },
    {
     "name": "stderr",
     "output_type": "stream",
     "text": [
      "2016-10-11 18:14:04,730 : INFO : topic #4(333.048): -0.520*\"ВОПРОС\" + 0.294*\"НАМАЗ\" + -0.231*\"ОТВЕТ\" + -0.164*\"ОТВЕТИТЬ\" + -0.153*\"ХВАЛА\" + 0.150*\"ЧЕЛОВЕК\" + -0.146*\"ЗАДАТЬ\" + 0.134*\"КОТОРЫЙ\" + -0.126*\"ЗНАТЬ\" + -0.120*\"ЧИТАТЬ\"\n"
     ]
    },
    {
     "name": "stderr",
     "output_type": "stream",
     "text": [
      "2016-10-11 18:14:04,779 : INFO : preparing a new chunk of documents\n"
     ]
    },
    {
     "name": "stderr",
     "output_type": "stream",
     "text": [
      "2016-10-11 18:14:04,782 : INFO : using 100 extra samples and 2 power iterations\n"
     ]
    },
    {
     "name": "stderr",
     "output_type": "stream",
     "text": [
      "2016-10-11 18:14:04,782 : INFO : 1st phase: constructing (24774L, 200L) action matrix\n"
     ]
    },
    {
     "name": "stderr",
     "output_type": "stream",
     "text": [
      "2016-10-11 18:14:04,786 : INFO : orthonormalizing (24774L, 200L) action matrix\n"
     ]
    },
    {
     "name": "stderr",
     "output_type": "stream",
     "text": [
      "2016-10-11 18:14:06,088 : INFO : 2nd phase: running dense svd on (200L, 20L) matrix\n"
     ]
    },
    {
     "name": "stderr",
     "output_type": "stream",
     "text": [
      "2016-10-11 18:14:06,117 : INFO : computing the final decomposition\n"
     ]
    },
    {
     "name": "stderr",
     "output_type": "stream",
     "text": [
      "2016-10-11 18:14:06,118 : INFO : keeping 20 factors (discarding 0.000% of energy spectrum)\n"
     ]
    },
    {
     "name": "stderr",
     "output_type": "stream",
     "text": [
      "2016-10-11 18:14:06,141 : INFO : merging projections: (24774L, 100L) + (24774L, 20L)\n"
     ]
    },
    {
     "name": "stderr",
     "output_type": "stream",
     "text": [
      "2016-10-11 18:14:06,207 : INFO : keeping 100 factors (discarding 0.126% of energy spectrum)\n"
     ]
    },
    {
     "name": "stderr",
     "output_type": "stream",
     "text": [
      "2016-10-11 18:14:06,269 : INFO : processed documents up to #1360\n"
     ]
    },
    {
     "name": "stderr",
     "output_type": "stream",
     "text": [
      "2016-10-11 18:14:06,272 : INFO : topic #0(1404.176): 0.516*\"АЛЛАХ\" + 0.264*\"КОТОРЫЙ\" + 0.215*\"ЧЕЛОВЕК\" + 0.166*\"МИР\" + 0.155*\"СКАЗАТЬ\" + 0.151*\"ВОПРОС\" + 0.151*\"ПРОРОК\" + 0.143*\"СВОЙ\" + 0.124*\"ИСТОРИЯ\" + 0.115*\"КОРАН\"\n"
     ]
    },
    {
     "name": "stderr",
     "output_type": "stream",
     "text": [
      "2016-10-11 18:14:06,273 : INFO : topic #1(568.004): 0.436*\"ИДДА\" + -0.389*\"АЛЛАХ\" + 0.315*\"МУЖ\" + 0.314*\"ЖЕНЩИНА\" + 0.249*\"РАЗВОД\" + 0.187*\"ЖЕНА\" + 0.172*\"СРОК\" + 0.132*\"ДОЛЖНЫЙ\" + 0.122*\"ПЕРИОД\" + -0.118*\"ПОСЛАННИК\"\n"
     ]
    },
    {
     "name": "stderr",
     "output_type": "stream",
     "text": [
      "2016-10-11 18:14:06,276 : INFO : topic #2(506.530): -0.401*\"АЛЛАХ\" + -0.283*\"ИДДА\" + 0.207*\"ИСТОРИЯ\" + 0.200*\"РАМАДАН\" + -0.197*\"МУЖ\" + -0.180*\"ЖЕНЩИНА\" + 0.171*\"САЙТ\" + 0.164*\"ЧИТАТЬ\" + 0.152*\"ИСЛАМСКИЙ\" + -0.151*\"СКАЗАТЬ\"\n"
     ]
    },
    {
     "name": "stderr",
     "output_type": "stream",
     "text": [
      "2016-10-11 18:14:06,278 : INFO : topic #3(374.491): -0.339*\"АЛЛАХ\" + 0.278*\"ЧЕЛОВЕК\" + 0.271*\"КОТОРЫЙ\" + 0.206*\"СЛОВО\" + 0.176*\"ИМАМ\" + -0.159*\"МИР\" + 0.159*\"ЯВЛЯТЬСЯ\" + 0.159*\"ВОПРОС\" + 0.141*\"ПОЛОЖЕНИЕ\" + -0.135*\"РАМАДАН\"\n"
     ]
    },
    {
     "name": "stderr",
     "output_type": "stream",
     "text": [
      "2016-10-11 18:14:06,280 : INFO : topic #4(333.265): -0.527*\"ВОПРОС\" + 0.281*\"НАМАЗ\" + -0.232*\"ОТВЕТ\" + -0.163*\"ОТВЕТИТЬ\" + -0.152*\"ХВАЛА\" + -0.146*\"ЗАДАТЬ\" + 0.132*\"ЧЕЛОВЕК\" + -0.129*\"ЗНАТЬ\" + 0.129*\"КОТОРЫЙ\" + -0.123*\"ЧИТАТЬ\"\n"
     ]
    },
    {
     "name": "stderr",
     "output_type": "stream",
     "text": [
      "2016-10-11 18:14:06,325 : INFO : preparing a new chunk of documents\n"
     ]
    },
    {
     "name": "stderr",
     "output_type": "stream",
     "text": [
      "2016-10-11 18:14:06,328 : INFO : using 100 extra samples and 2 power iterations\n"
     ]
    },
    {
     "name": "stderr",
     "output_type": "stream",
     "text": [
      "2016-10-11 18:14:06,328 : INFO : 1st phase: constructing (24774L, 200L) action matrix\n"
     ]
    },
    {
     "name": "stderr",
     "output_type": "stream",
     "text": [
      "2016-10-11 18:14:06,334 : INFO : orthonormalizing (24774L, 200L) action matrix\n"
     ]
    },
    {
     "name": "stderr",
     "output_type": "stream",
     "text": [
      "2016-10-11 18:14:07,621 : INFO : 2nd phase: running dense svd on (200L, 20L) matrix\n"
     ]
    },
    {
     "name": "stderr",
     "output_type": "stream",
     "text": [
      "2016-10-11 18:14:07,654 : INFO : computing the final decomposition\n"
     ]
    },
    {
     "name": "stderr",
     "output_type": "stream",
     "text": [
      "2016-10-11 18:14:07,654 : INFO : keeping 20 factors (discarding 0.000% of energy spectrum)\n"
     ]
    },
    {
     "name": "stderr",
     "output_type": "stream",
     "text": [
      "2016-10-11 18:14:07,677 : INFO : merging projections: (24774L, 100L) + (24774L, 20L)\n"
     ]
    },
    {
     "name": "stderr",
     "output_type": "stream",
     "text": [
      "2016-10-11 18:14:07,742 : INFO : keeping 100 factors (discarding 0.124% of energy spectrum)\n"
     ]
    },
    {
     "name": "stderr",
     "output_type": "stream",
     "text": [
      "2016-10-11 18:14:07,805 : INFO : processed documents up to #1380\n"
     ]
    },
    {
     "name": "stderr",
     "output_type": "stream",
     "text": [
      "2016-10-11 18:14:07,808 : INFO : topic #0(1407.528): 0.515*\"АЛЛАХ\" + 0.264*\"КОТОРЫЙ\" + 0.215*\"ЧЕЛОВЕК\" + 0.166*\"МИР\" + 0.155*\"СКАЗАТЬ\" + 0.152*\"ВОПРОС\" + 0.151*\"ПРОРОК\" + 0.143*\"СВОЙ\" + 0.125*\"ИСТОРИЯ\" + 0.115*\"КОРАН\"\n"
     ]
    },
    {
     "name": "stderr",
     "output_type": "stream",
     "text": [
      "2016-10-11 18:14:07,809 : INFO : topic #1(568.429): 0.431*\"ИДДА\" + -0.397*\"АЛЛАХ\" + 0.311*\"МУЖ\" + 0.311*\"ЖЕНЩИНА\" + 0.247*\"РАЗВОД\" + 0.185*\"ЖЕНА\" + 0.170*\"СРОК\" + 0.130*\"ДОЛЖНЫЙ\" + 0.121*\"ПЕРИОД\" + -0.120*\"ПОСЛАННИК\"\n"
     ]
    },
    {
     "name": "stderr",
     "output_type": "stream",
     "text": [
      "2016-10-11 18:14:07,812 : INFO : topic #2(509.292): -0.395*\"АЛЛАХ\" + -0.290*\"ИДДА\" + 0.206*\"ИСТОРИЯ\" + -0.203*\"МУЖ\" + 0.197*\"РАМАДАН\" + -0.186*\"ЖЕНЩИНА\" + 0.170*\"САЙТ\" + 0.165*\"ЧИТАТЬ\" + 0.152*\"ИСЛАМСКИЙ\" + -0.149*\"СКАЗАТЬ\"\n"
     ]
    },
    {
     "name": "stderr",
     "output_type": "stream",
     "text": [
      "2016-10-11 18:14:07,815 : INFO : topic #3(376.645): -0.327*\"АЛЛАХ\" + 0.270*\"КОТОРЫЙ\" + 0.256*\"ЧЕЛОВЕК\" + 0.224*\"ИМАМ\" + 0.199*\"СЛОВО\" + -0.158*\"МИР\" + 0.152*\"ЯВЛЯТЬСЯ\" + 0.144*\"ВОПРОС\" + -0.139*\"РАМАДАН\" + 0.135*\"ПОЛОЖЕНИЕ\"\n"
     ]
    },
    {
     "name": "stderr",
     "output_type": "stream",
     "text": [
      "2016-10-11 18:14:07,816 : INFO : topic #4(334.066): -0.531*\"ВОПРОС\" + 0.254*\"ИМАМ\" + -0.226*\"ОТВЕТ\" + 0.205*\"НАМАЗ\" + -0.151*\"ОТВЕТИТЬ\" + -0.142*\"ЗНАТЬ\" + -0.141*\"ХВАЛА\" + -0.137*\"ЗАДАТЬ\" + 0.129*\"КНИГА\" + -0.125*\"ЧИТАТЬ\"\n"
     ]
    },
    {
     "name": "stderr",
     "output_type": "stream",
     "text": [
      "2016-10-11 18:14:07,867 : INFO : preparing a new chunk of documents\n"
     ]
    },
    {
     "name": "stderr",
     "output_type": "stream",
     "text": [
      "2016-10-11 18:14:07,871 : INFO : using 100 extra samples and 2 power iterations\n"
     ]
    },
    {
     "name": "stderr",
     "output_type": "stream",
     "text": [
      "2016-10-11 18:14:07,871 : INFO : 1st phase: constructing (24774L, 200L) action matrix\n"
     ]
    },
    {
     "name": "stderr",
     "output_type": "stream",
     "text": [
      "2016-10-11 18:14:07,877 : INFO : orthonormalizing (24774L, 200L) action matrix\n"
     ]
    },
    {
     "name": "stderr",
     "output_type": "stream",
     "text": [
      "2016-10-11 18:14:09,167 : INFO : 2nd phase: running dense svd on (200L, 20L) matrix\n"
     ]
    },
    {
     "name": "stderr",
     "output_type": "stream",
     "text": [
      "2016-10-11 18:14:09,200 : INFO : computing the final decomposition\n"
     ]
    },
    {
     "name": "stderr",
     "output_type": "stream",
     "text": [
      "2016-10-11 18:14:09,201 : INFO : keeping 20 factors (discarding 0.000% of energy spectrum)\n"
     ]
    },
    {
     "name": "stderr",
     "output_type": "stream",
     "text": [
      "2016-10-11 18:14:09,220 : INFO : merging projections: (24774L, 100L) + (24774L, 20L)\n"
     ]
    },
    {
     "name": "stderr",
     "output_type": "stream",
     "text": [
      "2016-10-11 18:14:09,289 : INFO : keeping 100 factors (discarding 0.173% of energy spectrum)\n"
     ]
    },
    {
     "name": "stderr",
     "output_type": "stream",
     "text": [
      "2016-10-11 18:14:09,345 : INFO : processed documents up to #1400\n"
     ]
    },
    {
     "name": "stderr",
     "output_type": "stream",
     "text": [
      "2016-10-11 18:14:09,348 : INFO : topic #0(1410.586): 0.513*\"АЛЛАХ\" + 0.264*\"КОТОРЫЙ\" + 0.214*\"ЧЕЛОВЕК\" + 0.166*\"МИР\" + 0.154*\"СКАЗАТЬ\" + 0.152*\"ВОПРОС\" + 0.151*\"ПРОРОК\" + 0.143*\"СВОЙ\" + 0.125*\"ИСТОРИЯ\" + 0.115*\"КОРАН\"\n"
     ]
    },
    {
     "name": "stderr",
     "output_type": "stream",
     "text": [
      "2016-10-11 18:14:09,349 : INFO : topic #1(569.076): 0.426*\"ИДДА\" + -0.404*\"АЛЛАХ\" + 0.307*\"МУЖ\" + 0.307*\"ЖЕНЩИНА\" + 0.245*\"РАЗВОД\" + 0.184*\"ЖЕНА\" + 0.168*\"СРОК\" + 0.129*\"ДОЛЖНЫЙ\" + -0.121*\"ПОСЛАННИК\" + 0.119*\"ПЕРИОД\"\n"
     ]
    },
    {
     "name": "stderr",
     "output_type": "stream",
     "text": [
      "2016-10-11 18:14:09,352 : INFO : topic #2(511.482): -0.389*\"АЛЛАХ\" + -0.297*\"ИДДА\" + -0.208*\"МУЖ\" + 0.206*\"ИСТОРИЯ\" + 0.195*\"РАМАДАН\" + -0.191*\"ЖЕНЩИНА\" + 0.169*\"САЙТ\" + 0.162*\"ЧИТАТЬ\" + 0.151*\"ИСЛАМСКИЙ\" + -0.148*\"СКАЗАТЬ\"\n"
     ]
    },
    {
     "name": "stderr",
     "output_type": "stream",
     "text": [
      "2016-10-11 18:14:09,355 : INFO : topic #3(377.307): -0.322*\"АЛЛАХ\" + 0.269*\"КОТОРЫЙ\" + 0.250*\"ЧЕЛОВЕК\" + 0.238*\"ИМАМ\" + 0.197*\"СЛОВО\" + -0.158*\"МИР\" + 0.150*\"ЯВЛЯТЬСЯ\" + -0.141*\"РАМАДАН\" + 0.140*\"ВОПРОС\" + 0.134*\"ПОЛОЖЕНИЕ\"\n"
     ]
    },
    {
     "name": "stderr",
     "output_type": "stream",
     "text": [
      "2016-10-11 18:14:09,357 : INFO : topic #4(335.012): -0.480*\"ВОПРОС\" + 0.383*\"ИМАМ\" + 0.203*\"УМ\" + 0.198*\"КНИГА\" + -0.195*\"ОТВЕТ\" + -0.141*\"ЗНАТЬ\" + -0.124*\"ОТВЕТИТЬ\" + -0.114*\"ХВАЛА\" + -0.113*\"ЗАДАТЬ\" + -0.113*\"ЧИТАТЬ\"\n"
     ]
    },
    {
     "name": "stderr",
     "output_type": "stream",
     "text": [
      "2016-10-11 18:14:09,434 : INFO : preparing a new chunk of documents\n"
     ]
    },
    {
     "name": "stderr",
     "output_type": "stream",
     "text": [
      "2016-10-11 18:14:09,440 : INFO : using 100 extra samples and 2 power iterations\n"
     ]
    },
    {
     "name": "stderr",
     "output_type": "stream",
     "text": [
      "2016-10-11 18:14:09,440 : INFO : 1st phase: constructing (24774L, 200L) action matrix\n"
     ]
    },
    {
     "name": "stderr",
     "output_type": "stream",
     "text": [
      "2016-10-11 18:14:09,447 : INFO : orthonormalizing (24774L, 200L) action matrix\n"
     ]
    },
    {
     "name": "stderr",
     "output_type": "stream",
     "text": [
      "2016-10-11 18:14:10,772 : INFO : 2nd phase: running dense svd on (200L, 20L) matrix\n"
     ]
    },
    {
     "name": "stderr",
     "output_type": "stream",
     "text": [
      "2016-10-11 18:14:10,802 : INFO : computing the final decomposition\n"
     ]
    },
    {
     "name": "stderr",
     "output_type": "stream",
     "text": [
      "2016-10-11 18:14:10,803 : INFO : keeping 20 factors (discarding 0.000% of energy spectrum)\n"
     ]
    },
    {
     "name": "stderr",
     "output_type": "stream",
     "text": [
      "2016-10-11 18:14:10,822 : INFO : merging projections: (24774L, 100L) + (24774L, 20L)\n"
     ]
    },
    {
     "name": "stderr",
     "output_type": "stream",
     "text": [
      "2016-10-11 18:14:10,885 : INFO : keeping 100 factors (discarding 0.302% of energy spectrum)\n"
     ]
    },
    {
     "name": "stderr",
     "output_type": "stream",
     "text": [
      "2016-10-11 18:14:10,951 : INFO : processed documents up to #1420\n"
     ]
    },
    {
     "name": "stderr",
     "output_type": "stream",
     "text": [
      "2016-10-11 18:14:10,953 : INFO : topic #0(1417.179): 0.511*\"АЛЛАХ\" + 0.264*\"КОТОРЫЙ\" + 0.214*\"ЧЕЛОВЕК\" + 0.166*\"МИР\" + 0.155*\"СКАЗАТЬ\" + 0.151*\"ПРОРОК\" + 0.151*\"ВОПРОС\" + 0.143*\"СВОЙ\" + 0.127*\"ИСТОРИЯ\" + 0.115*\"КОРАН\"\n"
     ]
    },
    {
     "name": "stderr",
     "output_type": "stream",
     "text": [
      "2016-10-11 18:14:10,956 : INFO : topic #1(570.471): -0.418*\"АЛЛАХ\" + 0.416*\"ИДДА\" + 0.301*\"ЖЕНЩИНА\" + 0.300*\"МУЖ\" + 0.241*\"РАЗВОД\" + 0.180*\"ЖЕНА\" + 0.164*\"СРОК\" + 0.126*\"ДОЛЖНЫЙ\" + -0.125*\"ПОСЛАННИК\" + 0.118*\"НОРМА\"\n"
     ]
    },
    {
     "name": "stderr",
     "output_type": "stream",
     "text": [
      "2016-10-11 18:14:10,957 : INFO : topic #2(514.804): -0.379*\"АЛЛАХ\" + -0.311*\"ИДДА\" + -0.218*\"МУЖ\" + 0.206*\"ИСТОРИЯ\" + -0.201*\"ЖЕНЩИНА\" + 0.191*\"РАМАДАН\" + 0.164*\"САЙТ\" + 0.156*\"ЧИТАТЬ\" + 0.148*\"ИСЛАМСКИЙ\" + -0.146*\"СКАЗАТЬ\"\n"
     ]
    },
    {
     "name": "stderr",
     "output_type": "stream",
     "text": [
      "2016-10-11 18:14:10,960 : INFO : topic #3(378.689): -0.315*\"АЛЛАХ\" + 0.272*\"КОТОРЫЙ\" + 0.246*\"ЧЕЛОВЕК\" + 0.243*\"ИМАМ\" + 0.195*\"СЛОВО\" + -0.158*\"МИР\" + 0.147*\"ЯВЛЯТЬСЯ\" + -0.146*\"РАМАДАН\" + 0.138*\"ВОПРОС\" + 0.131*\"ПОЛОЖЕНИЕ\"\n"
     ]
    },
    {
     "name": "stderr",
     "output_type": "stream",
     "text": [
      "2016-10-11 18:14:10,963 : INFO : topic #4(336.020): -0.461*\"ВОПРОС\" + 0.406*\"ИМАМ\" + 0.217*\"УМ\" + 0.207*\"КНИГА\" + -0.184*\"ОТВЕТ\" + -0.140*\"ЗНАТЬ\" + 0.119*\"УЧЁНЫЙ\" + -0.114*\"ОТВЕТИТЬ\" + -0.111*\"ЧИТАТЬ\" + -0.105*\"ЗАДАТЬ\"\n"
     ]
    },
    {
     "name": "stderr",
     "output_type": "stream",
     "text": [
      "2016-10-11 18:14:11,042 : INFO : preparing a new chunk of documents\n"
     ]
    },
    {
     "name": "stderr",
     "output_type": "stream",
     "text": [
      "2016-10-11 18:14:11,046 : INFO : using 100 extra samples and 2 power iterations\n"
     ]
    },
    {
     "name": "stderr",
     "output_type": "stream",
     "text": [
      "2016-10-11 18:14:11,046 : INFO : 1st phase: constructing (24774L, 200L) action matrix\n"
     ]
    },
    {
     "name": "stderr",
     "output_type": "stream",
     "text": [
      "2016-10-11 18:14:11,052 : INFO : orthonormalizing (24774L, 200L) action matrix\n"
     ]
    },
    {
     "name": "stderr",
     "output_type": "stream",
     "text": [
      "2016-10-11 18:14:12,371 : INFO : 2nd phase: running dense svd on (200L, 20L) matrix\n"
     ]
    },
    {
     "name": "stderr",
     "output_type": "stream",
     "text": [
      "2016-10-11 18:14:12,401 : INFO : computing the final decomposition\n"
     ]
    },
    {
     "name": "stderr",
     "output_type": "stream",
     "text": [
      "2016-10-11 18:14:12,404 : INFO : keeping 20 factors (discarding 0.000% of energy spectrum)\n"
     ]
    },
    {
     "name": "stderr",
     "output_type": "stream",
     "text": [
      "2016-10-11 18:14:12,426 : INFO : merging projections: (24774L, 100L) + (24774L, 20L)\n"
     ]
    },
    {
     "name": "stderr",
     "output_type": "stream",
     "text": [
      "2016-10-11 18:14:12,493 : INFO : keeping 100 factors (discarding 0.371% of energy spectrum)\n"
     ]
    },
    {
     "name": "stderr",
     "output_type": "stream",
     "text": [
      "2016-10-11 18:14:12,551 : INFO : processed documents up to #1440\n"
     ]
    },
    {
     "name": "stderr",
     "output_type": "stream",
     "text": [
      "2016-10-11 18:14:12,553 : INFO : topic #0(1427.769): 0.512*\"АЛЛАХ\" + 0.264*\"КОТОРЫЙ\" + 0.214*\"ЧЕЛОВЕК\" + 0.167*\"МИР\" + 0.154*\"СКАЗАТЬ\" + 0.152*\"ПРОРОК\" + 0.149*\"ВОПРОС\" + 0.144*\"СВОЙ\" + 0.127*\"ИСТОРИЯ\" + 0.115*\"КОРАН\"\n"
     ]
    },
    {
     "name": "stderr",
     "output_type": "stream",
     "text": [
      "2016-10-11 18:14:12,555 : INFO : topic #1(572.066): -0.431*\"АЛЛАХ\" + 0.405*\"ИДДА\" + 0.294*\"ЖЕНЩИНА\" + 0.292*\"МУЖ\" + 0.237*\"РАЗВОД\" + 0.176*\"ЖЕНА\" + 0.160*\"СРОК\" + -0.128*\"ПОСЛАННИК\" + 0.123*\"ДОЛЖНЫЙ\" + 0.119*\"НОРМА\"\n"
     ]
    },
    {
     "name": "stderr",
     "output_type": "stream",
     "text": [
      "2016-10-11 18:14:12,558 : INFO : topic #2(517.510): -0.368*\"АЛЛАХ\" + -0.324*\"ИДДА\" + -0.229*\"МУЖ\" + -0.212*\"ЖЕНЩИНА\" + 0.202*\"ИСТОРИЯ\" + 0.188*\"РАМАДАН\" + 0.161*\"САЙТ\" + 0.150*\"ЧИТАТЬ\" + 0.145*\"ИСЛАМСКИЙ\" + -0.142*\"СКАЗАТЬ\"\n"
     ]
    },
    {
     "name": "stderr",
     "output_type": "stream",
     "text": [
      "2016-10-11 18:14:12,559 : INFO : topic #3(381.204): -0.299*\"АЛЛАХ\" + 0.281*\"ИМАМ\" + 0.267*\"КОТОРЫЙ\" + 0.230*\"ЧЕЛОВЕК\" + 0.190*\"СЛОВО\" + -0.157*\"МИР\" + -0.151*\"РАМАДАН\" + 0.143*\"ЯВЛЯТЬСЯ\" + 0.140*\"УЧЁНЫЙ\" + 0.137*\"КНИГА\"\n"
     ]
    },
    {
     "name": "stderr",
     "output_type": "stream",
     "text": [
      "2016-10-11 18:14:12,562 : INFO : topic #4(340.267): 0.493*\"ИМАМ\" + -0.303*\"ВОПРОС\" + 0.278*\"УМ\" + 0.241*\"КНИГА\" + -0.217*\"ЧЕЛОВЕК\" + 0.178*\"АЛЛАХ\" + 0.153*\"УЧЁНЫЙ\" + 0.144*\"ГОД\" + 0.134*\"АБА\" + -0.115*\"ЗНАТЬ\"\n"
     ]
    },
    {
     "name": "stderr",
     "output_type": "stream",
     "text": [
      "2016-10-11 18:14:12,625 : INFO : preparing a new chunk of documents\n"
     ]
    },
    {
     "name": "stderr",
     "output_type": "stream",
     "text": [
      "2016-10-11 18:14:12,630 : INFO : using 100 extra samples and 2 power iterations\n"
     ]
    },
    {
     "name": "stderr",
     "output_type": "stream",
     "text": [
      "2016-10-11 18:14:12,631 : INFO : 1st phase: constructing (24774L, 200L) action matrix\n"
     ]
    },
    {
     "name": "stderr",
     "output_type": "stream",
     "text": [
      "2016-10-11 18:14:12,635 : INFO : orthonormalizing (24774L, 200L) action matrix\n"
     ]
    },
    {
     "name": "stderr",
     "output_type": "stream",
     "text": [
      "2016-10-11 18:14:13,973 : INFO : 2nd phase: running dense svd on (200L, 20L) matrix\n"
     ]
    },
    {
     "name": "stderr",
     "output_type": "stream",
     "text": [
      "2016-10-11 18:14:14,005 : INFO : computing the final decomposition\n"
     ]
    },
    {
     "name": "stderr",
     "output_type": "stream",
     "text": [
      "2016-10-11 18:14:14,006 : INFO : keeping 20 factors (discarding 0.000% of energy spectrum)\n"
     ]
    },
    {
     "name": "stderr",
     "output_type": "stream",
     "text": [
      "2016-10-11 18:14:14,025 : INFO : merging projections: (24774L, 100L) + (24774L, 20L)\n"
     ]
    },
    {
     "name": "stderr",
     "output_type": "stream",
     "text": [
      "2016-10-11 18:14:14,091 : INFO : keeping 100 factors (discarding 0.369% of energy spectrum)\n"
     ]
    },
    {
     "name": "stderr",
     "output_type": "stream",
     "text": [
      "2016-10-11 18:14:14,148 : INFO : processed documents up to #1460\n"
     ]
    },
    {
     "name": "stderr",
     "output_type": "stream",
     "text": [
      "2016-10-11 18:14:14,151 : INFO : topic #0(1435.749): 0.512*\"АЛЛАХ\" + 0.263*\"КОТОРЫЙ\" + 0.214*\"ЧЕЛОВЕК\" + 0.167*\"МИР\" + 0.154*\"СКАЗАТЬ\" + 0.151*\"ПРОРОК\" + 0.149*\"ВОПРОС\" + 0.144*\"СВОЙ\" + 0.128*\"ИСТОРИЯ\" + 0.115*\"КОРАН\"\n"
     ]
    },
    {
     "name": "stderr",
     "output_type": "stream",
     "text": [
      "2016-10-11 18:14:14,154 : INFO : topic #1(573.792): -0.446*\"АЛЛАХ\" + 0.393*\"ИДДА\" + 0.286*\"ЖЕНЩИНА\" + 0.284*\"МУЖ\" + 0.231*\"РАЗВОД\" + 0.171*\"ЖЕНА\" + 0.155*\"СРОК\" + -0.131*\"ПОСЛАННИК\" + 0.119*\"НОРМА\" + 0.119*\"ДОЛЖНЫЙ\"\n"
     ]
    },
    {
     "name": "stderr",
     "output_type": "stream",
     "text": [
      "2016-10-11 18:14:14,155 : INFO : topic #2(520.052): -0.355*\"АЛЛАХ\" + -0.339*\"ИДДА\" + -0.239*\"МУЖ\" + -0.223*\"ЖЕНЩИНА\" + 0.198*\"ИСТОРИЯ\" + 0.182*\"РАМАДАН\" + 0.156*\"САЙТ\" + -0.149*\"РАЗВОД\" + 0.145*\"ЧИТАТЬ\" + 0.140*\"ИСЛАМСКИЙ\"\n"
     ]
    },
    {
     "name": "stderr",
     "output_type": "stream",
     "text": [
      "2016-10-11 18:14:14,157 : INFO : topic #3(385.663): 0.352*\"ИМАМ\" + -0.254*\"АЛЛАХ\" + 0.247*\"КОТОРЫЙ\" + 0.189*\"ЧЕЛОВЕК\" + 0.187*\"КНИГА\" + 0.173*\"СЛОВО\" + 0.162*\"УЧЁНЫЙ\" + -0.158*\"РАМАДАН\" + -0.149*\"МИР\" + 0.148*\"УМ\"\n"
     ]
    },
    {
     "name": "stderr",
     "output_type": "stream",
     "text": [
      "2016-10-11 18:14:14,160 : INFO : topic #4(352.855): -0.427*\"ИМАМ\" + 0.295*\"ЧЕЛОВЕК\" + -0.255*\"УМ\" + -0.252*\"КНИГА\" + -0.252*\"АЛЛАХ\" + -0.238*\"ГОД\" + 0.196*\"ВОПРОС\" + -0.133*\"УЧЁНЫЙ\" + -0.132*\"АБА\" + 0.118*\"СЛОВО\"\n"
     ]
    },
    {
     "name": "stderr",
     "output_type": "stream",
     "text": [
      "2016-10-11 18:14:14,243 : INFO : preparing a new chunk of documents\n"
     ]
    },
    {
     "name": "stderr",
     "output_type": "stream",
     "text": [
      "2016-10-11 18:14:14,246 : INFO : using 100 extra samples and 2 power iterations\n"
     ]
    },
    {
     "name": "stderr",
     "output_type": "stream",
     "text": [
      "2016-10-11 18:14:14,247 : INFO : 1st phase: constructing (24774L, 200L) action matrix\n"
     ]
    },
    {
     "name": "stderr",
     "output_type": "stream",
     "text": [
      "2016-10-11 18:14:14,253 : INFO : orthonormalizing (24774L, 200L) action matrix\n"
     ]
    },
    {
     "name": "stderr",
     "output_type": "stream",
     "text": [
      "2016-10-11 18:14:15,588 : INFO : 2nd phase: running dense svd on (200L, 20L) matrix\n"
     ]
    },
    {
     "name": "stderr",
     "output_type": "stream",
     "text": [
      "2016-10-11 18:14:15,617 : INFO : computing the final decomposition\n"
     ]
    },
    {
     "name": "stderr",
     "output_type": "stream",
     "text": [
      "2016-10-11 18:14:15,618 : INFO : keeping 20 factors (discarding 0.000% of energy spectrum)\n"
     ]
    },
    {
     "name": "stderr",
     "output_type": "stream",
     "text": [
      "2016-10-11 18:14:15,641 : INFO : merging projections: (24774L, 100L) + (24774L, 20L)\n"
     ]
    },
    {
     "name": "stderr",
     "output_type": "stream",
     "text": [
      "2016-10-11 18:14:15,709 : INFO : keeping 100 factors (discarding 0.335% of energy spectrum)\n"
     ]
    },
    {
     "name": "stderr",
     "output_type": "stream",
     "text": [
      "2016-10-11 18:14:15,776 : INFO : processed documents up to #1480\n"
     ]
    },
    {
     "name": "stderr",
     "output_type": "stream",
     "text": [
      "2016-10-11 18:14:15,778 : INFO : topic #0(1446.455): 0.507*\"АЛЛАХ\" + 0.266*\"КОТОРЫЙ\" + 0.215*\"ЧЕЛОВЕК\" + 0.166*\"МИР\" + 0.152*\"СКАЗАТЬ\" + 0.151*\"ПРОРОК\" + 0.148*\"ВОПРОС\" + 0.145*\"СВОЙ\" + 0.128*\"ИСТОРИЯ\" + 0.116*\"КОРАН\"\n"
     ]
    },
    {
     "name": "stderr",
     "output_type": "stream",
     "text": [
      "2016-10-11 18:14:15,779 : INFO : topic #1(575.550): -0.470*\"АЛЛАХ\" + 0.375*\"ИДДА\" + 0.273*\"ЖЕНЩИНА\" + 0.271*\"МУЖ\" + 0.223*\"РАЗВОД\" + 0.164*\"ЖЕНА\" + 0.149*\"СРОК\" + -0.137*\"ПОСЛАННИК\" + 0.118*\"НОРМА\" + 0.115*\"ДОЛЖНЫЙ\"\n"
     ]
    },
    {
     "name": "stderr",
     "output_type": "stream",
     "text": [
      "2016-10-11 18:14:15,782 : INFO : topic #2(523.720): -0.358*\"ИДДА\" + -0.346*\"АЛЛАХ\" + -0.254*\"МУЖ\" + -0.239*\"ЖЕНЩИНА\" + 0.188*\"ИСТОРИЯ\" + 0.171*\"РАМАДАН\" + -0.161*\"РАЗВОД\" + 0.147*\"САЙТ\" + -0.142*\"ЖЕНА\" + 0.141*\"ИСЛАМСКИЙ\"\n"
     ]
    },
    {
     "name": "stderr",
     "output_type": "stream",
     "text": [
      "2016-10-11 18:14:15,783 : INFO : topic #3(395.793): 0.312*\"ИМАМ\" + 0.269*\"КОТОРЫЙ\" + -0.243*\"АЛЛАХ\" + 0.218*\"КНИГА\" + 0.205*\"ЧЕЛОВЕК\" + -0.172*\"РАМАДАН\" + 0.165*\"СЛОВО\" + -0.155*\"НАМАЗ\" + -0.153*\"МИР\" + 0.146*\"УЧЁНЫЙ\"\n"
     ]
    },
    {
     "name": "stderr",
     "output_type": "stream",
     "text": [
      "2016-10-11 18:14:15,786 : INFO : topic #4(354.597): -0.441*\"ИМАМ\" + 0.295*\"ЧЕЛОВЕК\" + -0.260*\"УМ\" + -0.247*\"АЛЛАХ\" + -0.244*\"КНИГА\" + -0.236*\"ГОД\" + 0.183*\"ВОПРОС\" + -0.142*\"УЧЁНЫЙ\" + -0.138*\"АБА\" + 0.120*\"КОТОРЫЙ\"\n"
     ]
    },
    {
     "name": "stderr",
     "output_type": "stream",
     "text": [
      "2016-10-11 18:14:15,845 : INFO : preparing a new chunk of documents\n"
     ]
    },
    {
     "name": "stderr",
     "output_type": "stream",
     "text": [
      "2016-10-11 18:14:15,849 : INFO : using 100 extra samples and 2 power iterations\n"
     ]
    },
    {
     "name": "stderr",
     "output_type": "stream",
     "text": [
      "2016-10-11 18:14:15,851 : INFO : 1st phase: constructing (24774L, 200L) action matrix\n"
     ]
    },
    {
     "name": "stderr",
     "output_type": "stream",
     "text": [
      "2016-10-11 18:14:15,855 : INFO : orthonormalizing (24774L, 200L) action matrix\n"
     ]
    },
    {
     "name": "stderr",
     "output_type": "stream",
     "text": [
      "2016-10-11 18:14:17,187 : INFO : 2nd phase: running dense svd on (200L, 20L) matrix\n"
     ]
    },
    {
     "name": "stderr",
     "output_type": "stream",
     "text": [
      "2016-10-11 18:14:17,217 : INFO : computing the final decomposition\n"
     ]
    },
    {
     "name": "stderr",
     "output_type": "stream",
     "text": [
      "2016-10-11 18:14:17,219 : INFO : keeping 20 factors (discarding 0.000% of energy spectrum)\n"
     ]
    },
    {
     "name": "stderr",
     "output_type": "stream",
     "text": [
      "2016-10-11 18:14:17,243 : INFO : merging projections: (24774L, 100L) + (24774L, 20L)\n"
     ]
    },
    {
     "name": "stderr",
     "output_type": "stream",
     "text": [
      "2016-10-11 18:14:17,309 : INFO : keeping 100 factors (discarding 0.381% of energy spectrum)\n"
     ]
    },
    {
     "name": "stderr",
     "output_type": "stream",
     "text": [
      "2016-10-11 18:14:17,371 : INFO : processed documents up to #1500\n"
     ]
    },
    {
     "name": "stderr",
     "output_type": "stream",
     "text": [
      "2016-10-11 18:14:17,372 : INFO : topic #0(1453.242): 0.506*\"АЛЛАХ\" + 0.266*\"КОТОРЫЙ\" + 0.216*\"ЧЕЛОВЕК\" + 0.166*\"МИР\" + 0.153*\"СКАЗАТЬ\" + 0.150*\"ПРОРОК\" + 0.147*\"ВОПРОС\" + 0.145*\"СВОЙ\" + 0.129*\"ИСТОРИЯ\" + 0.116*\"КОРАН\"\n"
     ]
    },
    {
     "name": "stderr",
     "output_type": "stream",
     "text": [
      "2016-10-11 18:14:17,375 : INFO : topic #1(576.672): -0.478*\"АЛЛАХ\" + 0.367*\"ИДДА\" + 0.268*\"ЖЕНЩИНА\" + 0.265*\"МУЖ\" + 0.219*\"РАЗВОД\" + 0.160*\"ЖЕНА\" + 0.146*\"СРОК\" + -0.138*\"ПОСЛАННИК\" + 0.118*\"НОРМА\" + 0.116*\"ИСТОРИЯ\"\n"
     ]
    },
    {
     "name": "stderr",
     "output_type": "stream",
     "text": [
      "2016-10-11 18:14:17,377 : INFO : topic #2(525.405): -0.366*\"ИДДА\" + -0.336*\"АЛЛАХ\" + -0.260*\"МУЖ\" + -0.245*\"ЖЕНЩИНА\" + 0.186*\"ИСТОРИЯ\" + 0.169*\"РАМАДАН\" + -0.167*\"РАЗВОД\" + -0.146*\"ЖЕНА\" + 0.144*\"САЙТ\" + -0.140*\"СРОК\"\n"
     ]
    },
    {
     "name": "stderr",
     "output_type": "stream",
     "text": [
      "2016-10-11 18:14:17,378 : INFO : topic #3(397.651): 0.335*\"ИМАМ\" + 0.262*\"КОТОРЫЙ\" + -0.229*\"АЛЛАХ\" + 0.224*\"КНИГА\" + 0.191*\"ЧЕЛОВЕК\" + -0.174*\"РАМАДАН\" + 0.160*\"СЛОВО\" + -0.156*\"НАМАЗ\" + 0.155*\"УЧЁНЫЙ\" + -0.151*\"МИР\"\n"
     ]
    },
    {
     "name": "stderr",
     "output_type": "stream",
     "text": [
      "2016-10-11 18:14:17,381 : INFO : topic #4(357.079): -0.432*\"ИМАМ\" + 0.305*\"ЧЕЛОВЕК\" + -0.260*\"АЛЛАХ\" + -0.253*\"УМ\" + -0.227*\"ГОД\" + -0.227*\"КНИГА\" + 0.183*\"ВОПРОС\" + -0.139*\"УЧЁНЫЙ\" + -0.138*\"АБА\" + 0.136*\"КОТОРЫЙ\"\n"
     ]
    },
    {
     "name": "stderr",
     "output_type": "stream",
     "text": [
      "2016-10-11 18:14:17,448 : INFO : preparing a new chunk of documents\n"
     ]
    },
    {
     "name": "stderr",
     "output_type": "stream",
     "text": [
      "2016-10-11 18:14:17,453 : INFO : using 100 extra samples and 2 power iterations\n"
     ]
    },
    {
     "name": "stderr",
     "output_type": "stream",
     "text": [
      "2016-10-11 18:14:17,453 : INFO : 1st phase: constructing (24774L, 200L) action matrix\n"
     ]
    },
    {
     "name": "stderr",
     "output_type": "stream",
     "text": [
      "2016-10-11 18:14:17,459 : INFO : orthonormalizing (24774L, 200L) action matrix\n"
     ]
    },
    {
     "name": "stderr",
     "output_type": "stream",
     "text": [
      "2016-10-11 18:14:18,793 : INFO : 2nd phase: running dense svd on (200L, 20L) matrix\n"
     ]
    },
    {
     "name": "stderr",
     "output_type": "stream",
     "text": [
      "2016-10-11 18:14:18,823 : INFO : computing the final decomposition\n"
     ]
    },
    {
     "name": "stderr",
     "output_type": "stream",
     "text": [
      "2016-10-11 18:14:18,825 : INFO : keeping 20 factors (discarding 0.000% of energy spectrum)\n"
     ]
    },
    {
     "name": "stderr",
     "output_type": "stream",
     "text": [
      "2016-10-11 18:14:18,846 : INFO : merging projections: (24774L, 100L) + (24774L, 20L)\n"
     ]
    },
    {
     "name": "stderr",
     "output_type": "stream",
     "text": [
      "2016-10-11 18:14:18,914 : INFO : keeping 100 factors (discarding 0.303% of energy spectrum)\n"
     ]
    },
    {
     "name": "stderr",
     "output_type": "stream",
     "text": [
      "2016-10-11 18:14:18,977 : INFO : processed documents up to #1520\n"
     ]
    },
    {
     "name": "stderr",
     "output_type": "stream",
     "text": [
      "2016-10-11 18:14:18,980 : INFO : topic #0(1457.093): 0.505*\"АЛЛАХ\" + 0.266*\"КОТОРЫЙ\" + 0.215*\"ЧЕЛОВЕК\" + 0.166*\"МИР\" + 0.152*\"СКАЗАТЬ\" + 0.150*\"ПРОРОК\" + 0.147*\"ВОПРОС\" + 0.145*\"СВОЙ\" + 0.129*\"ИСТОРИЯ\" + 0.117*\"КОРАН\"\n"
     ]
    },
    {
     "name": "stderr",
     "output_type": "stream",
     "text": [
      "2016-10-11 18:14:18,983 : INFO : topic #1(577.797): -0.489*\"АЛЛАХ\" + 0.357*\"ИДДА\" + 0.260*\"ЖЕНЩИНА\" + 0.257*\"МУЖ\" + 0.214*\"РАЗВОД\" + 0.156*\"ЖЕНА\" + 0.141*\"СРОК\" + -0.140*\"ПОСЛАННИК\" + 0.121*\"ИСТОРИЯ\" + 0.118*\"НОРМА\"\n"
     ]
    },
    {
     "name": "stderr",
     "output_type": "stream",
     "text": [
      "2016-10-11 18:14:18,984 : INFO : topic #2(527.535): -0.376*\"ИДДА\" + -0.323*\"АЛЛАХ\" + -0.268*\"МУЖ\" + -0.254*\"ЖЕНЩИНА\" + 0.182*\"ИСТОРИЯ\" + -0.173*\"РАЗВОД\" + 0.165*\"РАМАДАН\" + -0.151*\"ЖЕНА\" + -0.145*\"СРОК\" + 0.141*\"САЙТ\"\n"
     ]
    },
    {
     "name": "stderr",
     "output_type": "stream",
     "text": [
      "2016-10-11 18:14:18,986 : INFO : topic #3(399.194): 0.346*\"ИМАМ\" + 0.260*\"КОТОРЫЙ\" + 0.227*\"КНИГА\" + -0.223*\"АЛЛАХ\" + 0.186*\"ЧЕЛОВЕК\" + -0.175*\"РАМАДАН\" + 0.157*\"УЧЁНЫЙ\" + 0.157*\"СЛОВО\" + -0.155*\"НАМАЗ\" + -0.150*\"МИР\"\n"
     ]
    },
    {
     "name": "stderr",
     "output_type": "stream",
     "text": [
      "2016-10-11 18:14:18,989 : INFO : topic #4(358.895): -0.431*\"ИМАМ\" + 0.310*\"ЧЕЛОВЕК\" + -0.265*\"АЛЛАХ\" + -0.252*\"УМ\" + -0.222*\"ГОД\" + -0.219*\"КНИГА\" + 0.179*\"ВОПРОС\" + 0.146*\"КОТОРЫЙ\" + -0.139*\"АБА\" + -0.139*\"УЧЁНЫЙ\"\n"
     ]
    },
    {
     "name": "stderr",
     "output_type": "stream",
     "text": [
      "2016-10-11 18:14:19,071 : INFO : preparing a new chunk of documents\n"
     ]
    },
    {
     "name": "stderr",
     "output_type": "stream",
     "text": [
      "2016-10-11 18:14:19,075 : INFO : using 100 extra samples and 2 power iterations\n"
     ]
    },
    {
     "name": "stderr",
     "output_type": "stream",
     "text": [
      "2016-10-11 18:14:19,075 : INFO : 1st phase: constructing (24774L, 200L) action matrix\n"
     ]
    },
    {
     "name": "stderr",
     "output_type": "stream",
     "text": [
      "2016-10-11 18:14:19,082 : INFO : orthonormalizing (24774L, 200L) action matrix\n"
     ]
    },
    {
     "name": "stderr",
     "output_type": "stream",
     "text": [
      "2016-10-11 18:14:20,440 : INFO : 2nd phase: running dense svd on (200L, 20L) matrix\n"
     ]
    },
    {
     "name": "stderr",
     "output_type": "stream",
     "text": [
      "2016-10-11 18:14:20,471 : INFO : computing the final decomposition\n"
     ]
    },
    {
     "name": "stderr",
     "output_type": "stream",
     "text": [
      "2016-10-11 18:14:20,473 : INFO : keeping 20 factors (discarding 0.000% of energy spectrum)\n"
     ]
    },
    {
     "name": "stderr",
     "output_type": "stream",
     "text": [
      "2016-10-11 18:14:20,497 : INFO : merging projections: (24774L, 100L) + (24774L, 20L)\n"
     ]
    },
    {
     "name": "stderr",
     "output_type": "stream",
     "text": [
      "2016-10-11 18:14:20,563 : INFO : keeping 100 factors (discarding 0.467% of energy spectrum)\n"
     ]
    },
    {
     "name": "stderr",
     "output_type": "stream",
     "text": [
      "2016-10-11 18:14:20,625 : INFO : processed documents up to #1540\n"
     ]
    },
    {
     "name": "stderr",
     "output_type": "stream",
     "text": [
      "2016-10-11 18:14:20,628 : INFO : topic #0(1468.961): 0.504*\"АЛЛАХ\" + 0.267*\"КОТОРЫЙ\" + 0.216*\"ЧЕЛОВЕК\" + 0.165*\"МИР\" + 0.152*\"СКАЗАТЬ\" + 0.150*\"ПРОРОК\" + 0.146*\"ВОПРОС\" + 0.145*\"СВОЙ\" + 0.130*\"ИСТОРИЯ\" + 0.117*\"КОРАН\"\n"
     ]
    },
    {
     "name": "stderr",
     "output_type": "stream",
     "text": [
      "2016-10-11 18:14:20,630 : INFO : topic #1(579.120): -0.498*\"АЛЛАХ\" + 0.347*\"ИДДА\" + 0.253*\"ЖЕНЩИНА\" + 0.250*\"МУЖ\" + 0.209*\"РАЗВОД\" + 0.152*\"ЖЕНА\" + -0.143*\"ПОСЛАННИК\" + 0.138*\"СРОК\" + 0.125*\"ИСТОРИЯ\" + 0.118*\"НОРМА\"\n"
     ]
    },
    {
     "name": "stderr",
     "output_type": "stream",
     "text": [
      "2016-10-11 18:14:20,632 : INFO : topic #2(529.011): -0.385*\"ИДДА\" + -0.313*\"АЛЛАХ\" + -0.275*\"МУЖ\" + -0.260*\"ЖЕНЩИНА\" + 0.179*\"ИСТОРИЯ\" + -0.178*\"РАЗВОД\" + 0.161*\"РАМАДАН\" + -0.155*\"ЖЕНА\" + -0.148*\"СРОК\" + 0.138*\"САЙТ\"\n"
     ]
    },
    {
     "name": "stderr",
     "output_type": "stream",
     "text": [
      "2016-10-11 18:14:20,634 : INFO : topic #3(400.652): 0.330*\"ИМАМ\" + 0.268*\"КОТОРЫЙ\" + -0.228*\"АЛЛАХ\" + 0.219*\"КНИГА\" + 0.197*\"ЧЕЛОВЕК\" + -0.178*\"РАМАДАН\" + 0.158*\"СЛОВО\" + 0.153*\"УЧЁНЫЙ\" + -0.153*\"МИР\" + -0.151*\"НАМАЗ\"\n"
     ]
    },
    {
     "name": "stderr",
     "output_type": "stream",
     "text": [
      "2016-10-11 18:14:20,637 : INFO : topic #4(360.400): -0.442*\"ИМАМ\" + 0.311*\"ЧЕЛОВЕК\" + -0.257*\"АЛЛАХ\" + -0.257*\"УМ\" + -0.228*\"ГОД\" + -0.227*\"КНИГА\" + 0.158*\"ВОПРОС\" + 0.145*\"КОТОРЫЙ\" + -0.144*\"УЧЁНЫЙ\" + -0.143*\"АБА\"\n"
     ]
    },
    {
     "name": "stderr",
     "output_type": "stream",
     "text": [
      "2016-10-11 18:14:20,674 : INFO : preparing a new chunk of documents\n"
     ]
    },
    {
     "name": "stderr",
     "output_type": "stream",
     "text": [
      "2016-10-11 18:14:20,677 : INFO : using 100 extra samples and 2 power iterations\n"
     ]
    },
    {
     "name": "stderr",
     "output_type": "stream",
     "text": [
      "2016-10-11 18:14:20,678 : INFO : 1st phase: constructing (24774L, 200L) action matrix\n"
     ]
    },
    {
     "name": "stderr",
     "output_type": "stream",
     "text": [
      "2016-10-11 18:14:20,683 : INFO : orthonormalizing (24774L, 200L) action matrix\n"
     ]
    },
    {
     "name": "stderr",
     "output_type": "stream",
     "text": [
      "2016-10-11 18:14:22,009 : INFO : 2nd phase: running dense svd on (200L, 20L) matrix\n"
     ]
    },
    {
     "name": "stderr",
     "output_type": "stream",
     "text": [
      "2016-10-11 18:14:22,039 : INFO : computing the final decomposition\n"
     ]
    },
    {
     "name": "stderr",
     "output_type": "stream",
     "text": [
      "2016-10-11 18:14:22,039 : INFO : keeping 20 factors (discarding 0.000% of energy spectrum)\n"
     ]
    },
    {
     "name": "stderr",
     "output_type": "stream",
     "text": [
      "2016-10-11 18:14:22,062 : INFO : merging projections: (24774L, 100L) + (24774L, 20L)\n"
     ]
    },
    {
     "name": "stderr",
     "output_type": "stream",
     "text": [
      "2016-10-11 18:14:22,128 : INFO : keeping 100 factors (discarding 0.099% of energy spectrum)\n"
     ]
    },
    {
     "name": "stderr",
     "output_type": "stream",
     "text": [
      "2016-10-11 18:14:22,194 : INFO : processed documents up to #1560\n"
     ]
    },
    {
     "name": "stderr",
     "output_type": "stream",
     "text": [
      "2016-10-11 18:14:22,196 : INFO : topic #0(1470.302): 0.503*\"АЛЛАХ\" + 0.267*\"КОТОРЫЙ\" + 0.216*\"ЧЕЛОВЕК\" + 0.165*\"МИР\" + 0.152*\"СКАЗАТЬ\" + 0.150*\"ПРОРОК\" + 0.146*\"ВОПРОС\" + 0.145*\"СВОЙ\" + 0.130*\"ИСТОРИЯ\" + 0.117*\"КОРАН\"\n"
     ]
    },
    {
     "name": "stderr",
     "output_type": "stream",
     "text": [
      "2016-10-11 18:14:22,197 : INFO : topic #1(580.362): -0.507*\"АЛЛАХ\" + 0.335*\"ИДДА\" + 0.245*\"ЖЕНЩИНА\" + 0.242*\"МУЖ\" + 0.204*\"РАЗВОД\" + 0.147*\"ЖЕНА\" + -0.145*\"ПОСЛАННИК\" + 0.133*\"СРОК\" + 0.131*\"ИСТОРИЯ\" + 0.118*\"НОРМА\"\n"
     ]
    },
    {
     "name": "stderr",
     "output_type": "stream",
     "text": [
      "2016-10-11 18:14:22,200 : INFO : topic #2(531.020): -0.395*\"ИДДА\" + -0.296*\"АЛЛАХ\" + -0.282*\"МУЖ\" + -0.268*\"ЖЕНЩИНА\" + -0.184*\"РАЗВОД\" + 0.176*\"ИСТОРИЯ\" + -0.159*\"ЖЕНА\" + 0.159*\"РАМАДАН\" + -0.152*\"СРОК\" + 0.136*\"САЙТ\"\n"
     ]
    },
    {
     "name": "stderr",
     "output_type": "stream",
     "text": [
      "2016-10-11 18:14:22,201 : INFO : topic #3(401.284): 0.334*\"ИМАМ\" + 0.268*\"КОТОРЫЙ\" + -0.232*\"АЛЛАХ\" + 0.221*\"КНИГА\" + 0.196*\"ЧЕЛОВЕК\" + -0.176*\"РАМАДАН\" + 0.157*\"СЛОВО\" + 0.154*\"УЧЁНЫЙ\" + -0.151*\"МИР\" + -0.147*\"НАМАЗ\"\n"
     ]
    },
    {
     "name": "stderr",
     "output_type": "stream",
     "text": [
      "2016-10-11 18:14:22,203 : INFO : topic #4(360.489): -0.442*\"ИМАМ\" + 0.312*\"ЧЕЛОВЕК\" + -0.257*\"АЛЛАХ\" + -0.256*\"УМ\" + -0.228*\"ГОД\" + -0.227*\"КНИГА\" + 0.158*\"ВОПРОС\" + 0.145*\"КОТОРЫЙ\" + -0.143*\"УЧЁНЫЙ\" + -0.143*\"АБА\"\n"
     ]
    },
    {
     "name": "stderr",
     "output_type": "stream",
     "text": [
      "2016-10-11 18:14:22,253 : INFO : preparing a new chunk of documents\n"
     ]
    },
    {
     "name": "stderr",
     "output_type": "stream",
     "text": [
      "2016-10-11 18:14:22,256 : INFO : using 100 extra samples and 2 power iterations\n"
     ]
    },
    {
     "name": "stderr",
     "output_type": "stream",
     "text": [
      "2016-10-11 18:14:22,256 : INFO : 1st phase: constructing (24774L, 200L) action matrix\n"
     ]
    },
    {
     "name": "stderr",
     "output_type": "stream",
     "text": [
      "2016-10-11 18:14:22,262 : INFO : orthonormalizing (24774L, 200L) action matrix\n"
     ]
    },
    {
     "name": "stderr",
     "output_type": "stream",
     "text": [
      "2016-10-11 18:14:23,622 : INFO : 2nd phase: running dense svd on (200L, 20L) matrix\n"
     ]
    },
    {
     "name": "stderr",
     "output_type": "stream",
     "text": [
      "2016-10-11 18:14:23,653 : INFO : computing the final decomposition\n"
     ]
    },
    {
     "name": "stderr",
     "output_type": "stream",
     "text": [
      "2016-10-11 18:14:23,654 : INFO : keeping 20 factors (discarding 0.000% of energy spectrum)\n"
     ]
    },
    {
     "name": "stderr",
     "output_type": "stream",
     "text": [
      "2016-10-11 18:14:23,673 : INFO : merging projections: (24774L, 100L) + (24774L, 20L)\n"
     ]
    },
    {
     "name": "stderr",
     "output_type": "stream",
     "text": [
      "2016-10-11 18:14:23,739 : INFO : keeping 100 factors (discarding 0.176% of energy spectrum)\n"
     ]
    },
    {
     "name": "stderr",
     "output_type": "stream",
     "text": [
      "2016-10-11 18:14:23,799 : INFO : processed documents up to #1580\n"
     ]
    },
    {
     "name": "stderr",
     "output_type": "stream",
     "text": [
      "2016-10-11 18:14:23,802 : INFO : topic #0(1478.543): 0.504*\"АЛЛАХ\" + 0.267*\"КОТОРЫЙ\" + 0.216*\"ЧЕЛОВЕК\" + 0.165*\"МИР\" + 0.152*\"СКАЗАТЬ\" + 0.150*\"ПРОРОК\" + 0.145*\"ВОПРОС\" + 0.145*\"СВОЙ\" + 0.130*\"ИСТОРИЯ\" + 0.117*\"КОРАН\"\n"
     ]
    },
    {
     "name": "stderr",
     "output_type": "stream",
     "text": [
      "2016-10-11 18:14:23,803 : INFO : topic #1(582.419): -0.517*\"АЛЛАХ\" + 0.322*\"ИДДА\" + 0.237*\"ЖЕНЩИНА\" + 0.233*\"МУЖ\" + 0.198*\"РАЗВОД\" + -0.148*\"ПОСЛАННИК\" + 0.142*\"ЖЕНА\" + 0.136*\"ИСТОРИЯ\" + 0.128*\"СРОК\" + 0.122*\"ИСЛАМСКИЙ\"\n"
     ]
    },
    {
     "name": "stderr",
     "output_type": "stream",
     "text": [
      "2016-10-11 18:14:23,805 : INFO : topic #2(532.570): -0.405*\"ИДДА\" + -0.289*\"МУЖ\" + -0.281*\"АЛЛАХ\" + -0.276*\"ЖЕНЩИНА\" + -0.190*\"РАЗВОД\" + 0.171*\"ИСТОРИЯ\" + -0.164*\"ЖЕНА\" + -0.156*\"СРОК\" + 0.155*\"РАМАДАН\" + 0.132*\"ИСЛАМСКИЙ\"\n"
     ]
    },
    {
     "name": "stderr",
     "output_type": "stream",
     "text": [
      "2016-10-11 18:14:23,808 : INFO : topic #3(402.429): 0.331*\"ИМАМ\" + 0.269*\"КОТОРЫЙ\" + -0.235*\"АЛЛАХ\" + 0.217*\"КНИГА\" + 0.201*\"ЧЕЛОВЕК\" + -0.175*\"РАМАДАН\" + 0.159*\"СЛОВО\" + 0.153*\"УЧЁНЫЙ\" + -0.150*\"МИР\" + -0.139*\"НАМАЗ\"\n"
     ]
    },
    {
     "name": "stderr",
     "output_type": "stream",
     "text": [
      "2016-10-11 18:14:23,811 : INFO : topic #4(362.614): -0.428*\"ИМАМ\" + 0.319*\"ЧЕЛОВЕК\" + -0.258*\"АЛЛАХ\" + -0.251*\"УМ\" + -0.234*\"ГОД\" + -0.227*\"КНИГА\" + 0.165*\"НАМАЗ\" + 0.152*\"КОТОРЫЙ\" + -0.141*\"УЧЁНЫЙ\" + -0.139*\"АБА\"\n"
     ]
    },
    {
     "name": "stderr",
     "output_type": "stream",
     "text": [
      "2016-10-11 18:14:23,872 : INFO : preparing a new chunk of documents\n"
     ]
    },
    {
     "name": "stderr",
     "output_type": "stream",
     "text": [
      "2016-10-11 18:14:23,875 : INFO : using 100 extra samples and 2 power iterations\n"
     ]
    },
    {
     "name": "stderr",
     "output_type": "stream",
     "text": [
      "2016-10-11 18:14:23,878 : INFO : 1st phase: constructing (24774L, 200L) action matrix\n"
     ]
    },
    {
     "name": "stderr",
     "output_type": "stream",
     "text": [
      "2016-10-11 18:14:23,881 : INFO : orthonormalizing (24774L, 200L) action matrix\n"
     ]
    },
    {
     "name": "stderr",
     "output_type": "stream",
     "text": [
      "2016-10-11 18:14:25,242 : INFO : 2nd phase: running dense svd on (200L, 20L) matrix\n"
     ]
    },
    {
     "name": "stderr",
     "output_type": "stream",
     "text": [
      "2016-10-11 18:14:25,270 : INFO : computing the final decomposition\n"
     ]
    },
    {
     "name": "stderr",
     "output_type": "stream",
     "text": [
      "2016-10-11 18:14:25,272 : INFO : keeping 20 factors (discarding 0.000% of energy spectrum)\n"
     ]
    },
    {
     "name": "stderr",
     "output_type": "stream",
     "text": [
      "2016-10-11 18:14:25,295 : INFO : merging projections: (24774L, 100L) + (24774L, 20L)\n"
     ]
    },
    {
     "name": "stderr",
     "output_type": "stream",
     "text": [
      "2016-10-11 18:14:25,365 : INFO : keeping 100 factors (discarding 0.306% of energy spectrum)\n"
     ]
    },
    {
     "name": "stderr",
     "output_type": "stream",
     "text": [
      "2016-10-11 18:14:25,421 : INFO : processed documents up to #1600\n"
     ]
    },
    {
     "name": "stderr",
     "output_type": "stream",
     "text": [
      "2016-10-11 18:14:25,423 : INFO : topic #0(1485.843): 0.504*\"АЛЛАХ\" + 0.267*\"КОТОРЫЙ\" + 0.217*\"ЧЕЛОВЕК\" + 0.165*\"МИР\" + 0.152*\"СКАЗАТЬ\" + 0.150*\"ПРОРОК\" + 0.145*\"СВОЙ\" + 0.145*\"ВОПРОС\" + 0.131*\"ИСТОРИЯ\" + 0.117*\"КОРАН\"\n"
     ]
    },
    {
     "name": "stderr",
     "output_type": "stream",
     "text": [
      "2016-10-11 18:14:25,424 : INFO : topic #1(584.363): -0.525*\"АЛЛАХ\" + 0.311*\"ИДДА\" + 0.229*\"ЖЕНЩИНА\" + 0.225*\"МУЖ\" + 0.192*\"РАЗВОД\" + -0.148*\"ПОСЛАННИК\" + 0.141*\"ИСТОРИЯ\" + 0.137*\"ЖЕНА\" + 0.126*\"ИСЛАМСКИЙ\" + 0.124*\"СРОК\"\n"
     ]
    },
    {
     "name": "stderr",
     "output_type": "stream",
     "text": [
      "2016-10-11 18:14:25,427 : INFO : topic #2(533.877): -0.414*\"ИДДА\" + -0.296*\"МУЖ\" + -0.283*\"ЖЕНЩИНА\" + -0.267*\"АЛЛАХ\" + -0.196*\"РАЗВОД\" + -0.168*\"ЖЕНА\" + 0.168*\"ИСТОРИЯ\" + -0.160*\"СРОК\" + 0.151*\"РАМАДАН\" + 0.129*\"ИСЛАМСКИЙ\"\n"
     ]
    },
    {
     "name": "stderr",
     "output_type": "stream",
     "text": [
      "2016-10-11 18:14:25,428 : INFO : topic #3(402.768): 0.330*\"ИМАМ\" + 0.269*\"КОТОРЫЙ\" + -0.234*\"АЛЛАХ\" + 0.216*\"КНИГА\" + 0.200*\"ЧЕЛОВЕК\" + -0.175*\"РАМАДАН\" + 0.161*\"СЛОВО\" + 0.153*\"УЧЁНЫЙ\" + -0.149*\"МИР\" + -0.138*\"НАМАЗ\"\n"
     ]
    },
    {
     "name": "stderr",
     "output_type": "stream",
     "text": [
      "2016-10-11 18:14:25,430 : INFO : topic #4(362.956): -0.430*\"ИМАМ\" + 0.320*\"ЧЕЛОВЕК\" + -0.257*\"АЛЛАХ\" + -0.252*\"УМ\" + -0.234*\"ГОД\" + -0.228*\"КНИГА\" + 0.162*\"НАМАЗ\" + 0.152*\"КОТОРЫЙ\" + -0.142*\"УЧЁНЫЙ\" + -0.139*\"АБА\"\n"
     ]
    },
    {
     "name": "stderr",
     "output_type": "stream",
     "text": [
      "2016-10-11 18:14:25,543 : INFO : preparing a new chunk of documents\n"
     ]
    },
    {
     "name": "stderr",
     "output_type": "stream",
     "text": [
      "2016-10-11 18:14:25,549 : INFO : using 100 extra samples and 2 power iterations\n"
     ]
    },
    {
     "name": "stderr",
     "output_type": "stream",
     "text": [
      "2016-10-11 18:14:25,551 : INFO : 1st phase: constructing (24774L, 200L) action matrix\n"
     ]
    },
    {
     "name": "stderr",
     "output_type": "stream",
     "text": [
      "2016-10-11 18:14:25,559 : INFO : orthonormalizing (24774L, 200L) action matrix\n"
     ]
    },
    {
     "name": "stderr",
     "output_type": "stream",
     "text": [
      "2016-10-11 18:14:26,937 : INFO : 2nd phase: running dense svd on (200L, 20L) matrix\n"
     ]
    },
    {
     "name": "stderr",
     "output_type": "stream",
     "text": [
      "2016-10-11 18:14:26,973 : INFO : computing the final decomposition\n"
     ]
    },
    {
     "name": "stderr",
     "output_type": "stream",
     "text": [
      "2016-10-11 18:14:26,973 : INFO : keeping 20 factors (discarding 0.000% of energy spectrum)\n"
     ]
    },
    {
     "name": "stderr",
     "output_type": "stream",
     "text": [
      "2016-10-11 18:14:26,996 : INFO : merging projections: (24774L, 100L) + (24774L, 20L)\n"
     ]
    },
    {
     "name": "stderr",
     "output_type": "stream",
     "text": [
      "2016-10-11 18:14:27,061 : INFO : keeping 100 factors (discarding 0.704% of energy spectrum)\n"
     ]
    },
    {
     "name": "stderr",
     "output_type": "stream",
     "text": [
      "2016-10-11 18:14:27,122 : INFO : processed documents up to #1620\n"
     ]
    },
    {
     "name": "stderr",
     "output_type": "stream",
     "text": [
      "2016-10-11 18:14:27,125 : INFO : topic #0(1507.770): 0.502*\"АЛЛАХ\" + 0.268*\"КОТОРЫЙ\" + 0.217*\"ЧЕЛОВЕК\" + 0.171*\"МИР\" + 0.154*\"СКАЗАТЬ\" + 0.152*\"ПРОРОК\" + 0.147*\"СВОЙ\" + 0.142*\"ВОПРОС\" + 0.129*\"ИСТОРИЯ\" + 0.116*\"КОРАН\"\n"
     ]
    },
    {
     "name": "stderr",
     "output_type": "stream",
     "text": [
      "2016-10-11 18:14:27,127 : INFO : topic #1(585.067): -0.525*\"АЛЛАХ\" + 0.308*\"ИДДА\" + 0.227*\"ЖЕНЩИНА\" + 0.223*\"МУЖ\" + 0.191*\"РАЗВОД\" + -0.149*\"ПОСЛАННИК\" + 0.143*\"ИСТОРИЯ\" + 0.136*\"ЖЕНА\" + 0.127*\"ИСЛАМСКИЙ\" + 0.124*\"РАМАДАН\"\n"
     ]
    },
    {
     "name": "stderr",
     "output_type": "stream",
     "text": [
      "2016-10-11 18:14:27,128 : INFO : topic #2(534.159): -0.416*\"ИДДА\" + -0.297*\"МУЖ\" + -0.284*\"ЖЕНЩИНА\" + -0.264*\"АЛЛАХ\" + -0.197*\"РАЗВОД\" + -0.169*\"ЖЕНА\" + 0.167*\"ИСТОРИЯ\" + -0.161*\"СРОК\" + 0.150*\"РАМАДАН\" + 0.129*\"ИСЛАМСКИЙ\"\n"
     ]
    },
    {
     "name": "stderr",
     "output_type": "stream",
     "text": [
      "2016-10-11 18:14:27,131 : INFO : topic #3(403.449): 0.334*\"ИМАМ\" + 0.269*\"КОТОРЫЙ\" + -0.235*\"АЛЛАХ\" + 0.218*\"КНИГА\" + 0.193*\"ЧЕЛОВЕК\" + -0.177*\"РАМАДАН\" + 0.159*\"СЛОВО\" + 0.155*\"УЧЁНЫЙ\" + 0.144*\"УМ\" + -0.140*\"НАМАЗ\"\n"
     ]
    },
    {
     "name": "stderr",
     "output_type": "stream",
     "text": [
      "2016-10-11 18:14:27,134 : INFO : topic #4(365.586): -0.420*\"ИМАМ\" + 0.337*\"ЧЕЛОВЕК\" + -0.258*\"УМ\" + -0.243*\"АЛЛАХ\" + -0.237*\"ГОД\" + -0.220*\"КНИГА\" + -0.152*\"АБА\" + 0.148*\"КОТОРЫЙ\" + -0.141*\"УЧЁНЫЙ\" + 0.136*\"ВОПРОС\"\n"
     ]
    },
    {
     "name": "stderr",
     "output_type": "stream",
     "text": [
      "2016-10-11 18:14:27,217 : INFO : preparing a new chunk of documents\n"
     ]
    },
    {
     "name": "stderr",
     "output_type": "stream",
     "text": [
      "2016-10-11 18:14:27,221 : INFO : using 100 extra samples and 2 power iterations\n"
     ]
    },
    {
     "name": "stderr",
     "output_type": "stream",
     "text": [
      "2016-10-11 18:14:27,223 : INFO : 1st phase: constructing (24774L, 200L) action matrix\n"
     ]
    },
    {
     "name": "stderr",
     "output_type": "stream",
     "text": [
      "2016-10-11 18:14:27,230 : INFO : orthonormalizing (24774L, 200L) action matrix\n"
     ]
    },
    {
     "name": "stderr",
     "output_type": "stream",
     "text": [
      "2016-10-11 18:14:28,609 : INFO : 2nd phase: running dense svd on (200L, 20L) matrix\n"
     ]
    },
    {
     "name": "stderr",
     "output_type": "stream",
     "text": [
      "2016-10-11 18:14:28,640 : INFO : computing the final decomposition\n"
     ]
    },
    {
     "name": "stderr",
     "output_type": "stream",
     "text": [
      "2016-10-11 18:14:28,641 : INFO : keeping 20 factors (discarding 0.000% of energy spectrum)\n"
     ]
    },
    {
     "name": "stderr",
     "output_type": "stream",
     "text": [
      "2016-10-11 18:14:28,661 : INFO : merging projections: (24774L, 100L) + (24774L, 20L)\n"
     ]
    },
    {
     "name": "stderr",
     "output_type": "stream",
     "text": [
      "2016-10-11 18:14:28,723 : INFO : keeping 100 factors (discarding 0.343% of energy spectrum)\n"
     ]
    },
    {
     "name": "stderr",
     "output_type": "stream",
     "text": [
      "2016-10-11 18:14:28,776 : INFO : processed documents up to #1640\n"
     ]
    },
    {
     "name": "stderr",
     "output_type": "stream",
     "text": [
      "2016-10-11 18:14:28,779 : INFO : topic #0(1517.673): 0.501*\"АЛЛАХ\" + 0.268*\"КОТОРЫЙ\" + 0.216*\"ЧЕЛОВЕК\" + 0.171*\"МИР\" + 0.153*\"СКАЗАТЬ\" + 0.151*\"ПРОРОК\" + 0.148*\"СВОЙ\" + 0.142*\"ВОПРОС\" + 0.130*\"ИСТОРИЯ\" + 0.117*\"КОРАН\"\n"
     ]
    },
    {
     "name": "stderr",
     "output_type": "stream",
     "text": [
      "2016-10-11 18:14:28,782 : INFO : topic #1(586.222): -0.531*\"АЛЛАХ\" + 0.300*\"ИДДА\" + 0.222*\"ЖЕНЩИНА\" + 0.217*\"МУЖ\" + 0.187*\"РАЗВОД\" + -0.151*\"ПОСЛАННИК\" + 0.145*\"ИСТОРИЯ\" + 0.133*\"ЖЕНА\" + 0.130*\"ИСЛАМСКИЙ\" + 0.127*\"РАМАДАН\"\n"
     ]
    },
    {
     "name": "stderr",
     "output_type": "stream",
     "text": [
      "2016-10-11 18:14:28,783 : INFO : topic #2(535.119): -0.422*\"ИДДА\" + -0.301*\"МУЖ\" + -0.288*\"ЖЕНЩИНА\" + -0.255*\"АЛЛАХ\" + -0.201*\"РАЗВОД\" + -0.171*\"ЖЕНА\" + 0.163*\"ИСТОРИЯ\" + -0.163*\"СРОК\" + 0.148*\"РАМАДАН\" + -0.127*\"СКАЗАТЬ\"\n"
     ]
    },
    {
     "name": "stderr",
     "output_type": "stream",
     "text": [
      "2016-10-11 18:14:28,786 : INFO : topic #3(404.630): 0.326*\"ИМАМ\" + 0.271*\"КОТОРЫЙ\" + -0.239*\"АЛЛАХ\" + 0.215*\"КНИГА\" + 0.194*\"ЧЕЛОВЕК\" + -0.179*\"РАМАДАН\" + 0.157*\"СЛОВО\" + 0.152*\"УЧЁНЫЙ\" + 0.143*\"УМ\" + -0.140*\"НАМАЗ\"\n"
     ]
    },
    {
     "name": "stderr",
     "output_type": "stream",
     "text": [
      "2016-10-11 18:14:28,788 : INFO : topic #4(365.942): -0.426*\"ИМАМ\" + 0.335*\"ЧЕЛОВЕК\" + -0.259*\"УМ\" + -0.240*\"АЛЛАХ\" + -0.237*\"ГОД\" + -0.223*\"КНИГА\" + -0.153*\"АБА\" + 0.146*\"КОТОРЫЙ\" + -0.144*\"УЧЁНЫЙ\" + 0.132*\"ВОПРОС\"\n"
     ]
    },
    {
     "name": "stderr",
     "output_type": "stream",
     "text": [
      "2016-10-11 18:14:28,874 : INFO : preparing a new chunk of documents\n"
     ]
    },
    {
     "name": "stderr",
     "output_type": "stream",
     "text": [
      "2016-10-11 18:14:28,878 : INFO : using 100 extra samples and 2 power iterations\n"
     ]
    },
    {
     "name": "stderr",
     "output_type": "stream",
     "text": [
      "2016-10-11 18:14:28,878 : INFO : 1st phase: constructing (24774L, 200L) action matrix\n"
     ]
    },
    {
     "name": "stderr",
     "output_type": "stream",
     "text": [
      "2016-10-11 18:14:28,884 : INFO : orthonormalizing (24774L, 200L) action matrix\n"
     ]
    },
    {
     "name": "stderr",
     "output_type": "stream",
     "text": [
      "2016-10-11 18:14:30,312 : INFO : 2nd phase: running dense svd on (200L, 20L) matrix\n"
     ]
    },
    {
     "name": "stderr",
     "output_type": "stream",
     "text": [
      "2016-10-11 18:14:30,342 : INFO : computing the final decomposition\n"
     ]
    },
    {
     "name": "stderr",
     "output_type": "stream",
     "text": [
      "2016-10-11 18:14:30,342 : INFO : keeping 20 factors (discarding 0.000% of energy spectrum)\n"
     ]
    },
    {
     "name": "stderr",
     "output_type": "stream",
     "text": [
      "2016-10-11 18:14:30,368 : INFO : merging projections: (24774L, 100L) + (24774L, 20L)\n"
     ]
    },
    {
     "name": "stderr",
     "output_type": "stream",
     "text": [
      "2016-10-11 18:14:30,436 : INFO : keeping 100 factors (discarding 0.297% of energy spectrum)\n"
     ]
    },
    {
     "name": "stderr",
     "output_type": "stream",
     "text": [
      "2016-10-11 18:14:30,500 : INFO : processed documents up to #1660\n"
     ]
    },
    {
     "name": "stderr",
     "output_type": "stream",
     "text": [
      "2016-10-11 18:14:30,503 : INFO : topic #0(1526.198): 0.499*\"АЛЛАХ\" + 0.270*\"КОТОРЫЙ\" + 0.215*\"ЧЕЛОВЕК\" + 0.170*\"МИР\" + 0.153*\"СКАЗАТЬ\" + 0.151*\"ПРОРОК\" + 0.148*\"СВОЙ\" + 0.142*\"ВОПРОС\" + 0.130*\"ИСТОРИЯ\" + 0.118*\"КОРАН\"\n"
     ]
    },
    {
     "name": "stderr",
     "output_type": "stream",
     "text": [
      "2016-10-11 18:14:30,505 : INFO : topic #1(587.141): -0.538*\"АЛЛАХ\" + 0.292*\"ИДДА\" + 0.216*\"ЖЕНЩИНА\" + 0.211*\"МУЖ\" + 0.183*\"РАЗВОД\" + -0.152*\"ПОСЛАННИК\" + 0.148*\"ИСТОРИЯ\" + 0.134*\"ИСЛАМСКИЙ\" + 0.129*\"ЖЕНА\" + 0.129*\"РАМАДАН\"\n"
     ]
    },
    {
     "name": "stderr",
     "output_type": "stream",
     "text": [
      "2016-10-11 18:14:30,506 : INFO : topic #2(536.256): -0.427*\"ИДДА\" + -0.305*\"МУЖ\" + -0.293*\"ЖЕНЩИНА\" + -0.247*\"АЛЛАХ\" + -0.204*\"РАЗВОД\" + -0.174*\"ЖЕНА\" + -0.165*\"СРОК\" + 0.160*\"ИСТОРИЯ\" + 0.145*\"РАМАДАН\" + 0.126*\"ИСЛАМСКИЙ\"\n"
     ]
    },
    {
     "name": "stderr",
     "output_type": "stream",
     "text": [
      "2016-10-11 18:14:30,509 : INFO : topic #3(405.290): 0.318*\"ИМАМ\" + 0.275*\"КОТОРЫЙ\" + -0.241*\"АЛЛАХ\" + 0.212*\"КНИГА\" + 0.196*\"ЧЕЛОВЕК\" + -0.180*\"РАМАДАН\" + 0.157*\"СЛОВО\" + 0.150*\"УЧЁНЫЙ\" + -0.143*\"НАМАЗ\" + -0.141*\"МИР\"\n"
     ]
    },
    {
     "name": "stderr",
     "output_type": "stream",
     "text": [
      "2016-10-11 18:14:30,510 : INFO : topic #4(366.800): -0.435*\"ИМАМ\" + 0.332*\"ЧЕЛОВЕК\" + -0.262*\"УМ\" + -0.238*\"ГОД\" + -0.235*\"АЛЛАХ\" + -0.227*\"КНИГА\" + -0.156*\"АБА\" + -0.149*\"УЧЁНЫЙ\" + 0.146*\"КОТОРЫЙ\" + 0.127*\"ВОПРОС\"\n"
     ]
    },
    {
     "name": "stderr",
     "output_type": "stream",
     "text": [
      "2016-10-11 18:14:30,585 : INFO : preparing a new chunk of documents\n"
     ]
    },
    {
     "name": "stderr",
     "output_type": "stream",
     "text": [
      "2016-10-11 18:14:30,588 : INFO : using 100 extra samples and 2 power iterations\n"
     ]
    },
    {
     "name": "stderr",
     "output_type": "stream",
     "text": [
      "2016-10-11 18:14:30,589 : INFO : 1st phase: constructing (24774L, 200L) action matrix\n"
     ]
    },
    {
     "name": "stderr",
     "output_type": "stream",
     "text": [
      "2016-10-11 18:14:30,595 : INFO : orthonormalizing (24774L, 200L) action matrix\n"
     ]
    },
    {
     "name": "stderr",
     "output_type": "stream",
     "text": [
      "2016-10-11 18:14:32,023 : INFO : 2nd phase: running dense svd on (200L, 20L) matrix\n"
     ]
    },
    {
     "name": "stderr",
     "output_type": "stream",
     "text": [
      "2016-10-11 18:14:32,055 : INFO : computing the final decomposition\n"
     ]
    },
    {
     "name": "stderr",
     "output_type": "stream",
     "text": [
      "2016-10-11 18:14:32,055 : INFO : keeping 20 factors (discarding 0.000% of energy spectrum)\n"
     ]
    },
    {
     "name": "stderr",
     "output_type": "stream",
     "text": [
      "2016-10-11 18:14:32,073 : INFO : merging projections: (24774L, 100L) + (24774L, 20L)\n"
     ]
    },
    {
     "name": "stderr",
     "output_type": "stream",
     "text": [
      "2016-10-11 18:14:32,138 : INFO : keeping 100 factors (discarding 0.355% of energy spectrum)\n"
     ]
    },
    {
     "name": "stderr",
     "output_type": "stream",
     "text": [
      "2016-10-11 18:14:32,197 : INFO : processed documents up to #1680\n"
     ]
    },
    {
     "name": "stderr",
     "output_type": "stream",
     "text": [
      "2016-10-11 18:14:32,198 : INFO : topic #0(1530.649): 0.497*\"АЛЛАХ\" + 0.270*\"КОТОРЫЙ\" + 0.216*\"ЧЕЛОВЕК\" + 0.170*\"МИР\" + 0.152*\"СКАЗАТЬ\" + 0.151*\"ПРОРОК\" + 0.149*\"СВОЙ\" + 0.142*\"ВОПРОС\" + 0.131*\"ИСТОРИЯ\" + 0.118*\"КОРАН\"\n"
     ]
    },
    {
     "name": "stderr",
     "output_type": "stream",
     "text": [
      "2016-10-11 18:14:32,200 : INFO : topic #1(588.697): -0.546*\"АЛЛАХ\" + 0.280*\"ИДДА\" + 0.209*\"ЖЕНЩИНА\" + 0.203*\"МУЖ\" + 0.178*\"РАЗВОД\" + -0.154*\"ПОСЛАННИК\" + 0.151*\"ИСТОРИЯ\" + 0.136*\"ИСЛАМСКИЙ\" + 0.132*\"РАМАДАН\" + 0.124*\"ЖЕНА\"\n"
     ]
    },
    {
     "name": "stderr",
     "output_type": "stream",
     "text": [
      "2016-10-11 18:14:32,203 : INFO : topic #2(537.535): -0.435*\"ИДДА\" + -0.311*\"МУЖ\" + -0.299*\"ЖЕНЩИНА\" + -0.233*\"АЛЛАХ\" + -0.209*\"РАЗВОД\" + -0.178*\"ЖЕНА\" + -0.168*\"СРОК\" + 0.156*\"ИСТОРИЯ\" + 0.141*\"РАМАДАН\" + -0.124*\"СКАЗАТЬ\"\n"
     ]
    },
    {
     "name": "stderr",
     "output_type": "stream",
     "text": [
      "2016-10-11 18:14:32,206 : INFO : topic #3(405.671): 0.318*\"ИМАМ\" + 0.275*\"КОТОРЫЙ\" + -0.242*\"АЛЛАХ\" + 0.213*\"КНИГА\" + 0.196*\"ЧЕЛОВЕК\" + -0.180*\"РАМАДАН\" + 0.156*\"СЛОВО\" + 0.149*\"УЧЁНЫЙ\" + -0.144*\"НАМАЗ\" + -0.140*\"МИР\"\n"
     ]
    },
    {
     "name": "stderr",
     "output_type": "stream",
     "text": [
      "2016-10-11 18:14:32,207 : INFO : topic #4(367.517): -0.437*\"ИМАМ\" + 0.334*\"ЧЕЛОВЕК\" + -0.262*\"УМ\" + -0.235*\"ГОД\" + -0.232*\"АЛЛАХ\" + -0.229*\"КНИГА\" + -0.157*\"АБА\" + -0.151*\"УЧЁНЫЙ\" + 0.145*\"КОТОРЫЙ\" + 0.121*\"ВОПРОС\"\n"
     ]
    },
    {
     "name": "stderr",
     "output_type": "stream",
     "text": [
      "2016-10-11 18:14:32,278 : INFO : preparing a new chunk of documents\n"
     ]
    },
    {
     "name": "stderr",
     "output_type": "stream",
     "text": [
      "2016-10-11 18:14:32,282 : INFO : using 100 extra samples and 2 power iterations\n"
     ]
    },
    {
     "name": "stderr",
     "output_type": "stream",
     "text": [
      "2016-10-11 18:14:32,282 : INFO : 1st phase: constructing (24774L, 200L) action matrix\n"
     ]
    },
    {
     "name": "stderr",
     "output_type": "stream",
     "text": [
      "2016-10-11 18:14:32,288 : INFO : orthonormalizing (24774L, 200L) action matrix\n"
     ]
    },
    {
     "name": "stderr",
     "output_type": "stream",
     "text": [
      "2016-10-11 18:14:33,687 : INFO : 2nd phase: running dense svd on (200L, 20L) matrix\n"
     ]
    },
    {
     "name": "stderr",
     "output_type": "stream",
     "text": [
      "2016-10-11 18:14:33,717 : INFO : computing the final decomposition\n"
     ]
    },
    {
     "name": "stderr",
     "output_type": "stream",
     "text": [
      "2016-10-11 18:14:33,719 : INFO : keeping 20 factors (discarding 0.000% of energy spectrum)\n"
     ]
    },
    {
     "name": "stderr",
     "output_type": "stream",
     "text": [
      "2016-10-11 18:14:33,740 : INFO : merging projections: (24774L, 100L) + (24774L, 20L)\n"
     ]
    },
    {
     "name": "stderr",
     "output_type": "stream",
     "text": [
      "2016-10-11 18:14:33,805 : INFO : keeping 100 factors (discarding 0.196% of energy spectrum)\n"
     ]
    },
    {
     "name": "stderr",
     "output_type": "stream",
     "text": [
      "2016-10-11 18:14:33,862 : INFO : processed documents up to #1700\n"
     ]
    },
    {
     "name": "stderr",
     "output_type": "stream",
     "text": [
      "2016-10-11 18:14:33,865 : INFO : topic #0(1540.264): 0.496*\"АЛЛАХ\" + 0.270*\"КОТОРЫЙ\" + 0.215*\"ЧЕЛОВЕК\" + 0.171*\"МИР\" + 0.152*\"СКАЗАТЬ\" + 0.151*\"ПРОРОК\" + 0.149*\"СВОЙ\" + 0.141*\"ВОПРОС\" + 0.130*\"ИСТОРИЯ\" + 0.118*\"КОРАН\"\n"
     ]
    },
    {
     "name": "stderr",
     "output_type": "stream",
     "text": [
      "2016-10-11 18:14:33,867 : INFO : topic #1(589.137): -0.547*\"АЛЛАХ\" + 0.277*\"ИДДА\" + 0.207*\"ЖЕНЩИНА\" + 0.201*\"МУЖ\" + 0.176*\"РАЗВОД\" + -0.154*\"ПОСЛАННИК\" + 0.152*\"ИСТОРИЯ\" + 0.137*\"ИСЛАМСКИЙ\" + 0.133*\"РАМАДАН\" + 0.124*\"ЖЕНА\"\n"
     ]
    },
    {
     "name": "stderr",
     "output_type": "stream",
     "text": [
      "2016-10-11 18:14:33,868 : INFO : topic #2(537.982): -0.436*\"ИДДА\" + -0.312*\"МУЖ\" + -0.300*\"ЖЕНЩИНА\" + -0.229*\"АЛЛАХ\" + -0.210*\"РАЗВОД\" + -0.179*\"ЖЕНА\" + -0.169*\"СРОК\" + 0.156*\"ИСТОРИЯ\" + 0.141*\"РАМАДАН\" + -0.124*\"СКАЗАТЬ\"\n"
     ]
    },
    {
     "name": "stderr",
     "output_type": "stream",
     "text": [
      "2016-10-11 18:14:33,871 : INFO : topic #3(406.526): 0.318*\"ИМАМ\" + 0.276*\"КОТОРЫЙ\" + -0.244*\"АЛЛАХ\" + 0.213*\"КНИГА\" + 0.196*\"ЧЕЛОВЕК\" + -0.179*\"РАМАДАН\" + 0.157*\"СЛОВО\" + 0.150*\"УЧЁНЫЙ\" + -0.142*\"МИР\" + -0.140*\"НАМАЗ\"\n"
     ]
    },
    {
     "name": "stderr",
     "output_type": "stream",
     "text": [
      "2016-10-11 18:14:33,872 : INFO : topic #4(367.940): -0.440*\"ИМАМ\" + 0.334*\"ЧЕЛОВЕК\" + -0.261*\"УМ\" + -0.236*\"ГОД\" + -0.232*\"АЛЛАХ\" + -0.230*\"КНИГА\" + -0.159*\"АБА\" + -0.154*\"УЧЁНЫЙ\" + 0.147*\"КОТОРЫЙ\" + 0.113*\"ВОПРОС\"\n"
     ]
    },
    {
     "name": "stderr",
     "output_type": "stream",
     "text": [
      "2016-10-11 18:14:33,924 : INFO : preparing a new chunk of documents\n"
     ]
    },
    {
     "name": "stderr",
     "output_type": "stream",
     "text": [
      "2016-10-11 18:14:33,927 : INFO : using 100 extra samples and 2 power iterations\n"
     ]
    },
    {
     "name": "stderr",
     "output_type": "stream",
     "text": [
      "2016-10-11 18:14:33,927 : INFO : 1st phase: constructing (24774L, 200L) action matrix\n"
     ]
    },
    {
     "name": "stderr",
     "output_type": "stream",
     "text": [
      "2016-10-11 18:14:33,933 : INFO : orthonormalizing (24774L, 200L) action matrix\n"
     ]
    },
    {
     "name": "stderr",
     "output_type": "stream",
     "text": [
      "2016-10-11 18:14:35,345 : INFO : 2nd phase: running dense svd on (200L, 20L) matrix\n"
     ]
    },
    {
     "name": "stderr",
     "output_type": "stream",
     "text": [
      "2016-10-11 18:14:35,377 : INFO : computing the final decomposition\n"
     ]
    },
    {
     "name": "stderr",
     "output_type": "stream",
     "text": [
      "2016-10-11 18:14:35,378 : INFO : keeping 13 factors (discarding 0.000% of energy spectrum)\n"
     ]
    },
    {
     "name": "stderr",
     "output_type": "stream",
     "text": [
      "2016-10-11 18:14:35,398 : INFO : merging projections: (24774L, 100L) + (24774L, 13L)\n"
     ]
    },
    {
     "name": "stderr",
     "output_type": "stream",
     "text": [
      "2016-10-11 18:14:35,516 : INFO : keeping 100 factors (discarding 0.205% of energy spectrum)\n"
     ]
    },
    {
     "name": "stderr",
     "output_type": "stream",
     "text": [
      "2016-10-11 18:14:35,572 : INFO : processed documents up to #1720\n"
     ]
    },
    {
     "name": "stderr",
     "output_type": "stream",
     "text": [
      "2016-10-11 18:14:35,575 : INFO : topic #0(1545.906): 0.496*\"АЛЛАХ\" + 0.270*\"КОТОРЫЙ\" + 0.215*\"ЧЕЛОВЕК\" + 0.172*\"МИР\" + 0.152*\"СКАЗАТЬ\" + 0.151*\"ПРОРОК\" + 0.149*\"СВОЙ\" + 0.140*\"ВОПРОС\" + 0.130*\"ИСТОРИЯ\" + 0.117*\"КОРАН\"\n"
     ]
    },
    {
     "name": "stderr",
     "output_type": "stream",
     "text": [
      "2016-10-11 18:14:35,578 : INFO : topic #1(591.974): -0.557*\"АЛЛАХ\" + 0.265*\"ИДДА\" + 0.198*\"ЖЕНЩИНА\" + 0.192*\"МУЖ\" + 0.170*\"РАЗВОД\" + -0.157*\"ПОСЛАННИК\" + 0.155*\"ИСТОРИЯ\" + 0.139*\"ИСЛАМСКИЙ\" + 0.135*\"РАМАДАН\" + 0.121*\"САЙТ\"\n"
     ]
    },
    {
     "name": "stderr",
     "output_type": "stream",
     "text": [
      "2016-10-11 18:14:35,579 : INFO : topic #2(538.722): -0.443*\"ИДДА\" + -0.317*\"МУЖ\" + -0.306*\"ЖЕНЩИНА\" + -0.217*\"АЛЛАХ\" + -0.215*\"РАЗВОД\" + -0.182*\"ЖЕНА\" + -0.172*\"СРОК\" + 0.151*\"ИСТОРИЯ\" + 0.137*\"РАМАДАН\" + -0.122*\"СКАЗАТЬ\"\n"
     ]
    },
    {
     "name": "stderr",
     "output_type": "stream",
     "text": [
      "2016-10-11 18:14:35,582 : INFO : topic #3(407.964): 0.305*\"ИМАМ\" + 0.280*\"КОТОРЫЙ\" + -0.243*\"АЛЛАХ\" + 0.205*\"КНИГА\" + 0.205*\"ЧЕЛОВЕК\" + -0.181*\"РАМАДАН\" + 0.159*\"СЛОВО\" + 0.145*\"УЧЁНЫЙ\" + -0.144*\"МИР\" + -0.143*\"НАМАЗ\"\n"
     ]
    },
    {
     "name": "stderr",
     "output_type": "stream",
     "text": [
      "2016-10-11 18:14:35,585 : INFO : topic #4(368.956): -0.451*\"ИМАМ\" + 0.331*\"ЧЕЛОВЕК\" + -0.265*\"УМ\" + -0.238*\"ГОД\" + -0.237*\"КНИГА\" + -0.222*\"АЛЛАХ\" + -0.160*\"УЧЁНЫЙ\" + -0.159*\"АБА\" + 0.143*\"КОТОРЫЙ\" + -0.112*\"БИОГРАФИЯ\"\n"
     ]
    },
    {
     "name": "stderr",
     "output_type": "stream",
     "text": [
      "2016-10-11 18:14:35,592 : INFO : preparing a new chunk of documents\n"
     ]
    },
    {
     "name": "stderr",
     "output_type": "stream",
     "text": [
      "2016-10-11 18:14:35,595 : INFO : using 100 extra samples and 2 power iterations\n"
     ]
    },
    {
     "name": "stderr",
     "output_type": "stream",
     "text": [
      "2016-10-11 18:14:35,595 : INFO : 1st phase: constructing (24774L, 200L) action matrix\n"
     ]
    },
    {
     "name": "stderr",
     "output_type": "stream",
     "text": [
      "2016-10-11 18:14:35,598 : INFO : orthonormalizing (24774L, 200L) action matrix\n"
     ]
    },
    {
     "name": "stderr",
     "output_type": "stream",
     "text": [
      "2016-10-11 18:14:37,022 : INFO : 2nd phase: running dense svd on (200L, 20L) matrix\n"
     ]
    },
    {
     "name": "stderr",
     "output_type": "stream",
     "text": [
      "2016-10-11 18:14:37,052 : INFO : computing the final decomposition\n"
     ]
    },
    {
     "name": "stderr",
     "output_type": "stream",
     "text": [
      "2016-10-11 18:14:37,052 : INFO : keeping 2 factors (discarding 0.000% of energy spectrum)\n"
     ]
    },
    {
     "name": "stderr",
     "output_type": "stream",
     "text": [
      "2016-10-11 18:14:37,063 : INFO : merging projections: (24774L, 100L) + (24774L, 2L)\n"
     ]
    },
    {
     "name": "stderr",
     "output_type": "stream",
     "text": [
      "2016-10-11 18:14:37,127 : INFO : keeping 100 factors (discarding 0.012% of energy spectrum)\n"
     ]
    },
    {
     "name": "stderr",
     "output_type": "stream",
     "text": [
      "2016-10-11 18:14:37,183 : INFO : processed documents up to #1740\n"
     ]
    },
    {
     "name": "stderr",
     "output_type": "stream",
     "text": [
      "2016-10-11 18:14:37,184 : INFO : topic #0(1546.065): 0.496*\"АЛЛАХ\" + 0.270*\"КОТОРЫЙ\" + 0.215*\"ЧЕЛОВЕК\" + 0.172*\"МИР\" + 0.152*\"СКАЗАТЬ\" + 0.151*\"ПРОРОК\" + 0.149*\"СВОЙ\" + 0.140*\"ВОПРОС\" + 0.130*\"ИСТОРИЯ\" + 0.117*\"КОРАН\"\n"
     ]
    },
    {
     "name": "stderr",
     "output_type": "stream",
     "text": [
      "2016-10-11 18:14:37,187 : INFO : topic #1(592.157): -0.558*\"АЛЛАХ\" + 0.264*\"ИДДА\" + 0.198*\"ЖЕНЩИНА\" + 0.191*\"МУЖ\" + 0.170*\"РАЗВОД\" + -0.157*\"ПОСЛАННИК\" + 0.155*\"ИСТОРИЯ\" + 0.140*\"ИСЛАМСКИЙ\" + 0.135*\"РАМАДАН\" + 0.121*\"САЙТ\"\n"
     ]
    },
    {
     "name": "stderr",
     "output_type": "stream",
     "text": [
      "2016-10-11 18:14:37,188 : INFO : topic #2(538.845): -0.444*\"ИДДА\" + -0.318*\"МУЖ\" + -0.306*\"ЖЕНЩИНА\" + -0.216*\"АЛЛАХ\" + -0.215*\"РАЗВОД\" + -0.183*\"ЖЕНА\" + -0.172*\"СРОК\" + 0.151*\"ИСТОРИЯ\" + 0.136*\"РАМАДАН\" + -0.121*\"СКАЗАТЬ\"\n"
     ]
    },
    {
     "name": "stderr",
     "output_type": "stream",
     "text": [
      "2016-10-11 18:14:37,191 : INFO : topic #3(407.992): 0.306*\"ИМАМ\" + 0.280*\"КОТОРЫЙ\" + -0.244*\"АЛЛАХ\" + 0.205*\"КНИГА\" + 0.204*\"ЧЕЛОВЕК\" + -0.181*\"РАМАДАН\" + 0.159*\"СЛОВО\" + 0.145*\"УЧЁНЫЙ\" + -0.144*\"МИР\" + -0.143*\"НАМАЗ\"\n"
     ]
    },
    {
     "name": "stderr",
     "output_type": "stream",
     "text": [
      "2016-10-11 18:14:37,194 : INFO : topic #4(368.975): -0.451*\"ИМАМ\" + 0.331*\"ЧЕЛОВЕК\" + -0.265*\"УМ\" + -0.238*\"ГОД\" + -0.237*\"КНИГА\" + -0.222*\"АЛЛАХ\" + -0.160*\"УЧЁНЫЙ\" + -0.159*\"АБА\" + 0.143*\"КОТОРЫЙ\" + -0.112*\"БИОГРАФИЯ\"\n"
     ]
    },
    {
     "name": "stderr",
     "output_type": "stream",
     "text": [
      "2016-10-11 18:14:37,198 : INFO : preparing a new chunk of documents\n"
     ]
    },
    {
     "name": "stderr",
     "output_type": "stream",
     "text": [
      "2016-10-11 18:14:37,200 : INFO : using 100 extra samples and 2 power iterations\n"
     ]
    },
    {
     "name": "stderr",
     "output_type": "stream",
     "text": [
      "2016-10-11 18:14:37,200 : INFO : 1st phase: constructing (24774L, 200L) action matrix\n"
     ]
    },
    {
     "name": "stderr",
     "output_type": "stream",
     "text": [
      "2016-10-11 18:14:37,203 : INFO : orthonormalizing (24774L, 200L) action matrix\n"
     ]
    },
    {
     "name": "stderr",
     "output_type": "stream",
     "text": [
      "2016-10-11 18:14:38,631 : INFO : 2nd phase: running dense svd on (200L, 20L) matrix\n"
     ]
    },
    {
     "name": "stderr",
     "output_type": "stream",
     "text": [
      "2016-10-11 18:14:38,663 : INFO : computing the final decomposition\n"
     ]
    },
    {
     "name": "stderr",
     "output_type": "stream",
     "text": [
      "2016-10-11 18:14:38,664 : INFO : keeping 1 factors (discarding 0.000% of energy spectrum)\n"
     ]
    },
    {
     "name": "stderr",
     "output_type": "stream",
     "text": [
      "2016-10-11 18:14:38,746 : INFO : merging projections: (24774L, 100L) + (24774L, 1L)\n"
     ]
    },
    {
     "name": "stderr",
     "output_type": "stream",
     "text": [
      "2016-10-11 18:14:38,786 : INFO : keeping 100 factors (discarding 0.006% of energy spectrum)\n"
     ]
    },
    {
     "name": "stderr",
     "output_type": "stream",
     "text": [
      "2016-10-11 18:14:38,857 : INFO : processed documents up to #1760\n"
     ]
    },
    {
     "name": "stderr",
     "output_type": "stream",
     "text": [
      "2016-10-11 18:14:38,858 : INFO : topic #0(1546.143): 0.496*\"АЛЛАХ\" + 0.270*\"КОТОРЫЙ\" + 0.215*\"ЧЕЛОВЕК\" + 0.172*\"МИР\" + 0.152*\"СКАЗАТЬ\" + 0.151*\"ПРОРОК\" + 0.149*\"СВОЙ\" + 0.140*\"ВОПРОС\" + 0.130*\"ИСТОРИЯ\" + 0.117*\"КОРАН\"\n"
     ]
    },
    {
     "name": "stderr",
     "output_type": "stream",
     "text": [
      "2016-10-11 18:14:38,861 : INFO : topic #1(592.252): -0.558*\"АЛЛАХ\" + 0.263*\"ИДДА\" + 0.197*\"ЖЕНЩИНА\" + 0.191*\"МУЖ\" + 0.169*\"РАЗВОД\" + -0.157*\"ПОСЛАННИК\" + 0.156*\"ИСТОРИЯ\" + 0.140*\"ИСЛАМСКИЙ\" + 0.135*\"РАМАДАН\" + 0.121*\"САЙТ\"\n"
     ]
    },
    {
     "name": "stderr",
     "output_type": "stream",
     "text": [
      "2016-10-11 18:14:38,864 : INFO : topic #2(538.899): -0.444*\"ИДДА\" + -0.318*\"МУЖ\" + -0.307*\"ЖЕНЩИНА\" + -0.216*\"РАЗВОД\" + -0.215*\"АЛЛАХ\" + -0.183*\"ЖЕНА\" + -0.172*\"СРОК\" + 0.150*\"ИСТОРИЯ\" + 0.136*\"РАМАДАН\" + -0.121*\"СКАЗАТЬ\"\n"
     ]
    },
    {
     "name": "stderr",
     "output_type": "stream",
     "text": [
      "2016-10-11 18:14:38,865 : INFO : topic #3(408.004): 0.306*\"ИМАМ\" + 0.280*\"КОТОРЫЙ\" + -0.244*\"АЛЛАХ\" + 0.206*\"КНИГА\" + 0.204*\"ЧЕЛОВЕК\" + -0.181*\"РАМАДАН\" + 0.159*\"СЛОВО\" + 0.145*\"УЧЁНЫЙ\" + -0.144*\"МИР\" + -0.143*\"НАМАЗ\"\n"
     ]
    },
    {
     "name": "stderr",
     "output_type": "stream",
     "text": [
      "2016-10-11 18:14:38,868 : INFO : topic #4(368.986): -0.451*\"ИМАМ\" + 0.331*\"ЧЕЛОВЕК\" + -0.265*\"УМ\" + -0.238*\"ГОД\" + -0.237*\"КНИГА\" + -0.222*\"АЛЛАХ\" + -0.160*\"УЧЁНЫЙ\" + -0.159*\"АБА\" + 0.143*\"КОТОРЫЙ\" + -0.112*\"БИОГРАФИЯ\"\n"
     ]
    },
    {
     "name": "stderr",
     "output_type": "stream",
     "text": [
      "2016-10-11 18:14:38,877 : INFO : preparing a new chunk of documents\n"
     ]
    },
    {
     "name": "stderr",
     "output_type": "stream",
     "text": [
      "2016-10-11 18:14:38,878 : INFO : using 100 extra samples and 2 power iterations\n"
     ]
    },
    {
     "name": "stderr",
     "output_type": "stream",
     "text": [
      "2016-10-11 18:14:38,880 : INFO : 1st phase: constructing (24774L, 200L) action matrix\n"
     ]
    },
    {
     "name": "stderr",
     "output_type": "stream",
     "text": [
      "2016-10-11 18:14:38,881 : INFO : orthonormalizing (24774L, 200L) action matrix\n"
     ]
    },
    {
     "name": "stderr",
     "output_type": "stream",
     "text": [
      "2016-10-11 18:14:40,276 : INFO : 2nd phase: running dense svd on (200L, 20L) matrix\n"
     ]
    },
    {
     "name": "stderr",
     "output_type": "stream",
     "text": [
      "2016-10-11 18:14:40,305 : INFO : computing the final decomposition\n"
     ]
    },
    {
     "name": "stderr",
     "output_type": "stream",
     "text": [
      "2016-10-11 18:14:40,306 : INFO : keeping 3 factors (discarding 0.000% of energy spectrum)\n"
     ]
    },
    {
     "name": "stderr",
     "output_type": "stream",
     "text": [
      "2016-10-11 18:14:40,318 : INFO : merging projections: (24774L, 100L) + (24774L, 3L)\n"
     ]
    },
    {
     "name": "stderr",
     "output_type": "stream",
     "text": [
      "2016-10-11 18:14:40,361 : INFO : keeping 100 factors (discarding 0.020% of energy spectrum)\n"
     ]
    },
    {
     "name": "stderr",
     "output_type": "stream",
     "text": [
      "2016-10-11 18:14:40,414 : INFO : processed documents up to #1780\n"
     ]
    },
    {
     "name": "stderr",
     "output_type": "stream",
     "text": [
      "2016-10-11 18:14:40,417 : INFO : topic #0(1546.442): 0.496*\"АЛЛАХ\" + 0.270*\"КОТОРЫЙ\" + 0.215*\"ЧЕЛОВЕК\" + 0.172*\"МИР\" + 0.152*\"СКАЗАТЬ\" + 0.151*\"ПРОРОК\" + 0.149*\"СВОЙ\" + 0.140*\"ВОПРОС\" + 0.131*\"ИСТОРИЯ\" + 0.118*\"КОРАН\"\n"
     ]
    },
    {
     "name": "stderr",
     "output_type": "stream",
     "text": [
      "2016-10-11 18:14:40,418 : INFO : topic #1(592.463): -0.559*\"АЛЛАХ\" + 0.262*\"ИДДА\" + 0.196*\"ЖЕНЩИНА\" + 0.190*\"МУЖ\" + 0.169*\"РАЗВОД\" + -0.157*\"ПОСЛАННИК\" + 0.156*\"ИСТОРИЯ\" + 0.140*\"ИСЛАМСКИЙ\" + 0.136*\"РАМАДАН\" + 0.122*\"САЙТ\"\n"
     ]
    },
    {
     "name": "stderr",
     "output_type": "stream",
     "text": [
      "2016-10-11 18:14:40,421 : INFO : topic #2(539.079): -0.445*\"ИДДА\" + -0.319*\"МУЖ\" + -0.307*\"ЖЕНЩИНА\" + -0.216*\"РАЗВОД\" + -0.213*\"АЛЛАХ\" + -0.183*\"ЖЕНА\" + -0.172*\"СРОК\" + 0.150*\"ИСТОРИЯ\" + 0.136*\"РАМАДАН\" + -0.121*\"СКАЗАТЬ\"\n"
     ]
    },
    {
     "name": "stderr",
     "output_type": "stream",
     "text": [
      "2016-10-11 18:14:40,423 : INFO : topic #3(408.059): 0.306*\"ИМАМ\" + 0.280*\"КОТОРЫЙ\" + -0.244*\"АЛЛАХ\" + 0.206*\"КНИГА\" + 0.204*\"ЧЕЛОВЕК\" + -0.180*\"РАМАДАН\" + 0.159*\"СЛОВО\" + 0.145*\"УЧЁНЫЙ\" + -0.144*\"МИР\" + -0.143*\"НАМАЗ\"\n"
     ]
    },
    {
     "name": "stderr",
     "output_type": "stream",
     "text": [
      "2016-10-11 18:14:40,424 : INFO : topic #4(369.013): -0.451*\"ИМАМ\" + 0.331*\"ЧЕЛОВЕК\" + -0.265*\"УМ\" + -0.238*\"ГОД\" + -0.237*\"КНИГА\" + -0.222*\"АЛЛАХ\" + -0.160*\"УЧЁНЫЙ\" + -0.159*\"АБА\" + 0.143*\"КОТОРЫЙ\" + -0.112*\"БИОГРАФИЯ\"\n"
     ]
    },
    {
     "name": "stderr",
     "output_type": "stream",
     "text": [
      "2016-10-11 18:14:40,433 : INFO : preparing a new chunk of documents\n"
     ]
    },
    {
     "name": "stderr",
     "output_type": "stream",
     "text": [
      "2016-10-11 18:14:40,434 : INFO : using 100 extra samples and 2 power iterations\n"
     ]
    },
    {
     "name": "stderr",
     "output_type": "stream",
     "text": [
      "2016-10-11 18:14:40,436 : INFO : 1st phase: constructing (24774L, 200L) action matrix\n"
     ]
    },
    {
     "name": "stderr",
     "output_type": "stream",
     "text": [
      "2016-10-11 18:14:40,437 : INFO : orthonormalizing (24774L, 200L) action matrix\n"
     ]
    },
    {
     "name": "stderr",
     "output_type": "stream",
     "text": [
      "2016-10-11 18:14:41,815 : INFO : 2nd phase: running dense svd on (200L, 20L) matrix\n"
     ]
    },
    {
     "name": "stderr",
     "output_type": "stream",
     "text": [
      "2016-10-11 18:14:41,846 : INFO : computing the final decomposition\n"
     ]
    },
    {
     "name": "stderr",
     "output_type": "stream",
     "text": [
      "2016-10-11 18:14:41,848 : INFO : keeping 2 factors (discarding 0.000% of energy spectrum)\n"
     ]
    },
    {
     "name": "stderr",
     "output_type": "stream",
     "text": [
      "2016-10-11 18:14:41,859 : INFO : merging projections: (24774L, 100L) + (24774L, 2L)\n"
     ]
    },
    {
     "name": "stderr",
     "output_type": "stream",
     "text": [
      "2016-10-11 18:14:41,901 : INFO : keeping 100 factors (discarding 0.032% of energy spectrum)\n"
     ]
    },
    {
     "name": "stderr",
     "output_type": "stream",
     "text": [
      "2016-10-11 18:14:41,957 : INFO : processed documents up to #1800\n"
     ]
    },
    {
     "name": "stderr",
     "output_type": "stream",
     "text": [
      "2016-10-11 18:14:41,960 : INFO : topic #0(1547.896): 0.497*\"АЛЛАХ\" + 0.270*\"КОТОРЫЙ\" + 0.215*\"ЧЕЛОВЕК\" + 0.172*\"МИР\" + 0.152*\"СКАЗАТЬ\" + 0.151*\"ПРОРОК\" + 0.149*\"СВОЙ\" + 0.140*\"ВОПРОС\" + 0.130*\"ИСТОРИЯ\" + 0.118*\"КОРАН\"\n"
     ]
    },
    {
     "name": "stderr",
     "output_type": "stream",
     "text": [
      "2016-10-11 18:14:41,963 : INFO : topic #1(593.126): -0.560*\"АЛЛАХ\" + 0.260*\"ИДДА\" + 0.195*\"ЖЕНЩИНА\" + 0.188*\"МУЖ\" + 0.168*\"РАЗВОД\" + -0.157*\"ПОСЛАННИК\" + 0.157*\"ИСТОРИЯ\" + 0.141*\"ИСЛАМСКИЙ\" + 0.136*\"РАМАДАН\" + 0.122*\"САЙТ\"\n"
     ]
    },
    {
     "name": "stderr",
     "output_type": "stream",
     "text": [
      "2016-10-11 18:14:41,964 : INFO : topic #2(539.165): -0.446*\"ИДДА\" + -0.320*\"МУЖ\" + -0.308*\"ЖЕНЩИНА\" + -0.217*\"РАЗВОД\" + -0.211*\"АЛЛАХ\" + -0.184*\"ЖЕНА\" + -0.173*\"СРОК\" + 0.149*\"ИСТОРИЯ\" + 0.135*\"РАМАДАН\" + -0.120*\"СКАЗАТЬ\"\n"
     ]
    },
    {
     "name": "stderr",
     "output_type": "stream",
     "text": [
      "2016-10-11 18:14:41,967 : INFO : topic #3(408.243): 0.305*\"ИМАМ\" + 0.281*\"КОТОРЫЙ\" + -0.244*\"АЛЛАХ\" + 0.205*\"ЧЕЛОВЕК\" + 0.205*\"КНИГА\" + -0.180*\"РАМАДАН\" + 0.159*\"СЛОВО\" + 0.145*\"УЧЁНЫЙ\" + -0.145*\"МИР\" + -0.142*\"НАМАЗ\"\n"
     ]
    },
    {
     "name": "stderr",
     "output_type": "stream",
     "text": [
      "2016-10-11 18:14:41,969 : INFO : topic #4(369.065): -0.452*\"ИМАМ\" + 0.330*\"ЧЕЛОВЕК\" + -0.266*\"УМ\" + -0.238*\"ГОД\" + -0.237*\"КНИГА\" + -0.221*\"АЛЛАХ\" + -0.160*\"УЧЁНЫЙ\" + -0.160*\"АБА\" + 0.143*\"КОТОРЫЙ\" + -0.113*\"БИОГРАФИЯ\"\n"
     ]
    },
    {
     "name": "stderr",
     "output_type": "stream",
     "text": [
      "2016-10-11 18:14:41,976 : INFO : preparing a new chunk of documents\n"
     ]
    },
    {
     "name": "stderr",
     "output_type": "stream",
     "text": [
      "2016-10-11 18:14:41,979 : INFO : using 100 extra samples and 2 power iterations\n"
     ]
    },
    {
     "name": "stderr",
     "output_type": "stream",
     "text": [
      "2016-10-11 18:14:41,980 : INFO : 1st phase: constructing (24774L, 200L) action matrix\n"
     ]
    },
    {
     "name": "stderr",
     "output_type": "stream",
     "text": [
      "2016-10-11 18:14:41,983 : INFO : orthonormalizing (24774L, 200L) action matrix\n"
     ]
    },
    {
     "name": "stderr",
     "output_type": "stream",
     "text": [
      "2016-10-11 18:14:43,391 : INFO : 2nd phase: running dense svd on (200L, 20L) matrix\n"
     ]
    },
    {
     "name": "stderr",
     "output_type": "stream",
     "text": [
      "2016-10-11 18:14:43,421 : INFO : computing the final decomposition\n"
     ]
    },
    {
     "name": "stderr",
     "output_type": "stream",
     "text": [
      "2016-10-11 18:14:43,423 : INFO : keeping 2 factors (discarding 0.000% of energy spectrum)\n"
     ]
    },
    {
     "name": "stderr",
     "output_type": "stream",
     "text": [
      "2016-10-11 18:14:43,433 : INFO : merging projections: (24774L, 100L) + (24774L, 2L)\n"
     ]
    },
    {
     "name": "stderr",
     "output_type": "stream",
     "text": [
      "2016-10-11 18:14:43,476 : INFO : keeping 100 factors (discarding 0.028% of energy spectrum)\n"
     ]
    },
    {
     "name": "stderr",
     "output_type": "stream",
     "text": [
      "2016-10-11 18:14:43,533 : INFO : processed documents up to #1820\n"
     ]
    },
    {
     "name": "stderr",
     "output_type": "stream",
     "text": [
      "2016-10-11 18:14:43,536 : INFO : topic #0(1549.338): 0.497*\"АЛЛАХ\" + 0.270*\"КОТОРЫЙ\" + 0.215*\"ЧЕЛОВЕК\" + 0.172*\"МИР\" + 0.152*\"СКАЗАТЬ\" + 0.151*\"ПРОРОК\" + 0.149*\"СВОЙ\" + 0.140*\"ВОПРОС\" + 0.130*\"ИСТОРИЯ\" + 0.117*\"КОРАН\"\n"
     ]
    },
    {
     "name": "stderr",
     "output_type": "stream",
     "text": [
      "2016-10-11 18:14:43,539 : INFO : topic #1(593.742): -0.561*\"АЛЛАХ\" + 0.258*\"ИДДА\" + 0.194*\"ЖЕНЩИНА\" + 0.187*\"МУЖ\" + 0.167*\"РАЗВОД\" + 0.157*\"ИСТОРИЯ\" + -0.157*\"ПОСЛАННИК\" + 0.141*\"ИСЛАМСКИЙ\" + 0.137*\"РАМАДАН\" + 0.123*\"САЙТ\"\n"
     ]
    },
    {
     "name": "stderr",
     "output_type": "stream",
     "text": [
      "2016-10-11 18:14:43,540 : INFO : topic #2(539.264): -0.447*\"ИДДА\" + -0.320*\"МУЖ\" + -0.309*\"ЖЕНЩИНА\" + -0.217*\"РАЗВОД\" + -0.209*\"АЛЛАХ\" + -0.184*\"ЖЕНА\" + -0.173*\"СРОК\" + 0.149*\"ИСТОРИЯ\" + 0.135*\"РАМАДАН\" + -0.120*\"ПЕРИОД\"\n"
     ]
    },
    {
     "name": "stderr",
     "output_type": "stream",
     "text": [
      "2016-10-11 18:14:43,542 : INFO : topic #3(408.420): 0.304*\"ИМАМ\" + 0.281*\"КОТОРЫЙ\" + -0.244*\"АЛЛАХ\" + 0.206*\"ЧЕЛОВЕК\" + 0.204*\"КНИГА\" + -0.181*\"РАМАДАН\" + 0.159*\"СЛОВО\" + -0.145*\"МИР\" + 0.145*\"УЧЁНЫЙ\" + -0.141*\"НАМАЗ\"\n"
     ]
    },
    {
     "name": "stderr",
     "output_type": "stream",
     "text": [
      "2016-10-11 18:14:43,545 : INFO : topic #4(369.111): -0.452*\"ИМАМ\" + 0.330*\"ЧЕЛОВЕК\" + -0.266*\"УМ\" + -0.238*\"ГОД\" + -0.238*\"КНИГА\" + -0.220*\"АЛЛАХ\" + -0.160*\"УЧЁНЫЙ\" + -0.160*\"АБА\" + 0.142*\"КОТОРЫЙ\" + -0.113*\"БИОГРАФИЯ\"\n"
     ]
    },
    {
     "name": "stderr",
     "output_type": "stream",
     "text": [
      "2016-10-11 18:14:43,555 : INFO : preparing a new chunk of documents\n"
     ]
    },
    {
     "name": "stderr",
     "output_type": "stream",
     "text": [
      "2016-10-11 18:14:43,558 : INFO : using 100 extra samples and 2 power iterations\n"
     ]
    },
    {
     "name": "stderr",
     "output_type": "stream",
     "text": [
      "2016-10-11 18:14:43,559 : INFO : 1st phase: constructing (24774L, 200L) action matrix\n"
     ]
    },
    {
     "name": "stderr",
     "output_type": "stream",
     "text": [
      "2016-10-11 18:14:43,562 : INFO : orthonormalizing (24774L, 200L) action matrix\n"
     ]
    },
    {
     "name": "stderr",
     "output_type": "stream",
     "text": [
      "2016-10-11 18:14:44,973 : INFO : 2nd phase: running dense svd on (200L, 20L) matrix\n"
     ]
    },
    {
     "name": "stderr",
     "output_type": "stream",
     "text": [
      "2016-10-11 18:14:45,003 : INFO : computing the final decomposition\n"
     ]
    },
    {
     "name": "stderr",
     "output_type": "stream",
     "text": [
      "2016-10-11 18:14:45,005 : INFO : keeping 2 factors (discarding 0.000% of energy spectrum)\n"
     ]
    },
    {
     "name": "stderr",
     "output_type": "stream",
     "text": [
      "2016-10-11 18:14:45,015 : INFO : merging projections: (24774L, 100L) + (24774L, 2L)\n"
     ]
    },
    {
     "name": "stderr",
     "output_type": "stream",
     "text": [
      "2016-10-11 18:14:45,061 : INFO : keeping 100 factors (discarding 0.075% of energy spectrum)\n"
     ]
    },
    {
     "name": "stderr",
     "output_type": "stream",
     "text": [
      "2016-10-11 18:14:45,111 : INFO : processed documents up to #1840\n"
     ]
    },
    {
     "name": "stderr",
     "output_type": "stream",
     "text": [
      "2016-10-11 18:14:45,112 : INFO : topic #0(1551.008): 0.496*\"АЛЛАХ\" + 0.270*\"КОТОРЫЙ\" + 0.216*\"ЧЕЛОВЕК\" + 0.172*\"МИР\" + 0.152*\"СКАЗАТЬ\" + 0.150*\"ПРОРОК\" + 0.149*\"СВОЙ\" + 0.140*\"ВОПРОС\" + 0.130*\"ИСТОРИЯ\" + 0.118*\"КОРАН\"\n"
     ]
    },
    {
     "name": "stderr",
     "output_type": "stream",
     "text": [
      "2016-10-11 18:14:45,115 : INFO : topic #1(594.179): -0.564*\"АЛЛАХ\" + 0.255*\"ИДДА\" + 0.191*\"ЖЕНЩИНА\" + 0.185*\"МУЖ\" + 0.165*\"РАЗВОД\" + -0.158*\"ПОСЛАННИК\" + 0.157*\"ИСТОРИЯ\" + 0.141*\"ИСЛАМСКИЙ\" + 0.137*\"РАМАДАН\" + 0.123*\"САЙТ\"\n"
     ]
    },
    {
     "name": "stderr",
     "output_type": "stream",
     "text": [
      "2016-10-11 18:14:45,117 : INFO : topic #2(539.527): -0.449*\"ИДДА\" + -0.322*\"МУЖ\" + -0.310*\"ЖЕНЩИНА\" + -0.219*\"РАЗВОД\" + -0.207*\"АЛЛАХ\" + -0.185*\"ЖЕНА\" + -0.174*\"СРОК\" + 0.147*\"ИСТОРИЯ\" + 0.133*\"РАМАДАН\" + -0.121*\"ПЕРИОД\"\n"
     ]
    },
    {
     "name": "stderr",
     "output_type": "stream",
     "text": [
      "2016-10-11 18:14:45,118 : INFO : topic #3(410.388): 0.299*\"ИМАМ\" + 0.282*\"КОТОРЫЙ\" + -0.245*\"АЛЛАХ\" + 0.219*\"ЧЕЛОВЕК\" + 0.199*\"КНИГА\" + -0.182*\"РАМАДАН\" + 0.158*\"СЛОВО\" + -0.146*\"МИР\" + 0.141*\"УЧЁНЫЙ\" + -0.140*\"НАМАЗ\"\n"
     ]
    },
    {
     "name": "stderr",
     "output_type": "stream",
     "text": [
      "2016-10-11 18:14:45,121 : INFO : topic #4(369.316): -0.456*\"ИМАМ\" + 0.330*\"ЧЕЛОВЕК\" + -0.268*\"УМ\" + -0.242*\"КНИГА\" + -0.239*\"ГОД\" + -0.216*\"АЛЛАХ\" + -0.163*\"УЧЁНЫЙ\" + -0.162*\"АБА\" + 0.137*\"КОТОРЫЙ\" + -0.114*\"БИОГРАФИЯ\"\n"
     ]
    },
    {
     "name": "stderr",
     "output_type": "stream",
     "text": [
      "2016-10-11 18:14:45,131 : INFO : preparing a new chunk of documents\n"
     ]
    },
    {
     "name": "stderr",
     "output_type": "stream",
     "text": [
      "2016-10-11 18:14:45,132 : INFO : using 100 extra samples and 2 power iterations\n"
     ]
    },
    {
     "name": "stderr",
     "output_type": "stream",
     "text": [
      "2016-10-11 18:14:45,134 : INFO : 1st phase: constructing (24774L, 200L) action matrix\n"
     ]
    },
    {
     "name": "stderr",
     "output_type": "stream",
     "text": [
      "2016-10-11 18:14:45,137 : INFO : orthonormalizing (24774L, 200L) action matrix\n"
     ]
    },
    {
     "name": "stderr",
     "output_type": "stream",
     "text": [
      "2016-10-11 18:14:46,542 : INFO : 2nd phase: running dense svd on (200L, 20L) matrix\n"
     ]
    },
    {
     "name": "stderr",
     "output_type": "stream",
     "text": [
      "2016-10-11 18:14:46,573 : INFO : computing the final decomposition\n"
     ]
    },
    {
     "name": "stderr",
     "output_type": "stream",
     "text": [
      "2016-10-11 18:14:46,575 : INFO : keeping 1 factors (discarding 0.000% of energy spectrum)\n"
     ]
    },
    {
     "name": "stderr",
     "output_type": "stream",
     "text": [
      "2016-10-11 18:14:46,584 : INFO : merging projections: (24774L, 100L) + (24774L, 1L)\n"
     ]
    },
    {
     "name": "stderr",
     "output_type": "stream",
     "text": [
      "2016-10-11 18:14:46,624 : INFO : keeping 100 factors (discarding 0.044% of energy spectrum)\n"
     ]
    },
    {
     "name": "stderr",
     "output_type": "stream",
     "text": [
      "2016-10-11 18:14:46,673 : INFO : processed documents up to #1860\n"
     ]
    },
    {
     "name": "stderr",
     "output_type": "stream",
     "text": [
      "2016-10-11 18:14:46,676 : INFO : topic #0(1552.598): 0.495*\"АЛЛАХ\" + 0.271*\"КОТОРЫЙ\" + 0.217*\"ЧЕЛОВЕК\" + 0.172*\"МИР\" + 0.152*\"СКАЗАТЬ\" + 0.150*\"ПРОРОК\" + 0.149*\"СВОЙ\" + 0.141*\"ВОПРОС\" + 0.130*\"ИСТОРИЯ\" + 0.118*\"КОРАН\"\n"
     ]
    },
    {
     "name": "stderr",
     "output_type": "stream",
     "text": [
      "2016-10-11 18:14:46,677 : INFO : topic #1(594.619): -0.567*\"АЛЛАХ\" + 0.252*\"ИДДА\" + 0.189*\"ЖЕНЩИНА\" + 0.183*\"МУЖ\" + 0.164*\"РАЗВОД\" + -0.158*\"ПОСЛАННИК\" + 0.157*\"ИСТОРИЯ\" + 0.141*\"ИСЛАМСКИЙ\" + 0.137*\"РАМАДАН\" + 0.122*\"САЙТ\"\n"
     ]
    },
    {
     "name": "stderr",
     "output_type": "stream",
     "text": [
      "2016-10-11 18:14:46,680 : INFO : topic #2(539.760): -0.451*\"ИДДА\" + -0.323*\"МУЖ\" + -0.312*\"ЖЕНЩИНА\" + -0.220*\"РАЗВОД\" + -0.206*\"АЛЛАХ\" + -0.186*\"ЖЕНА\" + -0.175*\"СРОК\" + 0.145*\"ИСТОРИЯ\" + 0.131*\"РАМАДАН\" + -0.121*\"ПЕРИОД\"\n"
     ]
    },
    {
     "name": "stderr",
     "output_type": "stream",
     "text": [
      "2016-10-11 18:14:46,681 : INFO : topic #3(412.579): 0.296*\"ИМАМ\" + 0.283*\"КОТОРЫЙ\" + -0.244*\"АЛЛАХ\" + 0.231*\"ЧЕЛОВЕК\" + 0.193*\"КНИГА\" + -0.184*\"РАМАДАН\" + 0.157*\"СЛОВО\" + -0.148*\"МИР\" + -0.138*\"НАМАЗ\" + 0.137*\"УЧЁНЫЙ\"\n"
     ]
    },
    {
     "name": "stderr",
     "output_type": "stream",
     "text": [
      "2016-10-11 18:14:46,684 : INFO : topic #4(369.478): -0.459*\"ИМАМ\" + 0.329*\"ЧЕЛОВЕК\" + -0.271*\"УМ\" + -0.245*\"КНИГА\" + -0.240*\"ГОД\" + -0.211*\"АЛЛАХ\" + -0.166*\"УЧЁНЫЙ\" + -0.163*\"АБА\" + 0.133*\"КОТОРЫЙ\" + -0.115*\"БИОГРАФИЯ\"\n"
     ]
    },
    {
     "name": "stderr",
     "output_type": "stream",
     "text": [
      "2016-10-11 18:14:46,703 : INFO : preparing a new chunk of documents\n"
     ]
    },
    {
     "name": "stderr",
     "output_type": "stream",
     "text": [
      "2016-10-11 18:14:46,706 : INFO : using 100 extra samples and 2 power iterations\n"
     ]
    },
    {
     "name": "stderr",
     "output_type": "stream",
     "text": [
      "2016-10-11 18:14:46,707 : INFO : 1st phase: constructing (24774L, 200L) action matrix\n"
     ]
    },
    {
     "name": "stderr",
     "output_type": "stream",
     "text": [
      "2016-10-11 18:14:46,710 : INFO : orthonormalizing (24774L, 200L) action matrix\n"
     ]
    },
    {
     "name": "stderr",
     "output_type": "stream",
     "text": [
      "2016-10-11 18:14:48,109 : INFO : 2nd phase: running dense svd on (200L, 20L) matrix\n"
     ]
    },
    {
     "name": "stderr",
     "output_type": "stream",
     "text": [
      "2016-10-11 18:14:48,141 : INFO : computing the final decomposition\n"
     ]
    },
    {
     "name": "stderr",
     "output_type": "stream",
     "text": [
      "2016-10-11 18:14:48,141 : INFO : keeping 2 factors (discarding 0.000% of energy spectrum)\n"
     ]
    },
    {
     "name": "stderr",
     "output_type": "stream",
     "text": [
      "2016-10-11 18:14:48,153 : INFO : merging projections: (24774L, 100L) + (24774L, 2L)\n"
     ]
    },
    {
     "name": "stderr",
     "output_type": "stream",
     "text": [
      "2016-10-11 18:14:48,196 : INFO : keeping 100 factors (discarding 0.041% of energy spectrum)\n"
     ]
    },
    {
     "name": "stderr",
     "output_type": "stream",
     "text": [
      "2016-10-11 18:14:48,253 : INFO : processed documents up to #1880\n"
     ]
    },
    {
     "name": "stderr",
     "output_type": "stream",
     "text": [
      "2016-10-11 18:14:48,255 : INFO : topic #0(1555.874): 0.493*\"АЛЛАХ\" + 0.271*\"КОТОРЫЙ\" + 0.219*\"ЧЕЛОВЕК\" + 0.171*\"МИР\" + 0.152*\"СКАЗАТЬ\" + 0.150*\"ПРОРОК\" + 0.150*\"СВОЙ\" + 0.141*\"ВОПРОС\" + 0.130*\"ИСТОРИЯ\" + 0.118*\"КОРАН\"\n"
     ]
    },
    {
     "name": "stderr",
     "output_type": "stream",
     "text": [
      "2016-10-11 18:14:48,256 : INFO : topic #1(595.536): -0.574*\"АЛЛАХ\" + 0.247*\"ИДДА\" + 0.185*\"ЖЕНЩИНА\" + 0.178*\"МУЖ\" + 0.160*\"РАЗВОД\" + -0.160*\"ПОСЛАННИК\" + 0.157*\"ИСТОРИЯ\" + 0.142*\"ИСЛАМСКИЙ\" + 0.136*\"РАМАДАН\" + 0.122*\"САЙТ\"\n"
     ]
    },
    {
     "name": "stderr",
     "output_type": "stream",
     "text": [
      "2016-10-11 18:14:48,259 : INFO : topic #2(540.252): -0.454*\"ИДДА\" + -0.326*\"МУЖ\" + -0.315*\"ЖЕНЩИНА\" + -0.223*\"РАЗВОД\" + -0.202*\"АЛЛАХ\" + -0.188*\"ЖЕНА\" + -0.176*\"СРОК\" + 0.142*\"ИСТОРИЯ\" + 0.127*\"РАМАДАН\" + -0.122*\"ПЕРИОД\"\n"
     ]
    },
    {
     "name": "stderr",
     "output_type": "stream",
     "text": [
      "2016-10-11 18:14:48,260 : INFO : topic #3(417.202): 0.287*\"ИМАМ\" + 0.285*\"КОТОРЫЙ\" + 0.256*\"ЧЕЛОВЕК\" + -0.242*\"АЛЛАХ\" + -0.187*\"РАМАДАН\" + 0.180*\"КНИГА\" + 0.154*\"СЛОВО\" + -0.150*\"МИР\" + -0.136*\"НАМАЗ\" + 0.128*\"УЧЁНЫЙ\"\n"
     ]
    },
    {
     "name": "stderr",
     "output_type": "stream",
     "text": [
      "2016-10-11 18:14:48,263 : INFO : topic #4(369.859): -0.466*\"ИМАМ\" + 0.328*\"ЧЕЛОВЕК\" + -0.275*\"УМ\" + -0.252*\"КНИГА\" + -0.241*\"ГОД\" + -0.202*\"АЛЛАХ\" + -0.171*\"УЧЁНЫЙ\" + -0.166*\"АБА\" + 0.124*\"КОТОРЫЙ\" + -0.116*\"БИОГРАФИЯ\"\n"
     ]
    },
    {
     "name": "stderr",
     "output_type": "stream",
     "text": [
      "2016-10-11 18:14:48,279 : INFO : preparing a new chunk of documents\n"
     ]
    },
    {
     "name": "stderr",
     "output_type": "stream",
     "text": [
      "2016-10-11 18:14:48,282 : INFO : using 100 extra samples and 2 power iterations\n"
     ]
    },
    {
     "name": "stderr",
     "output_type": "stream",
     "text": [
      "2016-10-11 18:14:48,282 : INFO : 1st phase: constructing (24774L, 200L) action matrix\n"
     ]
    },
    {
     "name": "stderr",
     "output_type": "stream",
     "text": [
      "2016-10-11 18:14:48,286 : INFO : orthonormalizing (24774L, 200L) action matrix\n"
     ]
    },
    {
     "name": "stderr",
     "output_type": "stream",
     "text": [
      "2016-10-11 18:14:49,707 : INFO : 2nd phase: running dense svd on (200L, 20L) matrix\n"
     ]
    },
    {
     "name": "stderr",
     "output_type": "stream",
     "text": [
      "2016-10-11 18:14:49,737 : INFO : computing the final decomposition\n"
     ]
    },
    {
     "name": "stderr",
     "output_type": "stream",
     "text": [
      "2016-10-11 18:14:49,739 : INFO : keeping 3 factors (discarding 0.000% of energy spectrum)\n"
     ]
    },
    {
     "name": "stderr",
     "output_type": "stream",
     "text": [
      "2016-10-11 18:14:49,750 : INFO : merging projections: (24774L, 100L) + (24774L, 3L)\n"
     ]
    },
    {
     "name": "stderr",
     "output_type": "stream",
     "text": [
      "2016-10-11 18:14:49,796 : INFO : keeping 100 factors (discarding 0.035% of energy spectrum)\n"
     ]
    },
    {
     "name": "stderr",
     "output_type": "stream",
     "text": [
      "2016-10-11 18:14:49,858 : INFO : processed documents up to #1900\n"
     ]
    },
    {
     "name": "stderr",
     "output_type": "stream",
     "text": [
      "2016-10-11 18:14:49,861 : INFO : topic #0(1558.025): 0.492*\"АЛЛАХ\" + 0.272*\"КОТОРЫЙ\" + 0.220*\"ЧЕЛОВЕК\" + 0.171*\"МИР\" + 0.152*\"СКАЗАТЬ\" + 0.150*\"СВОЙ\" + 0.150*\"ПРОРОК\" + 0.142*\"ВОПРОС\" + 0.130*\"ИСТОРИЯ\" + 0.118*\"КОРАН\"\n"
     ]
    },
    {
     "name": "stderr",
     "output_type": "stream",
     "text": [
      "2016-10-11 18:14:49,862 : INFO : topic #1(596.087): -0.577*\"АЛЛАХ\" + 0.243*\"ИДДА\" + 0.182*\"ЖЕНЩИНА\" + 0.176*\"МУЖ\" + -0.161*\"ПОСЛАННИК\" + 0.158*\"РАЗВОД\" + 0.157*\"ИСТОРИЯ\" + 0.142*\"ИСЛАМСКИЙ\" + 0.136*\"РАМАДАН\" + 0.122*\"САЙТ\"\n"
     ]
    },
    {
     "name": "stderr",
     "output_type": "stream",
     "text": [
      "2016-10-11 18:14:49,865 : INFO : topic #2(540.572): -0.456*\"ИДДА\" + -0.327*\"МУЖ\" + -0.316*\"ЖЕНЩИНА\" + -0.224*\"РАЗВОД\" + -0.200*\"АЛЛАХ\" + -0.189*\"ЖЕНА\" + -0.177*\"СРОК\" + 0.140*\"ИСТОРИЯ\" + 0.125*\"РАМАДАН\" + -0.123*\"ПЕРИОД\"\n"
     ]
    },
    {
     "name": "stderr",
     "output_type": "stream",
     "text": [
      "2016-10-11 18:14:49,867 : INFO : topic #3(419.848): 0.285*\"КОТОРЫЙ\" + 0.282*\"ИМАМ\" + 0.269*\"ЧЕЛОВЕК\" + -0.240*\"АЛЛАХ\" + -0.189*\"РАМАДАН\" + 0.173*\"КНИГА\" + 0.153*\"СЛОВО\" + -0.151*\"МИР\" + -0.134*\"НАМАЗ\" + -0.125*\"ПОСТ\"\n"
     ]
    },
    {
     "name": "stderr",
     "output_type": "stream",
     "text": [
      "2016-10-11 18:14:49,868 : INFO : topic #4(370.061): -0.469*\"ИМАМ\" + 0.327*\"ЧЕЛОВЕК\" + -0.277*\"УМ\" + -0.256*\"КНИГА\" + -0.242*\"ГОД\" + -0.197*\"АЛЛАХ\" + -0.173*\"УЧЁНЫЙ\" + -0.167*\"АБА\" + 0.119*\"КОТОРЫЙ\" + -0.117*\"БИОГРАФИЯ\"\n"
     ]
    },
    {
     "name": "stderr",
     "output_type": "stream",
     "text": [
      "2016-10-11 18:14:49,875 : INFO : preparing a new chunk of documents\n"
     ]
    },
    {
     "name": "stderr",
     "output_type": "stream",
     "text": [
      "2016-10-11 18:14:49,878 : INFO : using 100 extra samples and 2 power iterations\n"
     ]
    },
    {
     "name": "stderr",
     "output_type": "stream",
     "text": [
      "2016-10-11 18:14:49,878 : INFO : 1st phase: constructing (24774L, 200L) action matrix\n"
     ]
    },
    {
     "name": "stderr",
     "output_type": "stream",
     "text": [
      "2016-10-11 18:14:49,881 : INFO : orthonormalizing (24774L, 200L) action matrix\n"
     ]
    },
    {
     "name": "stderr",
     "output_type": "stream",
     "text": [
      "2016-10-11 18:14:51,292 : INFO : 2nd phase: running dense svd on (200L, 20L) matrix\n"
     ]
    },
    {
     "name": "stderr",
     "output_type": "stream",
     "text": [
      "2016-10-11 18:14:51,322 : INFO : computing the final decomposition\n"
     ]
    },
    {
     "name": "stderr",
     "output_type": "stream",
     "text": [
      "2016-10-11 18:14:51,323 : INFO : keeping 2 factors (discarding 0.000% of energy spectrum)\n"
     ]
    },
    {
     "name": "stderr",
     "output_type": "stream",
     "text": [
      "2016-10-11 18:14:51,334 : INFO : merging projections: (24774L, 100L) + (24774L, 2L)\n"
     ]
    },
    {
     "name": "stderr",
     "output_type": "stream",
     "text": [
      "2016-10-11 18:14:51,380 : INFO : keeping 100 factors (discarding 0.026% of energy spectrum)\n"
     ]
    },
    {
     "name": "stderr",
     "output_type": "stream",
     "text": [
      "2016-10-11 18:14:51,438 : INFO : processed documents up to #1920\n"
     ]
    },
    {
     "name": "stderr",
     "output_type": "stream",
     "text": [
      "2016-10-11 18:14:51,440 : INFO : topic #0(1558.531): 0.492*\"АЛЛАХ\" + 0.272*\"КОТОРЫЙ\" + 0.220*\"ЧЕЛОВЕК\" + 0.171*\"МИР\" + 0.152*\"СКАЗАТЬ\" + 0.150*\"СВОЙ\" + 0.150*\"ПРОРОК\" + 0.142*\"ВОПРОС\" + 0.130*\"ИСТОРИЯ\" + 0.118*\"КОРАН\"\n"
     ]
    },
    {
     "name": "stderr",
     "output_type": "stream",
     "text": [
      "2016-10-11 18:14:51,444 : INFO : topic #1(596.187): -0.577*\"АЛЛАХ\" + 0.242*\"ИДДА\" + 0.182*\"ЖЕНЩИНА\" + 0.175*\"МУЖ\" + -0.161*\"ПОСЛАННИК\" + 0.158*\"РАЗВОД\" + 0.158*\"ИСТОРИЯ\" + 0.142*\"ИСЛАМСКИЙ\" + 0.136*\"РАМАДАН\" + 0.122*\"САЙТ\"\n"
     ]
    },
    {
     "name": "stderr",
     "output_type": "stream",
     "text": [
      "2016-10-11 18:14:51,446 : INFO : topic #2(540.623): -0.457*\"ИДДА\" + -0.328*\"МУЖ\" + -0.316*\"ЖЕНЩИНА\" + -0.224*\"РАЗВОД\" + -0.200*\"АЛЛАХ\" + -0.189*\"ЖЕНА\" + -0.177*\"СРОК\" + 0.139*\"ИСТОРИЯ\" + 0.125*\"РАМАДАН\" + -0.123*\"ПЕРИОД\"\n"
     ]
    },
    {
     "name": "stderr",
     "output_type": "stream",
     "text": [
      "2016-10-11 18:14:51,447 : INFO : topic #3(419.887): 0.285*\"КОТОРЫЙ\" + 0.283*\"ИМАМ\" + 0.269*\"ЧЕЛОВЕК\" + -0.240*\"АЛЛАХ\" + -0.189*\"РАМАДАН\" + 0.174*\"КНИГА\" + 0.153*\"СЛОВО\" + -0.151*\"МИР\" + -0.134*\"НАМАЗ\" + -0.125*\"ПОСТ\"\n"
     ]
    },
    {
     "name": "stderr",
     "output_type": "stream",
     "text": [
      "2016-10-11 18:14:51,450 : INFO : topic #4(370.082): -0.469*\"ИМАМ\" + 0.328*\"ЧЕЛОВЕК\" + -0.277*\"УМ\" + -0.256*\"КНИГА\" + -0.242*\"ГОД\" + -0.197*\"АЛЛАХ\" + -0.173*\"УЧЁНЫЙ\" + -0.167*\"АБА\" + 0.119*\"КОТОРЫЙ\" + -0.117*\"БИОГРАФИЯ\"\n"
     ]
    },
    {
     "name": "stderr",
     "output_type": "stream",
     "text": [
      "2016-10-11 18:14:51,457 : INFO : preparing a new chunk of documents\n"
     ]
    },
    {
     "name": "stderr",
     "output_type": "stream",
     "text": [
      "2016-10-11 18:14:51,459 : INFO : using 100 extra samples and 2 power iterations\n"
     ]
    },
    {
     "name": "stderr",
     "output_type": "stream",
     "text": [
      "2016-10-11 18:14:51,460 : INFO : 1st phase: constructing (24774L, 200L) action matrix\n"
     ]
    },
    {
     "name": "stderr",
     "output_type": "stream",
     "text": [
      "2016-10-11 18:14:51,463 : INFO : orthonormalizing (24774L, 200L) action matrix\n"
     ]
    },
    {
     "name": "stderr",
     "output_type": "stream",
     "text": [
      "2016-10-11 18:14:52,859 : INFO : 2nd phase: running dense svd on (200L, 20L) matrix\n"
     ]
    },
    {
     "name": "stderr",
     "output_type": "stream",
     "text": [
      "2016-10-11 18:14:52,888 : INFO : computing the final decomposition\n"
     ]
    },
    {
     "name": "stderr",
     "output_type": "stream",
     "text": [
      "2016-10-11 18:14:52,891 : INFO : keeping 2 factors (discarding 0.000% of energy spectrum)\n"
     ]
    },
    {
     "name": "stderr",
     "output_type": "stream",
     "text": [
      "2016-10-11 18:14:52,901 : INFO : merging projections: (24774L, 100L) + (24774L, 2L)\n"
     ]
    },
    {
     "name": "stderr",
     "output_type": "stream",
     "text": [
      "2016-10-11 18:14:52,947 : INFO : keeping 100 factors (discarding 0.020% of energy spectrum)\n"
     ]
    },
    {
     "name": "stderr",
     "output_type": "stream",
     "text": [
      "2016-10-11 18:14:53,006 : INFO : processed documents up to #1940\n"
     ]
    },
    {
     "name": "stderr",
     "output_type": "stream",
     "text": [
      "2016-10-11 18:14:53,009 : INFO : topic #0(1558.818): 0.492*\"АЛЛАХ\" + 0.272*\"КОТОРЫЙ\" + 0.220*\"ЧЕЛОВЕК\" + 0.171*\"МИР\" + 0.152*\"СКАЗАТЬ\" + 0.150*\"СВОЙ\" + 0.150*\"ПРОРОК\" + 0.142*\"ВОПРОС\" + 0.130*\"ИСТОРИЯ\" + 0.118*\"КОРАН\"\n"
     ]
    },
    {
     "name": "stderr",
     "output_type": "stream",
     "text": [
      "2016-10-11 18:14:53,009 : INFO : topic #1(596.332): -0.578*\"АЛЛАХ\" + 0.242*\"ИДДА\" + 0.181*\"ЖЕНЩИНА\" + 0.175*\"МУЖ\" + -0.161*\"ПОСЛАННИК\" + 0.158*\"ИСТОРИЯ\" + 0.158*\"РАЗВОД\" + 0.142*\"ИСЛАМСКИЙ\" + 0.136*\"РАМАДАН\" + 0.122*\"САЙТ\"\n"
     ]
    },
    {
     "name": "stderr",
     "output_type": "stream",
     "text": [
      "2016-10-11 18:14:53,013 : INFO : topic #2(540.706): -0.457*\"ИДДА\" + -0.328*\"МУЖ\" + -0.317*\"ЖЕНЩИНА\" + -0.225*\"РАЗВОД\" + -0.198*\"АЛЛАХ\" + -0.190*\"ЖЕНА\" + -0.177*\"СРОК\" + 0.139*\"ИСТОРИЯ\" + 0.124*\"РАМАДАН\" + -0.123*\"ПЕРИОД\"\n"
     ]
    },
    {
     "name": "stderr",
     "output_type": "stream",
     "text": [
      "2016-10-11 18:14:53,015 : INFO : topic #3(419.901): 0.285*\"КОТОРЫЙ\" + 0.283*\"ИМАМ\" + 0.269*\"ЧЕЛОВЕК\" + -0.240*\"АЛЛАХ\" + -0.188*\"РАМАДАН\" + 0.174*\"КНИГА\" + 0.153*\"СЛОВО\" + -0.151*\"МИР\" + -0.134*\"НАМАЗ\" + -0.125*\"ПОСТ\"\n"
     ]
    },
    {
     "name": "stderr",
     "output_type": "stream",
     "text": [
      "2016-10-11 18:14:53,016 : INFO : topic #4(370.091): -0.469*\"ИМАМ\" + 0.328*\"ЧЕЛОВЕК\" + -0.277*\"УМ\" + -0.256*\"КНИГА\" + -0.242*\"ГОД\" + -0.197*\"АЛЛАХ\" + -0.173*\"УЧЁНЫЙ\" + -0.167*\"АБА\" + 0.119*\"КОТОРЫЙ\" + -0.117*\"БИОГРАФИЯ\"\n"
     ]
    },
    {
     "name": "stderr",
     "output_type": "stream",
     "text": [
      "2016-10-11 18:14:53,022 : INFO : preparing a new chunk of documents\n"
     ]
    },
    {
     "name": "stderr",
     "output_type": "stream",
     "text": [
      "2016-10-11 18:14:53,023 : INFO : using 100 extra samples and 2 power iterations\n"
     ]
    },
    {
     "name": "stderr",
     "output_type": "stream",
     "text": [
      "2016-10-11 18:14:53,023 : INFO : 1st phase: constructing (24774L, 200L) action matrix\n"
     ]
    },
    {
     "name": "stderr",
     "output_type": "stream",
     "text": [
      "2016-10-11 18:14:53,026 : INFO : orthonormalizing (24774L, 200L) action matrix\n"
     ]
    },
    {
     "name": "stderr",
     "output_type": "stream",
     "text": [
      "2016-10-11 18:14:54,480 : INFO : 2nd phase: running dense svd on (200L, 20L) matrix\n"
     ]
    },
    {
     "name": "stderr",
     "output_type": "stream",
     "text": [
      "2016-10-11 18:14:54,513 : INFO : computing the final decomposition\n"
     ]
    },
    {
     "name": "stderr",
     "output_type": "stream",
     "text": [
      "2016-10-11 18:14:54,513 : INFO : keeping 1 factors (discarding 0.000% of energy spectrum)\n"
     ]
    },
    {
     "name": "stderr",
     "output_type": "stream",
     "text": [
      "2016-10-11 18:14:54,523 : INFO : merging projections: (24774L, 100L) + (24774L, 1L)\n"
     ]
    },
    {
     "name": "stderr",
     "output_type": "stream",
     "text": [
      "2016-10-11 18:14:54,569 : INFO : keeping 100 factors (discarding 0.015% of energy spectrum)\n"
     ]
    },
    {
     "name": "stderr",
     "output_type": "stream",
     "text": [
      "2016-10-11 18:14:54,630 : INFO : processed documents up to #1960\n"
     ]
    },
    {
     "name": "stderr",
     "output_type": "stream",
     "text": [
      "2016-10-11 18:14:54,631 : INFO : topic #0(1559.006): 0.492*\"АЛЛАХ\" + 0.272*\"КОТОРЫЙ\" + 0.220*\"ЧЕЛОВЕК\" + 0.171*\"МИР\" + 0.152*\"СКАЗАТЬ\" + 0.150*\"СВОЙ\" + 0.150*\"ПРОРОК\" + 0.142*\"ВОПРОС\" + 0.130*\"ИСТОРИЯ\" + 0.118*\"КОРАН\"\n"
     ]
    },
    {
     "name": "stderr",
     "output_type": "stream",
     "text": [
      "2016-10-11 18:14:54,634 : INFO : topic #1(596.381): -0.578*\"АЛЛАХ\" + 0.241*\"ИДДА\" + 0.181*\"ЖЕНЩИНА\" + 0.174*\"МУЖ\" + -0.161*\"ПОСЛАННИК\" + 0.158*\"ИСТОРИЯ\" + 0.157*\"РАЗВОД\" + 0.142*\"ИСЛАМСКИЙ\" + 0.136*\"РАМАДАН\" + 0.122*\"САЙТ\"\n"
     ]
    },
    {
     "name": "stderr",
     "output_type": "stream",
     "text": [
      "2016-10-11 18:14:54,635 : INFO : topic #2(540.743): -0.457*\"ИДДА\" + -0.328*\"МУЖ\" + -0.317*\"ЖЕНЩИНА\" + -0.225*\"РАЗВОД\" + -0.198*\"АЛЛАХ\" + -0.190*\"ЖЕНА\" + -0.177*\"СРОК\" + 0.139*\"ИСТОРИЯ\" + 0.124*\"РАМАДАН\" + -0.123*\"ПЕРИОД\"\n"
     ]
    },
    {
     "name": "stderr",
     "output_type": "stream",
     "text": [
      "2016-10-11 18:14:54,638 : INFO : topic #3(419.902): 0.285*\"КОТОРЫЙ\" + 0.283*\"ИМАМ\" + 0.269*\"ЧЕЛОВЕК\" + -0.240*\"АЛЛАХ\" + -0.188*\"РАМАДАН\" + 0.174*\"КНИГА\" + 0.153*\"СЛОВО\" + -0.151*\"МИР\" + -0.134*\"НАМАЗ\" + -0.125*\"ПОСТ\"\n"
     ]
    },
    {
     "name": "stderr",
     "output_type": "stream",
     "text": [
      "2016-10-11 18:14:54,641 : INFO : topic #4(370.091): -0.469*\"ИМАМ\" + 0.328*\"ЧЕЛОВЕК\" + -0.277*\"УМ\" + -0.256*\"КНИГА\" + -0.241*\"ГОД\" + -0.197*\"АЛЛАХ\" + -0.173*\"УЧЁНЫЙ\" + -0.167*\"АБА\" + 0.119*\"КОТОРЫЙ\" + -0.117*\"БИОГРАФИЯ\"\n"
     ]
    },
    {
     "name": "stderr",
     "output_type": "stream",
     "text": [
      "2016-10-11 18:14:54,648 : INFO : preparing a new chunk of documents\n"
     ]
    },
    {
     "name": "stderr",
     "output_type": "stream",
     "text": [
      "2016-10-11 18:14:54,650 : INFO : using 100 extra samples and 2 power iterations\n"
     ]
    },
    {
     "name": "stderr",
     "output_type": "stream",
     "text": [
      "2016-10-11 18:14:54,651 : INFO : 1st phase: constructing (24774L, 200L) action matrix\n"
     ]
    },
    {
     "name": "stderr",
     "output_type": "stream",
     "text": [
      "2016-10-11 18:14:54,654 : INFO : orthonormalizing (24774L, 200L) action matrix\n"
     ]
    },
    {
     "name": "stderr",
     "output_type": "stream",
     "text": [
      "2016-10-11 18:14:55,914 : INFO : 2nd phase: running dense svd on (200L, 20L) matrix\n"
     ]
    },
    {
     "name": "stderr",
     "output_type": "stream",
     "text": [
      "2016-10-11 18:14:55,946 : INFO : computing the final decomposition\n"
     ]
    },
    {
     "name": "stderr",
     "output_type": "stream",
     "text": [
      "2016-10-11 18:14:55,947 : INFO : keeping 2 factors (discarding 0.000% of energy spectrum)\n"
     ]
    },
    {
     "name": "stderr",
     "output_type": "stream",
     "text": [
      "2016-10-11 18:14:55,957 : INFO : merging projections: (24774L, 100L) + (24774L, 2L)\n"
     ]
    },
    {
     "name": "stderr",
     "output_type": "stream",
     "text": [
      "2016-10-11 18:14:56,003 : INFO : keeping 100 factors (discarding 0.013% of energy spectrum)\n"
     ]
    },
    {
     "name": "stderr",
     "output_type": "stream",
     "text": [
      "2016-10-11 18:14:56,059 : INFO : processed documents up to #1980\n"
     ]
    },
    {
     "name": "stderr",
     "output_type": "stream",
     "text": [
      "2016-10-11 18:14:56,062 : INFO : topic #0(1559.562): 0.492*\"АЛЛАХ\" + 0.272*\"КОТОРЫЙ\" + 0.220*\"ЧЕЛОВЕК\" + 0.171*\"МИР\" + 0.152*\"СКАЗАТЬ\" + 0.150*\"СВОЙ\" + 0.150*\"ПРОРОК\" + 0.142*\"ВОПРОС\" + 0.130*\"ИСТОРИЯ\" + 0.118*\"КОРАН\"\n"
     ]
    },
    {
     "name": "stderr",
     "output_type": "stream",
     "text": [
      "2016-10-11 18:14:56,065 : INFO : topic #1(596.381): -0.578*\"АЛЛАХ\" + 0.241*\"ИДДА\" + 0.181*\"ЖЕНЩИНА\" + 0.174*\"МУЖ\" + -0.161*\"ПОСЛАННИК\" + 0.158*\"ИСТОРИЯ\" + 0.157*\"РАЗВОД\" + 0.142*\"ИСЛАМСКИЙ\" + 0.136*\"РАМАДАН\" + 0.122*\"САЙТ\"\n"
     ]
    },
    {
     "name": "stderr",
     "output_type": "stream",
     "text": [
      "2016-10-11 18:14:56,066 : INFO : topic #2(540.781): -0.457*\"ИДДА\" + -0.328*\"МУЖ\" + -0.317*\"ЖЕНЩИНА\" + -0.225*\"РАЗВОД\" + -0.198*\"АЛЛАХ\" + -0.190*\"ЖЕНА\" + -0.177*\"СРОК\" + 0.139*\"ИСТОРИЯ\" + 0.124*\"РАМАДАН\" + -0.123*\"ПЕРИОД\"\n"
     ]
    },
    {
     "name": "stderr",
     "output_type": "stream",
     "text": [
      "2016-10-11 18:14:56,069 : INFO : topic #3(419.989): 0.285*\"КОТОРЫЙ\" + 0.283*\"ИМАМ\" + 0.269*\"ЧЕЛОВЕК\" + -0.240*\"АЛЛАХ\" + -0.188*\"РАМАДАН\" + 0.174*\"КНИГА\" + 0.152*\"СЛОВО\" + -0.151*\"МИР\" + -0.134*\"НАМАЗ\" + -0.125*\"ПОСТ\"\n"
     ]
    },
    {
     "name": "stderr",
     "output_type": "stream",
     "text": [
      "2016-10-11 18:14:56,071 : INFO : topic #4(370.099): -0.469*\"ИМАМ\" + 0.328*\"ЧЕЛОВЕК\" + -0.277*\"УМ\" + -0.256*\"КНИГА\" + -0.241*\"ГОД\" + -0.197*\"АЛЛАХ\" + -0.173*\"УЧЁНЫЙ\" + -0.167*\"АБА\" + 0.119*\"КОТОРЫЙ\" + -0.117*\"БИОГРАФИЯ\"\n"
     ]
    },
    {
     "name": "stderr",
     "output_type": "stream",
     "text": [
      "2016-10-11 18:14:56,082 : INFO : preparing a new chunk of documents\n"
     ]
    },
    {
     "name": "stderr",
     "output_type": "stream",
     "text": [
      "2016-10-11 18:14:56,085 : INFO : using 100 extra samples and 2 power iterations\n"
     ]
    },
    {
     "name": "stderr",
     "output_type": "stream",
     "text": [
      "2016-10-11 18:14:56,085 : INFO : 1st phase: constructing (24774L, 200L) action matrix\n"
     ]
    },
    {
     "name": "stderr",
     "output_type": "stream",
     "text": [
      "2016-10-11 18:14:56,088 : INFO : orthonormalizing (24774L, 200L) action matrix\n"
     ]
    },
    {
     "name": "stderr",
     "output_type": "stream",
     "text": [
      "2016-10-11 18:14:57,319 : INFO : 2nd phase: running dense svd on (200L, 20L) matrix\n"
     ]
    },
    {
     "name": "stderr",
     "output_type": "stream",
     "text": [
      "2016-10-11 18:14:57,348 : INFO : computing the final decomposition\n"
     ]
    },
    {
     "name": "stderr",
     "output_type": "stream",
     "text": [
      "2016-10-11 18:14:57,349 : INFO : keeping 3 factors (discarding 0.000% of energy spectrum)\n"
     ]
    },
    {
     "name": "stderr",
     "output_type": "stream",
     "text": [
      "2016-10-11 18:14:57,361 : INFO : merging projections: (24774L, 100L) + (24774L, 3L)\n"
     ]
    },
    {
     "name": "stderr",
     "output_type": "stream",
     "text": [
      "2016-10-11 18:14:57,404 : INFO : keeping 100 factors (discarding 0.015% of energy spectrum)\n"
     ]
    },
    {
     "name": "stderr",
     "output_type": "stream",
     "text": [
      "2016-10-11 18:14:57,463 : INFO : processed documents up to #2000\n"
     ]
    },
    {
     "name": "stderr",
     "output_type": "stream",
     "text": [
      "2016-10-11 18:14:57,464 : INFO : topic #0(1560.106): 0.492*\"АЛЛАХ\" + 0.272*\"КОТОРЫЙ\" + 0.220*\"ЧЕЛОВЕК\" + 0.171*\"МИР\" + 0.152*\"СКАЗАТЬ\" + 0.150*\"СВОЙ\" + 0.150*\"ПРОРОК\" + 0.142*\"ВОПРОС\" + 0.130*\"ИСТОРИЯ\" + 0.118*\"КОРАН\"\n"
     ]
    },
    {
     "name": "stderr",
     "output_type": "stream",
     "text": [
      "2016-10-11 18:14:57,467 : INFO : topic #1(596.467): -0.578*\"АЛЛАХ\" + 0.241*\"ИДДА\" + 0.181*\"ЖЕНЩИНА\" + 0.174*\"МУЖ\" + -0.161*\"ПОСЛАННИК\" + 0.158*\"ИСТОРИЯ\" + 0.157*\"РАЗВОД\" + 0.142*\"ИСЛАМСКИЙ\" + 0.136*\"РАМАДАН\" + 0.123*\"САЙТ\"\n"
     ]
    },
    {
     "name": "stderr",
     "output_type": "stream",
     "text": [
      "2016-10-11 18:14:57,470 : INFO : topic #2(540.889): -0.457*\"ИДДА\" + -0.328*\"МУЖ\" + -0.317*\"ЖЕНЩИНА\" + -0.225*\"РАЗВОД\" + -0.197*\"АЛЛАХ\" + -0.190*\"ЖЕНА\" + -0.177*\"СРОК\" + 0.139*\"ИСТОРИЯ\" + 0.124*\"РАМАДАН\" + -0.123*\"ПЕРИОД\"\n"
     ]
    },
    {
     "name": "stderr",
     "output_type": "stream",
     "text": [
      "2016-10-11 18:14:57,471 : INFO : topic #3(420.098): 0.285*\"КОТОРЫЙ\" + 0.284*\"ИМАМ\" + 0.268*\"ЧЕЛОВЕК\" + -0.240*\"АЛЛАХ\" + -0.188*\"РАМАДАН\" + 0.174*\"КНИГА\" + 0.152*\"СЛОВО\" + -0.151*\"МИР\" + -0.133*\"НАМАЗ\" + 0.125*\"УЧЁНЫЙ\"\n"
     ]
    },
    {
     "name": "stderr",
     "output_type": "stream",
     "text": [
      "2016-10-11 18:14:57,473 : INFO : topic #4(370.122): -0.469*\"ИМАМ\" + 0.328*\"ЧЕЛОВЕК\" + -0.277*\"УМ\" + -0.256*\"КНИГА\" + -0.241*\"ГОД\" + -0.197*\"АЛЛАХ\" + -0.173*\"УЧЁНЫЙ\" + -0.167*\"АБА\" + 0.120*\"КОТОРЫЙ\" + -0.117*\"БИОГРАФИЯ\"\n"
     ]
    },
    {
     "name": "stderr",
     "output_type": "stream",
     "text": [
      "2016-10-11 18:14:57,480 : INFO : preparing a new chunk of documents\n"
     ]
    },
    {
     "name": "stderr",
     "output_type": "stream",
     "text": [
      "2016-10-11 18:14:57,482 : INFO : using 100 extra samples and 2 power iterations\n"
     ]
    },
    {
     "name": "stderr",
     "output_type": "stream",
     "text": [
      "2016-10-11 18:14:57,483 : INFO : 1st phase: constructing (24774L, 200L) action matrix\n"
     ]
    },
    {
     "name": "stderr",
     "output_type": "stream",
     "text": [
      "2016-10-11 18:14:57,484 : INFO : orthonormalizing (24774L, 200L) action matrix\n"
     ]
    },
    {
     "name": "stderr",
     "output_type": "stream",
     "text": [
      "2016-10-11 18:14:58,724 : INFO : 2nd phase: running dense svd on (200L, 20L) matrix\n"
     ]
    },
    {
     "name": "stderr",
     "output_type": "stream",
     "text": [
      "2016-10-11 18:14:58,756 : INFO : computing the final decomposition\n"
     ]
    },
    {
     "name": "stderr",
     "output_type": "stream",
     "text": [
      "2016-10-11 18:14:58,756 : INFO : keeping 2 factors (discarding 0.000% of energy spectrum)\n"
     ]
    },
    {
     "name": "stderr",
     "output_type": "stream",
     "text": [
      "2016-10-11 18:14:58,766 : INFO : merging projections: (24774L, 100L) + (24774L, 2L)\n"
     ]
    },
    {
     "name": "stderr",
     "output_type": "stream",
     "text": [
      "2016-10-11 18:14:58,812 : INFO : keeping 100 factors (discarding 0.009% of energy spectrum)\n"
     ]
    },
    {
     "name": "stderr",
     "output_type": "stream",
     "text": [
      "2016-10-11 18:14:58,871 : INFO : processed documents up to #2020\n"
     ]
    },
    {
     "name": "stderr",
     "output_type": "stream",
     "text": [
      "2016-10-11 18:14:58,874 : INFO : topic #0(1560.338): 0.492*\"АЛЛАХ\" + 0.272*\"КОТОРЫЙ\" + 0.220*\"ЧЕЛОВЕК\" + 0.171*\"МИР\" + 0.152*\"СКАЗАТЬ\" + 0.150*\"СВОЙ\" + 0.150*\"ПРОРОК\" + 0.142*\"ВОПРОС\" + 0.130*\"ИСТОРИЯ\" + 0.118*\"КОРАН\"\n"
     ]
    },
    {
     "name": "stderr",
     "output_type": "stream",
     "text": [
      "2016-10-11 18:14:58,875 : INFO : topic #1(596.574): -0.579*\"АЛЛАХ\" + 0.240*\"ИДДА\" + 0.180*\"ЖЕНЩИНА\" + 0.173*\"МУЖ\" + -0.161*\"ПОСЛАННИК\" + 0.158*\"ИСТОРИЯ\" + 0.157*\"РАЗВОД\" + 0.142*\"ИСЛАМСКИЙ\" + 0.137*\"РАМАДАН\" + 0.123*\"САЙТ\"\n"
     ]
    },
    {
     "name": "stderr",
     "output_type": "stream",
     "text": [
      "2016-10-11 18:14:58,878 : INFO : topic #2(540.997): -0.458*\"ИДДА\" + -0.328*\"МУЖ\" + -0.318*\"ЖЕНЩИНА\" + -0.225*\"РАЗВОД\" + -0.196*\"АЛЛАХ\" + -0.190*\"ЖЕНА\" + -0.178*\"СРОК\" + 0.139*\"ИСТОРИЯ\" + 0.124*\"РАМАДАН\" + -0.123*\"ПЕРИОД\"\n"
     ]
    },
    {
     "name": "stderr",
     "output_type": "stream",
     "text": [
      "2016-10-11 18:14:58,880 : INFO : topic #3(420.137): 0.285*\"КОТОРЫЙ\" + 0.284*\"ИМАМ\" + 0.268*\"ЧЕЛОВЕК\" + -0.241*\"АЛЛАХ\" + -0.188*\"РАМАДАН\" + 0.174*\"КНИГА\" + 0.152*\"СЛОВО\" + -0.151*\"МИР\" + -0.133*\"НАМАЗ\" + 0.125*\"УЧЁНЫЙ\"\n"
     ]
    },
    {
     "name": "stderr",
     "output_type": "stream",
     "text": [
      "2016-10-11 18:14:58,881 : INFO : topic #4(370.135): -0.468*\"ИМАМ\" + 0.328*\"ЧЕЛОВЕК\" + -0.277*\"УМ\" + -0.256*\"КНИГА\" + -0.241*\"ГОД\" + -0.198*\"АЛЛАХ\" + -0.173*\"УЧЁНЫЙ\" + -0.167*\"АБА\" + 0.120*\"КОТОРЫЙ\" + -0.117*\"БИОГРАФИЯ\"\n"
     ]
    },
    {
     "name": "stderr",
     "output_type": "stream",
     "text": [
      "2016-10-11 18:14:58,887 : INFO : preparing a new chunk of documents\n"
     ]
    },
    {
     "name": "stderr",
     "output_type": "stream",
     "text": [
      "2016-10-11 18:14:58,888 : INFO : using 100 extra samples and 2 power iterations\n"
     ]
    },
    {
     "name": "stderr",
     "output_type": "stream",
     "text": [
      "2016-10-11 18:14:58,890 : INFO : 1st phase: constructing (24774L, 200L) action matrix\n"
     ]
    },
    {
     "name": "stderr",
     "output_type": "stream",
     "text": [
      "2016-10-11 18:14:58,891 : INFO : orthonormalizing (24774L, 200L) action matrix\n"
     ]
    },
    {
     "name": "stderr",
     "output_type": "stream",
     "text": [
      "2016-10-11 18:15:00,088 : INFO : 2nd phase: running dense svd on (200L, 20L) matrix\n"
     ]
    },
    {
     "name": "stderr",
     "output_type": "stream",
     "text": [
      "2016-10-11 18:15:00,121 : INFO : computing the final decomposition\n"
     ]
    },
    {
     "name": "stderr",
     "output_type": "stream",
     "text": [
      "2016-10-11 18:15:00,122 : INFO : keeping 2 factors (discarding 0.000% of energy spectrum)\n"
     ]
    },
    {
     "name": "stderr",
     "output_type": "stream",
     "text": [
      "2016-10-11 18:15:00,132 : INFO : merging projections: (24774L, 100L) + (24774L, 2L)\n"
     ]
    },
    {
     "name": "stderr",
     "output_type": "stream",
     "text": [
      "2016-10-11 18:15:00,177 : INFO : keeping 100 factors (discarding 0.003% of energy spectrum)\n"
     ]
    },
    {
     "name": "stderr",
     "output_type": "stream",
     "text": [
      "2016-10-11 18:15:00,236 : INFO : processed documents up to #2040\n"
     ]
    },
    {
     "name": "stderr",
     "output_type": "stream",
     "text": [
      "2016-10-11 18:15:00,237 : INFO : topic #0(1560.493): 0.492*\"АЛЛАХ\" + 0.272*\"КОТОРЫЙ\" + 0.220*\"ЧЕЛОВЕК\" + 0.171*\"МИР\" + 0.152*\"СКАЗАТЬ\" + 0.150*\"СВОЙ\" + 0.150*\"ПРОРОК\" + 0.142*\"ВОПРОС\" + 0.131*\"ИСТОРИЯ\" + 0.118*\"КОРАН\"\n"
     ]
    },
    {
     "name": "stderr",
     "output_type": "stream",
     "text": [
      "2016-10-11 18:15:00,240 : INFO : topic #1(596.626): -0.579*\"АЛЛАХ\" + 0.239*\"ИДДА\" + 0.180*\"ЖЕНЩИНА\" + 0.173*\"МУЖ\" + -0.161*\"ПОСЛАННИК\" + 0.159*\"ИСТОРИЯ\" + 0.157*\"РАЗВОД\" + 0.143*\"ИСЛАМСКИЙ\" + 0.137*\"РАМАДАН\" + 0.123*\"САЙТ\"\n"
     ]
    },
    {
     "name": "stderr",
     "output_type": "stream",
     "text": [
      "2016-10-11 18:15:00,242 : INFO : topic #2(541.059): -0.458*\"ИДДА\" + -0.329*\"МУЖ\" + -0.318*\"ЖЕНЩИНА\" + -0.225*\"РАЗВОД\" + -0.195*\"АЛЛАХ\" + -0.190*\"ЖЕНА\" + -0.178*\"СРОК\" + 0.139*\"ИСТОРИЯ\" + 0.124*\"РАМАДАН\" + -0.124*\"ПЕРИОД\"\n"
     ]
    },
    {
     "name": "stderr",
     "output_type": "stream",
     "text": [
      "2016-10-11 18:15:00,243 : INFO : topic #3(420.223): 0.285*\"КОТОРЫЙ\" + 0.284*\"ИМАМ\" + 0.268*\"ЧЕЛОВЕК\" + -0.241*\"АЛЛАХ\" + -0.188*\"РАМАДАН\" + 0.174*\"КНИГА\" + 0.152*\"СЛОВО\" + -0.151*\"МИР\" + -0.133*\"НАМАЗ\" + 0.125*\"УЧЁНЫЙ\"\n"
     ]
    },
    {
     "name": "stderr",
     "output_type": "stream",
     "text": [
      "2016-10-11 18:15:00,246 : INFO : topic #4(370.137): -0.468*\"ИМАМ\" + 0.329*\"ЧЕЛОВЕК\" + -0.277*\"УМ\" + -0.256*\"КНИГА\" + -0.241*\"ГОД\" + -0.198*\"АЛЛАХ\" + -0.173*\"УЧЁНЫЙ\" + -0.167*\"АБА\" + 0.120*\"КОТОРЫЙ\" + -0.117*\"БИОГРАФИЯ\"\n"
     ]
    },
    {
     "name": "stderr",
     "output_type": "stream",
     "text": [
      "2016-10-11 18:15:00,250 : INFO : preparing a new chunk of documents\n"
     ]
    },
    {
     "name": "stderr",
     "output_type": "stream",
     "text": [
      "2016-10-11 18:15:00,252 : INFO : using 100 extra samples and 2 power iterations\n"
     ]
    },
    {
     "name": "stderr",
     "output_type": "stream",
     "text": [
      "2016-10-11 18:15:00,253 : INFO : 1st phase: constructing (24774L, 200L) action matrix\n"
     ]
    },
    {
     "name": "stderr",
     "output_type": "stream",
     "text": [
      "2016-10-11 18:15:00,256 : INFO : orthonormalizing (24774L, 200L) action matrix\n"
     ]
    },
    {
     "name": "stderr",
     "output_type": "stream",
     "text": [
      "2016-10-11 18:15:01,526 : INFO : 2nd phase: running dense svd on (200L, 20L) matrix\n"
     ]
    },
    {
     "name": "stderr",
     "output_type": "stream",
     "text": [
      "2016-10-11 18:15:01,553 : INFO : computing the final decomposition\n"
     ]
    },
    {
     "name": "stderr",
     "output_type": "stream",
     "text": [
      "2016-10-11 18:15:01,555 : INFO : keeping 1 factors (discarding 0.000% of energy spectrum)\n"
     ]
    },
    {
     "name": "stderr",
     "output_type": "stream",
     "text": [
      "2016-10-11 18:15:01,563 : INFO : merging projections: (24774L, 100L) + (24774L, 1L)\n"
     ]
    },
    {
     "name": "stderr",
     "output_type": "stream",
     "text": [
      "2016-10-11 18:15:01,605 : INFO : keeping 100 factors (discarding 0.006% of energy spectrum)\n"
     ]
    },
    {
     "name": "stderr",
     "output_type": "stream",
     "text": [
      "2016-10-11 18:15:01,657 : INFO : processed documents up to #2060\n"
     ]
    },
    {
     "name": "stderr",
     "output_type": "stream",
     "text": [
      "2016-10-11 18:15:01,658 : INFO : topic #0(1560.743): 0.492*\"АЛЛАХ\" + 0.271*\"КОТОРЫЙ\" + 0.220*\"ЧЕЛОВЕК\" + 0.172*\"МИР\" + 0.152*\"СКАЗАТЬ\" + 0.150*\"СВОЙ\" + 0.150*\"ПРОРОК\" + 0.142*\"ВОПРОС\" + 0.131*\"ИСТОРИЯ\" + 0.118*\"КОРАН\"\n"
     ]
    },
    {
     "name": "stderr",
     "output_type": "stream",
     "text": [
      "2016-10-11 18:15:01,661 : INFO : topic #1(596.626): -0.579*\"АЛЛАХ\" + 0.239*\"ИДДА\" + 0.180*\"ЖЕНЩИНА\" + 0.173*\"МУЖ\" + -0.161*\"ПОСЛАННИК\" + 0.159*\"ИСТОРИЯ\" + 0.157*\"РАЗВОД\" + 0.143*\"ИСЛАМСКИЙ\" + 0.137*\"РАМАДАН\" + 0.123*\"САЙТ\"\n"
     ]
    },
    {
     "name": "stderr",
     "output_type": "stream",
     "text": [
      "2016-10-11 18:15:01,664 : INFO : topic #2(541.079): -0.458*\"ИДДА\" + -0.329*\"МУЖ\" + -0.318*\"ЖЕНЩИНА\" + -0.225*\"РАЗВОД\" + -0.195*\"АЛЛАХ\" + -0.190*\"ЖЕНА\" + -0.178*\"СРОК\" + 0.139*\"ИСТОРИЯ\" + 0.124*\"РАМАДАН\" + -0.124*\"ПЕРИОД\"\n"
     ]
    },
    {
     "name": "stderr",
     "output_type": "stream",
     "text": [
      "2016-10-11 18:15:01,665 : INFO : topic #3(420.320): 0.285*\"КОТОРЫЙ\" + 0.284*\"ИМАМ\" + 0.269*\"ЧЕЛОВЕК\" + -0.241*\"АЛЛАХ\" + -0.187*\"РАМАДАН\" + 0.174*\"КНИГА\" + 0.152*\"СЛОВО\" + -0.151*\"МИР\" + -0.132*\"НАМАЗ\" + 0.125*\"УЧЁНЫЙ\"\n"
     ]
    },
    {
     "name": "stderr",
     "output_type": "stream",
     "text": [
      "2016-10-11 18:15:01,667 : INFO : topic #4(370.138): -0.468*\"ИМАМ\" + 0.328*\"ЧЕЛОВЕК\" + -0.277*\"УМ\" + -0.256*\"КНИГА\" + -0.241*\"ГОД\" + -0.198*\"АЛЛАХ\" + -0.173*\"УЧЁНЫЙ\" + -0.167*\"АБА\" + 0.120*\"КОТОРЫЙ\" + -0.117*\"БИОГРАФИЯ\"\n"
     ]
    },
    {
     "name": "stderr",
     "output_type": "stream",
     "text": [
      "2016-10-11 18:15:01,674 : INFO : preparing a new chunk of documents\n"
     ]
    },
    {
     "name": "stderr",
     "output_type": "stream",
     "text": [
      "2016-10-11 18:15:01,676 : INFO : using 100 extra samples and 2 power iterations\n"
     ]
    },
    {
     "name": "stderr",
     "output_type": "stream",
     "text": [
      "2016-10-11 18:15:01,677 : INFO : 1st phase: constructing (24774L, 200L) action matrix\n"
     ]
    },
    {
     "name": "stderr",
     "output_type": "stream",
     "text": [
      "2016-10-11 18:15:01,680 : INFO : orthonormalizing (24774L, 200L) action matrix\n"
     ]
    },
    {
     "name": "stderr",
     "output_type": "stream",
     "text": [
      "2016-10-11 18:15:02,917 : INFO : 2nd phase: running dense svd on (200L, 20L) matrix\n"
     ]
    },
    {
     "name": "stderr",
     "output_type": "stream",
     "text": [
      "2016-10-11 18:15:02,947 : INFO : computing the final decomposition\n"
     ]
    },
    {
     "name": "stderr",
     "output_type": "stream",
     "text": [
      "2016-10-11 18:15:02,947 : INFO : keeping 2 factors (discarding 0.000% of energy spectrum)\n"
     ]
    },
    {
     "name": "stderr",
     "output_type": "stream",
     "text": [
      "2016-10-11 18:15:02,957 : INFO : merging projections: (24774L, 100L) + (24774L, 2L)\n"
     ]
    },
    {
     "name": "stderr",
     "output_type": "stream",
     "text": [
      "2016-10-11 18:15:03,002 : INFO : keeping 100 factors (discarding 0.013% of energy spectrum)\n"
     ]
    },
    {
     "name": "stderr",
     "output_type": "stream",
     "text": [
      "2016-10-11 18:15:03,052 : INFO : processed documents up to #2080\n"
     ]
    },
    {
     "name": "stderr",
     "output_type": "stream",
     "text": [
      "2016-10-11 18:15:03,053 : INFO : topic #0(1561.382): 0.492*\"АЛЛАХ\" + 0.271*\"КОТОРЫЙ\" + 0.220*\"ЧЕЛОВЕК\" + 0.172*\"МИР\" + 0.152*\"СКАЗАТЬ\" + 0.150*\"СВОЙ\" + 0.150*\"ПРОРОК\" + 0.142*\"ВОПРОС\" + 0.131*\"ИСТОРИЯ\" + 0.118*\"КОРАН\"\n"
     ]
    },
    {
     "name": "stderr",
     "output_type": "stream",
     "text": [
      "2016-10-11 18:15:03,055 : INFO : topic #1(596.641): -0.579*\"АЛЛАХ\" + 0.239*\"ИДДА\" + 0.180*\"ЖЕНЩИНА\" + 0.173*\"МУЖ\" + -0.161*\"ПОСЛАННИК\" + 0.159*\"ИСТОРИЯ\" + 0.157*\"РАЗВОД\" + 0.143*\"ИСЛАМСКИЙ\" + 0.137*\"РАМАДАН\" + 0.123*\"САЙТ\"\n"
     ]
    },
    {
     "name": "stderr",
     "output_type": "stream",
     "text": [
      "2016-10-11 18:15:03,058 : INFO : topic #2(541.113): -0.458*\"ИДДА\" + -0.329*\"МУЖ\" + -0.318*\"ЖЕНЩИНА\" + -0.225*\"РАЗВОД\" + -0.195*\"АЛЛАХ\" + -0.190*\"ЖЕНА\" + -0.178*\"СРОК\" + 0.139*\"ИСТОРИЯ\" + 0.124*\"РАМАДАН\" + -0.123*\"ПЕРИОД\"\n"
     ]
    },
    {
     "name": "stderr",
     "output_type": "stream",
     "text": [
      "2016-10-11 18:15:03,059 : INFO : topic #3(420.421): 0.285*\"КОТОРЫЙ\" + 0.284*\"ИМАМ\" + 0.269*\"ЧЕЛОВЕК\" + -0.241*\"АЛЛАХ\" + -0.187*\"РАМАДАН\" + 0.174*\"КНИГА\" + 0.152*\"СЛОВО\" + -0.151*\"МИР\" + -0.132*\"НАМАЗ\" + 0.125*\"УЧЁНЫЙ\"\n"
     ]
    },
    {
     "name": "stderr",
     "output_type": "stream",
     "text": [
      "2016-10-11 18:15:03,062 : INFO : topic #4(370.148): -0.469*\"ИМАМ\" + 0.328*\"ЧЕЛОВЕК\" + -0.277*\"УМ\" + -0.256*\"КНИГА\" + -0.241*\"ГОД\" + -0.198*\"АЛЛАХ\" + -0.173*\"УЧЁНЫЙ\" + -0.167*\"АБА\" + 0.120*\"КОТОРЫЙ\" + -0.117*\"БИОГРАФИЯ\"\n"
     ]
    },
    {
     "name": "stderr",
     "output_type": "stream",
     "text": [
      "2016-10-11 18:15:03,069 : INFO : preparing a new chunk of documents\n"
     ]
    },
    {
     "name": "stderr",
     "output_type": "stream",
     "text": [
      "2016-10-11 18:15:03,072 : INFO : using 100 extra samples and 2 power iterations\n"
     ]
    },
    {
     "name": "stderr",
     "output_type": "stream",
     "text": [
      "2016-10-11 18:15:03,072 : INFO : 1st phase: constructing (24774L, 200L) action matrix\n"
     ]
    },
    {
     "name": "stderr",
     "output_type": "stream",
     "text": [
      "2016-10-11 18:15:03,075 : INFO : orthonormalizing (24774L, 200L) action matrix\n"
     ]
    },
    {
     "name": "stderr",
     "output_type": "stream",
     "text": [
      "2016-10-11 18:15:04,328 : INFO : 2nd phase: running dense svd on (200L, 20L) matrix\n"
     ]
    },
    {
     "name": "stderr",
     "output_type": "stream",
     "text": [
      "2016-10-11 18:15:04,361 : INFO : computing the final decomposition\n"
     ]
    },
    {
     "name": "stderr",
     "output_type": "stream",
     "text": [
      "2016-10-11 18:15:04,364 : INFO : keeping 2 factors (discarding 0.000% of energy spectrum)\n"
     ]
    },
    {
     "name": "stderr",
     "output_type": "stream",
     "text": [
      "2016-10-11 18:15:04,375 : INFO : merging projections: (24774L, 100L) + (24774L, 2L)\n"
     ]
    },
    {
     "name": "stderr",
     "output_type": "stream",
     "text": [
      "2016-10-11 18:15:04,420 : INFO : keeping 100 factors (discarding 0.011% of energy spectrum)\n"
     ]
    },
    {
     "name": "stderr",
     "output_type": "stream",
     "text": [
      "2016-10-11 18:15:04,470 : INFO : processed documents up to #2100\n"
     ]
    },
    {
     "name": "stderr",
     "output_type": "stream",
     "text": [
      "2016-10-11 18:15:04,473 : INFO : topic #0(1561.820): 0.492*\"АЛЛАХ\" + 0.271*\"КОТОРЫЙ\" + 0.220*\"ЧЕЛОВЕК\" + 0.172*\"МИР\" + 0.152*\"СКАЗАТЬ\" + 0.150*\"СВОЙ\" + 0.150*\"ПРОРОК\" + 0.142*\"ВОПРОС\" + 0.131*\"ИСТОРИЯ\" + 0.118*\"КОРАН\"\n"
     ]
    },
    {
     "name": "stderr",
     "output_type": "stream",
     "text": [
      "2016-10-11 18:15:04,474 : INFO : topic #1(596.718): -0.579*\"АЛЛАХ\" + 0.239*\"ИДДА\" + 0.179*\"ЖЕНЩИНА\" + 0.173*\"МУЖ\" + -0.161*\"ПОСЛАННИК\" + 0.159*\"ИСТОРИЯ\" + 0.156*\"РАЗВОД\" + 0.143*\"ИСЛАМСКИЙ\" + 0.137*\"РАМАДАН\" + 0.123*\"САЙТ\"\n"
     ]
    },
    {
     "name": "stderr",
     "output_type": "stream",
     "text": [
      "2016-10-11 18:15:04,476 : INFO : topic #2(541.216): -0.458*\"ИДДА\" + -0.329*\"МУЖ\" + -0.318*\"ЖЕНЩИНА\" + -0.225*\"РАЗВОД\" + -0.194*\"АЛЛАХ\" + -0.190*\"ЖЕНА\" + -0.178*\"СРОК\" + 0.139*\"ИСТОРИЯ\" + 0.124*\"РАМАДАН\" + -0.124*\"ПЕРИОД\"\n"
     ]
    },
    {
     "name": "stderr",
     "output_type": "stream",
     "text": [
      "2016-10-11 18:15:04,479 : INFO : topic #3(420.459): 0.285*\"КОТОРЫЙ\" + 0.284*\"ИМАМ\" + 0.269*\"ЧЕЛОВЕК\" + -0.242*\"АЛЛАХ\" + -0.187*\"РАМАДАН\" + 0.174*\"КНИГА\" + 0.152*\"СЛОВО\" + -0.151*\"МИР\" + -0.131*\"НАМАЗ\" + 0.125*\"УЧЁНЫЙ\"\n"
     ]
    },
    {
     "name": "stderr",
     "output_type": "stream",
     "text": [
      "2016-10-11 18:15:04,480 : INFO : topic #4(370.178): -0.469*\"ИМАМ\" + 0.329*\"ЧЕЛОВЕК\" + -0.277*\"УМ\" + -0.256*\"КНИГА\" + -0.241*\"ГОД\" + -0.197*\"АЛЛАХ\" + -0.173*\"УЧЁНЫЙ\" + -0.167*\"АБА\" + 0.120*\"КОТОРЫЙ\" + -0.117*\"БИОГРАФИЯ\"\n"
     ]
    },
    {
     "name": "stderr",
     "output_type": "stream",
     "text": [
      "2016-10-11 18:15:04,492 : INFO : preparing a new chunk of documents\n"
     ]
    },
    {
     "name": "stderr",
     "output_type": "stream",
     "text": [
      "2016-10-11 18:15:04,493 : INFO : using 100 extra samples and 2 power iterations\n"
     ]
    },
    {
     "name": "stderr",
     "output_type": "stream",
     "text": [
      "2016-10-11 18:15:04,494 : INFO : 1st phase: constructing (24774L, 200L) action matrix\n"
     ]
    },
    {
     "name": "stderr",
     "output_type": "stream",
     "text": [
      "2016-10-11 18:15:04,497 : INFO : orthonormalizing (24774L, 200L) action matrix\n"
     ]
    },
    {
     "name": "stderr",
     "output_type": "stream",
     "text": [
      "2016-10-11 18:15:05,762 : INFO : 2nd phase: running dense svd on (200L, 20L) matrix\n"
     ]
    },
    {
     "name": "stderr",
     "output_type": "stream",
     "text": [
      "2016-10-11 18:15:05,793 : INFO : computing the final decomposition\n"
     ]
    },
    {
     "name": "stderr",
     "output_type": "stream",
     "text": [
      "2016-10-11 18:15:05,795 : INFO : keeping 3 factors (discarding 0.000% of energy spectrum)\n"
     ]
    },
    {
     "name": "stderr",
     "output_type": "stream",
     "text": [
      "2016-10-11 18:15:05,808 : INFO : merging projections: (24774L, 100L) + (24774L, 3L)\n"
     ]
    },
    {
     "name": "stderr",
     "output_type": "stream",
     "text": [
      "2016-10-11 18:15:05,851 : INFO : keeping 100 factors (discarding 0.020% of energy spectrum)\n"
     ]
    },
    {
     "name": "stderr",
     "output_type": "stream",
     "text": [
      "2016-10-11 18:15:05,913 : INFO : processed documents up to #2120\n"
     ]
    },
    {
     "name": "stderr",
     "output_type": "stream",
     "text": [
      "2016-10-11 18:15:05,915 : INFO : topic #0(1562.350): 0.492*\"АЛЛАХ\" + 0.271*\"КОТОРЫЙ\" + 0.220*\"ЧЕЛОВЕК\" + 0.172*\"МИР\" + 0.152*\"СКАЗАТЬ\" + 0.150*\"СВОЙ\" + 0.150*\"ПРОРОК\" + 0.142*\"ВОПРОС\" + 0.131*\"ИСТОРИЯ\" + 0.118*\"КОРАН\"\n"
     ]
    },
    {
     "name": "stderr",
     "output_type": "stream",
     "text": [
      "2016-10-11 18:15:05,917 : INFO : topic #1(596.927): -0.580*\"АЛЛАХ\" + 0.237*\"ИДДА\" + 0.178*\"ЖЕНЩИНА\" + 0.171*\"МУЖ\" + -0.161*\"ПОСЛАННИК\" + 0.159*\"ИСТОРИЯ\" + 0.156*\"РАЗВОД\" + 0.143*\"ИСЛАМСКИЙ\" + 0.137*\"РАМАДАН\" + 0.124*\"САЙТ\"\n"
     ]
    },
    {
     "name": "stderr",
     "output_type": "stream",
     "text": [
      "2016-10-11 18:15:05,920 : INFO : topic #2(541.393): -0.459*\"ИДДА\" + -0.329*\"МУЖ\" + -0.318*\"ЖЕНЩИНА\" + -0.226*\"РАЗВОД\" + -0.192*\"АЛЛАХ\" + -0.191*\"ЖЕНА\" + -0.178*\"СРОК\" + 0.138*\"ИСТОРИЯ\" + -0.124*\"ПЕРИОД\" + 0.123*\"РАМАДАН\"\n"
     ]
    },
    {
     "name": "stderr",
     "output_type": "stream",
     "text": [
      "2016-10-11 18:15:05,921 : INFO : topic #3(420.516): 0.285*\"КОТОРЫЙ\" + 0.284*\"ИМАМ\" + 0.268*\"ЧЕЛОВЕК\" + -0.242*\"АЛЛАХ\" + -0.187*\"РАМАДАН\" + 0.174*\"КНИГА\" + 0.152*\"СЛОВО\" + -0.151*\"МИР\" + -0.131*\"НАМАЗ\" + 0.125*\"УЧЁНЫЙ\"\n"
     ]
    },
    {
     "name": "stderr",
     "output_type": "stream",
     "text": [
      "2016-10-11 18:15:05,924 : INFO : topic #4(370.193): -0.469*\"ИМАМ\" + 0.329*\"ЧЕЛОВЕК\" + -0.277*\"УМ\" + -0.256*\"КНИГА\" + -0.241*\"ГОД\" + -0.197*\"АЛЛАХ\" + -0.173*\"УЧЁНЫЙ\" + -0.167*\"АБА\" + 0.120*\"КОТОРЫЙ\" + -0.117*\"БИОГРАФИЯ\"\n"
     ]
    },
    {
     "name": "stderr",
     "output_type": "stream",
     "text": [
      "2016-10-11 18:15:05,930 : INFO : preparing a new chunk of documents\n"
     ]
    },
    {
     "name": "stderr",
     "output_type": "stream",
     "text": [
      "2016-10-11 18:15:05,933 : INFO : using 100 extra samples and 2 power iterations\n"
     ]
    },
    {
     "name": "stderr",
     "output_type": "stream",
     "text": [
      "2016-10-11 18:15:05,934 : INFO : 1st phase: constructing (24774L, 200L) action matrix\n"
     ]
    },
    {
     "name": "stderr",
     "output_type": "stream",
     "text": [
      "2016-10-11 18:15:05,936 : INFO : orthonormalizing (24774L, 200L) action matrix\n"
     ]
    },
    {
     "name": "stderr",
     "output_type": "stream",
     "text": [
      "2016-10-11 18:15:07,177 : INFO : 2nd phase: running dense svd on (200L, 20L) matrix\n"
     ]
    },
    {
     "name": "stderr",
     "output_type": "stream",
     "text": [
      "2016-10-11 18:15:07,209 : INFO : computing the final decomposition\n"
     ]
    },
    {
     "name": "stderr",
     "output_type": "stream",
     "text": [
      "2016-10-11 18:15:07,210 : INFO : keeping 2 factors (discarding 0.000% of energy spectrum)\n"
     ]
    },
    {
     "name": "stderr",
     "output_type": "stream",
     "text": [
      "2016-10-11 18:15:07,220 : INFO : merging projections: (24774L, 100L) + (24774L, 2L)\n"
     ]
    },
    {
     "name": "stderr",
     "output_type": "stream",
     "text": [
      "2016-10-11 18:15:07,263 : INFO : keeping 100 factors (discarding 0.011% of energy spectrum)\n"
     ]
    },
    {
     "name": "stderr",
     "output_type": "stream",
     "text": [
      "2016-10-11 18:15:07,323 : INFO : processed documents up to #2140\n"
     ]
    },
    {
     "name": "stderr",
     "output_type": "stream",
     "text": [
      "2016-10-11 18:15:07,325 : INFO : topic #0(1562.902): 0.492*\"АЛЛАХ\" + 0.271*\"КОТОРЫЙ\" + 0.220*\"ЧЕЛОВЕК\" + 0.172*\"МИР\" + 0.152*\"СКАЗАТЬ\" + 0.150*\"СВОЙ\" + 0.150*\"ПРОРОК\" + 0.142*\"ВОПРОС\" + 0.131*\"ИСТОРИЯ\" + 0.118*\"КОРАН\"\n"
     ]
    },
    {
     "name": "stderr",
     "output_type": "stream",
     "text": [
      "2016-10-11 18:15:07,328 : INFO : topic #1(596.935): -0.580*\"АЛЛАХ\" + 0.237*\"ИДДА\" + 0.178*\"ЖЕНЩИНА\" + 0.171*\"МУЖ\" + -0.161*\"ПОСЛАННИК\" + 0.159*\"ИСТОРИЯ\" + 0.155*\"РАЗВОД\" + 0.143*\"ИСЛАМСКИЙ\" + 0.137*\"РАМАДАН\" + 0.124*\"САЙТ\"\n"
     ]
    },
    {
     "name": "stderr",
     "output_type": "stream",
     "text": [
      "2016-10-11 18:15:07,329 : INFO : topic #2(541.453): -0.459*\"ИДДА\" + -0.329*\"МУЖ\" + -0.318*\"ЖЕНЩИНА\" + -0.226*\"РАЗВОД\" + -0.192*\"АЛЛАХ\" + -0.191*\"ЖЕНА\" + -0.178*\"СРОК\" + 0.138*\"ИСТОРИЯ\" + -0.124*\"ПЕРИОД\" + 0.123*\"РАМАДАН\"\n"
     ]
    },
    {
     "name": "stderr",
     "output_type": "stream",
     "text": [
      "2016-10-11 18:15:07,332 : INFO : topic #3(420.595): 0.285*\"КОТОРЫЙ\" + 0.285*\"ИМАМ\" + 0.268*\"ЧЕЛОВЕК\" + -0.242*\"АЛЛАХ\" + -0.187*\"РАМАДАН\" + 0.174*\"КНИГА\" + 0.152*\"СЛОВО\" + -0.151*\"МИР\" + -0.131*\"НАМАЗ\" + 0.125*\"УЧЁНЫЙ\"\n"
     ]
    },
    {
     "name": "stderr",
     "output_type": "stream",
     "text": [
      "2016-10-11 18:15:07,335 : INFO : topic #4(370.208): -0.469*\"ИМАМ\" + 0.329*\"ЧЕЛОВЕК\" + -0.277*\"УМ\" + -0.256*\"КНИГА\" + -0.241*\"ГОД\" + -0.197*\"АЛЛАХ\" + -0.173*\"УЧЁНЫЙ\" + -0.167*\"АБА\" + 0.120*\"КОТОРЫЙ\" + -0.117*\"БИОГРАФИЯ\"\n"
     ]
    },
    {
     "name": "stderr",
     "output_type": "stream",
     "text": [
      "2016-10-11 18:15:07,338 : INFO : preparing a new chunk of documents\n"
     ]
    },
    {
     "name": "stderr",
     "output_type": "stream",
     "text": [
      "2016-10-11 18:15:07,341 : INFO : using 100 extra samples and 2 power iterations\n"
     ]
    },
    {
     "name": "stderr",
     "output_type": "stream",
     "text": [
      "2016-10-11 18:15:07,342 : INFO : 1st phase: constructing (24774L, 200L) action matrix\n"
     ]
    },
    {
     "name": "stderr",
     "output_type": "stream",
     "text": [
      "2016-10-11 18:15:07,344 : INFO : orthonormalizing (24774L, 200L) action matrix\n"
     ]
    },
    {
     "name": "stderr",
     "output_type": "stream",
     "text": [
      "2016-10-11 18:15:08,609 : INFO : 2nd phase: running dense svd on (200L, 20L) matrix\n"
     ]
    },
    {
     "name": "stderr",
     "output_type": "stream",
     "text": [
      "2016-10-11 18:15:08,638 : INFO : computing the final decomposition\n"
     ]
    },
    {
     "name": "stderr",
     "output_type": "stream",
     "text": [
      "2016-10-11 18:15:08,640 : INFO : keeping 1 factors (discarding 0.000% of energy spectrum)\n"
     ]
    },
    {
     "name": "stderr",
     "output_type": "stream",
     "text": [
      "2016-10-11 18:15:08,648 : INFO : merging projections: (24774L, 100L) + (24774L, 1L)\n"
     ]
    },
    {
     "name": "stderr",
     "output_type": "stream",
     "text": [
      "2016-10-11 18:15:08,688 : INFO : keeping 100 factors (discarding 0.005% of energy spectrum)\n"
     ]
    },
    {
     "name": "stderr",
     "output_type": "stream",
     "text": [
      "2016-10-11 18:15:08,749 : INFO : processed documents up to #2160\n"
     ]
    },
    {
     "name": "stderr",
     "output_type": "stream",
     "text": [
      "2016-10-11 18:15:08,750 : INFO : topic #0(1563.041): 0.492*\"АЛЛАХ\" + 0.271*\"КОТОРЫЙ\" + 0.220*\"ЧЕЛОВЕК\" + 0.172*\"МИР\" + 0.152*\"СКАЗАТЬ\" + 0.150*\"СВОЙ\" + 0.150*\"ПРОРОК\" + 0.142*\"ВОПРОС\" + 0.131*\"ИСТОРИЯ\" + 0.118*\"КОРАН\"\n"
     ]
    },
    {
     "name": "stderr",
     "output_type": "stream",
     "text": [
      "2016-10-11 18:15:08,753 : INFO : topic #1(596.998): -0.580*\"АЛЛАХ\" + 0.237*\"ИДДА\" + 0.178*\"ЖЕНЩИНА\" + 0.171*\"МУЖ\" + -0.161*\"ПОСЛАННИК\" + 0.159*\"ИСТОРИЯ\" + 0.155*\"РАЗВОД\" + 0.143*\"ИСЛАМСКИЙ\" + 0.137*\"РАМАДАН\" + 0.124*\"САЙТ\"\n"
     ]
    },
    {
     "name": "stderr",
     "output_type": "stream",
     "text": [
      "2016-10-11 18:15:08,755 : INFO : topic #2(541.511): -0.459*\"ИДДА\" + -0.329*\"МУЖ\" + -0.319*\"ЖЕНЩИНА\" + -0.226*\"РАЗВОД\" + -0.191*\"АЛЛАХ\" + -0.191*\"ЖЕНА\" + -0.178*\"СРОК\" + 0.138*\"ИСТОРИЯ\" + -0.124*\"ПЕРИОД\" + 0.123*\"РАМАДАН\"\n"
     ]
    },
    {
     "name": "stderr",
     "output_type": "stream",
     "text": [
      "2016-10-11 18:15:08,757 : INFO : topic #3(420.621): 0.286*\"КОТОРЫЙ\" + 0.285*\"ИМАМ\" + 0.268*\"ЧЕЛОВЕК\" + -0.242*\"АЛЛАХ\" + -0.186*\"РАМАДАН\" + 0.174*\"КНИГА\" + 0.152*\"СЛОВО\" + -0.151*\"МИР\" + -0.131*\"НАМАЗ\" + 0.125*\"УЧЁНЫЙ\"\n"
     ]
    },
    {
     "name": "stderr",
     "output_type": "stream",
     "text": [
      "2016-10-11 18:15:08,759 : INFO : topic #4(370.208): -0.469*\"ИМАМ\" + 0.329*\"ЧЕЛОВЕК\" + -0.277*\"УМ\" + -0.256*\"КНИГА\" + -0.241*\"ГОД\" + -0.197*\"АЛЛАХ\" + -0.173*\"УЧЁНЫЙ\" + -0.167*\"АБА\" + 0.120*\"КОТОРЫЙ\" + -0.117*\"БИОГРАФИЯ\"\n"
     ]
    },
    {
     "name": "stderr",
     "output_type": "stream",
     "text": [
      "2016-10-11 18:15:08,767 : INFO : preparing a new chunk of documents\n"
     ]
    },
    {
     "name": "stderr",
     "output_type": "stream",
     "text": [
      "2016-10-11 18:15:08,769 : INFO : using 100 extra samples and 2 power iterations\n"
     ]
    },
    {
     "name": "stderr",
     "output_type": "stream",
     "text": [
      "2016-10-11 18:15:08,770 : INFO : 1st phase: constructing (24774L, 200L) action matrix\n"
     ]
    },
    {
     "name": "stderr",
     "output_type": "stream",
     "text": [
      "2016-10-11 18:15:08,773 : INFO : orthonormalizing (24774L, 200L) action matrix\n"
     ]
    },
    {
     "name": "stderr",
     "output_type": "stream",
     "text": [
      "2016-10-11 18:15:10,035 : INFO : 2nd phase: running dense svd on (200L, 20L) matrix\n"
     ]
    },
    {
     "name": "stderr",
     "output_type": "stream",
     "text": [
      "2016-10-11 18:15:10,065 : INFO : computing the final decomposition\n"
     ]
    },
    {
     "name": "stderr",
     "output_type": "stream",
     "text": [
      "2016-10-11 18:15:10,065 : INFO : keeping 2 factors (discarding 0.000% of energy spectrum)\n"
     ]
    },
    {
     "name": "stderr",
     "output_type": "stream",
     "text": [
      "2016-10-11 18:15:10,075 : INFO : merging projections: (24774L, 100L) + (24774L, 2L)\n"
     ]
    },
    {
     "name": "stderr",
     "output_type": "stream",
     "text": [
      "2016-10-11 18:15:10,119 : INFO : keeping 100 factors (discarding 0.012% of energy spectrum)\n"
     ]
    },
    {
     "name": "stderr",
     "output_type": "stream",
     "text": [
      "2016-10-11 18:15:10,170 : INFO : processed documents up to #2180\n"
     ]
    },
    {
     "name": "stderr",
     "output_type": "stream",
     "text": [
      "2016-10-11 18:15:10,173 : INFO : topic #0(1563.252): 0.492*\"АЛЛАХ\" + 0.271*\"КОТОРЫЙ\" + 0.220*\"ЧЕЛОВЕК\" + 0.172*\"МИР\" + 0.152*\"СКАЗАТЬ\" + 0.150*\"СВОЙ\" + 0.150*\"ПРОРОК\" + 0.142*\"ВОПРОС\" + 0.131*\"ИСТОРИЯ\" + 0.118*\"КОРАН\"\n"
     ]
    },
    {
     "name": "stderr",
     "output_type": "stream",
     "text": [
      "2016-10-11 18:15:10,174 : INFO : topic #1(597.160): -0.580*\"АЛЛАХ\" + 0.236*\"ИДДА\" + 0.177*\"ЖЕНЩИНА\" + 0.170*\"МУЖ\" + -0.161*\"ПОСЛАННИК\" + 0.160*\"ИСТОРИЯ\" + 0.155*\"РАЗВОД\" + 0.144*\"ИСЛАМСКИЙ\" + 0.138*\"РАМАДАН\" + 0.124*\"САЙТ\"\n"
     ]
    },
    {
     "name": "stderr",
     "output_type": "stream",
     "text": [
      "2016-10-11 18:15:10,177 : INFO : topic #2(541.637): -0.459*\"ИДДА\" + -0.330*\"МУЖ\" + -0.319*\"ЖЕНЩИНА\" + -0.226*\"РАЗВОД\" + -0.191*\"ЖЕНА\" + -0.189*\"АЛЛАХ\" + -0.178*\"СРОК\" + 0.138*\"ИСТОРИЯ\" + -0.124*\"ПЕРИОД\" + 0.123*\"РАМАДАН\"\n"
     ]
    },
    {
     "name": "stderr",
     "output_type": "stream",
     "text": [
      "2016-10-11 18:15:10,178 : INFO : topic #3(420.664): 0.285*\"КОТОРЫЙ\" + 0.285*\"ИМАМ\" + 0.268*\"ЧЕЛОВЕК\" + -0.243*\"АЛЛАХ\" + -0.186*\"РАМАДАН\" + 0.174*\"КНИГА\" + 0.152*\"СЛОВО\" + -0.151*\"МИР\" + -0.130*\"НАМАЗ\" + 0.125*\"УЧЁНЫЙ\"\n"
     ]
    },
    {
     "name": "stderr",
     "output_type": "stream",
     "text": [
      "2016-10-11 18:15:10,180 : INFO : topic #4(370.216): -0.469*\"ИМАМ\" + 0.329*\"ЧЕЛОВЕК\" + -0.277*\"УМ\" + -0.256*\"КНИГА\" + -0.241*\"ГОД\" + -0.197*\"АЛЛАХ\" + -0.173*\"УЧЁНЫЙ\" + -0.167*\"АБА\" + 0.120*\"КОТОРЫЙ\" + -0.117*\"БИОГРАФИЯ\"\n"
     ]
    },
    {
     "name": "stderr",
     "output_type": "stream",
     "text": [
      "2016-10-11 18:15:10,187 : INFO : preparing a new chunk of documents\n"
     ]
    },
    {
     "name": "stderr",
     "output_type": "stream",
     "text": [
      "2016-10-11 18:15:10,188 : INFO : using 100 extra samples and 2 power iterations\n"
     ]
    },
    {
     "name": "stderr",
     "output_type": "stream",
     "text": [
      "2016-10-11 18:15:10,190 : INFO : 1st phase: constructing (24774L, 200L) action matrix\n"
     ]
    },
    {
     "name": "stderr",
     "output_type": "stream",
     "text": [
      "2016-10-11 18:15:10,193 : INFO : orthonormalizing (24774L, 200L) action matrix\n"
     ]
    },
    {
     "name": "stderr",
     "output_type": "stream",
     "text": [
      "2016-10-11 18:15:11,493 : INFO : 2nd phase: running dense svd on (200L, 20L) matrix\n"
     ]
    },
    {
     "name": "stderr",
     "output_type": "stream",
     "text": [
      "2016-10-11 18:15:11,522 : INFO : computing the final decomposition\n"
     ]
    },
    {
     "name": "stderr",
     "output_type": "stream",
     "text": [
      "2016-10-11 18:15:11,523 : INFO : keeping 2 factors (discarding 0.000% of energy spectrum)\n"
     ]
    },
    {
     "name": "stderr",
     "output_type": "stream",
     "text": [
      "2016-10-11 18:15:11,533 : INFO : merging projections: (24774L, 100L) + (24774L, 2L)\n"
     ]
    },
    {
     "name": "stderr",
     "output_type": "stream",
     "text": [
      "2016-10-11 18:15:11,575 : INFO : keeping 100 factors (discarding 0.008% of energy spectrum)\n"
     ]
    },
    {
     "name": "stderr",
     "output_type": "stream",
     "text": [
      "2016-10-11 18:15:11,628 : INFO : processed documents up to #2200\n"
     ]
    },
    {
     "name": "stderr",
     "output_type": "stream",
     "text": [
      "2016-10-11 18:15:11,630 : INFO : topic #0(1563.465): 0.492*\"АЛЛАХ\" + 0.271*\"КОТОРЫЙ\" + 0.220*\"ЧЕЛОВЕК\" + 0.172*\"МИР\" + 0.152*\"СКАЗАТЬ\" + 0.150*\"СВОЙ\" + 0.150*\"ПРОРОК\" + 0.142*\"ВОПРОС\" + 0.131*\"ИСТОРИЯ\" + 0.118*\"КОРАН\"\n"
     ]
    },
    {
     "name": "stderr",
     "output_type": "stream",
     "text": [
      "2016-10-11 18:15:11,631 : INFO : topic #1(597.278): -0.581*\"АЛЛАХ\" + 0.235*\"ИДДА\" + 0.176*\"ЖЕНЩИНА\" + 0.170*\"МУЖ\" + -0.161*\"ПОСЛАННИК\" + 0.160*\"ИСТОРИЯ\" + 0.154*\"РАЗВОД\" + 0.144*\"ИСЛАМСКИЙ\" + 0.138*\"РАМАДАН\" + 0.125*\"САЙТ\"\n"
     ]
    },
    {
     "name": "stderr",
     "output_type": "stream",
     "text": [
      "2016-10-11 18:15:11,634 : INFO : topic #2(541.744): -0.460*\"ИДДА\" + -0.330*\"МУЖ\" + -0.319*\"ЖЕНЩИНА\" + -0.227*\"РАЗВОД\" + -0.191*\"ЖЕНА\" + -0.188*\"АЛЛАХ\" + -0.178*\"СРОК\" + 0.137*\"ИСТОРИЯ\" + -0.124*\"ПЕРИОД\" + 0.123*\"РАМАДАН\"\n"
     ]
    },
    {
     "name": "stderr",
     "output_type": "stream",
     "text": [
      "2016-10-11 18:15:11,635 : INFO : topic #3(420.716): 0.285*\"ИМАМ\" + 0.285*\"КОТОРЫЙ\" + 0.268*\"ЧЕЛОВЕК\" + -0.243*\"АЛЛАХ\" + -0.186*\"РАМАДАН\" + 0.174*\"КНИГА\" + 0.152*\"СЛОВО\" + -0.151*\"МИР\" + -0.130*\"НАМАЗ\" + 0.125*\"УЧЁНЫЙ\"\n"
     ]
    },
    {
     "name": "stderr",
     "output_type": "stream",
     "text": [
      "2016-10-11 18:15:11,638 : INFO : topic #4(370.227): -0.469*\"ИМАМ\" + 0.329*\"ЧЕЛОВЕК\" + -0.277*\"УМ\" + -0.256*\"КНИГА\" + -0.241*\"ГОД\" + -0.197*\"АЛЛАХ\" + -0.173*\"УЧЁНЫЙ\" + -0.167*\"АБА\" + 0.120*\"КОТОРЫЙ\" + -0.117*\"БИОГРАФИЯ\"\n"
     ]
    },
    {
     "name": "stderr",
     "output_type": "stream",
     "text": [
      "2016-10-11 18:15:11,648 : INFO : preparing a new chunk of documents\n"
     ]
    },
    {
     "name": "stderr",
     "output_type": "stream",
     "text": [
      "2016-10-11 18:15:11,650 : INFO : using 100 extra samples and 2 power iterations\n"
     ]
    },
    {
     "name": "stderr",
     "output_type": "stream",
     "text": [
      "2016-10-11 18:15:11,651 : INFO : 1st phase: constructing (24774L, 200L) action matrix\n"
     ]
    },
    {
     "name": "stderr",
     "output_type": "stream",
     "text": [
      "2016-10-11 18:15:11,654 : INFO : orthonormalizing (24774L, 200L) action matrix\n"
     ]
    },
    {
     "name": "stderr",
     "output_type": "stream",
     "text": [
      "2016-10-11 18:15:13,081 : INFO : 2nd phase: running dense svd on (200L, 20L) matrix\n"
     ]
    },
    {
     "name": "stderr",
     "output_type": "stream",
     "text": [
      "2016-10-11 18:15:13,111 : INFO : computing the final decomposition\n"
     ]
    },
    {
     "name": "stderr",
     "output_type": "stream",
     "text": [
      "2016-10-11 18:15:13,111 : INFO : keeping 4 factors (discarding 0.000% of energy spectrum)\n"
     ]
    },
    {
     "name": "stderr",
     "output_type": "stream",
     "text": [
      "2016-10-11 18:15:13,122 : INFO : merging projections: (24774L, 100L) + (24774L, 4L)\n"
     ]
    },
    {
     "name": "stderr",
     "output_type": "stream",
     "text": [
      "2016-10-11 18:15:13,167 : INFO : keeping 100 factors (discarding 0.064% of energy spectrum)\n"
     ]
    },
    {
     "name": "stderr",
     "output_type": "stream",
     "text": [
      "2016-10-11 18:15:13,229 : INFO : processed documents up to #2220\n"
     ]
    },
    {
     "name": "stderr",
     "output_type": "stream",
     "text": [
      "2016-10-11 18:15:13,230 : INFO : topic #0(1564.198): 0.492*\"АЛЛАХ\" + 0.271*\"КОТОРЫЙ\" + 0.220*\"ЧЕЛОВЕК\" + 0.172*\"МИР\" + 0.151*\"СКАЗАТЬ\" + 0.150*\"СВОЙ\" + 0.149*\"ПРОРОК\" + 0.142*\"ВОПРОС\" + 0.131*\"ИСТОРИЯ\" + 0.118*\"КОРАН\"\n"
     ]
    },
    {
     "name": "stderr",
     "output_type": "stream",
     "text": [
      "2016-10-11 18:15:13,233 : INFO : topic #1(597.583): -0.582*\"АЛЛАХ\" + 0.233*\"ИДДА\" + 0.175*\"ЖЕНЩИНА\" + 0.169*\"МУЖ\" + -0.161*\"ПОСЛАННИК\" + 0.161*\"ИСТОРИЯ\" + 0.154*\"РАЗВОД\" + 0.144*\"ИСЛАМСКИЙ\" + 0.138*\"РАМАДАН\" + 0.125*\"САЙТ\"\n"
     ]
    },
    {
     "name": "stderr",
     "output_type": "stream",
     "text": [
      "2016-10-11 18:15:13,234 : INFO : topic #2(541.893): -0.460*\"ИДДА\" + -0.331*\"МУЖ\" + -0.320*\"ЖЕНЩИНА\" + -0.227*\"РАЗВОД\" + -0.191*\"ЖЕНА\" + -0.186*\"АЛЛАХ\" + -0.179*\"СРОК\" + 0.137*\"ИСТОРИЯ\" + -0.124*\"ПЕРИОД\" + -0.123*\"ДОЛЖНЫЙ\"\n"
     ]
    },
    {
     "name": "stderr",
     "output_type": "stream",
     "text": [
      "2016-10-11 18:15:13,236 : INFO : topic #3(420.953): 0.286*\"КОТОРЫЙ\" + 0.285*\"ИМАМ\" + 0.268*\"ЧЕЛОВЕК\" + -0.244*\"АЛЛАХ\" + -0.186*\"РАМАДАН\" + 0.174*\"КНИГА\" + 0.152*\"СЛОВО\" + -0.150*\"МИР\" + -0.129*\"НАМАЗ\" + 0.125*\"УЧЁНЫЙ\"\n"
     ]
    },
    {
     "name": "stderr",
     "output_type": "stream",
     "text": [
      "2016-10-11 18:15:13,239 : INFO : topic #4(370.272): -0.469*\"ИМАМ\" + 0.329*\"ЧЕЛОВЕК\" + -0.277*\"УМ\" + -0.256*\"КНИГА\" + -0.241*\"ГОД\" + -0.197*\"АЛЛАХ\" + -0.173*\"УЧЁНЫЙ\" + -0.167*\"АБА\" + 0.120*\"КОТОРЫЙ\" + -0.117*\"БИОГРАФИЯ\"\n"
     ]
    },
    {
     "name": "stderr",
     "output_type": "stream",
     "text": [
      "2016-10-11 18:15:13,243 : INFO : preparing a new chunk of documents\n"
     ]
    },
    {
     "name": "stderr",
     "output_type": "stream",
     "text": [
      "2016-10-11 18:15:13,246 : INFO : using 100 extra samples and 2 power iterations\n"
     ]
    },
    {
     "name": "stderr",
     "output_type": "stream",
     "text": [
      "2016-10-11 18:15:13,246 : INFO : 1st phase: constructing (24774L, 200L) action matrix\n"
     ]
    },
    {
     "name": "stderr",
     "output_type": "stream",
     "text": [
      "2016-10-11 18:15:13,250 : INFO : orthonormalizing (24774L, 200L) action matrix\n"
     ]
    },
    {
     "name": "stderr",
     "output_type": "stream",
     "text": [
      "2016-10-11 18:15:14,536 : INFO : 2nd phase: running dense svd on (200L, 20L) matrix\n"
     ]
    },
    {
     "name": "stderr",
     "output_type": "stream",
     "text": [
      "2016-10-11 18:15:14,566 : INFO : computing the final decomposition\n"
     ]
    },
    {
     "name": "stderr",
     "output_type": "stream",
     "text": [
      "2016-10-11 18:15:14,569 : INFO : keeping 1 factors (discarding 0.000% of energy spectrum)\n"
     ]
    },
    {
     "name": "stderr",
     "output_type": "stream",
     "text": [
      "2016-10-11 18:15:14,576 : INFO : merging projections: (24774L, 100L) + (24774L, 1L)\n"
     ]
    },
    {
     "name": "stderr",
     "output_type": "stream",
     "text": [
      "2016-10-11 18:15:14,621 : INFO : keeping 100 factors (discarding 0.004% of energy spectrum)\n"
     ]
    },
    {
     "name": "stderr",
     "output_type": "stream",
     "text": [
      "2016-10-11 18:15:14,676 : INFO : processed documents up to #2240\n"
     ]
    },
    {
     "name": "stderr",
     "output_type": "stream",
     "text": [
      "2016-10-11 18:15:14,678 : INFO : topic #0(1564.258): 0.492*\"АЛЛАХ\" + 0.271*\"КОТОРЫЙ\" + 0.220*\"ЧЕЛОВЕК\" + 0.172*\"МИР\" + 0.151*\"СКАЗАТЬ\" + 0.150*\"СВОЙ\" + 0.149*\"ПРОРОК\" + 0.142*\"ВОПРОС\" + 0.131*\"ИСТОРИЯ\" + 0.118*\"КОРАН\"\n"
     ]
    },
    {
     "name": "stderr",
     "output_type": "stream",
     "text": [
      "2016-10-11 18:15:14,680 : INFO : topic #1(597.683): -0.582*\"АЛЛАХ\" + 0.233*\"ИДДА\" + 0.175*\"ЖЕНЩИНА\" + 0.168*\"МУЖ\" + -0.161*\"ПОСЛАННИК\" + 0.161*\"ИСТОРИЯ\" + 0.153*\"РАЗВОД\" + 0.144*\"ИСЛАМСКИЙ\" + 0.138*\"РАМАДАН\" + 0.125*\"САЙТ\"\n"
     ]
    },
    {
     "name": "stderr",
     "output_type": "stream",
     "text": [
      "2016-10-11 18:15:14,683 : INFO : topic #2(541.951): -0.461*\"ИДДА\" + -0.331*\"МУЖ\" + -0.320*\"ЖЕНЩИНА\" + -0.227*\"РАЗВОД\" + -0.191*\"ЖЕНА\" + -0.185*\"АЛЛАХ\" + -0.179*\"СРОК\" + 0.137*\"ИСТОРИЯ\" + -0.124*\"ПЕРИОД\" + -0.123*\"ДОЛЖНЫЙ\"\n"
     ]
    },
    {
     "name": "stderr",
     "output_type": "stream",
     "text": [
      "2016-10-11 18:15:14,684 : INFO : topic #3(420.983): 0.286*\"КОТОРЫЙ\" + 0.285*\"ИМАМ\" + 0.268*\"ЧЕЛОВЕК\" + -0.244*\"АЛЛАХ\" + -0.186*\"РАМАДАН\" + 0.174*\"КНИГА\" + 0.151*\"СЛОВО\" + -0.150*\"МИР\" + -0.129*\"НАМАЗ\" + 0.125*\"УЧЁНЫЙ\"\n"
     ]
    },
    {
     "name": "stderr",
     "output_type": "stream",
     "text": [
      "2016-10-11 18:15:14,687 : INFO : topic #4(370.272): -0.469*\"ИМАМ\" + 0.329*\"ЧЕЛОВЕК\" + -0.277*\"УМ\" + -0.256*\"КНИГА\" + -0.241*\"ГОД\" + -0.197*\"АЛЛАХ\" + -0.173*\"УЧЁНЫЙ\" + -0.167*\"АБА\" + 0.120*\"КОТОРЫЙ\" + -0.117*\"БИОГРАФИЯ\"\n"
     ]
    },
    {
     "name": "stderr",
     "output_type": "stream",
     "text": [
      "2016-10-11 18:15:14,694 : INFO : preparing a new chunk of documents\n"
     ]
    },
    {
     "name": "stderr",
     "output_type": "stream",
     "text": [
      "2016-10-11 18:15:14,696 : INFO : using 100 extra samples and 2 power iterations\n"
     ]
    },
    {
     "name": "stderr",
     "output_type": "stream",
     "text": [
      "2016-10-11 18:15:14,697 : INFO : 1st phase: constructing (24774L, 200L) action matrix\n"
     ]
    },
    {
     "name": "stderr",
     "output_type": "stream",
     "text": [
      "2016-10-11 18:15:14,700 : INFO : orthonormalizing (24774L, 200L) action matrix\n"
     ]
    },
    {
     "name": "stderr",
     "output_type": "stream",
     "text": [
      "2016-10-11 18:15:15,947 : INFO : 2nd phase: running dense svd on (200L, 20L) matrix\n"
     ]
    },
    {
     "name": "stderr",
     "output_type": "stream",
     "text": [
      "2016-10-11 18:15:15,980 : INFO : computing the final decomposition\n"
     ]
    },
    {
     "name": "stderr",
     "output_type": "stream",
     "text": [
      "2016-10-11 18:15:15,982 : INFO : keeping 2 factors (discarding 0.000% of energy spectrum)\n"
     ]
    },
    {
     "name": "stderr",
     "output_type": "stream",
     "text": [
      "2016-10-11 18:15:15,993 : INFO : merging projections: (24774L, 100L) + (24774L, 2L)\n"
     ]
    },
    {
     "name": "stderr",
     "output_type": "stream",
     "text": [
      "2016-10-11 18:15:16,036 : INFO : keeping 100 factors (discarding 0.016% of energy spectrum)\n"
     ]
    },
    {
     "name": "stderr",
     "output_type": "stream",
     "text": [
      "2016-10-11 18:15:16,085 : INFO : processed documents up to #2260\n"
     ]
    },
    {
     "name": "stderr",
     "output_type": "stream",
     "text": [
      "2016-10-11 18:15:16,086 : INFO : topic #0(1564.585): 0.492*\"АЛЛАХ\" + 0.271*\"КОТОРЫЙ\" + 0.220*\"ЧЕЛОВЕК\" + 0.172*\"МИР\" + 0.151*\"СКАЗАТЬ\" + 0.150*\"СВОЙ\" + 0.149*\"ПРОРОК\" + 0.142*\"ВОПРОС\" + 0.131*\"ИСТОРИЯ\" + 0.118*\"КОРАН\"\n"
     ]
    },
    {
     "name": "stderr",
     "output_type": "stream",
     "text": [
      "2016-10-11 18:15:16,088 : INFO : topic #1(597.936): -0.582*\"АЛЛАХ\" + 0.231*\"ИДДА\" + 0.174*\"ЖЕНЩИНА\" + 0.167*\"МУЖ\" + -0.161*\"ПОСЛАННИК\" + 0.161*\"ИСТОРИЯ\" + 0.153*\"РАЗВОД\" + 0.145*\"ИСЛАМСКИЙ\" + 0.139*\"РАМАДАН\" + 0.126*\"САЙТ\"\n"
     ]
    },
    {
     "name": "stderr",
     "output_type": "stream",
     "text": [
      "2016-10-11 18:15:16,091 : INFO : topic #2(542.087): -0.461*\"ИДДА\" + -0.331*\"МУЖ\" + -0.321*\"ЖЕНЩИНА\" + -0.228*\"РАЗВОД\" + -0.192*\"ЖЕНА\" + -0.183*\"АЛЛАХ\" + -0.179*\"СРОК\" + 0.136*\"ИСТОРИЯ\" + -0.125*\"ПЕРИОД\" + -0.123*\"ДОЛЖНЫЙ\"\n"
     ]
    },
    {
     "name": "stderr",
     "output_type": "stream",
     "text": [
      "2016-10-11 18:15:16,092 : INFO : topic #3(421.115): 0.286*\"ИМАМ\" + 0.286*\"КОТОРЫЙ\" + 0.268*\"ЧЕЛОВЕК\" + -0.245*\"АЛЛАХ\" + -0.185*\"РАМАДАН\" + 0.174*\"КНИГА\" + 0.151*\"СЛОВО\" + -0.150*\"МИР\" + -0.129*\"НАМАЗ\" + 0.125*\"УЧЁНЫЙ\"\n"
     ]
    },
    {
     "name": "stderr",
     "output_type": "stream",
     "text": [
      "2016-10-11 18:15:16,095 : INFO : topic #4(370.324): -0.468*\"ИМАМ\" + 0.329*\"ЧЕЛОВЕК\" + -0.277*\"УМ\" + -0.256*\"КНИГА\" + -0.241*\"ГОД\" + -0.197*\"АЛЛАХ\" + -0.173*\"УЧЁНЫЙ\" + -0.167*\"АБА\" + 0.120*\"КОТОРЫЙ\" + -0.117*\"БИОГРАФИЯ\"\n"
     ]
    },
    {
     "name": "stderr",
     "output_type": "stream",
     "text": [
      "2016-10-11 18:15:16,099 : INFO : preparing a new chunk of documents\n"
     ]
    },
    {
     "name": "stderr",
     "output_type": "stream",
     "text": [
      "2016-10-11 18:15:16,101 : INFO : using 100 extra samples and 2 power iterations\n"
     ]
    },
    {
     "name": "stderr",
     "output_type": "stream",
     "text": [
      "2016-10-11 18:15:16,102 : INFO : 1st phase: constructing (24774L, 200L) action matrix\n"
     ]
    },
    {
     "name": "stderr",
     "output_type": "stream",
     "text": [
      "2016-10-11 18:15:16,105 : INFO : orthonormalizing (24774L, 200L) action matrix\n"
     ]
    },
    {
     "name": "stderr",
     "output_type": "stream",
     "text": [
      "2016-10-11 18:15:17,372 : INFO : 2nd phase: running dense svd on (200L, 20L) matrix\n"
     ]
    },
    {
     "name": "stderr",
     "output_type": "stream",
     "text": [
      "2016-10-11 18:15:17,405 : INFO : computing the final decomposition\n"
     ]
    },
    {
     "name": "stderr",
     "output_type": "stream",
     "text": [
      "2016-10-11 18:15:17,407 : INFO : keeping 2 factors (discarding 0.000% of energy spectrum)\n"
     ]
    },
    {
     "name": "stderr",
     "output_type": "stream",
     "text": [
      "2016-10-11 18:15:17,417 : INFO : merging projections: (24774L, 100L) + (24774L, 2L)\n"
     ]
    },
    {
     "name": "stderr",
     "output_type": "stream",
     "text": [
      "2016-10-11 18:15:17,463 : INFO : keeping 100 factors (discarding 0.005% of energy spectrum)\n"
     ]
    },
    {
     "name": "stderr",
     "output_type": "stream",
     "text": [
      "2016-10-11 18:15:17,517 : INFO : processed documents up to #2280\n"
     ]
    },
    {
     "name": "stderr",
     "output_type": "stream",
     "text": [
      "2016-10-11 18:15:17,519 : INFO : topic #0(1564.697): 0.492*\"АЛЛАХ\" + 0.271*\"КОТОРЫЙ\" + 0.219*\"ЧЕЛОВЕК\" + 0.172*\"МИР\" + 0.151*\"СКАЗАТЬ\" + 0.150*\"СВОЙ\" + 0.149*\"ПРОРОК\" + 0.142*\"ВОПРОС\" + 0.131*\"ИСТОРИЯ\" + 0.118*\"КОРАН\"\n"
     ]
    },
    {
     "name": "stderr",
     "output_type": "stream",
     "text": [
      "2016-10-11 18:15:17,520 : INFO : topic #1(598.105): -0.583*\"АЛЛАХ\" + 0.230*\"ИДДА\" + 0.173*\"ЖЕНЩИНА\" + 0.166*\"МУЖ\" + -0.162*\"ПОСЛАННИК\" + 0.161*\"ИСТОРИЯ\" + 0.152*\"РАЗВОД\" + 0.145*\"ИСЛАМСКИЙ\" + 0.139*\"РАМАДАН\" + 0.126*\"САЙТ\"\n"
     ]
    },
    {
     "name": "stderr",
     "output_type": "stream",
     "text": [
      "2016-10-11 18:15:17,523 : INFO : topic #2(542.174): -0.462*\"ИДДА\" + -0.332*\"МУЖ\" + -0.321*\"ЖЕНЩИНА\" + -0.228*\"РАЗВОД\" + -0.192*\"ЖЕНА\" + -0.182*\"АЛЛАХ\" + -0.179*\"СРОК\" + 0.136*\"ИСТОРИЯ\" + -0.125*\"ПЕРИОД\" + -0.123*\"ДОЛЖНЫЙ\"\n"
     ]
    },
    {
     "name": "stderr",
     "output_type": "stream",
     "text": [
      "2016-10-11 18:15:17,525 : INFO : topic #3(421.184): 0.286*\"ИМАМ\" + 0.286*\"КОТОРЫЙ\" + 0.268*\"ЧЕЛОВЕК\" + -0.245*\"АЛЛАХ\" + -0.185*\"РАМАДАН\" + 0.174*\"КНИГА\" + 0.151*\"СЛОВО\" + -0.149*\"МИР\" + -0.129*\"НАМАЗ\" + 0.125*\"УЧЁНЫЙ\"\n"
     ]
    },
    {
     "name": "stderr",
     "output_type": "stream",
     "text": [
      "2016-10-11 18:15:17,526 : INFO : topic #4(370.330): -0.468*\"ИМАМ\" + 0.329*\"ЧЕЛОВЕК\" + -0.277*\"УМ\" + -0.256*\"КНИГА\" + -0.241*\"ГОД\" + -0.197*\"АЛЛАХ\" + -0.173*\"УЧЁНЫЙ\" + -0.167*\"АБА\" + 0.120*\"КОТОРЫЙ\" + -0.117*\"БИОГРАФИЯ\"\n"
     ]
    },
    {
     "name": "stderr",
     "output_type": "stream",
     "text": [
      "2016-10-11 18:15:17,532 : INFO : preparing a new chunk of documents\n"
     ]
    },
    {
     "name": "stderr",
     "output_type": "stream",
     "text": [
      "2016-10-11 18:15:17,533 : INFO : using 100 extra samples and 2 power iterations\n"
     ]
    },
    {
     "name": "stderr",
     "output_type": "stream",
     "text": [
      "2016-10-11 18:15:17,536 : INFO : 1st phase: constructing (24774L, 200L) action matrix\n"
     ]
    },
    {
     "name": "stderr",
     "output_type": "stream",
     "text": [
      "2016-10-11 18:15:17,536 : INFO : orthonormalizing (24774L, 200L) action matrix\n"
     ]
    },
    {
     "name": "stderr",
     "output_type": "stream",
     "text": [
      "2016-10-11 18:15:18,808 : INFO : 2nd phase: running dense svd on (200L, 20L) matrix\n"
     ]
    },
    {
     "name": "stderr",
     "output_type": "stream",
     "text": [
      "2016-10-11 18:15:18,838 : INFO : computing the final decomposition\n"
     ]
    },
    {
     "name": "stderr",
     "output_type": "stream",
     "text": [
      "2016-10-11 18:15:18,839 : INFO : keeping 2 factors (discarding 0.000% of energy spectrum)\n"
     ]
    },
    {
     "name": "stderr",
     "output_type": "stream",
     "text": [
      "2016-10-11 18:15:18,851 : INFO : merging projections: (24774L, 100L) + (24774L, 2L)\n"
     ]
    },
    {
     "name": "stderr",
     "output_type": "stream",
     "text": [
      "2016-10-11 18:15:18,894 : INFO : keeping 100 factors (discarding 0.007% of energy spectrum)\n"
     ]
    },
    {
     "name": "stderr",
     "output_type": "stream",
     "text": [
      "2016-10-11 18:15:18,953 : INFO : processed documents up to #2300\n"
     ]
    },
    {
     "name": "stderr",
     "output_type": "stream",
     "text": [
      "2016-10-11 18:15:18,956 : INFO : topic #0(1564.964): 0.492*\"АЛЛАХ\" + 0.271*\"КОТОРЫЙ\" + 0.219*\"ЧЕЛОВЕК\" + 0.172*\"МИР\" + 0.151*\"СКАЗАТЬ\" + 0.150*\"СВОЙ\" + 0.149*\"ПРОРОК\" + 0.142*\"ВОПРОС\" + 0.131*\"ИСТОРИЯ\" + 0.118*\"КОРАН\"\n"
     ]
    },
    {
     "name": "stderr",
     "output_type": "stream",
     "text": [
      "2016-10-11 18:15:18,957 : INFO : topic #1(598.254): -0.583*\"АЛЛАХ\" + 0.229*\"ИДДА\" + 0.172*\"ЖЕНЩИНА\" + 0.166*\"МУЖ\" + 0.162*\"ИСТОРИЯ\" + -0.162*\"ПОСЛАННИК\" + 0.152*\"РАЗВОД\" + 0.145*\"ИСЛАМСКИЙ\" + 0.140*\"РАМАДАН\" + 0.126*\"САЙТ\"\n"
     ]
    },
    {
     "name": "stderr",
     "output_type": "stream",
     "text": [
      "2016-10-11 18:15:18,960 : INFO : topic #2(542.280): -0.462*\"ИДДА\" + -0.332*\"МУЖ\" + -0.322*\"ЖЕНЩИНА\" + -0.228*\"РАЗВОД\" + -0.192*\"ЖЕНА\" + -0.180*\"АЛЛАХ\" + -0.179*\"СРОК\" + 0.135*\"ИСТОРИЯ\" + -0.125*\"ПЕРИОД\" + -0.124*\"ДОЛЖНЫЙ\"\n"
     ]
    },
    {
     "name": "stderr",
     "output_type": "stream",
     "text": [
      "2016-10-11 18:15:18,961 : INFO : topic #3(421.258): 0.287*\"ИМАМ\" + 0.286*\"КОТОРЫЙ\" + 0.268*\"ЧЕЛОВЕК\" + -0.245*\"АЛЛАХ\" + -0.185*\"РАМАДАН\" + 0.174*\"КНИГА\" + 0.151*\"СЛОВО\" + -0.149*\"МИР\" + -0.129*\"НАМАЗ\" + 0.125*\"УЧЁНЫЙ\"\n"
     ]
    },
    {
     "name": "stderr",
     "output_type": "stream",
     "text": [
      "2016-10-11 18:15:18,963 : INFO : topic #4(370.338): -0.468*\"ИМАМ\" + 0.329*\"ЧЕЛОВЕК\" + -0.277*\"УМ\" + -0.256*\"КНИГА\" + -0.241*\"ГОД\" + -0.197*\"АЛЛАХ\" + -0.173*\"УЧЁНЫЙ\" + -0.167*\"АБА\" + 0.120*\"КОТОРЫЙ\" + -0.117*\"БИОГРАФИЯ\"\n"
     ]
    },
    {
     "name": "stderr",
     "output_type": "stream",
     "text": [
      "2016-10-11 18:15:18,970 : INFO : preparing a new chunk of documents\n"
     ]
    },
    {
     "name": "stderr",
     "output_type": "stream",
     "text": [
      "2016-10-11 18:15:18,971 : INFO : using 100 extra samples and 2 power iterations\n"
     ]
    },
    {
     "name": "stderr",
     "output_type": "stream",
     "text": [
      "2016-10-11 18:15:18,973 : INFO : 1st phase: constructing (24774L, 200L) action matrix\n"
     ]
    },
    {
     "name": "stderr",
     "output_type": "stream",
     "text": [
      "2016-10-11 18:15:18,974 : INFO : orthonormalizing (24774L, 200L) action matrix\n"
     ]
    },
    {
     "name": "stderr",
     "output_type": "stream",
     "text": [
      "2016-10-11 18:15:20,220 : INFO : 2nd phase: running dense svd on (200L, 20L) matrix\n"
     ]
    },
    {
     "name": "stderr",
     "output_type": "stream",
     "text": [
      "2016-10-11 18:15:20,252 : INFO : computing the final decomposition\n"
     ]
    },
    {
     "name": "stderr",
     "output_type": "stream",
     "text": [
      "2016-10-11 18:15:20,253 : INFO : keeping 2 factors (discarding 0.000% of energy spectrum)\n"
     ]
    },
    {
     "name": "stderr",
     "output_type": "stream",
     "text": [
      "2016-10-11 18:15:20,263 : INFO : merging projections: (24774L, 100L) + (24774L, 2L)\n"
     ]
    },
    {
     "name": "stderr",
     "output_type": "stream",
     "text": [
      "2016-10-11 18:15:20,305 : INFO : keeping 100 factors (discarding 0.012% of energy spectrum)\n"
     ]
    },
    {
     "name": "stderr",
     "output_type": "stream",
     "text": [
      "2016-10-11 18:15:20,361 : INFO : processed documents up to #2320\n"
     ]
    },
    {
     "name": "stderr",
     "output_type": "stream",
     "text": [
      "2016-10-11 18:15:20,362 : INFO : topic #0(1565.340): 0.491*\"АЛЛАХ\" + 0.271*\"КОТОРЫЙ\" + 0.219*\"ЧЕЛОВЕК\" + 0.172*\"МИР\" + 0.151*\"СКАЗАТЬ\" + 0.150*\"СВОЙ\" + 0.149*\"ПРОРОК\" + 0.143*\"ВОПРОС\" + 0.131*\"ИСТОРИЯ\" + 0.118*\"КОРАН\"\n"
     ]
    },
    {
     "name": "stderr",
     "output_type": "stream",
     "text": [
      "2016-10-11 18:15:20,365 : INFO : topic #1(598.422): -0.583*\"АЛЛАХ\" + 0.228*\"ИДДА\" + 0.172*\"ЖЕНЩИНА\" + 0.165*\"МУЖ\" + 0.162*\"ИСТОРИЯ\" + -0.162*\"ПОСЛАННИК\" + 0.151*\"РАЗВОД\" + 0.145*\"ИСЛАМСКИЙ\" + 0.140*\"РАМАДАН\" + 0.127*\"САЙТ\"\n"
     ]
    },
    {
     "name": "stderr",
     "output_type": "stream",
     "text": [
      "2016-10-11 18:15:20,367 : INFO : topic #2(542.383): -0.463*\"ИДДА\" + -0.332*\"МУЖ\" + -0.322*\"ЖЕНЩИНА\" + -0.229*\"РАЗВОД\" + -0.192*\"ЖЕНА\" + -0.180*\"СРОК\" + -0.179*\"АЛЛАХ\" + 0.135*\"ИСТОРИЯ\" + -0.125*\"ПЕРИОД\" + -0.124*\"ДОЛЖНЫЙ\"\n"
     ]
    },
    {
     "name": "stderr",
     "output_type": "stream",
     "text": [
      "2016-10-11 18:15:20,368 : INFO : topic #3(421.407): 0.287*\"ИМАМ\" + 0.286*\"КОТОРЫЙ\" + 0.268*\"ЧЕЛОВЕК\" + -0.246*\"АЛЛАХ\" + -0.185*\"РАМАДАН\" + 0.175*\"КНИГА\" + 0.151*\"СЛОВО\" + -0.149*\"МИР\" + -0.128*\"НАМАЗ\" + 0.125*\"УЧЁНЫЙ\"\n"
     ]
    },
    {
     "name": "stderr",
     "output_type": "stream",
     "text": [
      "2016-10-11 18:15:20,371 : INFO : topic #4(370.350): -0.468*\"ИМАМ\" + 0.329*\"ЧЕЛОВЕК\" + -0.277*\"УМ\" + -0.256*\"КНИГА\" + -0.241*\"ГОД\" + -0.197*\"АЛЛАХ\" + -0.173*\"УЧЁНЫЙ\" + -0.167*\"АБА\" + 0.120*\"КОТОРЫЙ\" + -0.117*\"БИОГРАФИЯ\"\n"
     ]
    },
    {
     "name": "stderr",
     "output_type": "stream",
     "text": [
      "2016-10-11 18:15:20,378 : INFO : preparing a new chunk of documents\n"
     ]
    },
    {
     "name": "stderr",
     "output_type": "stream",
     "text": [
      "2016-10-11 18:15:20,381 : INFO : using 100 extra samples and 2 power iterations\n"
     ]
    },
    {
     "name": "stderr",
     "output_type": "stream",
     "text": [
      "2016-10-11 18:15:20,381 : INFO : 1st phase: constructing (24774L, 200L) action matrix\n"
     ]
    },
    {
     "name": "stderr",
     "output_type": "stream",
     "text": [
      "2016-10-11 18:15:20,384 : INFO : orthonormalizing (24774L, 200L) action matrix\n"
     ]
    },
    {
     "name": "stderr",
     "output_type": "stream",
     "text": [
      "2016-10-11 18:15:21,645 : INFO : 2nd phase: running dense svd on (200L, 20L) matrix\n"
     ]
    },
    {
     "name": "stderr",
     "output_type": "stream",
     "text": [
      "2016-10-11 18:15:21,676 : INFO : computing the final decomposition\n"
     ]
    },
    {
     "name": "stderr",
     "output_type": "stream",
     "text": [
      "2016-10-11 18:15:21,677 : INFO : keeping 2 factors (discarding 0.000% of energy spectrum)\n"
     ]
    },
    {
     "name": "stderr",
     "output_type": "stream",
     "text": [
      "2016-10-11 18:15:21,687 : INFO : merging projections: (24774L, 100L) + (24774L, 2L)\n"
     ]
    },
    {
     "name": "stderr",
     "output_type": "stream",
     "text": [
      "2016-10-11 18:15:21,730 : INFO : keeping 100 factors (discarding 0.012% of energy spectrum)\n"
     ]
    },
    {
     "name": "stderr",
     "output_type": "stream",
     "text": [
      "2016-10-11 18:15:21,789 : INFO : processed documents up to #2340\n"
     ]
    },
    {
     "name": "stderr",
     "output_type": "stream",
     "text": [
      "2016-10-11 18:15:21,792 : INFO : topic #0(1565.641): 0.491*\"АЛЛАХ\" + 0.271*\"КОТОРЫЙ\" + 0.219*\"ЧЕЛОВЕК\" + 0.172*\"МИР\" + 0.151*\"СКАЗАТЬ\" + 0.150*\"СВОЙ\" + 0.149*\"ПРОРОК\" + 0.143*\"ВОПРОС\" + 0.131*\"ИСТОРИЯ\" + 0.118*\"КОРАН\"\n"
     ]
    },
    {
     "name": "stderr",
     "output_type": "stream",
     "text": [
      "2016-10-11 18:15:21,795 : INFO : topic #1(598.600): -0.583*\"АЛЛАХ\" + 0.227*\"ИДДА\" + 0.171*\"ЖЕНЩИНА\" + 0.164*\"МУЖ\" + 0.162*\"ИСТОРИЯ\" + -0.162*\"ПОСЛАННИК\" + 0.151*\"РАЗВОД\" + 0.145*\"ИСЛАМСКИЙ\" + 0.140*\"РАМАДАН\" + 0.127*\"САЙТ\"\n"
     ]
    },
    {
     "name": "stderr",
     "output_type": "stream",
     "text": [
      "2016-10-11 18:15:21,796 : INFO : topic #2(542.460): -0.463*\"ИДДА\" + -0.332*\"МУЖ\" + -0.322*\"ЖЕНЩИНА\" + -0.229*\"РАЗВОД\" + -0.193*\"ЖЕНА\" + -0.180*\"СРОК\" + -0.178*\"АЛЛАХ\" + 0.135*\"ИСТОРИЯ\" + -0.125*\"ПЕРИОД\" + -0.124*\"ДОЛЖНЫЙ\"\n"
     ]
    },
    {
     "name": "stderr",
     "output_type": "stream",
     "text": [
      "2016-10-11 18:15:21,799 : INFO : topic #3(421.535): 0.288*\"ИМАМ\" + 0.286*\"КОТОРЫЙ\" + 0.267*\"ЧЕЛОВЕК\" + -0.246*\"АЛЛАХ\" + -0.184*\"РАМАДАН\" + 0.175*\"КНИГА\" + 0.151*\"СЛОВО\" + -0.149*\"МИР\" + -0.128*\"НАМАЗ\" + 0.126*\"УЧЁНЫЙ\"\n"
     ]
    },
    {
     "name": "stderr",
     "output_type": "stream",
     "text": [
      "2016-10-11 18:15:21,801 : INFO : topic #4(370.362): -0.468*\"ИМАМ\" + 0.329*\"ЧЕЛОВЕК\" + -0.277*\"УМ\" + -0.256*\"КНИГА\" + -0.241*\"ГОД\" + -0.197*\"АЛЛАХ\" + -0.173*\"УЧЁНЫЙ\" + -0.167*\"АБА\" + 0.120*\"КОТОРЫЙ\" + -0.117*\"БИОГРАФИЯ\"\n"
     ]
    },
    {
     "name": "stderr",
     "output_type": "stream",
     "text": [
      "2016-10-11 18:15:21,809 : INFO : preparing a new chunk of documents\n"
     ]
    },
    {
     "name": "stderr",
     "output_type": "stream",
     "text": [
      "2016-10-11 18:15:21,811 : INFO : using 100 extra samples and 2 power iterations\n"
     ]
    },
    {
     "name": "stderr",
     "output_type": "stream",
     "text": [
      "2016-10-11 18:15:21,812 : INFO : 1st phase: constructing (24774L, 200L) action matrix\n"
     ]
    },
    {
     "name": "stderr",
     "output_type": "stream",
     "text": [
      "2016-10-11 18:15:21,813 : INFO : orthonormalizing (24774L, 200L) action matrix\n"
     ]
    },
    {
     "name": "stderr",
     "output_type": "stream",
     "text": [
      "2016-10-11 18:15:23,078 : INFO : 2nd phase: running dense svd on (200L, 20L) matrix\n"
     ]
    },
    {
     "name": "stderr",
     "output_type": "stream",
     "text": [
      "2016-10-11 18:15:23,108 : INFO : computing the final decomposition\n"
     ]
    },
    {
     "name": "stderr",
     "output_type": "stream",
     "text": [
      "2016-10-11 18:15:23,108 : INFO : keeping 2 factors (discarding 0.000% of energy spectrum)\n"
     ]
    },
    {
     "name": "stderr",
     "output_type": "stream",
     "text": [
      "2016-10-11 18:15:23,119 : INFO : merging projections: (24774L, 100L) + (24774L, 2L)\n"
     ]
    },
    {
     "name": "stderr",
     "output_type": "stream",
     "text": [
      "2016-10-11 18:15:23,164 : INFO : keeping 100 factors (discarding 0.017% of energy spectrum)\n"
     ]
    },
    {
     "name": "stderr",
     "output_type": "stream",
     "text": [
      "2016-10-11 18:15:23,223 : INFO : processed documents up to #2360\n"
     ]
    },
    {
     "name": "stderr",
     "output_type": "stream",
     "text": [
      "2016-10-11 18:15:23,224 : INFO : topic #0(1566.080): 0.491*\"АЛЛАХ\" + 0.271*\"КОТОРЫЙ\" + 0.219*\"ЧЕЛОВЕК\" + 0.172*\"МИР\" + 0.151*\"СКАЗАТЬ\" + 0.150*\"СВОЙ\" + 0.149*\"ПРОРОК\" + 0.143*\"ВОПРОС\" + 0.131*\"ИСТОРИЯ\" + 0.118*\"КОРАН\"\n"
     ]
    },
    {
     "name": "stderr",
     "output_type": "stream",
     "text": [
      "2016-10-11 18:15:23,226 : INFO : topic #1(598.800): -0.584*\"АЛЛАХ\" + 0.226*\"ИДДА\" + 0.171*\"ЖЕНЩИНА\" + 0.164*\"МУЖ\" + 0.163*\"ИСТОРИЯ\" + -0.162*\"ПОСЛАННИК\" + 0.150*\"РАЗВОД\" + 0.146*\"ИСЛАМСКИЙ\" + 0.141*\"РАМАДАН\" + 0.127*\"САЙТ\"\n"
     ]
    },
    {
     "name": "stderr",
     "output_type": "stream",
     "text": [
      "2016-10-11 18:15:23,229 : INFO : topic #2(542.562): -0.464*\"ИДДА\" + -0.333*\"МУЖ\" + -0.323*\"ЖЕНЩИНА\" + -0.229*\"РАЗВОД\" + -0.193*\"ЖЕНА\" + -0.180*\"СРОК\" + -0.176*\"АЛЛАХ\" + 0.134*\"ИСТОРИЯ\" + -0.125*\"ПЕРИОД\" + -0.124*\"ДОЛЖНЫЙ\"\n"
     ]
    },
    {
     "name": "stderr",
     "output_type": "stream",
     "text": [
      "2016-10-11 18:15:23,230 : INFO : topic #3(421.721): 0.288*\"ИМАМ\" + 0.286*\"КОТОРЫЙ\" + 0.267*\"ЧЕЛОВЕК\" + -0.247*\"АЛЛАХ\" + -0.185*\"РАМАДАН\" + 0.175*\"КНИГА\" + 0.150*\"СЛОВО\" + -0.149*\"МИР\" + -0.127*\"НАМАЗ\" + 0.126*\"УЧЁНЫЙ\"\n"
     ]
    },
    {
     "name": "stderr",
     "output_type": "stream",
     "text": [
      "2016-10-11 18:15:23,233 : INFO : topic #4(370.372): -0.468*\"ИМАМ\" + 0.329*\"ЧЕЛОВЕК\" + -0.277*\"УМ\" + -0.255*\"КНИГА\" + -0.240*\"ГОД\" + -0.196*\"АЛЛАХ\" + -0.172*\"УЧЁНЫЙ\" + -0.167*\"АБА\" + 0.120*\"КОТОРЫЙ\" + -0.117*\"БИОГРАФИЯ\"\n"
     ]
    },
    {
     "name": "stderr",
     "output_type": "stream",
     "text": [
      "2016-10-11 18:15:23,240 : INFO : preparing a new chunk of documents\n"
     ]
    },
    {
     "name": "stderr",
     "output_type": "stream",
     "text": [
      "2016-10-11 18:15:23,242 : INFO : using 100 extra samples and 2 power iterations\n"
     ]
    },
    {
     "name": "stderr",
     "output_type": "stream",
     "text": [
      "2016-10-11 18:15:23,243 : INFO : 1st phase: constructing (24774L, 200L) action matrix\n"
     ]
    },
    {
     "name": "stderr",
     "output_type": "stream",
     "text": [
      "2016-10-11 18:15:23,246 : INFO : orthonormalizing (24774L, 200L) action matrix\n"
     ]
    },
    {
     "name": "stderr",
     "output_type": "stream",
     "text": [
      "2016-10-11 18:15:24,513 : INFO : 2nd phase: running dense svd on (200L, 20L) matrix\n"
     ]
    },
    {
     "name": "stderr",
     "output_type": "stream",
     "text": [
      "2016-10-11 18:15:24,543 : INFO : computing the final decomposition\n"
     ]
    },
    {
     "name": "stderr",
     "output_type": "stream",
     "text": [
      "2016-10-11 18:15:24,545 : INFO : keeping 2 factors (discarding 0.000% of energy spectrum)\n"
     ]
    },
    {
     "name": "stderr",
     "output_type": "stream",
     "text": [
      "2016-10-11 18:15:24,555 : INFO : merging projections: (24774L, 100L) + (24774L, 2L)\n"
     ]
    },
    {
     "name": "stderr",
     "output_type": "stream",
     "text": [
      "2016-10-11 18:15:24,598 : INFO : keeping 100 factors (discarding 0.012% of energy spectrum)\n"
     ]
    },
    {
     "name": "stderr",
     "output_type": "stream",
     "text": [
      "2016-10-11 18:15:24,653 : INFO : processed documents up to #2380\n"
     ]
    },
    {
     "name": "stderr",
     "output_type": "stream",
     "text": [
      "2016-10-11 18:15:24,654 : INFO : topic #0(1566.572): 0.491*\"АЛЛАХ\" + 0.271*\"КОТОРЫЙ\" + 0.219*\"ЧЕЛОВЕК\" + 0.172*\"МИР\" + 0.151*\"СКАЗАТЬ\" + 0.150*\"СВОЙ\" + 0.149*\"ПРОРОК\" + 0.143*\"ВОПРОС\" + 0.131*\"ИСТОРИЯ\" + 0.118*\"КОРАН\"\n"
     ]
    },
    {
     "name": "stderr",
     "output_type": "stream",
     "text": [
      "2016-10-11 18:15:24,657 : INFO : topic #1(598.950): -0.584*\"АЛЛАХ\" + 0.225*\"ИДДА\" + 0.170*\"ЖЕНЩИНА\" + 0.163*\"МУЖ\" + 0.163*\"ИСТОРИЯ\" + -0.162*\"ПОСЛАННИК\" + 0.150*\"РАЗВОД\" + 0.146*\"ИСЛАМСКИЙ\" + 0.141*\"РАМАДАН\" + 0.128*\"САЙТ\"\n"
     ]
    },
    {
     "name": "stderr",
     "output_type": "stream",
     "text": [
      "2016-10-11 18:15:24,658 : INFO : topic #2(542.657): -0.464*\"ИДДА\" + -0.333*\"МУЖ\" + -0.323*\"ЖЕНЩИНА\" + -0.230*\"РАЗВОД\" + -0.193*\"ЖЕНА\" + -0.180*\"СРОК\" + -0.175*\"АЛЛАХ\" + 0.134*\"ИСТОРИЯ\" + -0.125*\"ПЕРИОД\" + -0.124*\"ДОЛЖНЫЙ\"\n"
     ]
    },
    {
     "name": "stderr",
     "output_type": "stream",
     "text": [
      "2016-10-11 18:15:24,661 : INFO : topic #3(421.845): 0.288*\"ИМАМ\" + 0.286*\"КОТОРЫЙ\" + 0.267*\"ЧЕЛОВЕК\" + -0.248*\"АЛЛАХ\" + -0.184*\"РАМАДАН\" + 0.175*\"КНИГА\" + 0.150*\"СЛОВО\" + -0.148*\"МИР\" + -0.127*\"НАМАЗ\" + -0.126*\"ЧИТАТЬ\"\n"
     ]
    },
    {
     "name": "stderr",
     "output_type": "stream",
     "text": [
      "2016-10-11 18:15:24,663 : INFO : topic #4(370.391): -0.467*\"ИМАМ\" + 0.329*\"ЧЕЛОВЕК\" + -0.277*\"УМ\" + -0.255*\"КНИГА\" + -0.240*\"ГОД\" + -0.197*\"АЛЛАХ\" + -0.172*\"УЧЁНЫЙ\" + -0.167*\"АБА\" + 0.120*\"КОТОРЫЙ\" + -0.117*\"БИОГРАФИЯ\"\n"
     ]
    },
    {
     "name": "stderr",
     "output_type": "stream",
     "text": [
      "2016-10-11 18:15:24,671 : INFO : preparing a new chunk of documents\n"
     ]
    },
    {
     "name": "stderr",
     "output_type": "stream",
     "text": [
      "2016-10-11 18:15:24,673 : INFO : using 100 extra samples and 2 power iterations\n"
     ]
    },
    {
     "name": "stderr",
     "output_type": "stream",
     "text": [
      "2016-10-11 18:15:24,674 : INFO : 1st phase: constructing (24774L, 200L) action matrix\n"
     ]
    },
    {
     "name": "stderr",
     "output_type": "stream",
     "text": [
      "2016-10-11 18:15:24,676 : INFO : orthonormalizing (24774L, 200L) action matrix\n"
     ]
    },
    {
     "name": "stderr",
     "output_type": "stream",
     "text": [
      "2016-10-11 18:15:25,937 : INFO : 2nd phase: running dense svd on (200L, 20L) matrix\n"
     ]
    },
    {
     "name": "stderr",
     "output_type": "stream",
     "text": [
      "2016-10-11 18:15:25,967 : INFO : computing the final decomposition\n"
     ]
    },
    {
     "name": "stderr",
     "output_type": "stream",
     "text": [
      "2016-10-11 18:15:25,969 : INFO : keeping 2 factors (discarding 0.000% of energy spectrum)\n"
     ]
    },
    {
     "name": "stderr",
     "output_type": "stream",
     "text": [
      "2016-10-11 18:15:25,980 : INFO : merging projections: (24774L, 100L) + (24774L, 2L)\n"
     ]
    },
    {
     "name": "stderr",
     "output_type": "stream",
     "text": [
      "2016-10-11 18:15:26,026 : INFO : keeping 100 factors (discarding 0.012% of energy spectrum)\n"
     ]
    },
    {
     "name": "stderr",
     "output_type": "stream",
     "text": [
      "2016-10-11 18:15:26,075 : INFO : processed documents up to #2400\n"
     ]
    },
    {
     "name": "stderr",
     "output_type": "stream",
     "text": [
      "2016-10-11 18:15:26,076 : INFO : topic #0(1566.977): 0.491*\"АЛЛАХ\" + 0.271*\"КОТОРЫЙ\" + 0.219*\"ЧЕЛОВЕК\" + 0.172*\"МИР\" + 0.151*\"СКАЗАТЬ\" + 0.150*\"СВОЙ\" + 0.149*\"ПРОРОК\" + 0.143*\"ВОПРОС\" + 0.131*\"ИСТОРИЯ\" + 0.118*\"КОРАН\"\n"
     ]
    },
    {
     "name": "stderr",
     "output_type": "stream",
     "text": [
      "2016-10-11 18:15:26,078 : INFO : topic #1(599.235): -0.584*\"АЛЛАХ\" + 0.224*\"ИДДА\" + 0.169*\"ЖЕНЩИНА\" + 0.163*\"ИСТОРИЯ\" + 0.162*\"МУЖ\" + -0.162*\"ПОСЛАННИК\" + 0.149*\"РАЗВОД\" + 0.146*\"ИСЛАМСКИЙ\" + 0.142*\"РАМАДАН\" + 0.128*\"САЙТ\"\n"
     ]
    },
    {
     "name": "stderr",
     "output_type": "stream",
     "text": [
      "2016-10-11 18:15:26,082 : INFO : topic #2(542.737): -0.465*\"ИДДА\" + -0.334*\"МУЖ\" + -0.323*\"ЖЕНЩИНА\" + -0.230*\"РАЗВОД\" + -0.193*\"ЖЕНА\" + -0.180*\"СРОК\" + -0.173*\"АЛЛАХ\" + 0.133*\"ИСТОРИЯ\" + -0.126*\"ПЕРИОД\" + -0.125*\"ДОЛЖНЫЙ\"\n"
     ]
    },
    {
     "name": "stderr",
     "output_type": "stream",
     "text": [
      "2016-10-11 18:15:26,084 : INFO : topic #3(421.921): 0.288*\"ИМАМ\" + 0.287*\"КОТОРЫЙ\" + 0.267*\"ЧЕЛОВЕК\" + -0.248*\"АЛЛАХ\" + -0.184*\"РАМАДАН\" + 0.176*\"КНИГА\" + 0.150*\"СЛОВО\" + -0.148*\"МИР\" + -0.127*\"НАМАЗ\" + -0.127*\"ЧИТАТЬ\"\n"
     ]
    },
    {
     "name": "stderr",
     "output_type": "stream",
     "text": [
      "2016-10-11 18:15:26,085 : INFO : topic #4(370.399): -0.467*\"ИМАМ\" + 0.329*\"ЧЕЛОВЕК\" + -0.277*\"УМ\" + -0.255*\"КНИГА\" + -0.240*\"ГОД\" + -0.196*\"АЛЛАХ\" + -0.172*\"УЧЁНЫЙ\" + -0.167*\"АБА\" + 0.120*\"КОТОРЫЙ\" + -0.117*\"БИОГРАФИЯ\"\n"
     ]
    },
    {
     "name": "stderr",
     "output_type": "stream",
     "text": [
      "2016-10-11 18:15:26,091 : INFO : preparing a new chunk of documents\n"
     ]
    },
    {
     "name": "stderr",
     "output_type": "stream",
     "text": [
      "2016-10-11 18:15:26,092 : INFO : using 100 extra samples and 2 power iterations\n"
     ]
    },
    {
     "name": "stderr",
     "output_type": "stream",
     "text": [
      "2016-10-11 18:15:26,094 : INFO : 1st phase: constructing (24774L, 200L) action matrix\n"
     ]
    },
    {
     "name": "stderr",
     "output_type": "stream",
     "text": [
      "2016-10-11 18:15:26,096 : INFO : orthonormalizing (24774L, 200L) action matrix\n"
     ]
    },
    {
     "name": "stderr",
     "output_type": "stream",
     "text": [
      "2016-10-11 18:15:27,346 : INFO : 2nd phase: running dense svd on (200L, 20L) matrix\n"
     ]
    },
    {
     "name": "stderr",
     "output_type": "stream",
     "text": [
      "2016-10-11 18:15:27,380 : INFO : computing the final decomposition\n"
     ]
    },
    {
     "name": "stderr",
     "output_type": "stream",
     "text": [
      "2016-10-11 18:15:27,381 : INFO : keeping 2 factors (discarding 0.000% of energy spectrum)\n"
     ]
    },
    {
     "name": "stderr",
     "output_type": "stream",
     "text": [
      "2016-10-11 18:15:27,391 : INFO : merging projections: (24774L, 100L) + (24774L, 2L)\n"
     ]
    },
    {
     "name": "stderr",
     "output_type": "stream",
     "text": [
      "2016-10-11 18:15:27,434 : INFO : keeping 100 factors (discarding 0.008% of energy spectrum)\n"
     ]
    },
    {
     "name": "stderr",
     "output_type": "stream",
     "text": [
      "2016-10-11 18:15:27,494 : INFO : processed documents up to #2420\n"
     ]
    },
    {
     "name": "stderr",
     "output_type": "stream",
     "text": [
      "2016-10-11 18:15:27,496 : INFO : topic #0(1567.307): 0.491*\"АЛЛАХ\" + 0.271*\"КОТОРЫЙ\" + 0.219*\"ЧЕЛОВЕК\" + 0.172*\"МИР\" + 0.151*\"СКАЗАТЬ\" + 0.149*\"СВОЙ\" + 0.149*\"ПРОРОК\" + 0.144*\"ВОПРОС\" + 0.131*\"ИСТОРИЯ\" + 0.118*\"КОРАН\"\n"
     ]
    },
    {
     "name": "stderr",
     "output_type": "stream",
     "text": [
      "2016-10-11 18:15:27,499 : INFO : topic #1(599.391): -0.585*\"АЛЛАХ\" + 0.223*\"ИДДА\" + 0.168*\"ЖЕНЩИНА\" + 0.163*\"ИСТОРИЯ\" + -0.162*\"ПОСЛАННИК\" + 0.161*\"МУЖ\" + 0.149*\"РАЗВОД\" + 0.146*\"ИСЛАМСКИЙ\" + 0.142*\"РАМАДАН\" + 0.129*\"САЙТ\"\n"
     ]
    },
    {
     "name": "stderr",
     "output_type": "stream",
     "text": [
      "2016-10-11 18:15:27,500 : INFO : topic #2(542.831): -0.465*\"ИДДА\" + -0.334*\"МУЖ\" + -0.324*\"ЖЕНЩИНА\" + -0.230*\"РАЗВОД\" + -0.193*\"ЖЕНА\" + -0.181*\"СРОК\" + -0.172*\"АЛЛАХ\" + 0.133*\"ИСТОРИЯ\" + -0.126*\"ПЕРИОД\" + -0.125*\"ДОЛЖНЫЙ\"\n"
     ]
    },
    {
     "name": "stderr",
     "output_type": "stream",
     "text": [
      "2016-10-11 18:15:27,503 : INFO : topic #3(422.147): 0.289*\"ИМАМ\" + 0.286*\"КОТОРЫЙ\" + 0.267*\"ЧЕЛОВЕК\" + -0.249*\"АЛЛАХ\" + -0.184*\"РАМАДАН\" + 0.176*\"КНИГА\" + 0.150*\"СЛОВО\" + -0.148*\"МИР\" + -0.128*\"ЧИТАТЬ\" + -0.128*\"НАМАЗ\"\n"
     ]
    },
    {
     "name": "stderr",
     "output_type": "stream",
     "text": [
      "2016-10-11 18:15:27,505 : INFO : topic #4(370.413): -0.467*\"ИМАМ\" + 0.329*\"ЧЕЛОВЕК\" + -0.277*\"УМ\" + -0.255*\"КНИГА\" + -0.240*\"ГОД\" + -0.197*\"АЛЛАХ\" + -0.172*\"УЧЁНЫЙ\" + -0.167*\"АБА\" + 0.120*\"КОТОРЫЙ\" + -0.117*\"БИОГРАФИЯ\"\n"
     ]
    },
    {
     "name": "stderr",
     "output_type": "stream",
     "text": [
      "2016-10-11 18:15:27,512 : INFO : preparing a new chunk of documents\n"
     ]
    },
    {
     "name": "stderr",
     "output_type": "stream",
     "text": [
      "2016-10-11 18:15:27,513 : INFO : using 100 extra samples and 2 power iterations\n"
     ]
    },
    {
     "name": "stderr",
     "output_type": "stream",
     "text": [
      "2016-10-11 18:15:27,515 : INFO : 1st phase: constructing (24774L, 200L) action matrix\n"
     ]
    },
    {
     "name": "stderr",
     "output_type": "stream",
     "text": [
      "2016-10-11 18:15:27,516 : INFO : orthonormalizing (24774L, 200L) action matrix\n"
     ]
    },
    {
     "name": "stderr",
     "output_type": "stream",
     "text": [
      "2016-10-11 18:15:28,776 : INFO : 2nd phase: running dense svd on (200L, 20L) matrix\n"
     ]
    },
    {
     "name": "stderr",
     "output_type": "stream",
     "text": [
      "2016-10-11 18:15:28,805 : INFO : computing the final decomposition\n"
     ]
    },
    {
     "name": "stderr",
     "output_type": "stream",
     "text": [
      "2016-10-11 18:15:28,805 : INFO : keeping 2 factors (discarding 0.000% of energy spectrum)\n"
     ]
    },
    {
     "name": "stderr",
     "output_type": "stream",
     "text": [
      "2016-10-11 18:15:28,815 : INFO : merging projections: (24774L, 100L) + (24774L, 2L)\n"
     ]
    },
    {
     "name": "stderr",
     "output_type": "stream",
     "text": [
      "2016-10-11 18:15:28,859 : INFO : keeping 100 factors (discarding 0.010% of energy spectrum)\n"
     ]
    },
    {
     "name": "stderr",
     "output_type": "stream",
     "text": [
      "2016-10-11 18:15:28,911 : INFO : processed documents up to #2440\n"
     ]
    },
    {
     "name": "stderr",
     "output_type": "stream",
     "text": [
      "2016-10-11 18:15:28,914 : INFO : topic #0(1567.575): 0.491*\"АЛЛАХ\" + 0.271*\"КОТОРЫЙ\" + 0.219*\"ЧЕЛОВЕК\" + 0.172*\"МИР\" + 0.151*\"СКАЗАТЬ\" + 0.149*\"СВОЙ\" + 0.149*\"ПРОРОК\" + 0.144*\"ВОПРОС\" + 0.131*\"ИСТОРИЯ\" + 0.118*\"КОРАН\"\n"
     ]
    },
    {
     "name": "stderr",
     "output_type": "stream",
     "text": [
      "2016-10-11 18:15:28,915 : INFO : topic #1(599.559): -0.585*\"АЛЛАХ\" + 0.222*\"ИДДА\" + 0.168*\"ЖЕНЩИНА\" + 0.164*\"ИСТОРИЯ\" + -0.162*\"ПОСЛАННИК\" + 0.161*\"МУЖ\" + 0.148*\"РАЗВОД\" + 0.146*\"ИСЛАМСКИЙ\" + 0.142*\"РАМАДАН\" + 0.129*\"САЙТ\"\n"
     ]
    },
    {
     "name": "stderr",
     "output_type": "stream",
     "text": [
      "2016-10-11 18:15:28,917 : INFO : topic #2(542.891): -0.466*\"ИДДА\" + -0.334*\"МУЖ\" + -0.324*\"ЖЕНЩИНА\" + -0.230*\"РАЗВОД\" + -0.193*\"ЖЕНА\" + -0.181*\"СРОК\" + -0.170*\"АЛЛАХ\" + 0.133*\"ИСТОРИЯ\" + -0.126*\"ПЕРИОД\" + -0.125*\"ДОЛЖНЫЙ\"\n"
     ]
    },
    {
     "name": "stderr",
     "output_type": "stream",
     "text": [
      "2016-10-11 18:15:28,921 : INFO : topic #3(422.304): 0.289*\"ИМАМ\" + 0.287*\"КОТОРЫЙ\" + 0.267*\"ЧЕЛОВЕК\" + -0.249*\"АЛЛАХ\" + -0.184*\"РАМАДАН\" + 0.176*\"КНИГА\" + 0.149*\"СЛОВО\" + -0.147*\"МИР\" + -0.129*\"ЧИТАТЬ\" + -0.127*\"НАМАЗ\"\n"
     ]
    },
    {
     "name": "stderr",
     "output_type": "stream",
     "text": [
      "2016-10-11 18:15:28,923 : INFO : topic #4(370.420): -0.467*\"ИМАМ\" + 0.329*\"ЧЕЛОВЕК\" + -0.277*\"УМ\" + -0.255*\"КНИГА\" + -0.240*\"ГОД\" + -0.197*\"АЛЛАХ\" + -0.172*\"УЧЁНЫЙ\" + -0.167*\"АБА\" + 0.120*\"КОТОРЫЙ\" + -0.117*\"БИОГРАФИЯ\"\n"
     ]
    },
    {
     "name": "stderr",
     "output_type": "stream",
     "text": [
      "2016-10-11 18:15:28,930 : INFO : preparing a new chunk of documents\n"
     ]
    },
    {
     "name": "stderr",
     "output_type": "stream",
     "text": [
      "2016-10-11 18:15:28,931 : INFO : using 100 extra samples and 2 power iterations\n"
     ]
    },
    {
     "name": "stderr",
     "output_type": "stream",
     "text": [
      "2016-10-11 18:15:28,937 : INFO : 1st phase: constructing (24774L, 200L) action matrix\n"
     ]
    },
    {
     "name": "stderr",
     "output_type": "stream",
     "text": [
      "2016-10-11 18:15:28,940 : INFO : orthonormalizing (24774L, 200L) action matrix\n"
     ]
    },
    {
     "name": "stderr",
     "output_type": "stream",
     "text": [
      "2016-10-11 18:15:30,194 : INFO : 2nd phase: running dense svd on (200L, 20L) matrix\n"
     ]
    },
    {
     "name": "stderr",
     "output_type": "stream",
     "text": [
      "2016-10-11 18:15:30,224 : INFO : computing the final decomposition\n"
     ]
    },
    {
     "name": "stderr",
     "output_type": "stream",
     "text": [
      "2016-10-11 18:15:30,226 : INFO : keeping 2 factors (discarding 0.000% of energy spectrum)\n"
     ]
    },
    {
     "name": "stderr",
     "output_type": "stream",
     "text": [
      "2016-10-11 18:15:30,237 : INFO : merging projections: (24774L, 100L) + (24774L, 2L)\n"
     ]
    },
    {
     "name": "stderr",
     "output_type": "stream",
     "text": [
      "2016-10-11 18:15:30,280 : INFO : keeping 100 factors (discarding 0.013% of energy spectrum)\n"
     ]
    },
    {
     "name": "stderr",
     "output_type": "stream",
     "text": [
      "2016-10-11 18:15:30,335 : INFO : processed documents up to #2460\n"
     ]
    },
    {
     "name": "stderr",
     "output_type": "stream",
     "text": [
      "2016-10-11 18:15:30,336 : INFO : topic #0(1567.953): 0.491*\"АЛЛАХ\" + 0.271*\"КОТОРЫЙ\" + 0.219*\"ЧЕЛОВЕК\" + 0.172*\"МИР\" + 0.151*\"СКАЗАТЬ\" + 0.149*\"ПРОРОК\" + 0.149*\"СВОЙ\" + 0.144*\"ВОПРОС\" + 0.131*\"ИСТОРИЯ\" + 0.118*\"КОРАН\"\n"
     ]
    },
    {
     "name": "stderr",
     "output_type": "stream",
     "text": [
      "2016-10-11 18:15:30,338 : INFO : topic #1(599.800): -0.585*\"АЛЛАХ\" + 0.221*\"ИДДА\" + 0.167*\"ЖЕНЩИНА\" + 0.164*\"ИСТОРИЯ\" + -0.162*\"ПОСЛАННИК\" + 0.160*\"МУЖ\" + 0.148*\"РАЗВОД\" + 0.146*\"ИСЛАМСКИЙ\" + 0.143*\"РАМАДАН\" + 0.130*\"САЙТ\"\n"
     ]
    },
    {
     "name": "stderr",
     "output_type": "stream",
     "text": [
      "2016-10-11 18:15:30,341 : INFO : topic #2(543.036): -0.466*\"ИДДА\" + -0.334*\"МУЖ\" + -0.324*\"ЖЕНЩИНА\" + -0.231*\"РАЗВОД\" + -0.194*\"ЖЕНА\" + -0.181*\"СРОК\" + -0.168*\"АЛЛАХ\" + 0.132*\"ИСТОРИЯ\" + -0.126*\"ПЕРИОД\" + -0.125*\"ДОЛЖНЫЙ\"\n"
     ]
    },
    {
     "name": "stderr",
     "output_type": "stream",
     "text": [
      "2016-10-11 18:15:30,344 : INFO : topic #3(422.525): 0.290*\"ИМАМ\" + 0.287*\"КОТОРЫЙ\" + 0.267*\"ЧЕЛОВЕК\" + -0.250*\"АЛЛАХ\" + -0.184*\"РАМАДАН\" + 0.176*\"КНИГА\" + 0.149*\"СЛОВО\" + -0.147*\"МИР\" + -0.131*\"ЧИТАТЬ\" + -0.126*\"НАМАЗ\"\n"
     ]
    },
    {
     "name": "stderr",
     "output_type": "stream",
     "text": [
      "2016-10-11 18:15:30,345 : INFO : topic #4(370.439): -0.467*\"ИМАМ\" + 0.329*\"ЧЕЛОВЕК\" + -0.277*\"УМ\" + -0.255*\"КНИГА\" + -0.240*\"ГОД\" + -0.197*\"АЛЛАХ\" + -0.172*\"УЧЁНЫЙ\" + -0.167*\"АБА\" + 0.120*\"КОТОРЫЙ\" + -0.118*\"БИОГРАФИЯ\"\n"
     ]
    },
    {
     "name": "stderr",
     "output_type": "stream",
     "text": [
      "2016-10-11 18:15:30,352 : INFO : preparing a new chunk of documents\n"
     ]
    },
    {
     "name": "stderr",
     "output_type": "stream",
     "text": [
      "2016-10-11 18:15:30,354 : INFO : using 100 extra samples and 2 power iterations\n"
     ]
    },
    {
     "name": "stderr",
     "output_type": "stream",
     "text": [
      "2016-10-11 18:15:30,355 : INFO : 1st phase: constructing (24774L, 200L) action matrix\n"
     ]
    },
    {
     "name": "stderr",
     "output_type": "stream",
     "text": [
      "2016-10-11 18:15:30,358 : INFO : orthonormalizing (24774L, 200L) action matrix\n"
     ]
    },
    {
     "name": "stderr",
     "output_type": "stream",
     "text": [
      "2016-10-11 18:15:31,621 : INFO : 2nd phase: running dense svd on (200L, 20L) matrix\n"
     ]
    },
    {
     "name": "stderr",
     "output_type": "stream",
     "text": [
      "2016-10-11 18:15:31,648 : INFO : computing the final decomposition\n"
     ]
    },
    {
     "name": "stderr",
     "output_type": "stream",
     "text": [
      "2016-10-11 18:15:31,650 : INFO : keeping 2 factors (discarding 0.000% of energy spectrum)\n"
     ]
    },
    {
     "name": "stderr",
     "output_type": "stream",
     "text": [
      "2016-10-11 18:15:31,660 : INFO : merging projections: (24774L, 100L) + (24774L, 2L)\n"
     ]
    },
    {
     "name": "stderr",
     "output_type": "stream",
     "text": [
      "2016-10-11 18:15:31,703 : INFO : keeping 100 factors (discarding 0.012% of energy spectrum)\n"
     ]
    },
    {
     "name": "stderr",
     "output_type": "stream",
     "text": [
      "2016-10-11 18:15:31,760 : INFO : processed documents up to #2480\n"
     ]
    },
    {
     "name": "stderr",
     "output_type": "stream",
     "text": [
      "2016-10-11 18:15:31,763 : INFO : topic #0(1568.436): 0.490*\"АЛЛАХ\" + 0.271*\"КОТОРЫЙ\" + 0.219*\"ЧЕЛОВЕК\" + 0.172*\"МИР\" + 0.151*\"СКАЗАТЬ\" + 0.149*\"ПРОРОК\" + 0.149*\"СВОЙ\" + 0.144*\"ВОПРОС\" + 0.132*\"ИСТОРИЯ\" + 0.118*\"КОРАН\"\n"
     ]
    },
    {
     "name": "stderr",
     "output_type": "stream",
     "text": [
      "2016-10-11 18:15:31,765 : INFO : topic #1(599.957): -0.586*\"АЛЛАХ\" + 0.220*\"ИДДА\" + 0.166*\"ЖЕНЩИНА\" + 0.164*\"ИСТОРИЯ\" + -0.162*\"ПОСЛАННИК\" + 0.159*\"МУЖ\" + 0.147*\"РАЗВОД\" + 0.146*\"ИСЛАМСКИЙ\" + 0.144*\"РАМАДАН\" + 0.130*\"САЙТ\"\n"
     ]
    },
    {
     "name": "stderr",
     "output_type": "stream",
     "text": [
      "2016-10-11 18:15:31,766 : INFO : topic #2(543.149): -0.467*\"ИДДА\" + -0.335*\"МУЖ\" + -0.325*\"ЖЕНЩИНА\" + -0.231*\"РАЗВОД\" + -0.194*\"ЖЕНА\" + -0.181*\"СРОК\" + -0.167*\"АЛЛАХ\" + 0.132*\"ИСТОРИЯ\" + -0.126*\"ПЕРИОД\" + -0.125*\"ДОЛЖНЫЙ\"\n"
     ]
    },
    {
     "name": "stderr",
     "output_type": "stream",
     "text": [
      "2016-10-11 18:15:31,769 : INFO : topic #3(422.636): 0.290*\"ИМАМ\" + 0.287*\"КОТОРЫЙ\" + 0.267*\"ЧЕЛОВЕК\" + -0.250*\"АЛЛАХ\" + -0.184*\"РАМАДАН\" + 0.176*\"КНИГА\" + 0.149*\"СЛОВО\" + -0.147*\"МИР\" + -0.132*\"ЧИТАТЬ\" + -0.127*\"НАМАЗ\"\n"
     ]
    },
    {
     "name": "stderr",
     "output_type": "stream",
     "text": [
      "2016-10-11 18:15:31,772 : INFO : topic #4(370.448): -0.466*\"ИМАМ\" + 0.329*\"ЧЕЛОВЕК\" + -0.277*\"УМ\" + -0.255*\"КНИГА\" + -0.240*\"ГОД\" + -0.197*\"АЛЛАХ\" + -0.172*\"УЧЁНЫЙ\" + -0.167*\"АБА\" + 0.120*\"КОТОРЫЙ\" + 0.118*\"ВОПРОС\"\n"
     ]
    },
    {
     "name": "stderr",
     "output_type": "stream",
     "text": [
      "2016-10-11 18:15:31,778 : INFO : preparing a new chunk of documents\n"
     ]
    },
    {
     "name": "stderr",
     "output_type": "stream",
     "text": [
      "2016-10-11 18:15:31,779 : INFO : using 100 extra samples and 2 power iterations\n"
     ]
    },
    {
     "name": "stderr",
     "output_type": "stream",
     "text": [
      "2016-10-11 18:15:31,780 : INFO : 1st phase: constructing (24774L, 200L) action matrix\n"
     ]
    },
    {
     "name": "stderr",
     "output_type": "stream",
     "text": [
      "2016-10-11 18:15:31,782 : INFO : orthonormalizing (24774L, 200L) action matrix\n"
     ]
    },
    {
     "name": "stderr",
     "output_type": "stream",
     "text": [
      "2016-10-11 18:15:33,055 : INFO : 2nd phase: running dense svd on (200L, 20L) matrix\n"
     ]
    },
    {
     "name": "stderr",
     "output_type": "stream",
     "text": [
      "2016-10-11 18:15:33,085 : INFO : computing the final decomposition\n"
     ]
    },
    {
     "name": "stderr",
     "output_type": "stream",
     "text": [
      "2016-10-11 18:15:33,086 : INFO : keeping 2 factors (discarding 0.000% of energy spectrum)\n"
     ]
    },
    {
     "name": "stderr",
     "output_type": "stream",
     "text": [
      "2016-10-11 18:15:33,098 : INFO : merging projections: (24774L, 100L) + (24774L, 2L)\n"
     ]
    },
    {
     "name": "stderr",
     "output_type": "stream",
     "text": [
      "2016-10-11 18:15:33,141 : INFO : keeping 100 factors (discarding 0.007% of energy spectrum)\n"
     ]
    },
    {
     "name": "stderr",
     "output_type": "stream",
     "text": [
      "2016-10-11 18:15:33,200 : INFO : processed documents up to #2500\n"
     ]
    },
    {
     "name": "stderr",
     "output_type": "stream",
     "text": [
      "2016-10-11 18:15:33,203 : INFO : topic #0(1568.644): 0.490*\"АЛЛАХ\" + 0.271*\"КОТОРЫЙ\" + 0.219*\"ЧЕЛОВЕК\" + 0.172*\"МИР\" + 0.151*\"СКАЗАТЬ\" + 0.149*\"ПРОРОК\" + 0.149*\"СВОЙ\" + 0.144*\"ВОПРОС\" + 0.132*\"ИСТОРИЯ\" + 0.118*\"КОРАН\"\n"
     ]
    },
    {
     "name": "stderr",
     "output_type": "stream",
     "text": [
      "2016-10-11 18:15:33,204 : INFO : topic #1(600.144): -0.586*\"АЛЛАХ\" + 0.219*\"ИДДА\" + 0.165*\"ЖЕНЩИНА\" + 0.164*\"ИСТОРИЯ\" + -0.162*\"ПОСЛАННИК\" + 0.158*\"МУЖ\" + 0.147*\"ИСЛАМСКИЙ\" + 0.146*\"РАЗВОД\" + 0.144*\"РАМАДАН\" + 0.130*\"САЙТ\"\n"
     ]
    },
    {
     "name": "stderr",
     "output_type": "stream",
     "text": [
      "2016-10-11 18:15:33,207 : INFO : topic #2(543.272): -0.467*\"ИДДА\" + -0.335*\"МУЖ\" + -0.325*\"ЖЕНЩИНА\" + -0.231*\"РАЗВОД\" + -0.194*\"ЖЕНА\" + -0.181*\"СРОК\" + -0.165*\"АЛЛАХ\" + 0.131*\"ИСТОРИЯ\" + -0.126*\"ПЕРИОД\" + -0.126*\"ДОЛЖНЫЙ\"\n"
     ]
    },
    {
     "name": "stderr",
     "output_type": "stream",
     "text": [
      "2016-10-11 18:15:33,210 : INFO : topic #3(422.707): 0.290*\"ИМАМ\" + 0.287*\"КОТОРЫЙ\" + 0.267*\"ЧЕЛОВЕК\" + -0.251*\"АЛЛАХ\" + -0.184*\"РАМАДАН\" + 0.176*\"КНИГА\" + 0.149*\"СЛОВО\" + -0.147*\"МИР\" + -0.132*\"ЧИТАТЬ\" + -0.127*\"НАМАЗ\"\n"
     ]
    },
    {
     "name": "stderr",
     "output_type": "stream",
     "text": [
      "2016-10-11 18:15:33,213 : INFO : topic #4(370.453): -0.466*\"ИМАМ\" + 0.330*\"ЧЕЛОВЕК\" + -0.277*\"УМ\" + -0.255*\"КНИГА\" + -0.240*\"ГОД\" + -0.197*\"АЛЛАХ\" + -0.172*\"УЧЁНЫЙ\" + -0.167*\"АБА\" + 0.120*\"КОТОРЫЙ\" + -0.118*\"БИОГРАФИЯ\"\n"
     ]
    },
    {
     "name": "stderr",
     "output_type": "stream",
     "text": [
      "2016-10-11 18:15:33,219 : INFO : preparing a new chunk of documents\n"
     ]
    },
    {
     "name": "stderr",
     "output_type": "stream",
     "text": [
      "2016-10-11 18:15:33,220 : INFO : using 100 extra samples and 2 power iterations\n"
     ]
    },
    {
     "name": "stderr",
     "output_type": "stream",
     "text": [
      "2016-10-11 18:15:33,221 : INFO : 1st phase: constructing (24774L, 200L) action matrix\n"
     ]
    },
    {
     "name": "stderr",
     "output_type": "stream",
     "text": [
      "2016-10-11 18:15:33,223 : INFO : orthonormalizing (24774L, 200L) action matrix\n"
     ]
    },
    {
     "name": "stderr",
     "output_type": "stream",
     "text": [
      "2016-10-11 18:15:34,464 : INFO : 2nd phase: running dense svd on (200L, 20L) matrix\n"
     ]
    },
    {
     "name": "stderr",
     "output_type": "stream",
     "text": [
      "2016-10-11 18:15:34,496 : INFO : computing the final decomposition\n"
     ]
    },
    {
     "name": "stderr",
     "output_type": "stream",
     "text": [
      "2016-10-11 18:15:34,497 : INFO : keeping 2 factors (discarding 0.000% of energy spectrum)\n"
     ]
    },
    {
     "name": "stderr",
     "output_type": "stream",
     "text": [
      "2016-10-11 18:15:34,509 : INFO : merging projections: (24774L, 100L) + (24774L, 2L)\n"
     ]
    },
    {
     "name": "stderr",
     "output_type": "stream",
     "text": [
      "2016-10-11 18:15:34,551 : INFO : keeping 100 factors (discarding 0.008% of energy spectrum)\n"
     ]
    },
    {
     "name": "stderr",
     "output_type": "stream",
     "text": [
      "2016-10-11 18:15:34,601 : INFO : processed documents up to #2520\n"
     ]
    },
    {
     "name": "stderr",
     "output_type": "stream",
     "text": [
      "2016-10-11 18:15:34,602 : INFO : topic #0(1569.045): 0.490*\"АЛЛАХ\" + 0.271*\"КОТОРЫЙ\" + 0.219*\"ЧЕЛОВЕК\" + 0.172*\"МИР\" + 0.151*\"СКАЗАТЬ\" + 0.149*\"ПРОРОК\" + 0.149*\"СВОЙ\" + 0.144*\"ВОПРОС\" + 0.132*\"ИСТОРИЯ\" + 0.118*\"КОРАН\"\n"
     ]
    },
    {
     "name": "stderr",
     "output_type": "stream",
     "text": [
      "2016-10-11 18:15:34,605 : INFO : topic #1(600.216): -0.586*\"АЛЛАХ\" + 0.218*\"ИДДА\" + 0.165*\"ЖЕНЩИНА\" + 0.165*\"ИСТОРИЯ\" + -0.162*\"ПОСЛАННИК\" + 0.158*\"МУЖ\" + 0.147*\"ИСЛАМСКИЙ\" + 0.146*\"РАЗВОД\" + 0.144*\"РАМАДАН\" + 0.130*\"САЙТ\"\n"
     ]
    },
    {
     "name": "stderr",
     "output_type": "stream",
     "text": [
      "2016-10-11 18:15:34,607 : INFO : topic #2(543.343): -0.467*\"ИДДА\" + -0.335*\"МУЖ\" + -0.325*\"ЖЕНЩИНА\" + -0.232*\"РАЗВОД\" + -0.194*\"ЖЕНА\" + -0.182*\"СРОК\" + -0.164*\"АЛЛАХ\" + 0.131*\"ИСТОРИЯ\" + -0.126*\"ПЕРИОД\" + -0.126*\"ДОЛЖНЫЙ\"\n"
     ]
    },
    {
     "name": "stderr",
     "output_type": "stream",
     "text": [
      "2016-10-11 18:15:34,609 : INFO : topic #3(422.812): 0.290*\"ИМАМ\" + 0.287*\"КОТОРЫЙ\" + 0.267*\"ЧЕЛОВЕК\" + -0.251*\"АЛЛАХ\" + -0.184*\"РАМАДАН\" + 0.176*\"КНИГА\" + 0.149*\"СЛОВО\" + -0.146*\"МИР\" + -0.133*\"ЧИТАТЬ\" + -0.129*\"НАМАЗ\"\n"
     ]
    },
    {
     "name": "stderr",
     "output_type": "stream",
     "text": [
      "2016-10-11 18:15:34,611 : INFO : topic #4(370.470): -0.466*\"ИМАМ\" + 0.330*\"ЧЕЛОВЕК\" + -0.277*\"УМ\" + -0.255*\"КНИГА\" + -0.240*\"ГОД\" + -0.197*\"АЛЛАХ\" + -0.171*\"УЧЁНЫЙ\" + -0.167*\"АБА\" + 0.120*\"КОТОРЫЙ\" + 0.118*\"ВОПРОС\"\n"
     ]
    },
    {
     "name": "stderr",
     "output_type": "stream",
     "text": [
      "2016-10-11 18:15:34,618 : INFO : preparing a new chunk of documents\n"
     ]
    },
    {
     "name": "stderr",
     "output_type": "stream",
     "text": [
      "2016-10-11 18:15:34,619 : INFO : using 100 extra samples and 2 power iterations\n"
     ]
    },
    {
     "name": "stderr",
     "output_type": "stream",
     "text": [
      "2016-10-11 18:15:34,621 : INFO : 1st phase: constructing (24774L, 200L) action matrix\n"
     ]
    },
    {
     "name": "stderr",
     "output_type": "stream",
     "text": [
      "2016-10-11 18:15:34,624 : INFO : orthonormalizing (24774L, 200L) action matrix\n"
     ]
    },
    {
     "name": "stderr",
     "output_type": "stream",
     "text": [
      "2016-10-11 18:15:35,855 : INFO : 2nd phase: running dense svd on (200L, 20L) matrix\n"
     ]
    },
    {
     "name": "stderr",
     "output_type": "stream",
     "text": [
      "2016-10-11 18:15:35,887 : INFO : computing the final decomposition\n"
     ]
    },
    {
     "name": "stderr",
     "output_type": "stream",
     "text": [
      "2016-10-11 18:15:35,888 : INFO : keeping 2 factors (discarding 0.000% of energy spectrum)\n"
     ]
    },
    {
     "name": "stderr",
     "output_type": "stream",
     "text": [
      "2016-10-11 18:15:35,898 : INFO : merging projections: (24774L, 100L) + (24774L, 2L)\n"
     ]
    },
    {
     "name": "stderr",
     "output_type": "stream",
     "text": [
      "2016-10-11 18:15:35,944 : INFO : keeping 100 factors (discarding 0.011% of energy spectrum)\n"
     ]
    },
    {
     "name": "stderr",
     "output_type": "stream",
     "text": [
      "2016-10-11 18:15:36,003 : INFO : processed documents up to #2540\n"
     ]
    },
    {
     "name": "stderr",
     "output_type": "stream",
     "text": [
      "2016-10-11 18:15:36,005 : INFO : topic #0(1569.410): 0.490*\"АЛЛАХ\" + 0.271*\"КОТОРЫЙ\" + 0.219*\"ЧЕЛОВЕК\" + 0.172*\"МИР\" + 0.151*\"СКАЗАТЬ\" + 0.149*\"ПРОРОК\" + 0.149*\"СВОЙ\" + 0.144*\"ВОПРОС\" + 0.132*\"ИСТОРИЯ\" + 0.118*\"КОРАН\"\n"
     ]
    },
    {
     "name": "stderr",
     "output_type": "stream",
     "text": [
      "2016-10-11 18:15:36,006 : INFO : topic #1(600.444): -0.586*\"АЛЛАХ\" + 0.217*\"ИДДА\" + 0.165*\"ИСТОРИЯ\" + 0.164*\"ЖЕНЩИНА\" + -0.162*\"ПОСЛАННИК\" + 0.157*\"МУЖ\" + 0.147*\"ИСЛАМСКИЙ\" + 0.145*\"РАЗВОД\" + 0.145*\"РАМАДАН\" + 0.131*\"САЙТ\"\n"
     ]
    },
    {
     "name": "stderr",
     "output_type": "stream",
     "text": [
      "2016-10-11 18:15:36,009 : INFO : topic #2(543.477): -0.468*\"ИДДА\" + -0.336*\"МУЖ\" + -0.326*\"ЖЕНЩИНА\" + -0.232*\"РАЗВОД\" + -0.195*\"ЖЕНА\" + -0.182*\"СРОК\" + -0.162*\"АЛЛАХ\" + 0.131*\"ИСТОРИЯ\" + -0.127*\"ПЕРИОД\" + -0.126*\"ДОЛЖНЫЙ\"\n"
     ]
    },
    {
     "name": "stderr",
     "output_type": "stream",
     "text": [
      "2016-10-11 18:15:36,010 : INFO : topic #3(423.050): 0.290*\"ИМАМ\" + 0.287*\"КОТОРЫЙ\" + 0.267*\"ЧЕЛОВЕК\" + -0.252*\"АЛЛАХ\" + -0.184*\"РАМАДАН\" + 0.176*\"КНИГА\" + 0.148*\"СЛОВО\" + -0.146*\"МИР\" + -0.134*\"ЧИТАТЬ\" + -0.129*\"НАМАЗ\"\n"
     ]
    },
    {
     "name": "stderr",
     "output_type": "stream",
     "text": [
      "2016-10-11 18:15:36,013 : INFO : topic #4(370.478): -0.465*\"ИМАМ\" + 0.330*\"ЧЕЛОВЕК\" + -0.277*\"УМ\" + -0.254*\"КНИГА\" + -0.240*\"ГОД\" + -0.197*\"АЛЛАХ\" + -0.171*\"УЧЁНЫЙ\" + -0.167*\"АБА\" + 0.121*\"КОТОРЫЙ\" + 0.119*\"ВОПРОС\"\n"
     ]
    },
    {
     "name": "stderr",
     "output_type": "stream",
     "text": [
      "2016-10-11 18:15:36,019 : INFO : preparing a new chunk of documents\n"
     ]
    },
    {
     "name": "stderr",
     "output_type": "stream",
     "text": [
      "2016-10-11 18:15:36,020 : INFO : using 100 extra samples and 2 power iterations\n"
     ]
    },
    {
     "name": "stderr",
     "output_type": "stream",
     "text": [
      "2016-10-11 18:15:36,022 : INFO : 1st phase: constructing (24774L, 200L) action matrix\n"
     ]
    },
    {
     "name": "stderr",
     "output_type": "stream",
     "text": [
      "2016-10-11 18:15:36,023 : INFO : orthonormalizing (24774L, 200L) action matrix\n"
     ]
    },
    {
     "name": "stderr",
     "output_type": "stream",
     "text": [
      "2016-10-11 18:15:37,286 : INFO : 2nd phase: running dense svd on (200L, 20L) matrix\n"
     ]
    },
    {
     "name": "stderr",
     "output_type": "stream",
     "text": [
      "2016-10-11 18:15:37,315 : INFO : computing the final decomposition\n"
     ]
    },
    {
     "name": "stderr",
     "output_type": "stream",
     "text": [
      "2016-10-11 18:15:37,318 : INFO : keeping 2 factors (discarding 0.000% of energy spectrum)\n"
     ]
    },
    {
     "name": "stderr",
     "output_type": "stream",
     "text": [
      "2016-10-11 18:15:37,328 : INFO : merging projections: (24774L, 100L) + (24774L, 2L)\n"
     ]
    },
    {
     "name": "stderr",
     "output_type": "stream",
     "text": [
      "2016-10-11 18:15:37,371 : INFO : keeping 100 factors (discarding 0.009% of energy spectrum)\n"
     ]
    },
    {
     "name": "stderr",
     "output_type": "stream",
     "text": [
      "2016-10-11 18:15:37,427 : INFO : processed documents up to #2560\n"
     ]
    },
    {
     "name": "stderr",
     "output_type": "stream",
     "text": [
      "2016-10-11 18:15:37,428 : INFO : topic #0(1569.685): 0.490*\"АЛЛАХ\" + 0.270*\"КОТОРЫЙ\" + 0.219*\"ЧЕЛОВЕК\" + 0.172*\"МИР\" + 0.150*\"СКАЗАТЬ\" + 0.149*\"ПРОРОК\" + 0.149*\"СВОЙ\" + 0.145*\"ВОПРОС\" + 0.132*\"ИСТОРИЯ\" + 0.118*\"КОРАН\"\n"
     ]
    },
    {
     "name": "stderr",
     "output_type": "stream",
     "text": [
      "2016-10-11 18:15:37,430 : INFO : topic #1(600.699): -0.587*\"АЛЛАХ\" + 0.216*\"ИДДА\" + 0.165*\"ИСТОРИЯ\" + 0.163*\"ЖЕНЩИНА\" + -0.162*\"ПОСЛАННИК\" + 0.156*\"МУЖ\" + 0.147*\"ИСЛАМСКИЙ\" + 0.146*\"РАМАДАН\" + 0.145*\"РАЗВОД\" + 0.131*\"САЙТ\"\n"
     ]
    },
    {
     "name": "stderr",
     "output_type": "stream",
     "text": [
      "2016-10-11 18:15:37,433 : INFO : topic #2(543.592): -0.468*\"ИДДА\" + -0.336*\"МУЖ\" + -0.326*\"ЖЕНЩИНА\" + -0.232*\"РАЗВОД\" + -0.195*\"ЖЕНА\" + -0.182*\"СРОК\" + -0.160*\"АЛЛАХ\" + 0.130*\"ИСТОРИЯ\" + -0.127*\"ПЕРИОД\" + -0.126*\"ДОЛЖНЫЙ\"\n"
     ]
    },
    {
     "name": "stderr",
     "output_type": "stream",
     "text": [
      "2016-10-11 18:15:37,434 : INFO : topic #3(423.266): 0.290*\"ИМАМ\" + 0.287*\"КОТОРЫЙ\" + 0.267*\"ЧЕЛОВЕК\" + -0.253*\"АЛЛАХ\" + -0.184*\"РАМАДАН\" + 0.177*\"КНИГА\" + 0.148*\"СЛОВО\" + -0.145*\"МИР\" + -0.135*\"ЧИТАТЬ\" + -0.129*\"НАМАЗ\"\n"
     ]
    },
    {
     "name": "stderr",
     "output_type": "stream",
     "text": [
      "2016-10-11 18:15:37,437 : INFO : topic #4(370.492): -0.465*\"ИМАМ\" + 0.330*\"ЧЕЛОВЕК\" + -0.277*\"УМ\" + -0.254*\"КНИГА\" + -0.240*\"ГОД\" + -0.197*\"АЛЛАХ\" + -0.171*\"УЧЁНЫЙ\" + -0.166*\"АБА\" + 0.121*\"ВОПРОС\" + 0.121*\"КОТОРЫЙ\"\n"
     ]
    },
    {
     "name": "stderr",
     "output_type": "stream",
     "text": [
      "2016-10-11 18:15:37,441 : INFO : preparing a new chunk of documents\n"
     ]
    },
    {
     "name": "stderr",
     "output_type": "stream",
     "text": [
      "2016-10-11 18:15:37,443 : INFO : using 100 extra samples and 2 power iterations\n"
     ]
    },
    {
     "name": "stderr",
     "output_type": "stream",
     "text": [
      "2016-10-11 18:15:37,444 : INFO : 1st phase: constructing (24774L, 200L) action matrix\n"
     ]
    },
    {
     "name": "stderr",
     "output_type": "stream",
     "text": [
      "2016-10-11 18:15:37,446 : INFO : orthonormalizing (24774L, 200L) action matrix\n"
     ]
    },
    {
     "name": "stderr",
     "output_type": "stream",
     "text": [
      "2016-10-11 18:15:38,684 : INFO : 2nd phase: running dense svd on (200L, 20L) matrix\n"
     ]
    },
    {
     "name": "stderr",
     "output_type": "stream",
     "text": [
      "2016-10-11 18:15:38,716 : INFO : computing the final decomposition\n"
     ]
    },
    {
     "name": "stderr",
     "output_type": "stream",
     "text": [
      "2016-10-11 18:15:38,717 : INFO : keeping 2 factors (discarding 0.000% of energy spectrum)\n"
     ]
    },
    {
     "name": "stderr",
     "output_type": "stream",
     "text": [
      "2016-10-11 18:15:38,726 : INFO : merging projections: (24774L, 100L) + (24774L, 2L)\n"
     ]
    },
    {
     "name": "stderr",
     "output_type": "stream",
     "text": [
      "2016-10-11 18:15:38,772 : INFO : keeping 100 factors (discarding 0.004% of energy spectrum)\n"
     ]
    },
    {
     "name": "stderr",
     "output_type": "stream",
     "text": [
      "2016-10-11 18:15:38,822 : INFO : processed documents up to #2580\n"
     ]
    },
    {
     "name": "stderr",
     "output_type": "stream",
     "text": [
      "2016-10-11 18:15:38,823 : INFO : topic #0(1569.774): 0.490*\"АЛЛАХ\" + 0.270*\"КОТОРЫЙ\" + 0.219*\"ЧЕЛОВЕК\" + 0.172*\"МИР\" + 0.150*\"СКАЗАТЬ\" + 0.149*\"ПРОРОК\" + 0.149*\"СВОЙ\" + 0.145*\"ВОПРОС\" + 0.132*\"ИСТОРИЯ\" + 0.118*\"КОРАН\"\n"
     ]
    },
    {
     "name": "stderr",
     "output_type": "stream",
     "text": [
      "2016-10-11 18:15:38,825 : INFO : topic #1(600.888): -0.587*\"АЛЛАХ\" + 0.215*\"ИДДА\" + 0.166*\"ИСТОРИЯ\" + 0.163*\"ЖЕНЩИНА\" + -0.162*\"ПОСЛАННИК\" + 0.155*\"МУЖ\" + 0.147*\"ИСЛАМСКИЙ\" + 0.146*\"РАМАДАН\" + 0.144*\"РАЗВОД\" + 0.132*\"САЙТ\"\n"
     ]
    },
    {
     "name": "stderr",
     "output_type": "stream",
     "text": [
      "2016-10-11 18:15:38,828 : INFO : topic #2(543.673): -0.469*\"ИДДА\" + -0.336*\"МУЖ\" + -0.326*\"ЖЕНЩИНА\" + -0.233*\"РАЗВОД\" + -0.195*\"ЖЕНА\" + -0.182*\"СРОК\" + -0.159*\"АЛЛАХ\" + 0.130*\"ИСТОРИЯ\" + -0.127*\"ПЕРИОД\" + -0.127*\"ДОЛЖНЫЙ\"\n"
     ]
    },
    {
     "name": "stderr",
     "output_type": "stream",
     "text": [
      "2016-10-11 18:15:38,829 : INFO : topic #3(423.369): 0.291*\"ИМАМ\" + 0.287*\"КОТОРЫЙ\" + 0.267*\"ЧЕЛОВЕК\" + -0.253*\"АЛЛАХ\" + -0.184*\"РАМАДАН\" + 0.177*\"КНИГА\" + 0.148*\"СЛОВО\" + -0.145*\"МИР\" + -0.135*\"ЧИТАТЬ\" + -0.129*\"ПОСТ\"\n"
     ]
    },
    {
     "name": "stderr",
     "output_type": "stream",
     "text": [
      "2016-10-11 18:15:38,832 : INFO : topic #4(370.492): -0.465*\"ИМАМ\" + 0.330*\"ЧЕЛОВЕК\" + -0.277*\"УМ\" + -0.254*\"КНИГА\" + -0.240*\"ГОД\" + -0.197*\"АЛЛАХ\" + -0.171*\"УЧЁНЫЙ\" + -0.166*\"АБА\" + 0.121*\"ВОПРОС\" + 0.121*\"КОТОРЫЙ\"\n"
     ]
    },
    {
     "name": "stderr",
     "output_type": "stream",
     "text": [
      "2016-10-11 18:15:38,836 : INFO : preparing a new chunk of documents\n"
     ]
    },
    {
     "name": "stderr",
     "output_type": "stream",
     "text": [
      "2016-10-11 18:15:38,838 : INFO : using 100 extra samples and 2 power iterations\n"
     ]
    },
    {
     "name": "stderr",
     "output_type": "stream",
     "text": [
      "2016-10-11 18:15:38,839 : INFO : 1st phase: constructing (24774L, 200L) action matrix\n"
     ]
    },
    {
     "name": "stderr",
     "output_type": "stream",
     "text": [
      "2016-10-11 18:15:38,842 : INFO : orthonormalizing (24774L, 200L) action matrix\n"
     ]
    },
    {
     "name": "stderr",
     "output_type": "stream",
     "text": [
      "2016-10-11 18:15:40,098 : INFO : 2nd phase: running dense svd on (200L, 20L) matrix\n"
     ]
    },
    {
     "name": "stderr",
     "output_type": "stream",
     "text": [
      "2016-10-11 18:15:40,128 : INFO : computing the final decomposition\n"
     ]
    },
    {
     "name": "stderr",
     "output_type": "stream",
     "text": [
      "2016-10-11 18:15:40,130 : INFO : keeping 2 factors (discarding 0.000% of energy spectrum)\n"
     ]
    },
    {
     "name": "stderr",
     "output_type": "stream",
     "text": [
      "2016-10-11 18:15:40,140 : INFO : merging projections: (24774L, 100L) + (24774L, 2L)\n"
     ]
    },
    {
     "name": "stderr",
     "output_type": "stream",
     "text": [
      "2016-10-11 18:15:40,183 : INFO : keeping 100 factors (discarding 0.003% of energy spectrum)\n"
     ]
    },
    {
     "name": "stderr",
     "output_type": "stream",
     "text": [
      "2016-10-11 18:15:40,233 : INFO : processed documents up to #2600\n"
     ]
    },
    {
     "name": "stderr",
     "output_type": "stream",
     "text": [
      "2016-10-11 18:15:40,236 : INFO : topic #0(1569.871): 0.490*\"АЛЛАХ\" + 0.270*\"КОТОРЫЙ\" + 0.219*\"ЧЕЛОВЕК\" + 0.172*\"МИР\" + 0.150*\"СКАЗАТЬ\" + 0.149*\"ПРОРОК\" + 0.149*\"СВОЙ\" + 0.145*\"ВОПРОС\" + 0.132*\"ИСТОРИЯ\" + 0.118*\"КОРАН\"\n"
     ]
    },
    {
     "name": "stderr",
     "output_type": "stream",
     "text": [
      "2016-10-11 18:15:40,239 : INFO : topic #1(601.008): -0.587*\"АЛЛАХ\" + 0.214*\"ИДДА\" + 0.166*\"ИСТОРИЯ\" + 0.162*\"ЖЕНЩИНА\" + -0.162*\"ПОСЛАННИК\" + 0.155*\"МУЖ\" + 0.147*\"ИСЛАМСКИЙ\" + 0.147*\"РАМАДАН\" + 0.144*\"РАЗВОД\" + 0.132*\"САЙТ\"\n"
     ]
    },
    {
     "name": "stderr",
     "output_type": "stream",
     "text": [
      "2016-10-11 18:15:40,240 : INFO : topic #2(543.747): -0.469*\"ИДДА\" + -0.337*\"МУЖ\" + -0.327*\"ЖЕНЩИНА\" + -0.233*\"РАЗВОД\" + -0.195*\"ЖЕНА\" + -0.182*\"СРОК\" + -0.158*\"АЛЛАХ\" + 0.130*\"ИСТОРИЯ\" + -0.127*\"ПЕРИОД\" + -0.127*\"ДОЛЖНЫЙ\"\n"
     ]
    },
    {
     "name": "stderr",
     "output_type": "stream",
     "text": [
      "2016-10-11 18:15:40,243 : INFO : topic #3(423.474): 0.291*\"ИМАМ\" + 0.287*\"КОТОРЫЙ\" + 0.266*\"ЧЕЛОВЕК\" + -0.253*\"АЛЛАХ\" + -0.184*\"РАМАДАН\" + 0.177*\"КНИГА\" + 0.148*\"СЛОВО\" + -0.145*\"МИР\" + -0.135*\"ЧИТАТЬ\" + -0.129*\"ПОСТ\"\n"
     ]
    },
    {
     "name": "stderr",
     "output_type": "stream",
     "text": [
      "2016-10-11 18:15:40,244 : INFO : topic #4(370.494): -0.465*\"ИМАМ\" + 0.330*\"ЧЕЛОВЕК\" + -0.277*\"УМ\" + -0.254*\"КНИГА\" + -0.240*\"ГОД\" + -0.197*\"АЛЛАХ\" + -0.171*\"УЧЁНЫЙ\" + -0.166*\"АБА\" + 0.121*\"ВОПРОС\" + 0.121*\"КОТОРЫЙ\"\n"
     ]
    },
    {
     "name": "stderr",
     "output_type": "stream",
     "text": [
      "2016-10-11 18:15:40,250 : INFO : preparing a new chunk of documents\n"
     ]
    },
    {
     "name": "stderr",
     "output_type": "stream",
     "text": [
      "2016-10-11 18:15:40,252 : INFO : using 100 extra samples and 2 power iterations\n"
     ]
    },
    {
     "name": "stderr",
     "output_type": "stream",
     "text": [
      "2016-10-11 18:15:40,253 : INFO : 1st phase: constructing (24774L, 200L) action matrix\n"
     ]
    },
    {
     "name": "stderr",
     "output_type": "stream",
     "text": [
      "2016-10-11 18:15:40,255 : INFO : orthonormalizing (24774L, 200L) action matrix\n"
     ]
    },
    {
     "name": "stderr",
     "output_type": "stream",
     "text": [
      "2016-10-11 18:15:41,526 : INFO : 2nd phase: running dense svd on (200L, 20L) matrix\n"
     ]
    },
    {
     "name": "stderr",
     "output_type": "stream",
     "text": [
      "2016-10-11 18:15:41,558 : INFO : computing the final decomposition\n"
     ]
    },
    {
     "name": "stderr",
     "output_type": "stream",
     "text": [
      "2016-10-11 18:15:41,559 : INFO : keeping 2 factors (discarding 0.000% of energy spectrum)\n"
     ]
    },
    {
     "name": "stderr",
     "output_type": "stream",
     "text": [
      "2016-10-11 18:15:41,569 : INFO : merging projections: (24774L, 100L) + (24774L, 2L)\n"
     ]
    },
    {
     "name": "stderr",
     "output_type": "stream",
     "text": [
      "2016-10-11 18:15:41,615 : INFO : keeping 100 factors (discarding 0.003% of energy spectrum)\n"
     ]
    },
    {
     "name": "stderr",
     "output_type": "stream",
     "text": [
      "2016-10-11 18:15:41,670 : INFO : processed documents up to #2620\n"
     ]
    },
    {
     "name": "stderr",
     "output_type": "stream",
     "text": [
      "2016-10-11 18:15:41,671 : INFO : topic #0(1569.975): 0.490*\"АЛЛАХ\" + 0.270*\"КОТОРЫЙ\" + 0.219*\"ЧЕЛОВЕК\" + 0.172*\"МИР\" + 0.150*\"СКАЗАТЬ\" + 0.149*\"ПРОРОК\" + 0.149*\"СВОЙ\" + 0.145*\"ВОПРОС\" + 0.132*\"ИСТОРИЯ\" + 0.118*\"КОРАН\"\n"
     ]
    },
    {
     "name": "stderr",
     "output_type": "stream",
     "text": [
      "2016-10-11 18:15:41,674 : INFO : topic #1(601.134): -0.587*\"АЛЛАХ\" + 0.213*\"ИДДА\" + 0.166*\"ИСТОРИЯ\" + -0.162*\"ПОСЛАННИК\" + 0.162*\"ЖЕНЩИНА\" + 0.154*\"МУЖ\" + 0.148*\"ИСЛАМСКИЙ\" + 0.147*\"РАМАДАН\" + 0.144*\"РАЗВОД\" + 0.132*\"САЙТ\"\n"
     ]
    },
    {
     "name": "stderr",
     "output_type": "stream",
     "text": [
      "2016-10-11 18:15:41,676 : INFO : topic #2(543.826): -0.469*\"ИДДА\" + -0.337*\"МУЖ\" + -0.327*\"ЖЕНЩИНА\" + -0.233*\"РАЗВОД\" + -0.195*\"ЖЕНА\" + -0.182*\"СРОК\" + -0.157*\"АЛЛАХ\" + 0.129*\"ИСТОРИЯ\" + -0.127*\"ПЕРИОД\" + -0.127*\"ДОЛЖНЫЙ\"\n"
     ]
    },
    {
     "name": "stderr",
     "output_type": "stream",
     "text": [
      "2016-10-11 18:15:41,677 : INFO : topic #3(423.545): 0.291*\"ИМАМ\" + 0.287*\"КОТОРЫЙ\" + 0.266*\"ЧЕЛОВЕК\" + -0.254*\"АЛЛАХ\" + -0.184*\"РАМАДАН\" + 0.177*\"КНИГА\" + 0.148*\"СЛОВО\" + -0.145*\"МИР\" + -0.135*\"ЧИТАТЬ\" + -0.128*\"ПОСТ\"\n"
     ]
    },
    {
     "name": "stderr",
     "output_type": "stream",
     "text": [
      "2016-10-11 18:15:41,680 : INFO : topic #4(370.497): -0.465*\"ИМАМ\" + 0.330*\"ЧЕЛОВЕК\" + -0.277*\"УМ\" + -0.254*\"КНИГА\" + -0.240*\"ГОД\" + -0.197*\"АЛЛАХ\" + -0.171*\"УЧЁНЫЙ\" + -0.166*\"АБА\" + 0.121*\"ВОПРОС\" + 0.121*\"КОТОРЫЙ\"\n"
     ]
    },
    {
     "name": "stderr",
     "output_type": "stream",
     "text": [
      "2016-10-11 18:15:41,686 : INFO : preparing a new chunk of documents\n"
     ]
    },
    {
     "name": "stderr",
     "output_type": "stream",
     "text": [
      "2016-10-11 18:15:41,687 : INFO : using 100 extra samples and 2 power iterations\n"
     ]
    },
    {
     "name": "stderr",
     "output_type": "stream",
     "text": [
      "2016-10-11 18:15:41,688 : INFO : 1st phase: constructing (24774L, 200L) action matrix\n"
     ]
    },
    {
     "name": "stderr",
     "output_type": "stream",
     "text": [
      "2016-10-11 18:15:41,690 : INFO : orthonormalizing (24774L, 200L) action matrix\n"
     ]
    },
    {
     "name": "stderr",
     "output_type": "stream",
     "text": [
      "2016-10-11 18:15:42,959 : INFO : 2nd phase: running dense svd on (200L, 20L) matrix\n"
     ]
    },
    {
     "name": "stderr",
     "output_type": "stream",
     "text": [
      "2016-10-11 18:15:42,990 : INFO : computing the final decomposition\n"
     ]
    },
    {
     "name": "stderr",
     "output_type": "stream",
     "text": [
      "2016-10-11 18:15:42,990 : INFO : keeping 2 factors (discarding 0.000% of energy spectrum)\n"
     ]
    },
    {
     "name": "stderr",
     "output_type": "stream",
     "text": [
      "2016-10-11 18:15:43,003 : INFO : merging projections: (24774L, 100L) + (24774L, 2L)\n"
     ]
    },
    {
     "name": "stderr",
     "output_type": "stream",
     "text": [
      "2016-10-11 18:15:43,048 : INFO : keeping 100 factors (discarding 0.011% of energy spectrum)\n"
     ]
    },
    {
     "name": "stderr",
     "output_type": "stream",
     "text": [
      "2016-10-11 18:15:43,101 : INFO : processed documents up to #2640\n"
     ]
    },
    {
     "name": "stderr",
     "output_type": "stream",
     "text": [
      "2016-10-11 18:15:43,104 : INFO : topic #0(1570.301): 0.490*\"АЛЛАХ\" + 0.270*\"КОТОРЫЙ\" + 0.219*\"ЧЕЛОВЕК\" + 0.172*\"МИР\" + 0.150*\"СКАЗАТЬ\" + 0.149*\"ПРОРОК\" + 0.149*\"СВОЙ\" + 0.145*\"ВОПРОС\" + 0.132*\"ИСТОРИЯ\" + 0.118*\"КОРАН\"\n"
     ]
    },
    {
     "name": "stderr",
     "output_type": "stream",
     "text": [
      "2016-10-11 18:15:43,105 : INFO : topic #1(601.353): -0.587*\"АЛЛАХ\" + 0.212*\"ИДДА\" + 0.166*\"ИСТОРИЯ\" + -0.162*\"ПОСЛАННИК\" + 0.161*\"ЖЕНЩИНА\" + 0.154*\"МУЖ\" + 0.148*\"ИСЛАМСКИЙ\" + 0.147*\"РАМАДАН\" + 0.143*\"РАЗВОД\" + 0.133*\"САЙТ\"\n"
     ]
    },
    {
     "name": "stderr",
     "output_type": "stream",
     "text": [
      "2016-10-11 18:15:43,108 : INFO : topic #2(543.870): -0.470*\"ИДДА\" + -0.337*\"МУЖ\" + -0.327*\"ЖЕНЩИНА\" + -0.233*\"РАЗВОД\" + -0.195*\"ЖЕНА\" + -0.183*\"СРОК\" + -0.156*\"АЛЛАХ\" + 0.129*\"ИСТОРИЯ\" + -0.127*\"ПЕРИОД\" + -0.127*\"ДОЛЖНЫЙ\"\n"
     ]
    },
    {
     "name": "stderr",
     "output_type": "stream",
     "text": [
      "2016-10-11 18:15:43,109 : INFO : topic #3(423.620): 0.292*\"ИМАМ\" + 0.287*\"КОТОРЫЙ\" + 0.266*\"ЧЕЛОВЕК\" + -0.254*\"АЛЛАХ\" + -0.183*\"РАМАДАН\" + 0.177*\"КНИГА\" + 0.147*\"СЛОВО\" + -0.145*\"МИР\" + -0.136*\"ЧИТАТЬ\" + -0.128*\"ПОСТ\"\n"
     ]
    },
    {
     "name": "stderr",
     "output_type": "stream",
     "text": [
      "2016-10-11 18:15:43,111 : INFO : topic #4(370.533): -0.465*\"ИМАМ\" + 0.330*\"ЧЕЛОВЕК\" + -0.277*\"УМ\" + -0.254*\"КНИГА\" + -0.239*\"ГОД\" + -0.197*\"АЛЛАХ\" + -0.171*\"УЧЁНЫЙ\" + -0.166*\"АБА\" + 0.124*\"ВОПРОС\" + 0.120*\"КОТОРЫЙ\"\n"
     ]
    },
    {
     "name": "stderr",
     "output_type": "stream",
     "text": [
      "2016-10-11 18:15:43,115 : INFO : preparing a new chunk of documents\n"
     ]
    },
    {
     "name": "stderr",
     "output_type": "stream",
     "text": [
      "2016-10-11 18:15:43,115 : INFO : using 100 extra samples and 2 power iterations\n"
     ]
    },
    {
     "name": "stderr",
     "output_type": "stream",
     "text": [
      "2016-10-11 18:15:43,117 : INFO : 1st phase: constructing (24774L, 200L) action matrix\n"
     ]
    },
    {
     "name": "stderr",
     "output_type": "stream",
     "text": [
      "2016-10-11 18:15:43,118 : INFO : orthonormalizing (24774L, 200L) action matrix\n"
     ]
    },
    {
     "name": "stderr",
     "output_type": "stream",
     "text": [
      "2016-10-11 18:15:44,073 : INFO : 2nd phase: running dense svd on (200L, 20L) matrix\n"
     ]
    },
    {
     "name": "stderr",
     "output_type": "stream",
     "text": [
      "2016-10-11 18:15:44,105 : INFO : computing the final decomposition\n"
     ]
    },
    {
     "name": "stderr",
     "output_type": "stream",
     "text": [
      "2016-10-11 18:15:44,105 : INFO : keeping 1 factors (discarding 0.000% of energy spectrum)\n"
     ]
    },
    {
     "name": "stderr",
     "output_type": "stream",
     "text": [
      "2016-10-11 18:15:44,114 : INFO : merging projections: (24774L, 100L) + (24774L, 1L)\n"
     ]
    },
    {
     "name": "stderr",
     "output_type": "stream",
     "text": [
      "2016-10-11 18:15:44,154 : INFO : keeping 100 factors (discarding 0.001% of energy spectrum)\n"
     ]
    },
    {
     "name": "stderr",
     "output_type": "stream",
     "text": [
      "2016-10-11 18:15:44,223 : INFO : processed documents up to #2660\n"
     ]
    },
    {
     "name": "stderr",
     "output_type": "stream",
     "text": [
      "2016-10-11 18:15:44,226 : INFO : topic #0(1570.344): 0.490*\"АЛЛАХ\" + 0.270*\"КОТОРЫЙ\" + 0.219*\"ЧЕЛОВЕК\" + 0.172*\"МИР\" + 0.150*\"СКАЗАТЬ\" + 0.149*\"ПРОРОК\" + 0.149*\"СВОЙ\" + 0.145*\"ВОПРОС\" + 0.132*\"ИСТОРИЯ\" + 0.118*\"КОРАН\"\n"
     ]
    },
    {
     "name": "stderr",
     "output_type": "stream",
     "text": [
      "2016-10-11 18:15:44,229 : INFO : topic #1(601.415): -0.587*\"АЛЛАХ\" + 0.212*\"ИДДА\" + 0.166*\"ИСТОРИЯ\" + -0.162*\"ПОСЛАННИК\" + 0.161*\"ЖЕНЩИНА\" + 0.154*\"МУЖ\" + 0.148*\"ИСЛАМСКИЙ\" + 0.147*\"РАМАДАН\" + 0.143*\"РАЗВОД\" + 0.133*\"САЙТ\"\n"
     ]
    },
    {
     "name": "stderr",
     "output_type": "stream",
     "text": [
      "2016-10-11 18:15:44,230 : INFO : topic #2(543.893): -0.470*\"ИДДА\" + -0.337*\"МУЖ\" + -0.327*\"ЖЕНЩИНА\" + -0.233*\"РАЗВОД\" + -0.195*\"ЖЕНА\" + -0.183*\"СРОК\" + -0.155*\"АЛЛАХ\" + 0.129*\"ИСТОРИЯ\" + -0.127*\"ПЕРИОД\" + -0.127*\"ДОЛЖНЫЙ\"\n"
     ]
    },
    {
     "name": "stderr",
     "output_type": "stream",
     "text": [
      "2016-10-11 18:15:44,233 : INFO : topic #3(423.664): 0.292*\"ИМАМ\" + 0.287*\"КОТОРЫЙ\" + 0.266*\"ЧЕЛОВЕК\" + -0.255*\"АЛЛАХ\" + -0.183*\"РАМАДАН\" + 0.177*\"КНИГА\" + 0.147*\"СЛОВО\" + -0.144*\"МИР\" + -0.136*\"ЧИТАТЬ\" + -0.128*\"ПОСТ\"\n"
     ]
    },
    {
     "name": "stderr",
     "output_type": "stream",
     "text": [
      "2016-10-11 18:15:44,236 : INFO : topic #4(370.533): -0.465*\"ИМАМ\" + 0.330*\"ЧЕЛОВЕК\" + -0.277*\"УМ\" + -0.254*\"КНИГА\" + -0.239*\"ГОД\" + -0.197*\"АЛЛАХ\" + -0.171*\"УЧЁНЫЙ\" + -0.166*\"АБА\" + 0.124*\"ВОПРОС\" + 0.120*\"КОТОРЫЙ\"\n"
     ]
    },
    {
     "name": "stderr",
     "output_type": "stream",
     "text": [
      "2016-10-11 18:15:44,250 : INFO : preparing a new chunk of documents\n"
     ]
    },
    {
     "name": "stderr",
     "output_type": "stream",
     "text": [
      "2016-10-11 18:15:44,252 : INFO : using 100 extra samples and 2 power iterations\n"
     ]
    },
    {
     "name": "stderr",
     "output_type": "stream",
     "text": [
      "2016-10-11 18:15:44,253 : INFO : 1st phase: constructing (24774L, 200L) action matrix\n"
     ]
    },
    {
     "name": "stderr",
     "output_type": "stream",
     "text": [
      "2016-10-11 18:15:44,256 : INFO : orthonormalizing (24774L, 200L) action matrix\n"
     ]
    },
    {
     "name": "stderr",
     "output_type": "stream",
     "text": [
      "2016-10-11 18:15:45,516 : INFO : 2nd phase: running dense svd on (200L, 20L) matrix\n"
     ]
    },
    {
     "name": "stderr",
     "output_type": "stream",
     "text": [
      "2016-10-11 18:15:45,543 : INFO : computing the final decomposition\n"
     ]
    },
    {
     "name": "stderr",
     "output_type": "stream",
     "text": [
      "2016-10-11 18:15:45,545 : INFO : keeping 3 factors (discarding 0.000% of energy spectrum)\n"
     ]
    },
    {
     "name": "stderr",
     "output_type": "stream",
     "text": [
      "2016-10-11 18:15:45,558 : INFO : merging projections: (24774L, 100L) + (24774L, 3L)\n"
     ]
    },
    {
     "name": "stderr",
     "output_type": "stream",
     "text": [
      "2016-10-11 18:15:45,601 : INFO : keeping 100 factors (discarding 0.014% of energy spectrum)\n"
     ]
    },
    {
     "name": "stderr",
     "output_type": "stream",
     "text": [
      "2016-10-11 18:15:45,660 : INFO : processed documents up to #2680\n"
     ]
    },
    {
     "name": "stderr",
     "output_type": "stream",
     "text": [
      "2016-10-11 18:15:45,663 : INFO : topic #0(1570.701): 0.489*\"АЛЛАХ\" + 0.270*\"КОТОРЫЙ\" + 0.219*\"ЧЕЛОВЕК\" + 0.171*\"МИР\" + 0.150*\"СКАЗАТЬ\" + 0.149*\"ПРОРОК\" + 0.149*\"СВОЙ\" + 0.145*\"ВОПРОС\" + 0.132*\"ИСТОРИЯ\" + 0.118*\"КОРАН\"\n"
     ]
    },
    {
     "name": "stderr",
     "output_type": "stream",
     "text": [
      "2016-10-11 18:15:45,664 : INFO : topic #1(601.777): -0.588*\"АЛЛАХ\" + 0.211*\"ИДДА\" + 0.167*\"ИСТОРИЯ\" + -0.162*\"ПОСЛАННИК\" + 0.160*\"ЖЕНЩИНА\" + 0.153*\"МУЖ\" + 0.148*\"ИСЛАМСКИЙ\" + 0.148*\"РАМАДАН\" + 0.143*\"РАЗВОД\" + 0.133*\"САЙТ\"\n"
     ]
    },
    {
     "name": "stderr",
     "output_type": "stream",
     "text": [
      "2016-10-11 18:15:45,667 : INFO : topic #2(544.004): -0.471*\"ИДДА\" + -0.338*\"МУЖ\" + -0.328*\"ЖЕНЩИНА\" + -0.234*\"РАЗВОД\" + -0.196*\"ЖЕНА\" + -0.183*\"СРОК\" + -0.153*\"АЛЛАХ\" + 0.129*\"ИСТОРИЯ\" + -0.127*\"ПЕРИОД\" + -0.127*\"ДОЛЖНЫЙ\"\n"
     ]
    },
    {
     "name": "stderr",
     "output_type": "stream",
     "text": [
      "2016-10-11 18:15:45,668 : INFO : topic #3(423.745): 0.292*\"ИМАМ\" + 0.287*\"КОТОРЫЙ\" + 0.266*\"ЧЕЛОВЕК\" + -0.255*\"АЛЛАХ\" + -0.183*\"РАМАДАН\" + 0.178*\"КНИГА\" + 0.147*\"СЛОВО\" + -0.144*\"МИР\" + -0.136*\"ЧИТАТЬ\" + -0.128*\"ПОСТ\"\n"
     ]
    },
    {
     "name": "stderr",
     "output_type": "stream",
     "text": [
      "2016-10-11 18:15:45,671 : INFO : topic #4(370.565): -0.465*\"ИМАМ\" + 0.330*\"ЧЕЛОВЕК\" + -0.277*\"УМ\" + -0.254*\"КНИГА\" + -0.239*\"ГОД\" + -0.196*\"АЛЛАХ\" + -0.170*\"УЧЁНЫЙ\" + -0.167*\"АБА\" + 0.125*\"ВОПРОС\" + 0.120*\"КОТОРЫЙ\"\n"
     ]
    },
    {
     "name": "stderr",
     "output_type": "stream",
     "text": [
      "2016-10-11 18:15:45,676 : INFO : preparing a new chunk of documents\n"
     ]
    },
    {
     "name": "stderr",
     "output_type": "stream",
     "text": [
      "2016-10-11 18:15:45,677 : INFO : using 100 extra samples and 2 power iterations\n"
     ]
    },
    {
     "name": "stderr",
     "output_type": "stream",
     "text": [
      "2016-10-11 18:15:45,677 : INFO : 1st phase: constructing (24774L, 200L) action matrix\n"
     ]
    },
    {
     "name": "stderr",
     "output_type": "stream",
     "text": [
      "2016-10-11 18:15:45,680 : INFO : orthonormalizing (24774L, 200L) action matrix\n"
     ]
    },
    {
     "name": "stderr",
     "output_type": "stream",
     "text": [
      "2016-10-11 18:15:46,928 : INFO : 2nd phase: running dense svd on (200L, 20L) matrix\n"
     ]
    },
    {
     "name": "stderr",
     "output_type": "stream",
     "text": [
      "2016-10-11 18:15:46,957 : INFO : computing the final decomposition\n"
     ]
    },
    {
     "name": "stderr",
     "output_type": "stream",
     "text": [
      "2016-10-11 18:15:46,959 : INFO : keeping 2 factors (discarding 0.000% of energy spectrum)\n"
     ]
    },
    {
     "name": "stderr",
     "output_type": "stream",
     "text": [
      "2016-10-11 18:15:46,967 : INFO : merging projections: (24774L, 100L) + (24774L, 2L)\n"
     ]
    },
    {
     "name": "stderr",
     "output_type": "stream",
     "text": [
      "2016-10-11 18:15:47,012 : INFO : keeping 100 factors (discarding 0.003% of energy spectrum)\n"
     ]
    },
    {
     "name": "stderr",
     "output_type": "stream",
     "text": [
      "2016-10-11 18:15:47,065 : INFO : processed documents up to #2700\n"
     ]
    },
    {
     "name": "stderr",
     "output_type": "stream",
     "text": [
      "2016-10-11 18:15:47,069 : INFO : topic #0(1570.807): 0.489*\"АЛЛАХ\" + 0.270*\"КОТОРЫЙ\" + 0.219*\"ЧЕЛОВЕК\" + 0.172*\"МИР\" + 0.150*\"СКАЗАТЬ\" + 0.149*\"ПРОРОК\" + 0.149*\"СВОЙ\" + 0.145*\"ВОПРОС\" + 0.132*\"ИСТОРИЯ\" + 0.118*\"КОРАН\"\n"
     ]
    },
    {
     "name": "stderr",
     "output_type": "stream",
     "text": [
      "2016-10-11 18:15:47,071 : INFO : topic #1(601.885): -0.588*\"АЛЛАХ\" + 0.210*\"ИДДА\" + 0.167*\"ИСТОРИЯ\" + -0.162*\"ПОСЛАННИК\" + 0.159*\"ЖЕНЩИНА\" + 0.152*\"МУЖ\" + 0.148*\"ИСЛАМСКИЙ\" + 0.148*\"РАМАДАН\" + 0.142*\"РАЗВОД\" + 0.133*\"САЙТ\"\n"
     ]
    },
    {
     "name": "stderr",
     "output_type": "stream",
     "text": [
      "2016-10-11 18:15:47,072 : INFO : topic #2(544.071): -0.471*\"ИДДА\" + -0.338*\"МУЖ\" + -0.328*\"ЖЕНЩИНА\" + -0.234*\"РАЗВОД\" + -0.196*\"ЖЕНА\" + -0.183*\"СРОК\" + -0.152*\"АЛЛАХ\" + 0.128*\"ИСТОРИЯ\" + -0.127*\"ДОЛЖНЫЙ\" + -0.127*\"ПЕРИОД\"\n"
     ]
    },
    {
     "name": "stderr",
     "output_type": "stream",
     "text": [
      "2016-10-11 18:15:47,075 : INFO : topic #3(423.816): 0.292*\"ИМАМ\" + 0.287*\"КОТОРЫЙ\" + 0.266*\"ЧЕЛОВЕК\" + -0.255*\"АЛЛАХ\" + -0.183*\"РАМАДАН\" + 0.178*\"КНИГА\" + 0.147*\"СЛОВО\" + -0.144*\"МИР\" + -0.136*\"ЧИТАТЬ\" + -0.128*\"ПОСТ\"\n"
     ]
    },
    {
     "name": "stderr",
     "output_type": "stream",
     "text": [
      "2016-10-11 18:15:47,076 : INFO : topic #4(370.569): -0.465*\"ИМАМ\" + 0.330*\"ЧЕЛОВЕК\" + -0.277*\"УМ\" + -0.254*\"КНИГА\" + -0.239*\"ГОД\" + -0.196*\"АЛЛАХ\" + -0.170*\"УЧЁНЫЙ\" + -0.167*\"АБА\" + 0.125*\"ВОПРОС\" + 0.120*\"КОТОРЫЙ\"\n"
     ]
    },
    {
     "name": "stderr",
     "output_type": "stream",
     "text": [
      "2016-10-11 18:15:47,082 : INFO : preparing a new chunk of documents\n"
     ]
    },
    {
     "name": "stderr",
     "output_type": "stream",
     "text": [
      "2016-10-11 18:15:47,085 : INFO : using 100 extra samples and 2 power iterations\n"
     ]
    },
    {
     "name": "stderr",
     "output_type": "stream",
     "text": [
      "2016-10-11 18:15:47,085 : INFO : 1st phase: constructing (24774L, 200L) action matrix\n"
     ]
    },
    {
     "name": "stderr",
     "output_type": "stream",
     "text": [
      "2016-10-11 18:15:47,088 : INFO : orthonormalizing (24774L, 200L) action matrix\n"
     ]
    },
    {
     "name": "stderr",
     "output_type": "stream",
     "text": [
      "2016-10-11 18:15:48,332 : INFO : 2nd phase: running dense svd on (200L, 20L) matrix\n"
     ]
    },
    {
     "name": "stderr",
     "output_type": "stream",
     "text": [
      "2016-10-11 18:15:48,362 : INFO : computing the final decomposition\n"
     ]
    },
    {
     "name": "stderr",
     "output_type": "stream",
     "text": [
      "2016-10-11 18:15:48,364 : INFO : keeping 2 factors (discarding 0.000% of energy spectrum)\n"
     ]
    },
    {
     "name": "stderr",
     "output_type": "stream",
     "text": [
      "2016-10-11 18:15:48,375 : INFO : merging projections: (24774L, 100L) + (24774L, 2L)\n"
     ]
    },
    {
     "name": "stderr",
     "output_type": "stream",
     "text": [
      "2016-10-11 18:15:48,421 : INFO : keeping 100 factors (discarding 0.016% of energy spectrum)\n"
     ]
    },
    {
     "name": "stderr",
     "output_type": "stream",
     "text": [
      "2016-10-11 18:15:48,480 : INFO : processed documents up to #2720\n"
     ]
    },
    {
     "name": "stderr",
     "output_type": "stream",
     "text": [
      "2016-10-11 18:15:48,482 : INFO : topic #0(1571.299): 0.489*\"АЛЛАХ\" + 0.270*\"КОТОРЫЙ\" + 0.219*\"ЧЕЛОВЕК\" + 0.172*\"МИР\" + 0.150*\"СКАЗАТЬ\" + 0.149*\"ПРОРОК\" + 0.149*\"СВОЙ\" + 0.145*\"ВОПРОС\" + 0.132*\"ИСТОРИЯ\" + 0.118*\"КОРАН\"\n"
     ]
    },
    {
     "name": "stderr",
     "output_type": "stream",
     "text": [
      "2016-10-11 18:15:48,483 : INFO : topic #1(602.094): -0.588*\"АЛЛАХ\" + 0.208*\"ИДДА\" + 0.168*\"ИСТОРИЯ\" + -0.162*\"ПОСЛАННИК\" + 0.158*\"ЖЕНЩИНА\" + 0.151*\"МУЖ\" + 0.149*\"ИСЛАМСКИЙ\" + 0.148*\"РАМАДАН\" + 0.142*\"РАЗВОД\" + 0.134*\"САЙТ\"\n"
     ]
    },
    {
     "name": "stderr",
     "output_type": "stream",
     "text": [
      "2016-10-11 18:15:48,486 : INFO : topic #2(544.273): -0.471*\"ИДДА\" + -0.338*\"МУЖ\" + -0.328*\"ЖЕНЩИНА\" + -0.234*\"РАЗВОД\" + -0.196*\"ЖЕНА\" + -0.183*\"СРОК\" + -0.150*\"АЛЛАХ\" + 0.128*\"ИСТОРИЯ\" + -0.128*\"ДОЛЖНЫЙ\" + -0.128*\"ПЕРИОД\"\n"
     ]
    },
    {
     "name": "stderr",
     "output_type": "stream",
     "text": [
      "2016-10-11 18:15:48,487 : INFO : topic #3(423.875): 0.294*\"ИМАМ\" + 0.287*\"КОТОРЫЙ\" + 0.265*\"ЧЕЛОВЕК\" + -0.254*\"АЛЛАХ\" + -0.183*\"РАМАДАН\" + 0.178*\"КНИГА\" + 0.147*\"СЛОВО\" + -0.144*\"МИР\" + -0.136*\"ЧИТАТЬ\" + 0.128*\"УЧЁНЫЙ\"\n"
     ]
    },
    {
     "name": "stderr",
     "output_type": "stream",
     "text": [
      "2016-10-11 18:15:48,490 : INFO : topic #4(371.668): -0.466*\"ИМАМ\" + 0.329*\"ЧЕЛОВЕК\" + -0.277*\"УМ\" + -0.251*\"КНИГА\" + -0.236*\"ГОД\" + -0.199*\"АЛЛАХ\" + -0.171*\"УЧЁНЫЙ\" + -0.166*\"АБА\" + 0.125*\"ВОПРОС\" + 0.121*\"КОТОРЫЙ\"\n"
     ]
    },
    {
     "name": "stderr",
     "output_type": "stream",
     "text": [
      "2016-10-11 18:15:48,494 : INFO : preparing a new chunk of documents\n"
     ]
    },
    {
     "name": "stderr",
     "output_type": "stream",
     "text": [
      "2016-10-11 18:15:48,496 : INFO : using 100 extra samples and 2 power iterations\n"
     ]
    },
    {
     "name": "stderr",
     "output_type": "stream",
     "text": [
      "2016-10-11 18:15:48,497 : INFO : 1st phase: constructing (24774L, 200L) action matrix\n"
     ]
    },
    {
     "name": "stderr",
     "output_type": "stream",
     "text": [
      "2016-10-11 18:15:48,500 : INFO : orthonormalizing (24774L, 200L) action matrix\n"
     ]
    },
    {
     "name": "stderr",
     "output_type": "stream",
     "text": [
      "2016-10-11 18:15:49,756 : INFO : 2nd phase: running dense svd on (200L, 20L) matrix\n"
     ]
    },
    {
     "name": "stderr",
     "output_type": "stream",
     "text": [
      "2016-10-11 18:15:49,786 : INFO : computing the final decomposition\n"
     ]
    },
    {
     "name": "stderr",
     "output_type": "stream",
     "text": [
      "2016-10-11 18:15:49,786 : INFO : keeping 2 factors (discarding 0.000% of energy spectrum)\n"
     ]
    },
    {
     "name": "stderr",
     "output_type": "stream",
     "text": [
      "2016-10-11 18:15:49,796 : INFO : merging projections: (24774L, 100L) + (24774L, 2L)\n"
     ]
    },
    {
     "name": "stderr",
     "output_type": "stream",
     "text": [
      "2016-10-11 18:15:49,838 : INFO : keeping 100 factors (discarding 0.009% of energy spectrum)\n"
     ]
    },
    {
     "name": "stderr",
     "output_type": "stream",
     "text": [
      "2016-10-11 18:15:49,894 : INFO : processed documents up to #2740\n"
     ]
    },
    {
     "name": "stderr",
     "output_type": "stream",
     "text": [
      "2016-10-11 18:15:49,898 : INFO : topic #0(1571.429): 0.489*\"АЛЛАХ\" + 0.270*\"КОТОРЫЙ\" + 0.219*\"ЧЕЛОВЕК\" + 0.172*\"МИР\" + 0.150*\"СКАЗАТЬ\" + 0.149*\"ПРОРОК\" + 0.149*\"СВОЙ\" + 0.145*\"ВОПРОС\" + 0.132*\"ИСТОРИЯ\" + 0.118*\"КОРАН\"\n"
     ]
    },
    {
     "name": "stderr",
     "output_type": "stream",
     "text": [
      "2016-10-11 18:15:49,900 : INFO : topic #1(602.332): -0.589*\"АЛЛАХ\" + 0.207*\"ИДДА\" + 0.168*\"ИСТОРИЯ\" + -0.162*\"ПОСЛАННИК\" + 0.157*\"ЖЕНЩИНА\" + 0.150*\"МУЖ\" + 0.149*\"ИСЛАМСКИЙ\" + 0.148*\"РАМАДАН\" + 0.141*\"РАЗВОД\" + 0.134*\"САЙТ\"\n"
     ]
    },
    {
     "name": "stderr",
     "output_type": "stream",
     "text": [
      "2016-10-11 18:15:49,901 : INFO : topic #2(544.403): -0.472*\"ИДДА\" + -0.339*\"МУЖ\" + -0.329*\"ЖЕНЩИНА\" + -0.235*\"РАЗВОД\" + -0.196*\"ЖЕНА\" + -0.184*\"СРОК\" + -0.148*\"АЛЛАХ\" + -0.128*\"ДОЛЖНЫЙ\" + -0.128*\"ПЕРИОД\" + 0.128*\"ИСТОРИЯ\"\n"
     ]
    },
    {
     "name": "stderr",
     "output_type": "stream",
     "text": [
      "2016-10-11 18:15:49,904 : INFO : topic #3(423.937): 0.295*\"ИМАМ\" + 0.287*\"КОТОРЫЙ\" + 0.264*\"ЧЕЛОВЕК\" + -0.254*\"АЛЛАХ\" + -0.183*\"РАМАДАН\" + 0.178*\"КНИГА\" + 0.147*\"СЛОВО\" + -0.144*\"МИР\" + -0.135*\"ЧИТАТЬ\" + 0.128*\"УЧЁНЫЙ\"\n"
     ]
    },
    {
     "name": "stderr",
     "output_type": "stream",
     "text": [
      "2016-10-11 18:15:49,905 : INFO : topic #4(372.071): -0.467*\"ИМАМ\" + 0.329*\"ЧЕЛОВЕК\" + -0.277*\"УМ\" + -0.249*\"КНИГА\" + -0.234*\"ГОД\" + -0.200*\"АЛЛАХ\" + -0.172*\"УЧЁНЫЙ\" + -0.166*\"АБА\" + 0.125*\"ВОПРОС\" + 0.122*\"КОТОРЫЙ\"\n"
     ]
    },
    {
     "name": "stderr",
     "output_type": "stream",
     "text": [
      "2016-10-11 18:15:49,908 : INFO : preparing a new chunk of documents\n"
     ]
    },
    {
     "name": "stderr",
     "output_type": "stream",
     "text": [
      "2016-10-11 18:15:49,911 : INFO : using 100 extra samples and 2 power iterations\n"
     ]
    },
    {
     "name": "stderr",
     "output_type": "stream",
     "text": [
      "2016-10-11 18:15:49,911 : INFO : 1st phase: constructing (24774L, 200L) action matrix\n"
     ]
    },
    {
     "name": "stderr",
     "output_type": "stream",
     "text": [
      "2016-10-11 18:15:49,914 : INFO : orthonormalizing (24774L, 200L) action matrix\n"
     ]
    },
    {
     "name": "stderr",
     "output_type": "stream",
     "text": [
      "2016-10-11 18:15:51,140 : INFO : 2nd phase: running dense svd on (200L, 20L) matrix\n"
     ]
    },
    {
     "name": "stderr",
     "output_type": "stream",
     "text": [
      "2016-10-11 18:15:51,171 : INFO : computing the final decomposition\n"
     ]
    },
    {
     "name": "stderr",
     "output_type": "stream",
     "text": [
      "2016-10-11 18:15:51,173 : INFO : keeping 1 factors (discarding 0.000% of energy spectrum)\n"
     ]
    },
    {
     "name": "stderr",
     "output_type": "stream",
     "text": [
      "2016-10-11 18:15:51,180 : INFO : merging projections: (24774L, 100L) + (24774L, 1L)\n"
     ]
    },
    {
     "name": "stderr",
     "output_type": "stream",
     "text": [
      "2016-10-11 18:15:51,223 : INFO : keeping 100 factors (discarding 0.002% of energy spectrum)\n"
     ]
    },
    {
     "name": "stderr",
     "output_type": "stream",
     "text": [
      "2016-10-11 18:15:51,283 : INFO : processed documents up to #2760\n"
     ]
    },
    {
     "name": "stderr",
     "output_type": "stream",
     "text": [
      "2016-10-11 18:15:51,286 : INFO : topic #0(1571.471): 0.489*\"АЛЛАХ\" + 0.270*\"КОТОРЫЙ\" + 0.219*\"ЧЕЛОВЕК\" + 0.172*\"МИР\" + 0.150*\"СКАЗАТЬ\" + 0.149*\"ПРОРОК\" + 0.149*\"СВОЙ\" + 0.145*\"ВОПРОС\" + 0.132*\"ИСТОРИЯ\" + 0.118*\"КОРАН\"\n"
     ]
    },
    {
     "name": "stderr",
     "output_type": "stream",
     "text": [
      "2016-10-11 18:15:51,288 : INFO : topic #1(602.424): -0.589*\"АЛЛАХ\" + 0.207*\"ИДДА\" + 0.169*\"ИСТОРИЯ\" + -0.162*\"ПОСЛАННИК\" + 0.157*\"ЖЕНЩИНА\" + 0.150*\"МУЖ\" + 0.149*\"ИСЛАМСКИЙ\" + 0.148*\"РАМАДАН\" + 0.141*\"РАЗВОД\" + 0.134*\"САЙТ\"\n"
     ]
    },
    {
     "name": "stderr",
     "output_type": "stream",
     "text": [
      "2016-10-11 18:15:51,289 : INFO : topic #2(544.449): -0.472*\"ИДДА\" + -0.339*\"МУЖ\" + -0.329*\"ЖЕНЩИНА\" + -0.235*\"РАЗВОД\" + -0.196*\"ЖЕНА\" + -0.184*\"СРОК\" + -0.147*\"АЛЛАХ\" + -0.128*\"ДОЛЖНЫЙ\" + -0.128*\"ПЕРИОД\" + 0.128*\"ИСТОРИЯ\"\n"
     ]
    },
    {
     "name": "stderr",
     "output_type": "stream",
     "text": [
      "2016-10-11 18:15:51,292 : INFO : topic #3(423.950): 0.295*\"ИМАМ\" + 0.287*\"КОТОРЫЙ\" + 0.264*\"ЧЕЛОВЕК\" + -0.254*\"АЛЛАХ\" + -0.183*\"РАМАДАН\" + 0.179*\"КНИГА\" + 0.147*\"СЛОВО\" + -0.144*\"МИР\" + -0.135*\"ЧИТАТЬ\" + 0.128*\"УЧЁНЫЙ\"\n"
     ]
    },
    {
     "name": "stderr",
     "output_type": "stream",
     "text": [
      "2016-10-11 18:15:51,293 : INFO : topic #4(372.072): -0.467*\"ИМАМ\" + 0.329*\"ЧЕЛОВЕК\" + -0.277*\"УМ\" + -0.249*\"КНИГА\" + -0.234*\"ГОД\" + -0.200*\"АЛЛАХ\" + -0.172*\"УЧЁНЫЙ\" + -0.166*\"АБА\" + 0.125*\"ВОПРОС\" + 0.122*\"КОТОРЫЙ\"\n"
     ]
    },
    {
     "name": "stderr",
     "output_type": "stream",
     "text": [
      "2016-10-11 18:15:51,302 : INFO : preparing a new chunk of documents\n"
     ]
    },
    {
     "name": "stderr",
     "output_type": "stream",
     "text": [
      "2016-10-11 18:15:51,303 : INFO : using 100 extra samples and 2 power iterations\n"
     ]
    },
    {
     "name": "stderr",
     "output_type": "stream",
     "text": [
      "2016-10-11 18:15:51,305 : INFO : 1st phase: constructing (24774L, 200L) action matrix\n"
     ]
    },
    {
     "name": "stderr",
     "output_type": "stream",
     "text": [
      "2016-10-11 18:15:51,308 : INFO : orthonormalizing (24774L, 200L) action matrix\n"
     ]
    },
    {
     "name": "stderr",
     "output_type": "stream",
     "text": [
      "2016-10-11 18:15:52,563 : INFO : 2nd phase: running dense svd on (200L, 20L) matrix\n"
     ]
    },
    {
     "name": "stderr",
     "output_type": "stream",
     "text": [
      "2016-10-11 18:15:52,594 : INFO : computing the final decomposition\n"
     ]
    },
    {
     "name": "stderr",
     "output_type": "stream",
     "text": [
      "2016-10-11 18:15:52,595 : INFO : keeping 3 factors (discarding 0.000% of energy spectrum)\n"
     ]
    },
    {
     "name": "stderr",
     "output_type": "stream",
     "text": [
      "2016-10-11 18:15:52,605 : INFO : merging projections: (24774L, 100L) + (24774L, 3L)\n"
     ]
    },
    {
     "name": "stderr",
     "output_type": "stream",
     "text": [
      "2016-10-11 18:15:52,650 : INFO : keeping 100 factors (discarding 0.011% of energy spectrum)\n"
     ]
    },
    {
     "name": "stderr",
     "output_type": "stream",
     "text": [
      "2016-10-11 18:15:52,709 : INFO : processed documents up to #2780\n"
     ]
    },
    {
     "name": "stderr",
     "output_type": "stream",
     "text": [
      "2016-10-11 18:15:52,710 : INFO : topic #0(1571.826): 0.489*\"АЛЛАХ\" + 0.270*\"КОТОРЫЙ\" + 0.219*\"ЧЕЛОВЕК\" + 0.172*\"МИР\" + 0.150*\"СКАЗАТЬ\" + 0.149*\"ПРОРОК\" + 0.149*\"СВОЙ\" + 0.145*\"ВОПРОС\" + 0.132*\"ИСТОРИЯ\" + 0.118*\"КОРАН\"\n"
     ]
    },
    {
     "name": "stderr",
     "output_type": "stream",
     "text": [
      "2016-10-11 18:15:52,713 : INFO : topic #1(602.620): -0.589*\"АЛЛАХ\" + 0.205*\"ИДДА\" + 0.169*\"ИСТОРИЯ\" + -0.162*\"ПОСЛАННИК\" + 0.156*\"ЖЕНЩИНА\" + 0.149*\"ИСЛАМСКИЙ\" + 0.149*\"МУЖ\" + 0.149*\"РАМАДАН\" + 0.140*\"РАЗВОД\" + 0.134*\"САЙТ\"\n"
     ]
    },
    {
     "name": "stderr",
     "output_type": "stream",
     "text": [
      "2016-10-11 18:15:52,716 : INFO : topic #2(544.588): -0.473*\"ИДДА\" + -0.339*\"МУЖ\" + -0.329*\"ЖЕНЩИНА\" + -0.235*\"РАЗВОД\" + -0.197*\"ЖЕНА\" + -0.184*\"СРОК\" + -0.145*\"АЛЛАХ\" + -0.128*\"ДОЛЖНЫЙ\" + -0.128*\"ПЕРИОД\" + 0.128*\"ИСТОРИЯ\"\n"
     ]
    },
    {
     "name": "stderr",
     "output_type": "stream",
     "text": [
      "2016-10-11 18:15:52,717 : INFO : topic #3(424.026): 0.295*\"ИМАМ\" + 0.287*\"КОТОРЫЙ\" + 0.265*\"ЧЕЛОВЕК\" + -0.255*\"АЛЛАХ\" + -0.183*\"РАМАДАН\" + 0.178*\"КНИГА\" + 0.147*\"СЛОВО\" + -0.144*\"МИР\" + -0.136*\"ЧИТАТЬ\" + 0.128*\"УЧЁНЫЙ\"\n"
     ]
    },
    {
     "name": "stderr",
     "output_type": "stream",
     "text": [
      "2016-10-11 18:15:52,720 : INFO : topic #4(372.376): -0.467*\"ИМАМ\" + 0.329*\"ЧЕЛОВЕК\" + -0.277*\"УМ\" + -0.249*\"КНИГА\" + -0.235*\"ГОД\" + -0.200*\"АЛЛАХ\" + -0.172*\"УЧЁНЫЙ\" + -0.166*\"АБА\" + 0.124*\"ВОПРОС\" + -0.122*\"БИОГРАФИЯ\"\n"
     ]
    },
    {
     "name": "stderr",
     "output_type": "stream",
     "text": [
      "2016-10-11 18:15:52,726 : INFO : preparing a new chunk of documents\n"
     ]
    },
    {
     "name": "stderr",
     "output_type": "stream",
     "text": [
      "2016-10-11 18:15:52,729 : INFO : using 100 extra samples and 2 power iterations\n"
     ]
    },
    {
     "name": "stderr",
     "output_type": "stream",
     "text": [
      "2016-10-11 18:15:52,730 : INFO : 1st phase: constructing (24774L, 200L) action matrix\n"
     ]
    },
    {
     "name": "stderr",
     "output_type": "stream",
     "text": [
      "2016-10-11 18:15:52,733 : INFO : orthonormalizing (24774L, 200L) action matrix\n"
     ]
    },
    {
     "name": "stderr",
     "output_type": "stream",
     "text": [
      "2016-10-11 18:15:53,980 : INFO : 2nd phase: running dense svd on (200L, 20L) matrix\n"
     ]
    },
    {
     "name": "stderr",
     "output_type": "stream",
     "text": [
      "2016-10-11 18:15:54,010 : INFO : computing the final decomposition\n"
     ]
    },
    {
     "name": "stderr",
     "output_type": "stream",
     "text": [
      "2016-10-11 18:15:54,013 : INFO : keeping 2 factors (discarding 0.000% of energy spectrum)\n"
     ]
    },
    {
     "name": "stderr",
     "output_type": "stream",
     "text": [
      "2016-10-11 18:15:54,023 : INFO : merging projections: (24774L, 100L) + (24774L, 2L)\n"
     ]
    },
    {
     "name": "stderr",
     "output_type": "stream",
     "text": [
      "2016-10-11 18:15:54,066 : INFO : keeping 100 factors (discarding 0.014% of energy spectrum)\n"
     ]
    },
    {
     "name": "stderr",
     "output_type": "stream",
     "text": [
      "2016-10-11 18:15:54,117 : INFO : processed documents up to #2800\n"
     ]
    },
    {
     "name": "stderr",
     "output_type": "stream",
     "text": [
      "2016-10-11 18:15:54,118 : INFO : topic #0(1572.161): 0.489*\"АЛЛАХ\" + 0.270*\"КОТОРЫЙ\" + 0.218*\"ЧЕЛОВЕК\" + 0.172*\"МИР\" + 0.150*\"СКАЗАТЬ\" + 0.149*\"ПРОРОК\" + 0.149*\"СВОЙ\" + 0.145*\"ВОПРОС\" + 0.133*\"ИСТОРИЯ\" + 0.118*\"КОРАН\"\n"
     ]
    },
    {
     "name": "stderr",
     "output_type": "stream",
     "text": [
      "2016-10-11 18:15:54,121 : INFO : topic #1(602.814): -0.589*\"АЛЛАХ\" + 0.204*\"ИДДА\" + 0.170*\"ИСТОРИЯ\" + -0.162*\"ПОСЛАННИК\" + 0.155*\"ЖЕНЩИНА\" + 0.150*\"ИСЛАМСКИЙ\" + 0.149*\"РАМАДАН\" + 0.148*\"МУЖ\" + 0.139*\"РАЗВОД\" + 0.135*\"САЙТ\"\n"
     ]
    },
    {
     "name": "stderr",
     "output_type": "stream",
     "text": [
      "2016-10-11 18:15:54,122 : INFO : topic #2(544.753): -0.473*\"ИДДА\" + -0.340*\"МУЖ\" + -0.330*\"ЖЕНЩИНА\" + -0.236*\"РАЗВОД\" + -0.197*\"ЖЕНА\" + -0.184*\"СРОК\" + -0.143*\"АЛЛАХ\" + -0.129*\"ДОЛЖНЫЙ\" + -0.128*\"ПЕРИОД\" + 0.128*\"ИСТОРИЯ\"\n"
     ]
    },
    {
     "name": "stderr",
     "output_type": "stream",
     "text": [
      "2016-10-11 18:15:54,125 : INFO : topic #3(424.044): 0.294*\"ИМАМ\" + 0.287*\"КОТОРЫЙ\" + 0.265*\"ЧЕЛОВЕК\" + -0.255*\"АЛЛАХ\" + -0.183*\"РАМАДАН\" + 0.178*\"КНИГА\" + 0.147*\"СЛОВО\" + -0.144*\"МИР\" + -0.136*\"ЧИТАТЬ\" + 0.128*\"УЧЁНЫЙ\"\n"
     ]
    },
    {
     "name": "stderr",
     "output_type": "stream",
     "text": [
      "2016-10-11 18:15:54,127 : INFO : topic #4(372.816): -0.468*\"ИМАМ\" + 0.328*\"ЧЕЛОВЕК\" + -0.277*\"УМ\" + -0.248*\"КНИГА\" + -0.234*\"ГОД\" + -0.201*\"АЛЛАХ\" + -0.172*\"УЧЁНЫЙ\" + -0.166*\"АБА\" + 0.124*\"ВОПРОС\" + -0.122*\"БИОГРАФИЯ\"\n"
     ]
    },
    {
     "name": "stderr",
     "output_type": "stream",
     "text": [
      "2016-10-11 18:15:54,132 : INFO : preparing a new chunk of documents\n"
     ]
    },
    {
     "name": "stderr",
     "output_type": "stream",
     "text": [
      "2016-10-11 18:15:54,134 : INFO : using 100 extra samples and 2 power iterations\n"
     ]
    },
    {
     "name": "stderr",
     "output_type": "stream",
     "text": [
      "2016-10-11 18:15:54,134 : INFO : 1st phase: constructing (24774L, 200L) action matrix\n"
     ]
    },
    {
     "name": "stderr",
     "output_type": "stream",
     "text": [
      "2016-10-11 18:15:54,138 : INFO : orthonormalizing (24774L, 200L) action matrix\n"
     ]
    },
    {
     "name": "stderr",
     "output_type": "stream",
     "text": [
      "2016-10-11 18:15:55,381 : INFO : 2nd phase: running dense svd on (200L, 20L) matrix\n"
     ]
    },
    {
     "name": "stderr",
     "output_type": "stream",
     "text": [
      "2016-10-11 18:15:55,411 : INFO : computing the final decomposition\n"
     ]
    },
    {
     "name": "stderr",
     "output_type": "stream",
     "text": [
      "2016-10-11 18:15:55,413 : INFO : keeping 2 factors (discarding 0.000% of energy spectrum)\n"
     ]
    },
    {
     "name": "stderr",
     "output_type": "stream",
     "text": [
      "2016-10-11 18:15:55,421 : INFO : merging projections: (24774L, 100L) + (24774L, 2L)\n"
     ]
    },
    {
     "name": "stderr",
     "output_type": "stream",
     "text": [
      "2016-10-11 18:15:55,470 : INFO : keeping 100 factors (discarding 0.004% of energy spectrum)\n"
     ]
    },
    {
     "name": "stderr",
     "output_type": "stream",
     "text": [
      "2016-10-11 18:15:55,522 : INFO : processed documents up to #2820\n"
     ]
    },
    {
     "name": "stderr",
     "output_type": "stream",
     "text": [
      "2016-10-11 18:15:55,525 : INFO : topic #0(1572.508): 0.489*\"АЛЛАХ\" + 0.270*\"КОТОРЫЙ\" + 0.218*\"ЧЕЛОВЕК\" + 0.172*\"МИР\" + 0.150*\"СКАЗАТЬ\" + 0.150*\"ПРОРОК\" + 0.149*\"СВОЙ\" + 0.145*\"ВОПРОС\" + 0.133*\"ИСТОРИЯ\" + 0.118*\"КОРАН\"\n"
     ]
    },
    {
     "name": "stderr",
     "output_type": "stream",
     "text": [
      "2016-10-11 18:15:55,526 : INFO : topic #1(602.828): -0.589*\"АЛЛАХ\" + 0.204*\"ИДДА\" + 0.170*\"ИСТОРИЯ\" + -0.162*\"ПОСЛАННИК\" + 0.155*\"ЖЕНЩИНА\" + 0.150*\"ИСЛАМСКИЙ\" + 0.149*\"РАМАДАН\" + 0.148*\"МУЖ\" + 0.139*\"РАЗВОД\" + 0.135*\"САЙТ\"\n"
     ]
    },
    {
     "name": "stderr",
     "output_type": "stream",
     "text": [
      "2016-10-11 18:15:55,529 : INFO : topic #2(544.807): -0.473*\"ИДДА\" + -0.340*\"МУЖ\" + -0.330*\"ЖЕНЩИНА\" + -0.235*\"РАЗВОД\" + -0.197*\"ЖЕНА\" + -0.184*\"СРОК\" + -0.143*\"АЛЛАХ\" + -0.129*\"ДОЛЖНЫЙ\" + -0.128*\"ПЕРИОД\" + 0.128*\"ИСТОРИЯ\"\n"
     ]
    },
    {
     "name": "stderr",
     "output_type": "stream",
     "text": [
      "2016-10-11 18:15:55,530 : INFO : topic #3(424.285): 0.294*\"ИМАМ\" + 0.287*\"КОТОРЫЙ\" + 0.266*\"ЧЕЛОВЕК\" + -0.256*\"АЛЛАХ\" + -0.182*\"РАМАДАН\" + 0.178*\"КНИГА\" + 0.147*\"СЛОВО\" + -0.145*\"МИР\" + -0.136*\"ЧИТАТЬ\" + 0.128*\"УЧЁНЫЙ\"\n"
     ]
    },
    {
     "name": "stderr",
     "output_type": "stream",
     "text": [
      "2016-10-11 18:15:55,532 : INFO : topic #4(372.851): -0.468*\"ИМАМ\" + 0.327*\"ЧЕЛОВЕК\" + -0.277*\"УМ\" + -0.248*\"КНИГА\" + -0.234*\"ГОД\" + -0.200*\"АЛЛАХ\" + -0.173*\"УЧЁНЫЙ\" + -0.167*\"АБА\" + 0.124*\"ВОПРОС\" + -0.122*\"БИОГРАФИЯ\"\n"
     ]
    },
    {
     "name": "stderr",
     "output_type": "stream",
     "text": [
      "2016-10-11 18:15:55,539 : INFO : preparing a new chunk of documents\n"
     ]
    },
    {
     "name": "stderr",
     "output_type": "stream",
     "text": [
      "2016-10-11 18:15:55,540 : INFO : using 100 extra samples and 2 power iterations\n"
     ]
    },
    {
     "name": "stderr",
     "output_type": "stream",
     "text": [
      "2016-10-11 18:15:55,542 : INFO : 1st phase: constructing (24774L, 200L) action matrix\n"
     ]
    },
    {
     "name": "stderr",
     "output_type": "stream",
     "text": [
      "2016-10-11 18:15:55,545 : INFO : orthonormalizing (24774L, 200L) action matrix\n"
     ]
    },
    {
     "name": "stderr",
     "output_type": "stream",
     "text": [
      "2016-10-11 18:15:56,792 : INFO : 2nd phase: running dense svd on (200L, 20L) matrix\n"
     ]
    },
    {
     "name": "stderr",
     "output_type": "stream",
     "text": [
      "2016-10-11 18:15:56,822 : INFO : computing the final decomposition\n"
     ]
    },
    {
     "name": "stderr",
     "output_type": "stream",
     "text": [
      "2016-10-11 18:15:56,822 : INFO : keeping 2 factors (discarding 0.000% of energy spectrum)\n"
     ]
    },
    {
     "name": "stderr",
     "output_type": "stream",
     "text": [
      "2016-10-11 18:15:56,835 : INFO : merging projections: (24774L, 100L) + (24774L, 2L)\n"
     ]
    },
    {
     "name": "stderr",
     "output_type": "stream",
     "text": [
      "2016-10-11 18:15:56,878 : INFO : keeping 100 factors (discarding 0.008% of energy spectrum)\n"
     ]
    },
    {
     "name": "stderr",
     "output_type": "stream",
     "text": [
      "2016-10-11 18:15:56,934 : INFO : processed documents up to #2840\n"
     ]
    },
    {
     "name": "stderr",
     "output_type": "stream",
     "text": [
      "2016-10-11 18:15:56,936 : INFO : topic #0(1572.849): 0.489*\"АЛЛАХ\" + 0.270*\"КОТОРЫЙ\" + 0.218*\"ЧЕЛОВЕК\" + 0.172*\"МИР\" + 0.150*\"СКАЗАТЬ\" + 0.150*\"ПРОРОК\" + 0.149*\"СВОЙ\" + 0.145*\"ВОПРОС\" + 0.133*\"ИСТОРИЯ\" + 0.118*\"КОРАН\"\n"
     ]
    },
    {
     "name": "stderr",
     "output_type": "stream",
     "text": [
      "2016-10-11 18:15:56,937 : INFO : topic #1(602.854): -0.589*\"АЛЛАХ\" + 0.204*\"ИДДА\" + 0.170*\"ИСТОРИЯ\" + -0.162*\"ПОСЛАННИК\" + 0.155*\"ЖЕНЩИНА\" + 0.150*\"ИСЛАМСКИЙ\" + 0.149*\"РАМАДАН\" + 0.148*\"МУЖ\" + 0.139*\"РАЗВОД\" + 0.135*\"САЙТ\"\n"
     ]
    },
    {
     "name": "stderr",
     "output_type": "stream",
     "text": [
      "2016-10-11 18:15:56,940 : INFO : topic #2(544.871): -0.473*\"ИДДА\" + -0.340*\"МУЖ\" + -0.330*\"ЖЕНЩИНА\" + -0.236*\"РАЗВОД\" + -0.197*\"ЖЕНА\" + -0.184*\"СРОК\" + -0.142*\"АЛЛАХ\" + -0.129*\"ДОЛЖНЫЙ\" + -0.128*\"ПЕРИОД\" + 0.128*\"ИСТОРИЯ\"\n"
     ]
    },
    {
     "name": "stderr",
     "output_type": "stream",
     "text": [
      "2016-10-11 18:15:56,941 : INFO : topic #3(424.445): 0.294*\"ИМАМ\" + 0.287*\"КОТОРЫЙ\" + 0.266*\"ЧЕЛОВЕК\" + -0.256*\"АЛЛАХ\" + -0.182*\"РАМАДАН\" + 0.178*\"КНИГА\" + 0.147*\"СЛОВО\" + -0.145*\"МИР\" + -0.137*\"ЧИТАТЬ\" + 0.128*\"УЧЁНЫЙ\"\n"
     ]
    },
    {
     "name": "stderr",
     "output_type": "stream",
     "text": [
      "2016-10-11 18:15:56,944 : INFO : topic #4(372.854): -0.468*\"ИМАМ\" + 0.327*\"ЧЕЛОВЕК\" + -0.277*\"УМ\" + -0.248*\"КНИГА\" + -0.234*\"ГОД\" + -0.200*\"АЛЛАХ\" + -0.173*\"УЧЁНЫЙ\" + -0.167*\"АБА\" + 0.124*\"ВОПРОС\" + -0.122*\"БИОГРАФИЯ\"\n"
     ]
    },
    {
     "name": "stderr",
     "output_type": "stream",
     "text": [
      "2016-10-11 18:15:56,947 : INFO : preparing a new chunk of documents\n"
     ]
    },
    {
     "name": "stderr",
     "output_type": "stream",
     "text": [
      "2016-10-11 18:15:56,950 : INFO : using 100 extra samples and 2 power iterations\n"
     ]
    },
    {
     "name": "stderr",
     "output_type": "stream",
     "text": [
      "2016-10-11 18:15:56,950 : INFO : 1st phase: constructing (24774L, 200L) action matrix\n"
     ]
    },
    {
     "name": "stderr",
     "output_type": "stream",
     "text": [
      "2016-10-11 18:15:56,953 : INFO : orthonormalizing (24774L, 200L) action matrix\n"
     ]
    },
    {
     "name": "stderr",
     "output_type": "stream",
     "text": [
      "2016-10-11 18:15:58,226 : INFO : 2nd phase: running dense svd on (200L, 20L) matrix\n"
     ]
    },
    {
     "name": "stderr",
     "output_type": "stream",
     "text": [
      "2016-10-11 18:15:58,256 : INFO : computing the final decomposition\n"
     ]
    },
    {
     "name": "stderr",
     "output_type": "stream",
     "text": [
      "2016-10-11 18:15:58,257 : INFO : keeping 1 factors (discarding 0.000% of energy spectrum)\n"
     ]
    },
    {
     "name": "stderr",
     "output_type": "stream",
     "text": [
      "2016-10-11 18:15:58,266 : INFO : merging projections: (24774L, 100L) + (24774L, 1L)\n"
     ]
    },
    {
     "name": "stderr",
     "output_type": "stream",
     "text": [
      "2016-10-11 18:15:58,309 : INFO : keeping 100 factors (discarding 0.004% of energy spectrum)\n"
     ]
    },
    {
     "name": "stderr",
     "output_type": "stream",
     "text": [
      "2016-10-11 18:15:58,365 : INFO : processed documents up to #2860\n"
     ]
    },
    {
     "name": "stderr",
     "output_type": "stream",
     "text": [
      "2016-10-11 18:15:58,368 : INFO : topic #0(1572.903): 0.489*\"АЛЛАХ\" + 0.270*\"КОТОРЫЙ\" + 0.218*\"ЧЕЛОВЕК\" + 0.172*\"МИР\" + 0.150*\"СКАЗАТЬ\" + 0.150*\"ПРОРОК\" + 0.149*\"СВОЙ\" + 0.145*\"ВОПРОС\" + 0.133*\"ИСТОРИЯ\" + 0.118*\"КОРАН\"\n"
     ]
    },
    {
     "name": "stderr",
     "output_type": "stream",
     "text": [
      "2016-10-11 18:15:58,369 : INFO : topic #1(602.929): -0.589*\"АЛЛАХ\" + 0.203*\"ИДДА\" + 0.170*\"ИСТОРИЯ\" + -0.162*\"ПОСЛАННИК\" + 0.154*\"ЖЕНЩИНА\" + 0.150*\"ИСЛАМСКИЙ\" + 0.149*\"РАМАДАН\" + 0.147*\"МУЖ\" + 0.139*\"РАЗВОД\" + 0.135*\"САЙТ\"\n"
     ]
    },
    {
     "name": "stderr",
     "output_type": "stream",
     "text": [
      "2016-10-11 18:15:58,371 : INFO : topic #2(544.914): -0.473*\"ИДДА\" + -0.340*\"МУЖ\" + -0.330*\"ЖЕНЩИНА\" + -0.236*\"РАЗВОД\" + -0.197*\"ЖЕНА\" + -0.184*\"СРОК\" + -0.142*\"АЛЛАХ\" + -0.129*\"ДОЛЖНЫЙ\" + -0.128*\"ПЕРИОД\" + 0.127*\"ИСТОРИЯ\"\n"
     ]
    },
    {
     "name": "stderr",
     "output_type": "stream",
     "text": [
      "2016-10-11 18:15:58,374 : INFO : topic #3(424.466): 0.293*\"ИМАМ\" + 0.288*\"КОТОРЫЙ\" + 0.266*\"ЧЕЛОВЕК\" + -0.257*\"АЛЛАХ\" + -0.182*\"РАМАДАН\" + 0.178*\"КНИГА\" + 0.147*\"СЛОВО\" + -0.145*\"МИР\" + -0.137*\"ЧИТАТЬ\" + 0.127*\"УЧЁНЫЙ\"\n"
     ]
    },
    {
     "name": "stderr",
     "output_type": "stream",
     "text": [
      "2016-10-11 18:15:58,375 : INFO : topic #4(372.872): -0.468*\"ИМАМ\" + 0.327*\"ЧЕЛОВЕК\" + -0.277*\"УМ\" + -0.248*\"КНИГА\" + -0.234*\"ГОД\" + -0.201*\"АЛЛАХ\" + -0.173*\"УЧЁНЫЙ\" + -0.167*\"АБА\" + 0.124*\"ВОПРОС\" + -0.122*\"БИОГРАФИЯ\"\n"
     ]
    },
    {
     "name": "stderr",
     "output_type": "stream",
     "text": [
      "2016-10-11 18:15:58,382 : INFO : preparing a new chunk of documents\n"
     ]
    },
    {
     "name": "stderr",
     "output_type": "stream",
     "text": [
      "2016-10-11 18:15:58,384 : INFO : using 100 extra samples and 2 power iterations\n"
     ]
    },
    {
     "name": "stderr",
     "output_type": "stream",
     "text": [
      "2016-10-11 18:15:58,385 : INFO : 1st phase: constructing (24774L, 200L) action matrix\n"
     ]
    },
    {
     "name": "stderr",
     "output_type": "stream",
     "text": [
      "2016-10-11 18:15:58,388 : INFO : orthonormalizing (24774L, 200L) action matrix\n"
     ]
    },
    {
     "name": "stderr",
     "output_type": "stream",
     "text": [
      "2016-10-11 18:15:59,627 : INFO : 2nd phase: running dense svd on (200L, 20L) matrix\n"
     ]
    },
    {
     "name": "stderr",
     "output_type": "stream",
     "text": [
      "2016-10-11 18:15:59,658 : INFO : computing the final decomposition\n"
     ]
    },
    {
     "name": "stderr",
     "output_type": "stream",
     "text": [
      "2016-10-11 18:15:59,660 : INFO : keeping 2 factors (discarding 0.000% of energy spectrum)\n"
     ]
    },
    {
     "name": "stderr",
     "output_type": "stream",
     "text": [
      "2016-10-11 18:15:59,670 : INFO : merging projections: (24774L, 100L) + (24774L, 2L)\n"
     ]
    },
    {
     "name": "stderr",
     "output_type": "stream",
     "text": [
      "2016-10-11 18:15:59,713 : INFO : keeping 100 factors (discarding 0.011% of energy spectrum)\n"
     ]
    },
    {
     "name": "stderr",
     "output_type": "stream",
     "text": [
      "2016-10-11 18:15:59,773 : INFO : processed documents up to #2880\n"
     ]
    },
    {
     "name": "stderr",
     "output_type": "stream",
     "text": [
      "2016-10-11 18:15:59,775 : INFO : topic #0(1573.235): 0.489*\"АЛЛАХ\" + 0.270*\"КОТОРЫЙ\" + 0.218*\"ЧЕЛОВЕК\" + 0.172*\"МИР\" + 0.150*\"СКАЗАТЬ\" + 0.150*\"ПРОРОК\" + 0.149*\"СВОЙ\" + 0.145*\"ВОПРОС\" + 0.133*\"ИСТОРИЯ\" + 0.118*\"КОРАН\"\n"
     ]
    },
    {
     "name": "stderr",
     "output_type": "stream",
     "text": [
      "2016-10-11 18:15:59,778 : INFO : topic #1(603.024): -0.589*\"АЛЛАХ\" + 0.203*\"ИДДА\" + 0.171*\"ИСТОРИЯ\" + -0.162*\"ПОСЛАННИК\" + 0.154*\"ЖЕНЩИНА\" + 0.150*\"ИСЛАМСКИЙ\" + 0.149*\"РАМАДАН\" + 0.147*\"МУЖ\" + 0.139*\"РАЗВОД\" + 0.135*\"САЙТ\"\n"
     ]
    },
    {
     "name": "stderr",
     "output_type": "stream",
     "text": [
      "2016-10-11 18:15:59,779 : INFO : topic #2(545.004): -0.473*\"ИДДА\" + -0.340*\"МУЖ\" + -0.330*\"ЖЕНЩИНА\" + -0.236*\"РАЗВОД\" + -0.197*\"ЖЕНА\" + -0.184*\"СРОК\" + -0.141*\"АЛЛАХ\" + -0.129*\"ДОЛЖНЫЙ\" + -0.128*\"ПЕРИОД\" + 0.127*\"ИСТОРИЯ\"\n"
     ]
    },
    {
     "name": "stderr",
     "output_type": "stream",
     "text": [
      "2016-10-11 18:15:59,782 : INFO : topic #3(424.548): 0.293*\"ИМАМ\" + 0.288*\"КОТОРЫЙ\" + 0.266*\"ЧЕЛОВЕК\" + -0.257*\"АЛЛАХ\" + -0.181*\"РАМАДАН\" + 0.178*\"КНИГА\" + 0.147*\"СЛОВО\" + -0.144*\"МИР\" + -0.138*\"ЧИТАТЬ\" + 0.127*\"УЧЁНЫЙ\"\n"
     ]
    },
    {
     "name": "stderr",
     "output_type": "stream",
     "text": [
      "2016-10-11 18:15:59,785 : INFO : topic #4(372.876): -0.469*\"ИМАМ\" + 0.327*\"ЧЕЛОВЕК\" + -0.277*\"УМ\" + -0.249*\"КНИГА\" + -0.234*\"ГОД\" + -0.201*\"АЛЛАХ\" + -0.173*\"УЧЁНЫЙ\" + -0.167*\"АБА\" + 0.123*\"ВОПРОС\" + -0.122*\"БИОГРАФИЯ\"\n"
     ]
    },
    {
     "name": "stderr",
     "output_type": "stream",
     "text": [
      "2016-10-11 18:15:59,792 : INFO : preparing a new chunk of documents\n"
     ]
    },
    {
     "name": "stderr",
     "output_type": "stream",
     "text": [
      "2016-10-11 18:15:59,795 : INFO : using 100 extra samples and 2 power iterations\n"
     ]
    },
    {
     "name": "stderr",
     "output_type": "stream",
     "text": [
      "2016-10-11 18:15:59,796 : INFO : 1st phase: constructing (24774L, 200L) action matrix\n"
     ]
    },
    {
     "name": "stderr",
     "output_type": "stream",
     "text": [
      "2016-10-11 18:15:59,799 : INFO : orthonormalizing (24774L, 200L) action matrix\n"
     ]
    },
    {
     "name": "stderr",
     "output_type": "stream",
     "text": [
      "2016-10-11 18:16:01,049 : INFO : 2nd phase: running dense svd on (200L, 20L) matrix\n"
     ]
    },
    {
     "name": "stderr",
     "output_type": "stream",
     "text": [
      "2016-10-11 18:16:01,078 : INFO : computing the final decomposition\n"
     ]
    },
    {
     "name": "stderr",
     "output_type": "stream",
     "text": [
      "2016-10-11 18:16:01,079 : INFO : keeping 3 factors (discarding 0.000% of energy spectrum)\n"
     ]
    },
    {
     "name": "stderr",
     "output_type": "stream",
     "text": [
      "2016-10-11 18:16:01,092 : INFO : merging projections: (24774L, 100L) + (24774L, 3L)\n"
     ]
    },
    {
     "name": "stderr",
     "output_type": "stream",
     "text": [
      "2016-10-11 18:16:01,138 : INFO : keeping 100 factors (discarding 0.012% of energy spectrum)\n"
     ]
    },
    {
     "name": "stderr",
     "output_type": "stream",
     "text": [
      "2016-10-11 18:16:01,197 : INFO : processed documents up to #2900\n"
     ]
    },
    {
     "name": "stderr",
     "output_type": "stream",
     "text": [
      "2016-10-11 18:16:01,200 : INFO : topic #0(1573.573): 0.489*\"АЛЛАХ\" + 0.270*\"КОТОРЫЙ\" + 0.218*\"ЧЕЛОВЕК\" + 0.172*\"МИР\" + 0.150*\"СКАЗАТЬ\" + 0.150*\"ПРОРОК\" + 0.149*\"СВОЙ\" + 0.145*\"ВОПРОС\" + 0.133*\"ИСТОРИЯ\" + 0.118*\"КОРАН\"\n"
     ]
    },
    {
     "name": "stderr",
     "output_type": "stream",
     "text": [
      "2016-10-11 18:16:01,201 : INFO : topic #1(603.265): -0.590*\"АЛЛАХ\" + 0.201*\"ИДДА\" + 0.171*\"ИСТОРИЯ\" + -0.162*\"ПОСЛАННИК\" + 0.153*\"ЖЕНЩИНА\" + 0.151*\"ИСЛАМСКИЙ\" + 0.150*\"РАМАДАН\" + 0.146*\"МУЖ\" + 0.138*\"РАЗВОД\" + 0.136*\"САЙТ\"\n"
     ]
    },
    {
     "name": "stderr",
     "output_type": "stream",
     "text": [
      "2016-10-11 18:16:01,203 : INFO : topic #2(545.132): -0.474*\"ИДДА\" + -0.340*\"МУЖ\" + -0.331*\"ЖЕНЩИНА\" + -0.236*\"РАЗВОД\" + -0.197*\"ЖЕНА\" + -0.184*\"СРОК\" + -0.139*\"АЛЛАХ\" + -0.129*\"ДОЛЖНЫЙ\" + -0.128*\"ПЕРИОД\" + 0.127*\"ИСТОРИЯ\"\n"
     ]
    },
    {
     "name": "stderr",
     "output_type": "stream",
     "text": [
      "2016-10-11 18:16:01,206 : INFO : topic #3(424.645): 0.294*\"ИМАМ\" + 0.288*\"КОТОРЫЙ\" + 0.266*\"ЧЕЛОВЕК\" + -0.258*\"АЛЛАХ\" + -0.181*\"РАМАДАН\" + 0.178*\"КНИГА\" + 0.147*\"СЛОВО\" + -0.144*\"МИР\" + -0.138*\"ЧИТАТЬ\" + 0.127*\"УЧЁНЫЙ\"\n"
     ]
    },
    {
     "name": "stderr",
     "output_type": "stream",
     "text": [
      "2016-10-11 18:16:01,207 : INFO : topic #4(372.887): -0.469*\"ИМАМ\" + 0.327*\"ЧЕЛОВЕК\" + -0.277*\"УМ\" + -0.249*\"КНИГА\" + -0.234*\"ГОД\" + -0.200*\"АЛЛАХ\" + -0.173*\"УЧЁНЫЙ\" + -0.167*\"АБА\" + 0.123*\"ВОПРОС\" + -0.122*\"БИОГРАФИЯ\"\n"
     ]
    },
    {
     "name": "stderr",
     "output_type": "stream",
     "text": [
      "2016-10-11 18:16:01,216 : INFO : preparing a new chunk of documents\n"
     ]
    },
    {
     "name": "stderr",
     "output_type": "stream",
     "text": [
      "2016-10-11 18:16:01,217 : INFO : using 100 extra samples and 2 power iterations\n"
     ]
    },
    {
     "name": "stderr",
     "output_type": "stream",
     "text": [
      "2016-10-11 18:16:01,219 : INFO : 1st phase: constructing (24774L, 200L) action matrix\n"
     ]
    },
    {
     "name": "stderr",
     "output_type": "stream",
     "text": [
      "2016-10-11 18:16:01,220 : INFO : orthonormalizing (24774L, 200L) action matrix\n"
     ]
    },
    {
     "name": "stderr",
     "output_type": "stream",
     "text": [
      "2016-10-11 18:16:02,438 : INFO : 2nd phase: running dense svd on (200L, 20L) matrix\n"
     ]
    },
    {
     "name": "stderr",
     "output_type": "stream",
     "text": [
      "2016-10-11 18:16:02,473 : INFO : computing the final decomposition\n"
     ]
    },
    {
     "name": "stderr",
     "output_type": "stream",
     "text": [
      "2016-10-11 18:16:02,474 : INFO : keeping 2 factors (discarding 0.000% of energy spectrum)\n"
     ]
    },
    {
     "name": "stderr",
     "output_type": "stream",
     "text": [
      "2016-10-11 18:16:02,483 : INFO : merging projections: (24774L, 100L) + (24774L, 2L)\n"
     ]
    },
    {
     "name": "stderr",
     "output_type": "stream",
     "text": [
      "2016-10-11 18:16:02,526 : INFO : keeping 100 factors (discarding 0.013% of energy spectrum)\n"
     ]
    },
    {
     "name": "stderr",
     "output_type": "stream",
     "text": [
      "2016-10-11 18:16:02,581 : INFO : processed documents up to #2920\n"
     ]
    },
    {
     "name": "stderr",
     "output_type": "stream",
     "text": [
      "2016-10-11 18:16:02,584 : INFO : topic #0(1573.865): 0.489*\"АЛЛАХ\" + 0.270*\"КОТОРЫЙ\" + 0.218*\"ЧЕЛОВЕК\" + 0.172*\"МИР\" + 0.150*\"СКАЗАТЬ\" + 0.150*\"ПРОРОК\" + 0.149*\"СВОЙ\" + 0.145*\"ВОПРОС\" + 0.133*\"ИСТОРИЯ\" + 0.118*\"КОРАН\"\n"
     ]
    },
    {
     "name": "stderr",
     "output_type": "stream",
     "text": [
      "2016-10-11 18:16:02,585 : INFO : topic #1(603.507): -0.590*\"АЛЛАХ\" + 0.200*\"ИДДА\" + 0.171*\"ИСТОРИЯ\" + -0.162*\"ПОСЛАННИК\" + 0.152*\"ЖЕНЩИНА\" + 0.151*\"ИСЛАМСКИЙ\" + 0.150*\"РАМАДАН\" + 0.145*\"МУЖ\" + 0.137*\"РАЗВОД\" + 0.136*\"САЙТ\"\n"
     ]
    },
    {
     "name": "stderr",
     "output_type": "stream",
     "text": [
      "2016-10-11 18:16:02,588 : INFO : topic #2(545.254): -0.474*\"ИДДА\" + -0.341*\"МУЖ\" + -0.331*\"ЖЕНЩИНА\" + -0.236*\"РАЗВОД\" + -0.198*\"ЖЕНА\" + -0.185*\"СРОК\" + -0.137*\"АЛЛАХ\" + -0.130*\"ДОЛЖНЫЙ\" + -0.129*\"ПЕРИОД\" + 0.126*\"ИСТОРИЯ\"\n"
     ]
    },
    {
     "name": "stderr",
     "output_type": "stream",
     "text": [
      "2016-10-11 18:16:02,589 : INFO : topic #3(424.665): 0.294*\"ИМАМ\" + 0.288*\"КОТОРЫЙ\" + 0.266*\"ЧЕЛОВЕК\" + -0.258*\"АЛЛАХ\" + -0.181*\"РАМАДАН\" + 0.178*\"КНИГА\" + 0.147*\"СЛОВО\" + -0.144*\"МИР\" + -0.139*\"ЧИТАТЬ\" + 0.128*\"УЧЁНЫЙ\"\n"
     ]
    },
    {
     "name": "stderr",
     "output_type": "stream",
     "text": [
      "2016-10-11 18:16:02,592 : INFO : topic #4(372.917): -0.469*\"ИМАМ\" + 0.327*\"ЧЕЛОВЕК\" + -0.277*\"УМ\" + -0.248*\"КНИГА\" + -0.234*\"ГОД\" + -0.200*\"АЛЛАХ\" + -0.173*\"УЧЁНЫЙ\" + -0.167*\"АБА\" + 0.123*\"ВОПРОС\" + -0.122*\"БИОГРАФИЯ\"\n"
     ]
    },
    {
     "name": "stderr",
     "output_type": "stream",
     "text": [
      "2016-10-11 18:16:02,598 : INFO : preparing a new chunk of documents\n"
     ]
    },
    {
     "name": "stderr",
     "output_type": "stream",
     "text": [
      "2016-10-11 18:16:02,599 : INFO : using 100 extra samples and 2 power iterations\n"
     ]
    },
    {
     "name": "stderr",
     "output_type": "stream",
     "text": [
      "2016-10-11 18:16:02,601 : INFO : 1st phase: constructing (24774L, 200L) action matrix\n"
     ]
    },
    {
     "name": "stderr",
     "output_type": "stream",
     "text": [
      "2016-10-11 18:16:02,604 : INFO : orthonormalizing (24774L, 200L) action matrix\n"
     ]
    },
    {
     "name": "stderr",
     "output_type": "stream",
     "text": [
      "2016-10-11 18:16:03,822 : INFO : 2nd phase: running dense svd on (200L, 20L) matrix\n"
     ]
    },
    {
     "name": "stderr",
     "output_type": "stream",
     "text": [
      "2016-10-11 18:16:03,857 : INFO : computing the final decomposition\n"
     ]
    },
    {
     "name": "stderr",
     "output_type": "stream",
     "text": [
      "2016-10-11 18:16:03,858 : INFO : keeping 2 factors (discarding 0.000% of energy spectrum)\n"
     ]
    },
    {
     "name": "stderr",
     "output_type": "stream",
     "text": [
      "2016-10-11 18:16:03,868 : INFO : merging projections: (24774L, 100L) + (24774L, 2L)\n"
     ]
    },
    {
     "name": "stderr",
     "output_type": "stream",
     "text": [
      "2016-10-11 18:16:03,914 : INFO : keeping 100 factors (discarding 0.012% of energy spectrum)\n"
     ]
    },
    {
     "name": "stderr",
     "output_type": "stream",
     "text": [
      "2016-10-11 18:16:03,966 : INFO : processed documents up to #2940\n"
     ]
    },
    {
     "name": "stderr",
     "output_type": "stream",
     "text": [
      "2016-10-11 18:16:03,967 : INFO : topic #0(1574.082): 0.489*\"АЛЛАХ\" + 0.270*\"КОТОРЫЙ\" + 0.218*\"ЧЕЛОВЕК\" + 0.172*\"МИР\" + 0.150*\"СКАЗАТЬ\" + 0.150*\"ПРОРОК\" + 0.149*\"СВОЙ\" + 0.145*\"ВОПРОС\" + 0.133*\"ИСТОРИЯ\" + 0.118*\"КОРАН\"\n"
     ]
    },
    {
     "name": "stderr",
     "output_type": "stream",
     "text": [
      "2016-10-11 18:16:03,970 : INFO : topic #1(603.750): -0.591*\"АЛЛАХ\" + 0.199*\"ИДДА\" + 0.172*\"ИСТОРИЯ\" + -0.162*\"ПОСЛАННИК\" + 0.151*\"ИСЛАМСКИЙ\" + 0.151*\"ЖЕНЩИНА\" + 0.150*\"РАМАДАН\" + 0.144*\"МУЖ\" + 0.137*\"РАЗВОД\" + 0.136*\"САЙТ\"\n"
     ]
    },
    {
     "name": "stderr",
     "output_type": "stream",
     "text": [
      "2016-10-11 18:16:03,971 : INFO : topic #2(545.372): -0.475*\"ИДДА\" + -0.341*\"МУЖ\" + -0.332*\"ЖЕНЩИНА\" + -0.237*\"РАЗВОД\" + -0.198*\"ЖЕНА\" + -0.185*\"СРОК\" + -0.135*\"АЛЛАХ\" + -0.130*\"ДОЛЖНЫЙ\" + -0.129*\"ПЕРИОД\" + 0.126*\"ИСТОРИЯ\"\n"
     ]
    },
    {
     "name": "stderr",
     "output_type": "stream",
     "text": [
      "2016-10-11 18:16:03,973 : INFO : topic #3(424.707): 0.294*\"ИМАМ\" + 0.288*\"КОТОРЫЙ\" + 0.265*\"ЧЕЛОВЕК\" + -0.258*\"АЛЛАХ\" + -0.180*\"РАМАДАН\" + 0.178*\"КНИГА\" + 0.147*\"СЛОВО\" + -0.144*\"МИР\" + -0.139*\"ЧИТАТЬ\" + 0.128*\"УЧЁНЫЙ\"\n"
     ]
    },
    {
     "name": "stderr",
     "output_type": "stream",
     "text": [
      "2016-10-11 18:16:03,976 : INFO : topic #4(372.941): -0.469*\"ИМАМ\" + 0.328*\"ЧЕЛОВЕК\" + -0.277*\"УМ\" + -0.248*\"КНИГА\" + -0.234*\"ГОД\" + -0.200*\"АЛЛАХ\" + -0.173*\"УЧЁНЫЙ\" + -0.167*\"АБА\" + 0.123*\"ВОПРОС\" + -0.122*\"БИОГРАФИЯ\"\n"
     ]
    },
    {
     "name": "stderr",
     "output_type": "stream",
     "text": [
      "2016-10-11 18:16:03,980 : INFO : preparing a new chunk of documents\n"
     ]
    },
    {
     "name": "stderr",
     "output_type": "stream",
     "text": [
      "2016-10-11 18:16:03,982 : INFO : using 100 extra samples and 2 power iterations\n"
     ]
    },
    {
     "name": "stderr",
     "output_type": "stream",
     "text": [
      "2016-10-11 18:16:03,983 : INFO : 1st phase: constructing (24774L, 200L) action matrix\n"
     ]
    },
    {
     "name": "stderr",
     "output_type": "stream",
     "text": [
      "2016-10-11 18:16:03,986 : INFO : orthonormalizing (24774L, 200L) action matrix\n"
     ]
    },
    {
     "name": "stderr",
     "output_type": "stream",
     "text": [
      "2016-10-11 18:16:05,252 : INFO : 2nd phase: running dense svd on (200L, 20L) matrix\n"
     ]
    },
    {
     "name": "stderr",
     "output_type": "stream",
     "text": [
      "2016-10-11 18:16:05,282 : INFO : computing the final decomposition\n"
     ]
    },
    {
     "name": "stderr",
     "output_type": "stream",
     "text": [
      "2016-10-11 18:16:05,283 : INFO : keeping 1 factors (discarding 0.000% of energy spectrum)\n"
     ]
    },
    {
     "name": "stderr",
     "output_type": "stream",
     "text": [
      "2016-10-11 18:16:05,292 : INFO : merging projections: (24774L, 100L) + (24774L, 1L)\n"
     ]
    },
    {
     "name": "stderr",
     "output_type": "stream",
     "text": [
      "2016-10-11 18:16:05,332 : INFO : keeping 100 factors (discarding 0.007% of energy spectrum)\n"
     ]
    },
    {
     "name": "stderr",
     "output_type": "stream",
     "text": [
      "2016-10-11 18:16:05,391 : INFO : processed documents up to #2960\n"
     ]
    },
    {
     "name": "stderr",
     "output_type": "stream",
     "text": [
      "2016-10-11 18:16:05,392 : INFO : topic #0(1574.241): 0.488*\"АЛЛАХ\" + 0.270*\"КОТОРЫЙ\" + 0.218*\"ЧЕЛОВЕК\" + 0.172*\"МИР\" + 0.150*\"СКАЗАТЬ\" + 0.150*\"ПРОРОК\" + 0.149*\"СВОЙ\" + 0.145*\"ВОПРОС\" + 0.133*\"ИСТОРИЯ\" + 0.118*\"КОРАН\"\n"
     ]
    },
    {
     "name": "stderr",
     "output_type": "stream",
     "text": [
      "2016-10-11 18:16:05,395 : INFO : topic #1(603.835): -0.591*\"АЛЛАХ\" + 0.198*\"ИДДА\" + 0.172*\"ИСТОРИЯ\" + -0.162*\"ПОСЛАННИК\" + 0.151*\"ИСЛАМСКИЙ\" + 0.151*\"ЖЕНЩИНА\" + 0.150*\"РАМАДАН\" + 0.144*\"МУЖ\" + 0.137*\"РАЗВОД\" + 0.136*\"САЙТ\"\n"
     ]
    },
    {
     "name": "stderr",
     "output_type": "stream",
     "text": [
      "2016-10-11 18:16:05,398 : INFO : topic #2(545.424): -0.475*\"ИДДА\" + -0.341*\"МУЖ\" + -0.332*\"ЖЕНЩИНА\" + -0.237*\"РАЗВОД\" + -0.198*\"ЖЕНА\" + -0.185*\"СРОК\" + -0.134*\"АЛЛАХ\" + -0.130*\"ДОЛЖНЫЙ\" + -0.129*\"ПЕРИОД\" + 0.126*\"ИСТОРИЯ\"\n"
     ]
    },
    {
     "name": "stderr",
     "output_type": "stream",
     "text": [
      "2016-10-11 18:16:05,400 : INFO : topic #3(424.729): 0.295*\"ИМАМ\" + 0.288*\"КОТОРЫЙ\" + 0.265*\"ЧЕЛОВЕК\" + -0.258*\"АЛЛАХ\" + -0.180*\"РАМАДАН\" + 0.178*\"КНИГА\" + 0.146*\"СЛОВО\" + -0.144*\"МИР\" + -0.140*\"ЧИТАТЬ\" + 0.128*\"УЧЁНЫЙ\"\n"
     ]
    },
    {
     "name": "stderr",
     "output_type": "stream",
     "text": [
      "2016-10-11 18:16:05,401 : INFO : topic #4(372.950): -0.469*\"ИМАМ\" + 0.328*\"ЧЕЛОВЕК\" + -0.277*\"УМ\" + -0.248*\"КНИГА\" + -0.234*\"ГОД\" + -0.200*\"АЛЛАХ\" + -0.173*\"УЧЁНЫЙ\" + -0.167*\"АБА\" + 0.124*\"ВОПРОС\" + -0.122*\"БИОГРАФИЯ\"\n"
     ]
    },
    {
     "name": "stderr",
     "output_type": "stream",
     "text": [
      "2016-10-11 18:16:05,410 : INFO : preparing a new chunk of documents\n"
     ]
    },
    {
     "name": "stderr",
     "output_type": "stream",
     "text": [
      "2016-10-11 18:16:05,411 : INFO : using 100 extra samples and 2 power iterations\n"
     ]
    },
    {
     "name": "stderr",
     "output_type": "stream",
     "text": [
      "2016-10-11 18:16:05,413 : INFO : 1st phase: constructing (24774L, 200L) action matrix\n"
     ]
    },
    {
     "name": "stderr",
     "output_type": "stream",
     "text": [
      "2016-10-11 18:16:05,415 : INFO : orthonormalizing (24774L, 200L) action matrix\n"
     ]
    },
    {
     "name": "stderr",
     "output_type": "stream",
     "text": [
      "2016-10-11 18:16:06,681 : INFO : 2nd phase: running dense svd on (200L, 20L) matrix\n"
     ]
    },
    {
     "name": "stderr",
     "output_type": "stream",
     "text": [
      "2016-10-11 18:16:06,714 : INFO : computing the final decomposition\n"
     ]
    },
    {
     "name": "stderr",
     "output_type": "stream",
     "text": [
      "2016-10-11 18:16:06,716 : INFO : keeping 2 factors (discarding 0.000% of energy spectrum)\n"
     ]
    },
    {
     "name": "stderr",
     "output_type": "stream",
     "text": [
      "2016-10-11 18:16:06,724 : INFO : merging projections: (24774L, 100L) + (24774L, 2L)\n"
     ]
    },
    {
     "name": "stderr",
     "output_type": "stream",
     "text": [
      "2016-10-11 18:16:06,769 : INFO : keeping 100 factors (discarding 0.011% of energy spectrum)\n"
     ]
    },
    {
     "name": "stderr",
     "output_type": "stream",
     "text": [
      "2016-10-11 18:16:06,829 : INFO : processed documents up to #2980\n"
     ]
    },
    {
     "name": "stderr",
     "output_type": "stream",
     "text": [
      "2016-10-11 18:16:06,832 : INFO : topic #0(1574.607): 0.488*\"АЛЛАХ\" + 0.270*\"КОТОРЫЙ\" + 0.218*\"ЧЕЛОВЕК\" + 0.172*\"МИР\" + 0.150*\"СКАЗАТЬ\" + 0.150*\"ПРОРОК\" + 0.149*\"СВОЙ\" + 0.145*\"ВОПРОС\" + 0.133*\"ИСТОРИЯ\" + 0.118*\"КОРАН\"\n"
     ]
    },
    {
     "name": "stderr",
     "output_type": "stream",
     "text": [
      "2016-10-11 18:16:06,834 : INFO : topic #1(604.027): -0.591*\"АЛЛАХ\" + 0.197*\"ИДДА\" + 0.172*\"ИСТОРИЯ\" + -0.162*\"ПОСЛАННИК\" + 0.152*\"ИСЛАМСКИЙ\" + 0.151*\"РАМАДАН\" + 0.150*\"ЖЕНЩИНА\" + 0.143*\"МУЖ\" + 0.136*\"САЙТ\" + 0.136*\"РАЗВОД\"\n"
     ]
    },
    {
     "name": "stderr",
     "output_type": "stream",
     "text": [
      "2016-10-11 18:16:06,836 : INFO : topic #2(545.501): -0.476*\"ИДДА\" + -0.341*\"МУЖ\" + -0.332*\"ЖЕНЩИНА\" + -0.237*\"РАЗВОД\" + -0.198*\"ЖЕНА\" + -0.185*\"СРОК\" + -0.133*\"АЛЛАХ\" + -0.130*\"ДОЛЖНЫЙ\" + -0.129*\"ПЕРИОД\" + 0.125*\"ИСТОРИЯ\"\n"
     ]
    },
    {
     "name": "stderr",
     "output_type": "stream",
     "text": [
      "2016-10-11 18:16:06,838 : INFO : topic #3(424.803): 0.295*\"ИМАМ\" + 0.288*\"КОТОРЫЙ\" + 0.265*\"ЧЕЛОВЕК\" + -0.259*\"АЛЛАХ\" + -0.180*\"РАМАДАН\" + 0.178*\"КНИГА\" + 0.146*\"СЛОВО\" + -0.144*\"МИР\" + -0.140*\"ЧИТАТЬ\" + 0.128*\"УЧЁНЫЙ\"\n"
     ]
    },
    {
     "name": "stderr",
     "output_type": "stream",
     "text": [
      "2016-10-11 18:16:06,841 : INFO : topic #4(372.964): -0.468*\"ИМАМ\" + 0.328*\"ЧЕЛОВЕК\" + -0.277*\"УМ\" + -0.248*\"КНИГА\" + -0.234*\"ГОД\" + -0.200*\"АЛЛАХ\" + -0.173*\"УЧЁНЫЙ\" + -0.167*\"АБА\" + 0.124*\"ВОПРОС\" + -0.122*\"БИОГРАФИЯ\"\n"
     ]
    },
    {
     "name": "stderr",
     "output_type": "stream",
     "text": [
      "2016-10-11 18:16:06,848 : INFO : preparing a new chunk of documents\n"
     ]
    },
    {
     "name": "stderr",
     "output_type": "stream",
     "text": [
      "2016-10-11 18:16:06,851 : INFO : using 100 extra samples and 2 power iterations\n"
     ]
    },
    {
     "name": "stderr",
     "output_type": "stream",
     "text": [
      "2016-10-11 18:16:06,851 : INFO : 1st phase: constructing (24774L, 200L) action matrix\n"
     ]
    },
    {
     "name": "stderr",
     "output_type": "stream",
     "text": [
      "2016-10-11 18:16:06,855 : INFO : orthonormalizing (24774L, 200L) action matrix\n"
     ]
    },
    {
     "name": "stderr",
     "output_type": "stream",
     "text": [
      "2016-10-11 18:16:08,124 : INFO : 2nd phase: running dense svd on (200L, 20L) matrix\n"
     ]
    },
    {
     "name": "stderr",
     "output_type": "stream",
     "text": [
      "2016-10-11 18:16:08,151 : INFO : computing the final decomposition\n"
     ]
    },
    {
     "name": "stderr",
     "output_type": "stream",
     "text": [
      "2016-10-11 18:16:08,154 : INFO : keeping 3 factors (discarding 0.000% of energy spectrum)\n"
     ]
    },
    {
     "name": "stderr",
     "output_type": "stream",
     "text": [
      "2016-10-11 18:16:08,164 : INFO : merging projections: (24774L, 100L) + (24774L, 3L)\n"
     ]
    },
    {
     "name": "stderr",
     "output_type": "stream",
     "text": [
      "2016-10-11 18:16:08,210 : INFO : keeping 100 factors (discarding 0.014% of energy spectrum)\n"
     ]
    },
    {
     "name": "stderr",
     "output_type": "stream",
     "text": [
      "2016-10-11 18:16:08,265 : INFO : processed documents up to #3000\n"
     ]
    },
    {
     "name": "stderr",
     "output_type": "stream",
     "text": [
      "2016-10-11 18:16:08,266 : INFO : topic #0(1575.041): 0.488*\"АЛЛАХ\" + 0.270*\"КОТОРЫЙ\" + 0.218*\"ЧЕЛОВЕК\" + 0.172*\"МИР\" + 0.150*\"СКАЗАТЬ\" + 0.150*\"ПРОРОК\" + 0.149*\"СВОЙ\" + 0.145*\"ВОПРОС\" + 0.133*\"ИСТОРИЯ\" + 0.118*\"КОРАН\"\n"
     ]
    },
    {
     "name": "stderr",
     "output_type": "stream",
     "text": [
      "2016-10-11 18:16:08,269 : INFO : topic #1(604.197): -0.591*\"АЛЛАХ\" + 0.196*\"ИДДА\" + 0.172*\"ИСТОРИЯ\" + -0.162*\"ПОСЛАННИК\" + 0.152*\"ИСЛАМСКИЙ\" + 0.151*\"РАМАДАН\" + 0.149*\"ЖЕНЩИНА\" + 0.142*\"МУЖ\" + 0.137*\"САЙТ\" + 0.136*\"РАЗВОД\"\n"
     ]
    },
    {
     "name": "stderr",
     "output_type": "stream",
     "text": [
      "2016-10-11 18:16:08,270 : INFO : topic #2(545.605): -0.476*\"ИДДА\" + -0.342*\"МУЖ\" + -0.332*\"ЖЕНЩИНА\" + -0.237*\"РАЗВОД\" + -0.198*\"ЖЕНА\" + -0.185*\"СРОК\" + -0.132*\"АЛЛАХ\" + -0.130*\"ДОЛЖНЫЙ\" + -0.129*\"ПЕРИОД\" + 0.125*\"ИСТОРИЯ\"\n"
     ]
    },
    {
     "name": "stderr",
     "output_type": "stream",
     "text": [
      "2016-10-11 18:16:08,273 : INFO : topic #3(424.897): 0.296*\"ИМАМ\" + 0.288*\"КОТОРЫЙ\" + 0.265*\"ЧЕЛОВЕК\" + -0.259*\"АЛЛАХ\" + -0.180*\"РАМАДАН\" + 0.178*\"КНИГА\" + 0.146*\"СЛОВО\" + -0.144*\"МИР\" + -0.141*\"ЧИТАТЬ\" + 0.128*\"УЧЁНЫЙ\"\n"
     ]
    },
    {
     "name": "stderr",
     "output_type": "stream",
     "text": [
      "2016-10-11 18:16:08,275 : INFO : topic #4(372.980): -0.468*\"ИМАМ\" + 0.328*\"ЧЕЛОВЕК\" + -0.277*\"УМ\" + -0.248*\"КНИГА\" + -0.234*\"ГОД\" + -0.200*\"АЛЛАХ\" + -0.173*\"УЧЁНЫЙ\" + -0.167*\"АБА\" + 0.124*\"ВОПРОС\" + -0.122*\"БИОГРАФИЯ\"\n"
     ]
    },
    {
     "name": "stderr",
     "output_type": "stream",
     "text": [
      "2016-10-11 18:16:08,282 : INFO : preparing a new chunk of documents\n"
     ]
    },
    {
     "name": "stderr",
     "output_type": "stream",
     "text": [
      "2016-10-11 18:16:08,285 : INFO : using 100 extra samples and 2 power iterations\n"
     ]
    },
    {
     "name": "stderr",
     "output_type": "stream",
     "text": [
      "2016-10-11 18:16:08,286 : INFO : 1st phase: constructing (24774L, 200L) action matrix\n"
     ]
    },
    {
     "name": "stderr",
     "output_type": "stream",
     "text": [
      "2016-10-11 18:16:08,288 : INFO : orthonormalizing (24774L, 200L) action matrix\n"
     ]
    },
    {
     "name": "stderr",
     "output_type": "stream",
     "text": [
      "2016-10-11 18:16:09,539 : INFO : 2nd phase: running dense svd on (200L, 20L) matrix\n"
     ]
    },
    {
     "name": "stderr",
     "output_type": "stream",
     "text": [
      "2016-10-11 18:16:09,571 : INFO : computing the final decomposition\n"
     ]
    },
    {
     "name": "stderr",
     "output_type": "stream",
     "text": [
      "2016-10-11 18:16:09,572 : INFO : keeping 2 factors (discarding 0.000% of energy spectrum)\n"
     ]
    },
    {
     "name": "stderr",
     "output_type": "stream",
     "text": [
      "2016-10-11 18:16:09,585 : INFO : merging projections: (24774L, 100L) + (24774L, 2L)\n"
     ]
    },
    {
     "name": "stderr",
     "output_type": "stream",
     "text": [
      "2016-10-11 18:16:09,628 : INFO : keeping 100 factors (discarding 0.013% of energy spectrum)\n"
     ]
    },
    {
     "name": "stderr",
     "output_type": "stream",
     "text": [
      "2016-10-11 18:16:09,688 : INFO : processed documents up to #3020\n"
     ]
    },
    {
     "name": "stderr",
     "output_type": "stream",
     "text": [
      "2016-10-11 18:16:09,690 : INFO : topic #0(1575.308): 0.488*\"АЛЛАХ\" + 0.270*\"КОТОРЫЙ\" + 0.218*\"ЧЕЛОВЕК\" + 0.172*\"МИР\" + 0.150*\"СКАЗАТЬ\" + 0.150*\"ПРОРОК\" + 0.149*\"СВОЙ\" + 0.145*\"ВОПРОС\" + 0.133*\"ИСТОРИЯ\" + 0.119*\"КОРАН\"\n"
     ]
    },
    {
     "name": "stderr",
     "output_type": "stream",
     "text": [
      "2016-10-11 18:16:09,693 : INFO : topic #1(604.409): -0.592*\"АЛЛАХ\" + 0.195*\"ИДДА\" + 0.173*\"ИСТОРИЯ\" + -0.162*\"ПОСЛАННИК\" + 0.152*\"ИСЛАМСКИЙ\" + 0.151*\"РАМАДАН\" + 0.148*\"ЖЕНЩИНА\" + 0.141*\"МУЖ\" + 0.137*\"САЙТ\" + 0.135*\"РАЗВОД\"\n"
     ]
    },
    {
     "name": "stderr",
     "output_type": "stream",
     "text": [
      "2016-10-11 18:16:09,694 : INFO : topic #2(545.738): -0.476*\"ИДДА\" + -0.342*\"МУЖ\" + -0.333*\"ЖЕНЩИНА\" + -0.238*\"РАЗВОД\" + -0.199*\"ЖЕНА\" + -0.185*\"СРОК\" + -0.130*\"ДОЛЖНЫЙ\" + -0.130*\"АЛЛАХ\" + -0.129*\"ПЕРИОД\" + 0.124*\"ИСТОРИЯ\"\n"
     ]
    },
    {
     "name": "stderr",
     "output_type": "stream",
     "text": [
      "2016-10-11 18:16:09,697 : INFO : topic #3(424.939): 0.296*\"ИМАМ\" + 0.288*\"КОТОРЫЙ\" + 0.264*\"ЧЕЛОВЕК\" + -0.259*\"АЛЛАХ\" + -0.180*\"РАМАДАН\" + 0.179*\"КНИГА\" + 0.146*\"СЛОВО\" + -0.144*\"МИР\" + -0.142*\"ЧИТАТЬ\" + 0.128*\"УЧЁНЫЙ\"\n"
     ]
    },
    {
     "name": "stderr",
     "output_type": "stream",
     "text": [
      "2016-10-11 18:16:09,700 : INFO : topic #4(372.996): -0.468*\"ИМАМ\" + 0.328*\"ЧЕЛОВЕК\" + -0.277*\"УМ\" + -0.248*\"КНИГА\" + -0.234*\"ГОД\" + -0.200*\"АЛЛАХ\" + -0.173*\"УЧЁНЫЙ\" + -0.167*\"АБА\" + 0.124*\"ВОПРОС\" + -0.122*\"БИОГРАФИЯ\"\n"
     ]
    },
    {
     "name": "stderr",
     "output_type": "stream",
     "text": [
      "2016-10-11 18:16:09,709 : INFO : preparing a new chunk of documents\n"
     ]
    },
    {
     "name": "stderr",
     "output_type": "stream",
     "text": [
      "2016-10-11 18:16:09,710 : INFO : using 100 extra samples and 2 power iterations\n"
     ]
    },
    {
     "name": "stderr",
     "output_type": "stream",
     "text": [
      "2016-10-11 18:16:09,711 : INFO : 1st phase: constructing (24774L, 200L) action matrix\n"
     ]
    },
    {
     "name": "stderr",
     "output_type": "stream",
     "text": [
      "2016-10-11 18:16:09,714 : INFO : orthonormalizing (24774L, 200L) action matrix\n"
     ]
    },
    {
     "name": "stderr",
     "output_type": "stream",
     "text": [
      "2016-10-11 18:16:10,982 : INFO : 2nd phase: running dense svd on (200L, 20L) matrix\n"
     ]
    },
    {
     "name": "stderr",
     "output_type": "stream",
     "text": [
      "2016-10-11 18:16:11,010 : INFO : computing the final decomposition\n"
     ]
    },
    {
     "name": "stderr",
     "output_type": "stream",
     "text": [
      "2016-10-11 18:16:11,013 : INFO : keeping 2 factors (discarding 0.000% of energy spectrum)\n"
     ]
    },
    {
     "name": "stderr",
     "output_type": "stream",
     "text": [
      "2016-10-11 18:16:11,023 : INFO : merging projections: (24774L, 100L) + (24774L, 2L)\n"
     ]
    },
    {
     "name": "stderr",
     "output_type": "stream",
     "text": [
      "2016-10-11 18:16:11,065 : INFO : keeping 100 factors (discarding 0.011% of energy spectrum)\n"
     ]
    },
    {
     "name": "stderr",
     "output_type": "stream",
     "text": [
      "2016-10-11 18:16:11,122 : INFO : processed documents up to #3040\n"
     ]
    },
    {
     "name": "stderr",
     "output_type": "stream",
     "text": [
      "2016-10-11 18:16:11,125 : INFO : topic #0(1575.620): 0.488*\"АЛЛАХ\" + 0.270*\"КОТОРЫЙ\" + 0.218*\"ЧЕЛОВЕК\" + 0.172*\"МИР\" + 0.150*\"СКАЗАТЬ\" + 0.150*\"ПРОРОК\" + 0.149*\"СВОЙ\" + 0.145*\"ВОПРОС\" + 0.133*\"ИСТОРИЯ\" + 0.119*\"КОРАН\"\n"
     ]
    },
    {
     "name": "stderr",
     "output_type": "stream",
     "text": [
      "2016-10-11 18:16:11,128 : INFO : topic #1(604.634): -0.592*\"АЛЛАХ\" + 0.194*\"ИДДА\" + 0.173*\"ИСТОРИЯ\" + -0.162*\"ПОСЛАННИК\" + 0.152*\"ИСЛАМСКИЙ\" + 0.152*\"РАМАДАН\" + 0.148*\"ЖЕНЩИНА\" + 0.141*\"МУЖ\" + 0.137*\"САЙТ\" + 0.134*\"РАЗВОД\"\n"
     ]
    },
    {
     "name": "stderr",
     "output_type": "stream",
     "text": [
      "2016-10-11 18:16:11,130 : INFO : topic #2(545.814): -0.477*\"ИДДА\" + -0.342*\"МУЖ\" + -0.333*\"ЖЕНЩИНА\" + -0.238*\"РАЗВОД\" + -0.199*\"ЖЕНА\" + -0.185*\"СРОК\" + -0.131*\"ДОЛЖНЫЙ\" + -0.129*\"ПЕРИОД\" + -0.129*\"АЛЛАХ\" + 0.124*\"ИСТОРИЯ\"\n"
     ]
    },
    {
     "name": "stderr",
     "output_type": "stream",
     "text": [
      "2016-10-11 18:16:11,131 : INFO : topic #3(424.980): 0.296*\"ИМАМ\" + 0.288*\"КОТОРЫЙ\" + 0.264*\"ЧЕЛОВЕК\" + -0.260*\"АЛЛАХ\" + -0.180*\"РАМАДАН\" + 0.179*\"КНИГА\" + 0.146*\"СЛОВО\" + -0.144*\"МИР\" + -0.142*\"ЧИТАТЬ\" + 0.128*\"УЧЁНЫЙ\"\n"
     ]
    },
    {
     "name": "stderr",
     "output_type": "stream",
     "text": [
      "2016-10-11 18:16:11,134 : INFO : topic #4(373.029): -0.468*\"ИМАМ\" + 0.329*\"ЧЕЛОВЕК\" + -0.277*\"УМ\" + -0.248*\"КНИГА\" + -0.233*\"ГОД\" + -0.200*\"АЛЛАХ\" + -0.172*\"УЧЁНЫЙ\" + -0.167*\"АБА\" + 0.124*\"ВОПРОС\" + -0.122*\"БИОГРАФИЯ\"\n"
     ]
    },
    {
     "name": "stderr",
     "output_type": "stream",
     "text": [
      "2016-10-11 18:16:11,140 : INFO : preparing a new chunk of documents\n"
     ]
    },
    {
     "name": "stderr",
     "output_type": "stream",
     "text": [
      "2016-10-11 18:16:11,141 : INFO : using 100 extra samples and 2 power iterations\n"
     ]
    },
    {
     "name": "stderr",
     "output_type": "stream",
     "text": [
      "2016-10-11 18:16:11,142 : INFO : 1st phase: constructing (24774L, 200L) action matrix\n"
     ]
    },
    {
     "name": "stderr",
     "output_type": "stream",
     "text": [
      "2016-10-11 18:16:11,145 : INFO : orthonormalizing (24774L, 200L) action matrix\n"
     ]
    },
    {
     "name": "stderr",
     "output_type": "stream",
     "text": [
      "2016-10-11 18:16:12,375 : INFO : 2nd phase: running dense svd on (200L, 20L) matrix\n"
     ]
    },
    {
     "name": "stderr",
     "output_type": "stream",
     "text": [
      "2016-10-11 18:16:12,405 : INFO : computing the final decomposition\n"
     ]
    },
    {
     "name": "stderr",
     "output_type": "stream",
     "text": [
      "2016-10-11 18:16:12,407 : INFO : keeping 1 factors (discarding 0.000% of energy spectrum)\n"
     ]
    },
    {
     "name": "stderr",
     "output_type": "stream",
     "text": [
      "2016-10-11 18:16:12,414 : INFO : merging projections: (24774L, 100L) + (24774L, 1L)\n"
     ]
    },
    {
     "name": "stderr",
     "output_type": "stream",
     "text": [
      "2016-10-11 18:16:12,456 : INFO : keeping 100 factors (discarding 0.006% of energy spectrum)\n"
     ]
    },
    {
     "name": "stderr",
     "output_type": "stream",
     "text": [
      "2016-10-11 18:16:12,516 : INFO : processed documents up to #3060\n"
     ]
    },
    {
     "name": "stderr",
     "output_type": "stream",
     "text": [
      "2016-10-11 18:16:12,519 : INFO : topic #0(1575.772): 0.488*\"АЛЛАХ\" + 0.270*\"КОТОРЫЙ\" + 0.218*\"ЧЕЛОВЕК\" + 0.172*\"МИР\" + 0.150*\"СКАЗАТЬ\" + 0.150*\"ПРОРОК\" + 0.149*\"СВОЙ\" + 0.145*\"ВОПРОС\" + 0.133*\"ИСТОРИЯ\" + 0.119*\"КОРАН\"\n"
     ]
    },
    {
     "name": "stderr",
     "output_type": "stream",
     "text": [
      "2016-10-11 18:16:12,520 : INFO : topic #1(604.691): -0.592*\"АЛЛАХ\" + 0.194*\"ИДДА\" + 0.173*\"ИСТОРИЯ\" + -0.162*\"ПОСЛАННИК\" + 0.152*\"ИСЛАМСКИЙ\" + 0.152*\"РАМАДАН\" + 0.147*\"ЖЕНЩИНА\" + 0.140*\"МУЖ\" + 0.137*\"САЙТ\" + 0.134*\"РАЗВОД\"\n"
     ]
    },
    {
     "name": "stderr",
     "output_type": "stream",
     "text": [
      "2016-10-11 18:16:12,523 : INFO : topic #2(545.862): -0.477*\"ИДДА\" + -0.342*\"МУЖ\" + -0.333*\"ЖЕНЩИНА\" + -0.238*\"РАЗВОД\" + -0.199*\"ЖЕНА\" + -0.186*\"СРОК\" + -0.131*\"ДОЛЖНЫЙ\" + -0.129*\"ПЕРИОД\" + -0.128*\"АЛЛАХ\" + 0.124*\"ИСТОРИЯ\"\n"
     ]
    },
    {
     "name": "stderr",
     "output_type": "stream",
     "text": [
      "2016-10-11 18:16:12,525 : INFO : topic #3(425.012): 0.296*\"ИМАМ\" + 0.288*\"КОТОРЫЙ\" + 0.264*\"ЧЕЛОВЕК\" + -0.260*\"АЛЛАХ\" + -0.180*\"РАМАДАН\" + 0.179*\"КНИГА\" + 0.146*\"СЛОВО\" + -0.144*\"МИР\" + -0.143*\"ЧИТАТЬ\" + 0.128*\"УЧЁНЫЙ\"\n"
     ]
    },
    {
     "name": "stderr",
     "output_type": "stream",
     "text": [
      "2016-10-11 18:16:12,526 : INFO : topic #4(373.031): -0.468*\"ИМАМ\" + 0.329*\"ЧЕЛОВЕК\" + -0.277*\"УМ\" + -0.248*\"КНИГА\" + -0.233*\"ГОД\" + -0.199*\"АЛЛАХ\" + -0.172*\"УЧЁНЫЙ\" + -0.167*\"АБА\" + 0.125*\"ВОПРОС\" + -0.122*\"БИОГРАФИЯ\"\n"
     ]
    },
    {
     "name": "stderr",
     "output_type": "stream",
     "text": [
      "2016-10-11 18:16:12,535 : INFO : preparing a new chunk of documents\n"
     ]
    },
    {
     "name": "stderr",
     "output_type": "stream",
     "text": [
      "2016-10-11 18:16:12,536 : INFO : using 100 extra samples and 2 power iterations\n"
     ]
    },
    {
     "name": "stderr",
     "output_type": "stream",
     "text": [
      "2016-10-11 18:16:12,536 : INFO : 1st phase: constructing (24774L, 200L) action matrix\n"
     ]
    },
    {
     "name": "stderr",
     "output_type": "stream",
     "text": [
      "2016-10-11 18:16:12,539 : INFO : orthonormalizing (24774L, 200L) action matrix\n"
     ]
    },
    {
     "name": "stderr",
     "output_type": "stream",
     "text": [
      "2016-10-11 18:16:13,801 : INFO : 2nd phase: running dense svd on (200L, 20L) matrix\n"
     ]
    },
    {
     "name": "stderr",
     "output_type": "stream",
     "text": [
      "2016-10-11 18:16:13,832 : INFO : computing the final decomposition\n"
     ]
    },
    {
     "name": "stderr",
     "output_type": "stream",
     "text": [
      "2016-10-11 18:16:13,832 : INFO : keeping 2 factors (discarding 0.000% of energy spectrum)\n"
     ]
    },
    {
     "name": "stderr",
     "output_type": "stream",
     "text": [
      "2016-10-11 18:16:13,845 : INFO : merging projections: (24774L, 100L) + (24774L, 2L)\n"
     ]
    },
    {
     "name": "stderr",
     "output_type": "stream",
     "text": [
      "2016-10-11 18:16:13,888 : INFO : keeping 100 factors (discarding 0.012% of energy spectrum)\n"
     ]
    },
    {
     "name": "stderr",
     "output_type": "stream",
     "text": [
      "2016-10-11 18:16:13,948 : INFO : processed documents up to #3080\n"
     ]
    },
    {
     "name": "stderr",
     "output_type": "stream",
     "text": [
      "2016-10-11 18:16:13,950 : INFO : topic #0(1576.199): 0.488*\"АЛЛАХ\" + 0.270*\"КОТОРЫЙ\" + 0.218*\"ЧЕЛОВЕК\" + 0.172*\"МИР\" + 0.150*\"СКАЗАТЬ\" + 0.150*\"ПРОРОК\" + 0.149*\"СВОЙ\" + 0.145*\"ВОПРОС\" + 0.133*\"ИСТОРИЯ\" + 0.119*\"КОРАН\"\n"
     ]
    },
    {
     "name": "stderr",
     "output_type": "stream",
     "text": [
      "2016-10-11 18:16:13,953 : INFO : topic #1(604.784): -0.592*\"АЛЛАХ\" + 0.193*\"ИДДА\" + 0.173*\"ИСТОРИЯ\" + -0.162*\"ПОСЛАННИК\" + 0.153*\"ИСЛАМСКИЙ\" + 0.152*\"РАМАДАН\" + 0.147*\"ЖЕНЩИНА\" + 0.140*\"МУЖ\" + 0.137*\"САЙТ\" + 0.134*\"РАЗВОД\"\n"
     ]
    },
    {
     "name": "stderr",
     "output_type": "stream",
     "text": [
      "2016-10-11 18:16:13,954 : INFO : topic #2(545.930): -0.477*\"ИДДА\" + -0.343*\"МУЖ\" + -0.333*\"ЖЕНЩИНА\" + -0.238*\"РАЗВОД\" + -0.199*\"ЖЕНА\" + -0.186*\"СРОК\" + -0.131*\"ДОЛЖНЫЙ\" + -0.129*\"ПЕРИОД\" + -0.127*\"АЛЛАХ\" + 0.124*\"ИСТОРИЯ\"\n"
     ]
    },
    {
     "name": "stderr",
     "output_type": "stream",
     "text": [
      "2016-10-11 18:16:13,957 : INFO : topic #3(425.073): 0.297*\"ИМАМ\" + 0.287*\"КОТОРЫЙ\" + 0.263*\"ЧЕЛОВЕК\" + -0.260*\"АЛЛАХ\" + -0.179*\"РАМАДАН\" + 0.179*\"КНИГА\" + 0.146*\"СЛОВО\" + -0.144*\"ЧИТАТЬ\" + -0.144*\"МИР\" + 0.129*\"УЧЁНЫЙ\"\n"
     ]
    },
    {
     "name": "stderr",
     "output_type": "stream",
     "text": [
      "2016-10-11 18:16:13,959 : INFO : topic #4(373.045): -0.468*\"ИМАМ\" + 0.329*\"ЧЕЛОВЕК\" + -0.277*\"УМ\" + -0.248*\"КНИГА\" + -0.233*\"ГОД\" + -0.199*\"АЛЛАХ\" + -0.172*\"УЧЁНЫЙ\" + -0.167*\"АБА\" + 0.125*\"ВОПРОС\" + -0.122*\"БИОГРАФИЯ\"\n"
     ]
    },
    {
     "name": "stderr",
     "output_type": "stream",
     "text": [
      "2016-10-11 18:16:13,966 : INFO : preparing a new chunk of documents\n"
     ]
    },
    {
     "name": "stderr",
     "output_type": "stream",
     "text": [
      "2016-10-11 18:16:13,967 : INFO : using 100 extra samples and 2 power iterations\n"
     ]
    },
    {
     "name": "stderr",
     "output_type": "stream",
     "text": [
      "2016-10-11 18:16:13,967 : INFO : 1st phase: constructing (24774L, 200L) action matrix\n"
     ]
    },
    {
     "name": "stderr",
     "output_type": "stream",
     "text": [
      "2016-10-11 18:16:13,970 : INFO : orthonormalizing (24774L, 200L) action matrix\n"
     ]
    },
    {
     "name": "stderr",
     "output_type": "stream",
     "text": [
      "2016-10-11 18:16:15,206 : INFO : 2nd phase: running dense svd on (200L, 20L) matrix\n"
     ]
    },
    {
     "name": "stderr",
     "output_type": "stream",
     "text": [
      "2016-10-11 18:16:15,234 : INFO : computing the final decomposition\n"
     ]
    },
    {
     "name": "stderr",
     "output_type": "stream",
     "text": [
      "2016-10-11 18:16:15,236 : INFO : keeping 2 factors (discarding 0.000% of energy spectrum)\n"
     ]
    },
    {
     "name": "stderr",
     "output_type": "stream",
     "text": [
      "2016-10-11 18:16:15,246 : INFO : merging projections: (24774L, 100L) + (24774L, 2L)\n"
     ]
    },
    {
     "name": "stderr",
     "output_type": "stream",
     "text": [
      "2016-10-11 18:16:15,292 : INFO : keeping 100 factors (discarding 0.011% of energy spectrum)\n"
     ]
    },
    {
     "name": "stderr",
     "output_type": "stream",
     "text": [
      "2016-10-11 18:16:15,344 : INFO : processed documents up to #3100\n"
     ]
    },
    {
     "name": "stderr",
     "output_type": "stream",
     "text": [
      "2016-10-11 18:16:15,345 : INFO : topic #0(1576.639): 0.488*\"АЛЛАХ\" + 0.270*\"КОТОРЫЙ\" + 0.218*\"ЧЕЛОВЕК\" + 0.172*\"МИР\" + 0.150*\"СКАЗАТЬ\" + 0.149*\"ПРОРОК\" + 0.149*\"СВОЙ\" + 0.145*\"ВОПРОС\" + 0.133*\"ИСТОРИЯ\" + 0.119*\"КОРАН\"\n"
     ]
    },
    {
     "name": "stderr",
     "output_type": "stream",
     "text": [
      "2016-10-11 18:16:15,348 : INFO : topic #1(604.856): -0.592*\"АЛЛАХ\" + 0.193*\"ИДДА\" + 0.173*\"ИСТОРИЯ\" + -0.162*\"ПОСЛАННИК\" + 0.153*\"ИСЛАМСКИЙ\" + 0.152*\"РАМАДАН\" + 0.147*\"ЖЕНЩИНА\" + 0.139*\"МУЖ\" + 0.138*\"САЙТ\" + 0.134*\"РАЗВОД\"\n"
     ]
    },
    {
     "name": "stderr",
     "output_type": "stream",
     "text": [
      "2016-10-11 18:16:15,349 : INFO : topic #2(545.993): -0.477*\"ИДДА\" + -0.343*\"МУЖ\" + -0.333*\"ЖЕНЩИНА\" + -0.238*\"РАЗВОД\" + -0.199*\"ЖЕНА\" + -0.186*\"СРОК\" + -0.131*\"ДОЛЖНЫЙ\" + -0.129*\"ПЕРИОД\" + -0.126*\"АЛЛАХ\" + 0.123*\"ИСТОРИЯ\"\n"
     ]
    },
    {
     "name": "stderr",
     "output_type": "stream",
     "text": [
      "2016-10-11 18:16:15,351 : INFO : topic #3(425.122): 0.297*\"ИМАМ\" + 0.287*\"КОТОРЫЙ\" + 0.263*\"ЧЕЛОВЕК\" + -0.260*\"АЛЛАХ\" + -0.179*\"РАМАДАН\" + 0.179*\"КНИГА\" + 0.146*\"СЛОВО\" + -0.144*\"ЧИТАТЬ\" + -0.143*\"МИР\" + 0.129*\"УЧЁНЫЙ\"\n"
     ]
    },
    {
     "name": "stderr",
     "output_type": "stream",
     "text": [
      "2016-10-11 18:16:15,355 : INFO : topic #4(373.055): -0.468*\"ИМАМ\" + 0.329*\"ЧЕЛОВЕК\" + -0.277*\"УМ\" + -0.248*\"КНИГА\" + -0.233*\"ГОД\" + -0.199*\"АЛЛАХ\" + -0.172*\"УЧЁНЫЙ\" + -0.167*\"АБА\" + 0.125*\"ВОПРОС\" + -0.122*\"БИОГРАФИЯ\"\n"
     ]
    },
    {
     "name": "stderr",
     "output_type": "stream",
     "text": [
      "2016-10-11 18:16:15,367 : INFO : preparing a new chunk of documents\n"
     ]
    },
    {
     "name": "stderr",
     "output_type": "stream",
     "text": [
      "2016-10-11 18:16:15,368 : INFO : using 100 extra samples and 2 power iterations\n"
     ]
    },
    {
     "name": "stderr",
     "output_type": "stream",
     "text": [
      "2016-10-11 18:16:15,369 : INFO : 1st phase: constructing (24774L, 200L) action matrix\n"
     ]
    },
    {
     "name": "stderr",
     "output_type": "stream",
     "text": [
      "2016-10-11 18:16:15,372 : INFO : orthonormalizing (24774L, 200L) action matrix\n"
     ]
    },
    {
     "name": "stderr",
     "output_type": "stream",
     "text": [
      "2016-10-11 18:16:16,614 : INFO : 2nd phase: running dense svd on (200L, 20L) matrix\n"
     ]
    },
    {
     "name": "stderr",
     "output_type": "stream",
     "text": [
      "2016-10-11 18:16:16,641 : INFO : computing the final decomposition\n"
     ]
    },
    {
     "name": "stderr",
     "output_type": "stream",
     "text": [
      "2016-10-11 18:16:16,644 : INFO : keeping 3 factors (discarding 0.000% of energy spectrum)\n"
     ]
    },
    {
     "name": "stderr",
     "output_type": "stream",
     "text": [
      "2016-10-11 18:16:16,655 : INFO : merging projections: (24774L, 100L) + (24774L, 3L)\n"
     ]
    },
    {
     "name": "stderr",
     "output_type": "stream",
     "text": [
      "2016-10-11 18:16:16,700 : INFO : keeping 100 factors (discarding 0.017% of energy spectrum)\n"
     ]
    },
    {
     "name": "stderr",
     "output_type": "stream",
     "text": [
      "2016-10-11 18:16:16,760 : INFO : processed documents up to #3120\n"
     ]
    },
    {
     "name": "stderr",
     "output_type": "stream",
     "text": [
      "2016-10-11 18:16:16,763 : INFO : topic #0(1577.090): 0.488*\"АЛЛАХ\" + 0.270*\"КОТОРЫЙ\" + 0.218*\"ЧЕЛОВЕК\" + 0.172*\"МИР\" + 0.149*\"ПРОРОК\" + 0.149*\"СКАЗАТЬ\" + 0.149*\"СВОЙ\" + 0.145*\"ВОПРОС\" + 0.133*\"ИСТОРИЯ\" + 0.119*\"КОРАН\"\n"
     ]
    },
    {
     "name": "stderr",
     "output_type": "stream",
     "text": [
      "2016-10-11 18:16:16,765 : INFO : topic #1(605.124): -0.592*\"АЛЛАХ\" + 0.191*\"ИДДА\" + 0.174*\"ИСТОРИЯ\" + -0.162*\"ПОСЛАННИК\" + 0.153*\"ИСЛАМСКИЙ\" + 0.152*\"РАМАДАН\" + 0.146*\"ЖЕНЩИНА\" + 0.138*\"МУЖ\" + 0.138*\"САЙТ\" + 0.135*\"ЧИТАТЬ\"\n"
     ]
    },
    {
     "name": "stderr",
     "output_type": "stream",
     "text": [
      "2016-10-11 18:16:16,766 : INFO : topic #2(546.147): -0.478*\"ИДДА\" + -0.343*\"МУЖ\" + -0.334*\"ЖЕНЩИНА\" + -0.239*\"РАЗВОД\" + -0.199*\"ЖЕНА\" + -0.186*\"СРОК\" + -0.131*\"ДОЛЖНЫЙ\" + -0.130*\"ПЕРИОД\" + -0.124*\"АЛЛАХ\" + 0.123*\"ИСТОРИЯ\"\n"
     ]
    },
    {
     "name": "stderr",
     "output_type": "stream",
     "text": [
      "2016-10-11 18:16:16,769 : INFO : topic #3(425.203): 0.297*\"ИМАМ\" + 0.287*\"КОТОРЫЙ\" + 0.263*\"ЧЕЛОВЕК\" + -0.261*\"АЛЛАХ\" + -0.179*\"РАМАДАН\" + 0.179*\"КНИГА\" + 0.146*\"СЛОВО\" + -0.145*\"ЧИТАТЬ\" + -0.143*\"МИР\" + 0.129*\"УЧЁНЫЙ\"\n"
     ]
    },
    {
     "name": "stderr",
     "output_type": "stream",
     "text": [
      "2016-10-11 18:16:16,770 : INFO : topic #4(373.102): -0.468*\"ИМАМ\" + 0.330*\"ЧЕЛОВЕК\" + -0.277*\"УМ\" + -0.247*\"КНИГА\" + -0.233*\"ГОД\" + -0.199*\"АЛЛАХ\" + -0.172*\"УЧЁНЫЙ\" + -0.167*\"АБА\" + 0.125*\"ВОПРОС\" + -0.122*\"БИОГРАФИЯ\"\n"
     ]
    },
    {
     "name": "stderr",
     "output_type": "stream",
     "text": [
      "2016-10-11 18:16:16,778 : INFO : preparing a new chunk of documents\n"
     ]
    },
    {
     "name": "stderr",
     "output_type": "stream",
     "text": [
      "2016-10-11 18:16:16,779 : INFO : using 100 extra samples and 2 power iterations\n"
     ]
    },
    {
     "name": "stderr",
     "output_type": "stream",
     "text": [
      "2016-10-11 18:16:16,780 : INFO : 1st phase: constructing (24774L, 200L) action matrix\n"
     ]
    },
    {
     "name": "stderr",
     "output_type": "stream",
     "text": [
      "2016-10-11 18:16:16,782 : INFO : orthonormalizing (24774L, 200L) action matrix\n"
     ]
    },
    {
     "name": "stderr",
     "output_type": "stream",
     "text": [
      "2016-10-11 18:16:18,013 : INFO : 2nd phase: running dense svd on (200L, 20L) matrix\n"
     ]
    },
    {
     "name": "stderr",
     "output_type": "stream",
     "text": [
      "2016-10-11 18:16:18,042 : INFO : computing the final decomposition\n"
     ]
    },
    {
     "name": "stderr",
     "output_type": "stream",
     "text": [
      "2016-10-11 18:16:18,043 : INFO : keeping 2 factors (discarding 0.000% of energy spectrum)\n"
     ]
    },
    {
     "name": "stderr",
     "output_type": "stream",
     "text": [
      "2016-10-11 18:16:18,052 : INFO : merging projections: (24774L, 100L) + (24774L, 2L)\n"
     ]
    },
    {
     "name": "stderr",
     "output_type": "stream",
     "text": [
      "2016-10-11 18:16:18,101 : INFO : keeping 100 factors (discarding 0.012% of energy spectrum)\n"
     ]
    },
    {
     "name": "stderr",
     "output_type": "stream",
     "text": [
      "2016-10-11 18:16:18,154 : INFO : processed documents up to #3140\n"
     ]
    },
    {
     "name": "stderr",
     "output_type": "stream",
     "text": [
      "2016-10-11 18:16:18,155 : INFO : topic #0(1577.450): 0.487*\"АЛЛАХ\" + 0.270*\"КОТОРЫЙ\" + 0.218*\"ЧЕЛОВЕК\" + 0.172*\"МИР\" + 0.149*\"ПРОРОК\" + 0.149*\"СКАЗАТЬ\" + 0.149*\"СВОЙ\" + 0.145*\"ВОПРОС\" + 0.133*\"ИСТОРИЯ\" + 0.119*\"КОРАН\"\n"
     ]
    },
    {
     "name": "stderr",
     "output_type": "stream",
     "text": [
      "2016-10-11 18:16:18,157 : INFO : topic #1(605.339): -0.593*\"АЛЛАХ\" + 0.190*\"ИДДА\" + 0.174*\"ИСТОРИЯ\" + -0.163*\"ПОСЛАННИК\" + 0.153*\"ИСЛАМСКИЙ\" + 0.153*\"РАМАДАН\" + 0.145*\"ЖЕНЩИНА\" + 0.138*\"САЙТ\" + 0.138*\"МУЖ\" + 0.137*\"ЧИТАТЬ\"\n"
     ]
    },
    {
     "name": "stderr",
     "output_type": "stream",
     "text": [
      "2016-10-11 18:16:18,160 : INFO : topic #2(546.246): -0.478*\"ИДДА\" + -0.343*\"МУЖ\" + -0.334*\"ЖЕНЩИНА\" + -0.239*\"РАЗВОД\" + -0.199*\"ЖЕНА\" + -0.186*\"СРОК\" + -0.131*\"ДОЛЖНЫЙ\" + -0.130*\"ПЕРИОД\" + -0.123*\"АЛЛАХ\" + 0.122*\"ИСТОРИЯ\"\n"
     ]
    },
    {
     "name": "stderr",
     "output_type": "stream",
     "text": [
      "2016-10-11 18:16:18,161 : INFO : topic #3(425.323): 0.298*\"ИМАМ\" + 0.287*\"КОТОРЫЙ\" + 0.263*\"ЧЕЛОВЕК\" + -0.261*\"АЛЛАХ\" + -0.179*\"РАМАДАН\" + 0.179*\"КНИГА\" + -0.146*\"ЧИТАТЬ\" + 0.146*\"СЛОВО\" + -0.143*\"МИР\" + 0.129*\"УЧЁНЫЙ\"\n"
     ]
    },
    {
     "name": "stderr",
     "output_type": "stream",
     "text": [
      "2016-10-11 18:16:18,164 : INFO : topic #4(373.110): -0.468*\"ИМАМ\" + 0.330*\"ЧЕЛОВЕК\" + -0.277*\"УМ\" + -0.247*\"КНИГА\" + -0.233*\"ГОД\" + -0.199*\"АЛЛАХ\" + -0.172*\"УЧЁНЫЙ\" + -0.167*\"АБА\" + 0.125*\"ВОПРОС\" + -0.122*\"БИОГРАФИЯ\"\n"
     ]
    },
    {
     "name": "stderr",
     "output_type": "stream",
     "text": [
      "2016-10-11 18:16:18,168 : INFO : preparing a new chunk of documents\n"
     ]
    },
    {
     "name": "stderr",
     "output_type": "stream",
     "text": [
      "2016-10-11 18:16:18,171 : INFO : using 100 extra samples and 2 power iterations\n"
     ]
    },
    {
     "name": "stderr",
     "output_type": "stream",
     "text": [
      "2016-10-11 18:16:18,171 : INFO : 1st phase: constructing (24774L, 200L) action matrix\n"
     ]
    },
    {
     "name": "stderr",
     "output_type": "stream",
     "text": [
      "2016-10-11 18:16:18,174 : INFO : orthonormalizing (24774L, 200L) action matrix\n"
     ]
    },
    {
     "name": "stderr",
     "output_type": "stream",
     "text": [
      "2016-10-11 18:16:19,466 : INFO : 2nd phase: running dense svd on (200L, 20L) matrix\n"
     ]
    },
    {
     "name": "stderr",
     "output_type": "stream",
     "text": [
      "2016-10-11 18:16:19,497 : INFO : computing the final decomposition\n"
     ]
    },
    {
     "name": "stderr",
     "output_type": "stream",
     "text": [
      "2016-10-11 18:16:19,499 : INFO : keeping 1 factors (discarding 0.000% of energy spectrum)\n"
     ]
    },
    {
     "name": "stderr",
     "output_type": "stream",
     "text": [
      "2016-10-11 18:16:19,507 : INFO : merging projections: (24774L, 100L) + (24774L, 1L)\n"
     ]
    },
    {
     "name": "stderr",
     "output_type": "stream",
     "text": [
      "2016-10-11 18:16:19,552 : INFO : keeping 100 factors (discarding 0.010% of energy spectrum)\n"
     ]
    },
    {
     "name": "stderr",
     "output_type": "stream",
     "text": [
      "2016-10-11 18:16:19,605 : INFO : processed documents up to #3160\n"
     ]
    },
    {
     "name": "stderr",
     "output_type": "stream",
     "text": [
      "2016-10-11 18:16:19,608 : INFO : topic #0(1577.591): 0.487*\"АЛЛАХ\" + 0.270*\"КОТОРЫЙ\" + 0.218*\"ЧЕЛОВЕК\" + 0.172*\"МИР\" + 0.149*\"ПРОРОК\" + 0.149*\"СКАЗАТЬ\" + 0.149*\"СВОЙ\" + 0.145*\"ВОПРОС\" + 0.134*\"ИСТОРИЯ\" + 0.119*\"КОРАН\"\n"
     ]
    },
    {
     "name": "stderr",
     "output_type": "stream",
     "text": [
      "2016-10-11 18:16:19,609 : INFO : topic #1(605.449): -0.593*\"АЛЛАХ\" + 0.189*\"ИДДА\" + 0.174*\"ИСТОРИЯ\" + -0.163*\"ПОСЛАННИК\" + 0.154*\"ИСЛАМСКИЙ\" + 0.153*\"РАМАДАН\" + 0.144*\"ЖЕНЩИНА\" + 0.138*\"САЙТ\" + 0.137*\"ЧИТАТЬ\" + 0.137*\"МУЖ\"\n"
     ]
    },
    {
     "name": "stderr",
     "output_type": "stream",
     "text": [
      "2016-10-11 18:16:19,611 : INFO : topic #2(546.294): -0.478*\"ИДДА\" + -0.344*\"МУЖ\" + -0.334*\"ЖЕНЩИНА\" + -0.239*\"РАЗВОД\" + -0.200*\"ЖЕНА\" + -0.186*\"СРОК\" + -0.131*\"ДОЛЖНЫЙ\" + -0.130*\"ПЕРИОД\" + 0.122*\"ИСТОРИЯ\" + -0.122*\"АЛЛАХ\"\n"
     ]
    },
    {
     "name": "stderr",
     "output_type": "stream",
     "text": [
      "2016-10-11 18:16:19,614 : INFO : topic #3(425.352): 0.298*\"ИМАМ\" + 0.287*\"КОТОРЫЙ\" + 0.262*\"ЧЕЛОВЕК\" + -0.262*\"АЛЛАХ\" + 0.179*\"КНИГА\" + -0.179*\"РАМАДАН\" + -0.147*\"ЧИТАТЬ\" + 0.146*\"СЛОВО\" + -0.143*\"МИР\" + 0.129*\"УЧЁНЫЙ\"\n"
     ]
    },
    {
     "name": "stderr",
     "output_type": "stream",
     "text": [
      "2016-10-11 18:16:19,615 : INFO : topic #4(373.130): -0.468*\"ИМАМ\" + 0.330*\"ЧЕЛОВЕК\" + -0.277*\"УМ\" + -0.247*\"КНИГА\" + -0.233*\"ГОД\" + -0.199*\"АЛЛАХ\" + -0.172*\"УЧЁНЫЙ\" + -0.167*\"АБА\" + 0.125*\"ВОПРОС\" + -0.122*\"БИОГРАФИЯ\"\n"
     ]
    },
    {
     "name": "stderr",
     "output_type": "stream",
     "text": [
      "2016-10-11 18:16:19,624 : INFO : preparing a new chunk of documents\n"
     ]
    },
    {
     "name": "stderr",
     "output_type": "stream",
     "text": [
      "2016-10-11 18:16:19,625 : INFO : using 100 extra samples and 2 power iterations\n"
     ]
    },
    {
     "name": "stderr",
     "output_type": "stream",
     "text": [
      "2016-10-11 18:16:19,625 : INFO : 1st phase: constructing (24774L, 200L) action matrix\n"
     ]
    },
    {
     "name": "stderr",
     "output_type": "stream",
     "text": [
      "2016-10-11 18:16:19,628 : INFO : orthonormalizing (24774L, 200L) action matrix\n"
     ]
    },
    {
     "name": "stderr",
     "output_type": "stream",
     "text": [
      "2016-10-11 18:16:20,844 : INFO : 2nd phase: running dense svd on (200L, 20L) matrix\n"
     ]
    },
    {
     "name": "stderr",
     "output_type": "stream",
     "text": [
      "2016-10-11 18:16:20,875 : INFO : computing the final decomposition\n"
     ]
    },
    {
     "name": "stderr",
     "output_type": "stream",
     "text": [
      "2016-10-11 18:16:20,875 : INFO : keeping 2 factors (discarding 0.000% of energy spectrum)\n"
     ]
    },
    {
     "name": "stderr",
     "output_type": "stream",
     "text": [
      "2016-10-11 18:16:20,888 : INFO : merging projections: (24774L, 100L) + (24774L, 2L)\n"
     ]
    },
    {
     "name": "stderr",
     "output_type": "stream",
     "text": [
      "2016-10-11 18:16:20,930 : INFO : keeping 100 factors (discarding 0.011% of energy spectrum)\n"
     ]
    },
    {
     "name": "stderr",
     "output_type": "stream",
     "text": [
      "2016-10-11 18:16:20,987 : INFO : processed documents up to #3180\n"
     ]
    },
    {
     "name": "stderr",
     "output_type": "stream",
     "text": [
      "2016-10-11 18:16:20,990 : INFO : topic #0(1577.980): 0.487*\"АЛЛАХ\" + 0.270*\"КОТОРЫЙ\" + 0.218*\"ЧЕЛОВЕК\" + 0.172*\"МИР\" + 0.149*\"ПРОРОК\" + 0.149*\"СКАЗАТЬ\" + 0.149*\"СВОЙ\" + 0.145*\"ВОПРОС\" + 0.134*\"ИСТОРИЯ\" + 0.119*\"КОРАН\"\n"
     ]
    },
    {
     "name": "stderr",
     "output_type": "stream",
     "text": [
      "2016-10-11 18:16:20,992 : INFO : topic #1(605.636): -0.593*\"АЛЛАХ\" + 0.188*\"ИДДА\" + 0.174*\"ИСТОРИЯ\" + -0.163*\"ПОСЛАННИК\" + 0.154*\"ИСЛАМСКИЙ\" + 0.153*\"РАМАДАН\" + 0.144*\"ЖЕНЩИНА\" + 0.139*\"САЙТ\" + 0.138*\"ЧИТАТЬ\" + 0.136*\"МУЖ\"\n"
     ]
    },
    {
     "name": "stderr",
     "output_type": "stream",
     "text": [
      "2016-10-11 18:16:20,993 : INFO : topic #2(546.403): -0.479*\"ИДДА\" + -0.344*\"МУЖ\" + -0.335*\"ЖЕНЩИНА\" + -0.240*\"РАЗВОД\" + -0.200*\"ЖЕНА\" + -0.186*\"СРОК\" + -0.132*\"ДОЛЖНЫЙ\" + -0.130*\"ПЕРИОД\" + 0.122*\"ИСТОРИЯ\" + -0.120*\"АЛЛАХ\"\n"
     ]
    },
    {
     "name": "stderr",
     "output_type": "stream",
     "text": [
      "2016-10-11 18:16:20,996 : INFO : topic #3(425.372): 0.298*\"ИМАМ\" + 0.287*\"КОТОРЫЙ\" + 0.262*\"ЧЕЛОВЕК\" + -0.262*\"АЛЛАХ\" + 0.179*\"КНИГА\" + -0.179*\"РАМАДАН\" + -0.147*\"ЧИТАТЬ\" + 0.146*\"СЛОВО\" + -0.143*\"МИР\" + 0.129*\"УЧЁНЫЙ\"\n"
     ]
    },
    {
     "name": "stderr",
     "output_type": "stream",
     "text": [
      "2016-10-11 18:16:20,999 : INFO : topic #4(373.180): -0.468*\"ИМАМ\" + 0.331*\"ЧЕЛОВЕК\" + -0.277*\"УМ\" + -0.247*\"КНИГА\" + -0.233*\"ГОД\" + -0.199*\"АЛЛАХ\" + -0.172*\"УЧЁНЫЙ\" + -0.167*\"АБА\" + 0.125*\"ВОПРОС\" + -0.122*\"БИОГРАФИЯ\"\n"
     ]
    },
    {
     "name": "stderr",
     "output_type": "stream",
     "text": [
      "2016-10-11 18:16:21,005 : INFO : preparing a new chunk of documents\n"
     ]
    },
    {
     "name": "stderr",
     "output_type": "stream",
     "text": [
      "2016-10-11 18:16:21,006 : INFO : using 100 extra samples and 2 power iterations\n"
     ]
    },
    {
     "name": "stderr",
     "output_type": "stream",
     "text": [
      "2016-10-11 18:16:21,007 : INFO : 1st phase: constructing (24774L, 200L) action matrix\n"
     ]
    },
    {
     "name": "stderr",
     "output_type": "stream",
     "text": [
      "2016-10-11 18:16:21,009 : INFO : orthonormalizing (24774L, 200L) action matrix\n"
     ]
    },
    {
     "name": "stderr",
     "output_type": "stream",
     "text": [
      "2016-10-11 18:16:22,263 : INFO : 2nd phase: running dense svd on (200L, 20L) matrix\n"
     ]
    },
    {
     "name": "stderr",
     "output_type": "stream",
     "text": [
      "2016-10-11 18:16:22,293 : INFO : computing the final decomposition\n"
     ]
    },
    {
     "name": "stderr",
     "output_type": "stream",
     "text": [
      "2016-10-11 18:16:22,296 : INFO : keeping 2 factors (discarding 0.000% of energy spectrum)\n"
     ]
    },
    {
     "name": "stderr",
     "output_type": "stream",
     "text": [
      "2016-10-11 18:16:22,305 : INFO : merging projections: (24774L, 100L) + (24774L, 2L)\n"
     ]
    },
    {
     "name": "stderr",
     "output_type": "stream",
     "text": [
      "2016-10-11 18:16:22,348 : INFO : keeping 100 factors (discarding 0.008% of energy spectrum)\n"
     ]
    },
    {
     "name": "stderr",
     "output_type": "stream",
     "text": [
      "2016-10-11 18:16:22,408 : INFO : processed documents up to #3200\n"
     ]
    },
    {
     "name": "stderr",
     "output_type": "stream",
     "text": [
      "2016-10-11 18:16:22,411 : INFO : topic #0(1578.333): 0.487*\"АЛЛАХ\" + 0.270*\"КОТОРЫЙ\" + 0.219*\"ЧЕЛОВЕК\" + 0.172*\"МИР\" + 0.149*\"ПРОРОК\" + 0.149*\"СКАЗАТЬ\" + 0.149*\"СВОЙ\" + 0.145*\"ВОПРОС\" + 0.134*\"ИСТОРИЯ\" + 0.119*\"КОРАН\"\n"
     ]
    },
    {
     "name": "stderr",
     "output_type": "stream",
     "text": [
      "2016-10-11 18:16:22,413 : INFO : topic #1(605.695): -0.593*\"АЛЛАХ\" + 0.188*\"ИДДА\" + 0.175*\"ИСТОРИЯ\" + -0.162*\"ПОСЛАННИК\" + 0.154*\"ИСЛАМСКИЙ\" + 0.154*\"РАМАДАН\" + 0.143*\"ЖЕНЩИНА\" + 0.139*\"САЙТ\" + 0.139*\"ЧИТАТЬ\" + 0.136*\"МУЖ\"\n"
     ]
    },
    {
     "name": "stderr",
     "output_type": "stream",
     "text": [
      "2016-10-11 18:16:22,414 : INFO : topic #2(546.470): -0.479*\"ИДДА\" + -0.344*\"МУЖ\" + -0.335*\"ЖЕНЩИНА\" + -0.240*\"РАЗВОД\" + -0.200*\"ЖЕНА\" + -0.186*\"СРОК\" + -0.132*\"ДОЛЖНЫЙ\" + -0.130*\"ПЕРИОД\" + 0.122*\"ИСТОРИЯ\" + 0.120*\"ЧИТАТЬ\"\n"
     ]
    },
    {
     "name": "stderr",
     "output_type": "stream",
     "text": [
      "2016-10-11 18:16:22,417 : INFO : topic #3(425.461): 0.299*\"ИМАМ\" + 0.287*\"КОТОРЫЙ\" + -0.262*\"АЛЛАХ\" + 0.262*\"ЧЕЛОВЕК\" + 0.180*\"КНИГА\" + -0.179*\"РАМАДАН\" + -0.148*\"ЧИТАТЬ\" + 0.146*\"СЛОВО\" + -0.143*\"МИР\" + 0.129*\"УЧЁНЫЙ\"\n"
     ]
    },
    {
     "name": "stderr",
     "output_type": "stream",
     "text": [
      "2016-10-11 18:16:22,418 : INFO : topic #4(373.194): -0.468*\"ИМАМ\" + 0.331*\"ЧЕЛОВЕК\" + -0.277*\"УМ\" + -0.247*\"КНИГА\" + -0.233*\"ГОД\" + -0.199*\"АЛЛАХ\" + -0.172*\"УЧЁНЫЙ\" + -0.167*\"АБА\" + 0.125*\"ВОПРОС\" + -0.122*\"БИОГРАФИЯ\"\n"
     ]
    },
    {
     "name": "stderr",
     "output_type": "stream",
     "text": [
      "2016-10-11 18:16:22,428 : INFO : preparing a new chunk of documents\n"
     ]
    },
    {
     "name": "stderr",
     "output_type": "stream",
     "text": [
      "2016-10-11 18:16:22,430 : INFO : using 100 extra samples and 2 power iterations\n"
     ]
    },
    {
     "name": "stderr",
     "output_type": "stream",
     "text": [
      "2016-10-11 18:16:22,431 : INFO : 1st phase: constructing (24774L, 200L) action matrix\n"
     ]
    },
    {
     "name": "stderr",
     "output_type": "stream",
     "text": [
      "2016-10-11 18:16:22,434 : INFO : orthonormalizing (24774L, 200L) action matrix\n"
     ]
    },
    {
     "name": "stderr",
     "output_type": "stream",
     "text": [
      "2016-10-11 18:16:23,677 : INFO : 2nd phase: running dense svd on (200L, 20L) matrix\n"
     ]
    },
    {
     "name": "stderr",
     "output_type": "stream",
     "text": [
      "2016-10-11 18:16:23,707 : INFO : computing the final decomposition\n"
     ]
    },
    {
     "name": "stderr",
     "output_type": "stream",
     "text": [
      "2016-10-11 18:16:23,707 : INFO : keeping 3 factors (discarding 0.000% of energy spectrum)\n"
     ]
    },
    {
     "name": "stderr",
     "output_type": "stream",
     "text": [
      "2016-10-11 18:16:23,721 : INFO : merging projections: (24774L, 100L) + (24774L, 3L)\n"
     ]
    },
    {
     "name": "stderr",
     "output_type": "stream",
     "text": [
      "2016-10-11 18:16:23,766 : INFO : keeping 100 factors (discarding 0.017% of energy spectrum)\n"
     ]
    },
    {
     "name": "stderr",
     "output_type": "stream",
     "text": [
      "2016-10-11 18:16:23,825 : INFO : processed documents up to #3220\n"
     ]
    },
    {
     "name": "stderr",
     "output_type": "stream",
     "text": [
      "2016-10-11 18:16:23,826 : INFO : topic #0(1578.900): 0.487*\"АЛЛАХ\" + 0.270*\"КОТОРЫЙ\" + 0.218*\"ЧЕЛОВЕК\" + 0.172*\"МИР\" + 0.149*\"ПРОРОК\" + 0.149*\"СКАЗАТЬ\" + 0.149*\"СВОЙ\" + 0.145*\"ВОПРОС\" + 0.134*\"ИСТОРИЯ\" + 0.119*\"КОРАН\"\n"
     ]
    },
    {
     "name": "stderr",
     "output_type": "stream",
     "text": [
      "2016-10-11 18:16:23,828 : INFO : topic #1(605.967): -0.593*\"АЛЛАХ\" + 0.186*\"ИДДА\" + 0.175*\"ИСТОРИЯ\" + -0.163*\"ПОСЛАННИК\" + 0.154*\"ИСЛАМСКИЙ\" + 0.154*\"РАМАДАН\" + 0.142*\"ЖЕНЩИНА\" + 0.140*\"ЧИТАТЬ\" + 0.139*\"САЙТ\" + 0.135*\"МУЖ\"\n"
     ]
    },
    {
     "name": "stderr",
     "output_type": "stream",
     "text": [
      "2016-10-11 18:16:23,831 : INFO : topic #2(546.582): -0.479*\"ИДДА\" + -0.344*\"МУЖ\" + -0.335*\"ЖЕНЩИНА\" + -0.240*\"РАЗВОД\" + -0.200*\"ЖЕНА\" + -0.187*\"СРОК\" + -0.132*\"ДОЛЖНЫЙ\" + -0.130*\"ПЕРИОД\" + 0.121*\"ИСТОРИЯ\" + 0.120*\"ЧИТАТЬ\"\n"
     ]
    },
    {
     "name": "stderr",
     "output_type": "stream",
     "text": [
      "2016-10-11 18:16:23,832 : INFO : topic #3(425.548): 0.299*\"ИМАМ\" + 0.287*\"КОТОРЫЙ\" + -0.262*\"АЛЛАХ\" + 0.262*\"ЧЕЛОВЕК\" + 0.180*\"КНИГА\" + -0.179*\"РАМАДАН\" + -0.149*\"ЧИТАТЬ\" + 0.146*\"СЛОВО\" + -0.143*\"МИР\" + 0.129*\"УЧЁНЫЙ\"\n"
     ]
    },
    {
     "name": "stderr",
     "output_type": "stream",
     "text": [
      "2016-10-11 18:16:23,835 : INFO : topic #4(373.209): -0.468*\"ИМАМ\" + 0.331*\"ЧЕЛОВЕК\" + -0.277*\"УМ\" + -0.247*\"КНИГА\" + -0.233*\"ГОД\" + -0.199*\"АЛЛАХ\" + -0.172*\"УЧЁНЫЙ\" + -0.167*\"АБА\" + 0.125*\"ВОПРОС\" + -0.122*\"БИОГРАФИЯ\"\n"
     ]
    },
    {
     "name": "stderr",
     "output_type": "stream",
     "text": [
      "2016-10-11 18:16:23,842 : INFO : preparing a new chunk of documents\n"
     ]
    },
    {
     "name": "stderr",
     "output_type": "stream",
     "text": [
      "2016-10-11 18:16:23,842 : INFO : using 100 extra samples and 2 power iterations\n"
     ]
    },
    {
     "name": "stderr",
     "output_type": "stream",
     "text": [
      "2016-10-11 18:16:23,844 : INFO : 1st phase: constructing (24774L, 200L) action matrix\n"
     ]
    },
    {
     "name": "stderr",
     "output_type": "stream",
     "text": [
      "2016-10-11 18:16:23,846 : INFO : orthonormalizing (24774L, 200L) action matrix\n"
     ]
    },
    {
     "name": "stderr",
     "output_type": "stream",
     "text": [
      "2016-10-11 18:16:25,108 : INFO : 2nd phase: running dense svd on (200L, 20L) matrix\n"
     ]
    },
    {
     "name": "stderr",
     "output_type": "stream",
     "text": [
      "2016-10-11 18:16:25,140 : INFO : computing the final decomposition\n"
     ]
    },
    {
     "name": "stderr",
     "output_type": "stream",
     "text": [
      "2016-10-11 18:16:25,141 : INFO : keeping 2 factors (discarding 0.000% of energy spectrum)\n"
     ]
    },
    {
     "name": "stderr",
     "output_type": "stream",
     "text": [
      "2016-10-11 18:16:25,153 : INFO : merging projections: (24774L, 100L) + (24774L, 2L)\n"
     ]
    },
    {
     "name": "stderr",
     "output_type": "stream",
     "text": [
      "2016-10-11 18:16:25,197 : INFO : keeping 100 factors (discarding 0.012% of energy spectrum)\n"
     ]
    },
    {
     "name": "stderr",
     "output_type": "stream",
     "text": [
      "2016-10-11 18:16:25,259 : INFO : processed documents up to #3240\n"
     ]
    },
    {
     "name": "stderr",
     "output_type": "stream",
     "text": [
      "2016-10-11 18:16:25,260 : INFO : topic #0(1579.239): 0.487*\"АЛЛАХ\" + 0.269*\"КОТОРЫЙ\" + 0.219*\"ЧЕЛОВЕК\" + 0.172*\"МИР\" + 0.149*\"ПРОРОК\" + 0.149*\"СКАЗАТЬ\" + 0.149*\"СВОЙ\" + 0.145*\"ВОПРОС\" + 0.134*\"ИСТОРИЯ\" + 0.119*\"КОРАН\"\n"
     ]
    },
    {
     "name": "stderr",
     "output_type": "stream",
     "text": [
      "2016-10-11 18:16:25,263 : INFO : topic #1(606.151): -0.594*\"АЛЛАХ\" + 0.185*\"ИДДА\" + 0.175*\"ИСТОРИЯ\" + -0.163*\"ПОСЛАННИК\" + 0.154*\"ИСЛАМСКИЙ\" + 0.154*\"РАМАДАН\" + 0.142*\"ЖЕНЩИНА\" + 0.141*\"ЧИТАТЬ\" + 0.139*\"САЙТ\" + 0.134*\"МУЖ\"\n"
     ]
    },
    {
     "name": "stderr",
     "output_type": "stream",
     "text": [
      "2016-10-11 18:16:25,265 : INFO : topic #2(546.688): -0.480*\"ИДДА\" + -0.345*\"МУЖ\" + -0.335*\"ЖЕНЩИНА\" + -0.240*\"РАЗВОД\" + -0.200*\"ЖЕНА\" + -0.187*\"СРОК\" + -0.132*\"ДОЛЖНЫЙ\" + -0.130*\"ПЕРИОД\" + 0.121*\"ЧИТАТЬ\" + 0.121*\"ИСТОРИЯ\"\n"
     ]
    },
    {
     "name": "stderr",
     "output_type": "stream",
     "text": [
      "2016-10-11 18:16:25,266 : INFO : topic #3(425.571): 0.299*\"ИМАМ\" + 0.287*\"КОТОРЫЙ\" + -0.262*\"АЛЛАХ\" + 0.261*\"ЧЕЛОВЕК\" + 0.180*\"КНИГА\" + -0.179*\"РАМАДАН\" + -0.149*\"ЧИТАТЬ\" + 0.146*\"СЛОВО\" + -0.143*\"МИР\" + 0.130*\"УЧЁНЫЙ\"\n"
     ]
    },
    {
     "name": "stderr",
     "output_type": "stream",
     "text": [
      "2016-10-11 18:16:25,269 : INFO : topic #4(373.248): -0.468*\"ИМАМ\" + 0.331*\"ЧЕЛОВЕК\" + -0.277*\"УМ\" + -0.247*\"КНИГА\" + -0.233*\"ГОД\" + -0.198*\"АЛЛАХ\" + -0.172*\"УЧЁНЫЙ\" + -0.167*\"АБА\" + 0.125*\"ВОПРОС\" + -0.122*\"БИОГРАФИЯ\"\n"
     ]
    },
    {
     "name": "stderr",
     "output_type": "stream",
     "text": [
      "2016-10-11 18:16:25,273 : INFO : preparing a new chunk of documents\n"
     ]
    },
    {
     "name": "stderr",
     "output_type": "stream",
     "text": [
      "2016-10-11 18:16:25,276 : INFO : using 100 extra samples and 2 power iterations\n"
     ]
    },
    {
     "name": "stderr",
     "output_type": "stream",
     "text": [
      "2016-10-11 18:16:25,276 : INFO : 1st phase: constructing (24774L, 200L) action matrix\n"
     ]
    },
    {
     "name": "stderr",
     "output_type": "stream",
     "text": [
      "2016-10-11 18:16:25,279 : INFO : orthonormalizing (24774L, 200L) action matrix\n"
     ]
    },
    {
     "name": "stderr",
     "output_type": "stream",
     "text": [
      "2016-10-11 18:16:26,556 : INFO : 2nd phase: running dense svd on (200L, 20L) matrix\n"
     ]
    },
    {
     "name": "stderr",
     "output_type": "stream",
     "text": [
      "2016-10-11 18:16:26,588 : INFO : computing the final decomposition\n"
     ]
    },
    {
     "name": "stderr",
     "output_type": "stream",
     "text": [
      "2016-10-11 18:16:26,588 : INFO : keeping 1 factors (discarding 0.000% of energy spectrum)\n"
     ]
    },
    {
     "name": "stderr",
     "output_type": "stream",
     "text": [
      "2016-10-11 18:16:26,598 : INFO : merging projections: (24774L, 100L) + (24774L, 1L)\n"
     ]
    },
    {
     "name": "stderr",
     "output_type": "stream",
     "text": [
      "2016-10-11 18:16:26,638 : INFO : keeping 100 factors (discarding 0.005% of energy spectrum)\n"
     ]
    },
    {
     "name": "stderr",
     "output_type": "stream",
     "text": [
      "2016-10-11 18:16:26,700 : INFO : processed documents up to #3260\n"
     ]
    },
    {
     "name": "stderr",
     "output_type": "stream",
     "text": [
      "2016-10-11 18:16:26,703 : INFO : topic #0(1579.426): 0.487*\"АЛЛАХ\" + 0.269*\"КОТОРЫЙ\" + 0.219*\"ЧЕЛОВЕК\" + 0.172*\"МИР\" + 0.149*\"ПРОРОК\" + 0.149*\"СКАЗАТЬ\" + 0.149*\"СВОЙ\" + 0.145*\"ВОПРОС\" + 0.134*\"ИСТОРИЯ\" + 0.119*\"КОРАН\"\n"
     ]
    },
    {
     "name": "stderr",
     "output_type": "stream",
     "text": [
      "2016-10-11 18:16:26,704 : INFO : topic #1(606.190): -0.594*\"АЛЛАХ\" + 0.185*\"ИДДА\" + 0.175*\"ИСТОРИЯ\" + -0.163*\"ПОСЛАННИК\" + 0.154*\"ИСЛАМСКИЙ\" + 0.154*\"РАМАДАН\" + 0.142*\"ЧИТАТЬ\" + 0.141*\"ЖЕНЩИНА\" + 0.139*\"САЙТ\" + 0.134*\"МУЖ\"\n"
     ]
    },
    {
     "name": "stderr",
     "output_type": "stream",
     "text": [
      "2016-10-11 18:16:26,707 : INFO : topic #2(546.733): -0.480*\"ИДДА\" + -0.345*\"МУЖ\" + -0.336*\"ЖЕНЩИНА\" + -0.240*\"РАЗВОД\" + -0.200*\"ЖЕНА\" + -0.187*\"СРОК\" + -0.132*\"ДОЛЖНЫЙ\" + -0.130*\"ПЕРИОД\" + 0.121*\"ЧИТАТЬ\" + 0.120*\"ИСТОРИЯ\"\n"
     ]
    },
    {
     "name": "stderr",
     "output_type": "stream",
     "text": [
      "2016-10-11 18:16:26,709 : INFO : topic #3(425.600): 0.299*\"ИМАМ\" + 0.287*\"КОТОРЫЙ\" + -0.263*\"АЛЛАХ\" + 0.261*\"ЧЕЛОВЕК\" + 0.180*\"КНИГА\" + -0.179*\"РАМАДАН\" + -0.150*\"ЧИТАТЬ\" + 0.146*\"СЛОВО\" + -0.143*\"МИР\" + 0.130*\"УЧЁНЫЙ\"\n"
     ]
    },
    {
     "name": "stderr",
     "output_type": "stream",
     "text": [
      "2016-10-11 18:16:26,711 : INFO : topic #4(373.258): -0.468*\"ИМАМ\" + 0.331*\"ЧЕЛОВЕК\" + -0.277*\"УМ\" + -0.247*\"КНИГА\" + -0.233*\"ГОД\" + -0.198*\"АЛЛАХ\" + -0.172*\"УЧЁНЫЙ\" + -0.167*\"АБА\" + 0.126*\"ВОПРОС\" + -0.122*\"БИОГРАФИЯ\"\n"
     ]
    },
    {
     "name": "stderr",
     "output_type": "stream",
     "text": [
      "2016-10-11 18:16:26,719 : INFO : preparing a new chunk of documents\n"
     ]
    },
    {
     "name": "stderr",
     "output_type": "stream",
     "text": [
      "2016-10-11 18:16:26,720 : INFO : using 100 extra samples and 2 power iterations\n"
     ]
    },
    {
     "name": "stderr",
     "output_type": "stream",
     "text": [
      "2016-10-11 18:16:26,721 : INFO : 1st phase: constructing (24774L, 200L) action matrix\n"
     ]
    },
    {
     "name": "stderr",
     "output_type": "stream",
     "text": [
      "2016-10-11 18:16:26,724 : INFO : orthonormalizing (24774L, 200L) action matrix\n"
     ]
    },
    {
     "name": "stderr",
     "output_type": "stream",
     "text": [
      "2016-10-11 18:16:27,990 : INFO : 2nd phase: running dense svd on (200L, 20L) matrix\n"
     ]
    },
    {
     "name": "stderr",
     "output_type": "stream",
     "text": [
      "2016-10-11 18:16:28,019 : INFO : computing the final decomposition\n"
     ]
    },
    {
     "name": "stderr",
     "output_type": "stream",
     "text": [
      "2016-10-11 18:16:28,022 : INFO : keeping 2 factors (discarding 0.000% of energy spectrum)\n"
     ]
    },
    {
     "name": "stderr",
     "output_type": "stream",
     "text": [
      "2016-10-11 18:16:28,032 : INFO : merging projections: (24774L, 100L) + (24774L, 2L)\n"
     ]
    },
    {
     "name": "stderr",
     "output_type": "stream",
     "text": [
      "2016-10-11 18:16:28,078 : INFO : keeping 100 factors (discarding 0.014% of energy spectrum)\n"
     ]
    },
    {
     "name": "stderr",
     "output_type": "stream",
     "text": [
      "2016-10-11 18:16:28,138 : INFO : processed documents up to #3280\n"
     ]
    },
    {
     "name": "stderr",
     "output_type": "stream",
     "text": [
      "2016-10-11 18:16:28,141 : INFO : topic #0(1579.858): 0.487*\"АЛЛАХ\" + 0.269*\"КОТОРЫЙ\" + 0.219*\"ЧЕЛОВЕК\" + 0.172*\"МИР\" + 0.149*\"ПРОРОК\" + 0.149*\"СКАЗАТЬ\" + 0.149*\"СВОЙ\" + 0.145*\"ВОПРОС\" + 0.134*\"ИСТОРИЯ\" + 0.119*\"КОРАН\"\n"
     ]
    },
    {
     "name": "stderr",
     "output_type": "stream",
     "text": [
      "2016-10-11 18:16:28,142 : INFO : topic #1(606.254): -0.594*\"АЛЛАХ\" + 0.185*\"ИДДА\" + 0.175*\"ИСТОРИЯ\" + -0.163*\"ПОСЛАННИК\" + 0.155*\"ИСЛАМСКИЙ\" + 0.154*\"РАМАДАН\" + 0.142*\"ЧИТАТЬ\" + 0.141*\"ЖЕНЩИНА\" + 0.139*\"САЙТ\" + 0.134*\"МУЖ\"\n"
     ]
    },
    {
     "name": "stderr",
     "output_type": "stream",
     "text": [
      "2016-10-11 18:16:28,144 : INFO : topic #2(546.806): -0.480*\"ИДДА\" + -0.345*\"МУЖ\" + -0.336*\"ЖЕНЩИНА\" + -0.241*\"РАЗВОД\" + -0.200*\"ЖЕНА\" + -0.187*\"СРОК\" + -0.132*\"ДОЛЖНЫЙ\" + -0.130*\"ПЕРИОД\" + 0.122*\"ЧИТАТЬ\" + 0.120*\"ИСТОРИЯ\"\n"
     ]
    },
    {
     "name": "stderr",
     "output_type": "stream",
     "text": [
      "2016-10-11 18:16:28,147 : INFO : topic #3(425.669): 0.299*\"ИМАМ\" + 0.287*\"КОТОРЫЙ\" + -0.263*\"АЛЛАХ\" + 0.261*\"ЧЕЛОВЕК\" + 0.180*\"КНИГА\" + -0.178*\"РАМАДАН\" + -0.151*\"ЧИТАТЬ\" + 0.146*\"СЛОВО\" + -0.143*\"МИР\" + 0.130*\"УЧЁНЫЙ\"\n"
     ]
    },
    {
     "name": "stderr",
     "output_type": "stream",
     "text": [
      "2016-10-11 18:16:28,148 : INFO : topic #4(373.267): -0.468*\"ИМАМ\" + 0.331*\"ЧЕЛОВЕК\" + -0.277*\"УМ\" + -0.247*\"КНИГА\" + -0.233*\"ГОД\" + -0.198*\"АЛЛАХ\" + -0.172*\"УЧЁНЫЙ\" + -0.167*\"АБА\" + 0.126*\"ВОПРОС\" + -0.122*\"БИОГРАФИЯ\"\n"
     ]
    },
    {
     "name": "stderr",
     "output_type": "stream",
     "text": [
      "2016-10-11 18:16:28,154 : INFO : preparing a new chunk of documents\n"
     ]
    },
    {
     "name": "stderr",
     "output_type": "stream",
     "text": [
      "2016-10-11 18:16:28,157 : INFO : using 100 extra samples and 2 power iterations\n"
     ]
    },
    {
     "name": "stderr",
     "output_type": "stream",
     "text": [
      "2016-10-11 18:16:28,157 : INFO : 1st phase: constructing (24774L, 200L) action matrix\n"
     ]
    },
    {
     "name": "stderr",
     "output_type": "stream",
     "text": [
      "2016-10-11 18:16:28,161 : INFO : orthonormalizing (24774L, 200L) action matrix\n"
     ]
    },
    {
     "name": "stderr",
     "output_type": "stream",
     "text": [
      "2016-10-11 18:16:29,575 : INFO : 2nd phase: running dense svd on (200L, 20L) matrix\n"
     ]
    },
    {
     "name": "stderr",
     "output_type": "stream",
     "text": [
      "2016-10-11 18:16:29,605 : INFO : computing the final decomposition\n"
     ]
    },
    {
     "name": "stderr",
     "output_type": "stream",
     "text": [
      "2016-10-11 18:16:29,605 : INFO : keeping 2 factors (discarding 0.000% of energy spectrum)\n"
     ]
    },
    {
     "name": "stderr",
     "output_type": "stream",
     "text": [
      "2016-10-11 18:16:29,615 : INFO : merging projections: (24774L, 100L) + (24774L, 2L)\n"
     ]
    },
    {
     "name": "stderr",
     "output_type": "stream",
     "text": [
      "2016-10-11 18:16:29,657 : INFO : keeping 100 factors (discarding 0.027% of energy spectrum)\n"
     ]
    },
    {
     "name": "stderr",
     "output_type": "stream",
     "text": [
      "2016-10-11 18:16:29,714 : INFO : processed documents up to #3300\n"
     ]
    },
    {
     "name": "stderr",
     "output_type": "stream",
     "text": [
      "2016-10-11 18:16:29,717 : INFO : topic #0(1580.455): 0.487*\"АЛЛАХ\" + 0.269*\"КОТОРЫЙ\" + 0.218*\"ЧЕЛОВЕК\" + 0.172*\"МИР\" + 0.149*\"ПРОРОК\" + 0.149*\"СКАЗАТЬ\" + 0.149*\"СВОЙ\" + 0.145*\"ВОПРОС\" + 0.134*\"ИСТОРИЯ\" + 0.119*\"КОРАН\"\n"
     ]
    },
    {
     "name": "stderr",
     "output_type": "stream",
     "text": [
      "2016-10-11 18:16:29,720 : INFO : topic #1(606.271): -0.594*\"АЛЛАХ\" + 0.185*\"ИДДА\" + 0.175*\"ИСТОРИЯ\" + -0.163*\"ПОСЛАННИК\" + 0.155*\"ИСЛАМСКИЙ\" + 0.154*\"РАМАДАН\" + 0.142*\"ЧИТАТЬ\" + 0.141*\"ЖЕНЩИНА\" + 0.139*\"САЙТ\" + 0.134*\"МУЖ\"\n"
     ]
    },
    {
     "name": "stderr",
     "output_type": "stream",
     "text": [
      "2016-10-11 18:16:29,721 : INFO : topic #2(546.811): -0.480*\"ИДДА\" + -0.345*\"МУЖ\" + -0.336*\"ЖЕНЩИНА\" + -0.240*\"РАЗВОД\" + -0.200*\"ЖЕНА\" + -0.187*\"СРОК\" + -0.132*\"ДОЛЖНЫЙ\" + -0.130*\"ПЕРИОД\" + 0.122*\"ЧИТАТЬ\" + 0.120*\"ИСТОРИЯ\"\n"
     ]
    },
    {
     "name": "stderr",
     "output_type": "stream",
     "text": [
      "2016-10-11 18:16:29,723 : INFO : topic #3(425.834): 0.299*\"ИМАМ\" + 0.287*\"КОТОРЫЙ\" + -0.263*\"АЛЛАХ\" + 0.261*\"ЧЕЛОВЕК\" + 0.179*\"КНИГА\" + -0.178*\"РАМАДАН\" + -0.150*\"ЧИТАТЬ\" + 0.145*\"СЛОВО\" + -0.143*\"МИР\" + 0.130*\"УЧЁНЫЙ\"\n"
     ]
    },
    {
     "name": "stderr",
     "output_type": "stream",
     "text": [
      "2016-10-11 18:16:29,726 : INFO : topic #4(373.272): -0.468*\"ИМАМ\" + 0.331*\"ЧЕЛОВЕК\" + -0.277*\"УМ\" + -0.247*\"КНИГА\" + -0.233*\"ГОД\" + -0.198*\"АЛЛАХ\" + -0.172*\"УЧЁНЫЙ\" + -0.167*\"АБА\" + 0.126*\"ВОПРОС\" + -0.122*\"БИОГРАФИЯ\"\n"
     ]
    },
    {
     "name": "stderr",
     "output_type": "stream",
     "text": [
      "2016-10-11 18:16:29,737 : INFO : preparing a new chunk of documents\n"
     ]
    },
    {
     "name": "stderr",
     "output_type": "stream",
     "text": [
      "2016-10-11 18:16:29,740 : INFO : using 100 extra samples and 2 power iterations\n"
     ]
    },
    {
     "name": "stderr",
     "output_type": "stream",
     "text": [
      "2016-10-11 18:16:29,740 : INFO : 1st phase: constructing (24774L, 200L) action matrix\n"
     ]
    },
    {
     "name": "stderr",
     "output_type": "stream",
     "text": [
      "2016-10-11 18:16:29,743 : INFO : orthonormalizing (24774L, 200L) action matrix\n"
     ]
    },
    {
     "name": "stderr",
     "output_type": "stream",
     "text": [
      "2016-10-11 18:16:31,151 : INFO : 2nd phase: running dense svd on (200L, 20L) matrix\n"
     ]
    },
    {
     "name": "stderr",
     "output_type": "stream",
     "text": [
      "2016-10-11 18:16:31,180 : INFO : computing the final decomposition\n"
     ]
    },
    {
     "name": "stderr",
     "output_type": "stream",
     "text": [
      "2016-10-11 18:16:31,181 : INFO : keeping 2 factors (discarding 0.000% of energy spectrum)\n"
     ]
    },
    {
     "name": "stderr",
     "output_type": "stream",
     "text": [
      "2016-10-11 18:16:31,191 : INFO : merging projections: (24774L, 100L) + (24774L, 2L)\n"
     ]
    },
    {
     "name": "stderr",
     "output_type": "stream",
     "text": [
      "2016-10-11 18:16:31,236 : INFO : keeping 100 factors (discarding 0.039% of energy spectrum)\n"
     ]
    },
    {
     "name": "stderr",
     "output_type": "stream",
     "text": [
      "2016-10-11 18:16:31,299 : INFO : processed documents up to #3320\n"
     ]
    },
    {
     "name": "stderr",
     "output_type": "stream",
     "text": [
      "2016-10-11 18:16:31,302 : INFO : topic #0(1583.108): 0.487*\"АЛЛАХ\" + 0.270*\"КОТОРЫЙ\" + 0.219*\"ЧЕЛОВЕК\" + 0.172*\"МИР\" + 0.149*\"ПРОРОК\" + 0.149*\"СКАЗАТЬ\" + 0.149*\"СВОЙ\" + 0.145*\"ВОПРОС\" + 0.134*\"ИСТОРИЯ\" + 0.118*\"КОРАН\"\n"
     ]
    },
    {
     "name": "stderr",
     "output_type": "stream",
     "text": [
      "2016-10-11 18:16:31,303 : INFO : topic #1(606.454): -0.594*\"АЛЛАХ\" + 0.185*\"ИДДА\" + 0.175*\"ИСТОРИЯ\" + -0.163*\"ПОСЛАННИК\" + 0.155*\"ИСЛАМСКИЙ\" + 0.154*\"РАМАДАН\" + 0.142*\"ЧИТАТЬ\" + 0.141*\"ЖЕНЩИНА\" + 0.139*\"САЙТ\" + 0.134*\"МУЖ\"\n"
     ]
    },
    {
     "name": "stderr",
     "output_type": "stream",
     "text": [
      "2016-10-11 18:16:31,305 : INFO : topic #2(546.811): -0.480*\"ИДДА\" + -0.345*\"МУЖ\" + -0.336*\"ЖЕНЩИНА\" + -0.240*\"РАЗВОД\" + -0.200*\"ЖЕНА\" + -0.187*\"СРОК\" + -0.132*\"ДОЛЖНЫЙ\" + -0.130*\"ПЕРИОД\" + 0.122*\"ЧИТАТЬ\" + 0.120*\"ИСТОРИЯ\"\n"
     ]
    },
    {
     "name": "stderr",
     "output_type": "stream",
     "text": [
      "2016-10-11 18:16:31,309 : INFO : topic #3(425.891): 0.300*\"ИМАМ\" + 0.286*\"КОТОРЫЙ\" + -0.262*\"АЛЛАХ\" + 0.260*\"ЧЕЛОВЕК\" + 0.180*\"КНИГА\" + -0.178*\"РАМАДАН\" + -0.150*\"ЧИТАТЬ\" + 0.146*\"СЛОВО\" + -0.142*\"МИР\" + 0.130*\"УЧЁНЫЙ\"\n"
     ]
    },
    {
     "name": "stderr",
     "output_type": "stream",
     "text": [
      "2016-10-11 18:16:31,311 : INFO : topic #4(373.639): -0.466*\"ИМАМ\" + 0.336*\"ЧЕЛОВЕК\" + -0.276*\"УМ\" + -0.246*\"КНИГА\" + -0.233*\"ГОД\" + -0.200*\"АЛЛАХ\" + -0.173*\"УЧЁНЫЙ\" + -0.168*\"АБА\" + 0.126*\"КОТОРЫЙ\" + -0.122*\"БИОГРАФИЯ\"\n"
     ]
    },
    {
     "name": "stderr",
     "output_type": "stream",
     "text": [
      "2016-10-11 18:16:31,323 : INFO : preparing a new chunk of documents\n"
     ]
    },
    {
     "name": "stderr",
     "output_type": "stream",
     "text": [
      "2016-10-11 18:16:31,325 : INFO : using 100 extra samples and 2 power iterations\n"
     ]
    },
    {
     "name": "stderr",
     "output_type": "stream",
     "text": [
      "2016-10-11 18:16:31,326 : INFO : 1st phase: constructing (24774L, 200L) action matrix\n"
     ]
    },
    {
     "name": "stderr",
     "output_type": "stream",
     "text": [
      "2016-10-11 18:16:31,329 : INFO : orthonormalizing (24774L, 200L) action matrix\n"
     ]
    },
    {
     "name": "stderr",
     "output_type": "stream",
     "text": [
      "2016-10-11 18:16:32,776 : INFO : 2nd phase: running dense svd on (200L, 20L) matrix\n"
     ]
    },
    {
     "name": "stderr",
     "output_type": "stream",
     "text": [
      "2016-10-11 18:16:32,805 : INFO : computing the final decomposition\n"
     ]
    },
    {
     "name": "stderr",
     "output_type": "stream",
     "text": [
      "2016-10-11 18:16:32,805 : INFO : keeping 3 factors (discarding 0.000% of energy spectrum)\n"
     ]
    },
    {
     "name": "stderr",
     "output_type": "stream",
     "text": [
      "2016-10-11 18:16:32,815 : INFO : merging projections: (24774L, 100L) + (24774L, 3L)\n"
     ]
    },
    {
     "name": "stderr",
     "output_type": "stream",
     "text": [
      "2016-10-11 18:16:32,861 : INFO : keeping 100 factors (discarding 0.069% of energy spectrum)\n"
     ]
    },
    {
     "name": "stderr",
     "output_type": "stream",
     "text": [
      "2016-10-11 18:16:32,921 : INFO : processed documents up to #3340\n"
     ]
    },
    {
     "name": "stderr",
     "output_type": "stream",
     "text": [
      "2016-10-11 18:16:32,924 : INFO : topic #0(1584.383): 0.488*\"АЛЛАХ\" + 0.270*\"КОТОРЫЙ\" + 0.219*\"ЧЕЛОВЕК\" + 0.172*\"МИР\" + 0.149*\"ПРОРОК\" + 0.149*\"СВОЙ\" + 0.149*\"СКАЗАТЬ\" + 0.145*\"ВОПРОС\" + 0.134*\"ИСТОРИЯ\" + 0.118*\"КОРАН\"\n"
     ]
    },
    {
     "name": "stderr",
     "output_type": "stream",
     "text": [
      "2016-10-11 18:16:32,926 : INFO : topic #1(606.662): -0.594*\"АЛЛАХ\" + 0.184*\"ИДДА\" + 0.175*\"ИСТОРИЯ\" + -0.163*\"ПОСЛАННИК\" + 0.155*\"ИСЛАМСКИЙ\" + 0.154*\"РАМАДАН\" + 0.143*\"ЧИТАТЬ\" + 0.141*\"ЖЕНЩИНА\" + 0.139*\"САЙТ\" + 0.134*\"МУЖ\"\n"
     ]
    },
    {
     "name": "stderr",
     "output_type": "stream",
     "text": [
      "2016-10-11 18:16:32,927 : INFO : topic #2(546.860): -0.480*\"ИДДА\" + -0.345*\"МУЖ\" + -0.336*\"ЖЕНЩИНА\" + -0.241*\"РАЗВОД\" + -0.200*\"ЖЕНА\" + -0.187*\"СРОК\" + -0.132*\"ДОЛЖНЫЙ\" + -0.130*\"ПЕРИОД\" + 0.122*\"ЧИТАТЬ\" + 0.120*\"ИСТОРИЯ\"\n"
     ]
    },
    {
     "name": "stderr",
     "output_type": "stream",
     "text": [
      "2016-10-11 18:16:32,930 : INFO : topic #3(426.044): 0.299*\"ИМАМ\" + 0.287*\"КОТОРЫЙ\" + -0.262*\"АЛЛАХ\" + 0.260*\"ЧЕЛОВЕК\" + 0.179*\"КНИГА\" + -0.178*\"РАМАДАН\" + -0.150*\"ЧИТАТЬ\" + 0.146*\"СЛОВО\" + -0.142*\"МИР\" + 0.130*\"УЧЁНЫЙ\"\n"
     ]
    },
    {
     "name": "stderr",
     "output_type": "stream",
     "text": [
      "2016-10-11 18:16:32,931 : INFO : topic #4(373.735): -0.467*\"ИМАМ\" + 0.336*\"ЧЕЛОВЕК\" + -0.276*\"УМ\" + -0.246*\"КНИГА\" + -0.233*\"ГОД\" + -0.200*\"АЛЛАХ\" + -0.173*\"УЧЁНЫЙ\" + -0.168*\"АБА\" + 0.126*\"КОТОРЫЙ\" + -0.122*\"БИОГРАФИЯ\"\n"
     ]
    },
    {
     "name": "stderr",
     "output_type": "stream",
     "text": [
      "2016-10-11 18:16:32,943 : INFO : preparing a new chunk of documents\n"
     ]
    },
    {
     "name": "stderr",
     "output_type": "stream",
     "text": [
      "2016-10-11 18:16:32,944 : INFO : using 100 extra samples and 2 power iterations\n"
     ]
    },
    {
     "name": "stderr",
     "output_type": "stream",
     "text": [
      "2016-10-11 18:16:32,946 : INFO : 1st phase: constructing (24774L, 200L) action matrix\n"
     ]
    },
    {
     "name": "stderr",
     "output_type": "stream",
     "text": [
      "2016-10-11 18:16:32,948 : INFO : orthonormalizing (24774L, 200L) action matrix\n"
     ]
    },
    {
     "name": "stderr",
     "output_type": "stream",
     "text": [
      "2016-10-11 18:16:34,365 : INFO : 2nd phase: running dense svd on (200L, 20L) matrix\n"
     ]
    },
    {
     "name": "stderr",
     "output_type": "stream",
     "text": [
      "2016-10-11 18:16:34,398 : INFO : computing the final decomposition\n"
     ]
    },
    {
     "name": "stderr",
     "output_type": "stream",
     "text": [
      "2016-10-11 18:16:34,400 : INFO : keeping 2 factors (discarding 0.000% of energy spectrum)\n"
     ]
    },
    {
     "name": "stderr",
     "output_type": "stream",
     "text": [
      "2016-10-11 18:16:34,411 : INFO : merging projections: (24774L, 100L) + (24774L, 2L)\n"
     ]
    },
    {
     "name": "stderr",
     "output_type": "stream",
     "text": [
      "2016-10-11 18:16:34,453 : INFO : keeping 100 factors (discarding 0.034% of energy spectrum)\n"
     ]
    },
    {
     "name": "stderr",
     "output_type": "stream",
     "text": [
      "2016-10-11 18:16:34,510 : INFO : processed documents up to #3360\n"
     ]
    },
    {
     "name": "stderr",
     "output_type": "stream",
     "text": [
      "2016-10-11 18:16:34,513 : INFO : topic #0(1585.802): 0.487*\"АЛЛАХ\" + 0.270*\"КОТОРЫЙ\" + 0.220*\"ЧЕЛОВЕК\" + 0.172*\"МИР\" + 0.150*\"ПРОРОК\" + 0.149*\"СВОЙ\" + 0.148*\"СКАЗАТЬ\" + 0.145*\"ВОПРОС\" + 0.134*\"ИСТОРИЯ\" + 0.118*\"КОРАН\"\n"
     ]
    },
    {
     "name": "stderr",
     "output_type": "stream",
     "text": [
      "2016-10-11 18:16:34,515 : INFO : topic #1(606.709): -0.593*\"АЛЛАХ\" + 0.185*\"ИДДА\" + 0.175*\"ИСТОРИЯ\" + -0.163*\"ПОСЛАННИК\" + 0.155*\"ИСЛАМСКИЙ\" + 0.154*\"РАМАДАН\" + 0.143*\"ЧИТАТЬ\" + 0.141*\"ЖЕНЩИНА\" + 0.139*\"САЙТ\" + 0.134*\"МУЖ\"\n"
     ]
    },
    {
     "name": "stderr",
     "output_type": "stream",
     "text": [
      "2016-10-11 18:16:34,516 : INFO : topic #2(546.878): -0.480*\"ИДДА\" + -0.345*\"МУЖ\" + -0.336*\"ЖЕНЩИНА\" + -0.240*\"РАЗВОД\" + -0.200*\"ЖЕНА\" + -0.187*\"СРОК\" + -0.132*\"ДОЛЖНЫЙ\" + -0.130*\"ПЕРИОД\" + 0.122*\"ЧИТАТЬ\" + 0.120*\"ИСТОРИЯ\"\n"
     ]
    },
    {
     "name": "stderr",
     "output_type": "stream",
     "text": [
      "2016-10-11 18:16:34,519 : INFO : topic #3(426.045): 0.299*\"ИМАМ\" + 0.287*\"КОТОРЫЙ\" + -0.262*\"АЛЛАХ\" + 0.260*\"ЧЕЛОВЕК\" + 0.179*\"КНИГА\" + -0.178*\"РАМАДАН\" + -0.150*\"ЧИТАТЬ\" + 0.146*\"СЛОВО\" + -0.142*\"МИР\" + 0.130*\"УЧЁНЫЙ\"\n"
     ]
    },
    {
     "name": "stderr",
     "output_type": "stream",
     "text": [
      "2016-10-11 18:16:34,522 : INFO : topic #4(373.782): -0.467*\"ИМАМ\" + 0.337*\"ЧЕЛОВЕК\" + -0.276*\"УМ\" + -0.246*\"КНИГА\" + -0.233*\"ГОД\" + -0.200*\"АЛЛАХ\" + -0.173*\"УЧЁНЫЙ\" + -0.168*\"АБА\" + 0.127*\"КОТОРЫЙ\" + -0.122*\"БИОГРАФИЯ\"\n"
     ]
    },
    {
     "name": "stderr",
     "output_type": "stream",
     "text": [
      "2016-10-11 18:16:34,529 : INFO : preparing a new chunk of documents\n"
     ]
    },
    {
     "name": "stderr",
     "output_type": "stream",
     "text": [
      "2016-10-11 18:16:34,530 : INFO : using 100 extra samples and 2 power iterations\n"
     ]
    },
    {
     "name": "stderr",
     "output_type": "stream",
     "text": [
      "2016-10-11 18:16:34,532 : INFO : 1st phase: constructing (24774L, 200L) action matrix\n"
     ]
    },
    {
     "name": "stderr",
     "output_type": "stream",
     "text": [
      "2016-10-11 18:16:34,533 : INFO : orthonormalizing (24774L, 200L) action matrix\n"
     ]
    },
    {
     "name": "stderr",
     "output_type": "stream",
     "text": [
      "2016-10-11 18:16:35,959 : INFO : 2nd phase: running dense svd on (200L, 20L) matrix\n"
     ]
    },
    {
     "name": "stderr",
     "output_type": "stream",
     "text": [
      "2016-10-11 18:16:35,990 : INFO : computing the final decomposition\n"
     ]
    },
    {
     "name": "stderr",
     "output_type": "stream",
     "text": [
      "2016-10-11 18:16:35,990 : INFO : keeping 2 factors (discarding 0.000% of energy spectrum)\n"
     ]
    },
    {
     "name": "stderr",
     "output_type": "stream",
     "text": [
      "2016-10-11 18:16:36,002 : INFO : merging projections: (24774L, 100L) + (24774L, 2L)\n"
     ]
    },
    {
     "name": "stderr",
     "output_type": "stream",
     "text": [
      "2016-10-11 18:16:36,046 : INFO : keeping 100 factors (discarding 0.028% of energy spectrum)\n"
     ]
    },
    {
     "name": "stderr",
     "output_type": "stream",
     "text": [
      "2016-10-11 18:16:36,105 : INFO : processed documents up to #3380\n"
     ]
    },
    {
     "name": "stderr",
     "output_type": "stream",
     "text": [
      "2016-10-11 18:16:36,108 : INFO : topic #0(1587.368): 0.488*\"АЛЛАХ\" + 0.270*\"КОТОРЫЙ\" + 0.220*\"ЧЕЛОВЕК\" + 0.172*\"МИР\" + 0.150*\"ПРОРОК\" + 0.149*\"СВОЙ\" + 0.148*\"СКАЗАТЬ\" + 0.144*\"ВОПРОС\" + 0.134*\"ИСТОРИЯ\" + 0.118*\"КОРАН\"\n"
     ]
    },
    {
     "name": "stderr",
     "output_type": "stream",
     "text": [
      "2016-10-11 18:16:36,109 : INFO : topic #1(606.909): -0.594*\"АЛЛАХ\" + 0.185*\"ИДДА\" + 0.175*\"ИСТОРИЯ\" + -0.162*\"ПОСЛАННИК\" + 0.155*\"ИСЛАМСКИЙ\" + 0.154*\"РАМАДАН\" + 0.143*\"ЧИТАТЬ\" + 0.141*\"ЖЕНЩИНА\" + 0.139*\"САЙТ\" + 0.134*\"МУЖ\"\n"
     ]
    },
    {
     "name": "stderr",
     "output_type": "stream",
     "text": [
      "2016-10-11 18:16:36,111 : INFO : topic #2(546.878): -0.480*\"ИДДА\" + -0.345*\"МУЖ\" + -0.336*\"ЖЕНЩИНА\" + -0.240*\"РАЗВОД\" + -0.200*\"ЖЕНА\" + -0.187*\"СРОК\" + -0.132*\"ДОЛЖНЫЙ\" + -0.130*\"ПЕРИОД\" + 0.122*\"ЧИТАТЬ\" + 0.121*\"ИСТОРИЯ\"\n"
     ]
    },
    {
     "name": "stderr",
     "output_type": "stream",
     "text": [
      "2016-10-11 18:16:36,114 : INFO : topic #3(426.065): 0.299*\"ИМАМ\" + 0.287*\"КОТОРЫЙ\" + -0.262*\"АЛЛАХ\" + 0.260*\"ЧЕЛОВЕК\" + 0.179*\"КНИГА\" + -0.178*\"РАМАДАН\" + -0.150*\"ЧИТАТЬ\" + 0.146*\"СЛОВО\" + -0.141*\"МИР\" + 0.130*\"УЧЁНЫЙ\"\n"
     ]
    },
    {
     "name": "stderr",
     "output_type": "stream",
     "text": [
      "2016-10-11 18:16:36,115 : INFO : topic #4(373.784): -0.467*\"ИМАМ\" + 0.337*\"ЧЕЛОВЕК\" + -0.276*\"УМ\" + -0.246*\"КНИГА\" + -0.233*\"ГОД\" + -0.200*\"АЛЛАХ\" + -0.173*\"УЧЁНЫЙ\" + -0.168*\"АБА\" + 0.127*\"КОТОРЫЙ\" + -0.122*\"БИОГРАФИЯ\"\n"
     ]
    },
    {
     "name": "stderr",
     "output_type": "stream",
     "text": [
      "2016-10-11 18:16:36,122 : INFO : preparing a new chunk of documents\n"
     ]
    },
    {
     "name": "stderr",
     "output_type": "stream",
     "text": [
      "2016-10-11 18:16:36,125 : INFO : using 100 extra samples and 2 power iterations\n"
     ]
    },
    {
     "name": "stderr",
     "output_type": "stream",
     "text": [
      "2016-10-11 18:16:36,125 : INFO : 1st phase: constructing (24774L, 200L) action matrix\n"
     ]
    },
    {
     "name": "stderr",
     "output_type": "stream",
     "text": [
      "2016-10-11 18:16:36,128 : INFO : orthonormalizing (24774L, 200L) action matrix\n"
     ]
    },
    {
     "name": "stderr",
     "output_type": "stream",
     "text": [
      "2016-10-11 18:16:37,552 : INFO : 2nd phase: running dense svd on (200L, 20L) matrix\n"
     ]
    },
    {
     "name": "stderr",
     "output_type": "stream",
     "text": [
      "2016-10-11 18:16:37,584 : INFO : computing the final decomposition\n"
     ]
    },
    {
     "name": "stderr",
     "output_type": "stream",
     "text": [
      "2016-10-11 18:16:37,585 : INFO : keeping 2 factors (discarding 0.000% of energy spectrum)\n"
     ]
    },
    {
     "name": "stderr",
     "output_type": "stream",
     "text": [
      "2016-10-11 18:16:37,595 : INFO : merging projections: (24774L, 100L) + (24774L, 2L)\n"
     ]
    },
    {
     "name": "stderr",
     "output_type": "stream",
     "text": [
      "2016-10-11 18:16:37,640 : INFO : keeping 100 factors (discarding 0.018% of energy spectrum)\n"
     ]
    },
    {
     "name": "stderr",
     "output_type": "stream",
     "text": [
      "2016-10-11 18:16:37,697 : INFO : processed documents up to #3400\n"
     ]
    },
    {
     "name": "stderr",
     "output_type": "stream",
     "text": [
      "2016-10-11 18:16:37,700 : INFO : topic #0(1588.265): 0.488*\"АЛЛАХ\" + 0.270*\"КОТОРЫЙ\" + 0.220*\"ЧЕЛОВЕК\" + 0.172*\"МИР\" + 0.150*\"ПРОРОК\" + 0.149*\"СВОЙ\" + 0.148*\"СКАЗАТЬ\" + 0.144*\"ВОПРОС\" + 0.134*\"ИСТОРИЯ\" + 0.118*\"КОРАН\"\n"
     ]
    },
    {
     "name": "stderr",
     "output_type": "stream",
     "text": [
      "2016-10-11 18:16:37,701 : INFO : topic #1(607.026): -0.594*\"АЛЛАХ\" + 0.184*\"ИДДА\" + 0.175*\"ИСТОРИЯ\" + -0.162*\"ПОСЛАННИК\" + 0.155*\"ИСЛАМСКИЙ\" + 0.154*\"РАМАДАН\" + 0.143*\"ЧИТАТЬ\" + 0.141*\"ЖЕНЩИНА\" + 0.139*\"САЙТ\" + 0.134*\"МУЖ\"\n"
     ]
    },
    {
     "name": "stderr",
     "output_type": "stream",
     "text": [
      "2016-10-11 18:16:37,703 : INFO : topic #2(546.915): -0.480*\"ИДДА\" + -0.345*\"МУЖ\" + -0.336*\"ЖЕНЩИНА\" + -0.240*\"РАЗВОД\" + -0.200*\"ЖЕНА\" + -0.187*\"СРОК\" + -0.132*\"ДОЛЖНЫЙ\" + -0.130*\"ПЕРИОД\" + 0.122*\"ЧИТАТЬ\" + 0.120*\"ИСТОРИЯ\"\n"
     ]
    },
    {
     "name": "stderr",
     "output_type": "stream",
     "text": [
      "2016-10-11 18:16:37,706 : INFO : topic #3(426.175): 0.299*\"ИМАМ\" + 0.287*\"КОТОРЫЙ\" + -0.262*\"АЛЛАХ\" + 0.261*\"ЧЕЛОВЕК\" + 0.179*\"КНИГА\" + -0.178*\"РАМАДАН\" + -0.150*\"ЧИТАТЬ\" + 0.146*\"СЛОВО\" + -0.142*\"МИР\" + 0.130*\"УЧЁНЫЙ\"\n"
     ]
    },
    {
     "name": "stderr",
     "output_type": "stream",
     "text": [
      "2016-10-11 18:16:37,709 : INFO : topic #4(373.799): -0.467*\"ИМАМ\" + 0.337*\"ЧЕЛОВЕК\" + -0.276*\"УМ\" + -0.246*\"КНИГА\" + -0.233*\"ГОД\" + -0.200*\"АЛЛАХ\" + -0.174*\"УЧЁНЫЙ\" + -0.168*\"АБА\" + 0.127*\"КОТОРЫЙ\" + -0.122*\"БИОГРАФИЯ\"\n"
     ]
    },
    {
     "name": "stderr",
     "output_type": "stream",
     "text": [
      "2016-10-11 18:16:37,713 : INFO : preparing a new chunk of documents\n"
     ]
    },
    {
     "name": "stderr",
     "output_type": "stream",
     "text": [
      "2016-10-11 18:16:37,716 : INFO : using 100 extra samples and 2 power iterations\n"
     ]
    },
    {
     "name": "stderr",
     "output_type": "stream",
     "text": [
      "2016-10-11 18:16:37,717 : INFO : 1st phase: constructing (24774L, 200L) action matrix\n"
     ]
    },
    {
     "name": "stderr",
     "output_type": "stream",
     "text": [
      "2016-10-11 18:16:37,719 : INFO : orthonormalizing (24774L, 200L) action matrix\n"
     ]
    },
    {
     "name": "stderr",
     "output_type": "stream",
     "text": [
      "2016-10-11 18:16:39,127 : INFO : 2nd phase: running dense svd on (200L, 20L) matrix\n"
     ]
    },
    {
     "name": "stderr",
     "output_type": "stream",
     "text": [
      "2016-10-11 18:16:39,158 : INFO : computing the final decomposition\n"
     ]
    },
    {
     "name": "stderr",
     "output_type": "stream",
     "text": [
      "2016-10-11 18:16:39,160 : INFO : keeping 2 factors (discarding 0.000% of energy spectrum)\n"
     ]
    },
    {
     "name": "stderr",
     "output_type": "stream",
     "text": [
      "2016-10-11 18:16:39,171 : INFO : merging projections: (24774L, 100L) + (24774L, 2L)\n"
     ]
    },
    {
     "name": "stderr",
     "output_type": "stream",
     "text": [
      "2016-10-11 18:16:39,213 : INFO : keeping 100 factors (discarding 0.010% of energy spectrum)\n"
     ]
    },
    {
     "name": "stderr",
     "output_type": "stream",
     "text": [
      "2016-10-11 18:16:39,269 : INFO : processed documents up to #3420\n"
     ]
    },
    {
     "name": "stderr",
     "output_type": "stream",
     "text": [
      "2016-10-11 18:16:39,272 : INFO : topic #0(1588.480): 0.488*\"АЛЛАХ\" + 0.270*\"КОТОРЫЙ\" + 0.220*\"ЧЕЛОВЕК\" + 0.172*\"МИР\" + 0.150*\"ПРОРОК\" + 0.149*\"СВОЙ\" + 0.148*\"СКАЗАТЬ\" + 0.144*\"ВОПРОС\" + 0.134*\"ИСТОРИЯ\" + 0.118*\"КОРАН\"\n"
     ]
    },
    {
     "name": "stderr",
     "output_type": "stream",
     "text": [
      "2016-10-11 18:16:39,275 : INFO : topic #1(607.075): -0.594*\"АЛЛАХ\" + 0.184*\"ИДДА\" + 0.176*\"ИСТОРИЯ\" + -0.162*\"ПОСЛАННИК\" + 0.155*\"ИСЛАМСКИЙ\" + 0.154*\"РАМАДАН\" + 0.143*\"ЧИТАТЬ\" + 0.141*\"ЖЕНЩИНА\" + 0.140*\"САЙТ\" + 0.133*\"МУЖ\"\n"
     ]
    },
    {
     "name": "stderr",
     "output_type": "stream",
     "text": [
      "2016-10-11 18:16:39,276 : INFO : topic #2(546.977): -0.480*\"ИДДА\" + -0.345*\"МУЖ\" + -0.336*\"ЖЕНЩИНА\" + -0.241*\"РАЗВОД\" + -0.200*\"ЖЕНА\" + -0.187*\"СРОК\" + -0.132*\"ДОЛЖНЫЙ\" + -0.130*\"ПЕРИОД\" + 0.122*\"ЧИТАТЬ\" + 0.120*\"ИСТОРИЯ\"\n"
     ]
    },
    {
     "name": "stderr",
     "output_type": "stream",
     "text": [
      "2016-10-11 18:16:39,279 : INFO : topic #3(426.424): 0.299*\"ИМАМ\" + 0.287*\"КОТОРЫЙ\" + -0.263*\"АЛЛАХ\" + 0.261*\"ЧЕЛОВЕК\" + 0.179*\"КНИГА\" + -0.178*\"РАМАДАН\" + -0.149*\"ЧИТАТЬ\" + 0.145*\"СЛОВО\" + -0.142*\"МИР\" + 0.129*\"УЧЁНЫЙ\"\n"
     ]
    },
    {
     "name": "stderr",
     "output_type": "stream",
     "text": [
      "2016-10-11 18:16:39,280 : INFO : topic #4(373.802): -0.467*\"ИМАМ\" + 0.336*\"ЧЕЛОВЕК\" + -0.276*\"УМ\" + -0.246*\"КНИГА\" + -0.233*\"ГОД\" + -0.200*\"АЛЛАХ\" + -0.174*\"УЧЁНЫЙ\" + -0.168*\"АБА\" + 0.127*\"КОТОРЫЙ\" + -0.122*\"БИОГРАФИЯ\"\n"
     ]
    },
    {
     "name": "stderr",
     "output_type": "stream",
     "text": [
      "2016-10-11 18:16:39,290 : INFO : preparing a new chunk of documents\n"
     ]
    },
    {
     "name": "stderr",
     "output_type": "stream",
     "text": [
      "2016-10-11 18:16:39,292 : INFO : using 100 extra samples and 2 power iterations\n"
     ]
    },
    {
     "name": "stderr",
     "output_type": "stream",
     "text": [
      "2016-10-11 18:16:39,293 : INFO : 1st phase: constructing (24774L, 200L) action matrix\n"
     ]
    },
    {
     "name": "stderr",
     "output_type": "stream",
     "text": [
      "2016-10-11 18:16:39,296 : INFO : orthonormalizing (24774L, 200L) action matrix\n"
     ]
    },
    {
     "name": "stderr",
     "output_type": "stream",
     "text": [
      "2016-10-11 18:16:40,714 : INFO : 2nd phase: running dense svd on (200L, 20L) matrix\n"
     ]
    },
    {
     "name": "stderr",
     "output_type": "stream",
     "text": [
      "2016-10-11 18:16:40,744 : INFO : computing the final decomposition\n"
     ]
    },
    {
     "name": "stderr",
     "output_type": "stream",
     "text": [
      "2016-10-11 18:16:40,746 : INFO : keeping 2 factors (discarding 0.000% of energy spectrum)\n"
     ]
    },
    {
     "name": "stderr",
     "output_type": "stream",
     "text": [
      "2016-10-11 18:16:40,756 : INFO : merging projections: (24774L, 100L) + (24774L, 2L)\n"
     ]
    },
    {
     "name": "stderr",
     "output_type": "stream",
     "text": [
      "2016-10-11 18:16:40,799 : INFO : keeping 100 factors (discarding 0.030% of energy spectrum)\n"
     ]
    },
    {
     "name": "stderr",
     "output_type": "stream",
     "text": [
      "2016-10-11 18:16:40,859 : INFO : processed documents up to #3440\n"
     ]
    },
    {
     "name": "stderr",
     "output_type": "stream",
     "text": [
      "2016-10-11 18:16:40,861 : INFO : topic #0(1589.494): 0.488*\"АЛЛАХ\" + 0.270*\"КОТОРЫЙ\" + 0.220*\"ЧЕЛОВЕК\" + 0.172*\"МИР\" + 0.150*\"ПРОРОК\" + 0.149*\"СВОЙ\" + 0.148*\"СКАЗАТЬ\" + 0.144*\"ВОПРОС\" + 0.134*\"ИСТОРИЯ\" + 0.118*\"КОРАН\"\n"
     ]
    },
    {
     "name": "stderr",
     "output_type": "stream",
     "text": [
      "2016-10-11 18:16:40,864 : INFO : topic #1(607.124): -0.593*\"АЛЛАХ\" + 0.184*\"ИДДА\" + 0.176*\"ИСТОРИЯ\" + -0.162*\"ПОСЛАННИК\" + 0.155*\"ИСЛАМСКИЙ\" + 0.155*\"РАМАДАН\" + 0.143*\"ЧИТАТЬ\" + 0.141*\"ЖЕНЩИНА\" + 0.140*\"САЙТ\" + 0.133*\"МУЖ\"\n"
     ]
    },
    {
     "name": "stderr",
     "output_type": "stream",
     "text": [
      "2016-10-11 18:16:40,865 : INFO : topic #2(547.016): -0.480*\"ИДДА\" + -0.345*\"МУЖ\" + -0.336*\"ЖЕНЩИНА\" + -0.241*\"РАЗВОД\" + -0.200*\"ЖЕНА\" + -0.187*\"СРОК\" + -0.132*\"ДОЛЖНЫЙ\" + -0.130*\"ПЕРИОД\" + 0.121*\"ЧИТАТЬ\" + 0.120*\"ИСТОРИЯ\"\n"
     ]
    },
    {
     "name": "stderr",
     "output_type": "stream",
     "text": [
      "2016-10-11 18:16:40,868 : INFO : topic #3(426.774): 0.298*\"ИМАМ\" + 0.287*\"КОТОРЫЙ\" + -0.264*\"АЛЛАХ\" + 0.263*\"ЧЕЛОВЕК\" + 0.178*\"КНИГА\" + -0.178*\"РАМАДАН\" + -0.149*\"ЧИТАТЬ\" + 0.145*\"СЛОВО\" + -0.143*\"МИР\" + 0.129*\"УЧЁНЫЙ\"\n"
     ]
    },
    {
     "name": "stderr",
     "output_type": "stream",
     "text": [
      "2016-10-11 18:16:40,871 : INFO : topic #4(373.924): -0.468*\"ИМАМ\" + 0.337*\"ЧЕЛОВЕК\" + -0.276*\"УМ\" + -0.247*\"КНИГА\" + -0.234*\"ГОД\" + -0.199*\"АЛЛАХ\" + -0.174*\"УЧЁНЫЙ\" + -0.168*\"АБА\" + 0.126*\"КОТОРЫЙ\" + -0.122*\"БИОГРАФИЯ\"\n"
     ]
    },
    {
     "name": "stderr",
     "output_type": "stream",
     "text": [
      "2016-10-11 18:16:40,880 : INFO : preparing a new chunk of documents\n"
     ]
    },
    {
     "name": "stderr",
     "output_type": "stream",
     "text": [
      "2016-10-11 18:16:40,881 : INFO : using 100 extra samples and 2 power iterations\n"
     ]
    },
    {
     "name": "stderr",
     "output_type": "stream",
     "text": [
      "2016-10-11 18:16:40,881 : INFO : 1st phase: constructing (24774L, 200L) action matrix\n"
     ]
    },
    {
     "name": "stderr",
     "output_type": "stream",
     "text": [
      "2016-10-11 18:16:40,884 : INFO : orthonormalizing (24774L, 200L) action matrix\n"
     ]
    },
    {
     "name": "stderr",
     "output_type": "stream",
     "text": [
      "2016-10-11 18:16:42,301 : INFO : 2nd phase: running dense svd on (200L, 20L) matrix\n"
     ]
    },
    {
     "name": "stderr",
     "output_type": "stream",
     "text": [
      "2016-10-11 18:16:42,334 : INFO : computing the final decomposition\n"
     ]
    },
    {
     "name": "stderr",
     "output_type": "stream",
     "text": [
      "2016-10-11 18:16:42,335 : INFO : keeping 2 factors (discarding 0.000% of energy spectrum)\n"
     ]
    },
    {
     "name": "stderr",
     "output_type": "stream",
     "text": [
      "2016-10-11 18:16:42,345 : INFO : merging projections: (24774L, 100L) + (24774L, 2L)\n"
     ]
    },
    {
     "name": "stderr",
     "output_type": "stream",
     "text": [
      "2016-10-11 18:16:42,391 : INFO : keeping 100 factors (discarding 0.029% of energy spectrum)\n"
     ]
    },
    {
     "name": "stderr",
     "output_type": "stream",
     "text": [
      "2016-10-11 18:16:42,438 : INFO : processed documents up to #3460\n"
     ]
    },
    {
     "name": "stderr",
     "output_type": "stream",
     "text": [
      "2016-10-11 18:16:42,440 : INFO : topic #0(1590.628): 0.488*\"АЛЛАХ\" + 0.270*\"КОТОРЫЙ\" + 0.220*\"ЧЕЛОВЕК\" + 0.172*\"МИР\" + 0.150*\"ПРОРОК\" + 0.149*\"СВОЙ\" + 0.148*\"СКАЗАТЬ\" + 0.144*\"ВОПРОС\" + 0.134*\"ИСТОРИЯ\" + 0.118*\"КОРАН\"\n"
     ]
    },
    {
     "name": "stderr",
     "output_type": "stream",
     "text": [
      "2016-10-11 18:16:42,444 : INFO : topic #1(607.292): -0.593*\"АЛЛАХ\" + 0.184*\"ИДДА\" + 0.176*\"ИСТОРИЯ\" + -0.162*\"ПОСЛАННИК\" + 0.155*\"РАМАДАН\" + 0.155*\"ИСЛАМСКИЙ\" + 0.144*\"ЧИТАТЬ\" + 0.140*\"ЖЕНЩИНА\" + 0.140*\"САЙТ\" + 0.133*\"МУЖ\"\n"
     ]
    },
    {
     "name": "stderr",
     "output_type": "stream",
     "text": [
      "2016-10-11 18:16:42,446 : INFO : topic #2(547.051): -0.480*\"ИДДА\" + -0.345*\"МУЖ\" + -0.336*\"ЖЕНЩИНА\" + -0.241*\"РАЗВОД\" + -0.200*\"ЖЕНА\" + -0.187*\"СРОК\" + -0.132*\"ДОЛЖНЫЙ\" + -0.130*\"ПЕРИОД\" + 0.122*\"ЧИТАТЬ\" + 0.120*\"ИСТОРИЯ\"\n"
     ]
    },
    {
     "name": "stderr",
     "output_type": "stream",
     "text": [
      "2016-10-11 18:16:42,447 : INFO : topic #3(427.066): 0.297*\"ИМАМ\" + 0.287*\"КОТОРЫЙ\" + -0.265*\"АЛЛАХ\" + 0.265*\"ЧЕЛОВЕК\" + -0.178*\"РАМАДАН\" + 0.178*\"КНИГА\" + -0.149*\"ЧИТАТЬ\" + 0.145*\"СЛОВО\" + -0.143*\"МИР\" + 0.128*\"УЧЁНЫЙ\"\n"
     ]
    },
    {
     "name": "stderr",
     "output_type": "stream",
     "text": [
      "2016-10-11 18:16:42,450 : INFO : topic #4(374.021): -0.468*\"ИМАМ\" + 0.338*\"ЧЕЛОВЕК\" + -0.276*\"УМ\" + -0.248*\"КНИГА\" + -0.234*\"ГОД\" + -0.199*\"АЛЛАХ\" + -0.175*\"УЧЁНЫЙ\" + -0.169*\"АБА\" + 0.124*\"КОТОРЫЙ\" + -0.122*\"БИОГРАФИЯ\"\n"
     ]
    },
    {
     "name": "stderr",
     "output_type": "stream",
     "text": [
      "2016-10-11 18:16:42,456 : INFO : preparing a new chunk of documents\n"
     ]
    },
    {
     "name": "stderr",
     "output_type": "stream",
     "text": [
      "2016-10-11 18:16:42,457 : INFO : using 100 extra samples and 2 power iterations\n"
     ]
    },
    {
     "name": "stderr",
     "output_type": "stream",
     "text": [
      "2016-10-11 18:16:42,459 : INFO : 1st phase: constructing (24774L, 200L) action matrix\n"
     ]
    },
    {
     "name": "stderr",
     "output_type": "stream",
     "text": [
      "2016-10-11 18:16:42,461 : INFO : orthonormalizing (24774L, 200L) action matrix\n"
     ]
    },
    {
     "name": "stderr",
     "output_type": "stream",
     "text": [
      "2016-10-11 18:16:43,839 : INFO : 2nd phase: running dense svd on (200L, 20L) matrix\n"
     ]
    },
    {
     "name": "stderr",
     "output_type": "stream",
     "text": [
      "2016-10-11 18:16:43,868 : INFO : computing the final decomposition\n"
     ]
    },
    {
     "name": "stderr",
     "output_type": "stream",
     "text": [
      "2016-10-11 18:16:43,871 : INFO : keeping 2 factors (discarding 0.000% of energy spectrum)\n"
     ]
    },
    {
     "name": "stderr",
     "output_type": "stream",
     "text": [
      "2016-10-11 18:16:43,880 : INFO : merging projections: (24774L, 100L) + (24774L, 2L)\n"
     ]
    },
    {
     "name": "stderr",
     "output_type": "stream",
     "text": [
      "2016-10-11 18:16:43,924 : INFO : keeping 100 factors (discarding 0.022% of energy spectrum)\n"
     ]
    },
    {
     "name": "stderr",
     "output_type": "stream",
     "text": [
      "2016-10-11 18:16:43,983 : INFO : processed documents up to #3480\n"
     ]
    },
    {
     "name": "stderr",
     "output_type": "stream",
     "text": [
      "2016-10-11 18:16:43,986 : INFO : topic #0(1590.865): 0.488*\"АЛЛАХ\" + 0.270*\"КОТОРЫЙ\" + 0.221*\"ЧЕЛОВЕК\" + 0.172*\"МИР\" + 0.150*\"ПРОРОК\" + 0.149*\"СВОЙ\" + 0.148*\"СКАЗАТЬ\" + 0.144*\"ВОПРОС\" + 0.134*\"ИСТОРИЯ\" + 0.118*\"КОРАН\"\n"
     ]
    },
    {
     "name": "stderr",
     "output_type": "stream",
     "text": [
      "2016-10-11 18:16:43,987 : INFO : topic #1(607.393): -0.593*\"АЛЛАХ\" + 0.183*\"ИДДА\" + 0.176*\"ИСТОРИЯ\" + -0.162*\"ПОСЛАННИК\" + 0.155*\"РАМАДАН\" + 0.155*\"ИСЛАМСКИЙ\" + 0.144*\"ЧИТАТЬ\" + 0.140*\"ЖЕНЩИНА\" + 0.140*\"САЙТ\" + 0.133*\"МУЖ\"\n"
     ]
    },
    {
     "name": "stderr",
     "output_type": "stream",
     "text": [
      "2016-10-11 18:16:43,990 : INFO : topic #2(547.081): -0.480*\"ИДДА\" + -0.345*\"МУЖ\" + -0.336*\"ЖЕНЩИНА\" + -0.241*\"РАЗВОД\" + -0.200*\"ЖЕНА\" + -0.187*\"СРОК\" + -0.132*\"ДОЛЖНЫЙ\" + -0.130*\"ПЕРИОД\" + 0.121*\"ЧИТАТЬ\" + 0.120*\"ИСТОРИЯ\"\n"
     ]
    },
    {
     "name": "stderr",
     "output_type": "stream",
     "text": [
      "2016-10-11 18:16:43,992 : INFO : topic #3(427.071): 0.297*\"ИМАМ\" + 0.287*\"КОТОРЫЙ\" + -0.265*\"АЛЛАХ\" + 0.264*\"ЧЕЛОВЕК\" + -0.178*\"РАМАДАН\" + 0.178*\"КНИГА\" + -0.149*\"ЧИТАТЬ\" + 0.145*\"СЛОВО\" + -0.143*\"МИР\" + 0.128*\"УЧЁНЫЙ\"\n"
     ]
    },
    {
     "name": "stderr",
     "output_type": "stream",
     "text": [
      "2016-10-11 18:16:43,993 : INFO : topic #4(374.072): -0.468*\"ИМАМ\" + 0.338*\"ЧЕЛОВЕК\" + -0.276*\"УМ\" + -0.248*\"КНИГА\" + -0.234*\"ГОД\" + -0.199*\"АЛЛАХ\" + -0.175*\"УЧЁНЫЙ\" + -0.169*\"АБА\" + 0.124*\"КОТОРЫЙ\" + -0.122*\"БИОГРАФИЯ\"\n"
     ]
    },
    {
     "name": "stderr",
     "output_type": "stream",
     "text": [
      "2016-10-11 18:16:44,081 : INFO : preparing a new chunk of documents\n"
     ]
    },
    {
     "name": "stderr",
     "output_type": "stream",
     "text": [
      "2016-10-11 18:16:44,085 : INFO : using 100 extra samples and 2 power iterations\n"
     ]
    },
    {
     "name": "stderr",
     "output_type": "stream",
     "text": [
      "2016-10-11 18:16:44,085 : INFO : 1st phase: constructing (24774L, 200L) action matrix\n"
     ]
    },
    {
     "name": "stderr",
     "output_type": "stream",
     "text": [
      "2016-10-11 18:16:44,091 : INFO : orthonormalizing (24774L, 200L) action matrix\n"
     ]
    },
    {
     "name": "stderr",
     "output_type": "stream",
     "text": [
      "2016-10-11 18:16:45,517 : INFO : 2nd phase: running dense svd on (200L, 20L) matrix\n"
     ]
    },
    {
     "name": "stderr",
     "output_type": "stream",
     "text": [
      "2016-10-11 18:16:45,548 : INFO : computing the final decomposition\n"
     ]
    },
    {
     "name": "stderr",
     "output_type": "stream",
     "text": [
      "2016-10-11 18:16:45,549 : INFO : keeping 20 factors (discarding 0.000% of energy spectrum)\n"
     ]
    },
    {
     "name": "stderr",
     "output_type": "stream",
     "text": [
      "2016-10-11 18:16:45,575 : INFO : merging projections: (24774L, 100L) + (24774L, 20L)\n"
     ]
    },
    {
     "name": "stderr",
     "output_type": "stream",
     "text": [
      "2016-10-11 18:16:45,642 : INFO : keeping 100 factors (discarding 0.406% of energy spectrum)\n"
     ]
    },
    {
     "name": "stderr",
     "output_type": "stream",
     "text": [
      "2016-10-11 18:16:45,698 : INFO : processed documents up to #3500\n"
     ]
    },
    {
     "name": "stderr",
     "output_type": "stream",
     "text": [
      "2016-10-11 18:16:45,700 : INFO : topic #0(1596.870): 0.486*\"АЛЛАХ\" + 0.270*\"КОТОРЫЙ\" + 0.221*\"ЧЕЛОВЕК\" + 0.172*\"МИР\" + 0.149*\"СВОЙ\" + 0.149*\"ПРОРОК\" + 0.148*\"СКАЗАТЬ\" + 0.144*\"ВОПРОС\" + 0.134*\"ИСТОРИЯ\" + 0.119*\"КОРАН\"\n"
     ]
    },
    {
     "name": "stderr",
     "output_type": "stream",
     "text": [
      "2016-10-11 18:16:45,703 : INFO : topic #1(609.725): -0.598*\"АЛЛАХ\" + 0.177*\"ИСТОРИЯ\" + 0.176*\"ИДДА\" + -0.162*\"ПОСЛАННИК\" + 0.155*\"РАМАДАН\" + 0.155*\"ИСЛАМСКИЙ\" + 0.143*\"ЧИТАТЬ\" + 0.140*\"САЙТ\" + 0.136*\"ЖЕНЩИНА\" + 0.128*\"МУЖ\"\n"
     ]
    },
    {
     "name": "stderr",
     "output_type": "stream",
     "text": [
      "2016-10-11 18:16:45,704 : INFO : topic #2(547.562): -0.482*\"ИДДА\" + -0.347*\"МУЖ\" + -0.338*\"ЖЕНЩИНА\" + -0.242*\"РАЗВОД\" + -0.202*\"ЖЕНА\" + -0.188*\"СРОК\" + -0.133*\"ДОЛЖНЫЙ\" + -0.131*\"ПЕРИОД\" + 0.120*\"ЧИТАТЬ\" + 0.118*\"ИСТОРИЯ\"\n"
     ]
    },
    {
     "name": "stderr",
     "output_type": "stream",
     "text": [
      "2016-10-11 18:16:45,707 : INFO : topic #3(428.486): 0.301*\"ИМАМ\" + 0.284*\"КОТОРЫЙ\" + 0.264*\"ЧЕЛОВЕК\" + -0.260*\"АЛЛАХ\" + 0.179*\"КНИГА\" + -0.179*\"РАМАДАН\" + -0.154*\"ЧИТАТЬ\" + 0.144*\"СЛОВО\" + -0.142*\"МИР\" + 0.129*\"УЧЁНЫЙ\"\n"
     ]
    },
    {
     "name": "stderr",
     "output_type": "stream",
     "text": [
      "2016-10-11 18:16:45,709 : INFO : topic #4(378.323): -0.464*\"ИМАМ\" + 0.344*\"ЧЕЛОВЕК\" + -0.269*\"УМ\" + -0.247*\"КНИГА\" + -0.236*\"ГОД\" + -0.202*\"АЛЛАХ\" + -0.176*\"УЧЁНЫЙ\" + -0.170*\"АБА\" + 0.129*\"КОТОРЫЙ\" + -0.120*\"БИОГРАФИЯ\"\n"
     ]
    },
    {
     "name": "stderr",
     "output_type": "stream",
     "text": [
      "2016-10-11 18:16:45,799 : INFO : preparing a new chunk of documents\n"
     ]
    },
    {
     "name": "stderr",
     "output_type": "stream",
     "text": [
      "2016-10-11 18:16:45,803 : INFO : using 100 extra samples and 2 power iterations\n"
     ]
    },
    {
     "name": "stderr",
     "output_type": "stream",
     "text": [
      "2016-10-11 18:16:45,805 : INFO : 1st phase: constructing (24774L, 200L) action matrix\n"
     ]
    },
    {
     "name": "stderr",
     "output_type": "stream",
     "text": [
      "2016-10-11 18:16:45,812 : INFO : orthonormalizing (24774L, 200L) action matrix\n"
     ]
    },
    {
     "name": "stderr",
     "output_type": "stream",
     "text": [
      "2016-10-11 18:16:47,292 : INFO : 2nd phase: running dense svd on (200L, 20L) matrix\n"
     ]
    },
    {
     "name": "stderr",
     "output_type": "stream",
     "text": [
      "2016-10-11 18:16:47,322 : INFO : computing the final decomposition\n"
     ]
    },
    {
     "name": "stderr",
     "output_type": "stream",
     "text": [
      "2016-10-11 18:16:47,323 : INFO : keeping 20 factors (discarding 0.000% of energy spectrum)\n"
     ]
    },
    {
     "name": "stderr",
     "output_type": "stream",
     "text": [
      "2016-10-11 18:16:47,344 : INFO : merging projections: (24774L, 100L) + (24774L, 20L)\n"
     ]
    },
    {
     "name": "stderr",
     "output_type": "stream",
     "text": [
      "2016-10-11 18:16:47,411 : INFO : keeping 100 factors (discarding 0.386% of energy spectrum)\n"
     ]
    },
    {
     "name": "stderr",
     "output_type": "stream",
     "text": [
      "2016-10-11 18:16:47,467 : INFO : processed documents up to #3520\n"
     ]
    },
    {
     "name": "stderr",
     "output_type": "stream",
     "text": [
      "2016-10-11 18:16:47,470 : INFO : topic #0(1613.755): 0.495*\"АЛЛАХ\" + 0.268*\"КОТОРЫЙ\" + 0.219*\"ЧЕЛОВЕК\" + 0.171*\"МИР\" + 0.152*\"СВОЙ\" + 0.148*\"ПРОРОК\" + 0.147*\"СКАЗАТЬ\" + 0.142*\"ВОПРОС\" + 0.133*\"ИСТОРИЯ\" + 0.118*\"КОРАН\"\n"
     ]
    },
    {
     "name": "stderr",
     "output_type": "stream",
     "text": [
      "2016-10-11 18:16:47,473 : INFO : topic #1(620.927): -0.617*\"АЛЛАХ\" + 0.179*\"ИСТОРИЯ\" + 0.158*\"РАМАДАН\" + 0.156*\"ИСЛАМСКИЙ\" + -0.156*\"ПОСЛАННИК\" + 0.154*\"ИДДА\" + 0.146*\"ЧИТАТЬ\" + 0.141*\"САЙТ\" + 0.123*\"ЖЕНЩИНА\" + 0.114*\"РАЗВОД\"\n"
     ]
    },
    {
     "name": "stderr",
     "output_type": "stream",
     "text": [
      "2016-10-11 18:16:47,474 : INFO : topic #2(548.448): -0.490*\"ИДДА\" + -0.352*\"МУЖ\" + -0.344*\"ЖЕНЩИНА\" + -0.248*\"РАЗВОД\" + -0.205*\"ЖЕНА\" + -0.191*\"СРОК\" + -0.135*\"ДОЛЖНЫЙ\" + -0.134*\"ПЕРИОД\" + -0.113*\"МНЕНИЕ\" + 0.113*\"ЧИТАТЬ\"\n"
     ]
    },
    {
     "name": "stderr",
     "output_type": "stream",
     "text": [
      "2016-10-11 18:16:47,476 : INFO : topic #3(430.403): 0.291*\"КОТОРЫЙ\" + 0.285*\"ИМАМ\" + 0.280*\"ЧЕЛОВЕК\" + -0.260*\"АЛЛАХ\" + -0.182*\"РАМАДАН\" + 0.173*\"КНИГА\" + -0.153*\"ЧИТАТЬ\" + 0.149*\"СЛОВО\" + -0.137*\"МИР\" + 0.126*\"ЗНАНИЕ\"\n"
     ]
    },
    {
     "name": "stderr",
     "output_type": "stream",
     "text": [
      "2016-10-11 18:16:47,479 : INFO : topic #4(379.922): -0.472*\"ИМАМ\" + 0.340*\"ЧЕЛОВЕК\" + -0.272*\"УМ\" + -0.251*\"КНИГА\" + -0.240*\"ГОД\" + -0.195*\"АЛЛАХ\" + -0.179*\"УЧЁНЫЙ\" + -0.168*\"АБА\" + 0.124*\"КОТОРЫЙ\" + -0.122*\"БИОГРАФИЯ\"\n"
     ]
    },
    {
     "name": "stderr",
     "output_type": "stream",
     "text": [
      "2016-10-11 18:16:47,551 : INFO : preparing a new chunk of documents\n"
     ]
    },
    {
     "name": "stderr",
     "output_type": "stream",
     "text": [
      "2016-10-11 18:16:47,555 : INFO : using 100 extra samples and 2 power iterations\n"
     ]
    },
    {
     "name": "stderr",
     "output_type": "stream",
     "text": [
      "2016-10-11 18:16:47,555 : INFO : 1st phase: constructing (24774L, 200L) action matrix\n"
     ]
    },
    {
     "name": "stderr",
     "output_type": "stream",
     "text": [
      "2016-10-11 18:16:47,561 : INFO : orthonormalizing (24774L, 200L) action matrix\n"
     ]
    },
    {
     "name": "stderr",
     "output_type": "stream",
     "text": [
      "2016-10-11 18:16:49,017 : INFO : 2nd phase: running dense svd on (200L, 20L) matrix\n"
     ]
    },
    {
     "name": "stderr",
     "output_type": "stream",
     "text": [
      "2016-10-11 18:16:49,049 : INFO : computing the final decomposition\n"
     ]
    },
    {
     "name": "stderr",
     "output_type": "stream",
     "text": [
      "2016-10-11 18:16:49,049 : INFO : keeping 20 factors (discarding 0.000% of energy spectrum)\n"
     ]
    },
    {
     "name": "stderr",
     "output_type": "stream",
     "text": [
      "2016-10-11 18:16:49,073 : INFO : merging projections: (24774L, 100L) + (24774L, 20L)\n"
     ]
    },
    {
     "name": "stderr",
     "output_type": "stream",
     "text": [
      "2016-10-11 18:16:49,140 : INFO : keeping 100 factors (discarding 0.301% of energy spectrum)\n"
     ]
    },
    {
     "name": "stderr",
     "output_type": "stream",
     "text": [
      "2016-10-11 18:16:49,198 : INFO : processed documents up to #3540\n"
     ]
    },
    {
     "name": "stderr",
     "output_type": "stream",
     "text": [
      "2016-10-11 18:16:49,200 : INFO : topic #0(1619.235): 0.494*\"АЛЛАХ\" + 0.268*\"КОТОРЫЙ\" + 0.219*\"ЧЕЛОВЕК\" + 0.171*\"МИР\" + 0.152*\"СВОЙ\" + 0.147*\"ПРОРОК\" + 0.147*\"СКАЗАТЬ\" + 0.142*\"ВОПРОС\" + 0.134*\"ИСТОРИЯ\" + 0.118*\"КОРАН\"\n"
     ]
    },
    {
     "name": "stderr",
     "output_type": "stream",
     "text": [
      "2016-10-11 18:16:49,203 : INFO : topic #1(622.217): -0.620*\"АЛЛАХ\" + 0.180*\"ИСТОРИЯ\" + 0.158*\"РАМАДАН\" + 0.157*\"ИСЛАМСКИЙ\" + -0.156*\"ПОСЛАННИК\" + 0.150*\"ИДДА\" + 0.146*\"ЧИТАТЬ\" + 0.142*\"САЙТ\" + 0.120*\"ЖЕНЩИНА\" + 0.113*\"ОБЩЕСТВО\"\n"
     ]
    },
    {
     "name": "stderr",
     "output_type": "stream",
     "text": [
      "2016-10-11 18:16:49,206 : INFO : topic #2(548.804): -0.491*\"ИДДА\" + -0.353*\"МУЖ\" + -0.345*\"ЖЕНЩИНА\" + -0.249*\"РАЗВОД\" + -0.206*\"ЖЕНА\" + -0.191*\"СРОК\" + -0.136*\"ДОЛЖНЫЙ\" + -0.134*\"ПЕРИОД\" + -0.113*\"МНЕНИЕ\" + 0.111*\"ЧИТАТЬ\"\n"
     ]
    },
    {
     "name": "stderr",
     "output_type": "stream",
     "text": [
      "2016-10-11 18:16:49,207 : INFO : topic #3(431.437): 0.293*\"КОТОРЫЙ\" + 0.285*\"ЧЕЛОВЕК\" + 0.280*\"ИМАМ\" + -0.259*\"АЛЛАХ\" + -0.183*\"РАМАДАН\" + 0.172*\"КНИГА\" + -0.151*\"ЧИТАТЬ\" + 0.149*\"СЛОВО\" + -0.137*\"МИР\" + -0.132*\"ПОСТ\"\n"
     ]
    },
    {
     "name": "stderr",
     "output_type": "stream",
     "text": [
      "2016-10-11 18:16:49,210 : INFO : topic #4(380.444): -0.475*\"ИМАМ\" + 0.340*\"ЧЕЛОВЕК\" + -0.273*\"УМ\" + -0.251*\"КНИГА\" + -0.241*\"ГОД\" + -0.191*\"АЛЛАХ\" + -0.182*\"УЧЁНЫЙ\" + -0.169*\"АБА\" + -0.123*\"БИОГРАФИЯ\" + 0.122*\"КОТОРЫЙ\"\n"
     ]
    },
    {
     "name": "stderr",
     "output_type": "stream",
     "text": [
      "2016-10-11 18:16:49,276 : INFO : preparing a new chunk of documents\n"
     ]
    },
    {
     "name": "stderr",
     "output_type": "stream",
     "text": [
      "2016-10-11 18:16:49,279 : INFO : using 100 extra samples and 2 power iterations\n"
     ]
    },
    {
     "name": "stderr",
     "output_type": "stream",
     "text": [
      "2016-10-11 18:16:49,279 : INFO : 1st phase: constructing (24774L, 200L) action matrix\n"
     ]
    },
    {
     "name": "stderr",
     "output_type": "stream",
     "text": [
      "2016-10-11 18:16:49,286 : INFO : orthonormalizing (24774L, 200L) action matrix\n"
     ]
    },
    {
     "name": "stderr",
     "output_type": "stream",
     "text": [
      "2016-10-11 18:16:50,746 : INFO : 2nd phase: running dense svd on (200L, 20L) matrix\n"
     ]
    },
    {
     "name": "stderr",
     "output_type": "stream",
     "text": [
      "2016-10-11 18:16:50,776 : INFO : computing the final decomposition\n"
     ]
    },
    {
     "name": "stderr",
     "output_type": "stream",
     "text": [
      "2016-10-11 18:16:50,779 : INFO : keeping 20 factors (discarding 0.000% of energy spectrum)\n"
     ]
    },
    {
     "name": "stderr",
     "output_type": "stream",
     "text": [
      "2016-10-11 18:16:50,796 : INFO : merging projections: (24774L, 100L) + (24774L, 20L)\n"
     ]
    },
    {
     "name": "stderr",
     "output_type": "stream",
     "text": [
      "2016-10-11 18:16:50,861 : INFO : keeping 100 factors (discarding 0.291% of energy spectrum)\n"
     ]
    },
    {
     "name": "stderr",
     "output_type": "stream",
     "text": [
      "2016-10-11 18:16:50,926 : INFO : processed documents up to #3560\n"
     ]
    },
    {
     "name": "stderr",
     "output_type": "stream",
     "text": [
      "2016-10-11 18:16:50,928 : INFO : topic #0(1623.989): 0.493*\"АЛЛАХ\" + 0.268*\"КОТОРЫЙ\" + 0.218*\"ЧЕЛОВЕК\" + 0.171*\"МИР\" + 0.152*\"СВОЙ\" + 0.147*\"ПРОРОК\" + 0.147*\"СКАЗАТЬ\" + 0.142*\"ВОПРОС\" + 0.134*\"ИСТОРИЯ\" + 0.118*\"КОРАН\"\n"
     ]
    },
    {
     "name": "stderr",
     "output_type": "stream",
     "text": [
      "2016-10-11 18:16:50,930 : INFO : topic #1(623.841): -0.622*\"АЛЛАХ\" + 0.181*\"ИСТОРИЯ\" + 0.159*\"РАМАДАН\" + 0.157*\"ИСЛАМСКИЙ\" + -0.156*\"ПОСЛАННИК\" + 0.145*\"ИДДА\" + 0.145*\"ЧИТАТЬ\" + 0.142*\"САЙТ\" + 0.116*\"ЖЕНЩИНА\" + 0.114*\"ОБЩЕСТВО\"\n"
     ]
    },
    {
     "name": "stderr",
     "output_type": "stream",
     "text": [
      "2016-10-11 18:16:50,933 : INFO : topic #2(549.152): -0.492*\"ИДДА\" + -0.354*\"МУЖ\" + -0.346*\"ЖЕНЩИНА\" + -0.250*\"РАЗВОД\" + -0.206*\"ЖЕНА\" + -0.192*\"СРОК\" + -0.136*\"ДОЛЖНЫЙ\" + -0.135*\"ПЕРИОД\" + -0.113*\"МНЕНИЕ\" + 0.109*\"ЧИТАТЬ\"\n"
     ]
    },
    {
     "name": "stderr",
     "output_type": "stream",
     "text": [
      "2016-10-11 18:16:50,934 : INFO : topic #3(432.811): 0.295*\"КОТОРЫЙ\" + 0.287*\"ЧЕЛОВЕК\" + 0.274*\"ИМАМ\" + -0.258*\"АЛЛАХ\" + -0.184*\"РАМАДАН\" + 0.169*\"КНИГА\" + -0.154*\"ПОСТ\" + -0.148*\"ЧИТАТЬ\" + 0.148*\"СЛОВО\" + -0.135*\"МИР\"\n"
     ]
    },
    {
     "name": "stderr",
     "output_type": "stream",
     "text": [
      "2016-10-11 18:16:50,937 : INFO : topic #4(380.955): -0.481*\"ИМАМ\" + 0.339*\"ЧЕЛОВЕК\" + -0.274*\"УМ\" + -0.253*\"КНИГА\" + -0.242*\"ГОД\" + -0.185*\"УЧЁНЫЙ\" + -0.183*\"АЛЛАХ\" + -0.170*\"АБА\" + -0.122*\"БИОГРАФИЯ\" + 0.119*\"КОТОРЫЙ\"\n"
     ]
    },
    {
     "name": "stderr",
     "output_type": "stream",
     "text": [
      "2016-10-11 18:16:51,013 : INFO : preparing a new chunk of documents\n"
     ]
    },
    {
     "name": "stderr",
     "output_type": "stream",
     "text": [
      "2016-10-11 18:16:51,019 : INFO : using 100 extra samples and 2 power iterations\n"
     ]
    },
    {
     "name": "stderr",
     "output_type": "stream",
     "text": [
      "2016-10-11 18:16:51,019 : INFO : 1st phase: constructing (24774L, 200L) action matrix\n"
     ]
    },
    {
     "name": "stderr",
     "output_type": "stream",
     "text": [
      "2016-10-11 18:16:51,025 : INFO : orthonormalizing (24774L, 200L) action matrix\n"
     ]
    },
    {
     "name": "stderr",
     "output_type": "stream",
     "text": [
      "2016-10-11 18:16:52,523 : INFO : 2nd phase: running dense svd on (200L, 20L) matrix\n"
     ]
    },
    {
     "name": "stderr",
     "output_type": "stream",
     "text": [
      "2016-10-11 18:16:52,552 : INFO : computing the final decomposition\n"
     ]
    },
    {
     "name": "stderr",
     "output_type": "stream",
     "text": [
      "2016-10-11 18:16:52,552 : INFO : keeping 20 factors (discarding 0.000% of energy spectrum)\n"
     ]
    },
    {
     "name": "stderr",
     "output_type": "stream",
     "text": [
      "2016-10-11 18:16:52,579 : INFO : merging projections: (24774L, 100L) + (24774L, 20L)\n"
     ]
    },
    {
     "name": "stderr",
     "output_type": "stream",
     "text": [
      "2016-10-11 18:16:52,645 : INFO : keeping 100 factors (discarding 0.314% of energy spectrum)\n"
     ]
    },
    {
     "name": "stderr",
     "output_type": "stream",
     "text": [
      "2016-10-11 18:16:52,710 : INFO : processed documents up to #3580\n"
     ]
    },
    {
     "name": "stderr",
     "output_type": "stream",
     "text": [
      "2016-10-11 18:16:52,713 : INFO : topic #0(1630.392): 0.492*\"АЛЛАХ\" + 0.268*\"КОТОРЫЙ\" + 0.218*\"ЧЕЛОВЕК\" + 0.171*\"МИР\" + 0.151*\"СВОЙ\" + 0.147*\"ПРОРОК\" + 0.146*\"СКАЗАТЬ\" + 0.141*\"ВОПРОС\" + 0.134*\"ИСТОРИЯ\" + 0.119*\"КОРАН\"\n"
     ]
    },
    {
     "name": "stderr",
     "output_type": "stream",
     "text": [
      "2016-10-11 18:16:52,714 : INFO : topic #1(625.174): -0.623*\"АЛЛАХ\" + 0.181*\"ИСТОРИЯ\" + 0.160*\"РАМАДАН\" + 0.157*\"ИСЛАМСКИЙ\" + -0.156*\"ПОСЛАННИК\" + 0.144*\"ЧИТАТЬ\" + 0.143*\"ИДДА\" + 0.143*\"САЙТ\" + 0.114*\"ОБЩЕСТВО\" + 0.114*\"ЖЕНЩИНА\"\n"
     ]
    },
    {
     "name": "stderr",
     "output_type": "stream",
     "text": [
      "2016-10-11 18:16:52,717 : INFO : topic #2(549.362): -0.493*\"ИДДА\" + -0.355*\"МУЖ\" + -0.347*\"ЖЕНЩИНА\" + -0.251*\"РАЗВОД\" + -0.207*\"ЖЕНА\" + -0.192*\"СРОК\" + -0.137*\"ДОЛЖНЫЙ\" + -0.135*\"ПЕРИОД\" + -0.113*\"МНЕНИЕ\" + 0.108*\"ЧИТАТЬ\"\n"
     ]
    },
    {
     "name": "stderr",
     "output_type": "stream",
     "text": [
      "2016-10-11 18:16:52,719 : INFO : topic #3(433.422): 0.296*\"КОТОРЫЙ\" + 0.288*\"ЧЕЛОВЕК\" + 0.272*\"ИМАМ\" + -0.258*\"АЛЛАХ\" + -0.185*\"РАМАДАН\" + 0.168*\"КНИГА\" + -0.154*\"ПОСТ\" + -0.148*\"ЧИТАТЬ\" + 0.147*\"СЛОВО\" + -0.135*\"МИР\"\n"
     ]
    },
    {
     "name": "stderr",
     "output_type": "stream",
     "text": [
      "2016-10-11 18:16:52,721 : INFO : topic #4(381.313): -0.483*\"ИМАМ\" + 0.337*\"ЧЕЛОВЕК\" + -0.274*\"УМ\" + -0.254*\"КНИГА\" + -0.242*\"ГОД\" + -0.186*\"УЧЁНЫЙ\" + -0.182*\"АЛЛАХ\" + -0.171*\"АБА\" + -0.123*\"БИОГРАФИЯ\" + 0.120*\"КОТОРЫЙ\"\n"
     ]
    },
    {
     "name": "stderr",
     "output_type": "stream",
     "text": [
      "2016-10-11 18:16:52,799 : INFO : preparing a new chunk of documents\n"
     ]
    },
    {
     "name": "stderr",
     "output_type": "stream",
     "text": [
      "2016-10-11 18:16:52,803 : INFO : using 100 extra samples and 2 power iterations\n"
     ]
    },
    {
     "name": "stderr",
     "output_type": "stream",
     "text": [
      "2016-10-11 18:16:52,805 : INFO : 1st phase: constructing (24774L, 200L) action matrix\n"
     ]
    },
    {
     "name": "stderr",
     "output_type": "stream",
     "text": [
      "2016-10-11 18:16:52,809 : INFO : orthonormalizing (24774L, 200L) action matrix\n"
     ]
    },
    {
     "name": "stderr",
     "output_type": "stream",
     "text": [
      "2016-10-11 18:16:54,288 : INFO : 2nd phase: running dense svd on (200L, 20L) matrix\n"
     ]
    },
    {
     "name": "stderr",
     "output_type": "stream",
     "text": [
      "2016-10-11 18:16:54,319 : INFO : computing the final decomposition\n"
     ]
    },
    {
     "name": "stderr",
     "output_type": "stream",
     "text": [
      "2016-10-11 18:16:54,321 : INFO : keeping 20 factors (discarding 0.000% of energy spectrum)\n"
     ]
    },
    {
     "name": "stderr",
     "output_type": "stream",
     "text": [
      "2016-10-11 18:16:54,344 : INFO : merging projections: (24774L, 100L) + (24774L, 20L)\n"
     ]
    },
    {
     "name": "stderr",
     "output_type": "stream",
     "text": [
      "2016-10-11 18:16:54,410 : INFO : keeping 100 factors (discarding 0.298% of energy spectrum)\n"
     ]
    },
    {
     "name": "stderr",
     "output_type": "stream",
     "text": [
      "2016-10-11 18:16:54,470 : INFO : processed documents up to #3600\n"
     ]
    },
    {
     "name": "stderr",
     "output_type": "stream",
     "text": [
      "2016-10-11 18:16:54,471 : INFO : topic #0(1637.174): 0.492*\"АЛЛАХ\" + 0.268*\"КОТОРЫЙ\" + 0.218*\"ЧЕЛОВЕК\" + 0.171*\"МИР\" + 0.151*\"СВОЙ\" + 0.147*\"ПРОРОК\" + 0.146*\"СКАЗАТЬ\" + 0.141*\"ВОПРОС\" + 0.134*\"ИСТОРИЯ\" + 0.119*\"КОРАН\"\n"
     ]
    },
    {
     "name": "stderr",
     "output_type": "stream",
     "text": [
      "2016-10-11 18:16:54,473 : INFO : topic #1(626.638): -0.623*\"АЛЛАХ\" + 0.182*\"ИСТОРИЯ\" + 0.161*\"РАМАДАН\" + 0.158*\"ИСЛАМСКИЙ\" + -0.156*\"ПОСЛАННИК\" + 0.143*\"САЙТ\" + 0.143*\"ЧИТАТЬ\" + 0.140*\"ИДДА\" + 0.115*\"ОБЩЕСТВО\" + -0.113*\"СКАЗАТЬ\"\n"
     ]
    },
    {
     "name": "stderr",
     "output_type": "stream",
     "text": [
      "2016-10-11 18:16:54,476 : INFO : topic #2(549.734): -0.494*\"ИДДА\" + -0.355*\"МУЖ\" + -0.347*\"ЖЕНЩИНА\" + -0.251*\"РАЗВОД\" + -0.207*\"ЖЕНА\" + -0.192*\"СРОК\" + -0.137*\"ДОЛЖНЫЙ\" + -0.135*\"ПЕРИОД\" + -0.113*\"МНЕНИЕ\" + 0.106*\"ЧИТАТЬ\"\n"
     ]
    },
    {
     "name": "stderr",
     "output_type": "stream",
     "text": [
      "2016-10-11 18:16:54,477 : INFO : topic #3(433.734): 0.295*\"КОТОРЫЙ\" + 0.286*\"ЧЕЛОВЕК\" + 0.273*\"ИМАМ\" + -0.259*\"АЛЛАХ\" + -0.185*\"РАМАДАН\" + 0.169*\"КНИГА\" + -0.153*\"ПОСТ\" + 0.147*\"СЛОВО\" + -0.147*\"ЧИТАТЬ\" + -0.134*\"МИР\"\n"
     ]
    },
    {
     "name": "stderr",
     "output_type": "stream",
     "text": [
      "2016-10-11 18:16:54,480 : INFO : topic #4(381.678): -0.480*\"ИМАМ\" + 0.340*\"ЧЕЛОВЕК\" + -0.272*\"УМ\" + -0.251*\"КНИГА\" + -0.241*\"ГОД\" + -0.187*\"УЧЁНЫЙ\" + -0.184*\"АЛЛАХ\" + -0.170*\"АБА\" + 0.123*\"КОТОРЫЙ\" + -0.122*\"БИОГРАФИЯ\"\n"
     ]
    },
    {
     "name": "stderr",
     "output_type": "stream",
     "text": [
      "2016-10-11 18:16:54,578 : INFO : preparing a new chunk of documents\n"
     ]
    },
    {
     "name": "stderr",
     "output_type": "stream",
     "text": [
      "2016-10-11 18:16:54,582 : INFO : using 100 extra samples and 2 power iterations\n"
     ]
    },
    {
     "name": "stderr",
     "output_type": "stream",
     "text": [
      "2016-10-11 18:16:54,584 : INFO : 1st phase: constructing (24774L, 200L) action matrix\n"
     ]
    },
    {
     "name": "stderr",
     "output_type": "stream",
     "text": [
      "2016-10-11 18:16:54,589 : INFO : orthonormalizing (24774L, 200L) action matrix\n"
     ]
    },
    {
     "name": "stderr",
     "output_type": "stream",
     "text": [
      "2016-10-11 18:16:56,089 : INFO : 2nd phase: running dense svd on (200L, 20L) matrix\n"
     ]
    },
    {
     "name": "stderr",
     "output_type": "stream",
     "text": [
      "2016-10-11 18:16:56,121 : INFO : computing the final decomposition\n"
     ]
    },
    {
     "name": "stderr",
     "output_type": "stream",
     "text": [
      "2016-10-11 18:16:56,122 : INFO : keeping 20 factors (discarding 0.000% of energy spectrum)\n"
     ]
    },
    {
     "name": "stderr",
     "output_type": "stream",
     "text": [
      "2016-10-11 18:16:56,141 : INFO : merging projections: (24774L, 100L) + (24774L, 20L)\n"
     ]
    },
    {
     "name": "stderr",
     "output_type": "stream",
     "text": [
      "2016-10-11 18:16:56,207 : INFO : keeping 100 factors (discarding 0.307% of energy spectrum)\n"
     ]
    },
    {
     "name": "stderr",
     "output_type": "stream",
     "text": [
      "2016-10-11 18:16:56,265 : INFO : processed documents up to #3620\n"
     ]
    },
    {
     "name": "stderr",
     "output_type": "stream",
     "text": [
      "2016-10-11 18:16:56,266 : INFO : topic #0(1651.831): 0.494*\"АЛЛАХ\" + 0.267*\"КОТОРЫЙ\" + 0.216*\"ЧЕЛОВЕК\" + 0.173*\"МИР\" + 0.151*\"СВОЙ\" + 0.148*\"ПРОРОК\" + 0.145*\"СКАЗАТЬ\" + 0.140*\"ВОПРОС\" + 0.134*\"ИСТОРИЯ\" + 0.118*\"КОРАН\"\n"
     ]
    },
    {
     "name": "stderr",
     "output_type": "stream",
     "text": [
      "2016-10-11 18:16:56,269 : INFO : topic #1(629.281): -0.625*\"АЛЛАХ\" + 0.182*\"ИСТОРИЯ\" + 0.162*\"РАМАДАН\" + 0.159*\"ИСЛАМСКИЙ\" + -0.155*\"ПОСЛАННИК\" + 0.144*\"САЙТ\" + 0.143*\"ЧИТАТЬ\" + 0.136*\"ИДДА\" + 0.115*\"ОБЩЕСТВО\" + -0.111*\"СКАЗАТЬ\"\n"
     ]
    },
    {
     "name": "stderr",
     "output_type": "stream",
     "text": [
      "2016-10-11 18:16:56,270 : INFO : topic #2(550.224): -0.494*\"ИДДА\" + -0.356*\"МУЖ\" + -0.349*\"ЖЕНЩИНА\" + -0.252*\"РАЗВОД\" + -0.208*\"ЖЕНА\" + -0.193*\"СРОК\" + -0.137*\"ДОЛЖНЫЙ\" + -0.135*\"ПЕРИОД\" + -0.113*\"МНЕНИЕ\" + 0.104*\"ЧИТАТЬ\"\n"
     ]
    },
    {
     "name": "stderr",
     "output_type": "stream",
     "text": [
      "2016-10-11 18:16:56,273 : INFO : topic #3(436.953): 0.287*\"КОТОРЫЙ\" + 0.286*\"ЧЕЛОВЕК\" + 0.265*\"ИМАМ\" + -0.246*\"АЛЛАХ\" + -0.183*\"РАМАДАН\" + 0.165*\"КНИГА\" + -0.161*\"НАМАЗ\" + -0.151*\"ПОСТ\" + 0.147*\"СЛОВО\" + -0.142*\"ЧИТАТЬ\"\n"
     ]
    },
    {
     "name": "stderr",
     "output_type": "stream",
     "text": [
      "2016-10-11 18:16:56,275 : INFO : topic #4(384.300): -0.449*\"ИМАМ\" + 0.347*\"ЧЕЛОВЕК\" + -0.261*\"УМ\" + -0.240*\"КНИГА\" + -0.240*\"ГОД\" + 0.194*\"НАМАЗ\" + -0.190*\"АЛЛАХ\" + -0.184*\"УЧЁНЫЙ\" + -0.163*\"АБА\" + 0.132*\"КОТОРЫЙ\"\n"
     ]
    },
    {
     "name": "stderr",
     "output_type": "stream",
     "text": [
      "2016-10-11 18:16:56,355 : INFO : preparing a new chunk of documents\n"
     ]
    },
    {
     "name": "stderr",
     "output_type": "stream",
     "text": [
      "2016-10-11 18:16:56,358 : INFO : using 100 extra samples and 2 power iterations\n"
     ]
    },
    {
     "name": "stderr",
     "output_type": "stream",
     "text": [
      "2016-10-11 18:16:56,359 : INFO : 1st phase: constructing (24774L, 200L) action matrix\n"
     ]
    },
    {
     "name": "stderr",
     "output_type": "stream",
     "text": [
      "2016-10-11 18:16:56,365 : INFO : orthonormalizing (24774L, 200L) action matrix\n"
     ]
    },
    {
     "name": "stderr",
     "output_type": "stream",
     "text": [
      "2016-10-11 18:16:57,871 : INFO : 2nd phase: running dense svd on (200L, 20L) matrix\n"
     ]
    },
    {
     "name": "stderr",
     "output_type": "stream",
     "text": [
      "2016-10-11 18:16:57,901 : INFO : computing the final decomposition\n"
     ]
    },
    {
     "name": "stderr",
     "output_type": "stream",
     "text": [
      "2016-10-11 18:16:57,903 : INFO : keeping 20 factors (discarding 0.000% of energy spectrum)\n"
     ]
    },
    {
     "name": "stderr",
     "output_type": "stream",
     "text": [
      "2016-10-11 18:16:57,924 : INFO : merging projections: (24774L, 100L) + (24774L, 20L)\n"
     ]
    },
    {
     "name": "stderr",
     "output_type": "stream",
     "text": [
      "2016-10-11 18:16:57,990 : INFO : keeping 100 factors (discarding 0.237% of energy spectrum)\n"
     ]
    },
    {
     "name": "stderr",
     "output_type": "stream",
     "text": [
      "2016-10-11 18:16:58,048 : INFO : processed documents up to #3640\n"
     ]
    },
    {
     "name": "stderr",
     "output_type": "stream",
     "text": [
      "2016-10-11 18:16:58,049 : INFO : topic #0(1659.553): 0.493*\"АЛЛАХ\" + 0.267*\"КОТОРЫЙ\" + 0.217*\"ЧЕЛОВЕК\" + 0.173*\"МИР\" + 0.151*\"СВОЙ\" + 0.148*\"ПРОРОК\" + 0.145*\"СКАЗАТЬ\" + 0.140*\"ВОПРОС\" + 0.134*\"ИСТОРИЯ\" + 0.119*\"КОРАН\"\n"
     ]
    },
    {
     "name": "stderr",
     "output_type": "stream",
     "text": [
      "2016-10-11 18:16:58,052 : INFO : topic #1(630.283): -0.626*\"АЛЛАХ\" + 0.182*\"ИСТОРИЯ\" + 0.163*\"РАМАДАН\" + 0.159*\"ИСЛАМСКИЙ\" + -0.155*\"ПОСЛАННИК\" + 0.144*\"САЙТ\" + 0.142*\"ЧИТАТЬ\" + 0.134*\"ИДДА\" + 0.116*\"ОБЩЕСТВО\" + -0.112*\"СКАЗАТЬ\"\n"
     ]
    },
    {
     "name": "stderr",
     "output_type": "stream",
     "text": [
      "2016-10-11 18:16:58,053 : INFO : topic #2(550.531): -0.495*\"ИДДА\" + -0.356*\"МУЖ\" + -0.349*\"ЖЕНЩИНА\" + -0.252*\"РАЗВОД\" + -0.209*\"ЖЕНА\" + -0.193*\"СРОК\" + -0.138*\"ДОЛЖНЫЙ\" + -0.136*\"ПЕРИОД\" + -0.113*\"МНЕНИЕ\" + 0.103*\"ЧИТАТЬ\"\n"
     ]
    },
    {
     "name": "stderr",
     "output_type": "stream",
     "text": [
      "2016-10-11 18:16:58,055 : INFO : topic #3(438.488): 0.296*\"ЧЕЛОВЕК\" + 0.291*\"КОТОРЫЙ\" + 0.259*\"ИМАМ\" + -0.249*\"АЛЛАХ\" + -0.185*\"РАМАДАН\" + 0.161*\"КНИГА\" + -0.160*\"НАМАЗ\" + -0.150*\"ПОСТ\" + 0.147*\"СЛОВО\" + -0.142*\"ЧИТАТЬ\"\n"
     ]
    },
    {
     "name": "stderr",
     "output_type": "stream",
     "text": [
      "2016-10-11 18:16:58,059 : INFO : topic #4(385.221): -0.455*\"ИМАМ\" + 0.351*\"ЧЕЛОВЕК\" + -0.262*\"УМ\" + -0.243*\"КНИГА\" + -0.242*\"ГОД\" + -0.188*\"УЧЁНЫЙ\" + 0.186*\"НАМАЗ\" + -0.186*\"АЛЛАХ\" + -0.163*\"АБА\" + 0.129*\"КОТОРЫЙ\"\n"
     ]
    },
    {
     "name": "stderr",
     "output_type": "stream",
     "text": [
      "2016-10-11 18:16:58,144 : INFO : preparing a new chunk of documents\n"
     ]
    },
    {
     "name": "stderr",
     "output_type": "stream",
     "text": [
      "2016-10-11 18:16:58,148 : INFO : using 100 extra samples and 2 power iterations\n"
     ]
    },
    {
     "name": "stderr",
     "output_type": "stream",
     "text": [
      "2016-10-11 18:16:58,148 : INFO : 1st phase: constructing (24774L, 200L) action matrix\n"
     ]
    },
    {
     "name": "stderr",
     "output_type": "stream",
     "text": [
      "2016-10-11 18:16:58,154 : INFO : orthonormalizing (24774L, 200L) action matrix\n"
     ]
    },
    {
     "name": "stderr",
     "output_type": "stream",
     "text": [
      "2016-10-11 18:16:59,641 : INFO : 2nd phase: running dense svd on (200L, 20L) matrix\n"
     ]
    },
    {
     "name": "stderr",
     "output_type": "stream",
     "text": [
      "2016-10-11 18:16:59,673 : INFO : computing the final decomposition\n"
     ]
    },
    {
     "name": "stderr",
     "output_type": "stream",
     "text": [
      "2016-10-11 18:16:59,674 : INFO : keeping 20 factors (discarding 0.000% of energy spectrum)\n"
     ]
    },
    {
     "name": "stderr",
     "output_type": "stream",
     "text": [
      "2016-10-11 18:16:59,694 : INFO : merging projections: (24774L, 100L) + (24774L, 20L)\n"
     ]
    },
    {
     "name": "stderr",
     "output_type": "stream",
     "text": [
      "2016-10-11 18:16:59,759 : INFO : keeping 100 factors (discarding 0.298% of energy spectrum)\n"
     ]
    },
    {
     "name": "stderr",
     "output_type": "stream",
     "text": [
      "2016-10-11 18:16:59,825 : INFO : processed documents up to #3660\n"
     ]
    },
    {
     "name": "stderr",
     "output_type": "stream",
     "text": [
      "2016-10-11 18:16:59,828 : INFO : topic #0(1672.597): 0.494*\"АЛЛАХ\" + 0.268*\"КОТОРЫЙ\" + 0.217*\"ЧЕЛОВЕК\" + 0.173*\"МИР\" + 0.151*\"СВОЙ\" + 0.148*\"ПРОРОК\" + 0.144*\"СКАЗАТЬ\" + 0.139*\"ВОПРОС\" + 0.134*\"ИСТОРИЯ\" + 0.119*\"КОРАН\"\n"
     ]
    },
    {
     "name": "stderr",
     "output_type": "stream",
     "text": [
      "2016-10-11 18:16:59,831 : INFO : topic #1(631.612): -0.626*\"АЛЛАХ\" + 0.182*\"ИСТОРИЯ\" + 0.162*\"РАМАДАН\" + 0.159*\"ИСЛАМСКИЙ\" + -0.154*\"ПОСЛАННИК\" + 0.144*\"САЙТ\" + 0.142*\"ЧИТАТЬ\" + 0.133*\"ИДДА\" + 0.116*\"ОБЩЕСТВО\" + -0.111*\"СКАЗАТЬ\"\n"
     ]
    },
    {
     "name": "stderr",
     "output_type": "stream",
     "text": [
      "2016-10-11 18:16:59,832 : INFO : topic #2(550.790): -0.495*\"ИДДА\" + -0.356*\"МУЖ\" + -0.350*\"ЖЕНЩИНА\" + -0.252*\"РАЗВОД\" + -0.209*\"ЖЕНА\" + -0.193*\"СРОК\" + -0.138*\"ДОЛЖНЫЙ\" + -0.135*\"ПЕРИОД\" + -0.113*\"МНЕНИЕ\" + 0.102*\"ЧИТАТЬ\"\n"
     ]
    },
    {
     "name": "stderr",
     "output_type": "stream",
     "text": [
      "2016-10-11 18:16:59,835 : INFO : topic #3(440.271): 0.298*\"ЧЕЛОВЕК\" + 0.291*\"КОТОРЫЙ\" + 0.256*\"ИМАМ\" + -0.247*\"АЛЛАХ\" + -0.194*\"РАМАДАН\" + 0.160*\"КНИГА\" + -0.158*\"НАМАЗ\" + -0.156*\"ПОСТ\" + 0.146*\"СЛОВО\" + -0.140*\"ЧИТАТЬ\"\n"
     ]
    },
    {
     "name": "stderr",
     "output_type": "stream",
     "text": [
      "2016-10-11 18:16:59,836 : INFO : topic #4(385.928): -0.452*\"ИМАМ\" + 0.352*\"ЧЕЛОВЕК\" + -0.261*\"УМ\" + -0.243*\"ГОД\" + -0.241*\"КНИГА\" + 0.189*\"НАМАЗ\" + -0.189*\"УЧЁНЫЙ\" + -0.187*\"АЛЛАХ\" + -0.163*\"АБА\" + 0.131*\"КОТОРЫЙ\"\n"
     ]
    },
    {
     "name": "stderr",
     "output_type": "stream",
     "text": [
      "2016-10-11 18:16:59,898 : INFO : preparing a new chunk of documents\n"
     ]
    },
    {
     "name": "stderr",
     "output_type": "stream",
     "text": [
      "2016-10-11 18:16:59,901 : INFO : using 100 extra samples and 2 power iterations\n"
     ]
    },
    {
     "name": "stderr",
     "output_type": "stream",
     "text": [
      "2016-10-11 18:16:59,903 : INFO : 1st phase: constructing (24774L, 200L) action matrix\n"
     ]
    },
    {
     "name": "stderr",
     "output_type": "stream",
     "text": [
      "2016-10-11 18:16:59,907 : INFO : orthonormalizing (24774L, 200L) action matrix\n"
     ]
    },
    {
     "name": "stderr",
     "output_type": "stream",
     "text": [
      "2016-10-11 18:17:01,398 : INFO : 2nd phase: running dense svd on (200L, 20L) matrix\n"
     ]
    },
    {
     "name": "stderr",
     "output_type": "stream",
     "text": [
      "2016-10-11 18:17:01,430 : INFO : computing the final decomposition\n"
     ]
    },
    {
     "name": "stderr",
     "output_type": "stream",
     "text": [
      "2016-10-11 18:17:01,430 : INFO : keeping 20 factors (discarding 0.000% of energy spectrum)\n"
     ]
    },
    {
     "name": "stderr",
     "output_type": "stream",
     "text": [
      "2016-10-11 18:17:01,451 : INFO : merging projections: (24774L, 100L) + (24774L, 20L)\n"
     ]
    },
    {
     "name": "stderr",
     "output_type": "stream",
     "text": [
      "2016-10-11 18:17:01,519 : INFO : keeping 100 factors (discarding 0.274% of energy spectrum)\n"
     ]
    },
    {
     "name": "stderr",
     "output_type": "stream",
     "text": [
      "2016-10-11 18:17:01,585 : INFO : processed documents up to #3680\n"
     ]
    },
    {
     "name": "stderr",
     "output_type": "stream",
     "text": [
      "2016-10-11 18:17:01,588 : INFO : topic #0(1676.323): 0.493*\"АЛЛАХ\" + 0.267*\"КОТОРЫЙ\" + 0.216*\"ЧЕЛОВЕК\" + 0.173*\"МИР\" + 0.151*\"СВОЙ\" + 0.148*\"ПРОРОК\" + 0.144*\"СКАЗАТЬ\" + 0.139*\"ВОПРОС\" + 0.134*\"ИСТОРИЯ\" + 0.119*\"КОРАН\"\n"
     ]
    },
    {
     "name": "stderr",
     "output_type": "stream",
     "text": [
      "2016-10-11 18:17:01,589 : INFO : topic #1(633.228): -0.628*\"АЛЛАХ\" + 0.183*\"ИСТОРИЯ\" + 0.162*\"РАМАДАН\" + 0.159*\"ИСЛАМСКИЙ\" + -0.154*\"ПОСЛАННИК\" + 0.144*\"САЙТ\" + 0.142*\"ЧИТАТЬ\" + 0.129*\"ИДДА\" + 0.117*\"ОБЩЕСТВО\" + -0.112*\"СКАЗАТЬ\"\n"
     ]
    },
    {
     "name": "stderr",
     "output_type": "stream",
     "text": [
      "2016-10-11 18:17:01,592 : INFO : topic #2(551.076): -0.496*\"ИДДА\" + -0.357*\"МУЖ\" + -0.351*\"ЖЕНЩИНА\" + -0.253*\"РАЗВОД\" + -0.209*\"ЖЕНА\" + -0.193*\"СРОК\" + -0.138*\"ДОЛЖНЫЙ\" + -0.136*\"ПЕРИОД\" + -0.113*\"МНЕНИЕ\" + 0.101*\"ЧИТАТЬ\"\n"
     ]
    },
    {
     "name": "stderr",
     "output_type": "stream",
     "text": [
      "2016-10-11 18:17:01,594 : INFO : topic #3(440.704): 0.295*\"ЧЕЛОВЕК\" + 0.292*\"КОТОРЫЙ\" + 0.257*\"ИМАМ\" + -0.248*\"АЛЛАХ\" + -0.194*\"РАМАДАН\" + 0.162*\"КНИГА\" + -0.157*\"НАМАЗ\" + -0.155*\"ПОСТ\" + 0.147*\"СЛОВО\" + -0.140*\"ЧИТАТЬ\"\n"
     ]
    },
    {
     "name": "stderr",
     "output_type": "stream",
     "text": [
      "2016-10-11 18:17:01,596 : INFO : topic #4(386.157): -0.452*\"ИМАМ\" + 0.353*\"ЧЕЛОВЕК\" + -0.260*\"УМ\" + -0.244*\"ГОД\" + -0.242*\"КНИГА\" + -0.189*\"УЧЁНЫЙ\" + -0.186*\"АЛЛАХ\" + 0.184*\"НАМАЗ\" + -0.164*\"АБА\" + 0.131*\"КОТОРЫЙ\"\n"
     ]
    },
    {
     "name": "stderr",
     "output_type": "stream",
     "text": [
      "2016-10-11 18:17:01,676 : INFO : preparing a new chunk of documents\n"
     ]
    },
    {
     "name": "stderr",
     "output_type": "stream",
     "text": [
      "2016-10-11 18:17:01,678 : INFO : using 100 extra samples and 2 power iterations\n"
     ]
    },
    {
     "name": "stderr",
     "output_type": "stream",
     "text": [
      "2016-10-11 18:17:01,680 : INFO : 1st phase: constructing (24774L, 200L) action matrix\n"
     ]
    },
    {
     "name": "stderr",
     "output_type": "stream",
     "text": [
      "2016-10-11 18:17:01,686 : INFO : orthonormalizing (24774L, 200L) action matrix\n"
     ]
    },
    {
     "name": "stderr",
     "output_type": "stream",
     "text": [
      "2016-10-11 18:17:03,191 : INFO : 2nd phase: running dense svd on (200L, 20L) matrix\n"
     ]
    },
    {
     "name": "stderr",
     "output_type": "stream",
     "text": [
      "2016-10-11 18:17:03,220 : INFO : computing the final decomposition\n"
     ]
    },
    {
     "name": "stderr",
     "output_type": "stream",
     "text": [
      "2016-10-11 18:17:03,223 : INFO : keeping 20 factors (discarding 0.000% of energy spectrum)\n"
     ]
    },
    {
     "name": "stderr",
     "output_type": "stream",
     "text": [
      "2016-10-11 18:17:03,246 : INFO : merging projections: (24774L, 100L) + (24774L, 20L)\n"
     ]
    },
    {
     "name": "stderr",
     "output_type": "stream",
     "text": [
      "2016-10-11 18:17:03,313 : INFO : keeping 100 factors (discarding 0.332% of energy spectrum)\n"
     ]
    },
    {
     "name": "stderr",
     "output_type": "stream",
     "text": [
      "2016-10-11 18:17:03,375 : INFO : processed documents up to #3700\n"
     ]
    },
    {
     "name": "stderr",
     "output_type": "stream",
     "text": [
      "2016-10-11 18:17:03,378 : INFO : topic #0(1683.170): 0.493*\"АЛЛАХ\" + 0.267*\"КОТОРЫЙ\" + 0.216*\"ЧЕЛОВЕК\" + 0.173*\"МИР\" + 0.152*\"СВОЙ\" + 0.148*\"ПРОРОК\" + 0.144*\"СКАЗАТЬ\" + 0.139*\"ВОПРОС\" + 0.135*\"ИСТОРИЯ\" + 0.119*\"КОРАН\"\n"
     ]
    },
    {
     "name": "stderr",
     "output_type": "stream",
     "text": [
      "2016-10-11 18:17:03,380 : INFO : topic #1(635.170): -0.629*\"АЛЛАХ\" + 0.185*\"ИСТОРИЯ\" + 0.162*\"РАМАДАН\" + 0.159*\"ИСЛАМСКИЙ\" + -0.154*\"ПОСЛАННИК\" + 0.145*\"САЙТ\" + 0.142*\"ЧИТАТЬ\" + 0.125*\"ИДДА\" + 0.117*\"ОБЩЕСТВО\" + -0.113*\"СКАЗАТЬ\"\n"
     ]
    },
    {
     "name": "stderr",
     "output_type": "stream",
     "text": [
      "2016-10-11 18:17:03,381 : INFO : topic #2(551.340): -0.496*\"ИДДА\" + -0.358*\"МУЖ\" + -0.352*\"ЖЕНЩИНА\" + -0.254*\"РАЗВОД\" + -0.210*\"ЖЕНА\" + -0.194*\"СРОК\" + -0.139*\"ДОЛЖНЫЙ\" + -0.136*\"ПЕРИОД\" + -0.113*\"МНЕНИЕ\" + 0.100*\"ЧИТАТЬ\"\n"
     ]
    },
    {
     "name": "stderr",
     "output_type": "stream",
     "text": [
      "2016-10-11 18:17:03,384 : INFO : topic #3(444.160): 0.297*\"ЧЕЛОВЕК\" + 0.291*\"КОТОРЫЙ\" + 0.245*\"ИМАМ\" + -0.238*\"АЛЛАХ\" + -0.206*\"ПОСТ\" + -0.200*\"РАМАДАН\" + -0.161*\"ДЕНЬ\" + 0.157*\"КНИГА\" + -0.153*\"НАМАЗ\" + 0.144*\"СЛОВО\"\n"
     ]
    },
    {
     "name": "stderr",
     "output_type": "stream",
     "text": [
      "2016-10-11 18:17:03,385 : INFO : topic #4(386.824): -0.464*\"ИМАМ\" + 0.347*\"ЧЕЛОВЕК\" + -0.263*\"УМ\" + -0.247*\"ГОД\" + -0.247*\"КНИГА\" + -0.196*\"УЧЁНЫЙ\" + -0.172*\"АЛЛАХ\" + -0.166*\"АБА\" + 0.164*\"НАМАЗ\" + -0.130*\"ШЕЙХ\"\n"
     ]
    },
    {
     "name": "stderr",
     "output_type": "stream",
     "text": [
      "2016-10-11 18:17:03,461 : INFO : preparing a new chunk of documents\n"
     ]
    },
    {
     "name": "stderr",
     "output_type": "stream",
     "text": [
      "2016-10-11 18:17:03,466 : INFO : using 100 extra samples and 2 power iterations\n"
     ]
    },
    {
     "name": "stderr",
     "output_type": "stream",
     "text": [
      "2016-10-11 18:17:03,467 : INFO : 1st phase: constructing (24774L, 200L) action matrix\n"
     ]
    },
    {
     "name": "stderr",
     "output_type": "stream",
     "text": [
      "2016-10-11 18:17:03,471 : INFO : orthonormalizing (24774L, 200L) action matrix\n"
     ]
    },
    {
     "name": "stderr",
     "output_type": "stream",
     "text": [
      "2016-10-11 18:17:04,986 : INFO : 2nd phase: running dense svd on (200L, 20L) matrix\n"
     ]
    },
    {
     "name": "stderr",
     "output_type": "stream",
     "text": [
      "2016-10-11 18:17:05,016 : INFO : computing the final decomposition\n"
     ]
    },
    {
     "name": "stderr",
     "output_type": "stream",
     "text": [
      "2016-10-11 18:17:05,019 : INFO : keeping 20 factors (discarding 0.000% of energy spectrum)\n"
     ]
    },
    {
     "name": "stderr",
     "output_type": "stream",
     "text": [
      "2016-10-11 18:17:05,042 : INFO : merging projections: (24774L, 100L) + (24774L, 20L)\n"
     ]
    },
    {
     "name": "stderr",
     "output_type": "stream",
     "text": [
      "2016-10-11 18:17:05,108 : INFO : keeping 100 factors (discarding 0.338% of energy spectrum)\n"
     ]
    },
    {
     "name": "stderr",
     "output_type": "stream",
     "text": [
      "2016-10-11 18:17:05,173 : INFO : processed documents up to #3720\n"
     ]
    },
    {
     "name": "stderr",
     "output_type": "stream",
     "text": [
      "2016-10-11 18:17:05,174 : INFO : topic #0(1696.079): 0.495*\"АЛЛАХ\" + 0.266*\"КОТОРЫЙ\" + 0.215*\"ЧЕЛОВЕК\" + 0.175*\"МИР\" + 0.151*\"СВОЙ\" + 0.148*\"ПРОРОК\" + 0.146*\"СКАЗАТЬ\" + 0.138*\"ВОПРОС\" + 0.134*\"ИСТОРИЯ\" + 0.120*\"КОРАН\"\n"
     ]
    },
    {
     "name": "stderr",
     "output_type": "stream",
     "text": [
      "2016-10-11 18:17:05,177 : INFO : topic #1(640.703): -0.627*\"АЛЛАХ\" + 0.185*\"ИСТОРИЯ\" + 0.161*\"РАМАДАН\" + 0.160*\"ИСЛАМСКИЙ\" + -0.156*\"ПОСЛАННИК\" + 0.144*\"САЙТ\" + 0.141*\"ЧИТАТЬ\" + 0.122*\"ИДДА\" + -0.121*\"СКАЗАТЬ\" + 0.118*\"ОБЩЕСТВО\"\n"
     ]
    },
    {
     "name": "stderr",
     "output_type": "stream",
     "text": [
      "2016-10-11 18:17:05,178 : INFO : topic #2(551.491): -0.497*\"ИДДА\" + -0.358*\"МУЖ\" + -0.352*\"ЖЕНЩИНА\" + -0.254*\"РАЗВОД\" + -0.210*\"ЖЕНА\" + -0.194*\"СРОК\" + -0.139*\"ДОЛЖНЫЙ\" + -0.136*\"ПЕРИОД\" + -0.113*\"МНЕНИЕ\" + 0.099*\"ЧИТАТЬ\"\n"
     ]
    },
    {
     "name": "stderr",
     "output_type": "stream",
     "text": [
      "2016-10-11 18:17:05,180 : INFO : topic #3(446.472): 0.307*\"ЧЕЛОВЕК\" + 0.295*\"КОТОРЫЙ\" + 0.233*\"ИМАМ\" + -0.227*\"АЛЛАХ\" + -0.208*\"ПОСТ\" + -0.203*\"РАМАДАН\" + -0.164*\"ДЕНЬ\" + -0.156*\"НАМАЗ\" + 0.150*\"КНИГА\" + -0.142*\"МИР\"\n"
     ]
    },
    {
     "name": "stderr",
     "output_type": "stream",
     "text": [
      "2016-10-11 18:17:05,184 : INFO : topic #4(388.302): -0.478*\"ИМАМ\" + 0.339*\"ЧЕЛОВЕК\" + -0.265*\"УМ\" + -0.252*\"КНИГА\" + -0.249*\"ГОД\" + -0.203*\"УЧЁНЫЙ\" + -0.171*\"АБА\" + -0.147*\"АЛЛАХ\" + -0.135*\"ШЕЙХ\" + 0.128*\"НАМАЗ\"\n"
     ]
    },
    {
     "name": "stderr",
     "output_type": "stream",
     "text": [
      "2016-10-11 18:17:05,267 : INFO : preparing a new chunk of documents\n"
     ]
    },
    {
     "name": "stderr",
     "output_type": "stream",
     "text": [
      "2016-10-11 18:17:05,272 : INFO : using 100 extra samples and 2 power iterations\n"
     ]
    },
    {
     "name": "stderr",
     "output_type": "stream",
     "text": [
      "2016-10-11 18:17:05,273 : INFO : 1st phase: constructing (24774L, 200L) action matrix\n"
     ]
    },
    {
     "name": "stderr",
     "output_type": "stream",
     "text": [
      "2016-10-11 18:17:05,279 : INFO : orthonormalizing (24774L, 200L) action matrix\n"
     ]
    },
    {
     "name": "stderr",
     "output_type": "stream",
     "text": [
      "2016-10-11 18:17:06,829 : INFO : 2nd phase: running dense svd on (200L, 20L) matrix\n"
     ]
    },
    {
     "name": "stderr",
     "output_type": "stream",
     "text": [
      "2016-10-11 18:17:06,861 : INFO : computing the final decomposition\n"
     ]
    },
    {
     "name": "stderr",
     "output_type": "stream",
     "text": [
      "2016-10-11 18:17:06,862 : INFO : keeping 20 factors (discarding 0.000% of energy spectrum)\n"
     ]
    },
    {
     "name": "stderr",
     "output_type": "stream",
     "text": [
      "2016-10-11 18:17:06,887 : INFO : merging projections: (24774L, 100L) + (24774L, 20L)\n"
     ]
    },
    {
     "name": "stderr",
     "output_type": "stream",
     "text": [
      "2016-10-11 18:17:06,956 : INFO : keeping 100 factors (discarding 0.388% of energy spectrum)\n"
     ]
    },
    {
     "name": "stderr",
     "output_type": "stream",
     "text": [
      "2016-10-11 18:17:07,020 : INFO : processed documents up to #3740\n"
     ]
    },
    {
     "name": "stderr",
     "output_type": "stream",
     "text": [
      "2016-10-11 18:17:07,023 : INFO : topic #0(1709.180): 0.496*\"АЛЛАХ\" + 0.267*\"КОТОРЫЙ\" + 0.214*\"ЧЕЛОВЕК\" + 0.176*\"МИР\" + 0.152*\"СВОЙ\" + 0.148*\"ПРОРОК\" + 0.147*\"СКАЗАТЬ\" + 0.137*\"ВОПРОС\" + 0.134*\"ИСТОРИЯ\" + 0.120*\"КОРАН\"\n"
     ]
    },
    {
     "name": "stderr",
     "output_type": "stream",
     "text": [
      "2016-10-11 18:17:07,025 : INFO : topic #1(643.411): -0.629*\"АЛЛАХ\" + 0.182*\"ИСТОРИЯ\" + 0.159*\"РАМАДАН\" + 0.159*\"ИСЛАМСКИЙ\" + -0.156*\"ПОСЛАННИК\" + 0.143*\"САЙТ\" + 0.138*\"ЧИТАТЬ\" + 0.125*\"ИДДА\" + -0.120*\"СКАЗАТЬ\" + 0.118*\"ОБЩЕСТВО\"\n"
     ]
    },
    {
     "name": "stderr",
     "output_type": "stream",
     "text": [
      "2016-10-11 18:17:07,026 : INFO : topic #2(553.174): -0.490*\"ИДДА\" + -0.358*\"МУЖ\" + -0.357*\"ЖЕНЩИНА\" + -0.250*\"РАЗВОД\" + -0.207*\"ЖЕНА\" + -0.191*\"СРОК\" + -0.137*\"ДОЛЖНЫЙ\" + -0.134*\"ПЕРИОД\" + -0.112*\"МНЕНИЕ\" + 0.104*\"ЧИТАТЬ\"\n"
     ]
    },
    {
     "name": "stderr",
     "output_type": "stream",
     "text": [
      "2016-10-11 18:17:07,029 : INFO : topic #3(448.575): 0.316*\"ЧЕЛОВЕК\" + 0.293*\"КОТОРЫЙ\" + -0.226*\"АЛЛАХ\" + 0.221*\"ИМАМ\" + -0.210*\"ПОСТ\" + -0.202*\"РАМАДАН\" + -0.161*\"ДЕНЬ\" + -0.152*\"НАМАЗ\" + 0.143*\"КНИГА\" + -0.143*\"МИР\"\n"
     ]
    },
    {
     "name": "stderr",
     "output_type": "stream",
     "text": [
      "2016-10-11 18:17:07,030 : INFO : topic #4(389.575): -0.484*\"ИМАМ\" + 0.332*\"ЧЕЛОВЕК\" + -0.267*\"УМ\" + -0.256*\"КНИГА\" + -0.249*\"ГОД\" + -0.206*\"УЧЁНЫЙ\" + -0.172*\"АБА\" + -0.137*\"АЛЛАХ\" + -0.135*\"ШЕЙХ\" + 0.126*\"НАМАЗ\"\n"
     ]
    },
    {
     "name": "stderr",
     "output_type": "stream",
     "text": [
      "2016-10-11 18:17:07,095 : INFO : preparing a new chunk of documents\n"
     ]
    },
    {
     "name": "stderr",
     "output_type": "stream",
     "text": [
      "2016-10-11 18:17:07,099 : INFO : using 100 extra samples and 2 power iterations\n"
     ]
    },
    {
     "name": "stderr",
     "output_type": "stream",
     "text": [
      "2016-10-11 18:17:07,101 : INFO : 1st phase: constructing (24774L, 200L) action matrix\n"
     ]
    },
    {
     "name": "stderr",
     "output_type": "stream",
     "text": [
      "2016-10-11 18:17:07,105 : INFO : orthonormalizing (24774L, 200L) action matrix\n"
     ]
    },
    {
     "name": "stderr",
     "output_type": "stream",
     "text": [
      "2016-10-11 18:17:08,655 : INFO : 2nd phase: running dense svd on (200L, 20L) matrix\n"
     ]
    },
    {
     "name": "stderr",
     "output_type": "stream",
     "text": [
      "2016-10-11 18:17:08,684 : INFO : computing the final decomposition\n"
     ]
    },
    {
     "name": "stderr",
     "output_type": "stream",
     "text": [
      "2016-10-11 18:17:08,687 : INFO : keeping 20 factors (discarding 0.000% of energy spectrum)\n"
     ]
    },
    {
     "name": "stderr",
     "output_type": "stream",
     "text": [
      "2016-10-11 18:17:08,709 : INFO : merging projections: (24774L, 100L) + (24774L, 20L)\n"
     ]
    },
    {
     "name": "stderr",
     "output_type": "stream",
     "text": [
      "2016-10-11 18:17:08,776 : INFO : keeping 100 factors (discarding 0.164% of energy spectrum)\n"
     ]
    },
    {
     "name": "stderr",
     "output_type": "stream",
     "text": [
      "2016-10-11 18:17:08,836 : INFO : processed documents up to #3760\n"
     ]
    },
    {
     "name": "stderr",
     "output_type": "stream",
     "text": [
      "2016-10-11 18:17:08,838 : INFO : topic #0(1714.940): 0.496*\"АЛЛАХ\" + 0.267*\"КОТОРЫЙ\" + 0.214*\"ЧЕЛОВЕК\" + 0.176*\"МИР\" + 0.151*\"СВОЙ\" + 0.148*\"ПРОРОК\" + 0.147*\"СКАЗАТЬ\" + 0.137*\"ВОПРОС\" + 0.134*\"ИСТОРИЯ\" + 0.120*\"КОРАН\"\n"
     ]
    },
    {
     "name": "stderr",
     "output_type": "stream",
     "text": [
      "2016-10-11 18:17:08,841 : INFO : topic #1(645.199): -0.628*\"АЛЛАХ\" + 0.183*\"ИСТОРИЯ\" + 0.160*\"РАМАДАН\" + 0.160*\"ИСЛАМСКИЙ\" + -0.156*\"ПОСЛАННИК\" + 0.143*\"САЙТ\" + 0.139*\"ЧИТАТЬ\" + 0.123*\"ИДДА\" + -0.121*\"СКАЗАТЬ\" + 0.119*\"ОБЩЕСТВО\"\n"
     ]
    },
    {
     "name": "stderr",
     "output_type": "stream",
     "text": [
      "2016-10-11 18:17:08,842 : INFO : topic #2(553.500): -0.490*\"ИДДА\" + -0.358*\"МУЖ\" + -0.357*\"ЖЕНЩИНА\" + -0.251*\"РАЗВОД\" + -0.207*\"ЖЕНА\" + -0.192*\"СРОК\" + -0.138*\"ДОЛЖНЫЙ\" + -0.134*\"ПЕРИОД\" + -0.112*\"МНЕНИЕ\" + -0.105*\"КОТОРЫЙ\"\n"
     ]
    },
    {
     "name": "stderr",
     "output_type": "stream",
     "text": [
      "2016-10-11 18:17:08,845 : INFO : topic #3(450.064): 0.315*\"ЧЕЛОВЕК\" + 0.292*\"КОТОРЫЙ\" + -0.224*\"АЛЛАХ\" + 0.221*\"ИМАМ\" + -0.210*\"ПОСТ\" + -0.202*\"РАМАДАН\" + -0.163*\"НАМАЗ\" + -0.163*\"ДЕНЬ\" + 0.144*\"КНИГА\" + -0.143*\"МИР\"\n"
     ]
    },
    {
     "name": "stderr",
     "output_type": "stream",
     "text": [
      "2016-10-11 18:17:08,848 : INFO : topic #4(389.784): -0.483*\"ИМАМ\" + 0.333*\"ЧЕЛОВЕК\" + -0.267*\"УМ\" + -0.255*\"КНИГА\" + -0.249*\"ГОД\" + -0.206*\"УЧЁНЫЙ\" + -0.172*\"АБА\" + -0.136*\"АЛЛАХ\" + -0.136*\"ШЕЙХ\" + 0.129*\"НАМАЗ\"\n"
     ]
    },
    {
     "name": "stderr",
     "output_type": "stream",
     "text": [
      "2016-10-11 18:17:08,923 : INFO : preparing a new chunk of documents\n"
     ]
    },
    {
     "name": "stderr",
     "output_type": "stream",
     "text": [
      "2016-10-11 18:17:08,927 : INFO : using 100 extra samples and 2 power iterations\n"
     ]
    },
    {
     "name": "stderr",
     "output_type": "stream",
     "text": [
      "2016-10-11 18:17:08,928 : INFO : 1st phase: constructing (24774L, 200L) action matrix\n"
     ]
    },
    {
     "name": "stderr",
     "output_type": "stream",
     "text": [
      "2016-10-11 18:17:08,934 : INFO : orthonormalizing (24774L, 200L) action matrix\n"
     ]
    },
    {
     "name": "stderr",
     "output_type": "stream",
     "text": [
      "2016-10-11 18:17:10,476 : INFO : 2nd phase: running dense svd on (200L, 20L) matrix\n"
     ]
    },
    {
     "name": "stderr",
     "output_type": "stream",
     "text": [
      "2016-10-11 18:17:10,506 : INFO : computing the final decomposition\n"
     ]
    },
    {
     "name": "stderr",
     "output_type": "stream",
     "text": [
      "2016-10-11 18:17:10,507 : INFO : keeping 20 factors (discarding 0.000% of energy spectrum)\n"
     ]
    },
    {
     "name": "stderr",
     "output_type": "stream",
     "text": [
      "2016-10-11 18:17:10,529 : INFO : merging projections: (24774L, 100L) + (24774L, 20L)\n"
     ]
    },
    {
     "name": "stderr",
     "output_type": "stream",
     "text": [
      "2016-10-11 18:17:10,601 : INFO : keeping 100 factors (discarding 0.253% of energy spectrum)\n"
     ]
    },
    {
     "name": "stderr",
     "output_type": "stream",
     "text": [
      "2016-10-11 18:17:10,661 : INFO : processed documents up to #3780\n"
     ]
    },
    {
     "name": "stderr",
     "output_type": "stream",
     "text": [
      "2016-10-11 18:17:10,664 : INFO : topic #0(1719.078): 0.496*\"АЛЛАХ\" + 0.266*\"КОТОРЫЙ\" + 0.213*\"ЧЕЛОВЕК\" + 0.176*\"МИР\" + 0.151*\"СВОЙ\" + 0.148*\"ПРОРОК\" + 0.147*\"СКАЗАТЬ\" + 0.136*\"ВОПРОС\" + 0.134*\"ИСТОРИЯ\" + 0.120*\"КОРАН\"\n"
     ]
    },
    {
     "name": "stderr",
     "output_type": "stream",
     "text": [
      "2016-10-11 18:17:10,667 : INFO : topic #1(648.066): -0.631*\"АЛЛАХ\" + 0.183*\"ИСТОРИЯ\" + 0.161*\"ИСЛАМСКИЙ\" + 0.160*\"РАМАДАН\" + -0.156*\"ПОСЛАННИК\" + 0.143*\"САЙТ\" + 0.138*\"ЧИТАТЬ\" + -0.123*\"СКАЗАТЬ\" + 0.119*\"ОБЩЕСТВО\" + 0.118*\"ИДДА\"\n"
     ]
    },
    {
     "name": "stderr",
     "output_type": "stream",
     "text": [
      "2016-10-11 18:17:10,668 : INFO : topic #2(553.809): -0.491*\"ИДДА\" + -0.359*\"МУЖ\" + -0.358*\"ЖЕНЩИНА\" + -0.251*\"РАЗВОД\" + -0.208*\"ЖЕНА\" + -0.192*\"СРОК\" + -0.138*\"ДОЛЖНЫЙ\" + -0.135*\"ПЕРИОД\" + -0.113*\"МНЕНИЕ\" + -0.105*\"КОТОРЫЙ\"\n"
     ]
    },
    {
     "name": "stderr",
     "output_type": "stream",
     "text": [
      "2016-10-11 18:17:10,671 : INFO : topic #3(450.996): 0.317*\"ЧЕЛОВЕК\" + 0.293*\"КОТОРЫЙ\" + -0.223*\"АЛЛАХ\" + 0.218*\"ИМАМ\" + -0.214*\"ПОСТ\" + -0.203*\"РАМАДАН\" + -0.163*\"ДЕНЬ\" + -0.161*\"НАМАЗ\" + 0.143*\"КНИГА\" + -0.141*\"МИР\"\n"
     ]
    },
    {
     "name": "stderr",
     "output_type": "stream",
     "text": [
      "2016-10-11 18:17:10,673 : INFO : topic #4(390.059): -0.486*\"ИМАМ\" + 0.331*\"ЧЕЛОВЕК\" + -0.267*\"УМ\" + -0.256*\"КНИГА\" + -0.248*\"ГОД\" + -0.207*\"УЧЁНЫЙ\" + -0.172*\"АБА\" + -0.138*\"ШЕЙХ\" + -0.133*\"АЛЛАХ\" + 0.128*\"НАМАЗ\"\n"
     ]
    },
    {
     "name": "stderr",
     "output_type": "stream",
     "text": [
      "2016-10-11 18:17:10,753 : INFO : preparing a new chunk of documents\n"
     ]
    },
    {
     "name": "stderr",
     "output_type": "stream",
     "text": [
      "2016-10-11 18:17:10,757 : INFO : using 100 extra samples and 2 power iterations\n"
     ]
    },
    {
     "name": "stderr",
     "output_type": "stream",
     "text": [
      "2016-10-11 18:17:10,759 : INFO : 1st phase: constructing (24774L, 200L) action matrix\n"
     ]
    },
    {
     "name": "stderr",
     "output_type": "stream",
     "text": [
      "2016-10-11 18:17:10,766 : INFO : orthonormalizing (24774L, 200L) action matrix\n"
     ]
    },
    {
     "name": "stderr",
     "output_type": "stream",
     "text": [
      "2016-10-11 18:17:12,279 : INFO : 2nd phase: running dense svd on (200L, 20L) matrix\n"
     ]
    },
    {
     "name": "stderr",
     "output_type": "stream",
     "text": [
      "2016-10-11 18:17:12,311 : INFO : computing the final decomposition\n"
     ]
    },
    {
     "name": "stderr",
     "output_type": "stream",
     "text": [
      "2016-10-11 18:17:12,312 : INFO : keeping 20 factors (discarding 0.000% of energy spectrum)\n"
     ]
    },
    {
     "name": "stderr",
     "output_type": "stream",
     "text": [
      "2016-10-11 18:17:12,331 : INFO : merging projections: (24774L, 100L) + (24774L, 20L)\n"
     ]
    },
    {
     "name": "stderr",
     "output_type": "stream",
     "text": [
      "2016-10-11 18:17:12,398 : INFO : keeping 100 factors (discarding 0.305% of energy spectrum)\n"
     ]
    },
    {
     "name": "stderr",
     "output_type": "stream",
     "text": [
      "2016-10-11 18:17:12,453 : INFO : processed documents up to #3800\n"
     ]
    },
    {
     "name": "stderr",
     "output_type": "stream",
     "text": [
      "2016-10-11 18:17:12,456 : INFO : topic #0(1727.224): 0.496*\"АЛЛАХ\" + 0.266*\"КОТОРЫЙ\" + 0.214*\"ЧЕЛОВЕК\" + 0.177*\"МИР\" + 0.151*\"СВОЙ\" + 0.148*\"ПРОРОК\" + 0.148*\"СКАЗАТЬ\" + 0.136*\"ВОПРОС\" + 0.134*\"ИСТОРИЯ\" + 0.120*\"КОРАН\"\n"
     ]
    },
    {
     "name": "stderr",
     "output_type": "stream",
     "text": [
      "2016-10-11 18:17:12,459 : INFO : topic #1(649.510): -0.631*\"АЛЛАХ\" + 0.184*\"ИСТОРИЯ\" + 0.161*\"РАМАДАН\" + 0.161*\"ИСЛАМСКИЙ\" + -0.156*\"ПОСЛАННИК\" + 0.144*\"САЙТ\" + 0.138*\"ЧИТАТЬ\" + -0.124*\"СКАЗАТЬ\" + 0.119*\"ОБЩЕСТВО\" + 0.115*\"ИДДА\"\n"
     ]
    },
    {
     "name": "stderr",
     "output_type": "stream",
     "text": [
      "2016-10-11 18:17:12,460 : INFO : topic #2(554.669): -0.491*\"ИДДА\" + -0.360*\"МУЖ\" + -0.359*\"ЖЕНЩИНА\" + -0.251*\"РАЗВОД\" + -0.211*\"ЖЕНА\" + -0.192*\"СРОК\" + -0.138*\"ДОЛЖНЫЙ\" + -0.135*\"ПЕРИОД\" + -0.112*\"МНЕНИЕ\" + -0.103*\"КОТОРЫЙ\"\n"
     ]
    },
    {
     "name": "stderr",
     "output_type": "stream",
     "text": [
      "2016-10-11 18:17:12,463 : INFO : topic #3(452.177): 0.317*\"ЧЕЛОВЕК\" + 0.294*\"КОТОРЫЙ\" + -0.222*\"АЛЛАХ\" + -0.220*\"ПОСТ\" + 0.217*\"ИМАМ\" + -0.205*\"РАМАДАН\" + -0.166*\"ДЕНЬ\" + -0.159*\"НАМАЗ\" + 0.143*\"КНИГА\" + -0.141*\"МИР\"\n"
     ]
    },
    {
     "name": "stderr",
     "output_type": "stream",
     "text": [
      "2016-10-11 18:17:12,464 : INFO : topic #4(390.362): -0.487*\"ИМАМ\" + 0.330*\"ЧЕЛОВЕК\" + -0.266*\"УМ\" + -0.256*\"КНИГА\" + -0.247*\"ГОД\" + -0.211*\"УЧЁНЫЙ\" + -0.173*\"АБА\" + -0.142*\"ШЕЙХ\" + -0.130*\"АЛЛАХ\" + -0.125*\"МУХАММАД\"\n"
     ]
    },
    {
     "name": "stderr",
     "output_type": "stream",
     "text": [
      "2016-10-11 18:17:12,555 : INFO : preparing a new chunk of documents\n"
     ]
    },
    {
     "name": "stderr",
     "output_type": "stream",
     "text": [
      "2016-10-11 18:17:12,559 : INFO : using 100 extra samples and 2 power iterations\n"
     ]
    },
    {
     "name": "stderr",
     "output_type": "stream",
     "text": [
      "2016-10-11 18:17:12,561 : INFO : 1st phase: constructing (24774L, 200L) action matrix\n"
     ]
    },
    {
     "name": "stderr",
     "output_type": "stream",
     "text": [
      "2016-10-11 18:17:12,566 : INFO : orthonormalizing (24774L, 200L) action matrix\n"
     ]
    },
    {
     "name": "stderr",
     "output_type": "stream",
     "text": [
      "2016-10-11 18:17:14,101 : INFO : 2nd phase: running dense svd on (200L, 20L) matrix\n"
     ]
    },
    {
     "name": "stderr",
     "output_type": "stream",
     "text": [
      "2016-10-11 18:17:14,131 : INFO : computing the final decomposition\n"
     ]
    },
    {
     "name": "stderr",
     "output_type": "stream",
     "text": [
      "2016-10-11 18:17:14,134 : INFO : keeping 20 factors (discarding 0.000% of energy spectrum)\n"
     ]
    },
    {
     "name": "stderr",
     "output_type": "stream",
     "text": [
      "2016-10-11 18:17:14,157 : INFO : merging projections: (24774L, 100L) + (24774L, 20L)\n"
     ]
    },
    {
     "name": "stderr",
     "output_type": "stream",
     "text": [
      "2016-10-11 18:17:14,224 : INFO : keeping 100 factors (discarding 0.314% of energy spectrum)\n"
     ]
    },
    {
     "name": "stderr",
     "output_type": "stream",
     "text": [
      "2016-10-11 18:17:14,282 : INFO : processed documents up to #3820\n"
     ]
    },
    {
     "name": "stderr",
     "output_type": "stream",
     "text": [
      "2016-10-11 18:17:14,285 : INFO : topic #0(1743.309): 0.495*\"АЛЛАХ\" + 0.267*\"КОТОРЫЙ\" + 0.215*\"ЧЕЛОВЕК\" + 0.180*\"МИР\" + 0.153*\"СВОЙ\" + 0.150*\"СКАЗАТЬ\" + 0.148*\"ПРОРОК\" + 0.135*\"ВОПРОС\" + 0.135*\"ИСТОРИЯ\" + 0.121*\"КОРАН\"\n"
     ]
    },
    {
     "name": "stderr",
     "output_type": "stream",
     "text": [
      "2016-10-11 18:17:14,286 : INFO : topic #1(652.840): -0.629*\"АЛЛАХ\" + 0.183*\"ИСТОРИЯ\" + 0.163*\"РАМАДАН\" + 0.161*\"ИСЛАМСКИЙ\" + -0.157*\"ПОСЛАННИК\" + 0.145*\"САЙТ\" + 0.139*\"ЧИТАТЬ\" + -0.124*\"СКАЗАТЬ\" + 0.118*\"ОБЩЕСТВО\" + 0.112*\"ОТНОШЕНИЕ\"\n"
     ]
    },
    {
     "name": "stderr",
     "output_type": "stream",
     "text": [
      "2016-10-11 18:17:14,289 : INFO : topic #2(555.557): -0.490*\"ИДДА\" + -0.362*\"МУЖ\" + -0.360*\"ЖЕНЩИНА\" + -0.251*\"РАЗВОД\" + -0.214*\"ЖЕНА\" + -0.192*\"СРОК\" + -0.138*\"ДОЛЖНЫЙ\" + -0.135*\"ПЕРИОД\" + -0.111*\"МНЕНИЕ\" + -0.103*\"КОТОРЫЙ\"\n"
     ]
    },
    {
     "name": "stderr",
     "output_type": "stream",
     "text": [
      "2016-10-11 18:17:14,292 : INFO : topic #3(455.564): 0.324*\"ЧЕЛОВЕК\" + 0.302*\"КОТОРЫЙ\" + -0.236*\"АЛЛАХ\" + -0.216*\"ПОСТ\" + 0.205*\"ИМАМ\" + -0.203*\"РАМАДАН\" + -0.160*\"ДЕНЬ\" + -0.157*\"НАМАЗ\" + 0.142*\"СВОЙ\" + 0.137*\"СЛОВО\"\n"
     ]
    },
    {
     "name": "stderr",
     "output_type": "stream",
     "text": [
      "2016-10-11 18:17:14,293 : INFO : topic #4(391.704): -0.491*\"ИМАМ\" + 0.321*\"ЧЕЛОВЕК\" + -0.264*\"УМ\" + -0.259*\"КНИГА\" + -0.247*\"ГОД\" + -0.218*\"УЧЁНЫЙ\" + -0.173*\"АБА\" + -0.150*\"ШЕЙХ\" + -0.132*\"АЛЛАХ\" + -0.124*\"МУХАММАД\"\n"
     ]
    },
    {
     "name": "stderr",
     "output_type": "stream",
     "text": [
      "2016-10-11 18:17:14,400 : INFO : preparing a new chunk of documents\n"
     ]
    },
    {
     "name": "stderr",
     "output_type": "stream",
     "text": [
      "2016-10-11 18:17:14,404 : INFO : using 100 extra samples and 2 power iterations\n"
     ]
    },
    {
     "name": "stderr",
     "output_type": "stream",
     "text": [
      "2016-10-11 18:17:14,405 : INFO : 1st phase: constructing (24774L, 200L) action matrix\n"
     ]
    },
    {
     "name": "stderr",
     "output_type": "stream",
     "text": [
      "2016-10-11 18:17:14,413 : INFO : orthonormalizing (24774L, 200L) action matrix\n"
     ]
    },
    {
     "name": "stderr",
     "output_type": "stream",
     "text": [
      "2016-10-11 18:17:15,969 : INFO : 2nd phase: running dense svd on (200L, 20L) matrix\n"
     ]
    },
    {
     "name": "stderr",
     "output_type": "stream",
     "text": [
      "2016-10-11 18:17:16,000 : INFO : computing the final decomposition\n"
     ]
    },
    {
     "name": "stderr",
     "output_type": "stream",
     "text": [
      "2016-10-11 18:17:16,000 : INFO : keeping 20 factors (discarding 0.000% of energy spectrum)\n"
     ]
    },
    {
     "name": "stderr",
     "output_type": "stream",
     "text": [
      "2016-10-11 18:17:16,023 : INFO : merging projections: (24774L, 100L) + (24774L, 20L)\n"
     ]
    },
    {
     "name": "stderr",
     "output_type": "stream",
     "text": [
      "2016-10-11 18:17:16,092 : INFO : keeping 100 factors (discarding 0.250% of energy spectrum)\n"
     ]
    },
    {
     "name": "stderr",
     "output_type": "stream",
     "text": [
      "2016-10-11 18:17:16,148 : INFO : processed documents up to #3840\n"
     ]
    },
    {
     "name": "stderr",
     "output_type": "stream",
     "text": [
      "2016-10-11 18:17:16,150 : INFO : topic #0(1806.622): 0.490*\"АЛЛАХ\" + 0.271*\"КОТОРЫЙ\" + 0.236*\"ЧЕЛОВЕК\" + 0.180*\"МИР\" + 0.162*\"СВОЙ\" + 0.152*\"СКАЗАТЬ\" + 0.145*\"ПРОРОК\" + 0.131*\"ВОПРОС\" + 0.128*\"ИСТОРИЯ\" + 0.122*\"РАМАДАН\"\n"
     ]
    },
    {
     "name": "stderr",
     "output_type": "stream",
     "text": [
      "2016-10-11 18:17:16,151 : INFO : topic #1(656.979): -0.611*\"АЛЛАХ\" + 0.193*\"ИСТОРИЯ\" + 0.163*\"ИСЛАМСКИЙ\" + 0.160*\"РАМАДАН\" + 0.153*\"САЙТ\" + -0.150*\"ПОСЛАННИК\" + 0.143*\"ЧИТАТЬ\" + -0.128*\"СКАЗАТЬ\" + 0.123*\"ОБЩЕСТВО\" + 0.117*\"ОТНОШЕНИЕ\"\n"
     ]
    },
    {
     "name": "stderr",
     "output_type": "stream",
     "text": [
      "2016-10-11 18:17:16,154 : INFO : topic #2(557.059): -0.486*\"ИДДА\" + -0.362*\"ЖЕНЩИНА\" + -0.358*\"МУЖ\" + -0.247*\"РАЗВОД\" + -0.211*\"ЖЕНА\" + -0.190*\"СРОК\" + -0.143*\"ДОЛЖНЫЙ\" + -0.134*\"ПЕРИОД\" + -0.115*\"КОТОРЫЙ\" + -0.111*\"МНЕНИЕ\"\n"
     ]
    },
    {
     "name": "stderr",
     "output_type": "stream",
     "text": [
      "2016-10-11 18:17:16,155 : INFO : topic #3(471.942): 0.459*\"ЧЕЛОВЕК\" + -0.337*\"АЛЛАХ\" + 0.285*\"КОТОРЫЙ\" + 0.173*\"СВОЙ\" + 0.133*\"ТОТ\" + -0.130*\"НАМАЗ\" + 0.120*\"ТАКОЙ\" + 0.120*\"СЛОВО\" + -0.117*\"ЧИТАТЬ\" + -0.114*\"ИДДА\"\n"
     ]
    },
    {
     "name": "stderr",
     "output_type": "stream",
     "text": [
      "2016-10-11 18:17:16,158 : INFO : topic #4(419.569): -0.384*\"ПОСТ\" + 0.335*\"ИМАМ\" + -0.248*\"ДЕНЬ\" + -0.225*\"ЧЕЛОВЕК\" + -0.212*\"РАМАДАН\" + 0.190*\"КНИГА\" + -0.183*\"МЕСЯЦ\" + -0.181*\"НАМАЗ\" + -0.177*\"МОЛИТВА\" + 0.173*\"УМ\"\n"
     ]
    },
    {
     "name": "stderr",
     "output_type": "stream",
     "text": [
      "2016-10-11 18:17:16,227 : INFO : preparing a new chunk of documents\n"
     ]
    },
    {
     "name": "stderr",
     "output_type": "stream",
     "text": [
      "2016-10-11 18:17:16,230 : INFO : using 100 extra samples and 2 power iterations\n"
     ]
    },
    {
     "name": "stderr",
     "output_type": "stream",
     "text": [
      "2016-10-11 18:17:16,232 : INFO : 1st phase: constructing (24774L, 200L) action matrix\n"
     ]
    },
    {
     "name": "stderr",
     "output_type": "stream",
     "text": [
      "2016-10-11 18:17:16,237 : INFO : orthonormalizing (24774L, 200L) action matrix\n"
     ]
    },
    {
     "name": "stderr",
     "output_type": "stream",
     "text": [
      "2016-10-11 18:17:17,776 : INFO : 2nd phase: running dense svd on (200L, 20L) matrix\n"
     ]
    },
    {
     "name": "stderr",
     "output_type": "stream",
     "text": [
      "2016-10-11 18:17:17,805 : INFO : computing the final decomposition\n"
     ]
    },
    {
     "name": "stderr",
     "output_type": "stream",
     "text": [
      "2016-10-11 18:17:17,806 : INFO : keeping 20 factors (discarding 0.000% of energy spectrum)\n"
     ]
    },
    {
     "name": "stderr",
     "output_type": "stream",
     "text": [
      "2016-10-11 18:17:17,831 : INFO : merging projections: (24774L, 100L) + (24774L, 20L)\n"
     ]
    },
    {
     "name": "stderr",
     "output_type": "stream",
     "text": [
      "2016-10-11 18:17:17,900 : INFO : keeping 100 factors (discarding 0.240% of energy spectrum)\n"
     ]
    },
    {
     "name": "stderr",
     "output_type": "stream",
     "text": [
      "2016-10-11 18:17:17,957 : INFO : processed documents up to #3860\n"
     ]
    },
    {
     "name": "stderr",
     "output_type": "stream",
     "text": [
      "2016-10-11 18:17:17,960 : INFO : topic #0(1814.548): 0.490*\"АЛЛАХ\" + 0.271*\"КОТОРЫЙ\" + 0.236*\"ЧЕЛОВЕК\" + 0.180*\"МИР\" + 0.162*\"СВОЙ\" + 0.153*\"СКАЗАТЬ\" + 0.145*\"ПРОРОК\" + 0.130*\"ВОПРОС\" + 0.128*\"ИСТОРИЯ\" + 0.122*\"РАМАДАН\"\n"
     ]
    },
    {
     "name": "stderr",
     "output_type": "stream",
     "text": [
      "2016-10-11 18:17:17,961 : INFO : topic #1(658.337): -0.611*\"АЛЛАХ\" + 0.193*\"ИСТОРИЯ\" + 0.163*\"ИСЛАМСКИЙ\" + 0.159*\"РАМАДАН\" + 0.154*\"САЙТ\" + -0.150*\"ПОСЛАННИК\" + 0.142*\"ЧИТАТЬ\" + -0.129*\"СКАЗАТЬ\" + 0.124*\"ОБЩЕСТВО\" + 0.116*\"ОТНОШЕНИЕ\"\n"
     ]
    },
    {
     "name": "stderr",
     "output_type": "stream",
     "text": [
      "2016-10-11 18:17:17,963 : INFO : topic #2(557.335): -0.485*\"ИДДА\" + -0.362*\"ЖЕНЩИНА\" + -0.358*\"МУЖ\" + -0.247*\"РАЗВОД\" + -0.211*\"ЖЕНА\" + -0.190*\"СРОК\" + -0.143*\"ДОЛЖНЫЙ\" + -0.134*\"ПЕРИОД\" + -0.117*\"КОТОРЫЙ\" + -0.111*\"МНЕНИЕ\"\n"
     ]
    },
    {
     "name": "stderr",
     "output_type": "stream",
     "text": [
      "2016-10-11 18:17:17,966 : INFO : topic #3(475.484): 0.457*\"ЧЕЛОВЕК\" + -0.335*\"АЛЛАХ\" + 0.287*\"КОТОРЫЙ\" + 0.167*\"СВОЙ\" + 0.132*\"ТОТ\" + -0.126*\"НАМАЗ\" + 0.123*\"СЛОВО\" + 0.121*\"ТАКОЙ\" + -0.116*\"ЧИТАТЬ\" + -0.115*\"ИДДА\"\n"
     ]
    },
    {
     "name": "stderr",
     "output_type": "stream",
     "text": [
      "2016-10-11 18:17:17,969 : INFO : topic #4(420.341): -0.379*\"ПОСТ\" + 0.338*\"ИМАМ\" + -0.243*\"ДЕНЬ\" + -0.233*\"ЧЕЛОВЕК\" + -0.211*\"РАМАДАН\" + 0.191*\"КНИГА\" + -0.181*\"МЕСЯЦ\" + -0.175*\"НАМАЗ\" + 0.175*\"УМ\" + -0.174*\"МОЛИТВА\"\n"
     ]
    },
    {
     "name": "stderr",
     "output_type": "stream",
     "text": [
      "2016-10-11 18:17:18,052 : INFO : preparing a new chunk of documents\n"
     ]
    },
    {
     "name": "stderr",
     "output_type": "stream",
     "text": [
      "2016-10-11 18:17:18,055 : INFO : using 100 extra samples and 2 power iterations\n"
     ]
    },
    {
     "name": "stderr",
     "output_type": "stream",
     "text": [
      "2016-10-11 18:17:18,055 : INFO : 1st phase: constructing (24774L, 200L) action matrix\n"
     ]
    },
    {
     "name": "stderr",
     "output_type": "stream",
     "text": [
      "2016-10-11 18:17:18,062 : INFO : orthonormalizing (24774L, 200L) action matrix\n"
     ]
    },
    {
     "name": "stderr",
     "output_type": "stream",
     "text": [
      "2016-10-11 18:17:19,608 : INFO : 2nd phase: running dense svd on (200L, 20L) matrix\n"
     ]
    },
    {
     "name": "stderr",
     "output_type": "stream",
     "text": [
      "2016-10-11 18:17:19,635 : INFO : computing the final decomposition\n"
     ]
    },
    {
     "name": "stderr",
     "output_type": "stream",
     "text": [
      "2016-10-11 18:17:19,637 : INFO : keeping 20 factors (discarding 0.000% of energy spectrum)\n"
     ]
    },
    {
     "name": "stderr",
     "output_type": "stream",
     "text": [
      "2016-10-11 18:17:19,660 : INFO : merging projections: (24774L, 100L) + (24774L, 20L)\n"
     ]
    },
    {
     "name": "stderr",
     "output_type": "stream",
     "text": [
      "2016-10-11 18:17:19,727 : INFO : keeping 100 factors (discarding 0.334% of energy spectrum)\n"
     ]
    },
    {
     "name": "stderr",
     "output_type": "stream",
     "text": [
      "2016-10-11 18:17:19,793 : INFO : processed documents up to #3880\n"
     ]
    },
    {
     "name": "stderr",
     "output_type": "stream",
     "text": [
      "2016-10-11 18:17:19,796 : INFO : topic #0(1828.532): 0.491*\"АЛЛАХ\" + 0.271*\"КОТОРЫЙ\" + 0.236*\"ЧЕЛОВЕК\" + 0.180*\"МИР\" + 0.161*\"СВОЙ\" + 0.153*\"СКАЗАТЬ\" + 0.145*\"ПРОРОК\" + 0.131*\"ВОПРОС\" + 0.127*\"ИСТОРИЯ\" + 0.122*\"РАМАДАН\"\n"
     ]
    },
    {
     "name": "stderr",
     "output_type": "stream",
     "text": [
      "2016-10-11 18:17:19,799 : INFO : topic #1(662.168): -0.609*\"АЛЛАХ\" + 0.195*\"ИСТОРИЯ\" + 0.165*\"ИСЛАМСКИЙ\" + 0.159*\"РАМАДАН\" + 0.154*\"САЙТ\" + -0.148*\"ПОСЛАННИК\" + 0.142*\"ЧИТАТЬ\" + -0.128*\"СКАЗАТЬ\" + 0.125*\"ОБЩЕСТВО\" + 0.117*\"ОТНОШЕНИЕ\"\n"
     ]
    },
    {
     "name": "stderr",
     "output_type": "stream",
     "text": [
      "2016-10-11 18:17:19,801 : INFO : topic #2(557.615): -0.486*\"ИДДА\" + -0.363*\"ЖЕНЩИНА\" + -0.358*\"МУЖ\" + -0.248*\"РАЗВОД\" + -0.212*\"ЖЕНА\" + -0.190*\"СРОК\" + -0.143*\"ДОЛЖНЫЙ\" + -0.134*\"ПЕРИОД\" + -0.117*\"КОТОРЫЙ\" + -0.111*\"МНЕНИЕ\"\n"
     ]
    },
    {
     "name": "stderr",
     "output_type": "stream",
     "text": [
      "2016-10-11 18:17:19,802 : INFO : topic #3(476.512): 0.450*\"ЧЕЛОВЕК\" + -0.333*\"АЛЛАХ\" + 0.286*\"КОТОРЫЙ\" + 0.168*\"СВОЙ\" + 0.131*\"ТОТ\" + -0.127*\"НАМАЗ\" + 0.125*\"СЛОВО\" + 0.124*\"ИМАМ\" + 0.120*\"ТАКОЙ\" + -0.118*\"ЧИТАТЬ\"\n"
     ]
    },
    {
     "name": "stderr",
     "output_type": "stream",
     "text": [
      "2016-10-11 18:17:19,805 : INFO : topic #4(424.755): -0.374*\"ПОСТ\" + 0.351*\"ИМАМ\" + -0.238*\"ЧЕЛОВЕК\" + -0.235*\"ДЕНЬ\" + -0.205*\"РАМАДАН\" + 0.193*\"КНИГА\" + 0.180*\"УМ\" + -0.173*\"МЕСЯЦ\" + -0.172*\"МОЛИТВА\" + 0.169*\"УЧЁНЫЙ\"\n"
     ]
    },
    {
     "name": "stderr",
     "output_type": "stream",
     "text": [
      "2016-10-11 18:17:19,888 : INFO : preparing a new chunk of documents\n"
     ]
    },
    {
     "name": "stderr",
     "output_type": "stream",
     "text": [
      "2016-10-11 18:17:19,891 : INFO : using 100 extra samples and 2 power iterations\n"
     ]
    },
    {
     "name": "stderr",
     "output_type": "stream",
     "text": [
      "2016-10-11 18:17:19,892 : INFO : 1st phase: constructing (24774L, 200L) action matrix\n"
     ]
    },
    {
     "name": "stderr",
     "output_type": "stream",
     "text": [
      "2016-10-11 18:17:19,898 : INFO : orthonormalizing (24774L, 200L) action matrix\n"
     ]
    },
    {
     "name": "stderr",
     "output_type": "stream",
     "text": [
      "2016-10-11 18:17:21,482 : INFO : 2nd phase: running dense svd on (200L, 20L) matrix\n"
     ]
    },
    {
     "name": "stderr",
     "output_type": "stream",
     "text": [
      "2016-10-11 18:17:21,510 : INFO : computing the final decomposition\n"
     ]
    },
    {
     "name": "stderr",
     "output_type": "stream",
     "text": [
      "2016-10-11 18:17:21,512 : INFO : keeping 20 factors (discarding 0.000% of energy spectrum)\n"
     ]
    },
    {
     "name": "stderr",
     "output_type": "stream",
     "text": [
      "2016-10-11 18:17:21,532 : INFO : merging projections: (24774L, 100L) + (24774L, 20L)\n"
     ]
    },
    {
     "name": "stderr",
     "output_type": "stream",
     "text": [
      "2016-10-11 18:17:21,602 : INFO : keeping 100 factors (discarding 0.270% of energy spectrum)\n"
     ]
    },
    {
     "name": "stderr",
     "output_type": "stream",
     "text": [
      "2016-10-11 18:17:21,658 : INFO : processed documents up to #3900\n"
     ]
    },
    {
     "name": "stderr",
     "output_type": "stream",
     "text": [
      "2016-10-11 18:17:21,661 : INFO : topic #0(1842.949): 0.492*\"АЛЛАХ\" + 0.270*\"КОТОРЫЙ\" + 0.238*\"ЧЕЛОВЕК\" + 0.180*\"МИР\" + 0.161*\"СВОЙ\" + 0.153*\"СКАЗАТЬ\" + 0.144*\"ПРОРОК\" + 0.130*\"ВОПРОС\" + 0.127*\"ИСТОРИЯ\" + 0.121*\"РАМАДАН\"\n"
     ]
    },
    {
     "name": "stderr",
     "output_type": "stream",
     "text": [
      "2016-10-11 18:17:21,663 : INFO : topic #1(666.327): -0.609*\"АЛЛАХ\" + 0.196*\"ИСТОРИЯ\" + 0.166*\"ИСЛАМСКИЙ\" + 0.160*\"РАМАДАН\" + 0.155*\"САЙТ\" + -0.146*\"ПОСЛАННИК\" + 0.141*\"ЧИТАТЬ\" + -0.128*\"СКАЗАТЬ\" + 0.126*\"ОБЩЕСТВО\" + 0.115*\"ОТНОШЕНИЕ\"\n"
     ]
    },
    {
     "name": "stderr",
     "output_type": "stream",
     "text": [
      "2016-10-11 18:17:21,664 : INFO : topic #2(557.915): -0.486*\"ИДДА\" + -0.363*\"ЖЕНЩИНА\" + -0.359*\"МУЖ\" + -0.248*\"РАЗВОД\" + -0.212*\"ЖЕНА\" + -0.190*\"СРОК\" + -0.143*\"ДОЛЖНЫЙ\" + -0.134*\"ПЕРИОД\" + -0.118*\"КОТОРЫЙ\" + -0.111*\"МНЕНИЕ\"\n"
     ]
    },
    {
     "name": "stderr",
     "output_type": "stream",
     "text": [
      "2016-10-11 18:17:21,667 : INFO : topic #3(477.380): 0.449*\"ЧЕЛОВЕК\" + -0.331*\"АЛЛАХ\" + 0.285*\"КОТОРЫЙ\" + 0.168*\"СВОЙ\" + 0.130*\"ТОТ\" + -0.128*\"НАМАЗ\" + 0.125*\"СЛОВО\" + 0.123*\"ИМАМ\" + 0.120*\"ТАКОЙ\" + -0.119*\"ЧИТАТЬ\"\n"
     ]
    },
    {
     "name": "stderr",
     "output_type": "stream",
     "text": [
      "2016-10-11 18:17:21,670 : INFO : topic #4(425.212): -0.373*\"ПОСТ\" + 0.349*\"ИМАМ\" + -0.241*\"ЧЕЛОВЕК\" + -0.234*\"ДЕНЬ\" + -0.205*\"РАМАДАН\" + 0.192*\"КНИГА\" + 0.179*\"УМ\" + -0.173*\"МЕСЯЦ\" + -0.172*\"МОЛИТВА\" + 0.171*\"УЧЁНЫЙ\"\n"
     ]
    },
    {
     "name": "stderr",
     "output_type": "stream",
     "text": [
      "2016-10-11 18:17:21,785 : INFO : preparing a new chunk of documents\n"
     ]
    },
    {
     "name": "stderr",
     "output_type": "stream",
     "text": [
      "2016-10-11 18:17:21,789 : INFO : using 100 extra samples and 2 power iterations\n"
     ]
    },
    {
     "name": "stderr",
     "output_type": "stream",
     "text": [
      "2016-10-11 18:17:21,790 : INFO : 1st phase: constructing (24774L, 200L) action matrix\n"
     ]
    },
    {
     "name": "stderr",
     "output_type": "stream",
     "text": [
      "2016-10-11 18:17:21,798 : INFO : orthonormalizing (24774L, 200L) action matrix\n"
     ]
    },
    {
     "name": "stderr",
     "output_type": "stream",
     "text": [
      "2016-10-11 18:17:23,371 : INFO : 2nd phase: running dense svd on (200L, 20L) matrix\n"
     ]
    },
    {
     "name": "stderr",
     "output_type": "stream",
     "text": [
      "2016-10-11 18:17:23,403 : INFO : computing the final decomposition\n"
     ]
    },
    {
     "name": "stderr",
     "output_type": "stream",
     "text": [
      "2016-10-11 18:17:23,404 : INFO : keeping 20 factors (discarding 0.000% of energy spectrum)\n"
     ]
    },
    {
     "name": "stderr",
     "output_type": "stream",
     "text": [
      "2016-10-11 18:17:23,428 : INFO : merging projections: (24774L, 100L) + (24774L, 20L)\n"
     ]
    },
    {
     "name": "stderr",
     "output_type": "stream",
     "text": [
      "2016-10-11 18:17:23,497 : INFO : keeping 100 factors (discarding 0.322% of energy spectrum)\n"
     ]
    },
    {
     "name": "stderr",
     "output_type": "stream",
     "text": [
      "2016-10-11 18:17:23,556 : INFO : processed documents up to #3920\n"
     ]
    },
    {
     "name": "stderr",
     "output_type": "stream",
     "text": [
      "2016-10-11 18:17:23,559 : INFO : topic #0(1860.570): 0.492*\"АЛЛАХ\" + 0.270*\"КОТОРЫЙ\" + 0.239*\"ЧЕЛОВЕК\" + 0.180*\"МИР\" + 0.161*\"СВОЙ\" + 0.151*\"СКАЗАТЬ\" + 0.144*\"ПРОРОК\" + 0.129*\"ВОПРОС\" + 0.127*\"ИСТОРИЯ\" + 0.121*\"КОРАН\"\n"
     ]
    },
    {
     "name": "stderr",
     "output_type": "stream",
     "text": [
      "2016-10-11 18:17:23,562 : INFO : topic #1(669.436): -0.608*\"АЛЛАХ\" + 0.197*\"ИСТОРИЯ\" + 0.169*\"ИСЛАМСКИЙ\" + 0.160*\"РАМАДАН\" + 0.155*\"САЙТ\" + -0.145*\"ПОСЛАННИК\" + 0.140*\"ЧИТАТЬ\" + -0.128*\"СКАЗАТЬ\" + 0.126*\"ОБЩЕСТВО\" + 0.113*\"ОТНОШЕНИЕ\"\n"
     ]
    },
    {
     "name": "stderr",
     "output_type": "stream",
     "text": [
      "2016-10-11 18:17:23,563 : INFO : topic #2(558.245): -0.487*\"ИДДА\" + -0.364*\"ЖЕНЩИНА\" + -0.359*\"МУЖ\" + -0.248*\"РАЗВОД\" + -0.213*\"ЖЕНА\" + -0.190*\"СРОК\" + -0.144*\"ДОЛЖНЫЙ\" + -0.134*\"ПЕРИОД\" + -0.118*\"КОТОРЫЙ\" + -0.111*\"МНЕНИЕ\"\n"
     ]
    },
    {
     "name": "stderr",
     "output_type": "stream",
     "text": [
      "2016-10-11 18:17:23,565 : INFO : topic #3(479.174): 0.454*\"ЧЕЛОВЕК\" + -0.328*\"АЛЛАХ\" + 0.282*\"КОТОРЫЙ\" + 0.170*\"СВОЙ\" + -0.131*\"НАМАЗ\" + 0.129*\"ТОТ\" + -0.122*\"ЧИТАТЬ\" + 0.120*\"СЛОВО\" + 0.119*\"ТАКОЙ\" + 0.118*\"ИМАМ\"\n"
     ]
    },
    {
     "name": "stderr",
     "output_type": "stream",
     "text": [
      "2016-10-11 18:17:23,568 : INFO : topic #4(425.463): -0.373*\"ПОСТ\" + 0.349*\"ИМАМ\" + -0.241*\"ЧЕЛОВЕК\" + -0.234*\"ДЕНЬ\" + -0.207*\"РАМАДАН\" + 0.192*\"КНИГА\" + 0.179*\"УМ\" + -0.173*\"МЕСЯЦ\" + 0.171*\"УЧЁНЫЙ\" + -0.171*\"МОЛИТВА\"\n"
     ]
    },
    {
     "name": "stderr",
     "output_type": "stream",
     "text": [
      "2016-10-11 18:17:23,655 : INFO : preparing a new chunk of documents\n"
     ]
    },
    {
     "name": "stderr",
     "output_type": "stream",
     "text": [
      "2016-10-11 18:17:23,661 : INFO : using 100 extra samples and 2 power iterations\n"
     ]
    },
    {
     "name": "stderr",
     "output_type": "stream",
     "text": [
      "2016-10-11 18:17:23,661 : INFO : 1st phase: constructing (24774L, 200L) action matrix\n"
     ]
    },
    {
     "name": "stderr",
     "output_type": "stream",
     "text": [
      "2016-10-11 18:17:23,668 : INFO : orthonormalizing (24774L, 200L) action matrix\n"
     ]
    },
    {
     "name": "stderr",
     "output_type": "stream",
     "text": [
      "2016-10-11 18:17:25,220 : INFO : 2nd phase: running dense svd on (200L, 20L) matrix\n"
     ]
    },
    {
     "name": "stderr",
     "output_type": "stream",
     "text": [
      "2016-10-11 18:17:25,250 : INFO : computing the final decomposition\n"
     ]
    },
    {
     "name": "stderr",
     "output_type": "stream",
     "text": [
      "2016-10-11 18:17:25,252 : INFO : keeping 20 factors (discarding 0.000% of energy spectrum)\n"
     ]
    },
    {
     "name": "stderr",
     "output_type": "stream",
     "text": [
      "2016-10-11 18:17:25,273 : INFO : merging projections: (24774L, 100L) + (24774L, 20L)\n"
     ]
    },
    {
     "name": "stderr",
     "output_type": "stream",
     "text": [
      "2016-10-11 18:17:25,341 : INFO : keeping 100 factors (discarding 0.305% of energy spectrum)\n"
     ]
    },
    {
     "name": "stderr",
     "output_type": "stream",
     "text": [
      "2016-10-11 18:17:25,405 : INFO : processed documents up to #3940\n"
     ]
    },
    {
     "name": "stderr",
     "output_type": "stream",
     "text": [
      "2016-10-11 18:17:25,407 : INFO : topic #0(1869.847): 0.493*\"АЛЛАХ\" + 0.269*\"КОТОРЫЙ\" + 0.239*\"ЧЕЛОВЕК\" + 0.179*\"МИР\" + 0.162*\"СВОЙ\" + 0.152*\"СКАЗАТЬ\" + 0.144*\"ПРОРОК\" + 0.128*\"ВОПРОС\" + 0.127*\"ИСТОРИЯ\" + 0.121*\"КОРАН\"\n"
     ]
    },
    {
     "name": "stderr",
     "output_type": "stream",
     "text": [
      "2016-10-11 18:17:25,411 : INFO : topic #1(671.099): -0.609*\"АЛЛАХ\" + 0.197*\"ИСТОРИЯ\" + 0.169*\"ИСЛАМСКИЙ\" + 0.160*\"РАМАДАН\" + 0.155*\"САЙТ\" + -0.145*\"ПОСЛАННИК\" + 0.140*\"ЧИТАТЬ\" + -0.129*\"СКАЗАТЬ\" + 0.126*\"ОБЩЕСТВО\" + 0.113*\"ОТНОШЕНИЕ\"\n"
     ]
    },
    {
     "name": "stderr",
     "output_type": "stream",
     "text": [
      "2016-10-11 18:17:25,413 : INFO : topic #2(558.418): -0.486*\"ИДДА\" + -0.364*\"ЖЕНЩИНА\" + -0.359*\"МУЖ\" + -0.248*\"РАЗВОД\" + -0.213*\"ЖЕНА\" + -0.190*\"СРОК\" + -0.144*\"ДОЛЖНЫЙ\" + -0.134*\"ПЕРИОД\" + -0.120*\"КОТОРЫЙ\" + -0.111*\"МНЕНИЕ\"\n"
     ]
    },
    {
     "name": "stderr",
     "output_type": "stream",
     "text": [
      "2016-10-11 18:17:25,414 : INFO : topic #3(479.857): 0.454*\"ЧЕЛОВЕК\" + -0.328*\"АЛЛАХ\" + 0.283*\"КОТОРЫЙ\" + 0.170*\"СВОЙ\" + -0.131*\"НАМАЗ\" + 0.129*\"ТОТ\" + -0.123*\"ЧИТАТЬ\" + 0.120*\"СЛОВО\" + 0.119*\"ТАКОЙ\" + -0.116*\"ИДДА\"\n"
     ]
    },
    {
     "name": "stderr",
     "output_type": "stream",
     "text": [
      "2016-10-11 18:17:25,417 : INFO : topic #4(426.337): -0.372*\"ПОСТ\" + 0.351*\"ИМАМ\" + -0.241*\"ЧЕЛОВЕК\" + -0.235*\"ДЕНЬ\" + -0.206*\"РАМАДАН\" + 0.193*\"КНИГА\" + 0.179*\"УМ\" + -0.173*\"МЕСЯЦ\" + -0.170*\"МОЛИТВА\" + 0.170*\"УЧЁНЫЙ\"\n"
     ]
    },
    {
     "name": "stderr",
     "output_type": "stream",
     "text": [
      "2016-10-11 18:17:25,509 : INFO : preparing a new chunk of documents\n"
     ]
    },
    {
     "name": "stderr",
     "output_type": "stream",
     "text": [
      "2016-10-11 18:17:25,515 : INFO : using 100 extra samples and 2 power iterations\n"
     ]
    },
    {
     "name": "stderr",
     "output_type": "stream",
     "text": [
      "2016-10-11 18:17:25,516 : INFO : 1st phase: constructing (24774L, 200L) action matrix\n"
     ]
    },
    {
     "name": "stderr",
     "output_type": "stream",
     "text": [
      "2016-10-11 18:17:25,522 : INFO : orthonormalizing (24774L, 200L) action matrix\n"
     ]
    },
    {
     "name": "stderr",
     "output_type": "stream",
     "text": [
      "2016-10-11 18:17:27,084 : INFO : 2nd phase: running dense svd on (200L, 20L) matrix\n"
     ]
    },
    {
     "name": "stderr",
     "output_type": "stream",
     "text": [
      "2016-10-11 18:17:27,115 : INFO : computing the final decomposition\n"
     ]
    },
    {
     "name": "stderr",
     "output_type": "stream",
     "text": [
      "2016-10-11 18:17:27,117 : INFO : keeping 20 factors (discarding 0.000% of energy spectrum)\n"
     ]
    },
    {
     "name": "stderr",
     "output_type": "stream",
     "text": [
      "2016-10-11 18:17:27,134 : INFO : merging projections: (24774L, 100L) + (24774L, 20L)\n"
     ]
    },
    {
     "name": "stderr",
     "output_type": "stream",
     "text": [
      "2016-10-11 18:17:27,203 : INFO : keeping 100 factors (discarding 0.352% of energy spectrum)\n"
     ]
    },
    {
     "name": "stderr",
     "output_type": "stream",
     "text": [
      "2016-10-11 18:17:27,257 : INFO : processed documents up to #3960\n"
     ]
    },
    {
     "name": "stderr",
     "output_type": "stream",
     "text": [
      "2016-10-11 18:17:27,259 : INFO : topic #0(1883.773): 0.494*\"АЛЛАХ\" + 0.269*\"КОТОРЫЙ\" + 0.239*\"ЧЕЛОВЕК\" + 0.180*\"МИР\" + 0.162*\"СВОЙ\" + 0.153*\"СКАЗАТЬ\" + 0.144*\"ПРОРОК\" + 0.127*\"ВОПРОС\" + 0.127*\"ИСТОРИЯ\" + 0.121*\"КОРАН\"\n"
     ]
    },
    {
     "name": "stderr",
     "output_type": "stream",
     "text": [
      "2016-10-11 18:17:27,262 : INFO : topic #1(674.964): -0.607*\"АЛЛАХ\" + 0.199*\"ИСТОРИЯ\" + 0.170*\"ИСЛАМСКИЙ\" + 0.159*\"РАМАДАН\" + 0.156*\"САЙТ\" + -0.144*\"ПОСЛАННИК\" + 0.140*\"ЧИТАТЬ\" + -0.131*\"СКАЗАТЬ\" + 0.127*\"ОБЩЕСТВО\" + 0.114*\"ОТНОШЕНИЕ\"\n"
     ]
    },
    {
     "name": "stderr",
     "output_type": "stream",
     "text": [
      "2016-10-11 18:17:27,263 : INFO : topic #2(558.904): -0.486*\"ИДДА\" + -0.364*\"ЖЕНЩИНА\" + -0.359*\"МУЖ\" + -0.248*\"РАЗВОД\" + -0.214*\"ЖЕНА\" + -0.190*\"СРОК\" + -0.145*\"ДОЛЖНЫЙ\" + -0.134*\"ПЕРИОД\" + -0.119*\"КОТОРЫЙ\" + -0.111*\"МНЕНИЕ\"\n"
     ]
    },
    {
     "name": "stderr",
     "output_type": "stream",
     "text": [
      "2016-10-11 18:17:27,266 : INFO : topic #3(480.875): 0.457*\"ЧЕЛОВЕК\" + -0.320*\"АЛЛАХ\" + 0.285*\"КОТОРЫЙ\" + 0.171*\"СВОЙ\" + -0.133*\"НАМАЗ\" + 0.128*\"ТОТ\" + -0.123*\"ЧИТАТЬ\" + -0.121*\"РАМАДАН\" + 0.117*\"ТАКОЙ\" + 0.116*\"СЛОВО\"\n"
     ]
    },
    {
     "name": "stderr",
     "output_type": "stream",
     "text": [
      "2016-10-11 18:17:27,269 : INFO : topic #4(429.083): -0.417*\"ПОСТ\" + 0.285*\"ИМАМ\" + -0.264*\"ДЕНЬ\" + -0.215*\"РАМАДАН\" + -0.208*\"ЧЕЛОВЕК\" + -0.206*\"МОЛИТВА\" + -0.189*\"МЕСЯЦ\" + 0.172*\"АЛЛАХ\" + 0.161*\"КНИГА\" + -0.161*\"НАМАЗ\"\n"
     ]
    },
    {
     "name": "stderr",
     "output_type": "stream",
     "text": [
      "2016-10-11 18:17:27,335 : INFO : preparing a new chunk of documents\n"
     ]
    },
    {
     "name": "stderr",
     "output_type": "stream",
     "text": [
      "2016-10-11 18:17:27,339 : INFO : using 100 extra samples and 2 power iterations\n"
     ]
    },
    {
     "name": "stderr",
     "output_type": "stream",
     "text": [
      "2016-10-11 18:17:27,341 : INFO : 1st phase: constructing (24774L, 200L) action matrix\n"
     ]
    },
    {
     "name": "stderr",
     "output_type": "stream",
     "text": [
      "2016-10-11 18:17:27,345 : INFO : orthonormalizing (24774L, 200L) action matrix\n"
     ]
    },
    {
     "name": "stderr",
     "output_type": "stream",
     "text": [
      "2016-10-11 18:17:28,924 : INFO : 2nd phase: running dense svd on (200L, 20L) matrix\n"
     ]
    },
    {
     "name": "stderr",
     "output_type": "stream",
     "text": [
      "2016-10-11 18:17:28,954 : INFO : computing the final decomposition\n"
     ]
    },
    {
     "name": "stderr",
     "output_type": "stream",
     "text": [
      "2016-10-11 18:17:28,957 : INFO : keeping 20 factors (discarding 0.000% of energy spectrum)\n"
     ]
    },
    {
     "name": "stderr",
     "output_type": "stream",
     "text": [
      "2016-10-11 18:17:28,977 : INFO : merging projections: (24774L, 100L) + (24774L, 20L)\n"
     ]
    },
    {
     "name": "stderr",
     "output_type": "stream",
     "text": [
      "2016-10-11 18:17:29,042 : INFO : keeping 100 factors (discarding 0.318% of energy spectrum)\n"
     ]
    },
    {
     "name": "stderr",
     "output_type": "stream",
     "text": [
      "2016-10-11 18:17:29,107 : INFO : processed documents up to #3980\n"
     ]
    },
    {
     "name": "stderr",
     "output_type": "stream",
     "text": [
      "2016-10-11 18:17:29,109 : INFO : topic #0(1888.487): 0.494*\"АЛЛАХ\" + 0.269*\"КОТОРЫЙ\" + 0.238*\"ЧЕЛОВЕК\" + 0.180*\"МИР\" + 0.162*\"СВОЙ\" + 0.153*\"СКАЗАТЬ\" + 0.144*\"ПРОРОК\" + 0.127*\"ИСТОРИЯ\" + 0.127*\"ВОПРОС\" + 0.121*\"КОРАН\"\n"
     ]
    },
    {
     "name": "stderr",
     "output_type": "stream",
     "text": [
      "2016-10-11 18:17:29,111 : INFO : topic #1(675.822): -0.607*\"АЛЛАХ\" + 0.198*\"ИСТОРИЯ\" + 0.170*\"ИСЛАМСКИЙ\" + 0.160*\"РАМАДАН\" + 0.156*\"САЙТ\" + -0.144*\"ПОСЛАННИК\" + 0.140*\"ЧИТАТЬ\" + -0.131*\"СКАЗАТЬ\" + 0.126*\"ОБЩЕСТВО\" + 0.114*\"ОТНОШЕНИЕ\"\n"
     ]
    },
    {
     "name": "stderr",
     "output_type": "stream",
     "text": [
      "2016-10-11 18:17:29,114 : INFO : topic #2(559.120): -0.486*\"ИДДА\" + -0.364*\"ЖЕНЩИНА\" + -0.359*\"МУЖ\" + -0.248*\"РАЗВОД\" + -0.214*\"ЖЕНА\" + -0.190*\"СРОК\" + -0.145*\"ДОЛЖНЫЙ\" + -0.134*\"ПЕРИОД\" + -0.120*\"КОТОРЫЙ\" + -0.111*\"МНЕНИЕ\"\n"
     ]
    },
    {
     "name": "stderr",
     "output_type": "stream",
     "text": [
      "2016-10-11 18:17:29,117 : INFO : topic #3(481.462): 0.456*\"ЧЕЛОВЕК\" + -0.321*\"АЛЛАХ\" + 0.284*\"КОТОРЫЙ\" + 0.171*\"СВОЙ\" + -0.132*\"НАМАЗ\" + 0.128*\"ТОТ\" + -0.122*\"ЧИТАТЬ\" + -0.121*\"РАМАДАН\" + 0.117*\"ТАКОЙ\" + 0.116*\"СЛОВО\"\n"
     ]
    },
    {
     "name": "stderr",
     "output_type": "stream",
     "text": [
      "2016-10-11 18:17:29,118 : INFO : topic #4(429.628): -0.416*\"ПОСТ\" + 0.282*\"ИМАМ\" + -0.266*\"ДЕНЬ\" + -0.214*\"РАМАДАН\" + -0.209*\"МОЛИТВА\" + -0.207*\"ЧЕЛОВЕК\" + -0.189*\"МЕСЯЦ\" + 0.172*\"АЛЛАХ\" + -0.165*\"НАМАЗ\" + 0.160*\"КНИГА\"\n"
     ]
    },
    {
     "name": "stderr",
     "output_type": "stream",
     "text": [
      "2016-10-11 18:17:29,190 : INFO : preparing a new chunk of documents\n"
     ]
    },
    {
     "name": "stderr",
     "output_type": "stream",
     "text": [
      "2016-10-11 18:17:29,194 : INFO : using 100 extra samples and 2 power iterations\n"
     ]
    },
    {
     "name": "stderr",
     "output_type": "stream",
     "text": [
      "2016-10-11 18:17:29,196 : INFO : 1st phase: constructing (24774L, 200L) action matrix\n"
     ]
    },
    {
     "name": "stderr",
     "output_type": "stream",
     "text": [
      "2016-10-11 18:17:29,200 : INFO : orthonormalizing (24774L, 200L) action matrix\n"
     ]
    },
    {
     "name": "stderr",
     "output_type": "stream",
     "text": [
      "2016-10-11 18:17:30,796 : INFO : 2nd phase: running dense svd on (200L, 20L) matrix\n"
     ]
    },
    {
     "name": "stderr",
     "output_type": "stream",
     "text": [
      "2016-10-11 18:17:30,828 : INFO : computing the final decomposition\n"
     ]
    },
    {
     "name": "stderr",
     "output_type": "stream",
     "text": [
      "2016-10-11 18:17:30,829 : INFO : keeping 20 factors (discarding 0.000% of energy spectrum)\n"
     ]
    },
    {
     "name": "stderr",
     "output_type": "stream",
     "text": [
      "2016-10-11 18:17:30,851 : INFO : merging projections: (24774L, 100L) + (24774L, 20L)\n"
     ]
    },
    {
     "name": "stderr",
     "output_type": "stream",
     "text": [
      "2016-10-11 18:17:30,915 : INFO : keeping 100 factors (discarding 0.243% of energy spectrum)\n"
     ]
    },
    {
     "name": "stderr",
     "output_type": "stream",
     "text": [
      "2016-10-11 18:17:30,977 : INFO : processed documents up to #4000\n"
     ]
    },
    {
     "name": "stderr",
     "output_type": "stream",
     "text": [
      "2016-10-11 18:17:30,980 : INFO : topic #0(1898.191): 0.496*\"АЛЛАХ\" + 0.269*\"КОТОРЫЙ\" + 0.237*\"ЧЕЛОВЕК\" + 0.180*\"МИР\" + 0.162*\"СВОЙ\" + 0.153*\"СКАЗАТЬ\" + 0.144*\"ПРОРОК\" + 0.127*\"ИСТОРИЯ\" + 0.126*\"ВОПРОС\" + 0.120*\"КОРАН\"\n"
     ]
    },
    {
     "name": "stderr",
     "output_type": "stream",
     "text": [
      "2016-10-11 18:17:30,983 : INFO : topic #1(678.792): -0.609*\"АЛЛАХ\" + 0.198*\"ИСТОРИЯ\" + 0.170*\"ИСЛАМСКИЙ\" + 0.160*\"РАМАДАН\" + 0.155*\"САЙТ\" + -0.143*\"ПОСЛАННИК\" + 0.139*\"ЧИТАТЬ\" + -0.132*\"СКАЗАТЬ\" + 0.126*\"ОБЩЕСТВО\" + 0.113*\"ОТНОШЕНИЕ\"\n"
     ]
    },
    {
     "name": "stderr",
     "output_type": "stream",
     "text": [
      "2016-10-11 18:17:30,984 : INFO : topic #2(560.453): -0.484*\"ИДДА\" + -0.366*\"ЖЕНЩИНА\" + -0.363*\"МУЖ\" + -0.248*\"РАЗВОД\" + -0.219*\"ЖЕНА\" + -0.189*\"СРОК\" + -0.145*\"ДОЛЖНЫЙ\" + -0.133*\"ПЕРИОД\" + -0.119*\"КОТОРЫЙ\" + -0.110*\"МНЕНИЕ\"\n"
     ]
    },
    {
     "name": "stderr",
     "output_type": "stream",
     "text": [
      "2016-10-11 18:17:30,986 : INFO : topic #3(482.975): 0.459*\"ЧЕЛОВЕК\" + -0.318*\"АЛЛАХ\" + 0.284*\"КОТОРЫЙ\" + 0.169*\"СВОЙ\" + -0.135*\"НАМАЗ\" + 0.130*\"ТОТ\" + -0.122*\"ЧИТАТЬ\" + -0.120*\"РАМАДАН\" + 0.117*\"ТАКОЙ\" + 0.117*\"СЛОВО\"\n"
     ]
    },
    {
     "name": "stderr",
     "output_type": "stream",
     "text": [
      "2016-10-11 18:17:30,989 : INFO : topic #4(430.062): -0.417*\"ПОСТ\" + 0.279*\"ИМАМ\" + -0.269*\"ДЕНЬ\" + -0.214*\"РАМАДАН\" + -0.210*\"МОЛИТВА\" + -0.203*\"ЧЕЛОВЕК\" + -0.190*\"МЕСЯЦ\" + -0.171*\"НАМАЗ\" + 0.167*\"АЛЛАХ\" + 0.160*\"КНИГА\"\n"
     ]
    },
    {
     "name": "stderr",
     "output_type": "stream",
     "text": [
      "2016-10-11 18:17:31,062 : INFO : preparing a new chunk of documents\n"
     ]
    },
    {
     "name": "stderr",
     "output_type": "stream",
     "text": [
      "2016-10-11 18:17:31,065 : INFO : using 100 extra samples and 2 power iterations\n"
     ]
    },
    {
     "name": "stderr",
     "output_type": "stream",
     "text": [
      "2016-10-11 18:17:31,066 : INFO : 1st phase: constructing (24774L, 200L) action matrix\n"
     ]
    },
    {
     "name": "stderr",
     "output_type": "stream",
     "text": [
      "2016-10-11 18:17:31,072 : INFO : orthonormalizing (24774L, 200L) action matrix\n"
     ]
    },
    {
     "name": "stderr",
     "output_type": "stream",
     "text": [
      "2016-10-11 18:17:32,647 : INFO : 2nd phase: running dense svd on (200L, 20L) matrix\n"
     ]
    },
    {
     "name": "stderr",
     "output_type": "stream",
     "text": [
      "2016-10-11 18:17:32,680 : INFO : computing the final decomposition\n"
     ]
    },
    {
     "name": "stderr",
     "output_type": "stream",
     "text": [
      "2016-10-11 18:17:32,680 : INFO : keeping 20 factors (discarding 0.000% of energy spectrum)\n"
     ]
    },
    {
     "name": "stderr",
     "output_type": "stream",
     "text": [
      "2016-10-11 18:17:32,704 : INFO : merging projections: (24774L, 100L) + (24774L, 20L)\n"
     ]
    },
    {
     "name": "stderr",
     "output_type": "stream",
     "text": [
      "2016-10-11 18:17:32,776 : INFO : keeping 100 factors (discarding 0.338% of energy spectrum)\n"
     ]
    },
    {
     "name": "stderr",
     "output_type": "stream",
     "text": [
      "2016-10-11 18:17:32,841 : INFO : processed documents up to #4020\n"
     ]
    },
    {
     "name": "stderr",
     "output_type": "stream",
     "text": [
      "2016-10-11 18:17:32,844 : INFO : topic #0(1905.321): 0.496*\"АЛЛАХ\" + 0.269*\"КОТОРЫЙ\" + 0.237*\"ЧЕЛОВЕК\" + 0.179*\"МИР\" + 0.162*\"СВОЙ\" + 0.153*\"СКАЗАТЬ\" + 0.144*\"ПРОРОК\" + 0.127*\"ИСТОРИЯ\" + 0.126*\"ВОПРОС\" + 0.123*\"КОРАН\"\n"
     ]
    },
    {
     "name": "stderr",
     "output_type": "stream",
     "text": [
      "2016-10-11 18:17:32,845 : INFO : topic #1(681.015): -0.610*\"АЛЛАХ\" + 0.198*\"ИСТОРИЯ\" + 0.170*\"ИСЛАМСКИЙ\" + 0.160*\"РАМАДАН\" + 0.157*\"САЙТ\" + -0.144*\"ПОСЛАННИК\" + 0.138*\"ЧИТАТЬ\" + -0.131*\"СКАЗАТЬ\" + 0.127*\"ОБЩЕСТВО\" + 0.114*\"ОТНОШЕНИЕ\"\n"
     ]
    },
    {
     "name": "stderr",
     "output_type": "stream",
     "text": [
      "2016-10-11 18:17:32,848 : INFO : topic #2(560.777): -0.483*\"ИДДА\" + -0.365*\"ЖЕНЩИНА\" + -0.363*\"МУЖ\" + -0.248*\"РАЗВОД\" + -0.219*\"ЖЕНА\" + -0.189*\"СРОК\" + -0.145*\"ДОЛЖНЫЙ\" + -0.133*\"ПЕРИОД\" + -0.118*\"КОТОРЫЙ\" + -0.110*\"МНЕНИЕ\"\n"
     ]
    },
    {
     "name": "stderr",
     "output_type": "stream",
     "text": [
      "2016-10-11 18:17:32,849 : INFO : topic #3(483.535): 0.460*\"ЧЕЛОВЕК\" + -0.317*\"АЛЛАХ\" + 0.283*\"КОТОРЫЙ\" + 0.169*\"СВОЙ\" + -0.140*\"НАМАЗ\" + 0.131*\"ТОТ\" + -0.122*\"ЧИТАТЬ\" + -0.120*\"РАМАДАН\" + 0.117*\"ТАКОЙ\" + 0.116*\"СЛОВО\"\n"
     ]
    },
    {
     "name": "stderr",
     "output_type": "stream",
     "text": [
      "2016-10-11 18:17:32,851 : INFO : topic #4(430.558): -0.417*\"ПОСТ\" + -0.270*\"ДЕНЬ\" + 0.267*\"ИМАМ\" + -0.221*\"МОЛИТВА\" + -0.211*\"РАМАДАН\" + -0.197*\"ЧЕЛОВЕК\" + -0.190*\"МЕСЯЦ\" + -0.188*\"НАМАЗ\" + 0.169*\"АЛЛАХ\" + 0.154*\"КНИГА\"\n"
     ]
    },
    {
     "name": "stderr",
     "output_type": "stream",
     "text": [
      "2016-10-11 18:17:32,954 : INFO : preparing a new chunk of documents\n"
     ]
    },
    {
     "name": "stderr",
     "output_type": "stream",
     "text": [
      "2016-10-11 18:17:32,959 : INFO : using 100 extra samples and 2 power iterations\n"
     ]
    },
    {
     "name": "stderr",
     "output_type": "stream",
     "text": [
      "2016-10-11 18:17:32,960 : INFO : 1st phase: constructing (24774L, 200L) action matrix\n"
     ]
    },
    {
     "name": "stderr",
     "output_type": "stream",
     "text": [
      "2016-10-11 18:17:32,966 : INFO : orthonormalizing (24774L, 200L) action matrix\n"
     ]
    },
    {
     "name": "stderr",
     "output_type": "stream",
     "text": [
      "2016-10-11 18:17:34,575 : INFO : 2nd phase: running dense svd on (200L, 20L) matrix\n"
     ]
    },
    {
     "name": "stderr",
     "output_type": "stream",
     "text": [
      "2016-10-11 18:17:34,605 : INFO : computing the final decomposition\n"
     ]
    },
    {
     "name": "stderr",
     "output_type": "stream",
     "text": [
      "2016-10-11 18:17:34,608 : INFO : keeping 20 factors (discarding 0.000% of energy spectrum)\n"
     ]
    },
    {
     "name": "stderr",
     "output_type": "stream",
     "text": [
      "2016-10-11 18:17:34,627 : INFO : merging projections: (24774L, 100L) + (24774L, 20L)\n"
     ]
    },
    {
     "name": "stderr",
     "output_type": "stream",
     "text": [
      "2016-10-11 18:17:34,694 : INFO : keeping 100 factors (discarding 0.255% of energy spectrum)\n"
     ]
    },
    {
     "name": "stderr",
     "output_type": "stream",
     "text": [
      "2016-10-11 18:17:34,747 : INFO : processed documents up to #4040\n"
     ]
    },
    {
     "name": "stderr",
     "output_type": "stream",
     "text": [
      "2016-10-11 18:17:34,750 : INFO : topic #0(1924.011): 0.488*\"АЛЛАХ\" + 0.274*\"КОТОРЫЙ\" + 0.242*\"ЧЕЛОВЕК\" + 0.177*\"МИР\" + 0.164*\"СВОЙ\" + 0.150*\"СКАЗАТЬ\" + 0.142*\"ПРОРОК\" + 0.128*\"ВОПРОС\" + 0.126*\"ИСТОРИЯ\" + 0.123*\"КОРАН\"\n"
     ]
    },
    {
     "name": "stderr",
     "output_type": "stream",
     "text": [
      "2016-10-11 18:17:34,753 : INFO : topic #1(688.441): -0.633*\"АЛЛАХ\" + 0.183*\"ИСТОРИЯ\" + 0.163*\"ИСЛАМСКИЙ\" + 0.148*\"САЙТ\" + -0.148*\"ПОСЛАННИК\" + 0.144*\"РАМАДАН\" + -0.135*\"СКАЗАТЬ\" + 0.130*\"ОБЩЕСТВО\" + 0.128*\"ЧИТАТЬ\" + -0.107*\"БЛАГОСЛОВЕНИЕ\"\n"
     ]
    },
    {
     "name": "stderr",
     "output_type": "stream",
     "text": [
      "2016-10-11 18:17:34,755 : INFO : topic #2(562.090): -0.465*\"ИДДА\" + -0.351*\"ЖЕНЩИНА\" + -0.348*\"МУЖ\" + -0.234*\"РАЗВОД\" + -0.208*\"ЖЕНА\" + -0.182*\"СРОК\" + -0.151*\"КОТОРЫЙ\" + -0.145*\"ДОЛЖНЫЙ\" + -0.129*\"ПЕРИОД\" + 0.114*\"ИСТОРИЯ\"\n"
     ]
    },
    {
     "name": "stderr",
     "output_type": "stream",
     "text": [
      "2016-10-11 18:17:34,756 : INFO : topic #3(523.499): 0.418*\"ЧЕЛОВЕК\" + 0.267*\"КОТОРЫЙ\" + -0.235*\"АЛЛАХ\" + -0.172*\"ИДДА\" + 0.150*\"СВОЙ\" + 0.147*\"УЧЁНЫЙ\" + -0.144*\"РАМАДАН\" + -0.139*\"МУЖ\" + 0.137*\"ТАКОЙ\" + -0.136*\"НАМАЗ\"\n"
     ]
    },
    {
     "name": "stderr",
     "output_type": "stream",
     "text": [
      "2016-10-11 18:17:34,759 : INFO : topic #4(431.957): -0.401*\"ПОСТ\" + -0.257*\"ДЕНЬ\" + 0.254*\"ИМАМ\" + -0.250*\"ЧЕЛОВЕК\" + -0.221*\"МОЛИТВА\" + 0.206*\"АЛЛАХ\" + -0.200*\"РАМАДАН\" + -0.182*\"МЕСЯЦ\" + -0.168*\"НАМАЗ\" + 0.145*\"УЧЁНЫЙ\"\n"
     ]
    },
    {
     "name": "stderr",
     "output_type": "stream",
     "text": [
      "2016-10-11 18:17:34,846 : INFO : preparing a new chunk of documents\n"
     ]
    },
    {
     "name": "stderr",
     "output_type": "stream",
     "text": [
      "2016-10-11 18:17:34,851 : INFO : using 100 extra samples and 2 power iterations\n"
     ]
    },
    {
     "name": "stderr",
     "output_type": "stream",
     "text": [
      "2016-10-11 18:17:34,851 : INFO : 1st phase: constructing (24774L, 200L) action matrix\n"
     ]
    },
    {
     "name": "stderr",
     "output_type": "stream",
     "text": [
      "2016-10-11 18:17:34,858 : INFO : orthonormalizing (24774L, 200L) action matrix\n"
     ]
    },
    {
     "name": "stderr",
     "output_type": "stream",
     "text": [
      "2016-10-11 18:17:36,453 : INFO : 2nd phase: running dense svd on (200L, 20L) matrix\n"
     ]
    },
    {
     "name": "stderr",
     "output_type": "stream",
     "text": [
      "2016-10-11 18:17:36,480 : INFO : computing the final decomposition\n"
     ]
    },
    {
     "name": "stderr",
     "output_type": "stream",
     "text": [
      "2016-10-11 18:17:36,482 : INFO : keeping 20 factors (discarding 0.000% of energy spectrum)\n"
     ]
    },
    {
     "name": "stderr",
     "output_type": "stream",
     "text": [
      "2016-10-11 18:17:36,503 : INFO : merging projections: (24774L, 100L) + (24774L, 20L)\n"
     ]
    },
    {
     "name": "stderr",
     "output_type": "stream",
     "text": [
      "2016-10-11 18:17:36,566 : INFO : keeping 100 factors (discarding 0.346% of energy spectrum)\n"
     ]
    },
    {
     "name": "stderr",
     "output_type": "stream",
     "text": [
      "2016-10-11 18:17:36,624 : INFO : processed documents up to #4060\n"
     ]
    },
    {
     "name": "stderr",
     "output_type": "stream",
     "text": [
      "2016-10-11 18:17:36,625 : INFO : topic #0(1931.725): 0.488*\"АЛЛАХ\" + 0.274*\"КОТОРЫЙ\" + 0.241*\"ЧЕЛОВЕК\" + 0.177*\"МИР\" + 0.164*\"СВОЙ\" + 0.150*\"СКАЗАТЬ\" + 0.142*\"ПРОРОК\" + 0.128*\"ВОПРОС\" + 0.127*\"ИСТОРИЯ\" + 0.123*\"КОРАН\"\n"
     ]
    },
    {
     "name": "stderr",
     "output_type": "stream",
     "text": [
      "2016-10-11 18:17:36,628 : INFO : topic #1(690.482): -0.634*\"АЛЛАХ\" + 0.183*\"ИСТОРИЯ\" + 0.163*\"ИСЛАМСКИЙ\" + 0.148*\"САЙТ\" + -0.148*\"ПОСЛАННИК\" + 0.144*\"РАМАДАН\" + -0.134*\"СКАЗАТЬ\" + 0.129*\"ОБЩЕСТВО\" + 0.127*\"ЧИТАТЬ\" + 0.107*\"УЧЁНЫЙ\"\n"
     ]
    },
    {
     "name": "stderr",
     "output_type": "stream",
     "text": [
      "2016-10-11 18:17:36,630 : INFO : topic #2(562.483): -0.463*\"ИДДА\" + -0.351*\"ЖЕНЩИНА\" + -0.347*\"МУЖ\" + -0.233*\"РАЗВОД\" + -0.207*\"ЖЕНА\" + -0.181*\"СРОК\" + -0.154*\"КОТОРЫЙ\" + -0.145*\"ДОЛЖНЫЙ\" + -0.128*\"ПЕРИОД\" + 0.115*\"ИСТОРИЯ\"\n"
     ]
    },
    {
     "name": "stderr",
     "output_type": "stream",
     "text": [
      "2016-10-11 18:17:36,631 : INFO : topic #3(524.140): 0.417*\"ЧЕЛОВЕК\" + 0.265*\"КОТОРЫЙ\" + -0.235*\"АЛЛАХ\" + -0.177*\"ИДДА\" + 0.150*\"СВОЙ\" + 0.147*\"УЧЁНЫЙ\" + -0.143*\"РАМАДАН\" + -0.142*\"МУЖ\" + 0.136*\"ТАКОЙ\" + -0.135*\"НАМАЗ\"\n"
     ]
    },
    {
     "name": "stderr",
     "output_type": "stream",
     "text": [
      "2016-10-11 18:17:36,634 : INFO : topic #4(434.000): -0.376*\"ПОСТ\" + 0.300*\"ИМАМ\" + -0.271*\"ЧЕЛОВЕК\" + -0.239*\"ДЕНЬ\" + 0.203*\"АЛЛАХ\" + -0.202*\"МОЛИТВА\" + -0.196*\"РАМАДАН\" + -0.172*\"МЕСЯЦ\" + 0.162*\"УЧЁНЫЙ\" + -0.159*\"НАМАЗ\"\n"
     ]
    },
    {
     "name": "stderr",
     "output_type": "stream",
     "text": [
      "2016-10-11 18:17:36,707 : INFO : preparing a new chunk of documents\n"
     ]
    },
    {
     "name": "stderr",
     "output_type": "stream",
     "text": [
      "2016-10-11 18:17:36,710 : INFO : using 100 extra samples and 2 power iterations\n"
     ]
    },
    {
     "name": "stderr",
     "output_type": "stream",
     "text": [
      "2016-10-11 18:17:36,711 : INFO : 1st phase: constructing (24774L, 200L) action matrix\n"
     ]
    },
    {
     "name": "stderr",
     "output_type": "stream",
     "text": [
      "2016-10-11 18:17:36,717 : INFO : orthonormalizing (24774L, 200L) action matrix\n"
     ]
    },
    {
     "name": "stderr",
     "output_type": "stream",
     "text": [
      "2016-10-11 18:17:38,334 : INFO : 2nd phase: running dense svd on (200L, 20L) matrix\n"
     ]
    },
    {
     "name": "stderr",
     "output_type": "stream",
     "text": [
      "2016-10-11 18:17:38,364 : INFO : computing the final decomposition\n"
     ]
    },
    {
     "name": "stderr",
     "output_type": "stream",
     "text": [
      "2016-10-11 18:17:38,365 : INFO : keeping 20 factors (discarding 0.000% of energy spectrum)\n"
     ]
    },
    {
     "name": "stderr",
     "output_type": "stream",
     "text": [
      "2016-10-11 18:17:38,390 : INFO : merging projections: (24774L, 100L) + (24774L, 20L)\n"
     ]
    },
    {
     "name": "stderr",
     "output_type": "stream",
     "text": [
      "2016-10-11 18:17:38,457 : INFO : keeping 100 factors (discarding 0.236% of energy spectrum)\n"
     ]
    },
    {
     "name": "stderr",
     "output_type": "stream",
     "text": [
      "2016-10-11 18:17:38,520 : INFO : processed documents up to #4080\n"
     ]
    },
    {
     "name": "stderr",
     "output_type": "stream",
     "text": [
      "2016-10-11 18:17:38,523 : INFO : topic #0(1935.948): 0.487*\"АЛЛАХ\" + 0.274*\"КОТОРЫЙ\" + 0.241*\"ЧЕЛОВЕК\" + 0.177*\"МИР\" + 0.164*\"СВОЙ\" + 0.150*\"СКАЗАТЬ\" + 0.142*\"ПРОРОК\" + 0.128*\"ВОПРОС\" + 0.127*\"ИСТОРИЯ\" + 0.123*\"КОРАН\"\n"
     ]
    },
    {
     "name": "stderr",
     "output_type": "stream",
     "text": [
      "2016-10-11 18:17:38,525 : INFO : topic #1(692.328): -0.635*\"АЛЛАХ\" + 0.183*\"ИСТОРИЯ\" + 0.163*\"ИСЛАМСКИЙ\" + 0.148*\"САЙТ\" + -0.148*\"ПОСЛАННИК\" + 0.143*\"РАМАДАН\" + -0.135*\"СКАЗАТЬ\" + 0.129*\"ОБЩЕСТВО\" + 0.126*\"ЧИТАТЬ\" + -0.108*\"БЛАГОСЛОВЕНИЕ\"\n"
     ]
    },
    {
     "name": "stderr",
     "output_type": "stream",
     "text": [
      "2016-10-11 18:17:38,526 : INFO : topic #2(562.762): -0.462*\"ИДДА\" + -0.350*\"ЖЕНЩИНА\" + -0.346*\"МУЖ\" + -0.232*\"РАЗВОД\" + -0.207*\"ЖЕНА\" + -0.181*\"СРОК\" + -0.157*\"КОТОРЫЙ\" + -0.145*\"ДОЛЖНЫЙ\" + -0.128*\"ПЕРИОД\" + 0.116*\"ИСТОРИЯ\"\n"
     ]
    },
    {
     "name": "stderr",
     "output_type": "stream",
     "text": [
      "2016-10-11 18:17:38,529 : INFO : topic #3(524.902): 0.418*\"ЧЕЛОВЕК\" + 0.264*\"КОТОРЫЙ\" + -0.233*\"АЛЛАХ\" + -0.181*\"ИДДА\" + 0.149*\"СВОЙ\" + 0.145*\"УЧЁНЫЙ\" + -0.145*\"МУЖ\" + -0.143*\"РАМАДАН\" + 0.136*\"ТАКОЙ\" + -0.134*\"НАМАЗ\"\n"
     ]
    },
    {
     "name": "stderr",
     "output_type": "stream",
     "text": [
      "2016-10-11 18:17:38,530 : INFO : topic #4(434.205): -0.375*\"ПОСТ\" + 0.304*\"ИМАМ\" + -0.272*\"ЧЕЛОВЕК\" + -0.238*\"ДЕНЬ\" + 0.201*\"АЛЛАХ\" + -0.200*\"МОЛИТВА\" + -0.196*\"РАМАДАН\" + -0.171*\"МЕСЯЦ\" + 0.164*\"УЧЁНЫЙ\" + 0.161*\"КНИГА\"\n"
     ]
    },
    {
     "name": "stderr",
     "output_type": "stream",
     "text": [
      "2016-10-11 18:17:38,591 : INFO : preparing a new chunk of documents\n"
     ]
    },
    {
     "name": "stderr",
     "output_type": "stream",
     "text": [
      "2016-10-11 18:17:38,594 : INFO : using 100 extra samples and 2 power iterations\n"
     ]
    },
    {
     "name": "stderr",
     "output_type": "stream",
     "text": [
      "2016-10-11 18:17:38,595 : INFO : 1st phase: constructing (24774L, 200L) action matrix\n"
     ]
    },
    {
     "name": "stderr",
     "output_type": "stream",
     "text": [
      "2016-10-11 18:17:38,599 : INFO : orthonormalizing (24774L, 200L) action matrix\n"
     ]
    },
    {
     "name": "stderr",
     "output_type": "stream",
     "text": [
      "2016-10-11 18:17:40,280 : INFO : 2nd phase: running dense svd on (200L, 20L) matrix\n"
     ]
    },
    {
     "name": "stderr",
     "output_type": "stream",
     "text": [
      "2016-10-11 18:17:40,309 : INFO : computing the final decomposition\n"
     ]
    },
    {
     "name": "stderr",
     "output_type": "stream",
     "text": [
      "2016-10-11 18:17:40,311 : INFO : keeping 20 factors (discarding 0.000% of energy spectrum)\n"
     ]
    },
    {
     "name": "stderr",
     "output_type": "stream",
     "text": [
      "2016-10-11 18:17:40,335 : INFO : merging projections: (24774L, 100L) + (24774L, 20L)\n"
     ]
    },
    {
     "name": "stderr",
     "output_type": "stream",
     "text": [
      "2016-10-11 18:17:40,405 : INFO : keeping 100 factors (discarding 0.135% of energy spectrum)\n"
     ]
    },
    {
     "name": "stderr",
     "output_type": "stream",
     "text": [
      "2016-10-11 18:17:40,469 : INFO : processed documents up to #4100\n"
     ]
    },
    {
     "name": "stderr",
     "output_type": "stream",
     "text": [
      "2016-10-11 18:17:40,471 : INFO : topic #0(1938.454): 0.487*\"АЛЛАХ\" + 0.274*\"КОТОРЫЙ\" + 0.241*\"ЧЕЛОВЕК\" + 0.177*\"МИР\" + 0.164*\"СВОЙ\" + 0.150*\"СКАЗАТЬ\" + 0.142*\"ПРОРОК\" + 0.128*\"ВОПРОС\" + 0.127*\"ИСТОРИЯ\" + 0.123*\"КОРАН\"\n"
     ]
    },
    {
     "name": "stderr",
     "output_type": "stream",
     "text": [
      "2016-10-11 18:17:40,473 : INFO : topic #1(693.414): -0.635*\"АЛЛАХ\" + 0.184*\"ИСТОРИЯ\" + 0.163*\"ИСЛАМСКИЙ\" + 0.149*\"САЙТ\" + -0.148*\"ПОСЛАННИК\" + 0.144*\"РАМАДАН\" + -0.135*\"СКАЗАТЬ\" + 0.130*\"ОБЩЕСТВО\" + 0.126*\"ЧИТАТЬ\" + -0.108*\"БЛАГОСЛОВЕНИЕ\"\n"
     ]
    },
    {
     "name": "stderr",
     "output_type": "stream",
     "text": [
      "2016-10-11 18:17:40,476 : INFO : topic #2(563.160): -0.460*\"ИДДА\" + -0.349*\"ЖЕНЩИНА\" + -0.344*\"МУЖ\" + -0.230*\"РАЗВОД\" + -0.205*\"ЖЕНА\" + -0.180*\"СРОК\" + -0.160*\"КОТОРЫЙ\" + -0.145*\"ДОЛЖНЫЙ\" + -0.127*\"ПЕРИОД\" + 0.117*\"ИСТОРИЯ\"\n"
     ]
    },
    {
     "name": "stderr",
     "output_type": "stream",
     "text": [
      "2016-10-11 18:17:40,477 : INFO : topic #3(525.543): 0.418*\"ЧЕЛОВЕК\" + 0.263*\"КОТОРЫЙ\" + -0.233*\"АЛЛАХ\" + -0.186*\"ИДДА\" + 0.149*\"СВОЙ\" + -0.148*\"МУЖ\" + 0.145*\"УЧЁНЫЙ\" + -0.142*\"РАМАДАН\" + 0.135*\"ТАКОЙ\" + -0.132*\"НАМАЗ\"\n"
     ]
    },
    {
     "name": "stderr",
     "output_type": "stream",
     "text": [
      "2016-10-11 18:17:40,480 : INFO : topic #4(434.364): -0.375*\"ПОСТ\" + 0.303*\"ИМАМ\" + -0.273*\"ЧЕЛОВЕК\" + -0.238*\"ДЕНЬ\" + 0.201*\"АЛЛАХ\" + -0.200*\"МОЛИТВА\" + -0.196*\"РАМАДАН\" + -0.172*\"МЕСЯЦ\" + 0.163*\"УЧЁНЫЙ\" + 0.160*\"КНИГА\"\n"
     ]
    },
    {
     "name": "stderr",
     "output_type": "stream",
     "text": [
      "2016-10-11 18:17:40,562 : INFO : preparing a new chunk of documents\n"
     ]
    },
    {
     "name": "stderr",
     "output_type": "stream",
     "text": [
      "2016-10-11 18:17:40,565 : INFO : using 100 extra samples and 2 power iterations\n"
     ]
    },
    {
     "name": "stderr",
     "output_type": "stream",
     "text": [
      "2016-10-11 18:17:40,566 : INFO : 1st phase: constructing (24774L, 200L) action matrix\n"
     ]
    },
    {
     "name": "stderr",
     "output_type": "stream",
     "text": [
      "2016-10-11 18:17:40,572 : INFO : orthonormalizing (24774L, 200L) action matrix\n"
     ]
    },
    {
     "name": "stderr",
     "output_type": "stream",
     "text": [
      "2016-10-11 18:17:42,190 : INFO : 2nd phase: running dense svd on (200L, 20L) matrix\n"
     ]
    },
    {
     "name": "stderr",
     "output_type": "stream",
     "text": [
      "2016-10-11 18:17:42,220 : INFO : computing the final decomposition\n"
     ]
    },
    {
     "name": "stderr",
     "output_type": "stream",
     "text": [
      "2016-10-11 18:17:42,221 : INFO : keeping 20 factors (discarding 0.000% of energy spectrum)\n"
     ]
    },
    {
     "name": "stderr",
     "output_type": "stream",
     "text": [
      "2016-10-11 18:17:42,240 : INFO : merging projections: (24774L, 100L) + (24774L, 20L)\n"
     ]
    },
    {
     "name": "stderr",
     "output_type": "stream",
     "text": [
      "2016-10-11 18:17:42,308 : INFO : keeping 100 factors (discarding 0.234% of energy spectrum)\n"
     ]
    },
    {
     "name": "stderr",
     "output_type": "stream",
     "text": [
      "2016-10-11 18:17:42,372 : INFO : processed documents up to #4120\n"
     ]
    },
    {
     "name": "stderr",
     "output_type": "stream",
     "text": [
      "2016-10-11 18:17:42,375 : INFO : topic #0(1944.563): 0.486*\"АЛЛАХ\" + 0.274*\"КОТОРЫЙ\" + 0.241*\"ЧЕЛОВЕК\" + 0.178*\"МИР\" + 0.164*\"СВОЙ\" + 0.150*\"СКАЗАТЬ\" + 0.142*\"ПРОРОК\" + 0.128*\"ВОПРОС\" + 0.128*\"ИСТОРИЯ\" + 0.124*\"КОРАН\"\n"
     ]
    },
    {
     "name": "stderr",
     "output_type": "stream",
     "text": [
      "2016-10-11 18:17:42,377 : INFO : topic #1(695.058): -0.637*\"АЛЛАХ\" + 0.183*\"ИСТОРИЯ\" + 0.163*\"ИСЛАМСКИЙ\" + 0.148*\"САЙТ\" + -0.148*\"ПОСЛАННИК\" + 0.143*\"РАМАДАН\" + -0.136*\"СКАЗАТЬ\" + 0.130*\"ОБЩЕСТВО\" + 0.126*\"ЧИТАТЬ\" + -0.108*\"БЛАГОСЛОВЕНИЕ\"\n"
     ]
    },
    {
     "name": "stderr",
     "output_type": "stream",
     "text": [
      "2016-10-11 18:17:42,380 : INFO : topic #2(563.386): -0.459*\"ИДДА\" + -0.349*\"ЖЕНЩИНА\" + -0.344*\"МУЖ\" + -0.230*\"РАЗВОД\" + -0.205*\"ЖЕНА\" + -0.180*\"СРОК\" + -0.161*\"КОТОРЫЙ\" + -0.146*\"ДОЛЖНЫЙ\" + -0.127*\"ПЕРИОД\" + 0.116*\"ИСТОРИЯ\"\n"
     ]
    },
    {
     "name": "stderr",
     "output_type": "stream",
     "text": [
      "2016-10-11 18:17:42,381 : INFO : topic #3(526.646): 0.418*\"ЧЕЛОВЕК\" + 0.261*\"КОТОРЫЙ\" + -0.231*\"АЛЛАХ\" + -0.187*\"ИДДА\" + 0.150*\"СВОЙ\" + -0.149*\"МУЖ\" + 0.143*\"УЧЁНЫЙ\" + -0.143*\"РАМАДАН\" + 0.134*\"ТАКОЙ\" + -0.132*\"ЖЕНЩИНА\"\n"
     ]
    },
    {
     "name": "stderr",
     "output_type": "stream",
     "text": [
      "2016-10-11 18:17:42,384 : INFO : topic #4(435.712): -0.354*\"ПОСТ\" + 0.333*\"ИМАМ\" + -0.285*\"ЧЕЛОВЕК\" + -0.224*\"ДЕНЬ\" + 0.198*\"АЛЛАХ\" + -0.191*\"РАМАДАН\" + -0.184*\"МОЛИТВА\" + 0.176*\"УЧЁНЫЙ\" + 0.173*\"КНИГА\" + 0.168*\"УМ\"\n"
     ]
    },
    {
     "name": "stderr",
     "output_type": "stream",
     "text": [
      "2016-10-11 18:17:42,469 : INFO : preparing a new chunk of documents\n"
     ]
    },
    {
     "name": "stderr",
     "output_type": "stream",
     "text": [
      "2016-10-11 18:17:42,473 : INFO : using 100 extra samples and 2 power iterations\n"
     ]
    },
    {
     "name": "stderr",
     "output_type": "stream",
     "text": [
      "2016-10-11 18:17:42,474 : INFO : 1st phase: constructing (24774L, 200L) action matrix\n"
     ]
    },
    {
     "name": "stderr",
     "output_type": "stream",
     "text": [
      "2016-10-11 18:17:42,480 : INFO : orthonormalizing (24774L, 200L) action matrix\n"
     ]
    },
    {
     "name": "stderr",
     "output_type": "stream",
     "text": [
      "2016-10-11 18:17:44,072 : INFO : 2nd phase: running dense svd on (200L, 20L) matrix\n"
     ]
    },
    {
     "name": "stderr",
     "output_type": "stream",
     "text": [
      "2016-10-11 18:17:44,101 : INFO : computing the final decomposition\n"
     ]
    },
    {
     "name": "stderr",
     "output_type": "stream",
     "text": [
      "2016-10-11 18:17:44,104 : INFO : keeping 20 factors (discarding 0.000% of energy spectrum)\n"
     ]
    },
    {
     "name": "stderr",
     "output_type": "stream",
     "text": [
      "2016-10-11 18:17:44,125 : INFO : merging projections: (24774L, 100L) + (24774L, 20L)\n"
     ]
    },
    {
     "name": "stderr",
     "output_type": "stream",
     "text": [
      "2016-10-11 18:17:44,194 : INFO : keeping 100 factors (discarding 0.285% of energy spectrum)\n"
     ]
    },
    {
     "name": "stderr",
     "output_type": "stream",
     "text": [
      "2016-10-11 18:17:44,259 : INFO : processed documents up to #4140\n"
     ]
    },
    {
     "name": "stderr",
     "output_type": "stream",
     "text": [
      "2016-10-11 18:17:44,260 : INFO : topic #0(1956.997): 0.487*\"АЛЛАХ\" + 0.273*\"КОТОРЫЙ\" + 0.240*\"ЧЕЛОВЕК\" + 0.178*\"МИР\" + 0.163*\"СВОЙ\" + 0.151*\"СКАЗАТЬ\" + 0.142*\"ПРОРОК\" + 0.127*\"ИСТОРИЯ\" + 0.127*\"ВОПРОС\" + 0.124*\"КОРАН\"\n"
     ]
    },
    {
     "name": "stderr",
     "output_type": "stream",
     "text": [
      "2016-10-11 18:17:44,263 : INFO : topic #1(702.689): -0.636*\"АЛЛАХ\" + 0.182*\"ИСТОРИЯ\" + 0.164*\"ИСЛАМСКИЙ\" + -0.147*\"ПОСЛАННИК\" + 0.147*\"САЙТ\" + -0.143*\"СКАЗАТЬ\" + 0.141*\"РАМАДАН\" + 0.131*\"ОБЩЕСТВО\" + 0.122*\"ЧИТАТЬ\" + -0.117*\"БЛАГОСЛОВЕНИЕ\"\n"
     ]
    },
    {
     "name": "stderr",
     "output_type": "stream",
     "text": [
      "2016-10-11 18:17:44,266 : INFO : topic #2(563.687): -0.457*\"ИДДА\" + -0.347*\"ЖЕНЩИНА\" + -0.342*\"МУЖ\" + -0.228*\"РАЗВОД\" + -0.204*\"ЖЕНА\" + -0.179*\"СРОК\" + -0.164*\"КОТОРЫЙ\" + -0.146*\"ДОЛЖНЫЙ\" + -0.127*\"ПЕРИОД\" + 0.118*\"ИСТОРИЯ\"\n"
     ]
    },
    {
     "name": "stderr",
     "output_type": "stream",
     "text": [
      "2016-10-11 18:17:44,267 : INFO : topic #3(528.437): 0.418*\"ЧЕЛОВЕК\" + 0.258*\"КОТОРЫЙ\" + -0.216*\"АЛЛАХ\" + -0.194*\"ИДДА\" + -0.154*\"МУЖ\" + 0.148*\"СВОЙ\" + -0.144*\"РАМАДАН\" + 0.143*\"УЧЁНЫЙ\" + -0.137*\"ЖЕНЩИНА\" + 0.133*\"ТАКОЙ\"\n"
     ]
    },
    {
     "name": "stderr",
     "output_type": "stream",
     "text": [
      "2016-10-11 18:17:44,269 : INFO : topic #4(437.006): 0.362*\"ИМАМ\" + -0.330*\"ПОСТ\" + -0.302*\"ЧЕЛОВЕК\" + -0.207*\"ДЕНЬ\" + 0.193*\"УЧЁНЫЙ\" + 0.193*\"АЛЛАХ\" + -0.185*\"РАМАДАН\" + 0.182*\"КНИГА\" + 0.178*\"УМ\" + 0.161*\"ГОД\"\n"
     ]
    },
    {
     "name": "stderr",
     "output_type": "stream",
     "text": [
      "2016-10-11 18:17:44,342 : INFO : preparing a new chunk of documents\n"
     ]
    },
    {
     "name": "stderr",
     "output_type": "stream",
     "text": [
      "2016-10-11 18:17:44,345 : INFO : using 100 extra samples and 2 power iterations\n"
     ]
    },
    {
     "name": "stderr",
     "output_type": "stream",
     "text": [
      "2016-10-11 18:17:44,345 : INFO : 1st phase: constructing (24774L, 200L) action matrix\n"
     ]
    },
    {
     "name": "stderr",
     "output_type": "stream",
     "text": [
      "2016-10-11 18:17:44,351 : INFO : orthonormalizing (24774L, 200L) action matrix\n"
     ]
    },
    {
     "name": "stderr",
     "output_type": "stream",
     "text": [
      "2016-10-11 18:17:45,980 : INFO : 2nd phase: running dense svd on (200L, 20L) matrix\n"
     ]
    },
    {
     "name": "stderr",
     "output_type": "stream",
     "text": [
      "2016-10-11 18:17:46,013 : INFO : computing the final decomposition\n"
     ]
    },
    {
     "name": "stderr",
     "output_type": "stream",
     "text": [
      "2016-10-11 18:17:46,013 : INFO : keeping 20 factors (discarding 0.000% of energy spectrum)\n"
     ]
    },
    {
     "name": "stderr",
     "output_type": "stream",
     "text": [
      "2016-10-11 18:17:46,032 : INFO : merging projections: (24774L, 100L) + (24774L, 20L)\n"
     ]
    },
    {
     "name": "stderr",
     "output_type": "stream",
     "text": [
      "2016-10-11 18:17:46,101 : INFO : keeping 100 factors (discarding 0.166% of energy spectrum)\n"
     ]
    },
    {
     "name": "stderr",
     "output_type": "stream",
     "text": [
      "2016-10-11 18:17:46,154 : INFO : processed documents up to #4160\n"
     ]
    },
    {
     "name": "stderr",
     "output_type": "stream",
     "text": [
      "2016-10-11 18:17:46,157 : INFO : topic #0(1961.813): 0.488*\"АЛЛАХ\" + 0.273*\"КОТОРЫЙ\" + 0.239*\"ЧЕЛОВЕК\" + 0.178*\"МИР\" + 0.163*\"СВОЙ\" + 0.151*\"СКАЗАТЬ\" + 0.142*\"ПРОРОК\" + 0.127*\"ИСТОРИЯ\" + 0.127*\"ВОПРОС\" + 0.124*\"КОРАН\"\n"
     ]
    },
    {
     "name": "stderr",
     "output_type": "stream",
     "text": [
      "2016-10-11 18:17:46,160 : INFO : topic #1(704.909): -0.637*\"АЛЛАХ\" + 0.182*\"ИСТОРИЯ\" + 0.163*\"ИСЛАМСКИЙ\" + -0.147*\"ПОСЛАННИК\" + 0.146*\"САЙТ\" + -0.142*\"СКАЗАТЬ\" + 0.140*\"РАМАДАН\" + 0.131*\"ОБЩЕСТВО\" + 0.121*\"ЧИТАТЬ\" + -0.118*\"БЛАГОСЛОВЕНИЕ\"\n"
     ]
    },
    {
     "name": "stderr",
     "output_type": "stream",
     "text": [
      "2016-10-11 18:17:46,161 : INFO : topic #2(564.208): -0.452*\"ИДДА\" + -0.344*\"ЖЕНЩИНА\" + -0.338*\"МУЖ\" + -0.225*\"РАЗВОД\" + -0.201*\"ЖЕНА\" + -0.177*\"СРОК\" + -0.171*\"КОТОРЫЙ\" + -0.145*\"ДОЛЖНЫЙ\" + -0.125*\"ПЕРИОД\" + 0.121*\"ИСТОРИЯ\"\n"
     ]
    },
    {
     "name": "stderr",
     "output_type": "stream",
     "text": [
      "2016-10-11 18:17:46,164 : INFO : topic #3(530.416): 0.417*\"ЧЕЛОВЕК\" + 0.254*\"КОТОРЫЙ\" + -0.211*\"АЛЛАХ\" + -0.205*\"ИДДА\" + -0.162*\"МУЖ\" + 0.146*\"СВОЙ\" + -0.145*\"ЖЕНЩИНА\" + -0.145*\"РАМАДАН\" + 0.140*\"УЧЁНЫЙ\" + -0.138*\"РАЗВОД\"\n"
     ]
    },
    {
     "name": "stderr",
     "output_type": "stream",
     "text": [
      "2016-10-11 18:17:46,165 : INFO : topic #4(437.904): -0.346*\"ПОСТ\" + 0.345*\"ИМАМ\" + -0.297*\"ЧЕЛОВЕК\" + -0.220*\"ДЕНЬ\" + 0.198*\"АЛЛАХ\" + -0.188*\"РАМАДАН\" + 0.183*\"УЧЁНЫЙ\" + 0.175*\"КНИГА\" + 0.171*\"УМ\" + -0.169*\"МОЛИТВА\"\n"
     ]
    },
    {
     "name": "stderr",
     "output_type": "stream",
     "text": [
      "2016-10-11 18:17:46,232 : INFO : preparing a new chunk of documents\n"
     ]
    },
    {
     "name": "stderr",
     "output_type": "stream",
     "text": [
      "2016-10-11 18:17:46,234 : INFO : using 100 extra samples and 2 power iterations\n"
     ]
    },
    {
     "name": "stderr",
     "output_type": "stream",
     "text": [
      "2016-10-11 18:17:46,236 : INFO : 1st phase: constructing (24774L, 200L) action matrix\n"
     ]
    },
    {
     "name": "stderr",
     "output_type": "stream",
     "text": [
      "2016-10-11 18:17:46,243 : INFO : orthonormalizing (24774L, 200L) action matrix\n"
     ]
    },
    {
     "name": "stderr",
     "output_type": "stream",
     "text": [
      "2016-10-11 18:17:47,882 : INFO : 2nd phase: running dense svd on (200L, 20L) matrix\n"
     ]
    },
    {
     "name": "stderr",
     "output_type": "stream",
     "text": [
      "2016-10-11 18:17:47,911 : INFO : computing the final decomposition\n"
     ]
    },
    {
     "name": "stderr",
     "output_type": "stream",
     "text": [
      "2016-10-11 18:17:47,914 : INFO : keeping 20 factors (discarding 0.000% of energy spectrum)\n"
     ]
    },
    {
     "name": "stderr",
     "output_type": "stream",
     "text": [
      "2016-10-11 18:17:47,934 : INFO : merging projections: (24774L, 100L) + (24774L, 20L)\n"
     ]
    },
    {
     "name": "stderr",
     "output_type": "stream",
     "text": [
      "2016-10-11 18:17:47,999 : INFO : keeping 100 factors (discarding 0.221% of energy spectrum)\n"
     ]
    },
    {
     "name": "stderr",
     "output_type": "stream",
     "text": [
      "2016-10-11 18:17:48,058 : INFO : processed documents up to #4180\n"
     ]
    },
    {
     "name": "stderr",
     "output_type": "stream",
     "text": [
      "2016-10-11 18:17:48,059 : INFO : topic #0(1966.675): 0.488*\"АЛЛАХ\" + 0.273*\"КОТОРЫЙ\" + 0.238*\"ЧЕЛОВЕК\" + 0.178*\"МИР\" + 0.163*\"СВОЙ\" + 0.151*\"СКАЗАТЬ\" + 0.142*\"ПРОРОК\" + 0.128*\"ИСТОРИЯ\" + 0.127*\"ВОПРОС\" + 0.123*\"КОРАН\"\n"
     ]
    },
    {
     "name": "stderr",
     "output_type": "stream",
     "text": [
      "2016-10-11 18:17:48,062 : INFO : topic #1(706.947): -0.637*\"АЛЛАХ\" + 0.183*\"ИСТОРИЯ\" + 0.163*\"ИСЛАМСКИЙ\" + -0.147*\"ПОСЛАННИК\" + 0.146*\"САЙТ\" + -0.143*\"СКАЗАТЬ\" + 0.140*\"РАМАДАН\" + 0.131*\"ОБЩЕСТВО\" + 0.120*\"ЧИТАТЬ\" + -0.118*\"БЛАГОСЛОВЕНИЕ\"\n"
     ]
    },
    {
     "name": "stderr",
     "output_type": "stream",
     "text": [
      "2016-10-11 18:17:48,063 : INFO : topic #2(564.599): -0.449*\"ИДДА\" + -0.342*\"ЖЕНЩИНА\" + -0.336*\"МУЖ\" + -0.224*\"РАЗВОД\" + -0.200*\"ЖЕНА\" + -0.176*\"СРОК\" + -0.174*\"КОТОРЫЙ\" + -0.145*\"ДОЛЖНЫЙ\" + -0.125*\"ПЕРИОД\" + 0.123*\"ИСТОРИЯ\"\n"
     ]
    },
    {
     "name": "stderr",
     "output_type": "stream",
     "text": [
      "2016-10-11 18:17:48,065 : INFO : topic #3(531.326): 0.417*\"ЧЕЛОВЕК\" + 0.252*\"КОТОРЫЙ\" + -0.210*\"ИДДА\" + -0.209*\"АЛЛАХ\" + -0.166*\"МУЖ\" + -0.149*\"ЖЕНЩИНА\" + 0.146*\"СВОЙ\" + -0.146*\"РАМАДАН\" + -0.140*\"РАЗВОД\" + 0.139*\"УЧЁНЫЙ\"\n"
     ]
    },
    {
     "name": "stderr",
     "output_type": "stream",
     "text": [
      "2016-10-11 18:17:48,068 : INFO : topic #4(439.724): -0.358*\"ПОСТ\" + 0.329*\"ИМАМ\" + -0.290*\"ЧЕЛОВЕК\" + -0.227*\"ДЕНЬ\" + 0.203*\"АЛЛАХ\" + -0.192*\"РАМАДАН\" + -0.178*\"МОЛИТВА\" + 0.174*\"УЧЁНЫЙ\" + -0.170*\"МЕСЯЦ\" + 0.170*\"КНИГА\"\n"
     ]
    },
    {
     "name": "stderr",
     "output_type": "stream",
     "text": [
      "2016-10-11 18:17:48,144 : INFO : preparing a new chunk of documents\n"
     ]
    },
    {
     "name": "stderr",
     "output_type": "stream",
     "text": [
      "2016-10-11 18:17:48,148 : INFO : using 100 extra samples and 2 power iterations\n"
     ]
    },
    {
     "name": "stderr",
     "output_type": "stream",
     "text": [
      "2016-10-11 18:17:48,150 : INFO : 1st phase: constructing (24774L, 200L) action matrix\n"
     ]
    },
    {
     "name": "stderr",
     "output_type": "stream",
     "text": [
      "2016-10-11 18:17:48,155 : INFO : orthonormalizing (24774L, 200L) action matrix\n"
     ]
    },
    {
     "name": "stderr",
     "output_type": "stream",
     "text": [
      "2016-10-11 18:17:49,803 : INFO : 2nd phase: running dense svd on (200L, 20L) matrix\n"
     ]
    },
    {
     "name": "stderr",
     "output_type": "stream",
     "text": [
      "2016-10-11 18:17:49,835 : INFO : computing the final decomposition\n"
     ]
    },
    {
     "name": "stderr",
     "output_type": "stream",
     "text": [
      "2016-10-11 18:17:49,838 : INFO : keeping 20 factors (discarding 0.000% of energy spectrum)\n"
     ]
    },
    {
     "name": "stderr",
     "output_type": "stream",
     "text": [
      "2016-10-11 18:17:49,861 : INFO : merging projections: (24774L, 100L) + (24774L, 20L)\n"
     ]
    },
    {
     "name": "stderr",
     "output_type": "stream",
     "text": [
      "2016-10-11 18:17:49,926 : INFO : keeping 100 factors (discarding 0.229% of energy spectrum)\n"
     ]
    },
    {
     "name": "stderr",
     "output_type": "stream",
     "text": [
      "2016-10-11 18:17:49,980 : INFO : processed documents up to #4200\n"
     ]
    },
    {
     "name": "stderr",
     "output_type": "stream",
     "text": [
      "2016-10-11 18:17:49,982 : INFO : topic #0(1972.020): 0.487*\"АЛЛАХ\" + 0.272*\"КОТОРЫЙ\" + 0.238*\"ЧЕЛОВЕК\" + 0.178*\"МИР\" + 0.163*\"СВОЙ\" + 0.151*\"СКАЗАТЬ\" + 0.142*\"ПРОРОК\" + 0.128*\"ИСТОРИЯ\" + 0.127*\"ВОПРОС\" + 0.123*\"КОРАН\"\n"
     ]
    },
    {
     "name": "stderr",
     "output_type": "stream",
     "text": [
      "2016-10-11 18:17:49,984 : INFO : topic #1(708.130): -0.637*\"АЛЛАХ\" + 0.183*\"ИСТОРИЯ\" + 0.163*\"ИСЛАМСКИЙ\" + -0.147*\"ПОСЛАННИК\" + 0.146*\"САЙТ\" + -0.143*\"СКАЗАТЬ\" + 0.140*\"РАМАДАН\" + 0.131*\"ОБЩЕСТВО\" + 0.119*\"ЧИТАТЬ\" + -0.118*\"БЛАГОСЛОВЕНИЕ\"\n"
     ]
    },
    {
     "name": "stderr",
     "output_type": "stream",
     "text": [
      "2016-10-11 18:17:49,986 : INFO : topic #2(565.998): -0.447*\"ИДДА\" + -0.345*\"ЖЕНЩИНА\" + -0.337*\"МУЖ\" + -0.223*\"РАЗВОД\" + -0.204*\"ЖЕНА\" + -0.175*\"СРОК\" + -0.174*\"КОТОРЫЙ\" + -0.145*\"ДОЛЖНЫЙ\" + -0.124*\"ПЕРИОД\" + 0.122*\"ИСТОРИЯ\"\n"
     ]
    },
    {
     "name": "stderr",
     "output_type": "stream",
     "text": [
      "2016-10-11 18:17:49,989 : INFO : topic #3(531.893): 0.418*\"ЧЕЛОВЕК\" + 0.253*\"КОТОРЫЙ\" + -0.210*\"АЛЛАХ\" + -0.208*\"ИДДА\" + -0.165*\"МУЖ\" + -0.149*\"ЖЕНЩИНА\" + 0.145*\"СВОЙ\" + -0.145*\"РАМАДАН\" + -0.139*\"РАЗВОД\" + 0.139*\"УЧЁНЫЙ\"\n"
     ]
    },
    {
     "name": "stderr",
     "output_type": "stream",
     "text": [
      "2016-10-11 18:17:49,990 : INFO : topic #4(439.835): -0.355*\"ПОСТ\" + 0.332*\"ИМАМ\" + -0.291*\"ЧЕЛОВЕК\" + -0.226*\"ДЕНЬ\" + 0.202*\"АЛЛАХ\" + -0.191*\"РАМАДАН\" + -0.176*\"МОЛИТВА\" + 0.175*\"УЧЁНЫЙ\" + 0.171*\"КНИГА\" + -0.169*\"МЕСЯЦ\"\n"
     ]
    },
    {
     "name": "stderr",
     "output_type": "stream",
     "text": [
      "2016-10-11 18:17:50,075 : INFO : preparing a new chunk of documents\n"
     ]
    },
    {
     "name": "stderr",
     "output_type": "stream",
     "text": [
      "2016-10-11 18:17:50,078 : INFO : using 100 extra samples and 2 power iterations\n"
     ]
    },
    {
     "name": "stderr",
     "output_type": "stream",
     "text": [
      "2016-10-11 18:17:50,079 : INFO : 1st phase: constructing (24774L, 200L) action matrix\n"
     ]
    },
    {
     "name": "stderr",
     "output_type": "stream",
     "text": [
      "2016-10-11 18:17:50,085 : INFO : orthonormalizing (24774L, 200L) action matrix\n"
     ]
    },
    {
     "name": "stderr",
     "output_type": "stream",
     "text": [
      "2016-10-11 18:17:51,717 : INFO : 2nd phase: running dense svd on (200L, 20L) matrix\n"
     ]
    },
    {
     "name": "stderr",
     "output_type": "stream",
     "text": [
      "2016-10-11 18:17:51,749 : INFO : computing the final decomposition\n"
     ]
    },
    {
     "name": "stderr",
     "output_type": "stream",
     "text": [
      "2016-10-11 18:17:51,750 : INFO : keeping 20 factors (discarding 0.000% of energy spectrum)\n"
     ]
    },
    {
     "name": "stderr",
     "output_type": "stream",
     "text": [
      "2016-10-11 18:17:51,773 : INFO : merging projections: (24774L, 100L) + (24774L, 20L)\n"
     ]
    },
    {
     "name": "stderr",
     "output_type": "stream",
     "text": [
      "2016-10-11 18:17:51,838 : INFO : keeping 100 factors (discarding 0.314% of energy spectrum)\n"
     ]
    },
    {
     "name": "stderr",
     "output_type": "stream",
     "text": [
      "2016-10-11 18:17:51,895 : INFO : processed documents up to #4220\n"
     ]
    },
    {
     "name": "stderr",
     "output_type": "stream",
     "text": [
      "2016-10-11 18:17:51,898 : INFO : topic #0(1983.433): 0.489*\"АЛЛАХ\" + 0.271*\"КОТОРЫЙ\" + 0.238*\"ЧЕЛОВЕК\" + 0.179*\"МИР\" + 0.163*\"СВОЙ\" + 0.152*\"СКАЗАТЬ\" + 0.142*\"ПРОРОК\" + 0.128*\"ИСТОРИЯ\" + 0.126*\"ВОПРОС\" + 0.123*\"КОРАН\"\n"
     ]
    },
    {
     "name": "stderr",
     "output_type": "stream",
     "text": [
      "2016-10-11 18:17:51,901 : INFO : topic #1(712.057): -0.637*\"АЛЛАХ\" + 0.183*\"ИСТОРИЯ\" + 0.163*\"ИСЛАМСКИЙ\" + 0.146*\"САЙТ\" + -0.145*\"СКАЗАТЬ\" + -0.145*\"ПОСЛАННИК\" + 0.139*\"РАМАДАН\" + 0.132*\"ОБЩЕСТВО\" + -0.118*\"БЛАГОСЛОВЕНИЕ\" + 0.118*\"ЧИТАТЬ\"\n"
     ]
    },
    {
     "name": "stderr",
     "output_type": "stream",
     "text": [
      "2016-10-11 18:17:51,903 : INFO : topic #2(566.384): -0.444*\"ИДДА\" + -0.343*\"ЖЕНЩИНА\" + -0.335*\"МУЖ\" + -0.221*\"РАЗВОД\" + -0.203*\"ЖЕНА\" + -0.178*\"КОТОРЫЙ\" + -0.174*\"СРОК\" + -0.145*\"ДОЛЖНЫЙ\" + 0.124*\"ИСТОРИЯ\" + -0.123*\"ПЕРИОД\"\n"
     ]
    },
    {
     "name": "stderr",
     "output_type": "stream",
     "text": [
      "2016-10-11 18:17:51,904 : INFO : topic #3(532.858): 0.417*\"ЧЕЛОВЕК\" + 0.251*\"КОТОРЫЙ\" + -0.214*\"ИДДА\" + -0.202*\"АЛЛАХ\" + -0.170*\"МУЖ\" + -0.153*\"ЖЕНЩИНА\" + -0.145*\"РАМАДАН\" + 0.145*\"СВОЙ\" + -0.142*\"РАЗВОД\" + 0.137*\"УЧЁНЫЙ\"\n"
     ]
    },
    {
     "name": "stderr",
     "output_type": "stream",
     "text": [
      "2016-10-11 18:17:51,907 : INFO : topic #4(441.544): -0.373*\"ПОСТ\" + 0.268*\"ИМАМ\" + -0.263*\"ЧЕЛОВЕК\" + -0.248*\"ДЕНЬ\" + -0.236*\"МОЛИТВА\" + 0.217*\"АЛЛАХ\" + -0.191*\"НАМАЗ\" + -0.189*\"РАМАДАН\" + -0.179*\"МЕСЯЦ\" + 0.144*\"КНИГА\"\n"
     ]
    },
    {
     "name": "stderr",
     "output_type": "stream",
     "text": [
      "2016-10-11 18:17:51,971 : INFO : preparing a new chunk of documents\n"
     ]
    },
    {
     "name": "stderr",
     "output_type": "stream",
     "text": [
      "2016-10-11 18:17:51,974 : INFO : using 100 extra samples and 2 power iterations\n"
     ]
    },
    {
     "name": "stderr",
     "output_type": "stream",
     "text": [
      "2016-10-11 18:17:51,976 : INFO : 1st phase: constructing (24774L, 200L) action matrix\n"
     ]
    },
    {
     "name": "stderr",
     "output_type": "stream",
     "text": [
      "2016-10-11 18:17:51,982 : INFO : orthonormalizing (24774L, 200L) action matrix\n"
     ]
    },
    {
     "name": "stderr",
     "output_type": "stream",
     "text": [
      "2016-10-11 18:17:53,625 : INFO : 2nd phase: running dense svd on (200L, 20L) matrix\n"
     ]
    },
    {
     "name": "stderr",
     "output_type": "stream",
     "text": [
      "2016-10-11 18:17:53,655 : INFO : computing the final decomposition\n"
     ]
    },
    {
     "name": "stderr",
     "output_type": "stream",
     "text": [
      "2016-10-11 18:17:53,657 : INFO : keeping 20 factors (discarding 0.000% of energy spectrum)\n"
     ]
    },
    {
     "name": "stderr",
     "output_type": "stream",
     "text": [
      "2016-10-11 18:17:53,680 : INFO : merging projections: (24774L, 100L) + (24774L, 20L)\n"
     ]
    },
    {
     "name": "stderr",
     "output_type": "stream",
     "text": [
      "2016-10-11 18:17:53,752 : INFO : keeping 100 factors (discarding 0.233% of energy spectrum)\n"
     ]
    },
    {
     "name": "stderr",
     "output_type": "stream",
     "text": [
      "2016-10-11 18:17:53,815 : INFO : processed documents up to #4240\n"
     ]
    },
    {
     "name": "stderr",
     "output_type": "stream",
     "text": [
      "2016-10-11 18:17:53,819 : INFO : topic #0(1988.743): 0.489*\"АЛЛАХ\" + 0.271*\"КОТОРЫЙ\" + 0.237*\"ЧЕЛОВЕК\" + 0.179*\"МИР\" + 0.162*\"СВОЙ\" + 0.152*\"СКАЗАТЬ\" + 0.142*\"ПРОРОК\" + 0.128*\"ИСТОРИЯ\" + 0.126*\"ВОПРОС\" + 0.123*\"КОРАН\"\n"
     ]
    },
    {
     "name": "stderr",
     "output_type": "stream",
     "text": [
      "2016-10-11 18:17:53,821 : INFO : topic #1(713.686): -0.638*\"АЛЛАХ\" + 0.183*\"ИСТОРИЯ\" + 0.163*\"ИСЛАМСКИЙ\" + 0.146*\"САЙТ\" + -0.145*\"ПОСЛАННИК\" + -0.144*\"СКАЗАТЬ\" + 0.139*\"РАМАДАН\" + 0.132*\"ОБЩЕСТВО\" + -0.119*\"БЛАГОСЛОВЕНИЕ\" + 0.118*\"ЧИТАТЬ\"\n"
     ]
    },
    {
     "name": "stderr",
     "output_type": "stream",
     "text": [
      "2016-10-11 18:17:53,823 : INFO : topic #2(566.682): -0.441*\"ИДДА\" + -0.341*\"ЖЕНЩИНА\" + -0.333*\"МУЖ\" + -0.220*\"РАЗВОД\" + -0.202*\"ЖЕНА\" + -0.181*\"КОТОРЫЙ\" + -0.173*\"СРОК\" + -0.145*\"ДОЛЖНЫЙ\" + 0.125*\"ИСТОРИЯ\" + -0.123*\"ПЕРИОД\"\n"
     ]
    },
    {
     "name": "stderr",
     "output_type": "stream",
     "text": [
      "2016-10-11 18:17:53,825 : INFO : topic #3(534.086): 0.415*\"ЧЕЛОВЕК\" + 0.251*\"КОТОРЫЙ\" + -0.219*\"ИДДА\" + -0.202*\"АЛЛАХ\" + -0.174*\"МУЖ\" + -0.158*\"ЖЕНЩИНА\" + -0.145*\"РАЗВОД\" + -0.144*\"РАМАДАН\" + 0.144*\"СВОЙ\" + 0.137*\"УЧЁНЫЙ\"\n"
     ]
    },
    {
     "name": "stderr",
     "output_type": "stream",
     "text": [
      "2016-10-11 18:17:53,828 : INFO : topic #4(442.060): -0.371*\"ПОСТ\" + 0.271*\"ИМАМ\" + -0.269*\"ЧЕЛОВЕК\" + -0.245*\"ДЕНЬ\" + -0.233*\"МОЛИТВА\" + 0.216*\"АЛЛАХ\" + -0.190*\"НАМАЗ\" + -0.189*\"РАМАДАН\" + -0.178*\"МЕСЯЦ\" + 0.145*\"УЧЁНЫЙ\"\n"
     ]
    },
    {
     "name": "stderr",
     "output_type": "stream",
     "text": [
      "2016-10-11 18:17:53,911 : INFO : preparing a new chunk of documents\n"
     ]
    },
    {
     "name": "stderr",
     "output_type": "stream",
     "text": [
      "2016-10-11 18:17:53,915 : INFO : using 100 extra samples and 2 power iterations\n"
     ]
    },
    {
     "name": "stderr",
     "output_type": "stream",
     "text": [
      "2016-10-11 18:17:53,917 : INFO : 1st phase: constructing (24774L, 200L) action matrix\n"
     ]
    },
    {
     "name": "stderr",
     "output_type": "stream",
     "text": [
      "2016-10-11 18:17:53,921 : INFO : orthonormalizing (24774L, 200L) action matrix\n"
     ]
    },
    {
     "name": "stderr",
     "output_type": "stream",
     "text": [
      "2016-10-11 18:17:55,584 : INFO : 2nd phase: running dense svd on (200L, 20L) matrix\n"
     ]
    },
    {
     "name": "stderr",
     "output_type": "stream",
     "text": [
      "2016-10-11 18:17:55,615 : INFO : computing the final decomposition\n"
     ]
    },
    {
     "name": "stderr",
     "output_type": "stream",
     "text": [
      "2016-10-11 18:17:55,617 : INFO : keeping 20 factors (discarding 0.000% of energy spectrum)\n"
     ]
    },
    {
     "name": "stderr",
     "output_type": "stream",
     "text": [
      "2016-10-11 18:17:55,640 : INFO : merging projections: (24774L, 100L) + (24774L, 20L)\n"
     ]
    },
    {
     "name": "stderr",
     "output_type": "stream",
     "text": [
      "2016-10-11 18:17:55,707 : INFO : keeping 100 factors (discarding 0.186% of energy spectrum)\n"
     ]
    },
    {
     "name": "stderr",
     "output_type": "stream",
     "text": [
      "2016-10-11 18:17:55,769 : INFO : processed documents up to #4260\n"
     ]
    },
    {
     "name": "stderr",
     "output_type": "stream",
     "text": [
      "2016-10-11 18:17:55,770 : INFO : topic #0(1993.514): 0.490*\"АЛЛАХ\" + 0.271*\"КОТОРЫЙ\" + 0.236*\"ЧЕЛОВЕК\" + 0.179*\"МИР\" + 0.162*\"СВОЙ\" + 0.152*\"СКАЗАТЬ\" + 0.143*\"ПРОРОК\" + 0.128*\"ИСТОРИЯ\" + 0.126*\"ВОПРОС\" + 0.123*\"КОРАН\"\n"
     ]
    },
    {
     "name": "stderr",
     "output_type": "stream",
     "text": [
      "2016-10-11 18:17:55,773 : INFO : topic #1(715.595): -0.639*\"АЛЛАХ\" + 0.182*\"ИСТОРИЯ\" + 0.163*\"ИСЛАМСКИЙ\" + 0.146*\"САЙТ\" + -0.146*\"ПОСЛАННИК\" + -0.143*\"СКАЗАТЬ\" + 0.139*\"РАМАДАН\" + 0.132*\"ОБЩЕСТВО\" + -0.119*\"БЛАГОСЛОВЕНИЕ\" + 0.117*\"ЧИТАТЬ\"\n"
     ]
    },
    {
     "name": "stderr",
     "output_type": "stream",
     "text": [
      "2016-10-11 18:17:55,776 : INFO : topic #2(567.034): -0.438*\"ИДДА\" + -0.338*\"ЖЕНЩИНА\" + -0.331*\"МУЖ\" + -0.217*\"РАЗВОД\" + -0.200*\"ЖЕНА\" + -0.185*\"КОТОРЫЙ\" + -0.172*\"СРОК\" + -0.144*\"ДОЛЖНЫЙ\" + 0.127*\"ИСТОРИЯ\" + -0.122*\"ПЕРИОД\"\n"
     ]
    },
    {
     "name": "stderr",
     "output_type": "stream",
     "text": [
      "2016-10-11 18:17:55,778 : INFO : topic #3(534.997): 0.414*\"ЧЕЛОВЕК\" + 0.248*\"КОТОРЫЙ\" + -0.226*\"ИДДА\" + -0.201*\"АЛЛАХ\" + -0.180*\"МУЖ\" + -0.164*\"ЖЕНЩИНА\" + -0.148*\"РАЗВОД\" + 0.143*\"СВОЙ\" + -0.142*\"РАМАДАН\" + 0.135*\"УЧЁНЫЙ\"\n"
     ]
    },
    {
     "name": "stderr",
     "output_type": "stream",
     "text": [
      "2016-10-11 18:17:55,779 : INFO : topic #4(443.166): -0.373*\"ПОСТ\" + -0.266*\"ЧЕЛОВЕК\" + 0.263*\"ИМАМ\" + -0.246*\"ДЕНЬ\" + -0.237*\"МОЛИТВА\" + 0.214*\"АЛЛАХ\" + -0.198*\"НАМАЗ\" + -0.188*\"РАМАДАН\" + -0.178*\"МЕСЯЦ\" + 0.142*\"УЧЁНЫЙ\"\n"
     ]
    },
    {
     "name": "stderr",
     "output_type": "stream",
     "text": [
      "2016-10-11 18:17:55,855 : INFO : preparing a new chunk of documents\n"
     ]
    },
    {
     "name": "stderr",
     "output_type": "stream",
     "text": [
      "2016-10-11 18:17:55,858 : INFO : using 100 extra samples and 2 power iterations\n"
     ]
    },
    {
     "name": "stderr",
     "output_type": "stream",
     "text": [
      "2016-10-11 18:17:55,859 : INFO : 1st phase: constructing (24774L, 200L) action matrix\n"
     ]
    },
    {
     "name": "stderr",
     "output_type": "stream",
     "text": [
      "2016-10-11 18:17:55,865 : INFO : orthonormalizing (24774L, 200L) action matrix\n"
     ]
    },
    {
     "name": "stderr",
     "output_type": "stream",
     "text": [
      "2016-10-11 18:17:57,502 : INFO : 2nd phase: running dense svd on (200L, 20L) matrix\n"
     ]
    },
    {
     "name": "stderr",
     "output_type": "stream",
     "text": [
      "2016-10-11 18:17:57,535 : INFO : computing the final decomposition\n"
     ]
    },
    {
     "name": "stderr",
     "output_type": "stream",
     "text": [
      "2016-10-11 18:17:57,536 : INFO : keeping 20 factors (discarding 0.000% of energy spectrum)\n"
     ]
    },
    {
     "name": "stderr",
     "output_type": "stream",
     "text": [
      "2016-10-11 18:17:57,559 : INFO : merging projections: (24774L, 100L) + (24774L, 20L)\n"
     ]
    },
    {
     "name": "stderr",
     "output_type": "stream",
     "text": [
      "2016-10-11 18:17:57,628 : INFO : keeping 100 factors (discarding 0.182% of energy spectrum)\n"
     ]
    },
    {
     "name": "stderr",
     "output_type": "stream",
     "text": [
      "2016-10-11 18:17:57,694 : INFO : processed documents up to #4280\n"
     ]
    },
    {
     "name": "stderr",
     "output_type": "stream",
     "text": [
      "2016-10-11 18:17:57,696 : INFO : topic #0(2001.576): 0.491*\"АЛЛАХ\" + 0.270*\"КОТОРЫЙ\" + 0.235*\"ЧЕЛОВЕК\" + 0.179*\"МИР\" + 0.162*\"СВОЙ\" + 0.152*\"СКАЗАТЬ\" + 0.143*\"ПРОРОК\" + 0.128*\"ИСТОРИЯ\" + 0.126*\"ВОПРОС\" + 0.122*\"КОРАН\"\n"
     ]
    },
    {
     "name": "stderr",
     "output_type": "stream",
     "text": [
      "2016-10-11 18:17:57,697 : INFO : topic #1(718.502): -0.641*\"АЛЛАХ\" + 0.181*\"ИСТОРИЯ\" + 0.163*\"ИСЛАМСКИЙ\" + -0.147*\"ПОСЛАННИК\" + 0.146*\"САЙТ\" + -0.141*\"СКАЗАТЬ\" + 0.139*\"РАМАДАН\" + 0.132*\"ОБЩЕСТВО\" + -0.121*\"БЛАГОСЛОВЕНИЕ\" + 0.117*\"ЧИТАТЬ\"\n"
     ]
    },
    {
     "name": "stderr",
     "output_type": "stream",
     "text": [
      "2016-10-11 18:17:57,700 : INFO : topic #2(567.595): -0.435*\"ИДДА\" + -0.339*\"ЖЕНЩИНА\" + -0.329*\"МУЖ\" + -0.216*\"РАЗВОД\" + -0.199*\"ЖЕНА\" + -0.187*\"КОТОРЫЙ\" + -0.171*\"СРОК\" + -0.144*\"ДОЛЖНЫЙ\" + 0.128*\"ИСТОРИЯ\" + -0.121*\"ПЕРИОД\"\n"
     ]
    },
    {
     "name": "stderr",
     "output_type": "stream",
     "text": [
      "2016-10-11 18:17:57,703 : INFO : topic #3(536.224): 0.416*\"ЧЕЛОВЕК\" + 0.248*\"КОТОРЫЙ\" + -0.228*\"ИДДА\" + -0.198*\"АЛЛАХ\" + -0.181*\"МУЖ\" + -0.168*\"ЖЕНЩИНА\" + -0.149*\"РАЗВОД\" + 0.143*\"СВОЙ\" + -0.142*\"РАМАДАН\" + 0.133*\"УЧЁНЫЙ\"\n"
     ]
    },
    {
     "name": "stderr",
     "output_type": "stream",
     "text": [
      "2016-10-11 18:17:57,704 : INFO : topic #4(443.778): -0.368*\"ПОСТ\" + -0.269*\"ЧЕЛОВЕК\" + 0.269*\"ИМАМ\" + -0.242*\"ДЕНЬ\" + -0.235*\"МОЛИТВА\" + 0.210*\"АЛЛАХ\" + -0.204*\"НАМАЗ\" + -0.187*\"РАМАДАН\" + -0.175*\"МЕСЯЦ\" + 0.146*\"УЧЁНЫЙ\"\n"
     ]
    },
    {
     "name": "stderr",
     "output_type": "stream",
     "text": [
      "2016-10-11 18:17:57,721 : INFO : preparing a new chunk of documents\n"
     ]
    },
    {
     "name": "stderr",
     "output_type": "stream",
     "text": [
      "2016-10-11 18:17:57,723 : INFO : using 100 extra samples and 2 power iterations\n"
     ]
    },
    {
     "name": "stderr",
     "output_type": "stream",
     "text": [
      "2016-10-11 18:17:57,724 : INFO : 1st phase: constructing (24774L, 200L) action matrix\n"
     ]
    },
    {
     "name": "stderr",
     "output_type": "stream",
     "text": [
      "2016-10-11 18:17:57,727 : INFO : orthonormalizing (24774L, 200L) action matrix\n"
     ]
    },
    {
     "name": "stderr",
     "output_type": "stream",
     "text": [
      "2016-10-11 18:17:59,372 : INFO : 2nd phase: running dense svd on (200L, 5L) matrix\n"
     ]
    },
    {
     "name": "stderr",
     "output_type": "stream",
     "text": [
      "2016-10-11 18:17:59,467 : INFO : computing the final decomposition\n"
     ]
    },
    {
     "name": "stderr",
     "output_type": "stream",
     "text": [
      "2016-10-11 18:17:59,469 : INFO : keeping 5 factors (discarding 0.000% of energy spectrum)\n"
     ]
    },
    {
     "name": "stderr",
     "output_type": "stream",
     "text": [
      "2016-10-11 18:17:59,483 : INFO : merging projections: (24774L, 100L) + (24774L, 5L)\n"
     ]
    },
    {
     "name": "stderr",
     "output_type": "stream",
     "text": [
      "2016-10-11 18:17:59,536 : INFO : keeping 100 factors (discarding 0.034% of energy spectrum)\n"
     ]
    },
    {
     "name": "stderr",
     "output_type": "stream",
     "text": [
      "2016-10-11 18:17:59,596 : INFO : processed documents up to #4285\n"
     ]
    },
    {
     "name": "stderr",
     "output_type": "stream",
     "text": [
      "2016-10-11 18:17:59,598 : INFO : topic #0(2003.089): 0.492*\"АЛЛАХ\" + 0.270*\"КОТОРЫЙ\" + 0.235*\"ЧЕЛОВЕК\" + 0.179*\"МИР\" + 0.162*\"СВОЙ\" + 0.152*\"СКАЗАТЬ\" + 0.143*\"ПРОРОК\" + 0.128*\"ИСТОРИЯ\" + 0.126*\"ВОПРОС\" + 0.123*\"КОРАН\"\n"
     ]
    },
    {
     "name": "stderr",
     "output_type": "stream",
     "text": [
      "2016-10-11 18:17:59,601 : INFO : topic #1(719.459): -0.641*\"АЛЛАХ\" + 0.181*\"ИСТОРИЯ\" + 0.163*\"ИСЛАМСКИЙ\" + -0.147*\"ПОСЛАННИК\" + 0.146*\"САЙТ\" + -0.142*\"СКАЗАТЬ\" + 0.139*\"РАМАДАН\" + 0.132*\"ОБЩЕСТВО\" + -0.121*\"БЛАГОСЛОВЕНИЕ\" + 0.117*\"ЧИТАТЬ\"\n"
     ]
    },
    {
     "name": "stderr",
     "output_type": "stream",
     "text": [
      "2016-10-11 18:17:59,602 : INFO : topic #2(567.707): -0.434*\"ИДДА\" + -0.339*\"ЖЕНЩИНА\" + -0.328*\"МУЖ\" + -0.215*\"РАЗВОД\" + -0.198*\"ЖЕНА\" + -0.188*\"КОТОРЫЙ\" + -0.170*\"СРОК\" + -0.143*\"ДОЛЖНЫЙ\" + 0.128*\"ИСТОРИЯ\" + -0.121*\"ПЕРИОД\"\n"
     ]
    },
    {
     "name": "stderr",
     "output_type": "stream",
     "text": [
      "2016-10-11 18:17:59,605 : INFO : topic #3(536.395): 0.416*\"ЧЕЛОВЕК\" + 0.247*\"КОТОРЫЙ\" + -0.230*\"ИДДА\" + -0.198*\"АЛЛАХ\" + -0.183*\"МУЖ\" + -0.170*\"ЖЕНЩИНА\" + -0.150*\"РАЗВОД\" + 0.142*\"СВОЙ\" + -0.142*\"РАМАДАН\" + 0.132*\"УЧЁНЫЙ\"\n"
     ]
    },
    {
     "name": "stderr",
     "output_type": "stream",
     "text": [
      "2016-10-11 18:17:59,608 : INFO : topic #4(443.855): -0.369*\"ПОСТ\" + -0.268*\"ЧЕЛОВЕК\" + 0.268*\"ИМАМ\" + -0.242*\"ДЕНЬ\" + -0.235*\"МОЛИТВА\" + 0.210*\"АЛЛАХ\" + -0.204*\"НАМАЗ\" + -0.187*\"РАМАДАН\" + -0.175*\"МЕСЯЦ\" + 0.145*\"УЧЁНЫЙ\"\n"
     ]
    }
   ],
   "source": [
    "lsi = gensim.models.lsimodel.LsiModel(corpus=mm, id2word=id2word, num_topics=100,chunksize=20)"
   ]
  },
  {
   "cell_type": "code",
   "execution_count": 4,
   "metadata": {},
   "outputs": [
    {
     "name": "stderr",
     "output_type": "stream",
     "text": [
      "2016-10-11 17:17:12,051 : INFO : topic #0(2003.092): 0.492*\"АЛЛАХ\" + 0.270*\"КОТОРЫЙ\" + 0.235*\"ЧЕЛОВЕК\" + 0.179*\"МИР\" + 0.162*\"СВОЙ\" + 0.152*\"СКАЗАТЬ\" + 0.143*\"ПРОРОК\" + 0.128*\"ИСТОРИЯ\" + 0.126*\"ВОПРОС\" + 0.123*\"КОРАН\"\n"
     ]
    },
    {
     "name": "stderr",
     "output_type": "stream",
     "text": [
      "2016-10-11 17:17:12,056 : INFO : topic #1(719.525): -0.641*\"АЛЛАХ\" + 0.181*\"ИСТОРИЯ\" + 0.163*\"ИСЛАМСКИЙ\" + -0.147*\"ПОСЛАННИК\" + 0.146*\"САЙТ\" + -0.142*\"СКАЗАТЬ\" + 0.139*\"РАМАДАН\" + 0.132*\"ОБЩЕСТВО\" + -0.121*\"БЛАГОСЛОВЕНИЕ\" + 0.117*\"ЧИТАТЬ\"\n"
     ]
    },
    {
     "name": "stderr",
     "output_type": "stream",
     "text": [
      "2016-10-11 17:17:12,062 : INFO : topic #2(567.763): 0.434*\"ИДДА\" + 0.338*\"ЖЕНЩИНА\" + 0.328*\"МУЖ\" + 0.215*\"РАЗВОД\" + 0.198*\"ЖЕНА\" + 0.188*\"КОТОРЫЙ\" + 0.170*\"СРОК\" + 0.143*\"ДОЛЖНЫЙ\" + -0.129*\"ИСТОРИЯ\" + 0.120*\"ПЕРИОД\"\n"
     ]
    },
    {
     "name": "stderr",
     "output_type": "stream",
     "text": [
      "2016-10-11 17:17:12,066 : INFO : topic #3(536.562): -0.416*\"ЧЕЛОВЕК\" + -0.247*\"КОТОРЫЙ\" + 0.231*\"ИДДА\" + 0.197*\"АЛЛАХ\" + 0.183*\"МУЖ\" + 0.170*\"ЖЕНЩИНА\" + 0.150*\"РАЗВОД\" + -0.142*\"СВОЙ\" + 0.141*\"РАМАДАН\" + -0.133*\"УЧЁНЫЙ\"\n"
     ]
    },
    {
     "name": "stderr",
     "output_type": "stream",
     "text": [
      "2016-10-11 17:17:12,069 : INFO : topic #4(444.125): 0.367*\"ПОСТ\" + -0.271*\"ИМАМ\" + 0.270*\"ЧЕЛОВЕК\" + 0.241*\"ДЕНЬ\" + 0.234*\"МОЛИТВА\" + -0.210*\"АЛЛАХ\" + 0.202*\"НАМАЗ\" + 0.187*\"РАМАДАН\" + 0.174*\"МЕСЯЦ\" + -0.147*\"УЧЁНЫЙ\"\n"
     ]
    },
    {
     "name": "stderr",
     "output_type": "stream",
     "text": [
      "2016-10-11 17:17:12,072 : INFO : topic #5(432.501): -0.409*\"ИМАМ\" + -0.237*\"МОЛИТВА\" + -0.205*\"УЧЁНЫЙ\" + 0.204*\"ЧЕЛОВЕК\" + -0.195*\"ПОСТ\" + -0.185*\"АБА\" + -0.179*\"ГОД\" + -0.176*\"КНИГА\" + -0.172*\"УМ\" + -0.154*\"ДЕНЬ\"\n"
     ]
    },
    {
     "name": "stderr",
     "output_type": "stream",
     "text": [
      "2016-10-11 17:17:12,075 : INFO : topic #6(384.703): -0.697*\"НАМАЗ\" + 0.333*\"ПОСТ\" + -0.163*\"СОВЕРШАТЬ\" + -0.160*\"МОЛИТВА\" + 0.158*\"ДЕНЬ\" + 0.154*\"МЕСЯЦ\" + 0.127*\"РАМАДАН\" + 0.125*\"ВОПРОС\" + 0.116*\"ГОД\" + -0.114*\"ПУТЬ\"\n"
     ]
    },
    {
     "name": "stderr",
     "output_type": "stream",
     "text": [
      "2016-10-11 17:17:12,081 : INFO : topic #7(375.747): -0.529*\"ВОПРОС\" + -0.194*\"ОТВЕТ\" + 0.167*\"МИР\" + -0.160*\"ЧИТАТЬ\" + -0.145*\"ШЕЙХ\" + -0.143*\"ЯВЛЯТЬСЯ\" + -0.139*\"ЗНАТЬ\" + 0.124*\"МЕЧЕТЬ\" + 0.123*\"ИМАМ\" + -0.120*\"ОТВЕТИТЬ\"\n"
     ]
    },
    {
     "name": "stderr",
     "output_type": "stream",
     "text": [
      "2016-10-11 17:17:12,084 : INFO : topic #8(335.754): 0.282*\"БЛАГОСЛОВЕНИЕ\" + 0.277*\"МИР\" + -0.222*\"ИМАМ\" + 0.222*\"МЕЧЕТЬ\" + -0.196*\"ПОСТ\" + -0.177*\"ЧЕЛОВЕК\" + 0.148*\"МУСУЛЬМАНИН\" + -0.142*\"АЯТ\" + -0.142*\"СУРА\" + -0.141*\"ДЕНЬ\"\n"
     ]
    },
    {
     "name": "stderr",
     "output_type": "stream",
     "text": [
      "2016-10-11 17:17:12,086 : INFO : topic #9(312.512): -0.317*\"ГОД\" + 0.258*\"СКАЗАТЬ\" + -0.227*\"НАМАЗ\" + 0.218*\"СЛОВО\" + 0.203*\"ШЕЙХ\" + -0.186*\"СВОЙ\" + -0.161*\"ЧИТАТЬ\" + 0.141*\"ХАДИС\" + 0.133*\"ЯВЛЯТЬСЯ\" + -0.114*\"ВРЕМЯ\"\n"
     ]
    },
    {
     "data": {
      "text/plain": [
       "[(0,\n  u'0.492*\"\\u0410\\u041b\\u041b\\u0410\\u0425\" + 0.270*\"\\u041a\\u041e\\u0422\\u041e\\u0420\\u042b\\u0419\" + 0.235*\"\\u0427\\u0415\\u041b\\u041e\\u0412\\u0415\\u041a\" + 0.179*\"\\u041c\\u0418\\u0420\" + 0.162*\"\\u0421\\u0412\\u041e\\u0419\" + 0.152*\"\\u0421\\u041a\\u0410\\u0417\\u0410\\u0422\\u042c\" + 0.143*\"\\u041f\\u0420\\u041e\\u0420\\u041e\\u041a\" + 0.128*\"\\u0418\\u0421\\u0422\\u041e\\u0420\\u0418\\u042f\" + 0.126*\"\\u0412\\u041e\\u041f\\u0420\\u041e\\u0421\" + 0.123*\"\\u041a\\u041e\\u0420\\u0410\\u041d\"'),\n (1,\n  u'-0.641*\"\\u0410\\u041b\\u041b\\u0410\\u0425\" + 0.181*\"\\u0418\\u0421\\u0422\\u041e\\u0420\\u0418\\u042f\" + 0.163*\"\\u0418\\u0421\\u041b\\u0410\\u041c\\u0421\\u041a\\u0418\\u0419\" + -0.147*\"\\u041f\\u041e\\u0421\\u041b\\u0410\\u041d\\u041d\\u0418\\u041a\" + 0.146*\"\\u0421\\u0410\\u0419\\u0422\" + -0.142*\"\\u0421\\u041a\\u0410\\u0417\\u0410\\u0422\\u042c\" + 0.139*\"\\u0420\\u0410\\u041c\\u0410\\u0414\\u0410\\u041d\" + 0.132*\"\\u041e\\u0411\\u0429\\u0415\\u0421\\u0422\\u0412\\u041e\" + -0.121*\"\\u0411\\u041b\\u0410\\u0413\\u041e\\u0421\\u041b\\u041e\\u0412\\u0415\\u041d\\u0418\\u0415\" + 0.117*\"\\u0427\\u0418\\u0422\\u0410\\u0422\\u042c\"'),\n (2,\n  u'0.434*\"\\u0418\\u0414\\u0414\\u0410\" + 0.338*\"\\u0416\\u0415\\u041d\\u0429\\u0418\\u041d\\u0410\" + 0.328*\"\\u041c\\u0423\\u0416\" + 0.215*\"\\u0420\\u0410\\u0417\\u0412\\u041e\\u0414\" + 0.198*\"\\u0416\\u0415\\u041d\\u0410\" + 0.188*\"\\u041a\\u041e\\u0422\\u041e\\u0420\\u042b\\u0419\" + 0.170*\"\\u0421\\u0420\\u041e\\u041a\" + 0.143*\"\\u0414\\u041e\\u041b\\u0416\\u041d\\u042b\\u0419\" + -0.129*\"\\u0418\\u0421\\u0422\\u041e\\u0420\\u0418\\u042f\" + 0.120*\"\\u041f\\u0415\\u0420\\u0418\\u041e\\u0414\"'),\n (3,\n  u'-0.416*\"\\u0427\\u0415\\u041b\\u041e\\u0412\\u0415\\u041a\" + -0.247*\"\\u041a\\u041e\\u0422\\u041e\\u0420\\u042b\\u0419\" + 0.231*\"\\u0418\\u0414\\u0414\\u0410\" + 0.197*\"\\u0410\\u041b\\u041b\\u0410\\u0425\" + 0.183*\"\\u041c\\u0423\\u0416\" + 0.170*\"\\u0416\\u0415\\u041d\\u0429\\u0418\\u041d\\u0410\" + 0.150*\"\\u0420\\u0410\\u0417\\u0412\\u041e\\u0414\" + -0.142*\"\\u0421\\u0412\\u041e\\u0419\" + 0.141*\"\\u0420\\u0410\\u041c\\u0410\\u0414\\u0410\\u041d\" + -0.133*\"\\u0423\\u0427\\u0401\\u041d\\u042b\\u0419\"'),\n (4,\n  u'0.367*\"\\u041f\\u041e\\u0421\\u0422\" + -0.271*\"\\u0418\\u041c\\u0410\\u041c\" + 0.270*\"\\u0427\\u0415\\u041b\\u041e\\u0412\\u0415\\u041a\" + 0.241*\"\\u0414\\u0415\\u041d\\u042c\" + 0.234*\"\\u041c\\u041e\\u041b\\u0418\\u0422\\u0412\\u0410\" + -0.210*\"\\u0410\\u041b\\u041b\\u0410\\u0425\" + 0.202*\"\\u041d\\u0410\\u041c\\u0410\\u0417\" + 0.187*\"\\u0420\\u0410\\u041c\\u0410\\u0414\\u0410\\u041d\" + 0.174*\"\\u041c\\u0415\\u0421\\u042f\\u0426\" + -0.147*\"\\u0423\\u0427\\u0401\\u041d\\u042b\\u0419\"'),\n (5,\n  u'-0.409*\"\\u0418\\u041c\\u0410\\u041c\" + -0.237*\"\\u041c\\u041e\\u041b\\u0418\\u0422\\u0412\\u0410\" + -0.205*\"\\u0423\\u0427\\u0401\\u041d\\u042b\\u0419\" + 0.204*\"\\u0427\\u0415\\u041b\\u041e\\u0412\\u0415\\u041a\" + -0.195*\"\\u041f\\u041e\\u0421\\u0422\" + -0.185*\"\\u0410\\u0411\\u0410\" + -0.179*\"\\u0413\\u041e\\u0414\" + -0.176*\"\\u041a\\u041d\\u0418\\u0413\\u0410\" + -0.172*\"\\u0423\\u041c\" + -0.154*\"\\u0414\\u0415\\u041d\\u042c\"'),\n (6,\n  u'-0.697*\"\\u041d\\u0410\\u041c\\u0410\\u0417\" + 0.333*\"\\u041f\\u041e\\u0421\\u0422\" + -0.163*\"\\u0421\\u041e\\u0412\\u0415\\u0420\\u0428\\u0410\\u0422\\u042c\" + -0.160*\"\\u041c\\u041e\\u041b\\u0418\\u0422\\u0412\\u0410\" + 0.158*\"\\u0414\\u0415\\u041d\\u042c\" + 0.154*\"\\u041c\\u0415\\u0421\\u042f\\u0426\" + 0.127*\"\\u0420\\u0410\\u041c\\u0410\\u0414\\u0410\\u041d\" + 0.125*\"\\u0412\\u041e\\u041f\\u0420\\u041e\\u0421\" + 0.116*\"\\u0413\\u041e\\u0414\" + -0.114*\"\\u041f\\u0423\\u0422\\u042c\"'),\n (7,\n  u'-0.529*\"\\u0412\\u041e\\u041f\\u0420\\u041e\\u0421\" + -0.194*\"\\u041e\\u0422\\u0412\\u0415\\u0422\" + 0.167*\"\\u041c\\u0418\\u0420\" + -0.160*\"\\u0427\\u0418\\u0422\\u0410\\u0422\\u042c\" + -0.145*\"\\u0428\\u0415\\u0419\\u0425\" + -0.143*\"\\u042f\\u0412\\u041b\\u042f\\u0422\\u042c\\u0421\\u042f\" + -0.139*\"\\u0417\\u041d\\u0410\\u0422\\u042c\" + 0.124*\"\\u041c\\u0415\\u0427\\u0415\\u0422\\u042c\" + 0.123*\"\\u0418\\u041c\\u0410\\u041c\" + -0.120*\"\\u041e\\u0422\\u0412\\u0415\\u0422\\u0418\\u0422\\u042c\"'),\n (8,\n  u'0.282*\"\\u0411\\u041b\\u0410\\u0413\\u041e\\u0421\\u041b\\u041e\\u0412\\u0415\\u041d\\u0418\\u0415\" + 0.277*\"\\u041c\\u0418\\u0420\" + -0.222*\"\\u0418\\u041c\\u0410\\u041c\" + 0.222*\"\\u041c\\u0415\\u0427\\u0415\\u0422\\u042c\" + -0.196*\"\\u041f\\u041e\\u0421\\u0422\" + -0.177*\"\\u0427\\u0415\\u041b\\u041e\\u0412\\u0415\\u041a\" + 0.148*\"\\u041c\\u0423\\u0421\\u0423\\u041b\\u042c\\u041c\\u0410\\u041d\\u0418\\u041d\" + -0.142*\"\\u0410\\u042f\\u0422\" + -0.142*\"\\u0421\\u0423\\u0420\\u0410\" + -0.141*\"\\u0414\\u0415\\u041d\\u042c\"'),\n (9,\n  u'-0.317*\"\\u0413\\u041e\\u0414\" + 0.258*\"\\u0421\\u041a\\u0410\\u0417\\u0410\\u0422\\u042c\" + -0.227*\"\\u041d\\u0410\\u041c\\u0410\\u0417\" + 0.218*\"\\u0421\\u041b\\u041e\\u0412\\u041e\" + 0.203*\"\\u0428\\u0415\\u0419\\u0425\" + -0.186*\"\\u0421\\u0412\\u041e\\u0419\" + -0.161*\"\\u0427\\u0418\\u0422\\u0410\\u0422\\u042c\" + 0.141*\"\\u0425\\u0410\\u0414\\u0418\\u0421\" + 0.133*\"\\u042f\\u0412\\u041b\\u042f\\u0422\\u042c\\u0421\\u042f\" + -0.114*\"\\u0412\\u0420\\u0415\\u041c\\u042f\"')]"
      ]
     },
     "execution_count": 4,
     "metadata": {},
     "output_type": "execute_result"
    }
   ],
   "source": [
    "lsi.print_topics(10)"
   ]
  },
  {
   "cell_type": "code",
   "execution_count": 5,
   "metadata": {},
   "outputs": [
    {
     "name": "stderr",
     "output_type": "stream",
     "text": [
      "2016-10-11 18:25:18,548 : INFO : saving Projection object under C:\\NIVC\\Nivc_GenSim_corpus\\unary_comm\\islamcivilru\\LSA_model\\islamcivilru.model.projection, separately None\n"
     ]
    },
    {
     "name": "stderr",
     "output_type": "stream",
     "text": [
      "2016-10-11 18:25:18,779 : INFO : saving LsiModel object under C:\\NIVC\\Nivc_GenSim_corpus\\unary_comm\\islamcivilru\\LSA_model\\islamcivilru.model, separately None\n"
     ]
    },
    {
     "name": "stderr",
     "output_type": "stream",
     "text": [
      "2016-10-11 18:25:18,779 : INFO : not storing attribute projection\n"
     ]
    },
    {
     "name": "stderr",
     "output_type": "stream",
     "text": [
      "2016-10-11 18:25:18,782 : INFO : not storing attribute dispatcher\n"
     ]
    }
   ],
   "source": [
    "lsi.save(\"C:\\\\NIVC\\\\Nivc_GenSim_corpus\\\\unary_comm\\\\islamcivilru\\\\LSA_model\\\\islamcivilru.model\")"
   ]
  },
  {
   "cell_type": "code",
   "execution_count": 4,
   "metadata": {},
   "outputs": [],
   "source": [
    "topics100 = lsi.show_topics(100,15)\n",
    "topics20 = lsi.show_topics(20,15)"
   ]
  },
  {
   "cell_type": "code",
   "execution_count": null,
   "metadata": {},
   "outputs": [],
   "source": [
    "import io\n",
    "with io.open('C:\\\\NIVC\\\\Nivc_GenSim_corpus\\\\unary_comm\\\\islamcivilru\\\\LSA_topics\\\\20.topics','w',encoding='utf8') as outputTopics:\n",
    "    try:\n",
    "        for topic in topics20:\n",
    "            outputTopics.write(topic)\n",
    "    except Exception as e:\n",
    "        print(e)\n",
    "    outputTopics.close()\n",
    "with io.open('C:\\\\NIVC\\\\Nivc_GenSim_corpus\\\\unary_comm\\\\islamcivilru\\\\LSA_topics\\\\100.topics','w',encoding='utf8') as outputTopics:\n",
    "    try:\n",
    "        for topic in topics100:\n",
    "            outputTopics.write(topic)\n",
    "    except Exception as e:\n",
    "        print(e)\n",
    "    outputTopics.close() "
   ]
  },
  {
   "cell_type": "code",
   "execution_count": null,
   "outputs": [],
   "source": [
    ""
   ]
  }
 ],
 "metadata": {
  "kernelspec": {
   "display_name": "Python 2",
   "language": "python",
   "name": "python2"
  },
  "language_info": {
   "codemirror_mode": {
    "name": "ipython",
    "version": 2.0
   },
   "file_extension": ".py",
   "mimetype": "text/x-python",
   "name": "python",
   "nbconvert_exporter": "python",
   "pygments_lexer": "ipython2",
   "version": "2.7.6"
  }
 },
 "nbformat": 4,
 "nbformat_minor": 0
}