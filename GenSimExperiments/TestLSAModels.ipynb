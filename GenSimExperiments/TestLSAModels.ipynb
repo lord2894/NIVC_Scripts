{
 "cells": [
  {
   "cell_type": "code",
   "execution_count": 2,
   "metadata": {
    "collapsed": true
   },
   "outputs": [
    {
     "name": "stderr",
     "output_type": "stream",
     "text": [
      "2016-10-10 22:35:00,326 : INFO : loading Dictionary object from C:\\NIVC\\Nivc_GenSim_corpus\\unary_comm\\islamcivilru\\mm_pos\\islamcivilru.dict\n"
     ]
    },
    {
     "name": "stderr",
     "output_type": "stream",
     "text": [
      "2016-10-10 22:35:00,338 : INFO : loaded corpus index from C:\\NIVC\\Nivc_GenSim_corpus\\unary_comm\\islamcivilru\\mm_pos\\islamcivilru.mm.index\n"
     ]
    },
    {
     "name": "stderr",
     "output_type": "stream",
     "text": [
      "2016-10-10 22:35:00,338 : INFO : initializing corpus reader from C:\\NIVC\\Nivc_GenSim_corpus\\unary_comm\\islamcivilru\\mm_pos\\islamcivilru.mm\n"
     ]
    },
    {
     "name": "stderr",
     "output_type": "stream",
     "text": [
      "2016-10-10 22:35:00,339 : INFO : accepted corpus with 4285 documents, 24774 features, 1045404 non-zero entries\n"
     ]
    },
    {
     "name": "stdout",
     "output_type": "stream",
     "text": [
      "MmCorpus(4285 documents, 24774 features, 1045404 non-zero entries)\n"
     ]
    }
   ],
   "source": [
    "import logging, gensim, bz2\n",
    "logging.basicConfig(format='%(asctime)s : %(levelname)s : %(message)s', level=logging.INFO)\n",
    "\n",
    "# load id->word mapping (the dictionary), one of the results of step 2 above\n",
    "id2word = gensim.corpora.Dictionary.load('C:\\\\NIVC\\\\Nivc_GenSim_corpus\\\\unary_comm\\\\islamcivilru\\\\mm_pos\\\\islamcivilru.dict')\n",
    "# load corpus iterator\n",
    "mm = gensim.corpora.MmCorpus('C:\\\\NIVC\\\\Nivc_GenSim_corpus\\\\unary_comm\\\\islamcivilru\\\\mm_pos\\\\islamcivilru.mm')\n",
    "\n",
    "print(mm)"
   ]
  },
  {
   "cell_type": "code",
   "execution_count": 4,
   "metadata": {},
   "outputs": [
    {
     "name": "stderr",
     "output_type": "stream",
     "text": [
      "2016-10-10 22:35:28,571 : INFO : using serial LSI version on this node\n"
     ]
    },
    {
     "name": "stderr",
     "output_type": "stream",
     "text": [
      "2016-10-10 22:35:28,572 : INFO : updating model with new documents\n"
     ]
    },
    {
     "name": "stderr",
     "output_type": "stream",
     "text": [
      "2016-10-10 22:35:32,111 : INFO : preparing a new chunk of documents\n"
     ]
    },
    {
     "name": "stderr",
     "output_type": "stream",
     "text": [
      "2016-10-10 22:35:32,250 : INFO : using 100 extra samples and 2 power iterations\n"
     ]
    },
    {
     "name": "stderr",
     "output_type": "stream",
     "text": [
      "2016-10-10 22:35:32,250 : INFO : 1st phase: constructing (24774L, 200L) action matrix\n"
     ]
    },
    {
     "name": "stderr",
     "output_type": "stream",
     "text": [
      "2016-10-10 22:35:32,428 : INFO : orthonormalizing (24774L, 200L) action matrix\n"
     ]
    },
    {
     "name": "stderr",
     "output_type": "stream",
     "text": [
      "2016-10-10 22:35:34,061 : INFO : 2nd phase: running dense svd on (200L, 4285L) matrix\n"
     ]
    },
    {
     "name": "stderr",
     "output_type": "stream",
     "text": [
      "2016-10-10 22:35:34,145 : INFO : computing the final decomposition\n"
     ]
    },
    {
     "name": "stderr",
     "output_type": "stream",
     "text": [
      "2016-10-10 22:35:34,147 : INFO : keeping 100 factors (discarding 6.879% of energy spectrum)\n"
     ]
    },
    {
     "name": "stderr",
     "output_type": "stream",
     "text": [
      "2016-10-10 22:35:34,191 : INFO : processed documents up to #4285\n"
     ]
    },
    {
     "name": "stderr",
     "output_type": "stream",
     "text": [
      "2016-10-10 22:35:34,194 : INFO : topic #0(2003.092): 0.492*\"АЛЛАХ\" + 0.270*\"КОТОРЫЙ\" + 0.235*\"ЧЕЛОВЕК\" + 0.179*\"МИР\" + 0.162*\"СВОЙ\" + 0.152*\"СКАЗАТЬ\" + 0.143*\"ПРОРОК\" + 0.128*\"ИСТОРИЯ\" + 0.126*\"ВОПРОС\" + 0.123*\"КОРАН\"\n"
     ]
    },
    {
     "name": "stderr",
     "output_type": "stream",
     "text": [
      "2016-10-10 22:35:34,194 : INFO : topic #1(719.525): -0.641*\"АЛЛАХ\" + 0.181*\"ИСТОРИЯ\" + 0.163*\"ИСЛАМСКИЙ\" + -0.147*\"ПОСЛАННИК\" + 0.146*\"САЙТ\" + -0.142*\"СКАЗАТЬ\" + 0.139*\"РАМАДАН\" + 0.132*\"ОБЩЕСТВО\" + -0.121*\"БЛАГОСЛОВЕНИЕ\" + 0.117*\"ЧИТАТЬ\"\n"
     ]
    },
    {
     "name": "stderr",
     "output_type": "stream",
     "text": [
      "2016-10-10 22:35:34,196 : INFO : topic #2(567.763): -0.434*\"ИДДА\" + -0.338*\"ЖЕНЩИНА\" + -0.328*\"МУЖ\" + -0.215*\"РАЗВОД\" + -0.198*\"ЖЕНА\" + -0.188*\"КОТОРЫЙ\" + -0.170*\"СРОК\" + -0.143*\"ДОЛЖНЫЙ\" + 0.129*\"ИСТОРИЯ\" + -0.120*\"ПЕРИОД\"\n"
     ]
    },
    {
     "name": "stderr",
     "output_type": "stream",
     "text": [
      "2016-10-10 22:35:34,197 : INFO : topic #3(536.562): -0.416*\"ЧЕЛОВЕК\" + -0.247*\"КОТОРЫЙ\" + 0.231*\"ИДДА\" + 0.197*\"АЛЛАХ\" + 0.183*\"МУЖ\" + 0.170*\"ЖЕНЩИНА\" + 0.150*\"РАЗВОД\" + -0.142*\"СВОЙ\" + 0.141*\"РАМАДАН\" + -0.133*\"УЧЁНЫЙ\"\n"
     ]
    },
    {
     "name": "stderr",
     "output_type": "stream",
     "text": [
      "2016-10-10 22:35:34,198 : INFO : topic #4(444.125): -0.367*\"ПОСТ\" + 0.271*\"ИМАМ\" + -0.270*\"ЧЕЛОВЕК\" + -0.241*\"ДЕНЬ\" + -0.234*\"МОЛИТВА\" + 0.210*\"АЛЛАХ\" + -0.202*\"НАМАЗ\" + -0.187*\"РАМАДАН\" + -0.174*\"МЕСЯЦ\" + 0.147*\"УЧЁНЫЙ\"\n"
     ]
    }
   ],
   "source": [
    "lsi = gensim.models.lsimodel.LsiModel(corpus=mm, id2word=id2word, num_topics=100)"
   ]
  },
  {
   "cell_type": "code",
   "execution_count": null,
   "metadata": {},
   "outputs": [],
   "source": [
    "lsi.print_topics(10)"
   ]
  },
  {
   "cell_type": "code",
   "execution_count": null,
   "outputs": [],
   "source": [
    ""
   ]
  }
 ],
 "metadata": {
  "kernelspec": {
   "display_name": "Python 2",
   "language": "python",
   "name": "python2"
  },
  "language_info": {
   "codemirror_mode": {
    "name": "ipython",
    "version": 2.0
   },
   "file_extension": ".py",
   "mimetype": "text/x-python",
   "name": "python",
   "nbconvert_exporter": "python",
   "pygments_lexer": "ipython2",
   "version": "2.7.6"
  }
 },
 "nbformat": 4,
 "nbformat_minor": 0
}