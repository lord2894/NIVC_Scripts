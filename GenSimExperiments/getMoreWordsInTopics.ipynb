{
 "cells": [
  {
   "cell_type": "code",
   "execution_count": 1,
   "metadata": {
    "collapsed": true
   },
   "outputs": [
    {
     "name": "stderr",
     "output_type": "stream",
     "text": [
      "2016-10-13 10:34:16,658 : INFO : loading Dictionary object from C:\\NIVC\\Nivc_GenSim_corpus\\unary_comm\\rosmuslimru\\mm_pos\\rosmuslimru.dict\n"
     ]
    },
    {
     "name": "stderr",
     "output_type": "stream",
     "text": [
      "2016-10-13 10:34:16,674 : INFO : loaded corpus index from C:\\NIVC\\Nivc_GenSim_corpus\\unary_comm\\rosmuslimru\\mm_pos\\rosmuslimru.mm.index\n"
     ]
    },
    {
     "name": "stderr",
     "output_type": "stream",
     "text": [
      "2016-10-13 10:34:16,676 : INFO : initializing corpus reader from C:\\NIVC\\Nivc_GenSim_corpus\\unary_comm\\rosmuslimru\\mm_pos\\rosmuslimru.mm\n"
     ]
    },
    {
     "name": "stderr",
     "output_type": "stream",
     "text": [
      "2016-10-13 10:34:16,677 : INFO : accepted corpus with 21361 documents, 22851 features, 6453516 non-zero entries\n"
     ]
    },
    {
     "name": "stdout",
     "output_type": "stream",
     "text": [
      "MmCorpus(21361 documents, 22851 features, 6453516 non-zero entries)\n"
     ]
    }
   ],
   "source": [
    "import logging, gensim\n",
    "BigARTMCorpusDir = 'C:\\\\NIVC\\\\Nivc_GenSim_corpus\\\\unary_comm\\\\'\n",
    "subd = \"rosmuslimru\"\n",
    "logging.basicConfig(format='%(asctime)s : %(levelname)s : %(message)s', level=logging.INFO)\n",
    "\n",
    "# load id->word mapping (the dictionary), one of the results of step 2 above\n",
    "id2word = gensim.corpora.Dictionary.load(BigARTMCorpusDir+subd+\"\\\\mm_pos\\\\\"+subd+'.dict')\n",
    "# load corpus iterator\n",
    "mm = gensim.corpora.MmCorpus(BigARTMCorpusDir+subd+\"\\\\mm_pos\\\\\"+subd+'.mm')\n",
    "\n",
    "print(mm)"
   ]
  },
  {
   "cell_type": "code",
   "execution_count": 2,
   "metadata": {},
   "outputs": [
    {
     "name": "stderr",
     "output_type": "stream",
     "text": [
      "2016-10-13 10:34:18,767 : INFO : loading LdaModel object from C:\\NIVC\\Nivc_GenSim_corpus\\unary_comm\\rosmuslimru\\LDA_model\\rosmuslimru.model\n"
     ]
    },
    {
     "name": "stderr",
     "output_type": "stream",
     "text": [
      "2016-10-13 10:34:18,838 : INFO : loading id2word recursively from C:\\NIVC\\Nivc_GenSim_corpus\\unary_comm\\rosmuslimru\\LDA_model\\rosmuslimru.model.id2word.* with mmap=None\n"
     ]
    },
    {
     "name": "stderr",
     "output_type": "stream",
     "text": [
      "2016-10-13 10:34:18,838 : INFO : setting ignored attribute state to None\n"
     ]
    },
    {
     "name": "stderr",
     "output_type": "stream",
     "text": [
      "2016-10-13 10:34:18,839 : INFO : setting ignored attribute dispatcher to None\n"
     ]
    },
    {
     "name": "stderr",
     "output_type": "stream",
     "text": [
      "2016-10-13 10:34:18,839 : INFO : loading LdaModel object from C:\\NIVC\\Nivc_GenSim_corpus\\unary_comm\\rosmuslimru\\LDA_model\\rosmuslimru.model.state\n"
     ]
    }
   ],
   "source": [
    "lda = gensim.models.ldamodel.LdaModel.load(BigARTMCorpusDir+subd+\"\\\\LDA_model\\\\\"+subd+\".model\")"
   ]
  },
  {
   "cell_type": "code",
   "execution_count": 3,
   "metadata": {},
   "outputs": [],
   "source": [
    "topics100 = lda.show_topics(100,100)\n",
    "topics20 = lda.show_topics(20,100)"
   ]
  },
  {
   "cell_type": "code",
   "execution_count": 4,
   "metadata": {},
   "outputs": [],
   "source": [
    "import io\n",
    "with io.open(BigARTMCorpusDir+subd+\"\\\\LDA_topics\"+'\\\\20.topics','w',encoding='utf8') as outputTopics:\n",
    "    try:\n",
    "        j = 0\n",
    "        outputTopics.write(u'{\\n')\n",
    "        for topic in topics20:\n",
    "            outputTopics.write(u'\\\"'+unicode(topic[0])+u'\\\" : {')\n",
    "            words = topic[1].split(\"+\")\n",
    "            i = 0\n",
    "            for word in words:\n",
    "                wordNum = word.split(\"*\")\n",
    "                if i != len(words)-1:\n",
    "                    outputTopics.write(u'\\\"'+wordNum[1]+u'\\\" : '+wordNum[0]+u',')\n",
    "                else:\n",
    "                    outputTopics.write(u'\\\"'+wordNum[1]+u'\\\" : '+wordNum[0]+u'}')\n",
    "                i+=1\n",
    "            if j != len(topics20)-1:\n",
    "                outputTopics.write(u',\\n')\n",
    "            else:\n",
    "                outputTopics.write(u'}')\n",
    "            j+=1\n",
    "    except Exception as e:\n",
    "        print(e)\n",
    "        outputTopics.close()"
   ]
  },
  {
   "cell_type": "code",
   "execution_count": 5,
   "metadata": {},
   "outputs": [],
   "source": [
    "with io.open(BigARTMCorpusDir+subd+\"\\\\LDA_topics\"+'\\\\100.topics','w',encoding='utf8') as outputTopics:\n",
    "    try:\n",
    "        j = 0\n",
    "        outputTopics.write(u'{\\n')\n",
    "        for topic in topics100:\n",
    "            outputTopics.write(u'\\\"'+unicode(topic[0])+u'\\\" : {')\n",
    "            words = topic[1].split(\"+\")\n",
    "            i = 0\n",
    "            for word in words:\n",
    "                wordNum = word.split(\"*\")\n",
    "                if i != len(words)-1:\n",
    "                    outputTopics.write(u'\\\"'+wordNum[1]+u'\\\" : '+wordNum[0]+u',')\n",
    "                else:\n",
    "                    outputTopics.write(u'\\\"'+wordNum[1]+u'\\\" : '+wordNum[0]+u'}')\n",
    "                i+=1\n",
    "            if j != len(topics100)-1:\n",
    "                outputTopics.write(u',\\n')\n",
    "            else:\n",
    "                outputTopics.write(u'}')\n",
    "            j+=1\n",
    "    except Exception as e:\n",
    "        print(e)\n",
    "        outputTopics.close()"
   ]
  },
  {
   "cell_type": "code",
   "execution_count": null,
   "metadata": {},
   "outputs": [],
   "source": [
    ""
   ]
  }
 ],
 "metadata": {
  "kernelspec": {
   "display_name": "Python 2",
   "language": "python",
   "name": "python2"
  },
  "language_info": {
   "codemirror_mode": {
    "name": "ipython",
    "version": 2.0
   },
   "file_extension": ".py",
   "mimetype": "text/x-python",
   "name": "python",
   "nbconvert_exporter": "python",
   "pygments_lexer": "ipython2",
   "version": "2.7.6"
  }
 },
 "nbformat": 4,
 "nbformat_minor": 0
}