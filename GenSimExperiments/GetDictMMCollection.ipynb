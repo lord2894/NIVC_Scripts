{
 "cells": [
  {
   "cell_type": "code",
   "execution_count": 1,
   "metadata": {
    "collapsed": true
   },
   "outputs": [
    {
     "name": "stdout",
     "output_type": "stream",
     "text": [
      "islamcivilru\n"
     ]
    }
   ],
   "source": [
    "import os\n",
    "import io\n",
    "import json\n",
    "import pymorphy2\n",
    "from gensim import corpora\n",
    "from collections import Counter"
   ]
  },
  {
   "cell_type": "code",
   "execution_count": 2,
   "metadata": {},
   "outputs": [],
   "source": [
    "# -*- coding: utf-8 -*-\n",
    "POSOpt = [\"NOUN\",\t#имя существительное\tхомяк\n",
    "        \"ADJF\",\t#имя прилагательное (полное)\tхороший\n",
    "        \"ADJS\",\t#имя прилагательное (краткое)\tхорош\n",
    "        \"VERB\",\t#глагол (личная форма)\tговорю, говорит, говорил\n",
    "        \"INFN\",\t#глагол (инфинитив)\tговорить, сказать\n",
    "        \"PRTF\",\t#причастие (полное)\tпрочитавший, прочитанная\n",
    "        \"PRTS\"] #причастие (краткое)\tпрочитана\n",
    "morph = pymorphy2.MorphAnalyzer()"
   ]
  },
  {
   "cell_type": "code",
   "execution_count": 3,
   "metadata": {},
   "outputs": [],
   "source": [
    "def POSFilter(word):\n",
    "    p = morph.parse(word)\n",
    "    keyPos = p[0].tag.POS\n",
    "    if keyPos in POSOpt:\n",
    "        return True;\n",
    "    return False"
   ]
  },
  {
   "cell_type": "code",
   "execution_count": 4,
   "metadata": {},
   "outputs": [
    {
     "name": "stdout",
     "output_type": "stream",
     "text": [
      "islamcivilru\n"
     ]
    }
   ],
   "source": [
    "#contrastStats = getContrastCorpus()\n",
    "statsCorpusDir = 'C:\\\\NIVC\\\\Nivc_stats_corpus\\\\unary_comm'\n",
    "BigARTMCorpusDir = 'C:\\\\NIVC\\\\Nivc_GenSim_corpus\\\\unary_comm\\\\'\n",
    "mainTree = os.walk(statsCorpusDir)\n",
    "allStatsFilesRus = []\n",
    "texts = []\n",
    "i = 0\n",
    "corpus = []\n",
    "dictionary = corpora.Dictionary()\n",
    "err = False\n",
    "for d in mainTree:\n",
    "    for subd in d[1][2:3]:\n",
    "        print(subd)\n",
    "        newPath = d[0] + \"\\\\\" + subd\n",
    "        subTree = os.walk(newPath)\n",
    "        i = 1\n",
    "        for f in subTree:\n",
    "            for subf in f[2]:\n",
    "                filePath = f[0] + \"\\\\\" + subf\n",
    "                #print(subf)\n",
    "                if \"_Stat\" in subf and \"_rus\" in subf:\n",
    "                    allStatsFilesRus.append([filePath,subf])\n",
    "\n",
    "        if not os.path.exists(BigARTMCorpusDir+subd+\"\\\\\"+\"mm_pos\"):\n",
    "            os.makedirs(BigARTMCorpusDir+subd+\"\\\\\"+\"mm_pos\", mode=0o777)\n",
    "        \n",
    "        for file in allStatsFilesRus:\n",
    "            content = \"\"\n",
    "            contentDict = {}\n",
    "            with io.open(file[0],'r',encoding='utf8') as inputStat:\n",
    "                try:\n",
    "                    content = inputStat.read()\n",
    "                except Exception as e:\n",
    "                    print(\"Error\",file)\n",
    "                    continue\n",
    "                inputStat.close()\n",
    "            try:\n",
    "                contentDict = json.loads(content)\n",
    "            except Exception as e:\n",
    "                print(file,content)\n",
    "            vowpalWabbitStr = \"\"\n",
    "            textWords = [unicode(key) for key in contentDict[\"Frequencies\"] if (unicode(key) != unicode(\"\") and unicode(key) != unicode(\" \")) and POSFilter(key)]\n",
    "            newBow = dictionary.doc2bow(textWords,True) \n",
    "            for key in textWords:\n",
    "                id = dictionary.token2id[unicode(key)]\n",
    "                ind = [i for i, x in enumerate(newBow) if isinstance(x, tuple) and x[0] == id]\n",
    "                if ind != []:\n",
    "                    newBowList = list(newBow[ind[0]])\n",
    "                    newBowList[1] = contentDict[\"Frequencies\"][key]\n",
    "                    newBow[ind[0]] = tuple(newBowList)\n",
    "                else:\n",
    "                    err = True\n",
    "                    print \"Error\"\n",
    "                    break\n",
    "            if err: break\n",
    "            corpus.append(newBow)\n",
    "        if err: break\n",
    "    if err: break"
   ]
  },
  {
   "cell_type": "code",
   "execution_count": 5,
   "metadata": {},
   "outputs": [
    {
     "name": "stdout",
     "output_type": "stream",
     "text": [
      "Dictionary(24774 unique tokens: [u'\\u0412\\u041e\\u041b\\u042c\\u041d\\u041e\\u041e\\u0422\\u041f\\u0423\\u0429\\u0415\\u041d\\u041d\\u042b\\u0419', u'\\u0421\\u0410\\u0425\\u0423\\u0420\\u041e\\u041c', u'\\u041a\\u0410\\u0411\\u0410\\u041a', u'\\u0410\\u041d\\u041d\\u0418', u'\\u0420\\u042b\\u0426\\u0410\\u0420\\u0421\\u041a\\u0418\\u0419']...)\n"
     ]
    }
   ],
   "source": [
    "print dictionary"
   ]
  },
  {
   "cell_type": "code",
   "execution_count": 6,
   "metadata": {},
   "outputs": [],
   "source": [
    "dictionary.save(BigARTMCorpusDir+subd+\"\\\\\"+\"mm_pos\\\\\"+subd+\".dict\")"
   ]
  },
  {
   "cell_type": "code",
   "execution_count": 8,
   "metadata": {},
   "outputs": [],
   "source": [
    "corpora.MmCorpus.serialize(BigARTMCorpusDir+subd+\"\\\\\"+\"mm_pos\\\\\"+subd+'.mm', corpus)"
   ]
  },
  {
   "cell_type": "code",
   "execution_count": null,
   "metadata": {},
   "outputs": [],
   "source": [
    ""
   ]
  }
 ],
 "metadata": {
  "kernelspec": {
   "display_name": "Python 2",
   "language": "python",
   "name": "python2"
  },
  "language_info": {
   "codemirror_mode": {
    "name": "ipython",
    "version": 2.0
   },
   "file_extension": ".py",
   "mimetype": "text/x-python",
   "name": "python",
   "nbconvert_exporter": "python",
   "pygments_lexer": "ipython2",
   "version": "2.7.6"
  }
 },
 "nbformat": 4,
 "nbformat_minor": 0
}